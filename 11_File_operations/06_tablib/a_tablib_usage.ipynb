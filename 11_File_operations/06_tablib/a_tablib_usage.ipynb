{
 "cells": [
  {
   "attachments": {},
   "cell_type": "markdown",
   "metadata": {},
   "source": [
    "## tablib\n",
    "\n",
    "     pip install tablib\n",
    "     \n",
    "     pip install \"tablib[xlsx]\"\n",
    "     \n",
    "     pip install \"tablib[html, pandas, ods, xls, xlsx, yaml]\"\n",
    "     pip install \"tablib[all]\"\n"
   ]
  },
  {
   "cell_type": "code",
   "execution_count": 1,
   "metadata": {},
   "outputs": [
    {
     "name": "stdout",
     "output_type": "stream",
     "text": [
      "Collecting tablib[all]\n",
      "  Downloading tablib-3.4.0-py3-none-any.whl (45 kB)\n",
      "\u001b[2K     \u001b[90m━━━━━━━━━━━━━━━━━━━━━━━━━━━━━━━━━━━━━━━━\u001b[0m \u001b[32m45.5/45.5 kB\u001b[0m \u001b[31m2.7 MB/s\u001b[0m eta \u001b[36m0:00:00\u001b[0m\n",
      "\u001b[?25hCollecting markuppy (from tablib[all])\n",
      "  Downloading MarkupPy-1.14.tar.gz (6.8 kB)\n",
      "  Preparing metadata (setup.py) ... \u001b[?25ldone\n",
      "\u001b[?25hCollecting odfpy (from tablib[all])\n",
      "  Downloading odfpy-1.4.1.tar.gz (717 kB)\n",
      "\u001b[2K     \u001b[90m━━━━━━━━━━━━━━━━━━━━━━━━━━━━━━━━━━━━━━\u001b[0m \u001b[32m717.0/717.0 kB\u001b[0m \u001b[31m26.2 MB/s\u001b[0m eta \u001b[36m0:00:00\u001b[0m\n",
      "\u001b[?25h  Preparing metadata (setup.py) ... \u001b[?25ldone\n",
      "\u001b[?25hRequirement already satisfied: openpyxl>=2.6.0 in /home/codespace/.local/lib/python3.10/site-packages (from tablib[all]) (3.1.2)\n",
      "Requirement already satisfied: pandas in /home/codespace/.local/lib/python3.10/site-packages (from tablib[all]) (2.0.1)\n",
      "Requirement already satisfied: pyyaml in /home/codespace/.local/lib/python3.10/site-packages (from tablib[all]) (6.0)\n",
      "Collecting tabulate (from tablib[all])\n",
      "  Downloading tabulate-0.9.0-py3-none-any.whl (35 kB)\n",
      "Collecting xlrd (from tablib[all])\n",
      "  Downloading xlrd-2.0.1-py2.py3-none-any.whl (96 kB)\n",
      "\u001b[2K     \u001b[90m━━━━━━━━━━━━━━━━━━━━━━━━━━━━━━━━━━━━━━━━\u001b[0m \u001b[32m96.5/96.5 kB\u001b[0m \u001b[31m5.1 MB/s\u001b[0m eta \u001b[36m0:00:00\u001b[0m\n",
      "\u001b[?25hCollecting xlwt (from tablib[all])\n",
      "  Downloading xlwt-1.3.0-py2.py3-none-any.whl (99 kB)\n",
      "\u001b[2K     \u001b[90m━━━━━━━━━━━━━━━━━━━━━━━━━━━━━━━━━━━━━━━\u001b[0m \u001b[32m100.0/100.0 kB\u001b[0m \u001b[31m6.6 MB/s\u001b[0m eta \u001b[36m0:00:00\u001b[0m\n",
      "\u001b[?25hRequirement already satisfied: et-xmlfile in /home/codespace/.local/lib/python3.10/site-packages (from openpyxl>=2.6.0->tablib[all]) (1.1.0)\n",
      "Requirement already satisfied: defusedxml in /home/codespace/.local/lib/python3.10/site-packages (from odfpy->tablib[all]) (0.7.1)\n",
      "Requirement already satisfied: python-dateutil>=2.8.2 in /home/codespace/.local/lib/python3.10/site-packages (from pandas->tablib[all]) (2.8.2)\n",
      "Requirement already satisfied: pytz>=2020.1 in /home/codespace/.local/lib/python3.10/site-packages (from pandas->tablib[all]) (2023.3)\n",
      "Requirement already satisfied: tzdata>=2022.1 in /home/codespace/.local/lib/python3.10/site-packages (from pandas->tablib[all]) (2023.3)\n",
      "Requirement already satisfied: numpy>=1.21.0 in /home/codespace/.local/lib/python3.10/site-packages (from pandas->tablib[all]) (1.24.3)\n",
      "Requirement already satisfied: six>=1.5 in /home/codespace/.local/lib/python3.10/site-packages (from python-dateutil>=2.8.2->pandas->tablib[all]) (1.16.0)\n",
      "Building wheels for collected packages: markuppy, odfpy\n",
      "  Building wheel for markuppy (setup.py) ... \u001b[?25ldone\n",
      "\u001b[?25h  Created wheel for markuppy: filename=MarkupPy-1.14-py3-none-any.whl size=7397 sha256=857e4d69c265ce041483faaa1461b0c58e5919c50c8da463cd1dba257ced4eba\n",
      "  Stored in directory: /home/codespace/.cache/pip/wheels/4c/46/f1/3def5a93f234f30cbcca7cc91c647675f58f674e146c02024a\n",
      "  Building wheel for odfpy (setup.py) ... \u001b[?25ldone\n",
      "\u001b[?25h  Created wheel for odfpy: filename=odfpy-1.4.1-py2.py3-none-any.whl size=160672 sha256=f873f069fab9c1fc848b8d09151946aba3ead6aa4adb4dccc45690fb0cb93f61\n",
      "  Stored in directory: /home/codespace/.cache/pip/wheels/c8/2e/95/90d94fe33903786937f3b8c33dd88807f792359c6424b40469\n",
      "Successfully built markuppy odfpy\n",
      "Installing collected packages: xlwt, markuppy, xlrd, tabulate, tablib, odfpy\n",
      "Successfully installed markuppy-1.14 odfpy-1.4.1 tablib-3.4.0 tabulate-0.9.0 xlrd-2.0.1 xlwt-1.3.0\n"
     ]
    }
   ],
   "source": [
    "! pip install \"tablib[all]\""
   ]
  },
  {
   "cell_type": "code",
   "execution_count": 2,
   "metadata": {},
   "outputs": [],
   "source": [
    "import tablib"
   ]
  },
  {
   "cell_type": "code",
   "execution_count": 3,
   "metadata": {},
   "outputs": [
    {
     "name": "stdout",
     "output_type": "stream",
     "text": [
      "Help on package tablib:\n",
      "\n",
      "NAME\n",
      "    tablib - Tablib.\n",
      "\n",
      "PACKAGE CONTENTS\n",
      "    _version\n",
      "    core\n",
      "    exceptions\n",
      "    formats (package)\n",
      "    packages (package)\n",
      "    utils\n",
      "\n",
      "VERSION\n",
      "    3.4.0\n",
      "\n",
      "FILE\n",
      "    /home/codespace/.python/current/lib/python3.10/site-packages/tablib/__init__.py\n",
      "\n",
      "\n"
     ]
    }
   ],
   "source": [
    "help(tablib)"
   ]
  },
  {
   "cell_type": "code",
   "execution_count": 4,
   "metadata": {},
   "outputs": [
    {
     "data": {
      "text/plain": [
       "['Databook',\n",
       " 'Dataset',\n",
       " 'InvalidDatasetType',\n",
       " 'InvalidDimensions',\n",
       " 'UnsupportedFormat',\n",
       " '__builtins__',\n",
       " '__cached__',\n",
       " '__doc__',\n",
       " '__file__',\n",
       " '__loader__',\n",
       " '__name__',\n",
       " '__package__',\n",
       " '__path__',\n",
       " '__spec__',\n",
       " '__version__',\n",
       " '_version',\n",
       " 'core',\n",
       " 'detect_format',\n",
       " 'exceptions',\n",
       " 'formats',\n",
       " 'import_book',\n",
       " 'import_set',\n",
       " 'utils']"
      ]
     },
     "execution_count": 4,
     "metadata": {},
     "output_type": "execute_result"
    }
   ],
   "source": [
    "dir(tablib)"
   ]
  },
  {
   "cell_type": "code",
   "execution_count": 5,
   "metadata": {},
   "outputs": [
    {
     "data": {
      "text/plain": [
       "<dataset object>"
      ]
     },
     "execution_count": 5,
     "metadata": {},
     "output_type": "execute_result"
    }
   ],
   "source": [
    "data = tablib.Dataset()\n",
    "\n",
    "data"
   ]
  },
  {
   "cell_type": "code",
   "execution_count": 6,
   "metadata": {},
   "outputs": [
    {
     "data": {
      "text/plain": [
       "<dataset object>"
      ]
     },
     "execution_count": 6,
     "metadata": {},
     "output_type": "execute_result"
    }
   ],
   "source": [
    "data = tablib.Dataset()\n",
    "data.headers = ['Name', 'Age', 'Country']\n",
    "\n",
    "data.append(['Gudo', 25, 'USA'])\n",
    "data.append(['Jane', 30, 'Canada'])\n",
    "data.append(['Mike', 35, 'UK'])\n",
    "\n",
    "data"
   ]
  },
  {
   "cell_type": "code",
   "execution_count": 7,
   "metadata": {},
   "outputs": [
    {
     "data": {
      "text/plain": [
       "['Name', 'Age', 'Country']"
      ]
     },
     "execution_count": 7,
     "metadata": {},
     "output_type": "execute_result"
    }
   ],
   "source": [
    "data.headers"
   ]
  },
  {
   "cell_type": "code",
   "execution_count": 8,
   "metadata": {},
   "outputs": [
    {
     "data": {
      "text/plain": [
       "['FirstName', 'Age', 'Nationality']"
      ]
     },
     "execution_count": 8,
     "metadata": {},
     "output_type": "execute_result"
    }
   ],
   "source": [
    "data.headers = [\"FirstName\", \"Age\", \"Nationality\"]\n",
    "\n",
    "data.headers"
   ]
  },
  {
   "cell_type": "code",
   "execution_count": 9,
   "metadata": {},
   "outputs": [
    {
     "data": {
      "text/plain": [
       "['FirstName', 'Age', 'Nationality']"
      ]
     },
     "execution_count": 9,
     "metadata": {},
     "output_type": "execute_result"
    }
   ],
   "source": [
    "data._Dataset__headers"
   ]
  },
  {
   "cell_type": "code",
   "execution_count": 10,
   "metadata": {},
   "outputs": [
    {
     "data": {
      "text/plain": [
       "3"
      ]
     },
     "execution_count": 10,
     "metadata": {},
     "output_type": "execute_result"
    }
   ],
   "source": [
    "data.height"
   ]
  },
  {
   "cell_type": "code",
   "execution_count": 11,
   "metadata": {},
   "outputs": [
    {
     "data": {
      "text/plain": [
       "3"
      ]
     },
     "execution_count": 11,
     "metadata": {},
     "output_type": "execute_result"
    }
   ],
   "source": [
    "len(data)"
   ]
  },
  {
   "cell_type": "code",
   "execution_count": 13,
   "metadata": {},
   "outputs": [
    {
     "data": {
      "text/plain": [
       "'FirstName,Age,Nationality\\r\\nGudo,25,USA\\r\\nJane,30,Canada\\r\\nMike,35,UK\\r\\n'"
      ]
     },
     "execution_count": 13,
     "metadata": {},
     "output_type": "execute_result"
    }
   ],
   "source": [
    "data.csv"
   ]
  },
  {
   "cell_type": "code",
   "execution_count": 14,
   "metadata": {},
   "outputs": [
    {
     "name": "stdout",
     "output_type": "stream",
     "text": [
      "FirstName,Age,Nationality\n",
      "Gudo,25,USA\n",
      "Jane,30,Canada\n",
      "Mike,35,UK\n",
      "\n"
     ]
    }
   ],
   "source": [
    "print(data.csv)"
   ]
  },
  {
   "cell_type": "markdown",
   "metadata": {},
   "source": [
    "### Adding Columns to dataset"
   ]
  },
  {
   "cell_type": "code",
   "execution_count": 22,
   "metadata": {},
   "outputs": [
    {
     "name": "stdout",
     "output_type": "stream",
     "text": [
      "FirstName\tAge\tNationality\toccupation\n",
      "Gudo\t25\tUSA\tEngineer\n",
      "Jane\t30\tCanada\tDoctor\n",
      "Mike\t35\tUK\tLawyer\n",
      "\n"
     ]
    }
   ],
   "source": [
    "data.append_col(['Engineer', 'Doctor', 'Lawyer'], header='occupation')\n",
    "\n",
    "print(data.tsv)"
   ]
  },
  {
   "cell_type": "markdown",
   "metadata": {},
   "source": [
    "### Adding Dynamic Column"
   ]
  },
  {
   "cell_type": "code",
   "execution_count": 23,
   "metadata": {},
   "outputs": [
    {
     "name": "stdout",
     "output_type": "stream",
     "text": [
      "FirstName,Age,Nationality,occupation,Grade\n",
      "Gudo,25,USA,Engineer,0.86\n",
      "Jane,30,Canada,Doctor,0.73\n",
      "Mike,35,UK,Lawyer,0.71\n",
      "\n"
     ]
    }
   ],
   "source": [
    "import random\n",
    "\n",
    "def random_grade(row):\n",
    "    \"\"\"Returns a random integer for entry.\"\"\"\n",
    "    return (random.randint(60,100)/100.0)\n",
    "\n",
    "data.append_col(random_grade, header='Grade')\n",
    "\n",
    "print(data.csv)"
   ]
  },
  {
   "cell_type": "code",
   "execution_count": 31,
   "metadata": {},
   "outputs": [
    {
     "name": "stdout",
     "output_type": "stream",
     "text": [
      "FirstName\tAge\tNationality\toccupation\tGrade\trow_comb\n",
      "Gudo\t25\tUSA\tEngineer\t0.86\tGudo|25|USA|Engineer|0.86\n",
      "Jane\t30\tCanada\tDoctor\t0.73\tJane|30|Canada|Doctor|0.73\n",
      "Mike\t35\tUK\tLawyer\t0.71\tMike|35|UK|Lawyer|0.71\n",
      "\n"
     ]
    }
   ],
   "source": [
    "def row_combination(row):\n",
    "    \"\"\"Returns a combination of row records\"\"\"\n",
    "    return \"|\".join(map(str, row))\n",
    "\n",
    "data.append_col(row_combination, header='row_comb')\n",
    "\n",
    "print(data.tsv)"
   ]
  },
  {
   "cell_type": "markdown",
   "metadata": {},
   "source": [
    "## Exporting to csv/tsv , ..."
   ]
  },
  {
   "cell_type": "code",
   "execution_count": 32,
   "metadata": {},
   "outputs": [
    {
     "data": {
      "text/plain": [
       "[OrderedDict([('FirstName', 'Gudo'),\n",
       "              ('Age', 25),\n",
       "              ('Nationality', 'USA'),\n",
       "              ('occupation', 'Engineer'),\n",
       "              ('Grade', 0.86),\n",
       "              ('row_comb', 'Gudo|25|USA|Engineer|0.86')]),\n",
       " OrderedDict([('FirstName', 'Jane'),\n",
       "              ('Age', 30),\n",
       "              ('Nationality', 'Canada'),\n",
       "              ('occupation', 'Doctor'),\n",
       "              ('Grade', 0.73),\n",
       "              ('row_comb', 'Jane|30|Canada|Doctor|0.73')]),\n",
       " OrderedDict([('FirstName', 'Mike'),\n",
       "              ('Age', 35),\n",
       "              ('Nationality', 'UK'),\n",
       "              ('occupation', 'Lawyer'),\n",
       "              ('Grade', 0.71),\n",
       "              ('row_comb', 'Mike|35|UK|Lawyer|0.71')])]"
      ]
     },
     "execution_count": 32,
     "metadata": {},
     "output_type": "execute_result"
    }
   ],
   "source": [
    "data.dict"
   ]
  },
  {
   "cell_type": "code",
   "execution_count": 33,
   "metadata": {},
   "outputs": [
    {
     "name": "stdout",
     "output_type": "stream",
     "text": [
      "=========  ===  ===========  ==========  =====  ==========================\n",
      "FirstName  Age  Nationality  occupation  Grade           row_comb         \n",
      "=========  ===  ===========  ==========  =====  ==========================\n",
      "Gudo       25   USA          Engineer    0.86   Gudo|25|USA|Engineer|0.86 \n",
      "Jane       30   Canada       Doctor      0.73   Jane|30|Canada|Doctor|0.73\n",
      "Mike       35   UK           Lawyer      0.71   Mike|35|UK|Lawyer|0.71    \n",
      "=========  ===  ===========  ==========  =====  ==========================\n"
     ]
    }
   ],
   "source": [
    "print(data.rst)"
   ]
  },
  {
   "cell_type": "code",
   "execution_count": 34,
   "metadata": {},
   "outputs": [
    {
     "name": "stdout",
     "output_type": "stream",
     "text": [
      "% Note: add \\usepackage{booktabs} to your preamble\n",
      "%\n",
      "\\begin{table}[!htbp]\n",
      "  \\centering\n",
      "  %\n",
      "  \\begin{tabular}{lrrrrr}\n",
      "    \\toprule\n",
      "      FirstName & Age & Nationality & occupation & Grade & row\\_comb \\\\\n",
      "    \\cmidrule(r){1-1} \\cmidrule(lr){2-2} \\cmidrule(lr){3-3} \\cmidrule(lr){4-4} \\cmidrule(lr){5-5} \\cmidrule(l){6-6}\n",
      "      Gudo & 25 & USA & Engineer & 0.86 & Gudo|25|USA|Engineer|0.86 \\\\\n",
      "      Jane & 30 & Canada & Doctor & 0.73 & Jane|30|Canada|Doctor|0.73 \\\\\n",
      "      Mike & 35 & UK & Lawyer & 0.71 & Mike|35|UK|Lawyer|0.71 \\\\\n",
      "    \\bottomrule\n",
      "  \\end{tabular}\n",
      "\\end{table}\n",
      "\n"
     ]
    }
   ],
   "source": [
    "print(data.latex)"
   ]
  },
  {
   "cell_type": "code",
   "execution_count": 35,
   "metadata": {},
   "outputs": [
    {
     "data": {
      "text/plain": [
       "'FirstName,Age,Nationality,occupation,Grade,row_comb\\r\\nGudo,25,USA,Engineer,0.86,Gudo|25|USA|Engineer|0.86\\r\\nJane,30,Canada,Doctor,0.73,Jane|30|Canada|Doctor|0.73\\r\\nMike,35,UK,Lawyer,0.71,Mike|35|UK|Lawyer|0.71\\r\\n'"
      ]
     },
     "execution_count": 35,
     "metadata": {},
     "output_type": "execute_result"
    }
   ],
   "source": [
    "data.csv"
   ]
  },
  {
   "cell_type": "code",
   "execution_count": 36,
   "metadata": {},
   "outputs": [
    {
     "name": "stdout",
     "output_type": "stream",
     "text": [
      "FirstName,Age,Nationality,occupation,Grade,row_comb\n",
      "Gudo,25,USA,Engineer,0.86,Gudo|25|USA|Engineer|0.86\n",
      "Jane,30,Canada,Doctor,0.73,Jane|30|Canada|Doctor|0.73\n",
      "Mike,35,UK,Lawyer,0.71,Mike|35|UK|Lawyer|0.71\n",
      "\n"
     ]
    }
   ],
   "source": [
    "print(data.csv)"
   ]
  },
  {
   "cell_type": "code",
   "execution_count": 37,
   "metadata": {},
   "outputs": [
    {
     "data": {
      "text/plain": [
       "'FirstName\\tAge\\tNationality\\toccupation\\tGrade\\trow_comb\\r\\nGudo\\t25\\tUSA\\tEngineer\\t0.86\\tGudo|25|USA|Engineer|0.86\\r\\nJane\\t30\\tCanada\\tDoctor\\t0.73\\tJane|30|Canada|Doctor|0.73\\r\\nMike\\t35\\tUK\\tLawyer\\t0.71\\tMike|35|UK|Lawyer|0.71\\r\\n'"
      ]
     },
     "execution_count": 37,
     "metadata": {},
     "output_type": "execute_result"
    }
   ],
   "source": [
    "data.tsv"
   ]
  },
  {
   "cell_type": "code",
   "execution_count": 38,
   "metadata": {},
   "outputs": [
    {
     "name": "stdout",
     "output_type": "stream",
     "text": [
      "FirstName\tAge\tNationality\toccupation\tGrade\trow_comb\n",
      "Gudo\t25\tUSA\tEngineer\t0.86\tGudo|25|USA|Engineer|0.86\n",
      "Jane\t30\tCanada\tDoctor\t0.73\tJane|30|Canada|Doctor|0.73\n",
      "Mike\t35\tUK\tLawyer\t0.71\tMike|35|UK|Lawyer|0.71\n",
      "\n"
     ]
    }
   ],
   "source": [
    "print(data.tsv)"
   ]
  },
  {
   "cell_type": "code",
   "execution_count": 39,
   "metadata": {},
   "outputs": [
    {
     "name": "stdout",
     "output_type": "stream",
     "text": [
      "FirstName\tAge\tNationality\toccupation\tGrade\trow_comb\n",
      "Gudo\t25\tUSA\tEngineer\t0.86\tGudo|25|USA|Engineer|0.86\n",
      "Jane\t30\tCanada\tDoctor\t0.73\tJane|30|Canada|Doctor|0.73\n",
      "Mike\t35\tUK\tLawyer\t0.71\tMike|35|UK|Lawyer|0.71\n",
      "\n"
     ]
    }
   ],
   "source": [
    "print(data.get_tsv())"
   ]
  },
  {
   "cell_type": "code",
   "execution_count": 40,
   "metadata": {},
   "outputs": [
    {
     "name": "stdout",
     "output_type": "stream",
     "text": [
      "- {Age: 25, FirstName: Gudo, Grade: 0.86, Nationality: USA, occupation: Engineer,\n",
      "  row_comb: Gudo|25|USA|Engineer|0.86}\n",
      "- {Age: 30, FirstName: Jane, Grade: 0.73, Nationality: Canada, occupation: Doctor,\n",
      "  row_comb: Jane|30|Canada|Doctor|0.73}\n",
      "- {Age: 35, FirstName: Mike, Grade: 0.71, Nationality: UK, occupation: Lawyer, row_comb: Mike|35|UK|Lawyer|0.71}\n",
      "\n"
     ]
    }
   ],
   "source": [
    "print(data.yaml)"
   ]
  },
  {
   "cell_type": "code",
   "execution_count": 45,
   "metadata": {},
   "outputs": [
    {
     "name": "stdout",
     "output_type": "stream",
     "text": [
      "- {Age: 25, FirstName: Gudo, Grade: 0.86, Nationality: USA, occupation: Engineer,\n",
      "  row_comb: Gudo|25|USA|Engineer|0.86}\n",
      "- {Age: 30, FirstName: Jane, Grade: 0.73, Nationality: Canada, occupation: Doctor,\n",
      "  row_comb: Jane|30|Canada|Doctor|0.73}\n",
      "- {Age: 35, FirstName: Mike, Grade: 0.71, Nationality: UK, occupation: Lawyer, row_comb: Mike|35|UK|Lawyer|0.71}\n",
      "\n"
     ]
    }
   ],
   "source": [
    "print(data.export(\"yaml\"))"
   ]
  },
  {
   "cell_type": "code",
   "execution_count": 42,
   "metadata": {},
   "outputs": [
    {
     "name": "stdout",
     "output_type": "stream",
     "text": [
      "||FirstName||Age||Nationality||occupation||Grade||row_comb||\n",
      "|Gudo|25|USA|Engineer|0.86|Gudo|25|USA|Engineer|0.86|\n",
      "|Jane|30|Canada|Doctor|0.73|Jane|30|Canada|Doctor|0.73|\n",
      "|Mike|35|UK|Lawyer|0.71|Mike|35|UK|Lawyer|0.71|\n"
     ]
    }
   ],
   "source": [
    "print(data.jira)"
   ]
  },
  {
   "cell_type": "code",
   "execution_count": 43,
   "metadata": {},
   "outputs": [
    {
     "data": {
      "text/plain": [
       "'[{\"FirstName\": \"Gudo\", \"Age\": 25, \"Nationality\": \"USA\", \"occupation\": \"Engineer\", \"Grade\": 0.86, \"row_comb\": \"Gudo|25|USA|Engineer|0.86\"}, {\"FirstName\": \"Jane\", \"Age\": 30, \"Nationality\": \"Canada\", \"occupation\": \"Doctor\", \"Grade\": 0.73, \"row_comb\": \"Jane|30|Canada|Doctor|0.73\"}, {\"FirstName\": \"Mike\", \"Age\": 35, \"Nationality\": \"UK\", \"occupation\": \"Lawyer\", \"Grade\": 0.71, \"row_comb\": \"Mike|35|UK|Lawyer|0.71\"}]'"
      ]
     },
     "execution_count": 43,
     "metadata": {},
     "output_type": "execute_result"
    }
   ],
   "source": [
    "data.export(\"json\")"
   ]
  },
  {
   "cell_type": "code",
   "execution_count": 46,
   "metadata": {},
   "outputs": [
    {
     "data": {
      "text/plain": [
       "'- {Age: 25, FirstName: Gudo, Grade: 0.86, Nationality: USA, occupation: Engineer,\\n  row_comb: Gudo|25|USA|Engineer|0.86}\\n- {Age: 30, FirstName: Jane, Grade: 0.73, Nationality: Canada, occupation: Doctor,\\n  row_comb: Jane|30|Canada|Doctor|0.73}\\n- {Age: 35, FirstName: Mike, Grade: 0.71, Nationality: UK, occupation: Lawyer, row_comb: Mike|35|UK|Lawyer|0.71}\\n'"
      ]
     },
     "execution_count": 46,
     "metadata": {},
     "output_type": "execute_result"
    }
   ],
   "source": [
    "data.export(\"yaml\")"
   ]
  },
  {
   "cell_type": "code",
   "execution_count": 47,
   "metadata": {},
   "outputs": [
    {
     "data": {
      "text/html": [
       "<div>\n",
       "<style scoped>\n",
       "    .dataframe tbody tr th:only-of-type {\n",
       "        vertical-align: middle;\n",
       "    }\n",
       "\n",
       "    .dataframe tbody tr th {\n",
       "        vertical-align: top;\n",
       "    }\n",
       "\n",
       "    .dataframe thead th {\n",
       "        text-align: right;\n",
       "    }\n",
       "</style>\n",
       "<table border=\"1\" class=\"dataframe\">\n",
       "  <thead>\n",
       "    <tr style=\"text-align: right;\">\n",
       "      <th></th>\n",
       "      <th>FirstName</th>\n",
       "      <th>Age</th>\n",
       "      <th>Nationality</th>\n",
       "      <th>occupation</th>\n",
       "      <th>Grade</th>\n",
       "      <th>row_comb</th>\n",
       "    </tr>\n",
       "  </thead>\n",
       "  <tbody>\n",
       "    <tr>\n",
       "      <th>0</th>\n",
       "      <td>Gudo</td>\n",
       "      <td>25</td>\n",
       "      <td>USA</td>\n",
       "      <td>Engineer</td>\n",
       "      <td>0.86</td>\n",
       "      <td>Gudo|25|USA|Engineer|0.86</td>\n",
       "    </tr>\n",
       "    <tr>\n",
       "      <th>1</th>\n",
       "      <td>Jane</td>\n",
       "      <td>30</td>\n",
       "      <td>Canada</td>\n",
       "      <td>Doctor</td>\n",
       "      <td>0.73</td>\n",
       "      <td>Jane|30|Canada|Doctor|0.73</td>\n",
       "    </tr>\n",
       "    <tr>\n",
       "      <th>2</th>\n",
       "      <td>Mike</td>\n",
       "      <td>35</td>\n",
       "      <td>UK</td>\n",
       "      <td>Lawyer</td>\n",
       "      <td>0.71</td>\n",
       "      <td>Mike|35|UK|Lawyer|0.71</td>\n",
       "    </tr>\n",
       "  </tbody>\n",
       "</table>\n",
       "</div>"
      ],
      "text/plain": [
       "  FirstName  Age Nationality occupation  Grade                    row_comb\n",
       "0      Gudo   25         USA   Engineer   0.86   Gudo|25|USA|Engineer|0.86\n",
       "1      Jane   30      Canada     Doctor   0.73  Jane|30|Canada|Doctor|0.73\n",
       "2      Mike   35          UK     Lawyer   0.71      Mike|35|UK|Lawyer|0.71"
      ]
     },
     "execution_count": 47,
     "metadata": {},
     "output_type": "execute_result"
    }
   ],
   "source": [
    "# pip install \"tablib[pandas]\"\n",
    "data.export('df')"
   ]
  },
  {
   "cell_type": "code",
   "execution_count": 48,
   "metadata": {},
   "outputs": [
    {
     "name": "stdout",
     "output_type": "stream",
     "text": [
      "b'PK\\x03\\x04\\x14\\x00\\x00\\x00\\x08\\x00\\x0ft\\xbbVFZ\\xc1\\x0c\\x82\\x00\\x00\\x00\\xb1\\x00\\x00\\x00\\x10\\x00\\x00\\x00docProps/app.xmlM\\x8eM\\x0b\\xc20\\x10D\\xffJ\\xe9\\xddnU\\xf0 1 \\xd4\\xa3\\xe0\\xc9{H76\\x90dCv\\x85\\xfc|S\\xc1\\x8f\\xdb<\\xde0\\x8c\\xba\\x15\\xcaX\\xc4#w5\\x86\\xc4\\xa7~\\x11\\xc9G\\x00\\xb6\\x0bF\\xc3C\\xd3\\xa9\\x19G%\\x1aiX\\x1e@\\xcey\\x8b\\x13\\xd9g\\xc4$\\xb0\\x1b\\xc7\\x03`\\x15L3\\xce\\x9b\\xfc\\x1d\\xec\\xb5:\\xe7\\x1c\\xbc5\\xe2)\\xe9\\xab\\xb7\\x85\\x98\\x9ct\\x97j1(\\xf8\\x97k\\xf3\\x8e\\x85\\xd7\\xbc\\x1f\\xb6o\\xf9a\\x05\\xbf\\x93\\xfa\\x05PK\\x03\\x04\\x14\\x00\\x00\\x00\\x08\\x00\\x0ft\\xbbVn\\xcb(\\xff\\xef\\x00\\x00\\x00+\\x02\\x00\\x00\\x11\\x00\\x00\\x00docProps/core.xml\\xcd\\x92\\xcbj\\xc30\\x10E\\x7f\\xa5ho\\x8f\\x1f}\\x80p\\xb4I\\xe8\\xaa\\x85B\\x03-\\xdd\\ti\\x92\\x88X\\x96\\x90\\xa6\\xd8\\xf9\\xfb\\xcaj\\xe2P\\xda\\x0f\\xe8R3Wg\\xce\\xc0t\\xcas\\xe5\\x02\\xbe\\x04\\xe71\\x90\\xc1x3\\xd9~\\x88\\\\\\xf9\\x15;\\x10y\\x0e\\x10\\xd5\\x01\\xad\\x8ceJ\\x0c\\xa9\\xb9s\\xc1JJ\\xcf\\xb0\\x07/\\xd5Q\\xee\\x11\\x9a\\xaa\\xba\\x07\\x8b$\\xb5$\\t3\\xb0\\xf0\\x0b\\x91\\x89N+\\xae\\x02Jr\\xe1\\x8c\\xd7j\\xc1\\xfb\\xcf\\xd0g\\x98V\\x80=Z\\x1c(B]\\xd6\\xc0\\xc4<\\xd1\\x9f\\xa6\\xbe\\x83+`\\x86\\x11\\x06\\x1b\\xbf\\x0b\\xa8\\x17b\\xae\\xfe\\x89\\xcd\\x1d`\\xe7\\xe4\\x14\\xcd\\x92\\x1a\\xc7\\xb1\\x1c\\xdb\\x9cK;\\xd4\\xf0\\xfe\\xfc\\xf4\\x9a\\xd7-\\xcc\\x10I\\x0e\\n\\xd3\\xafh8\\x9d<\\xae\\xd8e\\xf2[\\xbb\\xdel\\x1f\\x99h\\xaa\\xa6-\\xaa\\xbb\\xa2y\\xd8\\xd6\\xb7\\xbcmx[}\\xcc\\xae?\\xfc\\xae\\xc2\\xd6i\\xb33\\xff\\xd8\\xf8\"(:\\xf8u\\x17\\xe2\\x0bPK\\x03\\x04\\x14\\x00\\x00\\x00\\x08\\x00\\x0ft\\xbbV\\x99\\\\\\x9c#\\x10\\x06\\x00\\x00\\x9c\\'\\x00\\x00\\x13\\x00\\x00\\x00xl/theme/theme1.xml\\xedZ[s\\xda8\\x14~\\xef\\xaf\\xd0xg\\xf6m\\x0b\\xc66\\x81\\xb6\\xb4\\x13siv\\xdb\\xb4\\x99\\x84\\xedN\\x1f\\x85\\x11X\\x8dlyd\\x91\\x84\\x7f\\xbfG6\\x10\\xcb\\x96\\r\\xed\\x92M\\xba\\x9b<\\x04,\\xe9\\xfb\\xceEG\\xe7\\xe88y\\xf3\\xee.b\\xe8\\x86\\x88\\x94\\xf2x`\\xd9/\\xdb\\xd6\\xbb\\xb7/\\xde\\xe0W2$\\x11A0\\x19\\xa7\\xaf\\xf0\\xc0\\n\\xa5L^\\xb5Zi\\x00\\xc38}\\xc9\\x13\\x12\\xc3\\xdc\\x82\\x8b\\x08Kx\\x14\\xcb\\xd6\\\\\\xe0[\\x1a/#\\xd6\\xea\\xb4\\xdb\\xddV\\x84il\\xa1\\x18Gd`}^,h@\\xd0TQZo_ \\xb4\\xe5\\x1f3\\xf8\\x15\\xcbT\\x8de\\xa3\\x01\\x13WA&\\xb9\\x88\\xb4\\xf2\\xf9l\\xc5\\xfc\\xda\\xde>e\\xcf\\xe9:\\x1d2\\x81n0\\x1bX \\x7f\\xceo\\xa7\\xe4NZ\\x88\\xe1T\\xc2\\xc4\\xc0jg?Vk\\xc7\\xd1\\xd2H\\x80\\x82\\xc9}\\x94\\x05\\xbaI\\xf6\\xa3\\xd3\\x15\\x082\\r;:\\x9dX\\xcev|\\xf6\\xc4\\xed\\x9f\\x8c\\xca\\xdat4m\\x1a\\xe0\\xe3\\xf1x8\\xb6\\xcb\\xd2\\x8bp\\x1c\\x04\\xe0Q\\xbb\\x9e\\xc2\\x9d\\xf4l\\xbf\\xa4A\\t\\xb4\\xa3i\\xd0d\\xd8\\xf6\\xda\\xae\\x91\\xa6\\xaa\\x8dSO\\xd3\\xf7}\\xdf\\xeb\\x9bh\\x9c\\n\\x8d[O\\xd3kw\\xdd\\xd3\\x8e\\x89\\xc6\\xad\\xd0x\\r\\xbe\\xf1O\\x87\\xc3\\xae\\x89\\xc6\\xab\\xd0t\\xebi&\\'\\xfd\\xaek\\xa4\\xe9\\x16hBF\\xe3\\xebz\\x12\\x15\\xb5\\xe5@\\xd3 \\x00Xpv\\xd6\\xcc\\xd2\\x03\\x96^)\\xfau\\x94\\x1a\\xd9\\x1d\\xbb\\xddA\\\\\\xf0X\\xee9\\x89\\x11\\xfe\\xc6\\xc5\\x04\\xd6i\\xd2\\x19\\x964Fr\\x9d\\x90\\x05\\x0e\\x007\\xc4\\xd1LP|\\xafA\\xb6\\x8a\\xe0\\xc2\\x92\\xd2\\\\\\x90\\xd6\\xcf)\\xb5P\\x1a\\x08\\x9a\\xc8\\x81\\xf5G\\x82!\\xc5\\xdc\\xaf\\xfd\\xf5\\x97\\xbb\\xc9\\xa43z\\x9d}:\\xcek\\x94\\x7fi\\xab\\x01\\xa7\\xed\\xbb\\x9b\\xcf\\x93\\xfcs\\xe8\\xe4\\x9f\\xa7\\x93\\xd7MB\\xcep\\xbc,\\t\\xf1\\xfb#[a\\x87\\'n;\\x13r:\\x1cgB|\\xcf\\xf6\\xf6\\x91\\xa5%2\\xcf\\xef\\xf9\\n\\xebN<g\\x1fV\\x96\\xb0]\\xcf\\xcf\\xe4\\x9e\\x8cr#\\xbb\\xdd\\xf6X}\\xf6OGn#\\xd7\\xa9\\xc0\\xb3\"\\xd7\\x94F$E\\x9f\\xc8-\\xba\\xe4\\x118\\xb5I\\r2\\x13?\\x08\\x9d\\x86\\x98jP\\x1c\\x02\\xa4\\t1\\x96\\xa1\\x86\\xf8\\xb4\\xc6\\xac\\x11\\xe0\\x13}\\xb7\\xbe\\x08\\xc8\\xdf\\x8d\\x88\\xf7\\xabo\\x9a=W\\xa1XI\\xda\\x84\\xf8\\x10F\\x1a\\xe2\\x9cs\\xe6s\\xd1l\\xfb\\x07\\xa5F\\xd1\\xf6U\\xbc\\xdc\\xa3\\x97X\\x15\\x01\\x97\\x18\\xdf4\\xaa5,\\xc5\\xd6x\\x95\\xc0\\xf1\\xad\\x9c<\\x1d\\x13\\x12\\xcd\\x94\\x0b\\x06A\\x86\\x97$&\\x12\\xa99~MH\\x13\\xfe+\\xa5\\xda\\xfe\\x9c\\xd3@\\xf0\\x94/$\\xfaJ\\x91\\x8fi\\xb3#\\xa7t&\\xcd\\xe83\\x1a\\xc1F\\xaf\\x1bu\\x87h\\xd2<z\\xfe\\x05\\xf9\\x9c5\\n\\x1c\\x91\\x1b\\x1d\\x02g\\x1b\\xb3F!\\x84i\\xbb\\xf0\\x1e\\xaf$\\x8e\\x9a\\xad\\xc2\\x11+B>b\\x196\\x1ar\\xb5\\x16\\x81\\xb6q\\xa9\\x84`Z\\x12\\xc6\\xd1xN\\xd2\\xb4\\x11\\xfcY\\xac5\\x93>`\\xc8\\xec\\xcd\\x91u\\xce\\xd6\\x91\\x0e\\x11\\x92^7B>b\\xce\\x8b\\x90\\x11\\xbf\\x1e\\x868J\\x9a\\xed\\xa2qX\\x04\\xfd\\x9e^\\xc3I\\xc1\\xe8\\x82\\xcbf\\xfd\\xb8~\\x86\\xd53l,\\x8e\\xf7G\\xd4\\x17J\\xe4\\x0f&\\xa7?\\xe924\\x07\\xa3\\x9aY\\t\\xbd\\x84Vj\\x9f\\xaa\\x874>\\xa8\\x1e2\\n\\x05\\xf1\\xb9\\x1e>\\xe5zx\\n7\\x96\\xc6\\xbcP\\xae\\x82{\\x01\\xff\\xd1\\xda7\\xc2\\xab\\xf8\\x82\\xc09\\x7f.}\\xcf\\xa5\\xef\\xb9\\xf4=\\xa1\\xd2\\xb77#}g\\xc1\\xd3\\x8b[\\xdeFn[\\xc4\\xfb\\xae1\\xda\\xd74.(cWr\\xcd\\xc8\\xc7T\\xaf\\x93)\\xd89\\x9f\\xc0\\xec\\xfdh>\\x9e\\xf1\\xed\\xfa\\xd9$\\x84\\xaf\\x9aY-#\\x16\\x90K\\x81\\xb3A$\\xb8\\xfc\\x8b\\xca\\xf0*\\xc4\\t\\xe8d[%\\t\\xcbT\\xd3e7\\x8a\\x12\\x9eB\\x1bn\\xe9S\\xf5J\\x95\\xd7\\xe5\\xaf\\xb9(\\xb8<[\\xe4\\xe9\\xaf\\xa1t>,\\xcf\\xf9<_\\xe7\\xb4\\xcd\\x0b3C\\xb7rK\\xea\\xb6\\x94\\xbe\\xb5&8J\\xf4\\xb1\\xccpN\\x1e\\xcb\\x0c;g<\\x92\\x1d\\xb6w\\xa0\\x1d5\\xfb\\xf6]v\\xe4#\\xa50S\\x97C\\xb8\\x1aB\\xbe\\x03m\\xba\\x9d\\xdc:8\\x9e\\x98\\x91\\xb9\\n\\xd3R\\x90o\\xc3\\xf9\\xe9\\xc5x\\x1a\\xe29\\xd9\\x04\\xb9}\\x98Wm\\xe7\\xd8\\xd1\\xd1\\xfb\\xe7\\xc1Q\\xb0\\xa3\\xef<\\x96\\x1d\\xc7\\x88\\xf2\\xa2!\\xee\\xa1\\x86\\x98\\xcf\\xc3C\\x87y{_\\x98g\\x95\\xc6P4\\x14ml\\xac$,F\\xb7`\\xb8\\xd7\\xf1,\\x14\\xe0d`-\\xa0\\x07\\x83\\xafQ\\x02\\xf2RU`1[\\xc6\\x03+\\x90\\xa2|L\\x8cE\\xe8p\\xe7\\x97\\\\_\\xe3\\xd1\\x92\\xe3\\xdb\\xa6e\\xb5n\\xaf)w\\x19m\"R9\\xc2i\\x98\\x13g\\xab\\xca\\xdee\\xb1\\xc1U\\x1d\\xcfU[\\xf2\\xb0\\xbej=\\xb4\\x15N\\xcf\\xfeY\\xad\\xc8\\x9f\\x0c\\x11N\\x16\\x0b\\x12Hc\\x94\\x17\\xa6J\\xa2\\xf3\\x19S\\xbe\\xe7+I\\xc4U8\\xbfE3\\xb6\\x12\\x97\\x18\\xbc\\xe3\\xe6\\xc7qNS\\xb8\\x12v\\xb6\\x0f\\x022\\xb9\\xbb9\\xa9ze1g\\xa6\\xf2\\xdf-\\x0c\\t,[\\x88Y\\x12\\xe2M]\\xed\\xd5\\xe7\\x9b\\x9c\\xaez\"v\\xfa\\x97w\\xc1`\\xf2\\xfdp\\xc9G\\x0f\\xe5;\\xe7_\\xf4]C\\xae~\\xf6\\xdd\\xe3\\xfan\\x93;HL\\x9cy\\xc5\\x11\\x01tE\\x02#\\x95\\x1c\\x06\\x16\\x172\\xe4P\\xee\\x92\\x90\\x06\\x13\\x01\\xcd\\x94\\xc9D\\xf0\\x02\\x82d\\xa6\\x1c\\x80\\x98\\xfa\\x0b\\xbd\\xf2\\x0c\\xb9)\\x15\\xce\\xad>9\\x7fE,\\x83\\x86N^\\xd2%\\x12\\x14\\x8a\\xb0\\x0c\\x05!\\x17r\\xe3\\xef\\xef\\x93jw\\x8c\\xd7\\xfa,\\x81m\\x84T2d\\xd5\\x17\\xcaC\\x89\\xc1=3rC\\xd8T%\\xf3\\xae\\xda&\\x0b\\x85\\xdb\\xe2T\\xcd\\xbb\\x1a\\xbe&`K\\xc3zn\\x9d-\\'\\xff\\xdb^\\xd4=\\xb4\\x17=F\\xf3\\xa3\\x99\\xe0\\x1e\\xb3\\x87s\\x9bz\\xb8\\xc2E\\xac\\xffX\\xd6\\x1e\\xf92\\xdf9p\\xdb:\\xde\\x03^\\xe6\\x13,C\\xa4~\\xc1}\\x8a\\x8a\\x80\\x11\\xabb\\xbe\\xba\\xafO\\xf9%\\x9c;\\xb4{\\xf1\\x81 \\x9b\\xfc\\xd6\\xdb\\xa4\\xf6\\xdd\\xe0\\x0c|\\xd4\\xabZ\\xa5d+\\x11?K\\x07|\\x1f\\x92\\x06c\\x8c[\\xf44_\\x8f\\x14b\\xad\\xa6\\xb1\\xad\\xc6\\xda1\\x0cy\\x80X\\xf3\\x0c\\xa1f8\\xdf\\x87E\\x9a\\x1a3\\xd5\\x8b\\xac9\\x8d\\noA\\xd5@\\xe5?\\xdb\\xd4\\rh\\xf6\\r4\\x1c\\x91\\x05^1\\x99\\xb66\\xa3\\xe4N\\n<\\xdc\\xfe\\xef\\r\\xb0\\xc2\\xc4\\x8e\\xe1\\xed\\x8b\\xbf\\x01PK\\x03\\x04\\x14\\x00\\x00\\x00\\x08\\x00\\x0ft\\xbbV\\xc1\\xcc\\xad\\x82X\\x02\\x00\\x00\\xfe\\x06\\x00\\x00\\x18\\x00\\x00\\x00xl/worksheets/sheet1.xml}\\x95\\xed\\x8e\\xa20\\x14\\x86o\\x85\\xf4\\x02\\x04Ag&\\x13 qt\\xdc\\x8f\\xf9\\x88\\x19\\xe3\\xee\\xcfM\\x85\\x834\\x02eK\\x95u\\xc3\\xc5\\xcf)(A\\xa7\\xf0\\xaf==\\xef\\xdbs\\x1eJ\\xeb\\x96\\\\\\xec\\x8b\\x18@\\x1a\\xff\\xd2$+<\\x12K\\x99?\\x9af\\x11\\xc4\\x90\\xd2b\\xc4s\\xc8p%\\xe2\"\\xa5\\x12\\xa7bg\\x16\\xb9\\x00\\x1a\\xd6\\xa241m\\xcb\\xba3S\\xca2\\xe2\\xbbul%|\\x97\\x1fd\\xc22X\\t\\xa38\\xa4)\\x15\\xa7\\'Hx\\xe9\\x911\\xb9\\x04>\\xd8.\\x96*`\\xfanNw\\xb0\\x06\\xb9\\xc9W\\x02gf\\xeb\\x12\\xb2\\x14\\xb2\\x82\\xf1\\xcc\\x10\\x10yd6~\\\\NT~\\x9d\\xf0\\x8bAYt\\xc6\\x86\\xead\\xcb\\xf9^M~\\x84\\x1e\\xb1\\x88r\\xce\\xc08\\xad\\xf3\\x84\\xd5{\\x19\\x92\\xe7\\xaf\\x10\\xc99$\\t\\xfa\\xd9\\xc4\\xa0\\x81dGXa\\x9aG\\xb6\\\\J\\x9e\\xaau\\xacRR\\x89\\xa1H\\xf0\\xff\\x90\\xd5{B\\x02\\x98\\x8b\\xb5\\xe4_\\x92\\x1b\\x93\\xb3\\xa9j\\xf1\\xef\\xb9^\\xd2\\xb6\\xa3\\x8a\\xea\\x8e/\\x95/k\\xae\\xc8iK\\x0b\\x98\\xf3\\xe47\\x0be\\xec\\x91\\x07b\\x84\\x10\\xd1C\"?x\\xf9\\x1d\\xce\\xac\\xa6m\\xf3\\x0b*\\xa9\\xef\\n^\\x1aB\\xf5\\xe5\\xbb\\x81\\x1a\\xd4{7}z\\x84e\\xea\\x0b\\xac\\xa5\\xc0U\\x86\\xdbI\\x7f\\xc9D!\\xdfi\\n\\xae)\\xb1\\x16\\x154\\x83\\xb3\\xf4iX:\\xdb\\xe9D\\xf3a\\xd1;U\\xbc(\\xb2?i\\xc4\\x8ba1\\x0f\\x82C^\\x1bh\\xb4\\xcf\\xc3\\xdao\\x82\\x86\\xbaz\\x97\\xc32\\xc4\\xf9\\'\\xe0\\xe9\\xf6Zib\\xb8Em\\xb7\\xa8\\xed\\xbe\\xbd\\x0f!\\xd7\\xf1m\\xf2\\xd5Or\\xf4\\xed\\xa9k\\x1e\\xbb\\x1c\\xfb\\xcc6\\xeb\\x99\\x8e\\\\_\\xfas\\xb6\\xc3\\x08\\x08\\x1d\\xb1\\xee\\xfe\\xd6\\xe8\\xe1\\xee\\xba\\x82\\xe5P;\\x95=\\xad\\xb0\\x92\\xeab_5\\xfa^HN\\x0b\\xc9\\xe9q\\xfd\\x89\\xbf\\x90\\x0e\\x92\\xd3)\\xd2\\xb1n \\xf5\\x99\\xcdiFC\\xaa\\xe3\\xd4\\xa7X\\xf0@r-%\\xe7\\x8a\\xd2\\xbdsCi\\xa8\\x9f\\xca\\xb1\\xaa\\xa6\\x94\\xaa\\xf1\\xaf\\x1a\\x83^L\\x93\\x16\\xd3\\xa4\\xc7\\xf6\\x8d\\xed\\xb5\\x98&]L\\xb7g\\xa9\\xcfl\\xf3\\xa2C\\xd4\\x97\\xfdJ\\xcb\\x93\\xfe M\\xae\\x11\\x8do\\x10\\r\\xf5R9x\\x90^\\xaa\\xc6\\xbbj\\xc4_\\xf1\\x98\\x9d\\x1bN\\xbd\\x0coT\\xe0\\xb9+\\x8c\\x04\\xefZ\\xbc\\xd5G\\xf7Sb\\x88\\xe6Fl&x\\xa9\\xd7?us%\\xd7\\xc3\\x18\\x1f(\\x10*\\x01\\xd7#\\xce\\xe5e\\xa2.\\xe4\\xf6\\xc9\\xf3?\\x01PK\\x03\\x04\\x14\\x00\\x00\\x00\\x08\\x00\\x0ft\\xbbVO\\x7f\\xb1uc\\x02\\x00\\x00m\\n\\x00\\x00\\r\\x00\\x00\\x00xl/styles.xml\\xddV\\xdb\\x8e\\x9b0\\x10\\xfd\\x15\\xc4\\x07\\xd4!hQ\\xa8B\\x1e\\x8a\\x14i\\xa5\\xb6Zi\\xf7\\xa1\\xaf&\\x98\\xc4\\x92/\\xd4\\x98U\\xd2\\xaf\\xaf\\xc7&\\x90\\xeczVj\\xd5\\xa7\\x82\\x02\\xe39>s\\xb7\\xc8v\\xb0\\x17\\xc1\\x9eO\\x8c\\xd9\\xe4,\\x85\\x1a\\xaa\\xf4dm\\xff\\x99\\x90\\xe1pb\\x92\\x0e\\x9ft\\xcf\\x94C:m$\\xb5ni\\x8ed\\xe8\\r\\xa3\\xed\\x00$)\\xc8z\\xb5*\\x88\\xa4\\\\\\xa5\\xbb\\xad\\x1a\\xe5^\\xda!9\\xe8Q\\xd9*]\\xa5d\\xb7\\xed\\xb4Z4\\xeb4(\\xdcV*Y\\xf2JE\\x95\\xd6T\\xf0\\xc6p\\xbf\\x97J..A\\xbd\\x06\\xc5A\\x0bm\\x12\\xebBaU\\x9a\\x81f\\xf8\\x15\\xe0,\\xac \\xca\\xc9\\x8e\\xe4J\\x1bP\\x92\\xe0!<\\x9bi\\xfb\\r\\xe0_\\x83\\xdb\\xc0\\x85\\xb8\\x8f\\xcc)v\\xdb\\x9eZ\\xcb\\x8c\\xda\\xbb\\x85\\xe7x\\xe5;(\\x99\\xe4\\x97K\\xefB;\\x1az\\xc9\\xd6\\x0f\\xe9B\\xf0/\\xe7\\xa4\\xd1\\xa6efv\\x93\\xa5W\\xd5n+Xg\\x1d\\xc1\\xf0\\xe3\\t\\xdeV\\xf7\\x04@k\\xb5tB\\xcb\\xe9Q+\\xeac\\xb82&\\xc1\\x99=0!\\x9e\\xa1w?\\xba;\\xdb\\xe7.\\tMxl\\xa1\\xfe\\t\\xa4z\\x15]@\\x93\\x18\\xcc\\x84\\x05\\xd8\\xbf\\xb5\\x16l\\xdf\\x98]\\xff\\x95\\xd9\\xa4\\xe7\\xaf\\xda~\\x19]6\\xca\\xaf\\x7f\\x8e\\xda\\xb2\\'\\xc3:~\\xf6\\xebs7\\xfb\\xc7\\xacg\\xff\\xc4:\\x99\\xf2\\xb9)\\xda]\\xc9fm\\x023Y\\xa5\\xdfa\\xd4\\xc5b\"iF.,W\\xd3\\xea\\xc4\\xdb\\x96\\xa9w\\x95s\\xe6-m\\xdcY\\xba\\xb3\\xef\\xf6\\xb7\\xac\\xa3\\xa3\\xb0/3X\\xa5\\x8b\\xfc\\x8d\\xb5|\\x94\\xe5\\xbc\\xeb\\t\\xd2\\x9av-\\xf2W\\x98\\x90\\xac\\x98\\x0f\\x84\\xf3\\xc5U\\xcb\\xce\\xac\\xad\\xa7\\xa596^L\\x9c\\xe0\\xbcN\\x17\\x10\\xde\"{\\x7f\\xc5\\x11\\x8c\\x13\\xb08\\x02\\x18\\xe6\\x07\\x8b\\x00\\xe3\\x04\\x16\\xe6\\xe7\\x7f\\xcag\\x83\\xe6\\x130,\\xb6M\\x14\\xd9\\xa0\\x9c\\r\\xca\\t\\xac\\x18R\\xfb\\x1b\\xf3\\x13\\xe7\\x94\\xee\\x8agZ\\x96y^\\x14XE\\xeb:\\x1aA\\x8d\\xd5\\xad(\\xe0\\x17\\xb7\\x86\\xc5\\x06\\x0c\\xcc\\x0fx\\xfa\\xb3Z\\xe3\\xdd\\xc6\\'\\xe4\\xe39\\xc0z\\xfa\\xd1\\x84`\\x99\\xe2\\x93\\x88e\\x8a\\xd7\\x1a\\x90x\\xdd\\x80Q\\x96\\xf1nc~\\x80\\x81u\\x01\\x9b\\x1d\\xf0\\x1f\\xf7\\x033\\x15\\xe7\\xe49t\\x15\\x8b\\r;\\xc18R\\x96\\x18\\x02\\xb3\\x18\\x9f\\xd1\\xa2@\\xaaS\\xc0\\x1d\\xef\\x0fvJ\\xf2\\xbc,\\xe3\\x08`\\xf1\\x08\\xf2\\x1cC\\xe04\\xe2\\x08\\x16\\x01\\xc4\\x80!y\\xee\\xbf\\x83o\\xbeG\\xe4\\xfa\\x9d\"\\xcb\\x1f\\xcc\\xddoPK\\x03\\x04\\x14\\x00\\x00\\x00\\x08\\x00\\x0ft\\xbbV\\x97\\x8a\\xbb\\x1c\\xc0\\x00\\x00\\x00\\x13\\x02\\x00\\x00\\x0b\\x00\\x00\\x00_rels/.rels\\x9d\\x92\\xb9n\\xc30\\x0c@\\x7f\\xc5\\xd0\\x9e0\\x07\\xd0!\\x883e\\xf1\\x16\\x04\\xf9\\x01V\\xa2\\x0f\\xd8\\x12\\x05\\x8aE\\x9d\\xbf\\xaf\\xda\\xa5q\\x90\\x0b\\x19y=<\\x12\\xdc\\x1ei@\\xed8\\xa4\\xb6\\x8b\\xa9\\x18\\xfd\\x10RiZ\\xd5\\xb8\\x01H\\xb6%\\x8fi\\xce\\x91B\\xae\\xd4,\\x1e5\\x87\\xd2@D\\xdbcC\\xb0Z,>@.\\x19f\\xb7\\xbdd\\x16\\xa7s\\xa4W\\x88\\\\\\xd7\\x9d\\xa5=\\xdb/OAo\\x80\\xaf:LqBiHK3\\x0e\\xf0\\xcd\\xd2\\x7f2\\xf7\\xf3\\x0c5E\\xe5J#\\x95[\\x1ax\\xd3\\xe5\\xfev\\xe0I\\xd1\\xa1\"X\\x16\\x9aE\\xc9\\xd3\\xa2\\x1d\\xa5\\x7f\\x1d\\xc7\\xf6\\x90\\xd3\\xe9\\xafc\"\\xb4z[\\xe8\\xf9qhT\\n\\x8e\\xdcc%\\x8cqb\\xb4\\xfe5\\x82\\xc9\\x0f\\xec~\\x00PK\\x03\\x04\\x14\\x00\\x00\\x00\\x08\\x00\\x0ft\\xbbV\\x1ax\\xd1*9\\x01\\x00\\x00+\\x02\\x00\\x00\\x0f\\x00\\x00\\x00xl/workbook.xml\\x8d\\x91\\xd1J\\xc3@\\x10E\\x7f%\\xec\\x07\\x98T\\xb4`i\\xfabQ\\x0b\\xa2\\xc5J\\xdf7\\xc9\\xa4\\x19\\xba\\xbb\\x13f\\'\\xad\\xf6\\xeb\\x9d$\\x04\\x0b\\xbe\\xf8\\xb4\\x99;\\xcb\\xddso\\x96g\\xe2cAtL\\xbe\\xbc\\x0b17\\x8dH\\xbbH\\xd3X6\\xe0m\\xbc\\xa1\\x16\\x82njboEG>\\xa4\\xb1e\\xb0Ul\\x00\\xc4\\xbb\\xf46\\xcb\\xe6\\xa9\\xb7\\x18\\xccj9ym9\\xbd\\x1eH\\xa0\\x14\\xa4\\xa0b/\\xec\\x11\\xce\\xf1w\\xdf\\x8f\\xc9\\t#\\x16\\xe8P\\xbes3|;0\\x89\\xc7\\x80\\x1e/P\\xe5&3Il\\xe8\\xfcB\\x8c\\x17\\nb\\xdd\\xaedr.7\\xb3q\\xb1\\x07\\x16,\\xff\\xc8\\xbb\\x1e\\xf2\\xd3\\x16qP\\xc4\\x16\\x1fVAr3\\xcf\\xd4\\xb0F\\x8e2\\xdc\\x18\\xfc\\xad2\\x9e@/\\x8fS\\'\\xf4\\x84N\\x80\\xd7V\\xe0\\x99\\xa9k1\\x1cz\\x1bM\\x91^\\xc5\\x18z\\x98\\xce\\xb1\\xc4\\x05\\xff\\xa7F\\xaak,aMe\\xe7!\\xc8\\xd8#\\x83\\xeb\\x01Cl\\xb0\\x8d&\\t\\xd6Cn\\x14\\xc9a\\x91(\\x87\\x8d }0}iS\\x8d!E\\xe9\\xae*\\xe3\\x05\\xea\\x827\\xd5\\xc89\\xc1UPc\\x80\\xeaM\\xfd\\xa2\\xeaZT\\xb9\\xe5\\xa4?\\x06\\x9f\\xdb\\xbb\\xfb\\xd9\\x83\\x16\\xd29\\xf7\\xa8\\xda{x%[MY\\xa7\\xff\\xb4\\xfa\\x01PK\\x03\\x04\\x14\\x00\\x00\\x00\\x08\\x00\\x0ft\\xbbV$\\x1e\\x9b\\xa2\\xad\\x00\\x00\\x00\\xf8\\x01\\x00\\x00\\x1a\\x00\\x00\\x00xl/_rels/workbook.xml.rels\\xb5\\x91=\\x0e\\x830\\x0c\\x85\\xaf\\x12\\xe5\\x005P\\xa9C\\x05L]X+.\\x10\\x05\\xf3#\\x12\\x12\\xc5\\xae\\n\\xb7/\\x85\\x01\\x90:ta\\xb2\\x9e-\\x7f\\xef\\xc9N\\x9fh\\x14wn\\xa0\\xb6\\xf3$Fk\\x06\\xcad\\xcb\\xec\\xef\\x00\\xa4[\\xb4\\x8a.\\xce\\xe30Oj\\x17\\xac\\xe2Y\\x86\\x06\\xbc\\xd2\\xbdj\\x10\\x92(\\xbaA\\xd83d\\x9e\\xee\\x99\\xa2\\x9c<\\xfeCtu\\xddi|8\\xfd\\xb28\\xf0\\x0f0\\xbc]\\xe8\\xa9Ed)J\\x15\\x1a\\xe4L\\xc2h\\xb66\\xc1R\\xe2\\xcbL\\x96\\xa2\\xa82\\x19\\x8a*\\x96pZ \\xe2\\xc9 miV}\\xb0ON\\xb4\\xe7y\\x177\\xf7E\\xae\\xcd\\xe3\\t\\xae\\xdf\\x0cpxt\\xfe\\x01PK\\x03\\x04\\x14\\x00\\x00\\x00\\x08\\x00\\x0ft\\xbbVe\\x90y\\x92\\x19\\x01\\x00\\x00\\xcf\\x03\\x00\\x00\\x13\\x00\\x00\\x00[Content_Types].xml\\xad\\x93MN\\xc30\\x10\\x85\\xaf\\x12e[%.,X\\xa0\\xa6\\x1b`\\x0b]p\\x01cO\\x1a\\xab\\xfe\\x93gZ\\xd2\\xdb3N\\xdaJ\\xa0\\x12\\x15\\x85M\\xacx\\xde\\xbc\\xcf\\x9e\\x97\\xac\\xde\\x8f\\x11\\xb0\\xe8\\x9d\\xf5\\xd8\\x94\\x1dQ|\\x14\\x02U\\x07Nb\\x1d\"x\\xae\\xb4!9I\\xfc\\x9a\\xb6\"J\\xb5\\x93[\\x10\\xf7\\xcb\\xe5\\x83P\\xc1\\x13x\\xaa({\\x94\\xeb\\xd53\\xb4ro\\xa9x\\xe9y\\x1bM\\xf0M\\x99\\xc0bY<\\x8d\\xc2\\xccjJ\\x19\\xa35J\\x12\\xd7\\xc5\\xc1\\xeb\\x1f\\x94\\xeaD\\xa8\\xb9s\\xd0`g\".XP\\x8a\\xab\\x84\\\\\\xf9\\x1dp\\xea{;@JFC\\xb1\\x91\\x89^\\xa5c\\x95\\xe8\\xad@:Z\\xc0z\\xda\\xe2\\xca\\x19C\\xdb\\x1a\\x05:\\xa8\\xbd\\xe3\\x96\\x1ac\\x02\\xa9\\xb1\\x03 g\\xeb\\xd1t1M&\\x9e0\\x8c\\xcf\\xbb\\xd9\\xfc\\xc1f\\n\\xc8\\xcaM\\n\\x119\\xb1\\x04\\x7f\\xc7\\x9d#\\xc9\\xddUd#Hd\\xa6\\xafx!\\xb2\\xf5\\xec\\xfbAN[\\x83\\xbe\\x91\\xcd\\xe3\\xfd\\x0ci7\\xe4\\x81bX\\xe6\\xcf\\xf8{\\xc6\\x17\\xff\\x1b\\xce\\xf1\\x11\\xc2\\xee\\xbf?\\xb1\\xbc\\xd6N\\x1a\\x7f\\xe6\\x8b\\xe1?^\\x7f\\x01PK\\x01\\x02\\x14\\x03\\x14\\x00\\x00\\x00\\x08\\x00\\x0ft\\xbbVFZ\\xc1\\x0c\\x82\\x00\\x00\\x00\\xb1\\x00\\x00\\x00\\x10\\x00\\x00\\x00\\x00\\x00\\x00\\x00\\x00\\x00\\x00\\x00\\x80\\x01\\x00\\x00\\x00\\x00docProps/app.xmlPK\\x01\\x02\\x14\\x03\\x14\\x00\\x00\\x00\\x08\\x00\\x0ft\\xbbVn\\xcb(\\xff\\xef\\x00\\x00\\x00+\\x02\\x00\\x00\\x11\\x00\\x00\\x00\\x00\\x00\\x00\\x00\\x00\\x00\\x00\\x00\\x80\\x01\\xb0\\x00\\x00\\x00docProps/core.xmlPK\\x01\\x02\\x14\\x03\\x14\\x00\\x00\\x00\\x08\\x00\\x0ft\\xbbV\\x99\\\\\\x9c#\\x10\\x06\\x00\\x00\\x9c\\'\\x00\\x00\\x13\\x00\\x00\\x00\\x00\\x00\\x00\\x00\\x00\\x00\\x00\\x00\\x80\\x01\\xce\\x01\\x00\\x00xl/theme/theme1.xmlPK\\x01\\x02\\x14\\x03\\x14\\x00\\x00\\x00\\x08\\x00\\x0ft\\xbbV\\xc1\\xcc\\xad\\x82X\\x02\\x00\\x00\\xfe\\x06\\x00\\x00\\x18\\x00\\x00\\x00\\x00\\x00\\x00\\x00\\x00\\x00\\x00\\x00\\x80\\x81\\x0f\\x08\\x00\\x00xl/worksheets/sheet1.xmlPK\\x01\\x02\\x14\\x03\\x14\\x00\\x00\\x00\\x08\\x00\\x0ft\\xbbVO\\x7f\\xb1uc\\x02\\x00\\x00m\\n\\x00\\x00\\r\\x00\\x00\\x00\\x00\\x00\\x00\\x00\\x00\\x00\\x00\\x00\\x80\\x01\\x9d\\n\\x00\\x00xl/styles.xmlPK\\x01\\x02\\x14\\x03\\x14\\x00\\x00\\x00\\x08\\x00\\x0ft\\xbbV\\x97\\x8a\\xbb\\x1c\\xc0\\x00\\x00\\x00\\x13\\x02\\x00\\x00\\x0b\\x00\\x00\\x00\\x00\\x00\\x00\\x00\\x00\\x00\\x00\\x00\\x80\\x01+\\r\\x00\\x00_rels/.relsPK\\x01\\x02\\x14\\x03\\x14\\x00\\x00\\x00\\x08\\x00\\x0ft\\xbbV\\x1ax\\xd1*9\\x01\\x00\\x00+\\x02\\x00\\x00\\x0f\\x00\\x00\\x00\\x00\\x00\\x00\\x00\\x00\\x00\\x00\\x00\\x80\\x01\\x14\\x0e\\x00\\x00xl/workbook.xmlPK\\x01\\x02\\x14\\x03\\x14\\x00\\x00\\x00\\x08\\x00\\x0ft\\xbbV$\\x1e\\x9b\\xa2\\xad\\x00\\x00\\x00\\xf8\\x01\\x00\\x00\\x1a\\x00\\x00\\x00\\x00\\x00\\x00\\x00\\x00\\x00\\x00\\x00\\x80\\x01z\\x0f\\x00\\x00xl/_rels/workbook.xml.relsPK\\x01\\x02\\x14\\x03\\x14\\x00\\x00\\x00\\x08\\x00\\x0ft\\xbbVe\\x90y\\x92\\x19\\x01\\x00\\x00\\xcf\\x03\\x00\\x00\\x13\\x00\\x00\\x00\\x00\\x00\\x00\\x00\\x00\\x00\\x00\\x00\\x80\\x01_\\x10\\x00\\x00[Content_Types].xmlPK\\x05\\x06\\x00\\x00\\x00\\x00\\t\\x00\\t\\x00>\\x02\\x00\\x00\\xa9\\x11\\x00\\x00\\x00\\x00'\n"
     ]
    }
   ],
   "source": [
    "# pip install \"tablib[xlsx]\"\n",
    "print(data.export(\"xlsx\"))"
   ]
  },
  {
   "cell_type": "markdown",
   "metadata": {},
   "source": [
    "### Exporting to files"
   ]
  },
  {
   "cell_type": "code",
   "execution_count": 49,
   "metadata": {},
   "outputs": [],
   "source": [
    "with open(\"data.xlsx\", \"wb\") as fh:\n",
    "    fh.write(data.export(\"xlsx\"))"
   ]
  },
  {
   "cell_type": "code",
   "execution_count": 53,
   "metadata": {},
   "outputs": [],
   "source": [
    "with open(\"data.json\", \"w\") as fh:\n",
    "    fh.write(data.export(\"json\"))"
   ]
  },
  {
   "cell_type": "code",
   "execution_count": 54,
   "metadata": {},
   "outputs": [],
   "source": [
    "with open(\"data.yaml\", \"w\") as fh:\n",
    "    fh.write(data.export(\"yaml\"))"
   ]
  },
  {
   "cell_type": "markdown",
   "metadata": {},
   "source": [
    "### Importing from files"
   ]
  },
  {
   "cell_type": "code",
   "execution_count": 56,
   "metadata": {},
   "outputs": [
    {
     "name": "stdout",
     "output_type": "stream",
     "text": [
      "  FirstName  Age Nationality occupation  Grade                    row_comb\n",
      "0      Gudo   25         USA   Engineer   0.86   Gudo|25|USA|Engineer|0.86\n",
      "1      Jane   30      Canada     Doctor   0.73  Jane|30|Canada|Doctor|0.73\n",
      "2      Mike   35          UK     Lawyer   0.71      Mike|35|UK|Lawyer|0.71\n"
     ]
    }
   ],
   "source": [
    "with open('data.xlsx', 'rb') as fh:\n",
    "    imported_data = tablib.Dataset().load(fh)\n",
    "\n",
    "print(imported_data.df)"
   ]
  },
  {
   "cell_type": "markdown",
   "metadata": {},
   "source": [
    "### Filtering Data"
   ]
  },
  {
   "cell_type": "code",
   "execution_count": 57,
   "metadata": {},
   "outputs": [
    {
     "name": "stdout",
     "output_type": "stream",
     "text": [
      "     first    last\n",
      "0  Kenneth   Reitz\n",
      "1   Daniel  Dupont\n",
      "2   Bessie   Monke\n"
     ]
    }
   ],
   "source": [
    "students = tablib.Dataset()\n",
    "\n",
    "students.headers = ['first', 'last']\n",
    "\n",
    "students.rpush(['Kenneth', 'Reitz'], tags=['male', 'technical'])\n",
    "students.rpush(['Daniel', 'Dupont'], tags=['male', 'creative' ])\n",
    "students.rpush(['Bessie', 'Monke'], tags=['female', 'creative'])\n",
    "\n",
    "print(students.df)"
   ]
  },
  {
   "cell_type": "code",
   "execution_count": 58,
   "metadata": {},
   "outputs": [
    {
     "data": {
      "text/plain": [
       "'- {first: Bessie, last: Monke}\\n'"
      ]
     },
     "execution_count": 58,
     "metadata": {},
     "output_type": "execute_result"
    }
   ],
   "source": [
    "students.filter(['female']).yaml"
   ]
  },
  {
   "cell_type": "code",
   "execution_count": 59,
   "metadata": {},
   "outputs": [
    {
     "data": {
      "text/plain": [
       "'- {first: Daniel, last: Dupont}\\n- {first: Bessie, last: Monke}\\n'"
      ]
     },
     "execution_count": 59,
     "metadata": {},
     "output_type": "execute_result"
    }
   ],
   "source": [
    "students.filter(['female', 'creative']).yaml  # or operation"
   ]
  },
  {
   "cell_type": "code",
   "execution_count": 60,
   "metadata": {},
   "outputs": [
    {
     "data": {
      "text/plain": [
       "'- {first: Bessie, last: Monke}\\n'"
      ]
     },
     "execution_count": 60,
     "metadata": {},
     "output_type": "execute_result"
    }
   ],
   "source": [
    "students.filter(['female']).filter(['creative']).yaml # and operation"
   ]
  },
  {
   "cell_type": "markdown",
   "metadata": {},
   "source": [
    "### sorting by columns"
   ]
  },
  {
   "cell_type": "code",
   "execution_count": 61,
   "metadata": {},
   "outputs": [
    {
     "data": {
      "text/html": [
       "<div>\n",
       "<style scoped>\n",
       "    .dataframe tbody tr th:only-of-type {\n",
       "        vertical-align: middle;\n",
       "    }\n",
       "\n",
       "    .dataframe tbody tr th {\n",
       "        vertical-align: top;\n",
       "    }\n",
       "\n",
       "    .dataframe thead th {\n",
       "        text-align: right;\n",
       "    }\n",
       "</style>\n",
       "<table border=\"1\" class=\"dataframe\">\n",
       "  <thead>\n",
       "    <tr style=\"text-align: right;\">\n",
       "      <th></th>\n",
       "      <th>FirstName</th>\n",
       "      <th>Age</th>\n",
       "      <th>Nationality</th>\n",
       "      <th>occupation</th>\n",
       "      <th>Grade</th>\n",
       "      <th>row_comb</th>\n",
       "    </tr>\n",
       "  </thead>\n",
       "  <tbody>\n",
       "    <tr>\n",
       "      <th>0</th>\n",
       "      <td>Gudo</td>\n",
       "      <td>25</td>\n",
       "      <td>USA</td>\n",
       "      <td>Engineer</td>\n",
       "      <td>0.86</td>\n",
       "      <td>Gudo|25|USA|Engineer|0.86</td>\n",
       "    </tr>\n",
       "    <tr>\n",
       "      <th>1</th>\n",
       "      <td>Jane</td>\n",
       "      <td>30</td>\n",
       "      <td>Canada</td>\n",
       "      <td>Doctor</td>\n",
       "      <td>0.73</td>\n",
       "      <td>Jane|30|Canada|Doctor|0.73</td>\n",
       "    </tr>\n",
       "    <tr>\n",
       "      <th>2</th>\n",
       "      <td>Mike</td>\n",
       "      <td>35</td>\n",
       "      <td>UK</td>\n",
       "      <td>Lawyer</td>\n",
       "      <td>0.71</td>\n",
       "      <td>Mike|35|UK|Lawyer|0.71</td>\n",
       "    </tr>\n",
       "  </tbody>\n",
       "</table>\n",
       "</div>"
      ],
      "text/plain": [
       "  FirstName  Age Nationality occupation  Grade                    row_comb\n",
       "0      Gudo   25         USA   Engineer   0.86   Gudo|25|USA|Engineer|0.86\n",
       "1      Jane   30      Canada     Doctor   0.73  Jane|30|Canada|Doctor|0.73\n",
       "2      Mike   35          UK     Lawyer   0.71      Mike|35|UK|Lawyer|0.71"
      ]
     },
     "execution_count": 61,
     "metadata": {},
     "output_type": "execute_result"
    }
   ],
   "source": [
    "data.df"
   ]
  },
  {
   "cell_type": "code",
   "execution_count": 64,
   "metadata": {},
   "outputs": [
    {
     "data": {
      "text/html": [
       "<div>\n",
       "<style scoped>\n",
       "    .dataframe tbody tr th:only-of-type {\n",
       "        vertical-align: middle;\n",
       "    }\n",
       "\n",
       "    .dataframe tbody tr th {\n",
       "        vertical-align: top;\n",
       "    }\n",
       "\n",
       "    .dataframe thead th {\n",
       "        text-align: right;\n",
       "    }\n",
       "</style>\n",
       "<table border=\"1\" class=\"dataframe\">\n",
       "  <thead>\n",
       "    <tr style=\"text-align: right;\">\n",
       "      <th></th>\n",
       "      <th>FirstName</th>\n",
       "      <th>Age</th>\n",
       "      <th>Nationality</th>\n",
       "      <th>occupation</th>\n",
       "      <th>Grade</th>\n",
       "      <th>row_comb</th>\n",
       "    </tr>\n",
       "  </thead>\n",
       "  <tbody>\n",
       "    <tr>\n",
       "      <th>0</th>\n",
       "      <td>Gudo</td>\n",
       "      <td>25</td>\n",
       "      <td>USA</td>\n",
       "      <td>Engineer</td>\n",
       "      <td>0.86</td>\n",
       "      <td>Gudo|25|USA|Engineer|0.86</td>\n",
       "    </tr>\n",
       "    <tr>\n",
       "      <th>1</th>\n",
       "      <td>Jane</td>\n",
       "      <td>30</td>\n",
       "      <td>Canada</td>\n",
       "      <td>Doctor</td>\n",
       "      <td>0.73</td>\n",
       "      <td>Jane|30|Canada|Doctor|0.73</td>\n",
       "    </tr>\n",
       "    <tr>\n",
       "      <th>2</th>\n",
       "      <td>Mike</td>\n",
       "      <td>35</td>\n",
       "      <td>UK</td>\n",
       "      <td>Lawyer</td>\n",
       "      <td>0.71</td>\n",
       "      <td>Mike|35|UK|Lawyer|0.71</td>\n",
       "    </tr>\n",
       "  </tbody>\n",
       "</table>\n",
       "</div>"
      ],
      "text/plain": [
       "  FirstName  Age Nationality occupation  Grade                    row_comb\n",
       "0      Gudo   25         USA   Engineer   0.86   Gudo|25|USA|Engineer|0.86\n",
       "1      Jane   30      Canada     Doctor   0.73  Jane|30|Canada|Doctor|0.73\n",
       "2      Mike   35          UK     Lawyer   0.71      Mike|35|UK|Lawyer|0.71"
      ]
     },
     "execution_count": 64,
     "metadata": {},
     "output_type": "execute_result"
    }
   ],
   "source": [
    "sorted_by_age_data = data.sort(\"Age\")\n",
    "\n",
    "sorted_by_age_data.df"
   ]
  },
  {
   "cell_type": "code",
   "execution_count": 66,
   "metadata": {},
   "outputs": [
    {
     "data": {
      "text/html": [
       "<div>\n",
       "<style scoped>\n",
       "    .dataframe tbody tr th:only-of-type {\n",
       "        vertical-align: middle;\n",
       "    }\n",
       "\n",
       "    .dataframe tbody tr th {\n",
       "        vertical-align: top;\n",
       "    }\n",
       "\n",
       "    .dataframe thead th {\n",
       "        text-align: right;\n",
       "    }\n",
       "</style>\n",
       "<table border=\"1\" class=\"dataframe\">\n",
       "  <thead>\n",
       "    <tr style=\"text-align: right;\">\n",
       "      <th></th>\n",
       "      <th>FirstName</th>\n",
       "      <th>Age</th>\n",
       "      <th>Nationality</th>\n",
       "      <th>occupation</th>\n",
       "      <th>Grade</th>\n",
       "      <th>row_comb</th>\n",
       "    </tr>\n",
       "  </thead>\n",
       "  <tbody>\n",
       "    <tr>\n",
       "      <th>0</th>\n",
       "      <td>Mike</td>\n",
       "      <td>35</td>\n",
       "      <td>UK</td>\n",
       "      <td>Lawyer</td>\n",
       "      <td>0.71</td>\n",
       "      <td>Mike|35|UK|Lawyer|0.71</td>\n",
       "    </tr>\n",
       "    <tr>\n",
       "      <th>1</th>\n",
       "      <td>Jane</td>\n",
       "      <td>30</td>\n",
       "      <td>Canada</td>\n",
       "      <td>Doctor</td>\n",
       "      <td>0.73</td>\n",
       "      <td>Jane|30|Canada|Doctor|0.73</td>\n",
       "    </tr>\n",
       "    <tr>\n",
       "      <th>2</th>\n",
       "      <td>Gudo</td>\n",
       "      <td>25</td>\n",
       "      <td>USA</td>\n",
       "      <td>Engineer</td>\n",
       "      <td>0.86</td>\n",
       "      <td>Gudo|25|USA|Engineer|0.86</td>\n",
       "    </tr>\n",
       "  </tbody>\n",
       "</table>\n",
       "</div>"
      ],
      "text/plain": [
       "  FirstName  Age Nationality occupation  Grade                    row_comb\n",
       "0      Mike   35          UK     Lawyer   0.71      Mike|35|UK|Lawyer|0.71\n",
       "1      Jane   30      Canada     Doctor   0.73  Jane|30|Canada|Doctor|0.73\n",
       "2      Gudo   25         USA   Engineer   0.86   Gudo|25|USA|Engineer|0.86"
      ]
     },
     "execution_count": 66,
     "metadata": {},
     "output_type": "execute_result"
    }
   ],
   "source": [
    "sorted_by_age_data = data.sort(\"Age\", reverse=True)\n",
    "\n",
    "sorted_by_age_data.df"
   ]
  },
  {
   "cell_type": "code",
   "execution_count": null,
   "metadata": {},
   "outputs": [],
   "source": [
    "### Assignment is sort on  multiple columns"
   ]
  },
  {
   "attachments": {},
   "cell_type": "markdown",
   "metadata": {},
   "source": [
    "### Removing Columns & row"
   ]
  },
  {
   "cell_type": "code",
   "execution_count": 68,
   "metadata": {},
   "outputs": [
    {
     "data": {
      "text/html": [
       "<div>\n",
       "<style scoped>\n",
       "    .dataframe tbody tr th:only-of-type {\n",
       "        vertical-align: middle;\n",
       "    }\n",
       "\n",
       "    .dataframe tbody tr th {\n",
       "        vertical-align: top;\n",
       "    }\n",
       "\n",
       "    .dataframe thead th {\n",
       "        text-align: right;\n",
       "    }\n",
       "</style>\n",
       "<table border=\"1\" class=\"dataframe\">\n",
       "  <thead>\n",
       "    <tr style=\"text-align: right;\">\n",
       "      <th></th>\n",
       "      <th>FirstName</th>\n",
       "      <th>Age</th>\n",
       "      <th>Nationality</th>\n",
       "      <th>occupation</th>\n",
       "      <th>Grade</th>\n",
       "      <th>row_comb</th>\n",
       "    </tr>\n",
       "  </thead>\n",
       "  <tbody>\n",
       "    <tr>\n",
       "      <th>0</th>\n",
       "      <td>Gudo</td>\n",
       "      <td>25</td>\n",
       "      <td>USA</td>\n",
       "      <td>Engineer</td>\n",
       "      <td>0.86</td>\n",
       "      <td>Gudo|25|USA|Engineer|0.86</td>\n",
       "    </tr>\n",
       "    <tr>\n",
       "      <th>1</th>\n",
       "      <td>Jane</td>\n",
       "      <td>30</td>\n",
       "      <td>Canada</td>\n",
       "      <td>Doctor</td>\n",
       "      <td>0.73</td>\n",
       "      <td>Jane|30|Canada|Doctor|0.73</td>\n",
       "    </tr>\n",
       "    <tr>\n",
       "      <th>2</th>\n",
       "      <td>Mike</td>\n",
       "      <td>35</td>\n",
       "      <td>UK</td>\n",
       "      <td>Lawyer</td>\n",
       "      <td>0.71</td>\n",
       "      <td>Mike|35|UK|Lawyer|0.71</td>\n",
       "    </tr>\n",
       "  </tbody>\n",
       "</table>\n",
       "</div>"
      ],
      "text/plain": [
       "  FirstName  Age Nationality occupation  Grade                    row_comb\n",
       "0      Gudo   25         USA   Engineer   0.86   Gudo|25|USA|Engineer|0.86\n",
       "1      Jane   30      Canada     Doctor   0.73  Jane|30|Canada|Doctor|0.73\n",
       "2      Mike   35          UK     Lawyer   0.71      Mike|35|UK|Lawyer|0.71"
      ]
     },
     "execution_count": 68,
     "metadata": {},
     "output_type": "execute_result"
    }
   ],
   "source": [
    "data.df"
   ]
  },
  {
   "cell_type": "code",
   "execution_count": 69,
   "metadata": {},
   "outputs": [],
   "source": [
    "del data[\"Grade\"]"
   ]
  },
  {
   "cell_type": "code",
   "execution_count": 71,
   "metadata": {},
   "outputs": [
    {
     "data": {
      "text/html": [
       "<div>\n",
       "<style scoped>\n",
       "    .dataframe tbody tr th:only-of-type {\n",
       "        vertical-align: middle;\n",
       "    }\n",
       "\n",
       "    .dataframe tbody tr th {\n",
       "        vertical-align: top;\n",
       "    }\n",
       "\n",
       "    .dataframe thead th {\n",
       "        text-align: right;\n",
       "    }\n",
       "</style>\n",
       "<table border=\"1\" class=\"dataframe\">\n",
       "  <thead>\n",
       "    <tr style=\"text-align: right;\">\n",
       "      <th></th>\n",
       "      <th>FirstName</th>\n",
       "      <th>Age</th>\n",
       "      <th>Nationality</th>\n",
       "      <th>occupation</th>\n",
       "      <th>row_comb</th>\n",
       "    </tr>\n",
       "  </thead>\n",
       "  <tbody>\n",
       "    <tr>\n",
       "      <th>0</th>\n",
       "      <td>Gudo</td>\n",
       "      <td>25</td>\n",
       "      <td>USA</td>\n",
       "      <td>Engineer</td>\n",
       "      <td>Gudo|25|USA|Engineer|0.86</td>\n",
       "    </tr>\n",
       "    <tr>\n",
       "      <th>1</th>\n",
       "      <td>Jane</td>\n",
       "      <td>30</td>\n",
       "      <td>Canada</td>\n",
       "      <td>Doctor</td>\n",
       "      <td>Jane|30|Canada|Doctor|0.73</td>\n",
       "    </tr>\n",
       "    <tr>\n",
       "      <th>2</th>\n",
       "      <td>Mike</td>\n",
       "      <td>35</td>\n",
       "      <td>UK</td>\n",
       "      <td>Lawyer</td>\n",
       "      <td>Mike|35|UK|Lawyer|0.71</td>\n",
       "    </tr>\n",
       "  </tbody>\n",
       "</table>\n",
       "</div>"
      ],
      "text/plain": [
       "  FirstName  Age Nationality occupation                    row_comb\n",
       "0      Gudo   25         USA   Engineer   Gudo|25|USA|Engineer|0.86\n",
       "1      Jane   30      Canada     Doctor  Jane|30|Canada|Doctor|0.73\n",
       "2      Mike   35          UK     Lawyer      Mike|35|UK|Lawyer|0.71"
      ]
     },
     "execution_count": 71,
     "metadata": {},
     "output_type": "execute_result"
    }
   ],
   "source": [
    "data.df"
   ]
  },
  {
   "cell_type": "code",
   "execution_count": 74,
   "metadata": {},
   "outputs": [],
   "source": [
    "for col in [\"occupation\", \"Nationality\"]:\n",
    "    del data[col]"
   ]
  },
  {
   "cell_type": "code",
   "execution_count": 75,
   "metadata": {},
   "outputs": [
    {
     "data": {
      "text/html": [
       "<div>\n",
       "<style scoped>\n",
       "    .dataframe tbody tr th:only-of-type {\n",
       "        vertical-align: middle;\n",
       "    }\n",
       "\n",
       "    .dataframe tbody tr th {\n",
       "        vertical-align: top;\n",
       "    }\n",
       "\n",
       "    .dataframe thead th {\n",
       "        text-align: right;\n",
       "    }\n",
       "</style>\n",
       "<table border=\"1\" class=\"dataframe\">\n",
       "  <thead>\n",
       "    <tr style=\"text-align: right;\">\n",
       "      <th></th>\n",
       "      <th>FirstName</th>\n",
       "      <th>Age</th>\n",
       "      <th>row_comb</th>\n",
       "    </tr>\n",
       "  </thead>\n",
       "  <tbody>\n",
       "    <tr>\n",
       "      <th>0</th>\n",
       "      <td>Gudo</td>\n",
       "      <td>25</td>\n",
       "      <td>Gudo|25|USA|Engineer|0.86</td>\n",
       "    </tr>\n",
       "    <tr>\n",
       "      <th>1</th>\n",
       "      <td>Jane</td>\n",
       "      <td>30</td>\n",
       "      <td>Jane|30|Canada|Doctor|0.73</td>\n",
       "    </tr>\n",
       "    <tr>\n",
       "      <th>2</th>\n",
       "      <td>Mike</td>\n",
       "      <td>35</td>\n",
       "      <td>Mike|35|UK|Lawyer|0.71</td>\n",
       "    </tr>\n",
       "  </tbody>\n",
       "</table>\n",
       "</div>"
      ],
      "text/plain": [
       "  FirstName  Age                    row_comb\n",
       "0      Gudo   25   Gudo|25|USA|Engineer|0.86\n",
       "1      Jane   30  Jane|30|Canada|Doctor|0.73\n",
       "2      Mike   35      Mike|35|UK|Lawyer|0.71"
      ]
     },
     "execution_count": 75,
     "metadata": {},
     "output_type": "execute_result"
    }
   ],
   "source": [
    "data.df"
   ]
  },
  {
   "cell_type": "code",
   "execution_count": 76,
   "metadata": {},
   "outputs": [],
   "source": [
    "### Assignment : using row_comb, regenerate all column values"
   ]
  },
  {
   "cell_type": "markdown",
   "metadata": {},
   "source": [
    "### Merging DataSets"
   ]
  },
  {
   "cell_type": "code",
   "execution_count": 77,
   "metadata": {},
   "outputs": [
    {
     "name": "stdout",
     "output_type": "stream",
     "text": [
      "\n"
     ]
    }
   ],
   "source": [
    "data1 = tablib.Dataset()\n",
    "# Add data to data1\n",
    "\n",
    "data2 = tablib.Dataset()\n",
    "# Add data to data2\n",
    "\n",
    "merged_data = data1.stack(data2)\n",
    "\n",
    "print(merged_data.tsv)"
   ]
  }
 ],
 "metadata": {
  "kernelspec": {
   "display_name": "Python 3",
   "language": "python",
   "name": "python3"
  },
  "language_info": {
   "codemirror_mode": {
    "name": "ipython",
    "version": 3
   },
   "file_extension": ".py",
   "mimetype": "text/x-python",
   "name": "python",
   "nbconvert_exporter": "python",
   "pygments_lexer": "ipython3",
   "version": "3.10.4"
  },
  "orig_nbformat": 4
 },
 "nbformat": 4,
 "nbformat_minor": 2
}
