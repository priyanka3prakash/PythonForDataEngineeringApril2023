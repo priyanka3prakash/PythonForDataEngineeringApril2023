{
 "cells": [
  {
   "attachments": {},
   "cell_type": "markdown",
   "metadata": {},
   "source": [
    "### serialization\n",
    "        python objects - > flattened content  -- string/file\n",
    "\n",
    "            dump  -- into a file\n",
    "            dumps -- into a python string\n",
    "\n",
    "    De-serialization\n",
    "        string/file --> unflattened content -> python objects\n",
    "\n",
    "            load  -- from a file\n",
    "            loads -- from a python string\n",
    "\n",
    "\n",
    "\n",
    "    Marshalling\n",
    "    Pickle\n",
    "    shelve\n",
    "    xml\n",
    "    json\n",
    "    yaml"
   ]
  },
  {
   "attachments": {},
   "cell_type": "markdown",
   "metadata": {},
   "source": [
    "## Pickle"
   ]
  },
  {
   "cell_type": "code",
   "execution_count": 1,
   "metadata": {},
   "outputs": [],
   "source": [
    "import pickle"
   ]
  },
  {
   "cell_type": "code",
   "execution_count": 2,
   "metadata": {},
   "outputs": [
    {
     "name": "stdout",
     "output_type": "stream",
     "text": [
      "Help on module pickle:\n",
      "\n",
      "NAME\n",
      "    pickle - Create portable serialized representations of Python objects.\n",
      "\n",
      "MODULE REFERENCE\n",
      "    https://docs.python.org/3.10/library/pickle.html\n",
      "    \n",
      "    The following documentation is automatically generated from the Python\n",
      "    source files.  It may be incomplete, incorrect or include features that\n",
      "    are considered implementation detail and may vary between Python\n",
      "    implementations.  When in doubt, consult the module reference at the\n",
      "    location listed above.\n",
      "\n",
      "DESCRIPTION\n",
      "    See module copyreg for a mechanism for registering custom picklers.\n",
      "    See module pickletools source for extensive comments.\n",
      "    \n",
      "    Classes:\n",
      "    \n",
      "        Pickler\n",
      "        Unpickler\n",
      "    \n",
      "    Functions:\n",
      "    \n",
      "        dump(object, file)\n",
      "        dumps(object) -> string\n",
      "        load(file) -> object\n",
      "        loads(bytes) -> object\n",
      "    \n",
      "    Misc variables:\n",
      "    \n",
      "        __version__\n",
      "        format_version\n",
      "        compatible_formats\n",
      "\n",
      "CLASSES\n",
      "    builtins.Exception(builtins.BaseException)\n",
      "        _pickle.PickleError\n",
      "            _pickle.PicklingError\n",
      "            _pickle.UnpicklingError\n",
      "    builtins.object\n",
      "        _pickle.Pickler\n",
      "        _pickle.Unpickler\n",
      "        PickleBuffer\n",
      "    \n",
      "    class PickleBuffer(builtins.object)\n",
      "     |  Wrapper for potentially out-of-band buffers\n",
      "     |  \n",
      "     |  Methods defined here:\n",
      "     |  \n",
      "     |  raw(self, /)\n",
      "     |      Return a memoryview of the raw memory underlying this buffer.\n",
      "     |      Will raise BufferError is the buffer isn't contiguous.\n",
      "     |  \n",
      "     |  release(self, /)\n",
      "     |      Release the underlying buffer exposed by the PickleBuffer object.\n",
      "     |  \n",
      "     |  ----------------------------------------------------------------------\n",
      "     |  Static methods defined here:\n",
      "     |  \n",
      "     |  __new__(*args, **kwargs) from builtins.type\n",
      "     |      Create and return a new object.  See help(type) for accurate signature.\n",
      "    \n",
      "    class PickleError(builtins.Exception)\n",
      "     |  Method resolution order:\n",
      "     |      PickleError\n",
      "     |      builtins.Exception\n",
      "     |      builtins.BaseException\n",
      "     |      builtins.object\n",
      "     |  \n",
      "     |  Data descriptors defined here:\n",
      "     |  \n",
      "     |  __weakref__\n",
      "     |      list of weak references to the object (if defined)\n",
      "     |  \n",
      "     |  ----------------------------------------------------------------------\n",
      "     |  Methods inherited from builtins.Exception:\n",
      "     |  \n",
      "     |  __init__(self, /, *args, **kwargs)\n",
      "     |      Initialize self.  See help(type(self)) for accurate signature.\n",
      "     |  \n",
      "     |  ----------------------------------------------------------------------\n",
      "     |  Static methods inherited from builtins.Exception:\n",
      "     |  \n",
      "     |  __new__(*args, **kwargs) from builtins.type\n",
      "     |      Create and return a new object.  See help(type) for accurate signature.\n",
      "     |  \n",
      "     |  ----------------------------------------------------------------------\n",
      "     |  Methods inherited from builtins.BaseException:\n",
      "     |  \n",
      "     |  __delattr__(self, name, /)\n",
      "     |      Implement delattr(self, name).\n",
      "     |  \n",
      "     |  __getattribute__(self, name, /)\n",
      "     |      Return getattr(self, name).\n",
      "     |  \n",
      "     |  __reduce__(...)\n",
      "     |      Helper for pickle.\n",
      "     |  \n",
      "     |  __repr__(self, /)\n",
      "     |      Return repr(self).\n",
      "     |  \n",
      "     |  __setattr__(self, name, value, /)\n",
      "     |      Implement setattr(self, name, value).\n",
      "     |  \n",
      "     |  __setstate__(...)\n",
      "     |  \n",
      "     |  __str__(self, /)\n",
      "     |      Return str(self).\n",
      "     |  \n",
      "     |  with_traceback(...)\n",
      "     |      Exception.with_traceback(tb) --\n",
      "     |      set self.__traceback__ to tb and return self.\n",
      "     |  \n",
      "     |  ----------------------------------------------------------------------\n",
      "     |  Data descriptors inherited from builtins.BaseException:\n",
      "     |  \n",
      "     |  __cause__\n",
      "     |      exception cause\n",
      "     |  \n",
      "     |  __context__\n",
      "     |      exception context\n",
      "     |  \n",
      "     |  __dict__\n",
      "     |  \n",
      "     |  __suppress_context__\n",
      "     |  \n",
      "     |  __traceback__\n",
      "     |  \n",
      "     |  args\n",
      "    \n",
      "    class Pickler(builtins.object)\n",
      "     |  Pickler(file, protocol=None, fix_imports=True, buffer_callback=None)\n",
      "     |  \n",
      "     |  This takes a binary file for writing a pickle data stream.\n",
      "     |  \n",
      "     |  The optional *protocol* argument tells the pickler to use the given\n",
      "     |  protocol; supported protocols are 0, 1, 2, 3, 4 and 5.  The default\n",
      "     |  protocol is 4. It was introduced in Python 3.4, and is incompatible\n",
      "     |  with previous versions.\n",
      "     |  \n",
      "     |  Specifying a negative protocol version selects the highest protocol\n",
      "     |  version supported.  The higher the protocol used, the more recent the\n",
      "     |  version of Python needed to read the pickle produced.\n",
      "     |  \n",
      "     |  The *file* argument must have a write() method that accepts a single\n",
      "     |  bytes argument. It can thus be a file object opened for binary\n",
      "     |  writing, an io.BytesIO instance, or any other custom object that meets\n",
      "     |  this interface.\n",
      "     |  \n",
      "     |  If *fix_imports* is True and protocol is less than 3, pickle will try\n",
      "     |  to map the new Python 3 names to the old module names used in Python\n",
      "     |  2, so that the pickle data stream is readable with Python 2.\n",
      "     |  \n",
      "     |  If *buffer_callback* is None (the default), buffer views are\n",
      "     |  serialized into *file* as part of the pickle stream.\n",
      "     |  \n",
      "     |  If *buffer_callback* is not None, then it can be called any number\n",
      "     |  of times with a buffer view.  If the callback returns a false value\n",
      "     |  (such as None), the given buffer is out-of-band; otherwise the\n",
      "     |  buffer is serialized in-band, i.e. inside the pickle stream.\n",
      "     |  \n",
      "     |  It is an error if *buffer_callback* is not None and *protocol*\n",
      "     |  is None or smaller than 5.\n",
      "     |  \n",
      "     |  Methods defined here:\n",
      "     |  \n",
      "     |  __init__(self, /, *args, **kwargs)\n",
      "     |      Initialize self.  See help(type(self)) for accurate signature.\n",
      "     |  \n",
      "     |  __sizeof__(self, /)\n",
      "     |      Returns size in memory, in bytes.\n",
      "     |  \n",
      "     |  clear_memo(self, /)\n",
      "     |      Clears the pickler's \"memo\".\n",
      "     |      \n",
      "     |      The memo is the data structure that remembers which objects the\n",
      "     |      pickler has already seen, so that shared or recursive objects are\n",
      "     |      pickled by reference and not by value.  This method is useful when\n",
      "     |      re-using picklers.\n",
      "     |  \n",
      "     |  dump(self, obj, /)\n",
      "     |      Write a pickled representation of the given object to the open file.\n",
      "     |  \n",
      "     |  ----------------------------------------------------------------------\n",
      "     |  Static methods defined here:\n",
      "     |  \n",
      "     |  __new__(*args, **kwargs) from builtins.type\n",
      "     |      Create and return a new object.  See help(type) for accurate signature.\n",
      "     |  \n",
      "     |  ----------------------------------------------------------------------\n",
      "     |  Data descriptors defined here:\n",
      "     |  \n",
      "     |  bin\n",
      "     |  \n",
      "     |  dispatch_table\n",
      "     |  \n",
      "     |  fast\n",
      "     |  \n",
      "     |  memo\n",
      "     |  \n",
      "     |  persistent_id\n",
      "    \n",
      "    class PicklingError(PickleError)\n",
      "     |  Method resolution order:\n",
      "     |      PicklingError\n",
      "     |      PickleError\n",
      "     |      builtins.Exception\n",
      "     |      builtins.BaseException\n",
      "     |      builtins.object\n",
      "     |  \n",
      "     |  Data descriptors inherited from PickleError:\n",
      "     |  \n",
      "     |  __weakref__\n",
      "     |      list of weak references to the object (if defined)\n",
      "     |  \n",
      "     |  ----------------------------------------------------------------------\n",
      "     |  Methods inherited from builtins.Exception:\n",
      "     |  \n",
      "     |  __init__(self, /, *args, **kwargs)\n",
      "     |      Initialize self.  See help(type(self)) for accurate signature.\n",
      "     |  \n",
      "     |  ----------------------------------------------------------------------\n",
      "     |  Static methods inherited from builtins.Exception:\n",
      "     |  \n",
      "     |  __new__(*args, **kwargs) from builtins.type\n",
      "     |      Create and return a new object.  See help(type) for accurate signature.\n",
      "     |  \n",
      "     |  ----------------------------------------------------------------------\n",
      "     |  Methods inherited from builtins.BaseException:\n",
      "     |  \n",
      "     |  __delattr__(self, name, /)\n",
      "     |      Implement delattr(self, name).\n",
      "     |  \n",
      "     |  __getattribute__(self, name, /)\n",
      "     |      Return getattr(self, name).\n",
      "     |  \n",
      "     |  __reduce__(...)\n",
      "     |      Helper for pickle.\n",
      "     |  \n",
      "     |  __repr__(self, /)\n",
      "     |      Return repr(self).\n",
      "     |  \n",
      "     |  __setattr__(self, name, value, /)\n",
      "     |      Implement setattr(self, name, value).\n",
      "     |  \n",
      "     |  __setstate__(...)\n",
      "     |  \n",
      "     |  __str__(self, /)\n",
      "     |      Return str(self).\n",
      "     |  \n",
      "     |  with_traceback(...)\n",
      "     |      Exception.with_traceback(tb) --\n",
      "     |      set self.__traceback__ to tb and return self.\n",
      "     |  \n",
      "     |  ----------------------------------------------------------------------\n",
      "     |  Data descriptors inherited from builtins.BaseException:\n",
      "     |  \n",
      "     |  __cause__\n",
      "     |      exception cause\n",
      "     |  \n",
      "     |  __context__\n",
      "     |      exception context\n",
      "     |  \n",
      "     |  __dict__\n",
      "     |  \n",
      "     |  __suppress_context__\n",
      "     |  \n",
      "     |  __traceback__\n",
      "     |  \n",
      "     |  args\n",
      "    \n",
      "    class Unpickler(builtins.object)\n",
      "     |  Unpickler(file, *, fix_imports=True, encoding='ASCII', errors='strict', buffers=())\n",
      "     |  \n",
      "     |  This takes a binary file for reading a pickle data stream.\n",
      "     |  \n",
      "     |  The protocol version of the pickle is detected automatically, so no\n",
      "     |  protocol argument is needed.  Bytes past the pickled object's\n",
      "     |  representation are ignored.\n",
      "     |  \n",
      "     |  The argument *file* must have two methods, a read() method that takes\n",
      "     |  an integer argument, and a readline() method that requires no\n",
      "     |  arguments.  Both methods should return bytes.  Thus *file* can be a\n",
      "     |  binary file object opened for reading, an io.BytesIO object, or any\n",
      "     |  other custom object that meets this interface.\n",
      "     |  \n",
      "     |  Optional keyword arguments are *fix_imports*, *encoding* and *errors*,\n",
      "     |  which are used to control compatibility support for pickle stream\n",
      "     |  generated by Python 2.  If *fix_imports* is True, pickle will try to\n",
      "     |  map the old Python 2 names to the new names used in Python 3.  The\n",
      "     |  *encoding* and *errors* tell pickle how to decode 8-bit string\n",
      "     |  instances pickled by Python 2; these default to 'ASCII' and 'strict',\n",
      "     |  respectively.  The *encoding* can be 'bytes' to read these 8-bit\n",
      "     |  string instances as bytes objects.\n",
      "     |  \n",
      "     |  Methods defined here:\n",
      "     |  \n",
      "     |  __init__(self, /, *args, **kwargs)\n",
      "     |      Initialize self.  See help(type(self)) for accurate signature.\n",
      "     |  \n",
      "     |  __sizeof__(self, /)\n",
      "     |      Returns size in memory, in bytes.\n",
      "     |  \n",
      "     |  find_class(self, module_name, global_name, /)\n",
      "     |      Return an object from a specified module.\n",
      "     |      \n",
      "     |      If necessary, the module will be imported. Subclasses may override\n",
      "     |      this method (e.g. to restrict unpickling of arbitrary classes and\n",
      "     |      functions).\n",
      "     |      \n",
      "     |      This method is called whenever a class or a function object is\n",
      "     |      needed.  Both arguments passed are str objects.\n",
      "     |  \n",
      "     |  load(self, /)\n",
      "     |      Load a pickle.\n",
      "     |      \n",
      "     |      Read a pickled object representation from the open file object given\n",
      "     |      in the constructor, and return the reconstituted object hierarchy\n",
      "     |      specified therein.\n",
      "     |  \n",
      "     |  ----------------------------------------------------------------------\n",
      "     |  Static methods defined here:\n",
      "     |  \n",
      "     |  __new__(*args, **kwargs) from builtins.type\n",
      "     |      Create and return a new object.  See help(type) for accurate signature.\n",
      "     |  \n",
      "     |  ----------------------------------------------------------------------\n",
      "     |  Data descriptors defined here:\n",
      "     |  \n",
      "     |  memo\n",
      "     |  \n",
      "     |  persistent_load\n",
      "    \n",
      "    class UnpicklingError(PickleError)\n",
      "     |  Method resolution order:\n",
      "     |      UnpicklingError\n",
      "     |      PickleError\n",
      "     |      builtins.Exception\n",
      "     |      builtins.BaseException\n",
      "     |      builtins.object\n",
      "     |  \n",
      "     |  Data descriptors inherited from PickleError:\n",
      "     |  \n",
      "     |  __weakref__\n",
      "     |      list of weak references to the object (if defined)\n",
      "     |  \n",
      "     |  ----------------------------------------------------------------------\n",
      "     |  Methods inherited from builtins.Exception:\n",
      "     |  \n",
      "     |  __init__(self, /, *args, **kwargs)\n",
      "     |      Initialize self.  See help(type(self)) for accurate signature.\n",
      "     |  \n",
      "     |  ----------------------------------------------------------------------\n",
      "     |  Static methods inherited from builtins.Exception:\n",
      "     |  \n",
      "     |  __new__(*args, **kwargs) from builtins.type\n",
      "     |      Create and return a new object.  See help(type) for accurate signature.\n",
      "     |  \n",
      "     |  ----------------------------------------------------------------------\n",
      "     |  Methods inherited from builtins.BaseException:\n",
      "     |  \n",
      "     |  __delattr__(self, name, /)\n",
      "     |      Implement delattr(self, name).\n",
      "     |  \n",
      "     |  __getattribute__(self, name, /)\n",
      "     |      Return getattr(self, name).\n",
      "     |  \n",
      "     |  __reduce__(...)\n",
      "     |      Helper for pickle.\n",
      "     |  \n",
      "     |  __repr__(self, /)\n",
      "     |      Return repr(self).\n",
      "     |  \n",
      "     |  __setattr__(self, name, value, /)\n",
      "     |      Implement setattr(self, name, value).\n",
      "     |  \n",
      "     |  __setstate__(...)\n",
      "     |  \n",
      "     |  __str__(self, /)\n",
      "     |      Return str(self).\n",
      "     |  \n",
      "     |  with_traceback(...)\n",
      "     |      Exception.with_traceback(tb) --\n",
      "     |      set self.__traceback__ to tb and return self.\n",
      "     |  \n",
      "     |  ----------------------------------------------------------------------\n",
      "     |  Data descriptors inherited from builtins.BaseException:\n",
      "     |  \n",
      "     |  __cause__\n",
      "     |      exception cause\n",
      "     |  \n",
      "     |  __context__\n",
      "     |      exception context\n",
      "     |  \n",
      "     |  __dict__\n",
      "     |  \n",
      "     |  __suppress_context__\n",
      "     |  \n",
      "     |  __traceback__\n",
      "     |  \n",
      "     |  args\n",
      "\n",
      "FUNCTIONS\n",
      "    dump(obj, file, protocol=None, *, fix_imports=True, buffer_callback=None)\n",
      "        Write a pickled representation of obj to the open file object file.\n",
      "        \n",
      "        This is equivalent to ``Pickler(file, protocol).dump(obj)``, but may\n",
      "        be more efficient.\n",
      "        \n",
      "        The optional *protocol* argument tells the pickler to use the given\n",
      "        protocol; supported protocols are 0, 1, 2, 3, 4 and 5.  The default\n",
      "        protocol is 4. It was introduced in Python 3.4, and is incompatible\n",
      "        with previous versions.\n",
      "        \n",
      "        Specifying a negative protocol version selects the highest protocol\n",
      "        version supported.  The higher the protocol used, the more recent the\n",
      "        version of Python needed to read the pickle produced.\n",
      "        \n",
      "        The *file* argument must have a write() method that accepts a single\n",
      "        bytes argument.  It can thus be a file object opened for binary\n",
      "        writing, an io.BytesIO instance, or any other custom object that meets\n",
      "        this interface.\n",
      "        \n",
      "        If *fix_imports* is True and protocol is less than 3, pickle will try\n",
      "        to map the new Python 3 names to the old module names used in Python\n",
      "        2, so that the pickle data stream is readable with Python 2.\n",
      "        \n",
      "        If *buffer_callback* is None (the default), buffer views are serialized\n",
      "        into *file* as part of the pickle stream.  It is an error if\n",
      "        *buffer_callback* is not None and *protocol* is None or smaller than 5.\n",
      "    \n",
      "    dumps(obj, protocol=None, *, fix_imports=True, buffer_callback=None)\n",
      "        Return the pickled representation of the object as a bytes object.\n",
      "        \n",
      "        The optional *protocol* argument tells the pickler to use the given\n",
      "        protocol; supported protocols are 0, 1, 2, 3, 4 and 5.  The default\n",
      "        protocol is 4. It was introduced in Python 3.4, and is incompatible\n",
      "        with previous versions.\n",
      "        \n",
      "        Specifying a negative protocol version selects the highest protocol\n",
      "        version supported.  The higher the protocol used, the more recent the\n",
      "        version of Python needed to read the pickle produced.\n",
      "        \n",
      "        If *fix_imports* is True and *protocol* is less than 3, pickle will\n",
      "        try to map the new Python 3 names to the old module names used in\n",
      "        Python 2, so that the pickle data stream is readable with Python 2.\n",
      "        \n",
      "        If *buffer_callback* is None (the default), buffer views are serialized\n",
      "        into *file* as part of the pickle stream.  It is an error if\n",
      "        *buffer_callback* is not None and *protocol* is None or smaller than 5.\n",
      "    \n",
      "    load(file, *, fix_imports=True, encoding='ASCII', errors='strict', buffers=())\n",
      "        Read and return an object from the pickle data stored in a file.\n",
      "        \n",
      "        This is equivalent to ``Unpickler(file).load()``, but may be more\n",
      "        efficient.\n",
      "        \n",
      "        The protocol version of the pickle is detected automatically, so no\n",
      "        protocol argument is needed.  Bytes past the pickled object's\n",
      "        representation are ignored.\n",
      "        \n",
      "        The argument *file* must have two methods, a read() method that takes\n",
      "        an integer argument, and a readline() method that requires no\n",
      "        arguments.  Both methods should return bytes.  Thus *file* can be a\n",
      "        binary file object opened for reading, an io.BytesIO object, or any\n",
      "        other custom object that meets this interface.\n",
      "        \n",
      "        Optional keyword arguments are *fix_imports*, *encoding* and *errors*,\n",
      "        which are used to control compatibility support for pickle stream\n",
      "        generated by Python 2.  If *fix_imports* is True, pickle will try to\n",
      "        map the old Python 2 names to the new names used in Python 3.  The\n",
      "        *encoding* and *errors* tell pickle how to decode 8-bit string\n",
      "        instances pickled by Python 2; these default to 'ASCII' and 'strict',\n",
      "        respectively.  The *encoding* can be 'bytes' to read these 8-bit\n",
      "        string instances as bytes objects.\n",
      "    \n",
      "    loads(data, /, *, fix_imports=True, encoding='ASCII', errors='strict', buffers=())\n",
      "        Read and return an object from the given pickle data.\n",
      "        \n",
      "        The protocol version of the pickle is detected automatically, so no\n",
      "        protocol argument is needed.  Bytes past the pickled object's\n",
      "        representation are ignored.\n",
      "        \n",
      "        Optional keyword arguments are *fix_imports*, *encoding* and *errors*,\n",
      "        which are used to control compatibility support for pickle stream\n",
      "        generated by Python 2.  If *fix_imports* is True, pickle will try to\n",
      "        map the old Python 2 names to the new names used in Python 3.  The\n",
      "        *encoding* and *errors* tell pickle how to decode 8-bit string\n",
      "        instances pickled by Python 2; these default to 'ASCII' and 'strict',\n",
      "        respectively.  The *encoding* can be 'bytes' to read these 8-bit\n",
      "        string instances as bytes objects.\n",
      "\n",
      "DATA\n",
      "    ADDITEMS = b'\\x90'\n",
      "    APPEND = b'a'\n",
      "    APPENDS = b'e'\n",
      "    BINBYTES = b'B'\n",
      "    BINBYTES8 = b'\\x8e'\n",
      "    BINFLOAT = b'G'\n",
      "    BINGET = b'h'\n",
      "    BININT = b'J'\n",
      "    BININT1 = b'K'\n",
      "    BININT2 = b'M'\n",
      "    BINPERSID = b'Q'\n",
      "    BINPUT = b'q'\n",
      "    BINSTRING = b'T'\n",
      "    BINUNICODE = b'X'\n",
      "    BINUNICODE8 = b'\\x8d'\n",
      "    BUILD = b'b'\n",
      "    BYTEARRAY8 = b'\\x96'\n",
      "    DEFAULT_PROTOCOL = 4\n",
      "    DICT = b'd'\n",
      "    DUP = b'2'\n",
      "    EMPTY_DICT = b'}'\n",
      "    EMPTY_LIST = b']'\n",
      "    EMPTY_SET = b'\\x8f'\n",
      "    EMPTY_TUPLE = b')'\n",
      "    EXT1 = b'\\x82'\n",
      "    EXT2 = b'\\x83'\n",
      "    EXT4 = b'\\x84'\n",
      "    FALSE = b'I00\\n'\n",
      "    FLOAT = b'F'\n",
      "    FRAME = b'\\x95'\n",
      "    FROZENSET = b'\\x91'\n",
      "    GET = b'g'\n",
      "    GLOBAL = b'c'\n",
      "    HIGHEST_PROTOCOL = 5\n",
      "    INST = b'i'\n",
      "    INT = b'I'\n",
      "    LIST = b'l'\n",
      "    LONG = b'L'\n",
      "    LONG1 = b'\\x8a'\n",
      "    LONG4 = b'\\x8b'\n",
      "    LONG_BINGET = b'j'\n",
      "    LONG_BINPUT = b'r'\n",
      "    MARK = b'('\n",
      "    MEMOIZE = b'\\x94'\n",
      "    NEWFALSE = b'\\x89'\n",
      "    NEWOBJ = b'\\x81'\n",
      "    NEWOBJ_EX = b'\\x92'\n",
      "    NEWTRUE = b'\\x88'\n",
      "    NEXT_BUFFER = b'\\x97'\n",
      "    NONE = b'N'\n",
      "    OBJ = b'o'\n",
      "    PERSID = b'P'\n",
      "    POP = b'0'\n",
      "    POP_MARK = b'1'\n",
      "    PROTO = b'\\x80'\n",
      "    PUT = b'p'\n",
      "    READONLY_BUFFER = b'\\x98'\n",
      "    REDUCE = b'R'\n",
      "    SETITEM = b's'\n",
      "    SETITEMS = b'u'\n",
      "    SHORT_BINBYTES = b'C'\n",
      "    SHORT_BINSTRING = b'U'\n",
      "    SHORT_BINUNICODE = b'\\x8c'\n",
      "    STACK_GLOBAL = b'\\x93'\n",
      "    STOP = b'.'\n",
      "    STRING = b'S'\n",
      "    TRUE = b'I01\\n'\n",
      "    TUPLE = b't'\n",
      "    TUPLE1 = b'\\x85'\n",
      "    TUPLE2 = b'\\x86'\n",
      "    TUPLE3 = b'\\x87'\n",
      "    UNICODE = b'V'\n",
      "    __all__ = ['PickleError', 'PicklingError', 'UnpicklingError', 'Pickler...\n",
      "\n",
      "FILE\n",
      "    /home/codespace/.python/current/lib/python3.10/pickle.py\n",
      "\n",
      "\n"
     ]
    }
   ],
   "source": [
    "help(pickle)"
   ]
  },
  {
   "cell_type": "markdown",
   "metadata": {},
   "source": [
    "###  Pickle to string object"
   ]
  },
  {
   "cell_type": "code",
   "execution_count": 3,
   "metadata": {},
   "outputs": [
    {
     "data": {
      "text/plain": [
       "\"{'name': 'John', 'age': 30, 'married': True}\""
      ]
     },
     "execution_count": 3,
     "metadata": {},
     "output_type": "execute_result"
    }
   ],
   "source": [
    "# Serialize an object\n",
    "data = {\"name\": \"John\", \"age\": 30, \"married\": True}\n",
    "\n",
    "str({\"name\": \"John\", \"age\": 30, \"married\": True})"
   ]
  },
  {
   "cell_type": "code",
   "execution_count": 4,
   "metadata": {},
   "outputs": [
    {
     "data": {
      "text/plain": [
       "b'\\x80\\x04\\x95&\\x00\\x00\\x00\\x00\\x00\\x00\\x00}\\x94(\\x8c\\x04name\\x94\\x8c\\x04John\\x94\\x8c\\x03age\\x94K\\x1e\\x8c\\x07married\\x94\\x88u.'"
      ]
     },
     "execution_count": 4,
     "metadata": {},
     "output_type": "execute_result"
    }
   ],
   "source": [
    "serialized_data = pickle.dumps(data)\n",
    "\n",
    "serialized_data"
   ]
  },
  {
   "cell_type": "code",
   "execution_count": 5,
   "metadata": {},
   "outputs": [
    {
     "data": {
      "text/plain": [
       "{'name': 'John', 'age': 30, 'married': True}"
      ]
     },
     "execution_count": 5,
     "metadata": {},
     "output_type": "execute_result"
    }
   ],
   "source": [
    "# Deserialize the object\n",
    "deserialized_data = pickle.loads(serialized_data)\n",
    "\n",
    "deserialized_data"
   ]
  },
  {
   "attachments": {},
   "cell_type": "markdown",
   "metadata": {},
   "source": [
    "     Asignment: try all data types(basic and data structures) in python for pickling and unpickling"
   ]
  },
  {
   "attachments": {},
   "cell_type": "markdown",
   "metadata": {},
   "source": [
    "### Pickle to file"
   ]
  },
  {
   "cell_type": "code",
   "execution_count": 6,
   "metadata": {},
   "outputs": [],
   "source": [
    "data = {\"name\": \"John\", \"age\": 30, \"married\": True}\n",
    "\n",
    "\n",
    "# Write to a pickle file\n",
    "with open(\"data.pickle\", \"wb\") as fh:  # .pickle/ .pkl\n",
    "    pickle.dump(data, fh)"
   ]
  },
  {
   "cell_type": "code",
   "execution_count": 7,
   "metadata": {},
   "outputs": [
    {
     "name": "stdout",
     "output_type": "stream",
     "text": [
      "�\u0004�&\u0000\u0000\u0000\u0000\u0000\u0000\u0000}�(�\u0004name��\u0004John��\u0003age�K\u001e�\u0007married��u."
     ]
    }
   ],
   "source": [
    "! cat data.pickle"
   ]
  },
  {
   "cell_type": "code",
   "execution_count": 8,
   "metadata": {},
   "outputs": [
    {
     "data": {
      "text/plain": [
       "{'name': 'John', 'age': 30, 'married': True}"
      ]
     },
     "execution_count": 8,
     "metadata": {},
     "output_type": "execute_result"
    }
   ],
   "source": [
    "# Read from a pickle file\n",
    "with open(\"data.pickle\", \"rb\") as file:\n",
    "    loaded_data = pickle.load(file)\n",
    "\n",
    "\n",
    "loaded_data"
   ]
  },
  {
   "cell_type": "markdown",
   "metadata": {},
   "source": [
    "### Pickling Multiple Objects"
   ]
  },
  {
   "cell_type": "code",
   "execution_count": 9,
   "metadata": {},
   "outputs": [
    {
     "name": "stdout",
     "output_type": "stream",
     "text": [
      "serialized_data =b'\\x80\\x04\\x95/\\x00\\x00\\x00\\x00\\x00\\x00\\x00}\\x94(\\x8c\\x04name\\x94\\x8c\\x04John\\x94\\x8c\\x03age\\x94K\\x1eu}\\x94(h\\x01\\x8c\\x05Alice\\x94h\\x03K\\x19u\\x86\\x94.'\n"
     ]
    }
   ],
   "source": [
    "# Pickle multiple objects\n",
    "data1 = {\"name\": \"John\", \"age\": 30}\n",
    "data2 = {\"name\": \"Alice\", \"age\": 25}\n",
    "\n",
    "serialized_data = pickle.dumps((data1, data2))\n",
    "print(f\"{serialized_data =}\")"
   ]
  },
  {
   "cell_type": "code",
   "execution_count": 10,
   "metadata": {},
   "outputs": [
    {
     "name": "stdout",
     "output_type": "stream",
     "text": [
      "obj1 ={'name': 'John', 'age': 30}\n",
      "obj2 ={'name': 'Alice', 'age': 25}\n"
     ]
    }
   ],
   "source": [
    "# Unpickle multiple objects\n",
    "deserialized_data = pickle.loads(serialized_data)\n",
    "obj1, obj2 = deserialized_data\n",
    "\n",
    "print(f\"{obj1 =}\")\n",
    "print(f\"{obj2 =}\")"
   ]
  },
  {
   "cell_type": "markdown",
   "metadata": {},
   "source": [
    "### Pickling and Unpickling with Compression"
   ]
  },
  {
   "cell_type": "code",
   "execution_count": 11,
   "metadata": {},
   "outputs": [
    {
     "name": "stdout",
     "output_type": "stream",
     "text": [
      "loaded_data ={'name': 'John', 'age': 30, 'married': True}\n"
     ]
    }
   ],
   "source": [
    "import pickle\n",
    "import gzip\n",
    "\n",
    "data = {\"name\": \"John\", \"age\": 30, \"married\": True}\n",
    "\n",
    "# Pickle with compression\n",
    "with gzip.open(\"data.pickle.gz\", \"wb\") as file:\n",
    "    pickle.dump(data, file)\n",
    "\n",
    "# Unpickle with compression\n",
    "with gzip.open(\"data.pickle.gz\", \"rb\") as file:\n",
    "    loaded_data = pickle.load(file)\n",
    "\n",
    "print(f\"{loaded_data =}\")"
   ]
  },
  {
   "cell_type": "code",
   "execution_count": 12,
   "metadata": {},
   "outputs": [
    {
     "name": "stdout",
     "output_type": "stream",
     "text": [
      "O�ld\u0002�data.pickle\u0000k`���\u0000\u0001�S4zX�\u0012sS���x�g�M�aNLO��-�Þ�XT���2��T\u000f\u0000�w�Y1\u0000\u0000\u0000"
     ]
    }
   ],
   "source": [
    "! cat data.pickle.gz"
   ]
  },
  {
   "cell_type": "markdown",
   "metadata": {},
   "source": [
    "### Pickling and Unpickling Objects with External Dependencies"
   ]
  },
  {
   "cell_type": "code",
   "execution_count": 13,
   "metadata": {},
   "outputs": [
    {
     "name": "stdout",
     "output_type": "stream",
     "text": [
      "serialized_data = b'\\x80\\x05\\x95\\x96\\x00\\x00\\x00\\x00\\x00\\x00\\x00}\\x94\\x8c\\x05array\\x94\\x8c\\x12numpy.core.numeric\\x94\\x8c\\x0b_frombuffer\\x94\\x93\\x94(\\x96\\x18\\x00\\x00\\x00\\x00\\x00\\x00\\x00\\x01\\x00\\x00\\x00\\x00\\x00\\x00\\x00\\x02\\x00\\x00\\x00\\x00\\x00\\x00\\x00\\x03\\x00\\x00\\x00\\x00\\x00\\x00\\x00\\x94\\x8c\\x05numpy\\x94\\x8c\\x05dtype\\x94\\x93\\x94\\x8c\\x02i8\\x94\\x89\\x88\\x87\\x94R\\x94(K\\x03\\x8c\\x01<\\x94NNNJ\\xff\\xff\\xff\\xffJ\\xff\\xff\\xff\\xffK\\x00t\\x94bK\\x03\\x85\\x94\\x8c\\x01C\\x94t\\x94R\\x94s.'\n",
      "deserialized_data = {'array': array([1, 2, 3])}\n"
     ]
    }
   ],
   "source": [
    "import pickle\n",
    "import numpy as np\n",
    "\n",
    "data = {\"array\": np.array([1, 2, 3])}\n",
    "\n",
    "# Pickle an object with NumPy array\n",
    "serialized_data = pickle.dumps(data, protocol=pickle.HIGHEST_PROTOCOL)\n",
    "print(\"serialized_data =\", serialized_data)\n",
    "\n",
    "# Unpickle an object with NumPy array\n",
    "deserialized_data = pickle.loads(serialized_data)\n",
    "print(\"deserialized_data =\", deserialized_data)"
   ]
  },
  {
   "cell_type": "markdown",
   "metadata": {},
   "source": [
    "### Handling Unpickling Errors"
   ]
  },
  {
   "cell_type": "code",
   "execution_count": 14,
   "metadata": {},
   "outputs": [],
   "source": [
    "import pickle\n",
    "\n",
    "# Try to unpickle an object, handle errors\n",
    "try:\n",
    "    with open(\"data.pickle\", \"rb\") as file:\n",
    "        loaded_data = pickle.load(file)\n",
    "except (pickle.UnpicklingError, FileNotFoundError) as e:\n",
    "    print(f\"Error loading pickle file: {e}\")"
   ]
  },
  {
   "cell_type": "markdown",
   "metadata": {},
   "source": [
    "### Pickling and Unpickling Large Objects Incrementally"
   ]
  },
  {
   "cell_type": "code",
   "execution_count": 15,
   "metadata": {},
   "outputs": [
    {
     "ename": "AttributeError",
     "evalue": "__enter__",
     "output_type": "error",
     "traceback": [
      "\u001b[0;31m---------------------------------------------------------------------------\u001b[0m",
      "\u001b[0;31mAttributeError\u001b[0m                            Traceback (most recent call last)",
      "Cell \u001b[0;32mIn[15], line 9\u001b[0m\n\u001b[1;32m      7\u001b[0m \u001b[39m# Pickle large object incrementally\u001b[39;00m\n\u001b[1;32m      8\u001b[0m serialized_data \u001b[39m=\u001b[39m io\u001b[39m.\u001b[39mBytesIO()\n\u001b[0;32m----> 9\u001b[0m \u001b[39mwith\u001b[39;00m pickle\u001b[39m.\u001b[39mPickler(serialized_data) \u001b[39mas\u001b[39;00m pickler:\n\u001b[1;32m     10\u001b[0m     \u001b[39mfor\u001b[39;00m i \u001b[39min\u001b[39;00m \u001b[39mrange\u001b[39m(\u001b[39m0\u001b[39m, \u001b[39mlen\u001b[39m(data), chunk_size):\n\u001b[1;32m     11\u001b[0m         pickler\u001b[39m.\u001b[39mdump(data[i:i\u001b[39m+\u001b[39mchunk_size])\n",
      "\u001b[0;31mAttributeError\u001b[0m: __enter__"
     ]
    }
   ],
   "source": [
    "import pickle\n",
    "import io\n",
    "\n",
    "data = [1, 2, 3] * int(1e6)\n",
    "chunk_size = 1000\n",
    "\n",
    "# Pickle large object incrementally\n",
    "serialized_data = io.BytesIO()\n",
    "with pickle.Pickler(serialized_data) as pickler:\n",
    "    for i in range(0, len(data), chunk_size):\n",
    "        pickler.dump(data[i : i + chunk_size])\n",
    "\n",
    "# Unpickle large object incrementally\n",
    "serialized_data.seek(0)\n",
    "with pickle.Unpickler(serialized_data) as unpickler:\n",
    "    deserialized_data = []"
   ]
  },
  {
   "cell_type": "code",
   "execution_count": 16,
   "metadata": {},
   "outputs": [
    {
     "name": "stdout",
     "output_type": "stream",
     "text": [
      "pickle_str      :b'\\x80\\x04\\x95\\x08\\x00\\x00\\x00\\x00\\x00\\x00\\x00\\x8a\\x053\\xf4\\xccn1.'\n",
      "retrieved_obj   :212312323123 <class 'int'>\n"
     ]
    }
   ],
   "source": [
    "n1 = 212312323123\n",
    "\n",
    "pickle_str = pickle.dumps(n1)\n",
    "print(f\"pickle_str      :{pickle_str}\")\n",
    "\n",
    "retrieved_obj = pickle.loads(pickle_str)\n",
    "print(f\"retrieved_obj   :{retrieved_obj} {type(retrieved_obj)}\")"
   ]
  },
  {
   "cell_type": "code",
   "execution_count": 17,
   "metadata": {},
   "outputs": [
    {
     "name": "stdout",
     "output_type": "stream",
     "text": [
      "pickle_str      :b'\\x80\\x04\\x95\\x1d\\x00\\x00\\x00\\x00\\x00\\x00\\x00\\x8f\\x94(\\x8c\\x03bat\\x94\\x8c\\x03cat\\x94\\x8c\\x03asd\\x94\\x8c\\x03rat\\x94\\x90.'\n",
      "retrieved_obj   :{'bat', 'cat', 'asd', 'rat'} <class 'set'>\n"
     ]
    }
   ],
   "source": [
    "n1 = {\"asd\", \"cat\", \"bat\", \"rat\"}\n",
    "\n",
    "pickle_str = pickle.dumps(n1)\n",
    "print(f\"pickle_str      :{pickle_str}\")\n",
    "\n",
    "retrieved_obj = pickle.loads(pickle_str)\n",
    "print(f\"retrieved_obj   :{retrieved_obj} {type(retrieved_obj)}\")"
   ]
  },
  {
   "cell_type": "code",
   "execution_count": 18,
   "metadata": {},
   "outputs": [
    {
     "data": {
      "text/plain": [
       "b'asd\\x94\\x8c\\x03rat\\x94\\x90.'"
      ]
     },
     "execution_count": 18,
     "metadata": {},
     "output_type": "execute_result"
    }
   ],
   "source": [
    "pickle_str[-12:]"
   ]
  },
  {
   "cell_type": "code",
   "execution_count": null,
   "metadata": {},
   "outputs": [],
   "source": []
  }
 ],
 "metadata": {
  "kernelspec": {
   "display_name": "Python 3",
   "language": "python",
   "name": "python3"
  },
  "language_info": {
   "codemirror_mode": {
    "name": "ipython",
    "version": 3
   },
   "file_extension": ".py",
   "mimetype": "text/x-python",
   "name": "python",
   "nbconvert_exporter": "python",
   "pygments_lexer": "ipython3",
   "version": "3.10.4"
  },
  "orig_nbformat": 4
 },
 "nbformat": 4,
 "nbformat_minor": 2
}
