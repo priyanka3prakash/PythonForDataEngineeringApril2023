{
 "cells": [
  {
   "attachments": {},
   "cell_type": "markdown",
   "metadata": {},
   "source": [
    "# XML\n",
    "\n",
    "    XML - eXtensible Markup Language\n",
    "        - designed to store and transport data.\n",
    "        - often used for distributing data over the\n",
    "           Internet(especial in web development).\n",
    "\n",
    "    \n",
    "XML vs HTML\n",
    "    XML : is used to store or transport data. So the XML is a Complement to HTML.\n",
    "    HTML: is used to format and display the same data.\n",
    "\n",
    "- XML Tags are Case Sensitive\n",
    "- All XML Elements Must Have a Closeing Tag\n",
    "    <p>This is a paragraph.</p>\n",
    "    <br />  <!-- This is a self closing -->\n",
    "- XML Attribute Values Must Always be Quoted"
   ]
  },
  {
   "cell_type": "code",
   "execution_count": 1,
   "metadata": {},
   "outputs": [
    {
     "name": "stdout",
     "output_type": "stream",
     "text": [
      "Help on package xml:\n",
      "\n",
      "NAME\n",
      "    xml - Core XML support for Python.\n",
      "\n",
      "MODULE REFERENCE\n",
      "    https://docs.python.org/3.10/library/xml.html\n",
      "    \n",
      "    The following documentation is automatically generated from the Python\n",
      "    source files.  It may be incomplete, incorrect or include features that\n",
      "    are considered implementation detail and may vary between Python\n",
      "    implementations.  When in doubt, consult the module reference at the\n",
      "    location listed above.\n",
      "\n",
      "DESCRIPTION\n",
      "    This package contains four sub-packages:\n",
      "    \n",
      "    dom -- The W3C Document Object Model.  This supports DOM Level 1 +\n",
      "           Namespaces.\n",
      "    \n",
      "    parsers -- Python wrappers for XML parsers (currently only supports Expat).\n",
      "    \n",
      "    sax -- The Simple API for XML, developed by XML-Dev, led by David\n",
      "           Megginson and ported to Python by Lars Marius Garshol.  This\n",
      "           supports the SAX 2 API.\n",
      "    \n",
      "    etree -- The ElementTree XML library.  This is a subset of the full\n",
      "           ElementTree XML release.\n",
      "\n",
      "PACKAGE CONTENTS\n",
      "    dom (package)\n",
      "    etree (package)\n",
      "    parsers (package)\n",
      "    sax (package)\n",
      "\n",
      "DATA\n",
      "    __all__ = ['dom', 'parsers', 'sax', 'etree']\n",
      "\n",
      "FILE\n",
      "    /home/codespace/.python/current/lib/python3.10/xml/__init__.py\n",
      "\n",
      "\n"
     ]
    }
   ],
   "source": [
    "import xml \n",
    "\n",
    "help(xml)"
   ]
  },
  {
   "cell_type": "code",
   "execution_count": 2,
   "metadata": {},
   "outputs": [
    {
     "data": {
      "text/plain": [
       "['__all__',\n",
       " '__builtins__',\n",
       " '__cached__',\n",
       " '__doc__',\n",
       " '__file__',\n",
       " '__loader__',\n",
       " '__name__',\n",
       " '__package__',\n",
       " '__path__',\n",
       " '__spec__',\n",
       " 'dom',\n",
       " 'parsers']"
      ]
     },
     "execution_count": 2,
     "metadata": {},
     "output_type": "execute_result"
    }
   ],
   "source": [
    "dir(xml)"
   ]
  },
  {
   "cell_type": "code",
   "execution_count": 3,
   "metadata": {},
   "outputs": [],
   "source": [
    "import xml.etree.ElementTree as ET\n",
    "\n",
    "from xml.etree.ElementTree import Element, SubElement, tostring\n",
    "\n",
    "from xml.dom import minidom\n"
   ]
  },
  {
   "cell_type": "code",
   "execution_count": null,
   "metadata": {},
   "outputs": [],
   "source": []
  }
 ],
 "metadata": {
  "kernelspec": {
   "display_name": "Python 3",
   "language": "python",
   "name": "python3"
  },
  "language_info": {
   "codemirror_mode": {
    "name": "ipython",
    "version": 3
   },
   "file_extension": ".py",
   "mimetype": "text/x-python",
   "name": "python",
   "nbconvert_exporter": "python",
   "pygments_lexer": "ipython3",
   "version": "3.10.4"
  },
  "orig_nbformat": 4
 },
 "nbformat": 4,
 "nbformat_minor": 2
}
