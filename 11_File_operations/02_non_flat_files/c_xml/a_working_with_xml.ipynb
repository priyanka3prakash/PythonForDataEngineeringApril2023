{
 "cells": [
  {
   "attachments": {},
   "cell_type": "markdown",
   "metadata": {},
   "source": [
    "# XML\n",
    "\n",
    "    XML - eXtensible Markup Language\n",
    "        - designed to store and transport data.\n",
    "        - often used for distributing data over the\n",
    "           Internet(especial in web development).\n",
    "\n",
    "    \n",
    "XML vs HTML\n",
    "    XML : is used to store or transport data. So the XML is a Complement to HTML.\n",
    "    HTML: is used to format and display the same data.\n",
    "\n",
    "- XML Tags are Case Sensitive\n",
    "- All XML Elements Must Have a Closeing Tag\n",
    "    <p>This is a paragraph.</p>\n",
    "    <br />  <!-- This is a self closing -->\n",
    "- XML Attribute Values Must Always be Quoted"
   ]
  },
  {
   "cell_type": "code",
   "execution_count": 1,
   "metadata": {},
   "outputs": [
    {
     "name": "stdout",
     "output_type": "stream",
     "text": [
      "Help on package xml:\n",
      "\n",
      "NAME\n",
      "    xml - Core XML support for Python.\n",
      "\n",
      "MODULE REFERENCE\n",
      "    https://docs.python.org/3.10/library/xml.html\n",
      "    \n",
      "    The following documentation is automatically generated from the Python\n",
      "    source files.  It may be incomplete, incorrect or include features that\n",
      "    are considered implementation detail and may vary between Python\n",
      "    implementations.  When in doubt, consult the module reference at the\n",
      "    location listed above.\n",
      "\n",
      "DESCRIPTION\n",
      "    This package contains four sub-packages:\n",
      "    \n",
      "    dom -- The W3C Document Object Model.  This supports DOM Level 1 +\n",
      "           Namespaces.\n",
      "    \n",
      "    parsers -- Python wrappers for XML parsers (currently only supports Expat).\n",
      "    \n",
      "    sax -- The Simple API for XML, developed by XML-Dev, led by David\n",
      "           Megginson and ported to Python by Lars Marius Garshol.  This\n",
      "           supports the SAX 2 API.\n",
      "    \n",
      "    etree -- The ElementTree XML library.  This is a subset of the full\n",
      "           ElementTree XML release.\n",
      "\n",
      "PACKAGE CONTENTS\n",
      "    dom (package)\n",
      "    etree (package)\n",
      "    parsers (package)\n",
      "    sax (package)\n",
      "\n",
      "DATA\n",
      "    __all__ = ['dom', 'parsers', 'sax', 'etree']\n",
      "\n",
      "FILE\n",
      "    /home/codespace/.python/current/lib/python3.10/xml/__init__.py\n",
      "\n",
      "\n"
     ]
    }
   ],
   "source": [
    "import xml\n",
    "\n",
    "help(xml)"
   ]
  },
  {
   "cell_type": "code",
   "execution_count": 2,
   "metadata": {},
   "outputs": [
    {
     "data": {
      "text/plain": [
       "['__all__',\n",
       " '__builtins__',\n",
       " '__cached__',\n",
       " '__doc__',\n",
       " '__file__',\n",
       " '__loader__',\n",
       " '__name__',\n",
       " '__package__',\n",
       " '__path__',\n",
       " '__spec__',\n",
       " 'dom',\n",
       " 'parsers']"
      ]
     },
     "execution_count": 2,
     "metadata": {},
     "output_type": "execute_result"
    }
   ],
   "source": [
    "dir(xml)"
   ]
  },
  {
   "cell_type": "code",
   "execution_count": 1,
   "metadata": {},
   "outputs": [],
   "source": [
    "import xml.etree.ElementTree as ET"
   ]
  },
  {
   "cell_type": "code",
   "execution_count": 2,
   "metadata": {},
   "outputs": [],
   "source": [
    "root = ET.Element(\"root\")\n",
    "\n",
    "child = ET.SubElement(root, \"child\")\n",
    "child2 = ET.SubElement(root, \"child2\")"
   ]
  },
  {
   "cell_type": "code",
   "execution_count": 3,
   "metadata": {},
   "outputs": [
    {
     "data": {
      "text/plain": [
       "<Element 'root' at 0x7f2a38527ce0>"
      ]
     },
     "execution_count": 3,
     "metadata": {},
     "output_type": "execute_result"
    }
   ],
   "source": [
    "root"
   ]
  },
  {
   "cell_type": "code",
   "execution_count": 4,
   "metadata": {},
   "outputs": [
    {
     "data": {
      "text/plain": [
       "b'<root><child /><child2 /></root>'"
      ]
     },
     "execution_count": 4,
     "metadata": {},
     "output_type": "execute_result"
    }
   ],
   "source": [
    "# xml string\n",
    "\n",
    "ET.tostring(root)"
   ]
  },
  {
   "cell_type": "code",
   "execution_count": 5,
   "metadata": {},
   "outputs": [
    {
     "name": "stdout",
     "output_type": "stream",
     "text": [
      "b'<root><child /><child2 /></root>'\n"
     ]
    }
   ],
   "source": [
    "result_str = ET.tostring(root)\n",
    "\n",
    "print(result_str)"
   ]
  },
  {
   "cell_type": "code",
   "execution_count": 6,
   "metadata": {},
   "outputs": [
    {
     "name": "stdout",
     "output_type": "stream",
     "text": [
      "<root><child /><child2 /></root>\n"
     ]
    }
   ],
   "source": [
    "result_str = ET.tostring(root).decode(\"utf-8\")\n",
    "print(result_str)"
   ]
  },
  {
   "cell_type": "code",
   "execution_count": 7,
   "metadata": {},
   "outputs": [],
   "source": [
    "# To write an xml file\n",
    "with open(\"a_first.xml\", \"w\") as fh:\n",
    "    fh.write(result_str)"
   ]
  },
  {
   "cell_type": "markdown",
   "metadata": {},
   "source": [
    "### Another Example"
   ]
  },
  {
   "cell_type": "code",
   "execution_count": 8,
   "metadata": {},
   "outputs": [
    {
     "data": {
      "text/plain": [
       "b'<root><child1 /><child2 /></root>'"
      ]
     },
     "execution_count": 8,
     "metadata": {},
     "output_type": "execute_result"
    }
   ],
   "source": [
    "rt = ET.Element(\"root\")\n",
    "\n",
    "ch1 = ET.SubElement(rt, \"child1\")\n",
    "ch2 = ET.SubElement(rt, \"child2\")\n",
    "\n",
    "ET.tostring(rt)"
   ]
  },
  {
   "cell_type": "code",
   "execution_count": 10,
   "metadata": {},
   "outputs": [
    {
     "data": {
      "text/plain": [
       "'<root><child1>This is child1</child1><child2 /></root>'"
      ]
     },
     "execution_count": 10,
     "metadata": {},
     "output_type": "execute_result"
    }
   ],
   "source": [
    "rt = ET.Element(\"root\")\n",
    "\n",
    "ch1 = ET.SubElement(rt, \"child1\")\n",
    "ch1.text = \"This is child1\"\n",
    "ch2 = ET.SubElement(rt, \"child2\")\n",
    "\n",
    "ET.tostring(rt).decode(\"utf-8\")"
   ]
  },
  {
   "cell_type": "code",
   "execution_count": 12,
   "metadata": {},
   "outputs": [
    {
     "name": "stdout",
     "output_type": "stream",
     "text": [
      "<root><child1>This is child1</child1><child2>This is child2</child2></root>\n"
     ]
    }
   ],
   "source": [
    "rt = ET.Element(\"root\")\n",
    "\n",
    "ch1 = ET.SubElement(rt, \"child1\")\n",
    "ch1.text = \"This is child1\"\n",
    "ch2 = ET.SubElement(rt, \"child2\")\n",
    "ch2.text = \"This is child2\"\n",
    "\n",
    "print(ET.tostring(rt).decode(\"utf-8\"))"
   ]
  },
  {
   "cell_type": "code",
   "execution_count": 14,
   "metadata": {},
   "outputs": [],
   "source": [
    "with open(\"b_second.xml\", \"wb\") as fh:\n",
    "    fh.write(ET.tostring(rt))"
   ]
  },
  {
   "cell_type": "markdown",
   "metadata": {},
   "source": [
    "### Prettyprint "
   ]
  },
  {
   "cell_type": "code",
   "execution_count": 15,
   "metadata": {},
   "outputs": [
    {
     "name": "stdout",
     "output_type": "stream",
     "text": [
      "<xml.dom.minidom.Document object at 0x7f2a385a0280>\n"
     ]
    }
   ],
   "source": [
    "from xml.dom import minidom\n",
    "\n",
    "\n",
    "xmlstr = minidom.parseString(ET.tostring(rt))\n",
    "\n",
    "print(xmlstr)"
   ]
  },
  {
   "cell_type": "code",
   "execution_count": 17,
   "metadata": {},
   "outputs": [
    {
     "name": "stdout",
     "output_type": "stream",
     "text": [
      "<?xml version=\"1.0\" ?>\n",
      "<root>\n",
      "\t<child1>This is child1</child1>\n",
      "\t<child2>This is child2</child2>\n",
      "</root>\n",
      "\n"
     ]
    }
   ],
   "source": [
    "res = xmlstr.toprettyxml()\n",
    "\n",
    "print(res)"
   ]
  },
  {
   "cell_type": "code",
   "execution_count": 18,
   "metadata": {},
   "outputs": [],
   "source": [
    "with open(\"b_third.xml\", \"w\") as fh:\n",
    "    fh.write(res)"
   ]
  },
  {
   "cell_type": "markdown",
   "metadata": {},
   "source": [
    "##  Parsing XML"
   ]
  },
  {
   "cell_type": "code",
   "execution_count": 19,
   "metadata": {},
   "outputs": [],
   "source": [
    "import xml.etree.ElementTree as ET\n",
    "\n",
    "tree = ET.parse(\"books.xml\")"
   ]
  },
  {
   "cell_type": "code",
   "execution_count": 20,
   "metadata": {},
   "outputs": [
    {
     "data": {
      "text/plain": [
       "<xml.etree.ElementTree.ElementTree at 0x7f2a385635e0>"
      ]
     },
     "execution_count": 20,
     "metadata": {},
     "output_type": "execute_result"
    }
   ],
   "source": [
    "tree"
   ]
  },
  {
   "cell_type": "code",
   "execution_count": 21,
   "metadata": {},
   "outputs": [
    {
     "data": {
      "text/plain": [
       "[<Element 'book' at 0x7f2a38578950>,\n",
       " <Element 'book' at 0x7f2a3859fe20>,\n",
       " <Element 'book' at 0x7f2a3859ff10>,\n",
       " <Element 'book' at 0x7f2a3859d1c0>,\n",
       " <Element 'book' at 0x7f2a3859e750>,\n",
       " <Element 'book' at 0x7f2a3859f510>]"
      ]
     },
     "execution_count": 21,
     "metadata": {},
     "output_type": "execute_result"
    }
   ],
   "source": [
    "# To check for presence of a particular tag in xml file\n",
    "tree.findall(\"book\")"
   ]
  },
  {
   "cell_type": "code",
   "execution_count": 22,
   "metadata": {},
   "outputs": [
    {
     "data": {
      "text/plain": [
       "[]"
      ]
     },
     "execution_count": 22,
     "metadata": {},
     "output_type": "execute_result"
    }
   ],
   "source": [
    "tree.findall(\"title\")"
   ]
  },
  {
   "cell_type": "code",
   "execution_count": 31,
   "metadata": {},
   "outputs": [
    {
     "data": {
      "text/plain": [
       "{'0-596-00128-2': 'Python & XML',\n",
       " '0-596-15810-6': 'Programming Python, 4th Edition',\n",
       " '0-596-15806-8': 'Learning Python, 4th Edition',\n",
       " '0-596-15808-4': 'Python Pocket Reference, 4th Edition',\n",
       " '0-596-00797-3': 'Python Cookbook, 2nd Edition',\n",
       " '0-596-10046-9': 'Python in a Nutshell, 2nd Edition'}"
      ]
     },
     "execution_count": 31,
     "metadata": {},
     "output_type": "execute_result"
    }
   ],
   "source": [
    "books = {}\n",
    "for each in tree.findall(\"book\"):\n",
    "    # print(type(each), each)\n",
    "    # print(each.tag, each.attrib[\"isbn\"])\n",
    "    isbn = each.attrib[\"isbn\"]\n",
    "    for each_sub in each.findall(\"title\"):\n",
    "        book_title = each_sub.text\n",
    "        books[isbn] = book_title\n",
    "\n",
    "books"
   ]
  },
  {
   "cell_type": "code",
   "execution_count": 32,
   "metadata": {},
   "outputs": [
    {
     "data": {
      "text/plain": [
       "{'0-596-00128-2': ('Python & XML', 'Jones, Drake', 'December 2001')}"
      ]
     },
     "execution_count": 32,
     "metadata": {},
     "output_type": "execute_result"
    }
   ],
   "source": [
    "# Assignment: Enhance it by changing the values of books dict\n",
    "# as a tuple containing book_title, author and date\n",
    "\n",
    "{\"0-596-00128-2\": (\"Python & XML\", \"Jones, Drake\", \"December 2001\")}"
   ]
  },
  {
   "cell_type": "markdown",
   "metadata": {},
   "source": [
    "### Parse XMl String"
   ]
  },
  {
   "cell_type": "code",
   "execution_count": 33,
   "metadata": {},
   "outputs": [],
   "source": [
    "input_string = \"\"\"\n",
    "<stuff>\n",
    "    <users>\n",
    "        <user x=\"2\">\n",
    "            <id>001</id>\n",
    "            <name>Udhay</name>\n",
    "        </user>\n",
    "        <user x=\"7\">\n",
    "            <id>009</id>\n",
    "            <name>Prakash</name>\n",
    "        </user>\n",
    "    </users>\n",
    "</stuff>\"\"\""
   ]
  },
  {
   "cell_type": "code",
   "execution_count": 36,
   "metadata": {},
   "outputs": [
    {
     "data": {
      "text/plain": [
       "<Element 'stuff' at 0x7f2a385dc7c0>"
      ]
     },
     "execution_count": 36,
     "metadata": {},
     "output_type": "execute_result"
    }
   ],
   "source": [
    "stuff_tree = ET.fromstring(input_string)\n",
    "\n",
    "stuff_tree"
   ]
  },
  {
   "cell_type": "code",
   "execution_count": 38,
   "metadata": {},
   "outputs": [
    {
     "data": {
      "text/plain": [
       "[<Element 'user' at 0x7f2a385dc450>, <Element 'user' at 0x7f2a385dc9f0>]"
      ]
     },
     "execution_count": 38,
     "metadata": {},
     "output_type": "execute_result"
    }
   ],
   "source": [
    "nodes = stuff_tree.findall(\"users/user\")\n",
    "\n",
    "nodes"
   ]
  },
  {
   "cell_type": "code",
   "execution_count": 39,
   "metadata": {},
   "outputs": [
    {
     "name": "stdout",
     "output_type": "stream",
     "text": [
      "User count: 2\n",
      "\n",
      "Name Udhay\n",
      "Id 001\n",
      "Attribute 2\n",
      "\n",
      "Name Prakash\n",
      "Id 009\n",
      "Attribute 7\n"
     ]
    }
   ],
   "source": [
    "print(\"User count:\", len(nodes))\n",
    "\n",
    "for item in nodes:\n",
    "    print(\"\\nName\", item.find(\"name\").text)\n",
    "    print(\"Id\", item.find(\"id\").text)\n",
    "    print(\"Attribute\", item.get(\"x\"))"
   ]
  },
  {
   "cell_type": "code",
   "execution_count": 40,
   "metadata": {},
   "outputs": [
    {
     "name": "stdout",
     "output_type": "stream",
     "text": [
      "Name: Gudo Van Russum\n",
      "Attr: yes\n"
     ]
    }
   ],
   "source": [
    "data = \"\"\"\n",
    "<person>\n",
    "  <name>Gudo Van Russum</name>\n",
    "  <phone type=\"intl\">\n",
    "     +1 734 808 5456\n",
    "   </phone>\n",
    "   <email hide=\"yes\"/>\n",
    "</person>\"\"\"\n",
    "\n",
    "tree = ET.fromstring(data)\n",
    "\n",
    "print(\"Name:\", tree.find(\"name\").text)\n",
    "print(\"Attr:\", tree.find(\"email\").get(\"hide\"))"
   ]
  },
  {
   "cell_type": "markdown",
   "metadata": {},
   "source": [
    "### Using lxml module"
   ]
  },
  {
   "cell_type": "code",
   "execution_count": 41,
   "metadata": {},
   "outputs": [
    {
     "name": "stdout",
     "output_type": "stream",
     "text": [
      "Collecting lxml\n",
      "  Downloading lxml-4.9.2-cp310-cp310-manylinux_2_17_x86_64.manylinux2014_x86_64.manylinux_2_24_x86_64.whl (7.1 MB)\n",
      "\u001b[2K     \u001b[90m━━━━━━━━━━━━━━━━━━━━━━━━━━━━━━━━━━━━━━━━\u001b[0m \u001b[32m7.1/7.1 MB\u001b[0m \u001b[31m51.5 MB/s\u001b[0m eta \u001b[36m0:00:00\u001b[0m:00:01\u001b[0m00:01\u001b[0m\n",
      "\u001b[?25hInstalling collected packages: lxml\n",
      "Successfully installed lxml-4.9.2\n"
     ]
    }
   ],
   "source": [
    "! pip install -U lxml --user"
   ]
  },
  {
   "cell_type": "code",
   "execution_count": 43,
   "metadata": {},
   "outputs": [],
   "source": [
    "# import lxml\n",
    "\n",
    "from lxml import etree as ET"
   ]
  },
  {
   "cell_type": "code",
   "execution_count": 44,
   "metadata": {},
   "outputs": [
    {
     "data": {
      "text/plain": [
       "<module 'lxml.etree' from '/home/codespace/.local/lib/python3.10/site-packages/lxml/etree.cpython-310-x86_64-linux-gnu.so'>"
      ]
     },
     "execution_count": 44,
     "metadata": {},
     "output_type": "execute_result"
    }
   ],
   "source": [
    "ET"
   ]
  },
  {
   "cell_type": "code",
   "execution_count": 45,
   "metadata": {},
   "outputs": [
    {
     "data": {
      "text/plain": [
       "<Element root at 0x7f2a385365c0>"
      ]
     },
     "execution_count": 45,
     "metadata": {},
     "output_type": "execute_result"
    }
   ],
   "source": [
    "# creating the XML\n",
    "\n",
    "rt = ET.Element(\"root\")\n",
    "\n",
    "ch1 = ET.Element(\"child1\")\n",
    "rt.append(ch1)\n",
    "\n",
    "rt"
   ]
  },
  {
   "cell_type": "code",
   "execution_count": 47,
   "metadata": {},
   "outputs": [
    {
     "name": "stdout",
     "output_type": "stream",
     "text": [
      "<xml.dom.minidom.Document object at 0x7f2a385a0280>\n"
     ]
    }
   ],
   "source": [
    "xml_str = ET.tostring(rt, pretty_print=True).decode(\"utf-8\")\n",
    "\n",
    "print(xmlstr)"
   ]
  },
  {
   "cell_type": "code",
   "execution_count": 50,
   "metadata": {},
   "outputs": [
    {
     "ename": "TypeError",
     "evalue": "append() argument must be xml.etree.ElementTree.Element, not lxml.etree._Element",
     "output_type": "error",
     "traceback": [
      "\u001b[0;31m---------------------------------------------------------------------------\u001b[0m",
      "\u001b[0;31mTypeError\u001b[0m                                 Traceback (most recent call last)",
      "Cell \u001b[0;32mIn[50], line 13\u001b[0m\n\u001b[1;32m      9\u001b[0m child2 \u001b[39m=\u001b[39m ET\u001b[39m.\u001b[39mElement(\u001b[39m\"\u001b[39m\u001b[39mchild2\u001b[39m\u001b[39m\"\u001b[39m)\n\u001b[1;32m     10\u001b[0m child2\u001b[39m.\u001b[39mtext \u001b[39m=\u001b[39m \u001b[39m\"\u001b[39m\u001b[39msome text\u001b[39m\u001b[39m\"\u001b[39m\n\u001b[0;32m---> 13\u001b[0m root\u001b[39m.\u001b[39;49mappend(child2)\n\u001b[1;32m     16\u001b[0m \u001b[39m# pretty string\u001b[39;00m\n\u001b[1;32m     17\u001b[0m s \u001b[39m=\u001b[39m ET\u001b[39m.\u001b[39mtostring(root, pretty_print\u001b[39m=\u001b[39m\u001b[39mTrue\u001b[39;00m)\n",
      "\u001b[0;31mTypeError\u001b[0m: append() argument must be xml.etree.ElementTree.Element, not lxml.etree._Element"
     ]
    }
   ],
   "source": [
    "# creating the XML\n",
    "\n",
    "rt = ET.Element(\"root\")\n",
    "\n",
    "ch1 = ET.Element(\"child1\")\n",
    "rt.append(ch1)\n",
    "\n",
    "# another child with text\n",
    "child2 = ET.Element(\"child2\")\n",
    "child2.text = \"some text\"\n",
    "\n",
    "\n",
    "root.append(child2)\n",
    "\n",
    "\n",
    "# pretty string\n",
    "s = ET.tostring(root, pretty_print=True)\n",
    "# print(s)\n",
    "print(s.decode(\"utf-8\"))"
   ]
  },
  {
   "cell_type": "code",
   "execution_count": 51,
   "metadata": {},
   "outputs": [],
   "source": [
    "## Assignment : use modeule xmltodict for parsing xml"
   ]
  },
  {
   "cell_type": "code",
   "execution_count": 52,
   "metadata": {},
   "outputs": [
    {
     "name": "stdout",
     "output_type": "stream",
     "text": [
      "Collecting xmltodict\n",
      "  Downloading xmltodict-0.13.0-py2.py3-none-any.whl (10.0 kB)\n",
      "Installing collected packages: xmltodict\n",
      "Successfully installed xmltodict-0.13.0\n"
     ]
    }
   ],
   "source": [
    "! pip install -U xmltodict --user"
   ]
  },
  {
   "cell_type": "code",
   "execution_count": 53,
   "metadata": {},
   "outputs": [
    {
     "name": "stdout",
     "output_type": "stream",
     "text": [
      "{'catalog': {'book': [{'@isbn': '0-596-00128-2', 'title': 'Python & XML', 'date': 'December 2001', 'author': 'Jones, Drake'}, {'@isbn': '0-596-15810-6', 'title': 'Programming Python, 4th Edition', 'date': 'October 2010', 'author': 'Lutz'}, {'@isbn': '0-596-15806-8', 'title': 'Learning Python, 4th Edition', 'date': 'September 2009', 'author': 'Lutz'}, {'@isbn': '0-596-15808-4', 'title': 'Python Pocket Reference, 4th Edition', 'date': 'October 2009', 'author': 'Lutz'}, {'@isbn': '0-596-00797-3', 'title': 'Python Cookbook, 2nd Edition', 'date': 'March 2005', 'author': 'Martelli, Ravenscroft, Ascher'}, {'@isbn': '0-596-10046-9', 'title': 'Python in a Nutshell, 2nd Edition', 'date': 'July 2006', 'author': 'Martelli'}]}}\n"
     ]
    }
   ],
   "source": [
    "import xmltodict\n",
    "\n",
    "with open(\"books.xml\", \"r\") as fh:\n",
    "    file_content = fh.read()\n",
    "    doc = xmltodict.parse(file_content)\n",
    "\n",
    "print(doc)"
   ]
  },
  {
   "cell_type": "code",
   "execution_count": 54,
   "metadata": {},
   "outputs": [
    {
     "data": {
      "text/plain": [
       "{'catalog': {'book': [{'@isbn': '0-596-00128-2',\n",
       "    'title': 'Python & XML',\n",
       "    'date': 'December 2001',\n",
       "    'author': 'Jones, Drake'},\n",
       "   {'@isbn': '0-596-15810-6',\n",
       "    'title': 'Programming Python, 4th Edition',\n",
       "    'date': 'October 2010',\n",
       "    'author': 'Lutz'},\n",
       "   {'@isbn': '0-596-15806-8',\n",
       "    'title': 'Learning Python, 4th Edition',\n",
       "    'date': 'September 2009',\n",
       "    'author': 'Lutz'},\n",
       "   {'@isbn': '0-596-15808-4',\n",
       "    'title': 'Python Pocket Reference, 4th Edition',\n",
       "    'date': 'October 2009',\n",
       "    'author': 'Lutz'},\n",
       "   {'@isbn': '0-596-00797-3',\n",
       "    'title': 'Python Cookbook, 2nd Edition',\n",
       "    'date': 'March 2005',\n",
       "    'author': 'Martelli, Ravenscroft, Ascher'},\n",
       "   {'@isbn': '0-596-10046-9',\n",
       "    'title': 'Python in a Nutshell, 2nd Edition',\n",
       "    'date': 'July 2006',\n",
       "    'author': 'Martelli'}]}}"
      ]
     },
     "execution_count": 54,
     "metadata": {},
     "output_type": "execute_result"
    }
   ],
   "source": [
    "doc"
   ]
  },
  {
   "cell_type": "code",
   "execution_count": 55,
   "metadata": {},
   "outputs": [],
   "source": [
    "# Assignment:  explore how to convert the dict ,\n",
    "# back to xml using this xmltodict module.. Hint: unparse()"
   ]
  },
  {
   "cell_type": "code",
   "execution_count": null,
   "metadata": {},
   "outputs": [],
   "source": []
  }
 ],
 "metadata": {
  "kernelspec": {
   "display_name": "Python 3",
   "language": "python",
   "name": "python3"
  },
  "language_info": {
   "codemirror_mode": {
    "name": "ipython",
    "version": 3
   },
   "file_extension": ".py",
   "mimetype": "text/x-python",
   "name": "python",
   "nbconvert_exporter": "python",
   "pygments_lexer": "ipython3",
   "version": "3.10.4"
  },
  "orig_nbformat": 4
 },
 "nbformat": 4,
 "nbformat_minor": 2
}
