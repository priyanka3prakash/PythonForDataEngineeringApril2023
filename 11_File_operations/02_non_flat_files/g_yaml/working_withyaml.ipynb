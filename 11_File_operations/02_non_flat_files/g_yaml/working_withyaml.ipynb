{
 "cells": [
  {
   "attachments": {},
   "cell_type": "markdown",
   "metadata": {},
   "source": [
    "## YAML\n",
    "        - YAML Ain't Markup Language\n",
    "        - human-readable data-serialization language.\n",
    "        - commonly used for configuration files,\n",
    "        - also, in data storage (e.g. debugging output) or transmittion (e.g. document headers)\n",
    "\n",
    "        - natively supports three basic data types:\n",
    "            1. scalars (such as strings, integers, and floats),\n",
    "            2. lists, and\n",
    "            3. associative arrays.\n",
    "\n",
    "    Installation\n",
    "        pip install pyyaml"
   ]
  },
  {
   "cell_type": "code",
   "execution_count": 2,
   "metadata": {},
   "outputs": [],
   "source": [
    "import yaml"
   ]
  },
  {
   "cell_type": "code",
   "execution_count": 3,
   "metadata": {},
   "outputs": [
    {
     "name": "stdout",
     "output_type": "stream",
     "text": [
      "Help on package yaml:\n",
      "\n",
      "NAME\n",
      "    yaml\n",
      "\n",
      "PACKAGE CONTENTS\n",
      "    _yaml\n",
      "    composer\n",
      "    constructor\n",
      "    cyaml\n",
      "    dumper\n",
      "    emitter\n",
      "    error\n",
      "    events\n",
      "    loader\n",
      "    nodes\n",
      "    parser\n",
      "    reader\n",
      "    representer\n",
      "    resolver\n",
      "    scanner\n",
      "    serializer\n",
      "    tokens\n",
      "\n",
      "CLASSES\n",
      "    builtins.object\n",
      "        YAMLObject\n",
      "    builtins.type(builtins.object)\n",
      "        YAMLObjectMetaclass\n",
      "    \n",
      "    class YAMLObject(builtins.object)\n",
      "     |  An object that can dump itself to a YAML stream\n",
      "     |  and load itself from a YAML stream.\n",
      "     |  \n",
      "     |  Class methods defined here:\n",
      "     |  \n",
      "     |  from_yaml(loader, node) from YAMLObjectMetaclass\n",
      "     |      Convert a representation node to a Python object.\n",
      "     |  \n",
      "     |  to_yaml(dumper, data) from YAMLObjectMetaclass\n",
      "     |      Convert a Python object to a representation node.\n",
      "     |  \n",
      "     |  ----------------------------------------------------------------------\n",
      "     |  Data and other attributes defined here:\n",
      "     |  \n",
      "     |  yaml_dumper = <class 'yaml.dumper.Dumper'>\n",
      "     |  \n",
      "     |  yaml_flow_style = None\n",
      "     |  \n",
      "     |  yaml_loader = [<class 'yaml.loader.Loader'>, <class 'yaml.loader.FullL...\n",
      "     |  \n",
      "     |  yaml_tag = None\n",
      "    \n",
      "    class YAMLObjectMetaclass(builtins.type)\n",
      "     |  YAMLObjectMetaclass(name, bases, kwds)\n",
      "     |  \n",
      "     |  The metaclass for YAMLObject.\n",
      "     |  \n",
      "     |  Method resolution order:\n",
      "     |      YAMLObjectMetaclass\n",
      "     |      builtins.type\n",
      "     |      builtins.object\n",
      "     |  \n",
      "     |  Methods defined here:\n",
      "     |  \n",
      "     |  __init__(cls, name, bases, kwds)\n",
      "     |      Initialize self.  See help(type(self)) for accurate signature.\n",
      "     |  \n",
      "     |  ----------------------------------------------------------------------\n",
      "     |  Data and other attributes defined here:\n",
      "     |  \n",
      "     |  __annotations__ = {}\n",
      "     |  \n",
      "     |  ----------------------------------------------------------------------\n",
      "     |  Methods inherited from builtins.type:\n",
      "     |  \n",
      "     |  __call__(self, /, *args, **kwargs)\n",
      "     |      Call self as a function.\n",
      "     |  \n",
      "     |  __delattr__(self, name, /)\n",
      "     |      Implement delattr(self, name).\n",
      "     |  \n",
      "     |  __dir__(self, /)\n",
      "     |      Specialized __dir__ implementation for types.\n",
      "     |  \n",
      "     |  __getattribute__(self, name, /)\n",
      "     |      Return getattr(self, name).\n",
      "     |  \n",
      "     |  __instancecheck__(self, instance, /)\n",
      "     |      Check if an object is an instance.\n",
      "     |  \n",
      "     |  __or__(self, value, /)\n",
      "     |      Return self|value.\n",
      "     |  \n",
      "     |  __repr__(self, /)\n",
      "     |      Return repr(self).\n",
      "     |  \n",
      "     |  __ror__(self, value, /)\n",
      "     |      Return value|self.\n",
      "     |  \n",
      "     |  __setattr__(self, name, value, /)\n",
      "     |      Implement setattr(self, name, value).\n",
      "     |  \n",
      "     |  __sizeof__(self, /)\n",
      "     |      Return memory consumption of the type object.\n",
      "     |  \n",
      "     |  __subclasscheck__(self, subclass, /)\n",
      "     |      Check if a class is a subclass.\n",
      "     |  \n",
      "     |  __subclasses__(self, /)\n",
      "     |      Return a list of immediate subclasses.\n",
      "     |  \n",
      "     |  mro(self, /)\n",
      "     |      Return a type's method resolution order.\n",
      "     |  \n",
      "     |  ----------------------------------------------------------------------\n",
      "     |  Class methods inherited from builtins.type:\n",
      "     |  \n",
      "     |  __prepare__(...) from builtins.type\n",
      "     |      __prepare__() -> dict\n",
      "     |      used to create the namespace for the class statement\n",
      "     |  \n",
      "     |  ----------------------------------------------------------------------\n",
      "     |  Static methods inherited from builtins.type:\n",
      "     |  \n",
      "     |  __new__(*args, **kwargs) from builtins.type\n",
      "     |      Create and return a new object.  See help(type) for accurate signature.\n",
      "     |  \n",
      "     |  ----------------------------------------------------------------------\n",
      "     |  Data descriptors inherited from builtins.type:\n",
      "     |  \n",
      "     |  __abstractmethods__\n",
      "     |  \n",
      "     |  __dict__\n",
      "     |  \n",
      "     |  __text_signature__\n",
      "     |  \n",
      "     |  ----------------------------------------------------------------------\n",
      "     |  Data and other attributes inherited from builtins.type:\n",
      "     |  \n",
      "     |  __base__ = <class 'type'>\n",
      "     |      type(object) -> the object's type\n",
      "     |      type(name, bases, dict, **kwds) -> a new type\n",
      "     |  \n",
      "     |  \n",
      "     |  __bases__ = (<class 'type'>,)\n",
      "     |  \n",
      "     |  __basicsize__ = 888\n",
      "     |  \n",
      "     |  __dictoffset__ = 264\n",
      "     |  \n",
      "     |  __flags__ = 2148029952\n",
      "     |  \n",
      "     |  __itemsize__ = 40\n",
      "     |  \n",
      "     |  __mro__ = (<class 'yaml.YAMLObjectMetaclass'>, <class 'type'>, <class ...\n",
      "     |  \n",
      "     |  __weakrefoffset__ = 368\n",
      "\n",
      "FUNCTIONS\n",
      "    add_constructor(tag, constructor, Loader=None)\n",
      "        Add a constructor for the given tag.\n",
      "        Constructor is a function that accepts a Loader instance\n",
      "        and a node object and produces the corresponding Python object.\n",
      "    \n",
      "    add_implicit_resolver(tag, regexp, first=None, Loader=None, Dumper=<class 'yaml.dumper.Dumper'>)\n",
      "        Add an implicit scalar detector.\n",
      "        If an implicit scalar value matches the given regexp,\n",
      "        the corresponding tag is assigned to the scalar.\n",
      "        first is a sequence of possible initial characters or None.\n",
      "    \n",
      "    add_multi_constructor(tag_prefix, multi_constructor, Loader=None)\n",
      "        Add a multi-constructor for the given tag prefix.\n",
      "        Multi-constructor is called for a node if its tag starts with tag_prefix.\n",
      "        Multi-constructor accepts a Loader instance, a tag suffix,\n",
      "        and a node object and produces the corresponding Python object.\n",
      "    \n",
      "    add_multi_representer(data_type, multi_representer, Dumper=<class 'yaml.dumper.Dumper'>)\n",
      "        Add a representer for the given type.\n",
      "        Multi-representer is a function accepting a Dumper instance\n",
      "        and an instance of the given data type or subtype\n",
      "        and producing the corresponding representation node.\n",
      "    \n",
      "    add_path_resolver(tag, path, kind=None, Loader=None, Dumper=<class 'yaml.dumper.Dumper'>)\n",
      "        Add a path based resolver for the given tag.\n",
      "        A path is a list of keys that forms a path\n",
      "        to a node in the representation tree.\n",
      "        Keys can be string values, integers, or None.\n",
      "    \n",
      "    add_representer(data_type, representer, Dumper=<class 'yaml.dumper.Dumper'>)\n",
      "        Add a representer for the given type.\n",
      "        Representer is a function accepting a Dumper instance\n",
      "        and an instance of the given data type\n",
      "        and producing the corresponding representation node.\n",
      "    \n",
      "    compose(stream, Loader=<class 'yaml.loader.Loader'>)\n",
      "        Parse the first YAML document in a stream\n",
      "        and produce the corresponding representation tree.\n",
      "    \n",
      "    compose_all(stream, Loader=<class 'yaml.loader.Loader'>)\n",
      "        Parse all YAML documents in a stream\n",
      "        and produce corresponding representation trees.\n",
      "    \n",
      "    dump(data, stream=None, Dumper=<class 'yaml.dumper.Dumper'>, **kwds)\n",
      "        Serialize a Python object into a YAML stream.\n",
      "        If stream is None, return the produced string instead.\n",
      "    \n",
      "    dump_all(documents, stream=None, Dumper=<class 'yaml.dumper.Dumper'>, default_style=None, default_flow_style=False, canonical=None, indent=None, width=None, allow_unicode=None, line_break=None, encoding=None, explicit_start=None, explicit_end=None, version=None, tags=None, sort_keys=True)\n",
      "        Serialize a sequence of Python objects into a YAML stream.\n",
      "        If stream is None, return the produced string instead.\n",
      "    \n",
      "    emit(events, stream=None, Dumper=<class 'yaml.dumper.Dumper'>, canonical=None, indent=None, width=None, allow_unicode=None, line_break=None)\n",
      "        Emit YAML parsing events into a stream.\n",
      "        If stream is None, return the produced string instead.\n",
      "    \n",
      "    full_load(stream)\n",
      "        Parse the first YAML document in a stream\n",
      "        and produce the corresponding Python object.\n",
      "        \n",
      "        Resolve all tags except those known to be\n",
      "        unsafe on untrusted input.\n",
      "    \n",
      "    full_load_all(stream)\n",
      "        Parse all YAML documents in a stream\n",
      "        and produce corresponding Python objects.\n",
      "        \n",
      "        Resolve all tags except those known to be\n",
      "        unsafe on untrusted input.\n",
      "    \n",
      "    load(stream, Loader)\n",
      "        Parse the first YAML document in a stream\n",
      "        and produce the corresponding Python object.\n",
      "    \n",
      "    load_all(stream, Loader)\n",
      "        Parse all YAML documents in a stream\n",
      "        and produce corresponding Python objects.\n",
      "    \n",
      "    parse(stream, Loader=<class 'yaml.loader.Loader'>)\n",
      "        Parse a YAML stream and produce parsing events.\n",
      "    \n",
      "    safe_dump(data, stream=None, **kwds)\n",
      "        Serialize a Python object into a YAML stream.\n",
      "        Produce only basic YAML tags.\n",
      "        If stream is None, return the produced string instead.\n",
      "    \n",
      "    safe_dump_all(documents, stream=None, **kwds)\n",
      "        Serialize a sequence of Python objects into a YAML stream.\n",
      "        Produce only basic YAML tags.\n",
      "        If stream is None, return the produced string instead.\n",
      "    \n",
      "    safe_load(stream)\n",
      "        Parse the first YAML document in a stream\n",
      "        and produce the corresponding Python object.\n",
      "        \n",
      "        Resolve only basic YAML tags. This is known\n",
      "        to be safe for untrusted input.\n",
      "    \n",
      "    safe_load_all(stream)\n",
      "        Parse all YAML documents in a stream\n",
      "        and produce corresponding Python objects.\n",
      "        \n",
      "        Resolve only basic YAML tags. This is known\n",
      "        to be safe for untrusted input.\n",
      "    \n",
      "    scan(stream, Loader=<class 'yaml.loader.Loader'>)\n",
      "        Scan a YAML stream and produce scanning tokens.\n",
      "    \n",
      "    serialize(node, stream=None, Dumper=<class 'yaml.dumper.Dumper'>, **kwds)\n",
      "        Serialize a representation tree into a YAML stream.\n",
      "        If stream is None, return the produced string instead.\n",
      "    \n",
      "    serialize_all(nodes, stream=None, Dumper=<class 'yaml.dumper.Dumper'>, canonical=None, indent=None, width=None, allow_unicode=None, line_break=None, encoding=None, explicit_start=None, explicit_end=None, version=None, tags=None)\n",
      "        Serialize a sequence of representation trees into a YAML stream.\n",
      "        If stream is None, return the produced string instead.\n",
      "    \n",
      "    unsafe_load(stream)\n",
      "        Parse the first YAML document in a stream\n",
      "        and produce the corresponding Python object.\n",
      "        \n",
      "        Resolve all tags, even those known to be\n",
      "        unsafe on untrusted input.\n",
      "    \n",
      "    unsafe_load_all(stream)\n",
      "        Parse all YAML documents in a stream\n",
      "        and produce corresponding Python objects.\n",
      "        \n",
      "        Resolve all tags, even those known to be\n",
      "        unsafe on untrusted input.\n",
      "    \n",
      "    warnings(settings=None)\n",
      "        #------------------------------------------------------------------------------\n",
      "        # XXX \"Warnings control\" is now deprecated. Leaving in the API function to not\n",
      "        # break code that uses it.\n",
      "        #------------------------------------------------------------------------------\n",
      "\n",
      "DATA\n",
      "    __with_libyaml__ = True\n",
      "\n",
      "VERSION\n",
      "    6.0\n",
      "\n",
      "FILE\n",
      "    /home/codespace/.local/lib/python3.10/site-packages/yaml/__init__.py\n",
      "\n",
      "\n"
     ]
    }
   ],
   "source": [
    "help(yaml)"
   ]
  },
  {
   "cell_type": "code",
   "execution_count": 4,
   "metadata": {},
   "outputs": [
    {
     "data": {
      "text/plain": [
       "['AliasEvent',\n",
       " 'AliasToken',\n",
       " 'AnchorToken',\n",
       " 'BaseDumper',\n",
       " 'BaseLoader',\n",
       " 'BlockEndToken',\n",
       " 'BlockEntryToken',\n",
       " 'BlockMappingStartToken',\n",
       " 'BlockSequenceStartToken',\n",
       " 'CBaseDumper',\n",
       " 'CBaseLoader',\n",
       " 'CDumper',\n",
       " 'CFullLoader',\n",
       " 'CLoader',\n",
       " 'CSafeDumper',\n",
       " 'CSafeLoader',\n",
       " 'CUnsafeLoader',\n",
       " 'CollectionEndEvent',\n",
       " 'CollectionNode',\n",
       " 'CollectionStartEvent',\n",
       " 'DirectiveToken',\n",
       " 'DocumentEndEvent',\n",
       " 'DocumentEndToken',\n",
       " 'DocumentStartEvent',\n",
       " 'DocumentStartToken',\n",
       " 'Dumper',\n",
       " 'Event',\n",
       " 'FlowEntryToken',\n",
       " 'FlowMappingEndToken',\n",
       " 'FlowMappingStartToken',\n",
       " 'FlowSequenceEndToken',\n",
       " 'FlowSequenceStartToken',\n",
       " 'FullLoader',\n",
       " 'KeyToken',\n",
       " 'Loader',\n",
       " 'MappingEndEvent',\n",
       " 'MappingNode',\n",
       " 'MappingStartEvent',\n",
       " 'Mark',\n",
       " 'MarkedYAMLError',\n",
       " 'Node',\n",
       " 'NodeEvent',\n",
       " 'SafeDumper',\n",
       " 'SafeLoader',\n",
       " 'ScalarEvent',\n",
       " 'ScalarNode',\n",
       " 'ScalarToken',\n",
       " 'SequenceEndEvent',\n",
       " 'SequenceNode',\n",
       " 'SequenceStartEvent',\n",
       " 'StreamEndEvent',\n",
       " 'StreamEndToken',\n",
       " 'StreamStartEvent',\n",
       " 'StreamStartToken',\n",
       " 'TagToken',\n",
       " 'Token',\n",
       " 'UnsafeLoader',\n",
       " 'ValueToken',\n",
       " 'YAMLError',\n",
       " 'YAMLObject',\n",
       " 'YAMLObjectMetaclass',\n",
       " '__builtins__',\n",
       " '__cached__',\n",
       " '__doc__',\n",
       " '__file__',\n",
       " '__loader__',\n",
       " '__name__',\n",
       " '__package__',\n",
       " '__path__',\n",
       " '__spec__',\n",
       " '__version__',\n",
       " '__with_libyaml__',\n",
       " '_yaml',\n",
       " 'add_constructor',\n",
       " 'add_implicit_resolver',\n",
       " 'add_multi_constructor',\n",
       " 'add_multi_representer',\n",
       " 'add_path_resolver',\n",
       " 'add_representer',\n",
       " 'compose',\n",
       " 'compose_all',\n",
       " 'composer',\n",
       " 'constructor',\n",
       " 'cyaml',\n",
       " 'dump',\n",
       " 'dump_all',\n",
       " 'dumper',\n",
       " 'emit',\n",
       " 'emitter',\n",
       " 'error',\n",
       " 'events',\n",
       " 'full_load',\n",
       " 'full_load_all',\n",
       " 'io',\n",
       " 'load',\n",
       " 'load_all',\n",
       " 'loader',\n",
       " 'nodes',\n",
       " 'parse',\n",
       " 'parser',\n",
       " 'reader',\n",
       " 'representer',\n",
       " 'resolver',\n",
       " 'safe_dump',\n",
       " 'safe_dump_all',\n",
       " 'safe_load',\n",
       " 'safe_load_all',\n",
       " 'scan',\n",
       " 'scanner',\n",
       " 'serialize',\n",
       " 'serialize_all',\n",
       " 'serializer',\n",
       " 'tokens',\n",
       " 'unsafe_load',\n",
       " 'unsafe_load_all',\n",
       " 'warnings']"
      ]
     },
     "execution_count": 4,
     "metadata": {},
     "output_type": "execute_result"
    }
   ],
   "source": [
    "dir(yaml)"
   ]
  },
  {
   "cell_type": "code",
   "execution_count": 5,
   "metadata": {},
   "outputs": [
    {
     "name": "stdout",
     "output_type": "stream",
     "text": [
      "raincoat: 1\n",
      "coins: 5\n",
      "books: 23\n",
      "spectacles: 2\n",
      "chairs: 12\n",
      "pens: 6\n"
     ]
    }
   ],
   "source": [
    "! cat items.yaml"
   ]
  },
  {
   "cell_type": "code",
   "execution_count": 7,
   "metadata": {},
   "outputs": [
    {
     "data": {
      "text/plain": [
       "{'raincoat': 1,\n",
       " 'coins': 5,\n",
       " 'books': 23,\n",
       " 'spectacles': 2,\n",
       " 'chairs': 12,\n",
       " 'pens': 6}"
      ]
     },
     "execution_count": 7,
     "metadata": {},
     "output_type": "execute_result"
    }
   ],
   "source": [
    "# scalar values to python dictionary\n",
    "with open(\"items.yaml\") as f:\n",
    "    data = yaml.load(f, Loader=yaml.FullLoader)\n",
    "\n",
    "data"
   ]
  },
  {
   "cell_type": "code",
   "execution_count": 8,
   "metadata": {},
   "outputs": [
    {
     "name": "stdout",
     "output_type": "stream",
     "text": [
      "cities:\n",
      "  - Bratislava\n",
      "  - Kosice\n",
      "  - Trnava\n",
      "  - Moldava\n",
      "  - Trencin\n",
      "---\n",
      "companies:\n",
      "  - Eset\n",
      "  - Slovnaft\n",
      "  - Duslo Sala\n",
      "  - Matador Puchov\n"
     ]
    }
   ],
   "source": [
    "! cat data.yaml"
   ]
  },
  {
   "cell_type": "code",
   "execution_count": 11,
   "metadata": {},
   "outputs": [
    {
     "name": "stdout",
     "output_type": "stream",
     "text": [
      "[{'cities': ['Bratislava', 'Kosice', 'Trnava', 'Moldava', 'Trencin']}, {'companies': ['Eset', 'Slovnaft', 'Duslo Sala', 'Matador Puchov']}]\n"
     ]
    }
   ],
   "source": [
    "with open(\"data.yaml\") as f:\n",
    "    # Multiple YAML documents are read with load_all()\n",
    "    docs = yaml.load_all(f, Loader=yaml.FullLoader)\n",
    "\n",
    "    print(list(docs))"
   ]
  },
  {
   "cell_type": "code",
   "execution_count": 12,
   "metadata": {},
   "outputs": [
    {
     "name": "stdout",
     "output_type": "stream",
     "text": [
      "cities -> ['Bratislava', 'Kosice', 'Trnava', 'Moldava', 'Trencin']\n",
      "companies -> ['Eset', 'Slovnaft', 'Duslo Sala', 'Matador Puchov']\n"
     ]
    }
   ],
   "source": [
    "with open(\"data.yaml\") as f:\n",
    "    # Multiple YAML documents are read with load_all()\n",
    "    docs = yaml.load_all(f, Loader=yaml.FullLoader)\n",
    "\n",
    "    for doc in docs:\n",
    "        for k, v in doc.items():\n",
    "            print(k, \"->\", v)\n"
   ]
  },
  {
   "cell_type": "markdown",
   "metadata": {},
   "source": [
    "### Writng YAML"
   ]
  },
  {
   "cell_type": "code",
   "execution_count": 13,
   "metadata": {},
   "outputs": [
    {
     "name": "stdout",
     "output_type": "stream",
     "text": [
      "- name: John Doe\n",
      "  occupation: gardener\n",
      "- name: Lucy Black\n",
      "  occupation: teacher\n",
      "\n"
     ]
    }
   ],
   "source": [
    "users = [\n",
    "    {\"name\": \"John Doe\", \"occupation\": \"gardener\"},\n",
    "    {\"name\": \"Lucy Black\", \"occupation\": \"teacher\"},\n",
    "]\n",
    "\n",
    "print(yaml.dump(users))"
   ]
  },
  {
   "cell_type": "code",
   "execution_count": 15,
   "metadata": {},
   "outputs": [
    {
     "name": "stdout",
     "output_type": "stream",
     "text": [
      "a: 1\n",
      "b: true\n",
      "c: false\n",
      "d: null\n",
      "\n"
     ]
    }
   ],
   "source": [
    "my_dict = {\"a\": 1, \"b\": True, \"c\": False, \"d\": None}\n",
    "\n",
    "# python object to yaml\n",
    "yaml_string1 = yaml.dump(my_dict)\n",
    "print(yaml_string1)"
   ]
  },
  {
   "cell_type": "code",
   "execution_count": 17,
   "metadata": {},
   "outputs": [
    {
     "name": "stdout",
     "output_type": "stream",
     "text": [
      "a: 1\n",
      "b: true\n",
      "c: false\n",
      "d: null\n",
      "e:\n",
      "  name: Gudo\n",
      "\n"
     ]
    }
   ],
   "source": [
    "my_dict = {\"a\": 1, \"b\": True, \"c\": False, \"d\": None, \"e\": {\"name\": \"Gudo\"}}\n",
    "\n",
    "# python object to yaml\n",
    "yaml_string1 = yaml.dump(my_dict)\n",
    "print(yaml_string1)"
   ]
  },
  {
   "cell_type": "code",
   "execution_count": 19,
   "metadata": {},
   "outputs": [
    {
     "name": "stdout",
     "output_type": "stream",
     "text": [
      "a: 1\n",
      "b: true\n",
      "c: false\n",
      "d: !!python/tuple\n",
      "- null\n",
      "e:\n",
      "  name: Gudo\n",
      "\n"
     ]
    }
   ],
   "source": [
    "my_dict = {\"a\": 1, \"b\": True, \"c\": False, \"d\": (None,),  \n",
    "                                           \"e\": {\"name\": \"Gudo\"}}\n",
    "\n",
    "# python object to yaml\n",
    "yaml_string1 = yaml.dump(my_dict)\n",
    "print(yaml_string1)"
   ]
  },
  {
   "cell_type": "code",
   "execution_count": 20,
   "metadata": {},
   "outputs": [],
   "source": [
    "## Assignment : try all data types on it "
   ]
  },
  {
   "cell_type": "code",
   "execution_count": 22,
   "metadata": {},
   "outputs": [],
   "source": [
    "\n",
    "users = [\n",
    "    {\"name\": \"John Doe\", \"occupation\": \"gardener\"},\n",
    "    {\"name\": \"Lucy Black\", \"occupation\": \"teacher\"},\n",
    "]\n",
    "\n",
    "with open(\"users.yaml\", \"w\") as f:\n",
    "    yaml.dump(users, f)"
   ]
  },
  {
   "cell_type": "code",
   "execution_count": 23,
   "metadata": {},
   "outputs": [
    {
     "name": "stdout",
     "output_type": "stream",
     "text": [
      "- name: John Doe\n",
      "  occupation: gardener\n",
      "- name: Lucy Black\n",
      "  occupation: teacher\n"
     ]
    }
   ],
   "source": [
    "! cat users.yaml"
   ]
  },
  {
   "cell_type": "markdown",
   "metadata": {},
   "source": [
    "## sorting keys"
   ]
  },
  {
   "cell_type": "code",
   "execution_count": 26,
   "metadata": {},
   "outputs": [
    {
     "name": "stdout",
     "output_type": "stream",
     "text": [
      "{'raincoat': 1, 'coins': 5, 'books': 23, 'spectacles': 2, 'chairs': 12, 'pens': 6}\n"
     ]
    }
   ],
   "source": [
    "with open(\"items.yaml\") as f:\n",
    "    data = yaml.load(f, Loader=yaml.FullLoader)\n",
    "    print(data)\n",
    "\n",
    "    yaml.dump(data, sort_keys=True)\n"
   ]
  },
  {
   "cell_type": "markdown",
   "metadata": {},
   "source": [
    "# JSON TO YAML conversion"
   ]
  },
  {
   "cell_type": "code",
   "execution_count": null,
   "metadata": {},
   "outputs": [],
   "source": []
  }
 ],
 "metadata": {
  "kernelspec": {
   "display_name": "Python 3",
   "language": "python",
   "name": "python3"
  },
  "language_info": {
   "codemirror_mode": {
    "name": "ipython",
    "version": 3
   },
   "file_extension": ".py",
   "mimetype": "text/x-python",
   "name": "python",
   "nbconvert_exporter": "python",
   "pygments_lexer": "ipython3",
   "version": "3.10.4"
  },
  "orig_nbformat": 4
 },
 "nbformat": 4,
 "nbformat_minor": 2
}
