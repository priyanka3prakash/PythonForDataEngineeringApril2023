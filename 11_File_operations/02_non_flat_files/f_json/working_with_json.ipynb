{
 "cells": [
  {
   "cell_type": "code",
   "execution_count": 1,
   "metadata": {},
   "outputs": [],
   "source": [
    "import json"
   ]
  },
  {
   "cell_type": "code",
   "execution_count": 2,
   "metadata": {},
   "outputs": [
    {
     "data": {
      "text/plain": [
       "['JSONDecodeError',\n",
       " 'JSONDecoder',\n",
       " 'JSONEncoder',\n",
       " '__all__',\n",
       " '__author__',\n",
       " '__builtins__',\n",
       " '__cached__',\n",
       " '__doc__',\n",
       " '__file__',\n",
       " '__loader__',\n",
       " '__name__',\n",
       " '__package__',\n",
       " '__path__',\n",
       " '__spec__',\n",
       " '__version__',\n",
       " '_default_decoder',\n",
       " '_default_encoder',\n",
       " 'codecs',\n",
       " 'decoder',\n",
       " 'detect_encoding',\n",
       " 'dump',\n",
       " 'dumps',\n",
       " 'encoder',\n",
       " 'load',\n",
       " 'loads',\n",
       " 'scanner']"
      ]
     },
     "execution_count": 2,
     "metadata": {},
     "output_type": "execute_result"
    }
   ],
   "source": [
    "dir(json)"
   ]
  },
  {
   "cell_type": "code",
   "execution_count": 3,
   "metadata": {},
   "outputs": [
    {
     "data": {
      "text/plain": [
       "{'title': 'Python Programming Essentials',\n",
       " 'tags': ('Python', 'Programming'),\n",
       " 'published': True,\n",
       " 'comment_link': None,\n",
       " 'author': 'Udhay',\n",
       " 'id': 786}"
      ]
     },
     "execution_count": 3,
     "metadata": {},
     "output_type": "execute_result"
    }
   ],
   "source": [
    "book = {}\n",
    "book[\"title\"] = \"Python Programming Essentials\"\n",
    "book[\"tags\"] = (\"Python\", \"Programming\")\n",
    "book[\"published\"] = True\n",
    "book[\"comment_link\"] = None\n",
    "book[\"author\"] = \"Udhay\"\n",
    "book[\"id\"] = 786\n",
    "\n",
    "\n",
    "book"
   ]
  },
  {
   "cell_type": "code",
   "execution_count": 5,
   "metadata": {},
   "outputs": [
    {
     "data": {
      "text/plain": [
       "'{\"title\": \"Python Programming Essentials\", \"tags\": [\"Python\", \"Programming\"], \"published\": true, \"comment_link\": null, \"author\": \"Udhay\", \"id\": 786}'"
      ]
     },
     "execution_count": 5,
     "metadata": {},
     "output_type": "execute_result"
    }
   ],
   "source": [
    "book_str = json.dumps(book)\n",
    "\n",
    "book_str"
   ]
  },
  {
   "cell_type": "code",
   "execution_count": 6,
   "metadata": {},
   "outputs": [
    {
     "data": {
      "text/plain": [
       "{'title': 'Python Programming Essentials',\n",
       " 'tags': ['Python', 'Programming'],\n",
       " 'published': True,\n",
       " 'comment_link': None,\n",
       " 'author': 'Udhay',\n",
       " 'id': 786}"
      ]
     },
     "execution_count": 6,
     "metadata": {},
     "output_type": "execute_result"
    }
   ],
   "source": [
    "json.loads(book_str)"
   ]
  },
  {
   "cell_type": "code",
   "execution_count": 7,
   "metadata": {},
   "outputs": [],
   "source": [
    "# Serilazation\n",
    "with open(\"ebook.json\", \"w\") as f:\n",
    "    json.dump(book, f)"
   ]
  },
  {
   "cell_type": "code",
   "execution_count": 8,
   "metadata": {},
   "outputs": [
    {
     "name": "stdout",
     "output_type": "stream",
     "text": [
      "{\"title\": \"Python Programming Essentials\", \"tags\": [\"Python\", \"Programming\"], \"published\": true, \"comment_link\": null, \"author\": \"Udhay\", \"id\": 786}"
     ]
    }
   ],
   "source": [
    "! cat ebook.json"
   ]
  },
  {
   "cell_type": "code",
   "execution_count": 9,
   "metadata": {},
   "outputs": [],
   "source": [
    "# Serilazation\n",
    "with open(\"ebook.json\", \"w\") as f:\n",
    "    json.dump(book, f, sort_keys=True)"
   ]
  },
  {
   "cell_type": "code",
   "execution_count": 10,
   "metadata": {},
   "outputs": [
    {
     "name": "stdout",
     "output_type": "stream",
     "text": [
      "{\"author\": \"Udhay\", \"comment_link\": null, \"id\": 786, \"published\": true, \"tags\": [\"Python\", \"Programming\"], \"title\": \"Python Programming Essentials\"}"
     ]
    }
   ],
   "source": [
    "! cat ebook.json"
   ]
  },
  {
   "cell_type": "code",
   "execution_count": 11,
   "metadata": {},
   "outputs": [],
   "source": [
    "# Serilazation\n",
    "with open(\"ebook.json\", \"w\") as f:\n",
    "    json.dump(book, f, sort_keys=True, indent=4)"
   ]
  },
  {
   "cell_type": "code",
   "execution_count": 12,
   "metadata": {},
   "outputs": [
    {
     "name": "stdout",
     "output_type": "stream",
     "text": [
      "{\n",
      "    \"author\": \"Udhay\",\n",
      "    \"comment_link\": null,\n",
      "    \"id\": 786,\n",
      "    \"published\": true,\n",
      "    \"tags\": [\n",
      "        \"Python\",\n",
      "        \"Programming\"\n",
      "    ],\n",
      "    \"title\": \"Python Programming Essentials\"\n",
      "}"
     ]
    }
   ],
   "source": [
    "! cat ebook.json"
   ]
  },
  {
   "cell_type": "code",
   "execution_count": 13,
   "metadata": {},
   "outputs": [
    {
     "name": "stdout",
     "output_type": "stream",
     "text": [
      "\n",
      "deserializing the json data \n",
      "\n"
     ]
    },
    {
     "data": {
      "text/plain": [
       "{'author': 'Udhay',\n",
       " 'comment_link': None,\n",
       " 'id': 786,\n",
       " 'published': True,\n",
       " 'tags': ['Python', 'Programming'],\n",
       " 'title': 'Python Programming Essentials'}"
      ]
     },
     "execution_count": 13,
     "metadata": {},
     "output_type": "execute_result"
    }
   ],
   "source": [
    "# De-serialization\n",
    "print(\"\\ndeserializing the json data \\n\")\n",
    "with open(\"ebook.json\", \"rb\") as g:\n",
    "    data = json.load(g)\n",
    "\n",
    "data"
   ]
  },
  {
   "cell_type": "code",
   "execution_count": 14,
   "metadata": {},
   "outputs": [
    {
     "data": {
      "text/plain": [
       "dict"
      ]
     },
     "execution_count": 14,
     "metadata": {},
     "output_type": "execute_result"
    }
   ],
   "source": [
    "type(data)"
   ]
  },
  {
   "cell_type": "markdown",
   "metadata": {},
   "source": [
    "### working with different data types , for Serialization"
   ]
  },
  {
   "cell_type": "code",
   "execution_count": 17,
   "metadata": {},
   "outputs": [
    {
     "data": {
      "text/plain": [
       "'{\\n  \"101\": {\\n    \"result\": true,\\n    \"class\": \"V\",\\n    \"Name\": \"Rohit\",\\n    \"Roll_no\": 7\\n  },\\n  \"103\": {\\n    \"result\": false,\\n    \"class\": \"V\",\\n    \"Name\": \"Samiya\",\\n    \"Roll_no\": 12,\\n    \"102\": {\\n      \"result\": true,\\n      \"class\": \"V\",\\n      \"Name\": \"David\",\\n      \"Roll_no\": 8\\n    }\\n  }\\n}'"
      ]
     },
     "execution_count": 17,
     "metadata": {},
     "output_type": "execute_result"
    }
   ],
   "source": [
    "student = {\n",
    "    \"101\": {\"result\": True, \"class\": \"V\", \"Name\": \"Rohit\", \"Roll_no\": 7},\n",
    "    \"103\": {\n",
    "        \"result\": False,\n",
    "        \"class\": \"V\",\n",
    "        \"Name\": \"Samiya\",\n",
    "        \"Roll_no\": 12,\n",
    "        \"102\": {\"result\": True, \"class\": \"V\", \"Name\": \"David\", \"Roll_no\": 8},\n",
    "    },\n",
    "}\n",
    "\n",
    "json.dumps(student, indent=2)"
   ]
  },
  {
   "cell_type": "code",
   "execution_count": 18,
   "metadata": {},
   "outputs": [
    {
     "name": "stdout",
     "output_type": "stream",
     "text": [
      "{\n",
      "  \"101\": {\n",
      "    \"result\": true,\n",
      "    \"class\": \"V\",\n",
      "    \"Name\": \"Rohit\",\n",
      "    \"Roll_no\": 7\n",
      "  },\n",
      "  \"103\": {\n",
      "    \"result\": false,\n",
      "    \"class\": \"V\",\n",
      "    \"Name\": \"Samiya\",\n",
      "    \"Roll_no\": 12,\n",
      "    \"102\": {\n",
      "      \"result\": true,\n",
      "      \"class\": \"V\",\n",
      "      \"Name\": \"David\",\n",
      "      \"Roll_no\": 8\n",
      "    }\n",
      "  }\n",
      "}\n"
     ]
    }
   ],
   "source": [
    "print(json.dumps(student, indent=2))"
   ]
  },
  {
   "cell_type": "code",
   "execution_count": 19,
   "metadata": {},
   "outputs": [
    {
     "name": "stdout",
     "output_type": "stream",
     "text": [
      "[\"Red\", \"Black\", \"White\"]\n"
     ]
    }
   ],
   "source": [
    "# Python tuple to JSON array\n",
    "\n",
    "tup1 = \"Red\", \"Black\", \"White\"\n",
    "print(json.dumps(tup1))"
   ]
  },
  {
   "cell_type": "code",
   "execution_count": 20,
   "metadata": {},
   "outputs": [
    {
     "name": "stdout",
     "output_type": "stream",
     "text": [
      "\"Python and JSON\"\n"
     ]
    }
   ],
   "source": [
    "# Python string to JSON string\n",
    "string1 = \"Python and JSON\"\n",
    "print(json.dumps(string1))"
   ]
  },
  {
   "cell_type": "code",
   "execution_count": 21,
   "metadata": {},
   "outputs": [
    {
     "name": "stdout",
     "output_type": "stream",
     "text": [
      "true\n",
      "false\n"
     ]
    }
   ],
   "source": [
    "# Python Boolean values to JSON Boolean values\n",
    "x = True\n",
    "print((json.dumps(x)))\n",
    "\n",
    "x = False\n",
    "print((json.dumps(x)))"
   ]
  },
  {
   "cell_type": "code",
   "execution_count": 22,
   "metadata": {},
   "outputs": [
    {
     "name": "stdout",
     "output_type": "stream",
     "text": [
      "-456\n",
      "-1.406\n",
      "2.12e-10\n"
     ]
    }
   ],
   "source": [
    "# Python int, float, int- & float-derived Enums to JSON number\n",
    "x = -456\n",
    "y = -1.406\n",
    "z = 2.12e-10\n",
    "print((json.dumps(x)))\n",
    "print((json.dumps(y)))\n",
    "print((json.dumps(z)))"
   ]
  },
  {
   "attachments": {},
   "cell_type": "markdown",
   "metadata": {},
   "source": [
    "```\n",
    "    json to python object conversion pairs:\n",
    "    JSON\t        Python\n",
    "    ----------------------\n",
    "    object\t        dict\n",
    "    array\t        list\n",
    "    array\t        tuple\n",
    "    string\t        str\n",
    "    number(int)\t    int\n",
    "    number(real)\tfloat\n",
    "    true\t        True\n",
    "    false\t        False\n",
    "    null\t        None\n",
    "```"
   ]
  },
  {
   "cell_type": "code",
   "execution_count": 23,
   "metadata": {},
   "outputs": [
    {
     "name": "stdout",
     "output_type": "stream",
     "text": [
      "{'103': {'class': 'V', 'Name': 'Samiya', 'Roll_n': 12}, '102': {'class': 'V', 'Name': 'David', 'Roll_no': 8}, '101': {'class': 'V', 'Name': 'Rohit', 'Roll_no': 7}}\n"
     ]
    }
   ],
   "source": [
    "# JSON strings to Python Dictionaries\n",
    "json_data = '{\"103\": {\"class\": \"V\", \"Name\": \"Samiya\", \"Roll_n\": 12}, \"102\": {\"class\": \"V\", \"Name\": \"David\", \"Roll_no\": 8}, \"101\": {\"class\": \"V\", \"Name\": \"Rohit\", \"Roll_no\": 7}}'\n",
    "print(json.loads(json_data))"
   ]
  },
  {
   "cell_type": "code",
   "execution_count": 26,
   "metadata": {},
   "outputs": [
    {
     "name": "stdout",
     "output_type": "stream",
     "text": [
      "[\"Red\", \"Black\", \"White\"]\n"
     ]
    }
   ],
   "source": [
    "# JSON array Python tuple\n",
    "Json_array = [\"Red\", \"Black\", \"White\"]\n",
    "print((json.dumps(Json_array)))"
   ]
  },
  {
   "cell_type": "code",
   "execution_count": 27,
   "metadata": {},
   "outputs": [
    {
     "data": {
      "text/plain": [
       "'[\"foo\", {\"bar\": [\"baz\", null, 1.0, 2]}]'"
      ]
     },
     "execution_count": 27,
     "metadata": {},
     "output_type": "execute_result"
    }
   ],
   "source": [
    "json.dumps([\"foo\", {\"bar\": (\"baz\", None, 1.0, 2)}])"
   ]
  },
  {
   "cell_type": "code",
   "execution_count": 28,
   "metadata": {},
   "outputs": [
    {
     "name": "stdout",
     "output_type": "stream",
     "text": [
      "\"\\\\\"\n"
     ]
    }
   ],
   "source": [
    "print(json.dumps(\"\\\\\"))"
   ]
  },
  {
   "cell_type": "code",
   "execution_count": 29,
   "metadata": {},
   "outputs": [
    {
     "name": "stdout",
     "output_type": "stream",
     "text": [
      "\"\\u1234\"\n"
     ]
    }
   ],
   "source": [
    "print(json.dumps(\"\\u1234\"))"
   ]
  },
  {
   "cell_type": "code",
   "execution_count": 30,
   "metadata": {},
   "outputs": [
    {
     "name": "stdout",
     "output_type": "stream",
     "text": [
      "{\"a\": 0, \"b\": 0, \"c\": 0}\n"
     ]
    }
   ],
   "source": [
    "print(json.dumps({\"c\": 0, \"b\": 0, \"a\": 0}, sort_keys=True))"
   ]
  },
  {
   "cell_type": "code",
   "execution_count": 32,
   "metadata": {},
   "outputs": [
    {
     "data": {
      "text/plain": [
       "'[1, 2, 3, {\"4\": 5, \"6\": 7}]'"
      ]
     },
     "execution_count": 32,
     "metadata": {},
     "output_type": "execute_result"
    }
   ],
   "source": [
    "json.dumps([1, 2, 3, {\"4\": 5, \"6\": 7}])"
   ]
  },
  {
   "cell_type": "code",
   "execution_count": 31,
   "metadata": {},
   "outputs": [
    {
     "name": "stdout",
     "output_type": "stream",
     "text": [
      "[1,2,3,{\"4\":5,\"6\":7}]\n"
     ]
    }
   ],
   "source": [
    "data = json.dumps([1, 2, 3, {\"4\": 5, \"6\": 7}], separators=(\",\", \":\"))\n",
    "print(data)"
   ]
  },
  {
   "cell_type": "code",
   "execution_count": 33,
   "metadata": {},
   "outputs": [
    {
     "name": "stdout",
     "output_type": "stream",
     "text": [
      "{\n",
      "    \"6\": 7,\n",
      "    \"44\": 5\n",
      "}\n"
     ]
    }
   ],
   "source": [
    "# pretty printing\n",
    "print(json.dumps({44: 5, 6: 7}, sort_keys=True, indent=4, separators=(\",\", \": \")))"
   ]
  },
  {
   "cell_type": "code",
   "execution_count": null,
   "metadata": {},
   "outputs": [],
   "source": []
  }
 ],
 "metadata": {
  "kernelspec": {
   "display_name": "Python 3",
   "language": "python",
   "name": "python3"
  },
  "language_info": {
   "codemirror_mode": {
    "name": "ipython",
    "version": 3
   },
   "file_extension": ".py",
   "mimetype": "text/x-python",
   "name": "python",
   "nbconvert_exporter": "python",
   "pygments_lexer": "ipython3",
   "version": "3.10.4"
  },
  "orig_nbformat": 4
 },
 "nbformat": 4,
 "nbformat_minor": 2
}
