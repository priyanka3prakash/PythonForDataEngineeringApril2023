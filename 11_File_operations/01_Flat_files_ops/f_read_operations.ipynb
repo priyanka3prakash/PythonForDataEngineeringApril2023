{
 "cells": [
  {
   "attachments": {},
   "cell_type": "markdown",
   "metadata": {},
   "source": [
    "## file read operations\n",
    "\n",
    "    multiple ways of file read operations\n",
    "        possible modes: r, r+\n",
    "\n",
    "        fh.read()\n",
    "        fh.readline()\n",
    "        fh.readlines()"
   ]
  },
  {
   "cell_type": "code",
   "execution_count": 1,
   "metadata": {},
   "outputs": [
    {
     "name": "stdout",
     "output_type": "stream",
     "text": [
      "fh.writable() =False\n",
      "fh.readable() =True\n"
     ]
    }
   ],
   "source": [
    "fh = open(\"e_write_multiple_lines.upp\", mode=\"r\")\n",
    "\n",
    "print(f\"{fh.writable() =}\")  # False\n",
    "print(f\"{fh.readable() =}\")  # True"
   ]
  },
  {
   "cell_type": "code",
   "execution_count": 2,
   "metadata": {},
   "outputs": [
    {
     "name": "stdout",
     "output_type": "stream",
     "text": [
      "type(complete_content) =<class 'str'>\n",
      "Initially complete_content       ='first line 1111111\\nsecond\\nthird\\nfourth\\nfifth\\nsixth\\n'\n"
     ]
    }
   ],
   "source": [
    "complete_content = fh.read()\n",
    "print(f\"{type(complete_content) =}\")\n",
    "print(f\"Initially {complete_content       =}\")"
   ]
  },
  {
   "cell_type": "code",
   "execution_count": 3,
   "metadata": {},
   "outputs": [
    {
     "name": "stdout",
     "output_type": "stream",
     "text": [
      "Again     complete_content       =''\n"
     ]
    }
   ],
   "source": [
    "complete_content = fh.read()\n",
    "print(f\"Again     {complete_content       =}\")"
   ]
  },
  {
   "cell_type": "code",
   "execution_count": 4,
   "metadata": {},
   "outputs": [
    {
     "name": "stdout",
     "output_type": "stream",
     "text": [
      "before fh.tell() 51\n",
      "after  fh.tell() 0\n"
     ]
    }
   ],
   "source": [
    "print(\"before fh.tell()\", fh.tell())\n",
    "fh.seek(0)\n",
    "print(\"after  fh.tell()\", fh.tell())"
   ]
  },
  {
   "cell_type": "code",
   "execution_count": 5,
   "metadata": {},
   "outputs": [
    {
     "name": "stdout",
     "output_type": "stream",
     "text": [
      "Again     complete_content       ='first line 1111111\\nsecond\\nthird\\nfourth\\nfifth\\nsixth\\n'\n"
     ]
    }
   ],
   "source": [
    "complete_content = fh.read()\n",
    "print(f\"Again     {complete_content       =}\")"
   ]
  },
  {
   "cell_type": "code",
   "execution_count": 6,
   "metadata": {},
   "outputs": [
    {
     "name": "stdout",
     "output_type": "stream",
     "text": [
      "before fh.tell() 51\n",
      "after fh.tell() 29\n"
     ]
    }
   ],
   "source": [
    "print(\"before fh.tell()\", fh.tell())\n",
    "fh.seek(29)\n",
    "print(\"after fh.tell()\", fh.tell())"
   ]
  },
  {
   "cell_type": "code",
   "execution_count": 7,
   "metadata": {},
   "outputs": [
    {
     "name": "stdout",
     "output_type": "stream",
     "text": [
      "partial_content = 'rd\\nfourth\\nfifth\\nsixth\\n'\n"
     ]
    }
   ],
   "source": [
    "# reads from cursor position till EOF\n",
    "partial_content = fh.read()\n",
    "print(f\"{partial_content = }\")"
   ]
  },
  {
   "cell_type": "code",
   "execution_count": 8,
   "metadata": {},
   "outputs": [
    {
     "name": "stdout",
     "output_type": "stream",
     "text": [
      "before fh.tell() 51\n",
      "after fh.tell() 29\n"
     ]
    }
   ],
   "source": [
    "print(\"before fh.tell()\", fh.tell())\n",
    "fh.seek(29)\n",
    "print(\"after fh.tell()\", fh.tell())"
   ]
  },
  {
   "cell_type": "code",
   "execution_count": 9,
   "metadata": {},
   "outputs": [
    {
     "name": "stdout",
     "output_type": "stream",
     "text": [
      "\n",
      "partial_content = 'rd\\nfourth\\nfi'\n"
     ]
    }
   ],
   "source": [
    "# To read specific no. of character from cursor position\n",
    "partial_content = fh.read(12)\n",
    "print(f\"\\n{partial_content = }\")"
   ]
  },
  {
   "cell_type": "code",
   "execution_count": 10,
   "metadata": {},
   "outputs": [
    {
     "name": "stdout",
     "output_type": "stream",
     "text": [
      "\n",
      "partial_content = 'fth\\nsi'\n"
     ]
    }
   ],
   "source": [
    "partial_content = fh.read(6)\n",
    "print(f\"\\n{partial_content = }\")"
   ]
  },
  {
   "cell_type": "code",
   "execution_count": 11,
   "metadata": {},
   "outputs": [],
   "source": [
    "fh.close()"
   ]
  },
  {
   "cell_type": "code",
   "execution_count": 12,
   "metadata": {},
   "outputs": [],
   "source": [
    "# The seek() method accepts two arguments:\n",
    "\n",
    "# offset – A number of bytes from whence\n",
    "# whence – The reference point\n",
    "# You can set whence to these three values:\n",
    "\n",
    "# 0 – The beginning of the file (default)\n",
    "# 1 – The current file position\n",
    "# 2 – The end of the file"
   ]
  },
  {
   "cell_type": "code",
   "execution_count": null,
   "metadata": {},
   "outputs": [],
   "source": []
  }
 ],
 "metadata": {
  "kernelspec": {
   "display_name": "Python 3",
   "language": "python",
   "name": "python3"
  },
  "language_info": {
   "codemirror_mode": {
    "name": "ipython",
    "version": 3
   },
   "file_extension": ".py",
   "mimetype": "text/x-python",
   "name": "python",
   "nbconvert_exporter": "python",
   "pygments_lexer": "ipython3",
   "version": "3.10.4"
  },
  "orig_nbformat": 4
 },
 "nbformat": 4,
 "nbformat_minor": 2
}
