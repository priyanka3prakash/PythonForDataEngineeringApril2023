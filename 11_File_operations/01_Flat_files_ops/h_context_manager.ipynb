{
 "cells": [
  {
   "attachments": {},
   "cell_type": "markdown",
   "metadata": {},
   "source": [
    "## Context Manager\n",
    "\n",
    "    Q) what is the interval at which the garbage collector will check for unreferenced objects\n",
    "    Ans) depends on the system clock cycle\n",
    "            2.3 GHz"
   ]
  },
  {
   "cell_type": "code",
   "execution_count": 1,
   "metadata": {},
   "outputs": [
    {
     "name": "stdout",
     "output_type": "stream",
     "text": [
      "first line 1111111\n",
      "second\n",
      "third\n",
      "fourth\n",
      "fifth\n",
      "sixth\n",
      "\n"
     ]
    }
   ],
   "source": [
    "# Method 1: traditional\n",
    "try:\n",
    "    fh = open(\"e_write_multiple_lines.upp\", \"r\")\n",
    "\n",
    "    data = fh.read()\n",
    "    print(data)\n",
    "finally:\n",
    "    fh.close()"
   ]
  },
  {
   "cell_type": "code",
   "execution_count": 2,
   "metadata": {},
   "outputs": [
    {
     "ename": "ValueError",
     "evalue": "I/O operation on closed file.",
     "output_type": "error",
     "traceback": [
      "\u001b[0;31m---------------------------------------------------------------------------\u001b[0m",
      "\u001b[0;31mValueError\u001b[0m                                Traceback (most recent call last)",
      "Cell \u001b[0;32mIn[2], line 1\u001b[0m\n\u001b[0;32m----> 1\u001b[0m fh\u001b[39m.\u001b[39;49mread()\n",
      "\u001b[0;31mValueError\u001b[0m: I/O operation on closed file."
     ]
    }
   ],
   "source": [
    "fh.read()"
   ]
  },
  {
   "cell_type": "code",
   "execution_count": 5,
   "metadata": {},
   "outputs": [
    {
     "name": "stdout",
     "output_type": "stream",
     "text": [
      "first line 1111111\n",
      "second\n",
      "third\n",
      "fourth\n",
      "fifth\n",
      "sixth\n",
      "\n"
     ]
    }
   ],
   "source": [
    "# Method 2: with context manager\n",
    "\n",
    "with open(\"e_write_multiple_lines.upp\", \"r\") as gh:\n",
    "    data = gh.read()\n",
    "\n",
    "\n",
    "print(data)"
   ]
  },
  {
   "cell_type": "code",
   "execution_count": 6,
   "metadata": {},
   "outputs": [
    {
     "data": {
      "text/plain": [
       "True"
      ]
     },
     "execution_count": 6,
     "metadata": {},
     "output_type": "execute_result"
    }
   ],
   "source": [
    "gh.closed"
   ]
  },
  {
   "cell_type": "code",
   "execution_count": 7,
   "metadata": {},
   "outputs": [
    {
     "ename": "ValueError",
     "evalue": "I/O operation on closed file.",
     "output_type": "error",
     "traceback": [
      "\u001b[0;31m---------------------------------------------------------------------------\u001b[0m",
      "\u001b[0;31mValueError\u001b[0m                                Traceback (most recent call last)",
      "Cell \u001b[0;32mIn[7], line 1\u001b[0m\n\u001b[0;32m----> 1\u001b[0m gh\u001b[39m.\u001b[39;49mread()\n",
      "\u001b[0;31mValueError\u001b[0m: I/O operation on closed file."
     ]
    }
   ],
   "source": [
    "gh.read()"
   ]
  },
  {
   "cell_type": "code",
   "execution_count": 8,
   "metadata": {},
   "outputs": [],
   "source": [
    "# -----------------------------------------------\n",
    "# Method 1: traditionally\n",
    "gh = open(\"h_context_manager.txt\", \"w\", encoding=\"utf_8\")\n",
    "# gh.writelines(['1', '2', '3', '4'])\n",
    "gh.writelines([\"1\\n\", \"2\\n\", \"3\\n\", \"4\\n\"])\n",
    "gh.flush()\n",
    "gh.close()\n",
    "# gh.write('next') # ValueError: I/O operation on closed file."
   ]
  },
  {
   "cell_type": "code",
   "execution_count": 9,
   "metadata": {},
   "outputs": [],
   "source": [
    "# Method 2: Using context manager\n",
    "with open(\"h_context_manager.txt\", \"w\", encoding=\"utf_8\") as gh:\n",
    "    gh.writelines([\"1\", \"2\", \"3\", \"4\"])\n",
    "\n",
    "# gh.write('next') # ValueError: I/O operation on closed file."
   ]
  },
  {
   "cell_type": "code",
   "execution_count": 10,
   "metadata": {},
   "outputs": [],
   "source": [
    "# NOTE: Even though context manager will close the file handler,\n",
    "# PEP 8 recommends to close explicitly"
   ]
  },
  {
   "cell_type": "code",
   "execution_count": null,
   "metadata": {},
   "outputs": [],
   "source": []
  }
 ],
 "metadata": {
  "kernelspec": {
   "display_name": "Python 3",
   "language": "python",
   "name": "python3"
  },
  "language_info": {
   "codemirror_mode": {
    "name": "ipython",
    "version": 3
   },
   "file_extension": ".py",
   "mimetype": "text/x-python",
   "name": "python",
   "nbconvert_exporter": "python",
   "pygments_lexer": "ipython3",
   "version": "3.10.4"
  },
  "orig_nbformat": 4
 },
 "nbformat": 4,
 "nbformat_minor": 2
}
