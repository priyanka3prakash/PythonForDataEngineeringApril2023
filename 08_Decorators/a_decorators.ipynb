{
 "cells": [
  {
   "cell_type": "code",
   "execution_count": 1,
   "metadata": {},
   "outputs": [],
   "source": [
    "\n",
    "def add(a, b):\n",
    "    return a + b\n",
    "\n",
    "def div(n1, n2):\n",
    "    return n1 / n2\n"
   ]
  },
  {
   "cell_type": "code",
   "execution_count": 2,
   "metadata": {},
   "outputs": [
    {
     "name": "stdout",
     "output_type": "stream",
     "text": [
      "25\n",
      "25.8\n",
      "onetwo\n"
     ]
    }
   ],
   "source": [
    "print(add(12, 13))\n",
    "print(add(12.3, 13.5))\n",
    "print(add(\"one\", \"two\"))"
   ]
  },
  {
   "cell_type": "code",
   "execution_count": 3,
   "metadata": {},
   "outputs": [
    {
     "ename": "TypeError",
     "evalue": "can only concatenate str (not \"int\") to str",
     "output_type": "error",
     "traceback": [
      "\u001b[0;31m---------------------------------------------------------------------------\u001b[0m",
      "\u001b[0;31mTypeError\u001b[0m                                 Traceback (most recent call last)",
      "Cell \u001b[0;32mIn[3], line 1\u001b[0m\n\u001b[0;32m----> 1\u001b[0m add(\u001b[39m\"\u001b[39;49m\u001b[39m12\u001b[39;49m\u001b[39m\"\u001b[39;49m, \u001b[39m34\u001b[39;49m)\n",
      "Cell \u001b[0;32mIn[1], line 2\u001b[0m, in \u001b[0;36madd\u001b[0;34m(a, b)\u001b[0m\n\u001b[1;32m      1\u001b[0m \u001b[39mdef\u001b[39;00m \u001b[39madd\u001b[39m(a, b):\n\u001b[0;32m----> 2\u001b[0m     \u001b[39mreturn\u001b[39;00m a \u001b[39m+\u001b[39;49m b\n",
      "\u001b[0;31mTypeError\u001b[0m: can only concatenate str (not \"int\") to str"
     ]
    }
   ],
   "source": [
    "add(\"12\", 34)"
   ]
  },
  {
   "cell_type": "code",
   "execution_count": 4,
   "metadata": {},
   "outputs": [
    {
     "name": "stdout",
     "output_type": "stream",
     "text": [
      "5.0\n",
      "0.0\n"
     ]
    }
   ],
   "source": [
    "def div(n1, n2):\n",
    "    return n1 / n2\n",
    "\n",
    "print(div(10, 2))\n",
    "print(div(0, 2))"
   ]
  },
  {
   "cell_type": "code",
   "execution_count": 5,
   "metadata": {},
   "outputs": [
    {
     "ename": "ZeroDivisionError",
     "evalue": "division by zero",
     "output_type": "error",
     "traceback": [
      "\u001b[0;31m---------------------------------------------------------------------------\u001b[0m",
      "\u001b[0;31mZeroDivisionError\u001b[0m                         Traceback (most recent call last)",
      "Cell \u001b[0;32mIn[5], line 1\u001b[0m\n\u001b[0;32m----> 1\u001b[0m div(\u001b[39m10\u001b[39;49m, \u001b[39m0\u001b[39;49m)\n",
      "Cell \u001b[0;32mIn[4], line 2\u001b[0m, in \u001b[0;36mdiv\u001b[0;34m(n1, n2)\u001b[0m\n\u001b[1;32m      1\u001b[0m \u001b[39mdef\u001b[39;00m \u001b[39mdiv\u001b[39m(n1, n2):\n\u001b[0;32m----> 2\u001b[0m     \u001b[39mreturn\u001b[39;00m n1 \u001b[39m/\u001b[39;49m n2\n",
      "\u001b[0;31mZeroDivisionError\u001b[0m: division by zero"
     ]
    }
   ],
   "source": [
    "div(10, 0)"
   ]
  },
  {
   "cell_type": "code",
   "execution_count": 8,
   "metadata": {},
   "outputs": [],
   "source": [
    "\n",
    "# def add(a, b):\n",
    "#     return a + b\n",
    "\n",
    "# def div(n1, n2):\n",
    "#     return n1 / n2\n",
    "\n",
    "\n",
    "\n",
    "def add(a, b):\n",
    "    try:\n",
    "        result = a + b\n",
    "    except Exception as ex:\n",
    "        return ex\n",
    "    else:\n",
    "        return result\n",
    "\n",
    "def div(n1, n2):\n",
    "    try:\n",
    "        result = n1 / n2\n",
    "    except Exception as ex:\n",
    "        return ex\n",
    "    else:\n",
    "        return result"
   ]
  },
  {
   "cell_type": "code",
   "execution_count": 9,
   "metadata": {},
   "outputs": [
    {
     "name": "stdout",
     "output_type": "stream",
     "text": [
      "25\n",
      "25.700000000000003\n",
      "1213\n",
      "can only concatenate str (not \"int\") to str\n"
     ]
    }
   ],
   "source": [
    "print(add(12, 13))\n",
    "print(add(12.3, 13.4))\n",
    "print(add(\"12\", \"13\"))\n",
    "print(add(\"12\", 13))"
   ]
  },
  {
   "cell_type": "code",
   "execution_count": 10,
   "metadata": {},
   "outputs": [
    {
     "name": "stdout",
     "output_type": "stream",
     "text": [
      "5.0\n",
      "0.0\n",
      "division by zero\n"
     ]
    }
   ],
   "source": [
    "print(div(10, 2))\n",
    "print(div(0, 2))\n",
    "print(div(10, 0))"
   ]
  },
  {
   "cell_type": "code",
   "execution_count": 11,
   "metadata": {},
   "outputs": [],
   "source": [
    "# def add(a, b):\n",
    "#     try:\n",
    "#         result = a + b\n",
    "#     except Exception as ex:\n",
    "#         return ex\n",
    "#     else:\n",
    "#         return result\n",
    "\n",
    "# def div(n1, n2):\n",
    "#     try:\n",
    "#         result = n1 / n2\n",
    "#     except Exception as ex:\n",
    "#         return ex\n",
    "#     else:\n",
    "#         return result\n",
    "\n",
    "def add(a, b):\n",
    "    return a + b\n",
    "\n",
    "def div(n1, n2):\n",
    "    return n1 / n2\n",
    "\n",
    "\n",
    "def exception_handling(func, arg1, arg2):\n",
    "    try:\n",
    "        result =func(arg1, arg2)\n",
    "    except Exception as ex:\n",
    "        return ex\n",
    "    else:\n",
    "        return result"
   ]
  },
  {
   "cell_type": "code",
   "execution_count": 12,
   "metadata": {},
   "outputs": [
    {
     "ename": "TypeError",
     "evalue": "unsupported operand type(s) for +: 'int' and 'str'",
     "output_type": "error",
     "traceback": [
      "\u001b[0;31m---------------------------------------------------------------------------\u001b[0m",
      "\u001b[0;31mTypeError\u001b[0m                                 Traceback (most recent call last)",
      "Cell \u001b[0;32mIn[12], line 1\u001b[0m\n\u001b[0;32m----> 1\u001b[0m add(\u001b[39m12\u001b[39;49m, \u001b[39m\"\u001b[39;49m\u001b[39m13\u001b[39;49m\u001b[39m\"\u001b[39;49m)\n",
      "Cell \u001b[0;32mIn[11], line 18\u001b[0m, in \u001b[0;36madd\u001b[0;34m(a, b)\u001b[0m\n\u001b[1;32m     17\u001b[0m \u001b[39mdef\u001b[39;00m \u001b[39madd\u001b[39m(a, b):\n\u001b[0;32m---> 18\u001b[0m     \u001b[39mreturn\u001b[39;00m a \u001b[39m+\u001b[39;49m b\n",
      "\u001b[0;31mTypeError\u001b[0m: unsupported operand type(s) for +: 'int' and 'str'"
     ]
    }
   ],
   "source": [
    "add(12, \"13\")"
   ]
  },
  {
   "cell_type": "code",
   "execution_count": 13,
   "metadata": {},
   "outputs": [
    {
     "data": {
      "text/plain": [
       "TypeError(\"unsupported operand type(s) for +: 'int' and 'str'\")"
      ]
     },
     "execution_count": 13,
     "metadata": {},
     "output_type": "execute_result"
    }
   ],
   "source": [
    "exception_handling(add, 12, \"13\")"
   ]
  },
  {
   "cell_type": "code",
   "execution_count": 14,
   "metadata": {},
   "outputs": [],
   "source": [
    "# decorator\n",
    "\n",
    "def exception_handling(func):\n",
    "    def inner(arg1, arg2):\n",
    "        try:\n",
    "            result =func(arg1, arg2)\n",
    "        except Exception as ex:\n",
    "            return ex\n",
    "        else:\n",
    "            return result\n",
    "        \n",
    "    return inner"
   ]
  },
  {
   "cell_type": "code",
   "execution_count": 15,
   "metadata": {},
   "outputs": [
    {
     "ename": "TypeError",
     "evalue": "unsupported operand type(s) for +: 'int' and 'str'",
     "output_type": "error",
     "traceback": [
      "\u001b[0;31m---------------------------------------------------------------------------\u001b[0m",
      "\u001b[0;31mTypeError\u001b[0m                                 Traceback (most recent call last)",
      "Cell \u001b[0;32mIn[15], line 1\u001b[0m\n\u001b[0;32m----> 1\u001b[0m add(\u001b[39m12\u001b[39;49m, \u001b[39m\"\u001b[39;49m\u001b[39m13\u001b[39;49m\u001b[39m\"\u001b[39;49m)\n",
      "Cell \u001b[0;32mIn[11], line 18\u001b[0m, in \u001b[0;36madd\u001b[0;34m(a, b)\u001b[0m\n\u001b[1;32m     17\u001b[0m \u001b[39mdef\u001b[39;00m \u001b[39madd\u001b[39m(a, b):\n\u001b[0;32m---> 18\u001b[0m     \u001b[39mreturn\u001b[39;00m a \u001b[39m+\u001b[39;49m b\n",
      "\u001b[0;31mTypeError\u001b[0m: unsupported operand type(s) for +: 'int' and 'str'"
     ]
    }
   ],
   "source": [
    "add(12, \"13\")"
   ]
  },
  {
   "cell_type": "code",
   "execution_count": 17,
   "metadata": {},
   "outputs": [
    {
     "data": {
      "text/plain": [
       "TypeError(\"unsupported operand type(s) for +: 'int' and 'str'\")"
      ]
     },
     "execution_count": 17,
     "metadata": {},
     "output_type": "execute_result"
    }
   ],
   "source": [
    "exception_handling(add)(12, \"13\")"
   ]
  },
  {
   "cell_type": "code",
   "execution_count": 18,
   "metadata": {},
   "outputs": [
    {
     "name": "stdout",
     "output_type": "stream",
     "text": [
      "add_except_handled =<function exception_handling.<locals>.inner at 0x7f555d711cf0>\n"
     ]
    }
   ],
   "source": [
    "# decorator\n",
    "\n",
    "def exception_handling(func):\n",
    "    def inner(arg1, arg2):\n",
    "        try:\n",
    "            result =func(arg1, arg2)\n",
    "        except Exception as ex:\n",
    "            return ex\n",
    "        else:\n",
    "            return result\n",
    "        \n",
    "    return inner\n",
    "\n",
    "\n",
    "add_except_handled = exception_handling(add)\n",
    "\n",
    "print(f\"{add_except_handled =}\")\n"
   ]
  },
  {
   "cell_type": "code",
   "execution_count": 19,
   "metadata": {},
   "outputs": [
    {
     "name": "stdout",
     "output_type": "stream",
     "text": [
      "add_except_handled(12, 13.0) =25.0\n",
      "add_except_handled(12, 13) =25\n",
      "add_except_handled(12, '13') =TypeError(\"unsupported operand type(s) for +: 'int' and 'str'\")\n"
     ]
    }
   ],
   "source": [
    "print(f\"{add_except_handled(12, 13.0) =}\")\n",
    "print(f\"{add_except_handled(12, 13) =}\")\n",
    "print(f\"{add_except_handled(12, '13') =}\")\n"
   ]
  },
  {
   "cell_type": "code",
   "execution_count": 21,
   "metadata": {},
   "outputs": [
    {
     "name": "stdout",
     "output_type": "stream",
     "text": [
      "div_exception_handled(10, 2) =5.0\n",
      "div_exception_handled(10, 5) =2.0\n",
      "div_exception_handled(0, 5) =0.0\n",
      "div_exception_handled(10, 0) =ZeroDivisionError('division by zero')\n"
     ]
    }
   ],
   "source": [
    "# decorator\n",
    "\n",
    "def exception_handling(func):\n",
    "    def inner(arg1, arg2):\n",
    "        try:\n",
    "            result =func(arg1, arg2)\n",
    "        except Exception as ex:\n",
    "            return ex\n",
    "        else:\n",
    "            return result\n",
    "        \n",
    "    return inner\n",
    "\n",
    "def div(n1, n2):\n",
    "    return n1 / n2\n",
    "\n",
    "\n",
    "# div(10, 0)\n",
    "\n",
    "div_exception_handled = exception_handling(div)\n",
    "\n",
    "print(f\"{div_exception_handled(10, 2) =}\")\n",
    "print(f\"{div_exception_handled(10, 5) =}\")\n",
    "print(f\"{div_exception_handled(0, 5) =}\")\n",
    "print(f\"{div_exception_handled(10, 0) =}\")\n"
   ]
  },
  {
   "attachments": {},
   "cell_type": "markdown",
   "metadata": {},
   "source": [
    "### Syntatic Sugar for Decorator"
   ]
  },
  {
   "cell_type": "code",
   "execution_count": 24,
   "metadata": {},
   "outputs": [
    {
     "name": "stdout",
     "output_type": "stream",
     "text": [
      "46\n",
      "1234\n",
      "unsupported operand type(s) for +: 'int' and 'str'\n",
      "can only concatenate str (not \"int\") to str\n",
      "\n",
      "2.0\n",
      "0.0\n",
      "division by zero\n"
     ]
    }
   ],
   "source": [
    "# decorator\n",
    "\n",
    "def exception_handling(func):\n",
    "    def inner(arg1, arg2):\n",
    "        try:\n",
    "            result =func(arg1, arg2)\n",
    "        except Exception as ex:\n",
    "            return ex\n",
    "        else:\n",
    "            return result\n",
    "        \n",
    "    return inner\n",
    "\n",
    "@exception_handling\n",
    "def add(a, b):\n",
    "    return a + b\n",
    "\n",
    "@exception_handling\n",
    "def div(n1, n2):\n",
    "    return n1 / n2\n",
    "\n",
    "\n",
    "print(add(12, 34))\n",
    "print(add(\"12\", \"34\"))\n",
    "print(add(12, \"34\"))\n",
    "print(add(\"12\", 34))\n",
    "print()\n",
    "\n",
    "print(div(10, 5))\n",
    "print(div(0, 5))\n",
    "print(div(5, 0))"
   ]
  },
  {
   "cell_type": "code",
   "execution_count": 26,
   "metadata": {},
   "outputs": [
    {
     "name": "stdout",
     "output_type": "stream",
     "text": [
      "multiply(1, 2, 3) =6\n",
      "multiply(1, 2, '3') ='33'\n"
     ]
    }
   ],
   "source": [
    "def multiply(n1, n2, n3):\n",
    "    return n1 * n2 * n3\n",
    "\n",
    "\n",
    "\n",
    "print(f\"{multiply(1, 2, 3) =}\")\n",
    "print(f\"{multiply(1, 2, '3') =}\")"
   ]
  },
  {
   "cell_type": "code",
   "execution_count": 27,
   "metadata": {},
   "outputs": [
    {
     "ename": "TypeError",
     "evalue": "can't multiply sequence by non-int of type 'float'",
     "output_type": "error",
     "traceback": [
      "\u001b[0;31m---------------------------------------------------------------------------\u001b[0m",
      "\u001b[0;31mTypeError\u001b[0m                                 Traceback (most recent call last)",
      "Cell \u001b[0;32mIn[27], line 1\u001b[0m\n\u001b[0;32m----> 1\u001b[0m multiply(\u001b[39m1\u001b[39;49m, \u001b[39m2.3\u001b[39;49m, \u001b[39m\"\u001b[39;49m\u001b[39m3\u001b[39;49m\u001b[39m\"\u001b[39;49m)\n",
      "Cell \u001b[0;32mIn[26], line 2\u001b[0m, in \u001b[0;36mmultiply\u001b[0;34m(n1, n2, n3)\u001b[0m\n\u001b[1;32m      1\u001b[0m \u001b[39mdef\u001b[39;00m \u001b[39mmultiply\u001b[39m(n1, n2, n3):\n\u001b[0;32m----> 2\u001b[0m     \u001b[39mreturn\u001b[39;00m n1 \u001b[39m*\u001b[39;49m n2 \u001b[39m*\u001b[39;49m n3\n",
      "\u001b[0;31mTypeError\u001b[0m: can't multiply sequence by non-int of type 'float'"
     ]
    }
   ],
   "source": [
    "multiply(1, 2.3, \"3\")"
   ]
  },
  {
   "cell_type": "code",
   "execution_count": 29,
   "metadata": {},
   "outputs": [
    {
     "ename": "TypeError",
     "evalue": "exception_handling.<locals>.inner() takes 2 positional arguments but 3 were given",
     "output_type": "error",
     "traceback": [
      "\u001b[0;31m---------------------------------------------------------------------------\u001b[0m",
      "\u001b[0;31mTypeError\u001b[0m                                 Traceback (most recent call last)",
      "Cell \u001b[0;32mIn[29], line 7\u001b[0m\n\u001b[1;32m      1\u001b[0m \u001b[39m@exception_handling\u001b[39m\n\u001b[1;32m      2\u001b[0m \u001b[39mdef\u001b[39;00m \u001b[39mmultiply\u001b[39m(n1, n2, n3):\n\u001b[1;32m      3\u001b[0m     \u001b[39mreturn\u001b[39;00m n1 \u001b[39m*\u001b[39m n2 \u001b[39m*\u001b[39m n3\n\u001b[0;32m----> 7\u001b[0m \u001b[39mprint\u001b[39m(\u001b[39mf\u001b[39m\u001b[39m\"\u001b[39m\u001b[39m{\u001b[39;00mmultiply(\u001b[39m1\u001b[39;49m,\u001b[39m \u001b[39;49m\u001b[39m2\u001b[39;49m,\u001b[39m \u001b[39;49m\u001b[39m3\u001b[39;49m)\u001b[39m \u001b[39m\u001b[39m=}\u001b[39;00m\u001b[39m\"\u001b[39m)\n\u001b[1;32m      8\u001b[0m \u001b[39mprint\u001b[39m(\u001b[39mf\u001b[39m\u001b[39m\"\u001b[39m\u001b[39m{\u001b[39;00mmultiply(\u001b[39m1\u001b[39m,\u001b[39m \u001b[39m\u001b[39m2\u001b[39m,\u001b[39m \u001b[39m\u001b[39m'\u001b[39m\u001b[39m3\u001b[39m\u001b[39m'\u001b[39m)\u001b[39m \u001b[39m\u001b[39m=}\u001b[39;00m\u001b[39m\"\u001b[39m)\n",
      "\u001b[0;31mTypeError\u001b[0m: exception_handling.<locals>.inner() takes 2 positional arguments but 3 were given"
     ]
    }
   ],
   "source": [
    "@exception_handling\n",
    "def multiply(n1, n2, n3):\n",
    "    return n1 * n2 * n3\n",
    "\n",
    "\n",
    "\n",
    "print(f\"{multiply(1, 2, 3) =}\")\n",
    "print(f\"{multiply(1, 2, '3') =}\")"
   ]
  },
  {
   "cell_type": "code",
   "execution_count": 30,
   "metadata": {},
   "outputs": [
    {
     "name": "stdout",
     "output_type": "stream",
     "text": [
      "multiply(1, 2, 3) =6\n",
      "multiply(1, 2, '3') ='33'\n",
      "multiply(1, 2.3, '3') =TypeError(\"can't multiply sequence by non-int of type 'float'\")\n"
     ]
    }
   ],
   "source": [
    "def exception_handling(func):\n",
    "    def inner(*args, **kwargs):\n",
    "        try:\n",
    "            result =func(*args, **kwargs)\n",
    "        except Exception as ex:\n",
    "            return ex\n",
    "        else:\n",
    "            return result\n",
    "        \n",
    "    return inner\n",
    "\n",
    "\n",
    "@exception_handling\n",
    "def multiply(n1, n2, n3):\n",
    "    return n1 * n2 * n3\n",
    "\n",
    "\n",
    "\n",
    "print(f\"{multiply(1, 2, 3) =}\")\n",
    "print(f\"{multiply(1, 2, '3') =}\")\n",
    "print(f\"{multiply(1, 2.3, '3') =}\")"
   ]
  },
  {
   "cell_type": "code",
   "execution_count": 31,
   "metadata": {},
   "outputs": [
    {
     "name": "stdout",
     "output_type": "stream",
     "text": [
      "46\n",
      "1234\n",
      "unsupported operand type(s) for +: 'int' and 'str'\n",
      "can only concatenate str (not \"int\") to str\n",
      "\n",
      "2.0\n",
      "0.0\n",
      "division by zero\n"
     ]
    }
   ],
   "source": [
    "\n",
    "print(add(12, 34))\n",
    "print(add(\"12\", \"34\"))\n",
    "print(add(12, \"34\"))\n",
    "print(add(\"12\", 34))\n",
    "print()\n",
    "\n",
    "print(div(10, 5))\n",
    "print(div(0, 5))\n",
    "print(div(5, 0))"
   ]
  },
  {
   "cell_type": "markdown",
   "metadata": {},
   "source": [
    "### DEcorator for Rertry"
   ]
  },
  {
   "cell_type": "code",
   "execution_count": 32,
   "metadata": {},
   "outputs": [
    {
     "name": "stdout",
     "output_type": "stream",
     "text": [
      "Hello Python!!!\n"
     ]
    }
   ],
   "source": [
    "def hello_world(name):\n",
    "    print(f\"Hello {name}!!!\")\n",
    "\n",
    "\n",
    "hello_world(\"Python\")"
   ]
  },
  {
   "cell_type": "code",
   "execution_count": 33,
   "metadata": {},
   "outputs": [
    {
     "name": "stdout",
     "output_type": "stream",
     "text": [
      "Hello Python!!!\n",
      "Hello Python!!!\n",
      "Hello Python!!!\n",
      "Hello Python!!!\n",
      "Hello Python!!!\n"
     ]
    }
   ],
   "source": [
    "for i in range(5):\n",
    "    hello_world(\"Python\")"
   ]
  },
  {
   "cell_type": "code",
   "execution_count": 34,
   "metadata": {},
   "outputs": [
    {
     "name": "stdout",
     "output_type": "stream",
     "text": [
      "Hello Python!!!\n",
      "Hello Python!!!\n",
      "Hello Python!!!\n",
      "Hello Python!!!\n",
      "Hello Python!!!\n"
     ]
    }
   ],
   "source": [
    "def retry(func):\n",
    "    def inner(*args, **kwargs):\n",
    "       for i in range(5):\n",
    "            func(*args, **kwargs)\n",
    "    return inner\n",
    "\n",
    "@retry\n",
    "def hello_world(name):\n",
    "    print(f\"Hello {name}!!!\")\n",
    "\n",
    "\n",
    "hello_world(\"Python\")"
   ]
  },
  {
   "cell_type": "code",
   "execution_count": 36,
   "metadata": {},
   "outputs": [
    {
     "name": "stdout",
     "output_type": "stream",
     "text": [
      "result = 30\n",
      "result = 30\n",
      "result = 30\n",
      "result = 30\n",
      "result = 30\n"
     ]
    }
   ],
   "source": [
    "@retry\n",
    "def add(n1, n2):\n",
    "    result = n1 + n2\n",
    "    print(f\"{result = }\")\n",
    "    return n1 + n2\n",
    "\n",
    "\n",
    "add(10, 20)"
   ]
  },
  {
   "cell_type": "code",
   "execution_count": 37,
   "metadata": {},
   "outputs": [
    {
     "name": "stdout",
     "output_type": "stream",
     "text": [
      "Hello Python!!!\n",
      "Hello Python!!!\n",
      "Hello Python!!!\n",
      "Hello Python!!!\n",
      "Hello Python!!!\n"
     ]
    }
   ],
   "source": [
    "def retry(no_of_times):\n",
    "    def wrappper(func):\n",
    "        def inner(*args, **kwargs):\n",
    "            for i in range(no_of_times):\n",
    "                func(*args, **kwargs)\n",
    "        return inner\n",
    "    return wrappper\n",
    "\n",
    "@retry(5)\n",
    "def hello_world(name):\n",
    "    print(f\"Hello {name}!!!\")\n",
    "\n",
    "\n",
    "hello_world(\"Python\")"
   ]
  },
  {
   "cell_type": "code",
   "execution_count": 38,
   "metadata": {},
   "outputs": [
    {
     "name": "stdout",
     "output_type": "stream",
     "text": [
      "Hello Python!!!\n",
      "Hello Python!!!\n"
     ]
    }
   ],
   "source": [
    "@retry(2)\n",
    "def hello_world(name):\n",
    "    print(f\"Hello {name}!!!\")\n",
    "\n",
    "\n",
    "hello_world(\"Python\")"
   ]
  },
  {
   "cell_type": "markdown",
   "metadata": {},
   "source": [
    "## Another EXaaple"
   ]
  },
  {
   "cell_type": "code",
   "execution_count": 39,
   "metadata": {},
   "outputs": [
    {
     "name": "stdout",
     "output_type": "stream",
     "text": [
      "function -start \n",
      "function - before end\n",
      "46\n",
      "function -start \n",
      "function - before end\n",
      "4080\n"
     ]
    }
   ],
   "source": [
    "\n",
    "def addition(num1, num2):\n",
    "    print(\"function -start \")\n",
    "    result = num1 + num2\n",
    "    print(\"function - before end\")\n",
    "    return result\n",
    "\n",
    "\n",
    "def multiplication(num1, num2, num3):\n",
    "    print(\"function -start \")\n",
    "    result = num1 * num2 * num3\n",
    "    print(\"function - before end\")\n",
    "    return result\n",
    "\n",
    "print(addition(12, 34))\n",
    "print(multiplication(12, 34, 10))"
   ]
  },
  {
   "cell_type": "code",
   "execution_count": 42,
   "metadata": {},
   "outputs": [
    {
     "name": "stdout",
     "output_type": "stream",
     "text": [
      "function -start \n",
      "function - before end\n",
      "46\n",
      "function -start \n",
      "function - before end\n",
      "4080\n"
     ]
    }
   ],
   "source": [
    "def print_function(func):\n",
    "    def inner(*args, **kwargs):\n",
    "        print(\"function -start \")\n",
    "        result = func(*args, **kwargs)\n",
    "        print(\"function - before end\")\n",
    "        return result\n",
    "    return inner\n",
    "\n",
    "\n",
    "@print_function\n",
    "def addition(num1, num2):\n",
    "    result = num1 + num2\n",
    "    return result\n",
    "\n",
    "@print_function\n",
    "def multiplication(num1, num2, num3):\n",
    "    result = num1 * num2 * num3\n",
    "    return result\n",
    "\n",
    "print(addition(12, 34))\n",
    "print(multiplication(12, 34, 10))"
   ]
  },
  {
   "cell_type": "code",
   "execution_count": 43,
   "metadata": {},
   "outputs": [
    {
     "name": "stdout",
     "output_type": "stream",
     "text": [
      "addition function - start \n",
      "addition function - before end\n",
      "46\n",
      "multiplication function - start \n",
      "multiplication function - before end\n",
      "4080\n"
     ]
    }
   ],
   "source": [
    "def print_function(func):\n",
    "    def inner(*args, **kwargs):\n",
    "        print(f\"{func.__name__} function - start \")\n",
    "        result = func(*args, **kwargs)\n",
    "        print(f\"{func.__name__} function - before end\")\n",
    "        return result\n",
    "    return inner\n",
    "\n",
    "\n",
    "@print_function\n",
    "def addition(num1, num2):\n",
    "    result = num1 + num2\n",
    "    return result\n",
    "\n",
    "@print_function\n",
    "def multiplication(num1, num2, num3):\n",
    "    result = num1 * num2 * num3\n",
    "    return result\n",
    "\n",
    "print(addition(12, 34))\n",
    "print(multiplication(12, 34, 10))"
   ]
  },
  {
   "cell_type": "code",
   "execution_count": 45,
   "metadata": {},
   "outputs": [
    {
     "name": "stdout",
     "output_type": "stream",
     "text": [
      "83301\n",
      "190603\n"
     ]
    }
   ],
   "source": [
    "import time\n",
    "\n",
    "start_time = time.perf_counter_ns()\n",
    "\n",
    "# logic\n",
    "for _ in range(1000):\n",
    "    pass\n",
    "\n",
    "# Method 1\n",
    "end_time = time.perf_counter_ns()\n",
    "print(end_time - start_time)\n",
    "\n",
    "\n",
    "# Method 2\n",
    "print(time.perf_counter_ns() - start_time)\n"
   ]
  },
  {
   "cell_type": "code",
   "execution_count": 46,
   "metadata": {},
   "outputs": [
    {
     "name": "stdout",
     "output_type": "stream",
     "text": [
      "587608\n"
     ]
    }
   ],
   "source": [
    "def f1():\n",
    "    start_time = time.perf_counter_ns()\n",
    "\n",
    "    elements = [1] * 10_000\n",
    "    for _ in range(len(elements)):\n",
    "        elements.pop()\n",
    "    print(time.perf_counter_ns() - start_time)\n",
    "\n",
    "\n",
    "f1()"
   ]
  },
  {
   "cell_type": "code",
   "execution_count": 47,
   "metadata": {},
   "outputs": [
    {
     "name": "stdout",
     "output_type": "stream",
     "text": [
      "682409\n",
      "8807521\n"
     ]
    }
   ],
   "source": [
    "def time_taken(func):\n",
    "    def inner(*args, **kwargs):\n",
    "        start_time = time.perf_counter_ns()\n",
    "        result = func(*args, **kwargs)\n",
    "        print(time.perf_counter_ns() - start_time)\n",
    "        return result\n",
    "\n",
    "    return inner\n",
    "\n",
    "@time_taken\n",
    "def f1():\n",
    "    elements = [1] * 10_000\n",
    "    for _ in range(len(elements)):\n",
    "        elements.pop()\n",
    "\n",
    "\n",
    "@time_taken\n",
    "def f2():\n",
    "    elements = [1] * 10_000\n",
    "    for _ in range(len(elements)):\n",
    "        elements.pop(0)\n",
    "\n",
    "f1()\n",
    "f2()"
   ]
  },
  {
   "cell_type": "code",
   "execution_count": 48,
   "metadata": {},
   "outputs": [
    {
     "name": "stdout",
     "output_type": "stream",
     "text": [
      "Time Taken: -203554322979 ns\n",
      "Time Taken: -203555506395 ns\n"
     ]
    }
   ],
   "source": [
    "def time_taken(func):\n",
    "    def inner(*args, **kwargs):\n",
    "        start_time = time.perf_counter_ns()\n",
    "        result = func(*args, **kwargs)\n",
    "        print(f\"Time Taken: {end_time - start_time} ns\")\n",
    "        return result\n",
    "\n",
    "    return inner\n",
    "\n",
    "@time_taken\n",
    "def f1():\n",
    "    elements = [1] * 10_000\n",
    "    for _ in range(len(elements)):\n",
    "        elements.pop()\n",
    "\n",
    "\n",
    "@time_taken\n",
    "def f2():\n",
    "    elements = [1] * 10_000\n",
    "    for _ in range(len(elements)):\n",
    "        elements.pop(0)\n",
    "\n",
    "f1()\n",
    "f2()"
   ]
  },
  {
   "cell_type": "code",
   "execution_count": 49,
   "metadata": {},
   "outputs": [
    {
     "name": "stdout",
     "output_type": "stream",
     "text": [
      "Time Taken for f1: -226935109864 ns\n",
      "Time Taken for f2: -226935732173 ns\n"
     ]
    }
   ],
   "source": [
    "def time_taken(func):\n",
    "    def inner(*args, **kwargs):\n",
    "        start_time = time.perf_counter_ns()\n",
    "        result = func(*args, **kwargs)\n",
    "        print(f\"Time Taken for {func.__name__}: {end_time - start_time} ns\")\n",
    "        return result\n",
    "\n",
    "    return inner\n",
    "\n",
    "@time_taken\n",
    "def f1():\n",
    "    elements = [1] * 10_000\n",
    "    for _ in range(len(elements)):\n",
    "        elements.pop()\n",
    "\n",
    "\n",
    "@time_taken\n",
    "def f2():\n",
    "    elements = [1] * 10_000\n",
    "    for _ in range(len(elements)):\n",
    "        elements.pop(0)\n",
    "\n",
    "f1()\n",
    "f2()"
   ]
  },
  {
   "cell_type": "code",
   "execution_count": 50,
   "metadata": {},
   "outputs": [
    {
     "name": "stdout",
     "output_type": "stream",
     "text": [
      "I am in decorator 3\n",
      "I am in decorator 2\n",
      "I am in decorator 1\n",
      "I am actual function\n"
     ]
    }
   ],
   "source": [
    "\n",
    "def decorator_func1(func):\n",
    "    def wrapper(*args, **kwargs):\n",
    "        print(\"I am in decorator 1\")\n",
    "        func(*args, **kwargs)\n",
    "\n",
    "    return wrapper\n",
    "\n",
    "\n",
    "def decorator_func2(func):\n",
    "    def wrapper(*args, **kwargs):\n",
    "        print(\"I am in decorator 2\")\n",
    "        func(*args, **kwargs)\n",
    "\n",
    "    return wrapper\n",
    "\n",
    "\n",
    "def decorator_func3(func):\n",
    "    def wrapper(*args, **kwargs):\n",
    "        print(\"I am in decorator 3\")\n",
    "        func(*args, **kwargs)\n",
    "\n",
    "    return wrapper\n",
    "\n",
    "\n",
    "\n",
    "@decorator_func3\n",
    "@decorator_func2\n",
    "@decorator_func1\n",
    "def actual_function():\n",
    "    print(\"I am actual function\")\n",
    "\n",
    "\n",
    "actual_function()"
   ]
  },
  {
   "cell_type": "code",
   "execution_count": 51,
   "metadata": {},
   "outputs": [],
   "source": [
    "# NOTE: decorator will be executed top to bottom order"
   ]
  },
  {
   "cell_type": "code",
   "execution_count": 52,
   "metadata": {},
   "outputs": [
    {
     "name": "stdout",
     "output_type": "stream",
     "text": [
      "\n",
      "\n",
      "my_func function - start \n",
      "\n",
      "for 78 numbers\n",
      "my_func function - before end\n",
      "Time Taken: 3037641 ns\n"
     ]
    }
   ],
   "source": [
    "def time_taken(func):\n",
    "    def inner(*args, **kwargs):\n",
    "        start_time = time.perf_counter_ns()\n",
    "        func(*args, **kwargs)\n",
    "        end_time = time.perf_counter_ns()\n",
    "        print(f\"Time Taken: {end_time - start_time} ns\")\n",
    "\n",
    "    return inner\n",
    "\n",
    "\n",
    "def print_function(func):\n",
    "    def inner(*args, **kwargs):\n",
    "        print(f\"\\n\\n{func.__name__} function - start \")\n",
    "        result1 = func(*args, **kwargs)\n",
    "        print(f\"{func.__name__} function - before end\")\n",
    "        return result1\n",
    "\n",
    "    return inner\n",
    "\n",
    "\n",
    "\n",
    "@time_taken\n",
    "@print_function\n",
    "def my_func(num):\n",
    "    for _ in range(num):\n",
    "        pass\n",
    "    print(f\"\\nfor {num} numbers\")\n",
    "\n",
    "\n",
    "my_func(78)"
   ]
  },
  {
   "cell_type": "code",
   "execution_count": 53,
   "metadata": {},
   "outputs": [
    {
     "name": "stdout",
     "output_type": "stream",
     "text": [
      "\n",
      "\n",
      "my_func function - start \n",
      "\n",
      "for 900 numbers\n",
      "my_func function - before end\n",
      "Time Taken: 105402 ns\n",
      "\n",
      "\n",
      "my_func function - start \n",
      "\n",
      "for 9000 numbers\n",
      "my_func function - before end\n",
      "Time Taken: 332205 ns\n"
     ]
    }
   ],
   "source": [
    "my_func(900)\n",
    "my_func(9000)\n"
   ]
  },
  {
   "cell_type": "code",
   "execution_count": null,
   "metadata": {},
   "outputs": [],
   "source": []
  }
 ],
 "metadata": {
  "kernelspec": {
   "display_name": "Python 3",
   "language": "python",
   "name": "python3"
  },
  "language_info": {
   "codemirror_mode": {
    "name": "ipython",
    "version": 3
   },
   "file_extension": ".py",
   "mimetype": "text/x-python",
   "name": "python",
   "nbconvert_exporter": "python",
   "pygments_lexer": "ipython3",
   "version": "3.10.4"
  },
  "orig_nbformat": 4
 },
 "nbformat": 4,
 "nbformat_minor": 2
}
