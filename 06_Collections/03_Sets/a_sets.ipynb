{
 "cells": [
  {
   "cell_type": "markdown",
   "metadata": {},
   "source": [
    "## Working with Sets\n",
    "    Properties of sets\n",
    "        - creating using {} or set()\n",
    "        - can't store duplicates\n",
    "        - sets are unordered\n",
    "        - can't be indexed\n",
    "        - Empty sets need to be represented using set()\n",
    "        - stores only immutable object - basic types, tuple, string\n",
    "        - sets are mutable objects"
   ]
  },
  {
   "cell_type": "code",
   "execution_count": 1,
   "metadata": {},
   "outputs": [
    {
     "name": "stdout",
     "output_type": "stream",
     "text": [
      "type(running_ports) <class 'list'>\n",
      "len(running_ports)  6\n",
      "running_ports       [11, 22, 11, 44, 22, 11]\n"
     ]
    }
   ],
   "source": [
    "running_ports = [11, 22, 11, 44, 22, 11]\n",
    "print(\"type(running_ports)\", type(running_ports))\n",
    "print(\"len(running_ports) \", len(running_ports))\n",
    "print(\"running_ports      \", running_ports)"
   ]
  },
  {
   "cell_type": "code",
   "execution_count": 5,
   "metadata": {},
   "outputs": [
    {
     "name": "stdout",
     "output_type": "stream",
     "text": [
      "len(filtered_list)  3\n",
      "filtered_list:      [11, 22, 44]\n"
     ]
    }
   ],
   "source": [
    "# Method 1 - To remove duplicates in a list/tuple of elements\n",
    "filtered_list = []\n",
    "for each_port in running_ports:\n",
    "    if each_port in filtered_list:\n",
    "        continue\n",
    "    filtered_list.append(each_port)\n",
    "\n",
    "print(\"len(filtered_list) \", len(filtered_list))\n",
    "print(\"filtered_list:     \", filtered_list)"
   ]
  },
  {
   "cell_type": "code",
   "execution_count": 6,
   "metadata": {},
   "outputs": [
    {
     "name": "stdout",
     "output_type": "stream",
     "text": [
      "type(unique_ports) =<class 'set'>\n",
      "len(unique_ports)  =3\n",
      "unique_ports       ={11, 44, 22}\n"
     ]
    }
   ],
   "source": [
    "unique_ports =  {11, 22, 11, 44, 22, 11}\n",
    "print(f\"{type(unique_ports) =}\")\n",
    "print(f\"{len(unique_ports)  =}\")\n",
    "print(f\"{unique_ports       =}\")"
   ]
  },
  {
   "cell_type": "code",
   "execution_count": 9,
   "metadata": {},
   "outputs": [
    {
     "name": "stdout",
     "output_type": "stream",
     "text": [
      "len(filtered_list)  3\n",
      "filtered_list:      [11, 44, 22]\n"
     ]
    }
   ],
   "source": [
    "# Method 2 - using sets to remove duplicates\n",
    "filtered_list = list(set(running_ports))\n",
    "print(\"len(filtered_list) \", len(filtered_list))\n",
    "print(\"filtered_list:     \", filtered_list)"
   ]
  },
  {
   "cell_type": "code",
   "execution_count": 10,
   "metadata": {},
   "outputs": [
    {
     "name": "stdout",
     "output_type": "stream",
     "text": [
      "<class 'list'> []\n",
      "<class 'tuple'> ()\n",
      "<class 'set'> set()\n",
      "<class 'dict'> {}\n"
     ]
    }
   ],
   "source": [
    "empty_list = []  # list()\n",
    "print(f\"{type(empty_list)} {empty_list}\")\n",
    "\n",
    "empty_tuple = ()  # tuple()\n",
    "print(f\"{type(empty_tuple)} {empty_tuple}\")\n",
    "\n",
    "empty_set = set()\n",
    "print(f\"{type(empty_set)} {empty_set}\")  # NOTE: empty set should be defined with set()\n",
    "\n",
    "\n",
    "empty_dict = {}  # dict()\n",
    "print(f\"{type(empty_dict)} {empty_dict}\")"
   ]
  },
  {
   "cell_type": "code",
   "execution_count": 11,
   "metadata": {},
   "outputs": [
    {
     "name": "stdout",
     "output_type": "stream",
     "text": [
      "\n",
      "Sets with single element \n",
      "<class 'set'> myset1 ={223}\n"
     ]
    }
   ],
   "source": [
    "print(\"\\nSets with single element \")\n",
    "myset1 = {223}\n",
    "print(f\"{type(myset1)} {myset1 =}\")"
   ]
  },
  {
   "cell_type": "code",
   "execution_count": 12,
   "metadata": {},
   "outputs": [
    {
     "name": "stdout",
     "output_type": "stream",
     "text": [
      "s1 ={1, 2, 3} - <class 'set'>\n",
      "s2 ={1, 2, 3} - <class 'set'>\n"
     ]
    }
   ],
   "source": [
    "# Defining sets with some values\n",
    "s1 = {1, 2, 3}\n",
    "s2 = set([1, 2, 3])\n",
    "\n",
    "print(f\"{s1 =} - {type(s1)}\")\n",
    "print(f\"{s2 =} - {type(s2)}\")\n",
    "assert s1 == s2"
   ]
  },
  {
   "cell_type": "code",
   "execution_count": 13,
   "metadata": {},
   "outputs": [
    {
     "name": "stdout",
     "output_type": "stream",
     "text": [
      "myset        : {33, 11, 44, 22}\n"
     ]
    }
   ],
   "source": [
    "# sets are unordered\n",
    "myset = {11, 22, 33, 44}\n",
    "print(\"myset        :\", myset)"
   ]
  },
  {
   "cell_type": "code",
   "execution_count": 14,
   "metadata": {},
   "outputs": [
    {
     "ename": "TypeError",
     "evalue": "'set' object is not subscriptable",
     "output_type": "error",
     "traceback": [
      "\u001b[0;31m---------------------------------------------------------------------------\u001b[0m",
      "\u001b[0;31mTypeError\u001b[0m                                 Traceback (most recent call last)",
      "Cell \u001b[0;32mIn[14], line 2\u001b[0m\n\u001b[1;32m      1\u001b[0m \u001b[39m# sets cant be indexed\u001b[39;00m\n\u001b[0;32m----> 2\u001b[0m myset[\u001b[39m2\u001b[39;49m]\n",
      "\u001b[0;31mTypeError\u001b[0m: 'set' object is not subscriptable"
     ]
    }
   ],
   "source": [
    "# sets cant be indexed\n",
    "myset[2]"
   ]
  },
  {
   "cell_type": "code",
   "execution_count": 15,
   "metadata": {},
   "outputs": [
    {
     "ename": "TypeError",
     "evalue": "'set' object is not subscriptable",
     "output_type": "error",
     "traceback": [
      "\u001b[0;31m---------------------------------------------------------------------------\u001b[0m",
      "\u001b[0;31mTypeError\u001b[0m                                 Traceback (most recent call last)",
      "Cell \u001b[0;32mIn[15], line 2\u001b[0m\n\u001b[1;32m      1\u001b[0m \u001b[39m# sets cant be sliced too\u001b[39;00m\n\u001b[0;32m----> 2\u001b[0m myset[\u001b[39m2\u001b[39;49m:\u001b[39m3\u001b[39;49m]\n",
      "\u001b[0;31mTypeError\u001b[0m: 'set' object is not subscriptable"
     ]
    }
   ],
   "source": [
    "# sets cant be sliced too\n",
    "myset[2:3]"
   ]
  },
  {
   "cell_type": "markdown",
   "metadata": {},
   "source": [
    "### Attributes"
   ]
  },
  {
   "cell_type": "code",
   "execution_count": 16,
   "metadata": {},
   "outputs": [
    {
     "name": "stdout",
     "output_type": "stream",
     "text": [
      "['__and__', '__class__', '__class_getitem__', '__contains__', '__delattr__', '__dir__', '__doc__', '__eq__', '__format__', '__ge__', '__getattribute__', '__gt__', '__hash__', '__iand__', '__init__', '__init_subclass__', '__ior__', '__isub__', '__iter__', '__ixor__', '__le__', '__len__', '__lt__', '__ne__', '__new__', '__or__', '__rand__', '__reduce__', '__reduce_ex__', '__repr__', '__ror__', '__rsub__', '__rxor__', '__setattr__', '__sizeof__', '__str__', '__sub__', '__subclasshook__', '__xor__', 'add', 'clear', 'copy', 'difference', 'difference_update', 'discard', 'intersection', 'intersection_update', 'isdisjoint', 'issubset', 'issuperset', 'pop', 'remove', 'symmetric_difference', 'symmetric_difference_update', 'union', 'update']\n"
     ]
    }
   ],
   "source": [
    "simple_set = {1, 2, 3}\n",
    "\n",
    "print(dir(simple_set))"
   ]
  },
  {
   "cell_type": "code",
   "execution_count": 17,
   "metadata": {},
   "outputs": [
    {
     "name": "stdout",
     "output_type": "stream",
     "text": [
      "6 in simple_set =False\n"
     ]
    }
   ],
   "source": [
    "assert simple_set.__contains__(2) == (2 in simple_set)\n",
    "assert simple_set.__contains__(6) == (6 in simple_set)\n",
    "print(f\"{6 in simple_set =}\")"
   ]
  },
  {
   "cell_type": "code",
   "execution_count": 18,
   "metadata": {},
   "outputs": [
    {
     "name": "stdout",
     "output_type": "stream",
     "text": [
      "\n",
      "simple_set.__sizeof__()   =200\n",
      "sys.getsizeof(simple_set) =216\n"
     ]
    }
   ],
   "source": [
    "import sys\n",
    "\n",
    "print(f\"\\n{simple_set.__sizeof__()   =}\")  # python object\n",
    "print(f\"{sys.getsizeof(simple_set) =}\")  # Along with c header"
   ]
  },
  {
   "cell_type": "code",
   "execution_count": 21,
   "metadata": {},
   "outputs": [
    {
     "name": "stdout",
     "output_type": "stream",
     "text": [
      "simple_set.__and__(1) =NotImplemented\n",
      "simple_set.__and__({1}) ={1}\n"
     ]
    }
   ],
   "source": [
    "print(f\"{simple_set.__and__(1) =}\")     # NotImplemented\n",
    "print(f\"{simple_set.__and__({1}) =}\")   # {1}"
   ]
  },
  {
   "cell_type": "code",
   "execution_count": 22,
   "metadata": {},
   "outputs": [
    {
     "name": "stdout",
     "output_type": "stream",
     "text": [
      "add\n",
      "clear\n",
      "copy\n",
      "difference\n",
      "difference_update\n",
      "discard\n",
      "intersection\n",
      "intersection_update\n",
      "isdisjoint\n",
      "issubset\n",
      "issuperset\n",
      "pop\n",
      "remove\n",
      "symmetric_difference\n",
      "symmetric_difference_update\n",
      "union\n",
      "update\n"
     ]
    }
   ],
   "source": [
    "for each_attribute in dir(simple_set):\n",
    "    if not each_attribute.startswith(\"__\"):\n",
    "        print(each_attribute)"
   ]
  },
  {
   "cell_type": "code",
   "execution_count": 23,
   "metadata": {},
   "outputs": [],
   "source": [
    "# list.append/list.insert  <-> set.add\n",
    "#   :- takes both iterable & non-iterable items\n",
    "#   :- Can store only immutable objects"
   ]
  },
  {
   "cell_type": "code",
   "execution_count": 24,
   "metadata": {},
   "outputs": [
    {
     "name": "stdout",
     "output_type": "stream",
     "text": [
      "simple_set ={1, 2, 3}\n"
     ]
    }
   ],
   "source": [
    "print(f\"{simple_set =}\")"
   ]
  },
  {
   "cell_type": "code",
   "execution_count": 25,
   "metadata": {},
   "outputs": [
    {
     "name": "stdout",
     "output_type": "stream",
     "text": [
      "simple_set ={99, 1, 2, 3}\n"
     ]
    }
   ],
   "source": [
    "simple_set.add(99)\n",
    "print(f\"{simple_set =}\")"
   ]
  },
  {
   "cell_type": "code",
   "execution_count": 26,
   "metadata": {},
   "outputs": [
    {
     "name": "stdout",
     "output_type": "stream",
     "text": [
      "simple_set ={99, 1, 2, 3}\n"
     ]
    }
   ],
   "source": [
    "simple_set.add(99)\n",
    "print(f\"{simple_set =}\")"
   ]
  },
  {
   "cell_type": "code",
   "execution_count": 27,
   "metadata": {},
   "outputs": [
    {
     "name": "stdout",
     "output_type": "stream",
     "text": [
      "simple_set ={1, 2, 99, 3, 45}\n"
     ]
    }
   ],
   "source": [
    "simple_set.add(45)\n",
    "print(f\"{simple_set =}\")"
   ]
  },
  {
   "cell_type": "code",
   "execution_count": 28,
   "metadata": {},
   "outputs": [
    {
     "name": "stdout",
     "output_type": "stream",
     "text": [
      "simple_set ={1, 2, 99, 3, 45, (99,)}\n"
     ]
    }
   ],
   "source": [
    "simple_set.add((99,))\n",
    "print(f\"{simple_set =}\")"
   ]
  },
  {
   "cell_type": "code",
   "execution_count": 29,
   "metadata": {},
   "outputs": [
    {
     "name": "stdout",
     "output_type": "stream",
     "text": [
      "mutable objects(list, set, dict) cant be stored in set\n"
     ]
    }
   ],
   "source": [
    "try:\n",
    "    simple_set.add([11, 22])\n",
    "except TypeError:\n",
    "    print(\"mutable objects(list, set, dict) cant be stored in set\")"
   ]
  },
  {
   "cell_type": "code",
   "execution_count": 30,
   "metadata": {},
   "outputs": [],
   "source": [
    "# Mutabe ojects -- list, set, dict\n",
    "# Immtable objects - basic data types (int, float, None, bool, str), tuple, frozenset"
   ]
  },
  {
   "cell_type": "code",
   "execution_count": 31,
   "metadata": {},
   "outputs": [
    {
     "name": "stdout",
     "output_type": "stream",
     "text": [
      "mutable objects(list, set, dict) cant be stored in set\n"
     ]
    }
   ],
   "source": [
    "try:\n",
    "    simple_set.add({11, 22})\n",
    "except TypeError:\n",
    "    print(\"mutable objects(list, set, dict) cant be stored in set\")"
   ]
  },
  {
   "cell_type": "code",
   "execution_count": 32,
   "metadata": {},
   "outputs": [
    {
     "name": "stdout",
     "output_type": "stream",
     "text": [
      "simple_set ={1, 2, 99, 3, 45, 'Python', (99,)}\n"
     ]
    }
   ],
   "source": [
    "simple_set.add(\"Python\")\n",
    "print(f\"{simple_set =}\")"
   ]
  },
  {
   "cell_type": "code",
   "execution_count": 33,
   "metadata": {},
   "outputs": [],
   "source": [
    "# list.extend  <-> set.update\n",
    "#   :- Only iterable objects are allowed\n",
    "#   :- will add to same dimension\n",
    "\n",
    "# Iterable objects -- string, collections - list, tuple, set, dict, genrator iterators, range"
   ]
  },
  {
   "cell_type": "code",
   "execution_count": 34,
   "metadata": {},
   "outputs": [
    {
     "name": "stdout",
     "output_type": "stream",
     "text": [
      "Only iterable objects can be used with set.update\n"
     ]
    }
   ],
   "source": [
    "simple_set = {1, 2, 3}\n",
    "\n",
    "try:\n",
    "    simple_set.update(888)\n",
    "except TypeError:\n",
    "    print(\"Only iterable objects can be used with set.update\")\n"
   ]
  },
  {
   "cell_type": "code",
   "execution_count": 35,
   "metadata": {},
   "outputs": [
    {
     "name": "stdout",
     "output_type": "stream",
     "text": [
      "simple_set ={1, 2, 3, 8, 88}\n"
     ]
    }
   ],
   "source": [
    "simple_set.update((8, 88))\n",
    "print(f\"{simple_set =}\")"
   ]
  },
  {
   "cell_type": "code",
   "execution_count": 36,
   "metadata": {},
   "outputs": [
    {
     "name": "stdout",
     "output_type": "stream",
     "text": [
      "simple_set ={1, 2, 3, 7, 8, 88}\n"
     ]
    }
   ],
   "source": [
    "simple_set.update([8, 7])\n",
    "print(f\"{simple_set =}\")"
   ]
  },
  {
   "cell_type": "code",
   "execution_count": 37,
   "metadata": {},
   "outputs": [
    {
     "name": "stdout",
     "output_type": "stream",
     "text": [
      "simple_set ={1, 2, 3, 7, 8, (2, 3), 88, (9,)}\n"
     ]
    }
   ],
   "source": [
    "simple_set.update([8, 7, (2, 3), (9,)])\n",
    "print(f\"{simple_set =}\")"
   ]
  },
  {
   "cell_type": "code",
   "execution_count": 38,
   "metadata": {},
   "outputs": [
    {
     "name": "stdout",
     "output_type": "stream",
     "text": [
      "Inner element is a list\n"
     ]
    }
   ],
   "source": [
    "try:\n",
    "    simple_set.update([8, 7, [2, 3]])\n",
    "except TypeError:\n",
    "    print(\"Inner element is a list\")"
   ]
  },
  {
   "cell_type": "code",
   "execution_count": 39,
   "metadata": {},
   "outputs": [
    {
     "name": "stdout",
     "output_type": "stream",
     "text": [
      "simple_set ={1, 2, 3, 7, 8, (2, 3), 88, (9,)}\n"
     ]
    }
   ],
   "source": [
    "print(f\"{simple_set =}\")"
   ]
  },
  {
   "cell_type": "code",
   "execution_count": 40,
   "metadata": {},
   "outputs": [
    {
     "name": "stdout",
     "output_type": "stream",
     "text": [
      "Inner of inner dimension has a list\n",
      "unhashable type: 'list'\n"
     ]
    }
   ],
   "source": [
    "# Question\n",
    "try:\n",
    "    simple_set.update([9, (8, 7, [9])])\n",
    "except TypeError as ex:\n",
    "    print(\"Inner of inner dimension has a list\")\n",
    "    print(ex)"
   ]
  },
  {
   "cell_type": "code",
   "execution_count": 41,
   "metadata": {},
   "outputs": [],
   "source": [
    "# Q) How to remove elements from the set\n",
    "# Ans) set.pop, set.remove, set.discard"
   ]
  },
  {
   "cell_type": "code",
   "execution_count": 42,
   "metadata": {},
   "outputs": [
    {
     "name": "stdout",
     "output_type": "stream",
     "text": [
      "1\n",
      "After pop ->{2, 3, 7, 8, 9, (2, 3), 88, (9,)}\n",
      "2\n",
      "After pop ->{3, 7, 8, 9, (2, 3), 88, (9,)}\n",
      "3\n",
      "After pop ->{7, 8, 9, (2, 3), 88, (9,)}\n"
     ]
    }
   ],
   "source": [
    "# set.pop() - remove a random value\n",
    "print(f\"{simple_set.pop()}\")\n",
    "print(f\"After pop ->{simple_set}\")\n",
    "\n",
    "print(f\"{simple_set.pop()}\")\n",
    "print(f\"After pop ->{simple_set}\")\n",
    "\n",
    "print(f\"{simple_set.pop()}\")\n",
    "print(f\"After pop ->{simple_set}\")"
   ]
  },
  {
   "cell_type": "code",
   "execution_count": 43,
   "metadata": {},
   "outputs": [
    {
     "name": "stdout",
     "output_type": "stream",
     "text": [
      "\n",
      "After remove->{7, 9, (2, 3), 88, (9,)}\n",
      "After remove->{9, (2, 3), 88, (9,)}\n",
      "After remove->{9, 88, (9,)}\n"
     ]
    }
   ],
   "source": [
    "# set.remove\n",
    "#   - to remove a specific element\n",
    "#   - throws KeyError exception if that element is not present\n",
    "print()\n",
    "simple_set.remove(8)\n",
    "print(f\"After remove->{simple_set}\")\n",
    "\n",
    "simple_set.remove(7)\n",
    "print(f\"After remove->{simple_set}\")\n",
    "\n",
    "simple_set.remove((2, 3))\n",
    "print(f\"After remove->{simple_set}\")"
   ]
  },
  {
   "cell_type": "code",
   "execution_count": 44,
   "metadata": {},
   "outputs": [
    {
     "name": "stdout",
     "output_type": "stream",
     "text": [
      "That element is not present\n"
     ]
    }
   ],
   "source": [
    "try:\n",
    "    simple_set.remove(\"Q\")\n",
    "except KeyError:\n",
    "    print(\"That element is not present\")\n"
   ]
  },
  {
   "cell_type": "code",
   "execution_count": 45,
   "metadata": {},
   "outputs": [
    {
     "name": "stdout",
     "output_type": "stream",
     "text": [
      "\n",
      "After discard->{9, 88, (9,)}\n",
      "After discard->{9, (9,)}\n",
      "After discard->{9, (9,)}\n"
     ]
    }
   ],
   "source": [
    "# set.discard\n",
    "#   - to remove a specific element\n",
    "#   - No error is thrown when element is not present\n",
    "print()\n",
    "simple_set.discard(\"Q\")\n",
    "print(f\"After discard->{simple_set}\")\n",
    "\n",
    "simple_set.discard(88)\n",
    "print(f\"After discard->{simple_set}\")\n",
    "\n",
    "simple_set.discard((99,))\n",
    "print(f\"After discard->{simple_set}\")\n"
   ]
  },
  {
   "cell_type": "code",
   "execution_count": 46,
   "metadata": {},
   "outputs": [
    {
     "name": "stdout",
     "output_type": "stream",
     "text": [
      "simple_set ={9, (9,)} id(simple_set) =140234917473952\n",
      "new_set    ={9, (9,)} id(new_set)    =140234917472608\n"
     ]
    }
   ],
   "source": [
    "new_set = simple_set.copy()\n",
    "print(f\"{simple_set =} {id(simple_set) =}\")\n",
    "print(f\"{new_set    =} {id(new_set)    =}\")"
   ]
  },
  {
   "cell_type": "code",
   "execution_count": 47,
   "metadata": {},
   "outputs": [
    {
     "name": "stdout",
     "output_type": "stream",
     "text": [
      "\n",
      " After simple_set.clear()\n",
      "simple_set =set() id(simple_set) =140234917473952\n",
      "new_set    ={9, (9,)} id(new_set)    =140234917472608\n"
     ]
    }
   ],
   "source": [
    "simple_set.clear()\n",
    "\n",
    "print(\"\\n After simple_set.clear()\")\n",
    "print(f\"{simple_set =} {id(simple_set) =}\")\n",
    "print(f\"{new_set    =} {id(new_set)    =}\")"
   ]
  },
  {
   "cell_type": "code",
   "execution_count": 48,
   "metadata": {},
   "outputs": [],
   "source": [
    "# Assignment\n",
    "#  1. Try adding a string to both set.add & set.update &\n",
    "#  observe the difference\n",
    "#  'tomoto'"
   ]
  },
  {
   "cell_type": "code",
   "execution_count": 49,
   "metadata": {},
   "outputs": [
    {
     "data": {
      "text/plain": [
       "{'tomoto'}"
      ]
     },
     "execution_count": 49,
     "metadata": {},
     "output_type": "execute_result"
    }
   ],
   "source": [
    "myset = set()\n",
    "\n",
    "myset.add('tomoto')\n",
    "\n",
    "myset"
   ]
  },
  {
   "cell_type": "code",
   "execution_count": 50,
   "metadata": {},
   "outputs": [
    {
     "data": {
      "text/plain": [
       "{'m', 'o', 't', 'tomoto'}"
      ]
     },
     "execution_count": 50,
     "metadata": {},
     "output_type": "execute_result"
    }
   ],
   "source": [
    "myset.update('tomoto')\n",
    "\n",
    "myset"
   ]
  },
  {
   "attachments": {},
   "cell_type": "markdown",
   "metadata": {},
   "source": [
    "### Set Operations\n",
    "    - Venn Diagrams"
   ]
  },
  {
   "cell_type": "code",
   "execution_count": 53,
   "metadata": {},
   "outputs": [
    {
     "name": "stdout",
     "output_type": "stream",
     "text": [
      "rainbow ={'orange', 'red', 'green', 'yellow', 'violet', 'indigo', 'blue'}\n",
      "traffic_lights ={'green', 'red', 'yellow'}\n"
     ]
    }
   ],
   "source": [
    "rainbow = {\"red\", \"orange\", \"yellow\", \"green\", \"blue\", \"indigo\", \"violet\"}\n",
    "traffic_lights = {\"red\", \"yellow\", \"green\"} # , \"white\"}\n",
    "\n",
    "print(f\"{rainbow =}\")\n",
    "print(f\"{traffic_lights =}\")"
   ]
  },
  {
   "cell_type": "code",
   "execution_count": 54,
   "metadata": {},
   "outputs": [
    {
     "name": "stdout",
     "output_type": "stream",
     "text": [
      "traffic_lights.issubset(rainbow)   =True\n",
      "rainbow.issuperset(traffic_lights) =True\n"
     ]
    }
   ],
   "source": [
    "print(f\"{traffic_lights.issubset(rainbow)   =}\")\n",
    "print(f\"{rainbow.issuperset(traffic_lights) =}\")"
   ]
  },
  {
   "cell_type": "code",
   "execution_count": 55,
   "metadata": {},
   "outputs": [
    {
     "name": "stdout",
     "output_type": "stream",
     "text": [
      "\n",
      "alphabets.issubset(rainbow)   =False\n",
      "rainbow.issuperset(alphabets) =False\n"
     ]
    }
   ],
   "source": [
    "alphabets = {\"a\", \"b\", \"c\"}\n",
    "print(f\"\\n{alphabets.issubset(rainbow)   =}\")\n",
    "print(f\"{rainbow.issuperset(alphabets) =}\")"
   ]
  },
  {
   "cell_type": "code",
   "execution_count": 56,
   "metadata": {},
   "outputs": [
    {
     "name": "stdout",
     "output_type": "stream",
     "text": [
      "traffic_lights.isdisjoint(rainbow)   =False\n",
      "traffic_lights.intersection(rainbow) ={'yellow', 'red', 'green'}\n"
     ]
    }
   ],
   "source": [
    "print(f\"{traffic_lights.isdisjoint(rainbow)   =}\")  # False\n",
    "print(f\"{traffic_lights.intersection(rainbow) =}\")  # {'red', 'yellow', 'green'}"
   ]
  },
  {
   "cell_type": "code",
   "execution_count": 57,
   "metadata": {},
   "outputs": [
    {
     "name": "stdout",
     "output_type": "stream",
     "text": [
      "alphabets.isdisjoint(rainbow)        =True\n",
      "alphabets.intersection(rainbow)      =set()\n"
     ]
    }
   ],
   "source": [
    "print(f\"{alphabets.isdisjoint(rainbow)        =}\")  # True\n",
    "print(f\"{alphabets.intersection(rainbow)      =}\")  # set()"
   ]
  },
  {
   "cell_type": "code",
   "execution_count": 58,
   "metadata": {},
   "outputs": [
    {
     "ename": "TypeError",
     "evalue": "unsupported operand type(s) for +: 'set' and 'set'",
     "output_type": "error",
     "traceback": [
      "\u001b[0;31m---------------------------------------------------------------------------\u001b[0m",
      "\u001b[0;31mTypeError\u001b[0m                                 Traceback (most recent call last)",
      "Cell \u001b[0;32mIn[58], line 2\u001b[0m\n\u001b[1;32m      1\u001b[0m \u001b[39m# Set concatenation is not possible\u001b[39;00m\n\u001b[0;32m----> 2\u001b[0m rainbow \u001b[39m+\u001b[39;49m traffic_lights\n",
      "\u001b[0;31mTypeError\u001b[0m: unsupported operand type(s) for +: 'set' and 'set'"
     ]
    }
   ],
   "source": [
    "# Set concatenation is not possible\n",
    "rainbow + traffic_lights"
   ]
  },
  {
   "cell_type": "code",
   "execution_count": 59,
   "metadata": {},
   "outputs": [
    {
     "name": "stdout",
     "output_type": "stream",
     "text": [
      "rainbow - traffic_lights ={'orange', 'violet', 'indigo', 'blue'}\n",
      "traffic_lights - rainbow =set()\n"
     ]
    }
   ],
   "source": [
    "# Set difference\n",
    "# - from first set, remove common elements between both sets\n",
    "\n",
    "print(f\"{rainbow - traffic_lights =}\")\n",
    "print(f\"{traffic_lights - rainbow =}\")"
   ]
  },
  {
   "cell_type": "code",
   "execution_count": 60,
   "metadata": {},
   "outputs": [
    {
     "name": "stdout",
     "output_type": "stream",
     "text": [
      "rainbow.union(traffic_lights) ={'orange', 'red', 'violet', 'green', 'yellow', 'indigo', 'blue'}\n",
      "traffic_lights.union(rainbow) ={'orange', 'red', 'violet', 'green', 'yellow', 'indigo', 'blue'}\n"
     ]
    }
   ],
   "source": [
    "# To get the all elements between both sets\n",
    "print(f\"{rainbow.union(traffic_lights) =}\")\n",
    "print(f\"{traffic_lights.union(rainbow) =}\")"
   ]
  },
  {
   "cell_type": "code",
   "execution_count": 61,
   "metadata": {},
   "outputs": [
    {
     "name": "stdout",
     "output_type": "stream",
     "text": [
      "rainbow.intersection(traffic_lights) ={'yellow', 'red', 'green'}\n",
      "traffic_lights.intersection(rainbow) ={'yellow', 'red', 'green'}\n"
     ]
    }
   ],
   "source": [
    "# To get the common elements between both sets\n",
    "print(f\"{rainbow.intersection(traffic_lights) =}\")\n",
    "print(f\"{traffic_lights.intersection(rainbow) =}\")"
   ]
  },
  {
   "cell_type": "code",
   "execution_count": 62,
   "metadata": {},
   "outputs": [
    {
     "name": "stdout",
     "output_type": "stream",
     "text": [
      "rainbow.symmetric_difference(traffic_lights) ={'orange', 'violet', 'indigo', 'blue'}\n",
      "traffic_lights.symmetric_difference(rainbow) ={'orange', 'violet', 'indigo', 'blue'}\n"
     ]
    }
   ],
   "source": [
    "# Symmetric Difference\n",
    "#   - To get elements of both sets, which are not common\n",
    "#   - For sets A, B, symmetric_difference is (A U B) - (A intersection B)\n",
    "\n",
    "print(f\"{rainbow.symmetric_difference(traffic_lights) =}\")\n",
    "print(f\"{traffic_lights.symmetric_difference(rainbow) =}\")"
   ]
  },
  {
   "cell_type": "markdown",
   "metadata": {},
   "source": [
    "### Mutability in sets\n",
    "\n",
    "    - sets are mutable\n",
    "    - frozensets are immutable"
   ]
  },
  {
   "cell_type": "code",
   "execution_count": 63,
   "metadata": {},
   "outputs": [
    {
     "name": "stdout",
     "output_type": "stream",
     "text": [
      "140234917474848 <class 'set'> {33, 11, 22}\n"
     ]
    }
   ],
   "source": [
    "ordinary_set = {11, 22, 33, 22}\n",
    "print(f\"{id(ordinary_set)} {type(ordinary_set)} {ordinary_set}\")"
   ]
  },
  {
   "cell_type": "code",
   "execution_count": 64,
   "metadata": {},
   "outputs": [
    {
     "name": "stdout",
     "output_type": "stream",
     "text": [
      "140234917474848 <class 'set'> {99, 33, 11, 22}\n"
     ]
    }
   ],
   "source": [
    "ordinary_set.add(99)\n",
    "print(f\"{id(ordinary_set)} {type(ordinary_set)} {ordinary_set}\")"
   ]
  },
  {
   "cell_type": "code",
   "execution_count": 65,
   "metadata": {},
   "outputs": [],
   "source": [
    "# Conclusion - In object changes are possible - so, mutable object"
   ]
  },
  {
   "cell_type": "code",
   "execution_count": 66,
   "metadata": {},
   "outputs": [
    {
     "name": "stdout",
     "output_type": "stream",
     "text": [
      "\n",
      " Frozenset is immutable\n",
      "140234917473504 <class 'frozenset'> frozenset({33, 11, 22})\n"
     ]
    }
   ],
   "source": [
    "print(\"\\n Frozenset is immutable\")\n",
    "\n",
    "fz_set = frozenset({11, 22, 33, 22})\n",
    "print(f\"{id(fz_set)} {type(fz_set)} {fz_set}\")"
   ]
  },
  {
   "cell_type": "code",
   "execution_count": 67,
   "metadata": {},
   "outputs": [
    {
     "name": "stdout",
     "output_type": "stream",
     "text": [
      "frozenset dont have set editable attributes\n"
     ]
    }
   ],
   "source": [
    "try:\n",
    "    fz_set.add(99)\n",
    "except AttributeError:\n",
    "    print(\"frozenset dont have set editable attributes\")"
   ]
  },
  {
   "cell_type": "code",
   "execution_count": 68,
   "metadata": {},
   "outputs": [
    {
     "name": "stdout",
     "output_type": "stream",
     "text": [
      "['__and__', '__class__', '__class_getitem__', '__contains__', '__delattr__', '__dir__', '__doc__', '__eq__', '__format__', '__ge__', '__getattribute__', '__gt__', '__hash__', '__iand__', '__init__', '__init_subclass__', '__ior__', '__isub__', '__iter__', '__ixor__', '__le__', '__len__', '__lt__', '__ne__', '__new__', '__or__', '__rand__', '__reduce__', '__reduce_ex__', '__repr__', '__ror__', '__rsub__', '__rxor__', '__setattr__', '__sizeof__', '__str__', '__sub__', '__subclasshook__', '__xor__', 'add', 'clear', 'copy', 'difference', 'difference_update', 'discard', 'intersection', 'intersection_update', 'isdisjoint', 'issubset', 'issuperset', 'pop', 'remove', 'symmetric_difference', 'symmetric_difference_update', 'union', 'update']\n",
      "\n",
      "['__and__', '__class__', '__class_getitem__', '__contains__', '__delattr__', '__dir__', '__doc__', '__eq__', '__format__', '__ge__', '__getattribute__', '__gt__', '__hash__', '__init__', '__init_subclass__', '__iter__', '__le__', '__len__', '__lt__', '__ne__', '__new__', '__or__', '__rand__', '__reduce__', '__reduce_ex__', '__repr__', '__ror__', '__rsub__', '__rxor__', '__setattr__', '__sizeof__', '__str__', '__sub__', '__subclasshook__', '__xor__', 'copy', 'difference', 'intersection', 'isdisjoint', 'issubset', 'issuperset', 'symmetric_difference', 'union']\n"
     ]
    }
   ],
   "source": [
    "print(dir(ordinary_set))\n",
    "print()\n",
    "print(dir(fz_set))"
   ]
  },
  {
   "cell_type": "code",
   "execution_count": 69,
   "metadata": {},
   "outputs": [
    {
     "name": "stdout",
     "output_type": "stream",
     "text": [
      "sets cant be stored in sets - As sets are mutable \n"
     ]
    }
   ],
   "source": [
    "try:\n",
    "    new_set = {1, 2, {2, 3}}\n",
    "except TypeError:\n",
    "    print(\"sets cant be stored in sets - As sets are mutable \")"
   ]
  },
  {
   "cell_type": "code",
   "execution_count": 70,
   "metadata": {},
   "outputs": [
    {
     "name": "stdout",
     "output_type": "stream",
     "text": [
      "new_set ={1, 2, frozenset({2, 3})}\n"
     ]
    }
   ],
   "source": [
    "new_set = {1, 2, frozenset({2, 3})}\n",
    "print(f\"{new_set =}\")\n",
    "# NOTE: frozenset can be stored in sets - As frozenset is immutable"
   ]
  },
  {
   "cell_type": "markdown",
   "metadata": {},
   "source": [
    "### Problem:  To get the uncommon words"
   ]
  },
  {
   "cell_type": "code",
   "execution_count": 72,
   "metadata": {},
   "outputs": [
    {
     "name": "stdout",
     "output_type": "stream",
     "text": [
      "common_words ={'San Deigo', 'Los Angeles'}\n",
      "all_words = {'Bakersfield', 'San Jose', 'San Deigo', 'Los Angeles', 'San Francisco'}\n"
     ]
    }
   ],
   "source": [
    "word_set1 = {\"San Francisco\", \"Los Angeles\", \"San Deigo\"}\n",
    "word_set2 = {\"San Jose\", \"Los Angeles\", \"San Deigo\", \"Bakersfield\"}\n",
    "\n",
    "\n",
    "common_words = word_set1.intersection(word_set2)\n",
    "print(f\"{common_words =}\")\n",
    "\n",
    "all_words = word_set1.union(word_set2)\n",
    "print(f\"{all_words = }\")"
   ]
  },
  {
   "cell_type": "code",
   "execution_count": 73,
   "metadata": {},
   "outputs": [
    {
     "name": "stdout",
     "output_type": "stream",
     "text": [
      "uncommon_words ={'Bakersfield', 'San Jose', 'San Francisco'}\n"
     ]
    }
   ],
   "source": [
    "uncommon_words = word_set1 ^ word_set2\n",
    "print(f\"{uncommon_words =}\")"
   ]
  },
  {
   "cell_type": "code",
   "execution_count": 74,
   "metadata": {},
   "outputs": [
    {
     "name": "stdout",
     "output_type": "stream",
     "text": [
      "uncommon_words ={'Bakersfield', 'San Jose', 'San Francisco'}\n"
     ]
    }
   ],
   "source": [
    "uncommon_words = word_set1.symmetric_difference(word_set2)\n",
    "print(f\"{uncommon_words =}\")"
   ]
  }
 ],
 "metadata": {
  "kernelspec": {
   "display_name": "Python 3",
   "language": "python",
   "name": "python3"
  },
  "language_info": {
   "codemirror_mode": {
    "name": "ipython",
    "version": 3
   },
   "file_extension": ".py",
   "mimetype": "text/x-python",
   "name": "python",
   "nbconvert_exporter": "python",
   "pygments_lexer": "ipython3",
   "version": "3.10.4"
  },
  "orig_nbformat": 4
 },
 "nbformat": 4,
 "nbformat_minor": 2
}
