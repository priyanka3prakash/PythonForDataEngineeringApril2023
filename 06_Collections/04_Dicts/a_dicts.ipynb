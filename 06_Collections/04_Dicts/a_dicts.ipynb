{
 "cells": [
  {
   "attachments": {},
   "cell_type": "markdown",
   "metadata": {},
   "source": [
    "## Dictionaries\n",
    "\n",
    "    - This is representation of the data structure\n",
    "        - HashMap\n",
    "    - Properties\n",
    "        - represented using {} or dict()\n",
    "\n",
    "        - from python 3.6 onwards, the order of dict is maintained\n",
    "            - In older versions, OrderedDict module should be used for the same\n",
    "        - Any data type can be used for dict values\n",
    "        - dict keys should be immutables only"
   ]
  },
  {
   "cell_type": "code",
   "execution_count": 1,
   "metadata": {},
   "outputs": [
    {
     "name": "stdout",
     "output_type": "stream",
     "text": [
      "{} <class 'dict'>\n",
      "{} <class 'dict'>\n",
      "set() <class 'set'>\n"
     ]
    }
   ],
   "source": [
    "empty_dict = {}\n",
    "print(empty_dict, type(empty_dict))\n",
    "\n",
    "empty_dict = dict()\n",
    "print(empty_dict, type(empty_dict))\n",
    "\n",
    "empty_set = set()\n",
    "print(empty_set, type(empty_set))"
   ]
  },
  {
   "cell_type": "code",
   "execution_count": 2,
   "metadata": {},
   "outputs": [
    {
     "name": "stdout",
     "output_type": "stream",
     "text": [
      "{34, 12} <class 'set'>\n",
      "{12: 34, 34: 56} <class 'dict'>\n"
     ]
    }
   ],
   "source": [
    "other_set = {12, 34}\n",
    "print(other_set, type(other_set))\n",
    "\n",
    "other_dict = {12: 34, 34: 56}\n",
    "print(other_dict, type(other_dict))"
   ]
  },
  {
   "cell_type": "code",
   "execution_count": 3,
   "metadata": {},
   "outputs": [
    {
     "name": "stdout",
     "output_type": "stream",
     "text": [
      "{'a': 1} <class 'dict'>\n"
     ]
    }
   ],
   "source": [
    "dict_with_single_pair = {\"a\": 1}\n",
    "print(dict_with_single_pair, type(dict_with_single_pair))"
   ]
  },
  {
   "cell_type": "code",
   "execution_count": 4,
   "metadata": {},
   "outputs": [
    {
     "name": "stdout",
     "output_type": "stream",
     "text": [
      "len(dict_with_single_pair) =1\n"
     ]
    }
   ],
   "source": [
    "print(f\"{len(dict_with_single_pair) =}\")"
   ]
  },
  {
   "cell_type": "code",
   "execution_count": 5,
   "metadata": {},
   "outputs": [
    {
     "data": {
      "text/plain": [
       "{'b': 2, 'a': 1, 'c': 3, 'd': 4}"
      ]
     },
     "execution_count": 5,
     "metadata": {},
     "output_type": "execute_result"
    }
   ],
   "source": [
    "alphabhets = {\"b\": 2, \"a\": 1, \"c\": 3, \"d\": 4}\n",
    "\n",
    "alphabhets"
   ]
  },
  {
   "cell_type": "code",
   "execution_count": 6,
   "metadata": {},
   "outputs": [
    {
     "data": {
      "text/plain": [
       "\"\\nIn python < 3.6, use below code to retaining the assigned order\\n\\nimport OrderedDict\\nalphabhets = OrderedDict.OrderedDict({'a': 1, 'b': 2, 'c': 3, 'd': 4})\\nprint(alphabhets)\\n\""
      ]
     },
     "execution_count": 6,
     "metadata": {},
     "output_type": "execute_result"
    }
   ],
   "source": [
    "\n",
    "\"\"\"\n",
    "In python < 3.6, use below code to retaining the assigned order\n",
    "\n",
    "import OrderedDict\n",
    "alphabhets = OrderedDict.OrderedDict({'a': 1, 'b': 2, 'c': 3, 'd': 4})\n",
    "print(alphabhets)\n",
    "\"\"\""
   ]
  },
  {
   "cell_type": "code",
   "execution_count": 7,
   "metadata": {},
   "outputs": [
    {
     "name": "stdout",
     "output_type": "stream",
     "text": [
      "<class 'dict'> {}\n"
     ]
    }
   ],
   "source": [
    "person_details = {\n",
    "\n",
    "}\n",
    "\n",
    "print(type(person_details), person_details)"
   ]
  },
  {
   "cell_type": "code",
   "execution_count": 8,
   "metadata": {},
   "outputs": [
    {
     "name": "stdout",
     "output_type": "stream",
     "text": [
      "<class 'dict'> {'name': 'Gudo Van Russom'}\n"
     ]
    }
   ],
   "source": [
    "person_details = {\n",
    "    \"name\": \"Gudo Van Russom\",\n",
    "\n",
    "}\n",
    "\n",
    "print(type(person_details), person_details)"
   ]
  },
  {
   "cell_type": "code",
   "execution_count": 9,
   "metadata": {},
   "outputs": [
    {
     "name": "stdout",
     "output_type": "stream",
     "text": [
      "<class 'dict'> {'name': 'Gudo Van Russom', 'age': 67, 'salary': 1233123.12}\n"
     ]
    }
   ],
   "source": [
    "person_details = {\n",
    "    \"name\": \"Gudo Van Russom\",\n",
    "    \"age\": 67,\n",
    "    \"salary\": 1233123.12,\n",
    "\n",
    "}\n",
    "\n",
    "print(type(person_details), person_details)"
   ]
  },
  {
   "cell_type": "code",
   "execution_count": 10,
   "metadata": {},
   "outputs": [
    {
     "name": "stdout",
     "output_type": "stream",
     "text": [
      "<class 'dict'> {'name': 'Gudo Van Russom', 'age': 67, 'salary': 1233123.12, 'children': ['mary', 'John'], 'parents': ('Sam Russom', 'Michel Russom'), 1: [12, 3, 12], -1213.213: {33}, ('Dr', 'Mr'): 'titles', None: 'This is None'}\n"
     ]
    }
   ],
   "source": [
    "person_details = {\n",
    "    \"name\": \"Gudo Van Russom\",\n",
    "    \"age\": 67,\n",
    "    \"salary\": 1233123.12,\n",
    "    \"children\": [\"mary\", \"John\"],\n",
    "    \"parents\": (\"Sam Russom\", \"Michel Russom\"),\n",
    "    1: [12, 3, 12],\n",
    "    -1213.213: {33, 33},\n",
    "    (\"Dr\", \"Mr\"): \"titles\",\n",
    "    None: \"This is None\",\n",
    "\n",
    "}\n",
    "\n",
    "print(type(person_details), person_details)"
   ]
  },
  {
   "cell_type": "code",
   "execution_count": 11,
   "metadata": {},
   "outputs": [
    {
     "ename": "TypeError",
     "evalue": "unhashable type: 'list'",
     "output_type": "error",
     "traceback": [
      "\u001b[0;31m---------------------------------------------------------------------------\u001b[0m",
      "\u001b[0;31mTypeError\u001b[0m                                 Traceback (most recent call last)",
      "Cell \u001b[0;32mIn[11], line 1\u001b[0m\n\u001b[0;32m----> 1\u001b[0m person_details \u001b[39m=\u001b[39m {\n\u001b[1;32m      2\u001b[0m     \u001b[39m\"\u001b[39m\u001b[39mname\u001b[39m\u001b[39m\"\u001b[39m: \u001b[39m\"\u001b[39m\u001b[39mGudo Van Russom\u001b[39m\u001b[39m\"\u001b[39m,\n\u001b[1;32m      3\u001b[0m     \u001b[39m\"\u001b[39m\u001b[39mage\u001b[39m\u001b[39m\"\u001b[39m: \u001b[39m67\u001b[39m,\n\u001b[1;32m      4\u001b[0m     \u001b[39m\"\u001b[39m\u001b[39msalary\u001b[39m\u001b[39m\"\u001b[39m: \u001b[39m1233123.12\u001b[39m,\n\u001b[1;32m      5\u001b[0m     \u001b[39m\"\u001b[39m\u001b[39mchildren\u001b[39m\u001b[39m\"\u001b[39m: [\u001b[39m\"\u001b[39m\u001b[39mmary\u001b[39m\u001b[39m\"\u001b[39m, \u001b[39m\"\u001b[39m\u001b[39mJohn\u001b[39m\u001b[39m\"\u001b[39m],\n\u001b[1;32m      6\u001b[0m     \u001b[39m\"\u001b[39m\u001b[39mparents\u001b[39m\u001b[39m\"\u001b[39m: (\u001b[39m\"\u001b[39m\u001b[39mSam Russom\u001b[39m\u001b[39m\"\u001b[39m, \u001b[39m\"\u001b[39m\u001b[39mMichel Russom\u001b[39m\u001b[39m\"\u001b[39m),\n\u001b[1;32m      7\u001b[0m     \u001b[39m1\u001b[39m: [\u001b[39m12\u001b[39m, \u001b[39m3\u001b[39m, \u001b[39m12\u001b[39m],\n\u001b[1;32m      8\u001b[0m     \u001b[39m-\u001b[39m\u001b[39m1213.213\u001b[39m: {\u001b[39m33\u001b[39m, \u001b[39m33\u001b[39m},\n\u001b[1;32m      9\u001b[0m     (\u001b[39m\"\u001b[39m\u001b[39mDr\u001b[39m\u001b[39m\"\u001b[39m, \u001b[39m\"\u001b[39m\u001b[39mMr\u001b[39m\u001b[39m\"\u001b[39m): \u001b[39m\"\u001b[39m\u001b[39mtitles\u001b[39m\u001b[39m\"\u001b[39m,\n\u001b[1;32m     10\u001b[0m     \u001b[39mNone\u001b[39;00m: \u001b[39m\"\u001b[39m\u001b[39mThis is None\u001b[39m\u001b[39m\"\u001b[39m,\n\u001b[1;32m     11\u001b[0m     [\u001b[39m12\u001b[39m, \u001b[39m23\u001b[39m]: \u001b[39m'\u001b[39m\u001b[39msomething\u001b[39m\u001b[39m'\u001b[39m,\n\u001b[1;32m     12\u001b[0m }\n\u001b[1;32m     14\u001b[0m \u001b[39mprint\u001b[39m(\u001b[39mtype\u001b[39m(person_details), person_details)\n",
      "\u001b[0;31mTypeError\u001b[0m: unhashable type: 'list'"
     ]
    }
   ],
   "source": [
    "person_details = {\n",
    "    \"name\": \"Gudo Van Russom\",\n",
    "    \"age\": 67,\n",
    "    \"salary\": 1233123.12,\n",
    "    \"children\": [\"mary\", \"John\"],\n",
    "    \"parents\": (\"Sam Russom\", \"Michel Russom\"),\n",
    "    1: [12, 3, 12],\n",
    "    -1213.213: {33, 33},\n",
    "    (\"Dr\", \"Mr\"): \"titles\",\n",
    "    None: \"This is None\",\n",
    "    [12, 23]: 'something',\n",
    "}\n",
    "\n",
    "print(type(person_details), person_details)"
   ]
  },
  {
   "cell_type": "markdown",
   "metadata": {},
   "source": [
    "__NOTE:__  dict keys should be immutable and hashable"
   ]
  },
  {
   "cell_type": "code",
   "execution_count": 12,
   "metadata": {},
   "outputs": [
    {
     "name": "stdout",
     "output_type": "stream",
     "text": [
      "<class 'dict'> {'name': 'Gudo Van Russom', 'age': 67, 'salary': 1233123.12, 'children': ['mary', 'John'], 'parents': ('Sam Russom', 'Michel Russom'), 1: [12, 3, 12], -1213.213: {33}, ('Dr', 'Mr'): 'titles', None: 'This is None', (12, 23): 'something'}\n"
     ]
    }
   ],
   "source": [
    "person_details = {\n",
    "    \"name\": \"Gudo Van Russom\",\n",
    "    \"age\": 67,\n",
    "    \"salary\": 1233123.12,\n",
    "    \"children\": [\"mary\", \"John\"],\n",
    "    \"parents\": (\"Sam Russom\", \"Michel Russom\"),\n",
    "    1: [12, 3, 12],\n",
    "    -1213.213: {33, 33},\n",
    "    (\"Dr\", \"Mr\"): \"titles\",\n",
    "    None: \"This is None\",\n",
    "    tuple([12, 23]): 'something',\n",
    "}\n",
    "\n",
    "print(type(person_details), person_details)"
   ]
  },
  {
   "cell_type": "code",
   "execution_count": 13,
   "metadata": {},
   "outputs": [
    {
     "name": "stdout",
     "output_type": "stream",
     "text": [
      "  \n",
      "    hash(1) = 1\n",
      "    hash(1.34) = 783986623132656129\n",
      "    hash(-0.34) = -783986623132656000\n",
      "\n",
      "    hash(None) = 5875132440874\n",
      "    \n",
      "    hash(True) = 1\n",
      "    hash(False) = 0\n",
      "    \n",
      "    hash(\"Python\") = -7907217122015509258\n",
      "    hash((1, 2, 3)) = 529344067295497451\n",
      "\n",
      "\n",
      "\n"
     ]
    }
   ],
   "source": [
    "# mutable -- list, set, dict\n",
    "# immutable -- basic  types (int, float, None, bool, str), tuple, frozenset\n",
    "\n",
    "print(f\"\"\"  \n",
    "    {hash(1) = }\n",
    "    {hash(1.34) = }\n",
    "    {hash(-0.34) = }\n",
    "\n",
    "    {hash(None) = }\n",
    "    \n",
    "    {hash(True) = }\n",
    "    {hash(False) = }\n",
    "    \n",
    "    {hash(\"Python\") = }\n",
    "    {hash((1, 2, 3)) = }\n",
    "\n",
    "\n",
    "\"\"\")"
   ]
  },
  {
   "cell_type": "code",
   "execution_count": 14,
   "metadata": {},
   "outputs": [
    {
     "ename": "TypeError",
     "evalue": "unhashable type: 'list'",
     "output_type": "error",
     "traceback": [
      "\u001b[0;31m---------------------------------------------------------------------------\u001b[0m",
      "\u001b[0;31mTypeError\u001b[0m                                 Traceback (most recent call last)",
      "Cell \u001b[0;32mIn[14], line 1\u001b[0m\n\u001b[0;32m----> 1\u001b[0m \u001b[39mhash\u001b[39;49m([\u001b[39m1\u001b[39;49m, \u001b[39m2\u001b[39;49m, \u001b[39m3\u001b[39;49m])\n",
      "\u001b[0;31mTypeError\u001b[0m: unhashable type: 'list'"
     ]
    }
   ],
   "source": [
    "hash([1, 2, 3])"
   ]
  },
  {
   "cell_type": "code",
   "execution_count": 15,
   "metadata": {},
   "outputs": [
    {
     "data": {
      "text/plain": [
       "(tuple, (1, 2, 3, [4, 5]))"
      ]
     },
     "execution_count": 15,
     "metadata": {},
     "output_type": "execute_result"
    }
   ],
   "source": [
    "res = (1, 2, 3, [4, 5])\n",
    "\n",
    "type(res), res"
   ]
  },
  {
   "cell_type": "code",
   "execution_count": 16,
   "metadata": {},
   "outputs": [
    {
     "ename": "TypeError",
     "evalue": "unhashable type: 'list'",
     "output_type": "error",
     "traceback": [
      "\u001b[0;31m---------------------------------------------------------------------------\u001b[0m",
      "\u001b[0;31mTypeError\u001b[0m                                 Traceback (most recent call last)",
      "Cell \u001b[0;32mIn[16], line 1\u001b[0m\n\u001b[0;32m----> 1\u001b[0m \u001b[39mhash\u001b[39;49m(res)\n",
      "\u001b[0;31mTypeError\u001b[0m: unhashable type: 'list'"
     ]
    }
   ],
   "source": [
    "hash(res)"
   ]
  },
  {
   "cell_type": "code",
   "execution_count": 17,
   "metadata": {},
   "outputs": [],
   "source": [
    "# NOTE: Immutable and hashable objects can be stored as set values, and dict keys"
   ]
  },
  {
   "cell_type": "code",
   "execution_count": 18,
   "metadata": {},
   "outputs": [
    {
     "name": "stdout",
     "output_type": "stream",
     "text": [
      "{'name': 'Gudo Van Russom', 'age': 67, 'salary': 1233123.12, 'children': ['mary', 'John'], 'parents': ('Sam Russom', 'Michel Russom'), 1: [12, 3, 12], -1213.213: {33}, ('Dr', 'Mr'): 'titles', None: 'This is None', (12, 23): 'something'}\n"
     ]
    }
   ],
   "source": [
    "print(person_details)"
   ]
  },
  {
   "cell_type": "code",
   "execution_count": 19,
   "metadata": {},
   "outputs": [
    {
     "data": {
      "text/plain": [
       "{'name': 'Gudo Van Russom',\n",
       " 'age': 67,\n",
       " 'salary': 1233123.12,\n",
       " 'children': ['mary', 'John'],\n",
       " 'parents': ('Sam Russom', 'Michel Russom'),\n",
       " 1: [12, 3, 12],\n",
       " -1213.213: {33},\n",
       " ('Dr', 'Mr'): 'titles',\n",
       " None: 'This is None',\n",
       " (12, 23): 'something'}"
      ]
     },
     "execution_count": 19,
     "metadata": {},
     "output_type": "execute_result"
    }
   ],
   "source": [
    "person_details"
   ]
  },
  {
   "cell_type": "code",
   "execution_count": 20,
   "metadata": {},
   "outputs": [
    {
     "name": "stdout",
     "output_type": "stream",
     "text": [
      "{None: 'This is None',\n",
      " -1213.213: {33},\n",
      " 1: [12, 3, 12],\n",
      " 'age': 67,\n",
      " 'children': ['mary', 'John'],\n",
      " 'name': 'Gudo Van Russom',\n",
      " 'parents': ('Sam Russom', 'Michel Russom'),\n",
      " 'salary': 1233123.12,\n",
      " ('Dr', 'Mr'): 'titles',\n",
      " (12, 23): 'something'}\n"
     ]
    }
   ],
   "source": [
    "# import pprint\n",
    "\n",
    "from pprint import pprint\n",
    "\n",
    "pprint(person_details)"
   ]
  },
  {
   "cell_type": "code",
   "execution_count": 23,
   "metadata": {},
   "outputs": [
    {
     "name": "stdout",
     "output_type": "stream",
     "text": [
      "\u001b[0;31mSignature:\u001b[0m\n",
      "\u001b[0mpprint\u001b[0m\u001b[0;34m(\u001b[0m\u001b[0;34m\u001b[0m\n",
      "\u001b[0;34m\u001b[0m    \u001b[0mobject\u001b[0m\u001b[0;34m,\u001b[0m\u001b[0;34m\u001b[0m\n",
      "\u001b[0;34m\u001b[0m    \u001b[0mstream\u001b[0m\u001b[0;34m=\u001b[0m\u001b[0;32mNone\u001b[0m\u001b[0;34m,\u001b[0m\u001b[0;34m\u001b[0m\n",
      "\u001b[0;34m\u001b[0m    \u001b[0mindent\u001b[0m\u001b[0;34m=\u001b[0m\u001b[0;36m1\u001b[0m\u001b[0;34m,\u001b[0m\u001b[0;34m\u001b[0m\n",
      "\u001b[0;34m\u001b[0m    \u001b[0mwidth\u001b[0m\u001b[0;34m=\u001b[0m\u001b[0;36m80\u001b[0m\u001b[0;34m,\u001b[0m\u001b[0;34m\u001b[0m\n",
      "\u001b[0;34m\u001b[0m    \u001b[0mdepth\u001b[0m\u001b[0;34m=\u001b[0m\u001b[0;32mNone\u001b[0m\u001b[0;34m,\u001b[0m\u001b[0;34m\u001b[0m\n",
      "\u001b[0;34m\u001b[0m    \u001b[0;34m*\u001b[0m\u001b[0;34m,\u001b[0m\u001b[0;34m\u001b[0m\n",
      "\u001b[0;34m\u001b[0m    \u001b[0mcompact\u001b[0m\u001b[0;34m=\u001b[0m\u001b[0;32mFalse\u001b[0m\u001b[0;34m,\u001b[0m\u001b[0;34m\u001b[0m\n",
      "\u001b[0;34m\u001b[0m    \u001b[0msort_dicts\u001b[0m\u001b[0;34m=\u001b[0m\u001b[0;32mTrue\u001b[0m\u001b[0;34m,\u001b[0m\u001b[0;34m\u001b[0m\n",
      "\u001b[0;34m\u001b[0m    \u001b[0munderscore_numbers\u001b[0m\u001b[0;34m=\u001b[0m\u001b[0;32mFalse\u001b[0m\u001b[0;34m,\u001b[0m\u001b[0;34m\u001b[0m\n",
      "\u001b[0;34m\u001b[0m\u001b[0;34m)\u001b[0m\u001b[0;34m\u001b[0m\u001b[0;34m\u001b[0m\u001b[0m\n",
      "\u001b[0;31mDocstring:\u001b[0m Pretty-print a Python object to a stream [default is sys.stdout].\n",
      "\u001b[0;31mFile:\u001b[0m      ~/.python/current/lib/python3.10/pprint.py\n",
      "\u001b[0;31mType:\u001b[0m      function"
     ]
    }
   ],
   "source": [
    "pprint?"
   ]
  },
  {
   "cell_type": "code",
   "execution_count": 25,
   "metadata": {},
   "outputs": [
    {
     "name": "stdout",
     "output_type": "stream",
     "text": [
      "{   None: 'This is None',\n",
      "    -1213.213: {33},\n",
      "    1: [12, 3, 12],\n",
      "    'age': 67,\n",
      "    'children': ['mary', 'John'],\n",
      "    'name': 'Gudo Van Russom',\n",
      "    'parents': ('Sam Russom', 'Michel Russom'),\n",
      "    'salary': 1233123.12,\n",
      "    ('Dr', 'Mr'): 'titles',\n",
      "    (12, 23): 'something'}\n"
     ]
    }
   ],
   "source": [
    "pprint(person_details, indent=4)"
   ]
  },
  {
   "cell_type": "code",
   "execution_count": 21,
   "metadata": {},
   "outputs": [
    {
     "name": "stdout",
     "output_type": "stream",
     "text": [
      "{'name': 'Gudo Van Russom',\n",
      " 'age': 67,\n",
      " 'salary': 1233123.12,\n",
      " 'children': ['mary', 'John'],\n",
      " 'parents': ('Sam Russom', 'Michel Russom'),\n",
      " 1: [12, 3, 12],\n",
      " -1213.213: {33},\n",
      " ('Dr', 'Mr'): 'titles',\n",
      " None: 'This is None',\n",
      " (12, 23): 'something'}\n"
     ]
    }
   ],
   "source": [
    "from pprint import pp\n",
    "\n",
    "pp(person_details)"
   ]
  },
  {
   "cell_type": "code",
   "execution_count": 22,
   "metadata": {},
   "outputs": [
    {
     "name": "stdout",
     "output_type": "stream",
     "text": [
      "\u001b[0;31mSignature:\u001b[0m \u001b[0mpp\u001b[0m\u001b[0;34m(\u001b[0m\u001b[0mobject\u001b[0m\u001b[0;34m,\u001b[0m \u001b[0;34m*\u001b[0m\u001b[0margs\u001b[0m\u001b[0;34m,\u001b[0m \u001b[0msort_dicts\u001b[0m\u001b[0;34m=\u001b[0m\u001b[0;32mFalse\u001b[0m\u001b[0;34m,\u001b[0m \u001b[0;34m**\u001b[0m\u001b[0mkwargs\u001b[0m\u001b[0;34m)\u001b[0m\u001b[0;34m\u001b[0m\u001b[0;34m\u001b[0m\u001b[0m\n",
      "\u001b[0;31mDocstring:\u001b[0m Pretty-print a Python object\n",
      "\u001b[0;31mFile:\u001b[0m      ~/.python/current/lib/python3.10/pprint.py\n",
      "\u001b[0;31mType:\u001b[0m      function"
     ]
    }
   ],
   "source": [
    "pp?"
   ]
  },
  {
   "cell_type": "code",
   "execution_count": 26,
   "metadata": {},
   "outputs": [],
   "source": [
    "# NOTE:\n",
    "# 1. general print() will retain dict order\n",
    "# 2. pprint() will sort by keys and display\n",
    "# 3. pp() will retain dict order, as created."
   ]
  },
  {
   "cell_type": "code",
   "execution_count": 27,
   "metadata": {},
   "outputs": [
    {
     "name": "stdout",
     "output_type": "stream",
     "text": [
      "{   'name': 'Gudo Van Russom',\n",
      "    'age': 67,\n",
      "    'salary': 1233123.12,\n",
      "    'children': ['mary', 'John'],\n",
      "    'parents': ('Sam Russom', 'Michel Russom'),\n",
      "    1: [12, 3, 12],\n",
      "    -1213.213: {33},\n",
      "    ('Dr', 'Mr'): 'titles',\n",
      "    None: 'This is None',\n",
      "    (12, 23): 'something'}\n"
     ]
    }
   ],
   "source": [
    "pp(person_details, indent=4)"
   ]
  },
  {
   "cell_type": "markdown",
   "metadata": {},
   "source": [
    "### Iterating over Dictionaries"
   ]
  },
  {
   "cell_type": "code",
   "execution_count": 29,
   "metadata": {},
   "outputs": [
    {
     "name": "stdout",
     "output_type": "stream",
     "text": [
      "P y t h o n "
     ]
    }
   ],
   "source": [
    "for each_char in \"Python\":\n",
    "    print(each_char, end= \" \")"
   ]
  },
  {
   "cell_type": "code",
   "execution_count": 30,
   "metadata": {},
   "outputs": [
    {
     "name": "stdout",
     "output_type": "stream",
     "text": [
      "1 11 22 33 44 "
     ]
    }
   ],
   "source": [
    "for each_char in [1, 11, 22, 33, 44]:\n",
    "    print(each_char, end= \" \")"
   ]
  },
  {
   "cell_type": "code",
   "execution_count": 31,
   "metadata": {},
   "outputs": [
    {
     "name": "stdout",
     "output_type": "stream",
     "text": [
      "1 11 22 33 44 "
     ]
    }
   ],
   "source": [
    "for each_char in (1, 11, 22, 33, 44):\n",
    "    print(each_char, end= \" \")"
   ]
  },
  {
   "cell_type": "code",
   "execution_count": 33,
   "metadata": {},
   "outputs": [
    {
     "name": "stdout",
     "output_type": "stream",
     "text": [
      "1\n",
      "22\n",
      "44\n"
     ]
    }
   ],
   "source": [
    "for each_char in {1:11, 22:33, 44:55}:\n",
    "    print(each_char)"
   ]
  },
  {
   "cell_type": "code",
   "execution_count": 34,
   "metadata": {},
   "outputs": [
    {
     "name": "stdout",
     "output_type": "stream",
     "text": [
      "1\n",
      "22\n",
      "44\n"
     ]
    }
   ],
   "source": [
    "for each_char in {1:11, 22:33, 44:55}.keys():\n",
    "    print(each_char)"
   ]
  },
  {
   "cell_type": "code",
   "execution_count": 35,
   "metadata": {},
   "outputs": [
    {
     "name": "stdout",
     "output_type": "stream",
     "text": [
      "11\n",
      "33\n",
      "55\n"
     ]
    }
   ],
   "source": [
    "for each_char in {1:11, 22:33, 44:55}.values():\n",
    "    print(each_char)"
   ]
  },
  {
   "cell_type": "code",
   "execution_count": 37,
   "metadata": {},
   "outputs": [
    {
     "name": "stdout",
     "output_type": "stream",
     "text": [
      "(1, 11)\n",
      "(22, 33)\n",
      "(44, 55)\n"
     ]
    }
   ],
   "source": [
    "for each_pair in {1:11, 22:33, 44:55}.items():\n",
    "    print(each_pair)"
   ]
  },
  {
   "cell_type": "code",
   "execution_count": 38,
   "metadata": {},
   "outputs": [
    {
     "name": "stdout",
     "output_type": "stream",
     "text": [
      "{'name': 'Narendra Modi', 'age': 73, 'salary': 200000, 'role': 'PM of India'}\n"
     ]
    }
   ],
   "source": [
    "person_details = {\n",
    "    \"name\": \"Narendra Modi\",\n",
    "    \"age\": 73,\n",
    "    \"salary\": 2_00_000,\n",
    "    \"role\": \"CM of Gujarat\",\n",
    "    \"role\": \"PM of India\",  # latest will be stored\n",
    "}\n",
    "print(person_details)"
   ]
  },
  {
   "cell_type": "code",
   "execution_count": 39,
   "metadata": {},
   "outputs": [
    {
     "name": "stdout",
     "output_type": "stream",
     "text": [
      "person_details.keys()  =dict_keys(['name', 'age', 'salary', 'role'])\n"
     ]
    }
   ],
   "source": [
    "# To get the dictionary keys\n",
    "print(f\"{person_details.keys()  =}\")"
   ]
  },
  {
   "cell_type": "code",
   "execution_count": 40,
   "metadata": {},
   "outputs": [
    {
     "data": {
      "text/plain": [
       "dict_keys"
      ]
     },
     "execution_count": 40,
     "metadata": {},
     "output_type": "execute_result"
    }
   ],
   "source": [
    "type(person_details.keys() )"
   ]
  },
  {
   "cell_type": "code",
   "execution_count": 41,
   "metadata": {},
   "outputs": [
    {
     "name": "stdout",
     "output_type": "stream",
     "text": [
      "person_details.values() =dict_values(['Narendra Modi', 73, 200000, 'PM of India'])\n"
     ]
    }
   ],
   "source": [
    "# To get the dictionary values\n",
    "print(f\"{person_details.values() =}\")"
   ]
  },
  {
   "cell_type": "code",
   "execution_count": 42,
   "metadata": {},
   "outputs": [
    {
     "name": "stdout",
     "output_type": "stream",
     "text": [
      "person_details.items() =dict_items([('name', 'Narendra Modi'), ('age', 73), ('salary', 200000), ('role', 'PM of India')])\n"
     ]
    }
   ],
   "source": [
    "# To get both keys & values as pairs\n",
    "print(f\"{person_details.items() =}\")"
   ]
  },
  {
   "cell_type": "code",
   "execution_count": 43,
   "metadata": {},
   "outputs": [
    {
     "name": "stdout",
     "output_type": "stream",
     "text": [
      "\n",
      " Iterating over the dictionary \n",
      "name\n",
      "age\n",
      "salary\n",
      "role\n"
     ]
    }
   ],
   "source": [
    "print(\"\\n Iterating over the dictionary \")\n",
    "for each in person_details:\n",
    "    print(each)\n",
    "\n",
    "# NOTE: By default, when iterating over dict, it will give dict keys only"
   ]
  },
  {
   "cell_type": "code",
   "execution_count": 44,
   "metadata": {},
   "outputs": [
    {
     "name": "stdout",
     "output_type": "stream",
     "text": [
      "\n",
      " person_details.keys()\n",
      "name\n",
      "age\n",
      "salary\n",
      "role\n"
     ]
    }
   ],
   "source": [
    "print(\"\\n person_details.keys()\")\n",
    "for each in person_details.keys():\n",
    "    print(each)"
   ]
  },
  {
   "cell_type": "code",
   "execution_count": 45,
   "metadata": {},
   "outputs": [
    {
     "name": "stdout",
     "output_type": "stream",
     "text": [
      "\n",
      " person_details.values()\n",
      "Narendra Modi\n",
      "73\n",
      "200000\n",
      "PM of India\n"
     ]
    }
   ],
   "source": [
    "print(\"\\n person_details.values()\")\n",
    "for each in person_details.values():\n",
    "    print(each)"
   ]
  },
  {
   "cell_type": "code",
   "execution_count": 46,
   "metadata": {},
   "outputs": [
    {
     "name": "stdout",
     "output_type": "stream",
     "text": [
      "\n",
      " person_details.items()\n",
      "('name', 'Narendra Modi')\n",
      "('age', 73)\n",
      "('salary', 200000)\n",
      "('role', 'PM of India')\n"
     ]
    }
   ],
   "source": [
    "print(\"\\n person_details.items()\")\n",
    "for each in person_details.items():\n",
    "    print(each)  # each - is a tuple object"
   ]
  },
  {
   "cell_type": "code",
   "execution_count": 47,
   "metadata": {},
   "outputs": [
    {
     "name": "stdout",
     "output_type": "stream",
     "text": [
      "\n",
      " person_details.items()\n",
      "name\tNarendra Modi\n",
      "age\t73\n",
      "salary\t200000\n",
      "role\tPM of India\n"
     ]
    }
   ],
   "source": [
    "print(\"\\n person_details.items()\")\n",
    "for each_key, each_value in person_details.items():\n",
    "    print(f\"{each_key}\\t{each_value}\")"
   ]
  },
  {
   "cell_type": "markdown",
   "metadata": {},
   "source": [
    "### Dict Operations"
   ]
  },
  {
   "cell_type": "code",
   "execution_count": 48,
   "metadata": {},
   "outputs": [
    {
     "data": {
      "text/plain": [
       "{'name': 'Saurav Ganguly',\n",
       " 'status': 'retired',\n",
       " 'salary': 12222213,\n",
       " 'strike_rate': 0.85}"
      ]
     },
     "execution_count": 48,
     "metadata": {},
     "output_type": "execute_result"
    }
   ],
   "source": [
    "employee = {\n",
    "    \"name\": \"Saurav Ganguly\",\n",
    "    \"status\": \"retired\",\n",
    "    \"salary\": 12_222_213,\n",
    "    \"strike_rate\": 85 / 100,\n",
    "}\n",
    "\n",
    "\n",
    "employee"
   ]
  },
  {
   "cell_type": "code",
   "execution_count": 49,
   "metadata": {},
   "outputs": [
    {
     "ename": "KeyError",
     "evalue": "0",
     "output_type": "error",
     "traceback": [
      "\u001b[0;31m---------------------------------------------------------------------------\u001b[0m",
      "\u001b[0;31mKeyError\u001b[0m                                  Traceback (most recent call last)",
      "Cell \u001b[0;32mIn[49], line 1\u001b[0m\n\u001b[0;32m----> 1\u001b[0m employee[\u001b[39m0\u001b[39;49m]\n",
      "\u001b[0;31mKeyError\u001b[0m: 0"
     ]
    }
   ],
   "source": [
    "employee[0]"
   ]
  },
  {
   "cell_type": "code",
   "execution_count": 50,
   "metadata": {},
   "outputs": [
    {
     "name": "stdout",
     "output_type": "stream",
     "text": [
      "Employee Name  : Saurav Ganguly\n",
      "Employee Status: retired\n"
     ]
    }
   ],
   "source": [
    "# Indexing in Dictionaries\n",
    "print(\"Employee Name  :\", employee[\"name\"])\n",
    "print(\"Employee Status:\", employee[\"status\"])"
   ]
  },
  {
   "cell_type": "code",
   "execution_count": 51,
   "metadata": {},
   "outputs": [
    {
     "name": "stdout",
     "output_type": "stream",
     "text": [
      "No such key :'no_of_centuries'\n"
     ]
    }
   ],
   "source": [
    "try:\n",
    "    employee[\"no_of_centuries\"]\n",
    "except KeyError as ex:\n",
    "    print(f\"No such key :{str(ex)}\")\n"
   ]
  },
  {
   "cell_type": "markdown",
   "metadata": {},
   "source": [
    "##### Dictionaries are mutable\n"
   ]
  },
  {
   "cell_type": "code",
   "execution_count": 52,
   "metadata": {},
   "outputs": [
    {
     "name": "stdout",
     "output_type": "stream",
     "text": [
      "Before change: id(employee) = 140399893171904\n",
      "Employee Status: rejoined\n",
      "After change : id(employee) = 140399893171904\n"
     ]
    }
   ],
   "source": [
    "print(f\"Before change: {id(employee) = }\")\n",
    "\n",
    "# Updating value for existing key\n",
    "employee[\"status\"] = \"rejoined\"\n",
    "\n",
    "print(\"Employee Status:\", employee[\"status\"])\n",
    "print(f\"After change : {id(employee) = }\")"
   ]
  },
  {
   "cell_type": "code",
   "execution_count": 53,
   "metadata": {},
   "outputs": [
    {
     "data": {
      "text/plain": [
       "{'name': 'Saurav Ganguly',\n",
       " 'status': 'rejoined',\n",
       " 'salary': 12222213,\n",
       " 'strike_rate': 0.85}"
      ]
     },
     "execution_count": 53,
     "metadata": {},
     "output_type": "execute_result"
    }
   ],
   "source": [
    "employee"
   ]
  },
  {
   "cell_type": "code",
   "execution_count": 54,
   "metadata": {},
   "outputs": [
    {
     "data": {
      "text/plain": [
       "{'name': 'Saurav Ganguly',\n",
       " 'status': 'rejoined',\n",
       " 'salary': 12222213,\n",
       " 'strike_rate': 0.85,\n",
       " 'no_of_centuries': 345}"
      ]
     },
     "execution_count": 54,
     "metadata": {},
     "output_type": "execute_result"
    }
   ],
   "source": [
    "# To add a new key\n",
    "employee[\"no_of_centuries\"] = 345\n",
    "\n",
    "employee"
   ]
  },
  {
   "cell_type": "code",
   "execution_count": 55,
   "metadata": {},
   "outputs": [],
   "source": [
    "# Difference ways of indexing\n",
    "# Question: dict['key'] vs dict.get() vs dict.setdefault"
   ]
  },
  {
   "cell_type": "code",
   "execution_count": 56,
   "metadata": {},
   "outputs": [
    {
     "name": "stdout",
     "output_type": "stream",
     "text": [
      "employee['strike_rate'] =0.85\n",
      "No such key :'no_of_catches'\n"
     ]
    }
   ],
   "source": [
    "print(f\"{employee['strike_rate'] =}\")\n",
    "\n",
    "try:\n",
    "    print(f\"{employee['no_of_catches'] =}\")\n",
    "except KeyError as ex:\n",
    "    print(f\"No such key :{str(ex)}\")"
   ]
  },
  {
   "cell_type": "code",
   "execution_count": 57,
   "metadata": {},
   "outputs": [
    {
     "name": "stdout",
     "output_type": "stream",
     "text": [
      "employee.get('strike_rate')                    =0.85\n",
      "employee.get('no_of_catches')                  =None\n"
     ]
    }
   ],
   "source": [
    "print(f\"{employee.get('strike_rate')                    =}\")\n",
    "print(f\"{employee.get('no_of_catches')                  =}\")\n"
   ]
  },
  {
   "cell_type": "code",
   "execution_count": 58,
   "metadata": {},
   "outputs": [
    {
     "name": "stdout",
     "output_type": "stream",
     "text": [
      "employee.get('no_of_catches', None)            =None\n",
      "employee.get('no_of_catches', 'No such key')   ='No such key'\n",
      "employee.get('no_of_catches', 234)             =234\n"
     ]
    }
   ],
   "source": [
    "# NOTE: dict.get() - returns None if key is not present\n",
    "print(f\"{employee.get('no_of_catches', None)            =}\")\n",
    "print(f\"{employee.get('no_of_catches', 'No such key')   =}\")\n",
    "print(f\"{employee.get('no_of_catches', 234)             =}\")"
   ]
  },
  {
   "cell_type": "code",
   "execution_count": 59,
   "metadata": {},
   "outputs": [
    {
     "data": {
      "text/plain": [
       "{'name': 'Saurav Ganguly',\n",
       " 'status': 'rejoined',\n",
       " 'salary': 12222213,\n",
       " 'strike_rate': 0.85,\n",
       " 'no_of_centuries': 345}"
      ]
     },
     "execution_count": 59,
     "metadata": {},
     "output_type": "execute_result"
    }
   ],
   "source": [
    "employee"
   ]
  },
  {
   "cell_type": "code",
   "execution_count": 60,
   "metadata": {},
   "outputs": [
    {
     "name": "stdout",
     "output_type": "stream",
     "text": [
      "employee.setdefault('strike_rate')        =0.85\n",
      "employee.setdefault('no_of_catches')      =None\n"
     ]
    }
   ],
   "source": [
    "print(f\"{employee.setdefault('strike_rate')        =}\")\n",
    "print(f\"{employee.setdefault('no_of_catches')      =}\")  # default is None\n"
   ]
  },
  {
   "cell_type": "code",
   "execution_count": 61,
   "metadata": {},
   "outputs": [
    {
     "data": {
      "text/plain": [
       "{'name': 'Saurav Ganguly',\n",
       " 'status': 'rejoined',\n",
       " 'salary': 12222213,\n",
       " 'strike_rate': 0.85,\n",
       " 'no_of_centuries': 345,\n",
       " 'no_of_catches': None}"
      ]
     },
     "execution_count": 61,
     "metadata": {},
     "output_type": "execute_result"
    }
   ],
   "source": [
    "employee"
   ]
  },
  {
   "cell_type": "code",
   "execution_count": 62,
   "metadata": {},
   "outputs": [
    {
     "name": "stdout",
     "output_type": "stream",
     "text": [
      "employee.setdefault('no_of_catches', 234) =None\n"
     ]
    },
    {
     "data": {
      "text/plain": [
       "{'name': 'Saurav Ganguly',\n",
       " 'status': 'rejoined',\n",
       " 'salary': 12222213,\n",
       " 'strike_rate': 0.85,\n",
       " 'no_of_centuries': 345,\n",
       " 'no_of_catches': None}"
      ]
     },
     "execution_count": 62,
     "metadata": {},
     "output_type": "execute_result"
    }
   ],
   "source": [
    "print(f\"{employee.setdefault('no_of_catches', 234) =}\")\n",
    "# As this key is present now, default values is not taken\n",
    "employee"
   ]
  },
  {
   "cell_type": "code",
   "execution_count": 63,
   "metadata": {},
   "outputs": [
    {
     "data": {
      "text/plain": [
       "155"
      ]
     },
     "execution_count": 63,
     "metadata": {},
     "output_type": "execute_result"
    }
   ],
   "source": [
    "employee.setdefault('ODI_matches_played', 155)"
   ]
  },
  {
   "cell_type": "code",
   "execution_count": 64,
   "metadata": {},
   "outputs": [
    {
     "data": {
      "text/plain": [
       "{'name': 'Saurav Ganguly',\n",
       " 'status': 'rejoined',\n",
       " 'salary': 12222213,\n",
       " 'strike_rate': 0.85,\n",
       " 'no_of_centuries': 345,\n",
       " 'no_of_catches': None,\n",
       " 'ODI_matches_played': 155}"
      ]
     },
     "execution_count": 64,
     "metadata": {},
     "output_type": "execute_result"
    }
   ],
   "source": [
    "employee"
   ]
  },
  {
   "cell_type": "code",
   "execution_count": 65,
   "metadata": {},
   "outputs": [
    {
     "name": "stdout",
     "output_type": "stream",
     "text": [
      "'no_of_catches' in employee            =True\n",
      "employee.__contains__('no_of_catches')   =True\n"
     ]
    }
   ],
   "source": [
    "#  in - operator - membership check\n",
    "print(f\"{'no_of_catches' in employee            =}\")\n",
    "print(f\"{employee.__contains__('no_of_catches')   =}\")"
   ]
  },
  {
   "cell_type": "code",
   "execution_count": 66,
   "metadata": {},
   "outputs": [
    {
     "name": "stdout",
     "output_type": "stream",
     "text": [
      "'no_of_wickets' in employee            =False\n",
      "employee.__contains__('no_of_wickets') =False\n"
     ]
    }
   ],
   "source": [
    "print(f\"{'no_of_wickets' in employee            =}\")\n",
    "print(f\"{employee.__contains__('no_of_wickets') =}\")"
   ]
  },
  {
   "cell_type": "code",
   "execution_count": 67,
   "metadata": {},
   "outputs": [
    {
     "name": "stdout",
     "output_type": "stream",
     "text": [
      "no_of_catches: None\n"
     ]
    }
   ],
   "source": [
    "if \"no_of_catches\" in employee:\n",
    "    print(\"no_of_catches:\", employee[\"no_of_catches\"])\n",
    "else:\n",
    "    print(\"No such key\")"
   ]
  },
  {
   "cell_type": "markdown",
   "metadata": {},
   "source": [
    "### Another Example"
   ]
  },
  {
   "cell_type": "code",
   "execution_count": 68,
   "metadata": {},
   "outputs": [
    {
     "data": {
      "text/plain": [
       "{}"
      ]
     },
     "execution_count": 68,
     "metadata": {},
     "output_type": "execute_result"
    }
   ],
   "source": [
    "language = dict()\n",
    "\n",
    "language"
   ]
  },
  {
   "cell_type": "code",
   "execution_count": 69,
   "metadata": {},
   "outputs": [],
   "source": [
    "# add new keys\n",
    "language[\"name\"] = \"Python\"\n",
    "language[\"creator\"] = \"Gudo Van Russum\""
   ]
  },
  {
   "cell_type": "code",
   "execution_count": 70,
   "metadata": {},
   "outputs": [
    {
     "data": {
      "text/plain": [
       "{'name': 'Python', 'creator': 'Gudo Van Russum'}"
      ]
     },
     "execution_count": 70,
     "metadata": {},
     "output_type": "execute_result"
    }
   ],
   "source": [
    "language"
   ]
  },
  {
   "cell_type": "code",
   "execution_count": 71,
   "metadata": {},
   "outputs": [],
   "source": [
    "# add single key value pair\n",
    "language[\"latest_version\"] = \"2.7.16\""
   ]
  },
  {
   "cell_type": "code",
   "execution_count": 72,
   "metadata": {},
   "outputs": [
    {
     "data": {
      "text/plain": [
       "{'name': 'Python', 'creator': 'Gudo Van Russum', 'latest_version': '2.7.16'}"
      ]
     },
     "execution_count": 72,
     "metadata": {},
     "output_type": "execute_result"
    }
   ],
   "source": [
    "language"
   ]
  },
  {
   "cell_type": "code",
   "execution_count": 73,
   "metadata": {},
   "outputs": [
    {
     "name": "stdout",
     "output_type": "stream",
     "text": [
      "{'name': 'Python',\n",
      " 'maintainer': 'Almighty',\n",
      " 'latest_version': '3.8.5',\n",
      " 'dev_version': '3.9'}\n"
     ]
    }
   ],
   "source": [
    "# Add more key-value pair in bulk\n",
    "python_dict = {\n",
    "    \"name\": \"Python\",\n",
    "    \"maintainer\": \"Almighty\",\n",
    "    \"latest_version\": \"3.8.5\",\n",
    "    \"dev_version\": \"3.9\",\n",
    "}\n",
    "pp(python_dict)"
   ]
  },
  {
   "cell_type": "code",
   "execution_count": 74,
   "metadata": {},
   "outputs": [
    {
     "ename": "TypeError",
     "evalue": "unsupported operand type(s) for +: 'dict' and 'dict'",
     "output_type": "error",
     "traceback": [
      "\u001b[0;31m---------------------------------------------------------------------------\u001b[0m",
      "\u001b[0;31mTypeError\u001b[0m                                 Traceback (most recent call last)",
      "Cell \u001b[0;32mIn[74], line 2\u001b[0m\n\u001b[1;32m      1\u001b[0m \u001b[39m# Dictionary concatenation\u001b[39;00m\n\u001b[0;32m----> 2\u001b[0m language \u001b[39m+\u001b[39;49m python_dict \n",
      "\u001b[0;31mTypeError\u001b[0m: unsupported operand type(s) for +: 'dict' and 'dict'"
     ]
    }
   ],
   "source": [
    "# Dictionary concatenation\n",
    "language + python_dict "
   ]
  },
  {
   "cell_type": "code",
   "execution_count": 75,
   "metadata": {},
   "outputs": [
    {
     "name": "stdout",
     "output_type": "stream",
     "text": [
      "\n",
      " After update\n"
     ]
    }
   ],
   "source": [
    "print(\"\\n After update\")\n",
    "language.update(python_dict)"
   ]
  },
  {
   "cell_type": "code",
   "execution_count": 76,
   "metadata": {},
   "outputs": [
    {
     "data": {
      "text/plain": [
       "{'name': 'Python',\n",
       " 'creator': 'Gudo Van Russum',\n",
       " 'latest_version': '3.8.5',\n",
       " 'maintainer': 'Almighty',\n",
       " 'dev_version': '3.9'}"
      ]
     },
     "execution_count": 76,
     "metadata": {},
     "output_type": "execute_result"
    }
   ],
   "source": [
    "language"
   ]
  },
  {
   "cell_type": "code",
   "execution_count": 77,
   "metadata": {},
   "outputs": [
    {
     "data": {
      "text/plain": [
       "{'name': 'Python',\n",
       " 'maintainer': 'Almighty',\n",
       " 'latest_version': '3.8.5',\n",
       " 'dev_version': '3.9'}"
      ]
     },
     "execution_count": 77,
     "metadata": {},
     "output_type": "execute_result"
    }
   ],
   "source": [
    "python_dict"
   ]
  },
  {
   "cell_type": "code",
   "execution_count": 79,
   "metadata": {},
   "outputs": [
    {
     "data": {
      "text/plain": [
       "{'name': 'Django', 'lang': 'py', 'version': 3.4}"
      ]
     },
     "execution_count": 79,
     "metadata": {},
     "output_type": "execute_result"
    }
   ],
   "source": [
    "dt = {\n",
    "    \"name\": \"Python\",\n",
    "    \"lang\": \"py\"\n",
    "}\n",
    "\n",
    "dt.update({\n",
    "    \"name\": \"Django\",\n",
    "    \"version\": 3.4\n",
    "})\n",
    "\n",
    "dt"
   ]
  },
  {
   "cell_type": "code",
   "execution_count": 80,
   "metadata": {},
   "outputs": [],
   "source": [
    "# NOTE:\n",
    "# 1. first dictionary is modified, and not the second one\n",
    "# 2. If keys are present, values will be updates,\n",
    "#  else new key-values pairs will be created\n"
   ]
  },
  {
   "cell_type": "code",
   "execution_count": 81,
   "metadata": {},
   "outputs": [
    {
     "data": {
      "text/plain": [
       "{'name': 'Python',\n",
       " 'maintainer': 'Almighty',\n",
       " 'latest_version': '3.8.5',\n",
       " 'dev_version': '3.9'}"
      ]
     },
     "execution_count": 81,
     "metadata": {},
     "output_type": "execute_result"
    }
   ],
   "source": [
    "# For deleting key-value pairs\n",
    "# dict.pop(), dict.popitem()\n",
    "\n",
    "python_dict"
   ]
  },
  {
   "cell_type": "code",
   "execution_count": 82,
   "metadata": {},
   "outputs": [
    {
     "name": "stdout",
     "output_type": "stream",
     "text": [
      "python_dict.pop('maintainer') ='Almighty'\n"
     ]
    },
    {
     "data": {
      "text/plain": [
       "{'name': 'Python', 'latest_version': '3.8.5', 'dev_version': '3.9'}"
      ]
     },
     "execution_count": 82,
     "metadata": {},
     "output_type": "execute_result"
    }
   ],
   "source": [
    "print(f\"{python_dict.pop('maintainer') =}\")\n",
    "\n",
    "python_dict"
   ]
  },
  {
   "cell_type": "code",
   "execution_count": 83,
   "metadata": {},
   "outputs": [
    {
     "name": "stdout",
     "output_type": "stream",
     "text": [
      "no such key 'maintainer'\n"
     ]
    }
   ],
   "source": [
    "try:\n",
    "    print(f\"{python_dict.pop('maintainer') =}\")\n",
    "except KeyError as ex:\n",
    "    print(\"no such key\", ex)"
   ]
  },
  {
   "cell_type": "code",
   "execution_count": 84,
   "metadata": {},
   "outputs": [
    {
     "name": "stdout",
     "output_type": "stream",
     "text": [
      "python_dict.pop('maintainer', None) =None\n",
      "python_dict.pop('maintainer', 'no such key') ='no such key'\n"
     ]
    }
   ],
   "source": [
    "print(f\"{python_dict.pop('maintainer', None) =}\")\n",
    "print(f\"{python_dict.pop('maintainer', 'no such key') =}\")"
   ]
  },
  {
   "cell_type": "code",
   "execution_count": 85,
   "metadata": {},
   "outputs": [
    {
     "data": {
      "text/plain": [
       "{'name': 'Python', 'latest_version': '3.8.5', 'dev_version': '3.9'}"
      ]
     },
     "execution_count": 85,
     "metadata": {},
     "output_type": "execute_result"
    }
   ],
   "source": [
    "python_dict"
   ]
  },
  {
   "cell_type": "code",
   "execution_count": 86,
   "metadata": {},
   "outputs": [
    {
     "name": "stdout",
     "output_type": "stream",
     "text": [
      "python_dict.pop('latest_version', 'no such key') ='3.8.5'\n"
     ]
    }
   ],
   "source": [
    "print(f\"{python_dict.pop('latest_version', 'no such key') =}\")"
   ]
  },
  {
   "cell_type": "code",
   "execution_count": 87,
   "metadata": {},
   "outputs": [
    {
     "data": {
      "text/plain": [
       "{'a': 'apple', 'b': 'ball', 'c': 'cat'}"
      ]
     },
     "execution_count": 87,
     "metadata": {},
     "output_type": "execute_result"
    }
   ],
   "source": [
    "# last key-value pair will be deleted -- dict.popitem()\n",
    "\n",
    "mydict = {\"a\": \"apple\", \"b\": \"ball\", \"c\": \"cat\"}\n",
    "\n",
    "mydict"
   ]
  },
  {
   "cell_type": "code",
   "execution_count": 88,
   "metadata": {},
   "outputs": [
    {
     "data": {
      "text/plain": [
       "('c', 'cat')"
      ]
     },
     "execution_count": 88,
     "metadata": {},
     "output_type": "execute_result"
    }
   ],
   "source": [
    "mydict.popitem()"
   ]
  },
  {
   "cell_type": "code",
   "execution_count": 89,
   "metadata": {},
   "outputs": [
    {
     "data": {
      "text/plain": [
       "{'a': 'apple', 'b': 'ball'}"
      ]
     },
     "execution_count": 89,
     "metadata": {},
     "output_type": "execute_result"
    }
   ],
   "source": [
    "mydict"
   ]
  },
  {
   "cell_type": "code",
   "execution_count": 90,
   "metadata": {},
   "outputs": [
    {
     "data": {
      "text/plain": [
       "('b', 'ball')"
      ]
     },
     "execution_count": 90,
     "metadata": {},
     "output_type": "execute_result"
    }
   ],
   "source": [
    "mydict.popitem()"
   ]
  },
  {
   "cell_type": "code",
   "execution_count": 91,
   "metadata": {},
   "outputs": [
    {
     "data": {
      "text/plain": [
       "{'a': 'apple'}"
      ]
     },
     "execution_count": 91,
     "metadata": {},
     "output_type": "execute_result"
    }
   ],
   "source": [
    "mydict"
   ]
  },
  {
   "cell_type": "code",
   "execution_count": 92,
   "metadata": {},
   "outputs": [
    {
     "data": {
      "text/plain": [
       "('a', 'apple')"
      ]
     },
     "execution_count": 92,
     "metadata": {},
     "output_type": "execute_result"
    }
   ],
   "source": [
    "mydict.popitem()"
   ]
  },
  {
   "cell_type": "code",
   "execution_count": 93,
   "metadata": {},
   "outputs": [
    {
     "data": {
      "text/plain": [
       "{}"
      ]
     },
     "execution_count": 93,
     "metadata": {},
     "output_type": "execute_result"
    }
   ],
   "source": [
    "mydict"
   ]
  },
  {
   "cell_type": "code",
   "execution_count": 94,
   "metadata": {},
   "outputs": [
    {
     "ename": "KeyError",
     "evalue": "'popitem(): dictionary is empty'",
     "output_type": "error",
     "traceback": [
      "\u001b[0;31m---------------------------------------------------------------------------\u001b[0m",
      "\u001b[0;31mKeyError\u001b[0m                                  Traceback (most recent call last)",
      "Cell \u001b[0;32mIn[94], line 1\u001b[0m\n\u001b[0;32m----> 1\u001b[0m mydict\u001b[39m.\u001b[39;49mpopitem()\n",
      "\u001b[0;31mKeyError\u001b[0m: 'popitem(): dictionary is empty'"
     ]
    }
   ],
   "source": [
    "mydict.popitem()"
   ]
  },
  {
   "cell_type": "code",
   "execution_count": 95,
   "metadata": {},
   "outputs": [
    {
     "data": {
      "text/plain": [
       "{'name': 'Python', 'dev_version': '3.9'}"
      ]
     },
     "execution_count": 95,
     "metadata": {},
     "output_type": "execute_result"
    }
   ],
   "source": [
    "python_dict"
   ]
  },
  {
   "cell_type": "code",
   "execution_count": 96,
   "metadata": {},
   "outputs": [
    {
     "data": {
      "text/plain": [
       "{'dev_version': '3.9'}"
      ]
     },
     "execution_count": 96,
     "metadata": {},
     "output_type": "execute_result"
    }
   ],
   "source": [
    "del python_dict[\"name\"]\n",
    "\n",
    "python_dict"
   ]
  },
  {
   "cell_type": "code",
   "execution_count": 97,
   "metadata": {},
   "outputs": [
    {
     "data": {
      "text/plain": [
       "{'dev_version': '3.9'}"
      ]
     },
     "execution_count": 97,
     "metadata": {},
     "output_type": "execute_result"
    }
   ],
   "source": [
    "pd = python_dict.copy()  # shallow copy\n",
    "\n",
    "pd"
   ]
  },
  {
   "cell_type": "code",
   "execution_count": 98,
   "metadata": {},
   "outputs": [
    {
     "data": {
      "text/plain": [
       "{}"
      ]
     },
     "execution_count": 98,
     "metadata": {},
     "output_type": "execute_result"
    }
   ],
   "source": [
    "python_dict.clear()\n",
    "\n",
    "python_dict"
   ]
  },
  {
   "cell_type": "code",
   "execution_count": 99,
   "metadata": {},
   "outputs": [
    {
     "data": {
      "text/plain": [
       "{'dev_version': '3.9'}"
      ]
     },
     "execution_count": 99,
     "metadata": {},
     "output_type": "execute_result"
    }
   ],
   "source": [
    "pd"
   ]
  },
  {
   "cell_type": "code",
   "execution_count": 100,
   "metadata": {},
   "outputs": [],
   "source": [
    "del python_dict\n",
    "\n",
    "del pd"
   ]
  },
  {
   "cell_type": "code",
   "execution_count": 101,
   "metadata": {},
   "outputs": [
    {
     "ename": "NameError",
     "evalue": "name 'python_dict' is not defined",
     "output_type": "error",
     "traceback": [
      "\u001b[0;31m---------------------------------------------------------------------------\u001b[0m",
      "\u001b[0;31mNameError\u001b[0m                                 Traceback (most recent call last)",
      "Cell \u001b[0;32mIn[101], line 1\u001b[0m\n\u001b[0;32m----> 1\u001b[0m python_dict\n",
      "\u001b[0;31mNameError\u001b[0m: name 'python_dict' is not defined"
     ]
    }
   ],
   "source": [
    "python_dict"
   ]
  },
  {
   "cell_type": "markdown",
   "metadata": {},
   "source": [
    "#### Merging two dicts\n"
   ]
  },
  {
   "cell_type": "code",
   "execution_count": 103,
   "metadata": {},
   "outputs": [
    {
     "name": "stdout",
     "output_type": "stream",
     "text": [
      "{'one': 1} {'one': 2, 'two': 2}\n"
     ]
    }
   ],
   "source": [
    "a = {\"one\": 1}\n",
    "b = {\"one\": 2, \"two\": 2}\n",
    "\n",
    "print(a, b)"
   ]
  },
  {
   "cell_type": "code",
   "execution_count": 104,
   "metadata": {},
   "outputs": [
    {
     "name": "stdout",
     "output_type": "stream",
     "text": [
      "c ={'one': 2, 'two': 2}\n"
     ]
    }
   ],
   "source": [
    "# Dict unpacking\n",
    "c = {**a, **b}\n",
    "print(f\"{c =}\")  # {'one': 2, 'two': 2}"
   ]
  },
  {
   "cell_type": "code",
   "execution_count": 105,
   "metadata": {},
   "outputs": [
    {
     "name": "stdout",
     "output_type": "stream",
     "text": [
      "c2=ChainMap({'one': 1}, {'one': 2, 'two': 2})\n"
     ]
    }
   ],
   "source": [
    "import collections\n",
    "\n",
    "c2 = collections.ChainMap(a, b)\n",
    "print(f\"{c2=}\") "
   ]
  },
  {
   "cell_type": "code",
   "execution_count": 106,
   "metadata": {},
   "outputs": [
    {
     "name": "stdout",
     "output_type": "stream",
     "text": [
      "d = {'one': 2, 'two': 2}\n"
     ]
    }
   ],
   "source": [
    "# Python 3.9+\n",
    "d = a | b\n",
    "print(f\"{d = }\")"
   ]
  },
  {
   "cell_type": "code",
   "execution_count": 107,
   "metadata": {},
   "outputs": [
    {
     "name": "stdout",
     "output_type": "stream",
     "text": [
      "a = {'one': 1}\n",
      "b = {'one': 2, 'two': 2}\n",
      "a = {'one': 2, 'two': 2}\n",
      "b = {'one': 2, 'two': 2}\n"
     ]
    }
   ],
   "source": [
    "print(f\"{a = }\")\n",
    "print(f\"{b = }\")\n",
    "\n",
    "a |= b    # a.update(b)\n",
    "print(f\"{a = }\")\n",
    "print(f\"{b = }\")"
   ]
  },
  {
   "cell_type": "code",
   "execution_count": 108,
   "metadata": {},
   "outputs": [
    {
     "name": "stdout",
     "output_type": "stream",
     "text": [
      "{0}\n",
      "{False}\n"
     ]
    }
   ],
   "source": [
    "# set Union Is Not Commutative\n",
    "print({0} | {False})  # {0}\n",
    "print({False} | {0})  # {False}"
   ]
  },
  {
   "cell_type": "code",
   "execution_count": 109,
   "metadata": {},
   "outputs": [
    {
     "name": "stdout",
     "output_type": "stream",
     "text": [
      "{0: 'False'}\n",
      "{False: '0'}\n"
     ]
    }
   ],
   "source": [
    "print({0: \"0\"} | {False: \"False\"})  # {0: 'False'}\n",
    "print({False: \"False\"} | {0: \"0\"})  # {False: '0'}"
   ]
  },
  {
   "cell_type": "code",
   "execution_count": 110,
   "metadata": {},
   "outputs": [
    {
     "data": {
      "text/plain": [
       "{0: 'False', 1: 'True'}"
      ]
     },
     "execution_count": 110,
     "metadata": {},
     "output_type": "execute_result"
    }
   ],
   "source": [
    "mydict = {0:\"zero\", False:\"False\", 1:\"one\", True: \"True\"}\n",
    "\n",
    "mydict"
   ]
  },
  {
   "cell_type": "code",
   "execution_count": 111,
   "metadata": {},
   "outputs": [
    {
     "data": {
      "text/plain": [
       "{False: 'zero', True: 'one'}"
      ]
     },
     "execution_count": 111,
     "metadata": {},
     "output_type": "execute_result"
    }
   ],
   "source": [
    "mydict = {False:\"False\", 0:\"zero\", True: \"True\", 1:\"one\" }\n",
    "\n",
    "mydict"
   ]
  },
  {
   "cell_type": "markdown",
   "metadata": {},
   "source": [
    "#### fromkeys"
   ]
  },
  {
   "cell_type": "code",
   "execution_count": 112,
   "metadata": {},
   "outputs": [
    {
     "name": "stdout",
     "output_type": "stream",
     "text": [
      "<class 'dict'> {'name': 'Gudo Van Russom', 'age': 67, 'salary': 1233123.12, 'children': ['mary', 'John'], 'parents': ('Sam Russom', 'Michel Russom'), 1: [12, 3, 12], -1213.213: {33}, ('Dr', 'Mr'): 'titles', None: 'This is None', (12, 23): 'something'}\n"
     ]
    }
   ],
   "source": [
    "person_details = {\n",
    "    \"name\": \"Gudo Van Russom\",\n",
    "    \"age\": 67,\n",
    "    \"salary\": 1233123.12,\n",
    "    \"children\": [\"mary\", \"John\"],\n",
    "    \"parents\": (\"Sam Russom\", \"Michel Russom\"),\n",
    "    1: [12, 3, 12],\n",
    "    -1213.213: {33, 33},\n",
    "    (\"Dr\", \"Mr\"): \"titles\",\n",
    "    None: \"This is None\",\n",
    "    tuple([12, 23]): 'something',\n",
    "}\n",
    "\n",
    "print(type(person_details), person_details)"
   ]
  },
  {
   "cell_type": "code",
   "execution_count": 113,
   "metadata": {},
   "outputs": [
    {
     "data": {
      "text/plain": [
       "{'name': None,\n",
       " 'age': None,\n",
       " 'salary': None,\n",
       " 'children': None,\n",
       " 'parents': None,\n",
       " 1: None,\n",
       " -1213.213: None,\n",
       " ('Dr', 'Mr'): None,\n",
       " None: None,\n",
       " (12, 23): None}"
      ]
     },
     "execution_count": 113,
     "metadata": {},
     "output_type": "execute_result"
    }
   ],
   "source": [
    "# replicas - To get the keys of existing dictionary to new dict\n",
    "new_person_details = {}\n",
    "new_person_details.fromkeys(person_details)"
   ]
  },
  {
   "cell_type": "code",
   "execution_count": 114,
   "metadata": {},
   "outputs": [
    {
     "data": {
      "text/plain": [
       "{}"
      ]
     },
     "execution_count": 114,
     "metadata": {},
     "output_type": "execute_result"
    }
   ],
   "source": [
    "new_person_details"
   ]
  },
  {
   "cell_type": "code",
   "execution_count": 115,
   "metadata": {},
   "outputs": [
    {
     "data": {
      "text/plain": [
       "{'name': None,\n",
       " 'age': None,\n",
       " 'salary': None,\n",
       " 'children': None,\n",
       " 'parents': None,\n",
       " 1: None,\n",
       " -1213.213: None,\n",
       " ('Dr', 'Mr'): None,\n",
       " None: None,\n",
       " (12, 23): None}"
      ]
     },
     "execution_count": 115,
     "metadata": {},
     "output_type": "execute_result"
    }
   ],
   "source": [
    "new_person_details = new_person_details.fromkeys(person_details)\n",
    "\n",
    "\n",
    "new_person_details"
   ]
  },
  {
   "cell_type": "code",
   "execution_count": 116,
   "metadata": {},
   "outputs": [
    {
     "data": {
      "text/plain": [
       "{'name': None,\n",
       " 'age': None,\n",
       " 'salary': None,\n",
       " 'children': None,\n",
       " 'parents': None,\n",
       " 1: None,\n",
       " -1213.213: None,\n",
       " ('Dr', 'Mr'): None,\n",
       " None: None,\n",
       " (12, 23): None}"
      ]
     },
     "execution_count": 116,
     "metadata": {},
     "output_type": "execute_result"
    }
   ],
   "source": [
    "new_person_details = new_person_details.fromkeys(person_details, None)\n",
    "\n",
    "new_person_details"
   ]
  },
  {
   "cell_type": "code",
   "execution_count": 117,
   "metadata": {},
   "outputs": [
    {
     "data": {
      "text/plain": [
       "{'name': 'None',\n",
       " 'age': 'None',\n",
       " 'salary': 'None',\n",
       " 'children': 'None',\n",
       " 'parents': 'None',\n",
       " 1: 'None',\n",
       " -1213.213: 'None',\n",
       " ('Dr', 'Mr'): 'None',\n",
       " None: 'None',\n",
       " (12, 23): 'None'}"
      ]
     },
     "execution_count": 117,
     "metadata": {},
     "output_type": "execute_result"
    }
   ],
   "source": [
    "new_person_details = new_person_details.fromkeys(person_details, \"None\")\n",
    "\n",
    "new_person_details"
   ]
  },
  {
   "cell_type": "code",
   "execution_count": 118,
   "metadata": {},
   "outputs": [
    {
     "data": {
      "text/plain": [
       "{'name': '',\n",
       " 'age': '',\n",
       " 'salary': '',\n",
       " 'children': '',\n",
       " 'parents': '',\n",
       " 1: '',\n",
       " -1213.213: '',\n",
       " ('Dr', 'Mr'): '',\n",
       " None: '',\n",
       " (12, 23): ''}"
      ]
     },
     "execution_count": 118,
     "metadata": {},
     "output_type": "execute_result"
    }
   ],
   "source": [
    "new_person_details = new_person_details.fromkeys(person_details, \"\")\n",
    "\n",
    "new_person_details"
   ]
  },
  {
   "cell_type": "markdown",
   "metadata": {},
   "source": [
    "### ways of creating dictionary\n"
   ]
  },
  {
   "cell_type": "code",
   "execution_count": 119,
   "metadata": {},
   "outputs": [],
   "source": [
    "a = {\"one\": 1, \"two\": 2, \"three\": 3}\n",
    "b = dict(one=1, two=2, three=3)\n",
    "c = dict([(\"two\", 2), (\"one\", 1), (\"three\", 3)])\n",
    "d = dict(zip([\"one\", \"two\", \"three\"], [1, 2, 3]))\n",
    "e = dict({\"three\": 3, \"one\": 1, \"two\": 2})\n",
    "\n",
    "assert a == b == c == d == e"
   ]
  },
  {
   "cell_type": "code",
   "execution_count": 120,
   "metadata": {},
   "outputs": [
    {
     "data": {
      "text/plain": [
       "['P', 'y', 't', 'h', 'o', 'n']"
      ]
     },
     "execution_count": 120,
     "metadata": {},
     "output_type": "execute_result"
    }
   ],
   "source": [
    "list(\"Python\")"
   ]
  },
  {
   "cell_type": "code",
   "execution_count": 121,
   "metadata": {},
   "outputs": [
    {
     "data": {
      "text/plain": [
       "('P', 'y', 't', 'h', 'o', 'n')"
      ]
     },
     "execution_count": 121,
     "metadata": {},
     "output_type": "execute_result"
    }
   ],
   "source": [
    "tuple(\"Python\")"
   ]
  },
  {
   "cell_type": "code",
   "execution_count": 122,
   "metadata": {},
   "outputs": [
    {
     "data": {
      "text/plain": [
       "{'P', 'h', 'n', 'o', 't', 'y'}"
      ]
     },
     "execution_count": 122,
     "metadata": {},
     "output_type": "execute_result"
    }
   ],
   "source": [
    "set(\"Python\")"
   ]
  },
  {
   "cell_type": "code",
   "execution_count": 123,
   "metadata": {},
   "outputs": [
    {
     "ename": "ValueError",
     "evalue": "dictionary update sequence element #0 has length 1; 2 is required",
     "output_type": "error",
     "traceback": [
      "\u001b[0;31m---------------------------------------------------------------------------\u001b[0m",
      "\u001b[0;31mValueError\u001b[0m                                Traceback (most recent call last)",
      "Cell \u001b[0;32mIn[123], line 1\u001b[0m\n\u001b[0;32m----> 1\u001b[0m \u001b[39mdict\u001b[39;49m(\u001b[39m\"\u001b[39;49m\u001b[39mPython\u001b[39;49m\u001b[39m\"\u001b[39;49m)\n",
      "\u001b[0;31mValueError\u001b[0m: dictionary update sequence element #0 has length 1; 2 is required"
     ]
    }
   ],
   "source": [
    "dict(\"Python\")"
   ]
  },
  {
   "cell_type": "code",
   "execution_count": 124,
   "metadata": {},
   "outputs": [
    {
     "ename": "TypeError",
     "evalue": "dict expected at most 1 argument, got 2",
     "output_type": "error",
     "traceback": [
      "\u001b[0;31m---------------------------------------------------------------------------\u001b[0m",
      "\u001b[0;31mTypeError\u001b[0m                                 Traceback (most recent call last)",
      "Cell \u001b[0;32mIn[124], line 1\u001b[0m\n\u001b[0;32m----> 1\u001b[0m \u001b[39mdict\u001b[39;49m(\u001b[39m\"\u001b[39;49m\u001b[39mPython\u001b[39;49m\u001b[39m\"\u001b[39;49m, \u001b[39m\"\u001b[39;49m\u001b[39mPython\u001b[39;49m\u001b[39m\"\u001b[39;49m)\n",
      "\u001b[0;31mTypeError\u001b[0m: dict expected at most 1 argument, got 2"
     ]
    }
   ],
   "source": [
    "dict(\"Python\", \"Python\")"
   ]
  },
  {
   "cell_type": "code",
   "execution_count": 125,
   "metadata": {},
   "outputs": [
    {
     "data": {
      "text/plain": [
       "<zip at 0x7fb165cabe80>"
      ]
     },
     "execution_count": 125,
     "metadata": {},
     "output_type": "execute_result"
    }
   ],
   "source": [
    "zip(\"Python\", \"Python\")"
   ]
  },
  {
   "cell_type": "code",
   "execution_count": 126,
   "metadata": {},
   "outputs": [
    {
     "data": {
      "text/plain": [
       "[('P', 'P'), ('y', 'y'), ('t', 't'), ('h', 'h'), ('o', 'o'), ('n', 'n')]"
      ]
     },
     "execution_count": 126,
     "metadata": {},
     "output_type": "execute_result"
    }
   ],
   "source": [
    "list(zip(\"Python\", \"Python\"))"
   ]
  },
  {
   "cell_type": "code",
   "execution_count": 127,
   "metadata": {},
   "outputs": [
    {
     "data": {
      "text/plain": [
       "{'P': 'P', 'y': 'y', 't': 't', 'h': 'h', 'o': 'o', 'n': 'n'}"
      ]
     },
     "execution_count": 127,
     "metadata": {},
     "output_type": "execute_result"
    }
   ],
   "source": [
    "dict(zip(\"Python\", \"Python\"))"
   ]
  },
  {
   "cell_type": "code",
   "execution_count": 128,
   "metadata": {},
   "outputs": [
    {
     "name": "stdout",
     "output_type": "stream",
     "text": [
      "{1: 'red', 2: 'blue', 3: 'yellow'}\n"
     ]
    }
   ],
   "source": [
    "data = [(1, \"red\"), (2, \"blue\"), (3, \"yellow\")]\n",
    "print(dict(data))"
   ]
  },
  {
   "cell_type": "code",
   "execution_count": 129,
   "metadata": {},
   "outputs": [
    {
     "name": "stdout",
     "output_type": "stream",
     "text": [
      "{'red': 1, 'blue': 2, 'yellow': 3}\n"
     ]
    }
   ],
   "source": [
    "data = [(\"red\", 1), (\"blue\", 2), (\"yellow\", 3)]\n",
    "print(dict(data))"
   ]
  },
  {
   "cell_type": "code",
   "execution_count": 130,
   "metadata": {},
   "outputs": [
    {
     "name": "stdout",
     "output_type": "stream",
     "text": [
      "{'red': 1, 'blue': 2, 'yellow': 3}\n"
     ]
    }
   ],
   "source": [
    "data = ((\"red\", 1), (\"blue\", 2), (\"yellow\", 3))\n",
    "print(dict(data))"
   ]
  },
  {
   "cell_type": "code",
   "execution_count": 131,
   "metadata": {},
   "outputs": [
    {
     "name": "stdout",
     "output_type": "stream",
     "text": [
      "{'red': 1, 'blue': 2, 'yellow': 3}\n"
     ]
    }
   ],
   "source": [
    "data = ([\"red\", 1], [\"blue\", 2], (\"yellow\", 3))\n",
    "print(dict(data))"
   ]
  },
  {
   "cell_type": "code",
   "execution_count": 132,
   "metadata": {},
   "outputs": [
    {
     "ename": "ValueError",
     "evalue": "dictionary update sequence element #0 has length 3; 2 is required",
     "output_type": "error",
     "traceback": [
      "\u001b[0;31m---------------------------------------------------------------------------\u001b[0m",
      "\u001b[0;31mValueError\u001b[0m                                Traceback (most recent call last)",
      "Cell \u001b[0;32mIn[132], line 2\u001b[0m\n\u001b[1;32m      1\u001b[0m data \u001b[39m=\u001b[39m ([\u001b[39m'\u001b[39m\u001b[39mred\u001b[39m\u001b[39m'\u001b[39m, \u001b[39m1\u001b[39m, \u001b[39m'\u001b[39m\u001b[39mA\u001b[39m\u001b[39m'\u001b[39m], [\u001b[39m'\u001b[39m\u001b[39mblue\u001b[39m\u001b[39m'\u001b[39m, \u001b[39m2\u001b[39m, \u001b[39m'\u001b[39m\u001b[39mB\u001b[39m\u001b[39m'\u001b[39m], (\u001b[39m'\u001b[39m\u001b[39myellow\u001b[39m\u001b[39m'\u001b[39m, \u001b[39m3\u001b[39m, \u001b[39m\"\u001b[39m\u001b[39mC\u001b[39m\u001b[39m\"\u001b[39m))\n\u001b[0;32m----> 2\u001b[0m \u001b[39mprint\u001b[39m(\u001b[39mdict\u001b[39;49m(data))\n",
      "\u001b[0;31mValueError\u001b[0m: dictionary update sequence element #0 has length 3; 2 is required"
     ]
    }
   ],
   "source": [
    "data = (['red', 1, 'A'], ['blue', 2, 'B'], ('yellow', 3, \"C\"))\n",
    "print(dict(data))"
   ]
  },
  {
   "cell_type": "code",
   "execution_count": 133,
   "metadata": {},
   "outputs": [
    {
     "name": "stdout",
     "output_type": "stream",
     "text": [
      "{'red': (1, 'A'), 'blue': (2, 'B'), 'yellow': (3, 'C')}\n"
     ]
    }
   ],
   "source": [
    "data = ([\"red\", (1, \"A\")], [\"blue\", (2, \"B\")], (\"yellow\", (3, \"C\")))\n",
    "print(dict(data))"
   ]
  },
  {
   "cell_type": "code",
   "execution_count": 134,
   "metadata": {},
   "outputs": [
    {
     "name": "stdout",
     "output_type": "stream",
     "text": [
      "{('red', 1): 'A', ('blue', 2): 'B', 'yellow': (3, 'C')}\n"
     ]
    }
   ],
   "source": [
    "data = ([(\"red\", 1), \"A\"], [(\"blue\", 2), \"B\"], (\"yellow\", (3, \"C\")))\n",
    "print(dict(data))"
   ]
  },
  {
   "cell_type": "code",
   "execution_count": 135,
   "metadata": {},
   "outputs": [],
   "source": [
    "cities = (\"New Delhi\", \"New York\", \"Shangai\", \"Berlin\")\n",
    "countries = [\"India\", \"USA\", \"China\", \"Germany\"]\n",
    "\n",
    "# NOTE: never take as a set, as order is not preserved"
   ]
  },
  {
   "cell_type": "code",
   "execution_count": 136,
   "metadata": {},
   "outputs": [
    {
     "data": {
      "text/plain": [
       "<zip at 0x7fb165c49bc0>"
      ]
     },
     "execution_count": 136,
     "metadata": {},
     "output_type": "execute_result"
    }
   ],
   "source": [
    "zip(cities, countries)"
   ]
  },
  {
   "cell_type": "code",
   "execution_count": 137,
   "metadata": {},
   "outputs": [
    {
     "data": {
      "text/plain": [
       "[('New Delhi', 'India'),\n",
       " ('New York', 'USA'),\n",
       " ('Shangai', 'China'),\n",
       " ('Berlin', 'Germany')]"
      ]
     },
     "execution_count": 137,
     "metadata": {},
     "output_type": "execute_result"
    }
   ],
   "source": [
    "list(zip(cities, countries))"
   ]
  },
  {
   "cell_type": "code",
   "execution_count": 138,
   "metadata": {},
   "outputs": [
    {
     "data": {
      "text/plain": [
       "{'New Delhi': 'India',\n",
       " 'New York': 'USA',\n",
       " 'Shangai': 'China',\n",
       " 'Berlin': 'Germany'}"
      ]
     },
     "execution_count": 138,
     "metadata": {},
     "output_type": "execute_result"
    }
   ],
   "source": [
    "dict(zip(cities, countries))"
   ]
  },
  {
   "cell_type": "code",
   "execution_count": 139,
   "metadata": {},
   "outputs": [
    {
     "name": "stdout",
     "output_type": "stream",
     "text": [
      "{'Berlin': 'Germany',\n",
      " 'New Delhi': 'India',\n",
      " 'New York': 'USA',\n",
      " 'Shangai': 'China'}\n",
      "{'China': 'Shangai',\n",
      " 'Germany': 'Berlin',\n",
      " 'India': 'New Delhi',\n",
      " 'USA': 'New York'}\n"
     ]
    }
   ],
   "source": [
    "cities_n_countries = dict(zip(cities, countries))\n",
    "pprint(cities_n_countries)\n",
    "\n",
    "counties_n_cities = dict(zip(countries, cities))\n",
    "pprint(counties_n_cities)"
   ]
  },
  {
   "cell_type": "code",
   "execution_count": 140,
   "metadata": {},
   "outputs": [
    {
     "name": "stdout",
     "output_type": "stream",
     "text": [
      "{'P': 0, 'y': 1, 't': 2, 'h': 3, 'o': 4, 'n': 5}\n",
      "{'P': 'f', 'y': 'i', 't': 's', 'h': 'h'}\n"
     ]
    }
   ],
   "source": [
    "print(dict(zip(\"Python\", range(6))))\n",
    "print(dict(zip(\"Python\", \"fish\")))"
   ]
  },
  {
   "cell_type": "code",
   "execution_count": 141,
   "metadata": {},
   "outputs": [
    {
     "data": {
      "text/plain": [
       "[('P', 'P'), ('y', 'r'), ('t', 'o'), ('h', 'g'), ('o', 'r'), ('n', 'a')]"
      ]
     },
     "execution_count": 141,
     "metadata": {},
     "output_type": "execute_result"
    }
   ],
   "source": [
    "list(zip(\"Python\", \"Programming\"))"
   ]
  },
  {
   "cell_type": "code",
   "execution_count": 142,
   "metadata": {},
   "outputs": [
    {
     "data": {
      "text/plain": [
       "[('1', '1'), ('2', '2'), ('3', '3'), ('4', '4'), ('5', '5')]"
      ]
     },
     "execution_count": 142,
     "metadata": {},
     "output_type": "execute_result"
    }
   ],
   "source": [
    "list(zip(\"12345\", \"1234567\"))"
   ]
  },
  {
   "cell_type": "code",
   "execution_count": 143,
   "metadata": {},
   "outputs": [
    {
     "data": {
      "text/plain": [
       "[('1', '1'), ('2', '2'), ('3', '3')]"
      ]
     },
     "execution_count": 143,
     "metadata": {},
     "output_type": "execute_result"
    }
   ],
   "source": [
    "list(zip(\"12345\", \"123\"))"
   ]
  },
  {
   "cell_type": "code",
   "execution_count": 144,
   "metadata": {},
   "outputs": [
    {
     "name": "stdout",
     "output_type": "stream",
     "text": [
      "{1: 'a', 2: 'b', 3: 'c', 4: 'd'}\n"
     ]
    }
   ],
   "source": [
    "# question - How to reverse the key -values as values-keys\n",
    "\n",
    "my_dict = dict(zip((1, 2, 3, 4), \"abcdef\"))\n",
    "print(my_dict)"
   ]
  },
  {
   "cell_type": "code",
   "execution_count": 147,
   "metadata": {},
   "outputs": [
    {
     "data": {
      "text/plain": [
       "{'a': 1, 'b': 2, 'c': 3, 'd': 4}"
      ]
     },
     "execution_count": 147,
     "metadata": {},
     "output_type": "execute_result"
    }
   ],
   "source": [
    "reverse_dict = {}\n",
    "for each_key, each_value in my_dict.items():\n",
    "    # print(each_key, each_value)\n",
    "    # reverse_dict[each_key] = each_value\n",
    "    reverse_dict[each_value] = each_key\n",
    "\n",
    "reverse_dict"
   ]
  },
  {
   "cell_type": "code",
   "execution_count": null,
   "metadata": {},
   "outputs": [],
   "source": [
    "sentence = \"\"\"Python is a wonderful language.\n",
    "we can solve any\n",
    "computational problem with this language\"\"\"\n"
   ]
  }
 ],
 "metadata": {
  "kernelspec": {
   "display_name": "Python 3",
   "language": "python",
   "name": "python3"
  },
  "language_info": {
   "codemirror_mode": {
    "name": "ipython",
    "version": 3
   },
   "file_extension": ".py",
   "mimetype": "text/x-python",
   "name": "python",
   "nbconvert_exporter": "python",
   "pygments_lexer": "ipython3",
   "version": "3.10.4"
  },
  "orig_nbformat": 4
 },
 "nbformat": 4,
 "nbformat_minor": 2
}
