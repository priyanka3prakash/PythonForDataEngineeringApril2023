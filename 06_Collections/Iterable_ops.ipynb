{
 "cells": [
  {
   "attachments": {},
   "cell_type": "markdown",
   "metadata": {},
   "source": [
    "## Iterables\n",
    "\n",
    "    - objects that suport for loop on them \n",
    "    - string, collections - list, tuple, set, dict; range, iterators, generator"
   ]
  },
  {
   "cell_type": "code",
   "execution_count": 1,
   "metadata": {},
   "outputs": [
    {
     "name": "stdout",
     "output_type": "stream",
     "text": [
      "values                        =[1, 2, 3, 4, 2, 1, 3, 1, 4, 3, 3]\n"
     ]
    }
   ],
   "source": [
    "values = [1, 2, 3, 4, 2, 1, 3, 1, 4, 3, 3]\n",
    "\n",
    "print(f\"{values                        =}\")"
   ]
  },
  {
   "cell_type": "code",
   "execution_count": 2,
   "metadata": {},
   "outputs": [
    {
     "data": {
      "text/plain": [
       "4"
      ]
     },
     "execution_count": 2,
     "metadata": {},
     "output_type": "execute_result"
    }
   ],
   "source": [
    "max(values)"
   ]
  },
  {
   "cell_type": "code",
   "execution_count": 3,
   "metadata": {},
   "outputs": [
    {
     "data": {
      "text/plain": [
       "1"
      ]
     },
     "execution_count": 3,
     "metadata": {},
     "output_type": "execute_result"
    }
   ],
   "source": [
    "min(values)"
   ]
  },
  {
   "cell_type": "code",
   "execution_count": 7,
   "metadata": {},
   "outputs": [
    {
     "data": {
      "text/plain": [
       "4"
      ]
     },
     "execution_count": 7,
     "metadata": {},
     "output_type": "execute_result"
    }
   ],
   "source": [
    "values.count(3)"
   ]
  },
  {
   "cell_type": "code",
   "execution_count": 5,
   "metadata": {},
   "outputs": [
    {
     "data": {
      "text/plain": [
       "2"
      ]
     },
     "execution_count": 5,
     "metadata": {},
     "output_type": "execute_result"
    }
   ],
   "source": [
    "values.count(4)"
   ]
  },
  {
   "cell_type": "code",
   "execution_count": 6,
   "metadata": {},
   "outputs": [
    {
     "name": "stdout",
     "output_type": "stream",
     "text": [
      "max(values)                    = 4\n",
      "max(values, key=values.count)  = 3\n"
     ]
    }
   ],
   "source": [
    "print(f\"{max(values)                    = }\")\n",
    "print(f\"{max(values, key=values.count)  = }\")\n"
   ]
  },
  {
   "cell_type": "code",
   "execution_count": 8,
   "metadata": {},
   "outputs": [
    {
     "name": "stdout",
     "output_type": "stream",
     "text": [
      "min(values)                   =1\n",
      "min(values, key=values.count) =2\n"
     ]
    }
   ],
   "source": [
    "print(f\"{min(values)                   =}\")\n",
    "print(f\"{min(values, key=values.count) =}\")"
   ]
  },
  {
   "cell_type": "code",
   "execution_count": 9,
   "metadata": {},
   "outputs": [
    {
     "data": {
      "text/plain": [
       "[1, 2, 3, 4, 2, 1, 3, 1, 4, 3, 3]"
      ]
     },
     "execution_count": 9,
     "metadata": {},
     "output_type": "execute_result"
    }
   ],
   "source": [
    "# Problem -- Summation\n",
    "\n",
    "values"
   ]
  },
  {
   "cell_type": "code",
   "execution_count": 10,
   "metadata": {},
   "outputs": [
    {
     "data": {
      "text/plain": [
       "27"
      ]
     },
     "execution_count": 10,
     "metadata": {},
     "output_type": "execute_result"
    }
   ],
   "source": [
    "add_result = 0\n",
    "for num in values:\n",
    "    add_result += num\n",
    "\n",
    "add_result"
   ]
  },
  {
   "cell_type": "code",
   "execution_count": 11,
   "metadata": {},
   "outputs": [
    {
     "data": {
      "text/plain": [
       "27"
      ]
     },
     "execution_count": 11,
     "metadata": {},
     "output_type": "execute_result"
    }
   ],
   "source": [
    "sum(values)"
   ]
  },
  {
   "cell_type": "code",
   "execution_count": 12,
   "metadata": {},
   "outputs": [
    {
     "name": "stdout",
     "output_type": "stream",
     "text": [
      "sum(values)                   =27\n",
      "sum(values, start=0         ) =27\n",
      "sum(values, start=4         ) =31\n",
      "sum(values, start=100       ) =127\n"
     ]
    }
   ],
   "source": [
    "print(f\"{sum(values)                   =}\")\n",
    "\n",
    "print(f\"{sum(values, start=0         ) =}\")  # +0\n",
    "print(f\"{sum(values, start=4         ) =}\")  # +4\n",
    "print(f\"{sum(values, start=100       ) =}\")  # +100"
   ]
  },
  {
   "cell_type": "code",
   "execution_count": 13,
   "metadata": {},
   "outputs": [
    {
     "name": "stdout",
     "output_type": "stream",
     "text": [
      "sorted(values)                                  =[1, 1, 1, 2, 2, 3, 3, 3, 3, 4, 4]\n",
      "sorted(values, key=values.count)                =[2, 4, 2, 4, 1, 1, 1, 3, 3, 3, 3]\n",
      "sorted(values, key=values.count, reverse=True)  =[3, 3, 3, 3, 1, 1, 1, 2, 4, 2, 4]\n",
      "sorted(values, key=values.count, reverse=False) =[2, 4, 2, 4, 1, 1, 1, 3, 3, 3, 3]\n"
     ]
    }
   ],
   "source": [
    "print(f\"{sorted(values)                                  =}\")\n",
    "print(f\"{sorted(values, key=values.count)                =}\")\n",
    "print(f\"{sorted(values, key=values.count, reverse=True)  =}\")\n",
    "print(f\"{sorted(values, key=values.count, reverse=False) =}\")"
   ]
  },
  {
   "cell_type": "code",
   "execution_count": 14,
   "metadata": {},
   "outputs": [
    {
     "name": "stdout",
     "output_type": "stream",
     "text": [
      "values                 =[3, 2, 6, 4, 9, 5]\n",
      "values                 =[5, 9, 4, 6, 2, 3]\n",
      "reversed(values)       =<list_reverseiterator object at 0x7fc3661420b0>\n",
      "list(reversed(values)) =[3, 2, 6, 4, 9, 5]\n"
     ]
    }
   ],
   "source": [
    "# list.reverse() and reversed() will reverse the order of assignment\n",
    "values = [3, 2, 6, 4, 9, 5]\n",
    "print(f\"{values                 =}\")\n",
    "values.reverse()\n",
    "print(f\"{values                 =}\")\n",
    "print(f\"{reversed(values)       =}\")\n",
    "print(f\"{list(reversed(values)) =}\")"
   ]
  },
  {
   "cell_type": "code",
   "execution_count": 20,
   "metadata": {},
   "outputs": [
    {
     "name": "stdout",
     "output_type": "stream",
     "text": [
      "sorted(word)   = ['a', 'a', 'a', 'a', 'l', 'l', 'm', 'm', 'y']\n",
      "max(word)      = 'y'\n",
      "max(word, key=word.count)= 'a'\n",
      "min(word)      = 'a'\n",
      "min(word, key=word.count)= 'y'\n"
     ]
    }
   ],
   "source": [
    "word = 'malayalam'\n",
    "\n",
    "print(f\"{sorted(word)   = }\")\n",
    "print(f\"{max(word)      = }\")\n",
    "print(f\"{max(word, key=word.count)= }\")\n",
    "\n",
    "print(f\"{min(word)      = }\")\n",
    "print(f\"{min(word, key=word.count)= }\")\n"
   ]
  },
  {
   "cell_type": "code",
   "execution_count": 21,
   "metadata": {},
   "outputs": [
    {
     "ename": "TypeError",
     "evalue": "'<' not supported between instances of 'str' and 'int'",
     "output_type": "error",
     "traceback": [
      "\u001b[0;31m---------------------------------------------------------------------------\u001b[0m",
      "\u001b[0;31mTypeError\u001b[0m                                 Traceback (most recent call last)",
      "Cell \u001b[0;32mIn[21], line 3\u001b[0m\n\u001b[1;32m      1\u001b[0m values \u001b[39m=\u001b[39m [\u001b[39m1\u001b[39m, \u001b[39m\"\u001b[39m\u001b[39m2\u001b[39m\u001b[39m\"\u001b[39m, \u001b[39m\"\u001b[39m\u001b[39m3\u001b[39m\u001b[39m\"\u001b[39m, \u001b[39m4\u001b[39m, \u001b[39m\"\u001b[39m\u001b[39m5\u001b[39m\u001b[39m\"\u001b[39m, \u001b[39m\"\u001b[39m\u001b[39m6\u001b[39m\u001b[39m\"\u001b[39m]\n\u001b[0;32m----> 3\u001b[0m \u001b[39msorted\u001b[39;49m(values)\n",
      "\u001b[0;31mTypeError\u001b[0m: '<' not supported between instances of 'str' and 'int'"
     ]
    }
   ],
   "source": [
    "values = [1, \"2\", \"3\", 4, \"5\", \"6\"]\n",
    "\n",
    "sorted(values)"
   ]
  },
  {
   "cell_type": "code",
   "execution_count": 22,
   "metadata": {},
   "outputs": [
    {
     "data": {
      "text/plain": [
       "[1, '2', '3', 4, '5', '6']"
      ]
     },
     "execution_count": 22,
     "metadata": {},
     "output_type": "execute_result"
    }
   ],
   "source": [
    "sorted(values, key= lambda val: int(val))"
   ]
  },
  {
   "cell_type": "code",
   "execution_count": 23,
   "metadata": {},
   "outputs": [
    {
     "data": {
      "text/plain": [
       "['6', '5', 4, '3', '2', 1]"
      ]
     },
     "execution_count": 23,
     "metadata": {},
     "output_type": "execute_result"
    }
   ],
   "source": [
    "sorted(values, key= lambda val: int(val), reverse=True)"
   ]
  },
  {
   "cell_type": "code",
   "execution_count": 26,
   "metadata": {},
   "outputs": [
    {
     "data": {
      "text/plain": [
       "['6', '5', 4, '3', '2', 1]"
      ]
     },
     "execution_count": 26,
     "metadata": {},
     "output_type": "execute_result"
    }
   ],
   "source": [
    "list(reversed(values))"
   ]
  },
  {
   "cell_type": "code",
   "execution_count": 28,
   "metadata": {},
   "outputs": [
    {
     "data": {
      "text/plain": [
       "'6'"
      ]
     },
     "execution_count": 28,
     "metadata": {},
     "output_type": "execute_result"
    }
   ],
   "source": [
    "max(values, key= lambda val: int(val))"
   ]
  },
  {
   "cell_type": "code",
   "execution_count": 29,
   "metadata": {},
   "outputs": [
    {
     "data": {
      "text/plain": [
       "1"
      ]
     },
     "execution_count": 29,
     "metadata": {},
     "output_type": "execute_result"
    }
   ],
   "source": [
    "min(values, key= lambda val: int(val))"
   ]
  }
 ],
 "metadata": {
  "kernelspec": {
   "display_name": "Python 3",
   "language": "python",
   "name": "python3"
  },
  "language_info": {
   "codemirror_mode": {
    "name": "ipython",
    "version": 3
   },
   "file_extension": ".py",
   "mimetype": "text/x-python",
   "name": "python",
   "nbconvert_exporter": "python",
   "pygments_lexer": "ipython3",
   "version": "3.10.4"
  },
  "orig_nbformat": 4
 },
 "nbformat": 4,
 "nbformat_minor": 2
}
