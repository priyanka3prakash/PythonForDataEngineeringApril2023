{
 "cells": [
  {
   "cell_type": "markdown",
   "metadata": {},
   "source": [
    "##  comprehensions\n",
    "\n",
    "    - Alternative way of iterating the collections\n",
    "    - types\n",
    "        1. list comprehensions\n",
    "        2. Generator Expression\n",
    "        3. Set comprehensions\n",
    "        4. Dictionary comprehensions"
   ]
  },
  {
   "cell_type": "code",
   "execution_count": 3,
   "metadata": {},
   "outputs": [
    {
     "name": "stdout",
     "output_type": "stream",
     "text": [
      "[2, 3, 4, 5, 6, 7, 8]\n"
     ]
    }
   ],
   "source": [
    "# Traditional\n",
    "new_list = []\n",
    "for i in range(2, 9):\n",
    "    new_list.append(i)\n",
    "\n",
    "print(new_list)"
   ]
  },
  {
   "cell_type": "code",
   "execution_count": 5,
   "metadata": {},
   "outputs": [
    {
     "name": "stdout",
     "output_type": "stream",
     "text": [
      "[2, 3, 4, 5, 6, 7, 8]\n"
     ]
    }
   ],
   "source": [
    "# List comprehension\n",
    "\n",
    "other_list = [i for i in range(2, 9)]\n",
    "print(other_list)"
   ]
  },
  {
   "cell_type": "code",
   "execution_count": 7,
   "metadata": {},
   "outputs": [
    {
     "name": "stdout",
     "output_type": "stream",
     "text": [
      "[2, 4, 6, 8]\n"
     ]
    }
   ],
   "source": [
    "# ---- comprehensions with conditions\n",
    "even_list = []\n",
    "for i in range(2, 9):\n",
    "    if i % 2 == 0:\n",
    "        even_list.append(i)\n",
    "\n",
    "\n",
    "print(even_list)"
   ]
  },
  {
   "cell_type": "code",
   "execution_count": 8,
   "metadata": {},
   "outputs": [
    {
     "name": "stdout",
     "output_type": "stream",
     "text": [
      "[2, 4, 6, 8]\n"
     ]
    }
   ],
   "source": [
    "even_list2 = [i for i in range(2, 9) if i % 2 == 0]\n",
    "\n",
    "print(even_list2)"
   ]
  },
  {
   "cell_type": "code",
   "execution_count": 10,
   "metadata": {},
   "outputs": [
    {
     "name": "stdout",
     "output_type": "stream",
     "text": [
      "[4, 16, 36, 64]\n"
     ]
    }
   ],
   "source": [
    "# ---- comprehensions with conditions, and getting squares\n",
    "event_squares = []\n",
    "for i in range(2, 9):\n",
    "    if i % 2 == 0:\n",
    "        event_squares.append(i*i)\n",
    "\n",
    "print(event_squares)"
   ]
  },
  {
   "cell_type": "code",
   "execution_count": 11,
   "metadata": {},
   "outputs": [
    {
     "name": "stdout",
     "output_type": "stream",
     "text": [
      "[4, 16, 36, 64]\n"
     ]
    }
   ],
   "source": [
    "event_squares2 = [i*i for i in range(2, 9) if i % 2 == 0]\n",
    "\n",
    "print(event_squares)"
   ]
  },
  {
   "cell_type": "code",
   "execution_count": 13,
   "metadata": {},
   "outputs": [
    {
     "name": "stdout",
     "output_type": "stream",
     "text": [
      "['even', 'odd', 'even', 'odd', 'even', 'odd', 'even']\n"
     ]
    }
   ],
   "source": [
    "# ---- comprehensions with if and else\n",
    "even_or_odd = []\n",
    "for i in range(2, 9):\n",
    "    if i % 2 == 0:\n",
    "        even_or_odd.append(\"even\")\n",
    "    else:\n",
    "        even_or_odd.append(\"odd\")\n",
    "\n",
    "print(even_or_odd)"
   ]
  },
  {
   "cell_type": "code",
   "execution_count": 14,
   "metadata": {},
   "outputs": [
    {
     "ename": "SyntaxError",
     "evalue": "invalid syntax (589597561.py, line 1)",
     "output_type": "error",
     "traceback": [
      "\u001b[0;36m  Cell \u001b[0;32mIn[14], line 1\u001b[0;36m\u001b[0m\n\u001b[0;31m    [ \"even\" for i in range(2, 9)  if i % 2 == 0 else ]\u001b[0m\n\u001b[0m                                                 ^\u001b[0m\n\u001b[0;31mSyntaxError\u001b[0m\u001b[0;31m:\u001b[0m invalid syntax\n"
     ]
    }
   ],
   "source": [
    "[ \"even\" for i in range(2, 9)  if i % 2 == 0 else ]"
   ]
  },
  {
   "cell_type": "markdown",
   "metadata": {},
   "source": [
    "___NOTE:__ compehensions doesnt support else case"
   ]
  },
  {
   "attachments": {},
   "cell_type": "markdown",
   "metadata": {},
   "source": [
    "#### Ternary Operation\n",
    "\n",
    "    # condition: truecase: falsecase\n"
   ]
  },
  {
   "cell_type": "code",
   "execution_count": 15,
   "metadata": {},
   "outputs": [
    {
     "data": {
      "text/plain": [
       "'greater'"
      ]
     },
     "execution_count": 15,
     "metadata": {},
     "output_type": "execute_result"
    }
   ],
   "source": [
    "\"greater\" if 12> 3 else \"lesser\""
   ]
  },
  {
   "cell_type": "code",
   "execution_count": 16,
   "metadata": {},
   "outputs": [
    {
     "data": {
      "text/plain": [
       "'correct'"
      ]
     },
     "execution_count": 16,
     "metadata": {},
     "output_type": "execute_result"
    }
   ],
   "source": [
    "\"correct\" if True else \"wrong\""
   ]
  },
  {
   "cell_type": "code",
   "execution_count": 17,
   "metadata": {},
   "outputs": [
    {
     "data": {
      "text/plain": [
       "'even'"
      ]
     },
     "execution_count": 17,
     "metadata": {},
     "output_type": "execute_result"
    }
   ],
   "source": [
    "\"even\" if 2 % 2 == 0 else \"odd\""
   ]
  },
  {
   "cell_type": "code",
   "execution_count": 18,
   "metadata": {},
   "outputs": [
    {
     "data": {
      "text/plain": [
       "'even'"
      ]
     },
     "execution_count": 18,
     "metadata": {},
     "output_type": "execute_result"
    }
   ],
   "source": [
    "\"odd\" if not 2 % 2 == 0 else \"even\""
   ]
  },
  {
   "cell_type": "code",
   "execution_count": 19,
   "metadata": {},
   "outputs": [
    {
     "name": "stdout",
     "output_type": "stream",
     "text": [
      "odd\n",
      "even\n",
      "odd\n",
      "not correct\n",
      "1\n"
     ]
    }
   ],
   "source": [
    "print(\"odd\" if True else \"even\")\n",
    "print(\"odd\" if not True else \"even\")\n",
    "print(\"odd\" if not False else \"even\")\n",
    "print(\"correct\" if 23 % 2 == 0 else \"not correct\")\n",
    "print(1 if 6 % 2 == 0 else 0)"
   ]
  },
  {
   "cell_type": "code",
   "execution_count": 20,
   "metadata": {},
   "outputs": [
    {
     "data": {
      "text/plain": [
       "[2, 3, 4, 5, 6, 7, 8]"
      ]
     },
     "execution_count": 20,
     "metadata": {},
     "output_type": "execute_result"
    }
   ],
   "source": [
    "[ i  for i in range(2, 9) ]"
   ]
  },
  {
   "cell_type": "code",
   "execution_count": 21,
   "metadata": {},
   "outputs": [
    {
     "data": {
      "text/plain": [
       "[0, 1, 0, 1, 0, 1, 0]"
      ]
     },
     "execution_count": 21,
     "metadata": {},
     "output_type": "execute_result"
    }
   ],
   "source": [
    "[ i%2  for i in range(2, 9) ]"
   ]
  },
  {
   "cell_type": "code",
   "execution_count": 22,
   "metadata": {},
   "outputs": [
    {
     "data": {
      "text/plain": [
       "[True, False, True, False, True, False, True]"
      ]
     },
     "execution_count": 22,
     "metadata": {},
     "output_type": "execute_result"
    }
   ],
   "source": [
    "[ i%2 == 0  for i in range(2, 9) ]"
   ]
  },
  {
   "cell_type": "code",
   "execution_count": 23,
   "metadata": {},
   "outputs": [
    {
     "data": {
      "text/plain": [
       "['even', 'odd', 'even', 'odd', 'even', 'odd', 'even']"
      ]
     },
     "execution_count": 23,
     "metadata": {},
     "output_type": "execute_result"
    }
   ],
   "source": [
    "[ \"even\" if i%2 == 0  else \"odd\" for i in range(2, 9) ]"
   ]
  },
  {
   "cell_type": "code",
   "execution_count": 24,
   "metadata": {},
   "outputs": [
    {
     "name": "stdout",
     "output_type": "stream",
     "text": [
      "<class 'list'> ['M', 'a', 'n', 'g', 'a', 'l', 'y', 'a', 'n']\n",
      "<class 'generator'> <generator object <genexpr> at 0x7f43684a1000>\n",
      "<class 'set'> {'l', 'n', 'g', 'a', 'M', 'y'}\n",
      "<class 'dict'> {'M': 77, 'a': 97, 'n': 110, 'g': 103, 'l': 108, 'y': 121}\n"
     ]
    }
   ],
   "source": [
    "my_variable = [ch for ch in \"Mangalyan\"]\n",
    "print(type(my_variable), my_variable)\n",
    "\n",
    "my_variable = (ch for ch in \"Mangalyan\")\n",
    "print(type(my_variable), my_variable)\n",
    "\n",
    "my_variable = {ch for ch in \"Mangalyan\"}\n",
    "print(type(my_variable), my_variable)\n",
    "\n",
    "my_variable = {ch: ord(ch) for ch in \"Mangalyan\"}\n",
    "print(type(my_variable), my_variable)"
   ]
  },
  {
   "cell_type": "code",
   "execution_count": 26,
   "metadata": {},
   "outputs": [
    {
     "name": "stdout",
     "output_type": "stream",
     "text": [
      "[('P', '1'), ('P', '2'), ('P', '3'), ('P', '4'), ('y', '1'), ('y', '2'), ('y', '3'), ('y', '4'), ('t', '1'), ('t', '2'), ('t', '3'), ('t', '4'), ('h', '1'), ('h', '2'), ('h', '3'), ('h', '4'), ('o', '1'), ('o', '2'), ('o', '3'), ('o', '4'), ('n', '1'), ('n', '2'), ('n', '3'), ('n', '4')]\n"
     ]
    }
   ],
   "source": [
    "pairs = []\n",
    "for ch1 in \"Python\":\n",
    "    for num in \"1234\":\n",
    "        pairs.append((ch1, num))\n",
    "\n",
    "print(pairs)\n"
   ]
  },
  {
   "cell_type": "code",
   "execution_count": 28,
   "metadata": {},
   "outputs": [
    {
     "name": "stdout",
     "output_type": "stream",
     "text": [
      "[('P', '1'), ('P', '2'), ('P', '3'), ('P', '4'), ('y', '1'), ('y', '2'), ('y', '3'), ('y', '4'), ('t', '1'), ('t', '2'), ('t', '3'), ('t', '4'), ('h', '1'), ('h', '2'), ('h', '3'), ('h', '4'), ('o', '1'), ('o', '2'), ('o', '3'), ('o', '4'), ('n', '1'), ('n', '2'), ('n', '3'), ('n', '4')]\n"
     ]
    }
   ],
   "source": [
    "pairs2 = [(ch1, num) for ch1 in \"Python\" for num in \"1234\"]\n",
    "\n",
    "print(pairs2)"
   ]
  },
  {
   "cell_type": "code",
   "execution_count": 29,
   "metadata": {},
   "outputs": [
    {
     "name": "stdout",
     "output_type": "stream",
     "text": [
      "{('t', '4'), ('n', '4'), ('t', '2'), ('t', '1'), ('n', '2'), ('n', '1'), ('h', '4'), ('t', '3'), ('n', '3'), ('h', '2'), ('h', '1'), ('y', '4'), ('o', '4'), ('h', '3'), ('y', '2'), ('y', '1'), ('y', '3'), ('o', '2'), ('o', '1'), ('o', '3'), ('P', '4'), ('P', '2'), ('P', '1'), ('P', '3')}\n"
     ]
    }
   ],
   "source": [
    "pairs = set()\n",
    "for ch1 in \"Python\":\n",
    "    for num in \"1234\":\n",
    "        pairs.add((ch1, num))\n",
    "\n",
    "print(pairs)"
   ]
  },
  {
   "cell_type": "code",
   "execution_count": 30,
   "metadata": {},
   "outputs": [
    {
     "name": "stdout",
     "output_type": "stream",
     "text": [
      "{('t', '4'), ('n', '4'), ('t', '2'), ('t', '1'), ('n', '2'), ('n', '1'), ('h', '4'), ('t', '3'), ('n', '3'), ('h', '2'), ('h', '1'), ('y', '4'), ('o', '4'), ('h', '3'), ('y', '2'), ('y', '1'), ('y', '3'), ('o', '2'), ('o', '1'), ('o', '3'), ('P', '4'), ('P', '2'), ('P', '1'), ('P', '3')}\n"
     ]
    }
   ],
   "source": [
    "pairs2 = { (ch1, num) for ch1 in \"Python\"  for num in \"1234\"}\n",
    "\n",
    "print(pairs2)"
   ]
  },
  {
   "cell_type": "code",
   "execution_count": 31,
   "metadata": {},
   "outputs": [
    {
     "name": "stdout",
     "output_type": "stream",
     "text": [
      "{('t', '3'), ('y', '3'), ('n', '3'), ('P', '3'), ('o', '3'), ('h', '3')}\n"
     ]
    }
   ],
   "source": [
    "pairs = set()\n",
    "for ch1 in \"Python\":\n",
    "    for num in \"1234\":\n",
    "        if num == \"3\":\n",
    "            pairs.add((ch1, num))\n",
    "\n",
    "print(pairs)"
   ]
  },
  {
   "cell_type": "code",
   "execution_count": 32,
   "metadata": {},
   "outputs": [
    {
     "name": "stdout",
     "output_type": "stream",
     "text": [
      "{('t', '3'), ('y', '3'), ('n', '3'), ('P', '3'), ('o', '3'), ('h', '3')}\n"
     ]
    }
   ],
   "source": [
    "pairs2 = {(ch1, num) for ch1 in \"Python\" for num in \"1234\" if num == \"3\"}\n",
    "\n",
    "print(pairs2)"
   ]
  },
  {
   "cell_type": "code",
   "execution_count": null,
   "metadata": {},
   "outputs": [],
   "source": []
  }
 ],
 "metadata": {
  "kernelspec": {
   "display_name": "Python 3",
   "language": "python",
   "name": "python3"
  },
  "language_info": {
   "codemirror_mode": {
    "name": "ipython",
    "version": 3
   },
   "file_extension": ".py",
   "mimetype": "text/x-python",
   "name": "python",
   "nbconvert_exporter": "python",
   "pygments_lexer": "ipython3",
   "version": "3.10.4"
  },
  "orig_nbformat": 4
 },
 "nbformat": 4,
 "nbformat_minor": 2
}
