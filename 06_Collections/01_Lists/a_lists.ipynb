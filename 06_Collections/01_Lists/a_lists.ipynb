{
 "cells": [
  {
   "cell_type": "markdown",
   "metadata": {},
   "source": [
    "## Lists\n",
    "\n",
    "\n",
    "    List is representing using [].\n",
    "    Lists can store any no.of different data types together.\n",
    "    List can be classified as single-dimensional and multi-dimensional.\n",
    "    List is a mutable object, which means elements in list can be changed.\n",
    "    It can store asymmetric data types"
   ]
  },
  {
   "cell_type": "code",
   "execution_count": 2,
   "metadata": {},
   "outputs": [
    {
     "name": "stdout",
     "output_type": "stream",
     "text": [
      "<class 'int'> 1\n"
     ]
    }
   ],
   "source": [
    "val = 1\n",
    "\n",
    "print(type(val), val)"
   ]
  },
  {
   "cell_type": "code",
   "execution_count": 3,
   "metadata": {},
   "outputs": [
    {
     "name": "stdout",
     "output_type": "stream",
     "text": [
      "<class 'float'> 1.23\n"
     ]
    }
   ],
   "source": [
    "val = 1.23\n",
    "\n",
    "print(type(val), val)"
   ]
  },
  {
   "cell_type": "code",
   "execution_count": 4,
   "metadata": {},
   "outputs": [
    {
     "name": "stdout",
     "output_type": "stream",
     "text": [
      "<class 'list'> [1.23]\n"
     ]
    }
   ],
   "source": [
    "val = [1.23]\n",
    "\n",
    "print(type(val), val)"
   ]
  },
  {
   "cell_type": "code",
   "execution_count": 5,
   "metadata": {},
   "outputs": [
    {
     "name": "stdout",
     "output_type": "stream",
     "text": [
      "<class 'list'> empty_list = []\n",
      "len(empty_list) =0\n"
     ]
    }
   ],
   "source": [
    "empty_list = []\n",
    "print(f\"{type(empty_list)} {empty_list = }\")\n",
    "print(f\"{len(empty_list) =}\")"
   ]
  },
  {
   "cell_type": "code",
   "execution_count": 6,
   "metadata": {},
   "outputs": [
    {
     "name": "stdout",
     "output_type": "stream",
     "text": [
      "\n",
      "<class 'list'> numbers =[12, 334, 23, 2, -323]\n",
      "len(numbers) =5\n"
     ]
    }
   ],
   "source": [
    "# Homogenous list\n",
    "numbers = [12, 334, 23, 2, -323]\n",
    "print(f\"\\n{type(numbers)} {numbers =}\")\n",
    "print(f\"{len(numbers) =}\")"
   ]
  },
  {
   "cell_type": "code",
   "execution_count": 7,
   "metadata": {},
   "outputs": [
    {
     "name": "stdout",
     "output_type": "stream",
     "text": [
      "\n",
      "<class 'list'> numbers =[12, 3.4, -4e-05, 434243432432, 'abc', True, 13.166666666666666, '4 + 55 / 6']\n",
      "len(numbers) =8\n"
     ]
    }
   ],
   "source": [
    "# non-homogenous\n",
    "numbers = [12, 3.4, -0.00004, 434243432432, \"abc\", True, 4 + 55 / 6, \"4 + 55 / 6\"]\n",
    "print(f\"\\n{type(numbers)} {numbers =}\")\n",
    "print(f\"{len(numbers) =}\")"
   ]
  },
  {
   "cell_type": "code",
   "execution_count": 8,
   "metadata": {},
   "outputs": [],
   "source": [
    "# multi-dimensional lists\n",
    "ml = [1, 2, 3, 4.3, 5, [6, 7, 8, (9, 10)]]\n",
    "#     0  1  2   3   4  -------5---------\n",
    "#                       0  1  2   --3--\n",
    "#                                 0   1\n"
   ]
  },
  {
   "cell_type": "code",
   "execution_count": 9,
   "metadata": {},
   "outputs": [
    {
     "name": "stdout",
     "output_type": "stream",
     "text": [
      "\n",
      "<class 'list'> ml =[1, 2, 3, 4.3, 5, [6, 7, 8, (9, 10)]]\n",
      "len(ml) =6\n"
     ]
    }
   ],
   "source": [
    "print(f\"\\n{type(ml)} {ml =}\")\n",
    "print(f\"{len(ml) =}\")"
   ]
  },
  {
   "cell_type": "code",
   "execution_count": 10,
   "metadata": {},
   "outputs": [
    {
     "name": "stdout",
     "output_type": "stream",
     "text": [
      "<class 'float'> ml[3] =4.3\n",
      "<class 'int'> ml[4] =5\n"
     ]
    }
   ],
   "source": [
    "print(f\"{type(ml[3])} {ml[3] =}\")\n",
    "print(f\"{type(ml[4])} {ml[4] =}\")"
   ]
  },
  {
   "cell_type": "code",
   "execution_count": 11,
   "metadata": {},
   "outputs": [
    {
     "ename": "IndexError",
     "evalue": "list index out of range",
     "output_type": "error",
     "traceback": [
      "\u001b[0;31m---------------------------------------------------------------------------\u001b[0m",
      "\u001b[0;31mIndexError\u001b[0m                                Traceback (most recent call last)",
      "Cell \u001b[0;32mIn[11], line 1\u001b[0m\n\u001b[0;32m----> 1\u001b[0m \u001b[39mprint\u001b[39m(\u001b[39mf\u001b[39m\u001b[39m'\u001b[39m\u001b[39m{\u001b[39;00m\u001b[39mtype\u001b[39m(ml[\u001b[39m6\u001b[39;49m])\u001b[39m}\u001b[39;00m\u001b[39m \u001b[39m\u001b[39m{\u001b[39;00mml[\u001b[39m6\u001b[39m]\u001b[39m \u001b[39m\u001b[39m=}\u001b[39;00m\u001b[39m'\u001b[39m)\n",
      "\u001b[0;31mIndexError\u001b[0m: list index out of range"
     ]
    }
   ],
   "source": [
    "print(f'{type(ml[6])} {ml[6] =}')"
   ]
  },
  {
   "cell_type": "code",
   "execution_count": 12,
   "metadata": {},
   "outputs": [
    {
     "name": "stdout",
     "output_type": "stream",
     "text": [
      "\n",
      "<class 'list'> ml[5] =[6, 7, 8, (9, 10)]\n",
      "<class 'int'> ml[5][1] =7\n",
      "<class 'tuple'> ml[5][3] =(9, 10)\n",
      "<class 'int'> ml[5][3][1] =10\n"
     ]
    }
   ],
   "source": [
    "print(f\"\\n{type(ml[5])} {ml[5] =}\")\n",
    "print(f\"{type(ml[5][1])} {ml[5][1] =}\")\n",
    "print(f\"{type(ml[5][3])} {ml[5][3] =}\")\n",
    "print(f\"{type(ml[5][3][1])} {ml[5][3][1] =}\") # ml is a 3-dimensional list"
   ]
  },
  {
   "cell_type": "code",
   "execution_count": 13,
   "metadata": {},
   "outputs": [],
   "source": [
    "# forward vs reverse indexing\n",
    "# [1, 2, 3, 4.3, 5, [6,  7,  8, (9, 10)]]\n",
    "# -6 -5  -4  -3  -2  ------- -1 -------  - reverse indexing\n",
    "#                   -4  -3  -2  -- -1 --\n",
    "#                               -2  -1\n",
    "\n",
    "# 0  1  2   3   4  -------5--------- - forward indexing"
   ]
  },
  {
   "cell_type": "code",
   "execution_count": 14,
   "metadata": {},
   "outputs": [
    {
     "name": "stdout",
     "output_type": "stream",
     "text": [
      "\n",
      "ml[-5]        2\n",
      "ml[-1]        [6, 7, 8, (9, 10)]\n",
      "ml[-1][-1]    (9, 10)\n",
      "ml[-1][-1][0] 9\n"
     ]
    }
   ],
   "source": [
    "print(\"\\nml[-5]       \", ml[-5])\n",
    "print(\"ml[-1]       \", ml[-1])\n",
    "print(\"ml[-1][-1]   \", ml[-1][-1])\n",
    "print(\"ml[-1][-1][0]\", ml[-1][-1][0])"
   ]
  },
  {
   "cell_type": "code",
   "execution_count": 15,
   "metadata": {},
   "outputs": [
    {
     "name": "stdout",
     "output_type": "stream",
     "text": [
      "True\n"
     ]
    }
   ],
   "source": [
    "print(ml[-5] == ml[1])\n",
    "assert ml[-5] == ml[1]"
   ]
  },
  {
   "cell_type": "code",
   "execution_count": null,
   "metadata": {},
   "outputs": [],
   "source": [
    "# multi-dimensional lists\n",
    "ml = [1, 2, 3, 4.3, 5, [6, 7, 8, (9, 10)]]\n",
    "#     0  1  2   3   4  -------5---------\n",
    "#                       0  1  2   --3--\n",
    "#                                 0   1"
   ]
  },
  {
   "cell_type": "code",
   "execution_count": 17,
   "metadata": {},
   "outputs": [
    {
     "name": "stdout",
     "output_type": "stream",
     "text": [
      "\n",
      "ml[1:4]       [2, 3, 4.3]\n"
     ]
    }
   ],
   "source": [
    "# Slicing - last value in boundary will not be included\n",
    "print(\"\\nml[1:4]      \", ml[1:4])\n"
   ]
  },
  {
   "cell_type": "code",
   "execution_count": 18,
   "metadata": {},
   "outputs": [
    {
     "name": "stdout",
     "output_type": "stream",
     "text": [
      "ml[1:4:2]     [2, 4.3]\n"
     ]
    }
   ],
   "source": [
    "print(\"ml[1:4:2]    \", ml[1:4:2])"
   ]
  },
  {
   "attachments": {},
   "cell_type": "markdown",
   "metadata": {},
   "source": [
    "### Mutability of Lists\n",
    "    - Objects that sort inplace changes"
   ]
  },
  {
   "cell_type": "code",
   "execution_count": 19,
   "metadata": {},
   "outputs": [
    {
     "name": "stdout",
     "output_type": "stream",
     "text": [
      "num1 =1234 <class 'int'> id(num1)=139882723885968\n"
     ]
    }
   ],
   "source": [
    "num1 = 1234\n",
    "print(f\"{num1 =} {type(num1)} {id(num1)=}\")  # 139882723885968\n"
   ]
  },
  {
   "cell_type": "code",
   "execution_count": 20,
   "metadata": {},
   "outputs": [
    {
     "name": "stdout",
     "output_type": "stream",
     "text": [
      "num1 =9999 <class 'int'> id(num1)=139882723886352\n"
     ]
    }
   ],
   "source": [
    "num1 = 9999\n",
    "print(f\"{num1 =} {type(num1)} {id(num1)=}\")  # 139882723886352 # OVERWRITING"
   ]
  },
  {
   "cell_type": "code",
   "execution_count": 21,
   "metadata": {},
   "outputs": [
    {
     "name": "stdout",
     "output_type": "stream",
     "text": [
      "\n",
      "String is a immutable object ===\n",
      "name         :Raj Sekhar\n",
      "name[0:3]    :Raj\n"
     ]
    }
   ],
   "source": [
    "print(\"\\nString is a immutable object ===\")\n",
    "name = \"Raj Sekhar\"\n",
    "print(f\"name         :{name}\")\n",
    "print(f\"name[0:3]    :{name[0:3]}\")"
   ]
  },
  {
   "cell_type": "code",
   "execution_count": 22,
   "metadata": {},
   "outputs": [
    {
     "ename": "TypeError",
     "evalue": "'str' object does not support item assignment",
     "output_type": "error",
     "traceback": [
      "\u001b[0;31m---------------------------------------------------------------------------\u001b[0m",
      "\u001b[0;31mTypeError\u001b[0m                                 Traceback (most recent call last)",
      "Cell \u001b[0;32mIn[22], line 1\u001b[0m\n\u001b[0;32m----> 1\u001b[0m name[\u001b[39m0\u001b[39;49m:\u001b[39m3\u001b[39;49m] \u001b[39m=\u001b[39m \u001b[39m'\u001b[39m\u001b[39mTej\u001b[39m\u001b[39m'\u001b[39m\n",
      "\u001b[0;31mTypeError\u001b[0m: 'str' object does not support item assignment"
     ]
    }
   ],
   "source": [
    "name[0:3] = 'Tej'"
   ]
  },
  {
   "cell_type": "code",
   "execution_count": 23,
   "metadata": {},
   "outputs": [
    {
     "name": "stdout",
     "output_type": "stream",
     "text": [
      "id(name) 139882484995952\n",
      "id(name) 139882486672496\n"
     ]
    }
   ],
   "source": [
    "print(\"id(name)\", id(name))\n",
    "name =\"Tej Sekhar\"\n",
    "print(\"id(name)\", id(name))"
   ]
  },
  {
   "cell_type": "code",
   "execution_count": 24,
   "metadata": {},
   "outputs": [
    {
     "data": {
      "text/plain": [
       "'Tej Sekhar'"
      ]
     },
     "execution_count": 24,
     "metadata": {},
     "output_type": "execute_result"
    }
   ],
   "source": [
    "name"
   ]
  },
  {
   "cell_type": "code",
   "execution_count": 25,
   "metadata": {},
   "outputs": [
    {
     "name": "stdout",
     "output_type": "stream",
     "text": [
      "List is a mutable object =======\n",
      "ml            [1, 2, 3, 4.3, 5, [6, 7, 8, (9, 10)]]\n",
      "type(ml)      <class 'list'>\n",
      "id(ml)        139882485135808\n"
     ]
    }
   ],
   "source": [
    "# multi-dimensional lists\n",
    "ml = [1, 2, 3, 4.3, 5, [6, 7, 8, (9, 10)]]\n",
    "#     0  1  2   3   4  --------5--------\n",
    "#                       0  1  2   --3--\n",
    "#                                 0   1\n",
    "\n",
    "\n",
    "print(\"List is a mutable object =======\")\n",
    "print(\"ml           \", ml)  # value\n",
    "print(\"type(ml)     \", type(ml))  # data type\n",
    "print(\"id(ml)       \", id(ml))  # address location - 139882485135808"
   ]
  },
  {
   "cell_type": "code",
   "execution_count": 26,
   "metadata": {},
   "outputs": [
    {
     "name": "stdout",
     "output_type": "stream",
     "text": [
      "ml[3] = 4.3\n"
     ]
    }
   ],
   "source": [
    "print(f\"{ml[3] = }\")"
   ]
  },
  {
   "cell_type": "code",
   "execution_count": 27,
   "metadata": {},
   "outputs": [
    {
     "name": "stdout",
     "output_type": "stream",
     "text": [
      "ml            [1, 2, 3, 3.4, 5, [6, 7, 8, (9, 10)]]\n",
      "id(ml)        139882485135808\n"
     ]
    }
   ],
   "source": [
    "ml[3] = 3.4\n",
    "print(\"ml           \", ml)\n",
    "print(\"id(ml)       \", id(ml))"
   ]
  },
  {
   "cell_type": "code",
   "execution_count": 28,
   "metadata": {},
   "outputs": [
    {
     "data": {
      "text/plain": [
       "[2, 3, 3.4]"
      ]
     },
     "execution_count": 28,
     "metadata": {},
     "output_type": "execute_result"
    }
   ],
   "source": [
    "ml[1:4]"
   ]
  },
  {
   "cell_type": "code",
   "execution_count": 29,
   "metadata": {},
   "outputs": [
    {
     "name": "stdout",
     "output_type": "stream",
     "text": [
      "ml            [1, 2, 2, 2, 5, [6, 7, 8, (9, 10)]]\n",
      "id(ml)        139882485135808\n"
     ]
    }
   ],
   "source": [
    "ml[1:4] = [2, 2, 2]\n",
    "\n",
    "print(\"ml           \", ml)\n",
    "print(\"id(ml)       \", id(ml))"
   ]
  },
  {
   "cell_type": "markdown",
   "metadata": {},
   "source": [
    "### List Attributes"
   ]
  },
  {
   "cell_type": "code",
   "execution_count": 30,
   "metadata": {},
   "outputs": [
    {
     "name": "stdout",
     "output_type": "stream",
     "text": [
      "type(numbers)    = <class 'list'>\n",
      "dir(numbers)     = ['__add__', '__class__', '__class_getitem__', '__contains__', '__delattr__', '__delitem__', '__dir__', '__doc__', '__eq__', '__format__', '__ge__', '__getattribute__', '__getitem__', '__gt__', '__hash__', '__iadd__', '__imul__', '__init__', '__init_subclass__', '__iter__', '__le__', '__len__', '__lt__', '__mul__', '__ne__', '__new__', '__reduce__', '__reduce_ex__', '__repr__', '__reversed__', '__rmul__', '__setattr__', '__setitem__', '__sizeof__', '__str__', '__subclasshook__', 'append', 'clear', 'copy', 'count', 'extend', 'index', 'insert', 'pop', 'remove', 'reverse', 'sort']\n"
     ]
    }
   ],
   "source": [
    "numbers = [88, 99, 666]\n",
    "print(\"type(numbers)    =\", type(numbers))\n",
    "print(\"dir(numbers)     =\", dir(numbers))"
   ]
  },
  {
   "cell_type": "code",
   "execution_count": 31,
   "metadata": {},
   "outputs": [
    {
     "name": "stdout",
     "output_type": "stream",
     "text": [
      "len(numbers)            = 3\n",
      "numbers.__len__()       = 3\n"
     ]
    }
   ],
   "source": [
    "print(\"len(numbers)            =\", len(numbers))\n",
    "print(\"numbers.__len__()       =\", numbers.__len__())\n",
    "assert len(numbers) == numbers.__len__()"
   ]
  },
  {
   "cell_type": "code",
   "execution_count": 32,
   "metadata": {},
   "outputs": [
    {
     "data": {
      "text/plain": [
       "'[88, 99, 666]'"
      ]
     },
     "execution_count": 32,
     "metadata": {},
     "output_type": "execute_result"
    }
   ],
   "source": [
    "str(numbers)"
   ]
  },
  {
   "cell_type": "code",
   "execution_count": 34,
   "metadata": {},
   "outputs": [
    {
     "data": {
      "text/plain": [
       "'[88, 99, 666]'"
      ]
     },
     "execution_count": 34,
     "metadata": {},
     "output_type": "execute_result"
    }
   ],
   "source": [
    "numbers.__str__()"
   ]
  },
  {
   "cell_type": "code",
   "execution_count": 35,
   "metadata": {},
   "outputs": [],
   "source": [
    "assert str(numbers) == numbers.__str__()"
   ]
  },
  {
   "cell_type": "code",
   "execution_count": 36,
   "metadata": {},
   "outputs": [
    {
     "data": {
      "text/plain": [
       "[88, 99, 666, 88, 99, 666, 88, 99, 666]"
      ]
     },
     "execution_count": 36,
     "metadata": {},
     "output_type": "execute_result"
    }
   ],
   "source": [
    "# List Repetion operation\n",
    "\n",
    "numbers * 3"
   ]
  },
  {
   "cell_type": "code",
   "execution_count": 37,
   "metadata": {},
   "outputs": [
    {
     "data": {
      "text/plain": [
       "[88, 99, 666, 88, 99, 666, 88, 99, 666]"
      ]
     },
     "execution_count": 37,
     "metadata": {},
     "output_type": "execute_result"
    }
   ],
   "source": [
    "numbers.__mul__(3)"
   ]
  },
  {
   "cell_type": "code",
   "execution_count": 39,
   "metadata": {},
   "outputs": [],
   "source": [
    "assert numbers * 3 ==  numbers.__mul__(3)"
   ]
  },
  {
   "cell_type": "code",
   "execution_count": 40,
   "metadata": {},
   "outputs": [
    {
     "data": {
      "text/plain": [
       "[88, 99, 666]"
      ]
     },
     "execution_count": 40,
     "metadata": {},
     "output_type": "execute_result"
    }
   ],
   "source": [
    "numbers"
   ]
  },
  {
   "cell_type": "code",
   "execution_count": 41,
   "metadata": {},
   "outputs": [
    {
     "name": "stdout",
     "output_type": "stream",
     "text": [
      "numbers.__imul__(3) = [88, 99, 666, 88, 99, 666, 88, 99, 666]\n",
      "numbers             = [88, 99, 666, 88, 99, 666, 88, 99, 666]\n"
     ]
    }
   ],
   "source": [
    "# original object IS modified\n",
    "print(\"numbers.__imul__(3) =\", numbers.__imul__(3))   # numbers *= 3\n",
    "print(\"numbers             =\", numbers)"
   ]
  },
  {
   "cell_type": "code",
   "execution_count": 42,
   "metadata": {},
   "outputs": [
    {
     "data": {
      "text/plain": [
       "[88, 99, 666, 88, 99, 666, 88, 99, 666]"
      ]
     },
     "execution_count": 42,
     "metadata": {},
     "output_type": "execute_result"
    }
   ],
   "source": [
    "# list concatenation\n",
    "\n",
    "numbers"
   ]
  },
  {
   "cell_type": "code",
   "execution_count": 46,
   "metadata": {},
   "outputs": [],
   "source": [
    "alphabets = [\"b\", \"c\"]"
   ]
  },
  {
   "cell_type": "code",
   "execution_count": 47,
   "metadata": {},
   "outputs": [
    {
     "data": {
      "text/plain": [
       "[88, 99, 666, 88, 99, 666, 88, 99, 666, 'b', 'c']"
      ]
     },
     "execution_count": 47,
     "metadata": {},
     "output_type": "execute_result"
    }
   ],
   "source": [
    "numbers + alphabets"
   ]
  },
  {
   "cell_type": "code",
   "execution_count": 48,
   "metadata": {},
   "outputs": [
    {
     "data": {
      "text/plain": [
       "['b', 'c', 88, 99, 666, 88, 99, 666, 88, 99, 666]"
      ]
     },
     "execution_count": 48,
     "metadata": {},
     "output_type": "execute_result"
    }
   ],
   "source": [
    "alphabets  + numbers"
   ]
  },
  {
   "cell_type": "code",
   "execution_count": 49,
   "metadata": {},
   "outputs": [
    {
     "data": {
      "text/plain": [
       "True"
      ]
     },
     "execution_count": 49,
     "metadata": {},
     "output_type": "execute_result"
    }
   ],
   "source": [
    "numbers + alphabets !=  alphabets + numbers"
   ]
  },
  {
   "cell_type": "code",
   "execution_count": 50,
   "metadata": {},
   "outputs": [
    {
     "data": {
      "text/plain": [
       "[88, 99, 666, 88, 99, 666, 88, 99, 666, 'b', 'c']"
      ]
     },
     "execution_count": 50,
     "metadata": {},
     "output_type": "execute_result"
    }
   ],
   "source": [
    "numbers.__add__(alphabets)"
   ]
  },
  {
   "cell_type": "code",
   "execution_count": 51,
   "metadata": {},
   "outputs": [],
   "source": [
    "assert numbers + alphabets == numbers.__add__(alphabets)\n",
    "assert alphabets + numbers == alphabets.__add__(numbers)"
   ]
  },
  {
   "cell_type": "code",
   "execution_count": 52,
   "metadata": {},
   "outputs": [
    {
     "data": {
      "text/plain": [
       "[88, 99, 666, 88, 99, 666, 88, 99, 666]"
      ]
     },
     "execution_count": 52,
     "metadata": {},
     "output_type": "execute_result"
    }
   ],
   "source": [
    "numbers"
   ]
  },
  {
   "cell_type": "code",
   "execution_count": 54,
   "metadata": {},
   "outputs": [
    {
     "data": {
      "text/plain": [
       "[88, 99, 666, 88, 99, 666, 88, 99, 666, 'b', 'c']"
      ]
     },
     "execution_count": 54,
     "metadata": {},
     "output_type": "execute_result"
    }
   ],
   "source": [
    "numbers.__iadd__(alphabets)  # numbers += alphabets"
   ]
  },
  {
   "cell_type": "code",
   "execution_count": 55,
   "metadata": {},
   "outputs": [
    {
     "data": {
      "text/plain": [
       "[88, 99, 666, 88, 99, 666, 88, 99, 666, 'b', 'c']"
      ]
     },
     "execution_count": 55,
     "metadata": {},
     "output_type": "execute_result"
    }
   ],
   "source": [
    "numbers"
   ]
  },
  {
   "cell_type": "code",
   "execution_count": 56,
   "metadata": {},
   "outputs": [
    {
     "name": "stdout",
     "output_type": "stream",
     "text": [
      "numbers.__contains__(12) = False\n",
      "12 in numbers            = False\n"
     ]
    }
   ],
   "source": [
    "# Membership check -in\n",
    "print(\"numbers.__contains__(12) =\", numbers.__contains__(12))\n",
    "print(\"12 in numbers            =\", 12 in numbers)"
   ]
  },
  {
   "cell_type": "code",
   "execution_count": 57,
   "metadata": {},
   "outputs": [
    {
     "name": "stdout",
     "output_type": "stream",
     "text": [
      "numbers.__contains__('b') = True\n",
      "'b' in numbers            = True\n"
     ]
    }
   ],
   "source": [
    "print(\"numbers.__contains__('b') =\", numbers.__contains__(\"b\"))\n",
    "print(\"'b' in numbers            =\", \"b\" in numbers)"
   ]
  },
  {
   "cell_type": "code",
   "execution_count": 58,
   "metadata": {},
   "outputs": [
    {
     "name": "stdout",
     "output_type": "stream",
     "text": [
      "numbers.__sizeof__()  =168\n",
      "sys.getsizeof(numbers)=184\n"
     ]
    }
   ],
   "source": [
    "import sys\n",
    "\n",
    "print(f\"{numbers.__sizeof__()  =}\")  # bytes\n",
    "print(f\"{sys.getsizeof(numbers)=}\")  # bytes - object + c header\n",
    "# python favours - Jython(java), Cpython(c), Ironthon(.net)"
   ]
  },
  {
   "cell_type": "code",
   "execution_count": 59,
   "metadata": {},
   "outputs": [],
   "source": [
    "# Assignmnet -- repeat the same for all basic data types and data structures - Lits, tuple, set and dict"
   ]
  },
  {
   "cell_type": "code",
   "execution_count": 61,
   "metadata": {},
   "outputs": [
    {
     "name": "stdout",
     "output_type": "stream",
     "text": [
      "Built-in mutable sequence.\n",
      "\n",
      "If no argument is given, the constructor creates a new empty list.\n",
      "The argument must be an iterable if specified.\n"
     ]
    }
   ],
   "source": [
    "print(numbers.__doc__)"
   ]
  },
  {
   "cell_type": "code",
   "execution_count": 63,
   "metadata": {},
   "outputs": [
    {
     "name": "stdout",
     "output_type": "stream",
     "text": [
      "Help on list object:\n",
      "\n",
      "class list(object)\n",
      " |  list(iterable=(), /)\n",
      " |  \n",
      " |  Built-in mutable sequence.\n",
      " |  \n",
      " |  If no argument is given, the constructor creates a new empty list.\n",
      " |  The argument must be an iterable if specified.\n",
      " |  \n",
      " |  Methods defined here:\n",
      " |  \n",
      " |  __add__(self, value, /)\n",
      " |      Return self+value.\n",
      " |  \n",
      " |  __contains__(self, key, /)\n",
      " |      Return key in self.\n",
      " |  \n",
      " |  __delitem__(self, key, /)\n",
      " |      Delete self[key].\n",
      " |  \n",
      " |  __eq__(self, value, /)\n",
      " |      Return self==value.\n",
      " |  \n",
      " |  __ge__(self, value, /)\n",
      " |      Return self>=value.\n",
      " |  \n",
      " |  __getattribute__(self, name, /)\n",
      " |      Return getattr(self, name).\n",
      " |  \n",
      " |  __getitem__(...)\n",
      " |      x.__getitem__(y) <==> x[y]\n",
      " |  \n",
      " |  __gt__(self, value, /)\n",
      " |      Return self>value.\n",
      " |  \n",
      " |  __iadd__(self, value, /)\n",
      " |      Implement self+=value.\n",
      " |  \n",
      " |  __imul__(self, value, /)\n",
      " |      Implement self*=value.\n",
      " |  \n",
      " |  __init__(self, /, *args, **kwargs)\n",
      " |      Initialize self.  See help(type(self)) for accurate signature.\n",
      " |  \n",
      " |  __iter__(self, /)\n",
      " |      Implement iter(self).\n",
      " |  \n",
      " |  __le__(self, value, /)\n",
      " |      Return self<=value.\n",
      " |  \n",
      " |  __len__(self, /)\n",
      " |      Return len(self).\n",
      " |  \n",
      " |  __lt__(self, value, /)\n",
      " |      Return self<value.\n",
      " |  \n",
      " |  __mul__(self, value, /)\n",
      " |      Return self*value.\n",
      " |  \n",
      " |  __ne__(self, value, /)\n",
      " |      Return self!=value.\n",
      " |  \n",
      " |  __repr__(self, /)\n",
      " |      Return repr(self).\n",
      " |  \n",
      " |  __reversed__(self, /)\n",
      " |      Return a reverse iterator over the list.\n",
      " |  \n",
      " |  __rmul__(self, value, /)\n",
      " |      Return value*self.\n",
      " |  \n",
      " |  __setitem__(self, key, value, /)\n",
      " |      Set self[key] to value.\n",
      " |  \n",
      " |  __sizeof__(self, /)\n",
      " |      Return the size of the list in memory, in bytes.\n",
      " |  \n",
      " |  append(self, object, /)\n",
      " |      Append object to the end of the list.\n",
      " |  \n",
      " |  clear(self, /)\n",
      " |      Remove all items from list.\n",
      " |  \n",
      " |  copy(self, /)\n",
      " |      Return a shallow copy of the list.\n",
      " |  \n",
      " |  count(self, value, /)\n",
      " |      Return number of occurrences of value.\n",
      " |  \n",
      " |  extend(self, iterable, /)\n",
      " |      Extend list by appending elements from the iterable.\n",
      " |  \n",
      " |  index(self, value, start=0, stop=9223372036854775807, /)\n",
      " |      Return first index of value.\n",
      " |      \n",
      " |      Raises ValueError if the value is not present.\n",
      " |  \n",
      " |  insert(self, index, object, /)\n",
      " |      Insert object before index.\n",
      " |  \n",
      " |  pop(self, index=-1, /)\n",
      " |      Remove and return item at index (default last).\n",
      " |      \n",
      " |      Raises IndexError if list is empty or index is out of range.\n",
      " |  \n",
      " |  remove(self, value, /)\n",
      " |      Remove first occurrence of value.\n",
      " |      \n",
      " |      Raises ValueError if the value is not present.\n",
      " |  \n",
      " |  reverse(self, /)\n",
      " |      Reverse *IN PLACE*.\n",
      " |  \n",
      " |  sort(self, /, *, key=None, reverse=False)\n",
      " |      Sort the list in ascending order and return None.\n",
      " |      \n",
      " |      The sort is in-place (i.e. the list itself is modified) and stable (i.e. the\n",
      " |      order of two equal elements is maintained).\n",
      " |      \n",
      " |      If a key function is given, apply it once to each list item and sort them,\n",
      " |      ascending or descending, according to their function values.\n",
      " |      \n",
      " |      The reverse flag can be set to sort in descending order.\n",
      " |  \n",
      " |  ----------------------------------------------------------------------\n",
      " |  Class methods defined here:\n",
      " |  \n",
      " |  __class_getitem__(...) from builtins.type\n",
      " |      See PEP 585\n",
      " |  \n",
      " |  ----------------------------------------------------------------------\n",
      " |  Static methods defined here:\n",
      " |  \n",
      " |  __new__(*args, **kwargs) from builtins.type\n",
      " |      Create and return a new object.  See help(type) for accurate signature.\n",
      " |  \n",
      " |  ----------------------------------------------------------------------\n",
      " |  Data and other attributes defined here:\n",
      " |  \n",
      " |  __hash__ = None\n",
      "\n"
     ]
    }
   ],
   "source": [
    "help(numbers)"
   ]
  },
  {
   "cell_type": "code",
   "execution_count": 69,
   "metadata": {},
   "outputs": [
    {
     "name": "stdout",
     "output_type": "stream",
     "text": [
      "append\n",
      "clear\n",
      "copy\n",
      "count\n",
      "extend\n",
      "index\n",
      "insert\n",
      "pop\n",
      "remove\n",
      "reverse\n",
      "sort\n"
     ]
    }
   ],
   "source": [
    "for each_attribute in dir(numbers):\n",
    "    if not each_attribute.startswith(\"__\"):\n",
    "        print(each_attribute)"
   ]
  },
  {
   "cell_type": "code",
   "execution_count": 70,
   "metadata": {},
   "outputs": [
    {
     "data": {
      "text/plain": [
       "[88, 99, 666, 88, 99, 666, 88, 99, 666, 'b', 'c']"
      ]
     },
     "execution_count": 70,
     "metadata": {},
     "output_type": "execute_result"
    }
   ],
   "source": [
    "numbers"
   ]
  },
  {
   "cell_type": "code",
   "execution_count": 71,
   "metadata": {},
   "outputs": [
    {
     "data": {
      "text/plain": [
       "3"
      ]
     },
     "execution_count": 71,
     "metadata": {},
     "output_type": "execute_result"
    }
   ],
   "source": [
    "numbers.count(99)"
   ]
  },
  {
   "cell_type": "code",
   "execution_count": 72,
   "metadata": {},
   "outputs": [
    {
     "data": {
      "text/plain": [
       "0"
      ]
     },
     "execution_count": 72,
     "metadata": {},
     "output_type": "execute_result"
    }
   ],
   "source": [
    "numbers.count([99])"
   ]
  },
  {
   "cell_type": "code",
   "execution_count": 73,
   "metadata": {},
   "outputs": [
    {
     "data": {
      "text/plain": [
       "0"
      ]
     },
     "execution_count": 73,
     "metadata": {},
     "output_type": "execute_result"
    }
   ],
   "source": [
    "numbers.count(67)"
   ]
  },
  {
   "cell_type": "code",
   "execution_count": 74,
   "metadata": {},
   "outputs": [
    {
     "data": {
      "text/plain": [
       "1"
      ]
     },
     "execution_count": 74,
     "metadata": {},
     "output_type": "execute_result"
    }
   ],
   "source": [
    "mylist = [1, 2, [1, 2, [1, 2]]]\n",
    "#         0  1  ------2-------\n",
    "\n",
    "mylist.count(2)"
   ]
  },
  {
   "cell_type": "code",
   "execution_count": 77,
   "metadata": {},
   "outputs": [
    {
     "data": {
      "text/plain": [
       "[11, 22, 33]"
      ]
     },
     "execution_count": 77,
     "metadata": {},
     "output_type": "execute_result"
    }
   ],
   "source": [
    "mylist = [11, 22, 33]\n",
    "\n",
    "mylist"
   ]
  },
  {
   "cell_type": "code",
   "execution_count": 78,
   "metadata": {},
   "outputs": [
    {
     "data": {
      "text/plain": [
       "[11, 22, 33, 44]"
      ]
     },
     "execution_count": 78,
     "metadata": {},
     "output_type": "execute_result"
    }
   ],
   "source": [
    "mylist.append(44)\n",
    "\n",
    "mylist"
   ]
  },
  {
   "cell_type": "code",
   "execution_count": 79,
   "metadata": {},
   "outputs": [
    {
     "data": {
      "text/plain": [
       "[11, 22, 33, 44, '55']"
      ]
     },
     "execution_count": 79,
     "metadata": {},
     "output_type": "execute_result"
    }
   ],
   "source": [
    "mylist.append(\"55\")\n",
    "\n",
    "mylist"
   ]
  },
  {
   "cell_type": "code",
   "execution_count": 80,
   "metadata": {},
   "outputs": [
    {
     "data": {
      "text/plain": [
       "[11, 22, 33, 44, '55', [66, 77, 88]]"
      ]
     },
     "execution_count": 80,
     "metadata": {},
     "output_type": "execute_result"
    }
   ],
   "source": [
    "mylist.append([66, 77, 88])\n",
    "\n",
    "mylist"
   ]
  },
  {
   "cell_type": "code",
   "execution_count": 81,
   "metadata": {},
   "outputs": [
    {
     "ename": "TypeError",
     "evalue": "'int' object is not iterable",
     "output_type": "error",
     "traceback": [
      "\u001b[0;31m---------------------------------------------------------------------------\u001b[0m",
      "\u001b[0;31mTypeError\u001b[0m                                 Traceback (most recent call last)",
      "Cell \u001b[0;32mIn[81], line 1\u001b[0m\n\u001b[0;32m----> 1\u001b[0m mylist\u001b[39m.\u001b[39;49mextend(\u001b[39m99\u001b[39;49m)\n",
      "\u001b[0;31mTypeError\u001b[0m: 'int' object is not iterable"
     ]
    }
   ],
   "source": [
    "mylist.extend(99)"
   ]
  },
  {
   "cell_type": "code",
   "execution_count": 82,
   "metadata": {},
   "outputs": [
    {
     "data": {
      "text/plain": [
       "[11, 22, 33, 44, '55', [66, 77, 88], 99]"
      ]
     },
     "execution_count": 82,
     "metadata": {},
     "output_type": "execute_result"
    }
   ],
   "source": [
    "# Iterables -- string, list, tuple, set, dict, range, ...\n",
    "\n",
    "mylist.extend([99])\n",
    "\n",
    "mylist"
   ]
  },
  {
   "cell_type": "code",
   "execution_count": 83,
   "metadata": {},
   "outputs": [
    {
     "data": {
      "text/plain": [
       "[11, 22, 33, 44, '55', [66, 77, 88], 99, '1', '0', '0']"
      ]
     },
     "execution_count": 83,
     "metadata": {},
     "output_type": "execute_result"
    }
   ],
   "source": [
    "mylist.extend(\"100\")\n",
    "\n",
    "mylist"
   ]
  },
  {
   "cell_type": "code",
   "execution_count": 84,
   "metadata": {},
   "outputs": [
    {
     "data": {
      "text/plain": [
       "[11, 22, 33, 44, '55', [66, 77, 88], 99, '1', '0', '0', '101']"
      ]
     },
     "execution_count": 84,
     "metadata": {},
     "output_type": "execute_result"
    }
   ],
   "source": [
    "mylist.append(\"101\")\n",
    "\n",
    "mylist"
   ]
  },
  {
   "cell_type": "code",
   "execution_count": 85,
   "metadata": {},
   "outputs": [],
   "source": [
    "# NOTE: Both list.append and list.extend CAN add at the end of list only\n",
    "# 1. list.append - can take single element, or an iterable. Adds as it is\n",
    "# 2. list.extend will take only iterable. Adds to same dimension"
   ]
  },
  {
   "cell_type": "code",
   "execution_count": 86,
   "metadata": {},
   "outputs": [
    {
     "data": {
      "text/plain": [
       "[11, 22, 33]"
      ]
     },
     "execution_count": 86,
     "metadata": {},
     "output_type": "execute_result"
    }
   ],
   "source": [
    "mylist = [11, 22, 33]\n",
    "#         0   1   2\n",
    "mylist"
   ]
  },
  {
   "cell_type": "code",
   "execution_count": 87,
   "metadata": {},
   "outputs": [
    {
     "data": {
      "text/plain": [
       "[44, 11, 22, 33]"
      ]
     },
     "execution_count": 87,
     "metadata": {},
     "output_type": "execute_result"
    }
   ],
   "source": [
    "mylist.insert(0, 44)\n",
    "\n",
    "mylist"
   ]
  },
  {
   "cell_type": "code",
   "execution_count": 88,
   "metadata": {},
   "outputs": [
    {
     "data": {
      "text/plain": [
       "[44, 11, 55, 22, 33]"
      ]
     },
     "execution_count": 88,
     "metadata": {},
     "output_type": "execute_result"
    }
   ],
   "source": [
    "mylist.insert(2, 55)\n",
    "\n",
    "mylist"
   ]
  },
  {
   "cell_type": "code",
   "execution_count": 89,
   "metadata": {},
   "outputs": [
    {
     "data": {
      "text/plain": [
       "[44, 11, 55, 22, 66, 33]"
      ]
     },
     "execution_count": 89,
     "metadata": {},
     "output_type": "execute_result"
    }
   ],
   "source": [
    "mylist.insert(-1, 66)\n",
    "\n",
    "mylist"
   ]
  },
  {
   "cell_type": "code",
   "execution_count": 90,
   "metadata": {},
   "outputs": [
    {
     "data": {
      "text/plain": [
       "[44, 11, 55, 22, 66, 33, 77]"
      ]
     },
     "execution_count": 90,
     "metadata": {},
     "output_type": "execute_result"
    }
   ],
   "source": [
    "mylist.insert(len(mylist), 77) # works like append  ops\n",
    "\n",
    "mylist"
   ]
  },
  {
   "cell_type": "code",
   "execution_count": 91,
   "metadata": {},
   "outputs": [
    {
     "data": {
      "text/plain": [
       "22"
      ]
     },
     "execution_count": 91,
     "metadata": {},
     "output_type": "execute_result"
    }
   ],
   "source": [
    "# Subsitution\n",
    "\n",
    "mylist[3]\n"
   ]
  },
  {
   "cell_type": "code",
   "execution_count": 92,
   "metadata": {},
   "outputs": [
    {
     "data": {
      "text/plain": [
       "[44, 11, 55, 'TWo', 66, 33, 77]"
      ]
     },
     "execution_count": 92,
     "metadata": {},
     "output_type": "execute_result"
    }
   ],
   "source": [
    "mylist[3] = \"TWo\"\n",
    "\n",
    "mylist"
   ]
  },
  {
   "cell_type": "code",
   "execution_count": 93,
   "metadata": {},
   "outputs": [
    {
     "data": {
      "text/plain": [
       "[44, 11, 55, 'Python', 'TWo', 66, 33, 77]"
      ]
     },
     "execution_count": 93,
     "metadata": {},
     "output_type": "execute_result"
    }
   ],
   "source": [
    "mylist.insert(3, \"Python\")\n",
    "\n",
    "mylist"
   ]
  },
  {
   "cell_type": "code",
   "execution_count": 94,
   "metadata": {},
   "outputs": [
    {
     "name": "stdout",
     "output_type": "stream",
     "text": [
      "mylist.pop() =77\n",
      "mylist       =[44, 11, 55, 'Python', 'TWo', 66, 33]\n",
      "\n"
     ]
    }
   ],
   "source": [
    "# Question: list.pop() vs list.remove()\n",
    "\n",
    "print(f\"{mylist.pop() =}\")\n",
    "print(f\"{mylist       =}\\n\")"
   ]
  },
  {
   "cell_type": "code",
   "execution_count": 95,
   "metadata": {},
   "outputs": [
    {
     "name": "stdout",
     "output_type": "stream",
     "text": [
      "mylist.pop() =33\n",
      "mylist       =[44, 11, 55, 'Python', 'TWo', 66]\n",
      "\n"
     ]
    }
   ],
   "source": [
    "print(f\"{mylist.pop() =}\")\n",
    "print(f\"{mylist       =}\\n\")"
   ]
  },
  {
   "cell_type": "code",
   "execution_count": 96,
   "metadata": {},
   "outputs": [
    {
     "name": "stdout",
     "output_type": "stream",
     "text": [
      "mylist.pop() =66\n",
      "mylist       =[44, 11, 55, 'Python', 'TWo']\n",
      "\n"
     ]
    }
   ],
   "source": [
    "print(f\"{mylist.pop() =}\")   # by default, last index position value will be removed\n",
    "print(f\"{mylist       =}\\n\")"
   ]
  },
  {
   "cell_type": "code",
   "execution_count": 97,
   "metadata": {},
   "outputs": [
    {
     "name": "stdout",
     "output_type": "stream",
     "text": [
      "mylist.pop(3) ='Python'\n",
      "mylist       =[44, 11, 55, 'TWo']\n",
      "\n"
     ]
    }
   ],
   "source": [
    "print(f\"{mylist.pop(3) =}\")   \n",
    "print(f\"{mylist       =}\\n\")"
   ]
  },
  {
   "cell_type": "code",
   "execution_count": 98,
   "metadata": {},
   "outputs": [
    {
     "name": "stdout",
     "output_type": "stream",
     "text": [
      "mylist.pop(2) =55\n",
      "mylist       =[44, 11, 'TWo']\n",
      "\n"
     ]
    }
   ],
   "source": [
    "print(f\"{mylist.pop(2) =}\")    # removes second index position value\n",
    "print(f\"{mylist       =}\\n\")"
   ]
  },
  {
   "cell_type": "code",
   "execution_count": 99,
   "metadata": {},
   "outputs": [
    {
     "ename": "IndexError",
     "evalue": "pop index out of range",
     "output_type": "error",
     "traceback": [
      "\u001b[0;31m---------------------------------------------------------------------------\u001b[0m",
      "\u001b[0;31mIndexError\u001b[0m                                Traceback (most recent call last)",
      "Cell \u001b[0;32mIn[99], line 1\u001b[0m\n\u001b[0;32m----> 1\u001b[0m mylist\u001b[39m.\u001b[39;49mpop(\u001b[39m5\u001b[39;49m)\n",
      "\u001b[0;31mIndexError\u001b[0m: pop index out of range"
     ]
    }
   ],
   "source": [
    "mylist.pop(5)"
   ]
  },
  {
   "cell_type": "code",
   "execution_count": 100,
   "metadata": {},
   "outputs": [
    {
     "data": {
      "text/plain": [
       "[44, 11, 'TWo']"
      ]
     },
     "execution_count": 100,
     "metadata": {},
     "output_type": "execute_result"
    }
   ],
   "source": [
    "mylist"
   ]
  },
  {
   "cell_type": "code",
   "execution_count": 101,
   "metadata": {},
   "outputs": [
    {
     "name": "stdout",
     "output_type": "stream",
     "text": [
      "mylist.remove(11) =None\n",
      "mylist       =[44, 'TWo']\n",
      "\n"
     ]
    }
   ],
   "source": [
    "# To remove a specific element\n",
    "print(f\"{mylist.remove(11) =}\")  # None\n",
    "print(f\"{mylist       =}\\n\") "
   ]
  },
  {
   "cell_type": "code",
   "execution_count": 102,
   "metadata": {},
   "outputs": [
    {
     "ename": "ValueError",
     "evalue": "list.remove(x): x not in list",
     "output_type": "error",
     "traceback": [
      "\u001b[0;31m---------------------------------------------------------------------------\u001b[0m",
      "\u001b[0;31mValueError\u001b[0m                                Traceback (most recent call last)",
      "Cell \u001b[0;32mIn[102], line 1\u001b[0m\n\u001b[0;32m----> 1\u001b[0m \u001b[39mprint\u001b[39m(\u001b[39mf\u001b[39m\u001b[39m\"\u001b[39m\u001b[39m{\u001b[39;00mmylist\u001b[39m.\u001b[39;49mremove(\u001b[39m11\u001b[39;49m)\u001b[39m \u001b[39m\u001b[39m=}\u001b[39;00m\u001b[39m\"\u001b[39m)  \u001b[39m# None\u001b[39;00m\n\u001b[1;32m      2\u001b[0m \u001b[39mprint\u001b[39m(\u001b[39mf\u001b[39m\u001b[39m\"\u001b[39m\u001b[39m{\u001b[39;00mmylist\u001b[39m       \u001b[39m\u001b[39m=}\u001b[39;00m\u001b[39m\\n\u001b[39;00m\u001b[39m\"\u001b[39m) \n",
      "\u001b[0;31mValueError\u001b[0m: list.remove(x): x not in list"
     ]
    }
   ],
   "source": [
    "print(f\"{mylist.remove(11) =}\")  # None\n",
    "print(f\"{mylist       =}\\n\") "
   ]
  },
  {
   "cell_type": "code",
   "execution_count": 103,
   "metadata": {},
   "outputs": [
    {
     "data": {
      "text/plain": [
       "[11, 11, 11, 11]"
      ]
     },
     "execution_count": 103,
     "metadata": {},
     "output_type": "execute_result"
    }
   ],
   "source": [
    "mylist = [11, 11, 11, 11, 11]\n",
    "\n",
    "mylist.remove(11)  # frst occurrance is removed\n",
    "\n",
    "mylist"
   ]
  },
  {
   "cell_type": "code",
   "execution_count": 104,
   "metadata": {},
   "outputs": [],
   "source": [
    "# del - can remove an element or some indexed positions\n",
    "mylist = [\"a\", \"b\", \"c\", \"d\", \"e\", \"f\"]\n",
    "#          0    1   2     3    4    5"
   ]
  },
  {
   "cell_type": "code",
   "execution_count": 105,
   "metadata": {},
   "outputs": [
    {
     "data": {
      "text/plain": [
       "'d'"
      ]
     },
     "execution_count": 105,
     "metadata": {},
     "output_type": "execute_result"
    }
   ],
   "source": [
    "mylist[3]"
   ]
  },
  {
   "cell_type": "code",
   "execution_count": 106,
   "metadata": {},
   "outputs": [],
   "source": [
    "del mylist[3]"
   ]
  },
  {
   "cell_type": "code",
   "execution_count": 107,
   "metadata": {},
   "outputs": [
    {
     "data": {
      "text/plain": [
       "['a', 'b', 'c', 'e', 'f']"
      ]
     },
     "execution_count": 107,
     "metadata": {},
     "output_type": "execute_result"
    }
   ],
   "source": [
    "mylist"
   ]
  },
  {
   "cell_type": "code",
   "execution_count": 108,
   "metadata": {},
   "outputs": [
    {
     "data": {
      "text/plain": [
       "['b', 'e']"
      ]
     },
     "execution_count": 108,
     "metadata": {},
     "output_type": "execute_result"
    }
   ],
   "source": [
    "mylist[1:5:2]"
   ]
  },
  {
   "cell_type": "code",
   "execution_count": 109,
   "metadata": {},
   "outputs": [
    {
     "data": {
      "text/plain": [
       "['a', 'c', 'f']"
      ]
     },
     "execution_count": 109,
     "metadata": {},
     "output_type": "execute_result"
    }
   ],
   "source": [
    "del mylist[1:5:2]\n",
    "\n",
    "mylist"
   ]
  },
  {
   "cell_type": "code",
   "execution_count": 110,
   "metadata": {},
   "outputs": [
    {
     "data": {
      "text/plain": [
       "[]"
      ]
     },
     "execution_count": 110,
     "metadata": {},
     "output_type": "execute_result"
    }
   ],
   "source": [
    "mylist.clear()\n",
    "\n",
    "mylist"
   ]
  },
  {
   "cell_type": "code",
   "execution_count": 111,
   "metadata": {},
   "outputs": [],
   "source": [
    "del mylist"
   ]
  },
  {
   "cell_type": "code",
   "execution_count": 112,
   "metadata": {},
   "outputs": [
    {
     "ename": "NameError",
     "evalue": "name 'mylist' is not defined",
     "output_type": "error",
     "traceback": [
      "\u001b[0;31m---------------------------------------------------------------------------\u001b[0m",
      "\u001b[0;31mNameError\u001b[0m                                 Traceback (most recent call last)",
      "Cell \u001b[0;32mIn[112], line 1\u001b[0m\n\u001b[0;32m----> 1\u001b[0m mylist\n",
      "\u001b[0;31mNameError\u001b[0m: name 'mylist' is not defined"
     ]
    }
   ],
   "source": [
    "mylist"
   ]
  },
  {
   "cell_type": "code",
   "execution_count": 113,
   "metadata": {},
   "outputs": [
    {
     "data": {
      "text/plain": [
       "[1, 9, '1', '9', 'a', 'z', 'A', 'Z']"
      ]
     },
     "execution_count": 113,
     "metadata": {},
     "output_type": "execute_result"
    }
   ],
   "source": [
    "### list.sort vs Sorted() function\n",
    "\n",
    "mylist = [1, 9, \"1\", \"9\", \"a\", \"z\", \"A\", \"Z\"]\n",
    "\n",
    "mylist"
   ]
  },
  {
   "cell_type": "code",
   "execution_count": 114,
   "metadata": {},
   "outputs": [
    {
     "ename": "TypeError",
     "evalue": "'<' not supported between instances of 'str' and 'int'",
     "output_type": "error",
     "traceback": [
      "\u001b[0;31m---------------------------------------------------------------------------\u001b[0m",
      "\u001b[0;31mTypeError\u001b[0m                                 Traceback (most recent call last)",
      "Cell \u001b[0;32mIn[114], line 1\u001b[0m\n\u001b[0;32m----> 1\u001b[0m \u001b[39msorted\u001b[39;49m(mylist)\n",
      "\u001b[0;31mTypeError\u001b[0m: '<' not supported between instances of 'str' and 'int'"
     ]
    }
   ],
   "source": [
    "sorted(mylist)"
   ]
  },
  {
   "cell_type": "code",
   "execution_count": 115,
   "metadata": {},
   "outputs": [
    {
     "ename": "TypeError",
     "evalue": "'<' not supported between instances of 'str' and 'int'",
     "output_type": "error",
     "traceback": [
      "\u001b[0;31m---------------------------------------------------------------------------\u001b[0m",
      "\u001b[0;31mTypeError\u001b[0m                                 Traceback (most recent call last)",
      "Cell \u001b[0;32mIn[115], line 1\u001b[0m\n\u001b[0;32m----> 1\u001b[0m mylist\u001b[39m.\u001b[39;49msort()\n",
      "\u001b[0;31mTypeError\u001b[0m: '<' not supported between instances of 'str' and 'int'"
     ]
    }
   ],
   "source": [
    "mylist.sort()"
   ]
  },
  {
   "cell_type": "code",
   "execution_count": 120,
   "metadata": {},
   "outputs": [
    {
     "data": {
      "text/plain": [
       "['a', 'z', '1', '9', 'A', 'Z']"
      ]
     },
     "execution_count": 120,
     "metadata": {},
     "output_type": "execute_result"
    }
   ],
   "source": [
    "mylist = [ \"a\", \"z\", \"1\", \"9\", \"A\", \"Z\"]\n",
    "\n",
    "mylist"
   ]
  },
  {
   "cell_type": "code",
   "execution_count": 121,
   "metadata": {},
   "outputs": [
    {
     "data": {
      "text/plain": [
       "['1', '9', 'A', 'Z', 'a', 'z']"
      ]
     },
     "execution_count": 121,
     "metadata": {},
     "output_type": "execute_result"
    }
   ],
   "source": [
    "sorted(mylist)  # ascending based on ASCII values chr() & ord()"
   ]
  },
  {
   "cell_type": "code",
   "execution_count": 122,
   "metadata": {},
   "outputs": [
    {
     "data": {
      "text/plain": [
       "['z', 'a', 'Z', 'A', '9', '1']"
      ]
     },
     "execution_count": 122,
     "metadata": {},
     "output_type": "execute_result"
    }
   ],
   "source": [
    "sorted(mylist, reverse=True) # new object is created"
   ]
  },
  {
   "cell_type": "code",
   "execution_count": 123,
   "metadata": {},
   "outputs": [
    {
     "data": {
      "text/plain": [
       "['a', 'z', '1', '9', 'A', 'Z']"
      ]
     },
     "execution_count": 123,
     "metadata": {},
     "output_type": "execute_result"
    }
   ],
   "source": [
    "mylist"
   ]
  },
  {
   "cell_type": "code",
   "execution_count": 124,
   "metadata": {},
   "outputs": [],
   "source": [
    "mylist.sort() # inplace"
   ]
  },
  {
   "cell_type": "code",
   "execution_count": 125,
   "metadata": {},
   "outputs": [
    {
     "data": {
      "text/plain": [
       "['1', '9', 'A', 'Z', 'a', 'z']"
      ]
     },
     "execution_count": 125,
     "metadata": {},
     "output_type": "execute_result"
    }
   ],
   "source": [
    "mylist"
   ]
  },
  {
   "cell_type": "code",
   "execution_count": 126,
   "metadata": {},
   "outputs": [
    {
     "data": {
      "text/plain": [
       "['z', 'a', 'Z', 'A', '9', '1']"
      ]
     },
     "execution_count": 126,
     "metadata": {},
     "output_type": "execute_result"
    }
   ],
   "source": [
    "mylist.sort(reverse=True)\n",
    "\n",
    "mylist"
   ]
  },
  {
   "cell_type": "code",
   "execution_count": 127,
   "metadata": {},
   "outputs": [
    {
     "data": {
      "text/plain": [
       "['ganesh', 'mahesh', 'ramesh', 'suresh']"
      ]
     },
     "execution_count": 127,
     "metadata": {},
     "output_type": "execute_result"
    }
   ],
   "source": [
    "name = [\"ramesh\", \"suresh\", \"ganesh\", \"mahesh\"]\n",
    "\n",
    "sorted(name)"
   ]
  },
  {
   "cell_type": "code",
   "execution_count": 128,
   "metadata": {},
   "outputs": [
    {
     "data": {
      "text/plain": [
       "['ramesh', 'suresh', 'ganesh', 'mahesh']"
      ]
     },
     "execution_count": 128,
     "metadata": {},
     "output_type": "execute_result"
    }
   ],
   "source": [
    "name"
   ]
  },
  {
   "cell_type": "code",
   "execution_count": 129,
   "metadata": {},
   "outputs": [
    {
     "data": {
      "text/plain": [
       "['ganesh', 'mahesh', 'ramesh', 'suresh']"
      ]
     },
     "execution_count": 129,
     "metadata": {},
     "output_type": "execute_result"
    }
   ],
   "source": [
    "name.sort()\n",
    "\n",
    "name"
   ]
  },
  {
   "cell_type": "code",
   "execution_count": 130,
   "metadata": {},
   "outputs": [
    {
     "data": {
      "text/plain": [
       "['suresh', 'ramesh', 'mahesh', 'ganesh']"
      ]
     },
     "execution_count": 130,
     "metadata": {},
     "output_type": "execute_result"
    }
   ],
   "source": [
    "name.sort(reverse=True)\n",
    "\n",
    "name"
   ]
  },
  {
   "cell_type": "code",
   "execution_count": 132,
   "metadata": {},
   "outputs": [
    {
     "data": {
      "text/plain": [
       "['suresh', 'ramesh', 'mahesh', 'ganesh']"
      ]
     },
     "execution_count": 132,
     "metadata": {},
     "output_type": "execute_result"
    }
   ],
   "source": [
    "name.sort(reverse=True, key=len)\n",
    "\n",
    "name"
   ]
  },
  {
   "cell_type": "code",
   "execution_count": 1,
   "metadata": {},
   "outputs": [
    {
     "data": {
      "text/plain": [
       "['something', 'anoth', 'dogg', 'ball', 'cat']"
      ]
     },
     "execution_count": 1,
     "metadata": {},
     "output_type": "execute_result"
    }
   ],
   "source": [
    "names = [\"cat\", \"dogg\", \"ball\", \"something\", \"anoth\"]\n",
    "\n",
    "sorted(names, reverse=True, key=len)"
   ]
  },
  {
   "cell_type": "code",
   "execution_count": 2,
   "metadata": {},
   "outputs": [
    {
     "data": {
      "text/plain": [
       "['cat', 'dogg', 'ball', 'something', 'anoth']"
      ]
     },
     "execution_count": 2,
     "metadata": {},
     "output_type": "execute_result"
    }
   ],
   "source": [
    "names"
   ]
  },
  {
   "cell_type": "code",
   "execution_count": 3,
   "metadata": {},
   "outputs": [
    {
     "data": {
      "text/plain": [
       "<list_reverseiterator at 0x7ff367212290>"
      ]
     },
     "execution_count": 3,
     "metadata": {},
     "output_type": "execute_result"
    }
   ],
   "source": [
    "reversed(names)"
   ]
  },
  {
   "cell_type": "code",
   "execution_count": 4,
   "metadata": {},
   "outputs": [
    {
     "name": "stdout",
     "output_type": "stream",
     "text": [
      "<class 'list_reverseiterator'> <list_reverseiterator object at 0x7ff367212b00>\n"
     ]
    }
   ],
   "source": [
    "names_reversed = reversed(names)\n",
    "\n",
    "print(type(names_reversed), names_reversed)"
   ]
  },
  {
   "cell_type": "code",
   "execution_count": 5,
   "metadata": {},
   "outputs": [
    {
     "name": "stdout",
     "output_type": "stream",
     "text": [
      "<class 'list'> ['anoth', 'something', 'ball', 'dogg', 'cat']\n"
     ]
    }
   ],
   "source": [
    "names_reversed = list(reversed(names))\n",
    "\n",
    "print(type(names_reversed), names_reversed) # reversing the original order"
   ]
  },
  {
   "cell_type": "code",
   "execution_count": 6,
   "metadata": {},
   "outputs": [
    {
     "data": {
      "text/plain": [
       "['cat', 'dogg', 'ball', 'something', 'anoth']"
      ]
     },
     "execution_count": 6,
     "metadata": {},
     "output_type": "execute_result"
    }
   ],
   "source": [
    "names"
   ]
  },
  {
   "cell_type": "code",
   "execution_count": 7,
   "metadata": {},
   "outputs": [
    {
     "data": {
      "text/plain": [
       "['anoth', 'something', 'ball', 'dogg', 'cat']"
      ]
     },
     "execution_count": 7,
     "metadata": {},
     "output_type": "execute_result"
    }
   ],
   "source": [
    "names.reverse()\n",
    "\n",
    "names"
   ]
  },
  {
   "cell_type": "code",
   "execution_count": 8,
   "metadata": {},
   "outputs": [
    {
     "data": {
      "text/plain": [
       "['cat', 'dogg', 'ball', 'something', 'anoth']"
      ]
     },
     "execution_count": 8,
     "metadata": {},
     "output_type": "execute_result"
    }
   ],
   "source": [
    "names[::-1]"
   ]
  },
  {
   "cell_type": "code",
   "execution_count": 9,
   "metadata": {},
   "outputs": [],
   "source": [
    "# sorted() vs list.sort()\n",
    "# reversed() vs list.reverse() vs list[::-1]"
   ]
  },
  {
   "cell_type": "markdown",
   "metadata": {},
   "source": [
    "### COPY PROBLEM\n",
    "    assignment vs Shallow copy vs deep copy\n",
    "\n",
    "Detailed Explanation: https://www.youtube.com/watch?v=yjYIyydmrc0"
   ]
  },
  {
   "cell_type": "code",
   "execution_count": 10,
   "metadata": {},
   "outputs": [
    {
     "name": "stdout",
     "output_type": "stream",
     "text": [
      "num1           123 <class 'int'> 140683431448624\n",
      "num2           123 <class 'int'> 140683431448624\n"
     ]
    }
   ],
   "source": [
    "# immutable object\n",
    "num1 = 123\n",
    "print(\"num1          \", num1, type(num1), id(num1))\n",
    "\n",
    "\n",
    "num2 = num1\n",
    "print(\"num2          \", num2, type(num2), id(num2))"
   ]
  },
  {
   "cell_type": "code",
   "execution_count": 11,
   "metadata": {},
   "outputs": [
    {
     "name": "stdout",
     "output_type": "stream",
     "text": [
      "num1           123 <class 'int'> 140683431448624\n",
      "num2           999 <class 'int'> 140683384551568\n"
     ]
    }
   ],
   "source": [
    "num2 = 999\n",
    "print(\"num1          \", num1, type(num1), id(num1))\n",
    "print(\"num2          \", num2, type(num2), id(num2))"
   ]
  },
  {
   "cell_type": "code",
   "execution_count": 12,
   "metadata": {},
   "outputs": [
    {
     "name": "stdout",
     "output_type": "stream",
     "text": [
      "par_list       [11, 111, 1111] <class 'list'> 140683383943040\n"
     ]
    }
   ],
   "source": [
    "# Mutable object\n",
    "par_list = [11, 111, 1111]\n",
    "print(\"par_list      \", par_list, type(par_list), id(par_list))"
   ]
  },
  {
   "cell_type": "code",
   "execution_count": 13,
   "metadata": {},
   "outputs": [
    {
     "name": "stdout",
     "output_type": "stream",
     "text": [
      "hard_copy_list [11, 111, 1111] <class 'list'> 140683383943040\n"
     ]
    }
   ],
   "source": [
    "hard_copy_list = par_list\n",
    "print(\"hard_copy_list\", hard_copy_list, type(hard_copy_list), id(par_list))"
   ]
  },
  {
   "cell_type": "code",
   "execution_count": 15,
   "metadata": {},
   "outputs": [
    {
     "name": "stdout",
     "output_type": "stream",
     "text": [
      "par_list[2]    1111\n",
      "par_list[2]    3333\n"
     ]
    }
   ],
   "source": [
    "print(\"par_list[2]   \", par_list[2])\n",
    "\n",
    "par_list[2] = 3333  # Substitution\n",
    "print(\"par_list[2]   \", par_list[2])\n"
   ]
  },
  {
   "cell_type": "code",
   "execution_count": 16,
   "metadata": {},
   "outputs": [
    {
     "name": "stdout",
     "output_type": "stream",
     "text": [
      "par_list       [11, 111, 3333] <class 'list'>\n"
     ]
    }
   ],
   "source": [
    "print(\"par_list      \", par_list, type(par_list))"
   ]
  },
  {
   "cell_type": "code",
   "execution_count": 17,
   "metadata": {},
   "outputs": [
    {
     "name": "stdout",
     "output_type": "stream",
     "text": [
      "hard_copy_list [11, 111, 3333] <class 'list'>\n"
     ]
    }
   ],
   "source": [
    "# leakage problem\n",
    "print(\"hard_copy_list\", hard_copy_list, type(hard_copy_list))"
   ]
  },
  {
   "cell_type": "code",
   "execution_count": 18,
   "metadata": {},
   "outputs": [
    {
     "name": "stdout",
     "output_type": "stream",
     "text": [
      "soft_copy_list  [11, 111, 3333] <class 'list'> 140683383870656\n"
     ]
    }
   ],
   "source": [
    "import copy\n",
    "\n",
    "# shallow copy\n",
    "soft_copy_list = copy.copy(par_list)\n",
    "print(\"soft_copy_list \", soft_copy_list, type(soft_copy_list), id(soft_copy_list))"
   ]
  },
  {
   "cell_type": "code",
   "execution_count": 20,
   "metadata": {},
   "outputs": [
    {
     "name": "stdout",
     "output_type": "stream",
     "text": [
      "hard_copy_list[2] 3333\n",
      "par_list        [11, 111, 'FOUR'] <class 'list'> 140683383943040\n",
      "hard_copy_list  [11, 111, 'FOUR'] <class 'list'> 140683383943040\n",
      "soft_copy_list  [11, 111, 3333] <class 'list'> 140683383870656\n"
     ]
    }
   ],
   "source": [
    "print(\"hard_copy_list[2]\", hard_copy_list[2])\n",
    "\n",
    "hard_copy_list[2] = \"FOUR\"\n",
    "\n",
    "print(\"par_list       \", par_list, type(par_list), id(par_list))\n",
    "print(\"hard_copy_list \", hard_copy_list, type(hard_copy_list), id(hard_copy_list))\n",
    "print(\"soft_copy_list \", soft_copy_list, type(soft_copy_list), id(soft_copy_list))\n"
   ]
  },
  {
   "cell_type": "code",
   "execution_count": 21,
   "metadata": {},
   "outputs": [
    {
     "name": "stdout",
     "output_type": "stream",
     "text": [
      "soft_copy_list[0] 11\n",
      "par_list        [11, 111, 'FOUR'] <class 'list'> 140683383943040\n",
      "hard_copy_list  [11, 111, 'FOUR'] <class 'list'> 140683383943040\n",
      "soft_copy_list  ['ZERO', 111, 3333] <class 'list'> 140683383870656\n"
     ]
    }
   ],
   "source": [
    "print(\"soft_copy_list[0]\", soft_copy_list[0])\n",
    "\n",
    "soft_copy_list[0] = \"ZERO\"\n",
    "\n",
    "print(\"par_list       \", par_list, type(par_list), id(par_list))\n",
    "print(\"hard_copy_list \", hard_copy_list, type(hard_copy_list), id(hard_copy_list))\n",
    "print(\"soft_copy_list \", soft_copy_list, type(soft_copy_list), id(soft_copy_list))"
   ]
  },
  {
   "cell_type": "code",
   "execution_count": 22,
   "metadata": {},
   "outputs": [
    {
     "name": "stdout",
     "output_type": "stream",
     "text": [
      "new_list           [90, 89, [78, 89, [4, 441, 6]]] <class 'list'> 140683384207872\n",
      "new_softcopy_list  [90, 89, [78, 89, [4, 441, 6]]] <class 'list'> 140683383876224\n",
      "new_deepcopy_list  [90, 89, [78, 89, [4, 441, 6]]] <class 'list'> 140683384207168\n"
     ]
    }
   ],
   "source": [
    "new_list = [90, 89, [78, 89, [4, 441, 6]]]\n",
    "\n",
    "new_softcopy_list = copy.copy(new_list)  # soft copy or shallow copy\n",
    "new_deepcopy_list = copy.deepcopy(new_list)\n",
    "\n",
    "\n",
    "print(\"new_list          \", new_list, type(new_list), id(new_list))\n",
    "print(    \"new_softcopy_list \",     new_softcopy_list,     type(new_softcopy_list),     id(new_softcopy_list))\n",
    "print(    \"new_deepcopy_list \",     new_deepcopy_list,     type(new_deepcopy_list),     id(new_deepcopy_list))"
   ]
  },
  {
   "cell_type": "code",
   "execution_count": 25,
   "metadata": {},
   "outputs": [
    {
     "name": "stdout",
     "output_type": "stream",
     "text": [
      "new_list[2][2][1] 441\n"
     ]
    }
   ],
   "source": [
    "print(\"new_list[2][2][1]\", new_list[2][2][1])\n",
    "\n",
    "new_list[2][2][1] = \"FFO\"\n"
   ]
  },
  {
   "cell_type": "code",
   "execution_count": 26,
   "metadata": {},
   "outputs": [
    {
     "name": "stdout",
     "output_type": "stream",
     "text": [
      "new_list           [90, 89, [78, 89, [4, 'FFO', 6]]] <class 'list'> 140683384207872\n",
      "new_softcopy_list  [90, 89, [78, 89, [4, 'FFO', 6]]] <class 'list'> 140683383876224\n",
      "new_deepcopy_list  [90, 89, [78, 89, [4, 441, 6]]] <class 'list'> 140683384207168\n"
     ]
    }
   ],
   "source": [
    "print(\"new_list          \", new_list, type(new_list), id(new_list))\n",
    "print(    \"new_softcopy_list \",     new_softcopy_list,     type(new_softcopy_list),     id(new_softcopy_list))\n",
    "print(    \"new_deepcopy_list \",     new_deepcopy_list,     type(new_deepcopy_list),     id(new_deepcopy_list))"
   ]
  },
  {
   "cell_type": "code",
   "execution_count": 27,
   "metadata": {},
   "outputs": [],
   "source": [
    "# NOTE:\n",
    "# 1. soft(shallow) copy is fast, but cant work more than one dimension\n",
    "# 2. deep copy is slow, but can work with objects of any number of dimensions\n"
   ]
  },
  {
   "cell_type": "code",
   "execution_count": 28,
   "metadata": {},
   "outputs": [],
   "source": [
    "l1 = [12, 34]"
   ]
  },
  {
   "cell_type": "code",
   "execution_count": 29,
   "metadata": {},
   "outputs": [
    {
     "name": "stdout",
     "output_type": "stream",
     "text": [
      "140683331896448 140683331902336\n"
     ]
    }
   ],
   "source": [
    "l2 = l1[::]  # soft(shallow) copy\n",
    "\n",
    "print(id(l1), id(l2))"
   ]
  },
  {
   "cell_type": "code",
   "execution_count": 30,
   "metadata": {},
   "outputs": [
    {
     "name": "stdout",
     "output_type": "stream",
     "text": [
      "140683384130432 140683384212352\n"
     ]
    }
   ],
   "source": [
    "l3 = [12, 34, [44, [55]]]\n",
    "\n",
    "l4 = l3[::]\n",
    "\n",
    "print(id(l3), id(l4))"
   ]
  },
  {
   "cell_type": "code",
   "execution_count": 31,
   "metadata": {},
   "outputs": [
    {
     "name": "stdout",
     "output_type": "stream",
     "text": [
      "l3 = [12, 34, [44, ['five']]]\n",
      "l4 = [12, 34, [44, ['five']]]\n"
     ]
    }
   ],
   "source": [
    "l3[2][1][0] = 'five'\n",
    "\n",
    "print(f\"{l3 = }\")\n",
    "print(f\"{l4 = }\")\n"
   ]
  },
  {
   "cell_type": "code",
   "execution_count": 32,
   "metadata": {},
   "outputs": [],
   "source": [
    "l5 = l2.copy()  # soft or shallow copy"
   ]
  },
  {
   "cell_type": "code",
   "execution_count": 33,
   "metadata": {},
   "outputs": [],
   "source": [
    "# soft/shallow copy --- copy.copy(), list.copy(), list[::]\n",
    "# deepcopy    --- copy.deepcopy"
   ]
  },
  {
   "attachments": {},
   "cell_type": "markdown",
   "metadata": {},
   "source": [
    "```\n",
    "    Assignment\n",
    "    ----------\n",
    "    1) implement the stack mechanism - LIFO\n",
    "    Take the values in run time\n",
    "    1. push   - add an element\n",
    "    2. pop    - delete last element\n",
    "    3. status - stack size\n",
    "\n",
    "    -       -\n",
    "    |       |\n",
    "    |       |\n",
    "    ---------\n",
    "    HINT: list.pop(), list.append(), len()\n",
    "\n",
    "\n",
    "    2) implement the queue mechanism - FIFO\n",
    "    Take the values in run time\n",
    "    1. push   - add an element\n",
    "    2. pop    - delete last element\n",
    "    3. status - queue size\n",
    "        --------\n",
    "    ->         ->\n",
    "        --------\n",
    "    HINT: list.insert(), list.pop(), len()\n",
    "\n",
    "\n",
    "```"
   ]
  },
  {
   "attachments": {},
   "cell_type": "markdown",
   "metadata": {},
   "source": [
    "### List referencing problem"
   ]
  },
  {
   "cell_type": "code",
   "execution_count": 36,
   "metadata": {},
   "outputs": [
    {
     "name": "stdout",
     "output_type": "stream",
     "text": [
      "my_list1 =[]\n",
      "my_list1 =[]\n"
     ]
    }
   ],
   "source": [
    "my_list1 = []\n",
    "print(f\"{my_list1 =}\") \n",
    "\n",
    "my_list1 = [] * 3\n",
    "print(f\"{my_list1 =}\") "
   ]
  },
  {
   "cell_type": "code",
   "execution_count": 37,
   "metadata": {},
   "outputs": [
    {
     "name": "stdout",
     "output_type": "stream",
     "text": [
      "my_list1 =[[], [], []]\n"
     ]
    }
   ],
   "source": [
    "# Anti-pattern\n",
    "my_list1 = [[]] * 3\n",
    "print(f\"{my_list1 =}\")"
   ]
  },
  {
   "cell_type": "code",
   "execution_count": 38,
   "metadata": {},
   "outputs": [],
   "source": [
    "my_list1[0].append(3)"
   ]
  },
  {
   "cell_type": "code",
   "execution_count": 39,
   "metadata": {},
   "outputs": [
    {
     "name": "stdout",
     "output_type": "stream",
     "text": [
      "my_list1 =[[3], [3], [3]]\n"
     ]
    }
   ],
   "source": [
    "print(f\"{my_list1 =}\") "
   ]
  },
  {
   "cell_type": "code",
   "execution_count": 40,
   "metadata": {},
   "outputs": [],
   "source": [
    "# NOTE: that items in the sequence s are not copied; they are referenced multiple times."
   ]
  },
  {
   "cell_type": "code",
   "execution_count": 42,
   "metadata": {},
   "outputs": [
    {
     "data": {
      "text/plain": [
       "[[3], [3], [2]]"
      ]
     },
     "execution_count": 42,
     "metadata": {},
     "output_type": "execute_result"
    }
   ],
   "source": [
    "my_list1[2] = [2]\n",
    "\n",
    "my_list1"
   ]
  },
  {
   "cell_type": "code",
   "execution_count": 43,
   "metadata": {},
   "outputs": [
    {
     "name": "stdout",
     "output_type": "stream",
     "text": [
      "my_list2 =[[], [], []]\n"
     ]
    }
   ],
   "source": [
    "# SOLUTION\n",
    "my_list2 = [[] for i in range(3)]\n",
    "print(f\"{my_list2 =}\")"
   ]
  },
  {
   "cell_type": "code",
   "execution_count": 44,
   "metadata": {},
   "outputs": [
    {
     "name": "stdout",
     "output_type": "stream",
     "text": [
      "my_list2 =[[3], [], []]\n"
     ]
    }
   ],
   "source": [
    "my_list2[0].append(3)\n",
    "print(f\"{my_list2 =}\")"
   ]
  },
  {
   "cell_type": "code",
   "execution_count": 45,
   "metadata": {},
   "outputs": [
    {
     "name": "stdout",
     "output_type": "stream",
     "text": [
      "my_list2 =[[3], [], [4]]\n"
     ]
    }
   ],
   "source": [
    "my_list2[2].append(4)\n",
    "print(f\"{my_list2 =}\")"
   ]
  },
  {
   "cell_type": "code",
   "execution_count": null,
   "metadata": {},
   "outputs": [],
   "source": []
  }
 ],
 "metadata": {
  "kernelspec": {
   "display_name": "Python 3",
   "language": "python",
   "name": "python3"
  },
  "language_info": {
   "codemirror_mode": {
    "name": "ipython",
    "version": 3
   },
   "file_extension": ".py",
   "mimetype": "text/x-python",
   "name": "python",
   "nbconvert_exporter": "python",
   "pygments_lexer": "ipython3",
   "version": "3.10.4"
  },
  "orig_nbformat": 4
 },
 "nbformat": 4,
 "nbformat_minor": 2
}
