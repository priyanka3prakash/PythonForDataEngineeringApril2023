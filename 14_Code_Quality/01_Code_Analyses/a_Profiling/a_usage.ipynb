{
 "cells": [
  {
   "attachments": {},
   "cell_type": "markdown",
   "metadata": {},
   "source": [
    "## cProfile"
   ]
  },
  {
   "cell_type": "code",
   "execution_count": 1,
   "metadata": {},
   "outputs": [],
   "source": [
    "import cProfile"
   ]
  },
  {
   "cell_type": "code",
   "execution_count": 2,
   "metadata": {},
   "outputs": [
    {
     "data": {
      "text/plain": [
       "['Profile',\n",
       " '__all__',\n",
       " '__builtins__',\n",
       " '__cached__',\n",
       " '__doc__',\n",
       " '__file__',\n",
       " '__loader__',\n",
       " '__name__',\n",
       " '__package__',\n",
       " '__spec__',\n",
       " '_lsprof',\n",
       " '_pyprofile',\n",
       " 'label',\n",
       " 'main',\n",
       " 'run',\n",
       " 'runctx']"
      ]
     },
     "execution_count": 2,
     "metadata": {},
     "output_type": "execute_result"
    }
   ],
   "source": [
    "dir(cProfile)"
   ]
  },
  {
   "cell_type": "code",
   "execution_count": 3,
   "metadata": {},
   "outputs": [
    {
     "name": "stdout",
     "output_type": "stream",
     "text": [
      "         3 function calls in 0.000 seconds\n",
      "\n",
      "   Ordered by: standard name\n",
      "\n",
      "   ncalls  tottime  percall  cumtime  percall filename:lineno(function)\n",
      "        1    0.000    0.000    0.000    0.000 <string>:1(<module>)\n",
      "        1    0.000    0.000    0.000    0.000 {built-in method builtins.exec}\n",
      "        1    0.000    0.000    0.000    0.000 {method 'disable' of '_lsprof.Profiler' objects}\n",
      "\n",
      "\n"
     ]
    }
   ],
   "source": [
    "cProfile.run(\"20+10\")"
   ]
  },
  {
   "attachments": {},
   "cell_type": "markdown",
   "metadata": {},
   "source": [
    "*ncalls* : Shows the number of calls made\n",
    "\n",
    "*tottime*: Total time taken by the given function.\n",
    "    Note that the time made in calls to sub-functions are excluded.\n",
    "\n",
    "*percall*: Total time / No of calls. ( remainder is left out )\n",
    "\n",
    "*cumtime*: Unlike tottime, this includes time spent in this and all\n",
    "    subfunctions that the higher-level function calls.\n",
    "    It is most useful and is accurate for recursive functions.\n",
    "\n",
    "The percall following cumtime is calculated as the quotient of cumtime divided by primitive calls.\n",
    "The primitive calls include all the calls that were not included through recursion."
   ]
  },
  {
   "cell_type": "code",
   "execution_count": 4,
   "metadata": {},
   "outputs": [
    {
     "name": "stdout",
     "output_type": "stream",
     "text": [
      "         12 function calls in 0.000 seconds\n",
      "\n",
      "   Ordered by: standard name\n",
      "\n",
      "   ncalls  tottime  percall  cumtime  percall filename:lineno(function)\n",
      "        1    0.000    0.000    0.000    0.000 <string>:1(<module>)\n",
      "        1    0.000    0.000    0.000    0.000 {built-in method builtins.exec}\n",
      "        9    0.000    0.000    0.000    0.000 {method 'append' of 'list' objects}\n",
      "        1    0.000    0.000    0.000    0.000 {method 'disable' of '_lsprof.Profiler' objects}\n",
      "\n",
      "\n"
     ]
    }
   ],
   "source": [
    "cProfile.run(\n",
    "    \"\"\"\n",
    "result = []\n",
    "for i in range(9):\n",
    "    result.append(i)\n",
    "\"\"\"\n",
    ")"
   ]
  },
  {
   "cell_type": "code",
   "execution_count": 5,
   "metadata": {},
   "outputs": [
    {
     "name": "stdout",
     "output_type": "stream",
     "text": [
      "         4 function calls in 0.000 seconds\n",
      "\n",
      "   Ordered by: standard name\n",
      "\n",
      "   ncalls  tottime  percall  cumtime  percall filename:lineno(function)\n",
      "        1    0.000    0.000    0.000    0.000 <string>:1(<module>)\n",
      "        1    0.000    0.000    0.000    0.000 <string>:2(<listcomp>)\n",
      "        1    0.000    0.000    0.000    0.000 {built-in method builtins.exec}\n",
      "        1    0.000    0.000    0.000    0.000 {method 'disable' of '_lsprof.Profiler' objects}\n",
      "\n",
      "\n"
     ]
    }
   ],
   "source": [
    "cProfile.run(\n",
    "    \"\"\"\n",
    "result = [i for i in range(9)]\n",
    "\"\"\"\n",
    ")"
   ]
  },
  {
   "cell_type": "code",
   "execution_count": 6,
   "metadata": {},
   "outputs": [
    {
     "name": "stdout",
     "output_type": "stream",
     "text": [
      "         3 function calls in 0.000 seconds\n",
      "\n",
      "   Ordered by: standard name\n",
      "\n",
      "   ncalls  tottime  percall  cumtime  percall filename:lineno(function)\n",
      "        1    0.000    0.000    0.000    0.000 <string>:1(<module>)\n",
      "        1    0.000    0.000    0.000    0.000 {built-in method builtins.exec}\n",
      "        1    0.000    0.000    0.000    0.000 {method 'disable' of '_lsprof.Profiler' objects}\n",
      "\n",
      "\n"
     ]
    }
   ],
   "source": [
    "cProfile.run(\n",
    "    \"\"\"\n",
    "result = list(range(9))\n",
    "\"\"\",\n",
    "    filename=None,\n",
    "    sort=-1,\n",
    ")"
   ]
  },
  {
   "cell_type": "code",
   "execution_count": 7,
   "metadata": {},
   "outputs": [
    {
     "name": "stdout",
     "output_type": "stream",
     "text": [
      "Array created successfully\n",
      "         400031 function calls in 0.270 seconds\n",
      "\n",
      "   Ordered by: standard name\n",
      "\n",
      "   ncalls  tottime  percall  cumtime  percall filename:lineno(function)\n",
      "        1    0.005    0.005    0.270    0.270 3198415669.py:12(main)\n",
      "        1    0.175    0.175    0.264    0.264 3198415669.py:2(create_array)\n",
      "        1    0.000    0.000    0.000    0.000 3198415669.py:8(print_statement)\n",
      "        1    0.000    0.000    0.270    0.270 <string>:1(<module>)\n",
      "        1    0.000    0.000    0.000    0.000 iostream.py:202(schedule)\n",
      "        2    0.000    0.000    0.000    0.000 iostream.py:437(_is_master_process)\n",
      "        2    0.000    0.000    0.000    0.000 iostream.py:456(_schedule_flush)\n",
      "        2    0.000    0.000    0.000    0.000 iostream.py:526(write)\n",
      "        1    0.000    0.000    0.000    0.000 iostream.py:90(_event_pipe)\n",
      "        1    0.000    0.000    0.000    0.000 socket.py:545(send)\n",
      "        1    0.000    0.000    0.000    0.000 threading.py:1118(_wait_for_tstate_lock)\n",
      "        1    0.000    0.000    0.000    0.000 threading.py:1185(is_alive)\n",
      "        1    0.000    0.000    0.000    0.000 threading.py:568(is_set)\n",
      "        1    0.000    0.000    0.270    0.270 {built-in method builtins.exec}\n",
      "        2    0.000    0.000    0.000    0.000 {built-in method builtins.isinstance}\n",
      "        2    0.000    0.000    0.000    0.000 {built-in method builtins.len}\n",
      "        1    0.000    0.000    0.000    0.000 {built-in method builtins.print}\n",
      "        2    0.000    0.000    0.000    0.000 {built-in method nt.getpid}\n",
      "        2    0.000    0.000    0.000    0.000 {method '__exit__' of '_thread.RLock' objects}\n",
      "        1    0.000    0.000    0.000    0.000 {method 'acquire' of '_thread.lock' objects}\n",
      "        1    0.000    0.000    0.000    0.000 {method 'append' of 'collections.deque' objects}\n",
      "   400000    0.089    0.000    0.089    0.000 {method 'append' of 'list' objects}\n",
      "        1    0.000    0.000    0.000    0.000 {method 'disable' of '_lsprof.Profiler' objects}\n",
      "        2    0.000    0.000    0.000    0.000 {method 'write' of '_io.StringIO' objects}\n",
      "\n",
      "\n"
     ]
    }
   ],
   "source": [
    "# Code containing multiple functions\n",
    "def create_array():\n",
    "    arr = []\n",
    "    for i in range(0, 4_00_000):\n",
    "        arr.append(i)\n",
    "\n",
    "\n",
    "def print_statement():\n",
    "    print(\"Array created successfully\")\n",
    "\n",
    "\n",
    "def main():\n",
    "    create_array()\n",
    "    print_statement()\n",
    "\n",
    "\n",
    "cProfile.run(\"main()\")"
   ]
  },
  {
   "cell_type": "code",
   "execution_count": 8,
   "metadata": {},
   "outputs": [
    {
     "name": "stdout",
     "output_type": "stream",
     "text": [
      "Array created successfully\n",
      "         400031 function calls in 0.203 seconds\n",
      "\n",
      "   Ordered by: internal time\n",
      "\n",
      "   ncalls  tottime  percall  cumtime  percall filename:lineno(function)\n",
      "        1    0.129    0.129    0.198    0.198 3198415669.py:2(create_array)\n",
      "   400000    0.069    0.000    0.069    0.000 {method 'append' of 'list' objects}\n",
      "        1    0.004    0.004    0.203    0.203 3198415669.py:12(main)\n",
      "        1    0.000    0.000    0.000    0.000 socket.py:545(send)\n",
      "        1    0.000    0.000    0.203    0.203 {built-in method builtins.exec}\n",
      "        2    0.000    0.000    0.000    0.000 iostream.py:526(write)\n",
      "        1    0.000    0.000    0.000    0.000 iostream.py:202(schedule)\n",
      "        1    0.000    0.000    0.000    0.000 {built-in method builtins.print}\n",
      "        1    0.000    0.000    0.000    0.000 3198415669.py:8(print_statement)\n",
      "        1    0.000    0.000    0.000    0.000 threading.py:1185(is_alive)\n",
      "        2    0.000    0.000    0.000    0.000 iostream.py:456(_schedule_flush)\n",
      "        2    0.000    0.000    0.000    0.000 iostream.py:437(_is_master_process)\n",
      "        1    0.000    0.000    0.000    0.000 threading.py:1118(_wait_for_tstate_lock)\n",
      "        1    0.000    0.000    0.000    0.000 iostream.py:90(_event_pipe)\n",
      "        2    0.000    0.000    0.000    0.000 {built-in method nt.getpid}\n",
      "        1    0.000    0.000    0.203    0.203 <string>:1(<module>)\n",
      "        2    0.000    0.000    0.000    0.000 {method 'write' of '_io.StringIO' objects}\n",
      "        1    0.000    0.000    0.000    0.000 {method 'acquire' of '_thread.lock' objects}\n",
      "        1    0.000    0.000    0.000    0.000 {method 'disable' of '_lsprof.Profiler' objects}\n",
      "        2    0.000    0.000    0.000    0.000 {method '__exit__' of '_thread.RLock' objects}\n",
      "        2    0.000    0.000    0.000    0.000 {built-in method builtins.isinstance}\n",
      "        2    0.000    0.000    0.000    0.000 {built-in method builtins.len}\n",
      "        1    0.000    0.000    0.000    0.000 threading.py:568(is_set)\n",
      "        1    0.000    0.000    0.000    0.000 {method 'append' of 'collections.deque' objects}\n",
      "\n",
      "\n"
     ]
    }
   ],
   "source": [
    "cProfile.run(\"main()\", sort=True)  # Order is based on tottime, percall, ncalls"
   ]
  },
  {
   "cell_type": "code",
   "execution_count": 9,
   "metadata": {},
   "outputs": [
    {
     "name": "stdout",
     "output_type": "stream",
     "text": [
      "Array created successfully\n",
      "         400031 function calls in 0.200 seconds\n",
      "\n",
      "   Ordered by: call count\n",
      "\n",
      "   ncalls  tottime  percall  cumtime  percall filename:lineno(function)\n",
      "   400000    0.070    0.000    0.070    0.000 {method 'append' of 'list' objects}\n",
      "        2    0.000    0.000    0.000    0.000 iostream.py:456(_schedule_flush)\n",
      "        2    0.000    0.000    0.000    0.000 iostream.py:526(write)\n",
      "        2    0.000    0.000    0.000    0.000 iostream.py:437(_is_master_process)\n",
      "        2    0.000    0.000    0.000    0.000 {built-in method nt.getpid}\n",
      "        2    0.000    0.000    0.000    0.000 {method '__exit__' of '_thread.RLock' objects}\n",
      "        2    0.000    0.000    0.000    0.000 {method 'write' of '_io.StringIO' objects}\n",
      "        2    0.000    0.000    0.000    0.000 {built-in method builtins.isinstance}\n",
      "        2    0.000    0.000    0.000    0.000 {built-in method builtins.len}\n",
      "        1    0.000    0.000    0.000    0.000 threading.py:1118(_wait_for_tstate_lock)\n",
      "        1    0.000    0.000    0.000    0.000 threading.py:568(is_set)\n",
      "        1    0.000    0.000    0.000    0.000 threading.py:1185(is_alive)\n",
      "        1    0.000    0.000    0.000    0.000 socket.py:545(send)\n",
      "        1    0.000    0.000    0.000    0.000 iostream.py:90(_event_pipe)\n",
      "        1    0.000    0.000    0.000    0.000 iostream.py:202(schedule)\n",
      "        1    0.005    0.005    0.200    0.200 3198415669.py:12(main)\n",
      "        1    0.000    0.000    0.000    0.000 3198415669.py:8(print_statement)\n",
      "        1    0.000    0.000    0.200    0.200 <string>:1(<module>)\n",
      "        1    0.125    0.125    0.195    0.195 3198415669.py:2(create_array)\n",
      "        1    0.000    0.000    0.000    0.000 {method 'append' of 'collections.deque' objects}\n",
      "        1    0.000    0.000    0.000    0.000 {method 'acquire' of '_thread.lock' objects}\n",
      "        1    0.000    0.000    0.200    0.200 {built-in method builtins.exec}\n",
      "        1    0.000    0.000    0.000    0.000 {built-in method builtins.print}\n",
      "        1    0.000    0.000    0.000    0.000 {method 'disable' of '_lsprof.Profiler' objects}\n",
      "\n",
      "\n"
     ]
    }
   ],
   "source": [
    "cProfile.run(\"main()\", sort=\"ncalls\")  # Order is ncalls"
   ]
  },
  {
   "cell_type": "code",
   "execution_count": 10,
   "metadata": {},
   "outputs": [
    {
     "name": "stdout",
     "output_type": "stream",
     "text": [
      "Array created successfully\n"
     ]
    }
   ],
   "source": [
    "cProfile.run(\"main()\", sort=\"ncalls\", filename=\"profile.txt\")  # Order is ncalls"
   ]
  },
  {
   "cell_type": "code",
   "execution_count": 11,
   "metadata": {},
   "outputs": [
    {
     "name": "stdout",
     "output_type": "stream",
     "text": [
      "�)\u0003�qC:\\Program Files\\WindowsApps\\PythonSoftwareFoundation.Python.3.11_3.11.1008.0_x64__qbz5n2kfra8p0\\Lib\\threading.pyi^\u0004\u0000\u0000�\u0015_wait_for_tstate_lock)\u0005�\u0001\u0000\u0000\u0000r\u0003\u0000\u0000\u0000g���\u00053\u0001�>gw�\n",
      "��!�>{�\u0003r\u0001\u0000\u0000\u0000i�\u0004\u0000\u0000is_alive)\u0004r\u0003\u0000\u0000\u0000r\u0003\u0000\u0000\u0000g���\u00053\u0001�>gw�\n",
      "��!�>0)\u0003r\u0001\u0000\u0000\u0000i8\u0002\u0000\u0000�\u0006is_set)\u0005r\u0003\u0000\u0000\u0000r\u0003\u0000\u0000\u0000g2E\u0014��2�>g2E\u0014��2�>{r\u0004\u0000\u0000\u0000)\u0004r\u0003\u0000\u0000\u0000r\u0003\u0000\u0000\u0000g2E\u0014��2�>g2E\u0014��2�>0)\u0003r\u0001\u0000\u0000\u0000i�\u0004\u0000\u0000r\u0005\u0000\u0000\u0000)\u0005r\u0003\u0000\u0000\u0000r\u0003\u0000\u0000\u0000gkN�\u001du��>gD�ė���>{�\u0003��C:\\Users\\Amma\\AppData\\Local\\Packages\\PythonSoftwareFoundation.Python.3.11_qbz5n2kfra8p0\\LocalCache\\local-packages\\Python311\\site-packages\\ipykernel\\iostream.py��\u0000\u0000\u0000schedule)\u0004r\u0003\u0000\u0000\u0000r\u0003\u0000\u0000\u0000gkN�\u001du��>gD�ė���>0)\u0003��C:\\Users\\Amma\\AppData\\Local\\Packages\\PythonSoftwareFoundation.Python.3.11_qbz5n2kfra8p0\\LocalCache\\local-packages\\Python311\\site-packages\\zmq\\sugar\\socket.pyi!\u0002\u0000\u0000�\u0004send)\u0005r\u0003\u0000\u0000\u0000r\u0003\u0000\u0000\u0000g�u�=R�\u0013?g�u�=R�\u0013?{r\u0007\u0000\u0000\u0000)\u0004r\u0003\u0000\u0000\u0000r\u0003\u0000\u0000\u0000g�u�=R�\u0013?g�u�=R�\u0013?0)\u0003\u0000\u0000\u0000�Z\u0000\u0000\u0000�\u000b_event_pipe)\u0005r\u0003\u0000\u0000\u0000r\u0003\u0000\u0000\u0000gw�\n",
      "��!�>gw�\n",
      "��!�>{r\u0007\u0000\u0000\u0000)\u0004r\u0003\u0000\u0000\u0000r\u0003\u0000\u0000\u0000gw�\n",
      "��!�>gw�\n",
      "��!�>0)\u0003\u0000\u0000\u0000r\t\u0000\u0000\u0000r\n",
      "\u0000\u0000\u0000)\u0005r\u0003\u0000\u0000\u0000r\u0003\u0000\u0000\u0000g���΋n�>��fYA\u001d?{)\u0003\u0000\u0000\u0000i�\u0001\u0000\u0000�\u000f_schedule_flush)\u0004r\u0003\u0000\u0000\u0000r\u0003\u0000\u0000\u0000g���΋n�>��fYA\u001d?0)\u0003\u0000\u0000\u0000i�\u0001\u0000\u0000r\u000f\u0000\u0000\u0000)\u0005�\u0002\u0000\u0000\u0000r\u0010\u0000\u0000\u0000g`\u0019eG�|�>g��\u0019�(�\u001e?{�\u0003\u0000\u0000\u0000i\u000e\u0002\u0000\u0000�\u0005write)\u0004r\u0010\u0000\u0000\u0000r\u0010\u0000\u0000\u0000g`\u0019eG�|�>g��\u0019�(�\u001e?0)\u0003\u0000\u0000\u0000i\u000e\u0002\u0000\u0000r\u0012\u0000\u0000\u0000)\u0005r\u0010\u0000\u0000\u0000r\u0010\u0000\u0000\u0000g$\u000fD\u0016i��>g�2\u0013�-�$?{)\u0003�\u0001~�\u0000\u0000\u0000\u0000� <built-in method builtins.print>)\u0004r\u0010\u0000\u0000\u0000r\u0010\u0000\u0000\u0000g$\u000fD\u0016i��>g�2\u0013�-�$?0)\u0003\u0000\u0000\u0000i�\u0001\u0000\u0000�\u0012_is_master_process)\u0005r\u0010\u0000\u0000\u0000r\u0010\u0000\u0000\u0000g�&�|�\u0011�>g2E\u0014��2�>{r\u0011\u0000\u0000\u0000)\u0004r\u0010\u0000\u0000\u0000r\u0010\u0000\u0000\u0000g�&�|�\u0011�>g2E\u0014��2�>0)\u0003�=C:\\Users\\Amma\\AppData\\Local\\Temp\\ipykernel_2784\\3198415669.py�\f\u0000\u0000\u0000�\u0004main)\u0005r\u0003\u0000\u0000\u0000r\u0003\u0000\u0000\u0000gY̾���p?g:�ښ���?{)\u0003<string>r\u0003\u0000\u0000\u0000<module>)\u0004r\u0003\u0000\u0000\u0000r\u0003\u0000\u0000\u0000gY̾���p?g:�ښ���?0)\u0003r\u0017\u0000\u0000\u0000\u0000\u0000\u0000�\u000fprint_statement)\u0005r\u0003\u0000\u0000\u0000r\u0003\u0000\u0000\u0000g�YVP\u0007h�>gD�ė��&?{�\u0003r\u0017\u0000\u0000\u0000r\u0018\u0000\u0000\u0000r\u0019\u0000\u0000\u0000)\u0004r\u0003\u0000\u0000\u0000r\u0003\u0000\u0000\u0000g�YVP\u0007h�>gD�ė��&?0)\u0003r\u001a\u0000\u0000\u0000r\u0003\u0000\u0000\u0000r\u001b\u0000\u0000\u0000)\u0005r\u0003\u0000\u0000\u0000r\u0003\u0000\u0000\u0000gI����׺>g�/�\u0006���?{)\u0003r\u0013\u0000\u0000\u0000r\u0014\u0000\u0000\u0000�\u001f<built-in method builtins.exec>)\u0004r\u0003\u0000\u0000\u0000r\u0003\u0000\u0000\u0000gI����׺>g�/�\u0006���?0)\u0003r\u0017\u0000\u0000\u0000r\u0010\u0000\u0000\u0000�\fcreate_array)\u0005r\u0003\u0000\u0000\u0000r\u0003\u0000\u0000\u0000gY����#�?g�����[�?{r\u001e\u0000\u0000\u0000)\u0004r\u0003\u0000\u0000\u0000r\u0003\u0000\u0000\u0000gY����#�?g�����[�?0)\u0003r\u0013\u0000\u0000\u0000r\u0014\u0000\u0000\u0000�0<method 'append' of 'collections.deque' objects>)\u0005r\u0003\u0000\u0000\u0000r\u0003\u0000\u0000\u0000gI����ך>gI����ך>{r\u0007\u0000\u0000\u0000)\u0004r\u0003\u0000\u0000\u0000r\u0003\u0000\u0000\u0000gI����ך>gI����ך>0)\u0003r\u0013\u0000\u0000\u0000r\u0014\u0000\u0000\u0000�\u001b<built-in method nt.getpid>)\u0005r\u0010\u0000\u0000\u0000r\u0010\u0000\u0000\u0000g=zh�q��>g=zh�q��>{)\u0003\u0000\u0000\u0000i�\u0001\u0000\u0000r\u0016\u0000\u0000\u0000)\u0004r\u0010\u0000\u0000\u0000r\u0010\u0000\u0000\u0000g=zh�q��>g=zh�q��>0)\u0003r\u0013\u0000\u0000\u0000r\u0014\u0000\u0000\u0000�,<method 'acquire' of '_thread.lock' objects>)\u0005r\u0003\u0000\u0000\u0000r\u0003\u0000\u0000\u0000g=zh�q��>g=zh�q��>{)\u0003r\u0001\u0000\u0000\u0000i^\u0004\u0000\u0000r\u0002\u0000\u0000\u0000)\u0004r\u0003\u0000\u0000\u0000r\u0003\u0000\u0000\u0000g=zh�q��>g=zh�q��>0)\u0003r\u0013\u0000\u0000\u0000r\u0014\u0000\u0000\u0000�.<method '__exit__' of '_thread.RLock' objects>)\u0005r\u0010\u0000\u0000\u0000r\u0010\u0000\u0000\u0000g�����ư>g�����ư>{r\u0011\u0000\u0000\u0000)\u0004r\u0010\u0000\u0000\u0000r\u0010\u0000\u0000\u0000g�����ư>g�����ư>0)\u0003r\u0013\u0000\u0000\u0000r\u0014\u0000\u0000\u0000�*<method 'write' of '_io.StringIO' objects>)\u0005r\u0010\u0000\u0000\u0000r\u0010\u0000\u0000\u0000g=zh�q��>g=zh�q��>{r\u0011\u0000\u0000\u0000)\u0004r\u0010\u0000\u0000\u0000r\u0010\u0000\u0000\u0000g=zh�q��>g=zh�q��>0)\u0003r\u0013\u0000\u0000\u0000r\u0014\u0000\u0000\u0000�#<method 'append' of 'list' objects>)\u0005i�\u001a\u0006\u0000i�\u001a\u0006\u0000g��\u0002�2p�?g��\u0002�2p�?{)\u0003r\u0017\u0000\u0000\u0000r\u0010\u0000\u0000\u0000r \u0000\u0000\u0000)\u0004i�\u001a\u0006\u0000i�\u001a\u0006\u0000g��\u0002�2p�?g��\u0002�2p�?0)\u0003r\u0013\u0000\u0000\u0000r\u0014\u0000\u0000\u0000r\u001f\u0000\u0000\u0000)\u0005r\u0003\u0000\u0000\u0000r\u0003\u0000\u0000\u0000g?�̔��\u0002?gc|=\u0004���?{0)\u0003r\u0013\u0000\u0000\u0000r\u0014\u0000\u0000\u0000�%<built-in method builtins.isinstance>)\u0005r\u0010\u0000\u0000\u0000r\u0010\u0000\u0000\u0000g�����ư>g�����ư>{r\u0011\u0000\u0000\u0000)\u0004r\u0010\u0000\u0000\u0000r\u0010\u0000\u0000\u0000g�����ư>g�����ư>0)\u0003r\u0013\u0000\u0000\u0000r\u0014\u0000\u0000\u0000�\u001e<built-in method builtins.len>)\u0005r\u0010\u0000\u0000\u0000r\u0010\u0000\u0000\u0000g�����ư>g�����ư>{r\u0011\u0000\u0000\u0000)\u0004r\u0010\u0000\u0000\u0000r\u0010\u0000\u0000\u0000g�����ư>g�����ư>0)\u0003r\u0013\u0000\u0000\u0000r\u0014\u0000\u0000\u0000r\u0015\u0000\u0000\u0000)\u0005r\u0003\u0000\u0000\u0000r\u0003\u0000\u0000\u0000gfL�\u001ag��>g�G�\"d�%?{)\u0003r\u0017\u0000\u0000\u0000r\u001c\u0000\u0000\u0000r\u001d\u0000\u0000\u0000)\u0004r\u0003\u0000\u0000\u0000r\u0003\u0000\u0000\u0000gfL�\u001ag��>g�G�\"d�%?0)\u0003r\u0013\u0000\u0000\u0000r\u0014\u0000\u0000\u0000�0<method 'disable' of '_lsprof.Profiler' objects>)\u0005r\u0003\u0000\u0000\u0000r\u0003\u0000\u0000\u0000g�����ư>g�����ư>{00\n"
     ]
    }
   ],
   "source": [
    "!cat profile.txt"
   ]
  },
  {
   "cell_type": "markdown",
   "metadata": {},
   "source": [
    "### Profiling multiple functions or methods together"
   ]
  },
  {
   "cell_type": "code",
   "execution_count": 12,
   "metadata": {},
   "outputs": [],
   "source": [
    "def using_range(nums):\n",
    "    successive_diffs = []\n",
    "    for i in range(len(nums)):\n",
    "        if i == 0:\n",
    "            continue\n",
    "        successive_diffs.append(nums[i - 1] - nums[i])\n",
    "    return successive_diffs\n",
    "\n",
    "\n",
    "def using_enumerate(nums):\n",
    "    successive_diffs = []\n",
    "    for i, num in enumerate(nums):\n",
    "        if i == 0:\n",
    "            continue\n",
    "        successive_diffs.append(nums[i - 1] - nums[i])\n",
    "    return successive_diffs"
   ]
  },
  {
   "cell_type": "code",
   "execution_count": 13,
   "metadata": {},
   "outputs": [
    {
     "name": "stdout",
     "output_type": "stream",
     "text": [
      "         10004 function calls in 0.013 seconds\n",
      "\n",
      "   Ordered by: standard name\n",
      "\n",
      "   ncalls  tottime  percall  cumtime  percall filename:lineno(function)\n",
      "        1    0.011    0.011    0.013    0.013 3792339585.py:1(using_range)\n",
      "        1    0.000    0.000    0.013    0.013 <string>:1(<module>)\n",
      "        1    0.000    0.000    0.013    0.013 {built-in method builtins.exec}\n",
      "        1    0.000    0.000    0.000    0.000 {built-in method builtins.len}\n",
      "     9999    0.002    0.000    0.002    0.000 {method 'append' of 'list' objects}\n",
      "        1    0.000    0.000    0.000    0.000 {method 'disable' of '_lsprof.Profiler' objects}\n",
      "\n",
      "\n"
     ]
    }
   ],
   "source": [
    "cProfile.run(\"using_range(range(10000))\")"
   ]
  },
  {
   "cell_type": "code",
   "execution_count": 14,
   "metadata": {},
   "outputs": [
    {
     "name": "stdout",
     "output_type": "stream",
     "text": [
      "         10003 function calls in 0.012 seconds\n",
      "\n",
      "   Ordered by: standard name\n",
      "\n",
      "   ncalls  tottime  percall  cumtime  percall filename:lineno(function)\n",
      "        1    0.010    0.010    0.012    0.012 3792339585.py:10(using_enumerate)\n",
      "        1    0.000    0.000    0.012    0.012 <string>:1(<module>)\n",
      "        1    0.000    0.000    0.012    0.012 {built-in method builtins.exec}\n",
      "     9999    0.002    0.000    0.002    0.000 {method 'append' of 'list' objects}\n",
      "        1    0.000    0.000    0.000    0.000 {method 'disable' of '_lsprof.Profiler' objects}\n",
      "\n",
      "\n"
     ]
    }
   ],
   "source": [
    "cProfile.run(\"using_enumerate(range(10000))\")"
   ]
  },
  {
   "cell_type": "code",
   "execution_count": 15,
   "metadata": {},
   "outputs": [
    {
     "name": "stdout",
     "output_type": "stream",
     "text": [
      "         20004 function calls in 0.024 seconds\n",
      "\n",
      "   Ordered by: standard name\n",
      "\n",
      "   ncalls  tottime  percall  cumtime  percall filename:lineno(function)\n",
      "        1    0.008    0.008    0.010    0.010 3792339585.py:1(using_range)\n",
      "        1    0.011    0.011    0.014    0.014 3792339585.py:10(using_enumerate)\n",
      "        1    0.000    0.000    0.024    0.024 <string>:1(<module>)\n",
      "        1    0.000    0.000    0.024    0.024 {built-in method builtins.exec}\n",
      "        1    0.000    0.000    0.000    0.000 {built-in method builtins.len}\n",
      "    19998    0.004    0.000    0.004    0.000 {method 'append' of 'list' objects}\n",
      "        1    0.000    0.000    0.000    0.000 {method 'disable' of '_lsprof.Profiler' objects}\n",
      "\n",
      "\n"
     ]
    }
   ],
   "source": [
    "cProfile.run(\"using_range(range(10000));using_enumerate(range(10000))\")"
   ]
  },
  {
   "attachments": {},
   "cell_type": "markdown",
   "metadata": {},
   "source": [
    "### Comparing two functions"
   ]
  },
  {
   "cell_type": "code",
   "execution_count": 16,
   "metadata": {},
   "outputs": [
    {
     "name": "stdout",
     "output_type": "stream",
     "text": [
      "         10004 function calls in 0.011 seconds\n",
      "\n",
      "   Ordered by: internal time\n",
      "\n",
      "   ncalls  tottime  percall  cumtime  percall filename:lineno(function)\n",
      "        1    0.009    0.009    0.011    0.011 3792339585.py:1(using_range)\n",
      "     9999    0.002    0.000    0.002    0.000 {method 'append' of 'list' objects}\n",
      "        1    0.000    0.000    0.011    0.011 {built-in method builtins.exec}\n",
      "        1    0.000    0.000    0.011    0.011 <string>:1(<module>)\n",
      "        1    0.000    0.000    0.000    0.000 {method 'disable' of '_lsprof.Profiler' objects}\n",
      "        1    0.000    0.000    0.000    0.000 {built-in method builtins.len}\n",
      "\n",
      "\n",
      "         10003 function calls in 0.017 seconds\n",
      "\n",
      "   Ordered by: internal time\n",
      "\n",
      "   ncalls  tottime  percall  cumtime  percall filename:lineno(function)\n",
      "        1    0.014    0.014    0.017    0.017 3792339585.py:10(using_enumerate)\n",
      "     9999    0.003    0.000    0.003    0.000 {method 'append' of 'list' objects}\n",
      "        1    0.000    0.000    0.017    0.017 {built-in method builtins.exec}\n",
      "        1    0.000    0.000    0.017    0.017 <string>:1(<module>)\n",
      "        1    0.000    0.000    0.000    0.000 {method 'disable' of '_lsprof.Profiler' objects}\n",
      "\n",
      "\n"
     ]
    }
   ],
   "source": [
    "cProfile.runctx(\n",
    "    \"using_range(range(10000))\", globals(), locals(), sort=\"time\"\n",
    ")  # filename='profile1.txt')\n",
    "cProfile.runctx(\n",
    "    \"using_enumerate(range(10000))\", globals(), locals(), sort=\"time\"\n",
    ")  # filename='profile2.txt')"
   ]
  },
  {
   "cell_type": "markdown",
   "metadata": {},
   "source": [
    "## Profiling with line-by-line analysis"
   ]
  },
  {
   "cell_type": "code",
   "execution_count": 17,
   "metadata": {},
   "outputs": [
    {
     "name": "stdout",
     "output_type": "stream",
     "text": [
      "Array created successfully\n",
      "         400029 function calls in 0.267 seconds\n",
      "\n",
      "   Ordered by: call count\n",
      "\n",
      "   ncalls  tottime  percall  cumtime  percall filename:lineno(function)\n",
      "   400000    0.096    0.000    0.096    0.000 {method 'append' of 'list' objects}\n",
      "        2    0.000    0.000    0.000    0.000 C:\\Users\\Amma\\AppData\\Local\\Packages\\PythonSoftwareFoundation.Python.3.11_qbz5n2kfra8p0\\LocalCache\\local-packages\\Python311\\site-packages\\ipykernel\\iostream.py:456(_schedule_flush)\n",
      "        2    0.000    0.000    0.000    0.000 C:\\Users\\Amma\\AppData\\Local\\Packages\\PythonSoftwareFoundation.Python.3.11_qbz5n2kfra8p0\\LocalCache\\local-packages\\Python311\\site-packages\\ipykernel\\iostream.py:526(write)\n",
      "        2    0.000    0.000    0.000    0.000 C:\\Users\\Amma\\AppData\\Local\\Packages\\PythonSoftwareFoundation.Python.3.11_qbz5n2kfra8p0\\LocalCache\\local-packages\\Python311\\site-packages\\ipykernel\\iostream.py:437(_is_master_process)\n",
      "        2    0.000    0.000    0.000    0.000 {built-in method nt.getpid}\n",
      "        2    0.000    0.000    0.000    0.000 {method '__exit__' of '_thread.RLock' objects}\n",
      "        2    0.000    0.000    0.000    0.000 {method 'write' of '_io.StringIO' objects}\n",
      "        2    0.000    0.000    0.000    0.000 {built-in method builtins.isinstance}\n",
      "        2    0.000    0.000    0.000    0.000 {built-in method builtins.len}\n",
      "        1    0.000    0.000    0.000    0.000 C:\\Program Files\\WindowsApps\\PythonSoftwareFoundation.Python.3.11_3.11.1008.0_x64__qbz5n2kfra8p0\\Lib\\threading.py:1118(_wait_for_tstate_lock)\n",
      "        1    0.000    0.000    0.000    0.000 C:\\Program Files\\WindowsApps\\PythonSoftwareFoundation.Python.3.11_3.11.1008.0_x64__qbz5n2kfra8p0\\Lib\\threading.py:568(is_set)\n",
      "        1    0.000    0.000    0.000    0.000 C:\\Program Files\\WindowsApps\\PythonSoftwareFoundation.Python.3.11_3.11.1008.0_x64__qbz5n2kfra8p0\\Lib\\threading.py:1185(is_alive)\n",
      "        1    0.000    0.000    0.000    0.000 C:\\Users\\Amma\\AppData\\Local\\Packages\\PythonSoftwareFoundation.Python.3.11_qbz5n2kfra8p0\\LocalCache\\local-packages\\Python311\\site-packages\\zmq\\sugar\\socket.py:545(send)\n",
      "        1    0.000    0.000    0.000    0.000 C:\\Users\\Amma\\AppData\\Local\\Packages\\PythonSoftwareFoundation.Python.3.11_qbz5n2kfra8p0\\LocalCache\\local-packages\\Python311\\site-packages\\ipykernel\\iostream.py:90(_event_pipe)\n",
      "        1    0.000    0.000    0.000    0.000 C:\\Users\\Amma\\AppData\\Local\\Packages\\PythonSoftwareFoundation.Python.3.11_qbz5n2kfra8p0\\LocalCache\\local-packages\\Python311\\site-packages\\ipykernel\\iostream.py:202(schedule)\n",
      "        1    0.004    0.004    0.267    0.267 C:\\Users\\Amma\\AppData\\Local\\Temp\\ipykernel_2784\\3255652806.py:11(main)\n",
      "        1    0.000    0.000    0.000    0.000 C:\\Users\\Amma\\AppData\\Local\\Temp\\ipykernel_2784\\3255652806.py:7(print_statement)\n",
      "        1    0.167    0.167    0.262    0.262 C:\\Users\\Amma\\AppData\\Local\\Temp\\ipykernel_2784\\3255652806.py:1(create_array)\n",
      "        1    0.000    0.000    0.000    0.000 {method 'append' of 'collections.deque' objects}\n",
      "        1    0.000    0.000    0.000    0.000 {method 'acquire' of '_thread.lock' objects}\n",
      "        1    0.000    0.000    0.000    0.000 {built-in method builtins.print}\n",
      "        1    0.000    0.000    0.000    0.000 {method 'disable' of '_lsprof.Profiler' objects}\n",
      "\n",
      "\n"
     ]
    }
   ],
   "source": [
    "def create_array():\n",
    "    arr = []\n",
    "    for i in range(0, 400000):\n",
    "        arr.append(i)\n",
    "\n",
    "\n",
    "def print_statement():\n",
    "    print(\"Array created successfully\")\n",
    "\n",
    "\n",
    "def main():\n",
    "    create_array()\n",
    "    print_statement()\n",
    "\n",
    "\n",
    "if __name__ == \"__main__\":\n",
    "    import cProfile\n",
    "    import pstats\n",
    "\n",
    "    profiler = cProfile.Profile()\n",
    "\n",
    "    profiler.enable()\n",
    "    main()\n",
    "    profiler.disable()\n",
    "\n",
    "    stats = pstats.Stats(profiler).sort_stats(\"ncalls\")\n",
    "    stats.print_stats()"
   ]
  },
  {
   "cell_type": "code",
   "execution_count": 18,
   "metadata": {},
   "outputs": [],
   "source": [
    "# Export profiler output to file\n",
    "stats = pstats.Stats(profiler)\n",
    "stats.dump_stats(\"export-data.txt\")"
   ]
  },
  {
   "cell_type": "markdown",
   "metadata": {},
   "source": [
    "## Profiling memory usage"
   ]
  },
  {
   "cell_type": "code",
   "execution_count": 19,
   "metadata": {},
   "outputs": [
    {
     "name": "stdout",
     "output_type": "stream",
     "text": [
      "Requirement already satisfied: memory_profiler in c:\\users\\amma\\appdata\\local\\packages\\pythonsoftwarefoundation.python.3.11_qbz5n2kfra8p0\\localcache\\local-packages\\python311\\site-packages (0.61.0)\n",
      "Requirement already satisfied: psutil in c:\\users\\amma\\appdata\\local\\packages\\pythonsoftwarefoundation.python.3.11_qbz5n2kfra8p0\\localcache\\local-packages\\python311\\site-packages (5.9.0)\n"
     ]
    },
    {
     "name": "stderr",
     "output_type": "stream",
     "text": [
      "\n",
      "[notice] A new release of pip is available: 23.0.1 -> 23.1.2\n",
      "[notice] To update, run: C:\\Users\\Amma\\AppData\\Local\\Microsoft\\WindowsApps\\PythonSoftwareFoundation.Python.3.11_qbz5n2kfra8p0\\python.exe -m pip install --upgrade pip\n"
     ]
    }
   ],
   "source": [
    "! pip install memory_profiler psutil --user"
   ]
  },
  {
   "cell_type": "code",
   "execution_count": 20,
   "metadata": {},
   "outputs": [
    {
     "name": "stdout",
     "output_type": "stream",
     "text": [
      "         5004 function calls in 0.006 seconds\n",
      "\n",
      "   Ordered by: internal time\n",
      "\n",
      "   ncalls  tottime  percall  cumtime  percall filename:lineno(function)\n",
      "        1    0.004    0.004    0.006    0.006 2509411532.py:3(generate_odd_nums)\n",
      "     5000    0.001    0.000    0.001    0.000 {method 'append' of 'list' objects}\n",
      "        1    0.000    0.000    0.006    0.006 {built-in method builtins.exec}\n",
      "        1    0.000    0.000    0.006    0.006 <string>:1(<module>)\n",
      "        1    0.000    0.000    0.000    0.000 {method 'disable' of '_lsprof.Profiler' objects}\n",
      "\n",
      "\n"
     ]
    }
   ],
   "source": [
    "from memory_profiler import memory_usage\n",
    "\n",
    "\n",
    "def generate_odd_nums(n):\n",
    "    result = []\n",
    "    for i in range(n):\n",
    "        if i % 2:\n",
    "            result.append(i)\n",
    "    return result\n",
    "\n",
    "\n",
    "cProfile.runctx(\"generate_odd_nums(10_000)\", globals(), locals(), sort=\"time\")"
   ]
  },
  {
   "cell_type": "code",
   "execution_count": 22,
   "metadata": {},
   "outputs": [],
   "source": [
    "memory_profiler = memory_usage((generate_odd_nums, (100,), {}))\n",
    "print(\"Memory usage:\", memory_profiler[0])"
   ]
  },
  {
   "cell_type": "code",
   "execution_count": null,
   "metadata": {},
   "outputs": [],
   "source": []
  }
 ],
 "metadata": {
  "kernelspec": {
   "display_name": "pythonmaterial-4Fyt9FjG-py3.11",
   "language": "python",
   "name": "python3"
  },
  "language_info": {
   "codemirror_mode": {
    "name": "ipython",
    "version": 3
   },
   "file_extension": ".py",
   "mimetype": "text/x-python",
   "name": "python",
   "nbconvert_exporter": "python",
   "pygments_lexer": "ipython3",
   "version": "3.11.3"
  },
  "orig_nbformat": 4
 },
 "nbformat": 4,
 "nbformat_minor": 2
}
