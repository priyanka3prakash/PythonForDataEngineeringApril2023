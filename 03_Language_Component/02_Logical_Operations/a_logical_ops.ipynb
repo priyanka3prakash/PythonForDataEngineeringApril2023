{
 "cells": [
  {
   "cell_type": "markdown",
   "metadata": {},
   "source": [
    "## Logical Operations\n",
    "    - Will result in a boolean value (True or False)\n",
    "\n",
    "    and - if  all are True, result is True\n",
    "    or  - if any one of them is True, result is True\n",
    "    not - negate the existing value"
   ]
  },
  {
   "cell_type": "code",
   "execution_count": 1,
   "metadata": {},
   "outputs": [
    {
     "name": "stdout",
     "output_type": "stream",
     "text": [
      "\n",
      " and operation \n",
      "True and True   True\n",
      "True and False  False\n",
      "False and True   False\n",
      "False and False  False\n"
     ]
    }
   ],
   "source": [
    "# and - If all are True, result is True; else False\n",
    "print(\"\\n and operation \")\n",
    "print(\"True and True  \", True and True)  # True\n",
    "print(\"True and False \", True and False)\n",
    "print(\"False and True  \", False and True)\n",
    "print(\"False and False \", False and False)"
   ]
  },
  {
   "cell_type": "code",
   "execution_count": 2,
   "metadata": {},
   "outputs": [
    {
     "name": "stdout",
     "output_type": "stream",
     "text": [
      "\n",
      " or operation \n",
      "True or True   True\n",
      "True or False  True\n",
      "False or True   True\n",
      "False or False  False\n"
     ]
    }
   ],
   "source": [
    "# or - If all are False, result is False; else True\n",
    "print(\"\\n or operation \")\n",
    "print(\"True or True  \", True or True)\n",
    "print(\"True or False \", True or False)\n",
    "print(\"False or True  \", False or True)\n",
    "print(\"False or False \", False or False)  # False"
   ]
  },
  {
   "cell_type": "code",
   "execution_count": 3,
   "metadata": {},
   "outputs": [
    {
     "name": "stdout",
     "output_type": "stream",
     "text": [
      "\n",
      " not operation \n",
      "not True  False\n",
      "not False True\n",
      "not not True =  True\n",
      "not not False =  False\n"
     ]
    }
   ],
   "source": [
    "# not - Will negate the existing boolean result\n",
    "print(\"\\n not operation \")\n",
    "print(\"not True \", not True)\n",
    "print(\"not False\", not False)\n",
    "print(\"not not True = \", not not True)\n",
    "print(\"not not False = \", not not False)"
   ]
  },
  {
   "cell_type": "code",
   "execution_count": 4,
   "metadata": {},
   "outputs": [
    {
     "data": {
      "text/plain": [
       "True"
      ]
     },
     "execution_count": 4,
     "metadata": {},
     "output_type": "execute_result"
    }
   ],
   "source": [
    "not not not not not not not False"
   ]
  },
  {
   "cell_type": "code",
   "execution_count": 5,
   "metadata": {},
   "outputs": [
    {
     "data": {
      "text/plain": [
       "True"
      ]
     },
     "execution_count": 5,
     "metadata": {},
     "output_type": "execute_result"
    }
   ],
   "source": [
    "not not not not not not not not not not not not True"
   ]
  },
  {
   "cell_type": "code",
   "execution_count": 6,
   "metadata": {},
   "outputs": [
    {
     "name": "stdout",
     "output_type": "stream",
     "text": [
      "True\n"
     ]
    }
   ],
   "source": [
    "expr2 = (45 <= 45) or (3 > 333)\n",
    "# first relational ops and then logical ops\n",
    "#        True      or   False   = True\n",
    "\n",
    "print(expr2)\n"
   ]
  },
  {
   "cell_type": "code",
   "execution_count": 7,
   "metadata": {},
   "outputs": [
    {
     "data": {
      "text/plain": [
       "True"
      ]
     },
     "execution_count": 7,
     "metadata": {},
     "output_type": "execute_result"
    }
   ],
   "source": [
    "expr3 = (45 <= 45) or (3 > 333) and (9 == 9)\n",
    "#          True    or    False  and   True\n",
    "#          True    or           False       = True\n",
    "\n",
    "expr3"
   ]
  },
  {
   "cell_type": "code",
   "execution_count": 8,
   "metadata": {},
   "outputs": [
    {
     "data": {
      "text/plain": [
       "True"
      ]
     },
     "execution_count": 8,
     "metadata": {},
     "output_type": "execute_result"
    }
   ],
   "source": [
    "expr4 = ((45 <= 45) or (3 > 333)) and (9 == 9)\n",
    "#       (    True    or    False) and  True    # PEMDAS\n",
    "#                   True          and  True  = True\n",
    "\n",
    "expr4"
   ]
  },
  {
   "cell_type": "code",
   "execution_count": 9,
   "metadata": {},
   "outputs": [
    {
     "data": {
      "text/plain": [
       "True"
      ]
     },
     "execution_count": 9,
     "metadata": {},
     "output_type": "execute_result"
    }
   ],
   "source": [
    "expr5 = (45 <= 45) or (3 > 333) or (9 == 9)\n",
    "#          True    or   False   or   True   # EXecution Order: Top to botom & Left to right\n",
    "#                  True         or   True  = True\n",
    "\n",
    "expr5\n"
   ]
  },
  {
   "cell_type": "code",
   "execution_count": 10,
   "metadata": {},
   "outputs": [
    {
     "data": {
      "text/plain": [
       "False"
      ]
     },
     "execution_count": 10,
     "metadata": {},
     "output_type": "execute_result"
    }
   ],
   "source": [
    "23 < 73 < 45\n",
    "\n",
    "#   23 <73  and     73 <45\n",
    "#     True  and      False = False"
   ]
  },
  {
   "cell_type": "code",
   "execution_count": 11,
   "metadata": {},
   "outputs": [
    {
     "data": {
      "text/plain": [
       "False"
      ]
     },
     "execution_count": 11,
     "metadata": {},
     "output_type": "execute_result"
    }
   ],
   "source": [
    "89 < 73 < 99 < 999 < 0\n",
    "# 89 <73 and 73 <99 and 99< 999 and  999< 0\n",
    "#  False and  True  and  True   and   False  = False\n"
   ]
  },
  {
   "cell_type": "code",
   "execution_count": 12,
   "metadata": {},
   "outputs": [
    {
     "name": "stdout",
     "output_type": "stream",
     "text": [
      "11 == 11 == 11 =True\n",
      "11 != 12 != 13 =True\n",
      "11 != 12 != 11 =True\n"
     ]
    }
   ],
   "source": [
    "print(f\"{11 == 11 == 11 =}\")  # True\n",
    "print(f\"{11 != 12 != 13 =}\")  # False\n",
    "print(f\"{11 != 12 != 11 =}\")  # True"
   ]
  },
  {
   "cell_type": "markdown",
   "metadata": {},
   "source": [
    "## short-circuit logic"
   ]
  },
  {
   "cell_type": "code",
   "execution_count": 13,
   "metadata": {},
   "outputs": [
    {
     "name": "stdout",
     "output_type": "stream",
     "text": [
      "expr3= 0\n"
     ]
    }
   ],
   "source": [
    "expr3 = 0 and 1  # 0\n",
    "print(\"expr3=\", expr3)"
   ]
  },
  {
   "cell_type": "code",
   "execution_count": 14,
   "metadata": {},
   "outputs": [
    {
     "name": "stdout",
     "output_type": "stream",
     "text": [
      "expr4= 9\n"
     ]
    }
   ],
   "source": [
    "expr4 = 3 and 9  # 9\n",
    "print(\"expr4=\", expr4)"
   ]
  },
  {
   "cell_type": "code",
   "execution_count": 15,
   "metadata": {},
   "outputs": [
    {
     "name": "stdout",
     "output_type": "stream",
     "text": [
      "expr4= 13\n"
     ]
    }
   ],
   "source": [
    "expr4 = 3 and 9 and 13  # 13\n",
    "print(\"expr4=\", expr4)"
   ]
  },
  {
   "cell_type": "code",
   "execution_count": 16,
   "metadata": {},
   "outputs": [
    {
     "name": "stdout",
     "output_type": "stream",
     "text": [
      "expr4= 9\n"
     ]
    }
   ],
   "source": [
    "expr4 = 3 and 13 and 9  # 9\n",
    "print(\"expr4=\", expr4)  # If all non-zeros, results last element"
   ]
  },
  {
   "cell_type": "code",
   "execution_count": 17,
   "metadata": {},
   "outputs": [
    {
     "data": {
      "text/plain": [
       "3"
      ]
     },
     "execution_count": 17,
     "metadata": {},
     "output_type": "execute_result"
    }
   ],
   "source": [
    "1 and 2 and 3 and 4 and 67 and 3"
   ]
  },
  {
   "cell_type": "code",
   "execution_count": 18,
   "metadata": {},
   "outputs": [
    {
     "data": {
      "text/plain": [
       "0"
      ]
     },
     "execution_count": 18,
     "metadata": {},
     "output_type": "execute_result"
    }
   ],
   "source": [
    "1 and 2 and 3 and 0 and 67 and 3"
   ]
  },
  {
   "cell_type": "code",
   "execution_count": 19,
   "metadata": {},
   "outputs": [
    {
     "name": "stdout",
     "output_type": "stream",
     "text": [
      "expr5= 1\n",
      "expr6= 3\n",
      "expr6= 3\n",
      "expr6= 13\n",
      "expr6= 9\n"
     ]
    }
   ],
   "source": [
    "expr5 = 0 or 1  # 1\n",
    "print(\"expr5=\", expr5)\n",
    "\n",
    "expr6 = 3 or 9  # 3\n",
    "print(\"expr6=\", expr6)\n",
    "\n",
    "expr6 = 3 or 9 or 13  # 3\n",
    "print(\"expr6=\", expr6)\n",
    "\n",
    "expr6 = 13 or 9 or 3  # 13\n",
    "print(\"expr6=\", expr6)  # or is resulting first element\n",
    "\n",
    "expr6 = 0 or 0 or 9 or 3  # 9\n",
    "print(\"expr6=\", expr6)  # first non-zero value"
   ]
  },
  {
   "cell_type": "code",
   "execution_count": 20,
   "metadata": {},
   "outputs": [
    {
     "data": {
      "text/plain": [
       "3"
      ]
     },
     "execution_count": 20,
     "metadata": {},
     "output_type": "execute_result"
    }
   ],
   "source": [
    "1 and 2 and 3 and 4 and 67 and 3"
   ]
  },
  {
   "cell_type": "code",
   "execution_count": 21,
   "metadata": {},
   "outputs": [
    {
     "data": {
      "text/plain": [
       "0"
      ]
     },
     "execution_count": 21,
     "metadata": {},
     "output_type": "execute_result"
    }
   ],
   "source": [
    "1 and 2 and 3 and 0 and 67 and 3"
   ]
  },
  {
   "cell_type": "code",
   "execution_count": 22,
   "metadata": {},
   "outputs": [
    {
     "data": {
      "text/plain": [
       "1"
      ]
     },
     "execution_count": 22,
     "metadata": {},
     "output_type": "execute_result"
    }
   ],
   "source": [
    "1 or 2 or 3 or 4 or 67 or 3"
   ]
  },
  {
   "cell_type": "code",
   "execution_count": 23,
   "metadata": {},
   "outputs": [
    {
     "data": {
      "text/plain": [
       "2"
      ]
     },
     "execution_count": 23,
     "metadata": {},
     "output_type": "execute_result"
    }
   ],
   "source": [
    "0 or 2 or 3 or 4 or 67 or 3"
   ]
  },
  {
   "cell_type": "code",
   "execution_count": 24,
   "metadata": {},
   "outputs": [
    {
     "data": {
      "text/plain": [
       "-3"
      ]
     },
     "execution_count": 24,
     "metadata": {},
     "output_type": "execute_result"
    }
   ],
   "source": [
    "0 or 0 or -3 or 4 or 67 or 3"
   ]
  },
  {
   "cell_type": "code",
   "execution_count": 25,
   "metadata": {},
   "outputs": [
    {
     "name": "stdout",
     "output_type": "stream",
     "text": [
      "0 and 1 and 2 and 3 = 0\n",
      "1 and 2 and 3 and 4 = 4\n",
      "1 and 2 and 0 and 4 = 0\n",
      "1 and 2 and 3       = 3\n"
     ]
    }
   ],
   "source": [
    "# and - returns 0, if anyone is 0; else the last value\n",
    "print(f\"{0 and 1 and 2 and 3 = }\")  # 0\n",
    "print(f\"{1 and 2 and 3 and 4 = }\")  # 4\n",
    "print(f\"{1 and 2 and 0 and 4 = }\")  # 0\n",
    "print(f\"{1 and 2 and 3       = }\")  # 3"
   ]
  },
  {
   "cell_type": "code",
   "execution_count": 26,
   "metadata": {},
   "outputs": [
    {
     "name": "stdout",
     "output_type": "stream",
     "text": [
      "0 or 1 or 2 or 3    = 1\n",
      "1 or 2 or 3 or 4    = 1\n",
      "4.4 or 2 or 3 or 4  = 4.4\n"
     ]
    }
   ],
   "source": [
    "# or - will take first boolean True value\n",
    "print(f\"{0 or 1 or 2 or 3    = }\")  # 1\n",
    "print(f\"{1 or 2 or 3 or 4    = }\")  # 1\n",
    "print(f\"{4.4 or 2 or 3 or 4  = }\")  # 4.4"
   ]
  },
  {
   "cell_type": "code",
   "execution_count": 27,
   "metadata": {},
   "outputs": [
    {
     "name": "stdout",
     "output_type": "stream",
     "text": [
      "0 or 1 and 2 or 3      = 2\n",
      "0 or (1 and 2) or 3    = 2\n"
     ]
    }
   ],
   "source": [
    "print(f\"{0 or 1 and 2 or 3      = }\")  # 2\n",
    "print(f\"{0 or (1 and 2) or 3    = }\")  # 2"
   ]
  },
  {
   "cell_type": "code",
   "execution_count": 28,
   "metadata": {},
   "outputs": [
    {
     "data": {
      "text/plain": [
       "False"
      ]
     },
     "execution_count": 28,
     "metadata": {},
     "output_type": "execute_result"
    }
   ],
   "source": [
    "num1 = 234\n",
    "\n",
    "num1 > 0  and num1 <= 0 and num1!= 0\n",
    "# True    and    False"
   ]
  },
  {
   "cell_type": "code",
   "execution_count": null,
   "metadata": {},
   "outputs": [],
   "source": []
  }
 ],
 "metadata": {
  "kernelspec": {
   "display_name": "Python 3",
   "language": "python",
   "name": "python3"
  },
  "language_info": {
   "codemirror_mode": {
    "name": "ipython",
    "version": 3
   },
   "file_extension": ".py",
   "mimetype": "text/x-python",
   "name": "python",
   "nbconvert_exporter": "python",
   "pygments_lexer": "ipython3",
   "version": "3.10.4"
  },
  "orig_nbformat": 4
 },
 "nbformat": 4,
 "nbformat_minor": 2
}
