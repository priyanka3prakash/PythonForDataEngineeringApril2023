{
 "cells": [
  {
   "attachments": {},
   "cell_type": "markdown",
   "metadata": {},
   "source": [
    "## Bitwise Operations\n",
    "\n",
    "    &   binary AND    -> If all are 1, result is 1\n",
    "    |   binary OR     -> If all are 0, only then result is 0\n",
    "    ^   binary XOR    -> If total count of 1's are odd, it results in 1, else 0\n",
    "    ~   binary 1's complement\n",
    "    <<  binary Left Shift\n",
    "    >>  binary right shift\n",
    "\n",
    "\n",
    "\n",
    "```\n",
    "     126 64 32 16  8 4  2  1\n",
    "60     0  0  1  1  1 1  0  0  = 32 + 16 + 8 + 4 = 60\n",
    "13     0  0  0  0  1 1  0  1  = 8 + 4 + 1 = 13\n",
    "-----------------------------\n",
    "&      0  0  0  0  1 1  0  0 =  = (8 * 1 + 4 * 1) = 12\n",
    "|      0  0  1  1  1 1  0  1 = (32 + 16 + 8 + 4 + 1) = 61\n",
    "^      0  0  1  1  0 0  0  1 =  (32 + 16 + 1) = 49\n",
    "```"
   ]
  },
  {
   "cell_type": "code",
   "execution_count": 1,
   "metadata": {},
   "outputs": [
    {
     "name": "stdout",
     "output_type": "stream",
     "text": [
      "num1= 60 0b111100\n",
      "num2= 13 0b1101\n"
     ]
    }
   ],
   "source": [
    "num1 = 60\n",
    "num2 = 13\n",
    "\n",
    "print(\"num1=\", num1, bin(num1))  # 0b111100\n",
    "print(\"num2=\", num2, bin(num2))  # 0b1101"
   ]
  },
  {
   "cell_type": "code",
   "execution_count": 2,
   "metadata": {},
   "outputs": [
    {
     "name": "stdout",
     "output_type": "stream",
     "text": [
      "Line 1 - Value of num3 is  12\n"
     ]
    }
   ],
   "source": [
    "num3 = num1 & num2  # 12 = 0000 1100\n",
    "print(\"Line 1 - Value of num3 is \", num3)"
   ]
  },
  {
   "cell_type": "code",
   "execution_count": 3,
   "metadata": {},
   "outputs": [
    {
     "name": "stdout",
     "output_type": "stream",
     "text": [
      "Line 2 - Value of num3 is  61\n",
      "Line 3 - Value of num3 is  49\n"
     ]
    }
   ],
   "source": [
    "num3 = num1 | num2  # 61 = 0011 1101\n",
    "print(\"Line 2 - Value of num3 is \", num3)\n",
    "\n",
    "num3 = num1 ^ num2  # 49 = 0011 0001\n",
    "print(\"Line 3 - Value of num3 is \", num3)"
   ]
  },
  {
   "cell_type": "code",
   "execution_count": 4,
   "metadata": {},
   "outputs": [
    {
     "name": "stdout",
     "output_type": "stream",
     "text": [
      "Line 4 - Value of num3 is  -61\n"
     ]
    }
   ],
   "source": [
    "num3 = ~num1  # -61 = 1100 0011\n",
    "print(\"Line 4 - Value of num3 is \", num3)"
   ]
  },
  {
   "cell_type": "code",
   "execution_count": 5,
   "metadata": {},
   "outputs": [
    {
     "name": "stdout",
     "output_type": "stream",
     "text": [
      "Line 5 - Value of num3 is  240\n",
      "Line 6 - Value of num3 is  15\n"
     ]
    }
   ],
   "source": [
    "num3 = num1 << 2  # 240 = 1111 0000\n",
    "print(\"Line 5 - Value of num3 is \", num3)\n",
    "\n",
    "num3 = num1 >> 2  # 15 = 0000 1111\n",
    "print(\"Line 6 - Value of num3 is \", num3)"
   ]
  },
  {
   "cell_type": "code",
   "execution_count": 6,
   "metadata": {},
   "outputs": [
    {
     "name": "stdout",
     "output_type": "stream",
     "text": [
      "10 << 1 = 20\n",
      "10 << 2 = 40\n",
      "10 << 3 = 80\n",
      "10 << 4 = 160\n"
     ]
    }
   ],
   "source": [
    "print(\"10 << 1 =\", 10 << 1)\n",
    "print(\"10 << 2 =\", 10 << 2)\n",
    "print(\"10 << 3 =\", 10 << 3)\n",
    "print(\"10 << 4 =\", 10 << 4)"
   ]
  },
  {
   "cell_type": "code",
   "execution_count": 7,
   "metadata": {},
   "outputs": [],
   "source": [
    "#            128    64    32    16    8   4   2   1\n",
    "# 10                                  1   0   1   0\n",
    "# 20                             1    0   1   0          1st shift\n",
    "# 40                       1     0    1   0              2nd shift\n",
    "# 80                 1     0     1    0                  3rd shift\n",
    "# 160        1       0     1     0                       4th shift"
   ]
  },
  {
   "cell_type": "code",
   "execution_count": 8,
   "metadata": {},
   "outputs": [
    {
     "name": "stdout",
     "output_type": "stream",
     "text": [
      "160 >> 1 = 80\n",
      "160 >> 2 = 40\n",
      "160 >> 3 = 20\n",
      "160 >> 4 = 10\n"
     ]
    }
   ],
   "source": [
    "print(\"160 >> 1 =\", 160 >> 1)  # 80\n",
    "print(\"160 >> 2 =\", 160 >> 2)  # 40\n",
    "print(\"160 >> 3 =\", 160 >> 3)  # 20\n",
    "print(\"160 >> 4 =\", 160 >> 4)  # 10"
   ]
  },
  {
   "cell_type": "code",
   "execution_count": 9,
   "metadata": {},
   "outputs": [],
   "source": [
    "# NOTE:\n",
    "# A left shift by n bits is equivalent to multiplication by pow(2, n) without overflow check.\n",
    "# A right shift by n bits is equivalent to division by pow(2, n) without overflow check."
   ]
  },
  {
   "cell_type": "code",
   "execution_count": null,
   "metadata": {},
   "outputs": [],
   "source": []
  }
 ],
 "metadata": {
  "kernelspec": {
   "display_name": "Python 3",
   "language": "python",
   "name": "python3"
  },
  "language_info": {
   "codemirror_mode": {
    "name": "ipython",
    "version": 3
   },
   "file_extension": ".py",
   "mimetype": "text/x-python",
   "name": "python",
   "nbconvert_exporter": "python",
   "pygments_lexer": "ipython3",
   "version": "3.10.4"
  },
  "orig_nbformat": 4
 },
 "nbformat": 4,
 "nbformat_minor": 2
}
