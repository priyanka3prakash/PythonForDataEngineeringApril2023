{
 "cells": [
  {
   "attachments": {},
   "cell_type": "markdown",
   "metadata": {},
   "source": [
    "## Identity Operations\n",
    "\n",
    "\n",
    "    Object\n",
    "        - value(s)\n",
    "        - type(s)\n",
    "        - address location where it is stored - id()\n",
    "\n",
    "\n",
    "    =  Assignment operator\n",
    "\n",
    "    == Value-level Equivalence  -  ( value and type) check\n",
    "    is object-level Equivalence - (address location, value and type) check"
   ]
  },
  {
   "cell_type": "code",
   "execution_count": 1,
   "metadata": {},
   "outputs": [
    {
     "data": {
      "text/plain": [
       "True"
      ]
     },
     "execution_count": 1,
     "metadata": {},
     "output_type": "execute_result"
    }
   ],
   "source": [
    "4 == 4"
   ]
  },
  {
   "cell_type": "code",
   "execution_count": 2,
   "metadata": {},
   "outputs": [
    {
     "data": {
      "text/plain": [
       "False"
      ]
     },
     "execution_count": 2,
     "metadata": {},
     "output_type": "execute_result"
    }
   ],
   "source": [
    "4 == \"4\""
   ]
  },
  {
   "cell_type": "code",
   "execution_count": 3,
   "metadata": {},
   "outputs": [
    {
     "name": "stderr",
     "output_type": "stream",
     "text": [
      "<>:1: SyntaxWarning: \"is\" with a literal. Did you mean \"==\"?\n",
      "<>:1: SyntaxWarning: \"is\" with a literal. Did you mean \"==\"?\n",
      "/tmp/ipykernel_1575/672288743.py:1: SyntaxWarning: \"is\" with a literal. Did you mean \"==\"?\n",
      "  4 is 4\n"
     ]
    },
    {
     "data": {
      "text/plain": [
       "True"
      ]
     },
     "execution_count": 3,
     "metadata": {},
     "output_type": "execute_result"
    }
   ],
   "source": [
    "4 is 4"
   ]
  },
  {
   "cell_type": "code",
   "execution_count": 4,
   "metadata": {},
   "outputs": [
    {
     "name": "stderr",
     "output_type": "stream",
     "text": [
      "<>:1: SyntaxWarning: \"is\" with a literal. Did you mean \"==\"?\n",
      "<>:1: SyntaxWarning: \"is\" with a literal. Did you mean \"==\"?\n",
      "/tmp/ipykernel_1575/2007988193.py:1: SyntaxWarning: \"is\" with a literal. Did you mean \"==\"?\n",
      "  4 is \"4\"\n"
     ]
    },
    {
     "data": {
      "text/plain": [
       "False"
      ]
     },
     "execution_count": 4,
     "metadata": {},
     "output_type": "execute_result"
    }
   ],
   "source": [
    "4 is \"4\""
   ]
  },
  {
   "cell_type": "code",
   "execution_count": 8,
   "metadata": {},
   "outputs": [
    {
     "name": "stdout",
     "output_type": "stream",
     "text": [
      "num1 == num2 =True\n",
      "num1 is num2 =True\n"
     ]
    }
   ],
   "source": [
    "num1 = 4\n",
    "num2 = 4\n",
    "\n",
    "print(f\"{num1 == num2 =}\")\n",
    "print(f\"{num1 is num2 =}\")"
   ]
  },
  {
   "cell_type": "code",
   "execution_count": 6,
   "metadata": {},
   "outputs": [
    {
     "name": "stdout",
     "output_type": "stream",
     "text": [
      "4 <class 'int'> 139640675205456\n",
      "4 <class 'int'> 139640675205456\n"
     ]
    }
   ],
   "source": [
    "print(num1, type(num1), id(num1))\n",
    "print(num2, type(num2), id(num2))"
   ]
  },
  {
   "cell_type": "code",
   "execution_count": 9,
   "metadata": {},
   "outputs": [
    {
     "name": "stdout",
     "output_type": "stream",
     "text": [
      "num1 == num2 =True\n",
      "num1 is num2 =True\n",
      "4 <class 'int'> 139640675205456\n",
      "4 <class 'int'> 139640675205456\n"
     ]
    }
   ],
   "source": [
    "num1 = 4\n",
    "num2 = 4\n",
    "\n",
    "print(f\"{num1 == num2 =}\")\n",
    "print(f\"{num1 is num2 =}\")\n",
    "\n",
    "print(num1, type(num1), id(num1))\n",
    "print(num2, type(num2), id(num2))"
   ]
  },
  {
   "cell_type": "code",
   "execution_count": 10,
   "metadata": {},
   "outputs": [
    {
     "name": "stdout",
     "output_type": "stream",
     "text": [
      "num1 == num2 =False\n",
      "num1 is num2 =False\n",
      "4 <class 'int'> 139640675205456\n",
      "4 <class 'str'> 139640673274224\n"
     ]
    }
   ],
   "source": [
    "num1 = 4\n",
    "num2 = \"4\"\n",
    "\n",
    "print(f\"{num1 == num2 =}\")\n",
    "print(f\"{num1 is num2 =}\")\n",
    "\n",
    "print(num1, type(num1), id(num1))\n",
    "print(num2, type(num2), id(num2))"
   ]
  },
  {
   "cell_type": "code",
   "execution_count": 11,
   "metadata": {},
   "outputs": [
    {
     "name": "stdout",
     "output_type": "stream",
     "text": [
      "num1 == num2 =True\n",
      "num1 is num2 =True\n",
      "56 <class 'int'> 139640675207120\n",
      "56 <class 'int'> 139640675207120\n"
     ]
    }
   ],
   "source": [
    "num1 = 56\n",
    "num2 = 56\n",
    "\n",
    "print(f\"{num1 == num2 =}\")\n",
    "print(f\"{num1 is num2 =}\")\n",
    "\n",
    "print(num1, type(num1), id(num1))\n",
    "print(num2, type(num2), id(num2))"
   ]
  },
  {
   "cell_type": "code",
   "execution_count": 12,
   "metadata": {},
   "outputs": [
    {
     "name": "stdout",
     "output_type": "stream",
     "text": [
      "num1 == num2 =True\n",
      "num1 is num2 =False\n",
      "300 <class 'int'> 139640628137328\n",
      "300 <class 'int'> 139640628137424\n"
     ]
    }
   ],
   "source": [
    "num1 = 300\n",
    "num2 = 300\n",
    "\n",
    "print(f\"{num1 == num2 =}\")\n",
    "print(f\"{num1 is num2 =}\")\n",
    "\n",
    "print(num1, type(num1), id(num1))\n",
    "print(num2, type(num2), id(num2))"
   ]
  },
  {
   "cell_type": "code",
   "execution_count": 13,
   "metadata": {},
   "outputs": [
    {
     "name": "stdout",
     "output_type": "stream",
     "text": [
      "num1 == num2 =True\n",
      "num1 is num2 =True\n",
      "256 <class 'int'> 139640675213520\n",
      "256 <class 'int'> 139640675213520\n"
     ]
    }
   ],
   "source": [
    "num1 = 256\n",
    "num2 = 256\n",
    "\n",
    "print(f\"{num1 == num2 =}\")\n",
    "print(f\"{num1 is num2 =}\")\n",
    "\n",
    "print(num1, type(num1), id(num1))\n",
    "print(num2, type(num2), id(num2))"
   ]
  },
  {
   "cell_type": "code",
   "execution_count": 14,
   "metadata": {},
   "outputs": [
    {
     "name": "stdout",
     "output_type": "stream",
     "text": [
      "num1 == num2 =True\n",
      "num1 is num2 =False\n",
      "257 <class 'int'> 139640628147952\n",
      "257 <class 'int'> 139640628137520\n"
     ]
    }
   ],
   "source": [
    "num1 = 257\n",
    "num2 = 257\n",
    "\n",
    "print(f\"{num1 == num2 =}\")\n",
    "print(f\"{num1 is num2 =}\")\n",
    "\n",
    "print(num1, type(num1), id(num1))\n",
    "print(num2, type(num2), id(num2))"
   ]
  },
  {
   "cell_type": "code",
   "execution_count": 15,
   "metadata": {},
   "outputs": [
    {
     "name": "stdout",
     "output_type": "stream",
     "text": [
      "num1 == num2 =True\n",
      "num1 is num2 =True\n",
      "-5 <class 'int'> 139640675205168\n",
      "-5 <class 'int'> 139640675205168\n"
     ]
    }
   ],
   "source": [
    "num1 = -5\n",
    "num2 = -5\n",
    "\n",
    "print(f\"{num1 == num2 =}\")\n",
    "print(f\"{num1 is num2 =}\")\n",
    "\n",
    "print(num1, type(num1), id(num1))\n",
    "print(num2, type(num2), id(num2))"
   ]
  },
  {
   "cell_type": "code",
   "execution_count": 16,
   "metadata": {},
   "outputs": [
    {
     "name": "stdout",
     "output_type": "stream",
     "text": [
      "num1 == num2 =True\n",
      "num1 is num2 =False\n",
      "-6 <class 'int'> 139640628138416\n",
      "-6 <class 'int'> 139640628137936\n"
     ]
    }
   ],
   "source": [
    "num1 = -6\n",
    "num2 = -6\n",
    "\n",
    "print(f\"{num1 == num2 =}\")\n",
    "print(f\"{num1 is num2 =}\")\n",
    "\n",
    "print(num1, type(num1), id(num1))\n",
    "print(num2, type(num2), id(num2))"
   ]
  },
  {
   "attachments": {},
   "cell_type": "markdown",
   "metadata": {},
   "source": [
    "__NOTE__:\n",
    "\n",
    "    Dual Memory management Strategy\n",
    "        In Interactive mode,\n",
    "            For integer,\n",
    "                -5 to 256      -> no new object created\n",
    "                outside bounds -> new object is created for each variable\n"
   ]
  },
  {
   "cell_type": "code",
   "execution_count": 17,
   "metadata": {},
   "outputs": [
    {
     "name": "stdout",
     "output_type": "stream",
     "text": [
      "num1 == num2 =True\n",
      "num1 is num2 =False\n",
      "-4.5 <class 'float'> 139640628140784\n",
      "-4.5 <class 'float'> 139640628149328\n"
     ]
    }
   ],
   "source": [
    "num1 = -4.5\n",
    "num2 = -4.5\n",
    "\n",
    "print(f\"{num1 == num2 =}\")\n",
    "print(f\"{num1 is num2 =}\")\n",
    "\n",
    "print(num1, type(num1), id(num1))\n",
    "print(num2, type(num2), id(num2))"
   ]
  },
  {
   "cell_type": "code",
   "execution_count": 18,
   "metadata": {},
   "outputs": [
    {
     "name": "stdout",
     "output_type": "stream",
     "text": [
      "num1 == num2 =True\n",
      "num1 is num2 =False\n",
      "10.2 <class 'float'> 139640628138160\n",
      "10.2 <class 'float'> 139640628139728\n"
     ]
    }
   ],
   "source": [
    "num1 = 10.2\n",
    "num2 = 10.2\n",
    "\n",
    "print(f\"{num1 == num2 =}\")\n",
    "print(f\"{num1 is num2 =}\")\n",
    "\n",
    "print(num1, type(num1), id(num1))\n",
    "print(num2, type(num2), id(num2))"
   ]
  },
  {
   "attachments": {},
   "cell_type": "markdown",
   "metadata": {},
   "source": [
    "__NOTE__:\n",
    "\n",
    "    - for immutables, all objects refer to same location, for a given value\n",
    "        Ex: String, int, tuple\n",
    "    - for mutables, every object is stored separately\n",
    "        Ex: list, set, dict\n"
   ]
  },
  {
   "cell_type": "code",
   "execution_count": 19,
   "metadata": {},
   "outputs": [
    {
     "name": "stdout",
     "output_type": "stream",
     "text": [
      "num1 == num2 =True\n",
      "num1 is num2 =False\n",
      "[1, 2, 3] <class 'list'> 139640627801024\n",
      "[1, 2, 3] <class 'list'> 139640600761728\n"
     ]
    }
   ],
   "source": [
    "num1 = [1, 2, 3]  # list\n",
    "num2 = [1, 2, 3]\n",
    "\n",
    "print(f\"{num1 == num2 =}\")\n",
    "print(f\"{num1 is num2 =}\")\n",
    "\n",
    "print(num1, type(num1), id(num1))\n",
    "print(num2, type(num2), id(num2))"
   ]
  },
  {
   "cell_type": "code",
   "execution_count": 20,
   "metadata": {},
   "outputs": [
    {
     "name": "stdout",
     "output_type": "stream",
     "text": [
      "num1 == num2 =True\n",
      "num1 is num2 =False\n",
      "(1, 2, 3) <class 'tuple'> 139640627710656\n",
      "(1, 2, 3) <class 'tuple'> 139640627822144\n"
     ]
    }
   ],
   "source": [
    "num1 = (1, 2, 3)  # tuple\n",
    "num2 = (1, 2, 3)\n",
    "\n",
    "print(f\"{num1 == num2 =}\")\n",
    "print(f\"{num1 is num2 =}\")\n",
    "\n",
    "print(num1, type(num1), id(num1))\n",
    "print(num2, type(num2), id(num2))"
   ]
  },
  {
   "cell_type": "code",
   "execution_count": null,
   "metadata": {},
   "outputs": [],
   "source": []
  }
 ],
 "metadata": {
  "kernelspec": {
   "display_name": "Python 3",
   "language": "python",
   "name": "python3"
  },
  "language_info": {
   "codemirror_mode": {
    "name": "ipython",
    "version": 3
   },
   "file_extension": ".py",
   "mimetype": "text/x-python",
   "name": "python",
   "nbconvert_exporter": "python",
   "pygments_lexer": "ipython3",
   "version": "3.10.4"
  },
  "orig_nbformat": 4
 },
 "nbformat": 4,
 "nbformat_minor": 2
}
