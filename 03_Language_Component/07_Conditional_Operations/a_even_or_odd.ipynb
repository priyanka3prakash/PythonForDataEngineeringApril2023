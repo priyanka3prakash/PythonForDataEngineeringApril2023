{
 "cells": [
  {
   "cell_type": "code",
   "execution_count": 3,
   "metadata": {},
   "outputs": [
    {
     "name": "stdout",
     "output_type": "stream",
     "text": [
      "number             = 34\n",
      "number / 2         = 17.0\n",
      "number // 2        = 17\n",
      "number % 2         = 0\n"
     ]
    }
   ],
   "source": [
    "# Logic: determining odd/even status using the modulus arithmetic operator\n",
    "number = 34  # even\n",
    "\n",
    "print(f\"{number             = }\")\n",
    "print(f\"{number / 2         = }\")\n",
    "print(f\"{number // 2        = }\")\n",
    "print(f\"{number % 2         = }\")  # 0"
   ]
  },
  {
   "cell_type": "code",
   "execution_count": 4,
   "metadata": {},
   "outputs": [
    {
     "name": "stdout",
     "output_type": "stream",
     "text": [
      "number             = 33\n",
      "number / 2         = 16.5\n",
      "number // 2        = 16\n",
      "number % 2         = 1\n"
     ]
    }
   ],
   "source": [
    "number = 33  # odd\n",
    "\n",
    "print(f\"{number             = }\")\n",
    "print(f\"{number / 2         = }\")\n",
    "print(f\"{number // 2        = }\")\n",
    "print(f\"{number % 2         = }\")  # 1"
   ]
  },
  {
   "cell_type": "code",
   "execution_count": 5,
   "metadata": {},
   "outputs": [
    {
     "name": "stdout",
     "output_type": "stream",
     "text": [
      "number % 2 == 0    = True\n",
      "number % 2 == 0    = False\n",
      "number % 2 == 0    = False\n"
     ]
    }
   ],
   "source": [
    "number = 34\n",
    "print(f\"{number % 2 == 0    = }\")  # True\n",
    "\n",
    "number = 33\n",
    "print(f\"{number % 2 == 0    = }\")  # False\n",
    "\n",
    "number = -35\n",
    "print(f\"{number % 2 == 0    = }\")  # False"
   ]
  },
  {
   "cell_type": "code",
   "execution_count": 7,
   "metadata": {},
   "outputs": [
    {
     "name": "stdout",
     "output_type": "stream",
     "text": [
      "-35 is non-zero\n",
      "-35 is non-zero\n"
     ]
    }
   ],
   "source": [
    "if number != 0:\n",
    "    print(f\"{number} is non-zero\")\n",
    "\n",
    "\n",
    "if number:\n",
    "    print(f\"{number} is non-zero\")\n",
    "    # It can evaluate that\n",
    "    #     number != None and\n",
    "    #     number != False and\n",
    "    #     number != 0 and\n",
    "    #     number != \"\""
   ]
  },
  {
   "cell_type": "code",
   "execution_count": 8,
   "metadata": {},
   "outputs": [],
   "source": [
    "if number % 2 == 0:\n",
    "    print(f\"{number} is Even\")"
   ]
  },
  {
   "cell_type": "code",
   "execution_count": 9,
   "metadata": {},
   "outputs": [
    {
     "name": "stdout",
     "output_type": "stream",
     "text": [
      "-35 is Odd\n"
     ]
    }
   ],
   "source": [
    "if number % 2:  # number % 2 != 0\n",
    "    print(f\"{number} is Odd\")"
   ]
  },
  {
   "cell_type": "code",
   "execution_count": 10,
   "metadata": {},
   "outputs": [
    {
     "name": "stdout",
     "output_type": "stream",
     "text": [
      "-35 is ODD\n"
     ]
    }
   ],
   "source": [
    "# Rewriting with else\n",
    "if number % 2 == 0:\n",
    "    print(f\"{number} is EVEN\")\n",
    "else:\n",
    "    print(f\"{number} is ODD\")"
   ]
  },
  {
   "cell_type": "code",
   "execution_count": 11,
   "metadata": {},
   "outputs": [
    {
     "name": "stdout",
     "output_type": "stream",
     "text": [
      "-35 is ODD\n"
     ]
    }
   ],
   "source": [
    "# Rewriting\n",
    "if number % 2:\n",
    "    print(f\"{number} is ODD\")\n",
    "else:\n",
    "    print(f\"{number} is EVEN\")"
   ]
  },
  {
   "cell_type": "code",
   "execution_count": 12,
   "metadata": {},
   "outputs": [
    {
     "name": "stdout",
     "output_type": "stream",
     "text": [
      "56 is EVEN\n"
     ]
    }
   ],
   "source": [
    "number = int(input(\"Enter any number\"))\n",
    "if number % 2:\n",
    "    print(f\"{number} is ODD\")\n",
    "else:\n",
    "    print(f\"{number} is EVEN\")"
   ]
  },
  {
   "cell_type": "code",
   "execution_count": 13,
   "metadata": {},
   "outputs": [],
   "source": [
    "# Assignment: Generate even numbers between 45 & 137\n",
    "# loop values between limits, test eveness for each number\n",
    "# and display, if it is even\n",
    "\n",
    "# TIP - range, if condition within it, print function"
   ]
  },
  {
   "cell_type": "code",
   "execution_count": 17,
   "metadata": {},
   "outputs": [
    {
     "name": "stdout",
     "output_type": "stream",
     "text": [
      "45 False\n",
      "46 True\n",
      "47 False\n",
      "48 True\n",
      "49 False\n",
      "50 True\n",
      "51 False\n",
      "52 True\n",
      "53 False\n",
      "54 True\n",
      "55 False\n",
      "56 True\n",
      "57 False\n",
      "58 True\n",
      "59 False\n",
      "60 True\n",
      "61 False\n",
      "62 True\n",
      "63 False\n",
      "64 True\n",
      "65 False\n",
      "66 True\n",
      "67 False\n",
      "68 True\n",
      "69 False\n",
      "70 True\n",
      "71 False\n",
      "72 True\n",
      "73 False\n",
      "74 True\n",
      "75 False\n",
      "76 True\n",
      "77 False\n",
      "78 True\n",
      "79 False\n",
      "80 True\n",
      "81 False\n",
      "82 True\n",
      "83 False\n",
      "84 True\n",
      "85 False\n",
      "86 True\n",
      "87 False\n",
      "88 True\n",
      "89 False\n",
      "90 True\n",
      "91 False\n",
      "92 True\n",
      "93 False\n",
      "94 True\n",
      "95 False\n",
      "96 True\n",
      "97 False\n",
      "98 True\n",
      "99 False\n",
      "100 True\n",
      "101 False\n",
      "102 True\n",
      "103 False\n",
      "104 True\n",
      "105 False\n",
      "106 True\n",
      "107 False\n",
      "108 True\n",
      "109 False\n",
      "110 True\n",
      "111 False\n",
      "112 True\n",
      "113 False\n",
      "114 True\n",
      "115 False\n",
      "116 True\n",
      "117 False\n",
      "118 True\n",
      "119 False\n",
      "120 True\n",
      "121 False\n",
      "122 True\n",
      "123 False\n",
      "124 True\n",
      "125 False\n",
      "126 True\n",
      "127 False\n",
      "128 True\n",
      "129 False\n",
      "130 True\n",
      "131 False\n",
      "132 True\n",
      "133 False\n",
      "134 True\n",
      "135 False\n",
      "136 True\n"
     ]
    }
   ],
   "source": [
    "for each_num in range(45, 137):\n",
    "    print(each_num, each_num % 2 == 0)"
   ]
  },
  {
   "cell_type": "code",
   "execution_count": null,
   "metadata": {},
   "outputs": [],
   "source": []
  }
 ],
 "metadata": {
  "kernelspec": {
   "display_name": "Python 3",
   "language": "python",
   "name": "python3"
  },
  "language_info": {
   "codemirror_mode": {
    "name": "ipython",
    "version": 3
   },
   "file_extension": ".py",
   "mimetype": "text/x-python",
   "name": "python",
   "nbconvert_exporter": "python",
   "pygments_lexer": "ipython3",
   "version": "3.10.4"
  },
  "orig_nbformat": 4
 },
 "nbformat": 4,
 "nbformat_minor": 2
}
