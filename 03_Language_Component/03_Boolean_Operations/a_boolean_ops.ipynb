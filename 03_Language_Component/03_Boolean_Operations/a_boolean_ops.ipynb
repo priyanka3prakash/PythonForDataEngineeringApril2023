{
 "cells": [
  {
   "cell_type": "markdown",
   "metadata": {},
   "source": [
    "## Boolean Operations\n",
    "\n",
    "    True, False  --> keywords defined in python"
   ]
  },
  {
   "cell_type": "code",
   "execution_count": 1,
   "metadata": {},
   "outputs": [
    {
     "data": {
      "text/plain": [
       "True"
      ]
     },
     "execution_count": 1,
     "metadata": {},
     "output_type": "execute_result"
    }
   ],
   "source": [
    "True"
   ]
  },
  {
   "cell_type": "code",
   "execution_count": 2,
   "metadata": {},
   "outputs": [
    {
     "data": {
      "text/plain": [
       "94838533451808"
      ]
     },
     "execution_count": 2,
     "metadata": {},
     "output_type": "execute_result"
    }
   ],
   "source": [
    "id(True)"
   ]
  },
  {
   "cell_type": "code",
   "execution_count": 3,
   "metadata": {},
   "outputs": [
    {
     "name": "stdout",
     "output_type": "stream",
     "text": [
      "choice =  True <class 'bool'> 94838533451808\n"
     ]
    }
   ],
   "source": [
    "choice = True\n",
    "print(\"choice = \", choice, type(choice), id(choice))"
   ]
  },
  {
   "cell_type": "code",
   "execution_count": 4,
   "metadata": {},
   "outputs": [
    {
     "name": "stdout",
     "output_type": "stream",
     "text": [
      "choice =  True <class 'bool'> 94838533451808\n"
     ]
    }
   ],
   "source": [
    "choice = True\n",
    "print(\"choice = \", choice, type(choice), id(choice))"
   ]
  },
  {
   "cell_type": "code",
   "execution_count": 5,
   "metadata": {},
   "outputs": [
    {
     "name": "stdout",
     "output_type": "stream",
     "text": [
      "choice =  False <class 'bool'> 94838533451840\n"
     ]
    }
   ],
   "source": [
    "choice = False\n",
    "print(\"choice = \", choice, type(choice), id(choice))"
   ]
  },
  {
   "cell_type": "code",
   "execution_count": 6,
   "metadata": {},
   "outputs": [
    {
     "ename": "SyntaxError",
     "evalue": "cannot assign to True (3119790214.py, line 1)",
     "output_type": "error",
     "traceback": [
      "\u001b[0;36m  Cell \u001b[0;32mIn[6], line 1\u001b[0;36m\u001b[0m\n\u001b[0;31m    True = 'Udhay'\u001b[0m\n\u001b[0m    ^\u001b[0m\n\u001b[0;31mSyntaxError\u001b[0m\u001b[0;31m:\u001b[0m cannot assign to True\n"
     ]
    }
   ],
   "source": [
    "True = 'Udhay'"
   ]
  },
  {
   "cell_type": "code",
   "execution_count": 7,
   "metadata": {},
   "outputs": [],
   "source": [
    "true = \"Udhay\"\n",
    "# NOTE: NOT RECOMMENDED to use 'true' for variable name\n",
    "\n",
    "true_name = \"Udhay\""
   ]
  },
  {
   "cell_type": "code",
   "execution_count": 8,
   "metadata": {},
   "outputs": [
    {
     "name": "stdout",
     "output_type": "stream",
     "text": [
      "choice =  Udhay <class 'str'> 140412738739312\n"
     ]
    }
   ],
   "source": [
    "choice = \"Udhay\"\n",
    "print(\"choice = \", choice, type(choice), id(choice))"
   ]
  },
  {
   "cell_type": "code",
   "execution_count": 9,
   "metadata": {},
   "outputs": [
    {
     "data": {
      "text/plain": [
       "140412786102320"
      ]
     },
     "execution_count": 9,
     "metadata": {},
     "output_type": "execute_result"
    }
   ],
   "source": [
    "num1 = 123\n",
    "id(num1)"
   ]
  },
  {
   "cell_type": "code",
   "execution_count": 10,
   "metadata": {},
   "outputs": [
    {
     "name": "stdout",
     "output_type": "stream",
     "text": [
      "id(True)     =  94838533451808\n",
      "id(true)     =  140412738739312\n",
      "type(True)   = <class 'bool'>\n",
      "type(true)   = <class 'str'>\n"
     ]
    }
   ],
   "source": [
    "# -----------------------------------\n",
    "# Object\n",
    "#  - address location where it is stored - id()\n",
    "#  - type(s)\n",
    "#  - value(s)\n",
    "\n",
    "print(\"id(True)     = \", id(True))\n",
    "print(\"id(true)     = \", id(true))\n",
    "\n",
    "print(\"type(True)   =\", type(True))\n",
    "print(\"type(true)   =\", type(true))"
   ]
  },
  {
   "cell_type": "code",
   "execution_count": 11,
   "metadata": {},
   "outputs": [
    {
     "data": {
      "text/plain": [
       "True"
      ]
     },
     "execution_count": 11,
     "metadata": {},
     "output_type": "execute_result"
    }
   ],
   "source": [
    "True"
   ]
  },
  {
   "cell_type": "code",
   "execution_count": 12,
   "metadata": {},
   "outputs": [
    {
     "data": {
      "text/plain": [
       "23"
      ]
     },
     "execution_count": 12,
     "metadata": {},
     "output_type": "execute_result"
    }
   ],
   "source": [
    "True * 23"
   ]
  },
  {
   "cell_type": "code",
   "execution_count": 13,
   "metadata": {},
   "outputs": [
    {
     "data": {
      "text/plain": [
       "3"
      ]
     },
     "execution_count": 13,
     "metadata": {},
     "output_type": "execute_result"
    }
   ],
   "source": [
    "True + 2"
   ]
  },
  {
   "cell_type": "code",
   "execution_count": 14,
   "metadata": {},
   "outputs": [
    {
     "data": {
      "text/plain": [
       "0"
      ]
     },
     "execution_count": 14,
     "metadata": {},
     "output_type": "execute_result"
    }
   ],
   "source": [
    "False * 45"
   ]
  },
  {
   "cell_type": "code",
   "execution_count": 15,
   "metadata": {},
   "outputs": [
    {
     "data": {
      "text/plain": [
       "3"
      ]
     },
     "execution_count": 15,
     "metadata": {},
     "output_type": "execute_result"
    }
   ],
   "source": [
    "False + 3"
   ]
  },
  {
   "cell_type": "code",
   "execution_count": 16,
   "metadata": {},
   "outputs": [
    {
     "data": {
      "text/plain": [
       "1"
      ]
     },
     "execution_count": 16,
     "metadata": {},
     "output_type": "execute_result"
    }
   ],
   "source": [
    "int(True)"
   ]
  },
  {
   "cell_type": "code",
   "execution_count": 17,
   "metadata": {},
   "outputs": [
    {
     "data": {
      "text/plain": [
       "0"
      ]
     },
     "execution_count": 17,
     "metadata": {},
     "output_type": "execute_result"
    }
   ],
   "source": [
    "int(False)"
   ]
  },
  {
   "cell_type": "code",
   "execution_count": 18,
   "metadata": {},
   "outputs": [
    {
     "data": {
      "text/plain": [
       "1.0"
      ]
     },
     "execution_count": 18,
     "metadata": {},
     "output_type": "execute_result"
    }
   ],
   "source": [
    "float(True)"
   ]
  },
  {
   "cell_type": "code",
   "execution_count": 19,
   "metadata": {},
   "outputs": [
    {
     "data": {
      "text/plain": [
       "0.0"
      ]
     },
     "execution_count": 19,
     "metadata": {},
     "output_type": "execute_result"
    }
   ],
   "source": [
    "float(False)"
   ]
  },
  {
   "cell_type": "code",
   "execution_count": 20,
   "metadata": {},
   "outputs": [
    {
     "data": {
      "text/plain": [
       "'True'"
      ]
     },
     "execution_count": 20,
     "metadata": {},
     "output_type": "execute_result"
    }
   ],
   "source": [
    "str(True)"
   ]
  },
  {
   "cell_type": "code",
   "execution_count": 21,
   "metadata": {},
   "outputs": [
    {
     "data": {
      "text/plain": [
       "'1'"
      ]
     },
     "execution_count": 21,
     "metadata": {},
     "output_type": "execute_result"
    }
   ],
   "source": [
    "str(True * 1)"
   ]
  },
  {
   "cell_type": "code",
   "execution_count": 22,
   "metadata": {},
   "outputs": [
    {
     "name": "stdout",
     "output_type": "stream",
     "text": [
      "str(1) != str(True)  True\n",
      "str(0) != str(False) True\n"
     ]
    }
   ],
   "source": [
    "# True acts like  1 and False acts like 0 during\n",
    "# arithmetic/relational/conditional operations\n",
    "print(\"str(1) != str(True) \", str(1) != str(True))\n",
    "print(\"str(0) != str(False)\", str(0) != str(False))"
   ]
  },
  {
   "cell_type": "code",
   "execution_count": 23,
   "metadata": {},
   "outputs": [
    {
     "name": "stdout",
     "output_type": "stream",
     "text": [
      "str(True * 1) == str(1) True\n"
     ]
    }
   ],
   "source": [
    "print(\"str(True * 1) == str(1)\", str(True * 1) == str(1))"
   ]
  },
  {
   "cell_type": "code",
   "execution_count": 24,
   "metadata": {},
   "outputs": [
    {
     "ename": "TypeError",
     "evalue": "unsupported operand type(s) for +: 'bool' and 'str'",
     "output_type": "error",
     "traceback": [
      "\u001b[0;31m---------------------------------------------------------------------------\u001b[0m",
      "\u001b[0;31mTypeError\u001b[0m                                 Traceback (most recent call last)",
      "Cell \u001b[0;32mIn[24], line 1\u001b[0m\n\u001b[0;32m----> 1\u001b[0m \u001b[39mTrue\u001b[39;49;00m \u001b[39m+\u001b[39;49m \u001b[39m\"\u001b[39;49m\u001b[39m1\u001b[39;49m\u001b[39m\"\u001b[39;49m\n",
      "\u001b[0;31mTypeError\u001b[0m: unsupported operand type(s) for +: 'bool' and 'str'"
     ]
    }
   ],
   "source": [
    "True + \"1\""
   ]
  },
  {
   "cell_type": "code",
   "execution_count": 25,
   "metadata": {},
   "outputs": [
    {
     "name": "stdout",
     "output_type": "stream",
     "text": [
      "True1\n",
      "2\n",
      "2\n"
     ]
    }
   ],
   "source": [
    "print(str(True) + \"1\")\n",
    "print(True + int(\"1\"))\n",
    "print(True + bool(\"1\"))"
   ]
  },
  {
   "cell_type": "markdown",
   "metadata": {},
   "source": [
    "## bool() built-in function\n",
    "\n",
    "    Number  - int & float\n",
    "    Strings\n",
    "    None\n",
    "    boolean\n",
    "    braces"
   ]
  },
  {
   "cell_type": "code",
   "execution_count": 26,
   "metadata": {},
   "outputs": [
    {
     "name": "stdout",
     "output_type": "stream",
     "text": [
      "bool(12)           True\n",
      "bool(-12)          True\n",
      "bool(0)            False\n"
     ]
    }
   ],
   "source": [
    "# bool()\n",
    "# integer type (int and float)\n",
    "#       zero     - False\n",
    "#       non-zero - True\n",
    "print(\"bool(12)          \", bool(12))\n",
    "print(\"bool(-12)         \", bool(-12))\n",
    "print(\"bool(0)           \", bool(0))"
   ]
  },
  {
   "cell_type": "code",
   "execution_count": 27,
   "metadata": {},
   "outputs": [
    {
     "name": "stdout",
     "output_type": "stream",
     "text": [
      "bool(0.00000000)   False\n",
      "bool(0.000000001)  True\n",
      "bool(-0.000000001) True\n"
     ]
    }
   ],
   "source": [
    "print(\"bool(0.00000000)  \", bool(0.00000000))\n",
    "print(\"bool(0.000000001) \", bool(0.000000001))\n",
    "print(\"bool(-0.000000001)\", bool(-0.000000001))"
   ]
  },
  {
   "cell_type": "code",
   "execution_count": 28,
   "metadata": {},
   "outputs": [
    {
     "name": "stdout",
     "output_type": "stream",
     "text": [
      "bool('ball')      True\n",
      "bool(' ')         True\n",
      "bool('')          False\n"
     ]
    }
   ],
   "source": [
    "# strings\n",
    "#  True - non-empty string\n",
    "#  False - empty string\n",
    "print(\"bool('ball')     \", bool(\"ball\"))\n",
    "print(\"bool(' ')        \", bool(\" \"))  # white-space\n",
    "print(\"bool('')         \", bool(\"\"))  # empty string"
   ]
  },
  {
   "cell_type": "code",
   "execution_count": 29,
   "metadata": {},
   "outputs": [
    {
     "name": "stdout",
     "output_type": "stream",
     "text": [
      "bool(None)        False\n"
     ]
    }
   ],
   "source": [
    "# None -> False\n",
    "print(\"bool(None)       \", bool(None))"
   ]
  },
  {
   "cell_type": "code",
   "execution_count": 30,
   "metadata": {},
   "outputs": [
    {
     "name": "stdout",
     "output_type": "stream",
     "text": [
      "bool(True)        True\n",
      "bool(False)       False\n"
     ]
    }
   ],
   "source": [
    "# bool - True, False\n",
    "print(\"bool(True)       \", bool(True))\n",
    "print(\"bool(False)      \", bool(False))"
   ]
  },
  {
   "cell_type": "code",
   "execution_count": 31,
   "metadata": {},
   "outputs": [
    {
     "name": "stdout",
     "output_type": "stream",
     "text": [
      "(1)               True\n",
      "(1,)              True\n",
      "[1]               True\n",
      "{1}               True\n",
      "{1:2}             True\n"
     ]
    }
   ],
   "source": [
    "# braces\n",
    "# [], (), {}\n",
    "print(\"(1)              \", bool((1)))\n",
    "print(\"(1,)             \", bool((1,)))\n",
    "print(\"[1]              \", bool([1]))\n",
    "print(\"{1}              \", bool({1}))\n",
    "print(\"{1:2}            \", bool({1: 2}))"
   ]
  },
  {
   "cell_type": "code",
   "execution_count": 32,
   "metadata": {},
   "outputs": [
    {
     "name": "stdout",
     "output_type": "stream",
     "text": [
      "()                False\n",
      "[]                False\n",
      "{}                False\n"
     ]
    }
   ],
   "source": [
    "print(\"()               \", bool(()))\n",
    "print(\"[]               \", bool([]))\n",
    "print(\"{}               \", bool({}))"
   ]
  },
  {
   "cell_type": "code",
   "execution_count": 33,
   "metadata": {},
   "outputs": [
    {
     "name": "stdout",
     "output_type": "stream",
     "text": [
      "74 > 59            True\n",
      "bool(74 > 59)      True\n"
     ]
    }
   ],
   "source": [
    "# Relational operations -> Boolean result -> bool()\n",
    "print(\"74 > 59           \", 74 > 59)\n",
    "print(\"bool(74 > 59)     \", bool(74 > 59))"
   ]
  },
  {
   "cell_type": "code",
   "execution_count": 34,
   "metadata": {},
   "outputs": [
    {
     "name": "stdout",
     "output_type": "stream",
     "text": [
      "74 <= 59           False\n",
      "bool(74 <= 59)     False\n"
     ]
    }
   ],
   "source": [
    "print(\"74 <= 59          \", 74 <= 59)\n",
    "print(\"bool(74 <= 59)    \", bool(74 <= 59))"
   ]
  },
  {
   "cell_type": "code",
   "execution_count": 35,
   "metadata": {},
   "outputs": [
    {
     "name": "stdout",
     "output_type": "stream",
     "text": [
      "1 < 2 and 23 <=23        True\n",
      "bool(1 < 2 and 23 <=23)  True\n"
     ]
    }
   ],
   "source": [
    "# Logical operations -> Boolean result -> bool()\n",
    "print(\"1 < 2 and 23 <=23       \", 1 < 2 and 23 <= 23)\n",
    "#                                  True and  True    = True\n",
    "print(\"bool(1 < 2 and 23 <=23) \", bool(1 < 2 and 23 <= 23))"
   ]
  },
  {
   "cell_type": "markdown",
   "metadata": {},
   "source": [
    "### Realtime usage"
   ]
  },
  {
   "cell_type": "code",
   "execution_count": 36,
   "metadata": {},
   "outputs": [
    {
     "name": "stdout",
     "output_type": "stream",
     "text": [
      "bool(name)       =  True\n",
      "bool(name != '') =  True\n"
     ]
    }
   ],
   "source": [
    "name = \"Udhay\"\n",
    "print(\"bool(name)       = \", bool(name))\n",
    "print(\"bool(name != '') = \", bool(name != \"\"))"
   ]
  },
  {
   "cell_type": "code",
   "execution_count": 37,
   "metadata": {},
   "outputs": [
    {
     "name": "stdout",
     "output_type": "stream",
     "text": [
      "bool(num1)        True\n",
      "bool(num1 != 0)   True\n"
     ]
    }
   ],
   "source": [
    "num1 = -0.000000056\n",
    "print(\"bool(num1)       \", bool(num1))\n",
    "print(\"bool(num1 != 0)  \", bool(num1 != 0))"
   ]
  },
  {
   "cell_type": "code",
   "execution_count": 38,
   "metadata": {},
   "outputs": [
    {
     "name": "stdout",
     "output_type": "stream",
     "text": [
      "It is non-zero\n"
     ]
    }
   ],
   "source": [
    "# explicit condition\n",
    "if num1 != 0:  # => bool(num1 != 0) => bool(True) = True\n",
    "    print(\"It is non-zero\")"
   ]
  },
  {
   "cell_type": "code",
   "execution_count": 39,
   "metadata": {},
   "outputs": [
    {
     "name": "stdout",
     "output_type": "stream",
     "text": [
      "It is non-zero\n"
     ]
    }
   ],
   "source": [
    "# Implicit condition\n",
    "if num1:  # => bool(num1 != 0) => bool(True) => True\n",
    "    print(\"It is non-zero\")"
   ]
  },
  {
   "cell_type": "code",
   "execution_count": 40,
   "metadata": {},
   "outputs": [
    {
     "name": "stdout",
     "output_type": "stream",
     "text": [
      "It will print everytime\n"
     ]
    }
   ],
   "source": [
    "if 1:\n",
    "    print(\"It will print everytime\")"
   ]
  },
  {
   "cell_type": "code",
   "execution_count": 41,
   "metadata": {},
   "outputs": [],
   "source": [
    "if 0:\n",
    "    print(\"It will not print everytime\")"
   ]
  },
  {
   "cell_type": "code",
   "execution_count": 42,
   "metadata": {},
   "outputs": [
    {
     "name": "stdout",
     "output_type": "stream",
     "text": [
      "It will print everytime\n"
     ]
    }
   ],
   "source": [
    "if not 0:  # bool(not 0)\n",
    "    print(\"It will print everytime\")"
   ]
  },
  {
   "cell_type": "code",
   "execution_count": 44,
   "metadata": {},
   "outputs": [
    {
     "name": "stdout",
     "output_type": "stream",
     "text": [
      "NAME =  jhjh\n"
     ]
    }
   ],
   "source": [
    "name = input(\"Enter name = \")\n",
    "if name:  # => name != \"\"  => bool(name != \"\") => True\n",
    "    print(\"NAME = \", name)"
   ]
  },
  {
   "cell_type": "code",
   "execution_count": 45,
   "metadata": {},
   "outputs": [
    {
     "name": "stdout",
     "output_type": "stream",
     "text": [
      "bool(num2)        False\n",
      "bool(num2 != 0)   False\n"
     ]
    }
   ],
   "source": [
    "num2 = (\n",
    "    -0.000000000000000000000000000000000000000000000000000000000000000000000000000000000000000000000000000000000000\n",
    ")\n",
    "print(\"bool(num2)       \", bool(num2))\n",
    "print(\"bool(num2 != 0)  \", bool(num2 != 0))"
   ]
  },
  {
   "cell_type": "code",
   "execution_count": 46,
   "metadata": {},
   "outputs": [
    {
     "data": {
      "text/plain": [
       "-0.0"
      ]
     },
     "execution_count": 46,
     "metadata": {},
     "output_type": "execute_result"
    }
   ],
   "source": [
    "num2"
   ]
  },
  {
   "cell_type": "code",
   "execution_count": 47,
   "metadata": {},
   "outputs": [
    {
     "name": "stdout",
     "output_type": "stream",
     "text": [
      "It is zero \n",
      "It is zero \n"
     ]
    }
   ],
   "source": [
    "if num2 != 0:  # => bool(num2 != 0) => bool(False) => False\n",
    "    print(\"It is non-zero\")\n",
    "\n",
    "if num2:  # => bool(num2 != 0) => bool(False) => False\n",
    "    print(\"It is non-zero\")\n",
    "\n",
    "if not num2 != 0:\n",
    "    print(\"It is zero \")\n",
    "\n",
    "if (\n",
    "    not num2\n",
    "):  # => bool(not num2) => bool( not num2 != 0) => bool(not False) => bool(True) => True\n",
    "    print(\"It is zero \")"
   ]
  },
  {
   "cell_type": "code",
   "execution_count": null,
   "metadata": {},
   "outputs": [],
   "source": [
    "x = None\n",
    "\n",
    "# Method 1\n",
    "if x is None:\n",
    "    x = \"default\"\n",
    "\n",
    "# Method 2 - Short circuiting\n",
    "x = x or \"default\"\n",
    "\n",
    "# Method 3 - ternary operation\n",
    "x = x if x else \"default\""
   ]
  }
 ],
 "metadata": {
  "kernelspec": {
   "display_name": "Python 3",
   "language": "python",
   "name": "python3"
  },
  "language_info": {
   "codemirror_mode": {
    "name": "ipython",
    "version": 3
   },
   "file_extension": ".py",
   "mimetype": "text/x-python",
   "name": "python",
   "nbconvert_exporter": "python",
   "pygments_lexer": "ipython3",
   "version": "3.10.4"
  },
  "orig_nbformat": 4
 },
 "nbformat": 4,
 "nbformat_minor": 2
}
