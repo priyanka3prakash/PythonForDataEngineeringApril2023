{
 "cells": [
  {
   "cell_type": "markdown",
   "metadata": {},
   "source": [
    "## Relational Operations\n",
    "    - These operations will result in a boolean value (True or False)\n",
    "\n",
    "     <  lesser\n",
    "     >  greater\n",
    "     == equal to\n",
    "     <= less than or equal to\n",
    "     >= greater than or equal to\n",
    "     != not equal to\n",
    "     <> not equal to  ( in python 2 only)"
   ]
  },
  {
   "cell_type": "code",
   "execution_count": 1,
   "metadata": {},
   "outputs": [
    {
     "name": "stdout",
     "output_type": "stream",
     "text": [
      "us_dollar =  86\n",
      "canadian_dollar =  50\n",
      "us_dollar = 86\n",
      "canadian_dollar = 50\n",
      "us_dollar =86\n",
      "canadian_dollar =50\n"
     ]
    }
   ],
   "source": [
    "us_dollar = 86\n",
    "canadian_dollar = 50\n",
    "\n",
    "\n",
    "print(\"us_dollar = \", us_dollar)\n",
    "print(\"canadian_dollar = \", canadian_dollar)\n",
    "\n",
    "print(f\"us_dollar = {us_dollar}\")\n",
    "print(f\"canadian_dollar = {canadian_dollar}\")\n",
    "\n",
    "print(f\"{us_dollar =}\")\n",
    "print(f\"{canadian_dollar =}\")"
   ]
  },
  {
   "cell_type": "code",
   "execution_count": 2,
   "metadata": {},
   "outputs": [
    {
     "name": "stdout",
     "output_type": "stream",
     "text": [
      "us_dollar == canadian_dollar: False\n"
     ]
    }
   ],
   "source": [
    "print(\"us_dollar == canadian_dollar:\", us_dollar == canadian_dollar)"
   ]
  },
  {
   "cell_type": "code",
   "execution_count": 3,
   "metadata": {},
   "outputs": [
    {
     "name": "stdout",
     "output_type": "stream",
     "text": [
      "us_dollar == canadian_dollar = False\n"
     ]
    }
   ],
   "source": [
    "print(f\"{us_dollar == canadian_dollar = }\")"
   ]
  },
  {
   "cell_type": "code",
   "execution_count": 4,
   "metadata": {},
   "outputs": [
    {
     "name": "stdout",
     "output_type": "stream",
     "text": [
      "us_dollar > canadian_dollar  = True\n",
      "us_dollar >= canadian_dollar = True\n",
      "us_dollar < canadian_dollar  = False\n",
      "us_dollar <= canadian_dollar = False\n",
      "us_dollar != canadian_dollar = True\n"
     ]
    }
   ],
   "source": [
    "print(f\"{us_dollar > canadian_dollar  = }\")\n",
    "print(f\"{us_dollar >= canadian_dollar = }\")\n",
    "print(f\"{us_dollar < canadian_dollar  = }\")\n",
    "print(f\"{us_dollar <= canadian_dollar = }\")\n",
    "print(f\"{us_dollar != canadian_dollar = }\")"
   ]
  },
  {
   "cell_type": "code",
   "execution_count": 5,
   "metadata": {},
   "outputs": [
    {
     "ename": "SyntaxError",
     "evalue": "invalid syntax (3459043457.py, line 1)",
     "output_type": "error",
     "traceback": [
      "\u001b[0;36m  Cell \u001b[0;32mIn[5], line 1\u001b[0;36m\u001b[0m\n\u001b[0;31m    us_dollar <> canadian_dollar  # Python 2.x\u001b[0m\n\u001b[0m              ^\u001b[0m\n\u001b[0;31mSyntaxError\u001b[0m\u001b[0;31m:\u001b[0m invalid syntax\n"
     ]
    }
   ],
   "source": [
    "us_dollar <> canadian_dollar  # Python 2.x"
   ]
  },
  {
   "cell_type": "code",
   "execution_count": 6,
   "metadata": {},
   "outputs": [
    {
     "name": "stdout",
     "output_type": "stream",
     "text": [
      "74 == 50 =False\n",
      "74 != 50 =True\n",
      "74 >  50 =True\n",
      "74 >= 50 =True\n",
      "74 <  50 =False\n",
      "74 <= 50 =False\n"
     ]
    }
   ],
   "source": [
    "print(f\"{74 == 50 =}\")\n",
    "print(f\"{74 != 50 =}\")\n",
    "print(f\"{74 >  50 =}\")\n",
    "print(f\"{74 >= 50 =}\")\n",
    "print(f\"{74 <  50 =}\")\n",
    "print(f\"{74 <= 50 =}\")"
   ]
  },
  {
   "cell_type": "markdown",
   "metadata": {},
   "source": [
    "### Gotcha"
   ]
  },
  {
   "cell_type": "code",
   "execution_count": 7,
   "metadata": {},
   "outputs": [
    {
     "data": {
      "text/plain": [
       "True"
      ]
     },
     "execution_count": 7,
     "metadata": {},
     "output_type": "execute_result"
    }
   ],
   "source": [
    "# == value-level equivalence check\n",
    "# = assignment operator\n",
    "\n",
    "num1 = 34    # Assignment\n",
    "\n",
    "num1 == 34   # value check "
   ]
  },
  {
   "cell_type": "code",
   "execution_count": 8,
   "metadata": {},
   "outputs": [
    {
     "data": {
      "text/plain": [
       "False"
      ]
     },
     "execution_count": 8,
     "metadata": {},
     "output_type": "execute_result"
    }
   ],
   "source": [
    "num1 == 34\n",
    "34 == num1\n",
    "34 == 34\n",
    "34 == 67"
   ]
  },
  {
   "cell_type": "code",
   "execution_count": 9,
   "metadata": {},
   "outputs": [
    {
     "ename": "SyntaxError",
     "evalue": "cannot assign to literal here. Maybe you meant '==' instead of '='? (2060401993.py, line 4)",
     "output_type": "error",
     "traceback": [
      "\u001b[0;36m  Cell \u001b[0;32mIn[9], line 4\u001b[0;36m\u001b[0m\n\u001b[0;31m    34 = num2\u001b[0m\n\u001b[0m    ^\u001b[0m\n\u001b[0;31mSyntaxError\u001b[0m\u001b[0;31m:\u001b[0m cannot assign to literal here. Maybe you meant '==' instead of '='?\n"
     ]
    }
   ],
   "source": [
    "num1 = 34\n",
    "num2 = num1\n",
    "\n",
    "34 = num2"
   ]
  },
  {
   "cell_type": "code",
   "execution_count": 10,
   "metadata": {},
   "outputs": [
    {
     "data": {
      "text/plain": [
       "True"
      ]
     },
     "execution_count": 10,
     "metadata": {},
     "output_type": "execute_result"
    }
   ],
   "source": [
    "12 < 34"
   ]
  },
  {
   "cell_type": "code",
   "execution_count": 11,
   "metadata": {},
   "outputs": [
    {
     "data": {
      "text/plain": [
       "True"
      ]
     },
     "execution_count": 11,
     "metadata": {},
     "output_type": "execute_result"
    }
   ],
   "source": [
    "12 < 34 < 45"
   ]
  },
  {
   "cell_type": "code",
   "execution_count": 12,
   "metadata": {},
   "outputs": [
    {
     "data": {
      "text/plain": [
       "True"
      ]
     },
     "execution_count": 12,
     "metadata": {},
     "output_type": "execute_result"
    }
   ],
   "source": [
    "12 < 34 < 45 < 56 < 67 < 78 < 90"
   ]
  },
  {
   "cell_type": "code",
   "execution_count": 13,
   "metadata": {},
   "outputs": [
    {
     "data": {
      "text/plain": [
       "False"
      ]
     },
     "execution_count": 13,
     "metadata": {},
     "output_type": "execute_result"
    }
   ],
   "source": [
    "12 < 34 < 45 < 56 < 167 < 78 < 90"
   ]
  },
  {
   "cell_type": "code",
   "execution_count": null,
   "metadata": {},
   "outputs": [],
   "source": []
  }
 ],
 "metadata": {
  "kernelspec": {
   "display_name": "Python 3",
   "language": "python",
   "name": "python3"
  },
  "language_info": {
   "codemirror_mode": {
    "name": "ipython",
    "version": 3
   },
   "file_extension": ".py",
   "mimetype": "text/x-python",
   "name": "python",
   "nbconvert_exporter": "python",
   "pygments_lexer": "ipython3",
   "version": "3.10.4"
  },
  "orig_nbformat": 4
 },
 "nbformat": 4,
 "nbformat_minor": 2
}
