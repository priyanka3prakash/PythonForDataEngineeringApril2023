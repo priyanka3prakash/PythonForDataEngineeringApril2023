{
 "cells": [
  {
   "cell_type": "markdown",
   "metadata": {},
   "source": [
    "## Assignment Expression (OR) Walrus Operator\n",
    "\n",
    "Introducted in python 3.8\n",
    "\n",
    "PEP 572 describes all the details of assignment expressions\n",
    "\n",
    "In simple words, It will combine assignment + some expressionm"
   ]
  },
  {
   "cell_type": "code",
   "execution_count": 1,
   "metadata": {},
   "outputs": [
    {
     "name": "stdout",
     "output_type": "stream",
     "text": [
      "value1 =  100\n"
     ]
    }
   ],
   "source": [
    "# Example Usage Case 1\n",
    "value1 = 100\n",
    "print(\"value1 = \", value1)"
   ]
  },
  {
   "cell_type": "code",
   "execution_count": 2,
   "metadata": {},
   "outputs": [
    {
     "name": "stdout",
     "output_type": "stream",
     "text": [
      "value2 =  200\n"
     ]
    }
   ],
   "source": [
    "print(\"value2 = \", value2 := 200)"
   ]
  },
  {
   "cell_type": "code",
   "execution_count": 3,
   "metadata": {},
   "outputs": [],
   "source": [
    "# val1 = 100\n",
    "# val2 = val1\n",
    "\n",
    "# val2 = val1 := 100"
   ]
  },
  {
   "cell_type": "code",
   "execution_count": 5,
   "metadata": {},
   "outputs": [
    {
     "name": "stdout",
     "output_type": "stream",
     "text": [
      "Num is ODD\n",
      "Num is ODD\n"
     ]
    }
   ],
   "source": [
    "# Example Usage Case 2\n",
    "num1 = 123\n",
    "if num1 % 2:\n",
    "    print(\"Num is ODD\")\n",
    "\n",
    "\n",
    "if (num1 := 123) % 2:\n",
    "    print(\"Num is ODD\")"
   ]
  },
  {
   "cell_type": "code",
   "execution_count": 6,
   "metadata": {},
   "outputs": [
    {
     "name": "stdout",
     "output_type": "stream",
     "text": [
      "Num is ODD\n",
      "Num is ODD\n"
     ]
    }
   ],
   "source": [
    "# Example Usage Case 3\n",
    "num1 = int(input(\"num1 = \"))\n",
    "if num1 % 2:\n",
    "    print(\"Num is ODD\")\n",
    "\n",
    "if (num1 := int(input(\"num1 = \"))) % 2:\n",
    "    print(\"Num is ODD\")"
   ]
  },
  {
   "cell_type": "code",
   "execution_count": 7,
   "metadata": {},
   "outputs": [
    {
     "name": "stdout",
     "output_type": "stream",
     "text": [
      "List is too long (4 elements, expected <= 3)\n",
      "List is too long (4 elements, expected <= 3)\n"
     ]
    }
   ],
   "source": [
    "# Example Usage Case 4\n",
    "a = [1, 2, 3, 4]\n",
    "n = len(a)\n",
    "if n > 3:\n",
    "    print(f\"List is too long ({n} elements, expected <= 3)\")\n",
    "\n",
    "\n",
    "a = [1, 2, 3, 4]\n",
    "if (n := len(a)) > 3:\n",
    "    print(f\"List is too long ({n} elements, expected <= 3)\")"
   ]
  },
  {
   "cell_type": "code",
   "execution_count": 8,
   "metadata": {},
   "outputs": [],
   "source": [
    "# loops\n",
    "\n",
    "while True:  # Loop\n",
    "    command = input(\"> \")\n",
    "    if command == \"exit\":  # And a half\n",
    "        break\n",
    "    print(\"Your command was:\", command)\n",
    "\n",
    "# ---------------------\n",
    "# Cleaner\n",
    "while (command := input(\"> \")) != \"exit\":\n",
    "    print(\"Your command was:\", command)"
   ]
  },
  {
   "cell_type": "code",
   "execution_count": null,
   "metadata": {},
   "outputs": [],
   "source": []
  }
 ],
 "metadata": {
  "kernelspec": {
   "display_name": "Python 3",
   "language": "python",
   "name": "python3"
  },
  "language_info": {
   "codemirror_mode": {
    "name": "ipython",
    "version": 3
   },
   "file_extension": ".py",
   "mimetype": "text/x-python",
   "name": "python",
   "nbconvert_exporter": "python",
   "pygments_lexer": "ipython3",
   "version": "3.10.4"
  },
  "orig_nbformat": 4
 },
 "nbformat": 4,
 "nbformat_minor": 2
}
