{
 "cells": [
  {
   "cell_type": "code",
   "execution_count": 1,
   "metadata": {},
   "outputs": [
    {
     "name": "stdout",
     "output_type": "stream",
     "text": [
      " \n",
      "    Season.SPRING =1\n",
      "    Season.SUMMER =2\n",
      "    Season.AUTUMN =3\n",
      "    Season.WINTER =4\n",
      "\n"
     ]
    }
   ],
   "source": [
    "class Season:\n",
    "    SPRING = 1\n",
    "    SUMMER = 2\n",
    "    AUTUMN = 3\n",
    "    WINTER = 4\n",
    "\n",
    "\n",
    "print(\n",
    "    f\"\"\" \n",
    "    {Season.SPRING =}\n",
    "    {Season.SUMMER =}\n",
    "    {Season.AUTUMN =}\n",
    "    {Season.WINTER =}\n",
    "\"\"\"\n",
    ")"
   ]
  },
  {
   "cell_type": "code",
   "execution_count": 2,
   "metadata": {},
   "outputs": [
    {
     "name": "stdout",
     "output_type": "stream",
     "text": [
      "The enum member associated with value 2 is :  SUMMER\n",
      "The enum member associated with name AUTUMN is :  3\n"
     ]
    }
   ],
   "source": [
    "from enum import Enum\n",
    "\n",
    "\n",
    "class Season(Enum):\n",
    "    SPRING = 1\n",
    "    SUMMER = 2\n",
    "    AUTUMN = 3\n",
    "    WINTER = 4\n",
    "\n",
    "\n",
    "# Accessing enum member using value\n",
    "print(\"The enum member associated with value 2 is : \", Season(2).name)\n",
    "\n",
    "# Accessing enum member using name\n",
    "print(\"The enum member associated with name AUTUMN is : \", Season[\"AUTUMN\"].value)"
   ]
  },
  {
   "cell_type": "code",
   "execution_count": 3,
   "metadata": {},
   "outputs": [
    {
     "data": {
      "text/plain": [
       "(<Season.SPRING: 1>, <Season.SPRING: 1>)"
      ]
     },
     "execution_count": 3,
     "metadata": {},
     "output_type": "execute_result"
    }
   ],
   "source": [
    "Season.SPRING, Season[\"SPRING\"]"
   ]
  },
  {
   "cell_type": "code",
   "execution_count": 4,
   "metadata": {},
   "outputs": [
    {
     "data": {
      "text/plain": [
       "(<enum 'Season'>, True)"
      ]
     },
     "execution_count": 4,
     "metadata": {},
     "output_type": "execute_result"
    }
   ],
   "source": [
    "type(Season.SPRING), isinstance(Season.SPRING, Season)"
   ]
  },
  {
   "cell_type": "code",
   "execution_count": 5,
   "metadata": {},
   "outputs": [],
   "source": [
    "assert Season.AUTUMN != 3\n",
    "# assert int(Season.AUTUMN) != 3  # TypeError: int() argument must be a string, a bytes-like object or a real number, not 'Season'\n",
    "assert Season.AUTUMN.value == 3"
   ]
  },
  {
   "cell_type": "code",
   "execution_count": 6,
   "metadata": {},
   "outputs": [
    {
     "data": {
      "text/plain": [
       "[<Season.SPRING: 1>,\n",
       " <Season.SUMMER: 2>,\n",
       " <Season.AUTUMN: 3>,\n",
       " <Season.WINTER: 4>]"
      ]
     },
     "execution_count": 6,
     "metadata": {},
     "output_type": "execute_result"
    }
   ],
   "source": [
    "list(Season)"
   ]
  },
  {
   "cell_type": "code",
   "execution_count": 7,
   "metadata": {},
   "outputs": [],
   "source": [
    "assert list(Season) != [1, 2, 3, 4]\n",
    "assert [season for season in Season] != [1, 2, 3, 4]\n",
    "assert [season.value for season in Season] == [1, 2, 3, 4]"
   ]
  },
  {
   "cell_type": "code",
   "execution_count": 8,
   "metadata": {},
   "outputs": [
    {
     "data": {
      "text/plain": [
       "<Season.WINTER: 4>"
      ]
     },
     "execution_count": 8,
     "metadata": {},
     "output_type": "execute_result"
    }
   ],
   "source": [
    "import random\n",
    "\n",
    "random.choice(list(Season))"
   ]
  },
  {
   "cell_type": "markdown",
   "metadata": {},
   "source": [
    "### Functional Syntax"
   ]
  },
  {
   "cell_type": "code",
   "execution_count": 9,
   "metadata": {},
   "outputs": [
    {
     "name": "stdout",
     "output_type": "stream",
     "text": [
      "<enum 'Season'>\n"
     ]
    }
   ],
   "source": [
    "class Season(Enum):  # class Syntax\n",
    "    SPRING = 1\n",
    "    SUMMER = 2\n",
    "    AUTUMN = 3\n",
    "    WINTER = 4\n",
    "\n",
    "\n",
    "# Functional Syntax of defining, the same\n",
    "Season = Enum(\"Season\", [\"SPRING\", \"SUMMER\", \"AUTUMN\", \"WINTER\"])\n",
    "print(Season)"
   ]
  },
  {
   "cell_type": "code",
   "execution_count": 10,
   "metadata": {},
   "outputs": [
    {
     "data": {
      "text/plain": [
       "[<Season.WINTER: 4>,\n",
       " <Season.AUTUMN: 3>,\n",
       " <Season.SUMMER: 2>,\n",
       " <Season.SPRING: 1>]"
      ]
     },
     "execution_count": 10,
     "metadata": {},
     "output_type": "execute_result"
    }
   ],
   "source": [
    "list(reversed(Season))"
   ]
  },
  {
   "cell_type": "markdown",
   "metadata": {},
   "source": [
    "### Enumerations are iterable. They can be iterated using loops"
   ]
  },
  {
   "cell_type": "code",
   "execution_count": 11,
   "metadata": {},
   "outputs": [
    {
     "name": "stdout",
     "output_type": "stream",
     "text": [
      "1 - Season.SPRING\n",
      "2 - Season.SUMMER\n",
      "3 - Season.AUTUMN\n",
      "4 - Season.WINTER\n"
     ]
    }
   ],
   "source": [
    "for each_season in Season:\n",
    "    print(each_season.value, \"-\", each_season)"
   ]
  },
  {
   "cell_type": "markdown",
   "metadata": {},
   "source": [
    "### Enumerations support hashing"
   ]
  },
  {
   "cell_type": "code",
   "execution_count": 12,
   "metadata": {},
   "outputs": [
    {
     "name": "stdout",
     "output_type": "stream",
     "text": [
      "Enum is hashed\n"
     ]
    }
   ],
   "source": [
    "# creating enumerations using class\n",
    "class Animal(Enum):\n",
    "    dog = 1\n",
    "    cat = 2\n",
    "    lion = 3\n",
    "\n",
    "\n",
    "# Hashing enum member as dictionary\n",
    "di = {}\n",
    "di[Animal.dog] = \"bark\"\n",
    "di[Animal.lion] = \"roar\"\n",
    "\n",
    "# checking if enum values are hashed successfully\n",
    "if di == {Animal.dog: \"bark\", Animal.lion: \"roar\"}:\n",
    "    print(\"Enum is hashed\")\n",
    "else:\n",
    "    print(\"Enum is not hashed\")"
   ]
  },
  {
   "cell_type": "markdown",
   "metadata": {},
   "source": [
    "### Enumerations support two types of comparisons\n",
    "\n",
    "    Identity:- These are checked using keywords “is” and “is not“.\n",
    "    Equality :- Equality comparisons of “==” and “!=” types are also supported."
   ]
  },
  {
   "cell_type": "code",
   "execution_count": 13,
   "metadata": {},
   "outputs": [
    {
     "name": "stdout",
     "output_type": "stream",
     "text": [
      "Dog and cat are different animals\n",
      "Lions and cat are different\n"
     ]
    }
   ],
   "source": [
    "# creating enumerations using class\n",
    "class Animal(Enum):\n",
    "    dog = 1\n",
    "    cat = 2\n",
    "    lion = 3\n",
    "\n",
    "\n",
    "# Comparison using \"is\"\n",
    "if Animal.dog is Animal.cat:\n",
    "    print(\"Dog and cat are same animals\")\n",
    "else:\n",
    "    print(\"Dog and cat are different animals\")\n",
    "\n",
    "# Comparison using \"!=\"\n",
    "if Animal.lion != Animal.cat:\n",
    "    print(\"Lions and cat are different\")\n",
    "else:\n",
    "    print(\"Lions and cat are same\")"
   ]
  },
  {
   "cell_type": "markdown",
   "metadata": {},
   "source": [
    "### enum.auto()"
   ]
  },
  {
   "cell_type": "code",
   "execution_count": 14,
   "metadata": {},
   "outputs": [
    {
     "name": "stdout",
     "output_type": "stream",
     "text": [
      "[<language.Java: 1>, <language.Python: 2>, <language.HTML: 3>]\n"
     ]
    }
   ],
   "source": [
    "from enum import Enum, auto\n",
    "\n",
    "\n",
    "class language(Enum):\n",
    "    Java = auto()\n",
    "    Python = auto()\n",
    "    HTML = auto()\n",
    "\n",
    "\n",
    "print(list(language))"
   ]
  },
  {
   "cell_type": "code",
   "execution_count": 15,
   "metadata": {},
   "outputs": [
    {
     "name": "stdout",
     "output_type": "stream",
     "text": [
      "[<language.Cpp: 1>, <language.JavaScript: 2>, <language.Java: 3>, <language.Python: 4>, <language.HTML: 5>]\n"
     ]
    }
   ],
   "source": [
    "class language(Enum):\n",
    "    Cpp = auto()\n",
    "    JavaScript = auto()\n",
    "    Java = auto()\n",
    "    Python = auto()\n",
    "    HTML = auto()\n",
    "\n",
    "\n",
    "print(list(language))"
   ]
  },
  {
   "cell_type": "code",
   "execution_count": 16,
   "metadata": {},
   "outputs": [
    {
     "name": "stdout",
     "output_type": "stream",
     "text": [
      "[<language.Cpp: (1, -2)>, <language.JavaScript: 2>, <language.Java: 3>, <language.Python: 4>, <language.HTML: 5>]\n"
     ]
    }
   ],
   "source": [
    "class language(Enum):\n",
    "    Cpp = auto(), -2\n",
    "    JavaScript = auto()\n",
    "    Java = auto()\n",
    "    Python = auto()\n",
    "    HTML = auto()\n",
    "\n",
    "\n",
    "print(list(language))"
   ]
  },
  {
   "cell_type": "code",
   "execution_count": 17,
   "metadata": {},
   "outputs": [
    {
     "name": "stdout",
     "output_type": "stream",
     "text": [
      "[<language.Cpp: 2>, <language.JavaScript: 3>, <language.Java: 4>, <language.Python: 5>, <language.HTML: 6>]\n"
     ]
    }
   ],
   "source": [
    "class language(Enum):\n",
    "    @staticmethod\n",
    "    def _generate_next_value_(name, start, count, last_values):\n",
    "        \"\"\"To change the numbering order\"\"\"\n",
    "        return count + 2\n",
    "\n",
    "    Cpp = auto()\n",
    "    JavaScript = auto()\n",
    "    Java = auto()\n",
    "    Python = auto()\n",
    "    HTML = auto()\n",
    "\n",
    "\n",
    "print(list(language))"
   ]
  },
  {
   "cell_type": "code",
   "execution_count": 18,
   "metadata": {},
   "outputs": [
    {
     "name": "stdout",
     "output_type": "stream",
     "text": [
      " \n",
      "            name ='Cpp'\n",
      "            start =1\n",
      "            count =0\n",
      "            last_values =[]\n",
      "        \n",
      " \n",
      "            name ='JavaScript'\n",
      "            start =1\n",
      "            count =1\n",
      "            last_values =[2]\n",
      "        \n",
      " \n",
      "            name ='Java'\n",
      "            start =1\n",
      "            count =2\n",
      "            last_values =[2, 3]\n",
      "        \n",
      " \n",
      "            name ='Python'\n",
      "            start =1\n",
      "            count =3\n",
      "            last_values =[2, 3, 4]\n",
      "        \n",
      " \n",
      "            name ='HTML'\n",
      "            start =1\n",
      "            count =4\n",
      "            last_values =[2, 3, 4, 5]\n",
      "        \n",
      "[<language.Cpp: 2>, <language.JavaScript: 3>, <language.Java: 4>, <language.Python: 5>, <language.HTML: 6>]\n"
     ]
    }
   ],
   "source": [
    "class language(Enum):\n",
    "    @staticmethod\n",
    "    def _generate_next_value_(name, start, count, last_values):\n",
    "        \"\"\"To change the numbering order\"\"\"\n",
    "        print(\n",
    "            f\"\"\" \n",
    "            {name =}\n",
    "            {start =}\n",
    "            {count =}\n",
    "            {last_values =}\n",
    "        \"\"\"\n",
    "        )\n",
    "        return count + 2\n",
    "\n",
    "    Cpp = auto()\n",
    "    JavaScript = auto()\n",
    "    Java = auto()\n",
    "    Python = auto()\n",
    "    HTML = auto()\n",
    "\n",
    "\n",
    "print(list(language))"
   ]
  },
  {
   "cell_type": "code",
   "execution_count": 19,
   "metadata": {},
   "outputs": [
    {
     "name": "stdout",
     "output_type": "stream",
     "text": [
      " \n",
      "    PowersOfThree.FIRST.value  =3\n",
      "    PowersOfThree.SECOND.value =6\n",
      "\n",
      "\n"
     ]
    }
   ],
   "source": [
    "from enum import auto\n",
    "\n",
    "\n",
    "class PowersOfThree(Enum):\n",
    "    @staticmethod\n",
    "    def _generate_next_value_(name, start, count, last_values):\n",
    "        \"\"\"To change the numbering order\"\"\"\n",
    "        return (count + 1) * 3\n",
    "\n",
    "    FIRST = auto()\n",
    "    SECOND = auto()\n",
    "\n",
    "\n",
    "print(\n",
    "    f\"\"\" \n",
    "    {PowersOfThree.FIRST.value  =}\n",
    "    {PowersOfThree.SECOND.value =}\n",
    "\n",
    "\"\"\"\n",
    ")"
   ]
  },
  {
   "cell_type": "markdown",
   "metadata": {},
   "source": [
    "### Enum Types"
   ]
  },
  {
   "cell_type": "code",
   "execution_count": 20,
   "metadata": {},
   "outputs": [
    {
     "name": "stdout",
     "output_type": "stream",
     "text": [
      "[<language.Cpp: 1>, <language.JavaScript: 2>, <language.Java: 3>, <language.Python: 4>, <language.HTML: 5>]\n",
      "5 <class 'int'>\n"
     ]
    }
   ],
   "source": [
    "class language(int, Enum):\n",
    "    Cpp = auto()\n",
    "    JavaScript = auto()\n",
    "    Java = auto()\n",
    "    Python = auto()\n",
    "    HTML = auto()\n",
    "\n",
    "\n",
    "print(list(language))\n",
    "\n",
    "result = language.Cpp + language.Python\n",
    "print(result, type(result))"
   ]
  },
  {
   "cell_type": "code",
   "execution_count": 21,
   "metadata": {},
   "outputs": [
    {
     "name": "stdout",
     "output_type": "stream",
     "text": [
      "[<language.Cpp: 1>, <language.JavaScript: 2>, <language.Java: 3>, <language.Python: 4>, <language.HTML: 5>]\n",
      "5 <class 'int'>\n"
     ]
    }
   ],
   "source": [
    "from enum import IntEnum\n",
    "\n",
    "\n",
    "class language(IntEnum):\n",
    "    Cpp = auto()\n",
    "    JavaScript = auto()\n",
    "    Java = auto()\n",
    "    Python = auto()\n",
    "    HTML = auto()\n",
    "\n",
    "\n",
    "print(list(language))\n",
    "\n",
    "result = language.Cpp + language.Python\n",
    "print(result, type(result))"
   ]
  },
  {
   "cell_type": "code",
   "execution_count": 22,
   "metadata": {},
   "outputs": [
    {
     "name": "stdout",
     "output_type": "stream",
     "text": [
      "[<language.Cpp: 'cpp'>, <language.JavaScript: 'javascript'>, <language.Java: 'java'>, <language.Python: 'python'>, <language.HTML: 'html'>]\n"
     ]
    }
   ],
   "source": [
    "from enum import StrEnum\n",
    "\n",
    "\n",
    "class language(StrEnum):\n",
    "    Cpp = auto()\n",
    "    JavaScript = auto()\n",
    "    Java = auto()\n",
    "    Python = auto()\n",
    "    HTML = auto()\n",
    "\n",
    "\n",
    "print(list(language))  # Here, values are same keys, in lowercase string"
   ]
  },
  {
   "cell_type": "code",
   "execution_count": 23,
   "metadata": {},
   "outputs": [
    {
     "name": "stdout",
     "output_type": "stream",
     "text": [
      "[<language.Cpp: '1'>, <language.JavaScript: '2'>, <language.Java: '3'>, <language.Python: '4'>, <language.HTML: '5'>]\n"
     ]
    }
   ],
   "source": [
    "class language(str, Enum):\n",
    "    Cpp = auto()\n",
    "    JavaScript = auto()\n",
    "    Java = auto()\n",
    "    Python = auto()\n",
    "    HTML = auto()\n",
    "\n",
    "\n",
    "print(list(language))  # Here, values are integers, as string"
   ]
  },
  {
   "cell_type": "markdown",
   "metadata": {},
   "source": [
    "### Sequence Check\n",
    "    - unique\n",
    "    - continous\n",
    "    - Named flags"
   ]
  },
  {
   "cell_type": "code",
   "execution_count": 24,
   "metadata": {},
   "outputs": [
    {
     "name": "stdout",
     "output_type": "stream",
     "text": [
      "duplicate values found in <enum 'Mistake'>: FOUR -> THREE\n"
     ]
    }
   ],
   "source": [
    "from enum import Enum, unique\n",
    "\n",
    "try:\n",
    "\n",
    "    @unique\n",
    "    class Mistake(Enum):\n",
    "        ONE = 1\n",
    "        TWO = 2\n",
    "        THREE = 3\n",
    "        FOUR = 3\n",
    "\n",
    "except ValueError as ve:\n",
    "    print(ve)"
   ]
  },
  {
   "cell_type": "code",
   "execution_count": 25,
   "metadata": {},
   "outputs": [
    {
     "name": "stdout",
     "output_type": "stream",
     "text": [
      "invalid enum 'Color': missing values 3, 4\n"
     ]
    }
   ],
   "source": [
    "from enum import Enum, verify, CONTINUOUS\n",
    "\n",
    "try:\n",
    "\n",
    "    @verify(CONTINUOUS)\n",
    "    class Color(Enum):\n",
    "        RED = 1\n",
    "        GREEN = 2\n",
    "        BLUE = 5\n",
    "\n",
    "except ValueError as ve:\n",
    "    print(ve)"
   ]
  },
  {
   "cell_type": "code",
   "execution_count": 26,
   "metadata": {},
   "outputs": [
    {
     "name": "stdout",
     "output_type": "stream",
     "text": [
      "invalid Flag 'Color': alias WHITE is missing combined values of 0x9 [use enum.show_flag_values(value) for details]\n"
     ]
    }
   ],
   "source": [
    "from enum import Flag, verify, NAMED_FLAGS\n",
    "\n",
    "try:\n",
    "\n",
    "    @verify(NAMED_FLAGS)\n",
    "    class Color(Flag):\n",
    "        RED = 0\n",
    "        GREEN = 2\n",
    "        BLUE = 4\n",
    "        WHITE = 9  # value is more than 2 difference\n",
    "        NEON = 6\n",
    "\n",
    "except ValueError as ve:\n",
    "    print(ve)"
   ]
  },
  {
   "cell_type": "markdown",
   "metadata": {},
   "source": [
    "### Boundary Check\n",
    "    - Strict\n",
    "    - conform\n",
    "    - Eject\n",
    "    - Keep"
   ]
  },
  {
   "cell_type": "code",
   "execution_count": 27,
   "metadata": {},
   "outputs": [
    {
     "data": {
      "text/plain": [
       "20"
      ]
     },
     "execution_count": 27,
     "metadata": {},
     "output_type": "execute_result"
    }
   ],
   "source": [
    "2**2 + 2**4"
   ]
  },
  {
   "cell_type": "code",
   "execution_count": 28,
   "metadata": {},
   "outputs": [
    {
     "name": "stdout",
     "output_type": "stream",
     "text": [
      "<flag 'StrictFlag'> invalid value 20\n",
      "    given 0b0 10100\n",
      "  allowed 0b0 00111\n"
     ]
    }
   ],
   "source": [
    "from enum import Flag, STRICT\n",
    "\n",
    "\n",
    "class StrictFlag(Flag, boundary=STRICT):\n",
    "    \"\"\"Out-of-range values cause a ValueError to be raised. This is the default for Flag\"\"\"\n",
    "\n",
    "    RED = auto()\n",
    "    GREEN = auto()\n",
    "    BLUE = auto()\n",
    "\n",
    "\n",
    "try:\n",
    "    StrictFlag(2**2 + 2**4)\n",
    "except ValueError as ve:\n",
    "    print(ve)"
   ]
  },
  {
   "cell_type": "code",
   "execution_count": 29,
   "metadata": {},
   "outputs": [
    {
     "data": {
      "text/plain": [
       "<ConformFlag.BLUE: 4>"
      ]
     },
     "execution_count": 29,
     "metadata": {},
     "output_type": "execute_result"
    }
   ],
   "source": [
    "from enum import Flag, CONFORM\n",
    "\n",
    "\n",
    "class ConformFlag(Flag, boundary=CONFORM):\n",
    "    \"\"\"Out-of-range values have invalid values removed, leaving a valid Flag value\"\"\"\n",
    "\n",
    "    RED = auto()\n",
    "    GREEN = auto()\n",
    "    BLUE = auto()\n",
    "\n",
    "\n",
    "ConformFlag(2**2 + 2**4)"
   ]
  },
  {
   "cell_type": "code",
   "execution_count": 30,
   "metadata": {},
   "outputs": [
    {
     "data": {
      "text/plain": [
       "20"
      ]
     },
     "execution_count": 30,
     "metadata": {},
     "output_type": "execute_result"
    }
   ],
   "source": [
    "from enum import Flag, EJECT\n",
    "\n",
    "\n",
    "class EjectFlag(Flag, boundary=EJECT):\n",
    "    \"\"\"Out-of-range values lose their Flag membership and revert to int. This is the default for IntFlag\"\"\"\n",
    "\n",
    "    RED = auto()\n",
    "    GREEN = auto()\n",
    "    BLUE = auto()\n",
    "\n",
    "\n",
    "EjectFlag(2**2 + 2**4)"
   ]
  },
  {
   "cell_type": "code",
   "execution_count": 31,
   "metadata": {},
   "outputs": [
    {
     "data": {
      "text/plain": [
       "<KeepFlag.BLUE|16: 20>"
      ]
     },
     "execution_count": 31,
     "metadata": {},
     "output_type": "execute_result"
    }
   ],
   "source": [
    "from enum import Flag, KEEP\n",
    "\n",
    "\n",
    "class KeepFlag(Flag, boundary=KEEP):\n",
    "    \"\"\"Out-of-range values are kept, and the Flag membership is kept. This is used for some stdlib flags\"\"\"\n",
    "\n",
    "    RED = auto()\n",
    "    GREEN = auto()\n",
    "    BLUE = auto()\n",
    "\n",
    "\n",
    "KeepFlag(2**2 + 2**4)"
   ]
  },
  {
   "cell_type": "markdown",
   "metadata": {},
   "source": [
    "#### Real-time Usecases"
   ]
  },
  {
   "cell_type": "code",
   "execution_count": 32,
   "metadata": {},
   "outputs": [],
   "source": [
    "from datetime import date\n",
    "\n",
    "\n",
    "class Weekday(Enum):\n",
    "    MONDAY = 1\n",
    "    TUESDAY = 2\n",
    "    WEDNESDAY = 3\n",
    "    THURSDAY = 4\n",
    "    FRIDAY = 5\n",
    "    SATURDAY = 6\n",
    "    SUNDAY = 7\n",
    "\n",
    "    @classmethod\n",
    "    def today(cls):\n",
    "        print(\"today is %s\" % cls(date.today().isoweekday()).name)"
   ]
  },
  {
   "cell_type": "code",
   "execution_count": 33,
   "metadata": {},
   "outputs": [
    {
     "name": "stdout",
     "output_type": "stream",
     "text": [
      "['FRIDAY', 'MONDAY', 'SATURDAY', 'SUNDAY', 'THURSDAY', 'TUESDAY', 'WEDNESDAY', '__class__', '__contains__', '__doc__', '__getitem__', '__init_subclass__', '__iter__', '__len__', '__members__', '__module__', '__name__', '__qualname__']\n"
     ]
    }
   ],
   "source": [
    "print(dir(Weekday))"
   ]
  },
  {
   "cell_type": "code",
   "execution_count": 34,
   "metadata": {},
   "outputs": [
    {
     "name": "stdout",
     "output_type": "stream",
     "text": [
      "['FRIDAY', 'MONDAY', 'SATURDAY', 'SUNDAY', 'THURSDAY', 'TUESDAY', 'WEDNESDAY', '__class__', '__doc__', '__eq__', '__hash__', '__module__', 'name', 'today', 'value']\n"
     ]
    }
   ],
   "source": [
    "print(dir(Weekday.SATURDAY))"
   ]
  },
  {
   "cell_type": "code",
   "execution_count": 35,
   "metadata": {},
   "outputs": [
    {
     "name": "stdout",
     "output_type": "stream",
     "text": [
      "today is SUNDAY\n",
      " \n",
      "    Weekday.SATURDAY.name  ='SATURDAY'\n",
      "    Weekday.SATURDAY.today() =None\n",
      "    Weekday.SATURDAY.value =6\n",
      "\n",
      "\n"
     ]
    }
   ],
   "source": [
    "print(\n",
    "    f\"\"\" \n",
    "    {Weekday.SATURDAY.name  =}\n",
    "    {Weekday.SATURDAY.today() =}\n",
    "    {Weekday.SATURDAY.value =}\n",
    "\n",
    "\"\"\"\n",
    ")"
   ]
  },
  {
   "cell_type": "markdown",
   "metadata": {},
   "source": [
    "### Flags Usage"
   ]
  },
  {
   "cell_type": "code",
   "execution_count": 36,
   "metadata": {},
   "outputs": [
    {
     "name": "stdout",
     "output_type": "stream",
     "text": [
      " \n",
      "    Color.RED                              =<Color.RED: 1>\n",
      "    Color.GREEN                            =<Color.GREEN: 2>\n",
      "    Color.BLUE                             =<Color.BLUE: 4>\n",
      "\n",
      "    Color.RED | Color.BLUE                 =<Color.RED|BLUE: 5>\n",
      "    Color.RED | Color.GREEN | Color.BLUE   =<Color.RED|GREEN|BLUE: 7>\n",
      "\n"
     ]
    }
   ],
   "source": [
    "from enum import Flag, auto\n",
    "\n",
    "\n",
    "class Color(Flag):\n",
    "    RED = auto()\n",
    "    GREEN = auto()\n",
    "    BLUE = auto()\n",
    "\n",
    "\n",
    "print(\n",
    "    f\"\"\" \n",
    "    {Color.RED                              =}\n",
    "    {Color.GREEN                            =}\n",
    "    {Color.BLUE                             =}\n",
    "\n",
    "    {Color.RED | Color.BLUE                 =}\n",
    "    {Color.RED | Color.GREEN | Color.BLUE   =}\n",
    "\"\"\"\n",
    ")"
   ]
  },
  {
   "cell_type": "code",
   "execution_count": 37,
   "metadata": {},
   "outputs": [
    {
     "name": "stdout",
     "output_type": "stream",
     "text": [
      "Color.RED|BLUE\n",
      "Color.RED|GREEN|BLUE\n"
     ]
    }
   ],
   "source": [
    "purple = Color.RED | Color.BLUE\n",
    "print(purple)\n",
    "\n",
    "white = Color.RED | Color.GREEN | Color.BLUE\n",
    "print(white)"
   ]
  },
  {
   "cell_type": "code",
   "execution_count": 38,
   "metadata": {},
   "outputs": [
    {
     "name": "stdout",
     "output_type": "stream",
     "text": [
      "Color.GREEN in purple = False\n",
      "Color.GREEN in white  = True\n",
      "\n",
      "purple in white  = True\n",
      "white in purple  = False\n"
     ]
    }
   ],
   "source": [
    "print(f\"{Color.GREEN in purple = }\")  # False\n",
    "print(f\"{Color.GREEN in white  = }\")  # True\n",
    "print()\n",
    "print(f\"{purple in white  = }\")  # True\n",
    "print(f\"{white in purple  = }\")  # True"
   ]
  },
  {
   "cell_type": "code",
   "execution_count": 39,
   "metadata": {},
   "outputs": [
    {
     "data": {
      "text/plain": [
       "(1, 3)"
      ]
     },
     "execution_count": 39,
     "metadata": {},
     "output_type": "execute_result"
    }
   ],
   "source": [
    "len(Color.GREEN), len(white)"
   ]
  },
  {
   "cell_type": "code",
   "execution_count": 40,
   "metadata": {},
   "outputs": [
    {
     "name": "stdout",
     "output_type": "stream",
     "text": [
      " \n",
      "    bool(Color.GREEN) =True\n",
      "    bool(white) =True\n",
      "\n",
      "bool(black) =False\n"
     ]
    }
   ],
   "source": [
    "print(\n",
    "    f\"\"\" \n",
    "    {bool(Color.GREEN) =}\n",
    "    {bool(white) =}\n",
    "\"\"\"\n",
    ")\n",
    "\n",
    "black = Color(0)\n",
    "print(f\"{bool(black) =}\")"
   ]
  },
  {
   "cell_type": "code",
   "execution_count": 41,
   "metadata": {},
   "outputs": [
    {
     "name": "stdout",
     "output_type": "stream",
     "text": [
      "and op: Color.RED|BLUE\n",
      "or op : Color.RED|GREEN|BLUE\n",
      "\n",
      "xor op: Color.GREEN\n",
      "xor op: Color.RED|GREEN|BLUE\n"
     ]
    }
   ],
   "source": [
    "print(\"and op:\", purple & white)\n",
    "print(\"or op :\", purple | white)\n",
    "print()\n",
    "print(\"xor op:\", purple ^ white)\n",
    "print(\"xor op:\", purple ^ Color.GREEN)"
   ]
  },
  {
   "cell_type": "code",
   "execution_count": 42,
   "metadata": {},
   "outputs": [
    {
     "name": "stdout",
     "output_type": "stream",
     "text": [
      " \n",
      "    Color.RED  = <Color.RED: 1>\n",
      "\n",
      "    ~Color.RED     = <Color.GREEN|BLUE: 6>\n",
      "    ~Color.GREEN   = <Color.RED|BLUE: 5>\n",
      "    ~Color.BLUE    = <Color.RED|GREEN: 3>\n",
      "\n",
      "    ~~Color.BLUE    = <Color.BLUE: 4>  # double inversion will give same\n",
      "\n",
      "    ~purple        = <Color.GREEN: 2>\n",
      "    ~white         = <Color: 0>\n",
      "\n",
      "\n"
     ]
    }
   ],
   "source": [
    "# Invert - returns all flags that in it\n",
    "\n",
    "print(\n",
    "    f\"\"\" \n",
    "    {Color.RED  = }\n",
    "\n",
    "    {~Color.RED     = }\n",
    "    {~Color.GREEN   = }\n",
    "    {~Color.BLUE    = }\n",
    "\n",
    "    {~~Color.BLUE    = }  # double inversion will give same\n",
    "\n",
    "    {~purple        = }\n",
    "    {~white         = }\n",
    "\n",
    "\"\"\"\n",
    ")"
   ]
  },
  {
   "cell_type": "code",
   "execution_count": 43,
   "metadata": {},
   "outputs": [
    {
     "name": "stdout",
     "output_type": "stream",
     "text": [
      " \n",
      "    Color.RED & 2 =<Color: 0>\n",
      "    Color.RED | 2 =<Color.RED|GREEN: 3>\n",
      "\n",
      "\n"
     ]
    }
   ],
   "source": [
    "from enum import IntFlag, auto\n",
    "\n",
    "# IntFlag is the same as Flag, but its members are also integers and\n",
    "# can be used anywhere that an integer can be used.\n",
    "\n",
    "\n",
    "class Color(IntFlag):\n",
    "    RED = auto()\n",
    "    GREEN = auto()\n",
    "    BLUE = auto()\n",
    "\n",
    "\n",
    "print(\n",
    "    f\"\"\" \n",
    "    {Color.RED & 2 =}\n",
    "    {Color.RED | 2 =}\n",
    "\n",
    "\"\"\"\n",
    ")"
   ]
  },
  {
   "cell_type": "code",
   "execution_count": 44,
   "metadata": {},
   "outputs": [
    {
     "name": "stdout",
     "output_type": "stream",
     "text": [
      "['CONFORM', 'CONTINUOUS', 'DynamicClassAttribute', 'EJECT', 'Enum', 'EnumCheck', 'EnumMeta', 'EnumType', 'Flag', 'FlagBoundary', 'IntEnum', 'IntFlag', 'KEEP', 'MappingProxyType', 'NAMED_FLAGS', 'ReprEnum', 'STRICT', 'StrEnum', 'UNIQUE', '_EnumDict', '__all__', '__builtins__', '__cached__', '__doc__', '__file__', '__loader__', '__name__', '__package__', '__spec__', '_auto_null', '_dedent', '_high_bit', '_is_descriptor', '_is_dunder', '_is_internal_class', '_is_private', '_is_single_bit', '_is_sunder', '_iter_bits_lsb', '_make_class_unpicklable', '_old_convert_', '_or_', '_power_of_two', '_proto_member', '_reduce_ex_by_global_name', '_simple_enum', '_stdlib_enums', '_test_simple_enum', 'auto', 'bin', 'bltns', 'global_enum', 'global_enum_repr', 'global_flag_repr', 'global_str', 'member', 'nonmember', 'property', 'reduce', 'show_flag_values', 'sys', 'unique', 'verify']\n"
     ]
    }
   ],
   "source": [
    "import enum\n",
    "\n",
    "print(dir(enum))"
   ]
  },
  {
   "cell_type": "markdown",
   "metadata": {},
   "source": [
    "### Default Value"
   ]
  },
  {
   "cell_type": "code",
   "execution_count": 45,
   "metadata": {},
   "outputs": [
    {
     "name": "stdout",
     "output_type": "stream",
     "text": [
      "Build.DEBUG.value    ='debug'\n",
      "Build['DEBUG'].value ='debug'\n"
     ]
    },
    {
     "ename": "KeyError",
     "evalue": "'deBUG'",
     "output_type": "error",
     "traceback": [
      "\u001b[1;31m---------------------------------------------------------------------------\u001b[0m",
      "\u001b[1;31mKeyError\u001b[0m                                  Traceback (most recent call last)",
      "Cell \u001b[1;32mIn[45], line 23\u001b[0m\n\u001b[0;32m     19\u001b[0m \u001b[39mprint\u001b[39m(\u001b[39mf\u001b[39m\u001b[39m\"\u001b[39m\u001b[39m{\u001b[39;00mBuild[\u001b[39m'\u001b[39m\u001b[39mDEBUG\u001b[39m\u001b[39m'\u001b[39m]\u001b[39m.\u001b[39mvalue\u001b[39m \u001b[39m\u001b[39m=}\u001b[39;00m\u001b[39m\"\u001b[39m)  \u001b[39m# 'debug'\u001b[39;00m\n\u001b[0;32m     21\u001b[0m \u001b[39m# To handle case sensitity,\u001b[39;00m\n\u001b[0;32m     22\u001b[0m \u001b[39m# print(f\"{Build['debug'].value =}\") # 'debug'\u001b[39;00m\n\u001b[1;32m---> 23\u001b[0m \u001b[39mprint\u001b[39m(\u001b[39mf\u001b[39m\u001b[39m\"\u001b[39m\u001b[39m{\u001b[39;00mBuild[\u001b[39m'\u001b[39;49m\u001b[39mdeBUG\u001b[39;49m\u001b[39m'\u001b[39;49m]\u001b[39m.\u001b[39mvalue\u001b[39m \u001b[39m\u001b[39m=}\u001b[39;00m\u001b[39m\"\u001b[39m)  \u001b[39m# 'debug'\u001b[39;00m\n\u001b[0;32m     24\u001b[0m \u001b[39m# print(f\"{Build['deBug'].value =}\") # 'debug'\u001b[39;00m\n",
      "File \u001b[1;32mC:\\Program Files\\WindowsApps\\PythonSoftwareFoundation.Python.3.11_3.11.752.0_x64__qbz5n2kfra8p0\\Lib\\enum.py:795\u001b[0m, in \u001b[0;36mEnumType.__getitem__\u001b[1;34m(cls, name)\u001b[0m\n\u001b[0;32m    791\u001b[0m \u001b[39mdef\u001b[39;00m \u001b[39m__getitem__\u001b[39m(\u001b[39mcls\u001b[39m, name):\n\u001b[0;32m    792\u001b[0m \u001b[39m    \u001b[39m\u001b[39m\"\"\"\u001b[39;00m\n\u001b[0;32m    793\u001b[0m \u001b[39m    Return the member matching `name`.\u001b[39;00m\n\u001b[0;32m    794\u001b[0m \u001b[39m    \"\"\"\u001b[39;00m\n\u001b[1;32m--> 795\u001b[0m     \u001b[39mreturn\u001b[39;00m \u001b[39mcls\u001b[39;49m\u001b[39m.\u001b[39;49m_member_map_[name]\n",
      "\u001b[1;31mKeyError\u001b[0m: 'deBUG'"
     ]
    }
   ],
   "source": [
    "from enum import StrEnum\n",
    "\n",
    "\n",
    "class Build(StrEnum):\n",
    "    @classmethod\n",
    "    def _missing_(cls, value):\n",
    "        print(\"jdasgggggggggggggggggggggggg\")\n",
    "        value = value.lower()\n",
    "        for member in cls:\n",
    "            if member.value == value:\n",
    "                return member\n",
    "        return None\n",
    "\n",
    "    DEBUG = auto()\n",
    "    OPTIMIZED = auto()\n",
    "\n",
    "\n",
    "print(f\"{Build.DEBUG.value    =}\")  # 'debug'\n",
    "print(f\"{Build['DEBUG'].value =}\")  # 'debug'\n",
    "\n",
    "# To handle case sensitity,\n",
    "# print(f\"{Build['debug'].value =}\") # 'debug'\n",
    "print(f\"{Build['deBUG'].value =}\")  # 'debug'\n",
    "# print(f\"{Build['deBug'].value =}\") # 'debug'"
   ]
  }
 ],
 "metadata": {
  "kernelspec": {
   "display_name": "Python 3.11.0 ('pythonmaterial-4Fyt9FjG-py3.11')",
   "language": "python",
   "name": "python3"
  },
  "language_info": {
   "codemirror_mode": {
    "name": "ipython",
    "version": 3
   },
   "file_extension": ".py",
   "mimetype": "text/x-python",
   "name": "python",
   "nbconvert_exporter": "python",
   "pygments_lexer": "ipython3",
   "version": "3.11.3"
  },
  "orig_nbformat": 4,
  "vscode": {
   "interpreter": {
    "hash": "d41ca55ab43b6c8712a0a50ace8b798dc0be2fafae45df6810e0e4e55ab49b9b"
   }
  }
 },
 "nbformat": 4,
 "nbformat_minor": 2
}
