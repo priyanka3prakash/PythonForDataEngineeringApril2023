{
 "cells": [
  {
   "cell_type": "markdown",
   "metadata": {},
   "source": [
    "## Exception Handling Blocks\n",
    "\n",
    "    blocks - try, except, else, finally\n",
    "\n",
    "    Execution Flow\n",
    "        1. when no error     -> try -> else   -> finally\n",
    "        2. when error occurs -> try -> except -> finally"
   ]
  },
  {
   "cell_type": "code",
   "execution_count": 1,
   "metadata": {},
   "outputs": [
    {
     "ename": "ZeroDivisionError",
     "evalue": "division by zero",
     "output_type": "error",
     "traceback": [
      "\u001b[0;31m---------------------------------------------------------------------------\u001b[0m",
      "\u001b[0;31mZeroDivisionError\u001b[0m                         Traceback (most recent call last)",
      "Cell \u001b[0;32mIn[1], line 1\u001b[0m\n\u001b[0;32m----> 1\u001b[0m \u001b[39m10\u001b[39;49m \u001b[39m/\u001b[39;49m \u001b[39m0\u001b[39;49m\n",
      "\u001b[0;31mZeroDivisionError\u001b[0m: division by zero"
     ]
    }
   ],
   "source": [
    "10 / 0"
   ]
  },
  {
   "cell_type": "code",
   "execution_count": 2,
   "metadata": {},
   "outputs": [
    {
     "ename": "TypeError",
     "evalue": "unsupported operand type(s) for /: 'int' and 'str'",
     "output_type": "error",
     "traceback": [
      "\u001b[0;31m---------------------------------------------------------------------------\u001b[0m",
      "\u001b[0;31mTypeError\u001b[0m                                 Traceback (most recent call last)",
      "Cell \u001b[0;32mIn[2], line 1\u001b[0m\n\u001b[0;32m----> 1\u001b[0m \u001b[39m10\u001b[39;49m \u001b[39m/\u001b[39;49m \u001b[39m\"\u001b[39;49m\u001b[39m0\u001b[39;49m\u001b[39m\"\u001b[39;49m\n",
      "\u001b[0;31mTypeError\u001b[0m: unsupported operand type(s) for /: 'int' and 'str'"
     ]
    }
   ],
   "source": [
    "10 / \"0\""
   ]
  },
  {
   "cell_type": "code",
   "execution_count": 3,
   "metadata": {},
   "outputs": [
    {
     "ename": "NameError",
     "evalue": "name 'num' is not defined",
     "output_type": "error",
     "traceback": [
      "\u001b[0;31m---------------------------------------------------------------------------\u001b[0m",
      "\u001b[0;31mNameError\u001b[0m                                 Traceback (most recent call last)",
      "Cell \u001b[0;32mIn[3], line 1\u001b[0m\n\u001b[0;32m----> 1\u001b[0m \u001b[39m10\u001b[39m \u001b[39m/\u001b[39m num\n",
      "\u001b[0;31mNameError\u001b[0m: name 'num' is not defined"
     ]
    }
   ],
   "source": [
    "10 / num"
   ]
  },
  {
   "cell_type": "code",
   "execution_count": 4,
   "metadata": {},
   "outputs": [
    {
     "ename": "ZeroDivisionError",
     "evalue": "division by zero",
     "output_type": "error",
     "traceback": [
      "\u001b[0;31m---------------------------------------------------------------------------\u001b[0m",
      "\u001b[0;31mZeroDivisionError\u001b[0m                         Traceback (most recent call last)",
      "Cell \u001b[0;32mIn[4], line 1\u001b[0m\n\u001b[0;32m----> 1\u001b[0m \u001b[39m10\u001b[39;49m\u001b[39m/\u001b[39;49m\u001b[39m0\u001b[39;49m\n",
      "\u001b[0;31mZeroDivisionError\u001b[0m: division by zero"
     ]
    }
   ],
   "source": [
    "10/0"
   ]
  },
  {
   "cell_type": "code",
   "execution_count": 5,
   "metadata": {},
   "outputs": [],
   "source": [
    "try:\n",
    "    pass\n",
    "except:\n",
    "    pass\n",
    "else:\n",
    "    pass\n",
    "finally:\n",
    "    pass"
   ]
  },
  {
   "cell_type": "code",
   "execution_count": 6,
   "metadata": {},
   "outputs": [
    {
     "name": "stdout",
     "output_type": "stream",
     "text": [
      "doubt logic\n",
      "logic to execute when no exceptin\n",
      "EXecution both times\n"
     ]
    }
   ],
   "source": [
    "try:\n",
    "    print(\"doubt logic\")\n",
    "except:\n",
    "    print(\"exception handling messages\")\n",
    "    print(\"logic to execute when exceptin\")\n",
    "else:\n",
    "    print(\"logic to execute when no exceptin\")\n",
    "finally:\n",
    "    print(\"EXecution both times\")"
   ]
  },
  {
   "cell_type": "code",
   "execution_count": 8,
   "metadata": {},
   "outputs": [
    {
     "name": "stdout",
     "output_type": "stream",
     "text": [
      "doubt logic\n"
     ]
    }
   ],
   "source": [
    "try:\n",
    "    print(\"doubt logic\")\n",
    "except:\n",
    "    print(\"exception handling messages\")\n",
    "    print(\"logic to execute when exceptin\")\n",
    "\n",
    "# NOTE: else and finally blocks are optional\n"
   ]
  },
  {
   "cell_type": "code",
   "execution_count": 10,
   "metadata": {},
   "outputs": [
    {
     "name": "stdout",
     "output_type": "stream",
     "text": [
      "dont divide by zero\n"
     ]
    }
   ],
   "source": [
    "try:\n",
    "    1/0\n",
    "except:\n",
    "    print(\"dont divide by zero\")"
   ]
  },
  {
   "cell_type": "code",
   "execution_count": 11,
   "metadata": {},
   "outputs": [
    {
     "name": "stdout",
     "output_type": "stream",
     "text": [
      "dont divide by zero\n"
     ]
    }
   ],
   "source": [
    "try:\n",
    "    1/0 \n",
    "except  Exception:\n",
    "    print(\"dont divide by zero\")"
   ]
  },
  {
   "cell_type": "code",
   "execution_count": 12,
   "metadata": {},
   "outputs": [
    {
     "name": "stdout",
     "output_type": "stream",
     "text": [
      "division by zero\n"
     ]
    }
   ],
   "source": [
    "try:\n",
    "    1/0 \n",
    "except  Exception as ex:\n",
    "    print(ex)"
   ]
  },
  {
   "cell_type": "code",
   "execution_count": 13,
   "metadata": {},
   "outputs": [
    {
     "name": "stdout",
     "output_type": "stream",
     "text": [
      "division by zero\n",
      "division by zero\n",
      "ZeroDivisionError('division by zero')\n"
     ]
    }
   ],
   "source": [
    "try:\n",
    "    1/0 \n",
    "except  Exception as ex:\n",
    "    print(ex)\n",
    "    print(str(ex))\n",
    "    print(repr(ex))"
   ]
  },
  {
   "cell_type": "code",
   "execution_count": 1,
   "metadata": {},
   "outputs": [],
   "source": [
    "try:\n",
    "    1/10 \n",
    "except  Exception as ex:\n",
    "    print(ex)\n",
    "    print(str(ex))\n",
    "    print(repr(ex))"
   ]
  },
  {
   "cell_type": "code",
   "execution_count": 2,
   "metadata": {},
   "outputs": [
    {
     "name": "stdout",
     "output_type": "stream",
     "text": [
      "ZeroDivisionError('division by zero')\n"
     ]
    }
   ],
   "source": [
    "try:\n",
    "    1/0 \n",
    "except  Exception as ex:\n",
    "    print(repr(ex))\n",
    "else:\n",
    "    print(\"ALL good\")"
   ]
  },
  {
   "cell_type": "code",
   "execution_count": 3,
   "metadata": {},
   "outputs": [
    {
     "name": "stdout",
     "output_type": "stream",
     "text": [
      "ALL good\n"
     ]
    }
   ],
   "source": [
    "try:\n",
    "    1/10 \n",
    "except  Exception as ex:\n",
    "    print(repr(ex))\n",
    "else:\n",
    "    print(\"ALL good\")"
   ]
  },
  {
   "cell_type": "code",
   "execution_count": 4,
   "metadata": {},
   "outputs": [
    {
     "name": "stdout",
     "output_type": "stream",
     "text": [
      "TypeError(\"unsupported operand type(s) for /: 'int' and 'str'\")\n"
     ]
    }
   ],
   "source": [
    "try:\n",
    "    1/\"0\"\n",
    "except  Exception as ex:\n",
    "    print(repr(ex))\n",
    "else:\n",
    "    print(\"ALL good\")"
   ]
  },
  {
   "cell_type": "code",
   "execution_count": 6,
   "metadata": {},
   "outputs": [
    {
     "name": "stdout",
     "output_type": "stream",
     "text": [
      "NameError(\"name 'zero' is not defined\")\n"
     ]
    }
   ],
   "source": [
    "try:\n",
    "    1/zero\n",
    "except  Exception as ex:\n",
    "    print(repr(ex))\n",
    "else:\n",
    "    print(\"ALL good\")"
   ]
  },
  {
   "attachments": {},
   "cell_type": "markdown",
   "metadata": {},
   "source": [
    "### Handing Individual Exceptions"
   ]
  },
  {
   "cell_type": "code",
   "execution_count": 7,
   "metadata": {},
   "outputs": [
    {
     "name": "stdout",
     "output_type": "stream",
     "text": [
      "NameError(\"name 'zero' is not defined\")\n"
     ]
    }
   ],
   "source": [
    "try:\n",
    "    1/zero\n",
    "except  NameError as ex:\n",
    "    print(repr(ex))\n",
    "else:\n",
    "    print(\"ALL good\")"
   ]
  },
  {
   "cell_type": "code",
   "execution_count": 8,
   "metadata": {},
   "outputs": [
    {
     "name": "stdout",
     "output_type": "stream",
     "text": [
      "TypeError(\"unsupported operand type(s) for /: 'int' and 'str'\")\n"
     ]
    }
   ],
   "source": [
    "try:\n",
    "    1/\"0\"\n",
    "except  TypeError as ex:\n",
    "    print(repr(ex))\n",
    "else:\n",
    "    print(\"ALL good\")"
   ]
  },
  {
   "cell_type": "code",
   "execution_count": 9,
   "metadata": {},
   "outputs": [
    {
     "name": "stdout",
     "output_type": "stream",
     "text": [
      "ZeroDivisionError('division by zero')\n"
     ]
    }
   ],
   "source": [
    "try:\n",
    "    1/0 \n",
    "except  ZeroDivisionError as ex:\n",
    "    print(repr(ex))\n",
    "else:\n",
    "    print(\"ALL good\")"
   ]
  },
  {
   "cell_type": "code",
   "execution_count": 10,
   "metadata": {},
   "outputs": [
    {
     "name": "stdout",
     "output_type": "stream",
     "text": [
      "ZeroDivisionError('division by zero')\n"
     ]
    }
   ],
   "source": [
    "try:\n",
    "    1/0 \n",
    "except  ArithmeticError as ex:\n",
    "    print(repr(ex))\n",
    "else:\n",
    "    print(\"ALL good\")"
   ]
  },
  {
   "cell_type": "code",
   "execution_count": 11,
   "metadata": {},
   "outputs": [
    {
     "ename": "TypeError",
     "evalue": "unsupported operand type(s) for /: 'int' and 'str'",
     "output_type": "error",
     "traceback": [
      "\u001b[0;31m---------------------------------------------------------------------------\u001b[0m",
      "\u001b[0;31mTypeError\u001b[0m                                 Traceback (most recent call last)",
      "Cell \u001b[0;32mIn[11], line 2\u001b[0m\n\u001b[1;32m      1\u001b[0m \u001b[39mtry\u001b[39;00m:\n\u001b[0;32m----> 2\u001b[0m     \u001b[39m1\u001b[39;49m\u001b[39m/\u001b[39;49m\u001b[39m\"\u001b[39;49m\u001b[39m0\u001b[39;49m\u001b[39m\"\u001b[39;49m \n\u001b[1;32m      3\u001b[0m \u001b[39mexcept\u001b[39;00m  \u001b[39mArithmeticError\u001b[39;00m \u001b[39mas\u001b[39;00m ex:\n\u001b[1;32m      4\u001b[0m     \u001b[39mprint\u001b[39m(\u001b[39mrepr\u001b[39m(ex))\n",
      "\u001b[0;31mTypeError\u001b[0m: unsupported operand type(s) for /: 'int' and 'str'"
     ]
    }
   ],
   "source": [
    "try:\n",
    "    1/\"0\" \n",
    "except  ArithmeticError as ex:\n",
    "    print(repr(ex))\n",
    "else:\n",
    "    print(\"ALL good\")"
   ]
  },
  {
   "cell_type": "code",
   "execution_count": 12,
   "metadata": {},
   "outputs": [
    {
     "name": "stdout",
     "output_type": "stream",
     "text": [
      "TypeError(\"unsupported operand type(s) for /: 'int' and 'str'\")\n"
     ]
    }
   ],
   "source": [
    "try:\n",
    "    1/\"0\" \n",
    "except  Exception as ex:\n",
    "    print(repr(ex))\n",
    "except  ArithmeticError as ex:\n",
    "    print(repr(ex))\n",
    "else:\n",
    "    print(\"ALL good\")"
   ]
  },
  {
   "cell_type": "markdown",
   "metadata": {},
   "source": [
    "### Exception Handling -- top to bottom ORDER "
   ]
  },
  {
   "cell_type": "code",
   "execution_count": 13,
   "metadata": {},
   "outputs": [
    {
     "name": "stdout",
     "output_type": "stream",
     "text": [
      "TypeError(\"unsupported operand type(s) for /: 'int' and 'str'\")\n"
     ]
    }
   ],
   "source": [
    "try:\n",
    "    1/\"0\" \n",
    "except  ArithmeticError as ex:\n",
    "    print(repr(ex))\n",
    "except  Exception as ex:\n",
    "    print(repr(ex))\n",
    "\n",
    "else:\n",
    "    print(\"ALL good\")"
   ]
  },
  {
   "cell_type": "code",
   "execution_count": 14,
   "metadata": {},
   "outputs": [
    {
     "name": "stdout",
     "output_type": "stream",
     "text": [
      "Typing issue unsupported operand type(s) for /: 'int' and 'str'\n"
     ]
    }
   ],
   "source": [
    "try:\n",
    "    1/\"0\" \n",
    "except  ArithmeticError as ex:\n",
    "    print(repr(ex))\n",
    "except TypeError as ex:\n",
    "    print(\"Typing issue\", ex)\n",
    "except  Exception as ex:\n",
    "    print(repr(ex))\n",
    "else:\n",
    "    print(\"ALL good\")"
   ]
  },
  {
   "cell_type": "code",
   "execution_count": 16,
   "metadata": {},
   "outputs": [
    {
     "name": "stdout",
     "output_type": "stream",
     "text": [
      "ARithmetic error -  ZeroDivisionError('division by zero')\n"
     ]
    }
   ],
   "source": [
    "try:\n",
    "    1/0\n",
    "except  ArithmeticError as ex:\n",
    "    print(\"ARithmetic error - \", repr(ex))\n",
    "except TypeError as ex:\n",
    "    print(\"Typing issue\", ex)\n",
    "except  Exception as ex:\n",
    "    print(repr(ex))\n",
    "else:\n",
    "    print(\"ALL good\")"
   ]
  },
  {
   "cell_type": "code",
   "execution_count": 17,
   "metadata": {},
   "outputs": [
    {
     "name": "stdout",
     "output_type": "stream",
     "text": [
      "zero error -  ZeroDivisionError('division by zero')\n"
     ]
    }
   ],
   "source": [
    "try:\n",
    "    1/0\n",
    "except  ZeroDivisionError as ex:\n",
    "    print(\"zero error - \", repr(ex))\n",
    "except  ArithmeticError as ex:\n",
    "    print(\"ARithmetic error - \", repr(ex))\n",
    "except TypeError as ex:\n",
    "    print(\"Typing issue\", ex)\n",
    "except  Exception as ex:\n",
    "    print(repr(ex))\n",
    "else:\n",
    "    print(\"ALL good\")"
   ]
  },
  {
   "cell_type": "code",
   "execution_count": null,
   "metadata": {},
   "outputs": [],
   "source": []
  }
 ],
 "metadata": {
  "kernelspec": {
   "display_name": "Python 3",
   "language": "python",
   "name": "python3"
  },
  "language_info": {
   "codemirror_mode": {
    "name": "ipython",
    "version": 3
   },
   "file_extension": ".py",
   "mimetype": "text/x-python",
   "name": "python",
   "nbconvert_exporter": "python",
   "pygments_lexer": "ipython3",
   "version": "3.10.4"
  },
  "orig_nbformat": 4
 },
 "nbformat": 4,
 "nbformat_minor": 2
}
