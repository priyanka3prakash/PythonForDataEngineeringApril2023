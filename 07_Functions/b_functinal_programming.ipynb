{
 "cells": [
  {
   "cell_type": "markdown",
   "metadata": {},
   "source": [
    "## Functions Scope - Global and local"
   ]
  },
  {
   "cell_type": "code",
   "execution_count": 1,
   "metadata": {},
   "outputs": [
    {
     "data": {
      "text/plain": [
       "{'__name__': '__main__',\n",
       " '__doc__': 'Automatically created module for IPython interactive environment',\n",
       " '__package__': None,\n",
       " '__loader__': None,\n",
       " '__spec__': None,\n",
       " '__builtin__': <module 'builtins' (built-in)>,\n",
       " '__builtins__': <module 'builtins' (built-in)>,\n",
       " '_ih': ['', 'globals()'],\n",
       " '_oh': {},\n",
       " '_dh': [PosixPath('/workspaces/PythonForDataEngineeringApril2023/07_Functions'),\n",
       "  PosixPath('/workspaces/PythonForDataEngineeringApril2023/07_Functions')],\n",
       " 'In': ['', 'globals()'],\n",
       " 'Out': {},\n",
       " 'get_ipython': <bound method InteractiveShell.get_ipython of <ipykernel.zmqshell.ZMQInteractiveShell object at 0x7f92716866b0>>,\n",
       " 'exit': <IPython.core.autocall.ZMQExitAutocall at 0x7f9271686f80>,\n",
       " 'quit': <IPython.core.autocall.ZMQExitAutocall at 0x7f9271686f80>,\n",
       " 'open': <function io.open(file, mode='r', buffering=-1, encoding=None, errors=None, newline=None, closefd=True, opener=None)>,\n",
       " '_': '',\n",
       " '__': '',\n",
       " '___': '',\n",
       " '__vsc_ipynb_file__': '/workspaces/PythonForDataEngineeringApril2023/07_Functions/b_functinal_programming.ipynb',\n",
       " '_i': '',\n",
       " '_ii': '',\n",
       " '_iii': '',\n",
       " '_i1': 'globals()'}"
      ]
     },
     "execution_count": 1,
     "metadata": {},
     "output_type": "execute_result"
    }
   ],
   "source": [
    "globals()"
   ]
  },
  {
   "cell_type": "code",
   "execution_count": 2,
   "metadata": {},
   "outputs": [
    {
     "data": {
      "text/plain": [
       "{'__name__': '__main__',\n",
       " '__doc__': 'Automatically created module for IPython interactive environment',\n",
       " '__package__': None,\n",
       " '__loader__': None,\n",
       " '__spec__': None,\n",
       " '__builtin__': <module 'builtins' (built-in)>,\n",
       " '__builtins__': <module 'builtins' (built-in)>,\n",
       " '_ih': ['', 'globals()', 'locals()'],\n",
       " '_oh': {1: {...}},\n",
       " '_dh': [PosixPath('/workspaces/PythonForDataEngineeringApril2023/07_Functions'),\n",
       "  PosixPath('/workspaces/PythonForDataEngineeringApril2023/07_Functions')],\n",
       " 'In': ['', 'globals()', 'locals()'],\n",
       " 'Out': {1: {...}},\n",
       " 'get_ipython': <bound method InteractiveShell.get_ipython of <ipykernel.zmqshell.ZMQInteractiveShell object at 0x7f92716866b0>>,\n",
       " 'exit': <IPython.core.autocall.ZMQExitAutocall at 0x7f9271686f80>,\n",
       " 'quit': <IPython.core.autocall.ZMQExitAutocall at 0x7f9271686f80>,\n",
       " 'open': <function io.open(file, mode='r', buffering=-1, encoding=None, errors=None, newline=None, closefd=True, opener=None)>,\n",
       " '_': {...},\n",
       " '__': '',\n",
       " '___': '',\n",
       " '__vsc_ipynb_file__': '/workspaces/PythonForDataEngineeringApril2023/07_Functions/b_functinal_programming.ipynb',\n",
       " '_i': 'globals()',\n",
       " '_ii': '',\n",
       " '_iii': '',\n",
       " '_i1': 'globals()',\n",
       " '_1': {...},\n",
       " '_i2': 'locals()'}"
      ]
     },
     "execution_count": 2,
     "metadata": {},
     "output_type": "execute_result"
    }
   ],
   "source": [
    "locals()"
   ]
  },
  {
   "attachments": {},
   "cell_type": "markdown",
   "metadata": {},
   "source": [
    "```\n",
    "    call by value\n",
    "    - changes within the function will NOT reflect at the global level\n",
    "\n",
    "    call by reference\n",
    "    - changes within the function will reflect at the global level\n",
    "\n",
    "\n",
    "    immutable objects - int, float, None, bool, tuple, string, frozenset\n",
    "    mutable objects   - list, set, dict, bytearray string\n",
    "\n",
    "    NOTE:\n",
    "    -----\n",
    "    mutable object can be edited within function without passing as args\n",
    "    immutable object CANT be edited within function without passing as args\n",
    "\n",
    "```"
   ]
  },
  {
   "cell_type": "code",
   "execution_count": 6,
   "metadata": {},
   "outputs": [
    {
     "name": "stdout",
     "output_type": "stream",
     "text": [
      "pi = 3.141\n",
      "pi = 37.692\n",
      "locals() ={}\n"
     ]
    }
   ],
   "source": [
    "# <!-- print(\"\\n case 1============\") -->\n",
    "\n",
    "pi = 3.141  # immutable - call by value\n",
    "\n",
    "def simple_function():\n",
    "    print(\"pi = {}\".format(pi))\n",
    "    print(\"pi = {}\".format(pi * 12))\n",
    "    print(f\"{locals() =}\")\n",
    "\n",
    "simple_function()\n"
   ]
  },
  {
   "cell_type": "code",
   "execution_count": 7,
   "metadata": {},
   "outputs": [
    {
     "ename": "UnboundLocalError",
     "evalue": "local variable 'pi' referenced before assignment",
     "output_type": "error",
     "traceback": [
      "\u001b[0;31m---------------------------------------------------------------------------\u001b[0m",
      "\u001b[0;31mUnboundLocalError\u001b[0m                         Traceback (most recent call last)",
      "Cell \u001b[0;32mIn[7], line 12\u001b[0m\n\u001b[1;32m      8\u001b[0m     pi \u001b[39m=\u001b[39m \u001b[39m3333333\u001b[39m\n\u001b[1;32m      9\u001b[0m     \u001b[39mprint\u001b[39m(\u001b[39m\"\u001b[39m\u001b[39mafter  change pi = \u001b[39m\u001b[39m{}\u001b[39;00m\u001b[39m\"\u001b[39m\u001b[39m.\u001b[39mformat(pi))\n\u001b[0;32m---> 12\u001b[0m simple_function()\n",
      "Cell \u001b[0;32mIn[7], line 7\u001b[0m, in \u001b[0;36msimple_function\u001b[0;34m()\u001b[0m\n\u001b[1;32m      6\u001b[0m \u001b[39mdef\u001b[39;00m \u001b[39msimple_function\u001b[39m():\n\u001b[0;32m----> 7\u001b[0m     \u001b[39mprint\u001b[39m(\u001b[39m\"\u001b[39m\u001b[39mbefore change pi = \u001b[39m\u001b[39m{}\u001b[39;00m\u001b[39m\"\u001b[39m\u001b[39m.\u001b[39mformat(pi))\n\u001b[1;32m      8\u001b[0m     pi \u001b[39m=\u001b[39m \u001b[39m3333333\u001b[39m\n\u001b[1;32m      9\u001b[0m     \u001b[39mprint\u001b[39m(\u001b[39m\"\u001b[39m\u001b[39mafter  change pi = \u001b[39m\u001b[39m{}\u001b[39;00m\u001b[39m\"\u001b[39m\u001b[39m.\u001b[39mformat(pi))\n",
      "\u001b[0;31mUnboundLocalError\u001b[0m: local variable 'pi' referenced before assignment"
     ]
    }
   ],
   "source": [
    "# print(\"\\n case 2 ==================\")\n",
    "\n",
    "pi = 3.141  # immutable - call by value\n",
    "\n",
    "\n",
    "def simple_function():\n",
    "    print(\"before change pi = {}\".format(pi))\n",
    "    pi = 3333333\n",
    "    print(\"after  change pi = {}\".format(pi))\n",
    "\n",
    "\n",
    "simple_function()"
   ]
  },
  {
   "cell_type": "code",
   "execution_count": 9,
   "metadata": {},
   "outputs": [
    {
     "name": "stdout",
     "output_type": "stream",
     "text": [
      "\n",
      " case 3=====   call by value\n",
      "before change pi    = 3.141\n",
      "after  change pi    = 3333333\n",
      "\n",
      "locals()[\"pi\"] = 3333333\n",
      "\n",
      "globals()[\"pi\"] = 3.141\n"
     ]
    }
   ],
   "source": [
    "print(\"\\n case 3=====   call by value\")\n",
    "\n",
    "pi = 3.141  # immutable - call by value\n",
    "\n",
    "\n",
    "def simple_function(pi):\n",
    "    print(\"before change pi    = {}\".format(pi))\n",
    "    pi = 3333333\n",
    "    print(\"after  change pi    = {}\".format(pi))\n",
    "    print(f'\\n{locals()[\"pi\"] = }')\n",
    "    print(f'\\n{globals()[\"pi\"] = }')\n",
    "\n",
    "\n",
    "simple_function(pi)"
   ]
  },
  {
   "cell_type": "code",
   "execution_count": 10,
   "metadata": {},
   "outputs": [
    {
     "data": {
      "text/plain": [
       "3.141"
      ]
     },
     "execution_count": 10,
     "metadata": {},
     "output_type": "execute_result"
    }
   ],
   "source": [
    "pi"
   ]
  },
  {
   "cell_type": "code",
   "execution_count": 11,
   "metadata": {},
   "outputs": [],
   "source": [
    "# NOTE: changes with in function are not reflected outside it. This is called as CALL BY VALUE"
   ]
  },
  {
   "cell_type": "code",
   "execution_count": 12,
   "metadata": {},
   "outputs": [
    {
     "ename": "SyntaxError",
     "evalue": "name 'pi' is parameter and global (4236005188.py, line 4)",
     "output_type": "error",
     "traceback": [
      "\u001b[0;36m  Cell \u001b[0;32mIn[12], line 4\u001b[0;36m\u001b[0m\n\u001b[0;31m    global pi\u001b[0m\n\u001b[0m    ^\u001b[0m\n\u001b[0;31mSyntaxError\u001b[0m\u001b[0;31m:\u001b[0m name 'pi' is parameter and global\n"
     ]
    }
   ],
   "source": [
    "# case 4=====   call by reference\n",
    "\n",
    "def simple_function(pi):\n",
    "    global pi\n",
    "    print('before change pi = {}'.format(pi))\n",
    "    pi = 3333333\n",
    "    print('after  change pi = {}'.format(pi))\n",
    "\n",
    "simple_function(pi)\n"
   ]
  },
  {
   "cell_type": "code",
   "execution_count": 15,
   "metadata": {},
   "outputs": [
    {
     "name": "stdout",
     "output_type": "stream",
     "text": [
      "\n",
      " case 5=====   call by reference\n",
      "before change pi    = 3.14\n",
      "after  change pi    = 3333333\n",
      "\n",
      "locals() = {}\n",
      "\n",
      "globals()[\"pi\"] = 3333333\n",
      "outside function pi = 3333333\n"
     ]
    }
   ],
   "source": [
    "print(\"\\n case 5=====   call by reference\")\n",
    "\n",
    "pi = 3.14\n",
    "\n",
    "def simple_function():\n",
    "    global pi\n",
    "    print(\"before change pi    = {}\".format(pi))\n",
    "    pi = 3333333\n",
    "    print(\"after  change pi    = {}\".format(pi))\n",
    "    print(f'\\n{locals() = }')\n",
    "    print(f'\\n{globals()[\"pi\"] = }')\n",
    "\n",
    "\n",
    "simple_function()\n",
    "print(\"outside function pi = {}\".format(pi))"
   ]
  },
  {
   "cell_type": "code",
   "execution_count": 14,
   "metadata": {},
   "outputs": [
    {
     "data": {
      "text/plain": [
       "3333333"
      ]
     },
     "execution_count": 14,
     "metadata": {},
     "output_type": "execute_result"
    }
   ],
   "source": [
    "pi"
   ]
  },
  {
   "cell_type": "code",
   "execution_count": 16,
   "metadata": {},
   "outputs": [],
   "source": [
    "# NOTE:\n",
    "# 1. For immutable objects, default is call by value.\n",
    "# 2. When global keyword is used, it will become call by reference."
   ]
  },
  {
   "cell_type": "code",
   "execution_count": 20,
   "metadata": {},
   "outputs": [
    {
     "name": "stdout",
     "output_type": "stream",
     "text": [
      "\n",
      " case 6=====   call by reference\n",
      "\n",
      "before change ver   = 3.7.0\n",
      "After change ver     = 3.12\n",
      "\n",
      "globals()[\"details\"] = {'ver': '3.12'}\n",
      "\n",
      "locals().get(\"details\", \"no suck key\") = 'no suck key'\n",
      "outside function ver = 3.12\n"
     ]
    }
   ],
   "source": [
    "print(\"\\n case 6=====   call by reference\")\n",
    "details = {\"ver\": \"3.7.0\"}  # mutable - call by reference\n",
    "\n",
    "\n",
    "def simple_function():\n",
    "    print(f'\\nbefore change ver   = {details[\"ver\"]}')\n",
    "    details[\"ver\"] = \"3.12\"\n",
    "    print(f'After change ver     = {details[\"ver\"]}')\n",
    "    print(f'\\n{globals()[\"details\"] = }')\n",
    "    print(f'\\n{locals().get(\"details\", \"no suck key\") = }')  # 'no suck key'\n",
    "\n",
    "\n",
    "simple_function()\n",
    "print(\"outside function ver = {}\".format(details[\"ver\"]))"
   ]
  },
  {
   "cell_type": "code",
   "execution_count": 25,
   "metadata": {},
   "outputs": [
    {
     "name": "stdout",
     "output_type": "stream",
     "text": [
      "\n",
      " case 7=====   call by reference\n",
      "\n",
      "before change ver   = 3.7.0\n",
      "After change ver    = 3.12\n",
      "\n",
      "140266794316992 globals()[\"details\"]    = {'ver': '3.12'}\n",
      "\n",
      "140266794316992 locals()[\"lang_details\"]= {'ver': '3.12'}\n",
      "outside function ver = 3.12\n"
     ]
    }
   ],
   "source": [
    "print(\"\\n case 7=====   call by reference\")\n",
    "\n",
    "\n",
    "details = {\"ver\": \"3.7.0\"}  # mutable - call by reference\n",
    "\n",
    "def simple_function(lang_details):\n",
    "    print(f'\\nbefore change ver   = {lang_details[\"ver\"]}')\n",
    "    lang_details[\"ver\"] = \"3.12\"\n",
    "    print(f'After change ver    = {lang_details[\"ver\"]}')\n",
    "    \n",
    "    print(f'\\n{id(globals()[\"details\"])}{ globals()[\"details\"]    = }')\n",
    "    print(f'\\n{id(locals()[\"lang_details\"])} {locals()[\"lang_details\"]= }')\n",
    "\n",
    "\n",
    "simple_function(details)\n",
    "print(\"outside function ver = {}\".format(details[\"ver\"]))"
   ]
  },
  {
   "cell_type": "code",
   "execution_count": 26,
   "metadata": {},
   "outputs": [
    {
     "name": "stdout",
     "output_type": "stream",
     "text": [
      "\n",
      " case 8=====   call by VAlue\n",
      "\n",
      "before change ver   = 3.7.0\n",
      "After change ver    = 3.12\n",
      "\n",
      "140266794499904 globals()[\"details\"]    = {'ver': '3.7.0'}\n",
      "\n",
      "140266794491008 locals()[\"lang_details\"]= {'ver': '3.12'}\n",
      "outside function ver = 3.7.0\n"
     ]
    }
   ],
   "source": [
    "print(\"\\n case 8=====   call by VAlue\")\n",
    "\n",
    "\n",
    "details = {\"ver\": \"3.7.0\"}  # mutable - call by reference\n",
    "\n",
    "def simple_function(lang_details):\n",
    "    lang_details = lang_details.copy()\n",
    "    \n",
    "    print(f'\\nbefore change ver   = {lang_details[\"ver\"]}')\n",
    "    lang_details[\"ver\"] = \"3.12\"\n",
    "    print(f'After change ver    = {lang_details[\"ver\"]}')\n",
    "    \n",
    "    print(f'\\n{id(globals()[\"details\"])}{ globals()[\"details\"]    = }')\n",
    "    print(f'\\n{id(locals()[\"lang_details\"])} {locals()[\"lang_details\"]= }')\n",
    "\n",
    "\n",
    "simple_function(details)\n",
    "print(\"outside function ver = {}\".format(details[\"ver\"]))"
   ]
  },
  {
   "cell_type": "code",
   "execution_count": 27,
   "metadata": {},
   "outputs": [
    {
     "name": "stdout",
     "output_type": "stream",
     "text": [
      "\n",
      " case 8=====   call by reference\n",
      "\n",
      "before change my_list   = [1, 2, 3]\n",
      "After change my_list     = [1, 2, 3, 4]\n",
      "outside function new_list = [1, 2, 3, 4]\n"
     ]
    }
   ],
   "source": [
    "print(\"\\n case 8=====   call by reference\")\n",
    "\n",
    "\n",
    "my_list = [1, 2, 3]\n",
    "\n",
    "\n",
    "def simple_function():\n",
    "    print(f\"\\nbefore change my_list   = {my_list}\")\n",
    "    my_list.append(4)\n",
    "    print(f\"After change my_list     = {my_list}\")\n",
    "\n",
    "\n",
    "simple_function()\n",
    "print(\"outside function new_list = {}\".format(my_list))"
   ]
  },
  {
   "cell_type": "code",
   "execution_count": 28,
   "metadata": {},
   "outputs": [
    {
     "name": "stdout",
     "output_type": "stream",
     "text": [
      "\n",
      " case 9=====   call by reference\n",
      "\n",
      "before change my_list = [1, 2, 3]\n",
      "After change my_list = [1, 2, 3, 5]\n",
      "outside function new_list = [1, 2, 3, 5]\n"
     ]
    }
   ],
   "source": [
    "print(\"\\n case 9=====   call by reference\")\n",
    "\n",
    "my_list = [1, 2, 3]\n",
    "\n",
    "\n",
    "def simple_function(my_list):\n",
    "    print(f\"\\nbefore change my_list = {my_list}\")\n",
    "    my_list.append(5)\n",
    "    print(f\"After change my_list = {my_list}\")\n",
    "\n",
    "\n",
    "simple_function(my_list)\n",
    "print(\"outside function new_list = {}\".format(my_list))"
   ]
  },
  {
   "cell_type": "code",
   "execution_count": 29,
   "metadata": {},
   "outputs": [
    {
     "name": "stdout",
     "output_type": "stream",
     "text": [
      "\n",
      " case 10=====   call by VALUE\n",
      "\n",
      "before change my_list = [1, 2, 3]\n",
      "After change my_list = [1, 2, 3, 5]\n",
      "outside function new_list = [1, 2, 3]\n"
     ]
    }
   ],
   "source": [
    "print(\"\\n case 10=====   call by VALUE\")\n",
    "\n",
    "my_list = [1, 2, 3]\n",
    "\n",
    "\n",
    "def simple_function(my_list):\n",
    "    my_list = my_list.copy()\n",
    "    \n",
    "    print(f\"\\nbefore change my_list = {my_list}\")\n",
    "    my_list.append(5)\n",
    "    print(f\"After change my_list = {my_list}\")\n",
    "\n",
    "\n",
    "simple_function(my_list)\n",
    "print(\"outside function new_list = {}\".format(my_list))"
   ]
  },
  {
   "cell_type": "code",
   "execution_count": 30,
   "metadata": {},
   "outputs": [
    {
     "name": "stdout",
     "output_type": "stream",
     "text": [
      "\n",
      " case 10=====   call by Reference - for Global Mutable objects\n",
      "\n",
      "before change new_list = [1, 2, 3]\n",
      "After change new_list = [1, 2, 3, 6]\n",
      "outside function new_list = [1, 2, 3, 6]\n"
     ]
    }
   ],
   "source": [
    "print(\"\\n case 10=====   call by Reference - for Global Mutable objects\")\n",
    "\n",
    "\n",
    "def simple_function(new_list):\n",
    "    print(f\"\\nbefore change new_list = {new_list}\")  # [1, 2, 3]\n",
    "    new_list += [6]\n",
    "    print(f\"After change new_list = {new_list}\")  # [1, 2, 3, 6]\n",
    "\n",
    "\n",
    "new_list = [1, 2, 3]\n",
    "simple_function(new_list)\n",
    "print(\"outside function new_list = {}\".format(new_list))  # [1, 2, 3, 6]"
   ]
  },
  {
   "cell_type": "code",
   "execution_count": 31,
   "metadata": {},
   "outputs": [
    {
     "name": "stdout",
     "output_type": "stream",
     "text": [
      "\n",
      " case 11=====   call by Reference - for Global Mutable objects\n",
      "\n",
      "before change new_list = [1, 2, 3]\n",
      "After change new_list = [6, 7, 8]\n",
      "outside function new_list = [6, 7, 8]\n"
     ]
    }
   ],
   "source": [
    "print(\"\\n case 11=====   call by Reference - for Global Mutable objects\")\n",
    "\n",
    "\n",
    "def add_N_to_list(_new_list, n):\n",
    "    print(f\"\\nbefore change new_list = {_new_list}\")  # [1, 2, 3]\n",
    "    _new_list[:] = [num + n for num in _new_list]\n",
    "    print(f\"After change new_list = {_new_list}\")  # [6, 7, 8]\n",
    "\n",
    "\n",
    "new_list = [1, 2, 3]\n",
    "add_N_to_list(new_list, 5)\n",
    "print(\"outside function new_list = {}\".format(new_list))  # [6, 7, 8]\n"
   ]
  },
  {
   "cell_type": "code",
   "execution_count": 32,
   "metadata": {},
   "outputs": [],
   "source": [
    "\n",
    "# NOTE:\n",
    "# immuatble -- by dfault call by value; \n",
    "#           --- with global, call by ReferenceError\n",
    "# mutable -- by default is call by refernece; \n",
    "#        ---- create copy() to call by value\n"
   ]
  },
  {
   "attachments": {},
   "cell_type": "markdown",
   "metadata": {},
   "source": [
    "## Python Scope Resolution\n",
    "\n",
    "    Python scope resolution is based on the LEGB rule,\n",
    "            which is shorthand for Local, Enclosing, Global, Built-in.\n",
    "            LEGB\n",
    "                L - Local\n",
    "                E - Enclosed\n",
    "                G - Global\n",
    "                B - Built-in\n",
    "\n",
    "                E -> L -> G -> B"
   ]
  },
  {
   "cell_type": "code",
   "execution_count": 33,
   "metadata": {},
   "outputs": [
    {
     "data": {
      "text/plain": [
       "True"
      ]
     },
     "execution_count": 33,
     "metadata": {},
     "output_type": "execute_result"
    }
   ],
   "source": [
    "True"
   ]
  },
  {
   "cell_type": "code",
   "execution_count": 34,
   "metadata": {},
   "outputs": [
    {
     "ename": "NameError",
     "evalue": "name 'true' is not defined",
     "output_type": "error",
     "traceback": [
      "\u001b[0;31m---------------------------------------------------------------------------\u001b[0m",
      "\u001b[0;31mNameError\u001b[0m                                 Traceback (most recent call last)",
      "Cell \u001b[0;32mIn[34], line 1\u001b[0m\n\u001b[0;32m----> 1\u001b[0m true\n",
      "\u001b[0;31mNameError\u001b[0m: name 'true' is not defined"
     ]
    }
   ],
   "source": [
    "true"
   ]
  },
  {
   "cell_type": "code",
   "execution_count": 36,
   "metadata": {},
   "outputs": [
    {
     "name": "stdout",
     "output_type": "stream",
     "text": [
      "built-in scope     3.141592653589793\n",
      "Global Scope       3.14\n",
      "Local Scope        333\n",
      "what is pi doing?  333 [1, 2, 34]\n",
      "{'pi': 333, 'values': [1, 2, 34]}\n"
     ]
    }
   ],
   "source": [
    "from math import pi\n",
    "from pprint import pp\n",
    "\n",
    "print(\"built-in scope    \", pi)  # Built-in scope\n",
    "\n",
    "\n",
    "pi = 3.14  # Global Scope\n",
    "print(\"Global Scope      \", pi)\n",
    "\n",
    "def simple_function():\n",
    "    pi = 333  # Local scope\n",
    "    print(\"Local Scope       \", pi)\n",
    "    values = [pi for pi in (1, 2, 34)]  # Enclosed scope\n",
    "    print(\"what is pi doing? \", pi, values)\n",
    "    pp(locals())\n",
    "\n",
    "\n",
    "\n",
    "simple_function()\n"
   ]
  },
  {
   "cell_type": "markdown",
   "metadata": {},
   "source": [
    "## Partial functions"
   ]
  },
  {
   "cell_type": "code",
   "execution_count": 37,
   "metadata": {},
   "outputs": [
    {
     "name": "stdout",
     "output_type": "stream",
     "text": [
      "8\n",
      "28\n",
      "4\n"
     ]
    }
   ],
   "source": [
    "# ordinary function\n",
    "def multiply(x, y):\n",
    "    return x * y\n",
    "\n",
    "\n",
    "print(multiply(2, 4))\n",
    "print(multiply(2, 14))\n",
    "print(multiply(2, 2))"
   ]
  },
  {
   "cell_type": "code",
   "execution_count": 39,
   "metadata": {},
   "outputs": [
    {
     "name": "stdout",
     "output_type": "stream",
     "text": [
      "['GenericAlias', 'RLock', 'WRAPPER_ASSIGNMENTS', 'WRAPPER_UPDATES', '_CacheInfo', '_HashedSeq', '_NOT_FOUND', '__all__', '__builtins__', '__cached__', '__doc__', '__file__', '__loader__', '__name__', '__package__', '__spec__', '_c3_merge', '_c3_mro', '_compose_mro', '_convert', '_find_impl', '_ge_from_gt', '_ge_from_le', '_ge_from_lt', '_gt_from_ge', '_gt_from_le', '_gt_from_lt', '_initial_missing', '_le_from_ge', '_le_from_gt', '_le_from_lt', '_lru_cache_wrapper', '_lt_from_ge', '_lt_from_gt', '_lt_from_le', '_make_key', '_unwrap_partial', 'cache', 'cached_property', 'cmp_to_key', 'get_cache_token', 'lru_cache', 'namedtuple', 'partial', 'partialmethod', 'recursive_repr', 'reduce', 'singledispatch', 'singledispatchmethod', 'total_ordering', 'update_wrapper', 'wraps']\n"
     ]
    }
   ],
   "source": [
    "import  functools\n",
    "\n",
    "print(dir(functools))"
   ]
  },
  {
   "cell_type": "code",
   "execution_count": 40,
   "metadata": {},
   "outputs": [
    {
     "name": "stdout",
     "output_type": "stream",
     "text": [
      "Help on class partial in module functools:\n",
      "\n",
      "class partial(builtins.object)\n",
      " |  partial(func, *args, **keywords) - new function with partial application\n",
      " |  of the given arguments and keywords.\n",
      " |  \n",
      " |  Methods defined here:\n",
      " |  \n",
      " |  __call__(self, /, *args, **kwargs)\n",
      " |      Call self as a function.\n",
      " |  \n",
      " |  __delattr__(self, name, /)\n",
      " |      Implement delattr(self, name).\n",
      " |  \n",
      " |  __getattribute__(self, name, /)\n",
      " |      Return getattr(self, name).\n",
      " |  \n",
      " |  __reduce__(...)\n",
      " |      Helper for pickle.\n",
      " |  \n",
      " |  __repr__(self, /)\n",
      " |      Return repr(self).\n",
      " |  \n",
      " |  __setattr__(self, name, value, /)\n",
      " |      Implement setattr(self, name, value).\n",
      " |  \n",
      " |  __setstate__(...)\n",
      " |  \n",
      " |  ----------------------------------------------------------------------\n",
      " |  Class methods defined here:\n",
      " |  \n",
      " |  __class_getitem__(...) from builtins.type\n",
      " |      See PEP 585\n",
      " |  \n",
      " |  ----------------------------------------------------------------------\n",
      " |  Static methods defined here:\n",
      " |  \n",
      " |  __new__(*args, **kwargs) from builtins.type\n",
      " |      Create and return a new object.  See help(type) for accurate signature.\n",
      " |  \n",
      " |  ----------------------------------------------------------------------\n",
      " |  Data descriptors defined here:\n",
      " |  \n",
      " |  __dict__\n",
      " |  \n",
      " |  __vectorcalloffset__\n",
      " |  \n",
      " |  args\n",
      " |      tuple of arguments to future partial calls\n",
      " |  \n",
      " |  func\n",
      " |      function object to use in future partial calls\n",
      " |  \n",
      " |  keywords\n",
      " |      dictionary of keyword arguments to future partial calls\n",
      "\n"
     ]
    }
   ],
   "source": [
    "help(functools.partial)"
   ]
  },
  {
   "cell_type": "code",
   "execution_count": 42,
   "metadata": {},
   "outputs": [
    {
     "name": "stdout",
     "output_type": "stream",
     "text": [
      "8\n",
      "28\n",
      "4\n",
      "multiply_2      :functools.partial(<function multiply at 0x7f92702b92d0>, 2)\n",
      "type(multiply_2):<class 'functools.partial'>\n"
     ]
    }
   ],
   "source": [
    "# ordinary function\n",
    "def multiply(x, y):\n",
    "    return x * y\n",
    "\n",
    "\n",
    "print(multiply(2, 4))\n",
    "print(multiply(2, 14))\n",
    "print(multiply(2, 2))\n",
    "\n",
    "\n",
    "multiply_2 = functools.partial(multiply, 2)\n",
    "print(f\"multiply_2      :{multiply_2}\")\n",
    "print(f\"type(multiply_2):{type(multiply_2)}\")\n"
   ]
  },
  {
   "cell_type": "code",
   "execution_count": 43,
   "metadata": {},
   "outputs": [
    {
     "data": {
      "text/plain": [
       "True"
      ]
     },
     "execution_count": 43,
     "metadata": {},
     "output_type": "execute_result"
    }
   ],
   "source": [
    "multiply(2, 3) == multiply_2(3)"
   ]
  },
  {
   "cell_type": "code",
   "execution_count": 44,
   "metadata": {},
   "outputs": [],
   "source": [
    "assert multiply_2(4) == multiply(2, 4)\n",
    "assert multiply_2(14) == multiply(2, 14)"
   ]
  },
  {
   "cell_type": "code",
   "execution_count": 45,
   "metadata": {},
   "outputs": [],
   "source": [
    "assert multiply_2.func == multiply\n",
    "assert multiply_2.args == (2,)"
   ]
  },
  {
   "cell_type": "code",
   "execution_count": 46,
   "metadata": {},
   "outputs": [
    {
     "name": "stdout",
     "output_type": "stream",
     "text": [
      "48\n",
      "88\n",
      "128\n"
     ]
    }
   ],
   "source": [
    "print(multiply(12, 4))\n",
    "print(multiply(22, 4))\n",
    "print(multiply(32, 4))\n",
    "\n",
    "\n",
    "\n",
    "multiply_4 = functools.partial(multiply, y=4)\n",
    "assert multiply(12, 4) == multiply_4(12)\n",
    "assert multiply(22, 4) == multiply_4(22)\n",
    "assert multiply(32, 4) == multiply_4(32)"
   ]
  },
  {
   "cell_type": "code",
   "execution_count": 47,
   "metadata": {},
   "outputs": [
    {
     "name": "stdout",
     "output_type": "stream",
     "text": [
      "multiply_4.func     =<function multiply at 0x7f92702b92d0>\n",
      "multiply_4.args     =()\n",
      "multiply_4.keywords ={'y': 4}\n"
     ]
    }
   ],
   "source": [
    "print(f\"{multiply_4.func     =}\")\n",
    "print(f\"{multiply_4.args     =}\")\n",
    "print(f\"{multiply_4.keywords =}\")"
   ]
  },
  {
   "cell_type": "code",
   "execution_count": 48,
   "metadata": {},
   "outputs": [
    {
     "name": "stdout",
     "output_type": "stream",
     "text": [
      "10\n"
     ]
    }
   ],
   "source": [
    "# ----- Another Example\n",
    "def f(a, b, c):\n",
    "    return a + b * c\n",
    "\n",
    "\n",
    "def g(x, y=3):\n",
    "    return x(y)\n",
    "\n",
    "\n",
    "p = functools.partial(f, 4, 2)\n",
    "print(g(p))\n"
   ]
  },
  {
   "cell_type": "code",
   "execution_count": 49,
   "metadata": {},
   "outputs": [
    {
     "data": {
      "text/plain": [
       "12"
      ]
     },
     "execution_count": 49,
     "metadata": {},
     "output_type": "execute_result"
    }
   ],
   "source": [
    "int(12)"
   ]
  },
  {
   "cell_type": "code",
   "execution_count": 51,
   "metadata": {},
   "outputs": [
    {
     "data": {
      "text/plain": [
       "5"
      ]
     },
     "execution_count": 51,
     "metadata": {},
     "output_type": "execute_result"
    }
   ],
   "source": [
    "int(\"0101\", base=2)"
   ]
  },
  {
   "cell_type": "code",
   "execution_count": 53,
   "metadata": {},
   "outputs": [],
   "source": [
    "basetwo = functools.partial(int, base=2)\n",
    "basetwo.__doc__ = \"Convert base 2 string to an int.\"\n",
    "\n",
    "\n",
    "assert int(\"0101\", base=2) == basetwo(\"0101\")\n",
    "assert int(\"10010\", base=2) == basetwo(\"10010\")\n"
   ]
  },
  {
   "cell_type": "code",
   "execution_count": 54,
   "metadata": {},
   "outputs": [
    {
     "data": {
      "text/plain": [
       "'0b1100'"
      ]
     },
     "execution_count": 54,
     "metadata": {},
     "output_type": "execute_result"
    }
   ],
   "source": [
    "bin(12)"
   ]
  },
  {
   "cell_type": "code",
   "execution_count": 55,
   "metadata": {},
   "outputs": [
    {
     "name": "stdout",
     "output_type": "stream",
     "text": [
      "0b10010\n"
     ]
    }
   ],
   "source": [
    "bin_func = functools.partial(bin)\n",
    "bin_func.__doc__ = \"Convert an int to base 2 string.\"\n",
    "\n",
    "print(bin_func(18))\n",
    "assert bin(18) == bin_func(18)"
   ]
  },
  {
   "attachments": {},
   "cell_type": "markdown",
   "metadata": {},
   "source": [
    "\n",
    "Assignments\n",
    "------------\n",
    "1) Develop a calculator software which does +, -, *, / operations\n",
    "    Then, make use of partial functions to optimize your solution."
   ]
  },
  {
   "cell_type": "code",
   "execution_count": 56,
   "metadata": {},
   "outputs": [],
   "source": [
    "# Euclidean Distance is calculated between two points\n",
    "# (0, 0) -> (1, 1)\n",
    "# (0, 0) -> (9, 3)"
   ]
  },
  {
   "cell_type": "code",
   "execution_count": 57,
   "metadata": {},
   "outputs": [
    {
     "name": "stdout",
     "output_type": "stream",
     "text": [
      "distance1 =1.4142135623730951\n",
      "distance2 =9.486832980505138\n"
     ]
    }
   ],
   "source": [
    "import math\n",
    "\n",
    "def euclidean_distance(point1, point2):\n",
    "    x1, y1 = point1\n",
    "    x2, y2 = point2\n",
    "    return math.sqrt((x2 - x1) ** 2 + (y2 - y1) ** 2)\n",
    "\n",
    "\n",
    "# Method 1\n",
    "distance1 = euclidean_distance((0, 0), (1, 1))\n",
    "print(f\"{distance1 =}\")\n",
    "\n",
    "distance2 = euclidean_distance((0, 0), (9, 3))\n",
    "print(f\"{distance2 =}\")"
   ]
  },
  {
   "cell_type": "code",
   "execution_count": 58,
   "metadata": {},
   "outputs": [],
   "source": [
    "# Method 2 - using partial functions\n",
    "\n",
    "zero_euclid = functools.partial(euclidean_distance, (0, 0))\n",
    "\n",
    "assert euclidean_distance((0, 0), (1, 1)) == zero_euclid((1, 1))\n",
    "assert euclidean_distance((0, 0), (9, 3)) == zero_euclid((9, 3))"
   ]
  },
  {
   "cell_type": "markdown",
   "metadata": {},
   "source": [
    "### Lambda (or) Anonymous functions"
   ]
  },
  {
   "cell_type": "code",
   "execution_count": 59,
   "metadata": {},
   "outputs": [
    {
     "data": {
      "text/plain": [
       "4"
      ]
     },
     "execution_count": 59,
     "metadata": {},
     "output_type": "execute_result"
    }
   ],
   "source": [
    "def double(x):\n",
    "    return x * 2\n",
    "\n",
    "\n",
    "double(2)"
   ]
  },
  {
   "cell_type": "code",
   "execution_count": 60,
   "metadata": {},
   "outputs": [
    {
     "name": "stdout",
     "output_type": "stream",
     "text": [
      "double(2):4\n",
      "double(3):6\n"
     ]
    }
   ],
   "source": [
    "print(f\"double(2):{double(2)}\")\n",
    "print(f\"double(3):{double(3)}\")"
   ]
  },
  {
   "cell_type": "code",
   "execution_count": 61,
   "metadata": {},
   "outputs": [
    {
     "data": {
      "text/plain": [
       "<function __main__.<lambda>(x)>"
      ]
     },
     "execution_count": 61,
     "metadata": {},
     "output_type": "execute_result"
    }
   ],
   "source": [
    "lambda x: x * 2"
   ]
  },
  {
   "cell_type": "code",
   "execution_count": 62,
   "metadata": {},
   "outputs": [
    {
     "data": {
      "text/plain": [
       "<function __main__.<lambda>(x)>"
      ]
     },
     "execution_count": 62,
     "metadata": {},
     "output_type": "execute_result"
    }
   ],
   "source": [
    "dbl = lambda x: x*2\n",
    "\n",
    "dbl"
   ]
  },
  {
   "cell_type": "code",
   "execution_count": 63,
   "metadata": {},
   "outputs": [
    {
     "data": {
      "text/plain": [
       "function"
      ]
     },
     "execution_count": 63,
     "metadata": {},
     "output_type": "execute_result"
    }
   ],
   "source": [
    "type(dbl)"
   ]
  },
  {
   "cell_type": "code",
   "execution_count": 64,
   "metadata": {},
   "outputs": [
    {
     "data": {
      "text/plain": [
       "function"
      ]
     },
     "execution_count": 64,
     "metadata": {},
     "output_type": "execute_result"
    }
   ],
   "source": [
    "type(double)"
   ]
  },
  {
   "cell_type": "code",
   "execution_count": 65,
   "metadata": {},
   "outputs": [
    {
     "name": "stdout",
     "output_type": "stream",
     "text": [
      "double(2):4\n",
      "double(3):6\n",
      "dbl(2)   :4\n",
      "dbl(3)   :6\n"
     ]
    }
   ],
   "source": [
    "def double(x):\n",
    "    return x * 2\n",
    "\n",
    "\n",
    "print(f\"double(2):{double(2)}\")\n",
    "print(f\"double(3):{double(3)}\")\n",
    "\n",
    "dbl = lambda x: x * 2\n",
    "print(f\"dbl(2)   :{dbl(2)}\")\n",
    "print(f\"dbl(3)   :{dbl(3)}\")"
   ]
  },
  {
   "cell_type": "code",
   "execution_count": 66,
   "metadata": {},
   "outputs": [],
   "source": [
    "assert double(2) == dbl(2)\n",
    "assert double(3) == dbl(3)\n",
    "\n",
    "assert double(3) == (lambda x: x * 2)(3)"
   ]
  },
  {
   "cell_type": "code",
   "execution_count": 67,
   "metadata": {},
   "outputs": [
    {
     "name": "stdout",
     "output_type": "stream",
     "text": [
      "<class 'function'> <class 'function'>\n",
      "sys.getsizeof(double):144\n",
      "sys.getsizeof(dbl)   :144\n"
     ]
    }
   ],
   "source": [
    "import sys\n",
    "print(type(double), type(dbl))\n",
    "print(f\"sys.getsizeof(double):{sys.getsizeof(double)}\")\n",
    "print(f\"sys.getsizeof(dbl)   :{sys.getsizeof(dbl)}\")\n"
   ]
  },
  {
   "cell_type": "code",
   "execution_count": 68,
   "metadata": {},
   "outputs": [
    {
     "name": "stdout",
     "output_type": "stream",
     "text": [
      "binomial_expression(10) :114\n",
      "binexp(10)              :114\n"
     ]
    }
   ],
   "source": [
    "def binomial_expression(n):\n",
    "    return n**2 + 2 * n - 6\n",
    "\n",
    "\n",
    "print(f\"binomial_expression(10) :{binomial_expression(10)}\")\n",
    "\n",
    "\n",
    "binexp = lambda n: n**2 + 2 * n - 6\n",
    "print(f\"binexp(10)              :{binexp(10)}\")\n"
   ]
  },
  {
   "cell_type": "code",
   "execution_count": 69,
   "metadata": {},
   "outputs": [],
   "source": [
    "def hello(first_name, last_name):\n",
    "    return f\"Hello {first_name} {last_name} !!!\"\n",
    "\n",
    "h = lambda fn, ln: f\"Hello {fn} {ln} !!!\"\n",
    "\n",
    "assert hello(\"Gudo\", \"Russum\") == h(\"Gudo\", \"Russum\")"
   ]
  },
  {
   "cell_type": "code",
   "execution_count": 70,
   "metadata": {},
   "outputs": [],
   "source": [
    "def check_evenness(num):\n",
    "    # if num % 2 == 0:\n",
    "    #     return 'even'\n",
    "    # else:\n",
    "    #     return 'odd'\n",
    "    return \"even\" if num % 2 == 0 else \"odd\"\n",
    "\n",
    "\n",
    "tevl = lambda num: \"even\" if num % 2 == 0 else \"odd\"\n",
    "assert check_evenness(222) == tevl(222)\n",
    "assert check_evenness(123) == tevl(123)\n",
    "assert check_evenness(123) == (lambda num: \"even\" if num % 2 == 0 else \"odd\")(123)"
   ]
  },
  {
   "cell_type": "code",
   "execution_count": 71,
   "metadata": {},
   "outputs": [],
   "source": [
    "my_tuple = (12, 34, 45, 56, 67, 78, 90)\n",
    "#           0    1  2   3   4    5   6\n",
    "\n",
    "\n",
    "def get_index_of(given_tuple, search_value):\n",
    "    return given_tuple.index(search_value)\n",
    "\n",
    "\n",
    "get_index_l = lambda gvn_t, sv: gvn_t.index(sv)\n",
    "\n",
    "assert get_index_of(my_tuple, 56) == get_index_l(my_tuple, 56)"
   ]
  },
  {
   "cell_type": "code",
   "execution_count": 72,
   "metadata": {},
   "outputs": [
    {
     "name": "stdout",
     "output_type": "stream",
     "text": [
      "myfunc() = 'hello! no args given'\n",
      "myfunc() = 'hello! no args given'\n",
      "\n",
      "myfunc(\"Udhay\") = 'hello! My name is name'\n",
      "myfunc(\"Neha\") = 'hello! My name is name'\n",
      "\n",
      "myfunc(\"Udhay\") = 'hello! My name is Udhay'\n",
      "myfunc(\"Neha\") = 'hello! My name is Neha'\n"
     ]
    }
   ],
   "source": [
    "# ----- Lambda with no args\n",
    "myfunc = lambda: \"hello! no args given\" \n",
    "print(f\"{myfunc() = }\")\n",
    "print(f\"{myfunc() = }\")\n",
    "print()\n",
    "\n",
    "# ----- Lambda with args not used\n",
    "myfunc = lambda name: \"hello! My name is name\"\n",
    "print(f'{myfunc(\"Udhay\") = }')\n",
    "print(f'{myfunc(\"Neha\") = }')\n",
    "print()\n",
    "\n",
    "# ----- Lambda with args used\n",
    "myfunc = lambda name: f\"hello! My name is {name}\"\n",
    "print(f'{myfunc(\"Udhay\") = }')\n",
    "print(f'{myfunc(\"Neha\") = }')"
   ]
  },
  {
   "cell_type": "code",
   "execution_count": 73,
   "metadata": {},
   "outputs": [
    {
     "data": {
      "text/plain": [
       "<function __main__.wish.<locals>.<lambda>(name)>"
      ]
     },
     "execution_count": 73,
     "metadata": {},
     "output_type": "execute_result"
    }
   ],
   "source": [
    "def wish(message):\n",
    "    # return message\n",
    "    return lambda name: message.upper() + \" \" + name\n",
    "\n",
    "\n",
    "wish(\"Happy Birthday\")"
   ]
  },
  {
   "cell_type": "code",
   "execution_count": 74,
   "metadata": {},
   "outputs": [
    {
     "name": "stdout",
     "output_type": "stream",
     "text": [
      "<function wish.<locals>.<lambda> at 0x7f92702b8ee0>\n"
     ]
    }
   ],
   "source": [
    "greet = wish(\"Happy Birthday\")\n",
    "print(greet)"
   ]
  },
  {
   "cell_type": "code",
   "execution_count": 75,
   "metadata": {},
   "outputs": [
    {
     "data": {
      "text/plain": [
       "'HAPPY BIRTHDAY Sushmitha'"
      ]
     },
     "execution_count": 75,
     "metadata": {},
     "output_type": "execute_result"
    }
   ],
   "source": [
    "greet(\"Sushmitha\")"
   ]
  },
  {
   "cell_type": "code",
   "execution_count": 76,
   "metadata": {},
   "outputs": [
    {
     "data": {
      "text/plain": [
       "'HAPPY BIRTHDAY Sushmitha'"
      ]
     },
     "execution_count": 76,
     "metadata": {},
     "output_type": "execute_result"
    }
   ],
   "source": [
    "def wish(message):\n",
    "    # return message\n",
    "    return lambda name: message.upper() + \" \" + name\n",
    "\n",
    "\n",
    "wish(\"Happy Birthday\")(\"Sushmitha\")"
   ]
  },
  {
   "attachments": {},
   "cell_type": "markdown",
   "metadata": {},
   "source": [
    "###  Higher-Order Functions\n",
    "\n",
    "    - function which were designed to work on another functions\n",
    "        - zip, map, filter, functools.reduce"
   ]
  },
  {
   "cell_type": "code",
   "execution_count": 79,
   "metadata": {},
   "outputs": [
    {
     "name": "stdout",
     "output_type": "stream",
     "text": [
      "[1, 3, 5, 7]\n"
     ]
    }
   ],
   "source": [
    "# Method 1 - Traditional\n",
    "odd_nums = []\n",
    "for num in range(9):\n",
    "    if num % 2:\n",
    "        odd_nums.append(num)\n",
    "\n",
    "print(odd_nums)"
   ]
  },
  {
   "cell_type": "code",
   "execution_count": 80,
   "metadata": {},
   "outputs": [
    {
     "name": "stdout",
     "output_type": "stream",
     "text": [
      "[1, 3, 5, 7]\n"
     ]
    }
   ],
   "source": [
    "# Method 2: list comprehension\n",
    "\n",
    "odd_nums1 = [num for num in range(9) if num % 2]\n",
    "print(odd_nums1)"
   ]
  },
  {
   "cell_type": "code",
   "execution_count": 81,
   "metadata": {},
   "outputs": [
    {
     "name": "stdout",
     "output_type": "stream",
     "text": [
      "[1, 3, 5, 7]\n"
     ]
    }
   ],
   "source": [
    "# Method 3: applying functions\n",
    "\n",
    "def is_odd(n):\n",
    "    return True if n % 2 else False\n",
    "\n",
    "\n",
    "odd_nums2 = []\n",
    "for num in range(9):\n",
    "    if is_odd(num):\n",
    "        odd_nums2.append(num)\n",
    "\n",
    "print(odd_nums2)"
   ]
  },
  {
   "cell_type": "code",
   "execution_count": 82,
   "metadata": {},
   "outputs": [
    {
     "data": {
      "text/plain": [
       "<map at 0x7f92702a3610>"
      ]
     },
     "execution_count": 82,
     "metadata": {},
     "output_type": "execute_result"
    }
   ],
   "source": [
    "# Method 4: applying functions\n",
    "\n",
    "map(is_odd, range(9))"
   ]
  },
  {
   "cell_type": "code",
   "execution_count": 83,
   "metadata": {},
   "outputs": [
    {
     "name": "stdout",
     "output_type": "stream",
     "text": [
      "[False, True, False, True, False, True, False, True, False]\n"
     ]
    }
   ],
   "source": [
    "odd_nums3 = list(map(is_odd, range(9)))\n",
    "print(odd_nums3)"
   ]
  },
  {
   "cell_type": "code",
   "execution_count": 84,
   "metadata": {},
   "outputs": [
    {
     "name": "stdout",
     "output_type": "stream",
     "text": [
      "[False, True, False, True, False, True, False, True, False]\n"
     ]
    }
   ],
   "source": [
    "odd_nums3 = list(map(is_odd, [0, 1, 2, 3, 4, 5, 6, 7, 8]))\n",
    "print(odd_nums3)"
   ]
  },
  {
   "cell_type": "code",
   "execution_count": 85,
   "metadata": {},
   "outputs": [
    {
     "name": "stdout",
     "output_type": "stream",
     "text": [
      "[1, 3, 5, 7]\n"
     ]
    }
   ],
   "source": [
    "odd_nums3 = list(filter(is_odd, [0, 1, 2, 3, 4, 5, 6, 7, 8]))\n",
    "print(odd_nums3)"
   ]
  },
  {
   "cell_type": "code",
   "execution_count": 86,
   "metadata": {},
   "outputs": [
    {
     "name": "stdout",
     "output_type": "stream",
     "text": [
      "[False, True, False, True, False, True, False, True, False]\n",
      "[1, 3, 5, 7]\n"
     ]
    }
   ],
   "source": [
    "\n",
    "# Method 4: applying lambdas\n",
    "odd_nums3 = list(map(lambda x: x % 2 != 0, range(9)))\n",
    "print(odd_nums3)\n",
    "\n",
    "odd_nums3 = list(filter(lambda x: x % 2 != 0, range(9)))\n",
    "print(odd_nums3)"
   ]
  },
  {
   "attachments": {},
   "cell_type": "markdown",
   "metadata": {},
   "source": [
    "Assignment:\n",
    "----------\n",
    "\n",
    "    1) Try to get the prime numbers between 1208 and 4893\n",
    "        HINTS: used-defined function to check primeness of a number\n",
    "            filter()"
   ]
  },
  {
   "cell_type": "code",
   "execution_count": 88,
   "metadata": {},
   "outputs": [
    {
     "name": "stdout",
     "output_type": "stream",
     "text": [
      "[('1', 'a'), ('2', 'b'), ('3', 'c')]\n"
     ]
    }
   ],
   "source": [
    "group1 = (\"1\", \"2\", \"3\")\n",
    "group2 = (\"a\", \"b\", \"c\", \"d\")\n",
    "\n",
    "result = list(zip(group1, group2))\n",
    "print(result)  \n",
    "\n",
    "# NOTE: asymetric values will be ignored\n"
   ]
  },
  {
   "cell_type": "code",
   "execution_count": 89,
   "metadata": {},
   "outputs": [
    {
     "data": {
      "text/plain": [
       "{'1': 'a', '2': 'b', '3': 'c'}"
      ]
     },
     "execution_count": 89,
     "metadata": {},
     "output_type": "execute_result"
    }
   ],
   "source": [
    "dict(result)"
   ]
  },
  {
   "cell_type": "code",
   "execution_count": 90,
   "metadata": {},
   "outputs": [
    {
     "name": "stdout",
     "output_type": "stream",
     "text": [
      "{'a': '1', 'b': '2', 'c': '3'}\n"
     ]
    }
   ],
   "source": [
    "result = zip(group2, group1)\n",
    "print(dict(result))"
   ]
  },
  {
   "cell_type": "code",
   "execution_count": 91,
   "metadata": {},
   "outputs": [
    {
     "name": "stdout",
     "output_type": "stream",
     "text": [
      "[('1', 'a', True), ('2', 'b', False)]\n"
     ]
    }
   ],
   "source": [
    "group3 = (True, False)\n",
    "\n",
    "\n",
    "print(list(\n",
    "    zip(group1, group2, group3)\n",
    "    )) "
   ]
  },
  {
   "cell_type": "code",
   "execution_count": 92,
   "metadata": {},
   "outputs": [
    {
     "name": "stdout",
     "output_type": "stream",
     "text": [
      "[(1, 11, 111), (2, 22, 222), (3, 33, 333)]\n"
     ]
    }
   ],
   "source": [
    "print(\n",
    "    list(\n",
    "        zip(\n",
    "            (1, 2, 3),\n",
    "            (11, 22, 33, 44),\n",
    "            (111, 222, 333, 444),\n",
    "        )\n",
    "    )\n",
    ")"
   ]
  },
  {
   "cell_type": "code",
   "execution_count": 93,
   "metadata": {},
   "outputs": [
    {
     "name": "stdout",
     "output_type": "stream",
     "text": [
      "[(1, 'a'), (2, 'b')]\n"
     ]
    }
   ],
   "source": [
    "# Question: How to make map to work like zip\n",
    "print(list(zip((1, 2, 3), [\"a\", \"b\"])))"
   ]
  },
  {
   "cell_type": "code",
   "execution_count": 95,
   "metadata": {},
   "outputs": [
    {
     "data": {
      "text/plain": [
       "[(1, 'a'), (2, 'b')]"
      ]
     },
     "execution_count": 95,
     "metadata": {},
     "output_type": "execute_result"
    }
   ],
   "source": [
    "list(\n",
    "    map(\n",
    "        lambda x, y: (x,y), \n",
    "        (1, 2, 3), \n",
    "        [\"a\", \"b\"]\n",
    "    )\n",
    ")"
   ]
  },
  {
   "cell_type": "code",
   "execution_count": 96,
   "metadata": {},
   "outputs": [
    {
     "name": "stdout",
     "output_type": "stream",
     "text": [
      "[True, False, True, False, True, True]\n",
      "[12, 2, 0, 9]\n"
     ]
    }
   ],
   "source": [
    "def is_positive(num):\n",
    "    return True if num >= 0 else False\n",
    "\n",
    "data = (12, -23.0, 2, -123, -0, 9)\n",
    "\n",
    "\n",
    "print(list(map(is_positive, data)))\n",
    "print(list(filter(is_positive, data)))"
   ]
  },
  {
   "cell_type": "code",
   "execution_count": 97,
   "metadata": {},
   "outputs": [
    {
     "name": "stdout",
     "output_type": "stream",
     "text": [
      "[True, False, True, False, True, True]\n",
      "[12, 2, 0, 9]\n"
     ]
    }
   ],
   "source": [
    "print(list(map(lambda num: True if num >= 0 else False , data)))\n",
    "print(list(filter(lambda num: True if num >= 0 else False, data)))"
   ]
  },
  {
   "cell_type": "code",
   "execution_count": 98,
   "metadata": {},
   "outputs": [
    {
     "name": "stdout",
     "output_type": "stream",
     "text": [
      "['P', 'y', 't', 'h', 'o', 'n']\n"
     ]
    }
   ],
   "source": [
    "# Caesar Cipher Implementation\n",
    "print(list(\n",
    "    map(lambda ch: ch, \"Python\")\n",
    "    \n",
    "    ))\n"
   ]
  },
  {
   "cell_type": "code",
   "execution_count": 99,
   "metadata": {},
   "outputs": [
    {
     "name": "stdout",
     "output_type": "stream",
     "text": [
      "['P', 'y', 't', 'h', 'o', 'n']\n",
      "[80, 121, 116, 104, 111, 110]\n"
     ]
    }
   ],
   "source": [
    "print(list(map(lambda ch: ch, \"Python\")))\n",
    "print(list(map(lambda ch: ord(ch), \"Python\")))"
   ]
  },
  {
   "cell_type": "code",
   "execution_count": 100,
   "metadata": {},
   "outputs": [
    {
     "name": "stdout",
     "output_type": "stream",
     "text": [
      "[83, 124, 119, 107, 114, 113]\n"
     ]
    }
   ],
   "source": [
    "print(list(map(lambda ch: ord(ch) + 3, \"Python\")))"
   ]
  },
  {
   "cell_type": "code",
   "execution_count": 101,
   "metadata": {},
   "outputs": [
    {
     "data": {
      "text/plain": [
       "'q'"
      ]
     },
     "execution_count": 101,
     "metadata": {},
     "output_type": "execute_result"
    }
   ],
   "source": [
    "chr(113)"
   ]
  },
  {
   "cell_type": "code",
   "execution_count": 102,
   "metadata": {},
   "outputs": [
    {
     "name": "stdout",
     "output_type": "stream",
     "text": [
      "['S', '|', 'w', 'k', 'r', 'q']\n"
     ]
    }
   ],
   "source": [
    "print(list(map(lambda ch: chr(ord(ch) + 3), \"Python\")))"
   ]
  },
  {
   "cell_type": "code",
   "execution_count": 103,
   "metadata": {},
   "outputs": [
    {
     "name": "stdout",
     "output_type": "stream",
     "text": [
      "S|wkrq\n"
     ]
    }
   ],
   "source": [
    "print(\"\".join(map(lambda ch: chr(ord(ch) + 3), \"Python\")))"
   ]
  },
  {
   "cell_type": "code",
   "execution_count": 104,
   "metadata": {},
   "outputs": [
    {
     "name": "stdout",
     "output_type": "stream",
     "text": [
      "Wrgd|#lv#sodq#iru#dpexvk#dw#wkh#ulyhu#hqg\n"
     ]
    }
   ],
   "source": [
    "print(\"\".join(map(lambda ch: chr(ord(ch) + 3), \"Today is plan for ambush at the river end\")))"
   ]
  },
  {
   "cell_type": "code",
   "execution_count": 105,
   "metadata": {},
   "outputs": [
    {
     "name": "stdout",
     "output_type": "stream",
     "text": [
      "[2, 4, 6, 8]\n"
     ]
    }
   ],
   "source": [
    "print(list(map(lambda x: x * 2, [1, 2, 3, 4])))"
   ]
  },
  {
   "cell_type": "code",
   "execution_count": 106,
   "metadata": {},
   "outputs": [
    {
     "ename": "TypeError",
     "evalue": "<lambda>() missing 1 required positional argument: 'y'",
     "output_type": "error",
     "traceback": [
      "\u001b[0;31m---------------------------------------------------------------------------\u001b[0m",
      "\u001b[0;31mTypeError\u001b[0m                                 Traceback (most recent call last)",
      "Cell \u001b[0;32mIn[106], line 1\u001b[0m\n\u001b[0;32m----> 1\u001b[0m \u001b[39mprint\u001b[39m(\u001b[39mlist\u001b[39;49m(\u001b[39mmap\u001b[39;49m(\u001b[39mlambda\u001b[39;49;00m x, y: x \u001b[39m+\u001b[39;49m y, [\u001b[39m1\u001b[39;49m, \u001b[39m2\u001b[39;49m, \u001b[39m3\u001b[39;49m, \u001b[39m4\u001b[39;49m])))\n",
      "\u001b[0;31mTypeError\u001b[0m: <lambda>() missing 1 required positional argument: 'y'"
     ]
    }
   ],
   "source": [
    "print(list(map(lambda x, y: x + y, [1, 2, 3, 4])))"
   ]
  },
  {
   "cell_type": "code",
   "execution_count": 107,
   "metadata": {},
   "outputs": [
    {
     "name": "stdout",
     "output_type": "stream",
     "text": [
      "[12, 24, 36]\n"
     ]
    }
   ],
   "source": [
    "print(list(map(lambda x, y: x + y, [1, 2, 3, 4], (11, 22, 33))))"
   ]
  },
  {
   "cell_type": "code",
   "execution_count": 108,
   "metadata": {},
   "outputs": [
    {
     "name": "stdout",
     "output_type": "stream",
     "text": [
      "['az', 'by', 'cx']\n"
     ]
    }
   ],
   "source": [
    "print(list(map(lambda x, y: x + y, \"abcd\", \"zyx\")))"
   ]
  },
  {
   "cell_type": "code",
   "execution_count": 109,
   "metadata": {},
   "outputs": [
    {
     "name": "stdout",
     "output_type": "stream",
     "text": [
      "['az', 'by', 'cx']\n"
     ]
    }
   ],
   "source": [
    "print(list(map(lambda x, y, z: x + y, \"abcd\", \"zyx\", [1, 2, 3])))"
   ]
  },
  {
   "cell_type": "code",
   "execution_count": 111,
   "metadata": {},
   "outputs": [
    {
     "name": "stdout",
     "output_type": "stream",
     "text": [
      "['az1', 'by2', 'cx3']\n"
     ]
    }
   ],
   "source": [
    "print(list(map(lambda x, y, z: x + y + str(z), \"abcd\", \"zyx\", [1, 2, 3])))\n"
   ]
  },
  {
   "attachments": {},
   "cell_type": "markdown",
   "metadata": {},
   "source": [
    "# reduce() will take a single iterable only & return single value"
   ]
  },
  {
   "cell_type": "code",
   "execution_count": 112,
   "metadata": {},
   "outputs": [
    {
     "ename": "NameError",
     "evalue": "name 'reduce' is not defined",
     "output_type": "error",
     "traceback": [
      "\u001b[0;31m---------------------------------------------------------------------------\u001b[0m",
      "\u001b[0;31mNameError\u001b[0m                                 Traceback (most recent call last)",
      "Cell \u001b[0;32mIn[112], line 1\u001b[0m\n\u001b[0;32m----> 1\u001b[0m reduce()\n",
      "\u001b[0;31mNameError\u001b[0m: name 'reduce' is not defined"
     ]
    }
   ],
   "source": [
    "reduce()"
   ]
  },
  {
   "cell_type": "code",
   "execution_count": 113,
   "metadata": {},
   "outputs": [],
   "source": [
    "from functools import reduce"
   ]
  },
  {
   "cell_type": "code",
   "execution_count": 114,
   "metadata": {},
   "outputs": [
    {
     "ename": "TypeError",
     "evalue": "reduce expected at least 2 arguments, got 0",
     "output_type": "error",
     "traceback": [
      "\u001b[0;31m---------------------------------------------------------------------------\u001b[0m",
      "\u001b[0;31mTypeError\u001b[0m                                 Traceback (most recent call last)",
      "Cell \u001b[0;32mIn[114], line 1\u001b[0m\n\u001b[0;32m----> 1\u001b[0m reduce()\n",
      "\u001b[0;31mTypeError\u001b[0m: reduce expected at least 2 arguments, got 0"
     ]
    }
   ],
   "source": [
    "reduce()"
   ]
  },
  {
   "cell_type": "code",
   "execution_count": 116,
   "metadata": {},
   "outputs": [
    {
     "data": {
      "text/plain": [
       "[6, 8, 10, 12]"
      ]
     },
     "execution_count": 116,
     "metadata": {},
     "output_type": "execute_result"
    }
   ],
   "source": [
    "list(map(lambda x, y: x + y, [1, 2, 3, 4], [5, 6, 7, 8]))"
   ]
  },
  {
   "cell_type": "code",
   "execution_count": 1,
   "metadata": {},
   "outputs": [
    {
     "ename": "TypeError",
     "evalue": "filter expected 2 arguments, got 3",
     "output_type": "error",
     "traceback": [
      "\u001b[0;31m---------------------------------------------------------------------------\u001b[0m",
      "\u001b[0;31mTypeError\u001b[0m                                 Traceback (most recent call last)",
      "Cell \u001b[0;32mIn[1], line 1\u001b[0m\n\u001b[0;32m----> 1\u001b[0m \u001b[39mlist\u001b[39m(\u001b[39mfilter\u001b[39;49m(\u001b[39mlambda\u001b[39;49;00m x, y: x \u001b[39m+\u001b[39;49m y, [\u001b[39m1\u001b[39;49m, \u001b[39m2\u001b[39;49m, \u001b[39m3\u001b[39;49m, \u001b[39m4\u001b[39;49m], [\u001b[39m5\u001b[39;49m, \u001b[39m6\u001b[39;49m, \u001b[39m7\u001b[39;49m, \u001b[39m8\u001b[39;49m]))\n",
      "\u001b[0;31mTypeError\u001b[0m: filter expected 2 arguments, got 3"
     ]
    }
   ],
   "source": [
    "list(filter(lambda x, y: x + y, [1, 2, 3, 4], [5, 6, 7, 8]))"
   ]
  },
  {
   "cell_type": "code",
   "execution_count": 4,
   "metadata": {},
   "outputs": [
    {
     "ename": "TypeError",
     "evalue": "can only concatenate list (not \"int\") to list",
     "output_type": "error",
     "traceback": [
      "\u001b[0;31m---------------------------------------------------------------------------\u001b[0m",
      "\u001b[0;31mTypeError\u001b[0m                                 Traceback (most recent call last)",
      "Cell \u001b[0;32mIn[4], line 3\u001b[0m\n\u001b[1;32m      1\u001b[0m \u001b[39mfrom\u001b[39;00m \u001b[39mfunctools\u001b[39;00m \u001b[39mimport\u001b[39;00m reduce\n\u001b[0;32m----> 3\u001b[0m reduce(\u001b[39mlambda\u001b[39;49;00m x, y: x \u001b[39m+\u001b[39;49m y, [\u001b[39m1\u001b[39;49m, \u001b[39m2\u001b[39;49m, \u001b[39m3\u001b[39;49m, \u001b[39m4\u001b[39;49m], [\u001b[39m5\u001b[39;49m, \u001b[39m6\u001b[39;49m, \u001b[39m7\u001b[39;49m, \u001b[39m8\u001b[39;49m])\n",
      "Cell \u001b[0;32mIn[4], line 3\u001b[0m, in \u001b[0;36m<lambda>\u001b[0;34m(x, y)\u001b[0m\n\u001b[1;32m      1\u001b[0m \u001b[39mfrom\u001b[39;00m \u001b[39mfunctools\u001b[39;00m \u001b[39mimport\u001b[39;00m reduce\n\u001b[0;32m----> 3\u001b[0m reduce(\u001b[39mlambda\u001b[39;00m x, y: x \u001b[39m+\u001b[39;49m y, [\u001b[39m1\u001b[39m, \u001b[39m2\u001b[39m, \u001b[39m3\u001b[39m, \u001b[39m4\u001b[39m], [\u001b[39m5\u001b[39m, \u001b[39m6\u001b[39m, \u001b[39m7\u001b[39m, \u001b[39m8\u001b[39m])\n",
      "\u001b[0;31mTypeError\u001b[0m: can only concatenate list (not \"int\") to list"
     ]
    }
   ],
   "source": [
    "from functools import reduce\n",
    "\n",
    "reduce(lambda x, y: x + y, [1, 2, 3, 4], [5, 6, 7, 8])"
   ]
  },
  {
   "cell_type": "code",
   "execution_count": 5,
   "metadata": {},
   "outputs": [
    {
     "data": {
      "text/plain": [
       "10"
      ]
     },
     "execution_count": 5,
     "metadata": {},
     "output_type": "execute_result"
    }
   ],
   "source": [
    "reduce(lambda x, y: x + y, [1, 2, 3, 4])"
   ]
  },
  {
   "cell_type": "code",
   "execution_count": 6,
   "metadata": {},
   "outputs": [],
   "source": [
    "# x, y =  1, 2\n",
    "# x, y = 3, 3\n",
    "# x, y = 6, 4"
   ]
  },
  {
   "cell_type": "code",
   "execution_count": 7,
   "metadata": {},
   "outputs": [
    {
     "name": "stdout",
     "output_type": "stream",
     "text": [
      "10\n"
     ]
    }
   ],
   "source": [
    "print(reduce(lambda x, y: x + y, [1, 2, 3, 4]))  # (((1+2)+3)+4)\n",
    "\n",
    "# NOTE: reduce() will take a single iterable only\n"
   ]
  },
  {
   "cell_type": "code",
   "execution_count": 8,
   "metadata": {},
   "outputs": [
    {
     "name": "stdout",
     "output_type": "stream",
     "text": [
      "24\n"
     ]
    }
   ],
   "source": [
    "print(reduce(lambda x, y: x * y, [1, 2, 3, 4]))  # factorial(4)"
   ]
  },
  {
   "cell_type": "code",
   "execution_count": 9,
   "metadata": {},
   "outputs": [
    {
     "name": "stdout",
     "output_type": "stream",
     "text": [
      "24\n"
     ]
    }
   ],
   "source": [
    "print(reduce(lambda x, y: x * y, range(1, 4 + 1)))  # factorial(4)"
   ]
  },
  {
   "cell_type": "code",
   "execution_count": 10,
   "metadata": {},
   "outputs": [
    {
     "name": "stdout",
     "output_type": "stream",
     "text": [
      "17\n"
     ]
    }
   ],
   "source": [
    "print(reduce(lambda a, b: a + b, [1, 3, 5, 6, 2]))"
   ]
  },
  {
   "cell_type": "code",
   "execution_count": 11,
   "metadata": {},
   "outputs": [
    {
     "name": "stdout",
     "output_type": "stream",
     "text": [
      "['__abs__', '__add__', '__all__', '__and__', '__builtins__', '__cached__', '__concat__', '__contains__', '__delitem__', '__doc__', '__eq__', '__file__', '__floordiv__', '__ge__', '__getitem__', '__gt__', '__iadd__', '__iand__', '__iconcat__', '__ifloordiv__', '__ilshift__', '__imatmul__', '__imod__', '__imul__', '__index__', '__inv__', '__invert__', '__ior__', '__ipow__', '__irshift__', '__isub__', '__itruediv__', '__ixor__', '__le__', '__loader__', '__lshift__', '__lt__', '__matmul__', '__mod__', '__mul__', '__name__', '__ne__', '__neg__', '__not__', '__or__', '__package__', '__pos__', '__pow__', '__rshift__', '__setitem__', '__spec__', '__sub__', '__truediv__', '__xor__', '_abs', 'abs', 'add', 'and_', 'attrgetter', 'concat', 'contains', 'countOf', 'delitem', 'eq', 'floordiv', 'ge', 'getitem', 'gt', 'iadd', 'iand', 'iconcat', 'ifloordiv', 'ilshift', 'imatmul', 'imod', 'imul', 'index', 'indexOf', 'inv', 'invert', 'ior', 'ipow', 'irshift', 'is_', 'is_not', 'isub', 'itemgetter', 'itruediv', 'ixor', 'le', 'length_hint', 'lshift', 'lt', 'matmul', 'methodcaller', 'mod', 'mul', 'ne', 'neg', 'not_', 'or_', 'pos', 'pow', 'rshift', 'setitem', 'sub', 'truediv', 'truth', 'xor']\n"
     ]
    }
   ],
   "source": [
    "import operator\n",
    "\n",
    "print(dir(operator))"
   ]
  },
  {
   "cell_type": "code",
   "execution_count": 12,
   "metadata": {},
   "outputs": [
    {
     "name": "stdout",
     "output_type": "stream",
     "text": [
      "17\n",
      "17\n"
     ]
    }
   ],
   "source": [
    "print(reduce(lambda a, b: a + b, [1, 3, 5, 6, 2]))\n",
    "print(reduce(operator.add, [1, 3, 5, 6, 2]))\n"
   ]
  },
  {
   "cell_type": "code",
   "execution_count": 13,
   "metadata": {},
   "outputs": [
    {
     "name": "stdout",
     "output_type": "stream",
     "text": [
      "180\n",
      "180\n"
     ]
    }
   ],
   "source": [
    "print(reduce(lambda a, b: a * b, [1, 3, 5, 6, 2]))\n",
    "print(reduce(operator.mul, [1, 3, 5, 6, 2]))"
   ]
  },
  {
   "cell_type": "code",
   "execution_count": 14,
   "metadata": {},
   "outputs": [
    {
     "name": "stdout",
     "output_type": "stream",
     "text": [
      "Iamconfidentaboutmyself\n",
      "I am confident about myself\n"
     ]
    }
   ],
   "source": [
    "mystrings = (\"I\", \"am\", \"confident\", \"about\", \"myself\")\n",
    "print(reduce(operator.add, mystrings))\n",
    "print(reduce(lambda word1, word2: word1 + \" \" + word2, mystrings))"
   ]
  },
  {
   "cell_type": "code",
   "execution_count": 15,
   "metadata": {},
   "outputs": [
    {
     "name": "stdout",
     "output_type": "stream",
     "text": [
      "17\n",
      "17\n"
     ]
    }
   ],
   "source": [
    "# to get the intermediate values, using reduce operation\n",
    "print(reduce(lambda p, q: p + q, [1, 3, 5, 6, 2]))  # 17\n",
    "print(reduce(operator.add, [1, 3, 5, 6, 2]))  # 17\n"
   ]
  },
  {
   "cell_type": "code",
   "execution_count": 16,
   "metadata": {},
   "outputs": [
    {
     "name": "stdout",
     "output_type": "stream",
     "text": [
      "[1, 4, 9, 15, 17]\n"
     ]
    }
   ],
   "source": [
    "import itertools\n",
    "\n",
    "print(\n",
    "    list(itertools.accumulate([1, 3, 5, 6, 2], lambda x, y: x + y))\n",
    ") "
   ]
  },
  {
   "attachments": {},
   "cell_type": "markdown",
   "metadata": {},
   "source": [
    "###  Recursion\n",
    "    - Recursion is a programming technique in which a call to a function results\n",
    "       in another call to that same function.\n",
    "    - Iteration is calling an object, and moving over it.\n",
    "\n",
    "\n",
    "Three Laws of Recursion:\n",
    "------------------------\n",
    "    1. A recursive algorithm must have a base case.\n",
    "    2. A recursive algorithm must change its state and move toward the base case.\n",
    "    3. A recursive algorithm must call itself, recursively.\n",
    "\n",
    "\n",
    "    pseudo-code:\n",
    "    -------------\n",
    "    def funcName(<input paramaters>):\n",
    "        <some condition check for termination>\n",
    "        <some logic>\n",
    "        return funcName(<input parameters>)\n",
    "\n",
    "\n",
    "    ONLINE TOOL - https://www.recursionvisualizer.com/\n"
   ]
  },
  {
   "cell_type": "code",
   "execution_count": 2,
   "metadata": {},
   "outputs": [
    {
     "name": "stdout",
     "output_type": "stream",
     "text": [
      "\tnum =9 \n",
      "\tnum =8 \n",
      "\tnum =7 \n",
      "\tnum =6 \n",
      "\tnum =5 \n",
      "\tnum =4 \n",
      "\tnum =3 \n",
      "\tnum =2 \n",
      "factorial(9) =362880\n"
     ]
    }
   ],
   "source": [
    "# Example - calculating the factorial\n",
    "# factorial(9) = 9 * 8 * 7 * ..... * 1\n",
    "\n",
    "\n",
    "\n",
    "# Method 1 - using recursions\n",
    "def factorial(num):\n",
    "    if num == 1:\n",
    "        return 1\n",
    "    print(f\"\\t{num =} \")\n",
    "    return num * factorial(num -1)\n",
    "\n",
    "\n",
    "print(f\"{factorial(9) =}\")"
   ]
  },
  {
   "cell_type": "code",
   "execution_count": 3,
   "metadata": {},
   "outputs": [
    {
     "name": "stdout",
     "output_type": "stream",
     "text": [
      "362880\n"
     ]
    }
   ],
   "source": [
    "#  Method 2\n",
    "from functools import reduce\n",
    "\n",
    "factorial_red = reduce(lambda x, y: x * y, range(1, 9 + 1))\n",
    "print(factorial_red)"
   ]
  },
  {
   "attachments": {},
   "cell_type": "markdown",
   "metadata": {},
   "source": [
    "##### Fibonacci series Generation\n",
    "    - first two numbers are 0 & 1\n",
    "    - each next number is a summation of previous two nums\n",
    "    - 0, 1, 1, 2, 3, 5, 8, 13, .....\n",
    "\n",
    "    (0, 1, 1, 2, 3, 5, 8, 13....)\n",
    "    0  1  2  3  4  5  6   7\n",
    "            using recursions"
   ]
  },
  {
   "cell_type": "code",
   "execution_count": 5,
   "metadata": {},
   "outputs": [
    {
     "name": "stdout",
     "output_type": "stream",
     "text": [
      "fib(5) =5\n"
     ]
    }
   ],
   "source": [
    "def fib(n):\n",
    "    if n == 0:\n",
    "        return 0\n",
    "    elif n == 1:\n",
    "        return 1\n",
    "    return fib(n -1) + fib(n- 2)\n",
    "\n",
    "\n",
    "print(f\"{fib(5) =}\")\n",
    "\n",
    "# fib(4)                                + fib(3)\n",
    "# fib(3)            + fib(2)            + fib(2)            + fib(1)\n",
    "# fib(2) + fib(1)   + fib(1) + fib(0)   + fib(1) + fib(0)   + fib(0) + fib(-1) ...\n"
   ]
  },
  {
   "cell_type": "code",
   "execution_count": 6,
   "metadata": {},
   "outputs": [
    {
     "name": "stdout",
     "output_type": "stream",
     "text": [
      " 0 th element is    0\n",
      " 1 th element is    1\n",
      " 2 th element is    1\n",
      " 3 th element is    2\n",
      " 4 th element is    3\n"
     ]
    }
   ],
   "source": [
    "for loop_index, num in enumerate(range(5)):\n",
    "    print(f\"{loop_index:2} th element is {fib(num):4}\")"
   ]
  },
  {
   "cell_type": "code",
   "execution_count": 7,
   "metadata": {},
   "outputs": [
    {
     "name": "stdout",
     "output_type": "stream",
     "text": [
      "first 5 fib series nums: [1, 1, 2, 3, 5]\n"
     ]
    }
   ],
   "source": [
    "# Method 2\n",
    "def get_fibs_till(n):\n",
    "    a, b = 0, 1\n",
    "    fib_nums = []\n",
    "    for _ in range(n):\n",
    "        a, b = b, a + b    # tuple unpacking\n",
    "        fib_nums.append(a)\n",
    "    return fib_nums\n",
    "\n",
    "\n",
    "print(\"first 5 fib series nums:\", get_fibs_till(5))"
   ]
  },
  {
   "cell_type": "code",
   "execution_count": 8,
   "metadata": {},
   "outputs": [],
   "source": [
    "# **NOTE :**\n",
    "# - Python doesnot have Tail Call optimization(TCO), to handle the recursive functions.\n",
    "# - It is very difficult to add TCO to python, as it is a dynamic language."
   ]
  },
  {
   "cell_type": "code",
   "execution_count": 9,
   "metadata": {},
   "outputs": [
    {
     "name": "stdout",
     "output_type": "stream",
     "text": [
      "sys.getrecursionlimit() =3000\n"
     ]
    }
   ],
   "source": [
    "import sys\n",
    "# To get the stack depth - platform dependent\n",
    "print(f\"{sys.getrecursionlimit() =}\")"
   ]
  },
  {
   "cell_type": "code",
   "execution_count": null,
   "metadata": {},
   "outputs": [],
   "source": []
  }
 ],
 "metadata": {
  "kernelspec": {
   "display_name": "Python 3",
   "language": "python",
   "name": "python3"
  },
  "language_info": {
   "codemirror_mode": {
    "name": "ipython",
    "version": 3
   },
   "file_extension": ".py",
   "mimetype": "text/x-python",
   "name": "python",
   "nbconvert_exporter": "python",
   "pygments_lexer": "ipython3",
   "version": "3.10.4"
  },
  "orig_nbformat": 4
 },
 "nbformat": 4,
 "nbformat_minor": 2
}
