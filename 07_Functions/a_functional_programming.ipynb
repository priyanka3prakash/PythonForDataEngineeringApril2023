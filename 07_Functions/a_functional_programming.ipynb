{
 "cells": [
  {
   "cell_type": "markdown",
   "metadata": {},
   "source": [
    "## Functions\n",
    "            - code re-usability\n",
    "            - To modularize the problem\n",
    "            - Better maintenance of the code"
   ]
  },
  {
   "cell_type": "code",
   "execution_count": 1,
   "metadata": {},
   "outputs": [
    {
     "name": "stdout",
     "output_type": "stream",
     "text": [
      "Hello world\n",
      "Hello world\n",
      "Hello world\n",
      "Hello world\n"
     ]
    }
   ],
   "source": [
    "# Method1\n",
    "print(\"Hello world\")\n",
    "print(\"Hello world\")\n",
    "print(\"Hello world\")\n",
    "print(\"Hello world\")"
   ]
  },
  {
   "cell_type": "code",
   "execution_count": 2,
   "metadata": {},
   "outputs": [
    {
     "name": "stdout",
     "output_type": "stream",
     "text": [
      "Hello world\n",
      "Hello world\n",
      "Hello world\n",
      "Hello world\n"
     ]
    }
   ],
   "source": [
    "def hello():\n",
    "    print(\"Hello world\")\n",
    "\n",
    "\n",
    "hello()\n",
    "hello()\n",
    "hello()\n",
    "hello()"
   ]
  },
  {
   "cell_type": "code",
   "execution_count": 3,
   "metadata": {},
   "outputs": [
    {
     "name": "stdout",
     "output_type": "stream",
     "text": [
      "111\n",
      "1261\n",
      "1.0121644804\n"
     ]
    }
   ],
   "source": [
    "# Method 1\n",
    "n = 9\n",
    "binomial_expr = n**2 + 3 * n + 3\n",
    "print(binomial_expr)\n",
    "\n",
    "n = 34\n",
    "binomial_expr = n**2 + 3 * n + 3\n",
    "print(binomial_expr)\n",
    "\n",
    "n = -0.98798\n",
    "binomial_expr = n**2 + 3 * n + 3\n",
    "print(binomial_expr)"
   ]
  },
  {
   "cell_type": "code",
   "execution_count": 4,
   "metadata": {},
   "outputs": [
    {
     "name": "stdout",
     "output_type": "stream",
     "text": [
      "111\n",
      "1261\n",
      "1.0121644804\n"
     ]
    }
   ],
   "source": [
    "# Method 2\n",
    "\n",
    "def binomial_expression(x):\n",
    "    binomial_expr = x**2 + 3 * x + 3\n",
    "    print(binomial_expr)\n",
    "\n",
    "\n",
    "binomial_expression(9)\n",
    "binomial_expression(34)\n",
    "binomial_expression(-0.98798)"
   ]
  },
  {
   "cell_type": "code",
   "execution_count": 9,
   "metadata": {},
   "outputs": [
    {
     "name": "stdout",
     "output_type": "stream",
     "text": [
      "[0, 2, 4, 6, 8]\n",
      "[10, 12, 14, 16, 18, 20, 22, 24, 26, 28]\n",
      "[46, 48, 50, 52, 54, 56]\n"
     ]
    }
   ],
   "source": [
    "lower_bound, upper_bound = 0, 10\n",
    "\n",
    "even_nums = []\n",
    "for i in range(lower_bound, upper_bound):\n",
    "    if i % 2 == 0:\n",
    "        even_nums.append(i)\n",
    "print(even_nums)\n",
    "\n",
    "\n",
    "lower_bound, upper_bound = 10, 30\n",
    "\n",
    "even_nums = []\n",
    "for i in range(lower_bound, upper_bound):\n",
    "    if i % 2 == 0:\n",
    "        even_nums.append(i)\n",
    "print(even_nums)\n",
    "\n",
    "\n",
    "\n",
    "lower_bound, upper_bound = 45, 57\n",
    "\n",
    "even_nums = []\n",
    "for i in range(lower_bound, upper_bound):\n",
    "    if i % 2 == 0:\n",
    "        even_nums.append(i)\n",
    "print(even_nums)"
   ]
  },
  {
   "cell_type": "code",
   "execution_count": 10,
   "metadata": {},
   "outputs": [
    {
     "name": "stdout",
     "output_type": "stream",
     "text": [
      "[0, 2, 4, 6, 8]\n",
      "[46, 48, 50, 52, 54, 56, 58, 60, 62, 64, 66]\n",
      "[-2, 0, 2, 4]\n",
      "[-34, -32, -30, -28, -26, -24, -22, -20, -18, -16, -14, -12, -10, -8, -6, -4, -2, 0, 2, 4]\n",
      "[-2, 0, 2, 4, 6, 8, 10, 12, 14, 16, 18, 20, 22, 24, 26, 28, 30, 32, 34, 36, 38, 40, 42, 44, 46, 48, 50, 52, 54, 56, 58, 60, 62, 64, 66, 68, 70, 72, 74, 76, 78, 80, 82, 84]\n"
     ]
    }
   ],
   "source": [
    "# Method 2 - using functions\n",
    "def get_even_nums(min_val, max_val):\n",
    "    even_nums = []\n",
    "    for i in range(min_val, max_val):\n",
    "        if i % 2 == 0:\n",
    "            even_nums.append(i)\n",
    "    print(even_nums)\n",
    "\n",
    "\n",
    "\n",
    "get_even_nums(0, 10)\n",
    "get_even_nums(45, 67)\n",
    "get_even_nums(-3, 5)\n",
    "get_even_nums(-34, 5)\n",
    "get_even_nums(-3, 85)"
   ]
  },
  {
   "cell_type": "markdown",
   "metadata": {},
   "source": [
    "###  Defining functions"
   ]
  },
  {
   "cell_type": "code",
   "execution_count": 11,
   "metadata": {},
   "outputs": [],
   "source": [
    "def function_name(arg1, arg2):\n",
    "    #logic\n",
    "    return 1"
   ]
  },
  {
   "cell_type": "markdown",
   "metadata": {},
   "source": [
    "#### Type 1: Function with no arguments and no return value\n"
   ]
  },
  {
   "cell_type": "code",
   "execution_count": 12,
   "metadata": {},
   "outputs": [],
   "source": [
    "# Function Definition\n",
    "\n",
    "def hello():\n",
    "    print(\"hello function is called\")\n"
   ]
  },
  {
   "cell_type": "markdown",
   "metadata": {},
   "source": [
    "__NOTE:__ Functions are called as first class objects in python"
   ]
  },
  {
   "cell_type": "code",
   "execution_count": 13,
   "metadata": {},
   "outputs": [
    {
     "data": {
      "text/plain": [
       "<function __main__.hello()>"
      ]
     },
     "execution_count": 13,
     "metadata": {},
     "output_type": "execute_result"
    }
   ],
   "source": [
    "hello"
   ]
  },
  {
   "cell_type": "code",
   "execution_count": 15,
   "metadata": {},
   "outputs": [
    {
     "name": "stdout",
     "output_type": "stream",
     "text": [
      "num1       = 123\n",
      "type(num1) = <class 'int'>\n",
      "id(num1)   = 140284435255344\n",
      "dir(num1)  = ['__abs__', '__add__', '__and__', '__bool__', '__ceil__', '__class__', '__delattr__', '__dir__', '__divmod__', '__doc__', '__eq__', '__float__', '__floor__', '__floordiv__', '__format__', '__ge__', '__getattribute__', '__getnewargs__', '__gt__', '__hash__', '__index__', '__init__', '__init_subclass__', '__int__', '__invert__', '__le__', '__lshift__', '__lt__', '__mod__', '__mul__', '__ne__', '__neg__', '__new__', '__or__', '__pos__', '__pow__', '__radd__', '__rand__', '__rdivmod__', '__reduce__', '__reduce_ex__', '__repr__', '__rfloordiv__', '__rlshift__', '__rmod__', '__rmul__', '__ror__', '__round__', '__rpow__', '__rrshift__', '__rshift__', '__rsub__', '__rtruediv__', '__rxor__', '__setattr__', '__sizeof__', '__str__', '__sub__', '__subclasshook__', '__truediv__', '__trunc__', '__xor__', 'as_integer_ratio', 'bit_count', 'bit_length', 'conjugate', 'denominator', 'from_bytes', 'imag', 'numerator', 'real', 'to_bytes']\n"
     ]
    }
   ],
   "source": [
    "num1 = 123\n",
    "print(f\"{num1       = }\")\n",
    "print(f\"{type(num1) = }\")\n",
    "print(f\"{id(num1)   = }\")\n",
    "print(f\"{dir(num1)  = }\")\n"
   ]
  },
  {
   "cell_type": "code",
   "execution_count": 16,
   "metadata": {},
   "outputs": [
    {
     "name": "stdout",
     "output_type": "stream",
     "text": [
      "num1       = 123.3\n",
      "type(num1) = <class 'float'>\n",
      "id(num1)   = 140284388283984\n",
      "dir(num1)  = ['__abs__', '__add__', '__bool__', '__ceil__', '__class__', '__delattr__', '__dir__', '__divmod__', '__doc__', '__eq__', '__float__', '__floor__', '__floordiv__', '__format__', '__ge__', '__getattribute__', '__getformat__', '__getnewargs__', '__gt__', '__hash__', '__init__', '__init_subclass__', '__int__', '__le__', '__lt__', '__mod__', '__mul__', '__ne__', '__neg__', '__new__', '__pos__', '__pow__', '__radd__', '__rdivmod__', '__reduce__', '__reduce_ex__', '__repr__', '__rfloordiv__', '__rmod__', '__rmul__', '__round__', '__rpow__', '__rsub__', '__rtruediv__', '__setattr__', '__setformat__', '__sizeof__', '__str__', '__sub__', '__subclasshook__', '__truediv__', '__trunc__', 'as_integer_ratio', 'conjugate', 'fromhex', 'hex', 'imag', 'is_integer', 'real']\n"
     ]
    }
   ],
   "source": [
    "num1 = 123.3\n",
    "print(f\"{num1       = }\")\n",
    "print(f\"{type(num1) = }\")\n",
    "print(f\"{id(num1)   = }\")\n",
    "print(f\"{dir(num1)  = }\")"
   ]
  },
  {
   "cell_type": "code",
   "execution_count": 17,
   "metadata": {},
   "outputs": [
    {
     "name": "stdout",
     "output_type": "stream",
     "text": [
      "num1       = True\n",
      "type(num1) = <class 'bool'>\n",
      "id(num1)   = 94750957273120\n",
      "dir(num1)  = ['__abs__', '__add__', '__and__', '__bool__', '__ceil__', '__class__', '__delattr__', '__dir__', '__divmod__', '__doc__', '__eq__', '__float__', '__floor__', '__floordiv__', '__format__', '__ge__', '__getattribute__', '__getnewargs__', '__gt__', '__hash__', '__index__', '__init__', '__init_subclass__', '__int__', '__invert__', '__le__', '__lshift__', '__lt__', '__mod__', '__mul__', '__ne__', '__neg__', '__new__', '__or__', '__pos__', '__pow__', '__radd__', '__rand__', '__rdivmod__', '__reduce__', '__reduce_ex__', '__repr__', '__rfloordiv__', '__rlshift__', '__rmod__', '__rmul__', '__ror__', '__round__', '__rpow__', '__rrshift__', '__rshift__', '__rsub__', '__rtruediv__', '__rxor__', '__setattr__', '__sizeof__', '__str__', '__sub__', '__subclasshook__', '__truediv__', '__trunc__', '__xor__', 'as_integer_ratio', 'bit_count', 'bit_length', 'conjugate', 'denominator', 'from_bytes', 'imag', 'numerator', 'real', 'to_bytes']\n"
     ]
    }
   ],
   "source": [
    "num1 = True\n",
    "print(f\"{num1       = }\")\n",
    "print(f\"{type(num1) = }\")\n",
    "print(f\"{id(num1)   = }\")\n",
    "print(f\"{dir(num1)  = }\")"
   ]
  },
  {
   "cell_type": "code",
   "execution_count": 18,
   "metadata": {},
   "outputs": [
    {
     "name": "stdout",
     "output_type": "stream",
     "text": [
      "hello       = <function hello at 0x7f967875c8b0>\n",
      "type(hello) = <class 'function'>\n",
      "id(hello)   = 140284242806960\n",
      "dir(hello)  = ['__annotations__', '__builtins__', '__call__', '__class__', '__closure__', '__code__', '__defaults__', '__delattr__', '__dict__', '__dir__', '__doc__', '__eq__', '__format__', '__ge__', '__get__', '__getattribute__', '__globals__', '__gt__', '__hash__', '__init__', '__init_subclass__', '__kwdefaults__', '__le__', '__lt__', '__module__', '__name__', '__ne__', '__new__', '__qualname__', '__reduce__', '__reduce_ex__', '__repr__', '__setattr__', '__sizeof__', '__str__', '__subclasshook__']\n"
     ]
    }
   ],
   "source": [
    "print(f\"{hello       = }\")\n",
    "print(f\"{type(hello) = }\")\n",
    "print(f\"{id(hello)   = }\")\n",
    "print(f\"{dir(hello)  = }\")"
   ]
  },
  {
   "cell_type": "code",
   "execution_count": 19,
   "metadata": {},
   "outputs": [
    {
     "data": {
      "text/plain": [
       "128"
      ]
     },
     "execution_count": 19,
     "metadata": {},
     "output_type": "execute_result"
    }
   ],
   "source": [
    "hello.__sizeof__()"
   ]
  },
  {
   "cell_type": "code",
   "execution_count": 20,
   "metadata": {},
   "outputs": [
    {
     "data": {
      "text/plain": [
       "False"
      ]
     },
     "execution_count": 20,
     "metadata": {},
     "output_type": "execute_result"
    }
   ],
   "source": [
    "num1 = 123\n",
    "\n",
    "callable(num1)"
   ]
  },
  {
   "cell_type": "code",
   "execution_count": 21,
   "metadata": {},
   "outputs": [
    {
     "ename": "TypeError",
     "evalue": "'int' object is not callable",
     "output_type": "error",
     "traceback": [
      "\u001b[0;31m---------------------------------------------------------------------------\u001b[0m",
      "\u001b[0;31mTypeError\u001b[0m                                 Traceback (most recent call last)",
      "Cell \u001b[0;32mIn[21], line 1\u001b[0m\n\u001b[0;32m----> 1\u001b[0m num1()\n",
      "\u001b[0;31mTypeError\u001b[0m: 'int' object is not callable"
     ]
    }
   ],
   "source": [
    "num1()"
   ]
  },
  {
   "cell_type": "code",
   "execution_count": 22,
   "metadata": {},
   "outputs": [
    {
     "data": {
      "text/plain": [
       "True"
      ]
     },
     "execution_count": 22,
     "metadata": {},
     "output_type": "execute_result"
    }
   ],
   "source": [
    "callable(hello)"
   ]
  },
  {
   "cell_type": "code",
   "execution_count": 23,
   "metadata": {},
   "outputs": [
    {
     "name": "stdout",
     "output_type": "stream",
     "text": [
      "hello function is called\n"
     ]
    }
   ],
   "source": [
    "hello()"
   ]
  },
  {
   "cell_type": "code",
   "execution_count": 24,
   "metadata": {},
   "outputs": [
    {
     "name": "stdout",
     "output_type": "stream",
     "text": [
      "hello function is called\n"
     ]
    }
   ],
   "source": [
    "# Function Definition\n",
    "def hello():\n",
    "    print(\"hello function is called\")\n",
    "\n",
    "\n",
    "# Function call\n",
    "hello()"
   ]
  },
  {
   "cell_type": "code",
   "execution_count": 25,
   "metadata": {},
   "outputs": [
    {
     "name": "stdout",
     "output_type": "stream",
     "text": [
      "hello function is called\n",
      "None\n"
     ]
    }
   ],
   "source": [
    "print(hello())"
   ]
  },
  {
   "cell_type": "code",
   "execution_count": 26,
   "metadata": {},
   "outputs": [
    {
     "name": "stdout",
     "output_type": "stream",
     "text": [
      "hello function is called\n",
      "None\n"
     ]
    }
   ],
   "source": [
    "# Function Definition\n",
    "def hello():\n",
    "    print(\"hello function is called\")\n",
    "    return None # Default return is None\n",
    "\n",
    "# Function call\n",
    "print(hello())"
   ]
  },
  {
   "cell_type": "code",
   "execution_count": 27,
   "metadata": {},
   "outputs": [
    {
     "name": "stdout",
     "output_type": "stream",
     "text": [
      "hello function is called\n"
     ]
    }
   ],
   "source": [
    "# Function Definition\n",
    "def hello():\n",
    "    print(\"hello function is called\")\n",
    "\n",
    "# Function call\n",
    "hello()"
   ]
  },
  {
   "cell_type": "markdown",
   "metadata": {},
   "source": [
    "#### Type 2:  Function with one input argument and no return value\n"
   ]
  },
  {
   "cell_type": "code",
   "execution_count": 28,
   "metadata": {},
   "outputs": [
    {
     "name": "stdout",
     "output_type": "stream",
     "text": [
      "Hello function is called\n"
     ]
    }
   ],
   "source": [
    "def hello_word():\n",
    "    print(\"Hello function is called\")\n",
    "\n",
    "\n",
    "hello_word()"
   ]
  },
  {
   "cell_type": "code",
   "execution_count": 29,
   "metadata": {},
   "outputs": [],
   "source": [
    "# Function definitin\n",
    "\n",
    "\n",
    "def hello(name):\n",
    "    print(f\"Hello {name}\")\n"
   ]
  },
  {
   "cell_type": "code",
   "execution_count": 30,
   "metadata": {},
   "outputs": [
    {
     "ename": "TypeError",
     "evalue": "hello() missing 1 required positional argument: 'name'",
     "output_type": "error",
     "traceback": [
      "\u001b[0;31m---------------------------------------------------------------------------\u001b[0m",
      "\u001b[0;31mTypeError\u001b[0m                                 Traceback (most recent call last)",
      "Cell \u001b[0;32mIn[30], line 1\u001b[0m\n\u001b[0;32m----> 1\u001b[0m hello()\n",
      "\u001b[0;31mTypeError\u001b[0m: hello() missing 1 required positional argument: 'name'"
     ]
    }
   ],
   "source": [
    "hello()"
   ]
  },
  {
   "cell_type": "code",
   "execution_count": 31,
   "metadata": {},
   "outputs": [
    {
     "name": "stdout",
     "output_type": "stream",
     "text": [
      "Hello Python\n"
     ]
    }
   ],
   "source": [
    "hello(\"Python\")"
   ]
  },
  {
   "cell_type": "code",
   "execution_count": 32,
   "metadata": {},
   "outputs": [
    {
     "name": "stdout",
     "output_type": "stream",
     "text": [
      "Hello world\n"
     ]
    }
   ],
   "source": [
    "hello(\"world\")"
   ]
  },
  {
   "cell_type": "code",
   "execution_count": 33,
   "metadata": {},
   "outputs": [
    {
     "ename": "TypeError",
     "evalue": "hello() takes 1 positional argument but 2 were given",
     "output_type": "error",
     "traceback": [
      "\u001b[0;31m---------------------------------------------------------------------------\u001b[0m",
      "\u001b[0;31mTypeError\u001b[0m                                 Traceback (most recent call last)",
      "Cell \u001b[0;32mIn[33], line 1\u001b[0m\n\u001b[0;32m----> 1\u001b[0m hello(\u001b[39m\"\u001b[39;49m\u001b[39mPython\u001b[39;49m\u001b[39m\"\u001b[39;49m, \u001b[39m\"\u001b[39;49m\u001b[39mworld\u001b[39;49m\u001b[39m\"\u001b[39;49m)\n",
      "\u001b[0;31mTypeError\u001b[0m: hello() takes 1 positional argument but 2 were given"
     ]
    }
   ],
   "source": [
    "hello(\"Python\", \"world\")"
   ]
  },
  {
   "cell_type": "markdown",
   "metadata": {},
   "source": [
    "__NOTE:__ \n",
    "\n",
    "    function calls\n",
    "        1. by positional arguments\n",
    "        2. by keyword arguments"
   ]
  },
  {
   "cell_type": "code",
   "execution_count": 34,
   "metadata": {},
   "outputs": [
    {
     "name": "stdout",
     "output_type": "stream",
     "text": [
      "Hello Python\n"
     ]
    }
   ],
   "source": [
    "def hello(name):\n",
    "    print(\"Hello \" + name)\n",
    "\n",
    "\n",
    "# hello()  # throw error\n",
    "hello(\"Python\")     # by position -- give exact number of values\n",
    "# hello(\"Python\", \"word\")  # throw error"
   ]
  },
  {
   "cell_type": "code",
   "execution_count": 35,
   "metadata": {},
   "outputs": [
    {
     "name": "stdout",
     "output_type": "stream",
     "text": [
      "Hello Python\n"
     ]
    }
   ],
   "source": [
    "hello(name=\"Python\") # by keywords -- give exact names of arguments"
   ]
  },
  {
   "cell_type": "code",
   "execution_count": 36,
   "metadata": {},
   "outputs": [
    {
     "ename": "TypeError",
     "evalue": "hello() got an unexpected keyword argument 'student_name'",
     "output_type": "error",
     "traceback": [
      "\u001b[0;31m---------------------------------------------------------------------------\u001b[0m",
      "\u001b[0;31mTypeError\u001b[0m                                 Traceback (most recent call last)",
      "Cell \u001b[0;32mIn[36], line 1\u001b[0m\n\u001b[0;32m----> 1\u001b[0m hello(student_name\u001b[39m=\u001b[39;49m\u001b[39m\"\u001b[39;49m\u001b[39mPython\u001b[39;49m\u001b[39m\"\u001b[39;49m)\n",
      "\u001b[0;31mTypeError\u001b[0m: hello() got an unexpected keyword argument 'student_name'"
     ]
    }
   ],
   "source": [
    "hello(student_name=\"Python\")"
   ]
  },
  {
   "cell_type": "markdown",
   "metadata": {},
   "source": [
    "#### Type 3: Function with two arguments and no return value"
   ]
  },
  {
   "cell_type": "code",
   "execution_count": 37,
   "metadata": {},
   "outputs": [],
   "source": [
    "# Function Definition\n",
    "\n",
    "\n",
    "def hello(name, age):\n",
    "    print(f\"{name}'s age is {age}\")\n"
   ]
  },
  {
   "cell_type": "code",
   "execution_count": 41,
   "metadata": {},
   "outputs": [
    {
     "name": "stdout",
     "output_type": "stream",
     "text": [
      "GudoVanRussom's age is 67\n"
     ]
    }
   ],
   "source": [
    "#  Function call by position\n",
    "\n",
    "# hello()  # TypeError: hello() missing 2 required positional arguments: 'name' and 'age'\n",
    "# hello(\"GudoVanRussom\")  # TypeError: hello() missing 1 required positional argument: 'age'\n",
    "\n",
    "hello(\"GudoVanRussom\", 67)"
   ]
  },
  {
   "cell_type": "code",
   "execution_count": 42,
   "metadata": {},
   "outputs": [
    {
     "name": "stdout",
     "output_type": "stream",
     "text": [
      "67's age is GudoVanRussom\n"
     ]
    }
   ],
   "source": [
    "hello(67, \"GudoVanRussom\")"
   ]
  },
  {
   "cell_type": "code",
   "execution_count": 43,
   "metadata": {},
   "outputs": [
    {
     "name": "stdout",
     "output_type": "stream",
     "text": [
      "GudoVanRussom's age is 67\n"
     ]
    }
   ],
   "source": [
    "# function call by keyword\n",
    "\n",
    "hello(name=\"GudoVanRussom\", age=67)"
   ]
  },
  {
   "cell_type": "code",
   "execution_count": 44,
   "metadata": {},
   "outputs": [
    {
     "name": "stdout",
     "output_type": "stream",
     "text": [
      "GudoVanRussom's age is 67\n"
     ]
    }
   ],
   "source": [
    "hello(age=67, name=\"GudoVanRussom\")"
   ]
  },
  {
   "cell_type": "markdown",
   "metadata": {},
   "source": [
    "#### Type 4: Function with two arguments and default return value"
   ]
  },
  {
   "cell_type": "code",
   "execution_count": 46,
   "metadata": {},
   "outputs": [],
   "source": [
    "# Function Definition\n",
    "def addition(n1, n2):\n",
    "    pass\n",
    "\n",
    "# Function call\n",
    "addition(13, 64)"
   ]
  },
  {
   "cell_type": "code",
   "execution_count": 47,
   "metadata": {},
   "outputs": [
    {
     "name": "stdout",
     "output_type": "stream",
     "text": [
      "None\n"
     ]
    }
   ],
   "source": [
    "print(addition(13, 64))  # Defualt return is None"
   ]
  },
  {
   "cell_type": "code",
   "execution_count": 48,
   "metadata": {},
   "outputs": [
    {
     "name": "stdout",
     "output_type": "stream",
     "text": [
      "<class 'NoneType'> None\n"
     ]
    }
   ],
   "source": [
    "# Function Definition\n",
    "def addition(n1, n2):\n",
    "    return\n",
    "\n",
    "# Function call\n",
    "answer = addition(13, 64)\n",
    "print(type(answer), answer)"
   ]
  },
  {
   "cell_type": "code",
   "execution_count": 49,
   "metadata": {},
   "outputs": [
    {
     "name": "stdout",
     "output_type": "stream",
     "text": [
      "<class 'NoneType'> None\n"
     ]
    }
   ],
   "source": [
    "# Function Definition\n",
    "def addition(n1, n2):\n",
    "    return None\n",
    "\n",
    "# Function call\n",
    "answer = addition(13, 64)\n",
    "print(type(answer), answer)"
   ]
  },
  {
   "cell_type": "code",
   "execution_count": 50,
   "metadata": {},
   "outputs": [
    {
     "name": "stdout",
     "output_type": "stream",
     "text": [
      "<class 'NoneType'> None\n"
     ]
    }
   ],
   "source": [
    "# Function Definition\n",
    "def addition(n1, n2):\n",
    "    result = n1 + n2\n",
    "\n",
    "# Function call\n",
    "answer = addition(13, 64)\n",
    "print(type(answer), answer)"
   ]
  },
  {
   "cell_type": "code",
   "execution_count": 51,
   "metadata": {},
   "outputs": [
    {
     "name": "stdout",
     "output_type": "stream",
     "text": [
      "<class 'int'> 77\n"
     ]
    }
   ],
   "source": [
    "# Function Definition\n",
    "def addition(n1, n2):\n",
    "    result = n1 + n2\n",
    "    return result\n",
    "\n",
    "# Function call\n",
    "answer = addition(13, 64)\n",
    "print(type(answer), answer)"
   ]
  },
  {
   "cell_type": "code",
   "execution_count": 52,
   "metadata": {},
   "outputs": [
    {
     "name": "stdout",
     "output_type": "stream",
     "text": [
      "<class 'int'> 58\n"
     ]
    }
   ],
   "source": [
    "# Function Definition\n",
    "def addition(n1, n2):\n",
    "    result = n1 + n2\n",
    "    return result\n",
    "\n",
    "# Function call\n",
    "answer = addition(13, 45)\n",
    "print(type(answer), answer)"
   ]
  },
  {
   "cell_type": "code",
   "execution_count": 53,
   "metadata": {},
   "outputs": [
    {
     "name": "stdout",
     "output_type": "stream",
     "text": [
      "<class 'int'> 58\n"
     ]
    }
   ],
   "source": [
    "# Function Definition\n",
    "def addition(n1, n2):\n",
    "    result = n1 + n2\n",
    "    return result        # NOTE: function exists once return is encountered\n",
    "    return None\n",
    "\n",
    "# Function call\n",
    "answer = addition(13, 45)\n",
    "print(type(answer), answer)"
   ]
  },
  {
   "cell_type": "code",
   "execution_count": 54,
   "metadata": {},
   "outputs": [
    {
     "name": "stdout",
     "output_type": "stream",
     "text": [
      "<class 'int'> 100\n"
     ]
    }
   ],
   "source": [
    "# Function Definition\n",
    "def addition(n1, n2):\n",
    "    result = n1 + n2\n",
    "    return 100\n",
    "    return result        # NOTE: function exists once return is encountered\n",
    "    return None\n",
    "\n",
    "# Function call\n",
    "answer = addition(13, 45)\n",
    "print(type(answer), answer)"
   ]
  },
  {
   "cell_type": "code",
   "execution_count": 55,
   "metadata": {},
   "outputs": [
    {
     "name": "stdout",
     "output_type": "stream",
     "text": [
      "<class 'float'> 100.0\n"
     ]
    }
   ],
   "source": [
    "# Function Definition\n",
    "def addition(n1, n2):\n",
    "    result = n1 + n2\n",
    "    return 100.\n",
    "    return result        # NOTE: function exists once return is encountered\n",
    "    return None\n",
    "\n",
    "# Function call\n",
    "answer = addition(13, 45)\n",
    "print(type(answer), answer)"
   ]
  },
  {
   "cell_type": "code",
   "execution_count": 56,
   "metadata": {},
   "outputs": [
    {
     "name": "stdout",
     "output_type": "stream",
     "text": [
      "<class 'tuple'> (100.0,)\n"
     ]
    }
   ],
   "source": [
    "# Function Definition\n",
    "def addition(n1, n2):\n",
    "    result = n1 + n2\n",
    "    return 100.,\n",
    "    return result        # NOTE: function exists once return is encountered\n",
    "    return None\n",
    "\n",
    "# Function call\n",
    "answer = addition(13, 45)\n",
    "print(type(answer), answer)"
   ]
  },
  {
   "cell_type": "code",
   "execution_count": 57,
   "metadata": {},
   "outputs": [
    {
     "name": "stdout",
     "output_type": "stream",
     "text": [
      "<class 'tuple'> (100.0, 100)\n"
     ]
    }
   ],
   "source": [
    "# Function Definition\n",
    "def addition(n1, n2):\n",
    "    result = n1 + n2\n",
    "    return 100., 100\n",
    "    return 100.,\n",
    "    return result        # NOTE: function exists once return is encountered\n",
    "    return None\n",
    "\n",
    "# Function call\n",
    "answer = addition(13, 45)\n",
    "print(type(answer), answer)"
   ]
  },
  {
   "cell_type": "code",
   "execution_count": 59,
   "metadata": {},
   "outputs": [
    {
     "name": "stdout",
     "output_type": "stream",
     "text": [
      "<class 'int'> 45\n"
     ]
    }
   ],
   "source": [
    "# Function Definition\n",
    "def comparion(n1, n2):\n",
    "    if n1 > n2:\n",
    "        return n1\n",
    "    elif n1 < n2:\n",
    "        return n2\n",
    "    else:\n",
    "        return \"equal\"\n",
    "\n",
    "# Function call\n",
    "answer = comparion(13, 45)\n",
    "print(type(answer), answer)"
   ]
  },
  {
   "cell_type": "code",
   "execution_count": 60,
   "metadata": {},
   "outputs": [],
   "source": [
    "# NOTE:\n",
    "# 1. By default, function return is None\n",
    "# 2. return is the last executing statement in a function"
   ]
  },
  {
   "cell_type": "code",
   "execution_count": 61,
   "metadata": {},
   "outputs": [
    {
     "name": "stdout",
     "output_type": "stream",
     "text": [
      "num1:123 num2:323\n",
      "num1:123 num2:323\n"
     ]
    }
   ],
   "source": [
    "# UNPACKING ------------------------------\n",
    "num1 = 123\n",
    "num2 = 323\n",
    "print(f\"num1:{num1} num2:{num2}\")\n",
    "\n",
    "num1, num2 = 123, 323  # unpacking\n",
    "print(f\"num1:{num1} num2:{num2}\")"
   ]
  },
  {
   "cell_type": "code",
   "execution_count": 62,
   "metadata": {},
   "outputs": [
    {
     "name": "stdout",
     "output_type": "stream",
     "text": [
      "num1:123 num2:323 num3:423\n",
      "num1:123 num2:323 num3:423\n"
     ]
    }
   ],
   "source": [
    "num1 = 123\n",
    "num2 = 323\n",
    "num3 = 423\n",
    "print(f\"num1:{num1} num2:{num2} num3:{num3}\")\n",
    "\n",
    "num1, num2, num3 = 123, 323, 423  # unpacking\n",
    "print(f\"num1:{num1} num2:{num2} num3:{num3}\")"
   ]
  },
  {
   "cell_type": "code",
   "execution_count": 63,
   "metadata": {},
   "outputs": [
    {
     "name": "stdout",
     "output_type": "stream",
     "text": [
      "(<class 'tuple'>, (123, 323, 423))\n"
     ]
    }
   ],
   "source": [
    "# num1, num2, num3 = 123, 323  #ValueError: not enough values to unpack (expected 3, got 2)\n",
    "# num1, num2 = 123, 323, 423  # ValueError: too many values to unpack (expected 2)\n",
    "\n",
    "\n",
    "num1 = 123, 323, 423  # treats as a tuple\n",
    "print(f\"{type(num1), num1}\")"
   ]
  },
  {
   "cell_type": "code",
   "execution_count": 64,
   "metadata": {},
   "outputs": [
    {
     "name": "stdout",
     "output_type": "stream",
     "text": [
      "int(1123.123) =1123\n",
      "pow(2, 3)     =8\n",
      "divmod(20, 3) =(6, 2)\n"
     ]
    }
   ],
   "source": [
    "print(f\"{int(1123.123) =}\")  # returns single value\n",
    "print(f\"{pow(2, 3)     =}\")  # returns single value\n",
    "print(f\"{divmod(20, 3) =}\")  # returns two values"
   ]
  },
  {
   "cell_type": "code",
   "execution_count": 65,
   "metadata": {},
   "outputs": [],
   "source": [
    "num = int(1123.123)\n",
    "powVal = pow(2, 3)\n",
    "quotient, remainder = divmod(20, 3)"
   ]
  },
  {
   "cell_type": "code",
   "execution_count": 66,
   "metadata": {},
   "outputs": [
    {
     "data": {
      "text/plain": [
       "(123, 45)"
      ]
     },
     "execution_count": 66,
     "metadata": {},
     "output_type": "execute_result"
    }
   ],
   "source": [
    "# Function Definition\n",
    "def hello():\n",
    "    return 123, 45\n",
    "\n",
    "# Function Call\n",
    "hello()"
   ]
  },
  {
   "cell_type": "code",
   "execution_count": 67,
   "metadata": {},
   "outputs": [
    {
     "name": "stdout",
     "output_type": "stream",
     "text": [
      "<class 'tuple'>, (123, 45)\n"
     ]
    }
   ],
   "source": [
    "result = hello()\n",
    "print(f\"{type(result)}, {result}\")  # <class 'tuple'>, (123, 45)"
   ]
  },
  {
   "cell_type": "code",
   "execution_count": 68,
   "metadata": {},
   "outputs": [
    {
     "name": "stdout",
     "output_type": "stream",
     "text": [
      "result1: 123\n",
      "result2: 45\n"
     ]
    }
   ],
   "source": [
    "result1 = result[0]\n",
    "result2 = result[1]\n",
    "print(f\"result1: {result1}\")  # 123\n",
    "print(f\"result2: {result2}\")  # 45"
   ]
  },
  {
   "cell_type": "code",
   "execution_count": 69,
   "metadata": {},
   "outputs": [
    {
     "name": "stdout",
     "output_type": "stream",
     "text": [
      "result1: 123\n",
      "result2: 45\n"
     ]
    }
   ],
   "source": [
    "result1, result2 = hello()  # unpacking\n",
    "print(f\"result1: {result1}\")  # 123\n",
    "print(f\"result2: {result2}\")  # 45"
   ]
  },
  {
   "cell_type": "code",
   "execution_count": 70,
   "metadata": {},
   "outputs": [
    {
     "name": "stdout",
     "output_type": "stream",
     "text": [
      "mydivmod(10, 2)    = (5, 0)\n",
      "divmod(10, 2)      = (5, 0)\n"
     ]
    }
   ],
   "source": [
    "def mydivmod(numerator, denominator):\n",
    "    quotient = numerator // denominator\n",
    "    remainder = numerator % denominator\n",
    "    return quotient, remainder\n",
    "\n",
    "\n",
    "print(f\"{mydivmod(10, 2)    = }\")\n",
    "print(f\"{divmod(10, 2)      = }\")\n"
   ]
  },
  {
   "cell_type": "code",
   "execution_count": 71,
   "metadata": {},
   "outputs": [
    {
     "name": "stdout",
     "output_type": "stream",
     "text": [
      "mydivmod(10, 3)    = (3, 1)\n",
      "divmod(10, 3)      = (3, 1)\n"
     ]
    }
   ],
   "source": [
    "print(f\"{mydivmod(10, 3)    = }\")\n",
    "print(f\"{divmod(10, 3)      = }\")"
   ]
  },
  {
   "cell_type": "code",
   "execution_count": 72,
   "metadata": {},
   "outputs": [
    {
     "name": "stdout",
     "output_type": "stream",
     "text": [
      "3 1\n"
     ]
    }
   ],
   "source": [
    "qt , remaind = mydivmod(10, 3)\n",
    "\n",
    "print(qt, remaind)"
   ]
  },
  {
   "cell_type": "markdown",
   "metadata": {},
   "source": [
    "##### problem: to display the addition of given values"
   ]
  },
  {
   "cell_type": "code",
   "execution_count": 73,
   "metadata": {},
   "outputs": [
    {
     "data": {
      "text/plain": [
       "60"
      ]
     },
     "execution_count": 73,
     "metadata": {},
     "output_type": "execute_result"
    }
   ],
   "source": [
    "def addition(num1, num2, num3):\n",
    "    result = num1 + num2 + num3\n",
    "    return result\n",
    "\n",
    "\n",
    "# Function call\n",
    "addition(10, 20, 30)"
   ]
  },
  {
   "cell_type": "code",
   "execution_count": 74,
   "metadata": {},
   "outputs": [
    {
     "name": "stdout",
     "output_type": "stream",
     "text": [
      "result:60\n"
     ]
    }
   ],
   "source": [
    "result = addition(10, 20, 30)\n",
    "print(f\"result:{result}\")"
   ]
  },
  {
   "cell_type": "code",
   "execution_count": 75,
   "metadata": {},
   "outputs": [
    {
     "ename": "TypeError",
     "evalue": "sum() takes at most 2 arguments (3 given)",
     "output_type": "error",
     "traceback": [
      "\u001b[0;31m---------------------------------------------------------------------------\u001b[0m",
      "\u001b[0;31mTypeError\u001b[0m                                 Traceback (most recent call last)",
      "Cell \u001b[0;32mIn[75], line 2\u001b[0m\n\u001b[1;32m      1\u001b[0m \u001b[39m# --- sum() - builtin function for adding values\u001b[39;00m\n\u001b[0;32m----> 2\u001b[0m \u001b[39msum\u001b[39;49m(\u001b[39m10\u001b[39;49m, \u001b[39m20\u001b[39;49m, \u001b[39m30\u001b[39;49m) \n",
      "\u001b[0;31mTypeError\u001b[0m: sum() takes at most 2 arguments (3 given)"
     ]
    }
   ],
   "source": [
    "# --- sum() - builtin function for adding values\n",
    "sum(10, 20, 30) "
   ]
  },
  {
   "cell_type": "code",
   "execution_count": 76,
   "metadata": {},
   "outputs": [
    {
     "data": {
      "text/plain": [
       "60"
      ]
     },
     "execution_count": 76,
     "metadata": {},
     "output_type": "execute_result"
    }
   ],
   "source": [
    "sum([10, 20, 30])"
   ]
  },
  {
   "cell_type": "code",
   "execution_count": 77,
   "metadata": {},
   "outputs": [
    {
     "name": "stdout",
     "output_type": "stream",
     "text": [
      "Help on built-in function sum in module builtins:\n",
      "\n",
      "sum(iterable, /, start=0)\n",
      "    Return the sum of a 'start' value (default: 0) plus an iterable of numbers\n",
      "    \n",
      "    When the iterable is empty, return the start value.\n",
      "    This function is intended specifically for use with numeric values and may\n",
      "    reject non-numeric types.\n",
      "\n"
     ]
    }
   ],
   "source": [
    "help(sum)"
   ]
  },
  {
   "cell_type": "code",
   "execution_count": 78,
   "metadata": {},
   "outputs": [
    {
     "name": "stdout",
     "output_type": "stream",
     "text": [
      "result:60\n",
      "result:60\n",
      "result:60\n"
     ]
    }
   ],
   "source": [
    "result = sum([10, 20, 30])\n",
    "print(f\"result:{result}\")\n",
    "\n",
    "result = sum((10, 20, 30))\n",
    "print(f\"result:{result}\")\n",
    "\n",
    "result = sum({10, 20, 30})\n",
    "print(f\"result:{result}\")"
   ]
  },
  {
   "cell_type": "code",
   "execution_count": 79,
   "metadata": {},
   "outputs": [
    {
     "name": "stdout",
     "output_type": "stream",
     "text": [
      "result:60\n",
      "result:50\n",
      "result:63\n",
      "result:110.0\n",
      "result:110.0\n",
      "result:110.0\n",
      "result:110.0\n"
     ]
    }
   ],
   "source": [
    "result = sum((10, 20, 30), 0)\n",
    "print(f\"result:{result}\")  # 60\n",
    "\n",
    "result = sum((10, 20, 30), -10)\n",
    "print(f\"result:{result}\")  # 50\n",
    "\n",
    "result = sum((10, 20, 30), 3)\n",
    "print(f\"result:{result}\")  # 63\n",
    "\n",
    "result = sum((10, 20, 30, 50.0))\n",
    "print(f\"result:{result}\")\n",
    "\n",
    "result = sum({10, 20, 20, 30, 50.0})\n",
    "print(f\"result:{result}\")\n",
    "\n",
    "result = sum({10: \"a\", 20: \"b\", 30: \"c\", 50.0: \"d\"})\n",
    "print(f\"result:{result}\")  # by default, dict gives keys when iterating\n",
    "\n",
    "result = sum({10: \"a\", 20: \"b\", 30: \"c\", 50.0: \"d\"}.keys())\n",
    "print(f\"result:{result}\")"
   ]
  },
  {
   "cell_type": "code",
   "execution_count": 80,
   "metadata": {},
   "outputs": [
    {
     "ename": "TypeError",
     "evalue": "unsupported operand type(s) for +: 'int' and 'str'",
     "output_type": "error",
     "traceback": [
      "\u001b[0;31m---------------------------------------------------------------------------\u001b[0m",
      "\u001b[0;31mTypeError\u001b[0m                                 Traceback (most recent call last)",
      "Cell \u001b[0;32mIn[80], line 1\u001b[0m\n\u001b[0;32m----> 1\u001b[0m result \u001b[39m=\u001b[39m \u001b[39msum\u001b[39;49m({\u001b[39m10\u001b[39;49m: \u001b[39m'\u001b[39;49m\u001b[39ma\u001b[39;49m\u001b[39m'\u001b[39;49m, \u001b[39m20\u001b[39;49m: \u001b[39m'\u001b[39;49m\u001b[39mb\u001b[39;49m\u001b[39m'\u001b[39;49m, \u001b[39m30\u001b[39;49m: \u001b[39m'\u001b[39;49m\u001b[39mc\u001b[39;49m\u001b[39m'\u001b[39;49m, \u001b[39m50.\u001b[39;49m: \u001b[39m'\u001b[39;49m\u001b[39md\u001b[39;49m\u001b[39m'\u001b[39;49m}\u001b[39m.\u001b[39;49mvalues())\n",
      "\u001b[0;31mTypeError\u001b[0m: unsupported operand type(s) for +: 'int' and 'str'"
     ]
    }
   ],
   "source": [
    "result = sum({10: 'a', 20: 'b', 30: 'c', 50.: 'd'}.values())"
   ]
  },
  {
   "cell_type": "code",
   "execution_count": 82,
   "metadata": {},
   "outputs": [
    {
     "ename": "TypeError",
     "evalue": "sum() can't sum strings [use ''.join(seq) instead]",
     "output_type": "error",
     "traceback": [
      "\u001b[0;31m---------------------------------------------------------------------------\u001b[0m",
      "\u001b[0;31mTypeError\u001b[0m                                 Traceback (most recent call last)",
      "Cell \u001b[0;32mIn[82], line 1\u001b[0m\n\u001b[0;32m----> 1\u001b[0m \u001b[39msum\u001b[39;49m({\u001b[39m10\u001b[39;49m: \u001b[39m'\u001b[39;49m\u001b[39ma\u001b[39;49m\u001b[39m'\u001b[39;49m, \u001b[39m20\u001b[39;49m: \u001b[39m'\u001b[39;49m\u001b[39mb\u001b[39;49m\u001b[39m'\u001b[39;49m, \u001b[39m30\u001b[39;49m: \u001b[39m'\u001b[39;49m\u001b[39mc\u001b[39;49m\u001b[39m'\u001b[39;49m, \u001b[39m50.\u001b[39;49m: \u001b[39m'\u001b[39;49m\u001b[39md\u001b[39;49m\u001b[39m'\u001b[39;49m}\u001b[39m.\u001b[39;49mvalues(), \u001b[39m'\u001b[39;49m\u001b[39m'\u001b[39;49m)\n",
      "\u001b[0;31mTypeError\u001b[0m: sum() can't sum strings [use ''.join(seq) instead]"
     ]
    }
   ],
   "source": [
    "sum({10: 'a', 20: 'b', 30: 'c', 50.: 'd'}.values(), '')"
   ]
  },
  {
   "cell_type": "code",
   "execution_count": 83,
   "metadata": {},
   "outputs": [
    {
     "name": "stdout",
     "output_type": "stream",
     "text": [
      "abcd\n",
      "abcd\n",
      "adcb\n"
     ]
    }
   ],
   "source": [
    "print(\"\".join([\"a\", \"b\", \"c\", \"d\"]))\n",
    "print(\"\".join((\"a\", \"b\", \"c\", \"d\")))\n",
    "print(\"\".join({\"a\", \"b\", \"c\", \"d\"}))"
   ]
  },
  {
   "cell_type": "code",
   "execution_count": 87,
   "metadata": {},
   "outputs": [
    {
     "name": "stdout",
     "output_type": "stream",
     "text": [
      "[1, 2, 3, 4, 5, 6, 7, 8]\n"
     ]
    }
   ],
   "source": [
    "# Question: flattening the lists\n",
    "\n",
    "my_data = [[1, 2], [3, 4], [5, 6], [7, 8]]\n",
    "\n",
    "# Method 1:\n",
    "flat_data = []\n",
    "for each in my_data:\n",
    "    # flat_data.extend(each)\n",
    "    flat_data += each\n",
    "\n",
    "print(flat_data)"
   ]
  },
  {
   "cell_type": "code",
   "execution_count": 90,
   "metadata": {},
   "outputs": [
    {
     "data": {
      "text/plain": [
       "[1, 2, 3, 4, 5, 6, 7, 8]"
      ]
     },
     "execution_count": 90,
     "metadata": {},
     "output_type": "execute_result"
    }
   ],
   "source": [
    "# Method 2:\n",
    "# sum(my_data)\n",
    "\n",
    "# sum(my_data, 0)\n",
    "\n",
    "sum(my_data, [])"
   ]
  },
  {
   "cell_type": "code",
   "execution_count": 91,
   "metadata": {},
   "outputs": [
    {
     "data": {
      "text/plain": [
       "[1, 2, 3, 4, 5, 6, 7, 8]"
      ]
     },
     "execution_count": 91,
     "metadata": {},
     "output_type": "execute_result"
    }
   ],
   "source": [
    "sum([[1, 2], [3, 4], [5, 6], [7, 8]], [])"
   ]
  },
  {
   "cell_type": "code",
   "execution_count": 92,
   "metadata": {},
   "outputs": [
    {
     "name": "stdout",
     "output_type": "stream",
     "text": [
      "(1, 2, 3, 4, 5, 6, 7, 8)\n"
     ]
    }
   ],
   "source": [
    "my_data = [(1, 2), (3, 4), (5, 6), (7, 8)]\n",
    "print(sum(my_data, ()))"
   ]
  },
  {
   "cell_type": "code",
   "execution_count": 93,
   "metadata": {},
   "outputs": [
    {
     "ename": "TypeError",
     "evalue": "unsupported operand type(s) for +: 'set' and 'set'",
     "output_type": "error",
     "traceback": [
      "\u001b[0;31m---------------------------------------------------------------------------\u001b[0m",
      "\u001b[0;31mTypeError\u001b[0m                                 Traceback (most recent call last)",
      "Cell \u001b[0;32mIn[93], line 3\u001b[0m\n\u001b[1;32m      1\u001b[0m my_data \u001b[39m=\u001b[39m [{\u001b[39m1\u001b[39m, \u001b[39m2\u001b[39m}, {\u001b[39m3\u001b[39m, \u001b[39m4\u001b[39m}, {\u001b[39m5\u001b[39m, \u001b[39m6\u001b[39m}, {\u001b[39m7\u001b[39m, \u001b[39m8\u001b[39m}]\n\u001b[0;32m----> 3\u001b[0m \u001b[39mprint\u001b[39m(\u001b[39msum\u001b[39;49m(my_data, \u001b[39mset\u001b[39;49m()))\n",
      "\u001b[0;31mTypeError\u001b[0m: unsupported operand type(s) for +: 'set' and 'set'"
     ]
    }
   ],
   "source": [
    "my_data = [{1, 2}, {3, 4}, {5, 6}, {7, 8}]\n",
    "\n",
    "print(sum(my_data, set()))"
   ]
  },
  {
   "cell_type": "code",
   "execution_count": 95,
   "metadata": {},
   "outputs": [
    {
     "ename": "TypeError",
     "evalue": "can only concatenate tuple (not \"list\") to tuple",
     "output_type": "error",
     "traceback": [
      "\u001b[0;31m---------------------------------------------------------------------------\u001b[0m",
      "\u001b[0;31mTypeError\u001b[0m                                 Traceback (most recent call last)",
      "Cell \u001b[0;32mIn[95], line 4\u001b[0m\n\u001b[1;32m      1\u001b[0m my_data \u001b[39m=\u001b[39m ((\u001b[39m1\u001b[39m, \u001b[39m2\u001b[39m), [\u001b[39m3\u001b[39m, \u001b[39m4\u001b[39m], (\u001b[39m5\u001b[39m, \u001b[39m6\u001b[39m))\n\u001b[1;32m      3\u001b[0m \u001b[39m# sum(my_data, [])\u001b[39;00m\n\u001b[0;32m----> 4\u001b[0m \u001b[39msum\u001b[39;49m(my_data, ())\n",
      "\u001b[0;31mTypeError\u001b[0m: can only concatenate tuple (not \"list\") to tuple"
     ]
    }
   ],
   "source": [
    "my_data = ((1, 2), [3, 4], (5, 6))\n",
    "\n",
    "# sum(my_data, [])\n",
    "sum(my_data, ())"
   ]
  },
  {
   "cell_type": "code",
   "execution_count": 96,
   "metadata": {},
   "outputs": [
    {
     "ename": "TypeError",
     "evalue": "unsupported operand type(s) for +: 'int' and 'tuple'",
     "output_type": "error",
     "traceback": [
      "\u001b[0;31m---------------------------------------------------------------------------\u001b[0m",
      "\u001b[0;31mTypeError\u001b[0m                                 Traceback (most recent call last)",
      "Cell \u001b[0;32mIn[96], line 3\u001b[0m\n\u001b[1;32m      1\u001b[0m my_data \u001b[39m=\u001b[39m ((\u001b[39m1\u001b[39m, \u001b[39m2\u001b[39m), \u001b[39m3\u001b[39m, \u001b[39m4\u001b[39m, (\u001b[39m5\u001b[39m, \u001b[39m6\u001b[39m))\n\u001b[0;32m----> 3\u001b[0m \u001b[39msum\u001b[39;49m(my_data)\n",
      "\u001b[0;31mTypeError\u001b[0m: unsupported operand type(s) for +: 'int' and 'tuple'"
     ]
    }
   ],
   "source": [
    "my_data = ((1, 2), 3, 4, (5, 6))\n",
    "\n",
    "sum(my_data)"
   ]
  },
  {
   "attachments": {},
   "cell_type": "markdown",
   "metadata": {},
   "source": [
    "Assignment\n",
    "----------\n",
    "1) write a function to mimick the sum() function.\n",
    "    Caution: don't create function with same name\n",
    "\n",
    "2) write a function to implement the following:\n",
    "    - input: ((1,2), 3,4, [5, 6])\n",
    "    - output: (1, 2, 3, 4, 5, 6)\n",
    "\n",
    "    HINT: isinstance() - builtin function\n",
    "          int(), float(), list(), tuple(), set()\n",
    "          list.append(), list.extend\n",
    "          list & tuple concatenation"
   ]
  },
  {
   "cell_type": "code",
   "execution_count": 98,
   "metadata": {},
   "outputs": [
    {
     "name": "stdout",
     "output_type": "stream",
     "text": [
      "type(int) is type(123)  :False\n",
      "isinstance(123, int)    :True\n"
     ]
    }
   ],
   "source": [
    "print(f'type(int) is type(123)  :{type(int) is type(123)}')\n",
    "print(f\"isinstance(123, int)    :{isinstance(123, int)}\")"
   ]
  },
  {
   "cell_type": "code",
   "execution_count": 99,
   "metadata": {},
   "outputs": [
    {
     "name": "stdout",
     "output_type": "stream",
     "text": [
      "isinstance(10.3, int)   :False\n",
      "isinstance(10.3, float) :True\n"
     ]
    }
   ],
   "source": [
    "print(f\"isinstance(10.3, int)   :{isinstance(10.3, int)}\")\n",
    "print(f\"isinstance(10.3, float) :{isinstance(10.3, float)}\")"
   ]
  },
  {
   "attachments": {},
   "cell_type": "markdown",
   "metadata": {},
   "source": [
    "#### Type 5: Function overwriting Problem\n",
    "    \n",
    "    -  Python doesn't support function overloading\n"
   ]
  },
  {
   "cell_type": "code",
   "execution_count": 100,
   "metadata": {},
   "outputs": [
    {
     "data": {
      "text/plain": [
       "200"
      ]
     },
     "execution_count": 100,
     "metadata": {},
     "output_type": "execute_result"
    }
   ],
   "source": [
    "num1 = 100\n",
    "num1 = 200\n",
    "\n",
    "\n",
    "num1"
   ]
  },
  {
   "cell_type": "code",
   "execution_count": 101,
   "metadata": {},
   "outputs": [],
   "source": [
    "# Case 1\n",
    "def addition(var1, var2, var3):\n",
    "    return var1 + var2 + var3\n",
    "\n",
    "\n",
    "def addition(num1, num2):\n",
    "    return num1 + num2"
   ]
  },
  {
   "cell_type": "code",
   "execution_count": 103,
   "metadata": {},
   "outputs": [
    {
     "ename": "TypeError",
     "evalue": "addition() takes 2 positional arguments but 3 were given",
     "output_type": "error",
     "traceback": [
      "\u001b[0;31m---------------------------------------------------------------------------\u001b[0m",
      "\u001b[0;31mTypeError\u001b[0m                                 Traceback (most recent call last)",
      "Cell \u001b[0;32mIn[103], line 1\u001b[0m\n\u001b[0;32m----> 1\u001b[0m addition(\u001b[39m10\u001b[39;49m, \u001b[39m20\u001b[39;49m, \u001b[39m30\u001b[39;49m)\n",
      "\u001b[0;31mTypeError\u001b[0m: addition() takes 2 positional arguments but 3 were given"
     ]
    }
   ],
   "source": [
    "addition(10, 20, 30)"
   ]
  },
  {
   "cell_type": "code",
   "execution_count": 104,
   "metadata": {},
   "outputs": [
    {
     "data": {
      "text/plain": [
       "30"
      ]
     },
     "execution_count": 104,
     "metadata": {},
     "output_type": "execute_result"
    }
   ],
   "source": [
    "addition(10, 20)"
   ]
  },
  {
   "cell_type": "code",
   "execution_count": 105,
   "metadata": {},
   "outputs": [],
   "source": [
    "# Case 2\n",
    "def addition(num1, num2):\n",
    "    return num1 + num2\n",
    "\n",
    "\n",
    "def addition(var1, var2, var3):\n",
    "    return var1 + var2 + var3\n"
   ]
  },
  {
   "cell_type": "code",
   "execution_count": 106,
   "metadata": {},
   "outputs": [
    {
     "data": {
      "text/plain": [
       "60"
      ]
     },
     "execution_count": 106,
     "metadata": {},
     "output_type": "execute_result"
    }
   ],
   "source": [
    "addition(10, 20, 30)"
   ]
  },
  {
   "cell_type": "code",
   "execution_count": 107,
   "metadata": {},
   "outputs": [
    {
     "ename": "TypeError",
     "evalue": "addition() missing 1 required positional argument: 'var3'",
     "output_type": "error",
     "traceback": [
      "\u001b[0;31m---------------------------------------------------------------------------\u001b[0m",
      "\u001b[0;31mTypeError\u001b[0m                                 Traceback (most recent call last)",
      "Cell \u001b[0;32mIn[107], line 1\u001b[0m\n\u001b[0;32m----> 1\u001b[0m addition(\u001b[39m10\u001b[39;49m, \u001b[39m20\u001b[39;49m)\n",
      "\u001b[0;31mTypeError\u001b[0m: addition() missing 1 required positional argument: 'var3'"
     ]
    }
   ],
   "source": [
    "addition(10, 20)"
   ]
  },
  {
   "cell_type": "markdown",
   "metadata": {},
   "source": [
    "##### Type 6: Function with default arguments"
   ]
  },
  {
   "cell_type": "code",
   "execution_count": 108,
   "metadata": {},
   "outputs": [
    {
     "name": "stdout",
     "output_type": "stream",
     "text": [
      "addition(10, 20)     =30\n",
      "addition(10, 20, 30) =60\n"
     ]
    }
   ],
   "source": [
    "# def addition(num1, num2):\n",
    "#     return num1 + num2\n",
    "\n",
    "\n",
    "def addition(var1, var2, var3=0):\n",
    "    return var1 + var2 + var3\n",
    "\n",
    "\n",
    "\n",
    "print(f\"{addition(10, 20)     =}\")\n",
    "print(f\"{addition(10, 20, 30) =}\")"
   ]
  },
  {
   "cell_type": "markdown",
   "metadata": {},
   "source": [
    "__NOTE:__ In function definition, default args must be specified at the end only"
   ]
  },
  {
   "cell_type": "code",
   "execution_count": 109,
   "metadata": {},
   "outputs": [
    {
     "name": "stdout",
     "output_type": "stream",
     "text": [
      "addition.__sizeof__() =128\n",
      "addition.__name__     ='addition'\n",
      "addition.__defaults__ =(0,)\n"
     ]
    }
   ],
   "source": [
    "print(f\"{addition.__sizeof__() =}\")\n",
    "print(f\"{addition.__name__     =}\")\n",
    "print(f\"{addition.__defaults__ =}\")"
   ]
  },
  {
   "cell_type": "code",
   "execution_count": 110,
   "metadata": {},
   "outputs": [
    {
     "name": "stdout",
     "output_type": "stream",
     "text": [
      "Hello world!\n",
      "Hello Python!\n"
     ]
    }
   ],
   "source": [
    "def hello():\n",
    "    print(\"Hello world!\")\n",
    "\n",
    "hello()\n",
    "\n",
    "\n",
    "def hello(name):\n",
    "    print(f\"Hello {name}!\")\n",
    "\n",
    "hello(\"Python\")"
   ]
  },
  {
   "cell_type": "code",
   "execution_count": 111,
   "metadata": {},
   "outputs": [
    {
     "name": "stdout",
     "output_type": "stream",
     "text": [
      "Hello world!\n",
      "Hello Python!\n"
     ]
    }
   ],
   "source": [
    "def hello(name=\"world\"):\n",
    "    print(f\"Hello {name}!\")\n",
    "\n",
    "hello()\n",
    "hello(\"Python\")"
   ]
  },
  {
   "cell_type": "code",
   "execution_count": 112,
   "metadata": {},
   "outputs": [
    {
     "ename": "SyntaxError",
     "evalue": "non-default argument follows default argument (3929670130.py, line 1)",
     "output_type": "error",
     "traceback": [
      "\u001b[0;36m  Cell \u001b[0;32mIn[112], line 1\u001b[0;36m\u001b[0m\n\u001b[0;31m    def statement_creator(age = 24, name,  qualification='B.Tech'):\u001b[0m\n\u001b[0m                                    ^\u001b[0m\n\u001b[0;31mSyntaxError\u001b[0m\u001b[0;31m:\u001b[0m non-default argument follows default argument\n"
     ]
    }
   ],
   "source": [
    "def statement_creator(age = 24, name,  qualification='B.Tech'):\n",
    "    print(f\"{name}'s age is {age}. qualification is {qualification}\")"
   ]
  },
  {
   "cell_type": "code",
   "execution_count": 113,
   "metadata": {},
   "outputs": [],
   "source": [
    "def statement_creator(name, age = 24, qualification='B.Tech'):\n",
    "    print(f\"{name}'s age is {age}. qualification is {qualification}\")"
   ]
  },
  {
   "cell_type": "code",
   "execution_count": 114,
   "metadata": {},
   "outputs": [
    {
     "data": {
      "text/plain": [
       "(24, 'B.Tech')"
      ]
     },
     "execution_count": 114,
     "metadata": {},
     "output_type": "execute_result"
    }
   ],
   "source": [
    "statement_creator.__defaults__"
   ]
  },
  {
   "cell_type": "code",
   "execution_count": 115,
   "metadata": {},
   "outputs": [
    {
     "ename": "TypeError",
     "evalue": "statement_creator() missing 1 required positional argument: 'name'",
     "output_type": "error",
     "traceback": [
      "\u001b[0;31m---------------------------------------------------------------------------\u001b[0m",
      "\u001b[0;31mTypeError\u001b[0m                                 Traceback (most recent call last)",
      "Cell \u001b[0;32mIn[115], line 1\u001b[0m\n\u001b[0;32m----> 1\u001b[0m statement_creator()\n",
      "\u001b[0;31mTypeError\u001b[0m: statement_creator() missing 1 required positional argument: 'name'"
     ]
    }
   ],
   "source": [
    "statement_creator()"
   ]
  },
  {
   "cell_type": "code",
   "execution_count": 116,
   "metadata": {},
   "outputs": [
    {
     "name": "stdout",
     "output_type": "stream",
     "text": [
      "Udhay's age is 24. qualification is B.Tech\n",
      "Udhay's age is 24. qualification is B.Tech\n"
     ]
    }
   ],
   "source": [
    "statement_creator(\"Udhay\")\n",
    "statement_creator(name=\"Udhay\")"
   ]
  },
  {
   "cell_type": "code",
   "execution_count": 117,
   "metadata": {},
   "outputs": [
    {
     "name": "stdout",
     "output_type": "stream",
     "text": [
      "Udhay's age is 28. qualification is B.Tech\n",
      "Udhay's age is 28. qualification is B.Tech\n"
     ]
    }
   ],
   "source": [
    "statement_creator(\"Udhay\", 28)\n",
    "statement_creator(name=\"Udhay\", age=28)"
   ]
  },
  {
   "cell_type": "code",
   "execution_count": 118,
   "metadata": {},
   "outputs": [
    {
     "name": "stdout",
     "output_type": "stream",
     "text": [
      "Udhay's age is 28. qualification is M.Tech\n",
      "Udhay's age is 28. qualification is M.Tech\n"
     ]
    }
   ],
   "source": [
    "statement_creator(\"Udhay\", 28, \"M.Tech\")\n",
    "statement_creator(name=\"Udhay\", age=28, qualification=\"M.Tech\")"
   ]
  },
  {
   "cell_type": "code",
   "execution_count": 119,
   "metadata": {},
   "outputs": [
    {
     "name": "stdout",
     "output_type": "stream",
     "text": [
      "28's age is 24. qualification is B.Tech\n"
     ]
    }
   ],
   "source": [
    "statement_creator(28)"
   ]
  },
  {
   "cell_type": "markdown",
   "metadata": {},
   "source": [
    "#### Type 7: Functions with default args -- Leakage Problem"
   ]
  },
  {
   "cell_type": "code",
   "execution_count": 125,
   "metadata": {},
   "outputs": [
    {
     "name": "stdout",
     "output_type": "stream",
     "text": [
      "\tid(my_list)=140284236604544 my_list =[]\n",
      "list1:[123]\n",
      "\tid(my_list)=140284236599424 my_list =[]\n",
      "list2:[10]\n",
      "\tid(my_list)=140284236599424 my_list =[10]\n",
      "list3:[10, 'a']\n"
     ]
    }
   ],
   "source": [
    "# anti-patterns\n",
    "\n",
    "def extend_list(val, my_list=[]):\n",
    "    print(f\"\\t{id(my_list)=} {my_list =}\")\n",
    "    my_list.append(val)\n",
    "    return my_list\n",
    "\n",
    "\n",
    "list1 = extend_list(123, [])\n",
    "print(f\"list1:{list1}\")\n",
    "\n",
    "\n",
    "list2 = extend_list(10) # using default list\n",
    "print(f\"list2:{list2}\")\n",
    "\n",
    "\n",
    "list3 = extend_list(\"a\")  # using default list\n",
    "print(f\"list3:{list3}\")"
   ]
  },
  {
   "cell_type": "code",
   "execution_count": 126,
   "metadata": {},
   "outputs": [
    {
     "name": "stdout",
     "output_type": "stream",
     "text": [
      "\tid(my_list)=140284236595520 my_list =[]\n",
      "list1:[123]\n",
      "\tid(my_list)=140284236603648 my_list =[]\n",
      "list2:[10]\n",
      "\tid(my_list)=140284236597504 my_list =[]\n",
      "list3:['a']\n"
     ]
    }
   ],
   "source": [
    "# solution\n",
    "def extend_list(val, my_list=None):\n",
    "    if my_list is None:\n",
    "        my_list = []\n",
    "    print(f\"\\t{id(my_list)=} {my_list =}\")\n",
    "    my_list.append(val)\n",
    "    return my_list\n",
    "\n",
    "\n",
    "list1 = extend_list(123, [])\n",
    "print(f\"list1:{list1}\")\n",
    "\n",
    "\n",
    "list2 = extend_list(10) # using default list\n",
    "print(f\"list2:{list2}\")\n",
    "\n",
    "\n",
    "list3 = extend_list(\"a\")  # using default list\n",
    "print(f\"list3:{list3}\")"
   ]
  },
  {
   "cell_type": "code",
   "execution_count": 127,
   "metadata": {},
   "outputs": [
    {
     "name": "stdout",
     "output_type": "stream",
     "text": [
      "\tid(my_list)=140284237364096 my_list =[]\n",
      "list1:[123]\n",
      "\tid(my_list)=140284236601664 my_list =[]\n",
      "list2:[10]\n",
      "\tid(my_list)=140284236595520 my_list =[]\n",
      "list3:['a']\n"
     ]
    }
   ],
   "source": [
    "# solution\n",
    "def extend_list(val, my_list=None):\n",
    "    # if my_list is None:\n",
    "    #     my_list = []\n",
    "    my_list = my_list or []  # Boolean short-circuiting\n",
    "    print(f\"\\t{id(my_list)=} {my_list =}\")\n",
    "    my_list.append(val)\n",
    "    return my_list\n",
    "\n",
    "\n",
    "list1 = extend_list(123, [])\n",
    "print(f\"list1:{list1}\")\n",
    "\n",
    "\n",
    "list2 = extend_list(10) # using default list\n",
    "print(f\"list2:{list2}\")\n",
    "\n",
    "\n",
    "list3 = extend_list(\"a\")  # using default list\n",
    "print(f\"list3:{list3}\")"
   ]
  },
  {
   "cell_type": "markdown",
   "metadata": {},
   "source": [
    "#### Type 8: Function with variable arguments\n",
    "\n",
    "    variadic functions - functions which can process any no. of arguments"
   ]
  },
  {
   "cell_type": "code",
   "execution_count": 129,
   "metadata": {},
   "outputs": [
    {
     "name": "stdout",
     "output_type": "stream",
     "text": [
      "12 34 three India None True sdas 342432 212.34\n",
      "12 34 three\n",
      "12 34\n",
      "12\n",
      "\n"
     ]
    }
   ],
   "source": [
    "# built-in\n",
    "# print is the simplest example of variadic function\n",
    "print(12, \"34\", \"three\", \"India\", None, True, \"sdas\", 342432, 212.34)\n",
    "print(12, \"34\", \"three\")\n",
    "print(12, \"34\")\n",
    "print(12)\n",
    "print()"
   ]
  },
  {
   "cell_type": "code",
   "execution_count": 131,
   "metadata": {},
   "outputs": [
    {
     "name": "stdout",
     "output_type": "stream",
     "text": [
      "\n",
      "nums        :()\n",
      "type(nums)  :<class 'tuple'>\n",
      "\n",
      "nums        :(10,)\n",
      "type(nums)  :<class 'tuple'>\n",
      "\n",
      "nums        :(10, 20)\n",
      "type(nums)  :<class 'tuple'>\n",
      "\n",
      "nums        :(10, 20, 30)\n",
      "type(nums)  :<class 'tuple'>\n",
      "\n",
      "nums        :(10, 20, 30, True, 30, '20', None, 30)\n",
      "type(nums)  :<class 'tuple'>\n"
     ]
    }
   ],
   "source": [
    "# Function definition\n",
    "def addition(*nums):\n",
    "    print(f\"\\nnums        :{nums}\")\n",
    "    print(f\"type(nums)  :{type(nums)}\")\n",
    "\n",
    "\n",
    "# Function call\n",
    "addition()\n",
    "addition(10)\n",
    "addition(10, 20)\n",
    "addition(10, 20, 30)\n",
    "addition(10, 20, 30, True, 30, \"20\", None, 30)"
   ]
  },
  {
   "cell_type": "code",
   "execution_count": 132,
   "metadata": {},
   "outputs": [
    {
     "name": "stdout",
     "output_type": "stream",
     "text": [
      "\n",
      "12 \n",
      "12 34 \n",
      "12 34 three \n",
      "12 34 three India 75 34 sdas 342432 212.34 \n"
     ]
    }
   ],
   "source": [
    "def print_function(*args):\n",
    "    for each_arg in args:\n",
    "        print(each_arg, sep=\" \", end=\" \")\n",
    "    print()\n",
    "\n",
    "\n",
    "print_function()\n",
    "print_function(12)\n",
    "print_function(12, \"34\")\n",
    "print_function(12, \"34\", \"three\")\n",
    "print_function(12, \"34\", \"three\", \"India\", 75, 34, \"sdas\", 342432, 212.34)"
   ]
  },
  {
   "cell_type": "code",
   "execution_count": 133,
   "metadata": {},
   "outputs": [
    {
     "name": "stdout",
     "output_type": "stream",
     "text": [
      "\n",
      " 2023-05-06 16:07:23.721327::12 34 three India None True sdas 342432 212.34 \n",
      " 2023-05-06 16:07:23.722277::12 34 three \n",
      " 2023-05-06 16:07:23.722365::12 34 \n",
      " 2023-05-06 16:07:23.722436::12 \n",
      " 2023-05-06 16:07:23.722499::"
     ]
    }
   ],
   "source": [
    "from datetime import datetime\n",
    "\n",
    "\n",
    "def print_time_func(*args):\n",
    "    print(\"\\n\", datetime.now(), end=\"::\")\n",
    "    for each_arg in args:\n",
    "        print(each_arg, sep=\" \", end=\" \")\n",
    "\n",
    "\n",
    "print_time_func(12, \"34\", \"three\", \"India\", None, True, \"sdas\", 342432, 212.34)\n",
    "print_time_func(12, \"34\", \"three\")\n",
    "print_time_func(12, \"34\")\n",
    "print_time_func(12)\n",
    "print_time_func()"
   ]
  },
  {
   "cell_type": "markdown",
   "metadata": {},
   "source": [
    "##### Type 9: Function with variable keyword arguments"
   ]
  },
  {
   "cell_type": "code",
   "execution_count": 134,
   "metadata": {},
   "outputs": [
    {
     "name": "stdout",
     "output_type": "stream",
     "text": [
      "<class 'dict'> {}\n",
      "<class 'dict'> {'name': 'Udhay'}\n",
      "<class 'dict'> {'name': 'udhay', 'age': 55}\n"
     ]
    }
   ],
   "source": [
    "def myfunc(**kwargs):\n",
    "    print(type(kwargs), kwargs)\n",
    "\n",
    "\n",
    "myfunc()\n",
    "myfunc(name=\"Udhay\")\n",
    "myfunc(name=\"udhay\", age=55)"
   ]
  },
  {
   "cell_type": "code",
   "execution_count": 136,
   "metadata": {},
   "outputs": [],
   "source": [
    "def hello(*given, **feed_in):\n",
    "    print(\"\\ntype(given)  \", type(given))\n",
    "    print(\"type(feed_in) \", type(feed_in))\n",
    "\n",
    "    print(\"given   \" + str(given))\n",
    "    print(\"feed_in \" + str(feed_in))"
   ]
  },
  {
   "cell_type": "code",
   "execution_count": 137,
   "metadata": {},
   "outputs": [
    {
     "name": "stdout",
     "output_type": "stream",
     "text": [
      "\n",
      "type(given)   <class 'tuple'>\n",
      "type(feed_in)  <class 'dict'>\n",
      "given   ()\n",
      "feed_in {}\n"
     ]
    }
   ],
   "source": [
    "# Function Call\n",
    "hello()  # 0 inputs"
   ]
  },
  {
   "cell_type": "code",
   "execution_count": 138,
   "metadata": {},
   "outputs": [
    {
     "name": "stdout",
     "output_type": "stream",
     "text": [
      "\n",
      "type(given)   <class 'tuple'>\n",
      "type(feed_in)  <class 'dict'>\n",
      "given   ('santosh',)\n",
      "feed_in {}\n"
     ]
    }
   ],
   "source": [
    "hello(\"santosh\")  # 1 input"
   ]
  },
  {
   "cell_type": "code",
   "execution_count": 139,
   "metadata": {},
   "outputs": [
    {
     "name": "stdout",
     "output_type": "stream",
     "text": [
      "\n",
      "type(given)   <class 'tuple'>\n",
      "type(feed_in)  <class 'dict'>\n",
      "given   ()\n",
      "feed_in {'name': 'santosh'}\n"
     ]
    }
   ],
   "source": [
    "hello(name=\"santosh\")  # 1 input"
   ]
  },
  {
   "cell_type": "code",
   "execution_count": 140,
   "metadata": {},
   "outputs": [
    {
     "name": "stdout",
     "output_type": "stream",
     "text": [
      "\n",
      "type(given)   <class 'tuple'>\n",
      "type(feed_in)  <class 'dict'>\n",
      "given   ('siddanth', 34)\n",
      "feed_in {}\n",
      "\n",
      "\n",
      "type(given)   <class 'tuple'>\n",
      "type(feed_in)  <class 'dict'>\n",
      "given   ()\n",
      "feed_in {'name1': 'siddanth', 'age': 34}\n"
     ]
    }
   ],
   "source": [
    "hello(\"siddanth\", 34)  # 2 args\n",
    "print()\n",
    "hello(name1=\"siddanth\", age=34)  # 2 args\n"
   ]
  },
  {
   "cell_type": "code",
   "execution_count": 141,
   "metadata": {},
   "outputs": [
    {
     "name": "stdout",
     "output_type": "stream",
     "text": [
      "\n",
      "type(given)   <class 'tuple'>\n",
      "type(feed_in)  <class 'dict'>\n",
      "given   (212.34, 'India', 75)\n",
      "feed_in {'number': 34, 'mystring': 'sdas', 'largest': 342432}\n"
     ]
    }
   ],
   "source": [
    "hello(  212.34, \"India\", 75, \n",
    "        number=34, mystring=\"sdas\", largest=342432)\n"
   ]
  },
  {
   "cell_type": "code",
   "execution_count": 142,
   "metadata": {},
   "outputs": [
    {
     "ename": "SyntaxError",
     "evalue": "positional argument follows keyword argument (1591544197.py, line 2)",
     "output_type": "error",
     "traceback": [
      "\u001b[0;36m  Cell \u001b[0;32mIn[142], line 2\u001b[0;36m\u001b[0m\n\u001b[0;31m    number=34, mystring=\"sdas\", largest=342432, 88, 99)\u001b[0m\n\u001b[0m                                                      ^\u001b[0m\n\u001b[0;31mSyntaxError\u001b[0m\u001b[0;31m:\u001b[0m positional argument follows keyword argument\n"
     ]
    }
   ],
   "source": [
    "hello(  212.34, \"India\", 75, \n",
    "        number=34, mystring=\"sdas\", largest=342432, 88, 99)\n"
   ]
  },
  {
   "cell_type": "code",
   "execution_count": 143,
   "metadata": {},
   "outputs": [
    {
     "name": "stdout",
     "output_type": "stream",
     "text": [
      "\n",
      "type(given)   <class 'tuple'>\n",
      "type(feed_in)  <class 'dict'>\n",
      "given   (212.34, 'India', 75, 88, 99)\n",
      "feed_in {'number': 34, 'mystring': 'sdas', 'largest': 342432}\n"
     ]
    }
   ],
   "source": [
    "hello(  212.34, \"India\", 75, 88, 99,\n",
    "        number=34, mystring=\"sdas\", largest=342432)\n"
   ]
  },
  {
   "cell_type": "markdown",
   "metadata": {},
   "source": [
    "```\n",
    "\n",
    "    def f(pos1, pos2, /, pos_or_kwd, *, kwd1, kwd2):\n",
    "            -----------    ----------     ----------\n",
    "                |             |                  |\n",
    "                |        Positional or keyword   |\n",
    "                |                                - Keyword only\n",
    "                -- Positional only\n",
    "\n",
    "        When to use positional-only arguments\n",
    "            Use positional-only if names do not matter or have no meaning, and there are only a few arguments which will always be passed in the same order.\n",
    "            Use keyword-only when names have meaning and the function definition is more understandable by being explicit with names.\n",
    "\n",
    "    NOTE: Introduced in python 3.8\n",
    "\n",
    "```"
   ]
  },
  {
   "cell_type": "code",
   "execution_count": 144,
   "metadata": {},
   "outputs": [
    {
     "name": "stdout",
     "output_type": "stream",
     "text": [
      "45\n",
      "124\n",
      "124\n",
      "124\n"
     ]
    }
   ],
   "source": [
    "def multiply_then_add(a, b, c, d=10):\n",
    "    return a + b + c + d\n",
    "\n",
    "\n",
    "print(multiply_then_add(5, 10, 20))\n",
    "print(multiply_then_add(5, 10, 20, 89))\n",
    "\n",
    "print(multiply_then_add(5, 10, 20, d=89))\n",
    "print(multiply_then_add(a=5, b=10, c=20, d=89))"
   ]
  },
  {
   "cell_type": "code",
   "execution_count": 146,
   "metadata": {},
   "outputs": [
    {
     "name": "stdout",
     "output_type": "stream",
     "text": [
      "45\n",
      "124\n",
      "124\n"
     ]
    }
   ],
   "source": [
    "def multiply_then_add(a, b, c, /, d=10):\n",
    "    \"\"\"  args before / should be position only arguments\"\"\"\n",
    "    return a + b + c + d\n",
    "\n",
    "\n",
    "print(multiply_then_add(5, 10, 20))\n",
    "print(multiply_then_add(5, 10, 20, 89))\n",
    "\n",
    "print(multiply_then_add(5, 10, 20, d=89))\n"
   ]
  },
  {
   "cell_type": "code",
   "execution_count": 147,
   "metadata": {},
   "outputs": [
    {
     "ename": "TypeError",
     "evalue": "multiply_then_add() got some positional-only arguments passed as keyword arguments: 'a, b, c'",
     "output_type": "error",
     "traceback": [
      "\u001b[0;31m---------------------------------------------------------------------------\u001b[0m",
      "\u001b[0;31mTypeError\u001b[0m                                 Traceback (most recent call last)",
      "Cell \u001b[0;32mIn[147], line 1\u001b[0m\n\u001b[0;32m----> 1\u001b[0m \u001b[39mprint\u001b[39m(multiply_then_add(a\u001b[39m=\u001b[39;49m\u001b[39m5\u001b[39;49m, b\u001b[39m=\u001b[39;49m\u001b[39m10\u001b[39;49m, c\u001b[39m=\u001b[39;49m\u001b[39m20\u001b[39;49m, d\u001b[39m=\u001b[39;49m\u001b[39m89\u001b[39;49m))\n",
      "\u001b[0;31mTypeError\u001b[0m: multiply_then_add() got some positional-only arguments passed as keyword arguments: 'a, b, c'"
     ]
    }
   ],
   "source": [
    "print(multiply_then_add(a=5, b=10, c=20, d=89))"
   ]
  },
  {
   "cell_type": "code",
   "execution_count": 148,
   "metadata": {},
   "outputs": [
    {
     "name": "stdout",
     "output_type": "stream",
     "text": [
      "pow(4, 2)       =16\n",
      "pow(4, 2, 10)   =6\n"
     ]
    }
   ],
   "source": [
    "print(f\"{pow(4, 2)       =}\")\n",
    "print(f\"{pow(4, 2, 10)   =}\")\n"
   ]
  },
  {
   "cell_type": "code",
   "execution_count": 149,
   "metadata": {},
   "outputs": [
    {
     "name": "stdout",
     "output_type": "stream",
     "text": [
      "power(4, 2)     =16\n",
      "power(4, 2, 10) =6\n",
      "power(4, 2, mod=10) =6\n"
     ]
    }
   ],
   "source": [
    "def power(x, y, /, mod=None):\n",
    "    r = x**y\n",
    "    if mod is not None:\n",
    "        r %= mod\n",
    "    return r\n",
    "\n",
    "\n",
    "print(f\"{power(4, 2)     =}\")\n",
    "print(f\"{power(4, 2, 10) =}\")\n",
    "print(f\"{power(4, 2, mod=10) =}\")"
   ]
  },
  {
   "cell_type": "code",
   "execution_count": 150,
   "metadata": {},
   "outputs": [
    {
     "ename": "TypeError",
     "evalue": "power() got some positional-only arguments passed as keyword arguments: 'y'",
     "output_type": "error",
     "traceback": [
      "\u001b[0;31m---------------------------------------------------------------------------\u001b[0m",
      "\u001b[0;31mTypeError\u001b[0m                                 Traceback (most recent call last)",
      "Cell \u001b[0;32mIn[150], line 1\u001b[0m\n\u001b[0;32m----> 1\u001b[0m power(\u001b[39m4\u001b[39;49m, y\u001b[39m=\u001b[39;49m\u001b[39m2\u001b[39;49m, mod\u001b[39m=\u001b[39;49m\u001b[39m10\u001b[39;49m)\n",
      "\u001b[0;31mTypeError\u001b[0m: power() got some positional-only arguments passed as keyword arguments: 'y'"
     ]
    }
   ],
   "source": [
    "power(4, y=2, mod=10)"
   ]
  },
  {
   "cell_type": "markdown",
   "metadata": {},
   "source": [
    "#### Type 10: Function with Keyword ONLY args"
   ]
  },
  {
   "cell_type": "code",
   "execution_count": 151,
   "metadata": {},
   "outputs": [
    {
     "name": "stdout",
     "output_type": "stream",
     "text": [
      "\n",
      "        server_name ='facebook.com'\n",
      "        user_name   ='udhay'\n",
      "        password    ='udhay123'\n",
      "    \n",
      "\n",
      "        server_name ='facebook.com'\n",
      "        user_name   ='udhay123'\n",
      "        password    ='udhay'\n",
      "    \n",
      "\n",
      "        server_name ='udhay'\n",
      "        user_name   ='udhay123'\n",
      "        password    ='facebook.com'\n",
      "    \n"
     ]
    }
   ],
   "source": [
    "def servr_login(server_name, user_name, password):\n",
    "    print(\n",
    "        f\"\"\"\n",
    "        {server_name =}\n",
    "        {user_name   =}\n",
    "        {password    =}\n",
    "    \"\"\"\n",
    "    )\n",
    "\n",
    "servr_login(\"facebook.com\", \"udhay\", \"udhay123\")  # correct order\n",
    "servr_login(\"facebook.com\", \"udhay123\", \"udhay\")\n",
    "servr_login(\"udhay\", \"udhay123\", \"facebook.com\")"
   ]
  },
  {
   "cell_type": "code",
   "execution_count": 152,
   "metadata": {},
   "outputs": [
    {
     "name": "stdout",
     "output_type": "stream",
     "text": [
      "\n",
      "        server_name ='facebook.com'\n",
      "        user_name   ='udhay'\n",
      "        password    ='udhay123'\n",
      "    \n",
      "\n",
      "        server_name ='facebook.com'\n",
      "        user_name   ='udhay'\n",
      "        password    ='udhay123'\n",
      "    \n"
     ]
    }
   ],
   "source": [
    "def servr_login(server_name, *, user_name, password):\n",
    "    print(\n",
    "        f\"\"\"\n",
    "        {server_name =}\n",
    "        {user_name   =}\n",
    "        {password    =}\n",
    "    \"\"\"\n",
    "    )\n",
    "\n",
    "\n",
    "servr_login(\"facebook.com\", user_name=\"udhay\", password=\"udhay123\")\n",
    "servr_login(server_name=\"facebook.com\", user_name=\"udhay\", password=\"udhay123\")"
   ]
  },
  {
   "cell_type": "code",
   "execution_count": 153,
   "metadata": {},
   "outputs": [
    {
     "ename": "TypeError",
     "evalue": "servr_login() takes 1 positional argument but 3 were given",
     "output_type": "error",
     "traceback": [
      "\u001b[0;31m---------------------------------------------------------------------------\u001b[0m",
      "\u001b[0;31mTypeError\u001b[0m                                 Traceback (most recent call last)",
      "Cell \u001b[0;32mIn[153], line 1\u001b[0m\n\u001b[0;32m----> 1\u001b[0m servr_login(\u001b[39m'\u001b[39;49m\u001b[39mfacebook.com\u001b[39;49m\u001b[39m'\u001b[39;49m, \u001b[39m'\u001b[39;49m\u001b[39mudhay123\u001b[39;49m\u001b[39m'\u001b[39;49m, \u001b[39m'\u001b[39;49m\u001b[39mudhay\u001b[39;49m\u001b[39m'\u001b[39;49m)\n",
      "\u001b[0;31mTypeError\u001b[0m: servr_login() takes 1 positional argument but 3 were given"
     ]
    }
   ],
   "source": [
    "servr_login('facebook.com', 'udhay123', 'udhay')"
   ]
  },
  {
   "cell_type": "markdown",
   "metadata": {},
   "source": [
    "NOTE:\n",
    "\n",
    "\n",
    "    Recommended order for the arguments\n",
    "        def func(positional, keyword=value, *args, **kwargs):\n",
    "            pass"
   ]
  },
  {
   "cell_type": "code",
   "execution_count": 154,
   "metadata": {},
   "outputs": [
    {
     "name": "stdout",
     "output_type": "stream",
     "text": [
      "10 20 30 40 50 60\n"
     ]
    }
   ],
   "source": [
    "def f(a, b, /, c, d, *, e, f):\n",
    "    print(a, b, c, d, e, f)\n",
    "\n",
    "\n",
    "f(10, 20, 30, d=40, e=50, f=60)"
   ]
  },
  {
   "cell_type": "code",
   "execution_count": null,
   "metadata": {},
   "outputs": [],
   "source": []
  }
 ],
 "metadata": {
  "kernelspec": {
   "display_name": "Python 3",
   "language": "python",
   "name": "python3"
  },
  "language_info": {
   "codemirror_mode": {
    "name": "ipython",
    "version": 3
   },
   "file_extension": ".py",
   "mimetype": "text/x-python",
   "name": "python",
   "nbconvert_exporter": "python",
   "pygments_lexer": "ipython3",
   "version": "3.10.4"
  },
  "orig_nbformat": 4
 },
 "nbformat": 4,
 "nbformat_minor": 2
}
