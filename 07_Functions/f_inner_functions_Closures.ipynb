{
 "cells": [
  {
   "cell_type": "markdown",
   "metadata": {},
   "source": [
    "## Inner functions"
   ]
  },
  {
   "cell_type": "code",
   "execution_count": 1,
   "metadata": {},
   "outputs": [],
   "source": [
    "def myfunc():\n",
    "    pass\n",
    "\n",
    "def otherfunc():\n",
    "    pass\n",
    "\n"
   ]
  },
  {
   "cell_type": "code",
   "execution_count": 2,
   "metadata": {},
   "outputs": [
    {
     "name": "stdout",
     "output_type": "stream",
     "text": [
      "In myfunc\n"
     ]
    }
   ],
   "source": [
    "def myfunc():\n",
    "    print(\"In myfunc\")\n",
    "\n",
    "def otherfunc():\n",
    "    print(\"In otherfunc\")\n",
    "\n",
    "\n",
    "myfunc()"
   ]
  },
  {
   "cell_type": "code",
   "execution_count": 3,
   "metadata": {},
   "outputs": [
    {
     "name": "stdout",
     "output_type": "stream",
     "text": [
      "In otherfunc\n"
     ]
    }
   ],
   "source": [
    "otherfunc()"
   ]
  },
  {
   "cell_type": "code",
   "execution_count": 5,
   "metadata": {},
   "outputs": [
    {
     "name": "stdout",
     "output_type": "stream",
     "text": [
      "In myfunc\n"
     ]
    }
   ],
   "source": [
    "def myfunc():\n",
    "    print(\"In myfunc\")\n",
    "\n",
    "    def otherfunc2():\n",
    "        print(\"In otherfunc2\")\n",
    "\n",
    "\n",
    "myfunc()"
   ]
  },
  {
   "cell_type": "code",
   "execution_count": 6,
   "metadata": {},
   "outputs": [
    {
     "ename": "NameError",
     "evalue": "name 'otherfunc2' is not defined",
     "output_type": "error",
     "traceback": [
      "\u001b[0;31m---------------------------------------------------------------------------\u001b[0m",
      "\u001b[0;31mNameError\u001b[0m                                 Traceback (most recent call last)",
      "Cell \u001b[0;32mIn[6], line 1\u001b[0m\n\u001b[0;32m----> 1\u001b[0m otherfunc2()\n",
      "\u001b[0;31mNameError\u001b[0m: name 'otherfunc2' is not defined"
     ]
    }
   ],
   "source": [
    "otherfunc2()"
   ]
  },
  {
   "cell_type": "code",
   "execution_count": 7,
   "metadata": {},
   "outputs": [
    {
     "name": "stdout",
     "output_type": "stream",
     "text": [
      "in outer function\n"
     ]
    }
   ],
   "source": [
    "def outer():\n",
    "    print(\"in outer function\")\n",
    "\n",
    "    def inner():\n",
    "        print(\"In inner function\")\n",
    "\n",
    "outer()"
   ]
  },
  {
   "cell_type": "code",
   "execution_count": 8,
   "metadata": {},
   "outputs": [
    {
     "ename": "NameError",
     "evalue": "name 'inner' is not defined",
     "output_type": "error",
     "traceback": [
      "\u001b[0;31m---------------------------------------------------------------------------\u001b[0m",
      "\u001b[0;31mNameError\u001b[0m                                 Traceback (most recent call last)",
      "Cell \u001b[0;32mIn[8], line 1\u001b[0m\n\u001b[0;32m----> 1\u001b[0m inner()\n",
      "\u001b[0;31mNameError\u001b[0m: name 'inner' is not defined"
     ]
    }
   ],
   "source": [
    "inner()"
   ]
  },
  {
   "cell_type": "code",
   "execution_count": 9,
   "metadata": {},
   "outputs": [
    {
     "name": "stdout",
     "output_type": "stream",
     "text": [
      "in outer function\n"
     ]
    },
    {
     "ename": "UnboundLocalError",
     "evalue": "local variable 'inner' referenced before assignment",
     "output_type": "error",
     "traceback": [
      "\u001b[0;31m---------------------------------------------------------------------------\u001b[0m",
      "\u001b[0;31mUnboundLocalError\u001b[0m                         Traceback (most recent call last)",
      "Cell \u001b[0;32mIn[9], line 9\u001b[0m\n\u001b[1;32m      5\u001b[0m     \u001b[39mdef\u001b[39;00m \u001b[39minner\u001b[39m():\n\u001b[1;32m      6\u001b[0m         \u001b[39mprint\u001b[39m(\u001b[39m\"\u001b[39m\u001b[39mIn inner function\u001b[39m\u001b[39m\"\u001b[39m)\n\u001b[0;32m----> 9\u001b[0m outer()\n",
      "Cell \u001b[0;32mIn[9], line 3\u001b[0m, in \u001b[0;36mouter\u001b[0;34m()\u001b[0m\n\u001b[1;32m      1\u001b[0m \u001b[39mdef\u001b[39;00m \u001b[39mouter\u001b[39m():\n\u001b[1;32m      2\u001b[0m     \u001b[39mprint\u001b[39m(\u001b[39m\"\u001b[39m\u001b[39min outer function\u001b[39m\u001b[39m\"\u001b[39m)\n\u001b[0;32m----> 3\u001b[0m     inner()\n\u001b[1;32m      5\u001b[0m     \u001b[39mdef\u001b[39;00m \u001b[39minner\u001b[39m():\n\u001b[1;32m      6\u001b[0m         \u001b[39mprint\u001b[39m(\u001b[39m\"\u001b[39m\u001b[39mIn inner function\u001b[39m\u001b[39m\"\u001b[39m)\n",
      "\u001b[0;31mUnboundLocalError\u001b[0m: local variable 'inner' referenced before assignment"
     ]
    }
   ],
   "source": [
    "def outer():\n",
    "    print(\"in outer function\")\n",
    "    inner()\n",
    "\n",
    "    def inner():\n",
    "        print(\"In inner function\")\n",
    "\n",
    "\n",
    "outer()"
   ]
  },
  {
   "cell_type": "code",
   "execution_count": 10,
   "metadata": {},
   "outputs": [
    {
     "name": "stdout",
     "output_type": "stream",
     "text": [
      "in outer function\n",
      "In inner function\n"
     ]
    }
   ],
   "source": [
    "def outer():\n",
    "    print(\"in outer function\")\n",
    "\n",
    "    def inner():\n",
    "        print(\"In inner function\")\n",
    "\n",
    "    inner()\n",
    "\n",
    "\n",
    "outer()"
   ]
  },
  {
   "cell_type": "code",
   "execution_count": 11,
   "metadata": {},
   "outputs": [
    {
     "name": "stdout",
     "output_type": "stream",
     "text": [
      "in outer function\n"
     ]
    }
   ],
   "source": [
    "def outer():\n",
    "    print(\"in outer function\")\n",
    "\n",
    "    def inner():\n",
    "        print(\"In inner function\")\n",
    "\n",
    "        inner()\n",
    "\n",
    "\n",
    "outer()"
   ]
  },
  {
   "cell_type": "code",
   "execution_count": 14,
   "metadata": {},
   "outputs": [
    {
     "name": "stdout",
     "output_type": "stream",
     "text": [
      "in is_even func\n"
     ]
    },
    {
     "data": {
      "text/plain": [
       "20"
      ]
     },
     "execution_count": 14,
     "metadata": {},
     "output_type": "execute_result"
    }
   ],
   "source": [
    "def is_even(num):\n",
    "    print(\"in is_even func\")\n",
    "\n",
    "    def double(x):\n",
    "        return 2 * x\n",
    "    \n",
    "    if num % 2 == 0: # even\n",
    "        return double(num)\n",
    "\n",
    "\n",
    "is_even(10)"
   ]
  },
  {
   "cell_type": "markdown",
   "metadata": {},
   "source": [
    "#### non-local and inner functions"
   ]
  },
  {
   "cell_type": "code",
   "execution_count": 16,
   "metadata": {},
   "outputs": [
    {
     "name": "stdout",
     "output_type": "stream",
     "text": [
      "\tIn inner(): name ='inner function level'\n",
      "\tIn outer(): name ='outer function level'\n",
      "\toutside   : name ='global level'\n"
     ]
    }
   ],
   "source": [
    "name = \"global level\"\n",
    "\n",
    "\n",
    "def outer():\n",
    "    name = \"outer function level\"\n",
    "\n",
    "    def inner():\n",
    "        name = \"inner function level\"\n",
    "        print(f\"\\tIn inner(): {name =}\")\n",
    "\n",
    "    inner()\n",
    "    print(f\"\\tIn outer(): {name =}\")\n",
    "\n",
    "\n",
    "outer()\n",
    "print(f\"\\toutside   : {name =}\")\n"
   ]
  },
  {
   "cell_type": "code",
   "execution_count": 17,
   "metadata": {},
   "outputs": [
    {
     "name": "stdout",
     "output_type": "stream",
     "text": [
      "\tIn inner(): name ='inner function level'\n",
      "\tIn outer(): name ='outer function level'\n",
      "\toutside   : name ='inner function level'\n"
     ]
    }
   ],
   "source": [
    "name = \"global level\"\n",
    "\n",
    "\n",
    "def outer():\n",
    "    name = \"outer function level\"\n",
    "\n",
    "    def inner():\n",
    "        global name\n",
    "        name = \"inner function level\"\n",
    "        print(f\"\\tIn inner(): {name =}\")  # changed\n",
    "\n",
    "    inner()\n",
    "    print(f\"\\tIn outer(): {name =}\")  # uneffected\n",
    "\n",
    "\n",
    "outer()\n",
    "print(f\"\\toutside   : {name =}\")  # effected"
   ]
  },
  {
   "cell_type": "code",
   "execution_count": 18,
   "metadata": {},
   "outputs": [
    {
     "name": "stdout",
     "output_type": "stream",
     "text": [
      "\tIn inner(): name ='inner function level'\n",
      "\tIn outer(): name ='inner function level'\n",
      "\toutside   : name ='inner function level'\n"
     ]
    }
   ],
   "source": [
    "name = \"global level\"\n",
    "\n",
    "\n",
    "def outer():\n",
    "    global name\n",
    "    name = \"outer function level\"\n",
    "\n",
    "    def inner():\n",
    "        global name\n",
    "        name = \"inner function level\"\n",
    "        print(f\"\\tIn inner(): {name =}\")  # changed\n",
    "\n",
    "    inner()\n",
    "    print(f\"\\tIn outer(): {name =}\")  # effected\n",
    "\n",
    "\n",
    "outer()\n",
    "print(f\"\\toutside   : {name =}\")  # effected"
   ]
  },
  {
   "cell_type": "code",
   "execution_count": 19,
   "metadata": {},
   "outputs": [
    {
     "name": "stdout",
     "output_type": "stream",
     "text": [
      "\n",
      "\n",
      "when nonlocal name defined in inner() function\n",
      "\tIn inner(): name ='inner function level'\n",
      "\tIn outer(): name ='inner function level'\n",
      "\toutside   : name ='global level'\n"
     ]
    }
   ],
   "source": [
    "print(\"\\n\\nwhen nonlocal name defined in inner() function\")\n",
    "name = \"global level\"\n",
    "\n",
    "\n",
    "def outer():\n",
    "    name = \"outer function level\"\n",
    "\n",
    "    def inner():\n",
    "        nonlocal name\n",
    "        name = \"inner function level\"\n",
    "        print(f\"\\tIn inner(): {name =}\")  # changed\n",
    "\n",
    "    inner()\n",
    "    print(f\"\\tIn outer(): {name =}\")  # effected\n",
    "\n",
    "\n",
    "outer()\n",
    "print(f\"\\toutside   : {name =}\")  # un-effected"
   ]
  },
  {
   "cell_type": "code",
   "execution_count": 20,
   "metadata": {},
   "outputs": [],
   "source": [
    "\n",
    "# NOTE:\n",
    "# 1. If a variable is initialized with global,\n",
    "#    changes to it with be reflected globally(through out the script),\n",
    "#    except one-level up.\n",
    "# 2. If a variable is initialized with \"nonlocal\",\n",
    "#    changes to it will be reflected one-level above it\n"
   ]
  },
  {
   "cell_type": "code",
   "execution_count": 21,
   "metadata": {},
   "outputs": [
    {
     "name": "stdout",
     "output_type": "stream",
     "text": [
      "inner : 2\n",
      "outer : 1\n",
      "global: 0\n"
     ]
    }
   ],
   "source": [
    "x = 0\n",
    "\n",
    "\n",
    "def outer():\n",
    "    x = 1\n",
    "\n",
    "    def inner():\n",
    "\n",
    "        x = 2\n",
    "        print(\"inner :\", x)  # 2\n",
    "\n",
    "    inner()\n",
    "    print(\"outer :\", x)  # 1\n",
    "\n",
    "\n",
    "outer()\n",
    "print(\"global:\", x)  # 0\n"
   ]
  },
  {
   "cell_type": "code",
   "execution_count": 22,
   "metadata": {},
   "outputs": [
    {
     "name": "stdout",
     "output_type": "stream",
     "text": [
      "inner : 2\n",
      "outer : 1\n",
      "global: 2\n"
     ]
    }
   ],
   "source": [
    "x = 0\n",
    "\n",
    "\n",
    "def outer():\n",
    "    x = 1\n",
    "\n",
    "    def inner():\n",
    "        global x\n",
    "        x = 2\n",
    "        print(\"inner :\", x)  # 2\n",
    "\n",
    "    inner()\n",
    "    print(\"outer :\", x)  # 1\n",
    "\n",
    "\n",
    "outer()\n",
    "print(\"global:\", x)  # 0\n"
   ]
  },
  {
   "cell_type": "code",
   "execution_count": 23,
   "metadata": {},
   "outputs": [
    {
     "name": "stdout",
     "output_type": "stream",
     "text": [
      "inner : 2\n",
      "outer : 2\n",
      "global: 0\n"
     ]
    }
   ],
   "source": [
    "x = 0\n",
    "\n",
    "\n",
    "def outer():\n",
    "    x = 1\n",
    "\n",
    "    def inner():\n",
    "        nonlocal x\n",
    "        # global x\n",
    "        x = 2\n",
    "        print(\"inner :\", x)  # 2\n",
    "\n",
    "    inner()\n",
    "    print(\"outer :\", x)  # 1\n",
    "    # not effected when global\n",
    "    # effected when nonlocal\n",
    "\n",
    "outer()\n",
    "print(\"global:\", x)  # 0\n",
    "# effected when global\n",
    "# not effected when nonlocal"
   ]
  },
  {
   "cell_type": "markdown",
   "metadata": {},
   "source": [
    "### closures in python\n",
    "\n",
    "    - Closures can avoid the use of global values.\n",
    "    - It provides some form of data hiding.\n",
    "    - When there are few methods (one method in most cases) to be implemented in a\n",
    "      class, closures can provide a better solution. But when the number of attributes\n",
    "      and methods are more, it is better to implement a class.\n",
    "    - It is a way of keeping alive a variable even when the function has returned.\n",
    "      So, in a closure, a function is defined along with the environment.\n",
    "      In Python, this is done by nesting a function inside the encapsulating function\n",
    "      and then returning the underlying function."
   ]
  },
  {
   "cell_type": "code",
   "execution_count": 24,
   "metadata": {},
   "outputs": [
    {
     "name": "stdout",
     "output_type": "stream",
     "text": [
      "outer function - start \n"
     ]
    }
   ],
   "source": [
    "def outer():\n",
    "    print(\"outer function - start \")\n",
    "\n",
    "    def inner():\n",
    "        print(\"inner function - start\")\n",
    "        return \"something\"\n",
    "\n",
    "\n",
    "outer()\n"
   ]
  },
  {
   "cell_type": "code",
   "execution_count": 25,
   "metadata": {},
   "outputs": [
    {
     "name": "stdout",
     "output_type": "stream",
     "text": [
      "outer function - start \n",
      "inner function - start\n"
     ]
    }
   ],
   "source": [
    "def outer():\n",
    "    print(\"outer function - start \")\n",
    "\n",
    "    def inner():\n",
    "        print(\"inner function - start\")\n",
    "        return \"something\"\n",
    "\n",
    "    # case 1:\n",
    "    inner()\n",
    "\n",
    "outer()"
   ]
  },
  {
   "cell_type": "code",
   "execution_count": 26,
   "metadata": {},
   "outputs": [
    {
     "name": "stdout",
     "output_type": "stream",
     "text": [
      "outer function - start \n",
      "inner function - start\n"
     ]
    },
    {
     "data": {
      "text/plain": [
       "'something'"
      ]
     },
     "execution_count": 26,
     "metadata": {},
     "output_type": "execute_result"
    }
   ],
   "source": [
    "def outer():\n",
    "    print(\"outer function - start \")\n",
    "\n",
    "    def inner():\n",
    "        print(\"inner function - start\")\n",
    "        return \"something\"\n",
    "\n",
    "    # case 1:\n",
    "    # inner()\n",
    "\n",
    "    # case 2:\n",
    "    return inner()\n",
    "\n",
    "outer()"
   ]
  },
  {
   "cell_type": "code",
   "execution_count": 27,
   "metadata": {},
   "outputs": [
    {
     "name": "stdout",
     "output_type": "stream",
     "text": [
      "outer function - start \n",
      "inner function - start\n",
      "type(result) = <class 'str'> result ='something'\n"
     ]
    }
   ],
   "source": [
    "result = outer()\n",
    "print(f\"{type(result) = } {result =}\")"
   ]
  },
  {
   "cell_type": "code",
   "execution_count": 28,
   "metadata": {},
   "outputs": [
    {
     "name": "stdout",
     "output_type": "stream",
     "text": [
      "outer function - start \n"
     ]
    },
    {
     "data": {
      "text/plain": [
       "<function __main__.outer.<locals>.inner()>"
      ]
     },
     "execution_count": 28,
     "metadata": {},
     "output_type": "execute_result"
    }
   ],
   "source": [
    "def outer():\n",
    "    print(\"outer function - start \")\n",
    "\n",
    "    def inner():\n",
    "        print(\"inner function - start\")\n",
    "        return \"something\"\n",
    "\n",
    "    # case 1:\n",
    "    # inner()\n",
    "\n",
    "    # case 2:\n",
    "    # return inner()\n",
    "\n",
    "    # case 3:\n",
    "    return inner\n",
    "\n",
    "outer()"
   ]
  },
  {
   "cell_type": "code",
   "execution_count": 29,
   "metadata": {},
   "outputs": [
    {
     "name": "stdout",
     "output_type": "stream",
     "text": [
      "outer function - start \n",
      "type(result) = <class 'function'> result =<function outer.<locals>.inner at 0x7efe7f8f8e50>\n"
     ]
    }
   ],
   "source": [
    "result = outer()\n",
    "print(f\"{type(result) = } {result =}\")"
   ]
  },
  {
   "cell_type": "code",
   "execution_count": 30,
   "metadata": {},
   "outputs": [
    {
     "name": "stdout",
     "output_type": "stream",
     "text": [
      "inner function - start\n"
     ]
    },
    {
     "data": {
      "text/plain": [
       "'something'"
      ]
     },
     "execution_count": 30,
     "metadata": {},
     "output_type": "execute_result"
    }
   ],
   "source": [
    "result()"
   ]
  },
  {
   "cell_type": "code",
   "execution_count": 32,
   "metadata": {},
   "outputs": [
    {
     "name": "stdout",
     "output_type": "stream",
     "text": [
      "outer function - start \n",
      "inner function - start\n"
     ]
    },
    {
     "data": {
      "text/plain": [
       "'something'"
      ]
     },
     "execution_count": 32,
     "metadata": {},
     "output_type": "execute_result"
    }
   ],
   "source": [
    "def outer():\n",
    "    print(\"outer function - start \")\n",
    "\n",
    "    def inner():\n",
    "        print(\"inner function - start\")\n",
    "        return \"something\"\n",
    "\n",
    "    # case 1:\n",
    "    # inner()\n",
    "\n",
    "    # case 2:\n",
    "    # return inner()\n",
    "\n",
    "    # case 3:\n",
    "    return inner\n",
    "\n",
    "outer()()"
   ]
  },
  {
   "cell_type": "code",
   "execution_count": 33,
   "metadata": {},
   "outputs": [
    {
     "data": {
      "text/plain": [
       "<function __main__.make_multiplier_of.<locals>.multiplier(y)>"
      ]
     },
     "execution_count": 33,
     "metadata": {},
     "output_type": "execute_result"
    }
   ],
   "source": [
    "# === Partial functions with closures\n",
    "\n",
    "def make_multiplier_of(x):\n",
    "\n",
    "    def multiplier(y):\n",
    "        return x * y\n",
    "    \n",
    "    return multiplier\n",
    "\n",
    "\n",
    "make_multiplier_of(3)"
   ]
  },
  {
   "cell_type": "code",
   "execution_count": 34,
   "metadata": {},
   "outputs": [
    {
     "name": "stdout",
     "output_type": "stream",
     "text": [
      "<class 'function'> <function make_multiplier_of.<locals>.multiplier at 0x7efe667ac040>\n"
     ]
    }
   ],
   "source": [
    "# === Partial functions with closures\n",
    "\n",
    "def make_multiplier_of(x):\n",
    "\n",
    "    def multiplier(y):\n",
    "        return x * y\n",
    "    \n",
    "    return multiplier\n",
    "\n",
    "\n",
    "# Multiplier of 3\n",
    "mul3 = make_multiplier_of(3)\n",
    "print(f\"{type(mul3)} {mul3}\")"
   ]
  },
  {
   "cell_type": "code",
   "execution_count": 35,
   "metadata": {},
   "outputs": [
    {
     "data": {
      "text/plain": [
       "12"
      ]
     },
     "execution_count": 35,
     "metadata": {},
     "output_type": "execute_result"
    }
   ],
   "source": [
    "mul3(4)"
   ]
  },
  {
   "cell_type": "code",
   "execution_count": 36,
   "metadata": {},
   "outputs": [
    {
     "data": {
      "text/plain": [
       "21"
      ]
     },
     "execution_count": 36,
     "metadata": {},
     "output_type": "execute_result"
    }
   ],
   "source": [
    "mul3(7)"
   ]
  },
  {
   "cell_type": "code",
   "execution_count": 37,
   "metadata": {},
   "outputs": [
    {
     "data": {
      "text/plain": [
       "<function __main__.make_multiplier_of.<locals>.multiplier(y)>"
      ]
     },
     "execution_count": 37,
     "metadata": {},
     "output_type": "execute_result"
    }
   ],
   "source": [
    "# === Partial functions with closures\n",
    "\n",
    "def make_multiplier_of(x):\n",
    "\n",
    "    def multiplier(y):\n",
    "        print(f\"\\t{x =}\")\n",
    "        print(f\"\\t{y =}\")\n",
    "        return x * y\n",
    "    \n",
    "    return multiplier\n",
    "\n",
    "\n",
    "# Multiplier of 4\n",
    "mul4 = make_multiplier_of(4)\n",
    "\n",
    "mul4"
   ]
  },
  {
   "cell_type": "code",
   "execution_count": 38,
   "metadata": {},
   "outputs": [
    {
     "name": "stdout",
     "output_type": "stream",
     "text": [
      "\tx =4\n",
      "\ty =2\n"
     ]
    },
    {
     "data": {
      "text/plain": [
       "8"
      ]
     },
     "execution_count": 38,
     "metadata": {},
     "output_type": "execute_result"
    }
   ],
   "source": [
    "mul4(2)"
   ]
  },
  {
   "cell_type": "code",
   "execution_count": 39,
   "metadata": {},
   "outputs": [
    {
     "name": "stdout",
     "output_type": "stream",
     "text": [
      "\tx =4\n",
      "\ty =5\n"
     ]
    },
    {
     "data": {
      "text/plain": [
       "20"
      ]
     },
     "execution_count": 39,
     "metadata": {},
     "output_type": "execute_result"
    }
   ],
   "source": [
    "mul4(5)"
   ]
  },
  {
   "cell_type": "code",
   "execution_count": 40,
   "metadata": {},
   "outputs": [
    {
     "name": "stdout",
     "output_type": "stream",
     "text": [
      "hello_world.__closure__ =None\n",
      "wrapper.__closure__ =(<cell at 0x7efe665d03a0: int object at 0x7efe82654210>, <cell at 0x7efe665d0670: int object at 0x7efe82654490>)\n"
     ]
    },
    {
     "data": {
      "text/plain": [
       "<function __main__.outer.<locals>.wrapper(num2)>"
      ]
     },
     "execution_count": 40,
     "metadata": {},
     "output_type": "execute_result"
    }
   ],
   "source": [
    "def outer(num1):\n",
    "    num3 = 30\n",
    "\n",
    "    def hello_world():\n",
    "        print(\"Hello world\")\n",
    "\n",
    "    def wrapper(num2):\n",
    "        result = num1 + num2 + num3\n",
    "        return result\n",
    "\n",
    "    print(f\"{hello_world.__closure__ =}\")\n",
    "    print(f\"{wrapper.__closure__ =}\")\n",
    "\n",
    "    return wrapper\n",
    "\n",
    "\n",
    "outer(10)"
   ]
  },
  {
   "cell_type": "code",
   "execution_count": 41,
   "metadata": {},
   "outputs": [
    {
     "name": "stdout",
     "output_type": "stream",
     "text": [
      "hello_world.__closure__ =None\n",
      "wrapper.__closure__ =(<cell at 0x7efe665d1270: int object at 0x7efe82654210>, <cell at 0x7efe7f915d80: int object at 0x7efe82654490>)\n",
      "<class 'function'> <function outer.<locals>.wrapper at 0x7efe66516680>\n"
     ]
    }
   ],
   "source": [
    "def outer(num1):\n",
    "    num3 = 30\n",
    "\n",
    "    def hello_world():\n",
    "        print(\"Hello world\")\n",
    "\n",
    "    def wrapper(num2):\n",
    "        result = num1 + num2 + num3\n",
    "        return result\n",
    "\n",
    "    print(f\"{hello_world.__closure__ =}\")\n",
    "    print(f\"{wrapper.__closure__ =}\")\n",
    "\n",
    "    return wrapper\n",
    "\n",
    "\n",
    "outer_result = outer(10)\n",
    "print(f\"{type(outer_result)} {outer_result}\")"
   ]
  },
  {
   "cell_type": "code",
   "execution_count": 42,
   "metadata": {},
   "outputs": [
    {
     "name": "stdout",
     "output_type": "stream",
     "text": [
      "outer.__closure__ =None\n"
     ]
    }
   ],
   "source": [
    "print(f\"{outer.__closure__ =}\")"
   ]
  },
  {
   "cell_type": "code",
   "execution_count": null,
   "metadata": {},
   "outputs": [],
   "source": []
  }
 ],
 "metadata": {
  "kernelspec": {
   "display_name": "Python 3",
   "language": "python",
   "name": "python3"
  },
  "language_info": {
   "codemirror_mode": {
    "name": "ipython",
    "version": 3
   },
   "file_extension": ".py",
   "mimetype": "text/x-python",
   "name": "python",
   "nbconvert_exporter": "python",
   "pygments_lexer": "ipython3",
   "version": "3.10.4"
  },
  "orig_nbformat": 4
 },
 "nbformat": 4,
 "nbformat_minor": 2
}
