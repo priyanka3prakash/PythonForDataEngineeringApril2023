{
 "cells": [
  {
   "attachments": {},
   "cell_type": "markdown",
   "metadata": {},
   "source": [
    "## String Formatting\n",
    "\n",
    "        - Types\n",
    "            1. Old Style formatting (or literal formatting)\n",
    "            2. New Style formatting\n",
    "            3. F-Strings  ( works from python 3.6+)\n",
    "\n",
    "\n",
    "OLD-Style formatting\n",
    "    %d - integer\n",
    "    %i - integer\n",
    "\n",
    "    %c - single char\n",
    "    %s - string/char\n",
    "\n",
    "    %f - floating-point\n",
    "    %F - floating-point\n",
    "\n",
    "    %o - octal\n",
    "    %x - hexadecimal lowercase\n",
    "    %X - hexadecimal uppercase"
   ]
  },
  {
   "cell_type": "code",
   "execution_count": null,
   "metadata": {},
   "outputs": [],
   "source": [
    "\"\" % ()"
   ]
  },
  {
   "cell_type": "code",
   "execution_count": 1,
   "metadata": {},
   "outputs": [
    {
     "data": {
      "text/plain": [
       "'My lucky number is %d'"
      ]
     },
     "execution_count": 1,
     "metadata": {},
     "output_type": "execute_result"
    }
   ],
   "source": [
    "\"My lucky number is %d\""
   ]
  },
  {
   "cell_type": "code",
   "execution_count": 2,
   "metadata": {},
   "outputs": [
    {
     "data": {
      "text/plain": [
       "'My lucky number is 12'"
      ]
     },
     "execution_count": 2,
     "metadata": {},
     "output_type": "execute_result"
    }
   ],
   "source": [
    "\"My lucky number is %d\" % (12)"
   ]
  },
  {
   "cell_type": "code",
   "execution_count": 3,
   "metadata": {},
   "outputs": [
    {
     "data": {
      "text/plain": [
       "'My lucky number is 12'"
      ]
     },
     "execution_count": 3,
     "metadata": {},
     "output_type": "execute_result"
    }
   ],
   "source": [
    "\"My lucky number is %d\" % 12"
   ]
  },
  {
   "cell_type": "code",
   "execution_count": 4,
   "metadata": {},
   "outputs": [
    {
     "data": {
      "text/plain": [
       "'My lucky number is 34'"
      ]
     },
     "execution_count": 4,
     "metadata": {},
     "output_type": "execute_result"
    }
   ],
   "source": [
    "\"My lucky number is %d\" % 34"
   ]
  },
  {
   "cell_type": "code",
   "execution_count": 5,
   "metadata": {},
   "outputs": [
    {
     "data": {
      "text/plain": [
       "'My lucky number is 34'"
      ]
     },
     "execution_count": 5,
     "metadata": {},
     "output_type": "execute_result"
    }
   ],
   "source": [
    "\"My lucky number is %d\" % 34.34"
   ]
  },
  {
   "cell_type": "code",
   "execution_count": 6,
   "metadata": {},
   "outputs": [
    {
     "data": {
      "text/plain": [
       "34"
      ]
     },
     "execution_count": 6,
     "metadata": {},
     "output_type": "execute_result"
    }
   ],
   "source": [
    "int(34.34)"
   ]
  },
  {
   "cell_type": "code",
   "execution_count": 7,
   "metadata": {},
   "outputs": [
    {
     "data": {
      "text/plain": [
       "'My lucky number is 1'"
      ]
     },
     "execution_count": 7,
     "metadata": {},
     "output_type": "execute_result"
    }
   ],
   "source": [
    "\"My lucky number is %d\" % True"
   ]
  },
  {
   "cell_type": "code",
   "execution_count": 8,
   "metadata": {},
   "outputs": [
    {
     "data": {
      "text/plain": [
       "1"
      ]
     },
     "execution_count": 8,
     "metadata": {},
     "output_type": "execute_result"
    }
   ],
   "source": [
    "int(True)"
   ]
  },
  {
   "cell_type": "code",
   "execution_count": 9,
   "metadata": {},
   "outputs": [
    {
     "ename": "TypeError",
     "evalue": "%d format: a real number is required, not str",
     "output_type": "error",
     "traceback": [
      "\u001b[0;31m---------------------------------------------------------------------------\u001b[0m",
      "\u001b[0;31mTypeError\u001b[0m                                 Traceback (most recent call last)",
      "Cell \u001b[0;32mIn[9], line 1\u001b[0m\n\u001b[0;32m----> 1\u001b[0m \u001b[39m\"\u001b[39;49m\u001b[39mMy lucky number is \u001b[39;49m\u001b[39m%d\u001b[39;49;00m\u001b[39m\"\u001b[39;49m \u001b[39m%\u001b[39;49m \u001b[39m\"\u001b[39;49m\u001b[39m12\u001b[39;49m\u001b[39m\"\u001b[39;49m\n",
      "\u001b[0;31mTypeError\u001b[0m: %d format: a real number is required, not str"
     ]
    }
   ],
   "source": [
    "\"My lucky number is %d\" % \"12\""
   ]
  },
  {
   "cell_type": "code",
   "execution_count": 10,
   "metadata": {},
   "outputs": [
    {
     "data": {
      "text/plain": [
       "'My lucky number is 12'"
      ]
     },
     "execution_count": 10,
     "metadata": {},
     "output_type": "execute_result"
    }
   ],
   "source": [
    "\"My lucky number is %s\" % \"12\""
   ]
  },
  {
   "cell_type": "code",
   "execution_count": 11,
   "metadata": {},
   "outputs": [
    {
     "name": "stdout",
     "output_type": "stream",
     "text": [
      "My lucky number is 12.340000\n",
      "My lucky number is 12.000000\n",
      "My lucky number is 0.000000\n"
     ]
    }
   ],
   "source": [
    "print(\"My lucky number is %f\" % 12.34)\n",
    "print(\"My lucky number is %f\" % 12)\n",
    "print(\"My lucky number is %f\" % False)"
   ]
  },
  {
   "cell_type": "code",
   "execution_count": 12,
   "metadata": {},
   "outputs": [
    {
     "name": "stdout",
     "output_type": "stream",
     "text": [
      "\n",
      "My lucky number is True\n",
      "My lucky number is None\n",
      "My lucky number is 1\n",
      "My lucky number is 13.4\n",
      "My lucky number is 133224234\n",
      "My lucky number is python\n"
     ]
    }
   ],
   "source": [
    "print()  # str()\n",
    "print(\"My lucky number is %s\" % True)\n",
    "print(\"My lucky number is %s\" % None)\n",
    "print(\"My lucky number is %s\" % 1)\n",
    "print(\"My lucky number is %s\" % 13.4)\n",
    "print(\"My lucky number is %s\" % 133224234)\n",
    "print(\"My lucky number is %s\" % \"python\")"
   ]
  },
  {
   "cell_type": "code",
   "execution_count": 13,
   "metadata": {},
   "outputs": [
    {
     "name": "stdout",
     "output_type": "stream",
     "text": [
      "\n",
      "My lucky number is True\n",
      "My lucky number is None\n",
      "My lucky number is 1\n",
      "My lucky number is 13.4\n",
      "My lucky number is 133224234\n",
      "My lucky number is 'python'\n"
     ]
    }
   ],
   "source": [
    "print()  # repr()\n",
    "print(\"My lucky number is %r\" % True)\n",
    "print(\"My lucky number is %r\" % None)\n",
    "print(\"My lucky number is %r\" % 1)\n",
    "print(\"My lucky number is %r\" % 13.4)\n",
    "print(\"My lucky number is %r\" % 133224234)\n",
    "print(\"My lucky number is %r\" % \"python\")"
   ]
  },
  {
   "cell_type": "code",
   "execution_count": 14,
   "metadata": {},
   "outputs": [
    {
     "name": "stdout",
     "output_type": "stream",
     "text": [
      "42 0o42\n"
     ]
    }
   ],
   "source": [
    "# %o - octal\n",
    "print(\"%o\" % 34, oct(34))"
   ]
  },
  {
   "cell_type": "code",
   "execution_count": 15,
   "metadata": {},
   "outputs": [
    {
     "name": "stdout",
     "output_type": "stream",
     "text": [
      "22 0x22\n"
     ]
    }
   ],
   "source": [
    "# %x - hexadecimal lowercase\n",
    "print(\"%x\" % 34, hex(34))"
   ]
  },
  {
   "cell_type": "code",
   "execution_count": 16,
   "metadata": {},
   "outputs": [
    {
     "name": "stdout",
     "output_type": "stream",
     "text": [
      "22 0x22\n"
     ]
    }
   ],
   "source": [
    "# %X - hexadecimal uppercase\n",
    "print(\"%X\" % 34, hex(34))"
   ]
  },
  {
   "cell_type": "code",
   "execution_count": 17,
   "metadata": {},
   "outputs": [
    {
     "ename": "ValueError",
     "evalue": "unsupported format character 'b' (0x62) at index 1",
     "output_type": "error",
     "traceback": [
      "\u001b[0;31m---------------------------------------------------------------------------\u001b[0m",
      "\u001b[0;31mValueError\u001b[0m                                Traceback (most recent call last)",
      "Cell \u001b[0;32mIn[17], line 2\u001b[0m\n\u001b[1;32m      1\u001b[0m \u001b[39m# %b - binary\u001b[39;00m\n\u001b[0;32m----> 2\u001b[0m \u001b[39mprint\u001b[39m(\u001b[39m'\u001b[39;49m\u001b[39m%\u001b[39;49m\u001b[39mb\u001b[39;49m\u001b[39m'\u001b[39;49m \u001b[39m%\u001b[39;49m (\u001b[39m12\u001b[39;49m), \u001b[39mbin\u001b[39m(\u001b[39m12\u001b[39m))\n",
      "\u001b[0;31mValueError\u001b[0m: unsupported format character 'b' (0x62) at index 1"
     ]
    }
   ],
   "source": [
    "# %b - binary\n",
    "print(\"%b\" % (12), bin(12))"
   ]
  },
  {
   "cell_type": "code",
   "execution_count": 18,
   "metadata": {},
   "outputs": [
    {
     "name": "stdout",
     "output_type": "stream",
     "text": [
      "12\n",
      "1\n",
      "1\n"
     ]
    }
   ],
   "source": [
    "print(\"%s\" % \"12\")\n",
    "\n",
    "print(\"%c\" % \"1\")  # 1 char only\n",
    "print(\"%s\" % \"1\")"
   ]
  },
  {
   "cell_type": "code",
   "execution_count": 19,
   "metadata": {},
   "outputs": [
    {
     "name": "stdout",
     "output_type": "stream",
     "text": [
      "\n",
      "12.340000\n",
      "12.340000\n",
      "12.342231\n"
     ]
    }
   ],
   "source": [
    "print()  # float()  -- 6 digits post decimal\n",
    "print(\"%f\" % 12.34)  # 12.340000\n",
    "print(\"%F\" % 12.34)  # 12.340000\n",
    "print(\"%F\" % 12.34223123123123)  # 12.342231"
   ]
  },
  {
   "cell_type": "code",
   "execution_count": 20,
   "metadata": {},
   "outputs": [
    {
     "name": "stdout",
     "output_type": "stream",
     "text": [
      "12.34\n",
      "12.34\n",
      "12.3422\n"
     ]
    }
   ],
   "source": [
    "print(\"%g\" % 12.34)  # 12.34\n",
    "print(\"%G\" % 12.34)  # 12.34\n",
    "print(\"%G\" % 12.34223123123123)  # 12.3422"
   ]
  },
  {
   "cell_type": "code",
   "execution_count": 21,
   "metadata": {},
   "outputs": [
    {
     "name": "stdout",
     "output_type": "stream",
     "text": [
      "1.234000e+01\n",
      "1.234000E+01\n",
      "1.234223E+01\n"
     ]
    }
   ],
   "source": [
    "print(\"%e\" % 12.34)  # 1.234000e+01\n",
    "print(\"%E\" % 12.34)  # 1.234000E+01\n",
    "print(\"%E\" % 12.34223123123123)  # 1.234223E+01"
   ]
  },
  {
   "cell_type": "code",
   "execution_count": 22,
   "metadata": {},
   "outputs": [
    {
     "name": "stdout",
     "output_type": "stream",
     "text": [
      "3.141592653589793\n"
     ]
    }
   ],
   "source": [
    "import math\n",
    "\n",
    "print(math.pi)"
   ]
  },
  {
   "cell_type": "code",
   "execution_count": 23,
   "metadata": {},
   "outputs": [
    {
     "name": "stdout",
     "output_type": "stream",
     "text": [
      "3\n",
      "3.141593\n",
      " 3.141593\n",
      "    3.142\n"
     ]
    }
   ],
   "source": [
    "print(\"%d\" % math.pi)  # 3\n",
    "\n",
    "print(\"%f\" % math.pi)  # 3.141593\n",
    "print(\"%9f\" % math.pi)  #  3.141593\n",
    "print(\"%9.3f\" % math.pi)  #     3.142"
   ]
  },
  {
   "cell_type": "code",
   "execution_count": 24,
   "metadata": {},
   "outputs": [
    {
     "name": "stdout",
     "output_type": "stream",
     "text": [
      "lucky My lucky number is 786 only.\n"
     ]
    }
   ],
   "source": [
    "print(\"lucky My lucky number is %d only.\" % 786)"
   ]
  },
  {
   "cell_type": "code",
   "execution_count": 26,
   "metadata": {},
   "outputs": [
    {
     "name": "stdout",
     "output_type": "stream",
     "text": [
      "pi value is 3.141600!!!!!!!!!!\n",
      "pi value is   3.141600!!!!!!!!!!\n",
      "pi value is      3.142!!!!!!!!!!\n",
      "pi value is 000003.142!!!!!!!!!!\n"
     ]
    }
   ],
   "source": [
    "print(\"pi value is %f!!!!!!!!!!\" % 3.1416)\n",
    "print(\"pi value is %10f!!!!!!!!!!\" % 3.1416)\n",
    "print(\"pi value is %10.3f!!!!!!!!!!\" % 3.1416)\n",
    "print(\"pi value is %010.3f!!!!!!!!!!\" % 3.1416)"
   ]
  },
  {
   "cell_type": "code",
   "execution_count": 27,
   "metadata": {},
   "outputs": [
    {
     "name": "stdout",
     "output_type": "stream",
     "text": [
      "my name is Udhay - Prakash.\n"
     ]
    }
   ],
   "source": [
    "print(\"my name is %s - %s.\" % (\"Udhay\", \"Prakash\"))"
   ]
  },
  {
   "cell_type": "code",
   "execution_count": 28,
   "metadata": {},
   "outputs": [
    {
     "name": "stdout",
     "output_type": "stream",
     "text": [
      "My name is %s. I am %d old paying a tax of %f\n",
      "My name is Udhay. I am 99 old paying a tax of 15.500000\n"
     ]
    }
   ],
   "source": [
    "print(\"My name is %s. I am %d old paying a tax of %f\")\n",
    "print(\"My name is %s. I am %d old paying a tax of %f\" % (\"Udhay\", 99, 15.5))"
   ]
  },
  {
   "cell_type": "code",
   "execution_count": 29,
   "metadata": {},
   "outputs": [
    {
     "ename": "TypeError",
     "evalue": "%d format: a real number is required, not str",
     "output_type": "error",
     "traceback": [
      "\u001b[0;31m---------------------------------------------------------------------------\u001b[0m",
      "\u001b[0;31mTypeError\u001b[0m                                 Traceback (most recent call last)",
      "Cell \u001b[0;32mIn[29], line 1\u001b[0m\n\u001b[0;32m----> 1\u001b[0m \u001b[39mprint\u001b[39m(\u001b[39m'\u001b[39;49m\u001b[39mMy name is \u001b[39;49m\u001b[39m%s\u001b[39;49;00m\u001b[39m. I am \u001b[39;49m\u001b[39m%d\u001b[39;49;00m\u001b[39m old paying a tax of \u001b[39;49m\u001b[39m%f\u001b[39;49;00m\u001b[39m'\u001b[39;49m \u001b[39m%\u001b[39;49m (\u001b[39m'\u001b[39;49m\u001b[39mUdhay\u001b[39;49m\u001b[39m'\u001b[39;49m, \u001b[39m'\u001b[39;49m\u001b[39m99\u001b[39;49m\u001b[39m'\u001b[39;49m, \u001b[39m15.5\u001b[39;49m))\n",
      "\u001b[0;31mTypeError\u001b[0m: %d format: a real number is required, not str"
     ]
    }
   ],
   "source": [
    "print(\"My name is %s. I am %d old paying a tax of %f\" % (\"Udhay\", \"99\", 15.5))"
   ]
  },
  {
   "cell_type": "code",
   "execution_count": 30,
   "metadata": {},
   "outputs": [
    {
     "name": "stdout",
     "output_type": "stream",
     "text": [
      "My name is 'Udhay'. I am '78' old paying a tax of 15.5\n",
      "My name is Udhay. I am 78 old paying a tax of 15.5\n"
     ]
    }
   ],
   "source": [
    "print(\"My name is %r. I am %r old paying a tax of %r\" % (\"Udhay\", \"78\", 15.5))\n",
    "print(\"My name is %s. I am %s old paying a tax of %s\" % (\"Udhay\", \"78\", 15.5))"
   ]
  },
  {
   "cell_type": "code",
   "execution_count": 31,
   "metadata": {},
   "outputs": [
    {
     "ename": "TypeError",
     "evalue": "not enough arguments for format string",
     "output_type": "error",
     "traceback": [
      "\u001b[0;31m---------------------------------------------------------------------------\u001b[0m",
      "\u001b[0;31mTypeError\u001b[0m                                 Traceback (most recent call last)",
      "Cell \u001b[0;32mIn[31], line 1\u001b[0m\n\u001b[0;32m----> 1\u001b[0m \u001b[39mprint\u001b[39m(\u001b[39m'\u001b[39;49m\u001b[39mMy name is \u001b[39;49m\u001b[39m%s\u001b[39;49;00m\u001b[39m. I am \u001b[39;49m\u001b[39m%s\u001b[39;49;00m\u001b[39m old paying a tax of \u001b[39;49m\u001b[39m%s\u001b[39;49;00m\u001b[39m'\u001b[39;49m \u001b[39m%\u001b[39;49m (\u001b[39m'\u001b[39;49m\u001b[39mUdhay\u001b[39;49m\u001b[39m'\u001b[39;49m, \u001b[39m15.5\u001b[39;49m))\n",
      "\u001b[0;31mTypeError\u001b[0m: not enough arguments for format string"
     ]
    }
   ],
   "source": [
    "print(\"My name is %s. I am %s old paying a tax of %s\" % (\"Udhay\", 15.5))"
   ]
  },
  {
   "cell_type": "code",
   "execution_count": 32,
   "metadata": {},
   "outputs": [],
   "source": [
    "# Limitations of old style string formatting\n",
    "# 1. same data types need to be passed\n",
    "# 2. If same value need to go more than one time,\n",
    "#     those many number of times, values need to be passed"
   ]
  },
  {
   "attachments": {},
   "cell_type": "markdown",
   "metadata": {},
   "source": [
    "## New-Style String formatting\n",
    "\n",
    "    str.format()\n",
    "    format() "
   ]
  },
  {
   "cell_type": "code",
   "execution_count": 33,
   "metadata": {},
   "outputs": [
    {
     "name": "stdout",
     "output_type": "stream",
     "text": [
      "\n",
      "\n"
     ]
    }
   ],
   "source": [
    "print(\"\" % ())  # OLD Style\n",
    "print(\"{}\".format(\"\"))  # New Style"
   ]
  },
  {
   "cell_type": "code",
   "execution_count": 34,
   "metadata": {},
   "outputs": [
    {
     "data": {
      "text/plain": [
       "'Udhay'"
      ]
     },
     "execution_count": 34,
     "metadata": {},
     "output_type": "execute_result"
    }
   ],
   "source": [
    "\"{}\".format(\"Udhay\")"
   ]
  },
  {
   "cell_type": "code",
   "execution_count": 35,
   "metadata": {},
   "outputs": [
    {
     "data": {
      "text/plain": [
       "'Udhay 30'"
      ]
     },
     "execution_count": 35,
     "metadata": {},
     "output_type": "execute_result"
    }
   ],
   "source": [
    "\"{} {}\".format(\"Udhay\", 30)"
   ]
  },
  {
   "cell_type": "code",
   "execution_count": 36,
   "metadata": {},
   "outputs": [
    {
     "name": "stdout",
     "output_type": "stream",
     "text": [
      "cat and mouse\n",
      "213 and mouse\n",
      "213.0 and True\n",
      "None and True\n"
     ]
    }
   ],
   "source": [
    "print(\"{} and {}\".format(\"cat\", \"mouse\"))\n",
    "print(\"{} and {}\".format(213, \"mouse\"))\n",
    "print(\"{} and {}\".format(213.0, True))\n",
    "print(\"{} and {}\".format(None, True))"
   ]
  },
  {
   "cell_type": "code",
   "execution_count": 37,
   "metadata": {},
   "outputs": [
    {
     "name": "stdout",
     "output_type": "stream",
     "text": [
      "None and True\n",
      "None and True\n",
      "True and None\n"
     ]
    }
   ],
   "source": [
    "print(\"{} and {}\".format(None, True))\n",
    "print(\"{0} and {1}\".format(None, True))\n",
    "print(\"{1} and {0}\".format(None, True))"
   ]
  },
  {
   "cell_type": "code",
   "execution_count": 38,
   "metadata": {},
   "outputs": [
    {
     "ename": "IndexError",
     "evalue": "Replacement index 1 out of range for positional args tuple",
     "output_type": "error",
     "traceback": [
      "\u001b[0;31m---------------------------------------------------------------------------\u001b[0m",
      "\u001b[0;31mIndexError\u001b[0m                                Traceback (most recent call last)",
      "Cell \u001b[0;32mIn[38], line 1\u001b[0m\n\u001b[0;32m----> 1\u001b[0m \u001b[39mprint\u001b[39m(\u001b[39m'\u001b[39;49m\u001b[39m{}\u001b[39;49;00m\u001b[39m and \u001b[39;49m\u001b[39m{}\u001b[39;49;00m\u001b[39m'\u001b[39;49m\u001b[39m.\u001b[39;49mformat(\u001b[39mNone\u001b[39;49;00m))\n",
      "\u001b[0;31mIndexError\u001b[0m: Replacement index 1 out of range for positional args tuple"
     ]
    }
   ],
   "source": [
    "print(\"{} and {}\".format(None))"
   ]
  },
  {
   "cell_type": "code",
   "execution_count": 39,
   "metadata": {},
   "outputs": [
    {
     "name": "stdout",
     "output_type": "stream",
     "text": [
      "None and None\n"
     ]
    }
   ],
   "source": [
    "print(\"{0} and {0}\".format(None))"
   ]
  },
  {
   "cell_type": "code",
   "execution_count": 40,
   "metadata": {},
   "outputs": [
    {
     "name": "stdout",
     "output_type": "stream",
     "text": [
      " \n",
      "    Name: gudo\n",
      "    age: 30\n",
      "    salary: 21312213.123\n",
      "\n"
     ]
    }
   ],
   "source": [
    "print(\n",
    "    \"\"\" \n",
    "    Name: {}\n",
    "    age: {}\n",
    "    salary: {}\n",
    "\"\"\".format(\n",
    "        \"gudo\", 30, 21312213.123\n",
    "    )\n",
    ")"
   ]
  },
  {
   "cell_type": "code",
   "execution_count": 41,
   "metadata": {},
   "outputs": [
    {
     "name": "stdout",
     "output_type": "stream",
     "text": [
      "1234567890.88\n",
      "1234567890.88\n"
     ]
    }
   ],
   "source": [
    "print(\"{}\".format(1234567890.88))  # 1234567890.88\n",
    "print(\"{:}\".format(1234567890.88))  # 1234567890.88"
   ]
  },
  {
   "cell_type": "code",
   "execution_count": 42,
   "metadata": {},
   "outputs": [
    {
     "name": "stdout",
     "output_type": "stream",
     "text": [
      "1,234,567,890.88\n",
      "1_234_567_890.88\n",
      "1234567890.88\n",
      "+1234567890.88\n",
      "-1234567890.88\n"
     ]
    }
   ],
   "source": [
    "print(\"{:,}\".format(1234567890.88))  # 1,234,567,890.88\n",
    "print(\"{:_}\".format(1234567890.88))  # 1_234_567_890.88\n",
    "print(\"{:-}\".format(1234567890.88))  # 1234567890.88\n",
    "print(\"{:+}\".format(1234567890.88))  # +1234567890.88\n",
    "print(\"{:+}\".format(-1234567890.88))  # -1234567890.88"
   ]
  },
  {
   "cell_type": "code",
   "execution_count": 43,
   "metadata": {},
   "outputs": [
    {
     "name": "stdout",
     "output_type": "stream",
     "text": [
      "     12348\n",
      "0000012348\n",
      "aaaaa12348\n"
     ]
    }
   ],
   "source": [
    "# similar to str.zfill()\n",
    "print(\"{:=10}\".format(12348))  #      12348\n",
    "print(\"{:0=10}\".format(12348))  # 0000012348\n",
    "print(\"{:a=10}\".format(12348))  # aaaaa12348"
   ]
  },
  {
   "cell_type": "code",
   "execution_count": 44,
   "metadata": {},
   "outputs": [
    {
     "name": "stdout",
     "output_type": "stream",
     "text": [
      "left aligned        \n",
      "       right aligned\n",
      "      centered      \n"
     ]
    }
   ],
   "source": [
    "# Alignment\n",
    "print(\"{:<20}\".format(\"left aligned\"))  # 'left aligned        '\n",
    "print(\"{:>20}\".format(\"right aligned\"))  # '       right aligned'\n",
    "print(\"{:^20}\".format(\"centered\"))  # '      centered      '"
   ]
  },
  {
   "cell_type": "code",
   "execution_count": 45,
   "metadata": {},
   "outputs": [
    {
     "name": "stdout",
     "output_type": "stream",
     "text": [
      "------centered------\n",
      "******centered******\n"
     ]
    }
   ],
   "source": [
    "# with fill character\n",
    "print(\"{:-^20}\".format(\"centered\"))  # '------centered------'\n",
    "print(\"{:*^20}\".format(\"centered\"))  # '******centered******'"
   ]
  },
  {
   "cell_type": "code",
   "execution_count": 46,
   "metadata": {},
   "outputs": [
    {
     "name": "stdout",
     "output_type": "stream",
     "text": [
      "1024 1024\n",
      "10000000000 0b10000000000\n",
      "2000 0o2000\n",
      "400 0x400\n"
     ]
    }
   ],
   "source": [
    "# formatting\n",
    "print(\"{}\".format(1024), 1024)  # 1024 1024\n",
    "print(\"{:b}\".format(1024), bin(1024))  # 10000000000 0b1000000000\n",
    "print(\"{:o}\".format(1024), oct(1024))  # 2000 0o2000\n",
    "print(\"{:x}\".format(1024), hex(1024))  # 400 0x400"
   ]
  },
  {
   "cell_type": "code",
   "execution_count": 47,
   "metadata": {},
   "outputs": [
    {
     "data": {
      "text/plain": [
       "'\\n\"int: {0:d};  hex: {0:x};  oct: {0:o};  bin: {0:b}\".format(42)\\n\\'int: 42;  hex: 2a;  oct: 52;  bin: 101010\\'\\n# with 0x, 0o, or 0b as prefix:\\n\"int: {0:d};  hex: {0:#x};  oct: {0:#o};  bin: {0:#b}\".format(42)\\n\\'int: 42;  hex: 0x2a;  oct: 0o52;  bin: 0b101010\\'\\n'"
      ]
     },
     "execution_count": 47,
     "metadata": {},
     "output_type": "execute_result"
    }
   ],
   "source": [
    "\"\"\"\n",
    ">>> \"int: {0:d};  hex: {0:x};  oct: {0:o};  bin: {0:b}\".format(42)\n",
    "'int: 42;  hex: 2a;  oct: 52;  bin: 101010'\n",
    ">>> # with 0x, 0o, or 0b as prefix:\n",
    ">>> \"int: {0:d};  hex: {0:#x};  oct: {0:#o};  bin: {0:#b}\".format(42)\n",
    "'int: 42;  hex: 0x2a;  oct: 0o52;  bin: 0b101010'\n",
    "\"\"\""
   ]
  },
  {
   "cell_type": "code",
   "execution_count": 48,
   "metadata": {},
   "outputs": [
    {
     "name": "stdout",
     "output_type": "stream",
     "text": [
      "math.pi 3.141592653589793\n",
      "3.141592653589793\n",
      "3.141593\n",
      "3.141593\n",
      "3.14159\n"
     ]
    }
   ],
   "source": [
    "print(\"math.pi\", math.pi)  # 3.141592653589793\n",
    "print(\"{}\".format(math.pi))  # 3.141592653589793\n",
    "# print('{:d}'.format(math.pi))\n",
    "print(\"{:f}\".format(math.pi))  # 3.141593\n",
    "print(\"{:F}\".format(math.pi))  # 3.141593\n",
    "print(\"{:g}\".format(math.pi))  # 3.14159"
   ]
  },
  {
   "cell_type": "code",
   "execution_count": 49,
   "metadata": {},
   "outputs": [
    {
     "name": "stdout",
     "output_type": "stream",
     "text": [
      "3.141593\n",
      " 3.141593\n",
      "    3.142\n"
     ]
    }
   ],
   "source": [
    "print(\"{:f}\".format(math.pi))  # 3.141593\n",
    "print(\"{:9f}\".format(math.pi))  # 3.141593\n",
    "print(\"{:9.3f}\".format(math.pi))  #    3.142"
   ]
  },
  {
   "cell_type": "code",
   "execution_count": 50,
   "metadata": {},
   "outputs": [
    {
     "name": "stdout",
     "output_type": "stream",
     "text": [
      "314.159265%\n",
      "700.000000%\n"
     ]
    }
   ],
   "source": [
    "# To multiply number with 100 and show % in result\n",
    "print(\"{:%}\".format(math.pi))  # 314.159265%\n",
    "print(\"{:%}\".format(7))  # 700.000000%"
   ]
  },
  {
   "cell_type": "code",
   "execution_count": 51,
   "metadata": {},
   "outputs": [
    {
     "name": "stdout",
     "output_type": "stream",
     "text": [
      "Name:udhay Age:99 Salary:9999.9999\n",
      "\n",
      "        Name  :udhay\n",
      "        Age   :99\n",
      "        Salary:9999.9999\n"
     ]
    }
   ],
   "source": [
    "print(\"Name:{} Age:{} Salary:{}\".format(\"udhay\", 99, 9999.9999))\n",
    "print(\n",
    "    \"\"\"\n",
    "        Name  :{}\n",
    "        Age   :{}\n",
    "        Salary:{}\"\"\".format(\n",
    "        \"udhay\", 99, 9999.9999\n",
    "    )\n",
    ")"
   ]
  },
  {
   "cell_type": "code",
   "execution_count": 52,
   "metadata": {},
   "outputs": [
    {
     "name": "stdout",
     "output_type": "stream",
     "text": [
      "\n",
      "        Name  :udhay\n",
      "        Age   :99\n",
      "        Salary:9999.9999\n"
     ]
    }
   ],
   "source": [
    "print(\n",
    "    \"\"\"\n",
    "        Name  :{0}\n",
    "        Age   :{1}\n",
    "        Salary:{2}\"\"\".format(\n",
    "        \"udhay\", 99, 9999.9999\n",
    "    )\n",
    ")\n",
    "#                               0      1     2"
   ]
  },
  {
   "cell_type": "code",
   "execution_count": 53,
   "metadata": {},
   "outputs": [
    {
     "name": "stdout",
     "output_type": "stream",
     "text": [
      "\n",
      "        Name  :udhay Name  :udhay Salary:9999.9999\n",
      "        Age   :99 Name  :udhay\n",
      "        Salary:9999.9999\n"
     ]
    }
   ],
   "source": [
    "print(\n",
    "    \"\"\"\n",
    "        Name  :{0} Name  :{0} Salary:{2}\n",
    "        Age   :{1} Name  :{0}\n",
    "        Salary:{2}\"\"\".format(\n",
    "        \"udhay\", 99, 9999.9999\n",
    "    )\n",
    ")\n",
    "#                               0      1     2"
   ]
  },
  {
   "cell_type": "code",
   "execution_count": 1,
   "metadata": {},
   "outputs": [
    {
     "name": "stdout",
     "output_type": "stream",
     "text": [
      "\n",
      "        Name  :99 Name  :99 Salary:99\n",
      "        Age   :99 Name  :99\n",
      "        Salary:99\n"
     ]
    }
   ],
   "source": [
    "print(\n",
    "    \"\"\"\n",
    "        Name  :{1} Name  :{1} Salary:{1}\n",
    "        Age   :{1} Name  :{1}\n",
    "        Salary:{1}\"\"\".format(\n",
    "        \"udhay\", 99, 9999.9999\n",
    "    )\n",
    ")\n",
    "#                               0      1     2"
   ]
  },
  {
   "cell_type": "markdown",
   "metadata": {},
   "source": [
    "### F-strings\n",
    "        Introducted in python 3.6"
   ]
  },
  {
   "cell_type": "code",
   "execution_count": 2,
   "metadata": {},
   "outputs": [
    {
     "name": "stdout",
     "output_type": "stream",
     "text": [
      "\n",
      "\n",
      "\n"
     ]
    }
   ],
   "source": [
    "print(\"\" % ())  # OLD Style\n",
    "print(\"{}\".format(\"\"))  # NEW Style\n",
    "print(f'{\"\"}')  # F-String"
   ]
  },
  {
   "cell_type": "code",
   "execution_count": 7,
   "metadata": {},
   "outputs": [
    {
     "name": "stdout",
     "output_type": "stream",
     "text": [
      "Hello {name}\n",
      "Hello world\n",
      "Hello world\n",
      "Hello world\n"
     ]
    }
   ],
   "source": [
    "print(\"Hello {name}\")\n",
    "print(\"Hello {}\".format(\"world\"))\n",
    "print(\"Hello {0}\".format(\"world\"))\n",
    "print(\"Hello {name}\".format(name=\"world\"))"
   ]
  },
  {
   "cell_type": "code",
   "execution_count": 8,
   "metadata": {},
   "outputs": [
    {
     "ename": "NameError",
     "evalue": "name 'name' is not defined",
     "output_type": "error",
     "traceback": [
      "\u001b[0;31m---------------------------------------------------------------------------\u001b[0m",
      "\u001b[0;31mNameError\u001b[0m                                 Traceback (most recent call last)",
      "Cell \u001b[0;32mIn[8], line 1\u001b[0m\n\u001b[0;32m----> 1\u001b[0m name\n",
      "\u001b[0;31mNameError\u001b[0m: name 'name' is not defined"
     ]
    }
   ],
   "source": [
    "name"
   ]
  },
  {
   "cell_type": "code",
   "execution_count": 9,
   "metadata": {},
   "outputs": [
    {
     "name": "stdout",
     "output_type": "stream",
     "text": [
      "Hello {name}\n",
      "Hello world\n"
     ]
    }
   ],
   "source": [
    "name = \"world\"\n",
    "print(\"Hello {name}\")\n",
    "print(f\"Hello {name}\")"
   ]
  },
  {
   "cell_type": "code",
   "execution_count": 10,
   "metadata": {},
   "outputs": [
    {
     "ename": "NameError",
     "evalue": "name 'name1' is not defined",
     "output_type": "error",
     "traceback": [
      "\u001b[0;31m---------------------------------------------------------------------------\u001b[0m",
      "\u001b[0;31mNameError\u001b[0m                                 Traceback (most recent call last)",
      "Cell \u001b[0;32mIn[10], line 1\u001b[0m\n\u001b[0;32m----> 1\u001b[0m \u001b[39mprint\u001b[39m(\u001b[39mf\u001b[39m\u001b[39m\"\u001b[39m\u001b[39mHello \u001b[39m\u001b[39m{\u001b[39;00mname1\u001b[39m}\u001b[39;00m\u001b[39m\"\u001b[39m)\n",
      "\u001b[0;31mNameError\u001b[0m: name 'name1' is not defined"
     ]
    }
   ],
   "source": [
    "print(f\"Hello {name1}\")"
   ]
  },
  {
   "cell_type": "code",
   "execution_count": 11,
   "metadata": {},
   "outputs": [
    {
     "name": "stdout",
     "output_type": "stream",
     "text": [
      "number is 12312.123\n"
     ]
    }
   ],
   "source": [
    "number = 12312.123\n",
    "print(f\"number is {number}\")"
   ]
  },
  {
   "cell_type": "code",
   "execution_count": 13,
   "metadata": {},
   "outputs": [
    {
     "name": "stdout",
     "output_type": "stream",
     "text": [
      "Hello WORLD\n"
     ]
    }
   ],
   "source": [
    "print(\"Hello {name}\".format(name=\"world\".upper()))"
   ]
  },
  {
   "cell_type": "code",
   "execution_count": 14,
   "metadata": {},
   "outputs": [
    {
     "name": "stdout",
     "output_type": "stream",
     "text": [
      "Hello world\n",
      "Hello WORLD\n"
     ]
    }
   ],
   "source": [
    "print(f\"Hello {name}\")\n",
    "print(f\"Hello {name.upper()}\")"
   ]
  },
  {
   "cell_type": "code",
   "execution_count": 15,
   "metadata": {},
   "outputs": [
    {
     "name": "stdout",
     "output_type": "stream",
     "text": [
      "Hello WORLD\n",
      "Hello World\n",
      "number is 12312\n"
     ]
    }
   ],
   "source": [
    "# python operations on data within the f-string\n",
    "print(f\"Hello {name.upper()}\")\n",
    "print(f\"Hello {name.title()}\")\n",
    "print(f\"number is {int(number)}\")"
   ]
  },
  {
   "cell_type": "code",
   "execution_count": 16,
   "metadata": {},
   "outputs": [
    {
     "name": "stdout",
     "output_type": "stream",
     "text": [
      "The value is 123126.0\n"
     ]
    }
   ],
   "source": [
    "value = 123123\n",
    "print(f\"The value is {float(value) + 3}\")"
   ]
  },
  {
   "cell_type": "code",
   "execution_count": 17,
   "metadata": {},
   "outputs": [
    {
     "name": "stdout",
     "output_type": "stream",
     "text": [
      "1234567890.88\n",
      "1234567890.88\n",
      "1,234,567,890.88\n",
      "1_234_567_890.88\n",
      "1234567890.88\n",
      "+1234567890.88\n"
     ]
    }
   ],
   "source": [
    "value = 1234567890.88\n",
    "print(f\"{value}\")  # 1234567890.88\n",
    "print(f\"{value:}\")  # 1234567890.88\n",
    "\n",
    "print(f\"{value:,}\")  # 1,234,567,890.88\n",
    "print(f\"{value:_}\")  # 1_234_567_890.88\n",
    "print(f\"{value:-}\")  # 1234567890.88\n",
    "print(f\"{value:+}\")  # +1234567890.88"
   ]
  },
  {
   "cell_type": "code",
   "execution_count": 18,
   "metadata": {},
   "outputs": [
    {
     "name": "stdout",
     "output_type": "stream",
     "text": [
      "left aligned        \n",
      "       right aligned\n",
      "      centered      \n",
      "------centered------\n"
     ]
    }
   ],
   "source": [
    "print(f'{\"left aligned\":<20}')  # 'left aligned        '\n",
    "print(f'{\"right aligned\":>20}')  # '       right aligned'\n",
    "print(f'{\"centered\":^20}')  # '      centered      '\n",
    "print(f'{\"centered\":-^20}')  # '------centered------'"
   ]
  },
  {
   "cell_type": "code",
   "execution_count": 19,
   "metadata": {},
   "outputs": [
    {
     "name": "stdout",
     "output_type": "stream",
     "text": [
      "1024 1024\n",
      "1024 1024\n",
      "10000000000 0b10000000000\n",
      "2000 0o2000\n",
      "400 0x400\n",
      "400 0x400\n"
     ]
    }
   ],
   "source": [
    "print(f\"{1024}\", 1024)  # 1024 1024\n",
    "print(f\"{1024:d}\", 1024)  # 1024 1024\n",
    "print(f\"{1024:b}\", bin(1024))  # 10000000000 0b1000000000\n",
    "print(f\"{1024:o}\", oct(1024))  # 2000 0o2000\n",
    "print(f\"{1024:x}\", hex(1024))  # 400 0x400\n",
    "print(f\"{1024:X}\", hex(1024))  # 400 0X400"
   ]
  },
  {
   "cell_type": "code",
   "execution_count": 21,
   "metadata": {},
   "outputs": [
    {
     "name": "stdout",
     "output_type": "stream",
     "text": [
      "math.pi 3.141592653589793\n",
      "3.141592653589793\n",
      "3.141593\n",
      "3.141593\n",
      "3.14159\n"
     ]
    }
   ],
   "source": [
    "import math\n",
    "\n",
    "print(\"math.pi\", math.pi)  # 3.141592653589793\n",
    "print(f\"{math.pi}\")  # 3.141592653589793\n",
    "\n",
    "# print(f'{math.pi:d}')\n",
    "print(f\"{math.pi:f}\")  # 3.141593\n",
    "print(f\"{math.pi:F}\")  # 3.141593\n",
    "print(f\"{math.pi:g}\")  # 3.14159"
   ]
  },
  {
   "cell_type": "code",
   "execution_count": 22,
   "metadata": {},
   "outputs": [
    {
     "name": "stdout",
     "output_type": "stream",
     "text": [
      "3.141593\n",
      " 3.141593\n",
      "    3.142\n"
     ]
    }
   ],
   "source": [
    "print(f\"{math.pi:f}\")  # 3.141593\n",
    "print(f\"{math.pi:9f}\")  #  3.141593\n",
    "print(f\"{math.pi:9.3f}\")  #     3.142"
   ]
  },
  {
   "cell_type": "code",
   "execution_count": 25,
   "metadata": {},
   "outputs": [
    {
     "name": "stdout",
     "output_type": "stream",
     "text": [
      "40\n",
      "{4*10}\n",
      "{40}\n"
     ]
    }
   ],
   "source": [
    "# To get braces in string\n",
    "print(f\"{4 * 10}\")  # 40\n",
    "print(f\"{{4*10}}\")  # {4*10}\n",
    "print(f\"{{{4 * 10}}}\")  # {40}"
   ]
  },
  {
   "cell_type": "code",
   "execution_count": 29,
   "metadata": {},
   "outputs": [
    {
     "name": "stdout",
     "output_type": "stream",
     "text": [
      "x=40\n",
      "\n",
      "\\n\n",
      "x=40\\n\n",
      "----\n"
     ]
    }
   ],
   "source": [
    "# Processing escape sequences\n",
    "print(f\"x={4 * 10}\\n\")\n",
    "print(r\"\\n\")\n",
    "print(\"----\")"
   ]
  },
  {
   "cell_type": "code",
   "execution_count": 31,
   "metadata": {},
   "outputs": [
    {
     "name": "stdout",
     "output_type": "stream",
     "text": [
      "x=40\\n\n",
      "x=40\\n\n"
     ]
    }
   ],
   "source": [
    "print(rf\"x={4 * 10}\\n\")\n",
    "print(rf\"x={4 * 10}\\n\")"
   ]
  },
  {
   "cell_type": "code",
   "execution_count": 32,
   "metadata": {},
   "outputs": [
    {
     "name": "stdout",
     "output_type": "stream",
     "text": [
      "Python:αλεπού\n"
     ]
    }
   ],
   "source": [
    "ascii  # !s, !r, !a\n",
    "name = \"Python:αλεπού\"\n",
    "# !s - str()\n",
    "print(f\"{name!s}\")  # Python:αλεπού"
   ]
  },
  {
   "cell_type": "code",
   "execution_count": 33,
   "metadata": {},
   "outputs": [
    {
     "name": "stdout",
     "output_type": "stream",
     "text": [
      "'Python:αλεπού'\n"
     ]
    }
   ],
   "source": [
    "# !r - repr()\n",
    "print(f\"{name!r}\")  # 'Python:αλεπού'"
   ]
  },
  {
   "cell_type": "code",
   "execution_count": 34,
   "metadata": {},
   "outputs": [
    {
     "name": "stdout",
     "output_type": "stream",
     "text": [
      "'Python:\\u03b1\\u03bb\\u03b5\\u03c0\\u03bf\\u03cd'\n"
     ]
    }
   ],
   "source": [
    "# !a - ascii()\n",
    "print(f\"{name!a}\")  # 'Python:\\u03b1\\u03bb\\u03b5\\u03c0\\u03bf\\u03cd'"
   ]
  },
  {
   "cell_type": "code",
   "execution_count": 35,
   "metadata": {},
   "outputs": [
    {
     "data": {
      "text/plain": [
       "'Python:αλεπού'"
      ]
     },
     "execution_count": 35,
     "metadata": {},
     "output_type": "execute_result"
    }
   ],
   "source": [
    "name"
   ]
  },
  {
   "cell_type": "code",
   "execution_count": 36,
   "metadata": {},
   "outputs": [
    {
     "data": {
      "text/plain": [
       "\"'Python:\\\\u03b1\\\\u03bb\\\\u03b5\\\\u03c0\\\\u03bf\\\\u03cd'\""
      ]
     },
     "execution_count": 36,
     "metadata": {},
     "output_type": "execute_result"
    }
   ],
   "source": [
    "ascii(name)"
   ]
  },
  {
   "cell_type": "markdown",
   "metadata": {},
   "source": [
    "## F-String Assignments\n",
    "\n",
    "        Introduced in python 3.8"
   ]
  },
  {
   "cell_type": "code",
   "execution_count": 37,
   "metadata": {},
   "outputs": [
    {
     "name": "stdout",
     "output_type": "stream",
     "text": [
      "Python\n"
     ]
    }
   ],
   "source": [
    "language = \"Python\"\n",
    "print(language)"
   ]
  },
  {
   "cell_type": "code",
   "execution_count": 42,
   "metadata": {},
   "outputs": [
    {
     "name": "stdout",
     "output_type": "stream",
     "text": [
      "language = Python\n",
      "language = Python\n",
      "language = Python\n",
      "language = Python\n",
      "language ='Python'\n"
     ]
    }
   ],
   "source": [
    "print(\"language =\", language)\n",
    "print(\"language = %s\" % (language))\n",
    "print(\"language = {}\".format(language))\n",
    "print(f\"language = {language}\")\n",
    "\n",
    "print(f\"{language =}\")"
   ]
  },
  {
   "cell_type": "code",
   "execution_count": 43,
   "metadata": {},
   "outputs": [
    {
     "name": "stdout",
     "output_type": "stream",
     "text": [
      "num = 1234\n",
      "num = 1234\n"
     ]
    }
   ],
   "source": [
    "num = 1234\n",
    "print(f\"num = {num}\")\n",
    "print(f\"{num = }\")"
   ]
  },
  {
   "cell_type": "code",
   "execution_count": 44,
   "metadata": {},
   "outputs": [
    {
     "name": "stdout",
     "output_type": "stream",
     "text": [
      "NUmber =1234\n"
     ]
    },
    {
     "ename": "NameError",
     "evalue": "name 'NUmber' is not defined",
     "output_type": "error",
     "traceback": [
      "\u001b[0;31m---------------------------------------------------------------------------\u001b[0m",
      "\u001b[0;31mNameError\u001b[0m                                 Traceback (most recent call last)",
      "Cell \u001b[0;32mIn[44], line 3\u001b[0m\n\u001b[1;32m      1\u001b[0m \u001b[39mprint\u001b[39m(\u001b[39mf\u001b[39m\u001b[39m'\u001b[39m\u001b[39mNUmber =\u001b[39m\u001b[39m{\u001b[39;00mnum\u001b[39m}\u001b[39;00m\u001b[39m'\u001b[39m)\n\u001b[0;32m----> 3\u001b[0m \u001b[39mprint\u001b[39m(\u001b[39mf\u001b[39m\u001b[39m'\u001b[39m\u001b[39m{\u001b[39;00mNUmber\u001b[39m \u001b[39m\u001b[39m=}\u001b[39;00m\u001b[39m'\u001b[39m)\n",
      "\u001b[0;31mNameError\u001b[0m: name 'NUmber' is not defined"
     ]
    }
   ],
   "source": [
    "print(f\"NUmber ={num}\")\n",
    "\n",
    "print(f\"{NUmber =}\")"
   ]
  },
  {
   "cell_type": "code",
   "execution_count": 45,
   "metadata": {},
   "outputs": [
    {
     "name": "stdout",
     "output_type": "stream",
     "text": [
      "num     = 1234\n",
      "num     = 1234\n",
      "num * 3 = 3702\n",
      "num / 3 = 411.3333333333333\n",
      "num % 3 = 1\n"
     ]
    }
   ],
   "source": [
    "print(f\"{num     = }\")\n",
    "print(f\"{num     = }\")\n",
    "print(f\"{num * 3 = }\")\n",
    "print(f\"{num / 3 = }\")\n",
    "print(f\"{num % 3 = }\")"
   ]
  },
  {
   "cell_type": "code",
   "execution_count": null,
   "metadata": {},
   "outputs": [],
   "source": []
  }
 ],
 "metadata": {
  "kernelspec": {
   "display_name": "Python 3",
   "language": "python",
   "name": "python3"
  },
  "language_info": {
   "codemirror_mode": {
    "name": "ipython",
    "version": 3
   },
   "file_extension": ".py",
   "mimetype": "text/x-python",
   "name": "python",
   "nbconvert_exporter": "python",
   "pygments_lexer": "ipython3",
   "version": "3.10.4"
  },
  "orig_nbformat": 4
 },
 "nbformat": 4,
 "nbformat_minor": 2
}
