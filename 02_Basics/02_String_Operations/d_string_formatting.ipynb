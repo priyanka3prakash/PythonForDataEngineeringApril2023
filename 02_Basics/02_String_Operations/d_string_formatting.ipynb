{
 "cells": [
  {
   "attachments": {},
   "cell_type": "markdown",
   "metadata": {},
   "source": [
    "## String Formatting\n",
    "\n",
    "        - Types\n",
    "            1. Old Style formatting (or literal formatting)\n",
    "            2. New Style formatting\n",
    "            3. F-Strings  ( works from python 3.6+)\n",
    "\n",
    "\n",
    "OLD-Style formatting\n",
    "    %d - integer\n",
    "    %i - integer\n",
    "\n",
    "    %c - single char\n",
    "    %s - string/char\n",
    "\n",
    "    %f - floating-point\n",
    "    %F - floating-point\n",
    "\n",
    "    %o - octal\n",
    "    %x - hexadecimal lowercase\n",
    "    %X - hexadecimal uppercase"
   ]
  },
  {
   "cell_type": "code",
   "execution_count": null,
   "metadata": {},
   "outputs": [],
   "source": [
    "\"\" % ()"
   ]
  },
  {
   "cell_type": "code",
   "execution_count": 1,
   "metadata": {},
   "outputs": [
    {
     "data": {
      "text/plain": [
       "'My lucky number is %d'"
      ]
     },
     "execution_count": 1,
     "metadata": {},
     "output_type": "execute_result"
    }
   ],
   "source": [
    "\"My lucky number is %d\""
   ]
  },
  {
   "cell_type": "code",
   "execution_count": 2,
   "metadata": {},
   "outputs": [
    {
     "data": {
      "text/plain": [
       "'My lucky number is 12'"
      ]
     },
     "execution_count": 2,
     "metadata": {},
     "output_type": "execute_result"
    }
   ],
   "source": [
    "\"My lucky number is %d\" % (12)"
   ]
  },
  {
   "cell_type": "code",
   "execution_count": 3,
   "metadata": {},
   "outputs": [
    {
     "data": {
      "text/plain": [
       "'My lucky number is 12'"
      ]
     },
     "execution_count": 3,
     "metadata": {},
     "output_type": "execute_result"
    }
   ],
   "source": [
    "\"My lucky number is %d\" % 12"
   ]
  },
  {
   "cell_type": "code",
   "execution_count": 4,
   "metadata": {},
   "outputs": [
    {
     "data": {
      "text/plain": [
       "'My lucky number is 34'"
      ]
     },
     "execution_count": 4,
     "metadata": {},
     "output_type": "execute_result"
    }
   ],
   "source": [
    "\"My lucky number is %d\" % 34"
   ]
  },
  {
   "cell_type": "code",
   "execution_count": 5,
   "metadata": {},
   "outputs": [
    {
     "data": {
      "text/plain": [
       "'My lucky number is 34'"
      ]
     },
     "execution_count": 5,
     "metadata": {},
     "output_type": "execute_result"
    }
   ],
   "source": [
    "\"My lucky number is %d\" % 34.34"
   ]
  },
  {
   "cell_type": "code",
   "execution_count": 6,
   "metadata": {},
   "outputs": [
    {
     "data": {
      "text/plain": [
       "34"
      ]
     },
     "execution_count": 6,
     "metadata": {},
     "output_type": "execute_result"
    }
   ],
   "source": [
    "int(34.34)"
   ]
  },
  {
   "cell_type": "code",
   "execution_count": 7,
   "metadata": {},
   "outputs": [
    {
     "data": {
      "text/plain": [
       "'My lucky number is 1'"
      ]
     },
     "execution_count": 7,
     "metadata": {},
     "output_type": "execute_result"
    }
   ],
   "source": [
    "\"My lucky number is %d\" % True"
   ]
  },
  {
   "cell_type": "code",
   "execution_count": 8,
   "metadata": {},
   "outputs": [
    {
     "data": {
      "text/plain": [
       "1"
      ]
     },
     "execution_count": 8,
     "metadata": {},
     "output_type": "execute_result"
    }
   ],
   "source": [
    "int(True)"
   ]
  },
  {
   "cell_type": "code",
   "execution_count": 9,
   "metadata": {},
   "outputs": [
    {
     "ename": "TypeError",
     "evalue": "%d format: a real number is required, not str",
     "output_type": "error",
     "traceback": [
      "\u001b[0;31m---------------------------------------------------------------------------\u001b[0m",
      "\u001b[0;31mTypeError\u001b[0m                                 Traceback (most recent call last)",
      "Cell \u001b[0;32mIn[9], line 1\u001b[0m\n\u001b[0;32m----> 1\u001b[0m \u001b[39m\"\u001b[39;49m\u001b[39mMy lucky number is \u001b[39;49m\u001b[39m%d\u001b[39;49;00m\u001b[39m\"\u001b[39;49m \u001b[39m%\u001b[39;49m \u001b[39m\"\u001b[39;49m\u001b[39m12\u001b[39;49m\u001b[39m\"\u001b[39;49m\n",
      "\u001b[0;31mTypeError\u001b[0m: %d format: a real number is required, not str"
     ]
    }
   ],
   "source": [
    "\"My lucky number is %d\" % \"12\""
   ]
  },
  {
   "cell_type": "code",
   "execution_count": 10,
   "metadata": {},
   "outputs": [
    {
     "data": {
      "text/plain": [
       "'My lucky number is 12'"
      ]
     },
     "execution_count": 10,
     "metadata": {},
     "output_type": "execute_result"
    }
   ],
   "source": [
    "\"My lucky number is %s\" % \"12\""
   ]
  },
  {
   "cell_type": "code",
   "execution_count": 11,
   "metadata": {},
   "outputs": [
    {
     "name": "stdout",
     "output_type": "stream",
     "text": [
      "My lucky number is 12.340000\n",
      "My lucky number is 12.000000\n",
      "My lucky number is 0.000000\n"
     ]
    }
   ],
   "source": [
    "print(\"My lucky number is %f\" % 12.34)\n",
    "print(\"My lucky number is %f\" % 12)\n",
    "print(\"My lucky number is %f\" % False)\n"
   ]
  },
  {
   "cell_type": "code",
   "execution_count": 12,
   "metadata": {},
   "outputs": [
    {
     "name": "stdout",
     "output_type": "stream",
     "text": [
      "\n",
      "My lucky number is True\n",
      "My lucky number is None\n",
      "My lucky number is 1\n",
      "My lucky number is 13.4\n",
      "My lucky number is 133224234\n",
      "My lucky number is python\n"
     ]
    }
   ],
   "source": [
    "print()  # str()\n",
    "print(\"My lucky number is %s\" % True)\n",
    "print(\"My lucky number is %s\" % None)\n",
    "print(\"My lucky number is %s\" % 1)\n",
    "print(\"My lucky number is %s\" % 13.4)\n",
    "print(\"My lucky number is %s\" % 133224234)\n",
    "print(\"My lucky number is %s\" % \"python\")"
   ]
  },
  {
   "cell_type": "code",
   "execution_count": 13,
   "metadata": {},
   "outputs": [
    {
     "name": "stdout",
     "output_type": "stream",
     "text": [
      "\n",
      "My lucky number is True\n",
      "My lucky number is None\n",
      "My lucky number is 1\n",
      "My lucky number is 13.4\n",
      "My lucky number is 133224234\n",
      "My lucky number is 'python'\n"
     ]
    }
   ],
   "source": [
    "print()  # repr()\n",
    "print(\"My lucky number is %r\" % True)\n",
    "print(\"My lucky number is %r\" % None)\n",
    "print(\"My lucky number is %r\" % 1)\n",
    "print(\"My lucky number is %r\" % 13.4)\n",
    "print(\"My lucky number is %r\" % 133224234)\n",
    "print(\"My lucky number is %r\" % \"python\")"
   ]
  },
  {
   "cell_type": "code",
   "execution_count": 14,
   "metadata": {},
   "outputs": [
    {
     "name": "stdout",
     "output_type": "stream",
     "text": [
      "42 0o42\n"
     ]
    }
   ],
   "source": [
    "# %o - octal\n",
    "print(\"%o\" % 34, oct(34))"
   ]
  },
  {
   "cell_type": "code",
   "execution_count": 15,
   "metadata": {},
   "outputs": [
    {
     "name": "stdout",
     "output_type": "stream",
     "text": [
      "22 0x22\n"
     ]
    }
   ],
   "source": [
    "# %x - hexadecimal lowercase\n",
    "print(\"%x\" % 34, hex(34))"
   ]
  },
  {
   "cell_type": "code",
   "execution_count": 16,
   "metadata": {},
   "outputs": [
    {
     "name": "stdout",
     "output_type": "stream",
     "text": [
      "22 0x22\n"
     ]
    }
   ],
   "source": [
    "# %X - hexadecimal uppercase\n",
    "print(\"%X\" % 34, hex(34))"
   ]
  },
  {
   "cell_type": "code",
   "execution_count": 17,
   "metadata": {},
   "outputs": [
    {
     "ename": "ValueError",
     "evalue": "unsupported format character 'b' (0x62) at index 1",
     "output_type": "error",
     "traceback": [
      "\u001b[0;31m---------------------------------------------------------------------------\u001b[0m",
      "\u001b[0;31mValueError\u001b[0m                                Traceback (most recent call last)",
      "Cell \u001b[0;32mIn[17], line 2\u001b[0m\n\u001b[1;32m      1\u001b[0m \u001b[39m# %b - binary\u001b[39;00m\n\u001b[0;32m----> 2\u001b[0m \u001b[39mprint\u001b[39m(\u001b[39m'\u001b[39;49m\u001b[39m%\u001b[39;49m\u001b[39mb\u001b[39;49m\u001b[39m'\u001b[39;49m \u001b[39m%\u001b[39;49m (\u001b[39m12\u001b[39;49m), \u001b[39mbin\u001b[39m(\u001b[39m12\u001b[39m))\n",
      "\u001b[0;31mValueError\u001b[0m: unsupported format character 'b' (0x62) at index 1"
     ]
    }
   ],
   "source": [
    "# %b - binary\n",
    "print('%b' % (12), bin(12))"
   ]
  },
  {
   "cell_type": "code",
   "execution_count": 18,
   "metadata": {},
   "outputs": [
    {
     "name": "stdout",
     "output_type": "stream",
     "text": [
      "12\n",
      "1\n",
      "1\n"
     ]
    }
   ],
   "source": [
    "print(\"%s\" % \"12\")\n",
    "\n",
    "print(\"%c\" % \"1\")  # 1 char only\n",
    "print(\"%s\" % \"1\")"
   ]
  },
  {
   "cell_type": "code",
   "execution_count": 19,
   "metadata": {},
   "outputs": [
    {
     "name": "stdout",
     "output_type": "stream",
     "text": [
      "\n",
      "12.340000\n",
      "12.340000\n",
      "12.342231\n"
     ]
    }
   ],
   "source": [
    "print()  # float()  -- 6 digits post decimal\n",
    "print(\"%f\" % 12.34)  # 12.340000\n",
    "print(\"%F\" % 12.34)  # 12.340000\n",
    "print(\"%F\" % 12.34223123123123)  # 12.342231"
   ]
  },
  {
   "cell_type": "code",
   "execution_count": 20,
   "metadata": {},
   "outputs": [
    {
     "name": "stdout",
     "output_type": "stream",
     "text": [
      "12.34\n",
      "12.34\n",
      "12.3422\n"
     ]
    }
   ],
   "source": [
    "print(\"%g\" % 12.34)  # 12.34\n",
    "print(\"%G\" % 12.34)  # 12.34\n",
    "print(\"%G\" % 12.34223123123123)  # 12.3422"
   ]
  },
  {
   "cell_type": "code",
   "execution_count": 21,
   "metadata": {},
   "outputs": [
    {
     "name": "stdout",
     "output_type": "stream",
     "text": [
      "1.234000e+01\n",
      "1.234000E+01\n",
      "1.234223E+01\n"
     ]
    }
   ],
   "source": [
    "print(\"%e\" % 12.34)  # 1.234000e+01\n",
    "print(\"%E\" % 12.34)  # 1.234000E+01\n",
    "print(\"%E\" % 12.34223123123123)  # 1.234223E+01"
   ]
  },
  {
   "cell_type": "code",
   "execution_count": 22,
   "metadata": {},
   "outputs": [
    {
     "name": "stdout",
     "output_type": "stream",
     "text": [
      "3.141592653589793\n"
     ]
    }
   ],
   "source": [
    "import math\n",
    "\n",
    "print(math.pi)"
   ]
  },
  {
   "cell_type": "code",
   "execution_count": 23,
   "metadata": {},
   "outputs": [
    {
     "name": "stdout",
     "output_type": "stream",
     "text": [
      "3\n",
      "3.141593\n",
      " 3.141593\n",
      "    3.142\n"
     ]
    }
   ],
   "source": [
    "print(\"%d\" % math.pi)       # 3\n",
    "\n",
    "print(\"%f\" % math.pi)       # 3.141593\n",
    "print(\"%9f\" % math.pi)      #  3.141593\n",
    "print(\"%9.3f\" % math.pi)    #     3.142"
   ]
  },
  {
   "cell_type": "code",
   "execution_count": 24,
   "metadata": {},
   "outputs": [
    {
     "name": "stdout",
     "output_type": "stream",
     "text": [
      "lucky My lucky number is 786 only.\n"
     ]
    }
   ],
   "source": [
    "print(\"lucky My lucky number is %d only.\" % 786)"
   ]
  },
  {
   "cell_type": "code",
   "execution_count": 26,
   "metadata": {},
   "outputs": [
    {
     "name": "stdout",
     "output_type": "stream",
     "text": [
      "pi value is 3.141600!!!!!!!!!!\n",
      "pi value is   3.141600!!!!!!!!!!\n",
      "pi value is      3.142!!!!!!!!!!\n",
      "pi value is 000003.142!!!!!!!!!!\n"
     ]
    }
   ],
   "source": [
    "print(\"pi value is %f!!!!!!!!!!\" % 3.1416)\n",
    "print(\"pi value is %10f!!!!!!!!!!\" % 3.1416)\n",
    "print(\"pi value is %10.3f!!!!!!!!!!\" % 3.1416)\n",
    "print(\"pi value is %010.3f!!!!!!!!!!\" % 3.1416)\n"
   ]
  },
  {
   "cell_type": "code",
   "execution_count": 27,
   "metadata": {},
   "outputs": [
    {
     "name": "stdout",
     "output_type": "stream",
     "text": [
      "my name is Udhay - Prakash.\n"
     ]
    }
   ],
   "source": [
    "print(\"my name is %s - %s.\" % (\"Udhay\", \"Prakash\"))"
   ]
  },
  {
   "cell_type": "code",
   "execution_count": 28,
   "metadata": {},
   "outputs": [
    {
     "name": "stdout",
     "output_type": "stream",
     "text": [
      "My name is %s. I am %d old paying a tax of %f\n",
      "My name is Udhay. I am 99 old paying a tax of 15.500000\n"
     ]
    }
   ],
   "source": [
    "print(\"My name is %s. I am %d old paying a tax of %f\")\n",
    "print(\"My name is %s. I am %d old paying a tax of %f\" % (\"Udhay\", 99, 15.5))"
   ]
  },
  {
   "cell_type": "code",
   "execution_count": 29,
   "metadata": {},
   "outputs": [
    {
     "ename": "TypeError",
     "evalue": "%d format: a real number is required, not str",
     "output_type": "error",
     "traceback": [
      "\u001b[0;31m---------------------------------------------------------------------------\u001b[0m",
      "\u001b[0;31mTypeError\u001b[0m                                 Traceback (most recent call last)",
      "Cell \u001b[0;32mIn[29], line 1\u001b[0m\n\u001b[0;32m----> 1\u001b[0m \u001b[39mprint\u001b[39m(\u001b[39m'\u001b[39;49m\u001b[39mMy name is \u001b[39;49m\u001b[39m%s\u001b[39;49;00m\u001b[39m. I am \u001b[39;49m\u001b[39m%d\u001b[39;49;00m\u001b[39m old paying a tax of \u001b[39;49m\u001b[39m%f\u001b[39;49;00m\u001b[39m'\u001b[39;49m \u001b[39m%\u001b[39;49m (\u001b[39m'\u001b[39;49m\u001b[39mUdhay\u001b[39;49m\u001b[39m'\u001b[39;49m, \u001b[39m'\u001b[39;49m\u001b[39m99\u001b[39;49m\u001b[39m'\u001b[39;49m, \u001b[39m15.5\u001b[39;49m))\n",
      "\u001b[0;31mTypeError\u001b[0m: %d format: a real number is required, not str"
     ]
    }
   ],
   "source": [
    "print('My name is %s. I am %d old paying a tax of %f' % ('Udhay', '99', 15.5))"
   ]
  },
  {
   "cell_type": "code",
   "execution_count": 30,
   "metadata": {},
   "outputs": [
    {
     "name": "stdout",
     "output_type": "stream",
     "text": [
      "My name is 'Udhay'. I am '78' old paying a tax of 15.5\n",
      "My name is Udhay. I am 78 old paying a tax of 15.5\n"
     ]
    }
   ],
   "source": [
    "print(\"My name is %r. I am %r old paying a tax of %r\" % (\"Udhay\", \"78\", 15.5))\n",
    "print(\"My name is %s. I am %s old paying a tax of %s\" % (\"Udhay\", \"78\", 15.5))"
   ]
  },
  {
   "cell_type": "code",
   "execution_count": 31,
   "metadata": {},
   "outputs": [
    {
     "ename": "TypeError",
     "evalue": "not enough arguments for format string",
     "output_type": "error",
     "traceback": [
      "\u001b[0;31m---------------------------------------------------------------------------\u001b[0m",
      "\u001b[0;31mTypeError\u001b[0m                                 Traceback (most recent call last)",
      "Cell \u001b[0;32mIn[31], line 1\u001b[0m\n\u001b[0;32m----> 1\u001b[0m \u001b[39mprint\u001b[39m(\u001b[39m'\u001b[39;49m\u001b[39mMy name is \u001b[39;49m\u001b[39m%s\u001b[39;49;00m\u001b[39m. I am \u001b[39;49m\u001b[39m%s\u001b[39;49;00m\u001b[39m old paying a tax of \u001b[39;49m\u001b[39m%s\u001b[39;49;00m\u001b[39m'\u001b[39;49m \u001b[39m%\u001b[39;49m (\u001b[39m'\u001b[39;49m\u001b[39mUdhay\u001b[39;49m\u001b[39m'\u001b[39;49m, \u001b[39m15.5\u001b[39;49m))\n",
      "\u001b[0;31mTypeError\u001b[0m: not enough arguments for format string"
     ]
    }
   ],
   "source": [
    "print('My name is %s. I am %s old paying a tax of %s' % ('Udhay', 15.5))"
   ]
  },
  {
   "cell_type": "code",
   "execution_count": 32,
   "metadata": {},
   "outputs": [],
   "source": [
    "# Limitations of old style string formatting\n",
    "# 1. same data types need to be passed\n",
    "# 2. If same value need to go more than one time,\n",
    "#     those many number of times, values need to be passed\n"
   ]
  },
  {
   "attachments": {},
   "cell_type": "markdown",
   "metadata": {},
   "source": [
    "## New-Style String formatting\n",
    "\n",
    "    str.format()\n",
    "    format() "
   ]
  },
  {
   "cell_type": "code",
   "execution_count": 33,
   "metadata": {},
   "outputs": [
    {
     "name": "stdout",
     "output_type": "stream",
     "text": [
      "\n",
      "\n"
     ]
    }
   ],
   "source": [
    "print(\"\" % ())          # OLD Style\n",
    "print(\"{}\".format(\"\"))  # New Style"
   ]
  },
  {
   "cell_type": "code",
   "execution_count": 34,
   "metadata": {},
   "outputs": [
    {
     "data": {
      "text/plain": [
       "'Udhay'"
      ]
     },
     "execution_count": 34,
     "metadata": {},
     "output_type": "execute_result"
    }
   ],
   "source": [
    "\"{}\".format(\"Udhay\")"
   ]
  },
  {
   "cell_type": "code",
   "execution_count": 35,
   "metadata": {},
   "outputs": [
    {
     "data": {
      "text/plain": [
       "'Udhay 30'"
      ]
     },
     "execution_count": 35,
     "metadata": {},
     "output_type": "execute_result"
    }
   ],
   "source": [
    "\"{} {}\".format(\"Udhay\", 30)"
   ]
  },
  {
   "cell_type": "code",
   "execution_count": 36,
   "metadata": {},
   "outputs": [
    {
     "name": "stdout",
     "output_type": "stream",
     "text": [
      "cat and mouse\n",
      "213 and mouse\n",
      "213.0 and True\n",
      "None and True\n"
     ]
    }
   ],
   "source": [
    "print(\"{} and {}\".format(\"cat\", \"mouse\"))\n",
    "print(\"{} and {}\".format(213, \"mouse\"))\n",
    "print(\"{} and {}\".format(213.0, True))\n",
    "print(\"{} and {}\".format(None, True))"
   ]
  },
  {
   "cell_type": "code",
   "execution_count": 37,
   "metadata": {},
   "outputs": [
    {
     "name": "stdout",
     "output_type": "stream",
     "text": [
      "None and True\n",
      "None and True\n",
      "True and None\n"
     ]
    }
   ],
   "source": [
    "print(\"{} and {}\".format(None, True))\n",
    "print(\"{0} and {1}\".format(None, True))\n",
    "print(\"{1} and {0}\".format(None, True))"
   ]
  },
  {
   "cell_type": "code",
   "execution_count": 38,
   "metadata": {},
   "outputs": [
    {
     "ename": "IndexError",
     "evalue": "Replacement index 1 out of range for positional args tuple",
     "output_type": "error",
     "traceback": [
      "\u001b[0;31m---------------------------------------------------------------------------\u001b[0m",
      "\u001b[0;31mIndexError\u001b[0m                                Traceback (most recent call last)",
      "Cell \u001b[0;32mIn[38], line 1\u001b[0m\n\u001b[0;32m----> 1\u001b[0m \u001b[39mprint\u001b[39m(\u001b[39m'\u001b[39;49m\u001b[39m{}\u001b[39;49;00m\u001b[39m and \u001b[39;49m\u001b[39m{}\u001b[39;49;00m\u001b[39m'\u001b[39;49m\u001b[39m.\u001b[39;49mformat(\u001b[39mNone\u001b[39;49;00m))\n",
      "\u001b[0;31mIndexError\u001b[0m: Replacement index 1 out of range for positional args tuple"
     ]
    }
   ],
   "source": [
    "print('{} and {}'.format(None))"
   ]
  },
  {
   "cell_type": "code",
   "execution_count": 39,
   "metadata": {},
   "outputs": [
    {
     "name": "stdout",
     "output_type": "stream",
     "text": [
      "None and None\n"
     ]
    }
   ],
   "source": [
    "print(\"{0} and {0}\".format(None))"
   ]
  },
  {
   "cell_type": "code",
   "execution_count": 40,
   "metadata": {},
   "outputs": [
    {
     "name": "stdout",
     "output_type": "stream",
     "text": [
      " \n",
      "    Name: gudo\n",
      "    age: 30\n",
      "    salary: 21312213.123\n",
      "\n"
     ]
    }
   ],
   "source": [
    "print(\"\"\" \n",
    "    Name: {}\n",
    "    age: {}\n",
    "    salary: {}\n",
    "\"\"\".format(\"gudo\", 30, 21312213.123))"
   ]
  },
  {
   "cell_type": "code",
   "execution_count": 41,
   "metadata": {},
   "outputs": [
    {
     "name": "stdout",
     "output_type": "stream",
     "text": [
      "1234567890.88\n",
      "1234567890.88\n"
     ]
    }
   ],
   "source": [
    "print(\"{}\".format(1234567890.88))  # 1234567890.88\n",
    "print(\"{:}\".format(1234567890.88))  # 1234567890.88"
   ]
  },
  {
   "cell_type": "code",
   "execution_count": 42,
   "metadata": {},
   "outputs": [
    {
     "name": "stdout",
     "output_type": "stream",
     "text": [
      "1,234,567,890.88\n",
      "1_234_567_890.88\n",
      "1234567890.88\n",
      "+1234567890.88\n",
      "-1234567890.88\n"
     ]
    }
   ],
   "source": [
    "print(\"{:,}\".format(1234567890.88))  # 1,234,567,890.88\n",
    "print(\"{:_}\".format(1234567890.88))  # 1_234_567_890.88\n",
    "print(\"{:-}\".format(1234567890.88))  # 1234567890.88\n",
    "print(\"{:+}\".format(1234567890.88))  # +1234567890.88\n",
    "print(\"{:+}\".format(-1234567890.88)) # -1234567890.88"
   ]
  },
  {
   "cell_type": "code",
   "execution_count": 43,
   "metadata": {},
   "outputs": [
    {
     "name": "stdout",
     "output_type": "stream",
     "text": [
      "     12348\n",
      "0000012348\n",
      "aaaaa12348\n"
     ]
    }
   ],
   "source": [
    "# similar to str.zfill()\n",
    "print(\"{:=10}\".format(12348))   #      12348\n",
    "print(\"{:0=10}\".format(12348))  # 0000012348\n",
    "print(\"{:a=10}\".format(12348))  # aaaaa12348"
   ]
  },
  {
   "cell_type": "code",
   "execution_count": 44,
   "metadata": {},
   "outputs": [
    {
     "name": "stdout",
     "output_type": "stream",
     "text": [
      "left aligned        \n",
      "       right aligned\n",
      "      centered      \n"
     ]
    }
   ],
   "source": [
    "# Alignment\n",
    "print(\"{:<20}\".format(\"left aligned\"))      # 'left aligned        '\n",
    "print(\"{:>20}\".format(\"right aligned\"))     # '       right aligned'\n",
    "print(\"{:^20}\".format(\"centered\"))          # '      centered      '"
   ]
  },
  {
   "cell_type": "code",
   "execution_count": 45,
   "metadata": {},
   "outputs": [
    {
     "name": "stdout",
     "output_type": "stream",
     "text": [
      "------centered------\n",
      "******centered******\n"
     ]
    }
   ],
   "source": [
    "# with fill character\n",
    "print(\"{:-^20}\".format(\"centered\"))  # '------centered------'\n",
    "print(\"{:*^20}\".format(\"centered\"))  # '******centered******'"
   ]
  },
  {
   "cell_type": "code",
   "execution_count": 46,
   "metadata": {},
   "outputs": [
    {
     "name": "stdout",
     "output_type": "stream",
     "text": [
      "1024 1024\n",
      "10000000000 0b10000000000\n",
      "2000 0o2000\n",
      "400 0x400\n"
     ]
    }
   ],
   "source": [
    "# formatting\n",
    "print(\"{}\".format(1024), 1024)  # 1024 1024\n",
    "print(\"{:b}\".format(1024), bin(1024))  # 10000000000 0b1000000000\n",
    "print(\"{:o}\".format(1024), oct(1024))  # 2000 0o2000\n",
    "print(\"{:x}\".format(1024), hex(1024))  # 400 0x400"
   ]
  },
  {
   "cell_type": "code",
   "execution_count": 47,
   "metadata": {},
   "outputs": [
    {
     "data": {
      "text/plain": [
       "'\\n\"int: {0:d};  hex: {0:x};  oct: {0:o};  bin: {0:b}\".format(42)\\n\\'int: 42;  hex: 2a;  oct: 52;  bin: 101010\\'\\n# with 0x, 0o, or 0b as prefix:\\n\"int: {0:d};  hex: {0:#x};  oct: {0:#o};  bin: {0:#b}\".format(42)\\n\\'int: 42;  hex: 0x2a;  oct: 0o52;  bin: 0b101010\\'\\n'"
      ]
     },
     "execution_count": 47,
     "metadata": {},
     "output_type": "execute_result"
    }
   ],
   "source": [
    "\"\"\"\n",
    ">>> \"int: {0:d};  hex: {0:x};  oct: {0:o};  bin: {0:b}\".format(42)\n",
    "'int: 42;  hex: 2a;  oct: 52;  bin: 101010'\n",
    ">>> # with 0x, 0o, or 0b as prefix:\n",
    ">>> \"int: {0:d};  hex: {0:#x};  oct: {0:#o};  bin: {0:#b}\".format(42)\n",
    "'int: 42;  hex: 0x2a;  oct: 0o52;  bin: 0b101010'\n",
    "\"\"\""
   ]
  },
  {
   "cell_type": "code",
   "execution_count": 48,
   "metadata": {},
   "outputs": [
    {
     "name": "stdout",
     "output_type": "stream",
     "text": [
      "math.pi 3.141592653589793\n",
      "3.141592653589793\n",
      "3.141593\n",
      "3.141593\n",
      "3.14159\n"
     ]
    }
   ],
   "source": [
    "print(\"math.pi\", math.pi)  # 3.141592653589793\n",
    "print(\"{}\".format(math.pi))  # 3.141592653589793\n",
    "# print('{:d}'.format(math.pi))\n",
    "print(\"{:f}\".format(math.pi))  # 3.141593\n",
    "print(\"{:F}\".format(math.pi))  # 3.141593\n",
    "print(\"{:g}\".format(math.pi))  # 3.14159"
   ]
  },
  {
   "cell_type": "code",
   "execution_count": 49,
   "metadata": {},
   "outputs": [
    {
     "name": "stdout",
     "output_type": "stream",
     "text": [
      "3.141593\n",
      " 3.141593\n",
      "    3.142\n"
     ]
    }
   ],
   "source": [
    "print(\"{:f}\".format(math.pi))       # 3.141593\n",
    "print(\"{:9f}\".format(math.pi))      # 3.141593\n",
    "print(\"{:9.3f}\".format(math.pi))    #    3.142"
   ]
  },
  {
   "cell_type": "code",
   "execution_count": 50,
   "metadata": {},
   "outputs": [
    {
     "name": "stdout",
     "output_type": "stream",
     "text": [
      "314.159265%\n",
      "700.000000%\n"
     ]
    }
   ],
   "source": [
    "# To multiply number with 100 and show % in result\n",
    "print(\"{:%}\".format(math.pi))  # 314.159265%\n",
    "print(\"{:%}\".format(7))  # 700.000000%"
   ]
  },
  {
   "cell_type": "code",
   "execution_count": 51,
   "metadata": {},
   "outputs": [
    {
     "name": "stdout",
     "output_type": "stream",
     "text": [
      "Name:udhay Age:99 Salary:9999.9999\n",
      "\n",
      "        Name  :udhay\n",
      "        Age   :99\n",
      "        Salary:9999.9999\n"
     ]
    }
   ],
   "source": [
    "print(\"Name:{} Age:{} Salary:{}\".format(\"udhay\", 99, 9999.9999))\n",
    "print(\n",
    "    \"\"\"\n",
    "        Name  :{}\n",
    "        Age   :{}\n",
    "        Salary:{}\"\"\".format(\n",
    "        \"udhay\", 99, 9999.9999\n",
    "    )\n",
    ")"
   ]
  },
  {
   "cell_type": "code",
   "execution_count": 52,
   "metadata": {},
   "outputs": [
    {
     "name": "stdout",
     "output_type": "stream",
     "text": [
      "\n",
      "        Name  :udhay\n",
      "        Age   :99\n",
      "        Salary:9999.9999\n"
     ]
    }
   ],
   "source": [
    "print(\n",
    "    \"\"\"\n",
    "        Name  :{0}\n",
    "        Age   :{1}\n",
    "        Salary:{2}\"\"\".format(\n",
    "        \"udhay\", 99, 9999.9999\n",
    "    )\n",
    ")\n",
    "#                               0      1     2"
   ]
  },
  {
   "cell_type": "code",
   "execution_count": 53,
   "metadata": {},
   "outputs": [
    {
     "name": "stdout",
     "output_type": "stream",
     "text": [
      "\n",
      "        Name  :udhay Name  :udhay Salary:9999.9999\n",
      "        Age   :99 Name  :udhay\n",
      "        Salary:9999.9999\n"
     ]
    }
   ],
   "source": [
    "print(\n",
    "    \"\"\"\n",
    "        Name  :{0} Name  :{0} Salary:{2}\n",
    "        Age   :{1} Name  :{0}\n",
    "        Salary:{2}\"\"\".format(\n",
    "        \"udhay\", 99, 9999.9999\n",
    "    )\n",
    ")\n",
    "#                               0      1     2\n"
   ]
  },
  {
   "cell_type": "code",
   "execution_count": 54,
   "metadata": {},
   "outputs": [
    {
     "name": "stdout",
     "output_type": "stream",
     "text": [
      "\n",
      "        Name  :99 Name  :99 Salary:99\n",
      "        Age   :99 Name  :99\n",
      "        Salary:99\n"
     ]
    },
    {
     "name": "stderr",
     "output_type": "stream",
     "text": [
      "Bad pipe message: %s [b'#s\\xb3\\xe4\\xa5\\x8d.\\xdf\\x92\\xf3\\x02FtA<\\r\\xee5 q\\xa1\\xef\\x1f\\x03\\xb4\\xd5T\\xb0o\\xe0\\xc2\\x964;\\xef\\x9c\\x1c\\xea\\x11!(\\x06\\xf3\\xc7']\n",
      "Bad pipe message: %s [b'+`Rr\\xe8\\x00\\x08\\x13\\x02\\x13\\x03\\x13\\x01\\x00\\xff\\x01\\x00\\x00\\x8f\\x00\\x00\\x00\\x0e\\x00\\x0c\\x00\\x00\\t127.0.0.1\\x00\\x0b\\x00\\x04\\x03\\x00\\x01\\x02\\x00\\n\\x00\\x0c\\x00\\n\\x00\\x1d\\x00\\x17\\x00\\x1e\\x00\\x19\\x00\\x18\\x00#\\x00\\x00\\x00\\x16\\x00\\x00\\x00\\x17']\n",
      "Bad pipe message: %s [b'\\xc8\\xbe\\xee\\xd8\\x19\\x1a\\xfe\\x8b?\\x88\\xdb\\xb7\\xec\\x8e9\\x0fx\\xe5 ln\\xc4\\xae\\xd6r>\\xd4\\xae\\x98\\x0f\\xdd\\x1e\\xf8\\x12R\\xfe\\\\^\\xee\\x01\\xfb\\x90\\xce\\x1bo0\\xd3&.!\\x1a\\x00\\x08\\x13\\x02\\x13\\x03\\x13\\x01\\x00\\xff\\x01\\x00\\x00\\x8f\\x00\\x00\\x00\\x0e\\x00\\x0c\\x00\\x00\\t127.0.0.1\\x00\\x0b\\x00\\x04\\x03\\x00\\x01\\x02\\x00\\n\\x00\\x0c\\x00\\n\\x00\\x1d\\x00\\x17\\x00\\x1e\\x00\\x19\\x00\\x18\\x00#\\x00\\x00\\x00\\x16\\x00\\x00\\x00\\x17\\x00\\x00\\x00\\r\\x00\\x1e\\x00\\x1c\\x04\\x03\\x05\\x03\\x06\\x03\\x08\\x07\\x08\\x08\\x08\\t\\x08\\n\\x08\\x0b\\x08\\x04\\x08\\x05\\x08\\x06\\x04\\x01\\x05', b'']\n",
      "Bad pipe message: %s [b'\\x8f\\xaa\\x1d\\xe8\\x8ds\\xe0\\xd2\\x94*\\x8c,\\x9f\\xf6U\\xc0\\xad\\x1d\\x00\\x00|\\xc0,\\xc00\\x00\\xa3\\x00\\x9f\\xcc\\xa9', b\"\\xcc\\xaa\\xc0\\xaf\\xc0\\xad\\xc0\\xa3\\xc0\\x9f\\xc0]\\xc0a\\xc0W\\xc0S\\xc0+\\xc0/\\x00\\xa2\\x00\\x9e\\xc0\\xae\\xc0\\xac\\xc0\\xa2\\xc0\\x9e\\xc0\\\\\\xc0`\\xc0V\\xc0R\\xc0$\\xc0(\\x00k\\x00j\\xc0#\\xc0'\\x00g\\x00@\\xc0\\n\\xc0\\x14\\x009\\x008\\xc0\\t\\xc0\\x13\\x003\\x002\\x00\\x9d\\xc0\\xa1\\xc0\\x9d\\xc0Q\\x00\\x9c\\xc0\\xa0\\xc0\\x9c\\xc0P\\x00=\\x00<\\x005\\x00/\\x00\\x9a\\x00\\x99\\xc0\\x07\\xc0\\x11\\x00\\x96\\x00\\x05\\x00\\xff\\x01\\x00\\x00j\\x00\\x00\\x00\\x0e\\x00\\x0c\\x00\\x00\\t127.0.0.1\\x00\\x0b\\x00\\x04\\x03\\x00\\x01\\x02\\x00\\n\\x00\\x0c\\x00\\n\\x00\\x1d\\x00\\x17\\x00\\x1e\\x00\\x19\\x00\\x18\\x00#\\x00\\x00\\x00\\x16\\x00\\x00\\x00\\x17\\x00\\x00\\x00\\r\\x000\\x00.\\x04\\x03\\x05\\x03\\x06\\x03\\x08\\x07\\x08\\x08\\x08\\t\\x08\\n\\x08\\x0b\\x08\\x04\\x08\\x05\\x08\\x06\\x04\\x01\\x05\\x01\\x06\"]\n",
      "Bad pipe message: %s [b\"\\xe4w\\xf1\\xff\\x1c\\xa6\\xf1\\xf0\\xf3\\xbb`V_\\x04\\xc9\\x17\\xea!\\x00\\x00\\xa6\\xc0,\\xc00\\x00\\xa3\\x00\\x9f\\xcc\\xa9\\xcc\\xa8\\xcc\\xaa\\xc0\\xaf\\xc0\\xad\\xc0\\xa3\\xc0\\x9f\\xc0]\\xc0a\\xc0W\\xc0S\\xc0+\\xc0/\\x00\\xa2\\x00\\x9e\\xc0\\xae\\xc0\\xac\\xc0\\xa2\\xc0\\x9e\\xc0\\\\\\xc0`\\xc0V\\xc0R\\xc0$\\xc0(\\x00k\\x00j\\xc0s\\xc0w\\x00\\xc4\\x00\\xc3\\xc0#\\xc0'\\x00g\\x00@\\xc0r\\xc0v\\x00\\xbe\\x00\\xbd\\xc0\\n\\xc0\\x14\\x009\\x008\\x00\\x88\\x00\\x87\\xc0\\t\\xc0\\x13\\x003\\x002\\x00\\x9a\\x00\\x99\\x00E\\x00D\\xc0\\x07\\xc0\\x11\\xc0\\x08\\xc0\\x12\\x00\\x16\\x00\\x13\\x00\\x9d\\xc0\\xa1\\xc0\\x9d\\xc0Q\\x00\\x9c\\xc0\\xa0\\xc0\\x9c\\xc0P\\x00=\\x00\\xc0\"]\n",
      "Bad pipe message: %s [b'']\n",
      "Bad pipe message: %s [b'', b'\\x03\\x03']\n",
      "Bad pipe message: %s [b'\\x03\\x02\\x03\\x04\\x00-\\x00\\x02\\x01\\x01\\x003\\x00&\\x00$\\x00\\x1d\\x00 \\xe4\\xd07\\x8a\\xc5\\n\\xa24+\\xc4\\xab\\xed)\\x9e\\xf2\\x00\\xc85\\x18\\xef\\xa0\\xa8']\n",
      "Bad pipe message: %s [b'']\n",
      "Bad pipe message: %s [b'', b'\\x02']\n",
      "Bad pipe message: %s [b'\\x05\\x02\\x06']\n",
      "Bad pipe message: %s [b'\\x83\\x8e\\xfaM_j\\x0e\\xa6\\x11\\t\\xf3\\xb5+\\xa1A\\xb7\\xdd\\xf8\\x00\\x00\\xa2\\xc0\\x14\\xc0\\n\\x009\\x008\\x007\\x006\\x00\\x88\\x00\\x87\\x00\\x86\\x00\\x85\\xc0\\x19\\x00:\\x00\\x89\\xc0\\x0f\\xc0\\x05\\x005\\x00\\x84\\xc0\\x13\\xc0\\t\\x003\\x002\\x001\\x000\\x00\\x9a\\x00\\x99\\x00\\x98\\x00\\x97\\x00E\\x00D\\x00C\\x00B\\xc0\\x18\\x004\\x00\\x9b\\x00F\\xc0\\x0e\\xc0\\x04\\x00/\\x00\\x96\\x00A\\x00\\x07\\xc0', b'\\x07\\xc0\\x16\\x00\\x18\\xc0\\x0c\\xc0\\x02\\x00\\x05\\x00\\x04\\xc0\\x12\\xc0']\n",
      "Bad pipe message: %s [b'\\x16\\x00\\x13\\x00\\x10\\x00\\r']\n",
      "Bad pipe message: %s [b'\\x82\\xd0Y\\xf9h\\xb7\\xc2\\xb5\\xdd\\xfc\\x1f\\x0c\\xb7\\xf0\\xf6\\n\\xa0\\x88\\x00\\x00>\\xc0\\x14\\xc0\\n\\x009\\x008\\x007\\x006\\xc0']\n",
      "Bad pipe message: %s [b'\\x05\\x005\\xc0\\x13\\xc0\\t\\x003\\x002\\x001\\x00']\n",
      "Bad pipe message: %s [b\"m(\\xd7 B\\xbdO\\xfc\\xf3\\xc4\\x08\\x89\\xbe\\x96d\\x19\\xfcZ\\x00\\x00\\x86\\xc00\\xc0,\\xc0(\\xc0$\\xc0\\x14\\xc0\\n\\x00\\xa5\\x00\\xa3\\x00\\xa1\\x00\\x9f\\x00k\\x00j\\x00i\\x00h\\x009\\x008\\x007\\x006\\xc02\\xc0.\\xc0*\\xc0&\\xc0\\x0f\\xc0\\x05\\x00\\x9d\\x00=\\x005\\xc0/\\xc0+\\xc0'\\xc0#\\xc0\\x13\\xc0\\t\\x00\\xa4\\x00\\xa2\\x00\\xa0\\x00\\x9e\\x00g\\x00@\\x00?\\x00>\\x003\\x002\\x001\\x000\\xc01\\xc0-\\xc0)\\xc0%\\xc0\\x0e\\xc0\\x04\\x00\\x9c\\x00<\\x00/\\x00\\x9a\\x00\\x99\\x00\\x98\\x00\\x97\\x00\"]\n",
      "Bad pipe message: %s [b\"\\xb9\\xf3\\x1bj\\x96f\\x7f\\xa8\\x9e\\xd4\\xa3\\xbbq\\xf1\\xab\\xab\\xf5\\xdc\\x00\\x00\\xf4\\xc00\\xc0,\\xc0(\\xc0$\\xc0\\x14\\xc0\\n\\x00\\xa5\\x00\\xa3\\x00\\xa1\\x00\\x9f\\x00k\\x00j\\x00i\\x00h\\x009\\x008\\x007\\x006\\x00\\x88\\x00\\x87\\x00\\x86\\x00\\x85\\xc0\\x19\\x00\\xa7\\x00m\\x00:\\x00\\x89\\xc02\\xc0.\\xc0*\\xc0&\\xc0\\x0f\\xc0\\x05\\x00\\x9d\\x00=\\x005\\x00\\x84\\xc0/\\xc0+\\xc0'\\xc0#\\xc0\\x13\\xc0\\t\\x00\\xa4\\x00\\xa2\\x00\\xa0\\x00\\x9e\\x00g\\x00@\\x00?\\x00>\\x003\\x002\\x001\\x000\\x00\\x9a\\x00\\x99\\x00\\x98\\x00\\x97\\x00E\\x00D\\x00C\\x00B\\xc0\\x18\\x00\\xa6\\x00l\\x004\\x00\\x9b\\x00F\\xc01\\xc0-\\xc0)\\xc0%\\xc0\\x0e\\xc0\\x04\\x00\\x9c\\x00<\\x00/\\x00\\x96\\x00A\\x00\\x07\\xc0\\x11\\xc0\\x07\\xc0\\x16\\x00\\x18\\xc0\\x0c\\xc0\\x02\\x00\\x05\\x00\\x04\\xc0\\x12\\xc0\"]\n",
      "Bad pipe message: %s [b'\\x16\\x00\\x13\\x00\\x10\\x00\\r']\n"
     ]
    }
   ],
   "source": [
    "print(\n",
    "    \"\"\"\n",
    "        Name  :{1} Name  :{1} Salary:{1}\n",
    "        Age   :{1} Name  :{1}\n",
    "        Salary:{1}\"\"\".format(\n",
    "        \"udhay\", 99, 9999.9999\n",
    "    )\n",
    ")\n",
    "#                               0      1     2\n"
   ]
  },
  {
   "cell_type": "code",
   "execution_count": null,
   "metadata": {},
   "outputs": [],
   "source": []
  }
 ],
 "metadata": {
  "kernelspec": {
   "display_name": "Python 3",
   "language": "python",
   "name": "python3"
  },
  "language_info": {
   "codemirror_mode": {
    "name": "ipython",
    "version": 3
   },
   "file_extension": ".py",
   "mimetype": "text/x-python",
   "name": "python",
   "nbconvert_exporter": "python",
   "pygments_lexer": "ipython3",
   "version": "3.10.4"
  },
  "orig_nbformat": 4
 },
 "nbformat": 4,
 "nbformat_minor": 2
}
