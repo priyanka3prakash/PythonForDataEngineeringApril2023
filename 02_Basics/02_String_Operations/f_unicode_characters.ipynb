{
 "cells": [
  {
   "attachments": {},
   "cell_type": "markdown",
   "metadata": {},
   "source": [
    "## unicode characters\n",
    "\n",
    "ASCII - english characters & commonly used symbols\n",
    "      - 0 to 127\n",
    "\n",
    "      65 - A\n",
    "      66 - B\n",
    "      67 - C\n",
    "      .....\n",
    "      97 - a\n",
    "      98 - b\n",
    "      99 - c\n",
    " \n",
    " Further Reference: https://home.unicode.org/\n",
    "\n",
    "### chr() & ord()\n"
   ]
  },
  {
   "cell_type": "code",
   "execution_count": 2,
   "metadata": {},
   "outputs": [
    {
     "name": "stdout",
     "output_type": "stream",
     "text": [
      "ord('A') =65\n",
      "ord('B') =66\n",
      "ord('C') =67\n",
      "ord('Y') =89\n",
      "ord('Z') =90\n"
     ]
    }
   ],
   "source": [
    "print(f\"{ord('A') =}\")  # 65\n",
    "print(f\"{ord('B') =}\")  # 66\n",
    "print(f\"{ord('C') =}\")  # 67\n",
    "\n",
    "print(f\"{ord('Y') =}\")  # 89\n",
    "print(f\"{ord('Z') =}\")  # 90"
   ]
  },
  {
   "cell_type": "code",
   "execution_count": 3,
   "metadata": {},
   "outputs": [
    {
     "name": "stdout",
     "output_type": "stream",
     "text": [
      "ord('a') =97\n",
      "ord('b') =98\n",
      "ord('c') =99\n",
      "ord('y') =121\n",
      "ord('z') =122\n"
     ]
    }
   ],
   "source": [
    "print(f\"{ord('a') =}\")  # 97\n",
    "print(f\"{ord('b') =}\")  # 98\n",
    "print(f\"{ord('c') =}\")  # 99\n",
    "\n",
    "print(f\"{ord('y') =}\")  # 121\n",
    "print(f\"{ord('z') =}\")  # 122"
   ]
  },
  {
   "cell_type": "code",
   "execution_count": 4,
   "metadata": {},
   "outputs": [
    {
     "name": "stdout",
     "output_type": "stream",
     "text": [
      "ord('1') =49\n",
      "ord('2') =50\n",
      "ord('3') =51\n"
     ]
    }
   ],
   "source": [
    "print(f\"{ord('1') =}\")  # 49\n",
    "print(f\"{ord('2') =}\")  # 50\n",
    "print(f\"{ord('3') =}\")  # 51"
   ]
  },
  {
   "cell_type": "code",
   "execution_count": 5,
   "metadata": {},
   "outputs": [
    {
     "name": "stdout",
     "output_type": "stream",
     "text": [
      "ord('$') =36\n",
      "chr(36)  ='$'\n"
     ]
    }
   ],
   "source": [
    "print(f\"{ord('$') =}\")  # 36\n",
    "print(f\"{chr(36)  =}\")  # '$'"
   ]
  },
  {
   "cell_type": "code",
   "execution_count": 6,
   "metadata": {},
   "outputs": [
    {
     "ename": "TypeError",
     "evalue": "ord() expected a character, but string of length 2 found",
     "output_type": "error",
     "traceback": [
      "\u001b[0;31m---------------------------------------------------------------------------\u001b[0m",
      "\u001b[0;31mTypeError\u001b[0m                                 Traceback (most recent call last)",
      "Cell \u001b[0;32mIn[6], line 1\u001b[0m\n\u001b[0;32m----> 1\u001b[0m \u001b[39mprint\u001b[39m(\u001b[39mf\u001b[39m\u001b[39m\"\u001b[39m\u001b[39m{\u001b[39;00m\u001b[39mord\u001b[39;49m(\u001b[39m'\u001b[39;49m\u001b[39map\u001b[39;49m\u001b[39m'\u001b[39;49m)\u001b[39m \u001b[39m\u001b[39m=}\u001b[39;00m\u001b[39m\"\u001b[39m)\n",
      "\u001b[0;31mTypeError\u001b[0m: ord() expected a character, but string of length 2 found"
     ]
    }
   ],
   "source": [
    "print(f\"{ord('ap') =}\")"
   ]
  },
  {
   "cell_type": "code",
   "execution_count": 7,
   "metadata": {},
   "outputs": [
    {
     "name": "stdout",
     "output_type": "stream",
     "text": [
      "chr(0)    ='\\x00'\n",
      "chr(127)  ='\\x7f'\n"
     ]
    }
   ],
   "source": [
    "print(f\"{chr(0)    =}\")  # '\\x00'\n",
    "print(f\"{chr(127)  =}\")  # '\\x7f'"
   ]
  },
  {
   "cell_type": "code",
   "execution_count": 8,
   "metadata": {},
   "outputs": [
    {
     "name": "stdout",
     "output_type": "stream",
     "text": [
      "chr(129)  ='\\x81'\n"
     ]
    }
   ],
   "source": [
    "# > 127 ---> unicode characters\n",
    "print(f\"{chr(129)  =}\")  # '\\x81'"
   ]
  },
  {
   "cell_type": "code",
   "execution_count": 11,
   "metadata": {},
   "outputs": [
    {
     "name": "stdout",
     "output_type": "stream",
     "text": [
      "0 \u0000\n",
      "1 \u0001\n",
      "2 \u0002\n",
      "3 \u0003\n",
      "4 \u0004\n",
      "5 \u0005\n",
      "6 \u0006\n",
      "7 \u0007\n",
      "8\n",
      "9 \t\n",
      "10 \n",
      "\n",
      "11 \u000b\n",
      "12 \f\n",
      "13 \n",
      "14 \u000e\n",
      "15 \u000f\n",
      "16 \u0010\n",
      "17 \u0011\n",
      "18 \u0012\n",
      "19 \u0013\n",
      "20 \u0014\n",
      "21 \u0015\n",
      "22 \u0016\n",
      "23 \u0017\n",
      "24 \u0018\n",
      "25 \u0019\n",
      "26 \u001a\n",
      "27 \u001b\n",
      "28 \u001c\n",
      "29 \u001d\n",
      "30 \u001e\n",
      "31 \u001f\n",
      "32  \n",
      "33 !\n",
      "34 \"\n",
      "35 #\n",
      "36 $\n",
      "37 %\n",
      "38 &\n",
      "39 '\n",
      "40 (\n",
      "41 )\n",
      "42 *\n",
      "43 +\n",
      "44 ,\n",
      "45 -\n",
      "46 .\n",
      "47 /\n",
      "48 0\n",
      "49 1\n",
      "50 2\n",
      "51 3\n",
      "52 4\n",
      "53 5\n",
      "54 6\n",
      "55 7\n",
      "56 8\n",
      "57 9\n",
      "58 :\n",
      "59 ;\n",
      "60 <\n",
      "61 =\n",
      "62 >\n",
      "63 ?\n",
      "64 @\n",
      "65 A\n",
      "66 B\n",
      "67 C\n",
      "68 D\n",
      "69 E\n",
      "70 F\n",
      "71 G\n",
      "72 H\n",
      "73 I\n",
      "74 J\n",
      "75 K\n",
      "76 L\n",
      "77 M\n",
      "78 N\n",
      "79 O\n",
      "80 P\n",
      "81 Q\n",
      "82 R\n",
      "83 S\n",
      "84 T\n",
      "85 U\n",
      "86 V\n",
      "87 W\n",
      "88 X\n",
      "89 Y\n",
      "90 Z\n",
      "91 [\n",
      "92 \\\n",
      "93 ]\n",
      "94 ^\n",
      "95 _\n",
      "96 `\n",
      "97 a\n",
      "98 b\n",
      "99 c\n",
      "100 d\n",
      "101 e\n",
      "102 f\n",
      "103 g\n",
      "104 h\n",
      "105 i\n",
      "106 j\n",
      "107 k\n",
      "108 l\n",
      "109 m\n",
      "110 n\n",
      "111 o\n",
      "112 p\n",
      "113 q\n",
      "114 r\n",
      "115 s\n",
      "116 t\n",
      "117 u\n",
      "118 v\n",
      "119 w\n",
      "120 x\n",
      "121 y\n",
      "122 z\n",
      "123 {\n",
      "124 |\n",
      "125 }\n",
      "126 ~\n",
      "127 \n"
     ]
    }
   ],
   "source": [
    "for i in range(0, 128):\n",
    "    print(i, chr(i))"
   ]
  },
  {
   "cell_type": "code",
   "execution_count": 12,
   "metadata": {},
   "outputs": [
    {
     "name": "stdout",
     "output_type": "stream",
     "text": [
      "3000 ஸ\n",
      "3001 ஹ\n",
      "3002 ஺\n",
      "3003 ஻\n",
      "3004 ஼\n",
      "3005 ஽\n",
      "3006 ா\n",
      "3007 ி\n",
      "3008 ீ\n",
      "3009 ு\n",
      "3010 ூ\n",
      "3011 ௃\n",
      "3012 ௄\n",
      "3013 ௅\n",
      "3014 ெ\n",
      "3015 ே\n",
      "3016 ை\n",
      "3017 ௉\n",
      "3018 ொ\n",
      "3019 ோ\n",
      "3020 ௌ\n",
      "3021 ்\n",
      "3022 ௎\n",
      "3023 ௏\n",
      "3024 ௐ\n",
      "3025 ௑\n",
      "3026 ௒\n",
      "3027 ௓\n",
      "3028 ௔\n",
      "3029 ௕\n",
      "3030 ௖\n",
      "3031 ௗ\n",
      "3032 ௘\n",
      "3033 ௙\n",
      "3034 ௚\n",
      "3035 ௛\n",
      "3036 ௜\n",
      "3037 ௝\n",
      "3038 ௞\n",
      "3039 ௟\n",
      "3040 ௠\n",
      "3041 ௡\n",
      "3042 ௢\n",
      "3043 ௣\n",
      "3044 ௤\n",
      "3045 ௥\n",
      "3046 ௦\n",
      "3047 ௧\n",
      "3048 ௨\n",
      "3049 ௩\n",
      "3050 ௪\n",
      "3051 ௫\n",
      "3052 ௬\n",
      "3053 ௭\n",
      "3054 ௮\n",
      "3055 ௯\n",
      "3056 ௰\n",
      "3057 ௱\n",
      "3058 ௲\n",
      "3059 ௳\n",
      "3060 ௴\n",
      "3061 ௵\n",
      "3062 ௶\n",
      "3063 ௷\n",
      "3064 ௸\n",
      "3065 ௹\n",
      "3066 ௺\n",
      "3067 ௻\n",
      "3068 ௼\n",
      "3069 ௽\n",
      "3070 ௾\n",
      "3071 ௿\n",
      "3072 ఀ\n",
      "3073 ఁ\n",
      "3074 ం\n",
      "3075 ః\n",
      "3076 ఄ\n",
      "3077 అ\n",
      "3078 ఆ\n",
      "3079 ఇ\n",
      "3080 ఈ\n",
      "3081 ఉ\n",
      "3082 ఊ\n",
      "3083 ఋ\n",
      "3084 ఌ\n",
      "3085 ఍\n",
      "3086 ఎ\n",
      "3087 ఏ\n",
      "3088 ఐ\n",
      "3089 ఑\n",
      "3090 ఒ\n",
      "3091 ఓ\n",
      "3092 ఔ\n",
      "3093 క\n",
      "3094 ఖ\n",
      "3095 గ\n",
      "3096 ఘ\n",
      "3097 ఙ\n",
      "3098 చ\n",
      "3099 ఛ\n",
      "3100 జ\n",
      "3101 ఝ\n",
      "3102 ఞ\n",
      "3103 ట\n",
      "3104 ఠ\n",
      "3105 డ\n",
      "3106 ఢ\n",
      "3107 ణ\n",
      "3108 త\n",
      "3109 థ\n",
      "3110 ద\n",
      "3111 ధ\n",
      "3112 న\n",
      "3113 ఩\n",
      "3114 ప\n",
      "3115 ఫ\n",
      "3116 బ\n",
      "3117 భ\n",
      "3118 మ\n",
      "3119 య\n",
      "3120 ర\n",
      "3121 ఱ\n",
      "3122 ల\n",
      "3123 ళ\n",
      "3124 ఴ\n",
      "3125 వ\n",
      "3126 శ\n",
      "3127 ష\n",
      "3128 స\n",
      "3129 హ\n",
      "3130 ఺\n",
      "3131 ఻\n",
      "3132 ఼\n",
      "3133 ఽ\n",
      "3134 ా\n",
      "3135 ి\n",
      "3136 ీ\n",
      "3137 ు\n",
      "3138 ూ\n",
      "3139 ృ\n",
      "3140 ౄ\n",
      "3141 ౅\n",
      "3142 ె\n",
      "3143 ే\n",
      "3144 ై\n",
      "3145 ౉\n",
      "3146 ొ\n",
      "3147 ో\n",
      "3148 ౌ\n",
      "3149 ్\n",
      "3150 ౎\n",
      "3151 ౏\n",
      "3152 ౐\n",
      "3153 ౑\n",
      "3154 ౒\n",
      "3155 ౓\n",
      "3156 ౔\n",
      "3157 ౕ\n",
      "3158 ౖ\n",
      "3159 ౗\n",
      "3160 ౘ\n",
      "3161 ౙ\n",
      "3162 ౚ\n",
      "3163 ౛\n",
      "3164 ౜\n",
      "3165 ౝ\n",
      "3166 ౞\n",
      "3167 ౟\n",
      "3168 ౠ\n",
      "3169 ౡ\n",
      "3170 ౢ\n",
      "3171 ౣ\n",
      "3172 ౤\n",
      "3173 ౥\n",
      "3174 ౦\n",
      "3175 ౧\n",
      "3176 ౨\n",
      "3177 ౩\n",
      "3178 ౪\n",
      "3179 ౫\n",
      "3180 ౬\n",
      "3181 ౭\n",
      "3182 ౮\n",
      "3183 ౯\n",
      "3184 ౰\n",
      "3185 ౱\n",
      "3186 ౲\n",
      "3187 ౳\n",
      "3188 ౴\n",
      "3189 ౵\n",
      "3190 ౶\n",
      "3191 ౷\n",
      "3192 ౸\n",
      "3193 ౹\n",
      "3194 ౺\n",
      "3195 ౻\n",
      "3196 ౼\n",
      "3197 ౽\n",
      "3198 ౾\n",
      "3199 ౿\n",
      "3200 ಀ\n",
      "3201 ಁ\n",
      "3202 ಂ\n",
      "3203 ಃ\n",
      "3204 ಄\n",
      "3205 ಅ\n",
      "3206 ಆ\n",
      "3207 ಇ\n",
      "3208 ಈ\n",
      "3209 ಉ\n",
      "3210 ಊ\n",
      "3211 ಋ\n",
      "3212 ಌ\n",
      "3213 ಍\n",
      "3214 ಎ\n",
      "3215 ಏ\n",
      "3216 ಐ\n",
      "3217 ಑\n",
      "3218 ಒ\n",
      "3219 ಓ\n",
      "3220 ಔ\n",
      "3221 ಕ\n",
      "3222 ಖ\n",
      "3223 ಗ\n",
      "3224 ಘ\n",
      "3225 ಙ\n",
      "3226 ಚ\n",
      "3227 ಛ\n",
      "3228 ಜ\n",
      "3229 ಝ\n",
      "3230 ಞ\n",
      "3231 ಟ\n",
      "3232 ಠ\n",
      "3233 ಡ\n",
      "3234 ಢ\n",
      "3235 ಣ\n",
      "3236 ತ\n",
      "3237 ಥ\n",
      "3238 ದ\n",
      "3239 ಧ\n",
      "3240 ನ\n",
      "3241 ಩\n",
      "3242 ಪ\n",
      "3243 ಫ\n",
      "3244 ಬ\n",
      "3245 ಭ\n",
      "3246 ಮ\n",
      "3247 ಯ\n",
      "3248 ರ\n",
      "3249 ಱ\n",
      "3250 ಲ\n",
      "3251 ಳ\n",
      "3252 ಴\n",
      "3253 ವ\n",
      "3254 ಶ\n",
      "3255 ಷ\n",
      "3256 ಸ\n",
      "3257 ಹ\n",
      "3258 ಺\n",
      "3259 ಻\n",
      "3260 ಼\n",
      "3261 ಽ\n",
      "3262 ಾ\n",
      "3263 ಿ\n",
      "3264 ೀ\n",
      "3265 ು\n",
      "3266 ೂ\n",
      "3267 ೃ\n",
      "3268 ೄ\n",
      "3269 ೅\n",
      "3270 ೆ\n",
      "3271 ೇ\n",
      "3272 ೈ\n",
      "3273 ೉\n",
      "3274 ೊ\n",
      "3275 ೋ\n",
      "3276 ೌ\n",
      "3277 ್\n",
      "3278 ೎\n",
      "3279 ೏\n",
      "3280 ೐\n",
      "3281 ೑\n",
      "3282 ೒\n",
      "3283 ೓\n",
      "3284 ೔\n",
      "3285 ೕ\n",
      "3286 ೖ\n",
      "3287 ೗\n",
      "3288 ೘\n",
      "3289 ೙\n",
      "3290 ೚\n",
      "3291 ೛\n",
      "3292 ೜\n",
      "3293 ೝ\n",
      "3294 ೞ\n",
      "3295 ೟\n",
      "3296 ೠ\n",
      "3297 ೡ\n",
      "3298 ೢ\n",
      "3299 ೣ\n",
      "3300 ೤\n",
      "3301 ೥\n",
      "3302 ೦\n",
      "3303 ೧\n",
      "3304 ೨\n",
      "3305 ೩\n",
      "3306 ೪\n",
      "3307 ೫\n",
      "3308 ೬\n",
      "3309 ೭\n",
      "3310 ೮\n",
      "3311 ೯\n",
      "3312 ೰\n",
      "3313 ೱ\n",
      "3314 ೲ\n",
      "3315 ೳ\n",
      "3316 ೴\n",
      "3317 ೵\n",
      "3318 ೶\n",
      "3319 ೷\n",
      "3320 ೸\n",
      "3321 ೹\n",
      "3322 ೺\n",
      "3323 ೻\n",
      "3324 ೼\n",
      "3325 ೽\n",
      "3326 ೾\n",
      "3327 ೿\n",
      "3328 ഀ\n",
      "3329 ഁ\n",
      "3330 ം\n",
      "3331 ഃ\n",
      "3332 ഄ\n",
      "3333 അ\n",
      "3334 ആ\n",
      "3335 ഇ\n",
      "3336 ഈ\n",
      "3337 ഉ\n",
      "3338 ഊ\n",
      "3339 ഋ\n",
      "3340 ഌ\n",
      "3341 ഍\n",
      "3342 എ\n",
      "3343 ഏ\n",
      "3344 ഐ\n",
      "3345 ഑\n",
      "3346 ഒ\n",
      "3347 ഓ\n",
      "3348 ഔ\n",
      "3349 ക\n",
      "3350 ഖ\n",
      "3351 ഗ\n",
      "3352 ഘ\n",
      "3353 ങ\n",
      "3354 ച\n",
      "3355 ഛ\n",
      "3356 ജ\n",
      "3357 ഝ\n",
      "3358 ഞ\n",
      "3359 ട\n",
      "3360 ഠ\n",
      "3361 ഡ\n",
      "3362 ഢ\n",
      "3363 ണ\n",
      "3364 ത\n",
      "3365 ഥ\n",
      "3366 ദ\n",
      "3367 ധ\n",
      "3368 ന\n",
      "3369 ഩ\n",
      "3370 പ\n",
      "3371 ഫ\n",
      "3372 ബ\n",
      "3373 ഭ\n",
      "3374 മ\n",
      "3375 യ\n",
      "3376 ര\n",
      "3377 റ\n",
      "3378 ല\n",
      "3379 ള\n",
      "3380 ഴ\n",
      "3381 വ\n",
      "3382 ശ\n",
      "3383 ഷ\n",
      "3384 സ\n",
      "3385 ഹ\n",
      "3386 ഺ\n",
      "3387 ഻\n",
      "3388 ഼\n",
      "3389 ഽ\n",
      "3390 ാ\n",
      "3391 ി\n",
      "3392 ീ\n",
      "3393 ു\n",
      "3394 ൂ\n",
      "3395 ൃ\n",
      "3396 ൄ\n",
      "3397 ൅\n",
      "3398 െ\n",
      "3399 േ\n",
      "3400 ൈ\n",
      "3401 ൉\n",
      "3402 ൊ\n",
      "3403 ോ\n",
      "3404 ൌ\n",
      "3405 ്\n",
      "3406 ൎ\n",
      "3407 ൏\n",
      "3408 ൐\n",
      "3409 ൑\n",
      "3410 ൒\n",
      "3411 ൓\n",
      "3412 ൔ\n",
      "3413 ൕ\n",
      "3414 ൖ\n",
      "3415 ൗ\n",
      "3416 ൘\n",
      "3417 ൙\n",
      "3418 ൚\n",
      "3419 ൛\n",
      "3420 ൜\n",
      "3421 ൝\n",
      "3422 ൞\n",
      "3423 ൟ\n",
      "3424 ൠ\n",
      "3425 ൡ\n",
      "3426 ൢ\n",
      "3427 ൣ\n",
      "3428 ൤\n",
      "3429 ൥\n",
      "3430 ൦\n",
      "3431 ൧\n",
      "3432 ൨\n",
      "3433 ൩\n",
      "3434 ൪\n",
      "3435 ൫\n",
      "3436 ൬\n",
      "3437 ൭\n",
      "3438 ൮\n",
      "3439 ൯\n",
      "3440 ൰\n",
      "3441 ൱\n",
      "3442 ൲\n",
      "3443 ൳\n",
      "3444 ൴\n",
      "3445 ൵\n",
      "3446 ൶\n",
      "3447 ൷\n",
      "3448 ൸\n",
      "3449 ൹\n",
      "3450 ൺ\n",
      "3451 ൻ\n",
      "3452 ർ\n",
      "3453 ൽ\n",
      "3454 ൾ\n",
      "3455 ൿ\n",
      "3456 ඀\n",
      "3457 ඁ\n",
      "3458 ං\n",
      "3459 ඃ\n",
      "3460 ඄\n",
      "3461 අ\n",
      "3462 ආ\n",
      "3463 ඇ\n",
      "3464 ඈ\n",
      "3465 ඉ\n",
      "3466 ඊ\n",
      "3467 උ\n",
      "3468 ඌ\n",
      "3469 ඍ\n",
      "3470 ඎ\n",
      "3471 ඏ\n",
      "3472 ඐ\n",
      "3473 එ\n",
      "3474 ඒ\n",
      "3475 ඓ\n",
      "3476 ඔ\n",
      "3477 ඕ\n",
      "3478 ඖ\n",
      "3479 ඗\n",
      "3480 ඘\n",
      "3481 ඙\n",
      "3482 ක\n",
      "3483 ඛ\n",
      "3484 ග\n",
      "3485 ඝ\n",
      "3486 ඞ\n",
      "3487 ඟ\n",
      "3488 ච\n",
      "3489 ඡ\n",
      "3490 ජ\n",
      "3491 ඣ\n",
      "3492 ඤ\n",
      "3493 ඥ\n",
      "3494 ඦ\n",
      "3495 ට\n",
      "3496 ඨ\n",
      "3497 ඩ\n",
      "3498 ඪ\n",
      "3499 ණ\n"
     ]
    }
   ],
   "source": [
    "for i in range(3000, 3500):\n",
    "    print(i, chr(i))"
   ]
  },
  {
   "cell_type": "code",
   "execution_count": 13,
   "metadata": {},
   "outputs": [
    {
     "name": "stdout",
     "output_type": "stream",
     "text": [
      "sys.maxunicode =1114111\n"
     ]
    }
   ],
   "source": [
    "import sys\n",
    "\n",
    "print(f\"{sys.maxunicode =}\")"
   ]
  },
  {
   "cell_type": "code",
   "execution_count": 14,
   "metadata": {},
   "outputs": [
    {
     "data": {
      "text/plain": [
       "'\\U0010ffff'"
      ]
     },
     "execution_count": 14,
     "metadata": {},
     "output_type": "execute_result"
    }
   ],
   "source": [
    "chr(1114111)"
   ]
  },
  {
   "cell_type": "code",
   "execution_count": 15,
   "metadata": {},
   "outputs": [
    {
     "ename": "ValueError",
     "evalue": "chr() arg not in range(0x110000)",
     "output_type": "error",
     "traceback": [
      "\u001b[0;31m---------------------------------------------------------------------------\u001b[0m",
      "\u001b[0;31mValueError\u001b[0m                                Traceback (most recent call last)",
      "Cell \u001b[0;32mIn[15], line 1\u001b[0m\n\u001b[0;32m----> 1\u001b[0m \u001b[39mchr\u001b[39;49m(\u001b[39m1114111\u001b[39;49m\u001b[39m+\u001b[39;49m\u001b[39m1\u001b[39;49m)\n",
      "\u001b[0;31mValueError\u001b[0m: chr() arg not in range(0x110000)"
     ]
    }
   ],
   "source": [
    "chr(1114111 + 1)"
   ]
  },
  {
   "cell_type": "code",
   "execution_count": 16,
   "metadata": {},
   "outputs": [
    {
     "name": "stdout",
     "output_type": "stream",
     "text": [
      "₹\n",
      "Ǝ\n"
     ]
    }
   ],
   "source": [
    "# \\uXXX - unicode character\n",
    "print(\"\\u20B9\")  # ₹\n",
    "print(\"\\u018e\")  # Ǝ"
   ]
  },
  {
   "cell_type": "code",
   "execution_count": 17,
   "metadata": {},
   "outputs": [
    {
     "name": "stdout",
     "output_type": "stream",
     "text": [
      "noël\n"
     ]
    }
   ],
   "source": [
    "print(\"noe\\u0308l\")  # noël"
   ]
  },
  {
   "cell_type": "code",
   "execution_count": 18,
   "metadata": {},
   "outputs": [
    {
     "name": "stdout",
     "output_type": "stream",
     "text": [
      "&\n",
      "$\n",
      "ñ\n"
     ]
    }
   ],
   "source": [
    "print(\"\\046\")\n",
    "# \\x... - hexadecimal number\n",
    "print(\"\\x24\")\n",
    "print(\"\\xf1\")"
   ]
  },
  {
   "cell_type": "code",
   "execution_count": 19,
   "metadata": {},
   "outputs": [
    {
     "name": "stdout",
     "output_type": "stream",
     "text": [
      "\n",
      "57344\n"
     ]
    }
   ],
   "source": [
    "# One-character Unicode strings can also be created with the chr() built-in function\n",
    "print(chr(57344))  # '\\ue000'\n",
    "print(ord(\"\\ue000\"))  # 57344"
   ]
  },
  {
   "cell_type": "code",
   "execution_count": 20,
   "metadata": {},
   "outputs": [],
   "source": [
    "##     Ref: https://docs.python.org/3/howto/unicode.html"
   ]
  },
  {
   "cell_type": "code",
   "execution_count": 21,
   "metadata": {},
   "outputs": [
    {
     "name": "stdout",
     "output_type": "stream",
     "text": [
      "Δ\n",
      "Δ\n",
      "Δ\n"
     ]
    }
   ],
   "source": [
    "print(\"\\N{GREEK CAPITAL LETTER DELTA}\")  # '\\u0394' - Using the character name\n",
    "print(\"\\u0394\")  # '\\u0394' - Using a 16-bit hex value\n",
    "print(\"\\U00000394\")  # '\\u0394' - Using a 32-bit hex value"
   ]
  },
  {
   "cell_type": "code",
   "execution_count": 22,
   "metadata": {},
   "outputs": [
    {
     "name": "stdout",
     "output_type": "stream",
     "text": [
      "�abc\n",
      "\\x80abc\n",
      "abc\n"
     ]
    }
   ],
   "source": [
    "# bytes to str\n",
    "print(b\"\\x80abc\".decode(\"utf-8\", \"replace\"))  # '\\ufffdabc'\n",
    "print(b\"\\x80abc\".decode(\"utf-8\", \"backslashreplace\"))  # '\\\\x80abc'\n",
    "print(b\"\\x80abc\".decode(\"utf-8\", \"ignore\"))  # 'abc'"
   ]
  },
  {
   "cell_type": "code",
   "execution_count": 23,
   "metadata": {},
   "outputs": [
    {
     "name": "stdout",
     "output_type": "stream",
     "text": [
      "ꀀabcd޴ <class 'str'>\n"
     ]
    }
   ],
   "source": [
    "# str to bytes\n",
    "u = chr(40960) + \"abcd\" + chr(1972)\n",
    "print(u, type(u))"
   ]
  },
  {
   "cell_type": "code",
   "execution_count": 24,
   "metadata": {},
   "outputs": [
    {
     "data": {
      "text/plain": [
       "b'\\xea\\x80\\x80abcd\\xde\\xb4'"
      ]
     },
     "execution_count": 24,
     "metadata": {},
     "output_type": "execute_result"
    }
   ],
   "source": [
    "u.encode(\"utf-8\")"
   ]
  },
  {
   "cell_type": "code",
   "execution_count": 25,
   "metadata": {},
   "outputs": [
    {
     "name": "stdout",
     "output_type": "stream",
     "text": [
      "b'abcd'\n",
      "b'?abcd?'\n",
      "b'&#40960;abcd&#1972;'\n"
     ]
    }
   ],
   "source": [
    "print(u.encode(\"ascii\", \"ignore\"))  # b'abcd'\n",
    "print(u.encode(\"ascii\", \"replace\"))  # b'?abcd?'\n",
    "print(u.encode(\"ascii\", \"xmlcharrefreplace\"))  # b'&#40960;abcd&#1972;'"
   ]
  },
  {
   "cell_type": "code",
   "execution_count": 26,
   "metadata": {},
   "outputs": [
    {
     "name": "stdout",
     "output_type": "stream",
     "text": [
      "b'\\\\ua000abcd\\\\u07b4'\n",
      "b'\\\\N{YI SYLLABLE IT}abcd\\\\u07b4'\n"
     ]
    }
   ],
   "source": [
    "print(u.encode(\"ascii\", \"backslashreplace\"))\n",
    "print(u.encode(\"ascii\", \"namereplace\"))  # b'\\\\N{YI SYLLABLE IT}abcd\\\\u07b4'"
   ]
  },
  {
   "cell_type": "code",
   "execution_count": null,
   "metadata": {},
   "outputs": [],
   "source": []
  }
 ],
 "metadata": {
  "kernelspec": {
   "display_name": "Python 3",
   "language": "python",
   "name": "python3"
  },
  "language_info": {
   "codemirror_mode": {
    "name": "ipython",
    "version": 3
   },
   "file_extension": ".py",
   "mimetype": "text/x-python",
   "name": "python",
   "nbconvert_exporter": "python",
   "pygments_lexer": "ipython3",
   "version": "3.10.4"
  },
  "orig_nbformat": 4
 },
 "nbformat": 4,
 "nbformat_minor": 2
}
