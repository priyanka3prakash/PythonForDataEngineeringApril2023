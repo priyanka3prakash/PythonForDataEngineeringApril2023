{
 "cells": [
  {
   "cell_type": "code",
   "execution_count": 1,
   "metadata": {},
   "outputs": [
    {
     "name": "stdout",
     "output_type": "stream",
     "text": [
      "\n",
      "        Hi Hitesh!\n",
      "        Thank yu for shopping at XYZ mall.\n",
      "        Rupees 1000.340000 was debited from your credit card ending with xxx345.\n",
      "\n",
      "        Shop again.\n",
      "        If you didn't do transcation reach out at contact@somebanck.com\n",
      "        \n"
     ]
    }
   ],
   "source": [
    "# case 1 - old style formatting\n",
    "\n",
    "print(\n",
    "    \"\"\"\n",
    "        Hi %s!\n",
    "        Thank yu for shopping at XYZ mall.\n",
    "        Rupees %f was debited from your credit card ending with xxx%d.\n",
    "\n",
    "        Shop again.\n",
    "        If you didn't do transcation reach out at contact@somebanck.com\n",
    "        \"\"\"\n",
    "    % (\"Hitesh\", 1000.34, 345)\n",
    ")"
   ]
  },
  {
   "cell_type": "code",
   "execution_count": 3,
   "metadata": {},
   "outputs": [
    {
     "name": "stdout",
     "output_type": "stream",
     "text": [
      "\n",
      "        Hi Hitesh!\n",
      "        Thank yu for shopping at XYZ mall.\n",
      "        Rupees 1000.34 was debited from your credit card ending with xxx345.\n",
      "\n",
      "        Shop again.\n",
      "        If you didn't do transcation reach out at contact@somebanck.com\n",
      "        \n"
     ]
    }
   ],
   "source": [
    "# case 2 - old style formating with formating\n",
    "print(\n",
    "    \"\"\"\n",
    "        Hi %5s!\n",
    "        Thank yu for shopping at XYZ mall.\n",
    "        Rupees %5.2f was debited from your credit card ending with xxx%d.\n",
    "\n",
    "        Shop again.\n",
    "        If you didn't do transcation reach out at contact@somebanck.com\n",
    "        \"\"\"\n",
    "    % (\"Hitesh\", 1000.34, 345)\n",
    ")"
   ]
  },
  {
   "cell_type": "code",
   "execution_count": 4,
   "metadata": {},
   "outputs": [
    {
     "name": "stdout",
     "output_type": "stream",
     "text": [
      "\n",
      "        Hi Hitesh!\n",
      "        Thank yu for shopping at XYZ mall.\n",
      "        Rupees 1000.34 was debited from your credit card ending with xxx345.\n",
      "\n",
      "        Shop again.\n",
      "        If you didn't do transcation reach out at contact@somebanck.com\n",
      "        Thank you Hitesh\n",
      "        \n"
     ]
    }
   ],
   "source": [
    "# case 3 -- new stye formatting\n",
    "print(\n",
    "    \"\"\"\n",
    "        Hi {}!\n",
    "        Thank yu for shopping at XYZ mall.\n",
    "        Rupees {} was debited from your credit card ending with xxx{}.\n",
    "\n",
    "        Shop again.\n",
    "        If you didn't do transcation reach out at contact@somebanck.com\n",
    "        Thank you {}\n",
    "        \"\"\".format(\n",
    "        \"Hitesh\", 1000.34, \"345\", \"Hitesh\"\n",
    "    )\n",
    ")"
   ]
  },
  {
   "cell_type": "code",
   "execution_count": 6,
   "metadata": {},
   "outputs": [
    {
     "name": "stdout",
     "output_type": "stream",
     "text": [
      "\n",
      "        Hi Hitesh!\n",
      "        Thank yu for shopping at XYZ mall.\n",
      "        Rupees 1000.34 was debited from your credit card ending with xxx345.\n",
      "\n",
      "        Shop again.\n",
      "        If you didn't do transcation reach out at contact@somebanck.com\n",
      "        Thank you Hitesh\n",
      "        \n"
     ]
    }
   ],
   "source": [
    "# case 4 -- new stye formatting with indexing\n",
    "print(\n",
    "    \"\"\"\n",
    "        Hi {0}!\n",
    "        Thank yu for shopping at XYZ mall.\n",
    "        Rupees {1} was debited from your credit card ending with xxx{2}.\n",
    "\n",
    "        Shop again.\n",
    "        If you didn't do transcation reach out at contact@somebanck.com\n",
    "        Thank you {3}\n",
    "        \"\"\".format(\n",
    "        \"Hitesh\", 1000.34, \"345\", \"Hitesh\"\n",
    "    )\n",
    "    #            0         1        2       3\n",
    ")"
   ]
  },
  {
   "cell_type": "code",
   "execution_count": 7,
   "metadata": {},
   "outputs": [
    {
     "name": "stdout",
     "output_type": "stream",
     "text": [
      "\n",
      "        Hi Hitesh!\n",
      "        Thank yu for shopping at XYZ mall.\n",
      "        Rupees 1000.34 was debited from your credit card ending with xxx345.\n",
      "\n",
      "        Shop again.\n",
      "        If you didn't do transcation reach out at contact@somebanck.com\n",
      "        Thank you Hitesh\n",
      "        \n"
     ]
    }
   ],
   "source": [
    "# case 5 -- new stye formatting with indexing\n",
    "print(\n",
    "    \"\"\"\n",
    "        Hi {0}!\n",
    "        Thank yu for shopping at XYZ mall.\n",
    "        Rupees {1} was debited from your credit card ending with xxx{2}.\n",
    "\n",
    "        Shop again.\n",
    "        If you didn't do transcation reach out at contact@somebanck.com\n",
    "        Thank you {0}\n",
    "        \"\"\".format(\n",
    "        \"Hitesh\", 1000.34, \"345\"\n",
    "    )\n",
    "    #            0         1        2\n",
    ")"
   ]
  },
  {
   "cell_type": "code",
   "execution_count": 8,
   "metadata": {},
   "outputs": [
    {
     "name": "stdout",
     "output_type": "stream",
     "text": [
      "\n",
      "        Hi Hitesh!\n",
      "        Thank yu for shopping at XYZ mall.\n",
      "        Rupees 1000.34 was debited from your credit card ending with xxx345.\n",
      "\n",
      "        Shop again.\n",
      "        If you didn't do transcation reach out at contact@somebanck.com\n",
      "        Thank you Hitesh\n",
      "        \n"
     ]
    }
   ],
   "source": [
    "# case 6 -- new stye formatting with LABELLING\n",
    "print(\n",
    "    \"\"\"\n",
    "        Hi {NAME}!\n",
    "        Thank yu for shopping at XYZ mall.\n",
    "        Rupees {AMOUNT} was debited from your credit card ending with xxx{CARD_NO}.\n",
    "\n",
    "        Shop again.\n",
    "        If you didn't do transcation reach out at contact@somebanck.com\n",
    "        Thank you {NAME}\n",
    "        \"\"\".format(\n",
    "        NAME=\"Hitesh\", AMOUNT=1000.34, CARD_NO=345\n",
    "    )\n",
    ")"
   ]
  },
  {
   "cell_type": "code",
   "execution_count": 11,
   "metadata": {},
   "outputs": [
    {
     "name": "stdout",
     "output_type": "stream",
     "text": [
      "\n",
      "        Hi Hitesh!\n",
      "        Thank yu for shopping at XYZ mall.\n",
      "        Rupees 1000.34 was debited from your credit card ending with xxx345.\n",
      "\n",
      "        Shop again.\n",
      "        If you didn't do transcation reach out at contact@somebanck.com\n",
      "        Thank you Hitesh\n",
      "        \n"
     ]
    }
   ],
   "source": [
    "# case 7 -- new stye formatting with LABELLING - with dict\n",
    "\n",
    "customer_record = {\"NAME\": \"Hitesh\", \"AMOUNT\": 1000.34, \"CARD_NO\": 345}\n",
    "\n",
    "\n",
    "print(\n",
    "    \"\"\"\n",
    "        Hi {NAME}!\n",
    "        Thank yu for shopping at XYZ mall.\n",
    "        Rupees {AMOUNT} was debited from your credit card ending with xxx{CARD_NO}.\n",
    "\n",
    "        Shop again.\n",
    "        If you didn't do transcation reach out at contact@somebanck.com\n",
    "        Thank you {NAME}\n",
    "        \"\"\".format(\n",
    "        **customer_record\n",
    "    )  # DICT UNPACKING\n",
    ")"
   ]
  },
  {
   "cell_type": "code",
   "execution_count": 12,
   "metadata": {},
   "outputs": [
    {
     "name": "stdout",
     "output_type": "stream",
     "text": [
      "\n",
      "        Hi Hitesh!\n",
      "        Thank yu for shopping at XYZ mall.\n",
      "        Rupees 1000.34 was debited from your credit card ending with xxx345.\n",
      "\n",
      "        Shop again.\n",
      "        If you didn't do transcation reach out at contact@somebanck.com\n",
      "        Thank you Hitesh\n",
      "        \n"
     ]
    }
   ],
   "source": [
    "# case 8 -- new stye formatting with LABELLING - with dict - withformatmap\n",
    "\n",
    "customer_record = {\"NAME\": \"Hitesh\", \"AMOUNT\": 1000.34, \"CARD_NO\": 345}\n",
    "\n",
    "\n",
    "print(\n",
    "    \"\"\"\n",
    "        Hi {NAME}!\n",
    "        Thank yu for shopping at XYZ mall.\n",
    "        Rupees {AMOUNT} was debited from your credit card ending with xxx{CARD_NO}.\n",
    "\n",
    "        Shop again.\n",
    "        If you didn't do transcation reach out at contact@somebanck.com\n",
    "        Thank you {NAME}\n",
    "        \"\"\".format_map(\n",
    "        customer_record\n",
    "    )\n",
    ")"
   ]
  },
  {
   "cell_type": "code",
   "execution_count": 13,
   "metadata": {},
   "outputs": [
    {
     "name": "stdout",
     "output_type": "stream",
     "text": [
      "\n",
      "        Hi Hitesh!\n",
      "        Thank yu for shopping at XYZ mall.\n",
      "        Rupees 1000.34 was debited from your credit card ending with xxx345.\n",
      "\n",
      "        Shop again.\n",
      "        If you didn't do transcation reach out at contact@somebanck.com\n",
      "        Thank you Hitesh\n",
      "        \n"
     ]
    }
   ],
   "source": [
    "# case 8 -- F-string\n",
    "\n",
    "NAME = \"Hitesh\"\n",
    "AMOUNT = 1000.34\n",
    "CARD_NO = 345\n",
    "\n",
    "\n",
    "print(\n",
    "    f\"\"\"\n",
    "        Hi {NAME}!\n",
    "        Thank yu for shopping at XYZ mall.\n",
    "        Rupees {AMOUNT} was debited from your credit card ending with xxx{CARD_NO}.\n",
    "\n",
    "        Shop again.\n",
    "        If you didn't do transcation reach out at contact@somebanck.com\n",
    "        Thank you {NAME}\n",
    "        \"\"\"\n",
    ")"
   ]
  },
  {
   "cell_type": "code",
   "execution_count": 14,
   "metadata": {},
   "outputs": [
    {
     "name": "stdout",
     "output_type": "stream",
     "text": [
      "\n",
      "        Hi HITESH!\n",
      "        Thank yu for shopping at XYZ mall.\n",
      "        Rupees 1000.34 was debited from your credit card ending with xxx345.\n",
      "\n",
      "        Shop again.\n",
      "        If you didn't do transcation reach out at contact@somebanck.com\n",
      "        Thank you Hitesh\n",
      "        \n"
     ]
    }
   ],
   "source": [
    "# case 9 -- F-string with operations\n",
    "\n",
    "NAME = \"Hitesh\"\n",
    "AMOUNT = 1000.34\n",
    "CARD_NO = 345\n",
    "\n",
    "\n",
    "print(\n",
    "    f\"\"\"\n",
    "        Hi {NAME.upper()}!\n",
    "        Thank yu for shopping at XYZ mall.\n",
    "        Rupees {AMOUNT} was debited from your credit card ending with xxx{CARD_NO}.\n",
    "\n",
    "        Shop again.\n",
    "        If you didn't do transcation reach out at contact@somebanck.com\n",
    "        Thank you {NAME.title()}\n",
    "        \"\"\"\n",
    ")"
   ]
  },
  {
   "cell_type": "code",
   "execution_count": 15,
   "metadata": {},
   "outputs": [
    {
     "name": "stdout",
     "output_type": "stream",
     "text": [
      "\n",
      "        Hi NAME.upper() ='HITESH'!\n",
      "        Thank yu for shopping at XYZ mall.\n",
      "        Rupees AMOUNT =1000.34 was debited from your credit card ending with xxx345.\n",
      "\n",
      "        Shop again.\n",
      "        If you didn't do transcation reach out at contact@somebanck.com\n",
      "        Thank you NAME.title() ='Hitesh'\n",
      "        \n"
     ]
    }
   ],
   "source": [
    "# case 10 -- F-string assignments with operations\n",
    "\n",
    "NAME = \"Hitesh\"\n",
    "AMOUNT = 1000.34\n",
    "CARD_NO = 345\n",
    "\n",
    "\n",
    "print(\n",
    "    f\"\"\"\n",
    "        Hi {NAME.upper() =}!\n",
    "        Thank yu for shopping at XYZ mall.\n",
    "        Rupees {AMOUNT =} was debited from your credit card ending with xxx{CARD_NO}.\n",
    "\n",
    "        Shop again.\n",
    "        If you didn't do transcation reach out at contact@somebanck.com\n",
    "        Thank you {NAME.title() =}\n",
    "        \"\"\"\n",
    ")"
   ]
  },
  {
   "cell_type": "code",
   "execution_count": null,
   "metadata": {},
   "outputs": [],
   "source": []
  }
 ],
 "metadata": {
  "kernelspec": {
   "display_name": "Python 3",
   "language": "python",
   "name": "python3"
  },
  "language_info": {
   "codemirror_mode": {
    "name": "ipython",
    "version": 3
   },
   "file_extension": ".py",
   "mimetype": "text/x-python",
   "name": "python",
   "nbconvert_exporter": "python",
   "pygments_lexer": "ipython3",
   "version": "3.10.4"
  },
  "orig_nbformat": 4
 },
 "nbformat": 4,
 "nbformat_minor": 2
}
