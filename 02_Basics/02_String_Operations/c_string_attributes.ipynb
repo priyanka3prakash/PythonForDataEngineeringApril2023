{
 "cells": [
  {
   "attachments": {},
   "cell_type": "markdown",
   "metadata": {},
   "source": [
    "## String Attributes\n",
    "\n",
    "\n",
    "    Objects\n",
    "        1. Pen\n",
    "            -usage: writing, drawing, ....\n",
    "        2. Mobile\n",
    "            -usage: communication, messaging, watch videos,\n",
    "                    playing\n",
    "\n",
    "    string \n",
    "        - usage -- dir()"
   ]
  },
  {
   "cell_type": "code",
   "execution_count": 1,
   "metadata": {},
   "outputs": [
    {
     "name": "stdout",
     "output_type": "stream",
     "text": [
      "language       =  Python Programming\n",
      "type(language) =  <class 'str'>\n"
     ]
    }
   ],
   "source": [
    "language = \"Python Programming\"\n",
    "print(\"language       = \", language)\n",
    "print(\"type(language) = \", type(language))"
   ]
  },
  {
   "cell_type": "code",
   "execution_count": 2,
   "metadata": {},
   "outputs": [
    {
     "name": "stdout",
     "output_type": "stream",
     "text": [
      "len(language)  =  18\n",
      "id(language)   =  140593957580640\n"
     ]
    }
   ],
   "source": [
    "print(\"len(language)  = \", len(language))\n",
    "print(\"id(language)   = \", id(language))  # address location"
   ]
  },
  {
   "cell_type": "code",
   "execution_count": 3,
   "metadata": {},
   "outputs": [
    {
     "name": "stdout",
     "output_type": "stream",
     "text": [
      "String Attributes\n",
      "dir(language) : ['__add__', '__class__', '__contains__', '__delattr__', '__dir__', '__doc__', '__eq__', '__format__', '__ge__', '__getattribute__', '__getitem__', '__getnewargs__', '__gt__', '__hash__', '__init__', '__init_subclass__', '__iter__', '__le__', '__len__', '__lt__', '__mod__', '__mul__', '__ne__', '__new__', '__reduce__', '__reduce_ex__', '__repr__', '__rmod__', '__rmul__', '__setattr__', '__sizeof__', '__str__', '__subclasshook__', 'capitalize', 'casefold', 'center', 'count', 'encode', 'endswith', 'expandtabs', 'find', 'format', 'format_map', 'index', 'isalnum', 'isalpha', 'isascii', 'isdecimal', 'isdigit', 'isidentifier', 'islower', 'isnumeric', 'isprintable', 'isspace', 'istitle', 'isupper', 'join', 'ljust', 'lower', 'lstrip', 'maketrans', 'partition', 'removeprefix', 'removesuffix', 'replace', 'rfind', 'rindex', 'rjust', 'rpartition', 'rsplit', 'rstrip', 'split', 'splitlines', 'startswith', 'strip', 'swapcase', 'title', 'translate', 'upper', 'zfill']\n"
     ]
    }
   ],
   "source": [
    "print(\"String Attributes\")\n",
    "print(\"dir(language) :\", dir(language))"
   ]
  },
  {
   "cell_type": "code",
   "execution_count": 5,
   "metadata": {},
   "outputs": [
    {
     "name": "stdout",
     "output_type": "stream",
     "text": [
      "result =  TajMahal\n",
      "result =  TajMahal\n"
     ]
    }
   ],
   "source": [
    "# string concatenation\n",
    "mystr1 = \"Taj\"\n",
    "mystr2 = \"Mahal\"\n",
    "\n",
    "result = mystr1 + mystr2\n",
    "print(\"result = \", result)\n",
    "\n",
    "result = mystr1.__add__(mystr2)\n",
    "print(\"result = \", result)"
   ]
  },
  {
   "cell_type": "code",
   "execution_count": 6,
   "metadata": {},
   "outputs": [
    {
     "name": "stdout",
     "output_type": "stream",
     "text": [
      "len(language)     : 18\n",
      "language.__len__(): 18\n"
     ]
    }
   ],
   "source": [
    "# string length\n",
    "print(\"len(language)     :\", len(language))\n",
    "print(\"language.__len__():\", language.__len__())"
   ]
  },
  {
   "cell_type": "code",
   "execution_count": 7,
   "metadata": {},
   "outputs": [
    {
     "name": "stdout",
     "output_type": "stream",
     "text": [
      "result= TajTajTajTajTaj\n",
      "result= TajTajTajTajTaj\n"
     ]
    }
   ],
   "source": [
    "# String repetition\n",
    "result = mystr1 * 5\n",
    "print(\"result=\", result)\n",
    "\n",
    "result = mystr1.__mul__(5)\n",
    "print(\"result=\", result)"
   ]
  },
  {
   "cell_type": "code",
   "execution_count": 8,
   "metadata": {},
   "outputs": [
    {
     "name": "stdout",
     "output_type": "stream",
     "text": [
      "str(language)     : Python Programming\n",
      "language.__str__(): Python Programming\n"
     ]
    }
   ],
   "source": [
    "print(\"str(language)     :\", str(language))\n",
    "print(\"language.__str__():\", language.__str__())"
   ]
  },
  {
   "cell_type": "code",
   "execution_count": 9,
   "metadata": {},
   "outputs": [
    {
     "name": "stdout",
     "output_type": "stream",
     "text": [
      "repr(language)     : 'Python Programming'\n",
      "language.__repr__(): 'Python Programming'\n"
     ]
    }
   ],
   "source": [
    "print(\"repr(language)     :\", repr(language))\n",
    "print(\"language.__repr__():\", language.__repr__())"
   ]
  },
  {
   "cell_type": "code",
   "execution_count": 10,
   "metadata": {},
   "outputs": [
    {
     "data": {
      "text/plain": [
       "['__add__',\n",
       " '__class__',\n",
       " '__contains__',\n",
       " '__delattr__',\n",
       " '__dir__',\n",
       " '__doc__',\n",
       " '__eq__',\n",
       " '__format__',\n",
       " '__ge__',\n",
       " '__getattribute__',\n",
       " '__getitem__',\n",
       " '__getnewargs__',\n",
       " '__gt__',\n",
       " '__hash__',\n",
       " '__init__',\n",
       " '__init_subclass__',\n",
       " '__iter__',\n",
       " '__le__',\n",
       " '__len__',\n",
       " '__lt__',\n",
       " '__mod__',\n",
       " '__mul__',\n",
       " '__ne__',\n",
       " '__new__',\n",
       " '__reduce__',\n",
       " '__reduce_ex__',\n",
       " '__repr__',\n",
       " '__rmod__',\n",
       " '__rmul__',\n",
       " '__setattr__',\n",
       " '__sizeof__',\n",
       " '__str__',\n",
       " '__subclasshook__',\n",
       " 'capitalize',\n",
       " 'casefold',\n",
       " 'center',\n",
       " 'count',\n",
       " 'encode',\n",
       " 'endswith',\n",
       " 'expandtabs',\n",
       " 'find',\n",
       " 'format',\n",
       " 'format_map',\n",
       " 'index',\n",
       " 'isalnum',\n",
       " 'isalpha',\n",
       " 'isascii',\n",
       " 'isdecimal',\n",
       " 'isdigit',\n",
       " 'isidentifier',\n",
       " 'islower',\n",
       " 'isnumeric',\n",
       " 'isprintable',\n",
       " 'isspace',\n",
       " 'istitle',\n",
       " 'isupper',\n",
       " 'join',\n",
       " 'ljust',\n",
       " 'lower',\n",
       " 'lstrip',\n",
       " 'maketrans',\n",
       " 'partition',\n",
       " 'removeprefix',\n",
       " 'removesuffix',\n",
       " 'replace',\n",
       " 'rfind',\n",
       " 'rindex',\n",
       " 'rjust',\n",
       " 'rpartition',\n",
       " 'rsplit',\n",
       " 'rstrip',\n",
       " 'split',\n",
       " 'splitlines',\n",
       " 'startswith',\n",
       " 'strip',\n",
       " 'swapcase',\n",
       " 'title',\n",
       " 'translate',\n",
       " 'upper',\n",
       " 'zfill']"
      ]
     },
     "execution_count": 10,
     "metadata": {},
     "output_type": "execute_result"
    }
   ],
   "source": [
    "dir(language)"
   ]
  },
  {
   "cell_type": "code",
   "execution_count": 11,
   "metadata": {},
   "outputs": [
    {
     "name": "stdout",
     "output_type": "stream",
     "text": [
      "language             : Python Programming\n",
      "language.capitalize(): Python programming\n",
      "language.title()     : Python Programming\n",
      "language.upper()     : PYTHON PROGRAMMING\n",
      "language.lower()     : python programming\n",
      "language.swapcase()  : pYTHON pROGRAMMING\n"
     ]
    }
   ],
   "source": [
    "print(\"language             :\", language)\n",
    "print(\"language.capitalize():\", language.capitalize())\n",
    "print(\"language.title()     :\", language.title())\n",
    "print(\"language.upper()     :\", language.upper())\n",
    "print(\"language.lower()     :\", language.lower())\n",
    "print(\"language.swapcase()  :\", language.swapcase())"
   ]
  },
  {
   "cell_type": "code",
   "execution_count": 12,
   "metadata": {},
   "outputs": [
    {
     "name": "stdout",
     "output_type": "stream",
     "text": [
      "'der fluß'.lower()   : der fluß\n",
      "'der fluß'.casefold(): der fluss\n",
      "'der fluss'.lower()  : der fluss\n",
      "'der fluss'.casefold(): der fluss\n"
     ]
    }
   ],
   "source": [
    "print(\"'der fluß'.lower()   :\", \"der fluß\".lower())\n",
    "print(\"'der fluß'.casefold():\", \"der fluß\".casefold())\n",
    "print(\"'der fluss'.lower()  :\", \"der fluss\".lower())\n",
    "print(\"'der fluss'.casefold():\", \"der fluss\".casefold())"
   ]
  },
  {
   "cell_type": "code",
   "execution_count": 13,
   "metadata": {},
   "outputs": [
    {
     "name": "stdout",
     "output_type": "stream",
     "text": [
      "language             : Python Programming\n",
      "language.istitle()   : True\n"
     ]
    }
   ],
   "source": [
    "print(\"language             :\", language)\n",
    "print(\"language.istitle()   :\", language.istitle())"
   ]
  },
  {
   "cell_type": "code",
   "execution_count": 14,
   "metadata": {},
   "outputs": [
    {
     "name": "stdout",
     "output_type": "stream",
     "text": [
      "\"ABCD123#\".isupper() : True\n"
     ]
    }
   ],
   "source": [
    "print('\"ABCD123#\".isupper() :', \"ABCD123#\".isupper())\n",
    "# upper case should be present; lower case absent"
   ]
  },
  {
   "cell_type": "code",
   "execution_count": 15,
   "metadata": {},
   "outputs": [
    {
     "name": "stdout",
     "output_type": "stream",
     "text": [
      "\"Abcd123#\".islower() : False\n",
      "\"abcd123#\".islower() : True\n",
      "\"123#\".islower()     : False\n"
     ]
    }
   ],
   "source": [
    "print('\"Abcd123#\".islower() :', \"Abcd123#\".islower())\n",
    "print('\"abcd123#\".islower() :', \"abcd123#\".islower())\n",
    "print('\"123#\".islower()     :', \"123#\".islower())"
   ]
  },
  {
   "cell_type": "code",
   "execution_count": 16,
   "metadata": {},
   "outputs": [],
   "source": [
    "# isupper\n",
    "#     1. atleast one upper case character should present\n",
    "#     2. lower case character should NOT present"
   ]
  },
  {
   "cell_type": "code",
   "execution_count": 17,
   "metadata": {},
   "outputs": [
    {
     "name": "stdout",
     "output_type": "stream",
     "text": [
      "\"1234\".isdigit()     : True\n",
      "\"-1234\".isdigit()     : False\n",
      "\"1234 \".isdigit()    : False\n",
      "\"12 34\".isdigit()    : False\n",
      "\"123edsd\".isdigit()  : False\n"
     ]
    }
   ],
   "source": [
    "print('\"1234\".isdigit()     :', \"1234\".isdigit())\n",
    "print('\"-1234\".isdigit()     :', \"-1234\".isdigit())\n",
    "print('\"1234 \".isdigit()    :', \"1234 \".isdigit())\n",
    "print('\"12 34\".isdigit()    :', \"12 34\".isdigit())\n",
    "print('\"123edsd\".isdigit()  :', \"123edsd\".isdigit())"
   ]
  },
  {
   "cell_type": "code",
   "execution_count": 18,
   "metadata": {},
   "outputs": [
    {
     "name": "stdout",
     "output_type": "stream",
     "text": [
      "\"1234\".isnumeric()     : True\n",
      "\"-1234\".isnumeric()     : False\n",
      "\"1234 \".isnumeric()    : False\n",
      "\"12 34\".isnumeric()    : False\n",
      "\"123edsd\".isnumeric()  : False\n"
     ]
    }
   ],
   "source": [
    "print('\"1234\".isnumeric()     :', \"1234\".isnumeric())\n",
    "print('\"-1234\".isnumeric()     :', \"-1234\".isnumeric())\n",
    "print('\"1234 \".isnumeric()    :', \"1234 \".isnumeric())\n",
    "print('\"12 34\".isnumeric()    :', \"12 34\".isnumeric())\n",
    "print('\"123edsd\".isnumeric()  :', \"123edsd\".isnumeric())"
   ]
  },
  {
   "cell_type": "code",
   "execution_count": 19,
   "metadata": {},
   "outputs": [
    {
     "name": "stdout",
     "output_type": "stream",
     "text": [
      "\"abcD\".isalpha()     : True\n",
      "\"abcd1\".isalpha()    : False\n"
     ]
    }
   ],
   "source": [
    "print('\"abcD\".isalpha()     :', \"abcD\".isalpha())\n",
    "print('\"abcd1\".isalpha()    :', \"abcd1\".isalpha())"
   ]
  },
  {
   "cell_type": "code",
   "execution_count": 20,
   "metadata": {},
   "outputs": [
    {
     "name": "stdout",
     "output_type": "stream",
     "text": [
      "\"ab123\".isalnum()    : True\n",
      "\"ab123#\".isalnum()   : False\n",
      "\"123\".isalnum()      : True\n",
      "\"abc\".isalnum()      : True\n"
     ]
    }
   ],
   "source": [
    "print('\"ab123\".isalnum()    :', \"ab123\".isalnum())\n",
    "print('\"ab123#\".isalnum()   :', \"ab123#\".isalnum())\n",
    "print('\"123\".isalnum()      :', \"123\".isalnum())\n",
    "print('\"abc\".isalnum()      :', \"abc\".isalnum())"
   ]
  },
  {
   "cell_type": "code",
   "execution_count": 21,
   "metadata": {},
   "outputs": [
    {
     "name": "stdout",
     "output_type": "stream",
     "text": [
      "\" \".isspace()        : True\n",
      "\"    \".isspace()     : True\n",
      "\"    a\".isspace()    : False\n",
      "\"\".isspace()         : False\n"
     ]
    }
   ],
   "source": [
    "print('\" \".isspace()        :', \" \".isspace())\n",
    "print('\"    \".isspace()     :', \"     \".isspace())\n",
    "print('\"    a\".isspace()    :', \"     a\".isspace())\n",
    "print('\"\".isspace()         :', \"\".isspace())"
   ]
  },
  {
   "cell_type": "code",
   "execution_count": 22,
   "metadata": {},
   "outputs": [
    {
     "name": "stdout",
     "output_type": "stream",
     "text": [
      "ascii(\"αλεπού\")   : '\\u03b1\\u03bb\\u03b5\\u03c0\\u03bf\\u03cd'\n",
      "ascii(\"foxfox\")   : 'foxfox'\n",
      "ascii(\"!@#@#\")    : '!@#@#'\n"
     ]
    }
   ],
   "source": [
    "print('ascii(\"αλεπού\")   :', ascii(\"αλεπού\"))\n",
    "print('ascii(\"foxfox\")   :', ascii(\"foxfox\"))\n",
    "print('ascii(\"!@#@#\")    :', ascii(\"!@#@#\"))"
   ]
  },
  {
   "cell_type": "code",
   "execution_count": 23,
   "metadata": {},
   "outputs": [
    {
     "name": "stdout",
     "output_type": "stream",
     "text": [
      "\"αλεπού\".isascii()    : False\n",
      "\"foxfox\".isascii()    : True\n",
      "\"!@#@#\".isascii()    : True\n"
     ]
    }
   ],
   "source": [
    "print('\"αλεπού\".isascii()    :', \"αλεπού\".isascii())\n",
    "print('\"foxfox\".isascii()    :', \"foxfox\".isascii())\n",
    "print('\"!@#@#\".isascii()    :', \"!@#@#\".isascii())"
   ]
  },
  {
   "cell_type": "code",
   "execution_count": 24,
   "metadata": {},
   "outputs": [
    {
     "name": "stdout",
     "output_type": "stream",
     "text": [
      "\"ab\".isprintable()    : True\n",
      "\"\\n\".isprintable()    : False\n",
      "\"\\t\".isprintable()    : False\n"
     ]
    }
   ],
   "source": [
    "print('\"ab\".isprintable()    :', \"ab\".isprintable())\n",
    "print(r'\"\\n\".isprintable()    :', \"\\n\".isprintable())\n",
    "print(r'\"\\t\".isprintable()    :', \"\\t\".isprintable())"
   ]
  },
  {
   "cell_type": "code",
   "execution_count": 25,
   "metadata": {},
   "outputs": [
    {
     "name": "stdout",
     "output_type": "stream",
     "text": [
      "\"$true\".isidentifier() : False\n",
      "\"true\".isidentifier() : True\n"
     ]
    }
   ],
   "source": [
    "print('\"$true\".isidentifier() :', \"$true\".isidentifier())\n",
    "print('\"true\".isidentifier() :', \"true\".isidentifier())"
   ]
  },
  {
   "cell_type": "code",
   "execution_count": 26,
   "metadata": {},
   "outputs": [
    {
     "data": {
      "text/plain": [
       "\"\\n'name'.isidentifier()\\nTrue\\n'name123'.isidentifier()\\nTrue\\n'name_some_1'.isidentifier()\\nTrue\\n'name_some_TWO'.isidentifier()\\nTrue\\n'PI'.isidentifier()\\nTrue\\n'DOZEN'.isidentifier()\\nTrue\\n\\n\\n'2name'.isidentifier()\\nFalse\\n'$name'.isidentifier()\\nFalse\\n'first-name'.isidentifier()\\nFalse\\n''.isidentifier()\\nFalse\\n\\n\\n'_val'.isidentifier()\\nTrue\\n'_-val'.isidentifier()\\nFalse\\n'__val'.isidentifier()\\nTrue\\n'__val__'.isidentifier()\\nTrue\\n'__name__'.isidentifier()\\nTrue\\n'__________name__'.isidentifier()\\nTrue\\n\""
      ]
     },
     "execution_count": 26,
     "metadata": {},
     "output_type": "execute_result"
    }
   ],
   "source": [
    "\"\"\"\n",
    ">>> 'name'.isidentifier()\n",
    "True\n",
    ">>> 'name123'.isidentifier()\n",
    "True\n",
    ">>> 'name_some_1'.isidentifier()\n",
    "True\n",
    ">>> 'name_some_TWO'.isidentifier()\n",
    "True\n",
    ">>> 'PI'.isidentifier()\n",
    "True\n",
    ">>> 'DOZEN'.isidentifier()\n",
    "True\n",
    ">>>\n",
    ">>>\n",
    ">>> '2name'.isidentifier()\n",
    "False\n",
    ">>> '$name'.isidentifier()\n",
    "False\n",
    ">>> 'first-name'.isidentifier()\n",
    "False\n",
    ">>> ''.isidentifier()\n",
    "False\n",
    ">>>\n",
    ">>>\n",
    ">>> '_val'.isidentifier()\n",
    "True\n",
    ">>> '_-val'.isidentifier()\n",
    "False\n",
    ">>> '__val'.isidentifier()\n",
    "True\n",
    ">>> '__val__'.isidentifier()\n",
    "True\n",
    ">>> '__name__'.isidentifier()\n",
    "True\n",
    ">>> '__________name__'.isidentifier()\n",
    "True\n",
    "\"\"\""
   ]
  },
  {
   "cell_type": "code",
   "execution_count": 27,
   "metadata": {},
   "outputs": [
    {
     "data": {
      "text/plain": [
       "'Python Programming'"
      ]
     },
     "execution_count": 27,
     "metadata": {},
     "output_type": "execute_result"
    }
   ],
   "source": [
    "language"
   ]
  },
  {
   "cell_type": "code",
   "execution_count": 28,
   "metadata": {},
   "outputs": [],
   "source": [
    "# P   y  t  h  o n   P r o g  r  a  m  m  i  n  g\n",
    "# 0   1  2  3  4 5 6 7 8 9 10 11 12 13 14 15 16 17   - forward indexing"
   ]
  },
  {
   "cell_type": "code",
   "execution_count": 30,
   "metadata": {},
   "outputs": [
    {
     "data": {
      "text/plain": [
       "'r'"
      ]
     },
     "execution_count": 30,
     "metadata": {},
     "output_type": "execute_result"
    }
   ],
   "source": [
    "language[8]"
   ]
  },
  {
   "cell_type": "code",
   "execution_count": 31,
   "metadata": {},
   "outputs": [
    {
     "name": "stdout",
     "output_type": "stream",
     "text": [
      "language.find(\"t\")        : 2\n"
     ]
    }
   ],
   "source": [
    "# .find() - to get first occurrence of given substring, within bounds\n",
    "print('language.find(\"t\")        :', language.find(\"t\"))  # 2"
   ]
  },
  {
   "cell_type": "code",
   "execution_count": 32,
   "metadata": {},
   "outputs": [
    {
     "name": "stdout",
     "output_type": "stream",
     "text": [
      "language.find(\"n\")        : 5\n",
      "language.rfind(\"n\")       : 16\n"
     ]
    }
   ],
   "source": [
    "print('language.find(\"n\")        :', language.find(\"n\"))  # 5\n",
    "print('language.rfind(\"n\")       :', language.rfind(\"n\"))  # 16"
   ]
  },
  {
   "cell_type": "code",
   "execution_count": 33,
   "metadata": {},
   "outputs": [
    {
     "name": "stdout",
     "output_type": "stream",
     "text": [
      "language.find(\"n\", 6)     : 16\n",
      "language.rfind(\"n\", 15)   : 16\n",
      "language.find(\"n\", 6, 17) : 16\n"
     ]
    }
   ],
   "source": [
    "print('language.find(\"n\", 6)     :', language.find(\"n\", 6))  # 16\n",
    "print('language.rfind(\"n\", 15)   :', language.rfind(\"n\", 15))  # 16\n",
    "\n",
    "print('language.find(\"n\", 6, 17) :', language.find(\"n\", 6, 17))  # 16"
   ]
  },
  {
   "cell_type": "code",
   "execution_count": 34,
   "metadata": {},
   "outputs": [
    {
     "name": "stdout",
     "output_type": "stream",
     "text": [
      "language.find(\"Prog\")     : 7\n",
      "language.rfind(\"Prog\")    : 7\n"
     ]
    }
   ],
   "source": [
    "print('language.find(\"Prog\")     :', language.find(\"Prog\"))  # 7\n",
    "print('language.rfind(\"Prog\")    :', language.rfind(\"Prog\"))  # 7"
   ]
  },
  {
   "cell_type": "code",
   "execution_count": 35,
   "metadata": {},
   "outputs": [
    {
     "name": "stdout",
     "output_type": "stream",
     "text": [
      "language.index(\"t\")       : 2\n",
      "\n",
      "language.index(\"n\")       : 5\n",
      "language.rindex(\"n\")      : 16\n",
      "\n",
      "language.index(\"Prog\")    : 7\n",
      "language.rindex(\"Prog\")   : 7\n"
     ]
    }
   ],
   "source": [
    "print('language.index(\"t\")       :', language.index(\"t\"))\n",
    "print()\n",
    "\n",
    "print('language.index(\"n\")       :', language.index(\"n\"))\n",
    "print('language.rindex(\"n\")      :', language.rindex(\"n\"))\n",
    "print()\n",
    "\n",
    "print('language.index(\"Prog\")    :', language.index(\"Prog\"))\n",
    "print('language.rindex(\"Prog\")   :', language.rindex(\"Prog\"))"
   ]
  },
  {
   "cell_type": "code",
   "execution_count": 36,
   "metadata": {},
   "outputs": [
    {
     "name": "stdout",
     "output_type": "stream",
     "text": [
      "language.find(\"Q\")        : -1\n"
     ]
    }
   ],
   "source": [
    "# Question: string attributes - index vs find\n",
    "# -1 (ITS not REVERSE INDEX)\n",
    "\n",
    "print('language.find(\"Q\")        :', language.find(\"Q\"))"
   ]
  },
  {
   "cell_type": "code",
   "execution_count": 37,
   "metadata": {},
   "outputs": [
    {
     "ename": "ValueError",
     "evalue": "substring not found",
     "output_type": "error",
     "traceback": [
      "\u001b[0;31m---------------------------------------------------------------------------\u001b[0m",
      "\u001b[0;31mValueError\u001b[0m                                Traceback (most recent call last)",
      "Cell \u001b[0;32mIn[37], line 1\u001b[0m\n\u001b[0;32m----> 1\u001b[0m \u001b[39mprint\u001b[39m(\u001b[39m'\u001b[39m\u001b[39mlanguage.index(\u001b[39m\u001b[39m\"\u001b[39m\u001b[39mQ\u001b[39m\u001b[39m\"\u001b[39m\u001b[39m)       :\u001b[39m\u001b[39m'\u001b[39m, language\u001b[39m.\u001b[39;49mindex(\u001b[39m'\u001b[39;49m\u001b[39mQ\u001b[39;49m\u001b[39m'\u001b[39;49m))\n",
      "\u001b[0;31mValueError\u001b[0m: substring not found"
     ]
    }
   ],
   "source": [
    "print('language.index(\"Q\")       :', language.index(\"Q\"))"
   ]
  },
  {
   "cell_type": "code",
   "execution_count": 38,
   "metadata": {},
   "outputs": [
    {
     "name": "stdout",
     "output_type": "stream",
     "text": [
      "language.find(\"Prog\")     : 7\n",
      "language.find(\"Porg\")     : -1\n"
     ]
    }
   ],
   "source": [
    "print('language.find(\"Prog\")     :', language.find(\"Prog\"))  # 7\n",
    "print('language.find(\"Porg\")     :', language.find(\"Porg\"))  # -1"
   ]
  },
  {
   "cell_type": "markdown",
   "metadata": {},
   "source": [
    "### str.strip()"
   ]
  },
  {
   "cell_type": "code",
   "execution_count": 39,
   "metadata": {},
   "outputs": [
    {
     "name": "stdout",
     "output_type": "stream",
     "text": [
      "  python Production  \n"
     ]
    }
   ],
   "source": [
    "print(\"  python Production  \")"
   ]
  },
  {
   "cell_type": "code",
   "execution_count": 40,
   "metadata": {},
   "outputs": [
    {
     "data": {
      "text/plain": [
       "'  python Production  '"
      ]
     },
     "execution_count": 40,
     "metadata": {},
     "output_type": "execute_result"
    }
   ],
   "source": [
    "\"  python Production  \""
   ]
  },
  {
   "cell_type": "code",
   "execution_count": 41,
   "metadata": {},
   "outputs": [
    {
     "data": {
      "text/plain": [
       "'python Production'"
      ]
     },
     "execution_count": 41,
     "metadata": {},
     "output_type": "execute_result"
    }
   ],
   "source": [
    "\"  python Production  \".strip()"
   ]
  },
  {
   "cell_type": "code",
   "execution_count": 42,
   "metadata": {},
   "outputs": [
    {
     "data": {
      "text/plain": [
       "'python Production'"
      ]
     },
     "execution_count": 42,
     "metadata": {},
     "output_type": "execute_result"
    }
   ],
   "source": [
    "\"  python Production  \".strip(\" \")"
   ]
  },
  {
   "cell_type": "code",
   "execution_count": 43,
   "metadata": {},
   "outputs": [
    {
     "data": {
      "text/plain": [
       "'  python Production  '"
      ]
     },
     "execution_count": 43,
     "metadata": {},
     "output_type": "execute_result"
    }
   ],
   "source": [
    "\"  python Production  \".strip(\"p\")  # checks only at the ends"
   ]
  },
  {
   "cell_type": "code",
   "execution_count": 44,
   "metadata": {},
   "outputs": [
    {
     "data": {
      "text/plain": [
       "'ython Production'"
      ]
     },
     "execution_count": 44,
     "metadata": {},
     "output_type": "execute_result"
    }
   ],
   "source": [
    "\"  python Production  \".strip(\"p \")  # checks only at the ends"
   ]
  },
  {
   "cell_type": "code",
   "execution_count": 45,
   "metadata": {},
   "outputs": [
    {
     "data": {
      "text/plain": [
       "'ython Production'"
      ]
     },
     "execution_count": 45,
     "metadata": {},
     "output_type": "execute_result"
    }
   ],
   "source": [
    "\"  python Production  \".strip(\"p o\")"
   ]
  },
  {
   "cell_type": "code",
   "execution_count": 46,
   "metadata": {},
   "outputs": [
    {
     "data": {
      "text/plain": [
       "'ython Producti'"
      ]
     },
     "execution_count": 46,
     "metadata": {},
     "output_type": "execute_result"
    }
   ],
   "source": [
    "\"  python Production  \".strip(\"np o\")"
   ]
  },
  {
   "cell_type": "code",
   "execution_count": 47,
   "metadata": {},
   "outputs": [
    {
     "data": {
      "text/plain": [
       "'ython Producti'"
      ]
     },
     "execution_count": 47,
     "metadata": {},
     "output_type": "execute_result"
    }
   ],
   "source": [
    "\"  python Production  \".strip(\"np ot\")"
   ]
  },
  {
   "cell_type": "code",
   "execution_count": 48,
   "metadata": {},
   "outputs": [
    {
     "data": {
      "text/plain": [
       "'hon Producti'"
      ]
     },
     "execution_count": 48,
     "metadata": {},
     "output_type": "execute_result"
    }
   ],
   "source": [
    "\"  python Production  \".strip(\"np oty\")"
   ]
  },
  {
   "cell_type": "code",
   "execution_count": 49,
   "metadata": {},
   "outputs": [
    {
     "data": {
      "text/plain": [
       "'Producti'"
      ]
     },
     "execution_count": 49,
     "metadata": {},
     "output_type": "execute_result"
    }
   ],
   "source": [
    "\"  python Production  \".strip(\"np ohty\")"
   ]
  },
  {
   "cell_type": "code",
   "execution_count": 50,
   "metadata": {},
   "outputs": [
    {
     "data": {
      "text/plain": [
       "'Production  '"
      ]
     },
     "execution_count": 50,
     "metadata": {},
     "output_type": "execute_result"
    }
   ],
   "source": [
    "\"  python Production  \".lstrip(\"np ohty\")"
   ]
  },
  {
   "cell_type": "code",
   "execution_count": 51,
   "metadata": {},
   "outputs": [
    {
     "data": {
      "text/plain": [
       "'  python Producti'"
      ]
     },
     "execution_count": 51,
     "metadata": {},
     "output_type": "execute_result"
    }
   ],
   "source": [
    "\"  python Production  \".rstrip(\"np ohty\")"
   ]
  },
  {
   "cell_type": "code",
   "execution_count": 52,
   "metadata": {},
   "outputs": [
    {
     "data": {
      "text/plain": [
       "''"
      ]
     },
     "execution_count": 52,
     "metadata": {},
     "output_type": "execute_result"
    }
   ],
   "source": [
    "\"aaaaaaaaaaaaaaaaaaaaaa\".strip(\"a\")  # ''"
   ]
  },
  {
   "cell_type": "code",
   "execution_count": 53,
   "metadata": {},
   "outputs": [
    {
     "data": {
      "text/plain": [
       "' b '"
      ]
     },
     "execution_count": 53,
     "metadata": {},
     "output_type": "execute_result"
    }
   ],
   "source": [
    "\"aaaaaaaa b aaaaaaaaaaa\".strip(\"ab\")  # ' b '"
   ]
  },
  {
   "cell_type": "code",
   "execution_count": 54,
   "metadata": {},
   "outputs": [
    {
     "data": {
      "text/plain": [
       "''"
      ]
     },
     "execution_count": 54,
     "metadata": {},
     "output_type": "execute_result"
    }
   ],
   "source": [
    "\"aaaaaaaa b aaaaaaaaaaa\".strip(\"ab \")  # ''"
   ]
  },
  {
   "cell_type": "code",
   "execution_count": 55,
   "metadata": {},
   "outputs": [
    {
     "data": {
      "text/plain": [
       "' b aaaaaaaaaaa'"
      ]
     },
     "execution_count": 55,
     "metadata": {},
     "output_type": "execute_result"
    }
   ],
   "source": [
    "\"aaaaaaaa b aaaaaaaaaaa\".lstrip(\"ab\")  # ' b '"
   ]
  },
  {
   "cell_type": "code",
   "execution_count": 56,
   "metadata": {},
   "outputs": [
    {
     "data": {
      "text/plain": [
       "'aaaaaaaa b '"
      ]
     },
     "execution_count": 56,
     "metadata": {},
     "output_type": "execute_result"
    }
   ],
   "source": [
    "\"aaaaaaaa b aaaaaaaaaaa\".rstrip(\"ab\")  # ' b '"
   ]
  },
  {
   "cell_type": "code",
   "execution_count": 57,
   "metadata": {},
   "outputs": [
    {
     "data": {
      "text/plain": [
       "'1231231230'"
      ]
     },
     "execution_count": 57,
     "metadata": {},
     "output_type": "execute_result"
    }
   ],
   "source": [
    "\"00001231231230\".lstrip(\"0\")"
   ]
  },
  {
   "cell_type": "code",
   "execution_count": 60,
   "metadata": {},
   "outputs": [
    {
     "name": "stdout",
     "output_type": "stream",
     "text": [
      "\"123\".zfill(3): 123\n",
      "\"123\".zfill(4): 0123\n",
      "\"123\".zfill(5): 00123\n",
      "\"abc\".zfill(5): 00abc\n"
     ]
    }
   ],
   "source": [
    "print('\"123\".zfill(3):', \"123\".zfill(3))\n",
    "print('\"123\".zfill(4):', \"123\".zfill(4))\n",
    "print('\"123\".zfill(5):', \"123\".zfill(5))\n",
    "\n",
    "print('\"abc\".zfill(5):', \"abc\".zfill(5))"
   ]
  },
  {
   "cell_type": "code",
   "execution_count": 61,
   "metadata": {},
   "outputs": [],
   "source": [
    "# Q) How to convert a string to a list"
   ]
  },
  {
   "cell_type": "code",
   "execution_count": 62,
   "metadata": {},
   "outputs": [
    {
     "data": {
      "text/plain": [
       "['Python', 'Production']"
      ]
     },
     "execution_count": 62,
     "metadata": {},
     "output_type": "execute_result"
    }
   ],
   "source": [
    "\"Python Production\".split()"
   ]
  },
  {
   "cell_type": "code",
   "execution_count": 63,
   "metadata": {},
   "outputs": [
    {
     "data": {
      "text/plain": [
       "['Python', 'Production']"
      ]
     },
     "execution_count": 63,
     "metadata": {},
     "output_type": "execute_result"
    }
   ],
   "source": [
    "\"Python Production\".split(\" \")"
   ]
  },
  {
   "cell_type": "code",
   "execution_count": 64,
   "metadata": {},
   "outputs": [
    {
     "ename": "ValueError",
     "evalue": "empty separator",
     "output_type": "error",
     "traceback": [
      "\u001b[0;31m---------------------------------------------------------------------------\u001b[0m",
      "\u001b[0;31mValueError\u001b[0m                                Traceback (most recent call last)",
      "Cell \u001b[0;32mIn[64], line 1\u001b[0m\n\u001b[0;32m----> 1\u001b[0m \u001b[39m\"\u001b[39;49m\u001b[39mPython Production\u001b[39;49m\u001b[39m\"\u001b[39;49m\u001b[39m.\u001b[39;49msplit(\u001b[39m\"\u001b[39;49m\u001b[39m\"\u001b[39;49m)\n",
      "\u001b[0;31mValueError\u001b[0m: empty separator"
     ]
    }
   ],
   "source": [
    "\"Python Production\".split(\"\")"
   ]
  },
  {
   "cell_type": "code",
   "execution_count": 65,
   "metadata": {},
   "outputs": [
    {
     "data": {
      "text/plain": [
       "['Python P', 'oduction']"
      ]
     },
     "execution_count": 65,
     "metadata": {},
     "output_type": "execute_result"
    }
   ],
   "source": [
    "\"Python Production\".split(\"r\")"
   ]
  },
  {
   "cell_type": "code",
   "execution_count": 66,
   "metadata": {},
   "outputs": [
    {
     "data": {
      "text/plain": [
       "['Python Pro', 'uction']"
      ]
     },
     "execution_count": 66,
     "metadata": {},
     "output_type": "execute_result"
    }
   ],
   "source": [
    "\"Python Production\".split(\"d\")"
   ]
  },
  {
   "cell_type": "code",
   "execution_count": 67,
   "metadata": {},
   "outputs": [
    {
     "data": {
      "text/plain": [
       "['Py', 'hon Produc', 'ion']"
      ]
     },
     "execution_count": 67,
     "metadata": {},
     "output_type": "execute_result"
    }
   ],
   "source": [
    "\"Python Production\".split(\"t\")"
   ]
  },
  {
   "cell_type": "code",
   "execution_count": 68,
   "metadata": {},
   "outputs": [
    {
     "data": {
      "text/plain": [
       "['Python Prod', 'ction']"
      ]
     },
     "execution_count": 68,
     "metadata": {},
     "output_type": "execute_result"
    }
   ],
   "source": [
    "\"Python Production\".split(\"u\")"
   ]
  },
  {
   "cell_type": "code",
   "execution_count": 69,
   "metadata": {},
   "outputs": [
    {
     "data": {
      "text/plain": [
       "['', 'ython ', 'roduction']"
      ]
     },
     "execution_count": 69,
     "metadata": {},
     "output_type": "execute_result"
    }
   ],
   "source": [
    "\"Python Production\".split(\"P\")"
   ]
  },
  {
   "cell_type": "code",
   "execution_count": 70,
   "metadata": {},
   "outputs": [
    {
     "data": {
      "text/plain": [
       "['Pytho', ' Productio', '']"
      ]
     },
     "execution_count": 70,
     "metadata": {},
     "output_type": "execute_result"
    }
   ],
   "source": [
    "\"Python Production\".split(\"n\")"
   ]
  },
  {
   "cell_type": "code",
   "execution_count": 71,
   "metadata": {},
   "outputs": [
    {
     "name": "stdout",
     "output_type": "stream",
     "text": [
      "['Python ', 'uction']\n"
     ]
    }
   ],
   "source": [
    "print(\"Python Production\".split(\"Prod\"))  # ['Python ', 'uction']"
   ]
  },
  {
   "cell_type": "code",
   "execution_count": 73,
   "metadata": {},
   "outputs": [
    {
     "name": "stdout",
     "output_type": "stream",
     "text": [
      "['Python Production']\n",
      "['Python Production']\n",
      "['Python Production']\n"
     ]
    }
   ],
   "source": [
    "print(\"Python Production\".split(\"Prdo\"))  # ['Python Production']\n",
    "print(\"Python Production\".split(\"Q\"))  # ['Python Production']\n",
    "print(\"Python Production\".split(\"1\"))  # ['Python Production']"
   ]
  },
  {
   "cell_type": "code",
   "execution_count": 74,
   "metadata": {},
   "outputs": [
    {
     "data": {
      "text/plain": [
       "['']"
      ]
     },
     "execution_count": 74,
     "metadata": {},
     "output_type": "execute_result"
    }
   ],
   "source": [
    "# Question:\n",
    "\"\".split()  # []\n",
    "\" \".split()  # []\n",
    "\" \".split(\" \")  # ['', '']\n",
    "\"\".split(\" \")  # ['']"
   ]
  },
  {
   "cell_type": "code",
   "execution_count": 75,
   "metadata": {},
   "outputs": [
    {
     "name": "stdout",
     "output_type": "stream",
     "text": [
      "['12', '12', '13', '12', '1']\n"
     ]
    }
   ],
   "source": [
    "print(\"1201201301201\".split(\"0\"))  # ['12', '12', '13', '12', '1']"
   ]
  },
  {
   "cell_type": "code",
   "execution_count": 79,
   "metadata": {},
   "outputs": [
    {
     "name": "stdout",
     "output_type": "stream",
     "text": [
      "['1201201301201']\n",
      "['12', '1201301201']\n",
      "['12', '12', '1301201']\n",
      "['12', '12', '13', '1201']\n",
      "['12', '12', '13', '12', '1']\n",
      "['12', '12', '13', '12', '1']\n"
     ]
    }
   ],
   "source": [
    "print(\"1201201301201\".split(\"0\", maxsplit=0))  # ['1201201301201']\n",
    "print(\"1201201301201\".split(\"0\", maxsplit=1))  # ['12', '1201301201']\n",
    "print(\"1201201301201\".split(\"0\", maxsplit=2))  # ['12', '12', '1301201']\n",
    "print(\"1201201301201\".split(\"0\", maxsplit=3))  # ['12', '12', '13', '1201']\n",
    "print(\"1201201301201\".split(\"0\", maxsplit=4))  # ['12', '12', '13', '12', '1']\n",
    "print(\"1201201301201\".split(\"0\", maxsplit=55))  # ['12', '12', '13', '12', '1']"
   ]
  },
  {
   "cell_type": "code",
   "execution_count": 80,
   "metadata": {},
   "outputs": [
    {
     "name": "stdout",
     "output_type": "stream",
     "text": [
      "['12', '1201301201']\n",
      "['12012013012', '1']\n"
     ]
    }
   ],
   "source": [
    "print(\"1201201301201\".split(\"0\", maxsplit=1))  # ['12', '1201301201']\n",
    "print(\"1201201301201\".rsplit(\"0\", maxsplit=1))  # ['12012013012', '1']"
   ]
  },
  {
   "cell_type": "code",
   "execution_count": 81,
   "metadata": {},
   "outputs": [
    {
     "name": "stdout",
     "output_type": "stream",
     "text": [
      "['12', '12', '13', '1201']\n",
      "['12012', '13', '12', '1']\n"
     ]
    }
   ],
   "source": [
    "print(\"1201201301201\".split(\"0\", 3))  # ['12', '12', '13', '1201']\n",
    "print(\"1201201301201\".rsplit(\"0\", 3))  # ['12012', '13', '12', '1']"
   ]
  },
  {
   "cell_type": "code",
   "execution_count": 82,
   "metadata": {},
   "outputs": [
    {
     "data": {
      "text/plain": [
       "['1', '2', '', '3', '']"
      ]
     },
     "execution_count": 82,
     "metadata": {},
     "output_type": "execute_result"
    }
   ],
   "source": [
    "# Question:\n",
    "\"1,2,3\".split(\",\")  # ['1', '2', '3']\n",
    "\"1,2,,3,\".split(\",\")  # ['1', '2', '', '3', '']"
   ]
  },
  {
   "cell_type": "code",
   "execution_count": 83,
   "metadata": {},
   "outputs": [
    {
     "data": {
      "text/plain": [
       "['', '', '', '1', '', '', '2', '', '3', '', '', '']"
      ]
     },
     "execution_count": 83,
     "metadata": {},
     "output_type": "execute_result"
    }
   ],
   "source": [
    "# default is with white space\n",
    "\"1 2 3\".split()  # ['1', '2', '3']\n",
    "\"   1   2  3   \".split()  # ['1', '2', '3']\n",
    "\n",
    "\n",
    "\"   1   2  3   \".split(\" \")  # ['', '', '', '1', '', '', '2', '', '3', '', '','']"
   ]
  },
  {
   "cell_type": "code",
   "execution_count": 84,
   "metadata": {},
   "outputs": [
    {
     "data": {
      "text/plain": [
       "['1,2,3,4,5']"
      ]
     },
     "execution_count": 84,
     "metadata": {},
     "output_type": "execute_result"
    }
   ],
   "source": [
    "\"1,2,3,4,5\".rsplit(None, 1)  # ['1,2,3,4,5']"
   ]
  },
  {
   "cell_type": "code",
   "execution_count": 85,
   "metadata": {},
   "outputs": [
    {
     "name": "stdout",
     "output_type": "stream",
     "text": [
      "['Python P', 'oduction']\n",
      "('Python P', 'r', 'oduction')\n"
     ]
    }
   ],
   "source": [
    "# partition - will result in 3 values in tuple\n",
    "print(\"Python Production\".split(\"r\"))  # ['Python P', 'oduction']\n",
    "print(\"Python Production\".partition(\"r\"))  # ('Python P', 'r', 'oduction')"
   ]
  },
  {
   "cell_type": "code",
   "execution_count": 86,
   "metadata": {},
   "outputs": [
    {
     "name": "stdout",
     "output_type": "stream",
     "text": [
      "['Python Pro', 'uction']\n",
      "('Python Pro', 'd', 'uction')\n"
     ]
    }
   ],
   "source": [
    "print(\"Python Production\".split(\"d\"))  # ['Python Pro', 'uction']\n",
    "print(\"Python Production\".partition(\"d\"))  # ('Python Pro', 'd', 'uction')"
   ]
  },
  {
   "cell_type": "code",
   "execution_count": 87,
   "metadata": {},
   "outputs": [
    {
     "name": "stdout",
     "output_type": "stream",
     "text": [
      "['Py', 'hon Produc', 'ion']\n",
      "('Py', 't', 'hon Production')\n"
     ]
    }
   ],
   "source": [
    "print(\"Python Production\".split(\"t\"))  # ['Py', 'hon Produc', 'ion']\n",
    "print(\"Python Production\".partition(\"t\"))  # ('Py', 't', 'hon Production')"
   ]
  },
  {
   "cell_type": "code",
   "execution_count": 88,
   "metadata": {},
   "outputs": [
    {
     "data": {
      "text/plain": [
       "['0', '0', '0', '0', '0', '0', '']"
      ]
     },
     "execution_count": 88,
     "metadata": {},
     "output_type": "execute_result"
    }
   ],
   "source": [
    "\"010101010101\".split(\"1\")"
   ]
  },
  {
   "cell_type": "code",
   "execution_count": 89,
   "metadata": {},
   "outputs": [
    {
     "data": {
      "text/plain": [
       "('0', '1', '0101010101')"
      ]
     },
     "execution_count": 89,
     "metadata": {},
     "output_type": "execute_result"
    }
   ],
   "source": [
    "\"010101010101\".partition(\"1\")"
   ]
  },
  {
   "cell_type": "code",
   "execution_count": 90,
   "metadata": {},
   "outputs": [
    {
     "data": {
      "text/plain": [
       "('01010101010', '1', '')"
      ]
     },
     "execution_count": 90,
     "metadata": {},
     "output_type": "execute_result"
    }
   ],
   "source": [
    "\"010101010101\".rpartition(\"1\")"
   ]
  },
  {
   "cell_type": "code",
   "execution_count": 91,
   "metadata": {},
   "outputs": [
    {
     "data": {
      "text/plain": [
       "('Python Produc', 't', 'ion')"
      ]
     },
     "execution_count": 91,
     "metadata": {},
     "output_type": "execute_result"
    }
   ],
   "source": [
    "\"Python Production\".partition(\"t\")  # ('Py', 't', 'hon Production')\n",
    "\"Python Production\".rpartition(\"t\")  # ('Python Produc', 't', 'ion')"
   ]
  },
  {
   "cell_type": "code",
   "execution_count": 92,
   "metadata": {},
   "outputs": [
    {
     "data": {
      "text/plain": [
       "['1', '2', '0', '1', '2', '0', '1', '3', '0', '1', '2', '0', '1']"
      ]
     },
     "execution_count": 92,
     "metadata": {},
     "output_type": "execute_result"
    }
   ],
   "source": [
    "# How to convert a string to a list\n",
    "list(\"1201201301201\")"
   ]
  },
  {
   "cell_type": "code",
   "execution_count": 93,
   "metadata": {},
   "outputs": [
    {
     "data": {
      "text/plain": [
       "('1', '2', '0', '1', '2', '0', '1', '3', '0', '1', '2', '0', '1')"
      ]
     },
     "execution_count": 93,
     "metadata": {},
     "output_type": "execute_result"
    }
   ],
   "source": [
    "tuple(\"1201201301201\")"
   ]
  },
  {
   "cell_type": "code",
   "execution_count": 94,
   "metadata": {},
   "outputs": [
    {
     "data": {
      "text/plain": [
       "{'0', '1', '2', '3'}"
      ]
     },
     "execution_count": 94,
     "metadata": {},
     "output_type": "execute_result"
    }
   ],
   "source": [
    "set(\"1201201301201\")"
   ]
  },
  {
   "cell_type": "code",
   "execution_count": 95,
   "metadata": {},
   "outputs": [
    {
     "name": "stdout",
     "output_type": "stream",
     "text": [
      "PythonProductionLanguage\n",
      "Python Production Language\n",
      "Python-Production-Language\n"
     ]
    }
   ],
   "source": [
    "# Question: How to convert list of strings to a single string\n",
    "print(\"Python\" + \"Production\" + \"Language\")  # PythonProductionLanguage\n",
    "print(\"Python\" + \" \" + \"Production\" + \" \" + \"Language\")  # Python Production Language\n",
    "print(\"Python\" + \"-\" + \"Production\" + \"-\" + \"Language\")  # Python-Production-Language"
   ]
  },
  {
   "cell_type": "code",
   "execution_count": 96,
   "metadata": {},
   "outputs": [
    {
     "ename": "TypeError",
     "evalue": "str.join() takes exactly one argument (3 given)",
     "output_type": "error",
     "traceback": [
      "\u001b[0;31m---------------------------------------------------------------------------\u001b[0m",
      "\u001b[0;31mTypeError\u001b[0m                                 Traceback (most recent call last)",
      "Cell \u001b[0;32mIn[96], line 1\u001b[0m\n\u001b[0;32m----> 1\u001b[0m \u001b[39m'\u001b[39;49m\u001b[39m'\u001b[39;49m\u001b[39m.\u001b[39;49mjoin(\u001b[39m'\u001b[39;49m\u001b[39mPython\u001b[39;49m\u001b[39m'\u001b[39;49m, \u001b[39m'\u001b[39;49m\u001b[39mProduction\u001b[39;49m\u001b[39m'\u001b[39;49m, \u001b[39m'\u001b[39;49m\u001b[39mLanguage\u001b[39;49m\u001b[39m'\u001b[39;49m)\n",
      "\u001b[0;31mTypeError\u001b[0m: str.join() takes exactly one argument (3 given)"
     ]
    }
   ],
   "source": [
    "\"\".join(\"Python\", \"Production\", \"Language\")"
   ]
  },
  {
   "cell_type": "code",
   "execution_count": 97,
   "metadata": {},
   "outputs": [
    {
     "data": {
      "text/plain": [
       "'PythonProductionLanguage'"
      ]
     },
     "execution_count": 97,
     "metadata": {},
     "output_type": "execute_result"
    }
   ],
   "source": [
    "\"\".join([\"Python\", \"Production\", \"Language\"])"
   ]
  },
  {
   "cell_type": "code",
   "execution_count": 98,
   "metadata": {},
   "outputs": [
    {
     "name": "stdout",
     "output_type": "stream",
     "text": [
      "PythonProductionLanguage\n",
      "Python Production Language\n",
      "Python-Production-Language\n",
      "Python@Production@Language\n"
     ]
    }
   ],
   "source": [
    "print(\"\".join([\"Python\", \"Production\", \"Language\"]))  # PythonProductionLanguage\n",
    "print(\" \".join([\"Python\", \"Production\", \"Language\"]))  # Python Production Language\n",
    "print(\"-\".join([\"Python\", \"Production\", \"Language\"]))  # Python-Production-Language\n",
    "print(\"@\".join([\"Python\", \"Production\", \"Language\"]))  # Python@Production@Language"
   ]
  },
  {
   "cell_type": "code",
   "execution_count": 99,
   "metadata": {},
   "outputs": [
    {
     "name": "stdout",
     "output_type": "stream",
     "text": [
      "102030405\n"
     ]
    }
   ],
   "source": [
    "print(\"0\".join([\"1\", \"2\", \"3\", \"4\", \"5\"]))  # '102030405'"
   ]
  },
  {
   "cell_type": "code",
   "execution_count": 100,
   "metadata": {},
   "outputs": [
    {
     "name": "stdout",
     "output_type": "stream",
     "text": [
      "1@2@3@4@5\n"
     ]
    }
   ],
   "source": [
    "print(\"@\".join([\"1\", \"2\", \"3\", \"4\", \"5\"]))  # '102030405'"
   ]
  },
  {
   "cell_type": "code",
   "execution_count": 101,
   "metadata": {},
   "outputs": [
    {
     "ename": "TypeError",
     "evalue": "sequence item 3: expected str instance, int found",
     "output_type": "error",
     "traceback": [
      "\u001b[0;31m---------------------------------------------------------------------------\u001b[0m",
      "\u001b[0;31mTypeError\u001b[0m                                 Traceback (most recent call last)",
      "Cell \u001b[0;32mIn[101], line 1\u001b[0m\n\u001b[0;32m----> 1\u001b[0m \u001b[39mprint\u001b[39m(\u001b[39m\"\u001b[39;49m\u001b[39m@\u001b[39;49m\u001b[39m\"\u001b[39;49m\u001b[39m.\u001b[39;49mjoin([\u001b[39m\"\u001b[39;49m\u001b[39m1\u001b[39;49m\u001b[39m\"\u001b[39;49m, \u001b[39m\"\u001b[39;49m\u001b[39m2\u001b[39;49m\u001b[39m\"\u001b[39;49m, \u001b[39m\"\u001b[39;49m\u001b[39m3\u001b[39;49m\u001b[39m\"\u001b[39;49m, \u001b[39m4\u001b[39;49m, \u001b[39m\"\u001b[39;49m\u001b[39m5\u001b[39;49m\u001b[39m\"\u001b[39;49m]))  \u001b[39m# '102030405'\u001b[39;00m\n",
      "\u001b[0;31mTypeError\u001b[0m: sequence item 3: expected str instance, int found"
     ]
    }
   ],
   "source": [
    "print(\"@\".join([\"1\", \"2\", \"3\", 4, \"5\"]))  # '102030405'"
   ]
  },
  {
   "cell_type": "code",
   "execution_count": 102,
   "metadata": {},
   "outputs": [
    {
     "name": "stdout",
     "output_type": "stream",
     "text": [
      "___ython ___roduction\n",
      "Python Production\n",
      "Rython Rroduction\n"
     ]
    }
   ],
   "source": [
    "print(\"___\".join(\"Python Production\".split(\"P\")))  # ___ython ___roduction\n",
    "print(\"P\".join(\"Python Production\".split(\"P\")))  # Python Production\n",
    "print(\"R\".join(\"Python Production\".split(\"P\")))  # Rython Rroduction"
   ]
  },
  {
   "cell_type": "code",
   "execution_count": 103,
   "metadata": {},
   "outputs": [
    {
     "name": "stdout",
     "output_type": "stream",
     "text": [
      "Rython Rroduction\n",
      "Python catuction\n",
      "Python Production\n"
     ]
    }
   ],
   "source": [
    "print(\"Python Production\".replace(\"P\", \"R\"))  # Rython Rroduction\n",
    "print(\"Python Production\".replace(\"Prod\", \"cat\"))  # Python catuction\n",
    "print(\"Python Production\".replace(\"Prod1\", \"cat\"))  # Python Production"
   ]
  },
  {
   "cell_type": "code",
   "execution_count": 104,
   "metadata": {},
   "outputs": [
    {
     "data": {
      "text/plain": [
       "'bbbbbbbbbbb'"
      ]
     },
     "execution_count": 104,
     "metadata": {},
     "output_type": "execute_result"
    }
   ],
   "source": [
    "\"aaaaaaaaaaa\".replace(\"a\", \"b\")  # 'bbbbbbbbbbb'"
   ]
  },
  {
   "cell_type": "code",
   "execution_count": 105,
   "metadata": {},
   "outputs": [
    {
     "data": {
      "text/plain": [
       "'bbaaaaaaaaa'"
      ]
     },
     "execution_count": 105,
     "metadata": {},
     "output_type": "execute_result"
    }
   ],
   "source": [
    "\"aaaaaaaaaaa\".replace(\"a\", \"b\", 2)  # 'bbaaaaaaaaa'"
   ]
  },
  {
   "cell_type": "code",
   "execution_count": 106,
   "metadata": {},
   "outputs": [],
   "source": [
    "# Asssignment: Check how to replace from right to left"
   ]
  },
  {
   "cell_type": "code",
   "execution_count": null,
   "metadata": {},
   "outputs": [],
   "source": []
  }
 ],
 "metadata": {
  "kernelspec": {
   "display_name": "Python 3",
   "language": "python",
   "name": "python3"
  },
  "language_info": {
   "codemirror_mode": {
    "name": "ipython",
    "version": 3
   },
   "file_extension": ".py",
   "mimetype": "text/x-python",
   "name": "python",
   "nbconvert_exporter": "python",
   "pygments_lexer": "ipython3",
   "version": "3.10.4"
  },
  "orig_nbformat": 4
 },
 "nbformat": 4,
 "nbformat_minor": 2
}
