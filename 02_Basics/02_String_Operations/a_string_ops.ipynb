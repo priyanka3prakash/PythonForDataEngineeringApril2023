{
 "cells": [
  {
   "attachments": {},
   "cell_type": "markdown",
   "metadata": {},
   "source": [
    "## String Operations\n",
    "    Strings can be represented using\n",
    "        1) single quotes,\n",
    "        2) double quotes, or\n",
    "        3) triple single quotes or\n",
    "        4) triple double quotes\n"
   ]
  },
  {
   "cell_type": "code",
   "execution_count": 1,
   "metadata": {},
   "outputs": [
    {
     "name": "stdout",
     "output_type": "stream",
     "text": [
      "Python Programming <class 'str'>\n"
     ]
    }
   ],
   "source": [
    "# String with single quotes\n",
    "language = 'Python Programming'\n",
    "print(language, type(language))"
   ]
  },
  {
   "cell_type": "code",
   "execution_count": 2,
   "metadata": {},
   "outputs": [
    {
     "name": "stdout",
     "output_type": "stream",
     "text": [
      "Python Programming <class 'str'>\n"
     ]
    }
   ],
   "source": [
    "# String with double quotes\n",
    "language = \"Python Programming\"\n",
    "print(language, type(language))"
   ]
  },
  {
   "cell_type": "code",
   "execution_count": 3,
   "metadata": {},
   "outputs": [
    {
     "name": "stdout",
     "output_type": "stream",
     "text": [
      "Python Programming <class 'str'>\n"
     ]
    }
   ],
   "source": [
    "# String with triple single quotes\n",
    "language = '''Python Programming'''\n",
    "print(language, type(language))"
   ]
  },
  {
   "cell_type": "code",
   "execution_count": 4,
   "metadata": {},
   "outputs": [
    {
     "name": "stdout",
     "output_type": "stream",
     "text": [
      "Python Programming <class 'str'>\n"
     ]
    }
   ],
   "source": [
    "# String with triple double quotes\n",
    "language = \"\"\"Python Programming\"\"\"\n",
    "print(language, type(language))"
   ]
  },
  {
   "cell_type": "markdown",
   "metadata": {},
   "source": [
    "### importance_of_quotes"
   ]
  },
  {
   "cell_type": "code",
   "execution_count": 5,
   "metadata": {},
   "outputs": [
    {
     "name": "stdout",
     "output_type": "stream",
     "text": [
      "Python Programming <class 'str'>\n"
     ]
    }
   ],
   "source": [
    "language = 'Python Programming'\n",
    "print(language, type(language))"
   ]
  },
  {
   "cell_type": "code",
   "execution_count": 6,
   "metadata": {},
   "outputs": [
    {
     "name": "stdout",
     "output_type": "stream",
     "text": [
      "How are your? <class 'str'>\n"
     ]
    }
   ],
   "source": [
    "question = 'How are your?'\n",
    "print(question, type(question))"
   ]
  },
  {
   "cell_type": "code",
   "execution_count": 7,
   "metadata": {},
   "outputs": [
    {
     "ename": "SyntaxError",
     "evalue": "unterminated string literal (detected at line 1) (3213814847.py, line 1)",
     "output_type": "error",
     "traceback": [
      "\u001b[0;36m  Cell \u001b[0;32mIn[7], line 1\u001b[0;36m\u001b[0m\n\u001b[0;31m    where_abouts = 'what's up?'\u001b[0m\n\u001b[0m                              ^\u001b[0m\n\u001b[0;31mSyntaxError\u001b[0m\u001b[0;31m:\u001b[0m unterminated string literal (detected at line 1)\n"
     ]
    }
   ],
   "source": [
    "where_abouts = 'what's up?'"
   ]
  },
  {
   "cell_type": "code",
   "execution_count": 8,
   "metadata": {},
   "outputs": [
    {
     "name": "stdout",
     "output_type": "stream",
     "text": [
      "what's up? <class 'str'>\n"
     ]
    }
   ],
   "source": [
    "where_abouts = 'what\\'s up?'\n",
    "print(where_abouts, type(where_abouts))"
   ]
  },
  {
   "cell_type": "code",
   "execution_count": 9,
   "metadata": {},
   "outputs": [],
   "source": [
    "# NOTE 1: Placing \\ before any operator with result in treating operator as a ordinary character"
   ]
  },
  {
   "cell_type": "code",
   "execution_count": 11,
   "metadata": {},
   "outputs": [
    {
     "name": "stdout",
     "output_type": "stream",
     "text": [
      "What's going in yours' in-laws' house\n"
     ]
    }
   ],
   "source": [
    "other_string = 'What\\'s going in yours\\' in-laws\\' house'\n",
    "print(other_string)"
   ]
  },
  {
   "cell_type": "code",
   "execution_count": 12,
   "metadata": {},
   "outputs": [
    {
     "name": "stdout",
     "output_type": "stream",
     "text": [
      "What's going in yours' in-laws' house\n"
     ]
    }
   ],
   "source": [
    "other_string = \"What's going in yours' in-laws' house\"\n",
    "print(other_string)"
   ]
  },
  {
   "cell_type": "code",
   "execution_count": 13,
   "metadata": {},
   "outputs": [
    {
     "name": "stdout",
     "output_type": "stream",
     "text": [
      "What's up in yours' daugther's \"wedding\"\n"
     ]
    }
   ],
   "source": [
    "some_other_str = '''What's up in yours' daugther's \"wedding\"'''\n",
    "print(some_other_str)"
   ]
  },
  {
   "cell_type": "code",
   "execution_count": 14,
   "metadata": {},
   "outputs": [
    {
     "name": "stdout",
     "output_type": "stream",
     "text": [
      " python -c 'awdwad' asdss \"sfdsdfd\", '''dedfdfwef sd -m jd;jd''' \n"
     ]
    }
   ],
   "source": [
    "some_other_str = \"\"\" python -c 'awdwad' asdss \"sfdsdfd\", '''dedfdfwef sd -m jd;jd''' \"\"\"\n",
    "print(some_other_str)"
   ]
  },
  {
   "cell_type": "code",
   "execution_count": 15,
   "metadata": {},
   "outputs": [
    {
     "data": {
      "text/plain": [
       "\"'\""
      ]
     },
     "execution_count": 15,
     "metadata": {},
     "output_type": "execute_result"
    }
   ],
   "source": [
    "'\\''"
   ]
  },
  {
   "cell_type": "code",
   "execution_count": 16,
   "metadata": {},
   "outputs": [
    {
     "data": {
      "text/plain": [
       "\"'\""
      ]
     },
     "execution_count": 16,
     "metadata": {},
     "output_type": "execute_result"
    }
   ],
   "source": [
    "\"'\""
   ]
  },
  {
   "cell_type": "code",
   "execution_count": 17,
   "metadata": {},
   "outputs": [
    {
     "data": {
      "text/plain": [
       "'\"'"
      ]
     },
     "execution_count": 17,
     "metadata": {},
     "output_type": "execute_result"
    }
   ],
   "source": [
    "'\"'"
   ]
  },
  {
   "cell_type": "code",
   "execution_count": 19,
   "metadata": {},
   "outputs": [
    {
     "data": {
      "text/plain": [
       "' \\'\"\"\\' '"
      ]
     },
     "execution_count": 19,
     "metadata": {},
     "output_type": "execute_result"
    }
   ],
   "source": [
    "''' '\"\"' '''"
   ]
  },
  {
   "cell_type": "markdown",
   "metadata": {},
   "source": [
    "### Multi-line Strings"
   ]
  },
  {
   "cell_type": "code",
   "execution_count": 20,
   "metadata": {},
   "outputs": [
    {
     "ename": "SyntaxError",
     "evalue": "unterminated string literal (detected at line 1) (4114718849.py, line 1)",
     "output_type": "error",
     "traceback": [
      "\u001b[0;36m  Cell \u001b[0;32mIn[20], line 1\u001b[0;36m\u001b[0m\n\u001b[0;31m    'Today is good day\u001b[0m\n\u001b[0m    ^\u001b[0m\n\u001b[0;31mSyntaxError\u001b[0m\u001b[0;31m:\u001b[0m unterminated string literal (detected at line 1)\n"
     ]
    }
   ],
   "source": [
    "'Today is good day\n",
    "      to learn python'"
   ]
  },
  {
   "cell_type": "code",
   "execution_count": 21,
   "metadata": {},
   "outputs": [
    {
     "data": {
      "text/plain": [
       "'Today is good day      to learn python'"
      ]
     },
     "execution_count": 21,
     "metadata": {},
     "output_type": "execute_result"
    }
   ],
   "source": [
    "'Today is good day\\\n",
    "      to learn python'"
   ]
  },
  {
   "cell_type": "code",
   "execution_count": 23,
   "metadata": {},
   "outputs": [
    {
     "data": {
      "text/plain": [
       "'Today is good day      to learn python'"
      ]
     },
     "execution_count": 23,
     "metadata": {},
     "output_type": "execute_result"
    }
   ],
   "source": [
    "\"Today is good day\\\n",
    "      to learn python\""
   ]
  },
  {
   "cell_type": "code",
   "execution_count": 24,
   "metadata": {},
   "outputs": [
    {
     "data": {
      "text/plain": [
       "'Today is good day      to learn python'"
      ]
     },
     "execution_count": 24,
     "metadata": {},
     "output_type": "execute_result"
    }
   ],
   "source": [
    "'''Today is good day\\\n",
    "      to learn python'''"
   ]
  },
  {
   "cell_type": "code",
   "execution_count": 25,
   "metadata": {},
   "outputs": [
    {
     "data": {
      "text/plain": [
       "'Today is good day\\n      to learn python'"
      ]
     },
     "execution_count": 25,
     "metadata": {},
     "output_type": "execute_result"
    }
   ],
   "source": [
    "'''Today is good day\n",
    "      to learn python'''"
   ]
  },
  {
   "cell_type": "code",
   "execution_count": 26,
   "metadata": {},
   "outputs": [
    {
     "data": {
      "text/plain": [
       "'Today is good day       to learn python'"
      ]
     },
     "execution_count": 26,
     "metadata": {},
     "output_type": "execute_result"
    }
   ],
   "source": [
    "\"\"\"Today is good day \\\n",
    "      to learn python\"\"\""
   ]
  },
  {
   "cell_type": "code",
   "execution_count": 27,
   "metadata": {},
   "outputs": [
    {
     "data": {
      "text/plain": [
       "'Today is good day \\n      to learn python'"
      ]
     },
     "execution_count": 27,
     "metadata": {},
     "output_type": "execute_result"
    }
   ],
   "source": [
    "\"\"\"Today is good day \n",
    "      to learn python\"\"\""
   ]
  },
  {
   "cell_type": "code",
   "execution_count": 28,
   "metadata": {},
   "outputs": [],
   "source": [
    "# NOTE 2: triple quote strings are multi-line strings"
   ]
  },
  {
   "cell_type": "code",
   "execution_count": 29,
   "metadata": {},
   "outputs": [
    {
     "name": "stdout",
     "output_type": "stream",
     "text": [
      " \n",
      "    Select  * \n",
      "    from table1 t1\n",
      "    LEFT JOIN table2 t2 on t1.id = t2.id\n",
      "    ORDER BY t1.id;\n",
      "\n"
     ]
    }
   ],
   "source": [
    "sql_cmd = ''' \n",
    "    Select  * \n",
    "    from table1 t1\n",
    "    LEFT JOIN table2 t2 on t1.id = t2.id\n",
    "    ORDER BY t1.id;\n",
    "'''\n",
    "print(sql_cmd)"
   ]
  },
  {
   "cell_type": "code",
   "execution_count": 31,
   "metadata": {},
   "outputs": [
    {
     "ename": "SyntaxError",
     "evalue": "invalid syntax (1249649826.py, line 3)",
     "output_type": "error",
     "traceback": [
      "\u001b[0;36m  Cell \u001b[0;32mIn[31], line 3\u001b[0;36m\u001b[0m\n\u001b[0;31m    sql_cmd2 = \"select * from my_table where column='python' and column2 = \"django\"\"\u001b[0m\n\u001b[0m                                                                            ^\u001b[0m\n\u001b[0;31mSyntaxError\u001b[0m\u001b[0;31m:\u001b[0m invalid syntax\n"
     ]
    }
   ],
   "source": [
    "# Gotcha\n",
    "# sql_cmd2 = 'select * from my_table where column='python' and column2 = \"django\"'\n",
    "sql_cmd2 = \"select * from my_table where column='python' and column2 = \"django\"\""
   ]
  },
  {
   "cell_type": "code",
   "execution_count": 33,
   "metadata": {},
   "outputs": [],
   "source": [
    "sql_cmd2 = '''select * from my_table where column='python' and column2 = \"django\"'''"
   ]
  },
  {
   "cell_type": "code",
   "execution_count": 34,
   "metadata": {},
   "outputs": [
    {
     "ename": "SyntaxError",
     "evalue": "unterminated string literal (detected at line 1) (2913523893.py, line 1)",
     "output_type": "error",
     "traceback": [
      "\u001b[0;36m  Cell \u001b[0;32mIn[34], line 1\u001b[0;36m\u001b[0m\n\u001b[0;31m    sql_cmd2 = '''select * from my_table where column='python' and column2 = 'django''''\u001b[0m\n\u001b[0m                                                                                       ^\u001b[0m\n\u001b[0;31mSyntaxError\u001b[0m\u001b[0;31m:\u001b[0m unterminated string literal (detected at line 1)\n"
     ]
    }
   ],
   "source": [
    "sql_cmd2 = '''select * from my_table where column='python' and column2 = 'django''''"
   ]
  },
  {
   "cell_type": "code",
   "execution_count": 35,
   "metadata": {},
   "outputs": [],
   "source": [
    "sql_cmd2 = '''select * from my_table where column='python' and column2 = 'django' '''"
   ]
  },
  {
   "cell_type": "code",
   "execution_count": 36,
   "metadata": {},
   "outputs": [],
   "source": [
    "sql_cmd2 = '''select * from my_table where column='python' and column2 = 'django';'''"
   ]
  },
  {
   "cell_type": "code",
   "execution_count": 37,
   "metadata": {},
   "outputs": [],
   "source": [
    "# NOTE3:   PEP 8 -> use triple double quotes for doc-strings"
   ]
  },
  {
   "cell_type": "markdown",
   "metadata": {},
   "source": [
    "## String Operations\n",
    "\n",
    "###  String Indexing"
   ]
  },
  {
   "cell_type": "code",
   "execution_count": 38,
   "metadata": {},
   "outputs": [
    {
     "name": "stdout",
     "output_type": "stream",
     "text": [
      "Python Programming <class 'str'>\n"
     ]
    }
   ],
   "source": [
    "language = \"Python Programming\"\n",
    "print(language, type(language))"
   ]
  },
  {
   "cell_type": "code",
   "execution_count": 39,
   "metadata": {},
   "outputs": [
    {
     "name": "stdout",
     "output_type": "stream",
     "text": [
      "len(language)= 18\n"
     ]
    }
   ],
   "source": [
    "# len() - to get no. of characters in string\n",
    "print(\"len(language)=\", len(language))"
   ]
  },
  {
   "cell_type": "code",
   "execution_count": 41,
   "metadata": {},
   "outputs": [],
   "source": [
    "# P   y  t  h  o n   P r  o g  r  a  m  m  i  n  g\n",
    "# 0   1  2  3  4 5 6 7 8  9 10 11 12 13 14 15 16 17    - forward indexing\n",
    "# -18                    -9 -8 -7 -6 -5 -4 -3 -2 -1    - reverse indexing\n",
    "\n",
    "# NOTE: indexing starts with 0"
   ]
  },
  {
   "cell_type": "code",
   "execution_count": 42,
   "metadata": {},
   "outputs": [
    {
     "data": {
      "text/plain": [
       "'Python Programming'"
      ]
     },
     "execution_count": 42,
     "metadata": {},
     "output_type": "execute_result"
    }
   ],
   "source": [
    "language"
   ]
  },
  {
   "cell_type": "code",
   "execution_count": 43,
   "metadata": {},
   "outputs": [
    {
     "data": {
      "text/plain": [
       "'P'"
      ]
     },
     "execution_count": 43,
     "metadata": {},
     "output_type": "execute_result"
    }
   ],
   "source": [
    "language[0]"
   ]
  },
  {
   "cell_type": "code",
   "execution_count": 44,
   "metadata": {},
   "outputs": [
    {
     "data": {
      "text/plain": [
       "'r'"
      ]
     },
     "execution_count": 44,
     "metadata": {},
     "output_type": "execute_result"
    }
   ],
   "source": [
    "language[8]"
   ]
  },
  {
   "cell_type": "code",
   "execution_count": 45,
   "metadata": {},
   "outputs": [
    {
     "name": "stdout",
     "output_type": "stream",
     "text": [
      "language    : Python Programming\n",
      "language[14]: m\n",
      "language[6] :  \n",
      "language[17]: g\n"
     ]
    }
   ],
   "source": [
    "print(\"language    :\", language)\n",
    "print(\"language[14]:\", language[14])\n",
    "print(\"language[6] :\", language[6])\n",
    "print(\"language[17]:\", language[17])"
   ]
  },
  {
   "cell_type": "code",
   "execution_count": 46,
   "metadata": {},
   "outputs": [
    {
     "data": {
      "text/plain": [
       "True"
      ]
     },
     "execution_count": 46,
     "metadata": {},
     "output_type": "execute_result"
    }
   ],
   "source": [
    "language[6] == \" \""
   ]
  },
  {
   "cell_type": "code",
   "execution_count": 47,
   "metadata": {},
   "outputs": [],
   "source": [
    "# P   y  t  h  o n   P r  o g  r  a  m  m  i  n  g\n",
    "# 0   1  2  3  4 5 6 7 8  9 10 11 12 13 14 15 16 17    - forward indexing\n",
    "# -18                    -9 -8 -7 -6 -5 -4 -3 -2 -1    - reverse indexing\n",
    "\n",
    "# NOTE: indexing starts with 0"
   ]
  },
  {
   "cell_type": "code",
   "execution_count": 48,
   "metadata": {},
   "outputs": [
    {
     "ename": "IndexError",
     "evalue": "string index out of range",
     "output_type": "error",
     "traceback": [
      "\u001b[0;31m---------------------------------------------------------------------------\u001b[0m",
      "\u001b[0;31mIndexError\u001b[0m                                Traceback (most recent call last)",
      "Cell \u001b[0;32mIn[48], line 1\u001b[0m\n\u001b[0;32m----> 1\u001b[0m language[\u001b[39m18\u001b[39;49m]\n",
      "\u001b[0;31mIndexError\u001b[0m: string index out of range"
     ]
    }
   ],
   "source": [
    "language[18]"
   ]
  },
  {
   "cell_type": "code",
   "execution_count": 49,
   "metadata": {},
   "outputs": [
    {
     "name": "stdout",
     "output_type": "stream",
     "text": [
      "language[0]   : P\n",
      "language[-0]  : P\n"
     ]
    }
   ],
   "source": [
    "print(\"language[0]   :\", language[0])\n",
    "print(\"language[-0]  :\", language[-0])"
   ]
  },
  {
   "cell_type": "code",
   "execution_count": 50,
   "metadata": {},
   "outputs": [
    {
     "name": "stdout",
     "output_type": "stream",
     "text": [
      "language[-3]  : i\n",
      "len(language) : 18\n",
      "language[len(language)-3]  : i\n"
     ]
    }
   ],
   "source": [
    "print(\"language[-3]  :\", language[-3])\n",
    "print(\"len(language) :\", len(language))\n",
    "print(\"language[len(language)-3]  :\", language[len(language) - 3])"
   ]
  },
  {
   "cell_type": "code",
   "execution_count": 51,
   "metadata": {},
   "outputs": [
    {
     "name": "stdout",
     "output_type": "stream",
     "text": [
      "language[-18] : P\n",
      "language[0]   : P\n"
     ]
    }
   ],
   "source": [
    "print(\"language[-18] :\", language[-18])\n",
    "print(\"language[0]   :\", language[0])\n"
   ]
  },
  {
   "cell_type": "code",
   "execution_count": 52,
   "metadata": {},
   "outputs": [
    {
     "ename": "IndexError",
     "evalue": "string index out of range",
     "output_type": "error",
     "traceback": [
      "\u001b[0;31m---------------------------------------------------------------------------\u001b[0m",
      "\u001b[0;31mIndexError\u001b[0m                                Traceback (most recent call last)",
      "Cell \u001b[0;32mIn[52], line 1\u001b[0m\n\u001b[0;32m----> 1\u001b[0m language[\u001b[39m-\u001b[39;49m\u001b[39m19\u001b[39;49m]\n",
      "\u001b[0;31mIndexError\u001b[0m: string index out of range"
     ]
    }
   ],
   "source": [
    "language[-19]"
   ]
  },
  {
   "cell_type": "code",
   "execution_count": 53,
   "metadata": {},
   "outputs": [],
   "source": [
    "# NOTE 1: For a string of length N, we can indexing from -N to (N -1)"
   ]
  },
  {
   "cell_type": "code",
   "execution_count": 54,
   "metadata": {},
   "outputs": [
    {
     "ename": "TypeError",
     "evalue": "string indices must be integers",
     "output_type": "error",
     "traceback": [
      "\u001b[0;31m---------------------------------------------------------------------------\u001b[0m",
      "\u001b[0;31mTypeError\u001b[0m                                 Traceback (most recent call last)",
      "Cell \u001b[0;32mIn[54], line 1\u001b[0m\n\u001b[0;32m----> 1\u001b[0m language[\u001b[39m0.0\u001b[39;49m]\n",
      "\u001b[0;31mTypeError\u001b[0m: string indices must be integers"
     ]
    }
   ],
   "source": [
    "language[0.0]"
   ]
  },
  {
   "attachments": {},
   "cell_type": "markdown",
   "metadata": {},
   "source": [
    "### String Slicing\n",
    "\n",
    "    indexing -- string[index]\n",
    "    slicing  ---string[start_index: final_index]\n",
    "\n",
    "    # NOTE: In python, it doesn't include the last value, in a boundary condition.\n"
   ]
  },
  {
   "cell_type": "code",
   "execution_count": 55,
   "metadata": {},
   "outputs": [
    {
     "name": "stdout",
     "output_type": "stream",
     "text": [
      "language       : Python Programming\n",
      "language[0]    : P\n"
     ]
    }
   ],
   "source": [
    "# P   y  t  h  o n     P r o g  r  a  m  m  i  n  g\n",
    "# 0   1  2  3  4 5  6  7 8 9 10 11 12 13 14 15 16 17   - forward indexing\n",
    "# -18                                      -3 -2 -1    - reverse indexing\n",
    "\n",
    "language = \"Python Programming\"\n",
    "print(\"language       :\", language)\n",
    "\n",
    "# indexing\n",
    "print(\"language[0]    :\", language[0])"
   ]
  },
  {
   "cell_type": "code",
   "execution_count": 56,
   "metadata": {},
   "outputs": [
    {
     "data": {
      "text/plain": [
       "'Python Programmin'"
      ]
     },
     "execution_count": 56,
     "metadata": {},
     "output_type": "execute_result"
    }
   ],
   "source": [
    "language[0:17]"
   ]
  },
  {
   "cell_type": "code",
   "execution_count": 58,
   "metadata": {},
   "outputs": [
    {
     "name": "stdout",
     "output_type": "stream",
     "text": [
      "String Slicing\n",
      "language[0:11] : Python Prog\n",
      "language[5:17] : n Programmin\n",
      "language[7:10] : Pro\n"
     ]
    }
   ],
   "source": [
    "# Slicing\n",
    "print(\"String Slicing\")  # [start_index: final_index]\n",
    "print(\"language[0:11] :\", language[0:11])  # Python Prog\n",
    "print(\"language[5:17] :\", language[5:17])  # n Programmin\n",
    "print(\"language[7:10] :\", language[7:10])  # Pro"
   ]
  },
  {
   "cell_type": "code",
   "execution_count": 59,
   "metadata": {},
   "outputs": [
    {
     "name": "stdout",
     "output_type": "stream",
     "text": [
      "language[0:5]  : Pytho\n",
      "language[0:6]  : Python\n"
     ]
    }
   ],
   "source": [
    "print(\"language[0:5]  :\", language[0:5])  # Pytho\n",
    "print(\"language[0:6]  :\", language[0:6])  # Python"
   ]
  },
  {
   "cell_type": "code",
   "execution_count": 60,
   "metadata": {},
   "outputs": [
    {
     "ename": "IndexError",
     "evalue": "string index out of range",
     "output_type": "error",
     "traceback": [
      "\u001b[0;31m---------------------------------------------------------------------------\u001b[0m",
      "\u001b[0;31mIndexError\u001b[0m                                Traceback (most recent call last)",
      "Cell \u001b[0;32mIn[60], line 1\u001b[0m\n\u001b[0;32m----> 1\u001b[0m language[\u001b[39m18\u001b[39;49m]\n",
      "\u001b[0;31mIndexError\u001b[0m: string index out of range"
     ]
    }
   ],
   "source": [
    "language[18]"
   ]
  },
  {
   "cell_type": "code",
   "execution_count": 61,
   "metadata": {},
   "outputs": [
    {
     "name": "stdout",
     "output_type": "stream",
     "text": [
      "language[7:18] : Programming\n",
      "language[7:999]: Programming\n",
      "language[45:87]: \n"
     ]
    }
   ],
   "source": [
    "print(\"language[7:18] :\", language[7:18])  # Programming\n",
    "print(\"language[7:999]:\", language[7:999])  # 999 index isn't present\n",
    "print(\"language[45:87]:\", language[45:87])  # indexes are not present"
   ]
  },
  {
   "cell_type": "code",
   "execution_count": 62,
   "metadata": {},
   "outputs": [],
   "source": [
    "# P   y  t  h  o n     P r o g  r  a  m  m  i  n  g\n",
    "# 0   1  2  3  4 5  6  7 8 9 10 11 12 13 14 15 16 17   - forward indexing\n",
    "# -18                                      -3 -2 -1    - reverse indexing"
   ]
  },
  {
   "cell_type": "code",
   "execution_count": 63,
   "metadata": {},
   "outputs": [],
   "source": [
    "# string slicing :-\n",
    "#   string[start_index: final_index: step]\n",
    "#   Default Step is +1"
   ]
  },
  {
   "cell_type": "code",
   "execution_count": 64,
   "metadata": {},
   "outputs": [
    {
     "name": "stdout",
     "output_type": "stream",
     "text": [
      "language[7:18]   = Programming\n",
      "language[7:18:1] = Programming\n"
     ]
    }
   ],
   "source": [
    "print(\"language[7:18]   =\", language[7:18])\n",
    "print(\"language[7:18:1] =\", language[7:18:1])\n",
    "\n",
    "# [7:18:1] =>7, 8, 9, 10, 11, 12, 13, 14, 15, 16, 17"
   ]
  },
  {
   "cell_type": "code",
   "execution_count": 65,
   "metadata": {},
   "outputs": [
    {
     "name": "stdout",
     "output_type": "stream",
     "text": [
      "language[7:18:3] = Pgmn\n"
     ]
    }
   ],
   "source": [
    "print(\"language[7:18:3] =\", language[7:18:3])\n",
    "# [7:18:3] =>  7, 10, 13, 16"
   ]
  },
  {
   "cell_type": "code",
   "execution_count": 66,
   "metadata": {},
   "outputs": [
    {
     "name": "stdout",
     "output_type": "stream",
     "text": [
      "language[7:18:-1]= \n"
     ]
    }
   ],
   "source": [
    "print(\"language[7:18:-1]=\", language[7:18:-1])\n",
    "# 7-1 = 6 ; it is not between 7 and 18\n",
    "# [7:18:-1]  =>"
   ]
  },
  {
   "cell_type": "code",
   "execution_count": 67,
   "metadata": {},
   "outputs": [],
   "source": [
    "# P   y  t  h  o n     P r o g  r  a  m  m  i  n  g\n",
    "# 0   1  2  3  4 5  6  7 8 9 10 11 12 13 14 15 16 17   - forward indexing\n",
    "# -18                                      -3 -2 -1    - reverse indexing"
   ]
  },
  {
   "cell_type": "code",
   "execution_count": 68,
   "metadata": {},
   "outputs": [
    {
     "name": "stdout",
     "output_type": "stream",
     "text": [
      "language[17:7:-1] gnimmargor\n"
     ]
    }
   ],
   "source": [
    "print(\"language[17:7:-1]\", language[17:7:-1])  # 17-1 = 16\n",
    "# [17:7:-1] => 17, 16, 15, 14, 13, 12, 11, 10, 9, 8"
   ]
  },
  {
   "cell_type": "code",
   "execution_count": 70,
   "metadata": {},
   "outputs": [
    {
     "name": "stdout",
     "output_type": "stream",
     "text": [
      "language[23:7:-3] gmrr\n"
     ]
    }
   ],
   "source": [
    "print(\"language[23:7:-3]\", language[23:7:-3])  # 23 -3 = 20\n",
    "# [23:7:-3] => 23, 20, 17, 14, 11, 8\n",
    "#  -6          17, 14, 11,  8\n",
    "#               g  m    r   r"
   ]
  },
  {
   "cell_type": "code",
   "execution_count": 71,
   "metadata": {},
   "outputs": [],
   "source": [
    "# String Slicing [start_index:final_index, step]\n",
    "# default start_index = 0\n",
    "# default final_index = string length\n",
    "# default step = +1"
   ]
  },
  {
   "cell_type": "code",
   "execution_count": 72,
   "metadata": {},
   "outputs": [
    {
     "name": "stdout",
     "output_type": "stream",
     "text": [
      "language[0:7:1]: Python \n",
      "language[:7]  : Python \n"
     ]
    }
   ],
   "source": [
    "# language[0:7:+1] => 0, 1, 2, 3, 4, 5, 6\n",
    "print(\"language[0:7:1]:\", language[0:7:1])\n",
    "print(\"language[:7]  :\", language[:7]) # [defult_start_index: 7: defaut_step] = [0: 7: +1]"
   ]
  },
  {
   "cell_type": "code",
   "execution_count": 73,
   "metadata": {},
   "outputs": [
    {
     "name": "stdout",
     "output_type": "stream",
     "text": [
      "language[0:]  : Python Programming\n",
      "language[6:]  :  Programming\n"
     ]
    }
   ],
   "source": [
    "print(\"language[0:]  :\", language[0:])  # language[0:18:+1]\n",
    "print(\"language[6:]  :\", language[6:])  # language[6:18:+1]"
   ]
  },
  {
   "cell_type": "code",
   "execution_count": 74,
   "metadata": {},
   "outputs": [
    {
     "name": "stdout",
     "output_type": "stream",
     "text": [
      "language[:]   : Python Programming\n",
      "language      : Python Programming\n",
      "language[::]  : Python Programming\n"
     ]
    }
   ],
   "source": [
    "print(\"language[:]   :\", language[:])  # language[0:18:+1]\n",
    "print(\"language      :\", language)\n",
    "print(\"language[::]  :\", language[::])  # default step = +1=> language[0:18:+1]"
   ]
  },
  {
   "cell_type": "code",
   "execution_count": 75,
   "metadata": {},
   "outputs": [
    {
     "name": "stdout",
     "output_type": "stream",
     "text": [
      "language[::1] : Python Programming\n",
      "language[::3] : Ph oai\n"
     ]
    }
   ],
   "source": [
    "print(\"language[::1] :\", language[::1])  # language[0:18:+1]\n",
    "print(\"language[::3] :\", language[::3])  # language[0:18:+3]"
   ]
  },
  {
   "cell_type": "code",
   "execution_count": 77,
   "metadata": {},
   "outputs": [
    {
     "name": "stdout",
     "output_type": "stream",
     "text": [
      "language[:1] : P\n",
      "language[:3] : Pyt\n"
     ]
    }
   ],
   "source": [
    "print(\"language[:1] :\", language[:1])  # language[0:1:+1]\n",
    "print(\"language[:3] :\", language[:3])  # language[0:3:+1]"
   ]
  },
  {
   "cell_type": "code",
   "execution_count": 78,
   "metadata": {},
   "outputs": [],
   "source": [
    "# If step is -ve, and start_index and final_index were not given,\n",
    "# then\n",
    "#   start_index = length of string - 1\n",
    "#   final_index = -1"
   ]
  },
  {
   "cell_type": "code",
   "execution_count": 81,
   "metadata": {},
   "outputs": [
    {
     "name": "stdout",
     "output_type": "stream",
     "text": [
      "language[::1] : Python Programming\n"
     ]
    }
   ],
   "source": [
    "print(\"language[::1] :\", language[::1])"
   ]
  },
  {
   "cell_type": "code",
   "execution_count": 82,
   "metadata": {},
   "outputs": [
    {
     "name": "stdout",
     "output_type": "stream",
     "text": [
      "language[::-1] : gnimmargorP nohtyP\n"
     ]
    }
   ],
   "source": [
    "# str reversal  language[17:-1:-1]=> 17,16,15, .... 3, 2, 1, 0\n",
    "print(\"language[::-1] :\", language[::-1])"
   ]
  },
  {
   "cell_type": "code",
   "execution_count": 83,
   "metadata": {},
   "outputs": [
    {
     "name": "stdout",
     "output_type": "stream",
     "text": [
      "language[::-3] : gmrrnt\n"
     ]
    }
   ],
   "source": [
    "# str reversal  language[17:-1:-3]=> 17, 14, 11, 8, 5, 2, -1\n",
    "print(\"language[::-3] :\", language[::-3])"
   ]
  },
  {
   "cell_type": "code",
   "execution_count": 84,
   "metadata": {},
   "outputs": [
    {
     "name": "stdout",
     "output_type": "stream",
     "text": [
      "language[::-5] : gaPt\n"
     ]
    }
   ],
   "source": [
    "# str reversal  language[17:-1:-5]=> 17, 12, 7, 2\n",
    "print(\"language[::-5] :\", language[::-5])"
   ]
  },
  {
   "cell_type": "code",
   "execution_count": 85,
   "metadata": {},
   "outputs": [
    {
     "name": "stdout",
     "output_type": "stream",
     "text": [
      "language[4::-5] : o\n"
     ]
    }
   ],
   "source": [
    "print(\"language[4::-5] :\", language[4::-5])  # forawarding indexing [4:18:-5]"
   ]
  },
  {
   "cell_type": "code",
   "execution_count": null,
   "metadata": {},
   "outputs": [],
   "source": []
  }
 ],
 "metadata": {
  "kernelspec": {
   "display_name": "Python 3",
   "language": "python",
   "name": "python3"
  },
  "language_info": {
   "codemirror_mode": {
    "name": "ipython",
    "version": 3
   },
   "file_extension": ".py",
   "mimetype": "text/x-python",
   "name": "python",
   "nbconvert_exporter": "python",
   "pygments_lexer": "ipython3",
   "version": "3.10.4"
  },
  "orig_nbformat": 4
 },
 "nbformat": 4,
 "nbformat_minor": 2
}
