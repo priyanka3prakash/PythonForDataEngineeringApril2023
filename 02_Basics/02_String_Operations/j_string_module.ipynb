{
 "cells": [
  {
   "cell_type": "code",
   "execution_count": 1,
   "metadata": {},
   "outputs": [],
   "source": [
    "import string"
   ]
  },
  {
   "cell_type": "code",
   "execution_count": 3,
   "metadata": {},
   "outputs": [
    {
     "name": "stdout",
     "output_type": "stream",
     "text": [
      "<module 'string' from '/home/codespace/.python/current/lib/python3.10/string.py'>\n",
      "<class 'module'>\n",
      "140218482678480\n",
      "['Formatter', 'Template', '_ChainMap', '__all__', '__builtins__', '__cached__', '__doc__', '__file__', '__loader__', '__name__', '__package__', '__spec__', '_re', '_sentinel_dict', '_string', 'ascii_letters', 'ascii_lowercase', 'ascii_uppercase', 'capwords', 'digits', 'hexdigits', 'octdigits', 'printable', 'punctuation', 'whitespace']\n"
     ]
    }
   ],
   "source": [
    "print(string)  # value\n",
    "print(type(string))  # type\n",
    "print(id(string))  # address\n",
    "print(dir(string))  # usage"
   ]
  },
  {
   "cell_type": "code",
   "execution_count": 4,
   "metadata": {},
   "outputs": [
    {
     "name": "stdout",
     "output_type": "stream",
     "text": [
      "string.ascii_letters   ='abcdefghijklmnopqrstuvwxyzABCDEFGHIJKLMNOPQRSTUVWXYZ'\n",
      "string.ascii_lowercase ='abcdefghijklmnopqrstuvwxyz'\n",
      "string.ascii_uppercase ='ABCDEFGHIJKLMNOPQRSTUVWXYZ'\n",
      "string.digits          ='0123456789'\n",
      "string.hexdigits       ='0123456789abcdefABCDEF'\n",
      "string.octdigits       ='01234567'\n",
      "string.printable       ='0123456789abcdefghijklmnopqrstuvwxyzABCDEFGHIJKLMNOPQRSTUVWXYZ!\"#$%&\\'()*+,-./:;<=>?@[\\\\]^_`{|}~ \\t\\n\\r\\x0b\\x0c'\n",
      "string.punctuation     ='!\"#$%&\\'()*+,-./:;<=>?@[\\\\]^_`{|}~'\n",
      "string.whitespace      =' \\t\\n\\r\\x0b\\x0c'\n"
     ]
    }
   ],
   "source": [
    "print(f\"{string.ascii_letters   =}\")\n",
    "print(f\"{string.ascii_lowercase =}\")\n",
    "print(f\"{string.ascii_uppercase =}\")\n",
    "print(f\"{string.digits          =}\")\n",
    "print(f\"{string.hexdigits       =}\")\n",
    "print(f\"{string.octdigits       =}\")\n",
    "print(f\"{string.printable       =}\")\n",
    "print(f\"{string.punctuation     =}\")\n",
    "print(f\"{string.whitespace      =}\")"
   ]
  },
  {
   "cell_type": "code",
   "execution_count": 5,
   "metadata": {},
   "outputs": [
    {
     "name": "stdout",
     "output_type": "stream",
     "text": [
      "string.capwords(\"aaaaaaaaaaaaaaaaa\")='Aaaaaaaaaaaaaaaaa'\n",
      "string.capwords(\"11111111111111111\")='11111111111111111'\n",
      "string.capwords(\"one two three 345\")='One Two Three 345'\n"
     ]
    }
   ],
   "source": [
    "print(f'{string.capwords(\"aaaaaaaaaaaaaaaaa\")=}')\n",
    "print(f'{string.capwords(\"11111111111111111\")=}')\n",
    "print(f'{string.capwords(\"one two three 345\")=}')  # str.title"
   ]
  },
  {
   "cell_type": "code",
   "execution_count": 6,
   "metadata": {},
   "outputs": [
    {
     "name": "stdout",
     "output_type": "stream",
     "text": [
      "Let Us Capitalize Every Word Of This Sentence.\n",
      "Let Us Capitalize Every Word Of This Sentence.\n"
     ]
    }
   ],
   "source": [
    "s = \"let us capitalize every word of this sentence.\"\n",
    "print(string.capwords(s))\n",
    "print(s.title())"
   ]
  },
  {
   "cell_type": "code",
   "execution_count": 7,
   "metadata": {},
   "outputs": [
    {
     "data": {
      "text/plain": [
       "<string.Template at 0x7f87269e24a0>"
      ]
     },
     "execution_count": 7,
     "metadata": {},
     "output_type": "execute_result"
    }
   ],
   "source": [
    "t = string.Template(\"Hello $name!\")\n",
    "t"
   ]
  },
  {
   "cell_type": "code",
   "execution_count": 8,
   "metadata": {},
   "outputs": [
    {
     "data": {
      "text/plain": [
       "'Hello World!'"
      ]
     },
     "execution_count": 8,
     "metadata": {},
     "output_type": "execute_result"
    }
   ],
   "source": [
    "t.substitute(name=\"World\")"
   ]
  },
  {
   "cell_type": "code",
   "execution_count": 9,
   "metadata": {},
   "outputs": [],
   "source": [
    "t = string.Template(\"\"\"name: $name - $$name - $$$name  age : ${age}years\"\"\")"
   ]
  },
  {
   "cell_type": "code",
   "execution_count": 10,
   "metadata": {},
   "outputs": [
    {
     "ename": "KeyError",
     "evalue": "'age'",
     "output_type": "error",
     "traceback": [
      "\u001b[0;31m---------------------------------------------------------------------------\u001b[0m",
      "\u001b[0;31mKeyError\u001b[0m                                  Traceback (most recent call last)",
      "Cell \u001b[0;32mIn[10], line 1\u001b[0m\n\u001b[0;32m----> 1\u001b[0m t\u001b[39m.\u001b[39;49msubstitute(name\u001b[39m=\u001b[39;49m\u001b[39m'\u001b[39;49m\u001b[39mWorld\u001b[39;49m\u001b[39m'\u001b[39;49m)\n",
      "File \u001b[0;32m~/.python/current/lib/python3.10/string.py:121\u001b[0m, in \u001b[0;36mTemplate.substitute\u001b[0;34m(self, mapping, **kws)\u001b[0m\n\u001b[1;32m    118\u001b[0m         \u001b[39mself\u001b[39m\u001b[39m.\u001b[39m_invalid(mo)\n\u001b[1;32m    119\u001b[0m     \u001b[39mraise\u001b[39;00m \u001b[39mValueError\u001b[39;00m(\u001b[39m'\u001b[39m\u001b[39mUnrecognized named group in pattern\u001b[39m\u001b[39m'\u001b[39m,\n\u001b[1;32m    120\u001b[0m                      \u001b[39mself\u001b[39m\u001b[39m.\u001b[39mpattern)\n\u001b[0;32m--> 121\u001b[0m \u001b[39mreturn\u001b[39;00m \u001b[39mself\u001b[39;49m\u001b[39m.\u001b[39;49mpattern\u001b[39m.\u001b[39;49msub(convert, \u001b[39mself\u001b[39;49m\u001b[39m.\u001b[39;49mtemplate)\n",
      "File \u001b[0;32m~/.python/current/lib/python3.10/string.py:114\u001b[0m, in \u001b[0;36mTemplate.substitute.<locals>.convert\u001b[0;34m(mo)\u001b[0m\n\u001b[1;32m    112\u001b[0m named \u001b[39m=\u001b[39m mo\u001b[39m.\u001b[39mgroup(\u001b[39m'\u001b[39m\u001b[39mnamed\u001b[39m\u001b[39m'\u001b[39m) \u001b[39mor\u001b[39;00m mo\u001b[39m.\u001b[39mgroup(\u001b[39m'\u001b[39m\u001b[39mbraced\u001b[39m\u001b[39m'\u001b[39m)\n\u001b[1;32m    113\u001b[0m \u001b[39mif\u001b[39;00m named \u001b[39mis\u001b[39;00m \u001b[39mnot\u001b[39;00m \u001b[39mNone\u001b[39;00m:\n\u001b[0;32m--> 114\u001b[0m     \u001b[39mreturn\u001b[39;00m \u001b[39mstr\u001b[39m(mapping[named])\n\u001b[1;32m    115\u001b[0m \u001b[39mif\u001b[39;00m mo\u001b[39m.\u001b[39mgroup(\u001b[39m'\u001b[39m\u001b[39mescaped\u001b[39m\u001b[39m'\u001b[39m) \u001b[39mis\u001b[39;00m \u001b[39mnot\u001b[39;00m \u001b[39mNone\u001b[39;00m:\n\u001b[1;32m    116\u001b[0m     \u001b[39mreturn\u001b[39;00m \u001b[39mself\u001b[39m\u001b[39m.\u001b[39mdelimiter\n",
      "\u001b[0;31mKeyError\u001b[0m: 'age'"
     ]
    }
   ],
   "source": [
    "t.substitute(name=\"World\")"
   ]
  },
  {
   "cell_type": "code",
   "execution_count": 11,
   "metadata": {},
   "outputs": [
    {
     "data": {
      "text/plain": [
       "'name: World - $name - $World  age : 30years'"
      ]
     },
     "execution_count": 11,
     "metadata": {},
     "output_type": "execute_result"
    }
   ],
   "source": [
    "t = string.Template(\"\"\"name: $name - $$name - $$$name  age : ${age}years\"\"\")\n",
    "t.substitute(name=\"World\", age=30)"
   ]
  },
  {
   "cell_type": "code",
   "execution_count": 12,
   "metadata": {},
   "outputs": [],
   "source": [
    "# NOTE: $$ is an escape; it is replaced with a single $.\n",
    "# ${identifier} is equivalent to $identifier"
   ]
  },
  {
   "cell_type": "code",
   "execution_count": 13,
   "metadata": {},
   "outputs": [
    {
     "data": {
      "text/plain": [
       "'udhay likes python'"
      ]
     },
     "execution_count": 13,
     "metadata": {},
     "output_type": "execute_result"
    }
   ],
   "source": [
    "string.Template(\"$who likes $what\").substitute({\"who\": \"udhay\", \"what\": \"python\"})"
   ]
  },
  {
   "cell_type": "code",
   "execution_count": 14,
   "metadata": {},
   "outputs": [
    {
     "ename": "KeyError",
     "evalue": "'what'",
     "output_type": "error",
     "traceback": [
      "\u001b[0;31m---------------------------------------------------------------------------\u001b[0m",
      "\u001b[0;31mKeyError\u001b[0m                                  Traceback (most recent call last)",
      "Cell \u001b[0;32mIn[14], line 1\u001b[0m\n\u001b[0;32m----> 1\u001b[0m string\u001b[39m.\u001b[39;49mTemplate(\u001b[39m\"\u001b[39;49m\u001b[39m$who likes $what\u001b[39;49m\u001b[39m\"\u001b[39;49m)\u001b[39m.\u001b[39;49msubstitute({\u001b[39m\"\u001b[39;49m\u001b[39mwho\u001b[39;49m\u001b[39m\"\u001b[39;49m: \u001b[39m\"\u001b[39;49m\u001b[39mudhay\u001b[39;49m\u001b[39m\"\u001b[39;49m})\n",
      "File \u001b[0;32m~/.python/current/lib/python3.10/string.py:121\u001b[0m, in \u001b[0;36mTemplate.substitute\u001b[0;34m(self, mapping, **kws)\u001b[0m\n\u001b[1;32m    118\u001b[0m         \u001b[39mself\u001b[39m\u001b[39m.\u001b[39m_invalid(mo)\n\u001b[1;32m    119\u001b[0m     \u001b[39mraise\u001b[39;00m \u001b[39mValueError\u001b[39;00m(\u001b[39m'\u001b[39m\u001b[39mUnrecognized named group in pattern\u001b[39m\u001b[39m'\u001b[39m,\n\u001b[1;32m    120\u001b[0m                      \u001b[39mself\u001b[39m\u001b[39m.\u001b[39mpattern)\n\u001b[0;32m--> 121\u001b[0m \u001b[39mreturn\u001b[39;00m \u001b[39mself\u001b[39;49m\u001b[39m.\u001b[39;49mpattern\u001b[39m.\u001b[39;49msub(convert, \u001b[39mself\u001b[39;49m\u001b[39m.\u001b[39;49mtemplate)\n",
      "File \u001b[0;32m~/.python/current/lib/python3.10/string.py:114\u001b[0m, in \u001b[0;36mTemplate.substitute.<locals>.convert\u001b[0;34m(mo)\u001b[0m\n\u001b[1;32m    112\u001b[0m named \u001b[39m=\u001b[39m mo\u001b[39m.\u001b[39mgroup(\u001b[39m'\u001b[39m\u001b[39mnamed\u001b[39m\u001b[39m'\u001b[39m) \u001b[39mor\u001b[39;00m mo\u001b[39m.\u001b[39mgroup(\u001b[39m'\u001b[39m\u001b[39mbraced\u001b[39m\u001b[39m'\u001b[39m)\n\u001b[1;32m    113\u001b[0m \u001b[39mif\u001b[39;00m named \u001b[39mis\u001b[39;00m \u001b[39mnot\u001b[39;00m \u001b[39mNone\u001b[39;00m:\n\u001b[0;32m--> 114\u001b[0m     \u001b[39mreturn\u001b[39;00m \u001b[39mstr\u001b[39m(mapping[named])\n\u001b[1;32m    115\u001b[0m \u001b[39mif\u001b[39;00m mo\u001b[39m.\u001b[39mgroup(\u001b[39m'\u001b[39m\u001b[39mescaped\u001b[39m\u001b[39m'\u001b[39m) \u001b[39mis\u001b[39;00m \u001b[39mnot\u001b[39;00m \u001b[39mNone\u001b[39;00m:\n\u001b[1;32m    116\u001b[0m     \u001b[39mreturn\u001b[39;00m \u001b[39mself\u001b[39m\u001b[39m.\u001b[39mdelimiter\n",
      "\u001b[0;31mKeyError\u001b[0m: 'what'"
     ]
    }
   ],
   "source": [
    "string.Template(\"$who likes $what\").substitute({\"who\": \"udhay\"})"
   ]
  },
  {
   "cell_type": "code",
   "execution_count": 16,
   "metadata": {},
   "outputs": [
    {
     "data": {
      "text/plain": [
       "'udhay likes $what'"
      ]
     },
     "execution_count": 16,
     "metadata": {},
     "output_type": "execute_result"
    }
   ],
   "source": [
    "string.Template(\"$who likes $what\").safe_substitute(\n",
    "    {\"who\": \"udhay\"}\n",
    ")  #  \"what\": \"Python\""
   ]
  },
  {
   "cell_type": "code",
   "execution_count": null,
   "metadata": {},
   "outputs": [],
   "source": []
  }
 ],
 "metadata": {
  "kernelspec": {
   "display_name": "Python 3",
   "language": "python",
   "name": "python3"
  },
  "language_info": {
   "codemirror_mode": {
    "name": "ipython",
    "version": 3
   },
   "file_extension": ".py",
   "mimetype": "text/x-python",
   "name": "python",
   "nbconvert_exporter": "python",
   "pygments_lexer": "ipython3",
   "version": "3.10.4"
  },
  "orig_nbformat": 4
 },
 "nbformat": 4,
 "nbformat_minor": 2
}
