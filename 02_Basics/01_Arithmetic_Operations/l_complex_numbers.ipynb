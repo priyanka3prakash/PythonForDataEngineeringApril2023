{
 "cells": [
  {
   "cell_type": "markdown",
   "metadata": {},
   "source": [
    "## Complex Numbers in Python\n",
    "\n",
    "    Complex Number = Real Number +/- Imaginary Number\n",
    "\n",
    "In python, 'j' is used to represent the imaginary number."
   ]
  },
  {
   "cell_type": "code",
   "execution_count": 1,
   "metadata": {},
   "outputs": [
    {
     "name": "stdout",
     "output_type": "stream",
     "text": [
      "num1= 2 <class 'int'>\n"
     ]
    }
   ],
   "source": [
    "num1 = 2\n",
    "print(\"num1=\", num1, type(num1))"
   ]
  },
  {
   "cell_type": "code",
   "execution_count": 2,
   "metadata": {},
   "outputs": [
    {
     "name": "stdout",
     "output_type": "stream",
     "text": [
      "num1= 5 <class 'int'>\n"
     ]
    }
   ],
   "source": [
    "num1 = 2 + 3\n",
    "print(\"num1=\", num1, type(num1))"
   ]
  },
  {
   "cell_type": "code",
   "execution_count": 3,
   "metadata": {},
   "outputs": [
    {
     "name": "stdout",
     "output_type": "stream",
     "text": [
      "num1= (2+3j) <class 'complex'>\n"
     ]
    }
   ],
   "source": [
    "num1 = 2 + 3j\n",
    "print(\"num1=\", num1, type(num1))"
   ]
  },
  {
   "cell_type": "code",
   "execution_count": 4,
   "metadata": {},
   "outputs": [
    {
     "name": "stdout",
     "output_type": "stream",
     "text": [
      "num1= (-0.02+3.234j) <class 'complex'>\n"
     ]
    }
   ],
   "source": [
    "num1 = -0.02 + 3.234j\n",
    "print(\"num1=\", num1, type(num1))"
   ]
  },
  {
   "cell_type": "code",
   "execution_count": 5,
   "metadata": {},
   "outputs": [
    {
     "name": "stdout",
     "output_type": "stream",
     "text": [
      "num1= (-0.02+0j) <class 'complex'>\n"
     ]
    }
   ],
   "source": [
    "num1 = -0.02 + 0j\n",
    "print(\"num1=\", num1, type(num1))"
   ]
  },
  {
   "cell_type": "code",
   "execution_count": 6,
   "metadata": {},
   "outputs": [
    {
     "name": "stdout",
     "output_type": "stream",
     "text": [
      "num1= (-0-0j) <class 'complex'>\n"
     ]
    }
   ],
   "source": [
    "num1 = -0.0j\n",
    "print(\"num1=\", num1, type(num1))"
   ]
  },
  {
   "cell_type": "code",
   "execution_count": 7,
   "metadata": {},
   "outputs": [
    {
     "data": {
      "text/plain": [
       "4j"
      ]
     },
     "execution_count": 7,
     "metadata": {},
     "output_type": "execute_result"
    }
   ],
   "source": [
    "4j"
   ]
  },
  {
   "cell_type": "code",
   "execution_count": 9,
   "metadata": {},
   "outputs": [
    {
     "ename": "NameError",
     "evalue": "name 'j' is not defined",
     "output_type": "error",
     "traceback": [
      "\u001b[0;31m---------------------------------------------------------------------------\u001b[0m",
      "\u001b[0;31mNameError\u001b[0m                                 Traceback (most recent call last)",
      "Cell \u001b[0;32mIn[9], line 1\u001b[0m\n\u001b[0;32m----> 1\u001b[0m \u001b[39m4\u001b[39m \u001b[39m*\u001b[39mj\n",
      "\u001b[0;31mNameError\u001b[0m: name 'j' is not defined"
     ]
    }
   ],
   "source": [
    "4 * j"
   ]
  },
  {
   "cell_type": "code",
   "execution_count": 10,
   "metadata": {},
   "outputs": [
    {
     "data": {
      "text/plain": [
       "4j"
      ]
     },
     "execution_count": 10,
     "metadata": {},
     "output_type": "execute_result"
    }
   ],
   "source": [
    "4 * 1j"
   ]
  },
  {
   "cell_type": "code",
   "execution_count": 8,
   "metadata": {},
   "outputs": [
    {
     "ename": "NameError",
     "evalue": "name 'j4' is not defined",
     "output_type": "error",
     "traceback": [
      "\u001b[0;31m---------------------------------------------------------------------------\u001b[0m",
      "\u001b[0;31mNameError\u001b[0m                                 Traceback (most recent call last)",
      "Cell \u001b[0;32mIn[8], line 1\u001b[0m\n\u001b[0;32m----> 1\u001b[0m j4\n",
      "\u001b[0;31mNameError\u001b[0m: name 'j4' is not defined"
     ]
    }
   ],
   "source": [
    "j4"
   ]
  },
  {
   "cell_type": "code",
   "execution_count": 11,
   "metadata": {},
   "outputs": [],
   "source": [
    "# NOTE: 4*j, j4, j*4 are not possible.\n",
    "# In these cases, interpreter treats 'j' as a variable."
   ]
  },
  {
   "cell_type": "code",
   "execution_count": 12,
   "metadata": {},
   "outputs": [
    {
     "name": "stdout",
     "output_type": "stream",
     "text": [
      "complex(2,-3.456) (2-3.456j)\n",
      "complex(2,0)      (2+0j)\n"
     ]
    }
   ],
   "source": [
    "# complex()  - Builtin function\n",
    "print(\"complex(2,-3.456)\", complex(2, -3.456))\n",
    "print(\"complex(2,0)     \", complex(2, 0))"
   ]
  },
  {
   "cell_type": "code",
   "execution_count": 13,
   "metadata": {},
   "outputs": [
    {
     "name": "stdout",
     "output_type": "stream",
     "text": [
      "4 == 4  : True\n",
      "4 == 4.3: False\n",
      "4 == 4j : False\n"
     ]
    }
   ],
   "source": [
    "# == checks value equivalence\n",
    "print(\"4 == 4  :\", 4 == 4)  # True\n",
    "print(\"4 == 4.3:\", 4 == 4.3)  # False\n",
    "print(\"4 == 4j :\", 4 == 4j)  # False"
   ]
  },
  {
   "cell_type": "code",
   "execution_count": 14,
   "metadata": {},
   "outputs": [
    {
     "data": {
      "text/plain": [
       "True"
      ]
     },
     "execution_count": 14,
     "metadata": {},
     "output_type": "execute_result"
    }
   ],
   "source": [
    "(3 + 4j) == (4j + 3)"
   ]
  },
  {
   "cell_type": "code",
   "execution_count": 15,
   "metadata": {},
   "outputs": [
    {
     "data": {
      "text/plain": [
       "False"
      ]
     },
     "execution_count": 15,
     "metadata": {},
     "output_type": "execute_result"
    }
   ],
   "source": [
    "(3 + 4j) == (4 + 3j)"
   ]
  },
  {
   "cell_type": "code",
   "execution_count": 16,
   "metadata": {},
   "outputs": [],
   "source": [
    "# NOTE: Python is Object Oriented Programming Language"
   ]
  },
  {
   "cell_type": "code",
   "execution_count": 17,
   "metadata": {},
   "outputs": [],
   "source": [
    "# pen - Object\n",
    "#         - shape, color, texture\n",
    "#       -> Uses  - writing, painting, drawing.....\n",
    "\n",
    "# Cell Phone - Object\n",
    "#         - shape, color\n",
    "# -> uses   - pics with cam\n",
    "#           - communications\n",
    "#           - alaram\n",
    "#           - watch\n",
    "\n",
    "\n",
    "# Object Oriented Programming\n",
    "# Object\n",
    "#   - Address - where it is stored\n",
    "#   - value   - present in that object\n",
    "#   - type    - of the object\n",
    "#   - Usage   - of that object"
   ]
  },
  {
   "cell_type": "code",
   "execution_count": 18,
   "metadata": {},
   "outputs": [
    {
     "name": "stdout",
     "output_type": "stream",
     "text": [
      "num1      = (-0-0j)\n",
      "type(num1)= <class 'complex'>\n",
      "id(num1)  = 140609255550928\n"
     ]
    }
   ],
   "source": [
    "print(\"num1      =\", num1)  # Value\n",
    "print(\"type(num1)=\", type(num1))  # data type\n",
    "print(\"id(num1)  =\", id(num1))  # Addrress location"
   ]
  },
  {
   "cell_type": "code",
   "execution_count": 19,
   "metadata": {},
   "outputs": [
    {
     "name": "stdout",
     "output_type": "stream",
     "text": [
      "dir(num1) = ['__abs__', '__add__', '__bool__', '__class__', '__delattr__', '__dir__', '__doc__', '__eq__', '__format__', '__ge__', '__getattribute__', '__getnewargs__', '__gt__', '__hash__', '__init__', '__init_subclass__', '__le__', '__lt__', '__mul__', '__ne__', '__neg__', '__new__', '__pos__', '__pow__', '__radd__', '__reduce__', '__reduce_ex__', '__repr__', '__rmul__', '__rpow__', '__rsub__', '__rtruediv__', '__setattr__', '__sizeof__', '__str__', '__sub__', '__subclasshook__', '__truediv__', 'conjugate', 'imag', 'real']\n"
     ]
    }
   ],
   "source": [
    "print(\"dir(num1) =\", dir(num1))  # Usage - attributes"
   ]
  },
  {
   "cell_type": "code",
   "execution_count": 20,
   "metadata": {},
   "outputs": [
    {
     "name": "stdout",
     "output_type": "stream",
     "text": [
      "num1             =  (-0-0j)\n",
      "num1.real        =  -0.0\n",
      "num1.imag        =  -0.0\n"
     ]
    }
   ],
   "source": [
    "print(\"num1             = \", num1)  # -2j\n",
    "print(\"num1.real        = \", num1.real)  # 0.0\n",
    "print(\"num1.imag        = \", num1.imag)  # -2.0"
   ]
  },
  {
   "cell_type": "code",
   "execution_count": 21,
   "metadata": {},
   "outputs": [
    {
     "name": "stdout",
     "output_type": "stream",
     "text": [
      "num1.conjugate() =  (-0+0j)\n",
      "(-2 -3j).conjugate() (-2+3j)\n"
     ]
    }
   ],
   "source": [
    "# CONJUGATE  will result  same number with\n",
    "# change in sign of imaginary part\n",
    "print(\"num1.conjugate() = \", num1.conjugate())  # 2j\n",
    "print(\"(-2 -3j).conjugate()\", (-2 - 3j).conjugate())  # -2 +3j"
   ]
  },
  {
   "cell_type": "code",
   "execution_count": 22,
   "metadata": {},
   "outputs": [
    {
     "data": {
      "text/plain": [
       "(-2+3j)"
      ]
     },
     "execution_count": 22,
     "metadata": {},
     "output_type": "execute_result"
    }
   ],
   "source": [
    "(-2 - 3j).conjugate()"
   ]
  },
  {
   "cell_type": "code",
   "execution_count": 23,
   "metadata": {},
   "outputs": [
    {
     "data": {
      "text/plain": [
       "(-2-3j)"
      ]
     },
     "execution_count": 23,
     "metadata": {},
     "output_type": "execute_result"
    }
   ],
   "source": [
    "(-2 + 3j).conjugate()"
   ]
  },
  {
   "cell_type": "code",
   "execution_count": 24,
   "metadata": {},
   "outputs": [],
   "source": [
    "num2 = -2 + 3j"
   ]
  },
  {
   "cell_type": "code",
   "execution_count": 25,
   "metadata": {},
   "outputs": [
    {
     "name": "stdout",
     "output_type": "stream",
     "text": [
      "num1 * num2.real =  0j\n",
      "num1 *(num2.real)=  0j\n"
     ]
    }
   ],
   "source": [
    "print(\"num1 * num2.real = \", num1 * num2.real)  # PEMDAS\n",
    "print(\"num1 *(num2.real)= \", num1 * (num2.real))"
   ]
  },
  {
   "cell_type": "code",
   "execution_count": 26,
   "metadata": {},
   "outputs": [
    {
     "name": "stdout",
     "output_type": "stream",
     "text": [
      "(num1*num2).real =  0.0\n"
     ]
    }
   ],
   "source": [
    "print(\"(num1*num2).real = \", (num1 * num2).real)"
   ]
  },
  {
   "cell_type": "code",
   "execution_count": null,
   "metadata": {},
   "outputs": [],
   "source": []
  }
 ],
 "metadata": {
  "kernelspec": {
   "display_name": "Python 3",
   "language": "python",
   "name": "python3"
  },
  "language_info": {
   "codemirror_mode": {
    "name": "ipython",
    "version": 3
   },
   "file_extension": ".py",
   "mimetype": "text/x-python",
   "name": "python",
   "nbconvert_exporter": "python",
   "pygments_lexer": "ipython3",
   "version": "3.10.4"
  },
  "orig_nbformat": 4
 },
 "nbformat": 4,
 "nbformat_minor": 2
}
