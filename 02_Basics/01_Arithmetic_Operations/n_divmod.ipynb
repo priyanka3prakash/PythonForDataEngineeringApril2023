{
 "cells": [
  {
   "cell_type": "markdown",
   "metadata": {},
   "source": [
    "## divmod() function\n",
    "    divmod(x,y) returns x//y, x%y\n"
   ]
  },
  {
   "cell_type": "code",
   "execution_count": 1,
   "metadata": {},
   "outputs": [
    {
     "name": "stdout",
     "output_type": "stream",
     "text": [
      "10 / 2         = 5.0\n"
     ]
    }
   ],
   "source": [
    "print(\"10 / 2         =\", 10 / 2)  # true division"
   ]
  },
  {
   "cell_type": "code",
   "execution_count": 2,
   "metadata": {},
   "outputs": [
    {
     "name": "stdout",
     "output_type": "stream",
     "text": [
      "10 // 2        = 5\n",
      "10 % 2         = 0\n",
      "divmod(10,2)   = (5, 0)\n"
     ]
    }
   ],
   "source": [
    "print(\"10 // 2        =\", 10 // 2)  # Quotient\n",
    "print(\"10 % 2         =\", 10 % 2)  # remainder\n",
    "print(\"divmod(10,2)   =\", divmod(10, 2))"
   ]
  },
  {
   "cell_type": "code",
   "execution_count": 3,
   "metadata": {},
   "outputs": [
    {
     "name": "stdout",
     "output_type": "stream",
     "text": [
      "10 / 3         = 3.3333333333333335\n",
      "10 // 3        = 3\n",
      "10 % 3         = 1\n",
      "divmod(10,3)   = (3, 1)\n"
     ]
    }
   ],
   "source": [
    "print(\"10 / 3         =\", 10 / 3)  # true division\n",
    "print(\"10 // 3        =\", 10 // 3)  # Quotient\n",
    "print(\"10 % 3         =\", 10 % 3)  # remainder\n",
    "print(\"divmod(10,3)   =\", divmod(10, 3))"
   ]
  },
  {
   "cell_type": "code",
   "execution_count": 4,
   "metadata": {},
   "outputs": [
    {
     "ename": "TypeError",
     "evalue": "unsupported operand type(s) for divmod(): 'complex' and 'int'",
     "output_type": "error",
     "traceback": [
      "\u001b[0;31m---------------------------------------------------------------------------\u001b[0m",
      "\u001b[0;31mTypeError\u001b[0m                                 Traceback (most recent call last)",
      "Cell \u001b[0;32mIn[4], line 1\u001b[0m\n\u001b[0;32m----> 1\u001b[0m \u001b[39mprint\u001b[39m(\u001b[39m\"\u001b[39m\u001b[39mdivmod( 3+4j, 2) =\u001b[39m\u001b[39m\"\u001b[39m, \u001b[39mdivmod\u001b[39;49m(\u001b[39m3\u001b[39;49m \u001b[39m+\u001b[39;49m \u001b[39m4\u001b[39;49mj, \u001b[39m2\u001b[39;49m))\n",
      "\u001b[0;31mTypeError\u001b[0m: unsupported operand type(s) for divmod(): 'complex' and 'int'"
     ]
    }
   ],
   "source": [
    "print(\"divmod( 3+4j, 2) =\", divmod(3 + 4j, 2))"
   ]
  },
  {
   "cell_type": "code",
   "execution_count": 5,
   "metadata": {},
   "outputs": [
    {
     "name": "stdout",
     "output_type": "stream",
     "text": [
      "(4567, 6)\n",
      "(456, 7)\n",
      "(45, 6)\n",
      "(4, 5)\n",
      "(0, 4)\n"
     ]
    }
   ],
   "source": [
    "# To get last digit in an integer\n",
    "print(divmod(45676, 10))\n",
    "print(divmod(4567, 10))\n",
    "print(divmod(456, 10))\n",
    "print(divmod(45, 10))\n",
    "print(divmod(4, 10))"
   ]
  },
  {
   "cell_type": "code",
   "execution_count": null,
   "metadata": {},
   "outputs": [],
   "source": []
  }
 ],
 "metadata": {
  "kernelspec": {
   "display_name": "Python 3",
   "language": "python",
   "name": "python3"
  },
  "language_info": {
   "codemirror_mode": {
    "name": "ipython",
    "version": 3
   },
   "file_extension": ".py",
   "mimetype": "text/x-python",
   "name": "python",
   "nbconvert_exporter": "python",
   "pygments_lexer": "ipython3",
   "version": "3.10.4"
  },
  "orig_nbformat": 4
 },
 "nbformat": 4,
 "nbformat_minor": 2
}
