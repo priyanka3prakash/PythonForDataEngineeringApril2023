{
 "cells": [
  {
   "attachments": {},
   "cell_type": "markdown",
   "metadata": {},
   "source": [
    "# Arithmetic Operations\n",
    "\n",
    "    Integer Family\n",
    "        - int\n",
    "        - long -> only in python 2.x\n",
    "        - float\n",
    "\n",
    "        - complex\n",
    "        - bool"
   ]
  },
  {
   "cell_type": "code",
   "execution_count": 1,
   "metadata": {},
   "outputs": [],
   "source": [
    "# = assignment operator\n",
    "num1 = 100  # int\n",
    "num2 = 123  # int"
   ]
  },
  {
   "cell_type": "code",
   "execution_count": 2,
   "metadata": {},
   "outputs": [],
   "source": [
    "num3 = num2"
   ]
  },
  {
   "cell_type": "code",
   "execution_count": 3,
   "metadata": {},
   "outputs": [
    {
     "ename": "SyntaxError",
     "evalue": "cannot assign to literal here. Maybe you meant '==' instead of '='? (978278175.py, line 1)",
     "output_type": "error",
     "traceback": [
      "\u001b[0;36m  Cell \u001b[0;32mIn[3], line 1\u001b[0;36m\u001b[0m\n\u001b[0;31m    1233 = num4\u001b[0m\n\u001b[0m    ^\u001b[0m\n\u001b[0;31mSyntaxError\u001b[0m\u001b[0;31m:\u001b[0m cannot assign to literal here. Maybe you meant '==' instead of '='?\n"
     ]
    }
   ],
   "source": [
    "1233 = num4"
   ]
  },
  {
   "cell_type": "code",
   "execution_count": 4,
   "metadata": {},
   "outputs": [
    {
     "name": "stdout",
     "output_type": "stream",
     "text": [
      "num1 = 100 <class 'int'>\n",
      "num2 = 123 <class 'int'>\n",
      "num3 = 123 <class 'int'>\n"
     ]
    }
   ],
   "source": [
    "print(\"num1 =\", num1, type(num1))\n",
    "print(\"num2 =\", num2, type(num2))\n",
    "print(\"num3 =\", num3, type(num3))"
   ]
  },
  {
   "cell_type": "code",
   "execution_count": 5,
   "metadata": {},
   "outputs": [
    {
     "name": "stdout",
     "output_type": "stream",
     "text": [
      "num3 = 223 <class 'int'>\n"
     ]
    }
   ],
   "source": [
    "# 1. Addition\n",
    "num3 = num1 + num2  # int + int = int\n",
    "print(\"num3 =\", num3, type(num3))"
   ]
  },
  {
   "cell_type": "code",
   "execution_count": 6,
   "metadata": {},
   "outputs": [
    {
     "name": "stdout",
     "output_type": "stream",
     "text": [
      "num4= -1.0 <class 'float'>\n",
      "num4= 1.0 <class 'float'>\n",
      "num4= -1.2342342342 <class 'float'>\n"
     ]
    }
   ],
   "source": [
    "num4 = -1.0  # float\n",
    "print(\"num4=\", num4, type(num4))\n",
    "\n",
    "num4 = 1.0  # float\n",
    "print(\"num4=\", num4, type(num4))\n",
    "\n",
    "num4 = -1.2342342342  # float\n",
    "print(\"num4=\", num4, type(num4))"
   ]
  },
  {
   "cell_type": "code",
   "execution_count": 7,
   "metadata": {},
   "outputs": [
    {
     "name": "stdout",
     "output_type": "stream",
     "text": [
      "num5= 98.7657657658 <class 'float'>\n"
     ]
    }
   ],
   "source": [
    "num5 = num1 + num4  # int + float = float\n",
    "print(\"num5=\", num5, type(num5))"
   ]
  },
  {
   "cell_type": "code",
   "execution_count": 8,
   "metadata": {},
   "outputs": [
    {
     "name": "stdout",
     "output_type": "stream",
     "text": [
      "num6= 99999999564564343443432423432324234234234234234234324324234341232323232423423423423423423432432423434123232323 <class 'int'>\n"
     ]
    }
   ],
   "source": [
    "# Question 1: what is the largest number that can be processed in python\n",
    "num6 = 99999999564564343443432423432324234234234234234234324324234341232323232423423423423423423432432423434123232323\n",
    "print(\"num6=\", num6, type(num6))"
   ]
  },
  {
   "cell_type": "code",
   "execution_count": 9,
   "metadata": {},
   "outputs": [
    {
     "name": "stdout",
     "output_type": "stream",
     "text": [
      "num6= 2.130213869388792e-05 <class 'float'>\n"
     ]
    }
   ],
   "source": [
    "# Question 2: what is the smallest number that can be processed in python\n",
    "num6 = 0.00002130213869388792183798798321989812739\n",
    "print(\"num6=\", num6, type(num6))"
   ]
  },
  {
   "cell_type": "code",
   "execution_count": 12,
   "metadata": {},
   "outputs": [
    {
     "data": {
      "text/plain": [
       "0.10000121301230214"
      ]
     },
     "execution_count": 12,
     "metadata": {},
     "output_type": "execute_result"
    }
   ],
   "source": [
    "num7 = 0.1000012130123021312378787687687687687687687687\n",
    "num7"
   ]
  },
  {
   "cell_type": "code",
   "execution_count": 13,
   "metadata": {},
   "outputs": [
    {
     "data": {
      "text/plain": [
       "Decimal('0.1000012130123021312378787687687687687687687687')"
      ]
     },
     "execution_count": 13,
     "metadata": {},
     "output_type": "execute_result"
    }
   ],
   "source": [
    "from decimal import Decimal\n",
    "\n",
    "num7 = Decimal(\"0.1000012130123021312378787687687687687687687687\")\n",
    "num7"
   ]
  },
  {
   "cell_type": "code",
   "execution_count": 14,
   "metadata": {},
   "outputs": [
    {
     "data": {
      "text/plain": [
       "3.3333333333333335"
      ]
     },
     "execution_count": 14,
     "metadata": {},
     "output_type": "execute_result"
    }
   ],
   "source": [
    "num8 = 10/3\n",
    "\n",
    "num8"
   ]
  },
  {
   "cell_type": "code",
   "execution_count": 15,
   "metadata": {},
   "outputs": [
    {
     "data": {
      "text/plain": [
       "Fraction(7505999378950827, 2251799813685248)"
      ]
     },
     "execution_count": 15,
     "metadata": {},
     "output_type": "execute_result"
    }
   ],
   "source": [
    "from fractions import Fraction\n",
    "\n",
    "num8 = Fraction(10/3)\n",
    "num8"
   ]
  },
  {
   "cell_type": "code",
   "execution_count": 16,
   "metadata": {},
   "outputs": [
    {
     "name": "stdout",
     "output_type": "stream",
     "text": [
      "123 + 100 =  223\n",
      "123 - 100 =  23\n",
      "123 * 100 =  12300\n",
      "123 / 100 =  1.23\n"
     ]
    }
   ],
   "source": [
    "# Arithmetic Operations\n",
    "print(\"123 + 100 = \", 123 + 100)\n",
    "print(\"123 - 100 = \", 123 - 100)\n",
    "print(\"123 * 100 = \", 123 * 100)\n",
    "print(\"123 / 100 = \", 123 / 100)"
   ]
  },
  {
   "cell_type": "code",
   "execution_count": 17,
   "metadata": {},
   "outputs": [
    {
     "name": "stdout",
     "output_type": "stream",
     "text": [
      "10/2 =  5.0\n",
      "10/5 =  2.0\n",
      "10/3 =  3.3333333333333335\n"
     ]
    }
   ],
   "source": [
    "print(\"10/2 = \", 10 / 2)\n",
    "print(\"10/5 = \", 10 / 5)\n",
    "print(\"10/3 = \", 10 / 3)\n",
    "# NOTE: division result will be floating point every time"
   ]
  },
  {
   "attachments": {},
   "cell_type": "markdown",
   "metadata": {},
   "source": [
    "```\n",
    "    3 ) 10  ( 3.3\n",
    "        9\n",
    "        --\n",
    "        10\n",
    "        9\n",
    "        ---\n",
    "\n",
    "\n",
    "    3) 10(3  <-- Quotient  //\n",
    "        9\n",
    "    --\n",
    "        1  <-- Remainder  %\n",
    "```"
   ]
  },
  {
   "cell_type": "code",
   "execution_count": 18,
   "metadata": {},
   "outputs": [
    {
     "name": "stdout",
     "output_type": "stream",
     "text": [
      "10 // 3 =  3\n",
      "10 % 3  =  1\n",
      "divmod(10, 3)= (3, 1)\n"
     ]
    }
   ],
   "source": [
    "print(\"10 // 3 = \", 10 // 3)  # quotient - floor division\n",
    "print(\"10 % 3  = \", 10 % 3)  # remainder - modulo division\n",
    "\n",
    "print(\"divmod(10, 3)=\", divmod(10, 3))  # //, %"
   ]
  },
  {
   "cell_type": "code",
   "execution_count": null,
   "metadata": {},
   "outputs": [],
   "source": []
  }
 ],
 "metadata": {
  "kernelspec": {
   "display_name": "Python 3",
   "language": "python",
   "name": "python3"
  },
  "language_info": {
   "codemirror_mode": {
    "name": "ipython",
    "version": 3
   },
   "file_extension": ".py",
   "mimetype": "text/x-python",
   "name": "python",
   "nbconvert_exporter": "python",
   "pygments_lexer": "ipython3",
   "version": "3.10.4"
  },
  "orig_nbformat": 4
 },
 "nbformat": 4,
 "nbformat_minor": 2
}
