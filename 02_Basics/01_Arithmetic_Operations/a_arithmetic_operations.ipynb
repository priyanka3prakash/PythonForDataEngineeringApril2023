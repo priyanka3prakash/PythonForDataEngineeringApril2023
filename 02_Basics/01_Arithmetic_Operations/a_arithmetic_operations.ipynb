{
 "cells": [
  {
   "attachments": {},
   "cell_type": "markdown",
   "metadata": {},
   "source": [
    "# Arithmetic Operations\n",
    "\n",
    "    Integer Family\n",
    "        - int\n",
    "        - long -> only in python 2.x\n",
    "        - float\n",
    "\n",
    "        - complex\n",
    "        - bool"
   ]
  },
  {
   "cell_type": "code",
   "execution_count": 1,
   "metadata": {},
   "outputs": [],
   "source": [
    "# = assignment operator\n",
    "num1 = 100  # int\n",
    "num2 = 123  # int"
   ]
  },
  {
   "cell_type": "code",
   "execution_count": 2,
   "metadata": {},
   "outputs": [],
   "source": [
    "num3 = num2"
   ]
  },
  {
   "cell_type": "code",
   "execution_count": 3,
   "metadata": {},
   "outputs": [
    {
     "ename": "SyntaxError",
     "evalue": "cannot assign to literal here. Maybe you meant '==' instead of '='? (978278175.py, line 1)",
     "output_type": "error",
     "traceback": [
      "\u001b[0;36m  Cell \u001b[0;32mIn[3], line 1\u001b[0;36m\u001b[0m\n\u001b[0;31m    1233 = num4\u001b[0m\n\u001b[0m    ^\u001b[0m\n\u001b[0;31mSyntaxError\u001b[0m\u001b[0;31m:\u001b[0m cannot assign to literal here. Maybe you meant '==' instead of '='?\n"
     ]
    }
   ],
   "source": [
    "1233 = num4"
   ]
  },
  {
   "cell_type": "code",
   "execution_count": 4,
   "metadata": {},
   "outputs": [
    {
     "name": "stdout",
     "output_type": "stream",
     "text": [
      "num1 = 100 <class 'int'>\n",
      "num2 = 123 <class 'int'>\n",
      "num3 = 123 <class 'int'>\n"
     ]
    }
   ],
   "source": [
    "print(\"num1 =\", num1, type(num1))\n",
    "print(\"num2 =\", num2, type(num2))\n",
    "print(\"num3 =\", num3, type(num3))"
   ]
  },
  {
   "cell_type": "code",
   "execution_count": 5,
   "metadata": {},
   "outputs": [
    {
     "name": "stdout",
     "output_type": "stream",
     "text": [
      "num3 = 223 <class 'int'>\n"
     ]
    }
   ],
   "source": [
    "# 1. Addition\n",
    "num3 = num1 + num2  # int + int = int\n",
    "print(\"num3 =\", num3, type(num3))"
   ]
  },
  {
   "cell_type": "code",
   "execution_count": 6,
   "metadata": {},
   "outputs": [
    {
     "name": "stdout",
     "output_type": "stream",
     "text": [
      "num4= -1.0 <class 'float'>\n",
      "num4= 1.0 <class 'float'>\n",
      "num4= -1.2342342342 <class 'float'>\n"
     ]
    }
   ],
   "source": [
    "num4 = -1.0  # float\n",
    "print(\"num4=\", num4, type(num4))\n",
    "\n",
    "num4 = 1.0  # float\n",
    "print(\"num4=\", num4, type(num4))\n",
    "\n",
    "num4 = -1.2342342342  # float\n",
    "print(\"num4=\", num4, type(num4))"
   ]
  },
  {
   "cell_type": "code",
   "execution_count": 7,
   "metadata": {},
   "outputs": [
    {
     "name": "stdout",
     "output_type": "stream",
     "text": [
      "num5= 98.7657657658 <class 'float'>\n"
     ]
    }
   ],
   "source": [
    "num5 = num1 + num4  # int + float = float\n",
    "print(\"num5=\", num5, type(num5))"
   ]
  },
  {
   "cell_type": "code",
   "execution_count": 8,
   "metadata": {},
   "outputs": [
    {
     "name": "stdout",
     "output_type": "stream",
     "text": [
      "num6= 99999999564564343443432423432324234234234234234234324324234341232323232423423423423423423432432423434123232323 <class 'int'>\n"
     ]
    }
   ],
   "source": [
    "# Question 1: what is the largest number that can be processed in python\n",
    "num6 = 99999999564564343443432423432324234234234234234234324324234341232323232423423423423423423432432423434123232323\n",
    "print(\"num6=\", num6, type(num6))"
   ]
  },
  {
   "cell_type": "code",
   "execution_count": 9,
   "metadata": {},
   "outputs": [
    {
     "name": "stdout",
     "output_type": "stream",
     "text": [
      "num6= 2.130213869388792e-05 <class 'float'>\n"
     ]
    }
   ],
   "source": [
    "# Question 2: what is the smallest number that can be processed in python\n",
    "num6 = 0.00002130213869388792183798798321989812739\n",
    "print(\"num6=\", num6, type(num6))"
   ]
  },
  {
   "cell_type": "code",
   "execution_count": 10,
   "metadata": {},
   "outputs": [
    {
     "data": {
      "text/plain": [
       "0.10000121301230214"
      ]
     },
     "execution_count": 10,
     "metadata": {},
     "output_type": "execute_result"
    }
   ],
   "source": [
    "num7 = 0.1000012130123021312378787687687687687687687687\n",
    "num7"
   ]
  },
  {
   "cell_type": "code",
   "execution_count": 11,
   "metadata": {},
   "outputs": [
    {
     "data": {
      "text/plain": [
       "Decimal('0.1000012130123021312378787687687687687687687687')"
      ]
     },
     "execution_count": 11,
     "metadata": {},
     "output_type": "execute_result"
    }
   ],
   "source": [
    "from decimal import Decimal\n",
    "\n",
    "num7 = Decimal(\"0.1000012130123021312378787687687687687687687687\")\n",
    "num7"
   ]
  },
  {
   "cell_type": "code",
   "execution_count": 12,
   "metadata": {},
   "outputs": [
    {
     "data": {
      "text/plain": [
       "3.3333333333333335"
      ]
     },
     "execution_count": 12,
     "metadata": {},
     "output_type": "execute_result"
    }
   ],
   "source": [
    "num8 = 10/3\n",
    "\n",
    "num8"
   ]
  },
  {
   "cell_type": "code",
   "execution_count": 13,
   "metadata": {},
   "outputs": [
    {
     "data": {
      "text/plain": [
       "Fraction(7505999378950827, 2251799813685248)"
      ]
     },
     "execution_count": 13,
     "metadata": {},
     "output_type": "execute_result"
    }
   ],
   "source": [
    "from fractions import Fraction\n",
    "\n",
    "num8 = Fraction(10/3)\n",
    "num8"
   ]
  },
  {
   "cell_type": "code",
   "execution_count": 14,
   "metadata": {},
   "outputs": [
    {
     "name": "stdout",
     "output_type": "stream",
     "text": [
      "123 + 100 =  223\n",
      "123 - 100 =  23\n",
      "123 * 100 =  12300\n",
      "123 / 100 =  1.23\n"
     ]
    }
   ],
   "source": [
    "# Arithmetic Operations\n",
    "print(\"123 + 100 = \", 123 + 100)\n",
    "print(\"123 - 100 = \", 123 - 100)\n",
    "print(\"123 * 100 = \", 123 * 100)\n",
    "print(\"123 / 100 = \", 123 / 100)"
   ]
  },
  {
   "cell_type": "code",
   "execution_count": 15,
   "metadata": {},
   "outputs": [
    {
     "name": "stdout",
     "output_type": "stream",
     "text": [
      "10/2 =  5.0\n",
      "10/5 =  2.0\n",
      "10/3 =  3.3333333333333335\n"
     ]
    }
   ],
   "source": [
    "print(\"10/2 = \", 10 / 2)\n",
    "print(\"10/5 = \", 10 / 5)\n",
    "print(\"10/3 = \", 10 / 3)\n",
    "# NOTE: division result will be floating point every time"
   ]
  },
  {
   "attachments": {},
   "cell_type": "markdown",
   "metadata": {},
   "source": [
    "```\n",
    "    3 ) 10  ( 3.3\n",
    "        9\n",
    "        --\n",
    "        10\n",
    "        9\n",
    "        ---\n",
    "\n",
    "\n",
    "    3) 10(3  <-- Quotient  //\n",
    "        9\n",
    "        --\n",
    "        1  <-- Remainder  %\n",
    "```"
   ]
  },
  {
   "cell_type": "code",
   "execution_count": 16,
   "metadata": {},
   "outputs": [
    {
     "name": "stdout",
     "output_type": "stream",
     "text": [
      "10 // 3 =  3\n",
      "10 % 3  =  1\n",
      "divmod(10, 3)= (3, 1)\n"
     ]
    }
   ],
   "source": [
    "print(\"10 // 3 = \", 10 // 3)  # quotient - floor division\n",
    "print(\"10 % 3  = \", 10 % 3)  # remainder - modulo division\n",
    "\n",
    "print(\"divmod(10, 3)=\", divmod(10, 3))  # //, %"
   ]
  },
  {
   "attachments": {},
   "cell_type": "markdown",
   "metadata": {},
   "source": [
    "```\n",
    "10/2\n",
    "\n",
    "    2 ) 10 ( 5  <-- Quotient\n",
    "        10\n",
    "        ---\n",
    "         0  <--- remainder\n",
    "\n",
    "```"
   ]
  },
  {
   "cell_type": "code",
   "execution_count": 17,
   "metadata": {},
   "outputs": [
    {
     "name": "stdout",
     "output_type": "stream",
     "text": [
      "10 / 2       = 5.0\n",
      "10 // 2      = 5\n",
      "10 % 2       = 0\n",
      "divmod(10, 2)= (5, 0)\n"
     ]
    }
   ],
   "source": [
    "print(\"10 / 2       =\", 10 / 2)\n",
    "print(\"10 // 2      =\", 10 // 2)\n",
    "print(\"10 % 2       =\", 10 % 2)\n",
    "print(\"divmod(10, 2)=\", divmod(10, 2))  # //, %"
   ]
  },
  {
   "cell_type": "code",
   "execution_count": 18,
   "metadata": {},
   "outputs": [
    {
     "name": "stdout",
     "output_type": "stream",
     "text": [
      "10 / 3   =  3.3333333333333335\n",
      "-10 / 3  =  -3.3333333333333335\n",
      "10 / -3  =  -3.3333333333333335\n",
      "-10 / -3 =  3.3333333333333335\n"
     ]
    }
   ],
   "source": [
    "# IMPORTANCE OF SIGNS\n",
    "print(\"10 / 3   = \", 10 / 3)  # 3.3333333333333335\n",
    "print(\"-10 / 3  = \", -10 / 3)  # -3.3333333333333335\n",
    "print(\"10 / -3  = \", 10 / -3)  # -3.3333333333333335\n",
    "print(\"-10 / -3 = \", -10 / -3)  # 3.3333333333333335"
   ]
  },
  {
   "cell_type": "code",
   "execution_count": 19,
   "metadata": {},
   "outputs": [
    {
     "name": "stdout",
     "output_type": "stream",
     "text": [
      "10 // 3   =  3\n",
      "-10 // 3  =  -4\n",
      "10 // -3  =  -4\n",
      "-10 // -3 =  3\n"
     ]
    }
   ],
   "source": [
    "# The result is always rounded towards minus infinity\n",
    "print(\"10 // 3   = \", 10 // 3)  # 3     3 <  3.333 < 4\n",
    "print(\"-10 // 3  = \", -10 // 3)  # -4    -4 < -3.333 < 3\n",
    "print(\"10 // -3  = \", 10 // -3)  # -4    -4 < -3.333 < 3\n",
    "print(\"-10 // -3 = \", -10 // -3)  # 3     3 <  3.333 < 4"
   ]
  },
  {
   "cell_type": "code",
   "execution_count": 20,
   "metadata": {},
   "outputs": [
    {
     "name": "stdout",
     "output_type": "stream",
     "text": [
      "10 % 3   =  1\n",
      "-10 % 3  =  2\n",
      "10 % -3  =  -2\n",
      "-10 % -3 =  -1\n"
     ]
    }
   ],
   "source": [
    "print(\"10 % 3   = \", 10 % 3)  # 1\n",
    "print(\"-10 % 3  = \", -10 % 3)  # 2\n",
    "print(\"10 % -3  = \", 10 % -3)  # -2\n",
    "print(\"-10 % -3 = \", -10 % -3)  # -1"
   ]
  },
  {
   "cell_type": "code",
   "execution_count": 23,
   "metadata": {},
   "outputs": [
    {
     "name": "stdout",
     "output_type": "stream",
     "text": [
      "power operation **\n",
      "4 ** 2           =  16\n",
      "64 ** (1/2)      =  8.0\n",
      "64 ** (1/2.0)    =  8.0\n",
      "64 ** 0.5        =  8.0\n"
     ]
    }
   ],
   "source": [
    "print(\"power operation **\")\n",
    "print(\"4 ** 2           = \", 4 ** 2 )\n",
    "print(\"64 ** (1/2)      = \", 64 ** (1 / 2))  # square root\n",
    "print(\"64 ** (1/2.0)    = \", 64 ** (1 / 2.0))  # square root\n",
    "print(\"64 ** 0.5        = \", 64**0.5)  # square root"
   ]
  },
  {
   "cell_type": "code",
   "execution_count": 24,
   "metadata": {},
   "outputs": [
    {
     "name": "stdout",
     "output_type": "stream",
     "text": [
      "pow(4,2)         = 16\n",
      "pow(64,1/2)      = 8.0\n",
      "pow(64,1/2.0)    = 8.0\n",
      "pow(64,0.5)      = 8.0\n"
     ]
    }
   ],
   "source": [
    "print(\"pow(4,2)         =\", pow(4, 2))\n",
    "print(\"pow(64,1/2)      =\", pow(64, 1 / 2))  # square root\n",
    "print(\"pow(64,1/2.0)    =\", pow(64, 1 / 2.0))\n",
    "print(\"pow(64,0.5)      =\", pow(64, 0.5))"
   ]
  },
  {
   "cell_type": "code",
   "execution_count": 25,
   "metadata": {},
   "outputs": [
    {
     "name": "stdout",
     "output_type": "stream",
     "text": [
      "pow(4,2,9)       = 7\n",
      "(4**2) % 9       = 7\n"
     ]
    }
   ],
   "source": [
    "print(\"pow(4,2,9)       =\", pow(4, 2, 9))  # (4 ** 2) % 9\n",
    "print(\"(4**2) % 9       =\", (4**2) % 9)"
   ]
  },
  {
   "cell_type": "code",
   "execution_count": 26,
   "metadata": {},
   "outputs": [
    {
     "name": "stdout",
     "output_type": "stream",
     "text": [
      "pow(4, 2, 9) == (4 ** 2) % 9: True\n"
     ]
    }
   ],
   "source": [
    "# == value level equivalence check - check LHS & RHS\n",
    "print(\"pow(4, 2, 9) == (4 ** 2) % 9:\", pow(4, 2, 9) == (4**2) % 9)"
   ]
  },
  {
   "cell_type": "code",
   "execution_count": 27,
   "metadata": {},
   "outputs": [
    {
     "data": {
      "text/plain": [
       "True"
      ]
     },
     "execution_count": 27,
     "metadata": {},
     "output_type": "execute_result"
    }
   ],
   "source": [
    "pow(0, 0) == 0**0 == 1"
   ]
  },
  {
   "cell_type": "code",
   "execution_count": 28,
   "metadata": {},
   "outputs": [
    {
     "name": "stdout",
     "output_type": "stream",
     "text": [
      "Exponent Notation/Representation\n",
      "1e1           =  10.0\n",
      "1 * 10.0 ** 1 =  10.0\n"
     ]
    }
   ],
   "source": [
    "print(\"Exponent Notation/Representation\")\n",
    "\n",
    "print(\"1e1           = \", 1e1)\n",
    "print(\"1 * 10.0 ** 1 = \", 1 * 10.0**1)"
   ]
  },
  {
   "cell_type": "code",
   "execution_count": 29,
   "metadata": {},
   "outputs": [
    {
     "name": "stdout",
     "output_type": "stream",
     "text": [
      "3e2           = 300.0\n",
      "-2.3e4        =  -23000.0\n",
      "velocity of light 300000000.0\n"
     ]
    },
    {
     "name": "stderr",
     "output_type": "stream",
     "text": [
      "Bad pipe message: %s [b'\\xd3\\xb7\\x868\\x18*\\xf0\\xb0Gm\\xa7\\x07\\\\\\x0b\\x13Q\\xdfT \\xb5\\xb2\\x04z\\xf2V\\x8d\\x05\\x9cA']\n",
      "Bad pipe message: %s [b'\\x11K&\\x8bF\\xe9\\xda;\\xe5\\x9b&+\"\\x19\\xeaV\\xb0q\\xf5y\\x00\\x08\\x13\\x02\\x13\\x03\\x13\\x01\\x00\\xff\\x01\\x00\\x00\\x8f\\x00\\x00\\x00\\x0e\\x00\\x0c\\x00\\x00\\t127.0.0.1\\x00\\x0b\\x00\\x04\\x03\\x00\\x01\\x02\\x00\\n\\x00\\x0c\\x00\\n\\x00\\x1d\\x00\\x17\\x00\\x1e\\x00\\x19\\x00\\x18\\x00#\\x00\\x00\\x00\\x16\\x00\\x00\\x00\\x17\\x00\\x00\\x00\\r\\x00\\x1e\\x00\\x1c\\x04\\x03\\x05\\x03\\x06\\x03\\x08\\x07\\x08\\x08\\x08\\t\\x08\\n\\x08\\x0b\\x08\\x04\\x08\\x05\\x08\\x06\\x04']\n",
      "Bad pipe message: %s [b'', b'']\n",
      "Bad pipe message: %s [b'']\n",
      "Bad pipe message: %s [b\"\\xeb}\\xb8\\xdd6\\x05\\xd5\\xdc\\xad\\xfa\\xd8/*\\xb9\\xf3\\x94\\x14\\x1d\\x00\\x00|\\xc0,\\xc00\\x00\\xa3\\x00\\x9f\\xcc\\xa9\\xcc\\xa8\\xcc\\xaa\\xc0\\xaf\\xc0\\xad\\xc0\\xa3\\xc0\\x9f\\xc0]\\xc0a\\xc0W\\xc0S\\xc0+\\xc0/\\x00\\xa2\\x00\\x9e\\xc0\\xae\\xc0\\xac\\xc0\\xa2\\xc0\\x9e\\xc0\\\\\\xc0`\\xc0V\\xc0R\\xc0$\\xc0(\\x00k\\x00j\\xc0#\\xc0'\\x00g\\x00@\\xc0\\n\\xc0\\x14\\x009\\x008\\xc0\\t\\xc0\\x13\\x003\\x002\\x00\\x9d\\xc0\\xa1\\xc0\\x9d\\xc0Q\\x00\\x9c\\xc0\\xa0\\xc0\\x9c\\xc0P\\x00=\\x00<\\x005\\x00/\\x00\\x9a\\x00\\x99\\xc0\\x07\\xc0\", b'\\x96\\x00\\x05\\x00\\xff\\x01\\x00\\x00j\\x00\\x00\\x00\\x0e\\x00\\x0c\\x00']\n",
      "Bad pipe message: %s [b'\\x03\\x02\\x03\\x04\\x00-\\x00\\x02\\x01\\x01\\x003\\x00&\\x00$\\x00\\x1d\\x00 \\x0fa\\x82\\x90\\xd5Y+\\xbc\\x11\\x01\\x971\\x8el\\xff\\x94\\xe2\\xd3N}a\\xa7']\n",
      "Bad pipe message: %s [b'b\\xaa\\xac\\xeb\\xb4\\xdf\\xe1j\\xe9\\xc0z\\x1f\\x19q)\\x1b:j\\x00\\x00\\xa2\\xc0\\x14\\xc0\\n\\x009\\x008\\x007\\x006\\x00\\x88\\x00\\x87\\x00\\x86\\x00\\x85\\xc0\\x19\\x00:\\x00\\x89\\xc0\\x0f\\xc0\\x05\\x005\\x00\\x84\\xc0\\x13\\xc0\\t\\x003\\x002\\x001\\x000\\x00\\x9a\\x00\\x99\\x00\\x98\\x00\\x97\\x00E\\x00D\\x00C\\x00B\\xc0\\x18\\x004\\x00\\x9b\\x00F\\xc0\\x0e\\xc0\\x04\\x00/\\x00\\x96\\x00A\\x00\\x07\\xc0\\x11\\xc0\\x07\\xc0\\x16\\x00\\x18\\xc0\\x0c\\xc0\\x02\\x00\\x05\\x00\\x04\\xc0\\x12\\xc0\\x08\\x00\\x16\\x00\\x13\\x00\\x10\\x00\\r\\xc0\\x17\\x00\\x1b\\xc0\\r\\xc0\\x03\\x00\\n\\x00\\x15\\x00\\x12\\x00\\x0f\\x00\\x0c\\x00\\x1a\\x00\\t\\x00\\x14\\x00\\x11\\x00\\x19\\x00\\x08\\x00\\x06\\x00\\x17\\x00\\x03\\xc0\\x10\\xc0\\x06\\xc0\\x15\\xc0', b'\\x01\\x00\\x02\\x00\\x01\\x00\\xff\\x02\\x01\\x00']\n",
      "Bad pipe message: %s [b'RQ\\xd1Bi:\\x84\\x8e\\x04\\x9e\\x83nIKy\\x08\\x88^\\x00\\x00>\\xc0\\x14\\xc0\\n\\x009\\x008\\x007\\x006\\xc0\\x0f\\xc0\\x05\\x005\\xc0\\x13\\xc0\\t\\x003\\x002\\x001\\x000\\xc0\\x0e\\xc0\\x04\\x00/\\x00\\x9a\\x00\\x99\\x00\\x98\\x00\\x97\\x00\\x96\\x00\\x07\\xc0\\x11\\xc0\\x07\\xc0\\x0c\\xc0\\x02\\x00\\x05\\x00\\x04\\x00\\xff\\x02\\x01\\x00\\x00C\\x00\\x00\\x00', b'\\x0c\\x00\\x00\\t127.0.0.1']\n",
      "Bad pipe message: %s [b'7\\x02&\\x1c\\x059\\x11B\\x84_\\xab\\\\\\xd8(\\x0es\\x9eF\\x00\\x00\\xa2\\xc0\\x14\\xc0\\n\\x009\\x008\\x007\\x006\\x00\\x88\\x00\\x87\\x00\\x86\\x00\\x85\\xc0\\x19\\x00:\\x00\\x89\\xc0\\x0f\\xc0\\x05\\x005\\x00\\x84\\xc0\\x13\\xc0\\t\\x003\\x002\\x001\\x000\\x00\\x9a\\x00\\x99\\x00\\x98']\n",
      "Bad pipe message: %s [b\"\\x89'\\x12\\xb2\\xcb\\x0c\\xc7\\xbcK\\xe0\\x12\\xed q\\xdf\\x0e\\x1a\\xa0\\x00\\x00\\x86\\xc00\\xc0,\\xc0(\\xc0$\\xc0\\x14\\xc0\\n\\x00\\xa5\\x00\\xa3\\x00\\xa1\\x00\\x9f\\x00k\\x00j\\x00i\\x00\"]\n",
      "Bad pipe message: %s [b\"9\\x008\\x007\\x006\\xc02\\xc0.\\xc0*\\xc0&\\xc0\\x0f\\xc0\\x05\\x00\\x9d\\x00=\\x005\\xc0/\\xc0+\\xc0'\\xc0#\\xc0\\x13\\xc0\\t\\x00\\xa4\\x00\\xa2\\x00\\xa0\\x00\\x9e\\x00g\\x00@\\x00?\\x00>\\x003\\x002\\x001\\x000\\xc01\\xc0-\\xc0)\\xc0%\\xc0\\x0e\\xc0\\x04\\x00\\x9c\\x00<\\x00/\\x00\\x9a\\x00\\x99\\x00\\x98\\x00\\x97\\x00\\x96\\x00\\x07\\xc0\\x11\\xc0\\x07\\xc0\\x0c\\xc0\\x02\\x00\\x05\\x00\\x04\"]\n",
      "Bad pipe message: %s [b\"\\xc7\\xf3\\xc3\\x7f\\x96*d\\xb75M\\x1eN\\xa3\\xf1\\xc6\\xc9j\\xdb\\x00\\x00\\xf4\\xc00\\xc0,\\xc0(\\xc0$\\xc0\\x14\\xc0\\n\\x00\\xa5\\x00\\xa3\\x00\\xa1\\x00\\x9f\\x00k\\x00j\\x00i\\x00h\\x009\\x008\\x007\\x006\\x00\\x88\\x00\\x87\\x00\\x86\\x00\\x85\\xc0\\x19\\x00\\xa7\\x00m\\x00:\\x00\\x89\\xc02\\xc0.\\xc0*\\xc0&\\xc0\\x0f\\xc0\\x05\\x00\\x9d\\x00=\\x005\\x00\\x84\\xc0/\\xc0+\\xc0'\\xc0#\\xc0\\x13\\xc0\\t\\x00\\xa4\\x00\\xa2\\x00\\xa0\\x00\\x9e\\x00g\\x00@\\x00?\\x00>\\x003\\x002\\x001\\x000\\x00\\x9a\\x00\\x99\\x00\\x98\\x00\\x97\\x00E\\x00D\\x00C\\x00B\\xc0\\x18\\x00\\xa6\\x00l\\x004\\x00\\x9b\\x00F\\xc01\\xc0-\\xc0)\\xc0%\\xc0\\x0e\\xc0\\x04\\x00\\x9c\\x00<\\x00/\\x00\\x96\\x00A\\x00\\x07\\xc0\\x11\\xc0\\x07\\xc0\\x16\\x00\\x18\\xc0\\x0c\\xc0\\x02\\x00\\x05\\x00\\x04\\xc0\\x12\\xc0\\x08\\x00\\x16\\x00\\x13\\x00\\x10\\x00\\r\\xc0\\x17\\x00\", b'\\r\\xc0\\x03\\x00\\n\\x00\\x15\\x00\\x12\\x00\\x0f\\x00\\x0c\\x00\\x1a\\x00\\t\\x00\\x14\\x00\\x11\\x00\\x19\\x00\\x08\\x00']\n",
      "Bad pipe message: %s [b'\\x17\\x00\\x03\\xc0\\x10']\n"
     ]
    }
   ],
   "source": [
    "print(\"3e2           =\", 3e2)  # 3 * 10.0 ** 2\n",
    "print(\"-2.3e4        = \", -2.3e4)  # -2.3 * 10.0 ** 4\n",
    "print(\"velocity of light\", 3e8)  # 3 * 10.0 ** 8"
   ]
  },
  {
   "cell_type": "code",
   "execution_count": null,
   "metadata": {},
   "outputs": [],
   "source": []
  }
 ],
 "metadata": {
  "kernelspec": {
   "display_name": "Python 3",
   "language": "python",
   "name": "python3"
  },
  "language_info": {
   "codemirror_mode": {
    "name": "ipython",
    "version": 3
   },
   "file_extension": ".py",
   "mimetype": "text/x-python",
   "name": "python",
   "nbconvert_exporter": "python",
   "pygments_lexer": "ipython3",
   "version": "3.10.4"
  },
  "orig_nbformat": 4
 },
 "nbformat": 4,
 "nbformat_minor": 2
}
