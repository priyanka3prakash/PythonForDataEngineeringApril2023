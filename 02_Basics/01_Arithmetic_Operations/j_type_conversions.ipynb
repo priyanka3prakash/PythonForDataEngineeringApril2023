{
 "cells": [
  {
   "cell_type": "markdown",
   "metadata": {},
   "source": [
    "## Data Type Conversions\n",
    "    - int, float, complex, boolean, string, None\n"
   ]
  },
  {
   "cell_type": "code",
   "execution_count": 1,
   "metadata": {},
   "outputs": [
    {
     "name": "stdout",
     "output_type": "stream",
     "text": [
      "num= 12 <class 'int'>\n"
     ]
    }
   ],
   "source": [
    "num = 12\n",
    "print(\"num=\", num, type(num))"
   ]
  },
  {
   "cell_type": "code",
   "execution_count": 2,
   "metadata": {},
   "outputs": [
    {
     "name": "stdout",
     "output_type": "stream",
     "text": [
      "num= 12.45 <class 'float'>\n"
     ]
    }
   ],
   "source": [
    "num = 12.45\n",
    "print(\"num=\", num, type(num))"
   ]
  },
  {
   "cell_type": "markdown",
   "metadata": {},
   "source": [
    "#### Buitlin functions for conversions\n",
    "    int()"
   ]
  },
  {
   "cell_type": "code",
   "execution_count": 3,
   "metadata": {},
   "outputs": [
    {
     "data": {
      "text/plain": [
       "12"
      ]
     },
     "execution_count": 3,
     "metadata": {},
     "output_type": "execute_result"
    }
   ],
   "source": [
    "int(12)"
   ]
  },
  {
   "cell_type": "code",
   "execution_count": 4,
   "metadata": {},
   "outputs": [
    {
     "data": {
      "text/plain": [
       "12"
      ]
     },
     "execution_count": 4,
     "metadata": {},
     "output_type": "execute_result"
    }
   ],
   "source": [
    "int(12.3)"
   ]
  },
  {
   "cell_type": "code",
   "execution_count": 5,
   "metadata": {},
   "outputs": [
    {
     "data": {
      "text/plain": [
       "1"
      ]
     },
     "execution_count": 5,
     "metadata": {},
     "output_type": "execute_result"
    }
   ],
   "source": [
    "int(True)"
   ]
  },
  {
   "cell_type": "code",
   "execution_count": 6,
   "metadata": {},
   "outputs": [
    {
     "data": {
      "text/plain": [
       "0"
      ]
     },
     "execution_count": 6,
     "metadata": {},
     "output_type": "execute_result"
    }
   ],
   "source": [
    "int(False)"
   ]
  },
  {
   "cell_type": "code",
   "execution_count": 7,
   "metadata": {},
   "outputs": [
    {
     "ename": "TypeError",
     "evalue": "int() argument must be a string, a bytes-like object or a real number, not 'NoneType'",
     "output_type": "error",
     "traceback": [
      "\u001b[0;31m---------------------------------------------------------------------------\u001b[0m",
      "\u001b[0;31mTypeError\u001b[0m                                 Traceback (most recent call last)",
      "Cell \u001b[0;32mIn[7], line 1\u001b[0m\n\u001b[0;32m----> 1\u001b[0m \u001b[39mint\u001b[39;49m(\u001b[39mNone\u001b[39;49;00m)\n",
      "\u001b[0;31mTypeError\u001b[0m: int() argument must be a string, a bytes-like object or a real number, not 'NoneType'"
     ]
    }
   ],
   "source": [
    "int(None)"
   ]
  },
  {
   "cell_type": "code",
   "execution_count": 8,
   "metadata": {},
   "outputs": [
    {
     "data": {
      "text/plain": [
       "12"
      ]
     },
     "execution_count": 8,
     "metadata": {},
     "output_type": "execute_result"
    }
   ],
   "source": [
    "int(\"12\")"
   ]
  },
  {
   "cell_type": "code",
   "execution_count": 9,
   "metadata": {},
   "outputs": [
    {
     "ename": "ValueError",
     "evalue": "invalid literal for int() with base 10: '-0.0002378732'",
     "output_type": "error",
     "traceback": [
      "\u001b[0;31m---------------------------------------------------------------------------\u001b[0m",
      "\u001b[0;31mValueError\u001b[0m                                Traceback (most recent call last)",
      "Cell \u001b[0;32mIn[9], line 1\u001b[0m\n\u001b[0;32m----> 1\u001b[0m \u001b[39mint\u001b[39;49m(\u001b[39m\"\u001b[39;49m\u001b[39m-0.0002378732\u001b[39;49m\u001b[39m\"\u001b[39;49m)\n",
      "\u001b[0;31mValueError\u001b[0m: invalid literal for int() with base 10: '-0.0002378732'"
     ]
    }
   ],
   "source": [
    "int(\"-0.0002378732\")"
   ]
  },
  {
   "cell_type": "code",
   "execution_count": 10,
   "metadata": {},
   "outputs": [
    {
     "ename": "ValueError",
     "evalue": "invalid literal for int() with base 10: 'TWO'",
     "output_type": "error",
     "traceback": [
      "\u001b[0;31m---------------------------------------------------------------------------\u001b[0m",
      "\u001b[0;31mValueError\u001b[0m                                Traceback (most recent call last)",
      "Cell \u001b[0;32mIn[10], line 1\u001b[0m\n\u001b[0;32m----> 1\u001b[0m \u001b[39mint\u001b[39;49m(\u001b[39m\"\u001b[39;49m\u001b[39mTWO\u001b[39;49m\u001b[39m\"\u001b[39;49m)\n",
      "\u001b[0;31mValueError\u001b[0m: invalid literal for int() with base 10: 'TWO'"
     ]
    }
   ],
   "source": [
    "int(\"TWO\")"
   ]
  },
  {
   "cell_type": "markdown",
   "metadata": {},
   "source": [
    "NOTE: int() can convert int, float, int as string, boolean"
   ]
  },
  {
   "attachments": {},
   "cell_type": "markdown",
   "metadata": {},
   "source": [
    "- float()"
   ]
  },
  {
   "cell_type": "code",
   "execution_count": 12,
   "metadata": {},
   "outputs": [
    {
     "name": "stdout",
     "output_type": "stream",
     "text": [
      "12.0 12.3 12.0 12.3 -123.2131 -123.2131\n"
     ]
    }
   ],
   "source": [
    "print(\n",
    "    float(12),\n",
    "    float(12.3),\n",
    "    float(\"12\"),\n",
    "    float(\"12.3\"),\n",
    "    float(-123.2131),\n",
    "    float(\"-123.2131\"),\n",
    ")"
   ]
  },
  {
   "cell_type": "code",
   "execution_count": 13,
   "metadata": {},
   "outputs": [
    {
     "data": {
      "text/plain": [
       "inf"
      ]
     },
     "execution_count": 13,
     "metadata": {},
     "output_type": "execute_result"
    }
   ],
   "source": [
    "float(\"inf\")  # creation of infinite value"
   ]
  },
  {
   "cell_type": "code",
   "execution_count": 17,
   "metadata": {},
   "outputs": [
    {
     "data": {
      "text/plain": [
       "-inf"
      ]
     },
     "execution_count": 17,
     "metadata": {},
     "output_type": "execute_result"
    }
   ],
   "source": [
    "float(\"-Infinity\")"
   ]
  },
  {
   "cell_type": "code",
   "execution_count": 14,
   "metadata": {},
   "outputs": [
    {
     "data": {
      "text/plain": [
       "-inf"
      ]
     },
     "execution_count": 14,
     "metadata": {},
     "output_type": "execute_result"
    }
   ],
   "source": [
    "float(\"-inf\")"
   ]
  },
  {
   "cell_type": "code",
   "execution_count": 15,
   "metadata": {},
   "outputs": [
    {
     "ename": "ValueError",
     "evalue": "invalid literal for int() with base 10: 'inf'",
     "output_type": "error",
     "traceback": [
      "\u001b[0;31m---------------------------------------------------------------------------\u001b[0m",
      "\u001b[0;31mValueError\u001b[0m                                Traceback (most recent call last)",
      "Cell \u001b[0;32mIn[15], line 1\u001b[0m\n\u001b[0;32m----> 1\u001b[0m \u001b[39mint\u001b[39;49m(\u001b[39m'\u001b[39;49m\u001b[39minf\u001b[39;49m\u001b[39m'\u001b[39;49m)\n",
      "\u001b[0;31mValueError\u001b[0m: invalid literal for int() with base 10: 'inf'"
     ]
    }
   ],
   "source": [
    "int(\"inf\")"
   ]
  },
  {
   "cell_type": "code",
   "execution_count": 16,
   "metadata": {},
   "outputs": [
    {
     "ename": "ValueError",
     "evalue": "could not convert string to float: 'TWO'",
     "output_type": "error",
     "traceback": [
      "\u001b[0;31m---------------------------------------------------------------------------\u001b[0m",
      "\u001b[0;31mValueError\u001b[0m                                Traceback (most recent call last)",
      "Cell \u001b[0;32mIn[16], line 1\u001b[0m\n\u001b[0;32m----> 1\u001b[0m \u001b[39mfloat\u001b[39;49m(\u001b[39m\"\u001b[39;49m\u001b[39mTWO\u001b[39;49m\u001b[39m\"\u001b[39;49m)\n",
      "\u001b[0;31mValueError\u001b[0m: could not convert string to float: 'TWO'"
     ]
    }
   ],
   "source": [
    "float(\"TWO\")"
   ]
  },
  {
   "cell_type": "code",
   "execution_count": 18,
   "metadata": {},
   "outputs": [
    {
     "data": {
      "text/plain": [
       "-12345.0"
      ]
     },
     "execution_count": 18,
     "metadata": {},
     "output_type": "execute_result"
    }
   ],
   "source": [
    "float(\"   -12345\\n\")  # ONLY whitespace characters"
   ]
  },
  {
   "cell_type": "code",
   "execution_count": 19,
   "metadata": {},
   "outputs": [
    {
     "ename": "ValueError",
     "evalue": "could not convert string to float: '   -12345car'",
     "output_type": "error",
     "traceback": [
      "\u001b[0;31m---------------------------------------------------------------------------\u001b[0m",
      "\u001b[0;31mValueError\u001b[0m                                Traceback (most recent call last)",
      "Cell \u001b[0;32mIn[19], line 1\u001b[0m\n\u001b[0;32m----> 1\u001b[0m \u001b[39mfloat\u001b[39;49m(\u001b[39m\"\u001b[39;49m\u001b[39m   -12345car\u001b[39;49m\u001b[39m\"\u001b[39;49m)\n",
      "\u001b[0;31mValueError\u001b[0m: could not convert string to float: '   -12345car'"
     ]
    }
   ],
   "source": [
    "float(\"   -12345car\")"
   ]
  },
  {
   "cell_type": "code",
   "execution_count": 20,
   "metadata": {},
   "outputs": [
    {
     "data": {
      "text/plain": [
       "-12345"
      ]
     },
     "execution_count": 20,
     "metadata": {},
     "output_type": "execute_result"
    }
   ],
   "source": [
    "int(\"   -12345\\n\")"
   ]
  },
  {
   "attachments": {},
   "cell_type": "markdown",
   "metadata": {},
   "source": [
    "### Int Notation\n",
    "        int - decimal       - int() -base 10  (0-9)\n",
    "            - binary        - bin() -base  2  (0-1)\n",
    "            - hexadecimal   - hex() - base 16 (0-9 A-F)\n",
    "            - octal         - oct() - base 8  (0-7)\n",
    "\n",
    "\n",
    "            128 64 32 16 8 4 2 1\n",
    "        8     0  0  0  0 1 0 0 0\n",
    "        9     0  0  0  0 1 0 0 1\n",
    "       10     0  0  0  0 1 0 1 0\n",
    "       11     0  0  0  0 1 0 1 1\n",
    "       12     0  0  0  0 1 1 0 0\n",
    "\n",
    "       68     0  1  0  0 0 1 0 0"
   ]
  },
  {
   "cell_type": "code",
   "execution_count": 21,
   "metadata": {},
   "outputs": [
    {
     "data": {
      "text/plain": [
       "'0b1000'"
      ]
     },
     "execution_count": 21,
     "metadata": {},
     "output_type": "execute_result"
    }
   ],
   "source": [
    "bin(8)"
   ]
  },
  {
   "cell_type": "code",
   "execution_count": 22,
   "metadata": {},
   "outputs": [
    {
     "data": {
      "text/plain": [
       "'0b1001'"
      ]
     },
     "execution_count": 22,
     "metadata": {},
     "output_type": "execute_result"
    }
   ],
   "source": [
    "bin(9)"
   ]
  },
  {
   "cell_type": "code",
   "execution_count": 23,
   "metadata": {},
   "outputs": [
    {
     "data": {
      "text/plain": [
       "'0b1000100'"
      ]
     },
     "execution_count": 23,
     "metadata": {},
     "output_type": "execute_result"
    }
   ],
   "source": [
    "bin(68)"
   ]
  },
  {
   "cell_type": "code",
   "execution_count": 24,
   "metadata": {},
   "outputs": [
    {
     "name": "stdout",
     "output_type": "stream",
     "text": [
      "0b1000100 <class 'str'>\n"
     ]
    }
   ],
   "source": [
    "res = bin(68)\n",
    "\n",
    "print(res, type(res))"
   ]
  },
  {
   "cell_type": "code",
   "execution_count": 28,
   "metadata": {},
   "outputs": [
    {
     "data": {
      "text/plain": [
       "(1000100, 1000100)"
      ]
     },
     "execution_count": 28,
     "metadata": {},
     "output_type": "execute_result"
    }
   ],
   "source": [
    "int(1000100), int(\"1000100\")"
   ]
  },
  {
   "cell_type": "code",
   "execution_count": 34,
   "metadata": {},
   "outputs": [
    {
     "data": {
      "text/plain": [
       "(1000100, 1000100)"
      ]
     },
     "execution_count": 34,
     "metadata": {},
     "output_type": "execute_result"
    }
   ],
   "source": [
    "int(1000100), int(\"1000100\")"
   ]
  },
  {
   "cell_type": "code",
   "execution_count": 29,
   "metadata": {},
   "outputs": [
    {
     "ename": "ValueError",
     "evalue": "invalid literal for int() with base 10: '0b1000100'",
     "output_type": "error",
     "traceback": [
      "\u001b[0;31m---------------------------------------------------------------------------\u001b[0m",
      "\u001b[0;31mValueError\u001b[0m                                Traceback (most recent call last)",
      "Cell \u001b[0;32mIn[29], line 1\u001b[0m\n\u001b[0;32m----> 1\u001b[0m \u001b[39mint\u001b[39;49m(\u001b[39m\"\u001b[39;49m\u001b[39m0b1000100\u001b[39;49m\u001b[39m\"\u001b[39;49m)\n",
      "\u001b[0;31mValueError\u001b[0m: invalid literal for int() with base 10: '0b1000100'"
     ]
    }
   ],
   "source": [
    "int(\"0b1000100\")"
   ]
  },
  {
   "cell_type": "code",
   "execution_count": 30,
   "metadata": {},
   "outputs": [
    {
     "data": {
      "text/plain": [
       "68"
      ]
     },
     "execution_count": 30,
     "metadata": {},
     "output_type": "execute_result"
    }
   ],
   "source": [
    "int(\"0b1000100\", base=2)"
   ]
  },
  {
   "cell_type": "code",
   "execution_count": 35,
   "metadata": {},
   "outputs": [
    {
     "data": {
      "text/plain": [
       "64"
      ]
     },
     "execution_count": 35,
     "metadata": {},
     "output_type": "execute_result"
    }
   ],
   "source": [
    "int(bin(64), base=2)  # int -> bin -> int"
   ]
  },
  {
   "cell_type": "code",
   "execution_count": 43,
   "metadata": {},
   "outputs": [
    {
     "name": "stdout",
     "output_type": "stream",
     "text": [
      "0b1001 9\n",
      "1001   1001\n",
      "bin(9) 9\n"
     ]
    }
   ],
   "source": [
    "# binary -> decimal form\n",
    "print(\"0b1001\", int(\"0b1001\", base=0))  # 9\n",
    "print(\"1001  \", int(\"1001\", base=0))  # 1001\n",
    "print(\"bin(9)\", int(bin(9), base=0))  # 9"
   ]
  },
  {
   "cell_type": "code",
   "execution_count": 44,
   "metadata": {},
   "outputs": [
    {
     "name": "stdout",
     "output_type": "stream",
     "text": [
      "4\n",
      "5\n"
     ]
    }
   ],
   "source": [
    "print((9).bit_length())  # 4 <- '0b1001'\n",
    "print((23).bit_length())  # 5 <- '0b10111'"
   ]
  },
  {
   "cell_type": "code",
   "execution_count": 36,
   "metadata": {},
   "outputs": [
    {
     "data": {
      "text/plain": [
       "'0xa'"
      ]
     },
     "execution_count": 36,
     "metadata": {},
     "output_type": "execute_result"
    }
   ],
   "source": [
    "hex(10)"
   ]
  },
  {
   "cell_type": "code",
   "execution_count": 41,
   "metadata": {},
   "outputs": [
    {
     "name": "stdout",
     "output_type": "stream",
     "text": [
      "0 0b0 0x0 0o0\n",
      "1 0b1 0x1 0o1\n",
      "2 0b10 0x2 0o2\n",
      "3 0b11 0x3 0o3\n",
      "4 0b100 0x4 0o4\n",
      "5 0b101 0x5 0o5\n",
      "6 0b110 0x6 0o6\n",
      "7 0b111 0x7 0o7\n",
      "8 0b1000 0x8 0o10\n",
      "9 0b1001 0x9 0o11\n",
      "10 0b1010 0xa 0o12\n",
      "11 0b1011 0xb 0o13\n",
      "12 0b1100 0xc 0o14\n",
      "13 0b1101 0xd 0o15\n",
      "14 0b1110 0xe 0o16\n",
      "15 0b1111 0xf 0o17\n",
      "16 0b10000 0x10 0o20\n",
      "17 0b10001 0x11 0o21\n",
      "18 0b10010 0x12 0o22\n",
      "19 0b10011 0x13 0o23\n"
     ]
    }
   ],
   "source": [
    "for i in range(20):\n",
    "    print(i, bin(i), hex(i), oct(i))"
   ]
  },
  {
   "cell_type": "code",
   "execution_count": 42,
   "metadata": {},
   "outputs": [
    {
     "name": "stdout",
     "output_type": "stream",
     "text": [
      "20000 0b100111000100000 0x4e20 0o47040\n",
      "20001 0b100111000100001 0x4e21 0o47041\n",
      "20002 0b100111000100010 0x4e22 0o47042\n",
      "20003 0b100111000100011 0x4e23 0o47043\n",
      "20004 0b100111000100100 0x4e24 0o47044\n",
      "20005 0b100111000100101 0x4e25 0o47045\n",
      "20006 0b100111000100110 0x4e26 0o47046\n",
      "20007 0b100111000100111 0x4e27 0o47047\n",
      "20008 0b100111000101000 0x4e28 0o47050\n",
      "20009 0b100111000101001 0x4e29 0o47051\n"
     ]
    }
   ],
   "source": [
    "for i in range(20000, 20010):\n",
    "    print(i, bin(i), hex(i), oct(i))"
   ]
  },
  {
   "cell_type": "code",
   "execution_count": 45,
   "metadata": {},
   "outputs": [
    {
     "name": "stdout",
     "output_type": "stream",
     "text": [
      "oct(9)   0o11\n",
      "oct(-23) -0o27\n"
     ]
    }
   ],
   "source": [
    "# Octal -> 0-7\n",
    "# decimal -> octal\n",
    "print(\"oct(9)  \", oct(9))  # '0o11'\n",
    "print(\"oct(-23)\", oct(-23))  # '-0o27'"
   ]
  },
  {
   "cell_type": "code",
   "execution_count": 46,
   "metadata": {},
   "outputs": [
    {
     "name": "stdout",
     "output_type": "stream",
     "text": [
      "9\n",
      "9\n",
      "9\n",
      "11\n"
     ]
    }
   ],
   "source": [
    "# octal -> decimal\n",
    "print(int(oct(9), base=8))  # 9\n",
    "print(int(\"0o11\", base=8))  # 9\n",
    "print(int(\"11\", base=8))  # 9\n",
    "print(int(\"11\"))  # 11"
   ]
  },
  {
   "cell_type": "code",
   "execution_count": 47,
   "metadata": {},
   "outputs": [
    {
     "name": "stdout",
     "output_type": "stream",
     "text": [
      "hex(9)   0x9\n",
      "hex(-23) -0x17\n"
     ]
    }
   ],
   "source": [
    "# Hexadecimal - 0-9 A-F\n",
    "# decimal -> hexadecimal\n",
    "print(\"hex(9)  \", hex(9))  # '0x9'\n",
    "print(\"hex(-23)\", hex(-23))  # '-0x17'"
   ]
  },
  {
   "cell_type": "code",
   "execution_count": 48,
   "metadata": {},
   "outputs": [
    {
     "name": "stdout",
     "output_type": "stream",
     "text": [
      "-23\n",
      "-23\n",
      "-23\n",
      "-17\n"
     ]
    }
   ],
   "source": [
    "# hexadecimal -> decimal\n",
    "print(int(hex(-23), base=16))  # -23\n",
    "print(int(\"-0x17\", base=16))  # -23\n",
    "print(int(\"-17\", base=16))  # -23\n",
    "print(int(\"-17\"))  # -17"
   ]
  },
  {
   "cell_type": "code",
   "execution_count": 49,
   "metadata": {},
   "outputs": [
    {
     "name": "stdout",
     "output_type": "stream",
     "text": [
      "True\n",
      "False\n",
      "False\n"
     ]
    }
   ],
   "source": [
    "# Checks ##################\n",
    "# is_integer -> Return True if the float is an integer.\n",
    "print((-2.0).is_integer())  # True\n",
    "print((-2.1).is_integer())  # False\n",
    "print((-1.9999).is_integer())  # False"
   ]
  },
  {
   "cell_type": "code",
   "execution_count": 50,
   "metadata": {},
   "outputs": [
    {
     "name": "stdout",
     "output_type": "stream",
     "text": [
      "42\n",
      "42\n",
      "42\n",
      "66\n",
      "66\n"
     ]
    }
   ],
   "source": [
    "# ---- roman numbers\n",
    "print(int(\"42\"))  # 42\n",
    "print(int(\"४२\"))  # 42\n",
    "print(int(\"٤٢\"))  # 42\n",
    "print(int(\"४२\", 16))  # 66\n",
    "print(int(\"४२\", base=16))  # 66"
   ]
  },
  {
   "cell_type": "code",
   "execution_count": 51,
   "metadata": {},
   "outputs": [
    {
     "name": "stdout",
     "output_type": "stream",
     "text": [
      "౦ 0\n",
      "౧ 1\n",
      "౨ 2\n",
      "౩ 3\n",
      "౪ 4\n",
      "౫ 5\n",
      "౬ 6\n",
      "౭ 7\n",
      "౮ 8\n",
      "౯ 9\n"
     ]
    }
   ],
   "source": [
    "# Telugu numbers\n",
    "for num in [\"౦\", \"౧\", \"౨\", \"౩\", \"౪\", \"౫\", \"౬\", \"౭\", \"౮\", \"౯\"]:\n",
    "    print(num, int(num, base=16))\n",
    "\n",
    "# Ref: https://unicode-table.com/"
   ]
  },
  {
   "attachments": {},
   "cell_type": "markdown",
   "metadata": {},
   "source": [
    " - str()\n",
    "    - Any data type can be converted to an string"
   ]
  },
  {
   "cell_type": "code",
   "execution_count": 52,
   "metadata": {},
   "outputs": [
    {
     "data": {
      "text/plain": [
       "'None'"
      ]
     },
     "execution_count": 52,
     "metadata": {},
     "output_type": "execute_result"
    }
   ],
   "source": [
    "# int\n",
    "str(1)\n",
    "str(-1231)\n",
    "\n",
    "# float\n",
    "str(21.23)\n",
    "str(-123.1231)\n",
    "\n",
    "# str\n",
    "str(\"12\")\n",
    "str(\"21.12\")\n",
    "str(\"TWO\")\n",
    "str(\"udhay\")\n",
    "\n",
    "# bool\n",
    "str(True)\n",
    "str(False)\n",
    "\n",
    "# None\n",
    "str(None)"
   ]
  },
  {
   "cell_type": "code",
   "execution_count": null,
   "metadata": {},
   "outputs": [],
   "source": []
  }
 ],
 "metadata": {
  "kernelspec": {
   "display_name": "Python 3",
   "language": "python",
   "name": "python3"
  },
  "language_info": {
   "codemirror_mode": {
    "name": "ipython",
    "version": 3
   },
   "file_extension": ".py",
   "mimetype": "text/x-python",
   "name": "python",
   "nbconvert_exporter": "python",
   "pygments_lexer": "ipython3",
   "version": "3.10.4"
  },
  "orig_nbformat": 4
 },
 "nbformat": 4,
 "nbformat_minor": 2
}
