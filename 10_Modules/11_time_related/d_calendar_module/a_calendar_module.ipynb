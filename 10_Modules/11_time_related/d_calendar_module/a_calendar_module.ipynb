{
 "cells": [
  {
   "cell_type": "code",
   "execution_count": 1,
   "metadata": {},
   "outputs": [],
   "source": [
    "import calendar"
   ]
  },
  {
   "cell_type": "code",
   "execution_count": 2,
   "metadata": {},
   "outputs": [
    {
     "name": "stdout",
     "output_type": "stream",
     "text": [
      "['Calendar', 'EPOCH', 'FRIDAY', 'February', 'HTMLCalendar', 'IllegalMonthError', 'IllegalWeekdayError', 'January', 'LocaleHTMLCalendar', 'LocaleTextCalendar', 'MONDAY', 'SATURDAY', 'SUNDAY', 'THURSDAY', 'TUESDAY', 'TextCalendar', 'WEDNESDAY', '_EPOCH_ORD', '__all__', '__builtins__', '__cached__', '__doc__', '__file__', '__loader__', '__name__', '__package__', '__spec__', '_colwidth', '_locale', '_localized_day', '_localized_month', '_monthlen', '_nextmonth', '_prevmonth', '_spacing', 'c', 'calendar', 'datetime', 'day_abbr', 'day_name', 'different_locale', 'error', 'firstweekday', 'format', 'formatstring', 'isleap', 'leapdays', 'main', 'mdays', 'month', 'month_abbr', 'month_name', 'monthcalendar', 'monthrange', 'prcal', 'prmonth', 'prweek', 'repeat', 'setfirstweekday', 'sys', 'timegm', 'week', 'weekday', 'weekheader']\n"
     ]
    }
   ],
   "source": [
    "print(dir(calendar))"
   ]
  },
  {
   "cell_type": "code",
   "execution_count": 3,
   "metadata": {},
   "outputs": [
    {
     "name": "stdout",
     "output_type": "stream",
     "text": [
      "Calendar printing functions\n",
      "\n",
      "Note when comparing these calendars to the ones printed by cal(1): By\n",
      "default, these calendars have Monday as the first day of the week, and\n",
      "Sunday as the last (the European convention). Use setfirstweekday() to\n",
      "set the first day of the week (0=Monday, 6=Sunday).\n"
     ]
    }
   ],
   "source": [
    "print(calendar.__doc__)"
   ]
  },
  {
   "cell_type": "code",
   "execution_count": 4,
   "metadata": {},
   "outputs": [
    {
     "name": "stdout",
     "output_type": "stream",
     "text": [
      " \n",
      "calendar.EPOCH      =1970\n",
      "calendar._EPOCH_ORD =719163\n",
      "\n",
      "calendar.MONDAY     =0\n",
      "calendar.TUESDAY    =1\n",
      "calendar.WEDNESDAY  =2\n",
      "calendar.THURSDAY   =3\n",
      "calendar.FRIDAY     =4\n",
      "calendar.SATURDAY   =5\n",
      "calendar.SUNDAY     =6\n",
      "\n",
      "calendar.mdays      =[0, 31, 28, 31, 30, 31, 30, 31, 31, 30, 31, 30, 31]\n",
      "\n"
     ]
    }
   ],
   "source": [
    "print(\n",
    "    f\"\"\" \n",
    "{calendar.EPOCH      =}\n",
    "{calendar._EPOCH_ORD =}\n",
    "\n",
    "{calendar.MONDAY     =}\n",
    "{calendar.TUESDAY    =}\n",
    "{calendar.WEDNESDAY  =}\n",
    "{calendar.THURSDAY   =}\n",
    "{calendar.FRIDAY     =}\n",
    "{calendar.SATURDAY   =}\n",
    "{calendar.SUNDAY     =}\n",
    "\n",
    "{calendar.mdays      =}\n",
    "\"\"\"\n",
    ")"
   ]
  },
  {
   "cell_type": "markdown",
   "metadata": {},
   "source": [
    "Getting Abbreviated Weekday Names"
   ]
  },
  {
   "cell_type": "code",
   "execution_count": 5,
   "metadata": {},
   "outputs": [
    {
     "data": {
      "text/plain": [
       "'Mo Tu We Th Fr Sa Su'"
      ]
     },
     "execution_count": 5,
     "metadata": {},
     "output_type": "execute_result"
    }
   ],
   "source": [
    "calendar.weekheader(2)"
   ]
  },
  {
   "cell_type": "code",
   "execution_count": 6,
   "metadata": {},
   "outputs": [
    {
     "name": "stdout",
     "output_type": "stream",
     "text": [
      "0 ==>       \n",
      "1 ==> M T W T F S S\n",
      "2 ==> Mo Tu We Th Fr Sa Su\n",
      "3 ==> Mon Tue Wed Thu Fri Sat Sun\n",
      "4 ==> Mon  Tue  Wed  Thu  Fri  Sat  Sun \n",
      "5 ==>  Mon   Tue   Wed   Thu   Fri   Sat   Sun \n",
      "6 ==>  Mon    Tue    Wed    Thu    Fri    Sat    Sun  \n"
     ]
    }
   ],
   "source": [
    "for i in range(7):\n",
    "    print(i, \"==>\", calendar.weekheader(i))"
   ]
  },
  {
   "cell_type": "markdown",
   "metadata": {},
   "source": [
    "__Problem:__ For a given date, tell the week of the day"
   ]
  },
  {
   "cell_type": "code",
   "execution_count": 7,
   "metadata": {},
   "outputs": [],
   "source": [
    "import calendar\n",
    "\n",
    "\n",
    "def get_week_of_day():\n",
    "    given_input = input('Enter the date in \"MM DD YYYY\" format:')\n",
    "    month, day, year = map(int, given_input.split(\" \"))\n",
    "\n",
    "    weeks = (\n",
    "        \"MONDAY\",\n",
    "        \"TUESDAY\",\n",
    "        \"WEDNESDAY\",\n",
    "        \"THURSDAY\",\n",
    "        \"FRIDAY\",\n",
    "        \"SATURDAY\",\n",
    "        \"SUNDAY\",\n",
    "    )\n",
    "    week_no = calendar.weekday(year, month, day)\n",
    "    week_name = weeks[week_no]\n",
    "    return f\"day of week for {given_input} is {week_name}\""
   ]
  },
  {
   "cell_type": "code",
   "execution_count": 9,
   "metadata": {},
   "outputs": [
    {
     "data": {
      "text/plain": [
       "'day of week for 06 22 1947 is SUNDAY'"
      ]
     },
     "execution_count": 9,
     "metadata": {},
     "output_type": "execute_result"
    }
   ],
   "source": [
    "get_week_of_day()"
   ]
  },
  {
   "cell_type": "code",
   "execution_count": 10,
   "metadata": {},
   "outputs": [
    {
     "data": {
      "text/plain": [
       "'day of week for 06 22 1047 is TUESDAY'"
      ]
     },
     "execution_count": 10,
     "metadata": {},
     "output_type": "execute_result"
    }
   ],
   "source": [
    "get_week_of_day()"
   ]
  },
  {
   "cell_type": "code",
   "execution_count": 11,
   "metadata": {},
   "outputs": [
    {
     "data": {
      "text/plain": [
       "'    August 1947\\nMo Tu We Th Fr Sa Su\\n             1  2  3\\n 4  5  6  7  8  9 10\\n11 12 13 14 15 16 17\\n18 19 20 21 22 23 24\\n25 26 27 28 29 30 31\\n'"
      ]
     },
     "execution_count": 11,
     "metadata": {},
     "output_type": "execute_result"
    }
   ],
   "source": [
    "calendar.month(1947, 8)"
   ]
  },
  {
   "cell_type": "code",
   "execution_count": 12,
   "metadata": {},
   "outputs": [
    {
     "name": "stdout",
     "output_type": "stream",
     "text": [
      "    August 1947\n",
      "Mo Tu We Th Fr Sa Su\n",
      "             1  2  3\n",
      " 4  5  6  7  8  9 10\n",
      "11 12 13 14 15 16 17\n",
      "18 19 20 21 22 23 24\n",
      "25 26 27 28 29 30 31\n",
      "\n"
     ]
    }
   ],
   "source": [
    "print(calendar.month(1947, 8))"
   ]
  },
  {
   "cell_type": "code",
   "execution_count": 13,
   "metadata": {},
   "outputs": [
    {
     "name": "stdout",
     "output_type": "stream",
     "text": [
      "    August 2020\n",
      "Mo Tu We Th Fr Sa Su\n",
      "                1  2\n",
      " 3  4  5  6  7  8  9\n",
      "10 11 12 13 14 15 16\n",
      "17 18 19 20 21 22 23\n",
      "24 25 26 27 28 29 30\n",
      "31\n",
      "\n"
     ]
    }
   ],
   "source": [
    "print(calendar.month(2020, 8))"
   ]
  },
  {
   "cell_type": "markdown",
   "metadata": {},
   "source": [
    "Getting Number of Days in a Month\n",
    "    - weekday (0-6 ~ Mon-Sun) and number of days (28-31) for year, month"
   ]
  },
  {
   "cell_type": "code",
   "execution_count": 14,
   "metadata": {},
   "outputs": [
    {
     "name": "stdout",
     "output_type": "stream",
     "text": [
      "(4, 31)\n"
     ]
    }
   ],
   "source": [
    "print(calendar.monthrange(1947, 8))  # 4 - Friday"
   ]
  },
  {
   "cell_type": "code",
   "execution_count": 15,
   "metadata": {},
   "outputs": [
    {
     "name": "stdout",
     "output_type": "stream",
     "text": [
      "(5, 31)\n"
     ]
    }
   ],
   "source": [
    "print(calendar.monthrange(2020, 8))  # 5 - Saturday"
   ]
  },
  {
   "cell_type": "code",
   "execution_count": 16,
   "metadata": {},
   "outputs": [
    {
     "name": "stdout",
     "output_type": "stream",
     "text": [
      "     March 2020\n",
      "Mo Tu We Th Fr Sa Su\n",
      "                   1\n",
      " 2  3  4  5  6  7  8\n",
      " 9 10 11 12 13 14 15\n",
      "16 17 18 19 20 21 22\n",
      "23 24 25 26 27 28 29\n",
      "30 31\n",
      "\n"
     ]
    }
   ],
   "source": [
    "print(calendar.month(2020, 3))"
   ]
  },
  {
   "cell_type": "code",
   "execution_count": 17,
   "metadata": {},
   "outputs": [
    {
     "name": "stdout",
     "output_type": "stream",
     "text": [
      "(6, 31)\n"
     ]
    }
   ],
   "source": [
    "print(calendar.monthrange(2020, 3))"
   ]
  },
  {
   "cell_type": "code",
   "execution_count": 18,
   "metadata": {},
   "outputs": [
    {
     "name": "stdout",
     "output_type": "stream",
     "text": [
      "[[0, 0, 0, 0, 1, 2, 3], [4, 5, 6, 7, 8, 9, 10], [11, 12, 13, 14, 15, 16, 17], [18, 19, 20, 21, 22, 23, 24], [25, 26, 27, 28, 29, 30, 31]]\n"
     ]
    }
   ],
   "source": [
    "print(calendar.monthcalendar(1947, 8))"
   ]
  },
  {
   "cell_type": "code",
   "execution_count": 19,
   "metadata": {},
   "outputs": [
    {
     "name": "stdout",
     "output_type": "stream",
     "text": [
      "[0, 0, 0, 0, 1, 2, 3]\n",
      "[4, 5, 6, 7, 8, 9, 10]\n",
      "[11, 12, 13, 14, 15, 16, 17]\n",
      "[18, 19, 20, 21, 22, 23, 24]\n",
      "[25, 26, 27, 28, 29, 30, 31]\n"
     ]
    }
   ],
   "source": [
    "for i in calendar.monthcalendar(1947, 8):\n",
    "    print(i)"
   ]
  },
  {
   "cell_type": "markdown",
   "metadata": {},
   "source": [
    "### Displaying the calendar"
   ]
  },
  {
   "cell_type": "code",
   "execution_count": 20,
   "metadata": {},
   "outputs": [
    {
     "name": "stdout",
     "output_type": "stream",
     "text": [
      "Help on method formatyear in module calendar:\n",
      "\n",
      "formatyear(theyear, w=2, l=1, c=6, m=3) method of calendar.TextCalendar instance\n",
      "    Returns a year's calendar as a multi-line string.\n",
      "\n"
     ]
    }
   ],
   "source": [
    "help(calendar.calendar)"
   ]
  },
  {
   "cell_type": "code",
   "execution_count": 21,
   "metadata": {},
   "outputs": [
    {
     "name": "stdout",
     "output_type": "stream",
     "text": [
      "                                      1947\n",
      "\n",
      "      January                       February                       March\n",
      "Mo Tu We Th Fr Sa Su          Mo Tu We Th Fr Sa Su          Mo Tu We Th Fr Sa Su\n",
      "       1  2  3  4  5                          1  2                          1  2\n",
      " 6  7  8  9 10 11 12           3  4  5  6  7  8  9           3  4  5  6  7  8  9\n",
      "13 14 15 16 17 18 19          10 11 12 13 14 15 16          10 11 12 13 14 15 16\n",
      "20 21 22 23 24 25 26          17 18 19 20 21 22 23          17 18 19 20 21 22 23\n",
      "27 28 29 30 31                24 25 26 27 28                24 25 26 27 28 29 30\n",
      "                                                            31\n",
      "\n",
      "       April                          May                           June\n",
      "Mo Tu We Th Fr Sa Su          Mo Tu We Th Fr Sa Su          Mo Tu We Th Fr Sa Su\n",
      "    1  2  3  4  5  6                    1  2  3  4                             1\n",
      " 7  8  9 10 11 12 13           5  6  7  8  9 10 11           2  3  4  5  6  7  8\n",
      "14 15 16 17 18 19 20          12 13 14 15 16 17 18           9 10 11 12 13 14 15\n",
      "21 22 23 24 25 26 27          19 20 21 22 23 24 25          16 17 18 19 20 21 22\n",
      "28 29 30                      26 27 28 29 30 31             23 24 25 26 27 28 29\n",
      "                                                            30\n",
      "\n",
      "        July                         August                      September\n",
      "Mo Tu We Th Fr Sa Su          Mo Tu We Th Fr Sa Su          Mo Tu We Th Fr Sa Su\n",
      "    1  2  3  4  5  6                       1  2  3           1  2  3  4  5  6  7\n",
      " 7  8  9 10 11 12 13           4  5  6  7  8  9 10           8  9 10 11 12 13 14\n",
      "14 15 16 17 18 19 20          11 12 13 14 15 16 17          15 16 17 18 19 20 21\n",
      "21 22 23 24 25 26 27          18 19 20 21 22 23 24          22 23 24 25 26 27 28\n",
      "28 29 30 31                   25 26 27 28 29 30 31          29 30\n",
      "\n",
      "      October                       November                      December\n",
      "Mo Tu We Th Fr Sa Su          Mo Tu We Th Fr Sa Su          Mo Tu We Th Fr Sa Su\n",
      "       1  2  3  4  5                          1  2           1  2  3  4  5  6  7\n",
      " 6  7  8  9 10 11 12           3  4  5  6  7  8  9           8  9 10 11 12 13 14\n",
      "13 14 15 16 17 18 19          10 11 12 13 14 15 16          15 16 17 18 19 20 21\n",
      "20 21 22 23 24 25 26          17 18 19 20 21 22 23          22 23 24 25 26 27 28\n",
      "27 28 29 30 31                24 25 26 27 28 29 30          29 30 31\n",
      "\n"
     ]
    }
   ],
   "source": [
    "print(calendar.calendar(1947, 2, 1, 10))"
   ]
  },
  {
   "cell_type": "code",
   "execution_count": 22,
   "metadata": {},
   "outputs": [
    {
     "data": {
      "text/plain": [
       "0"
      ]
     },
     "execution_count": 22,
     "metadata": {},
     "output_type": "execute_result"
    }
   ],
   "source": [
    "calendar.firstweekday()  # 0 - Monday"
   ]
  },
  {
   "cell_type": "code",
   "execution_count": 23,
   "metadata": {},
   "outputs": [],
   "source": [
    "calendar.setfirstweekday(4)"
   ]
  },
  {
   "cell_type": "code",
   "execution_count": 24,
   "metadata": {},
   "outputs": [
    {
     "data": {
      "text/plain": [
       "4"
      ]
     },
     "execution_count": 24,
     "metadata": {},
     "output_type": "execute_result"
    }
   ],
   "source": [
    "calendar.firstweekday()  # 4 - Friday"
   ]
  },
  {
   "cell_type": "code",
   "execution_count": 25,
   "metadata": {},
   "outputs": [
    {
     "name": "stdout",
     "output_type": "stream",
     "text": [
      "                                      1947\n",
      "\n",
      "      January                       February                       March\n",
      "Fr Sa Su Mo Tu We Th          Fr Sa Su Mo Tu We Th          Fr Sa Su Mo Tu We Th\n",
      "                1  2              1  2  3  4  5  6              1  2  3  4  5  6\n",
      " 3  4  5  6  7  8  9           7  8  9 10 11 12 13           7  8  9 10 11 12 13\n",
      "10 11 12 13 14 15 16          14 15 16 17 18 19 20          14 15 16 17 18 19 20\n",
      "17 18 19 20 21 22 23          21 22 23 24 25 26 27          21 22 23 24 25 26 27\n",
      "24 25 26 27 28 29 30          28                            28 29 30 31\n",
      "31\n",
      "\n",
      "       April                          May                           June\n",
      "Fr Sa Su Mo Tu We Th          Fr Sa Su Mo Tu We Th          Fr Sa Su Mo Tu We Th\n",
      "             1  2  3                             1                 1  2  3  4  5\n",
      " 4  5  6  7  8  9 10           2  3  4  5  6  7  8           6  7  8  9 10 11 12\n",
      "11 12 13 14 15 16 17           9 10 11 12 13 14 15          13 14 15 16 17 18 19\n",
      "18 19 20 21 22 23 24          16 17 18 19 20 21 22          20 21 22 23 24 25 26\n",
      "25 26 27 28 29 30             23 24 25 26 27 28 29          27 28 29 30\n",
      "                              30 31\n",
      "\n",
      "        July                         August                      September\n",
      "Fr Sa Su Mo Tu We Th          Fr Sa Su Mo Tu We Th          Fr Sa Su Mo Tu We Th\n",
      "             1  2  3           1  2  3  4  5  6  7                    1  2  3  4\n",
      " 4  5  6  7  8  9 10           8  9 10 11 12 13 14           5  6  7  8  9 10 11\n",
      "11 12 13 14 15 16 17          15 16 17 18 19 20 21          12 13 14 15 16 17 18\n",
      "18 19 20 21 22 23 24          22 23 24 25 26 27 28          19 20 21 22 23 24 25\n",
      "25 26 27 28 29 30 31          29 30 31                      26 27 28 29 30\n",
      "\n",
      "      October                       November                      December\n",
      "Fr Sa Su Mo Tu We Th          Fr Sa Su Mo Tu We Th          Fr Sa Su Mo Tu We Th\n",
      "                1  2              1  2  3  4  5  6                    1  2  3  4\n",
      " 3  4  5  6  7  8  9           7  8  9 10 11 12 13           5  6  7  8  9 10 11\n",
      "10 11 12 13 14 15 16          14 15 16 17 18 19 20          12 13 14 15 16 17 18\n",
      "17 18 19 20 21 22 23          21 22 23 24 25 26 27          19 20 21 22 23 24 25\n",
      "24 25 26 27 28 29 30          28 29 30                      26 27 28 29 30 31\n",
      "31\n",
      "\n"
     ]
    }
   ],
   "source": [
    "print(calendar.calendar(1947, 2, 1, 10))"
   ]
  },
  {
   "cell_type": "markdown",
   "metadata": {},
   "source": [
    "### TextCalendar\n",
    "    - used to generate plain text calendars. "
   ]
  },
  {
   "cell_type": "code",
   "execution_count": 26,
   "metadata": {},
   "outputs": [],
   "source": [
    "c = calendar.TextCalendar()"
   ]
  },
  {
   "cell_type": "markdown",
   "metadata": {},
   "source": [
    "formatmonth()\n",
    "    - This method takes 4 arguments namely: \n",
    "        - year\n",
    "        - month\n",
    "        - the width of days column (w)\n",
    "        - a number of lines used by each week (l). \n",
    "    - This method returns a multi-line string."
   ]
  },
  {
   "cell_type": "code",
   "execution_count": 27,
   "metadata": {},
   "outputs": [
    {
     "name": "stdout",
     "output_type": "stream",
     "text": [
      "    August 1047\n",
      "Mo Tu We Th Fr Sa Su\n",
      "                   1\n",
      " 2  3  4  5  6  7  8\n",
      " 9 10 11 12 13 14 15\n",
      "16 17 18 19 20 21 22\n",
      "23 24 25 26 27 28 29\n",
      "30 31\n",
      "\n"
     ]
    }
   ],
   "source": [
    "print(c.formatmonth(1047, 8))  # default, w = 2"
   ]
  },
  {
   "cell_type": "code",
   "execution_count": 28,
   "metadata": {},
   "outputs": [
    {
     "name": "stdout",
     "output_type": "stream",
     "text": [
      "        August 1047\n",
      "Mon Tue Wed Thu Fri Sat Sun\n",
      "                          1\n",
      "  2   3   4   5   6   7   8\n",
      "  9  10  11  12  13  14  15\n",
      " 16  17  18  19  20  21  22\n",
      " 23  24  25  26  27  28  29\n",
      " 30  31\n",
      "\n"
     ]
    }
   ],
   "source": [
    "print(c.formatmonth(1047, 8, 3))"
   ]
  },
  {
   "cell_type": "code",
   "execution_count": 29,
   "metadata": {},
   "outputs": [
    {
     "data": {
      "text/plain": [
       "'        August 1047\\nMon Tue Wed Thu Fri Sat Sun\\n                          1\\n  2   3   4   5   6   7   8\\n  9  10  11  12  13  14  15\\n 16  17  18  19  20  21  22\\n 23  24  25  26  27  28  29\\n 30  31\\n'"
      ]
     },
     "execution_count": 29,
     "metadata": {},
     "output_type": "execute_result"
    }
   ],
   "source": [
    "c.formatmonth(1047, 8, 3)"
   ]
  },
  {
   "cell_type": "markdown",
   "metadata": {},
   "source": [
    "prmonth()\n",
    "    - prints value returned from formatmonth, without using print()"
   ]
  },
  {
   "cell_type": "code",
   "execution_count": 30,
   "metadata": {},
   "outputs": [
    {
     "name": "stdout",
     "output_type": "stream",
     "text": [
      "    August 1947\n",
      "Mo Tu We Th Fr Sa Su\n",
      "             1  2  3\n",
      " 4  5  6  7  8  9 10\n",
      "11 12 13 14 15 16 17\n",
      "18 19 20 21 22 23 24\n",
      "25 26 27 28 29 30 31\n"
     ]
    }
   ],
   "source": [
    "c.prmonth(1947, 8)  # default is Monday"
   ]
  },
  {
   "cell_type": "code",
   "execution_count": 31,
   "metadata": {},
   "outputs": [
    {
     "name": "stdout",
     "output_type": "stream",
     "text": [
      "    August 1947\n",
      "Mo Tu We Th Fr Sa Su\n",
      "             1  2  3\n",
      " 4  5  6  7  8  9 10\n",
      "11 12 13 14 15 16 17\n",
      "18 19 20 21 22 23 24\n",
      "25 26 27 28 29 30 31\n",
      "None\n"
     ]
    }
   ],
   "source": [
    "print(c.prmonth(1947, 8))"
   ]
  },
  {
   "cell_type": "code",
   "execution_count": 32,
   "metadata": {
    "scrolled": true
   },
   "outputs": [
    {
     "name": "stdout",
     "output_type": "stream",
     "text": [
      "    August 1947\n",
      "Su Mo Tu We Th Fr Sa\n",
      "                1  2\n",
      " 3  4  5  6  7  8  9\n",
      "10 11 12 13 14 15 16\n",
      "17 18 19 20 21 22 23\n",
      "24 25 26 27 28 29 30\n",
      "31\n"
     ]
    }
   ],
   "source": [
    "# American calendar starts with Sunday\n",
    "c = calendar.TextCalendar(calendar.SUNDAY)\n",
    "c.prmonth(1947, 8)"
   ]
  },
  {
   "cell_type": "code",
   "execution_count": 33,
   "metadata": {},
   "outputs": [
    {
     "name": "stdout",
     "output_type": "stream",
     "text": [
      "    August 1947\n",
      "Fr Sa Su Mo Tu We Th\n",
      " 1  2  3  4  5  6  7\n",
      " 8  9 10 11 12 13 14\n",
      "15 16 17 18 19 20 21\n",
      "22 23 24 25 26 27 28\n",
      "29 30 31\n"
     ]
    }
   ],
   "source": [
    "# Arabic calendar starts with Friday\n",
    "c = calendar.TextCalendar(calendar.FRIDAY)\n",
    "c.prmonth(1947, 8)"
   ]
  },
  {
   "cell_type": "markdown",
   "metadata": {},
   "source": [
    "## LocaleTextCalendar "
   ]
  },
  {
   "cell_type": "markdown",
   "metadata": {},
   "source": [
    "To display in Local language, https://docs.microsoft.com/en-us/cpp/c-runtime-library/language-strings?view=vs-2017"
   ]
  },
  {
   "cell_type": "code",
   "execution_count": 34,
   "metadata": {},
   "outputs": [
    {
     "name": "stdout",
     "output_type": "stream",
     "text": [
      "af_ZA\n",
      "sq_AL\n",
      "gsw_FR\n",
      "am_ET\n",
      "ar_SA\n",
      "ar_IQ\n",
      "ar_EG\n",
      "ar_LY\n",
      "ar_DZ\n",
      "ar_MA\n",
      "ar_TN\n",
      "ar_OM\n",
      "ar_YE\n",
      "ar_SY\n",
      "ar_JO\n",
      "ar_LB\n",
      "ar_KW\n",
      "ar_AE\n",
      "ar_BH\n",
      "ar_QA\n",
      "hy_AM\n",
      "as_IN\n",
      "az_AZ\n",
      "az_AZ\n",
      "ba_RU\n",
      "eu_ES\n",
      "be_BY\n",
      "bn_IN\n",
      "bs_BA\n",
      "bs_BA\n",
      "br_FR\n",
      "bg_BG\n",
      "ca_ES\n",
      "zh_CHS\n",
      "zh_TW\n",
      "zh_CN\n",
      "zh_HK\n",
      "zh_SG\n",
      "zh_MO\n",
      "zh_CHT\n",
      "co_FR\n",
      "hr_HR\n",
      "hr_BA\n",
      "cs_CZ\n",
      "da_DK\n",
      "gbz_AF\n",
      "div_MV\n",
      "nl_NL\n",
      "nl_BE\n",
      "en_US\n",
      "en_GB\n",
      "en_AU\n",
      "en_CA\n",
      "en_NZ\n",
      "en_IE\n",
      "en_ZA\n",
      "en_JA\n",
      "en_CB\n",
      "en_BZ\n",
      "en_TT\n",
      "en_ZW\n",
      "en_PH\n",
      "en_IN\n",
      "en_MY\n",
      "en_IN\n",
      "et_EE\n",
      "fo_FO\n",
      "fil_PH\n",
      "fi_FI\n",
      "fr_FR\n",
      "fr_BE\n",
      "fr_CA\n",
      "fr_CH\n",
      "fr_LU\n",
      "fr_MC\n",
      "fy_NL\n",
      "gl_ES\n",
      "ka_GE\n",
      "de_DE\n",
      "de_CH\n",
      "de_AT\n",
      "de_LU\n",
      "de_LI\n",
      "el_GR\n",
      "kl_GL\n",
      "gu_IN\n",
      "ha_NG\n",
      "he_IL\n",
      "hi_IN\n",
      "hu_HU\n",
      "is_IS\n",
      "id_ID\n",
      "iu_CA\n",
      "iu_CA\n",
      "ga_IE\n",
      "it_IT\n",
      "it_CH\n",
      "ja_JP\n",
      "kn_IN\n",
      "kk_KZ\n",
      "kh_KH\n",
      "qut_GT\n",
      "rw_RW\n",
      "kok_IN\n",
      "ko_KR\n",
      "ky_KG\n",
      "lo_LA\n",
      "lv_LV\n",
      "lt_LT\n",
      "dsb_DE\n",
      "lb_LU\n",
      "mk_MK\n",
      "ms_MY\n",
      "ms_BN\n",
      "ml_IN\n",
      "mt_MT\n",
      "mi_NZ\n",
      "arn_CL\n",
      "mr_IN\n",
      "moh_CA\n",
      "mn_MN\n",
      "mn_CN\n",
      "ne_NP\n",
      "nb_NO\n",
      "nn_NO\n",
      "oc_FR\n",
      "or_IN\n",
      "ps_AF\n",
      "fa_IR\n",
      "pl_PL\n",
      "pt_BR\n",
      "pt_PT\n",
      "pa_IN\n",
      "quz_BO\n",
      "quz_EC\n",
      "quz_PE\n",
      "ro_RO\n",
      "rm_CH\n",
      "ru_RU\n",
      "smn_FI\n",
      "smj_NO\n",
      "smj_SE\n",
      "se_NO\n",
      "se_SE\n",
      "se_FI\n",
      "sms_FI\n",
      "sma_NO\n",
      "sma_SE\n",
      "sa_IN\n",
      "sr_SP\n",
      "sr_BA\n",
      "sr_SP\n",
      "sr_BA\n",
      "si_LK\n",
      "ns_ZA\n",
      "tn_ZA\n",
      "sk_SK\n",
      "sl_SI\n",
      "es_ES\n",
      "es_MX\n",
      "es_ES\n",
      "es_GT\n",
      "es_CR\n",
      "es_PA\n",
      "es_DO\n",
      "es_VE\n",
      "es_CO\n",
      "es_PE\n",
      "es_AR\n",
      "es_EC\n",
      "es_CL\n",
      "es_UR\n",
      "es_PY\n",
      "es_BO\n",
      "es_SV\n",
      "es_HN\n",
      "es_NI\n",
      "es_PR\n",
      "es_US\n",
      "sw_KE\n",
      "sv_SE\n",
      "sv_FI\n",
      "syr_SY\n",
      "tg_TJ\n",
      "tmz_DZ\n",
      "ta_IN\n",
      "tt_RU\n",
      "te_IN\n",
      "th_TH\n",
      "bo_BT\n",
      "bo_CN\n",
      "tr_TR\n",
      "tk_TM\n",
      "ug_CN\n",
      "uk_UA\n",
      "wen_DE\n",
      "ur_PK\n",
      "ur_IN\n",
      "uz_UZ\n",
      "uz_UZ\n",
      "vi_VN\n",
      "cy_GB\n",
      "wo_SN\n",
      "xh_ZA\n",
      "sah_RU\n",
      "ii_CN\n",
      "yo_NG\n",
      "zu_ZA\n"
     ]
    }
   ],
   "source": [
    "import locale\n",
    "import sys\n",
    "\n",
    "for x in locale.windows_locale.values():\n",
    "    if sys.platform == \"win32\":\n",
    "        print(x.replace(\"_\", \"-\"))\n",
    "    else:\n",
    "        print(x)"
   ]
  },
  {
   "cell_type": "code",
   "execution_count": 40,
   "metadata": {},
   "outputs": [
    {
     "name": "stdout",
     "output_type": "stream",
     "text": [
      "a3\n",
      "a3_az\n",
      "a3_az.koic\n",
      "aa_dj\n",
      "aa_er\n",
      "aa_et\n",
      "af\n",
      "af_za\n",
      "agr_pe\n",
      "ak_gh\n",
      "am\n",
      "am_et\n",
      "american\n",
      "an_es\n",
      "anp_in\n",
      "ar\n",
      "ar_aa\n",
      "ar_ae\n",
      "ar_bh\n",
      "ar_dz\n",
      "ar_eg\n",
      "ar_in\n",
      "ar_iq\n",
      "ar_jo\n",
      "ar_kw\n",
      "ar_lb\n",
      "ar_ly\n",
      "ar_ma\n",
      "ar_om\n",
      "ar_qa\n",
      "ar_sa\n",
      "ar_sd\n",
      "ar_ss\n",
      "ar_sy\n",
      "ar_tn\n",
      "ar_ye\n",
      "arabic\n",
      "as\n",
      "as_in\n",
      "ast_es\n",
      "ayc_pe\n",
      "az\n",
      "az_az\n",
      "az_az.iso88599e\n",
      "az_ir\n",
      "be\n",
      "be@latin\n",
      "be_bg.utf8\n",
      "be_by\n",
      "be_by@latin\n",
      "bem_zm\n",
      "ber_dz\n",
      "ber_ma\n",
      "bg\n",
      "bg_bg\n",
      "bhb_in.utf8\n",
      "bho_in\n",
      "bho_np\n",
      "bi_vu\n",
      "bn_bd\n",
      "bn_in\n",
      "bo_cn\n",
      "bo_in\n",
      "bokmal\n",
      "bokmål\n",
      "br\n",
      "br_fr\n",
      "brx_in\n",
      "bs\n",
      "bs_ba\n",
      "bulgarian\n",
      "byn_er\n",
      "c\n",
      "c-french\n",
      "c.ascii\n",
      "c.en\n",
      "c.iso88591\n",
      "c.utf8\n",
      "c_c\n",
      "c_c.c\n",
      "ca\n",
      "ca_ad\n",
      "ca_es\n",
      "ca_es@valencia\n",
      "ca_fr\n",
      "ca_it\n",
      "catalan\n",
      "ce_ru\n",
      "cextend\n",
      "chinese-s\n",
      "chinese-t\n",
      "chr_us\n",
      "ckb_iq\n",
      "cmn_tw\n",
      "crh_ua\n",
      "croatian\n",
      "cs\n",
      "cs_cs\n",
      "cs_cz\n",
      "csb_pl\n",
      "cv_ru\n",
      "cy\n",
      "cy_gb\n",
      "cz\n",
      "cz_cz\n",
      "czech\n",
      "da\n",
      "da_dk\n",
      "danish\n",
      "dansk\n",
      "de\n",
      "de_at\n",
      "de_be\n",
      "de_ch\n",
      "de_de\n",
      "de_it\n",
      "de_li.utf8\n",
      "de_lu\n",
      "deutsch\n",
      "doi_in\n",
      "dutch\n",
      "dutch.iso88591\n",
      "dv_mv\n",
      "dz_bt\n",
      "ee\n",
      "ee_ee\n",
      "eesti\n",
      "el\n",
      "el_cy\n",
      "el_gr\n",
      "el_gr@euro\n",
      "en\n",
      "en_ag\n",
      "en_au\n",
      "en_be\n",
      "en_bw\n",
      "en_ca\n",
      "en_dk\n",
      "en_dl.utf8\n",
      "en_gb\n",
      "en_hk\n",
      "en_ie\n",
      "en_il\n",
      "en_in\n",
      "en_ng\n",
      "en_nz\n",
      "en_ph\n",
      "en_sc.utf8\n",
      "en_sg\n",
      "en_uk\n",
      "en_us\n",
      "en_us@euro@euro\n",
      "en_za\n",
      "en_zm\n",
      "en_zw\n",
      "en_zw.utf8\n",
      "eng_gb\n",
      "english\n",
      "english.iso88591\n",
      "english_uk\n",
      "english_united-states\n",
      "english_united-states.437\n",
      "english_us\n",
      "eo\n",
      "eo.utf8\n",
      "eo_eo\n",
      "eo_us.utf8\n",
      "eo_xx\n",
      "es\n",
      "es_ar\n",
      "es_bo\n",
      "es_cl\n",
      "es_co\n",
      "es_cr\n",
      "es_cu\n",
      "es_do\n",
      "es_ec\n",
      "es_es\n",
      "es_gt\n",
      "es_hn\n",
      "es_mx\n",
      "es_ni\n",
      "es_pa\n",
      "es_pe\n",
      "es_pr\n",
      "es_py\n",
      "es_sv\n",
      "es_us\n",
      "es_uy\n",
      "es_ve\n",
      "estonian\n",
      "et\n",
      "et_ee\n",
      "eu\n",
      "eu_es\n",
      "eu_fr\n",
      "fa\n",
      "fa_ir\n",
      "fa_ir.isiri3342\n",
      "ff_sn\n",
      "fi\n",
      "fi_fi\n",
      "fil_ph\n",
      "finnish\n",
      "fo\n",
      "fo_fo\n",
      "fr\n",
      "fr_be\n",
      "fr_ca\n",
      "fr_ch\n",
      "fr_fr\n",
      "fr_lu\n",
      "français\n",
      "fre_fr\n",
      "french\n",
      "french.iso88591\n",
      "french_france\n",
      "fur_it\n",
      "fy_de\n",
      "fy_nl\n",
      "ga\n",
      "ga_ie\n",
      "galego\n",
      "galician\n",
      "gd\n",
      "gd_gb\n",
      "ger_de\n",
      "german\n",
      "german.iso88591\n",
      "german_germany\n",
      "gez_er\n",
      "gez_et\n",
      "gl\n",
      "gl_es\n",
      "greek\n",
      "gu_in\n",
      "gv\n",
      "gv_gb\n",
      "ha_ng\n",
      "hak_tw\n",
      "he\n",
      "he_il\n",
      "hebrew\n",
      "hi\n",
      "hi_in\n",
      "hi_in.isciidev\n",
      "hif_fj\n",
      "hne\n",
      "hne_in\n",
      "hr\n",
      "hr_hr\n",
      "hrvatski\n",
      "hsb_de\n",
      "ht_ht\n",
      "hu\n",
      "hu_hu\n",
      "hungarian\n",
      "hy_am\n",
      "hy_am.armscii8\n",
      "ia\n",
      "ia_fr\n",
      "icelandic\n",
      "id\n",
      "id_id\n",
      "ig_ng\n",
      "ik_ca\n",
      "in\n",
      "in_id\n",
      "is\n",
      "is_is\n",
      "iso-8859-1\n",
      "iso-8859-15\n",
      "iso8859-1\n",
      "iso8859-15\n",
      "iso_8859_1\n",
      "iso_8859_15\n",
      "it\n",
      "it_ch\n",
      "it_it\n",
      "italian\n",
      "iu\n",
      "iu_ca\n",
      "iu_ca.nunacom8\n",
      "iw\n",
      "iw_il\n",
      "iw_il.utf8\n",
      "ja\n",
      "ja_jp\n",
      "ja_jp.euc\n",
      "ja_jp.mscode\n",
      "ja_jp.pck\n",
      "japan\n",
      "japanese\n",
      "japanese-euc\n",
      "japanese.euc\n",
      "jp_jp\n",
      "ka\n",
      "ka_ge\n",
      "ka_ge.georgianacademy\n",
      "ka_ge.georgianps\n",
      "ka_ge.georgianrs\n",
      "kab_dz\n",
      "kk_kz\n",
      "kl\n",
      "kl_gl\n",
      "km_kh\n",
      "kn\n",
      "kn_in\n",
      "ko\n",
      "ko_kr\n",
      "ko_kr.euc\n",
      "kok_in\n",
      "korean\n",
      "korean.euc\n",
      "ks\n",
      "ks_in\n",
      "ks_in@devanagari.utf8\n",
      "ku_tr\n",
      "kw\n",
      "kw_gb\n",
      "ky\n",
      "ky_kg\n",
      "lb_lu\n",
      "lg_ug\n",
      "li_be\n",
      "li_nl\n",
      "lij_it\n",
      "lithuanian\n",
      "ln_cd\n",
      "lo\n",
      "lo_la\n",
      "lo_la.cp1133\n",
      "lo_la.ibmcp1133\n",
      "lo_la.mulelao1\n",
      "lt\n",
      "lt_lt\n",
      "lv\n",
      "lv_lv\n",
      "lzh_tw\n",
      "mag_in\n",
      "mai\n",
      "mai_in\n",
      "mai_np\n",
      "mfe_mu\n",
      "mg_mg\n",
      "mhr_ru\n",
      "mi\n",
      "mi_nz\n",
      "miq_ni\n",
      "mjw_in\n",
      "mk\n",
      "mk_mk\n",
      "ml\n",
      "ml_in\n",
      "mn_mn\n",
      "mni_in\n",
      "mr\n",
      "mr_in\n",
      "ms\n",
      "ms_my\n",
      "mt\n",
      "mt_mt\n",
      "my_mm\n",
      "nan_tw\n",
      "nb\n",
      "nb_no\n",
      "nds_de\n",
      "nds_nl\n",
      "ne_np\n",
      "nhn_mx\n",
      "niu_nu\n",
      "niu_nz\n",
      "nl\n",
      "nl_aw\n",
      "nl_be\n",
      "nl_nl\n",
      "nn\n",
      "nn_no\n",
      "no\n",
      "no@nynorsk\n",
      "no_no\n",
      "no_no.iso88591@bokmal\n",
      "no_no.iso88591@nynorsk\n",
      "norwegian\n",
      "nr\n",
      "nr_za\n",
      "nso\n",
      "nso_za\n",
      "ny\n",
      "ny_no\n",
      "nynorsk\n",
      "oc\n",
      "oc_fr\n",
      "om_et\n",
      "om_ke\n",
      "or\n",
      "or_in\n",
      "os_ru\n",
      "pa\n",
      "pa_in\n",
      "pa_pk\n",
      "pap_an\n",
      "pap_aw\n",
      "pap_cw\n",
      "pd\n",
      "pd_de\n",
      "pd_us\n",
      "ph\n",
      "ph_ph\n",
      "pl\n",
      "pl_pl\n",
      "polish\n",
      "portuguese\n",
      "portuguese_brazil\n",
      "posix\n",
      "posix-utf2\n",
      "pp\n",
      "pp_an\n",
      "ps_af\n",
      "pt\n",
      "pt_br\n",
      "pt_pt\n",
      "quz_pe\n",
      "raj_in\n",
      "ro\n",
      "ro_ro\n",
      "romanian\n",
      "ru\n",
      "ru_ru\n",
      "ru_ua\n",
      "rumanian\n",
      "russian\n",
      "rw\n",
      "rw_rw\n",
      "sa_in\n",
      "sat_in\n",
      "sc_it\n",
      "sd\n",
      "sd_in\n",
      "sd_in@devanagari.utf8\n",
      "sd_pk\n",
      "se_no\n",
      "serbocroatian\n",
      "sgs_lt\n",
      "sh\n",
      "sh_ba.iso88592@bosnia\n",
      "sh_hr\n",
      "sh_hr.iso88592\n",
      "sh_sp\n",
      "sh_yu\n",
      "shn_mm\n",
      "shs_ca\n",
      "si\n",
      "si_lk\n",
      "sid_et\n",
      "sinhala\n",
      "sk\n",
      "sk_sk\n",
      "sl\n",
      "sl_cs\n",
      "sl_si\n",
      "slovak\n",
      "slovene\n",
      "slovenian\n",
      "sm_ws\n",
      "so_dj\n",
      "so_et\n",
      "so_ke\n",
      "so_so\n",
      "sp\n",
      "sp_yu\n",
      "spanish\n",
      "spanish_spain\n",
      "sq\n",
      "sq_al\n",
      "sq_mk\n",
      "sr\n",
      "sr@cyrillic\n",
      "sr@latn\n",
      "sr_cs\n",
      "sr_cs.iso88592@latn\n",
      "sr_cs@latn\n",
      "sr_me\n",
      "sr_rs\n",
      "sr_rs@latn\n",
      "sr_sp\n",
      "sr_yu\n",
      "sr_yu.cp1251@cyrillic\n",
      "sr_yu.iso88592\n",
      "sr_yu.iso88595\n",
      "sr_yu.iso88595@cyrillic\n",
      "sr_yu.microsoftcp1251@cyrillic\n",
      "sr_yu.utf8\n",
      "sr_yu.utf8@cyrillic\n",
      "sr_yu@cyrillic\n",
      "ss\n",
      "ss_za\n",
      "st\n",
      "st_za\n",
      "sv\n",
      "sv_fi\n",
      "sv_se\n",
      "sw_ke\n",
      "sw_tz\n",
      "swedish\n",
      "szl_pl\n",
      "ta\n",
      "ta_in\n",
      "ta_in.tscii\n",
      "ta_in.tscii0\n",
      "ta_lk\n",
      "tcy_in.utf8\n",
      "te\n",
      "te_in\n",
      "tg\n",
      "tg_tj\n",
      "th\n",
      "th_th\n",
      "th_th.tactis\n",
      "th_th.tis620\n",
      "thai\n",
      "the_np\n",
      "ti_er\n",
      "ti_et\n",
      "tig_er\n",
      "tk_tm\n",
      "tl\n",
      "tl_ph\n",
      "tn\n",
      "tn_za\n",
      "to_to\n",
      "tpi_pg\n",
      "tr\n",
      "tr_cy\n",
      "tr_tr\n",
      "ts\n",
      "ts_za\n",
      "tt\n",
      "tt_ru\n",
      "tt_ru.tatarcyr\n",
      "tt_ru@iqtelif\n",
      "turkish\n",
      "ug_cn\n",
      "uk\n",
      "uk_ua\n",
      "univ\n",
      "universal\n",
      "universal.utf8@ucs4\n",
      "unm_us\n",
      "ur\n",
      "ur_in\n",
      "ur_pk\n",
      "uz\n",
      "uz_uz\n",
      "uz_uz@cyrillic\n",
      "ve\n",
      "ve_za\n",
      "vi\n",
      "vi_vn\n",
      "vi_vn.tcvn\n",
      "vi_vn.tcvn5712\n",
      "vi_vn.viscii\n",
      "vi_vn.viscii111\n",
      "wa\n",
      "wa_be\n",
      "wae_ch\n",
      "wal_et\n",
      "wo_sn\n",
      "xh\n",
      "xh_za\n",
      "yi\n",
      "yi_us\n",
      "yo_ng\n",
      "yue_hk\n",
      "yuw_pg\n",
      "zh\n",
      "zh_cn\n",
      "zh_cn.big5\n",
      "zh_cn.euc\n",
      "zh_hk\n",
      "zh_hk.big5hk\n",
      "zh_sg\n",
      "zh_sg.gbk\n",
      "zh_tw\n",
      "zh_tw.euc\n",
      "zh_tw.euctw\n",
      "zu\n",
      "zu_za\n"
     ]
    }
   ],
   "source": [
    "# Get a list of all available locales\n",
    "available_locales = locale.locale_alias.keys()\n",
    "\n",
    "# Print the list of locales\n",
    "for loc in available_locales:\n",
    "    print(loc)"
   ]
  },
  {
   "cell_type": "code",
   "execution_count": 37,
   "metadata": {},
   "outputs": [
    {
     "data": {
      "text/plain": [
       "('en_US', 'UTF-8')"
      ]
     },
     "execution_count": 37,
     "metadata": {},
     "output_type": "execute_result"
    }
   ],
   "source": [
    "# Get the default system locale\n",
    "default_locale = locale.getdefaultlocale()\n",
    "\n",
    "default_locale"
   ]
  },
  {
   "cell_type": "code",
   "execution_count": 38,
   "metadata": {},
   "outputs": [
    {
     "name": "stdout",
     "output_type": "stream",
     "text": [
      "    August 1947\n",
      "Mo Tu We Th Fr Sa Su\n",
      "             1  2  3\n",
      " 4  5  6  7  8  9 10\n",
      "11 12 13 14 15 16 17\n",
      "18 19 20 21 22 23 24\n",
      "25 26 27 28 29 30 31\n"
     ]
    }
   ],
   "source": [
    "c = calendar.LocaleTextCalendar(locale=\"en-US\")\n",
    "c.prmonth(1947, 8)"
   ]
  },
  {
   "cell_type": "code",
   "execution_count": 45,
   "metadata": {},
   "outputs": [
    {
     "ename": "Error",
     "evalue": "unsupported locale setting",
     "output_type": "error",
     "traceback": [
      "\u001b[0;31m---------------------------------------------------------------------------\u001b[0m",
      "\u001b[0;31mError\u001b[0m                                     Traceback (most recent call last)",
      "Cell \u001b[0;32mIn[45], line 5\u001b[0m\n\u001b[1;32m      2\u001b[0m c \u001b[39m=\u001b[39m calendar\u001b[39m.\u001b[39mLocaleTextCalendar(locale\u001b[39m=\u001b[39m (\u001b[39m'\u001b[39m\u001b[39mru_RU\u001b[39m\u001b[39m'\u001b[39m, \u001b[39m'\u001b[39m\u001b[39mUTF-8\u001b[39m\u001b[39m'\u001b[39m)) \u001b[39m# 'ru_RU.UTF-8')\u001b[39;00m\n\u001b[1;32m      4\u001b[0m \u001b[39m# Print the calendar for August 1947\u001b[39;00m\n\u001b[0;32m----> 5\u001b[0m c\u001b[39m.\u001b[39;49mprmonth(\u001b[39m1947\u001b[39;49m, \u001b[39m8\u001b[39;49m)\n",
      "File \u001b[0;32m~/.python/current/lib/python3.10/calendar.py:352\u001b[0m, in \u001b[0;36mTextCalendar.prmonth\u001b[0;34m(self, theyear, themonth, w, l)\u001b[0m\n\u001b[1;32m    348\u001b[0m \u001b[39mdef\u001b[39;00m \u001b[39mprmonth\u001b[39m(\u001b[39mself\u001b[39m, theyear, themonth, w\u001b[39m=\u001b[39m\u001b[39m0\u001b[39m, l\u001b[39m=\u001b[39m\u001b[39m0\u001b[39m):\n\u001b[1;32m    349\u001b[0m \u001b[39m    \u001b[39m\u001b[39m\"\"\"\u001b[39;00m\n\u001b[1;32m    350\u001b[0m \u001b[39m    Print a month's calendar.\u001b[39;00m\n\u001b[1;32m    351\u001b[0m \u001b[39m    \"\"\"\u001b[39;00m\n\u001b[0;32m--> 352\u001b[0m     \u001b[39mprint\u001b[39m(\u001b[39mself\u001b[39;49m\u001b[39m.\u001b[39;49mformatmonth(theyear, themonth, w, l), end\u001b[39m=\u001b[39m\u001b[39m'\u001b[39m\u001b[39m'\u001b[39m)\n",
      "File \u001b[0;32m~/.python/current/lib/python3.10/calendar.py:360\u001b[0m, in \u001b[0;36mTextCalendar.formatmonth\u001b[0;34m(self, theyear, themonth, w, l)\u001b[0m\n\u001b[1;32m    358\u001b[0m w \u001b[39m=\u001b[39m \u001b[39mmax\u001b[39m(\u001b[39m2\u001b[39m, w)\n\u001b[1;32m    359\u001b[0m l \u001b[39m=\u001b[39m \u001b[39mmax\u001b[39m(\u001b[39m1\u001b[39m, l)\n\u001b[0;32m--> 360\u001b[0m s \u001b[39m=\u001b[39m \u001b[39mself\u001b[39;49m\u001b[39m.\u001b[39;49mformatmonthname(theyear, themonth, \u001b[39m7\u001b[39;49m \u001b[39m*\u001b[39;49m (w \u001b[39m+\u001b[39;49m \u001b[39m1\u001b[39;49m) \u001b[39m-\u001b[39;49m \u001b[39m1\u001b[39;49m)\n\u001b[1;32m    361\u001b[0m s \u001b[39m=\u001b[39m s\u001b[39m.\u001b[39mrstrip()\n\u001b[1;32m    362\u001b[0m s \u001b[39m+\u001b[39m\u001b[39m=\u001b[39m \u001b[39m'\u001b[39m\u001b[39m\\n\u001b[39;00m\u001b[39m'\u001b[39m \u001b[39m*\u001b[39m l\n",
      "File \u001b[0;32m~/.python/current/lib/python3.10/calendar.py:579\u001b[0m, in \u001b[0;36mLocaleTextCalendar.formatmonthname\u001b[0;34m(self, theyear, themonth, width, withyear)\u001b[0m\n\u001b[1;32m    578\u001b[0m \u001b[39mdef\u001b[39;00m \u001b[39mformatmonthname\u001b[39m(\u001b[39mself\u001b[39m, theyear, themonth, width, withyear\u001b[39m=\u001b[39m\u001b[39mTrue\u001b[39;00m):\n\u001b[0;32m--> 579\u001b[0m     \u001b[39mwith\u001b[39;00m different_locale(\u001b[39mself\u001b[39m\u001b[39m.\u001b[39mlocale):\n\u001b[1;32m    580\u001b[0m         \u001b[39mreturn\u001b[39;00m \u001b[39msuper\u001b[39m()\u001b[39m.\u001b[39mformatmonthname(theyear, themonth, width, withyear)\n",
      "File \u001b[0;32m~/.python/current/lib/python3.10/calendar.py:554\u001b[0m, in \u001b[0;36mdifferent_locale.__enter__\u001b[0;34m(self)\u001b[0m\n\u001b[1;32m    552\u001b[0m \u001b[39mdef\u001b[39;00m \u001b[39m__enter__\u001b[39m(\u001b[39mself\u001b[39m):\n\u001b[1;32m    553\u001b[0m     \u001b[39mself\u001b[39m\u001b[39m.\u001b[39moldlocale \u001b[39m=\u001b[39m _locale\u001b[39m.\u001b[39mgetlocale(_locale\u001b[39m.\u001b[39mLC_TIME)\n\u001b[0;32m--> 554\u001b[0m     _locale\u001b[39m.\u001b[39;49msetlocale(_locale\u001b[39m.\u001b[39;49mLC_TIME, \u001b[39mself\u001b[39;49m\u001b[39m.\u001b[39;49mlocale)\n",
      "File \u001b[0;32m~/.python/current/lib/python3.10/locale.py:620\u001b[0m, in \u001b[0;36msetlocale\u001b[0;34m(category, locale)\u001b[0m\n\u001b[1;32m    617\u001b[0m \u001b[39mif\u001b[39;00m locale \u001b[39mand\u001b[39;00m \u001b[39mnot\u001b[39;00m \u001b[39misinstance\u001b[39m(locale, _builtin_str):\n\u001b[1;32m    618\u001b[0m     \u001b[39m# convert to string\u001b[39;00m\n\u001b[1;32m    619\u001b[0m     locale \u001b[39m=\u001b[39m normalize(_build_localename(locale))\n\u001b[0;32m--> 620\u001b[0m \u001b[39mreturn\u001b[39;00m _setlocale(category, locale)\n",
      "\u001b[0;31mError\u001b[0m: unsupported locale setting"
     ]
    }
   ],
   "source": [
    "c = calendar.LocaleTextCalendar(locale=\"ug-CN\")\n",
    "c.prmonth(1947, 8)"
   ]
  },
  {
   "cell_type": "code",
   "execution_count": 46,
   "metadata": {},
   "outputs": [
    {
     "data": {
      "text/plain": [
       "4"
      ]
     },
     "execution_count": 46,
     "metadata": {},
     "output_type": "execute_result"
    }
   ],
   "source": [
    "calendar.weekday(1947, 8, 15)\n",
    "# Return weekday (0-6 ~ Mon-Sun) for year, month (1-12), day (1-31)."
   ]
  },
  {
   "cell_type": "code",
   "execution_count": 47,
   "metadata": {},
   "outputs": [
    {
     "data": {
      "text/plain": [
       "False"
      ]
     },
     "execution_count": 47,
     "metadata": {},
     "output_type": "execute_result"
    }
   ],
   "source": [
    "calendar.isleap(2019)"
   ]
  },
  {
   "cell_type": "code",
   "execution_count": 48,
   "metadata": {},
   "outputs": [
    {
     "data": {
      "text/plain": [
       "True"
      ]
     },
     "execution_count": 48,
     "metadata": {},
     "output_type": "execute_result"
    }
   ],
   "source": [
    "calendar.isleap(2020)"
   ]
  },
  {
   "cell_type": "code",
   "execution_count": 49,
   "metadata": {},
   "outputs": [
    {
     "data": {
      "text/plain": [
       "8"
      ]
     },
     "execution_count": 49,
     "metadata": {},
     "output_type": "execute_result"
    }
   ],
   "source": [
    "calendar.leapdays(2000, 2030)"
   ]
  },
  {
   "cell_type": "code",
   "execution_count": 50,
   "metadata": {},
   "outputs": [
    {
     "data": {
      "text/plain": [
       "[2000, 2004, 2008, 2012, 2016, 2020, 2024, 2028]"
      ]
     },
     "execution_count": 50,
     "metadata": {},
     "output_type": "execute_result"
    }
   ],
   "source": [
    "[yr for yr in range(2000, 2031) if calendar.isleap(yr)]"
   ]
  },
  {
   "cell_type": "markdown",
   "metadata": {},
   "source": [
    "iterweekdays \n",
    "    - returns an iterator that contains a list of indexes for the days in a week."
   ]
  },
  {
   "cell_type": "code",
   "execution_count": 51,
   "metadata": {},
   "outputs": [
    {
     "name": "stdout",
     "output_type": "stream",
     "text": [
      "0 1 2 3 4 5 6 "
     ]
    }
   ],
   "source": [
    "c = calendar.Calendar()\n",
    "for i in c.iterweekdays():\n",
    "    print(i, end=\" \")"
   ]
  },
  {
   "cell_type": "markdown",
   "metadata": {},
   "source": [
    "itermonthdates()\n",
    "    - returns an iterator of all days of the given month. \n",
    "    - Also, all days before the start of the month and after the end of the month, \n",
    "      required to get the complete week, are displayed."
   ]
  },
  {
   "cell_type": "code",
   "execution_count": 52,
   "metadata": {},
   "outputs": [
    {
     "name": "stdout",
     "output_type": "stream",
     "text": [
      "2019-12-30\t2019-12-31\t2020-01-01\t2020-01-02\t2020-01-03\t2020-01-04\t2020-01-05\t2020-01-06\t2020-01-07\t2020-01-08\t2020-01-09\t2020-01-10\t2020-01-11\t2020-01-12\t2020-01-13\t2020-01-14\t2020-01-15\t2020-01-16\t2020-01-17\t2020-01-18\t2020-01-19\t2020-01-20\t2020-01-21\t2020-01-22\t2020-01-23\t2020-01-24\t2020-01-25\t2020-01-26\t2020-01-27\t2020-01-28\t2020-01-29\t2020-01-30\t2020-01-31\t2020-02-01\t2020-02-02\t"
     ]
    }
   ],
   "source": [
    "c = calendar.Calendar()\n",
    "for i in c.itermonthdates(2020, 1):\n",
    "    print(i, end=\"\\t\")"
   ]
  },
  {
   "cell_type": "markdown",
   "metadata": {},
   "source": [
    "itermonthdays()\n",
    "    - similar to itermonthdates method, but it only returns the day numbers."
   ]
  },
  {
   "cell_type": "code",
   "execution_count": 53,
   "metadata": {},
   "outputs": [
    {
     "name": "stdout",
     "output_type": "stream",
     "text": [
      "0 0 1 2 3 4 5 6 7 8 9 10 11 12 13 14 15 16 17 18 19 20 21 22 23 24 25 26 27 28 29 30 31 0 0 "
     ]
    }
   ],
   "source": [
    "c = calendar.Calendar()\n",
    "for i in c.itermonthdays(2020, 1):\n",
    "    print(i, end=\" \")"
   ]
  },
  {
   "cell_type": "markdown",
   "metadata": {},
   "source": [
    "itermonthdays2()\n",
    "    - displays a tuple consisting of day and weekday numbers."
   ]
  },
  {
   "cell_type": "code",
   "execution_count": 54,
   "metadata": {},
   "outputs": [
    {
     "name": "stdout",
     "output_type": "stream",
     "text": [
      "(0, 0)\t(0, 1)\t(1, 2)\t(2, 3)\t(3, 4)\t(4, 5)\t(5, 6)\t(6, 0)\t(7, 1)\t(8, 2)\t(9, 3)\t(10, 4)\t(11, 5)\t(12, 6)\t(13, 0)\t(14, 1)\t(15, 2)\t(16, 3)\t(17, 4)\t(18, 5)\t(19, 6)\t(20, 0)\t(21, 1)\t(22, 2)\t(23, 3)\t(24, 4)\t(25, 5)\t(26, 6)\t(27, 0)\t(28, 1)\t(29, 2)\t(30, 3)\t(31, 4)\t(0, 5)\t(0, 6)\t"
     ]
    }
   ],
   "source": [
    "c = calendar.Calendar()\n",
    "for i in c.itermonthdays2(2020, 1):\n",
    "    print(i, end=\"\\t\")"
   ]
  },
  {
   "cell_type": "markdown",
   "metadata": {},
   "source": [
    "itermonthdays3()\n",
    "    - similar to the itermonthdays3() method, except that it returns a tuple of year, month, and the day of the month."
   ]
  },
  {
   "cell_type": "code",
   "execution_count": 55,
   "metadata": {},
   "outputs": [
    {
     "name": "stdout",
     "output_type": "stream",
     "text": [
      "(2019, 12, 30)\t(2019, 12, 31)\t(2020, 1, 1)\t(2020, 1, 2)\t(2020, 1, 3)\t(2020, 1, 4)\t(2020, 1, 5)\t(2020, 1, 6)\t(2020, 1, 7)\t(2020, 1, 8)\t(2020, 1, 9)\t(2020, 1, 10)\t(2020, 1, 11)\t(2020, 1, 12)\t(2020, 1, 13)\t(2020, 1, 14)\t(2020, 1, 15)\t(2020, 1, 16)\t(2020, 1, 17)\t(2020, 1, 18)\t(2020, 1, 19)\t(2020, 1, 20)\t(2020, 1, 21)\t(2020, 1, 22)\t(2020, 1, 23)\t(2020, 1, 24)\t(2020, 1, 25)\t(2020, 1, 26)\t(2020, 1, 27)\t(2020, 1, 28)\t(2020, 1, 29)\t(2020, 1, 30)\t(2020, 1, 31)\t(2020, 2, 1)\t(2020, 2, 2)\t"
     ]
    }
   ],
   "source": [
    "c = calendar.Calendar()\n",
    "for i in c.itermonthdays3(2020, 1):\n",
    "    print(i, end=\"\\t\")"
   ]
  },
  {
   "cell_type": "markdown",
   "metadata": {},
   "source": [
    "monthdatescalendar()\n",
    "    - returns a list of full weeks in the month\n",
    "    - Each week is a list of 7 datetime.date objects."
   ]
  },
  {
   "cell_type": "code",
   "execution_count": 56,
   "metadata": {},
   "outputs": [
    {
     "name": "stdout",
     "output_type": "stream",
     "text": [
      "[datetime.date(2019, 12, 30), datetime.date(2019, 12, 31), datetime.date(2020, 1, 1), datetime.date(2020, 1, 2), datetime.date(2020, 1, 3), datetime.date(2020, 1, 4), datetime.date(2020, 1, 5)]\n",
      "[datetime.date(2020, 1, 6), datetime.date(2020, 1, 7), datetime.date(2020, 1, 8), datetime.date(2020, 1, 9), datetime.date(2020, 1, 10), datetime.date(2020, 1, 11), datetime.date(2020, 1, 12)]\n",
      "[datetime.date(2020, 1, 13), datetime.date(2020, 1, 14), datetime.date(2020, 1, 15), datetime.date(2020, 1, 16), datetime.date(2020, 1, 17), datetime.date(2020, 1, 18), datetime.date(2020, 1, 19)]\n",
      "[datetime.date(2020, 1, 20), datetime.date(2020, 1, 21), datetime.date(2020, 1, 22), datetime.date(2020, 1, 23), datetime.date(2020, 1, 24), datetime.date(2020, 1, 25), datetime.date(2020, 1, 26)]\n",
      "[datetime.date(2020, 1, 27), datetime.date(2020, 1, 28), datetime.date(2020, 1, 29), datetime.date(2020, 1, 30), datetime.date(2020, 1, 31), datetime.date(2020, 2, 1), datetime.date(2020, 2, 2)]\n"
     ]
    }
   ],
   "source": [
    "c = calendar.Calendar()\n",
    "for i in c.monthdatescalendar(2020, 1):\n",
    "    print(i)"
   ]
  },
  {
   "cell_type": "markdown",
   "metadata": {},
   "source": [
    "monthdays2calendar()\n",
    "    - returns a list of weeks, with each week as 7 tuples of the day of month and day of the week.\n",
    "    - the first value of the tuple is the day of the month (0-31) and second value of the tuple is the week number (0-6)"
   ]
  },
  {
   "cell_type": "code",
   "execution_count": 57,
   "metadata": {},
   "outputs": [
    {
     "name": "stdout",
     "output_type": "stream",
     "text": [
      "[(0, 0), (0, 1), (1, 2), (2, 3), (3, 4), (4, 5), (5, 6)]\n",
      "[(6, 0), (7, 1), (8, 2), (9, 3), (10, 4), (11, 5), (12, 6)]\n",
      "[(13, 0), (14, 1), (15, 2), (16, 3), (17, 4), (18, 5), (19, 6)]\n",
      "[(20, 0), (21, 1), (22, 2), (23, 3), (24, 4), (25, 5), (26, 6)]\n",
      "[(27, 0), (28, 1), (29, 2), (30, 3), (31, 4), (0, 5), (0, 6)]\n"
     ]
    }
   ],
   "source": [
    "c = calendar.Calendar()\n",
    "for i in c.monthdays2calendar(2020, 1):\n",
    "    print(i)"
   ]
  },
  {
   "cell_type": "markdown",
   "metadata": {},
   "source": [
    "monthdayscalendar()\n",
    "    - returns a list of full weeks, with each week being a list of days of a month."
   ]
  },
  {
   "cell_type": "code",
   "execution_count": 58,
   "metadata": {},
   "outputs": [
    {
     "name": "stdout",
     "output_type": "stream",
     "text": [
      "[0, 0, 1, 2, 3, 4, 5]\n",
      "[6, 7, 8, 9, 10, 11, 12]\n",
      "[13, 14, 15, 16, 17, 18, 19]\n",
      "[20, 21, 22, 23, 24, 25, 26]\n",
      "[27, 28, 29, 30, 31, 0, 0]\n"
     ]
    }
   ],
   "source": [
    "c = calendar.Calendar()\n",
    "for i in c.monthdayscalendar(2020, 1):\n",
    "    print(i)"
   ]
  },
  {
   "cell_type": "markdown",
   "metadata": {},
   "source": [
    "yeardatescalendar()\n",
    "    - This function takes the year (yyyy) and the number of months in a month row (w). \n",
    "    - By default, w parameter is 3. \n",
    "    - The function returns a list of month rows, where days are datetime.date objects."
   ]
  },
  {
   "cell_type": "code",
   "execution_count": 59,
   "metadata": {},
   "outputs": [
    {
     "name": "stdout",
     "output_type": "stream",
     "text": [
      "2019-12-30\t2019-12-31\t2020-01-01\t2020-01-02\t2020-01-03\t2020-01-04\t2020-01-05\t2020-01-06\t2020-01-07\t2020-01-08\t2020-01-09\t2020-01-10\t2020-01-11\t2020-01-12\t2020-01-13\t2020-01-14\t2020-01-15\t2020-01-16\t2020-01-17\t2020-01-18\t2020-01-19\t2020-01-20\t2020-01-21\t2020-01-22\t2020-01-23\t2020-01-24\t2020-01-25\t2020-01-26\t2020-01-27\t2020-01-28\t2020-01-29\t2020-01-30\t2020-01-31\t2020-02-01\t2020-02-02\t\n",
      "\n",
      "\n",
      "2020-01-27\t2020-01-28\t2020-01-29\t2020-01-30\t2020-01-31\t2020-02-01\t2020-02-02\t2020-02-03\t2020-02-04\t2020-02-05\t2020-02-06\t2020-02-07\t2020-02-08\t2020-02-09\t2020-02-10\t2020-02-11\t2020-02-12\t2020-02-13\t2020-02-14\t2020-02-15\t2020-02-16\t2020-02-17\t2020-02-18\t2020-02-19\t2020-02-20\t2020-02-21\t2020-02-22\t2020-02-23\t2020-02-24\t2020-02-25\t2020-02-26\t2020-02-27\t2020-02-28\t2020-02-29\t2020-03-01\t\n",
      "\n",
      "\n",
      "2020-02-24\t2020-02-25\t2020-02-26\t2020-02-27\t2020-02-28\t2020-02-29\t2020-03-01\t2020-03-02\t2020-03-03\t2020-03-04\t2020-03-05\t2020-03-06\t2020-03-07\t2020-03-08\t2020-03-09\t2020-03-10\t2020-03-11\t2020-03-12\t2020-03-13\t2020-03-14\t2020-03-15\t2020-03-16\t2020-03-17\t2020-03-18\t2020-03-19\t2020-03-20\t2020-03-21\t2020-03-22\t2020-03-23\t2020-03-24\t2020-03-25\t2020-03-26\t2020-03-27\t2020-03-28\t2020-03-29\t2020-03-30\t2020-03-31\t2020-04-01\t2020-04-02\t2020-04-03\t2020-04-04\t2020-04-05\t\n",
      "\n",
      "\n",
      "2020-03-30\t2020-03-31\t2020-04-01\t2020-04-02\t2020-04-03\t2020-04-04\t2020-04-05\t2020-04-06\t2020-04-07\t2020-04-08\t2020-04-09\t2020-04-10\t2020-04-11\t2020-04-12\t2020-04-13\t2020-04-14\t2020-04-15\t2020-04-16\t2020-04-17\t2020-04-18\t2020-04-19\t2020-04-20\t2020-04-21\t2020-04-22\t2020-04-23\t2020-04-24\t2020-04-25\t2020-04-26\t2020-04-27\t2020-04-28\t2020-04-29\t2020-04-30\t2020-05-01\t2020-05-02\t2020-05-03\t\n",
      "\n",
      "\n",
      "2020-04-27\t2020-04-28\t2020-04-29\t2020-04-30\t2020-05-01\t2020-05-02\t2020-05-03\t2020-05-04\t2020-05-05\t2020-05-06\t2020-05-07\t2020-05-08\t2020-05-09\t2020-05-10\t2020-05-11\t2020-05-12\t2020-05-13\t2020-05-14\t2020-05-15\t2020-05-16\t2020-05-17\t2020-05-18\t2020-05-19\t2020-05-20\t2020-05-21\t2020-05-22\t2020-05-23\t2020-05-24\t2020-05-25\t2020-05-26\t2020-05-27\t2020-05-28\t2020-05-29\t2020-05-30\t2020-05-31\t\n",
      "\n",
      "\n",
      "2020-06-01\t2020-06-02\t2020-06-03\t2020-06-04\t2020-06-05\t2020-06-06\t2020-06-07\t2020-06-08\t2020-06-09\t2020-06-10\t2020-06-11\t2020-06-12\t2020-06-13\t2020-06-14\t2020-06-15\t2020-06-16\t2020-06-17\t2020-06-18\t2020-06-19\t2020-06-20\t2020-06-21\t2020-06-22\t2020-06-23\t2020-06-24\t2020-06-25\t2020-06-26\t2020-06-27\t2020-06-28\t2020-06-29\t2020-06-30\t2020-07-01\t2020-07-02\t2020-07-03\t2020-07-04\t2020-07-05\t\n",
      "\n",
      "\n",
      "2020-06-29\t2020-06-30\t2020-07-01\t2020-07-02\t2020-07-03\t2020-07-04\t2020-07-05\t2020-07-06\t2020-07-07\t2020-07-08\t2020-07-09\t2020-07-10\t2020-07-11\t2020-07-12\t2020-07-13\t2020-07-14\t2020-07-15\t2020-07-16\t2020-07-17\t2020-07-18\t2020-07-19\t2020-07-20\t2020-07-21\t2020-07-22\t2020-07-23\t2020-07-24\t2020-07-25\t2020-07-26\t2020-07-27\t2020-07-28\t2020-07-29\t2020-07-30\t2020-07-31\t2020-08-01\t2020-08-02\t\n",
      "\n",
      "\n",
      "2020-07-27\t2020-07-28\t2020-07-29\t2020-07-30\t2020-07-31\t2020-08-01\t2020-08-02\t2020-08-03\t2020-08-04\t2020-08-05\t2020-08-06\t2020-08-07\t2020-08-08\t2020-08-09\t2020-08-10\t2020-08-11\t2020-08-12\t2020-08-13\t2020-08-14\t2020-08-15\t2020-08-16\t2020-08-17\t2020-08-18\t2020-08-19\t2020-08-20\t2020-08-21\t2020-08-22\t2020-08-23\t2020-08-24\t2020-08-25\t2020-08-26\t2020-08-27\t2020-08-28\t2020-08-29\t2020-08-30\t2020-08-31\t2020-09-01\t2020-09-02\t2020-09-03\t2020-09-04\t2020-09-05\t2020-09-06\t\n",
      "\n",
      "\n",
      "2020-08-31\t2020-09-01\t2020-09-02\t2020-09-03\t2020-09-04\t2020-09-05\t2020-09-06\t2020-09-07\t2020-09-08\t2020-09-09\t2020-09-10\t2020-09-11\t2020-09-12\t2020-09-13\t2020-09-14\t2020-09-15\t2020-09-16\t2020-09-17\t2020-09-18\t2020-09-19\t2020-09-20\t2020-09-21\t2020-09-22\t2020-09-23\t2020-09-24\t2020-09-25\t2020-09-26\t2020-09-27\t2020-09-28\t2020-09-29\t2020-09-30\t2020-10-01\t2020-10-02\t2020-10-03\t2020-10-04\t\n",
      "\n",
      "\n",
      "2020-09-28\t2020-09-29\t2020-09-30\t2020-10-01\t2020-10-02\t2020-10-03\t2020-10-04\t2020-10-05\t2020-10-06\t2020-10-07\t2020-10-08\t2020-10-09\t2020-10-10\t2020-10-11\t2020-10-12\t2020-10-13\t2020-10-14\t2020-10-15\t2020-10-16\t2020-10-17\t2020-10-18\t2020-10-19\t2020-10-20\t2020-10-21\t2020-10-22\t2020-10-23\t2020-10-24\t2020-10-25\t2020-10-26\t2020-10-27\t2020-10-28\t2020-10-29\t2020-10-30\t2020-10-31\t2020-11-01\t\n",
      "\n",
      "\n",
      "2020-10-26\t2020-10-27\t2020-10-28\t2020-10-29\t2020-10-30\t2020-10-31\t2020-11-01\t2020-11-02\t2020-11-03\t2020-11-04\t2020-11-05\t2020-11-06\t2020-11-07\t2020-11-08\t2020-11-09\t2020-11-10\t2020-11-11\t2020-11-12\t2020-11-13\t2020-11-14\t2020-11-15\t2020-11-16\t2020-11-17\t2020-11-18\t2020-11-19\t2020-11-20\t2020-11-21\t2020-11-22\t2020-11-23\t2020-11-24\t2020-11-25\t2020-11-26\t2020-11-27\t2020-11-28\t2020-11-29\t2020-11-30\t2020-12-01\t2020-12-02\t2020-12-03\t2020-12-04\t2020-12-05\t2020-12-06\t\n",
      "\n",
      "\n",
      "2020-11-30\t2020-12-01\t2020-12-02\t2020-12-03\t2020-12-04\t2020-12-05\t2020-12-06\t2020-12-07\t2020-12-08\t2020-12-09\t2020-12-10\t2020-12-11\t2020-12-12\t2020-12-13\t2020-12-14\t2020-12-15\t2020-12-16\t2020-12-17\t2020-12-18\t2020-12-19\t2020-12-20\t2020-12-21\t2020-12-22\t2020-12-23\t2020-12-24\t2020-12-25\t2020-12-26\t2020-12-27\t2020-12-28\t2020-12-29\t2020-12-30\t2020-12-31\t2021-01-01\t2021-01-02\t2021-01-03\t\n",
      "\n",
      "\n"
     ]
    }
   ],
   "source": [
    "c = calendar.Calendar()\n",
    "for i in c.yeardatescalendar(2020, 1):\n",
    "    for month in i:\n",
    "        for week in month:\n",
    "            for day in week:\n",
    "                print(day, end=\"\\t\")\n",
    "    print(\"\\n\\n\")"
   ]
  },
  {
   "cell_type": "markdown",
   "metadata": {},
   "source": [
    "yeardays2calendar()\n",
    "    - This function takes the year (yyyy) and number of months we want in a month row (w). \n",
    "    - By default, the w parameter is 3. The function returns a list of weeks, as tuples of \n",
    "      days of the month and the day of the week.\n",
    "\n"
   ]
  },
  {
   "cell_type": "code",
   "execution_count": 60,
   "metadata": {},
   "outputs": [
    {
     "name": "stdout",
     "output_type": "stream",
     "text": [
      "(0, 0)\t(0, 1)\t(1, 2)\t(2, 3)\t(3, 4)\t(4, 5)\t(5, 6)\t(6, 0)\t(7, 1)\t(8, 2)\t(9, 3)\t(10, 4)\t(11, 5)\t(12, 6)\t(13, 0)\t(14, 1)\t(15, 2)\t(16, 3)\t(17, 4)\t(18, 5)\t(19, 6)\t(20, 0)\t(21, 1)\t(22, 2)\t(23, 3)\t(24, 4)\t(25, 5)\t(26, 6)\t(27, 0)\t(28, 1)\t(29, 2)\t(30, 3)\t(31, 4)\t(0, 5)\t(0, 6)\t\n",
      "\n",
      "\n",
      "(0, 0)\t(0, 1)\t(0, 2)\t(0, 3)\t(0, 4)\t(1, 5)\t(2, 6)\t(3, 0)\t(4, 1)\t(5, 2)\t(6, 3)\t(7, 4)\t(8, 5)\t(9, 6)\t(10, 0)\t(11, 1)\t(12, 2)\t(13, 3)\t(14, 4)\t(15, 5)\t(16, 6)\t(17, 0)\t(18, 1)\t(19, 2)\t(20, 3)\t(21, 4)\t(22, 5)\t(23, 6)\t(24, 0)\t(25, 1)\t(26, 2)\t(27, 3)\t(28, 4)\t(29, 5)\t(0, 6)\t\n",
      "\n",
      "\n",
      "(0, 0)\t(0, 1)\t(0, 2)\t(0, 3)\t(0, 4)\t(0, 5)\t(1, 6)\t(2, 0)\t(3, 1)\t(4, 2)\t(5, 3)\t(6, 4)\t(7, 5)\t(8, 6)\t(9, 0)\t(10, 1)\t(11, 2)\t(12, 3)\t(13, 4)\t(14, 5)\t(15, 6)\t(16, 0)\t(17, 1)\t(18, 2)\t(19, 3)\t(20, 4)\t(21, 5)\t(22, 6)\t(23, 0)\t(24, 1)\t(25, 2)\t(26, 3)\t(27, 4)\t(28, 5)\t(29, 6)\t(30, 0)\t(31, 1)\t(0, 2)\t(0, 3)\t(0, 4)\t(0, 5)\t(0, 6)\t\n",
      "\n",
      "\n",
      "(0, 0)\t(0, 1)\t(1, 2)\t(2, 3)\t(3, 4)\t(4, 5)\t(5, 6)\t(6, 0)\t(7, 1)\t(8, 2)\t(9, 3)\t(10, 4)\t(11, 5)\t(12, 6)\t(13, 0)\t(14, 1)\t(15, 2)\t(16, 3)\t(17, 4)\t(18, 5)\t(19, 6)\t(20, 0)\t(21, 1)\t(22, 2)\t(23, 3)\t(24, 4)\t(25, 5)\t(26, 6)\t(27, 0)\t(28, 1)\t(29, 2)\t(30, 3)\t(0, 4)\t(0, 5)\t(0, 6)\t\n",
      "\n",
      "\n",
      "(0, 0)\t(0, 1)\t(0, 2)\t(0, 3)\t(1, 4)\t(2, 5)\t(3, 6)\t(4, 0)\t(5, 1)\t(6, 2)\t(7, 3)\t(8, 4)\t(9, 5)\t(10, 6)\t(11, 0)\t(12, 1)\t(13, 2)\t(14, 3)\t(15, 4)\t(16, 5)\t(17, 6)\t(18, 0)\t(19, 1)\t(20, 2)\t(21, 3)\t(22, 4)\t(23, 5)\t(24, 6)\t(25, 0)\t(26, 1)\t(27, 2)\t(28, 3)\t(29, 4)\t(30, 5)\t(31, 6)\t\n",
      "\n",
      "\n",
      "(1, 0)\t(2, 1)\t(3, 2)\t(4, 3)\t(5, 4)\t(6, 5)\t(7, 6)\t(8, 0)\t(9, 1)\t(10, 2)\t(11, 3)\t(12, 4)\t(13, 5)\t(14, 6)\t(15, 0)\t(16, 1)\t(17, 2)\t(18, 3)\t(19, 4)\t(20, 5)\t(21, 6)\t(22, 0)\t(23, 1)\t(24, 2)\t(25, 3)\t(26, 4)\t(27, 5)\t(28, 6)\t(29, 0)\t(30, 1)\t(0, 2)\t(0, 3)\t(0, 4)\t(0, 5)\t(0, 6)\t\n",
      "\n",
      "\n",
      "(0, 0)\t(0, 1)\t(1, 2)\t(2, 3)\t(3, 4)\t(4, 5)\t(5, 6)\t(6, 0)\t(7, 1)\t(8, 2)\t(9, 3)\t(10, 4)\t(11, 5)\t(12, 6)\t(13, 0)\t(14, 1)\t(15, 2)\t(16, 3)\t(17, 4)\t(18, 5)\t(19, 6)\t(20, 0)\t(21, 1)\t(22, 2)\t(23, 3)\t(24, 4)\t(25, 5)\t(26, 6)\t(27, 0)\t(28, 1)\t(29, 2)\t(30, 3)\t(31, 4)\t(0, 5)\t(0, 6)\t\n",
      "\n",
      "\n",
      "(0, 0)\t(0, 1)\t(0, 2)\t(0, 3)\t(0, 4)\t(1, 5)\t(2, 6)\t(3, 0)\t(4, 1)\t(5, 2)\t(6, 3)\t(7, 4)\t(8, 5)\t(9, 6)\t(10, 0)\t(11, 1)\t(12, 2)\t(13, 3)\t(14, 4)\t(15, 5)\t(16, 6)\t(17, 0)\t(18, 1)\t(19, 2)\t(20, 3)\t(21, 4)\t(22, 5)\t(23, 6)\t(24, 0)\t(25, 1)\t(26, 2)\t(27, 3)\t(28, 4)\t(29, 5)\t(30, 6)\t(31, 0)\t(0, 1)\t(0, 2)\t(0, 3)\t(0, 4)\t(0, 5)\t(0, 6)\t\n",
      "\n",
      "\n",
      "(0, 0)\t(1, 1)\t(2, 2)\t(3, 3)\t(4, 4)\t(5, 5)\t(6, 6)\t(7, 0)\t(8, 1)\t(9, 2)\t(10, 3)\t(11, 4)\t(12, 5)\t(13, 6)\t(14, 0)\t(15, 1)\t(16, 2)\t(17, 3)\t(18, 4)\t(19, 5)\t(20, 6)\t(21, 0)\t(22, 1)\t(23, 2)\t(24, 3)\t(25, 4)\t(26, 5)\t(27, 6)\t(28, 0)\t(29, 1)\t(30, 2)\t(0, 3)\t(0, 4)\t(0, 5)\t(0, 6)\t\n",
      "\n",
      "\n",
      "(0, 0)\t(0, 1)\t(0, 2)\t(1, 3)\t(2, 4)\t(3, 5)\t(4, 6)\t(5, 0)\t(6, 1)\t(7, 2)\t(8, 3)\t(9, 4)\t(10, 5)\t(11, 6)\t(12, 0)\t(13, 1)\t(14, 2)\t(15, 3)\t(16, 4)\t(17, 5)\t(18, 6)\t(19, 0)\t(20, 1)\t(21, 2)\t(22, 3)\t(23, 4)\t(24, 5)\t(25, 6)\t(26, 0)\t(27, 1)\t(28, 2)\t(29, 3)\t(30, 4)\t(31, 5)\t(0, 6)\t\n",
      "\n",
      "\n",
      "(0, 0)\t(0, 1)\t(0, 2)\t(0, 3)\t(0, 4)\t(0, 5)\t(1, 6)\t(2, 0)\t(3, 1)\t(4, 2)\t(5, 3)\t(6, 4)\t(7, 5)\t(8, 6)\t(9, 0)\t(10, 1)\t(11, 2)\t(12, 3)\t(13, 4)\t(14, 5)\t(15, 6)\t(16, 0)\t(17, 1)\t(18, 2)\t(19, 3)\t(20, 4)\t(21, 5)\t(22, 6)\t(23, 0)\t(24, 1)\t(25, 2)\t(26, 3)\t(27, 4)\t(28, 5)\t(29, 6)\t(30, 0)\t(0, 1)\t(0, 2)\t(0, 3)\t(0, 4)\t(0, 5)\t(0, 6)\t\n",
      "\n",
      "\n",
      "(0, 0)\t(1, 1)\t(2, 2)\t(3, 3)\t(4, 4)\t(5, 5)\t(6, 6)\t(7, 0)\t(8, 1)\t(9, 2)\t(10, 3)\t(11, 4)\t(12, 5)\t(13, 6)\t(14, 0)\t(15, 1)\t(16, 2)\t(17, 3)\t(18, 4)\t(19, 5)\t(20, 6)\t(21, 0)\t(22, 1)\t(23, 2)\t(24, 3)\t(25, 4)\t(26, 5)\t(27, 6)\t(28, 0)\t(29, 1)\t(30, 2)\t(31, 3)\t(0, 4)\t(0, 5)\t(0, 6)\t\n",
      "\n",
      "\n"
     ]
    }
   ],
   "source": [
    "c = calendar.Calendar()\n",
    "for i in c.yeardays2calendar(2020, 1):\n",
    "    for month in i:\n",
    "        for week in month:\n",
    "            for day in week:\n",
    "                print(day, end=\"\\t\")\n",
    "    print(\"\\n\\n\")"
   ]
  },
  {
   "cell_type": "markdown",
   "metadata": {},
   "source": [
    "yeardayscalendar()\n",
    "    - This function takes the year (yyyy) and the number of months we want in a month row (w). \n",
    "    - By default, w parameter is 3. The function returns a list of weeks as the day of the month."
   ]
  },
  {
   "cell_type": "code",
   "execution_count": 61,
   "metadata": {},
   "outputs": [
    {
     "name": "stdout",
     "output_type": "stream",
     "text": [
      "0\t0\t1\t2\t3\t4\t5\t6\t7\t8\t9\t10\t11\t12\t13\t14\t15\t16\t17\t18\t19\t20\t21\t22\t23\t24\t25\t26\t27\t28\t29\t30\t31\t0\t0\t\n",
      "\n",
      "\n",
      "0\t0\t0\t0\t0\t1\t2\t3\t4\t5\t6\t7\t8\t9\t10\t11\t12\t13\t14\t15\t16\t17\t18\t19\t20\t21\t22\t23\t24\t25\t26\t27\t28\t29\t0\t\n",
      "\n",
      "\n",
      "0\t0\t0\t0\t0\t0\t1\t2\t3\t4\t5\t6\t7\t8\t9\t10\t11\t12\t13\t14\t15\t16\t17\t18\t19\t20\t21\t22\t23\t24\t25\t26\t27\t28\t29\t30\t31\t0\t0\t0\t0\t0\t\n",
      "\n",
      "\n",
      "0\t0\t1\t2\t3\t4\t5\t6\t7\t8\t9\t10\t11\t12\t13\t14\t15\t16\t17\t18\t19\t20\t21\t22\t23\t24\t25\t26\t27\t28\t29\t30\t0\t0\t0\t\n",
      "\n",
      "\n",
      "0\t0\t0\t0\t1\t2\t3\t4\t5\t6\t7\t8\t9\t10\t11\t12\t13\t14\t15\t16\t17\t18\t19\t20\t21\t22\t23\t24\t25\t26\t27\t28\t29\t30\t31\t\n",
      "\n",
      "\n",
      "1\t2\t3\t4\t5\t6\t7\t8\t9\t10\t11\t12\t13\t14\t15\t16\t17\t18\t19\t20\t21\t22\t23\t24\t25\t26\t27\t28\t29\t30\t0\t0\t0\t0\t0\t\n",
      "\n",
      "\n",
      "0\t0\t1\t2\t3\t4\t5\t6\t7\t8\t9\t10\t11\t12\t13\t14\t15\t16\t17\t18\t19\t20\t21\t22\t23\t24\t25\t26\t27\t28\t29\t30\t31\t0\t0\t\n",
      "\n",
      "\n",
      "0\t0\t0\t0\t0\t1\t2\t3\t4\t5\t6\t7\t8\t9\t10\t11\t12\t13\t14\t15\t16\t17\t18\t19\t20\t21\t22\t23\t24\t25\t26\t27\t28\t29\t30\t31\t0\t0\t0\t0\t0\t0\t\n",
      "\n",
      "\n",
      "0\t1\t2\t3\t4\t5\t6\t7\t8\t9\t10\t11\t12\t13\t14\t15\t16\t17\t18\t19\t20\t21\t22\t23\t24\t25\t26\t27\t28\t29\t30\t0\t0\t0\t0\t\n",
      "\n",
      "\n",
      "0\t0\t0\t1\t2\t3\t4\t5\t6\t7\t8\t9\t10\t11\t12\t13\t14\t15\t16\t17\t18\t19\t20\t21\t22\t23\t24\t25\t26\t27\t28\t29\t30\t31\t0\t\n",
      "\n",
      "\n",
      "0\t0\t0\t0\t0\t0\t1\t2\t3\t4\t5\t6\t7\t8\t9\t10\t11\t12\t13\t14\t15\t16\t17\t18\t19\t20\t21\t22\t23\t24\t25\t26\t27\t28\t29\t30\t0\t0\t0\t0\t0\t0\t\n",
      "\n",
      "\n",
      "0\t1\t2\t3\t4\t5\t6\t7\t8\t9\t10\t11\t12\t13\t14\t15\t16\t17\t18\t19\t20\t21\t22\t23\t24\t25\t26\t27\t28\t29\t30\t31\t0\t0\t0\t\n",
      "\n",
      "\n"
     ]
    }
   ],
   "source": [
    "c = calendar.Calendar()\n",
    "for i in c.yeardayscalendar(2020, 1):\n",
    "    for month in i:\n",
    "        for week in month:\n",
    "            for day in week:\n",
    "                print(day, end=\"\\t\")\n",
    "    print(\"\\n\\n\")"
   ]
  },
  {
   "cell_type": "markdown",
   "metadata": {},
   "source": [
    "## HTMLCalendar \n",
    "    - similar to TextCalendar class, but, generates an HTML calendar."
   ]
  },
  {
   "cell_type": "code",
   "execution_count": 62,
   "metadata": {},
   "outputs": [],
   "source": [
    "hc = calendar.HTMLCalendar()"
   ]
  },
  {
   "cell_type": "code",
   "execution_count": 63,
   "metadata": {},
   "outputs": [
    {
     "name": "stdout",
     "output_type": "stream",
     "text": [
      "<table border=\"0\" cellpadding=\"0\" cellspacing=\"0\" class=\"month\">\n",
      "<tr><th colspan=\"7\" class=\"month\">August 2020</th></tr>\n",
      "<tr><th class=\"mon\">Mon</th><th class=\"tue\">Tue</th><th class=\"wed\">Wed</th><th class=\"thu\">Thu</th><th class=\"fri\">Fri</th><th class=\"sat\">Sat</th><th class=\"sun\">Sun</th></tr>\n",
      "<tr><td class=\"noday\">&nbsp;</td><td class=\"noday\">&nbsp;</td><td class=\"noday\">&nbsp;</td><td class=\"noday\">&nbsp;</td><td class=\"noday\">&nbsp;</td><td class=\"sat\">1</td><td class=\"sun\">2</td></tr>\n",
      "<tr><td class=\"mon\">3</td><td class=\"tue\">4</td><td class=\"wed\">5</td><td class=\"thu\">6</td><td class=\"fri\">7</td><td class=\"sat\">8</td><td class=\"sun\">9</td></tr>\n",
      "<tr><td class=\"mon\">10</td><td class=\"tue\">11</td><td class=\"wed\">12</td><td class=\"thu\">13</td><td class=\"fri\">14</td><td class=\"sat\">15</td><td class=\"sun\">16</td></tr>\n",
      "<tr><td class=\"mon\">17</td><td class=\"tue\">18</td><td class=\"wed\">19</td><td class=\"thu\">20</td><td class=\"fri\">21</td><td class=\"sat\">22</td><td class=\"sun\">23</td></tr>\n",
      "<tr><td class=\"mon\">24</td><td class=\"tue\">25</td><td class=\"wed\">26</td><td class=\"thu\">27</td><td class=\"fri\">28</td><td class=\"sat\">29</td><td class=\"sun\">30</td></tr>\n",
      "<tr><td class=\"mon\">31</td><td class=\"noday\">&nbsp;</td><td class=\"noday\">&nbsp;</td><td class=\"noday\">&nbsp;</td><td class=\"noday\">&nbsp;</td><td class=\"noday\">&nbsp;</td><td class=\"noday\">&nbsp;</td></tr>\n",
      "</table>\n",
      "\n"
     ]
    }
   ],
   "source": [
    "print(hc.formatmonth(2020, 8))"
   ]
  },
  {
   "cell_type": "code",
   "execution_count": 64,
   "metadata": {},
   "outputs": [
    {
     "name": "stdout",
     "output_type": "stream",
     "text": [
      "<table border=\"0\" cellpadding=\"0\" cellspacing=\"0\" class=\"year\">\n",
      "<tr><th colspan=\"8\" class=\"year\">2020</th></tr><tr><td><table border=\"0\" cellpadding=\"0\" cellspacing=\"0\" class=\"month\">\n",
      "<tr><th colspan=\"7\" class=\"month\">January</th></tr>\n",
      "<tr><th class=\"mon\">Mon</th><th class=\"tue\">Tue</th><th class=\"wed\">Wed</th><th class=\"thu\">Thu</th><th class=\"fri\">Fri</th><th class=\"sat\">Sat</th><th class=\"sun\">Sun</th></tr>\n",
      "<tr><td class=\"noday\">&nbsp;</td><td class=\"noday\">&nbsp;</td><td class=\"wed\">1</td><td class=\"thu\">2</td><td class=\"fri\">3</td><td class=\"sat\">4</td><td class=\"sun\">5</td></tr>\n",
      "<tr><td class=\"mon\">6</td><td class=\"tue\">7</td><td class=\"wed\">8</td><td class=\"thu\">9</td><td class=\"fri\">10</td><td class=\"sat\">11</td><td class=\"sun\">12</td></tr>\n",
      "<tr><td class=\"mon\">13</td><td class=\"tue\">14</td><td class=\"wed\">15</td><td class=\"thu\">16</td><td class=\"fri\">17</td><td class=\"sat\">18</td><td class=\"sun\">19</td></tr>\n",
      "<tr><td class=\"mon\">20</td><td class=\"tue\">21</td><td class=\"wed\">22</td><td class=\"thu\">23</td><td class=\"fri\">24</td><td class=\"sat\">25</td><td class=\"sun\">26</td></tr>\n",
      "<tr><td class=\"mon\">27</td><td class=\"tue\">28</td><td class=\"wed\">29</td><td class=\"thu\">30</td><td class=\"fri\">31</td><td class=\"noday\">&nbsp;</td><td class=\"noday\">&nbsp;</td></tr>\n",
      "</table>\n",
      "</td><td><table border=\"0\" cellpadding=\"0\" cellspacing=\"0\" class=\"month\">\n",
      "<tr><th colspan=\"7\" class=\"month\">February</th></tr>\n",
      "<tr><th class=\"mon\">Mon</th><th class=\"tue\">Tue</th><th class=\"wed\">Wed</th><th class=\"thu\">Thu</th><th class=\"fri\">Fri</th><th class=\"sat\">Sat</th><th class=\"sun\">Sun</th></tr>\n",
      "<tr><td class=\"noday\">&nbsp;</td><td class=\"noday\">&nbsp;</td><td class=\"noday\">&nbsp;</td><td class=\"noday\">&nbsp;</td><td class=\"noday\">&nbsp;</td><td class=\"sat\">1</td><td class=\"sun\">2</td></tr>\n",
      "<tr><td class=\"mon\">3</td><td class=\"tue\">4</td><td class=\"wed\">5</td><td class=\"thu\">6</td><td class=\"fri\">7</td><td class=\"sat\">8</td><td class=\"sun\">9</td></tr>\n",
      "<tr><td class=\"mon\">10</td><td class=\"tue\">11</td><td class=\"wed\">12</td><td class=\"thu\">13</td><td class=\"fri\">14</td><td class=\"sat\">15</td><td class=\"sun\">16</td></tr>\n",
      "<tr><td class=\"mon\">17</td><td class=\"tue\">18</td><td class=\"wed\">19</td><td class=\"thu\">20</td><td class=\"fri\">21</td><td class=\"sat\">22</td><td class=\"sun\">23</td></tr>\n",
      "<tr><td class=\"mon\">24</td><td class=\"tue\">25</td><td class=\"wed\">26</td><td class=\"thu\">27</td><td class=\"fri\">28</td><td class=\"sat\">29</td><td class=\"noday\">&nbsp;</td></tr>\n",
      "</table>\n",
      "</td><td><table border=\"0\" cellpadding=\"0\" cellspacing=\"0\" class=\"month\">\n",
      "<tr><th colspan=\"7\" class=\"month\">March</th></tr>\n",
      "<tr><th class=\"mon\">Mon</th><th class=\"tue\">Tue</th><th class=\"wed\">Wed</th><th class=\"thu\">Thu</th><th class=\"fri\">Fri</th><th class=\"sat\">Sat</th><th class=\"sun\">Sun</th></tr>\n",
      "<tr><td class=\"noday\">&nbsp;</td><td class=\"noday\">&nbsp;</td><td class=\"noday\">&nbsp;</td><td class=\"noday\">&nbsp;</td><td class=\"noday\">&nbsp;</td><td class=\"noday\">&nbsp;</td><td class=\"sun\">1</td></tr>\n",
      "<tr><td class=\"mon\">2</td><td class=\"tue\">3</td><td class=\"wed\">4</td><td class=\"thu\">5</td><td class=\"fri\">6</td><td class=\"sat\">7</td><td class=\"sun\">8</td></tr>\n",
      "<tr><td class=\"mon\">9</td><td class=\"tue\">10</td><td class=\"wed\">11</td><td class=\"thu\">12</td><td class=\"fri\">13</td><td class=\"sat\">14</td><td class=\"sun\">15</td></tr>\n",
      "<tr><td class=\"mon\">16</td><td class=\"tue\">17</td><td class=\"wed\">18</td><td class=\"thu\">19</td><td class=\"fri\">20</td><td class=\"sat\">21</td><td class=\"sun\">22</td></tr>\n",
      "<tr><td class=\"mon\">23</td><td class=\"tue\">24</td><td class=\"wed\">25</td><td class=\"thu\">26</td><td class=\"fri\">27</td><td class=\"sat\">28</td><td class=\"sun\">29</td></tr>\n",
      "<tr><td class=\"mon\">30</td><td class=\"tue\">31</td><td class=\"noday\">&nbsp;</td><td class=\"noday\">&nbsp;</td><td class=\"noday\">&nbsp;</td><td class=\"noday\">&nbsp;</td><td class=\"noday\">&nbsp;</td></tr>\n",
      "</table>\n",
      "</td><td><table border=\"0\" cellpadding=\"0\" cellspacing=\"0\" class=\"month\">\n",
      "<tr><th colspan=\"7\" class=\"month\">April</th></tr>\n",
      "<tr><th class=\"mon\">Mon</th><th class=\"tue\">Tue</th><th class=\"wed\">Wed</th><th class=\"thu\">Thu</th><th class=\"fri\">Fri</th><th class=\"sat\">Sat</th><th class=\"sun\">Sun</th></tr>\n",
      "<tr><td class=\"noday\">&nbsp;</td><td class=\"noday\">&nbsp;</td><td class=\"wed\">1</td><td class=\"thu\">2</td><td class=\"fri\">3</td><td class=\"sat\">4</td><td class=\"sun\">5</td></tr>\n",
      "<tr><td class=\"mon\">6</td><td class=\"tue\">7</td><td class=\"wed\">8</td><td class=\"thu\">9</td><td class=\"fri\">10</td><td class=\"sat\">11</td><td class=\"sun\">12</td></tr>\n",
      "<tr><td class=\"mon\">13</td><td class=\"tue\">14</td><td class=\"wed\">15</td><td class=\"thu\">16</td><td class=\"fri\">17</td><td class=\"sat\">18</td><td class=\"sun\">19</td></tr>\n",
      "<tr><td class=\"mon\">20</td><td class=\"tue\">21</td><td class=\"wed\">22</td><td class=\"thu\">23</td><td class=\"fri\">24</td><td class=\"sat\">25</td><td class=\"sun\">26</td></tr>\n",
      "<tr><td class=\"mon\">27</td><td class=\"tue\">28</td><td class=\"wed\">29</td><td class=\"thu\">30</td><td class=\"noday\">&nbsp;</td><td class=\"noday\">&nbsp;</td><td class=\"noday\">&nbsp;</td></tr>\n",
      "</table>\n",
      "</td><td><table border=\"0\" cellpadding=\"0\" cellspacing=\"0\" class=\"month\">\n",
      "<tr><th colspan=\"7\" class=\"month\">May</th></tr>\n",
      "<tr><th class=\"mon\">Mon</th><th class=\"tue\">Tue</th><th class=\"wed\">Wed</th><th class=\"thu\">Thu</th><th class=\"fri\">Fri</th><th class=\"sat\">Sat</th><th class=\"sun\">Sun</th></tr>\n",
      "<tr><td class=\"noday\">&nbsp;</td><td class=\"noday\">&nbsp;</td><td class=\"noday\">&nbsp;</td><td class=\"noday\">&nbsp;</td><td class=\"fri\">1</td><td class=\"sat\">2</td><td class=\"sun\">3</td></tr>\n",
      "<tr><td class=\"mon\">4</td><td class=\"tue\">5</td><td class=\"wed\">6</td><td class=\"thu\">7</td><td class=\"fri\">8</td><td class=\"sat\">9</td><td class=\"sun\">10</td></tr>\n",
      "<tr><td class=\"mon\">11</td><td class=\"tue\">12</td><td class=\"wed\">13</td><td class=\"thu\">14</td><td class=\"fri\">15</td><td class=\"sat\">16</td><td class=\"sun\">17</td></tr>\n",
      "<tr><td class=\"mon\">18</td><td class=\"tue\">19</td><td class=\"wed\">20</td><td class=\"thu\">21</td><td class=\"fri\">22</td><td class=\"sat\">23</td><td class=\"sun\">24</td></tr>\n",
      "<tr><td class=\"mon\">25</td><td class=\"tue\">26</td><td class=\"wed\">27</td><td class=\"thu\">28</td><td class=\"fri\">29</td><td class=\"sat\">30</td><td class=\"sun\">31</td></tr>\n",
      "</table>\n",
      "</td><td><table border=\"0\" cellpadding=\"0\" cellspacing=\"0\" class=\"month\">\n",
      "<tr><th colspan=\"7\" class=\"month\">June</th></tr>\n",
      "<tr><th class=\"mon\">Mon</th><th class=\"tue\">Tue</th><th class=\"wed\">Wed</th><th class=\"thu\">Thu</th><th class=\"fri\">Fri</th><th class=\"sat\">Sat</th><th class=\"sun\">Sun</th></tr>\n",
      "<tr><td class=\"mon\">1</td><td class=\"tue\">2</td><td class=\"wed\">3</td><td class=\"thu\">4</td><td class=\"fri\">5</td><td class=\"sat\">6</td><td class=\"sun\">7</td></tr>\n",
      "<tr><td class=\"mon\">8</td><td class=\"tue\">9</td><td class=\"wed\">10</td><td class=\"thu\">11</td><td class=\"fri\">12</td><td class=\"sat\">13</td><td class=\"sun\">14</td></tr>\n",
      "<tr><td class=\"mon\">15</td><td class=\"tue\">16</td><td class=\"wed\">17</td><td class=\"thu\">18</td><td class=\"fri\">19</td><td class=\"sat\">20</td><td class=\"sun\">21</td></tr>\n",
      "<tr><td class=\"mon\">22</td><td class=\"tue\">23</td><td class=\"wed\">24</td><td class=\"thu\">25</td><td class=\"fri\">26</td><td class=\"sat\">27</td><td class=\"sun\">28</td></tr>\n",
      "<tr><td class=\"mon\">29</td><td class=\"tue\">30</td><td class=\"noday\">&nbsp;</td><td class=\"noday\">&nbsp;</td><td class=\"noday\">&nbsp;</td><td class=\"noday\">&nbsp;</td><td class=\"noday\">&nbsp;</td></tr>\n",
      "</table>\n",
      "</td><td><table border=\"0\" cellpadding=\"0\" cellspacing=\"0\" class=\"month\">\n",
      "<tr><th colspan=\"7\" class=\"month\">July</th></tr>\n",
      "<tr><th class=\"mon\">Mon</th><th class=\"tue\">Tue</th><th class=\"wed\">Wed</th><th class=\"thu\">Thu</th><th class=\"fri\">Fri</th><th class=\"sat\">Sat</th><th class=\"sun\">Sun</th></tr>\n",
      "<tr><td class=\"noday\">&nbsp;</td><td class=\"noday\">&nbsp;</td><td class=\"wed\">1</td><td class=\"thu\">2</td><td class=\"fri\">3</td><td class=\"sat\">4</td><td class=\"sun\">5</td></tr>\n",
      "<tr><td class=\"mon\">6</td><td class=\"tue\">7</td><td class=\"wed\">8</td><td class=\"thu\">9</td><td class=\"fri\">10</td><td class=\"sat\">11</td><td class=\"sun\">12</td></tr>\n",
      "<tr><td class=\"mon\">13</td><td class=\"tue\">14</td><td class=\"wed\">15</td><td class=\"thu\">16</td><td class=\"fri\">17</td><td class=\"sat\">18</td><td class=\"sun\">19</td></tr>\n",
      "<tr><td class=\"mon\">20</td><td class=\"tue\">21</td><td class=\"wed\">22</td><td class=\"thu\">23</td><td class=\"fri\">24</td><td class=\"sat\">25</td><td class=\"sun\">26</td></tr>\n",
      "<tr><td class=\"mon\">27</td><td class=\"tue\">28</td><td class=\"wed\">29</td><td class=\"thu\">30</td><td class=\"fri\">31</td><td class=\"noday\">&nbsp;</td><td class=\"noday\">&nbsp;</td></tr>\n",
      "</table>\n",
      "</td><td><table border=\"0\" cellpadding=\"0\" cellspacing=\"0\" class=\"month\">\n",
      "<tr><th colspan=\"7\" class=\"month\">August</th></tr>\n",
      "<tr><th class=\"mon\">Mon</th><th class=\"tue\">Tue</th><th class=\"wed\">Wed</th><th class=\"thu\">Thu</th><th class=\"fri\">Fri</th><th class=\"sat\">Sat</th><th class=\"sun\">Sun</th></tr>\n",
      "<tr><td class=\"noday\">&nbsp;</td><td class=\"noday\">&nbsp;</td><td class=\"noday\">&nbsp;</td><td class=\"noday\">&nbsp;</td><td class=\"noday\">&nbsp;</td><td class=\"sat\">1</td><td class=\"sun\">2</td></tr>\n",
      "<tr><td class=\"mon\">3</td><td class=\"tue\">4</td><td class=\"wed\">5</td><td class=\"thu\">6</td><td class=\"fri\">7</td><td class=\"sat\">8</td><td class=\"sun\">9</td></tr>\n",
      "<tr><td class=\"mon\">10</td><td class=\"tue\">11</td><td class=\"wed\">12</td><td class=\"thu\">13</td><td class=\"fri\">14</td><td class=\"sat\">15</td><td class=\"sun\">16</td></tr>\n",
      "<tr><td class=\"mon\">17</td><td class=\"tue\">18</td><td class=\"wed\">19</td><td class=\"thu\">20</td><td class=\"fri\">21</td><td class=\"sat\">22</td><td class=\"sun\">23</td></tr>\n",
      "<tr><td class=\"mon\">24</td><td class=\"tue\">25</td><td class=\"wed\">26</td><td class=\"thu\">27</td><td class=\"fri\">28</td><td class=\"sat\">29</td><td class=\"sun\">30</td></tr>\n",
      "<tr><td class=\"mon\">31</td><td class=\"noday\">&nbsp;</td><td class=\"noday\">&nbsp;</td><td class=\"noday\">&nbsp;</td><td class=\"noday\">&nbsp;</td><td class=\"noday\">&nbsp;</td><td class=\"noday\">&nbsp;</td></tr>\n",
      "</table>\n",
      "</td></tr><tr><td><table border=\"0\" cellpadding=\"0\" cellspacing=\"0\" class=\"month\">\n",
      "<tr><th colspan=\"7\" class=\"month\">September</th></tr>\n",
      "<tr><th class=\"mon\">Mon</th><th class=\"tue\">Tue</th><th class=\"wed\">Wed</th><th class=\"thu\">Thu</th><th class=\"fri\">Fri</th><th class=\"sat\">Sat</th><th class=\"sun\">Sun</th></tr>\n",
      "<tr><td class=\"noday\">&nbsp;</td><td class=\"tue\">1</td><td class=\"wed\">2</td><td class=\"thu\">3</td><td class=\"fri\">4</td><td class=\"sat\">5</td><td class=\"sun\">6</td></tr>\n",
      "<tr><td class=\"mon\">7</td><td class=\"tue\">8</td><td class=\"wed\">9</td><td class=\"thu\">10</td><td class=\"fri\">11</td><td class=\"sat\">12</td><td class=\"sun\">13</td></tr>\n",
      "<tr><td class=\"mon\">14</td><td class=\"tue\">15</td><td class=\"wed\">16</td><td class=\"thu\">17</td><td class=\"fri\">18</td><td class=\"sat\">19</td><td class=\"sun\">20</td></tr>\n",
      "<tr><td class=\"mon\">21</td><td class=\"tue\">22</td><td class=\"wed\">23</td><td class=\"thu\">24</td><td class=\"fri\">25</td><td class=\"sat\">26</td><td class=\"sun\">27</td></tr>\n",
      "<tr><td class=\"mon\">28</td><td class=\"tue\">29</td><td class=\"wed\">30</td><td class=\"noday\">&nbsp;</td><td class=\"noday\">&nbsp;</td><td class=\"noday\">&nbsp;</td><td class=\"noday\">&nbsp;</td></tr>\n",
      "</table>\n",
      "</td><td><table border=\"0\" cellpadding=\"0\" cellspacing=\"0\" class=\"month\">\n",
      "<tr><th colspan=\"7\" class=\"month\">October</th></tr>\n",
      "<tr><th class=\"mon\">Mon</th><th class=\"tue\">Tue</th><th class=\"wed\">Wed</th><th class=\"thu\">Thu</th><th class=\"fri\">Fri</th><th class=\"sat\">Sat</th><th class=\"sun\">Sun</th></tr>\n",
      "<tr><td class=\"noday\">&nbsp;</td><td class=\"noday\">&nbsp;</td><td class=\"noday\">&nbsp;</td><td class=\"thu\">1</td><td class=\"fri\">2</td><td class=\"sat\">3</td><td class=\"sun\">4</td></tr>\n",
      "<tr><td class=\"mon\">5</td><td class=\"tue\">6</td><td class=\"wed\">7</td><td class=\"thu\">8</td><td class=\"fri\">9</td><td class=\"sat\">10</td><td class=\"sun\">11</td></tr>\n",
      "<tr><td class=\"mon\">12</td><td class=\"tue\">13</td><td class=\"wed\">14</td><td class=\"thu\">15</td><td class=\"fri\">16</td><td class=\"sat\">17</td><td class=\"sun\">18</td></tr>\n",
      "<tr><td class=\"mon\">19</td><td class=\"tue\">20</td><td class=\"wed\">21</td><td class=\"thu\">22</td><td class=\"fri\">23</td><td class=\"sat\">24</td><td class=\"sun\">25</td></tr>\n",
      "<tr><td class=\"mon\">26</td><td class=\"tue\">27</td><td class=\"wed\">28</td><td class=\"thu\">29</td><td class=\"fri\">30</td><td class=\"sat\">31</td><td class=\"noday\">&nbsp;</td></tr>\n",
      "</table>\n",
      "</td><td><table border=\"0\" cellpadding=\"0\" cellspacing=\"0\" class=\"month\">\n",
      "<tr><th colspan=\"7\" class=\"month\">November</th></tr>\n",
      "<tr><th class=\"mon\">Mon</th><th class=\"tue\">Tue</th><th class=\"wed\">Wed</th><th class=\"thu\">Thu</th><th class=\"fri\">Fri</th><th class=\"sat\">Sat</th><th class=\"sun\">Sun</th></tr>\n",
      "<tr><td class=\"noday\">&nbsp;</td><td class=\"noday\">&nbsp;</td><td class=\"noday\">&nbsp;</td><td class=\"noday\">&nbsp;</td><td class=\"noday\">&nbsp;</td><td class=\"noday\">&nbsp;</td><td class=\"sun\">1</td></tr>\n",
      "<tr><td class=\"mon\">2</td><td class=\"tue\">3</td><td class=\"wed\">4</td><td class=\"thu\">5</td><td class=\"fri\">6</td><td class=\"sat\">7</td><td class=\"sun\">8</td></tr>\n",
      "<tr><td class=\"mon\">9</td><td class=\"tue\">10</td><td class=\"wed\">11</td><td class=\"thu\">12</td><td class=\"fri\">13</td><td class=\"sat\">14</td><td class=\"sun\">15</td></tr>\n",
      "<tr><td class=\"mon\">16</td><td class=\"tue\">17</td><td class=\"wed\">18</td><td class=\"thu\">19</td><td class=\"fri\">20</td><td class=\"sat\">21</td><td class=\"sun\">22</td></tr>\n",
      "<tr><td class=\"mon\">23</td><td class=\"tue\">24</td><td class=\"wed\">25</td><td class=\"thu\">26</td><td class=\"fri\">27</td><td class=\"sat\">28</td><td class=\"sun\">29</td></tr>\n",
      "<tr><td class=\"mon\">30</td><td class=\"noday\">&nbsp;</td><td class=\"noday\">&nbsp;</td><td class=\"noday\">&nbsp;</td><td class=\"noday\">&nbsp;</td><td class=\"noday\">&nbsp;</td><td class=\"noday\">&nbsp;</td></tr>\n",
      "</table>\n",
      "</td><td><table border=\"0\" cellpadding=\"0\" cellspacing=\"0\" class=\"month\">\n",
      "<tr><th colspan=\"7\" class=\"month\">December</th></tr>\n",
      "<tr><th class=\"mon\">Mon</th><th class=\"tue\">Tue</th><th class=\"wed\">Wed</th><th class=\"thu\">Thu</th><th class=\"fri\">Fri</th><th class=\"sat\">Sat</th><th class=\"sun\">Sun</th></tr>\n",
      "<tr><td class=\"noday\">&nbsp;</td><td class=\"tue\">1</td><td class=\"wed\">2</td><td class=\"thu\">3</td><td class=\"fri\">4</td><td class=\"sat\">5</td><td class=\"sun\">6</td></tr>\n",
      "<tr><td class=\"mon\">7</td><td class=\"tue\">8</td><td class=\"wed\">9</td><td class=\"thu\">10</td><td class=\"fri\">11</td><td class=\"sat\">12</td><td class=\"sun\">13</td></tr>\n",
      "<tr><td class=\"mon\">14</td><td class=\"tue\">15</td><td class=\"wed\">16</td><td class=\"thu\">17</td><td class=\"fri\">18</td><td class=\"sat\">19</td><td class=\"sun\">20</td></tr>\n",
      "<tr><td class=\"mon\">21</td><td class=\"tue\">22</td><td class=\"wed\">23</td><td class=\"thu\">24</td><td class=\"fri\">25</td><td class=\"sat\">26</td><td class=\"sun\">27</td></tr>\n",
      "<tr><td class=\"mon\">28</td><td class=\"tue\">29</td><td class=\"wed\">30</td><td class=\"thu\">31</td><td class=\"noday\">&nbsp;</td><td class=\"noday\">&nbsp;</td><td class=\"noday\">&nbsp;</td></tr>\n",
      "</table>\n",
      "</td></tr></table>\n"
     ]
    }
   ],
   "source": [
    "print(hc.formatyear(2020, 8))"
   ]
  },
  {
   "cell_type": "code",
   "execution_count": 65,
   "metadata": {},
   "outputs": [
    {
     "name": "stdout",
     "output_type": "stream",
     "text": [
      "b'<?xml version=\"1.0\" encoding=\"utf-8\"?>\\n<!DOCTYPE html PUBLIC \"-//W3C//DTD XHTML 1.0 Strict//EN\" \"http://www.w3.org/TR/xhtml1/DTD/xhtml1-strict.dtd\">\\n<html>\\n<head>\\n<meta http-equiv=\"Content-Type\" content=\"text/html; charset=utf-8\" />\\n<title>Calendar for 2020</title>\\n</head>\\n<body>\\n<table border=\"0\" cellpadding=\"0\" cellspacing=\"0\" class=\"year\">\\n<tr><th colspan=\"8\" class=\"year\">2020</th></tr><tr><td><table border=\"0\" cellpadding=\"0\" cellspacing=\"0\" class=\"month\">\\n<tr><th colspan=\"7\" class=\"month\">January</th></tr>\\n<tr><th class=\"mon\">Mon</th><th class=\"tue\">Tue</th><th class=\"wed\">Wed</th><th class=\"thu\">Thu</th><th class=\"fri\">Fri</th><th class=\"sat\">Sat</th><th class=\"sun\">Sun</th></tr>\\n<tr><td class=\"noday\">&nbsp;</td><td class=\"noday\">&nbsp;</td><td class=\"wed\">1</td><td class=\"thu\">2</td><td class=\"fri\">3</td><td class=\"sat\">4</td><td class=\"sun\">5</td></tr>\\n<tr><td class=\"mon\">6</td><td class=\"tue\">7</td><td class=\"wed\">8</td><td class=\"thu\">9</td><td class=\"fri\">10</td><td class=\"sat\">11</td><td class=\"sun\">12</td></tr>\\n<tr><td class=\"mon\">13</td><td class=\"tue\">14</td><td class=\"wed\">15</td><td class=\"thu\">16</td><td class=\"fri\">17</td><td class=\"sat\">18</td><td class=\"sun\">19</td></tr>\\n<tr><td class=\"mon\">20</td><td class=\"tue\">21</td><td class=\"wed\">22</td><td class=\"thu\">23</td><td class=\"fri\">24</td><td class=\"sat\">25</td><td class=\"sun\">26</td></tr>\\n<tr><td class=\"mon\">27</td><td class=\"tue\">28</td><td class=\"wed\">29</td><td class=\"thu\">30</td><td class=\"fri\">31</td><td class=\"noday\">&nbsp;</td><td class=\"noday\">&nbsp;</td></tr>\\n</table>\\n</td><td><table border=\"0\" cellpadding=\"0\" cellspacing=\"0\" class=\"month\">\\n<tr><th colspan=\"7\" class=\"month\">February</th></tr>\\n<tr><th class=\"mon\">Mon</th><th class=\"tue\">Tue</th><th class=\"wed\">Wed</th><th class=\"thu\">Thu</th><th class=\"fri\">Fri</th><th class=\"sat\">Sat</th><th class=\"sun\">Sun</th></tr>\\n<tr><td class=\"noday\">&nbsp;</td><td class=\"noday\">&nbsp;</td><td class=\"noday\">&nbsp;</td><td class=\"noday\">&nbsp;</td><td class=\"noday\">&nbsp;</td><td class=\"sat\">1</td><td class=\"sun\">2</td></tr>\\n<tr><td class=\"mon\">3</td><td class=\"tue\">4</td><td class=\"wed\">5</td><td class=\"thu\">6</td><td class=\"fri\">7</td><td class=\"sat\">8</td><td class=\"sun\">9</td></tr>\\n<tr><td class=\"mon\">10</td><td class=\"tue\">11</td><td class=\"wed\">12</td><td class=\"thu\">13</td><td class=\"fri\">14</td><td class=\"sat\">15</td><td class=\"sun\">16</td></tr>\\n<tr><td class=\"mon\">17</td><td class=\"tue\">18</td><td class=\"wed\">19</td><td class=\"thu\">20</td><td class=\"fri\">21</td><td class=\"sat\">22</td><td class=\"sun\">23</td></tr>\\n<tr><td class=\"mon\">24</td><td class=\"tue\">25</td><td class=\"wed\">26</td><td class=\"thu\">27</td><td class=\"fri\">28</td><td class=\"sat\">29</td><td class=\"noday\">&nbsp;</td></tr>\\n</table>\\n</td><td><table border=\"0\" cellpadding=\"0\" cellspacing=\"0\" class=\"month\">\\n<tr><th colspan=\"7\" class=\"month\">March</th></tr>\\n<tr><th class=\"mon\">Mon</th><th class=\"tue\">Tue</th><th class=\"wed\">Wed</th><th class=\"thu\">Thu</th><th class=\"fri\">Fri</th><th class=\"sat\">Sat</th><th class=\"sun\">Sun</th></tr>\\n<tr><td class=\"noday\">&nbsp;</td><td class=\"noday\">&nbsp;</td><td class=\"noday\">&nbsp;</td><td class=\"noday\">&nbsp;</td><td class=\"noday\">&nbsp;</td><td class=\"noday\">&nbsp;</td><td class=\"sun\">1</td></tr>\\n<tr><td class=\"mon\">2</td><td class=\"tue\">3</td><td class=\"wed\">4</td><td class=\"thu\">5</td><td class=\"fri\">6</td><td class=\"sat\">7</td><td class=\"sun\">8</td></tr>\\n<tr><td class=\"mon\">9</td><td class=\"tue\">10</td><td class=\"wed\">11</td><td class=\"thu\">12</td><td class=\"fri\">13</td><td class=\"sat\">14</td><td class=\"sun\">15</td></tr>\\n<tr><td class=\"mon\">16</td><td class=\"tue\">17</td><td class=\"wed\">18</td><td class=\"thu\">19</td><td class=\"fri\">20</td><td class=\"sat\">21</td><td class=\"sun\">22</td></tr>\\n<tr><td class=\"mon\">23</td><td class=\"tue\">24</td><td class=\"wed\">25</td><td class=\"thu\">26</td><td class=\"fri\">27</td><td class=\"sat\">28</td><td class=\"sun\">29</td></tr>\\n<tr><td class=\"mon\">30</td><td class=\"tue\">31</td><td class=\"noday\">&nbsp;</td><td class=\"noday\">&nbsp;</td><td class=\"noday\">&nbsp;</td><td class=\"noday\">&nbsp;</td><td class=\"noday\">&nbsp;</td></tr>\\n</table>\\n</td><td><table border=\"0\" cellpadding=\"0\" cellspacing=\"0\" class=\"month\">\\n<tr><th colspan=\"7\" class=\"month\">April</th></tr>\\n<tr><th class=\"mon\">Mon</th><th class=\"tue\">Tue</th><th class=\"wed\">Wed</th><th class=\"thu\">Thu</th><th class=\"fri\">Fri</th><th class=\"sat\">Sat</th><th class=\"sun\">Sun</th></tr>\\n<tr><td class=\"noday\">&nbsp;</td><td class=\"noday\">&nbsp;</td><td class=\"wed\">1</td><td class=\"thu\">2</td><td class=\"fri\">3</td><td class=\"sat\">4</td><td class=\"sun\">5</td></tr>\\n<tr><td class=\"mon\">6</td><td class=\"tue\">7</td><td class=\"wed\">8</td><td class=\"thu\">9</td><td class=\"fri\">10</td><td class=\"sat\">11</td><td class=\"sun\">12</td></tr>\\n<tr><td class=\"mon\">13</td><td class=\"tue\">14</td><td class=\"wed\">15</td><td class=\"thu\">16</td><td class=\"fri\">17</td><td class=\"sat\">18</td><td class=\"sun\">19</td></tr>\\n<tr><td class=\"mon\">20</td><td class=\"tue\">21</td><td class=\"wed\">22</td><td class=\"thu\">23</td><td class=\"fri\">24</td><td class=\"sat\">25</td><td class=\"sun\">26</td></tr>\\n<tr><td class=\"mon\">27</td><td class=\"tue\">28</td><td class=\"wed\">29</td><td class=\"thu\">30</td><td class=\"noday\">&nbsp;</td><td class=\"noday\">&nbsp;</td><td class=\"noday\">&nbsp;</td></tr>\\n</table>\\n</td><td><table border=\"0\" cellpadding=\"0\" cellspacing=\"0\" class=\"month\">\\n<tr><th colspan=\"7\" class=\"month\">May</th></tr>\\n<tr><th class=\"mon\">Mon</th><th class=\"tue\">Tue</th><th class=\"wed\">Wed</th><th class=\"thu\">Thu</th><th class=\"fri\">Fri</th><th class=\"sat\">Sat</th><th class=\"sun\">Sun</th></tr>\\n<tr><td class=\"noday\">&nbsp;</td><td class=\"noday\">&nbsp;</td><td class=\"noday\">&nbsp;</td><td class=\"noday\">&nbsp;</td><td class=\"fri\">1</td><td class=\"sat\">2</td><td class=\"sun\">3</td></tr>\\n<tr><td class=\"mon\">4</td><td class=\"tue\">5</td><td class=\"wed\">6</td><td class=\"thu\">7</td><td class=\"fri\">8</td><td class=\"sat\">9</td><td class=\"sun\">10</td></tr>\\n<tr><td class=\"mon\">11</td><td class=\"tue\">12</td><td class=\"wed\">13</td><td class=\"thu\">14</td><td class=\"fri\">15</td><td class=\"sat\">16</td><td class=\"sun\">17</td></tr>\\n<tr><td class=\"mon\">18</td><td class=\"tue\">19</td><td class=\"wed\">20</td><td class=\"thu\">21</td><td class=\"fri\">22</td><td class=\"sat\">23</td><td class=\"sun\">24</td></tr>\\n<tr><td class=\"mon\">25</td><td class=\"tue\">26</td><td class=\"wed\">27</td><td class=\"thu\">28</td><td class=\"fri\">29</td><td class=\"sat\">30</td><td class=\"sun\">31</td></tr>\\n</table>\\n</td><td><table border=\"0\" cellpadding=\"0\" cellspacing=\"0\" class=\"month\">\\n<tr><th colspan=\"7\" class=\"month\">June</th></tr>\\n<tr><th class=\"mon\">Mon</th><th class=\"tue\">Tue</th><th class=\"wed\">Wed</th><th class=\"thu\">Thu</th><th class=\"fri\">Fri</th><th class=\"sat\">Sat</th><th class=\"sun\">Sun</th></tr>\\n<tr><td class=\"mon\">1</td><td class=\"tue\">2</td><td class=\"wed\">3</td><td class=\"thu\">4</td><td class=\"fri\">5</td><td class=\"sat\">6</td><td class=\"sun\">7</td></tr>\\n<tr><td class=\"mon\">8</td><td class=\"tue\">9</td><td class=\"wed\">10</td><td class=\"thu\">11</td><td class=\"fri\">12</td><td class=\"sat\">13</td><td class=\"sun\">14</td></tr>\\n<tr><td class=\"mon\">15</td><td class=\"tue\">16</td><td class=\"wed\">17</td><td class=\"thu\">18</td><td class=\"fri\">19</td><td class=\"sat\">20</td><td class=\"sun\">21</td></tr>\\n<tr><td class=\"mon\">22</td><td class=\"tue\">23</td><td class=\"wed\">24</td><td class=\"thu\">25</td><td class=\"fri\">26</td><td class=\"sat\">27</td><td class=\"sun\">28</td></tr>\\n<tr><td class=\"mon\">29</td><td class=\"tue\">30</td><td class=\"noday\">&nbsp;</td><td class=\"noday\">&nbsp;</td><td class=\"noday\">&nbsp;</td><td class=\"noday\">&nbsp;</td><td class=\"noday\">&nbsp;</td></tr>\\n</table>\\n</td><td><table border=\"0\" cellpadding=\"0\" cellspacing=\"0\" class=\"month\">\\n<tr><th colspan=\"7\" class=\"month\">July</th></tr>\\n<tr><th class=\"mon\">Mon</th><th class=\"tue\">Tue</th><th class=\"wed\">Wed</th><th class=\"thu\">Thu</th><th class=\"fri\">Fri</th><th class=\"sat\">Sat</th><th class=\"sun\">Sun</th></tr>\\n<tr><td class=\"noday\">&nbsp;</td><td class=\"noday\">&nbsp;</td><td class=\"wed\">1</td><td class=\"thu\">2</td><td class=\"fri\">3</td><td class=\"sat\">4</td><td class=\"sun\">5</td></tr>\\n<tr><td class=\"mon\">6</td><td class=\"tue\">7</td><td class=\"wed\">8</td><td class=\"thu\">9</td><td class=\"fri\">10</td><td class=\"sat\">11</td><td class=\"sun\">12</td></tr>\\n<tr><td class=\"mon\">13</td><td class=\"tue\">14</td><td class=\"wed\">15</td><td class=\"thu\">16</td><td class=\"fri\">17</td><td class=\"sat\">18</td><td class=\"sun\">19</td></tr>\\n<tr><td class=\"mon\">20</td><td class=\"tue\">21</td><td class=\"wed\">22</td><td class=\"thu\">23</td><td class=\"fri\">24</td><td class=\"sat\">25</td><td class=\"sun\">26</td></tr>\\n<tr><td class=\"mon\">27</td><td class=\"tue\">28</td><td class=\"wed\">29</td><td class=\"thu\">30</td><td class=\"fri\">31</td><td class=\"noday\">&nbsp;</td><td class=\"noday\">&nbsp;</td></tr>\\n</table>\\n</td><td><table border=\"0\" cellpadding=\"0\" cellspacing=\"0\" class=\"month\">\\n<tr><th colspan=\"7\" class=\"month\">August</th></tr>\\n<tr><th class=\"mon\">Mon</th><th class=\"tue\">Tue</th><th class=\"wed\">Wed</th><th class=\"thu\">Thu</th><th class=\"fri\">Fri</th><th class=\"sat\">Sat</th><th class=\"sun\">Sun</th></tr>\\n<tr><td class=\"noday\">&nbsp;</td><td class=\"noday\">&nbsp;</td><td class=\"noday\">&nbsp;</td><td class=\"noday\">&nbsp;</td><td class=\"noday\">&nbsp;</td><td class=\"sat\">1</td><td class=\"sun\">2</td></tr>\\n<tr><td class=\"mon\">3</td><td class=\"tue\">4</td><td class=\"wed\">5</td><td class=\"thu\">6</td><td class=\"fri\">7</td><td class=\"sat\">8</td><td class=\"sun\">9</td></tr>\\n<tr><td class=\"mon\">10</td><td class=\"tue\">11</td><td class=\"wed\">12</td><td class=\"thu\">13</td><td class=\"fri\">14</td><td class=\"sat\">15</td><td class=\"sun\">16</td></tr>\\n<tr><td class=\"mon\">17</td><td class=\"tue\">18</td><td class=\"wed\">19</td><td class=\"thu\">20</td><td class=\"fri\">21</td><td class=\"sat\">22</td><td class=\"sun\">23</td></tr>\\n<tr><td class=\"mon\">24</td><td class=\"tue\">25</td><td class=\"wed\">26</td><td class=\"thu\">27</td><td class=\"fri\">28</td><td class=\"sat\">29</td><td class=\"sun\">30</td></tr>\\n<tr><td class=\"mon\">31</td><td class=\"noday\">&nbsp;</td><td class=\"noday\">&nbsp;</td><td class=\"noday\">&nbsp;</td><td class=\"noday\">&nbsp;</td><td class=\"noday\">&nbsp;</td><td class=\"noday\">&nbsp;</td></tr>\\n</table>\\n</td></tr><tr><td><table border=\"0\" cellpadding=\"0\" cellspacing=\"0\" class=\"month\">\\n<tr><th colspan=\"7\" class=\"month\">September</th></tr>\\n<tr><th class=\"mon\">Mon</th><th class=\"tue\">Tue</th><th class=\"wed\">Wed</th><th class=\"thu\">Thu</th><th class=\"fri\">Fri</th><th class=\"sat\">Sat</th><th class=\"sun\">Sun</th></tr>\\n<tr><td class=\"noday\">&nbsp;</td><td class=\"tue\">1</td><td class=\"wed\">2</td><td class=\"thu\">3</td><td class=\"fri\">4</td><td class=\"sat\">5</td><td class=\"sun\">6</td></tr>\\n<tr><td class=\"mon\">7</td><td class=\"tue\">8</td><td class=\"wed\">9</td><td class=\"thu\">10</td><td class=\"fri\">11</td><td class=\"sat\">12</td><td class=\"sun\">13</td></tr>\\n<tr><td class=\"mon\">14</td><td class=\"tue\">15</td><td class=\"wed\">16</td><td class=\"thu\">17</td><td class=\"fri\">18</td><td class=\"sat\">19</td><td class=\"sun\">20</td></tr>\\n<tr><td class=\"mon\">21</td><td class=\"tue\">22</td><td class=\"wed\">23</td><td class=\"thu\">24</td><td class=\"fri\">25</td><td class=\"sat\">26</td><td class=\"sun\">27</td></tr>\\n<tr><td class=\"mon\">28</td><td class=\"tue\">29</td><td class=\"wed\">30</td><td class=\"noday\">&nbsp;</td><td class=\"noday\">&nbsp;</td><td class=\"noday\">&nbsp;</td><td class=\"noday\">&nbsp;</td></tr>\\n</table>\\n</td><td><table border=\"0\" cellpadding=\"0\" cellspacing=\"0\" class=\"month\">\\n<tr><th colspan=\"7\" class=\"month\">October</th></tr>\\n<tr><th class=\"mon\">Mon</th><th class=\"tue\">Tue</th><th class=\"wed\">Wed</th><th class=\"thu\">Thu</th><th class=\"fri\">Fri</th><th class=\"sat\">Sat</th><th class=\"sun\">Sun</th></tr>\\n<tr><td class=\"noday\">&nbsp;</td><td class=\"noday\">&nbsp;</td><td class=\"noday\">&nbsp;</td><td class=\"thu\">1</td><td class=\"fri\">2</td><td class=\"sat\">3</td><td class=\"sun\">4</td></tr>\\n<tr><td class=\"mon\">5</td><td class=\"tue\">6</td><td class=\"wed\">7</td><td class=\"thu\">8</td><td class=\"fri\">9</td><td class=\"sat\">10</td><td class=\"sun\">11</td></tr>\\n<tr><td class=\"mon\">12</td><td class=\"tue\">13</td><td class=\"wed\">14</td><td class=\"thu\">15</td><td class=\"fri\">16</td><td class=\"sat\">17</td><td class=\"sun\">18</td></tr>\\n<tr><td class=\"mon\">19</td><td class=\"tue\">20</td><td class=\"wed\">21</td><td class=\"thu\">22</td><td class=\"fri\">23</td><td class=\"sat\">24</td><td class=\"sun\">25</td></tr>\\n<tr><td class=\"mon\">26</td><td class=\"tue\">27</td><td class=\"wed\">28</td><td class=\"thu\">29</td><td class=\"fri\">30</td><td class=\"sat\">31</td><td class=\"noday\">&nbsp;</td></tr>\\n</table>\\n</td><td><table border=\"0\" cellpadding=\"0\" cellspacing=\"0\" class=\"month\">\\n<tr><th colspan=\"7\" class=\"month\">November</th></tr>\\n<tr><th class=\"mon\">Mon</th><th class=\"tue\">Tue</th><th class=\"wed\">Wed</th><th class=\"thu\">Thu</th><th class=\"fri\">Fri</th><th class=\"sat\">Sat</th><th class=\"sun\">Sun</th></tr>\\n<tr><td class=\"noday\">&nbsp;</td><td class=\"noday\">&nbsp;</td><td class=\"noday\">&nbsp;</td><td class=\"noday\">&nbsp;</td><td class=\"noday\">&nbsp;</td><td class=\"noday\">&nbsp;</td><td class=\"sun\">1</td></tr>\\n<tr><td class=\"mon\">2</td><td class=\"tue\">3</td><td class=\"wed\">4</td><td class=\"thu\">5</td><td class=\"fri\">6</td><td class=\"sat\">7</td><td class=\"sun\">8</td></tr>\\n<tr><td class=\"mon\">9</td><td class=\"tue\">10</td><td class=\"wed\">11</td><td class=\"thu\">12</td><td class=\"fri\">13</td><td class=\"sat\">14</td><td class=\"sun\">15</td></tr>\\n<tr><td class=\"mon\">16</td><td class=\"tue\">17</td><td class=\"wed\">18</td><td class=\"thu\">19</td><td class=\"fri\">20</td><td class=\"sat\">21</td><td class=\"sun\">22</td></tr>\\n<tr><td class=\"mon\">23</td><td class=\"tue\">24</td><td class=\"wed\">25</td><td class=\"thu\">26</td><td class=\"fri\">27</td><td class=\"sat\">28</td><td class=\"sun\">29</td></tr>\\n<tr><td class=\"mon\">30</td><td class=\"noday\">&nbsp;</td><td class=\"noday\">&nbsp;</td><td class=\"noday\">&nbsp;</td><td class=\"noday\">&nbsp;</td><td class=\"noday\">&nbsp;</td><td class=\"noday\">&nbsp;</td></tr>\\n</table>\\n</td><td><table border=\"0\" cellpadding=\"0\" cellspacing=\"0\" class=\"month\">\\n<tr><th colspan=\"7\" class=\"month\">December</th></tr>\\n<tr><th class=\"mon\">Mon</th><th class=\"tue\">Tue</th><th class=\"wed\">Wed</th><th class=\"thu\">Thu</th><th class=\"fri\">Fri</th><th class=\"sat\">Sat</th><th class=\"sun\">Sun</th></tr>\\n<tr><td class=\"noday\">&nbsp;</td><td class=\"tue\">1</td><td class=\"wed\">2</td><td class=\"thu\">3</td><td class=\"fri\">4</td><td class=\"sat\">5</td><td class=\"sun\">6</td></tr>\\n<tr><td class=\"mon\">7</td><td class=\"tue\">8</td><td class=\"wed\">9</td><td class=\"thu\">10</td><td class=\"fri\">11</td><td class=\"sat\">12</td><td class=\"sun\">13</td></tr>\\n<tr><td class=\"mon\">14</td><td class=\"tue\">15</td><td class=\"wed\">16</td><td class=\"thu\">17</td><td class=\"fri\">18</td><td class=\"sat\">19</td><td class=\"sun\">20</td></tr>\\n<tr><td class=\"mon\">21</td><td class=\"tue\">22</td><td class=\"wed\">23</td><td class=\"thu\">24</td><td class=\"fri\">25</td><td class=\"sat\">26</td><td class=\"sun\">27</td></tr>\\n<tr><td class=\"mon\">28</td><td class=\"tue\">29</td><td class=\"wed\">30</td><td class=\"thu\">31</td><td class=\"noday\">&nbsp;</td><td class=\"noday\">&nbsp;</td><td class=\"noday\">&nbsp;</td></tr>\\n</table>\\n</td></tr></table></body>\\n</html>\\n'\n"
     ]
    }
   ],
   "source": [
    "print(hc.formatyearpage(2020, 8, css=None, encoding=None))"
   ]
  },
  {
   "cell_type": "markdown",
   "metadata": {},
   "source": [
    "### LocaleHTMLCalendar "
   ]
  },
  {
   "cell_type": "code",
   "execution_count": 66,
   "metadata": {},
   "outputs": [
    {
     "ename": "Error",
     "evalue": "unsupported locale setting",
     "output_type": "error",
     "traceback": [
      "\u001b[0;31m---------------------------------------------------------------------------\u001b[0m",
      "\u001b[0;31mError\u001b[0m                                     Traceback (most recent call last)",
      "Cell \u001b[0;32mIn[66], line 2\u001b[0m\n\u001b[1;32m      1\u001b[0m cal \u001b[39m=\u001b[39m calendar\u001b[39m.\u001b[39mLocaleHTMLCalendar(locale\u001b[39m=\u001b[39m\u001b[39m\"\u001b[39m\u001b[39men-US\u001b[39m\u001b[39m\"\u001b[39m)\n\u001b[0;32m----> 2\u001b[0m \u001b[39mprint\u001b[39m(cal\u001b[39m.\u001b[39;49mformatmonth(\u001b[39m2020\u001b[39;49m, \u001b[39m8\u001b[39;49m))\n",
      "File \u001b[0;32m~/.python/current/lib/python3.10/calendar.py:489\u001b[0m, in \u001b[0;36mHTMLCalendar.formatmonth\u001b[0;34m(self, theyear, themonth, withyear)\u001b[0m\n\u001b[1;32m    486\u001b[0m a(\u001b[39m'\u001b[39m\u001b[39m<table border=\u001b[39m\u001b[39m\"\u001b[39m\u001b[39m0\u001b[39m\u001b[39m\"\u001b[39m\u001b[39m cellpadding=\u001b[39m\u001b[39m\"\u001b[39m\u001b[39m0\u001b[39m\u001b[39m\"\u001b[39m\u001b[39m cellspacing=\u001b[39m\u001b[39m\"\u001b[39m\u001b[39m0\u001b[39m\u001b[39m\"\u001b[39m\u001b[39m class=\u001b[39m\u001b[39m\"\u001b[39m\u001b[39m%s\u001b[39;00m\u001b[39m\"\u001b[39m\u001b[39m>\u001b[39m\u001b[39m'\u001b[39m \u001b[39m%\u001b[39m (\n\u001b[1;32m    487\u001b[0m     \u001b[39mself\u001b[39m\u001b[39m.\u001b[39mcssclass_month))\n\u001b[1;32m    488\u001b[0m a(\u001b[39m'\u001b[39m\u001b[39m\\n\u001b[39;00m\u001b[39m'\u001b[39m)\n\u001b[0;32m--> 489\u001b[0m a(\u001b[39mself\u001b[39;49m\u001b[39m.\u001b[39;49mformatmonthname(theyear, themonth, withyear\u001b[39m=\u001b[39;49mwithyear))\n\u001b[1;32m    490\u001b[0m a(\u001b[39m'\u001b[39m\u001b[39m\\n\u001b[39;00m\u001b[39m'\u001b[39m)\n\u001b[1;32m    491\u001b[0m a(\u001b[39mself\u001b[39m\u001b[39m.\u001b[39mformatweekheader())\n",
      "File \u001b[0;32m~/.python/current/lib/python3.10/calendar.py:601\u001b[0m, in \u001b[0;36mLocaleHTMLCalendar.formatmonthname\u001b[0;34m(self, theyear, themonth, withyear)\u001b[0m\n\u001b[1;32m    600\u001b[0m \u001b[39mdef\u001b[39;00m \u001b[39mformatmonthname\u001b[39m(\u001b[39mself\u001b[39m, theyear, themonth, withyear\u001b[39m=\u001b[39m\u001b[39mTrue\u001b[39;00m):\n\u001b[0;32m--> 601\u001b[0m     \u001b[39mwith\u001b[39;00m different_locale(\u001b[39mself\u001b[39m\u001b[39m.\u001b[39mlocale):\n\u001b[1;32m    602\u001b[0m         \u001b[39mreturn\u001b[39;00m \u001b[39msuper\u001b[39m()\u001b[39m.\u001b[39mformatmonthname(theyear, themonth, withyear)\n",
      "File \u001b[0;32m~/.python/current/lib/python3.10/calendar.py:554\u001b[0m, in \u001b[0;36mdifferent_locale.__enter__\u001b[0;34m(self)\u001b[0m\n\u001b[1;32m    552\u001b[0m \u001b[39mdef\u001b[39;00m \u001b[39m__enter__\u001b[39m(\u001b[39mself\u001b[39m):\n\u001b[1;32m    553\u001b[0m     \u001b[39mself\u001b[39m\u001b[39m.\u001b[39moldlocale \u001b[39m=\u001b[39m _locale\u001b[39m.\u001b[39mgetlocale(_locale\u001b[39m.\u001b[39mLC_TIME)\n\u001b[0;32m--> 554\u001b[0m     _locale\u001b[39m.\u001b[39;49msetlocale(_locale\u001b[39m.\u001b[39;49mLC_TIME, \u001b[39mself\u001b[39;49m\u001b[39m.\u001b[39;49mlocale)\n",
      "File \u001b[0;32m~/.python/current/lib/python3.10/locale.py:620\u001b[0m, in \u001b[0;36msetlocale\u001b[0;34m(category, locale)\u001b[0m\n\u001b[1;32m    617\u001b[0m \u001b[39mif\u001b[39;00m locale \u001b[39mand\u001b[39;00m \u001b[39mnot\u001b[39;00m \u001b[39misinstance\u001b[39m(locale, _builtin_str):\n\u001b[1;32m    618\u001b[0m     \u001b[39m# convert to string\u001b[39;00m\n\u001b[1;32m    619\u001b[0m     locale \u001b[39m=\u001b[39m normalize(_build_localename(locale))\n\u001b[0;32m--> 620\u001b[0m \u001b[39mreturn\u001b[39;00m _setlocale(category, locale)\n",
      "\u001b[0;31mError\u001b[0m: unsupported locale setting"
     ]
    }
   ],
   "source": [
    "cal = calendar.LocaleHTMLCalendar(locale=\"en-US\")\n",
    "print(cal.formatmonth(2020, 8))"
   ]
  },
  {
   "cell_type": "code",
   "execution_count": 67,
   "metadata": {
    "tags": [
     "outputPrepend"
    ]
   },
   "outputs": [
    {
     "name": "stdout",
     "output_type": "stream",
     "text": [
      "Help on module calendar:\n",
      "\n",
      "NAME\n",
      "    calendar - Calendar printing functions\n",
      "\n",
      "MODULE REFERENCE\n",
      "    https://docs.python.org/3.10/library/calendar.html\n",
      "    \n",
      "    The following documentation is automatically generated from the Python\n",
      "    source files.  It may be incomplete, incorrect or include features that\n",
      "    are considered implementation detail and may vary between Python\n",
      "    implementations.  When in doubt, consult the module reference at the\n",
      "    location listed above.\n",
      "\n",
      "DESCRIPTION\n",
      "    Note when comparing these calendars to the ones printed by cal(1): By\n",
      "    default, these calendars have Monday as the first day of the week, and\n",
      "    Sunday as the last (the European convention). Use setfirstweekday() to\n",
      "    set the first day of the week (0=Monday, 6=Sunday).\n",
      "\n",
      "CLASSES\n",
      "    builtins.ValueError(builtins.Exception)\n",
      "        IllegalMonthError\n",
      "        IllegalWeekdayError\n",
      "    builtins.object\n",
      "        Calendar\n",
      "            HTMLCalendar\n",
      "                LocaleHTMLCalendar\n",
      "            TextCalendar\n",
      "                LocaleTextCalendar\n",
      "    \n",
      "    class Calendar(builtins.object)\n",
      "     |  Calendar(firstweekday=0)\n",
      "     |  \n",
      "     |  Base calendar class. This class doesn't do any formatting. It simply\n",
      "     |  provides data to subclasses.\n",
      "     |  \n",
      "     |  Methods defined here:\n",
      "     |  \n",
      "     |  __init__(self, firstweekday=0)\n",
      "     |      Initialize self.  See help(type(self)) for accurate signature.\n",
      "     |  \n",
      "     |  getfirstweekday(self)\n",
      "     |  \n",
      "     |  itermonthdates(self, year, month)\n",
      "     |      Return an iterator for one month. The iterator will yield datetime.date\n",
      "     |      values and will always iterate through complete weeks, so it will yield\n",
      "     |      dates outside the specified month.\n",
      "     |  \n",
      "     |  itermonthdays(self, year, month)\n",
      "     |      Like itermonthdates(), but will yield day numbers. For days outside\n",
      "     |      the specified month the day number is 0.\n",
      "     |  \n",
      "     |  itermonthdays2(self, year, month)\n",
      "     |      Like itermonthdates(), but will yield (day number, weekday number)\n",
      "     |      tuples. For days outside the specified month the day number is 0.\n",
      "     |  \n",
      "     |  itermonthdays3(self, year, month)\n",
      "     |      Like itermonthdates(), but will yield (year, month, day) tuples.  Can be\n",
      "     |      used for dates outside of datetime.date range.\n",
      "     |  \n",
      "     |  itermonthdays4(self, year, month)\n",
      "     |      Like itermonthdates(), but will yield (year, month, day, day_of_week) tuples.\n",
      "     |      Can be used for dates outside of datetime.date range.\n",
      "     |  \n",
      "     |  iterweekdays(self)\n",
      "     |      Return an iterator for one week of weekday numbers starting with the\n",
      "     |      configured first one.\n",
      "     |  \n",
      "     |  monthdatescalendar(self, year, month)\n",
      "     |      Return a matrix (list of lists) representing a month's calendar.\n",
      "     |      Each row represents a week; week entries are datetime.date values.\n",
      "     |  \n",
      "     |  monthdays2calendar(self, year, month)\n",
      "     |      Return a matrix representing a month's calendar.\n",
      "     |      Each row represents a week; week entries are\n",
      "     |      (day number, weekday number) tuples. Day numbers outside this month\n",
      "     |      are zero.\n",
      "     |  \n",
      "     |  monthdayscalendar(self, year, month)\n",
      "     |      Return a matrix representing a month's calendar.\n",
      "     |      Each row represents a week; days outside this month are zero.\n",
      "     |  \n",
      "     |  setfirstweekday(self, firstweekday)\n",
      "     |  \n",
      "     |  yeardatescalendar(self, year, width=3)\n",
      "     |      Return the data for the specified year ready for formatting. The return\n",
      "     |      value is a list of month rows. Each month row contains up to width months.\n",
      "     |      Each month contains between 4 and 6 weeks and each week contains 1-7\n",
      "     |      days. Days are datetime.date objects.\n",
      "     |  \n",
      "     |  yeardays2calendar(self, year, width=3)\n",
      "     |      Return the data for the specified year ready for formatting (similar to\n",
      "     |      yeardatescalendar()). Entries in the week lists are\n",
      "     |      (day number, weekday number) tuples. Day numbers outside this month are\n",
      "     |      zero.\n",
      "     |  \n",
      "     |  yeardayscalendar(self, year, width=3)\n",
      "     |      Return the data for the specified year ready for formatting (similar to\n",
      "     |      yeardatescalendar()). Entries in the week lists are day numbers.\n",
      "     |      Day numbers outside this month are zero.\n",
      "     |  \n",
      "     |  ----------------------------------------------------------------------\n",
      "     |  Data descriptors defined here:\n",
      "     |  \n",
      "     |  __dict__\n",
      "     |      dictionary for instance variables (if defined)\n",
      "     |  \n",
      "     |  __weakref__\n",
      "     |      list of weak references to the object (if defined)\n",
      "     |  \n",
      "     |  firstweekday\n",
      "    \n",
      "    class HTMLCalendar(Calendar)\n",
      "     |  HTMLCalendar(firstweekday=0)\n",
      "     |  \n",
      "     |  This calendar returns complete HTML pages.\n",
      "     |  \n",
      "     |  Method resolution order:\n",
      "     |      HTMLCalendar\n",
      "     |      Calendar\n",
      "     |      builtins.object\n",
      "     |  \n",
      "     |  Methods defined here:\n",
      "     |  \n",
      "     |  formatday(self, day, weekday)\n",
      "     |      Return a day as a table cell.\n",
      "     |  \n",
      "     |  formatmonth(self, theyear, themonth, withyear=True)\n",
      "     |      Return a formatted month as a table.\n",
      "     |  \n",
      "     |  formatmonthname(self, theyear, themonth, withyear=True)\n",
      "     |      Return a month name as a table row.\n",
      "     |  \n",
      "     |  formatweek(self, theweek)\n",
      "     |      Return a complete week as a table row.\n",
      "     |  \n",
      "     |  formatweekday(self, day)\n",
      "     |      Return a weekday name as a table header.\n",
      "     |  \n",
      "     |  formatweekheader(self)\n",
      "     |      Return a header for a week as a table row.\n",
      "     |  \n",
      "     |  formatyear(self, theyear, width=3)\n",
      "     |      Return a formatted year as a table of tables.\n",
      "     |  \n",
      "     |  formatyearpage(self, theyear, width=3, css='calendar.css', encoding=None)\n",
      "     |      Return a formatted year as a complete HTML page.\n",
      "     |  \n",
      "     |  ----------------------------------------------------------------------\n",
      "     |  Data and other attributes defined here:\n",
      "     |  \n",
      "     |  cssclass_month = 'month'\n",
      "     |  \n",
      "     |  cssclass_month_head = 'month'\n",
      "     |  \n",
      "     |  cssclass_noday = 'noday'\n",
      "     |  \n",
      "     |  cssclass_year = 'year'\n",
      "     |  \n",
      "     |  cssclass_year_head = 'year'\n",
      "     |  \n",
      "     |  cssclasses = ['mon', 'tue', 'wed', 'thu', 'fri', 'sat', 'sun']\n",
      "     |  \n",
      "     |  cssclasses_weekday_head = ['mon', 'tue', 'wed', 'thu', 'fri', 'sat', '...\n",
      "     |  \n",
      "     |  ----------------------------------------------------------------------\n",
      "     |  Methods inherited from Calendar:\n",
      "     |  \n",
      "     |  __init__(self, firstweekday=0)\n",
      "     |      Initialize self.  See help(type(self)) for accurate signature.\n",
      "     |  \n",
      "     |  getfirstweekday(self)\n",
      "     |  \n",
      "     |  itermonthdates(self, year, month)\n",
      "     |      Return an iterator for one month. The iterator will yield datetime.date\n",
      "     |      values and will always iterate through complete weeks, so it will yield\n",
      "     |      dates outside the specified month.\n",
      "     |  \n",
      "     |  itermonthdays(self, year, month)\n",
      "     |      Like itermonthdates(), but will yield day numbers. For days outside\n",
      "     |      the specified month the day number is 0.\n",
      "     |  \n",
      "     |  itermonthdays2(self, year, month)\n",
      "     |      Like itermonthdates(), but will yield (day number, weekday number)\n",
      "     |      tuples. For days outside the specified month the day number is 0.\n",
      "     |  \n",
      "     |  itermonthdays3(self, year, month)\n",
      "     |      Like itermonthdates(), but will yield (year, month, day) tuples.  Can be\n",
      "     |      used for dates outside of datetime.date range.\n",
      "     |  \n",
      "     |  itermonthdays4(self, year, month)\n",
      "     |      Like itermonthdates(), but will yield (year, month, day, day_of_week) tuples.\n",
      "     |      Can be used for dates outside of datetime.date range.\n",
      "     |  \n",
      "     |  iterweekdays(self)\n",
      "     |      Return an iterator for one week of weekday numbers starting with the\n",
      "     |      configured first one.\n",
      "     |  \n",
      "     |  monthdatescalendar(self, year, month)\n",
      "     |      Return a matrix (list of lists) representing a month's calendar.\n",
      "     |      Each row represents a week; week entries are datetime.date values.\n",
      "     |  \n",
      "     |  monthdays2calendar(self, year, month)\n",
      "     |      Return a matrix representing a month's calendar.\n",
      "     |      Each row represents a week; week entries are\n",
      "     |      (day number, weekday number) tuples. Day numbers outside this month\n",
      "     |      are zero.\n",
      "     |  \n",
      "     |  monthdayscalendar(self, year, month)\n",
      "     |      Return a matrix representing a month's calendar.\n",
      "     |      Each row represents a week; days outside this month are zero.\n",
      "     |  \n",
      "     |  setfirstweekday(self, firstweekday)\n",
      "     |  \n",
      "     |  yeardatescalendar(self, year, width=3)\n",
      "     |      Return the data for the specified year ready for formatting. The return\n",
      "     |      value is a list of month rows. Each month row contains up to width months.\n",
      "     |      Each month contains between 4 and 6 weeks and each week contains 1-7\n",
      "     |      days. Days are datetime.date objects.\n",
      "     |  \n",
      "     |  yeardays2calendar(self, year, width=3)\n",
      "     |      Return the data for the specified year ready for formatting (similar to\n",
      "     |      yeardatescalendar()). Entries in the week lists are\n",
      "     |      (day number, weekday number) tuples. Day numbers outside this month are\n",
      "     |      zero.\n",
      "     |  \n",
      "     |  yeardayscalendar(self, year, width=3)\n",
      "     |      Return the data for the specified year ready for formatting (similar to\n",
      "     |      yeardatescalendar()). Entries in the week lists are day numbers.\n",
      "     |      Day numbers outside this month are zero.\n",
      "     |  \n",
      "     |  ----------------------------------------------------------------------\n",
      "     |  Data descriptors inherited from Calendar:\n",
      "     |  \n",
      "     |  __dict__\n",
      "     |      dictionary for instance variables (if defined)\n",
      "     |  \n",
      "     |  __weakref__\n",
      "     |      list of weak references to the object (if defined)\n",
      "     |  \n",
      "     |  firstweekday\n",
      "    \n",
      "    class IllegalMonthError(builtins.ValueError)\n",
      "     |  IllegalMonthError(month)\n",
      "     |  \n",
      "     |  # Exceptions raised for bad input\n",
      "     |  \n",
      "     |  Method resolution order:\n",
      "     |      IllegalMonthError\n",
      "     |      builtins.ValueError\n",
      "     |      builtins.Exception\n",
      "     |      builtins.BaseException\n",
      "     |      builtins.object\n",
      "     |  \n",
      "     |  Methods defined here:\n",
      "     |  \n",
      "     |  __init__(self, month)\n",
      "     |      Initialize self.  See help(type(self)) for accurate signature.\n",
      "     |  \n",
      "     |  __str__(self)\n",
      "     |      Return str(self).\n",
      "     |  \n",
      "     |  ----------------------------------------------------------------------\n",
      "     |  Data descriptors defined here:\n",
      "     |  \n",
      "     |  __weakref__\n",
      "     |      list of weak references to the object (if defined)\n",
      "     |  \n",
      "     |  ----------------------------------------------------------------------\n",
      "     |  Static methods inherited from builtins.ValueError:\n",
      "     |  \n",
      "     |  __new__(*args, **kwargs) from builtins.type\n",
      "     |      Create and return a new object.  See help(type) for accurate signature.\n",
      "     |  \n",
      "     |  ----------------------------------------------------------------------\n",
      "     |  Methods inherited from builtins.BaseException:\n",
      "     |  \n",
      "     |  __delattr__(self, name, /)\n",
      "     |      Implement delattr(self, name).\n",
      "     |  \n",
      "     |  __getattribute__(self, name, /)\n",
      "     |      Return getattr(self, name).\n",
      "     |  \n",
      "     |  __reduce__(...)\n",
      "     |      Helper for pickle.\n",
      "     |  \n",
      "     |  __repr__(self, /)\n",
      "     |      Return repr(self).\n",
      "     |  \n",
      "     |  __setattr__(self, name, value, /)\n",
      "     |      Implement setattr(self, name, value).\n",
      "     |  \n",
      "     |  __setstate__(...)\n",
      "     |  \n",
      "     |  with_traceback(...)\n",
      "     |      Exception.with_traceback(tb) --\n",
      "     |      set self.__traceback__ to tb and return self.\n",
      "     |  \n",
      "     |  ----------------------------------------------------------------------\n",
      "     |  Data descriptors inherited from builtins.BaseException:\n",
      "     |  \n",
      "     |  __cause__\n",
      "     |      exception cause\n",
      "     |  \n",
      "     |  __context__\n",
      "     |      exception context\n",
      "     |  \n",
      "     |  __dict__\n",
      "     |  \n",
      "     |  __suppress_context__\n",
      "     |  \n",
      "     |  __traceback__\n",
      "     |  \n",
      "     |  args\n",
      "    \n",
      "    class IllegalWeekdayError(builtins.ValueError)\n",
      "     |  IllegalWeekdayError(weekday)\n",
      "     |  \n",
      "     |  Method resolution order:\n",
      "     |      IllegalWeekdayError\n",
      "     |      builtins.ValueError\n",
      "     |      builtins.Exception\n",
      "     |      builtins.BaseException\n",
      "     |      builtins.object\n",
      "     |  \n",
      "     |  Methods defined here:\n",
      "     |  \n",
      "     |  __init__(self, weekday)\n",
      "     |      Initialize self.  See help(type(self)) for accurate signature.\n",
      "     |  \n",
      "     |  __str__(self)\n",
      "     |      Return str(self).\n",
      "     |  \n",
      "     |  ----------------------------------------------------------------------\n",
      "     |  Data descriptors defined here:\n",
      "     |  \n",
      "     |  __weakref__\n",
      "     |      list of weak references to the object (if defined)\n",
      "     |  \n",
      "     |  ----------------------------------------------------------------------\n",
      "     |  Static methods inherited from builtins.ValueError:\n",
      "     |  \n",
      "     |  __new__(*args, **kwargs) from builtins.type\n",
      "     |      Create and return a new object.  See help(type) for accurate signature.\n",
      "     |  \n",
      "     |  ----------------------------------------------------------------------\n",
      "     |  Methods inherited from builtins.BaseException:\n",
      "     |  \n",
      "     |  __delattr__(self, name, /)\n",
      "     |      Implement delattr(self, name).\n",
      "     |  \n",
      "     |  __getattribute__(self, name, /)\n",
      "     |      Return getattr(self, name).\n",
      "     |  \n",
      "     |  __reduce__(...)\n",
      "     |      Helper for pickle.\n",
      "     |  \n",
      "     |  __repr__(self, /)\n",
      "     |      Return repr(self).\n",
      "     |  \n",
      "     |  __setattr__(self, name, value, /)\n",
      "     |      Implement setattr(self, name, value).\n",
      "     |  \n",
      "     |  __setstate__(...)\n",
      "     |  \n",
      "     |  with_traceback(...)\n",
      "     |      Exception.with_traceback(tb) --\n",
      "     |      set self.__traceback__ to tb and return self.\n",
      "     |  \n",
      "     |  ----------------------------------------------------------------------\n",
      "     |  Data descriptors inherited from builtins.BaseException:\n",
      "     |  \n",
      "     |  __cause__\n",
      "     |      exception cause\n",
      "     |  \n",
      "     |  __context__\n",
      "     |      exception context\n",
      "     |  \n",
      "     |  __dict__\n",
      "     |  \n",
      "     |  __suppress_context__\n",
      "     |  \n",
      "     |  __traceback__\n",
      "     |  \n",
      "     |  args\n",
      "    \n",
      "    class LocaleHTMLCalendar(HTMLCalendar)\n",
      "     |  LocaleHTMLCalendar(firstweekday=0, locale=None)\n",
      "     |  \n",
      "     |  This class can be passed a locale name in the constructor and will return\n",
      "     |  month and weekday names in the specified locale. If this locale includes\n",
      "     |  an encoding all strings containing month and weekday names will be returned\n",
      "     |  as unicode.\n",
      "     |  \n",
      "     |  Method resolution order:\n",
      "     |      LocaleHTMLCalendar\n",
      "     |      HTMLCalendar\n",
      "     |      Calendar\n",
      "     |      builtins.object\n",
      "     |  \n",
      "     |  Methods defined here:\n",
      "     |  \n",
      "     |  __init__(self, firstweekday=0, locale=None)\n",
      "     |      Initialize self.  See help(type(self)) for accurate signature.\n",
      "     |  \n",
      "     |  formatmonthname(self, theyear, themonth, withyear=True)\n",
      "     |      Return a month name as a table row.\n",
      "     |  \n",
      "     |  formatweekday(self, day)\n",
      "     |      Return a weekday name as a table header.\n",
      "     |  \n",
      "     |  ----------------------------------------------------------------------\n",
      "     |  Methods inherited from HTMLCalendar:\n",
      "     |  \n",
      "     |  formatday(self, day, weekday)\n",
      "     |      Return a day as a table cell.\n",
      "     |  \n",
      "     |  formatmonth(self, theyear, themonth, withyear=True)\n",
      "     |      Return a formatted month as a table.\n",
      "     |  \n",
      "     |  formatweek(self, theweek)\n",
      "     |      Return a complete week as a table row.\n",
      "     |  \n",
      "     |  formatweekheader(self)\n",
      "     |      Return a header for a week as a table row.\n",
      "     |  \n",
      "     |  formatyear(self, theyear, width=3)\n",
      "     |      Return a formatted year as a table of tables.\n",
      "     |  \n",
      "     |  formatyearpage(self, theyear, width=3, css='calendar.css', encoding=None)\n",
      "     |      Return a formatted year as a complete HTML page.\n",
      "     |  \n",
      "     |  ----------------------------------------------------------------------\n",
      "     |  Data and other attributes inherited from HTMLCalendar:\n",
      "     |  \n",
      "     |  cssclass_month = 'month'\n",
      "     |  \n",
      "     |  cssclass_month_head = 'month'\n",
      "     |  \n",
      "     |  cssclass_noday = 'noday'\n",
      "     |  \n",
      "     |  cssclass_year = 'year'\n",
      "     |  \n",
      "     |  cssclass_year_head = 'year'\n",
      "     |  \n",
      "     |  cssclasses = ['mon', 'tue', 'wed', 'thu', 'fri', 'sat', 'sun']\n",
      "     |  \n",
      "     |  cssclasses_weekday_head = ['mon', 'tue', 'wed', 'thu', 'fri', 'sat', '...\n",
      "     |  \n",
      "     |  ----------------------------------------------------------------------\n",
      "     |  Methods inherited from Calendar:\n",
      "     |  \n",
      "     |  getfirstweekday(self)\n",
      "     |  \n",
      "     |  itermonthdates(self, year, month)\n",
      "     |      Return an iterator for one month. The iterator will yield datetime.date\n",
      "     |      values and will always iterate through complete weeks, so it will yield\n",
      "     |      dates outside the specified month.\n",
      "     |  \n",
      "     |  itermonthdays(self, year, month)\n",
      "     |      Like itermonthdates(), but will yield day numbers. For days outside\n",
      "     |      the specified month the day number is 0.\n",
      "     |  \n",
      "     |  itermonthdays2(self, year, month)\n",
      "     |      Like itermonthdates(), but will yield (day number, weekday number)\n",
      "     |      tuples. For days outside the specified month the day number is 0.\n",
      "     |  \n",
      "     |  itermonthdays3(self, year, month)\n",
      "     |      Like itermonthdates(), but will yield (year, month, day) tuples.  Can be\n",
      "     |      used for dates outside of datetime.date range.\n",
      "     |  \n",
      "     |  itermonthdays4(self, year, month)\n",
      "     |      Like itermonthdates(), but will yield (year, month, day, day_of_week) tuples.\n",
      "     |      Can be used for dates outside of datetime.date range.\n",
      "     |  \n",
      "     |  iterweekdays(self)\n",
      "     |      Return an iterator for one week of weekday numbers starting with the\n",
      "     |      configured first one.\n",
      "     |  \n",
      "     |  monthdatescalendar(self, year, month)\n",
      "     |      Return a matrix (list of lists) representing a month's calendar.\n",
      "     |      Each row represents a week; week entries are datetime.date values.\n",
      "     |  \n",
      "     |  monthdays2calendar(self, year, month)\n",
      "     |      Return a matrix representing a month's calendar.\n",
      "     |      Each row represents a week; week entries are\n",
      "     |      (day number, weekday number) tuples. Day numbers outside this month\n",
      "     |      are zero.\n",
      "     |  \n",
      "     |  monthdayscalendar(self, year, month)\n",
      "     |      Return a matrix representing a month's calendar.\n",
      "     |      Each row represents a week; days outside this month are zero.\n",
      "     |  \n",
      "     |  setfirstweekday(self, firstweekday)\n",
      "     |  \n",
      "     |  yeardatescalendar(self, year, width=3)\n",
      "     |      Return the data for the specified year ready for formatting. The return\n",
      "     |      value is a list of month rows. Each month row contains up to width months.\n",
      "     |      Each month contains between 4 and 6 weeks and each week contains 1-7\n",
      "     |      days. Days are datetime.date objects.\n",
      "     |  \n",
      "     |  yeardays2calendar(self, year, width=3)\n",
      "     |      Return the data for the specified year ready for formatting (similar to\n",
      "     |      yeardatescalendar()). Entries in the week lists are\n",
      "     |      (day number, weekday number) tuples. Day numbers outside this month are\n",
      "     |      zero.\n",
      "     |  \n",
      "     |  yeardayscalendar(self, year, width=3)\n",
      "     |      Return the data for the specified year ready for formatting (similar to\n",
      "     |      yeardatescalendar()). Entries in the week lists are day numbers.\n",
      "     |      Day numbers outside this month are zero.\n",
      "     |  \n",
      "     |  ----------------------------------------------------------------------\n",
      "     |  Data descriptors inherited from Calendar:\n",
      "     |  \n",
      "     |  __dict__\n",
      "     |      dictionary for instance variables (if defined)\n",
      "     |  \n",
      "     |  __weakref__\n",
      "     |      list of weak references to the object (if defined)\n",
      "     |  \n",
      "     |  firstweekday\n",
      "    \n",
      "    class LocaleTextCalendar(TextCalendar)\n",
      "     |  LocaleTextCalendar(firstweekday=0, locale=None)\n",
      "     |  \n",
      "     |  This class can be passed a locale name in the constructor and will return\n",
      "     |  month and weekday names in the specified locale. If this locale includes\n",
      "     |  an encoding all strings containing month and weekday names will be returned\n",
      "     |  as unicode.\n",
      "     |  \n",
      "     |  Method resolution order:\n",
      "     |      LocaleTextCalendar\n",
      "     |      TextCalendar\n",
      "     |      Calendar\n",
      "     |      builtins.object\n",
      "     |  \n",
      "     |  Methods defined here:\n",
      "     |  \n",
      "     |  __init__(self, firstweekday=0, locale=None)\n",
      "     |      Initialize self.  See help(type(self)) for accurate signature.\n",
      "     |  \n",
      "     |  formatmonthname(self, theyear, themonth, width, withyear=True)\n",
      "     |      Return a formatted month name.\n",
      "     |  \n",
      "     |  formatweekday(self, day, width)\n",
      "     |      Returns a formatted week day name.\n",
      "     |  \n",
      "     |  ----------------------------------------------------------------------\n",
      "     |  Methods inherited from TextCalendar:\n",
      "     |  \n",
      "     |  formatday(self, day, weekday, width)\n",
      "     |      Returns a formatted day.\n",
      "     |  \n",
      "     |  formatmonth(self, theyear, themonth, w=0, l=0)\n",
      "     |      Return a month's calendar string (multi-line).\n",
      "     |  \n",
      "     |  formatweek(self, theweek, width)\n",
      "     |      Returns a single week in a string (no newline).\n",
      "     |  \n",
      "     |  formatweekheader(self, width)\n",
      "     |      Return a header for a week.\n",
      "     |  \n",
      "     |  formatyear(self, theyear, w=2, l=1, c=6, m=3)\n",
      "     |      Returns a year's calendar as a multi-line string.\n",
      "     |  \n",
      "     |  prmonth(self, theyear, themonth, w=0, l=0)\n",
      "     |      Print a month's calendar.\n",
      "     |  \n",
      "     |  prweek(self, theweek, width)\n",
      "     |      Print a single week (no newline).\n",
      "     |  \n",
      "     |  pryear(self, theyear, w=0, l=0, c=6, m=3)\n",
      "     |      Print a year's calendar.\n",
      "     |  \n",
      "     |  ----------------------------------------------------------------------\n",
      "     |  Methods inherited from Calendar:\n",
      "     |  \n",
      "     |  getfirstweekday(self)\n",
      "     |  \n",
      "     |  itermonthdates(self, year, month)\n",
      "     |      Return an iterator for one month. The iterator will yield datetime.date\n",
      "     |      values and will always iterate through complete weeks, so it will yield\n",
      "     |      dates outside the specified month.\n",
      "     |  \n",
      "     |  itermonthdays(self, year, month)\n",
      "     |      Like itermonthdates(), but will yield day numbers. For days outside\n",
      "     |      the specified month the day number is 0.\n",
      "     |  \n",
      "     |  itermonthdays2(self, year, month)\n",
      "     |      Like itermonthdates(), but will yield (day number, weekday number)\n",
      "     |      tuples. For days outside the specified month the day number is 0.\n",
      "     |  \n",
      "     |  itermonthdays3(self, year, month)\n",
      "     |      Like itermonthdates(), but will yield (year, month, day) tuples.  Can be\n",
      "     |      used for dates outside of datetime.date range.\n",
      "     |  \n",
      "     |  itermonthdays4(self, year, month)\n",
      "     |      Like itermonthdates(), but will yield (year, month, day, day_of_week) tuples.\n",
      "     |      Can be used for dates outside of datetime.date range.\n",
      "     |  \n",
      "     |  iterweekdays(self)\n",
      "     |      Return an iterator for one week of weekday numbers starting with the\n",
      "     |      configured first one.\n",
      "     |  \n",
      "     |  monthdatescalendar(self, year, month)\n",
      "     |      Return a matrix (list of lists) representing a month's calendar.\n",
      "     |      Each row represents a week; week entries are datetime.date values.\n",
      "     |  \n",
      "     |  monthdays2calendar(self, year, month)\n",
      "     |      Return a matrix representing a month's calendar.\n",
      "     |      Each row represents a week; week entries are\n",
      "     |      (day number, weekday number) tuples. Day numbers outside this month\n",
      "     |      are zero.\n",
      "     |  \n",
      "     |  monthdayscalendar(self, year, month)\n",
      "     |      Return a matrix representing a month's calendar.\n",
      "     |      Each row represents a week; days outside this month are zero.\n",
      "     |  \n",
      "     |  setfirstweekday(self, firstweekday)\n",
      "     |  \n",
      "     |  yeardatescalendar(self, year, width=3)\n",
      "     |      Return the data for the specified year ready for formatting. The return\n",
      "     |      value is a list of month rows. Each month row contains up to width months.\n",
      "     |      Each month contains between 4 and 6 weeks and each week contains 1-7\n",
      "     |      days. Days are datetime.date objects.\n",
      "     |  \n",
      "     |  yeardays2calendar(self, year, width=3)\n",
      "     |      Return the data for the specified year ready for formatting (similar to\n",
      "     |      yeardatescalendar()). Entries in the week lists are\n",
      "     |      (day number, weekday number) tuples. Day numbers outside this month are\n",
      "     |      zero.\n",
      "     |  \n",
      "     |  yeardayscalendar(self, year, width=3)\n",
      "     |      Return the data for the specified year ready for formatting (similar to\n",
      "     |      yeardatescalendar()). Entries in the week lists are day numbers.\n",
      "     |      Day numbers outside this month are zero.\n",
      "     |  \n",
      "     |  ----------------------------------------------------------------------\n",
      "     |  Data descriptors inherited from Calendar:\n",
      "     |  \n",
      "     |  __dict__\n",
      "     |      dictionary for instance variables (if defined)\n",
      "     |  \n",
      "     |  __weakref__\n",
      "     |      list of weak references to the object (if defined)\n",
      "     |  \n",
      "     |  firstweekday\n",
      "    \n",
      "    class TextCalendar(Calendar)\n",
      "     |  TextCalendar(firstweekday=0)\n",
      "     |  \n",
      "     |  Subclass of Calendar that outputs a calendar as a simple plain text\n",
      "     |  similar to the UNIX program cal.\n",
      "     |  \n",
      "     |  Method resolution order:\n",
      "     |      TextCalendar\n",
      "     |      Calendar\n",
      "     |      builtins.object\n",
      "     |  \n",
      "     |  Methods defined here:\n",
      "     |  \n",
      "     |  formatday(self, day, weekday, width)\n",
      "     |      Returns a formatted day.\n",
      "     |  \n",
      "     |  formatmonth(self, theyear, themonth, w=0, l=0)\n",
      "     |      Return a month's calendar string (multi-line).\n",
      "     |  \n",
      "     |  formatmonthname(self, theyear, themonth, width, withyear=True)\n",
      "     |      Return a formatted month name.\n",
      "     |  \n",
      "     |  formatweek(self, theweek, width)\n",
      "     |      Returns a single week in a string (no newline).\n",
      "     |  \n",
      "     |  formatweekday(self, day, width)\n",
      "     |      Returns a formatted week day name.\n",
      "     |  \n",
      "     |  formatweekheader(self, width)\n",
      "     |      Return a header for a week.\n",
      "     |  \n",
      "     |  formatyear(self, theyear, w=2, l=1, c=6, m=3)\n",
      "     |      Returns a year's calendar as a multi-line string.\n",
      "     |  \n",
      "     |  prmonth(self, theyear, themonth, w=0, l=0)\n",
      "     |      Print a month's calendar.\n",
      "     |  \n",
      "     |  prweek(self, theweek, width)\n",
      "     |      Print a single week (no newline).\n",
      "     |  \n",
      "     |  pryear(self, theyear, w=0, l=0, c=6, m=3)\n",
      "     |      Print a year's calendar.\n",
      "     |  \n",
      "     |  ----------------------------------------------------------------------\n",
      "     |  Methods inherited from Calendar:\n",
      "     |  \n",
      "     |  __init__(self, firstweekday=0)\n",
      "     |      Initialize self.  See help(type(self)) for accurate signature.\n",
      "     |  \n",
      "     |  getfirstweekday(self)\n",
      "     |  \n",
      "     |  itermonthdates(self, year, month)\n",
      "     |      Return an iterator for one month. The iterator will yield datetime.date\n",
      "     |      values and will always iterate through complete weeks, so it will yield\n",
      "     |      dates outside the specified month.\n",
      "     |  \n",
      "     |  itermonthdays(self, year, month)\n",
      "     |      Like itermonthdates(), but will yield day numbers. For days outside\n",
      "     |      the specified month the day number is 0.\n",
      "     |  \n",
      "     |  itermonthdays2(self, year, month)\n",
      "     |      Like itermonthdates(), but will yield (day number, weekday number)\n",
      "     |      tuples. For days outside the specified month the day number is 0.\n",
      "     |  \n",
      "     |  itermonthdays3(self, year, month)\n",
      "     |      Like itermonthdates(), but will yield (year, month, day) tuples.  Can be\n",
      "     |      used for dates outside of datetime.date range.\n",
      "     |  \n",
      "     |  itermonthdays4(self, year, month)\n",
      "     |      Like itermonthdates(), but will yield (year, month, day, day_of_week) tuples.\n",
      "     |      Can be used for dates outside of datetime.date range.\n",
      "     |  \n",
      "     |  iterweekdays(self)\n",
      "     |      Return an iterator for one week of weekday numbers starting with the\n",
      "     |      configured first one.\n",
      "     |  \n",
      "     |  monthdatescalendar(self, year, month)\n",
      "     |      Return a matrix (list of lists) representing a month's calendar.\n",
      "     |      Each row represents a week; week entries are datetime.date values.\n",
      "     |  \n",
      "     |  monthdays2calendar(self, year, month)\n",
      "     |      Return a matrix representing a month's calendar.\n",
      "     |      Each row represents a week; week entries are\n",
      "     |      (day number, weekday number) tuples. Day numbers outside this month\n",
      "     |      are zero.\n",
      "     |  \n",
      "     |  monthdayscalendar(self, year, month)\n",
      "     |      Return a matrix representing a month's calendar.\n",
      "     |      Each row represents a week; days outside this month are zero.\n",
      "     |  \n",
      "     |  setfirstweekday(self, firstweekday)\n",
      "     |  \n",
      "     |  yeardatescalendar(self, year, width=3)\n",
      "     |      Return the data for the specified year ready for formatting. The return\n",
      "     |      value is a list of month rows. Each month row contains up to width months.\n",
      "     |      Each month contains between 4 and 6 weeks and each week contains 1-7\n",
      "     |      days. Days are datetime.date objects.\n",
      "     |  \n",
      "     |  yeardays2calendar(self, year, width=3)\n",
      "     |      Return the data for the specified year ready for formatting (similar to\n",
      "     |      yeardatescalendar()). Entries in the week lists are\n",
      "     |      (day number, weekday number) tuples. Day numbers outside this month are\n",
      "     |      zero.\n",
      "     |  \n",
      "     |  yeardayscalendar(self, year, width=3)\n",
      "     |      Return the data for the specified year ready for formatting (similar to\n",
      "     |      yeardatescalendar()). Entries in the week lists are day numbers.\n",
      "     |      Day numbers outside this month are zero.\n",
      "     |  \n",
      "     |  ----------------------------------------------------------------------\n",
      "     |  Data descriptors inherited from Calendar:\n",
      "     |  \n",
      "     |  __dict__\n",
      "     |      dictionary for instance variables (if defined)\n",
      "     |  \n",
      "     |  __weakref__\n",
      "     |      list of weak references to the object (if defined)\n",
      "     |  \n",
      "     |  firstweekday\n",
      "\n",
      "FUNCTIONS\n",
      "    calendar = formatyear(theyear, w=2, l=1, c=6, m=3) method of TextCalendar instance\n",
      "        Returns a year's calendar as a multi-line string.\n",
      "    \n",
      "    firstweekday = getfirstweekday() method of TextCalendar instance\n",
      "    \n",
      "    isleap(year)\n",
      "        Return True for leap years, False for non-leap years.\n",
      "    \n",
      "    leapdays(y1, y2)\n",
      "        Return number of leap years in range [y1, y2).\n",
      "        Assume y1 <= y2.\n",
      "    \n",
      "    month = formatmonth(theyear, themonth, w=0, l=0) method of TextCalendar instance\n",
      "        Return a month's calendar string (multi-line).\n",
      "    \n",
      "    monthcalendar = monthdayscalendar(year, month) method of TextCalendar instance\n",
      "        Return a matrix representing a month's calendar.\n",
      "        Each row represents a week; days outside this month are zero.\n",
      "    \n",
      "    monthrange(year, month)\n",
      "        Return weekday (0-6 ~ Mon-Sun) and number of days (28-31) for\n",
      "        year, month.\n",
      "    \n",
      "    prcal = pryear(theyear, w=0, l=0, c=6, m=3) method of TextCalendar instance\n",
      "        Print a year's calendar.\n",
      "    \n",
      "    prmonth(theyear, themonth, w=0, l=0) method of TextCalendar instance\n",
      "        Print a month's calendar.\n",
      "    \n",
      "    setfirstweekday(firstweekday)\n",
      "    \n",
      "    timegm(tuple)\n",
      "        Unrelated but handy function to calculate Unix timestamp from GMT.\n",
      "    \n",
      "    weekday(year, month, day)\n",
      "        Return weekday (0-6 ~ Mon-Sun) for year, month (1-12), day (1-31).\n",
      "    \n",
      "    weekheader = formatweekheader(width) method of TextCalendar instance\n",
      "        Return a header for a week.\n",
      "\n",
      "DATA\n",
      "    FRIDAY = 4\n",
      "    MONDAY = 0\n",
      "    SATURDAY = 5\n",
      "    SUNDAY = 6\n",
      "    THURSDAY = 3\n",
      "    TUESDAY = 1\n",
      "    WEDNESDAY = 2\n",
      "    __all__ = ['IllegalMonthError', 'IllegalWeekdayError', 'setfirstweekda...\n",
      "    day_abbr = <calendar._localized_day object>\n",
      "    day_name = <calendar._localized_day object>\n",
      "    month_abbr = <calendar._localized_month object>\n",
      "    month_name = <calendar._localized_month object>\n",
      "\n",
      "FILE\n",
      "    /home/codespace/.python/current/lib/python3.10/calendar.py\n",
      "\n",
      "\n"
     ]
    }
   ],
   "source": [
    "help(calendar)"
   ]
  }
 ],
 "metadata": {
  "interpreter": {
   "hash": "af5fea1c444866fd811ab1931cfd4c7d38bb70c8c6a7e77097d94e83671d0e23"
  },
  "kernelspec": {
   "display_name": "Python 3.10.4 64-bit",
   "language": "python",
   "name": "python3"
  },
  "language_info": {
   "codemirror_mode": {
    "name": "ipython",
    "version": 3
   },
   "file_extension": ".py",
   "mimetype": "text/x-python",
   "name": "python",
   "nbconvert_exporter": "python",
   "pygments_lexer": "ipython3",
   "version": "3.10.4"
  }
 },
 "nbformat": 4,
 "nbformat_minor": 2
}
