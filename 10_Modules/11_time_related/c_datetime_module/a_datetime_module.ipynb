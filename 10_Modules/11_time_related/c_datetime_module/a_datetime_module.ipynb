{
 "cells": [
  {
   "cell_type": "code",
   "execution_count": 1,
   "metadata": {},
   "outputs": [],
   "source": [
    "import datetime"
   ]
  },
  {
   "cell_type": "code",
   "execution_count": 2,
   "metadata": {},
   "outputs": [
    {
     "name": "stdout",
     "output_type": "stream",
     "text": [
      "['MAXYEAR', 'MINYEAR', '__all__', '__builtins__', '__cached__', '__doc__', '__file__', '__loader__', '__name__', '__package__', '__spec__', 'date', 'datetime', 'datetime_CAPI', 'sys', 'time', 'timedelta', 'timezone', 'tzinfo']\n"
     ]
    }
   ],
   "source": [
    "print(dir(datetime))"
   ]
  },
  {
   "cell_type": "code",
   "execution_count": 3,
   "metadata": {},
   "outputs": [
    {
     "name": "stdout",
     "output_type": "stream",
     "text": [
      "datetime.MAXYEAR: 9999\n",
      "datetime.MINYEAR: 1\n"
     ]
    }
   ],
   "source": [
    "print(\"datetime.MAXYEAR:\", datetime.MAXYEAR)\n",
    "print(\"datetime.MINYEAR:\", datetime.MINYEAR)"
   ]
  },
  {
   "cell_type": "code",
   "execution_count": 4,
   "metadata": {},
   "outputs": [
    {
     "name": "stdout",
     "output_type": "stream",
     "text": [
      "datetime.datetime.min        =datetime.datetime(1, 1, 1, 0, 0)\n",
      "datetime.datetime.max        =datetime.datetime(9999, 12, 31, 23, 59, 59, 999999)\n",
      "datetime.datetime.resolution =datetime.timedelta(microseconds=1)\n"
     ]
    }
   ],
   "source": [
    "print(f\"{datetime.datetime.min        =}\")\n",
    "print(f\"{datetime.datetime.max        =}\")\n",
    "print(f\"{datetime.datetime.resolution =}\")"
   ]
  },
  {
   "cell_type": "code",
   "execution_count": 5,
   "metadata": {},
   "outputs": [
    {
     "name": "stdout",
     "output_type": "stream",
     "text": [
      "datetime.date.min            =datetime.date(1, 1, 1)\n",
      "datetime.date.max            =datetime.date(9999, 12, 31)\n",
      "datetime.date.resolution     =datetime.timedelta(days=1)\n"
     ]
    }
   ],
   "source": [
    "print(f\"{datetime.date.min            =}\")\n",
    "print(f\"{datetime.date.max            =}\")\n",
    "print(f\"{datetime.date.resolution     =}\")"
   ]
  },
  {
   "cell_type": "code",
   "execution_count": 6,
   "metadata": {},
   "outputs": [
    {
     "name": "stdout",
     "output_type": "stream",
     "text": [
      "datetime.time.min            =datetime.time(0, 0)\n",
      "datetime.time.max            =datetime.time(23, 59, 59, 999999)\n",
      "datetime.time.resolution     =datetime.timedelta(microseconds=1)\n"
     ]
    }
   ],
   "source": [
    "print(f\"{datetime.time.min            =}\")\n",
    "print(f\"{datetime.time.max            =}\")\n",
    "print(f\"{datetime.time.resolution     =}\")"
   ]
  },
  {
   "cell_type": "code",
   "execution_count": 7,
   "metadata": {},
   "outputs": [
    {
     "name": "stdout",
     "output_type": "stream",
     "text": [
      "datetime.tzinfo: <class 'datetime.tzinfo'>\n"
     ]
    }
   ],
   "source": [
    "print(\"datetime.tzinfo:\", datetime.tzinfo)"
   ]
  },
  {
   "cell_type": "code",
   "execution_count": 8,
   "metadata": {},
   "outputs": [
    {
     "data": {
      "text/plain": [
       "<datetime.tzinfo at 0x7fd55fe7bdb0>"
      ]
     },
     "execution_count": 8,
     "metadata": {},
     "output_type": "execute_result"
    }
   ],
   "source": [
    "datetime.tzinfo()"
   ]
  },
  {
   "cell_type": "markdown",
   "metadata": {},
   "source": [
    "```\n",
    "datetime  has three different kinds of objects:\n",
    "    1. date object      :- stores the date \n",
    "    2. time object      :- stores the time \n",
    "    3. datetime object  :- stores both the date and time \n",
    "```"
   ]
  },
  {
   "cell_type": "code",
   "execution_count": 9,
   "metadata": {},
   "outputs": [
    {
     "name": "stdout",
     "output_type": "stream",
     "text": [
      "now                      : 2023-05-20 17:30:44.664196\n",
      "type(now)                : <class 'datetime.datetime'>\n"
     ]
    }
   ],
   "source": [
    "now = datetime.datetime.now()\n",
    "print(\"now                      :\", now)\n",
    "print(\"type(now)                :\", type(now))"
   ]
  },
  {
   "cell_type": "code",
   "execution_count": 10,
   "metadata": {},
   "outputs": [
    {
     "name": "stdout",
     "output_type": "stream",
     "text": [
      "today                    : 2023-05-20\n",
      "type(today)              : <class 'datetime.date'>\n"
     ]
    }
   ],
   "source": [
    "today = now.date()\n",
    "print(\"today                    :\", today)\n",
    "print(\"type(today)              :\", type(today))"
   ]
  },
  {
   "cell_type": "code",
   "execution_count": 11,
   "metadata": {},
   "outputs": [
    {
     "name": "stdout",
     "output_type": "stream",
     "text": [
      "moment                   : 17:30:44.664196\n",
      "type(moment)             : <class 'datetime.time'>\n"
     ]
    }
   ],
   "source": [
    "moment = now.time()\n",
    "print(\"moment                   :\", moment)\n",
    "print(\"type(moment)             :\", type(moment))"
   ]
  },
  {
   "cell_type": "code",
   "execution_count": 12,
   "metadata": {},
   "outputs": [
    {
     "name": "stdout",
     "output_type": "stream",
     "text": [
      "now_using_combine        : 2023-05-20 17:30:44.664196\n",
      "type(now_using_combine)  : <class 'datetime.datetime'>\n"
     ]
    }
   ],
   "source": [
    "now_using_combine = datetime.datetime.combine(today, moment)\n",
    "print(\"now_using_combine        :\", now_using_combine)\n",
    "print(\"type(now_using_combine)  :\", type(now_using_combine))"
   ]
  },
  {
   "cell_type": "code",
   "execution_count": 13,
   "metadata": {},
   "outputs": [
    {
     "name": "stdout",
     "output_type": "stream",
     "text": [
      "yesterday                : 2023-05-19\n",
      "type(yesterday)          : <class 'datetime.date'>\n"
     ]
    }
   ],
   "source": [
    "yesterday = today - datetime.timedelta(days=1)\n",
    "print(\"yesterday                :\", yesterday)\n",
    "print(\"type(yesterday)          :\", type(yesterday))"
   ]
  },
  {
   "cell_type": "code",
   "execution_count": 14,
   "metadata": {},
   "outputs": [
    {
     "name": "stdout",
     "output_type": "stream",
     "text": [
      "time_difference          : -1 day, 0:00:00\n",
      "type(time_difference)    : <class 'datetime.timedelta'>\n"
     ]
    }
   ],
   "source": [
    "# Getting the difference between two datetime objects\n",
    "time_difference = yesterday - today\n",
    "print(\"time_difference          :\", time_difference)\n",
    "print(\"type(time_difference)    :\", type(time_difference))"
   ]
  },
  {
   "cell_type": "code",
   "execution_count": 15,
   "metadata": {},
   "outputs": [
    {
     "name": "stdout",
     "output_type": "stream",
     "text": [
      "my_date                  : 1947-08-15\n",
      "type(my_date)            : <class 'datetime.date'>\n"
     ]
    }
   ],
   "source": [
    "# date object has three mandatory arguments\n",
    "my_date = datetime.date(1947, 8, 15)  # order YEAR, MONTH, DAY\n",
    "print(\"my_date                  :\", my_date)\n",
    "print(\"type(my_date)            :\", type(my_date))"
   ]
  },
  {
   "cell_type": "code",
   "execution_count": 16,
   "metadata": {},
   "outputs": [
    {
     "name": "stdout",
     "output_type": "stream",
     "text": [
      "my_date                  : 1947-08-15\n",
      "type(my_date)            : <class 'datetime.date'>\n"
     ]
    }
   ],
   "source": [
    "my_date = datetime.date(\n",
    "    day=15, year=1947, month=8\n",
    ")  # order can be changed using keyword args\n",
    "print(\"my_date                  :\", my_date)\n",
    "print(\"type(my_date)            :\", type(my_date))"
   ]
  },
  {
   "cell_type": "code",
   "execution_count": 17,
   "metadata": {},
   "outputs": [
    {
     "name": "stdout",
     "output_type": "stream",
     "text": [
      "my_time                  : 00:00:00\n",
      "type(my_time)            : <class 'datetime.time'>\n"
     ]
    }
   ],
   "source": [
    "# time object don't have mandatory arguments\n",
    "my_time = datetime.time()\n",
    "print(\"my_time                  :\", my_time)\n",
    "print(\"type(my_time)            :\", type(my_time))"
   ]
  },
  {
   "cell_type": "code",
   "execution_count": 18,
   "metadata": {},
   "outputs": [
    {
     "name": "stdout",
     "output_type": "stream",
     "text": [
      "my_time                  : 00:00:00\n",
      "type(my_time)            : <class 'datetime.time'>\n"
     ]
    }
   ],
   "source": [
    "my_time = datetime.time(0, 0)  # first argument hour, minute, second\n",
    "print(\"my_time                  :\", my_time)\n",
    "print(\"type(my_time)            :\", type(my_time))"
   ]
  },
  {
   "cell_type": "code",
   "execution_count": 19,
   "metadata": {},
   "outputs": [
    {
     "name": "stdout",
     "output_type": "stream",
     "text": [
      "my_time                  : 00:00:00\n",
      "type(my_time)            : <class 'datetime.time'>\n"
     ]
    }
   ],
   "source": [
    "my_time = datetime.time(hour=0, minute=0)\n",
    "print(\"my_time                  :\", my_time)\n",
    "print(\"type(my_time)            :\", type(my_time))"
   ]
  },
  {
   "cell_type": "code",
   "execution_count": 20,
   "metadata": {},
   "outputs": [
    {
     "name": "stdout",
     "output_type": "stream",
     "text": [
      "my_datetime              : 1984-06-24 00:00:00\n",
      "type(my_datetime)        : <class 'datetime.datetime'>\n"
     ]
    }
   ],
   "source": [
    "# datetime objects have the same mandatory arguments as date object\n",
    "my_datetime = datetime.datetime(year=1984, month=6, day=24)  # Time is set to 0:00\n",
    "print(\"my_datetime              :\", my_datetime)\n",
    "print(\"type(my_datetime)        :\", type(my_datetime))"
   ]
  },
  {
   "cell_type": "code",
   "execution_count": 21,
   "metadata": {},
   "outputs": [
    {
     "name": "stdout",
     "output_type": "stream",
     "text": [
      "my_datetime              : 1984-06-24 18:30:00\n",
      "type(my_datetime)        : <class 'datetime.datetime'>\n"
     ]
    }
   ],
   "source": [
    "my_datetime = datetime.datetime(1984, 6, 24, 18, 30)\n",
    "print(\"my_datetime              :\", my_datetime)\n",
    "print(\"type(my_datetime)        :\", type(my_datetime))"
   ]
  },
  {
   "cell_type": "code",
   "execution_count": 22,
   "metadata": {},
   "outputs": [
    {
     "name": "stdout",
     "output_type": "stream",
     "text": [
      "my_datetime              : 1984-06-24 18:30:00\n",
      "type(my_datetime)        : <class 'datetime.datetime'>\n"
     ]
    }
   ],
   "source": [
    "my_datetime = datetime.datetime(year=1984, month=6, day=24, hour=18, minute=30)\n",
    "print(\"my_datetime              :\", my_datetime)\n",
    "print(\"type(my_datetime)        :\", type(my_datetime))"
   ]
  },
  {
   "cell_type": "code",
   "execution_count": 23,
   "metadata": {},
   "outputs": [
    {
     "name": "stdout",
     "output_type": "stream",
     "text": [
      "another_datetime         : 2019-01-24 18:30:00\n",
      "type(another_datetime)   : <class 'datetime.datetime'>\n"
     ]
    }
   ],
   "source": [
    "# Change one datetime object to obtain another using the replace method\n",
    "another_datetime = my_datetime.replace(year=2019, month=1)\n",
    "print(\"another_datetime         :\", another_datetime)\n",
    "print(\"type(another_datetime)   :\", type(another_datetime))"
   ]
  },
  {
   "cell_type": "code",
   "execution_count": 24,
   "metadata": {},
   "outputs": [
    {
     "name": "stdout",
     "output_type": "stream",
     "text": [
      "epoch                    : 1970-01-01 00:00:00\n",
      "type(epoch)              : <class 'datetime.datetime'>\n"
     ]
    }
   ],
   "source": [
    "# Obtain a datetime object representing the epoch: 1st Jan, 1970\n",
    "epoch = datetime.datetime.utcfromtimestamp(0)\n",
    "print(\"epoch                    :\", epoch)\n",
    "print(\"type(epoch)              :\", type(epoch))"
   ]
  },
  {
   "cell_type": "code",
   "execution_count": 25,
   "metadata": {},
   "outputs": [
    {
     "name": "stdout",
     "output_type": "stream",
     "text": [
      "now - epoch              : 19497 days, 17:30:44.664196\n"
     ]
    }
   ],
   "source": [
    "# Obtain difference between epoch time and now\n",
    "delta = now - epoch\n",
    "print(\"now - epoch              :\", delta)"
   ]
  },
  {
   "cell_type": "code",
   "execution_count": 26,
   "metadata": {},
   "outputs": [
    {
     "name": "stdout",
     "output_type": "stream",
     "text": [
      "(now - epoch) diff days  : 19497\n"
     ]
    }
   ],
   "source": [
    "days = delta.days\n",
    "print(\"(now - epoch) diff days  :\", days)"
   ]
  },
  {
   "cell_type": "code",
   "execution_count": 27,
   "metadata": {},
   "outputs": [
    {
     "name": "stdout",
     "output_type": "stream",
     "text": [
      "(now - epoch) diff secs  : 63044\n"
     ]
    }
   ],
   "source": [
    "seconds = delta.seconds\n",
    "print(\"(now - epoch) diff secs  :\", seconds)"
   ]
  },
  {
   "cell_type": "code",
   "execution_count": 28,
   "metadata": {},
   "outputs": [
    {
     "name": "stdout",
     "output_type": "stream",
     "text": [
      "(now - epoch)total_seconds: 1684603844.664196\n"
     ]
    }
   ],
   "source": [
    "total_seconds = delta.total_seconds()\n",
    "print(\"(now - epoch)total_seconds:\", total_seconds)"
   ]
  },
  {
   "cell_type": "code",
   "execution_count": 29,
   "metadata": {},
   "outputs": [
    {
     "name": "stdout",
     "output_type": "stream",
     "text": [
      "2022-05-25 17:14:53.798626\n"
     ]
    }
   ],
   "source": [
    "print(datetime.datetime.utcfromtimestamp(1653498893.798626))"
   ]
  },
  {
   "cell_type": "code",
   "execution_count": 30,
   "metadata": {},
   "outputs": [
    {
     "name": "stdout",
     "output_type": "stream",
     "text": [
      "1970-01-02 20:01:33\n"
     ]
    }
   ],
   "source": [
    "print(datetime.datetime.utcfromtimestamp(158493))"
   ]
  },
  {
   "cell_type": "markdown",
   "metadata": {},
   "source": [
    "### Time Information"
   ]
  },
  {
   "cell_type": "code",
   "execution_count": 31,
   "metadata": {},
   "outputs": [
    {
     "name": "stdout",
     "output_type": "stream",
     "text": [
      "local now: 2023-05-20 17:30:48.066187\n"
     ]
    }
   ],
   "source": [
    "local_now = datetime.datetime.now()\n",
    "print(\"local now: {}\".format(local_now))"
   ]
  },
  {
   "cell_type": "code",
   "execution_count": 32,
   "metadata": {},
   "outputs": [
    {
     "name": "stdout",
     "output_type": "stream",
     "text": [
      "utc now  : 2023-05-20 17:30:48.222403\n"
     ]
    }
   ],
   "source": [
    "utc_now = datetime.datetime.utcnow()\n",
    "print(\"utc now  : {}\".format(utc_now))"
   ]
  },
  {
   "cell_type": "code",
   "execution_count": 33,
   "metadata": {},
   "outputs": [
    {
     "name": "stdout",
     "output_type": "stream",
     "text": [
      "2023 5 20 17 30 48\n",
      "date: 2023-05-20\n",
      "time: 17:30:48.066187\n"
     ]
    }
   ],
   "source": [
    "# You can access any value separately:\n",
    "print(\n",
    "    \"{} {} {} {} {} {}\".format(\n",
    "        local_now.year,\n",
    "        local_now.month,\n",
    "        local_now.day,\n",
    "        local_now.hour,\n",
    "        local_now.minute,\n",
    "        local_now.second,\n",
    "    )\n",
    ")\n",
    "\n",
    "print(\"date: {}\".format(local_now.date()))\n",
    "print(\"time: {}\".format(local_now.time()))"
   ]
  },
  {
   "cell_type": "markdown",
   "metadata": {},
   "source": [
    "    datetime.strftime - For string formatting the datetime\n",
    "    For more datetime related string formatters, go to http://strftime.org/"
   ]
  },
  {
   "cell_type": "code",
   "execution_count": 34,
   "metadata": {},
   "outputs": [
    {
     "data": {
      "text/plain": [
       "'2023/05/20-17:30:48'"
      ]
     },
     "execution_count": 34,
     "metadata": {},
     "output_type": "execute_result"
    }
   ],
   "source": [
    "local_now.strftime(\"%Y/%m/%d-%H:%M:%S\")"
   ]
  },
  {
   "cell_type": "code",
   "execution_count": 35,
   "metadata": {},
   "outputs": [
    {
     "data": {
      "text/plain": [
       "'23/05/20-17:30:48'"
      ]
     },
     "execution_count": 35,
     "metadata": {},
     "output_type": "execute_result"
    }
   ],
   "source": [
    "local_now.strftime(\"%y/%m/%d-%H:%M:%S\")"
   ]
  },
  {
   "cell_type": "code",
   "execution_count": 36,
   "metadata": {},
   "outputs": [
    {
     "data": {
      "text/plain": [
       "'23 May 20-17:30:48'"
      ]
     },
     "execution_count": 36,
     "metadata": {},
     "output_type": "execute_result"
    }
   ],
   "source": [
    "local_now.strftime(\"%y %B %d-%H:%M:%S\")"
   ]
  },
  {
   "cell_type": "code",
   "execution_count": 37,
   "metadata": {},
   "outputs": [
    {
     "data": {
      "text/plain": [
       "'2023 May 20 - 05:30:48 PM'"
      ]
     },
     "execution_count": 37,
     "metadata": {},
     "output_type": "execute_result"
    }
   ],
   "source": [
    "local_now.strftime(\"%Y %b %d - %I:%M:%S %p\")"
   ]
  },
  {
   "cell_type": "code",
   "execution_count": 38,
   "metadata": {},
   "outputs": [
    {
     "data": {
      "text/plain": [
       "'2023 May 20 05:30:48 PM '"
      ]
     },
     "execution_count": 38,
     "metadata": {},
     "output_type": "execute_result"
    }
   ],
   "source": [
    "local_now.strftime(\"%Y %b %d %I:%M:%S %p %z\")"
   ]
  },
  {
   "cell_type": "code",
   "execution_count": 39,
   "metadata": {},
   "outputs": [
    {
     "name": "stdout",
     "output_type": "stream",
     "text": [
      "formatted2 Today is : 20 May,2023 time:17:30:48\n"
     ]
    }
   ],
   "source": [
    "formatted2 = local_now.strftime(\"Today is : %d %b,%Y time:%H:%M:%S\")\n",
    "print(\"formatted2\", formatted2)"
   ]
  },
  {
   "cell_type": "markdown",
   "metadata": {},
   "source": [
    "#### datetime.strptime() - For converting a datetime string into a datetime object"
   ]
  },
  {
   "cell_type": "code",
   "execution_count": 40,
   "metadata": {},
   "outputs": [
    {
     "name": "stdout",
     "output_type": "stream",
     "text": [
      "my_dt      :2019-01-01 16:00:00 \n",
      "type(my_dt):<class 'datetime.datetime'>\n"
     ]
    }
   ],
   "source": [
    "my_dt = datetime.datetime.strptime(\"2019-01-01 16:00:00\", \"%Y-%m-%d %H:%M:%S\")\n",
    "print(f\"my_dt      :{my_dt} \\ntype(my_dt):{type(my_dt)}\")"
   ]
  },
  {
   "cell_type": "code",
   "execution_count": 41,
   "metadata": {},
   "outputs": [
    {
     "data": {
      "text/plain": [
       "datetime.datetime(1945, 4, 8, 0, 0)"
      ]
     },
     "execution_count": 41,
     "metadata": {},
     "output_type": "execute_result"
    }
   ],
   "source": [
    "datetime.datetime.strptime(\"8 April 1945\", \"%d %B %Y\")"
   ]
  },
  {
   "cell_type": "markdown",
   "metadata": {},
   "source": [
    "#### datetime.timedelta - For working with time difference."
   ]
  },
  {
   "cell_type": "code",
   "execution_count": 42,
   "metadata": {},
   "outputs": [
    {
     "data": {
      "text/plain": [
       "datetime.datetime(2023, 6, 12, 18, 4, 48, 66187)"
      ]
     },
     "execution_count": 42,
     "metadata": {},
     "output_type": "execute_result"
    }
   ],
   "source": [
    "local_now + datetime.timedelta(days=23, minutes=34)"
   ]
  },
  {
   "cell_type": "code",
   "execution_count": 43,
   "metadata": {},
   "outputs": [
    {
     "name": "stdout",
     "output_type": "stream",
     "text": [
      "tomorrow this time: 2023-06-09 17:30:48.066187\n"
     ]
    }
   ],
   "source": [
    "tomorrow = local_now + datetime.timedelta(days=20)\n",
    "print(\"tomorrow this time: {}\".format(tomorrow))"
   ]
  },
  {
   "cell_type": "code",
   "execution_count": 44,
   "metadata": {},
   "outputs": [
    {
     "name": "stdout",
     "output_type": "stream",
     "text": [
      "tomorrow - now : 20 days, 0:00:00\n",
      "days           : 20\n",
      "seconds        : 0\n",
      "total seconds  : 1728000.0\n"
     ]
    }
   ],
   "source": [
    "delta = tomorrow - local_now\n",
    "print(f\"tomorrow - now : {delta}\")\n",
    "print(f\"days           : {delta.days}\")\n",
    "print(f\"seconds        : {delta.seconds}\")\n",
    "print(f\"total seconds  : {delta.total_seconds()}\")"
   ]
  },
  {
   "cell_type": "markdown",
   "metadata": {},
   "source": [
    "### Working with time zones\n",
    "    pip install -U pytz --user"
   ]
  },
  {
   "cell_type": "code",
   "execution_count": 45,
   "metadata": {},
   "outputs": [
    {
     "name": "stdout",
     "output_type": "stream",
     "text": [
      "Requirement already satisfied: pytz in /home/codespace/.local/lib/python3.10/site-packages (2023.3)\n"
     ]
    }
   ],
   "source": [
    "!pip install -U pytz"
   ]
  },
  {
   "cell_type": "code",
   "execution_count": 46,
   "metadata": {},
   "outputs": [],
   "source": [
    "import pytz"
   ]
  },
  {
   "cell_type": "code",
   "execution_count": 47,
   "metadata": {},
   "outputs": [
    {
     "name": "stdout",
     "output_type": "stream",
     "text": [
      "naive utc now       : 2023-05-20 17:30:53.179498\n",
      "tzinfo              : None\n"
     ]
    }
   ],
   "source": [
    "naive_utc_now = datetime.datetime.utcnow()\n",
    "print(f\"naive utc now       : {naive_utc_now}\")\n",
    "print(f\"tzinfo              : {naive_utc_now.tzinfo}\")"
   ]
  },
  {
   "cell_type": "code",
   "execution_count": 48,
   "metadata": {},
   "outputs": [],
   "source": [
    "# Localizing naive datetimes\n",
    "UTC_TZ = pytz.timezone(\"UTC\")"
   ]
  },
  {
   "cell_type": "code",
   "execution_count": 49,
   "metadata": {},
   "outputs": [
    {
     "name": "stdout",
     "output_type": "stream",
     "text": [
      "utc now             : 2023-05-20 17:30:53.179498+00:00\n",
      "tzinfo              : UTC\n"
     ]
    }
   ],
   "source": [
    "utc_now = UTC_TZ.localize(naive_utc_now)\n",
    "print(f\"utc now             : {utc_now}\")\n",
    "print(f\"tzinfo              : {utc_now.tzinfo}\")"
   ]
  },
  {
   "cell_type": "code",
   "execution_count": 50,
   "metadata": {},
   "outputs": [],
   "source": [
    "# Converting localized datetimes to different timezone\n",
    "PARIS_TZ = pytz.timezone(\"Europe/Paris\")"
   ]
  },
  {
   "cell_type": "code",
   "execution_count": 51,
   "metadata": {},
   "outputs": [
    {
     "name": "stdout",
     "output_type": "stream",
     "text": [
      "Paris now           : 2023-05-20 19:30:53.179498+02:00\n",
      "tzinfo              : Europe/Paris\n"
     ]
    }
   ],
   "source": [
    "paris_now = PARIS_TZ.normalize(utc_now)  # localize vs normalize\n",
    "print(f\"Paris now           : {paris_now}\")\n",
    "print(f\"tzinfo              : {paris_now.tzinfo}\")"
   ]
  },
  {
   "cell_type": "code",
   "execution_count": 52,
   "metadata": {},
   "outputs": [
    {
     "name": "stdout",
     "output_type": "stream",
     "text": [
      "New York now        : 2023-05-20 13:30:53.179498-04:00\n",
      "tzinfo              : America/New_York\n"
     ]
    }
   ],
   "source": [
    "NEW_YORK_TZ = pytz.timezone(\"America/New_York\")\n",
    "ny_now = NEW_YORK_TZ.normalize(utc_now)\n",
    "\n",
    "print(f\"New York now        : {ny_now}\")\n",
    "print(f\"tzinfo              : {ny_now.tzinfo}\")"
   ]
  },
  {
   "cell_type": "code",
   "execution_count": 53,
   "metadata": {},
   "outputs": [
    {
     "name": "stdout",
     "output_type": "stream",
     "text": [
      "Los Angeles now     : 2023-05-20 10:30:53.179498-07:00\n",
      "tzinfo              : America/Los_Angeles\n"
     ]
    }
   ],
   "source": [
    "LOS_ANGELES_TZ = pytz.timezone(\"America/Los_Angeles\")\n",
    "la_now = LOS_ANGELES_TZ.normalize(utc_now)\n",
    "\n",
    "print(f\"Los Angeles now     : {la_now}\")\n",
    "print(f\"tzinfo              : {la_now.tzinfo}\")"
   ]
  },
  {
   "cell_type": "code",
   "execution_count": 54,
   "metadata": {},
   "outputs": [
    {
     "name": "stdout",
     "output_type": "stream",
     "text": [
      "\n",
      "Africa/Abidjan\t\tAfrica/Accra\t\tAfrica/Addis_Ababa\t\tAfrica/Algiers\t\t\n",
      "Africa/Asmara\t\tAfrica/Asmera\t\tAfrica/Bamako\t\tAfrica/Bangui\t\t\n",
      "Africa/Banjul\t\tAfrica/Bissau\t\tAfrica/Blantyre\t\tAfrica/Brazzaville\t\t\n",
      "Africa/Bujumbura\t\tAfrica/Cairo\t\tAfrica/Casablanca\t\tAfrica/Ceuta\t\t\n",
      "Africa/Conakry\t\tAfrica/Dakar\t\tAfrica/Dar_es_Salaam\t\tAfrica/Djibouti\t\t\n",
      "Africa/Douala\t\tAfrica/El_Aaiun\t\tAfrica/Freetown\t\tAfrica/Gaborone\t\t\n",
      "Africa/Harare\t\tAfrica/Johannesburg\t\tAfrica/Juba\t\tAfrica/Kampala\t\t\n",
      "Africa/Khartoum\t\tAfrica/Kigali\t\tAfrica/Kinshasa\t\tAfrica/Lagos\t\t\n",
      "Africa/Libreville\t\tAfrica/Lome\t\tAfrica/Luanda\t\tAfrica/Lubumbashi\t\t\n",
      "Africa/Lusaka\t\tAfrica/Malabo\t\tAfrica/Maputo\t\tAfrica/Maseru\t\t\n",
      "Africa/Mbabane\t\tAfrica/Mogadishu\t\tAfrica/Monrovia\t\tAfrica/Nairobi\t\t\n",
      "Africa/Ndjamena\t\tAfrica/Niamey\t\tAfrica/Nouakchott\t\tAfrica/Ouagadougou\t\t\n",
      "Africa/Porto-Novo\t\tAfrica/Sao_Tome\t\tAfrica/Timbuktu\t\tAfrica/Tripoli\t\t\n",
      "Africa/Tunis\t\tAfrica/Windhoek\t\tAmerica/Adak\t\tAmerica/Anchorage\t\t\n",
      "America/Anguilla\t\tAmerica/Antigua\t\tAmerica/Araguaina\t\tAmerica/Argentina/Buenos_Aires\t\t\n",
      "America/Argentina/Catamarca\t\tAmerica/Argentina/ComodRivadavia\t\tAmerica/Argentina/Cordoba\t\tAmerica/Argentina/Jujuy\t\t\n",
      "America/Argentina/La_Rioja\t\tAmerica/Argentina/Mendoza\t\tAmerica/Argentina/Rio_Gallegos\t\tAmerica/Argentina/Salta\t\t\n",
      "America/Argentina/San_Juan\t\tAmerica/Argentina/San_Luis\t\tAmerica/Argentina/Tucuman\t\tAmerica/Argentina/Ushuaia\t\t\n",
      "America/Aruba\t\tAmerica/Asuncion\t\tAmerica/Atikokan\t\tAmerica/Atka\t\t\n",
      "America/Bahia\t\tAmerica/Bahia_Banderas\t\tAmerica/Barbados\t\tAmerica/Belem\t\t\n",
      "America/Belize\t\tAmerica/Blanc-Sablon\t\tAmerica/Boa_Vista\t\tAmerica/Bogota\t\t\n",
      "America/Boise\t\tAmerica/Buenos_Aires\t\tAmerica/Cambridge_Bay\t\tAmerica/Campo_Grande\t\t\n",
      "America/Cancun\t\tAmerica/Caracas\t\tAmerica/Catamarca\t\tAmerica/Cayenne\t\t\n",
      "America/Cayman\t\tAmerica/Chicago\t\tAmerica/Chihuahua\t\tAmerica/Ciudad_Juarez\t\t\n",
      "America/Coral_Harbour\t\tAmerica/Cordoba\t\tAmerica/Costa_Rica\t\tAmerica/Creston\t\t\n",
      "America/Cuiaba\t\tAmerica/Curacao\t\tAmerica/Danmarkshavn\t\tAmerica/Dawson\t\t\n",
      "America/Dawson_Creek\t\tAmerica/Denver\t\tAmerica/Detroit\t\tAmerica/Dominica\t\t\n",
      "America/Edmonton\t\tAmerica/Eirunepe\t\tAmerica/El_Salvador\t\tAmerica/Ensenada\t\t\n",
      "America/Fort_Nelson\t\tAmerica/Fort_Wayne\t\tAmerica/Fortaleza\t\tAmerica/Glace_Bay\t\t\n",
      "America/Godthab\t\tAmerica/Goose_Bay\t\tAmerica/Grand_Turk\t\tAmerica/Grenada\t\t\n",
      "America/Guadeloupe\t\tAmerica/Guatemala\t\tAmerica/Guayaquil\t\tAmerica/Guyana\t\t\n",
      "America/Halifax\t\tAmerica/Havana\t\tAmerica/Hermosillo\t\tAmerica/Indiana/Indianapolis\t\t\n",
      "America/Indiana/Knox\t\tAmerica/Indiana/Marengo\t\tAmerica/Indiana/Petersburg\t\tAmerica/Indiana/Tell_City\t\t\n",
      "America/Indiana/Vevay\t\tAmerica/Indiana/Vincennes\t\tAmerica/Indiana/Winamac\t\tAmerica/Indianapolis\t\t\n",
      "America/Inuvik\t\tAmerica/Iqaluit\t\tAmerica/Jamaica\t\tAmerica/Jujuy\t\t\n",
      "America/Juneau\t\tAmerica/Kentucky/Louisville\t\tAmerica/Kentucky/Monticello\t\tAmerica/Knox_IN\t\t\n",
      "America/Kralendijk\t\tAmerica/La_Paz\t\tAmerica/Lima\t\tAmerica/Los_Angeles\t\t\n",
      "America/Louisville\t\tAmerica/Lower_Princes\t\tAmerica/Maceio\t\tAmerica/Managua\t\t\n",
      "America/Manaus\t\tAmerica/Marigot\t\tAmerica/Martinique\t\tAmerica/Matamoros\t\t\n",
      "America/Mazatlan\t\tAmerica/Mendoza\t\tAmerica/Menominee\t\tAmerica/Merida\t\t\n",
      "America/Metlakatla\t\tAmerica/Mexico_City\t\tAmerica/Miquelon\t\tAmerica/Moncton\t\t\n",
      "America/Monterrey\t\tAmerica/Montevideo\t\tAmerica/Montreal\t\tAmerica/Montserrat\t\t\n",
      "America/Nassau\t\tAmerica/New_York\t\tAmerica/Nipigon\t\tAmerica/Nome\t\t\n",
      "America/Noronha\t\tAmerica/North_Dakota/Beulah\t\tAmerica/North_Dakota/Center\t\tAmerica/North_Dakota/New_Salem\t\t\n",
      "America/Nuuk\t\tAmerica/Ojinaga\t\tAmerica/Panama\t\tAmerica/Pangnirtung\t\t\n",
      "America/Paramaribo\t\tAmerica/Phoenix\t\tAmerica/Port-au-Prince\t\tAmerica/Port_of_Spain\t\t\n",
      "America/Porto_Acre\t\tAmerica/Porto_Velho\t\tAmerica/Puerto_Rico\t\tAmerica/Punta_Arenas\t\t\n",
      "America/Rainy_River\t\tAmerica/Rankin_Inlet\t\tAmerica/Recife\t\tAmerica/Regina\t\t\n",
      "America/Resolute\t\tAmerica/Rio_Branco\t\tAmerica/Rosario\t\tAmerica/Santa_Isabel\t\t\n",
      "America/Santarem\t\tAmerica/Santiago\t\tAmerica/Santo_Domingo\t\tAmerica/Sao_Paulo\t\t\n",
      "America/Scoresbysund\t\tAmerica/Shiprock\t\tAmerica/Sitka\t\tAmerica/St_Barthelemy\t\t\n",
      "America/St_Johns\t\tAmerica/St_Kitts\t\tAmerica/St_Lucia\t\tAmerica/St_Thomas\t\t\n",
      "America/St_Vincent\t\tAmerica/Swift_Current\t\tAmerica/Tegucigalpa\t\tAmerica/Thule\t\t\n",
      "America/Thunder_Bay\t\tAmerica/Tijuana\t\tAmerica/Toronto\t\tAmerica/Tortola\t\t\n",
      "America/Vancouver\t\tAmerica/Virgin\t\tAmerica/Whitehorse\t\tAmerica/Winnipeg\t\t\n",
      "America/Yakutat\t\tAmerica/Yellowknife\t\tAntarctica/Casey\t\tAntarctica/Davis\t\t\n",
      "Antarctica/DumontDUrville\t\tAntarctica/Macquarie\t\tAntarctica/Mawson\t\tAntarctica/McMurdo\t\t\n",
      "Antarctica/Palmer\t\tAntarctica/Rothera\t\tAntarctica/South_Pole\t\tAntarctica/Syowa\t\t\n",
      "Antarctica/Troll\t\tAntarctica/Vostok\t\tArctic/Longyearbyen\t\tAsia/Aden\t\t\n",
      "Asia/Almaty\t\tAsia/Amman\t\tAsia/Anadyr\t\tAsia/Aqtau\t\t\n",
      "Asia/Aqtobe\t\tAsia/Ashgabat\t\tAsia/Ashkhabad\t\tAsia/Atyrau\t\t\n",
      "Asia/Baghdad\t\tAsia/Bahrain\t\tAsia/Baku\t\tAsia/Bangkok\t\t\n",
      "Asia/Barnaul\t\tAsia/Beirut\t\tAsia/Bishkek\t\tAsia/Brunei\t\t\n",
      "Asia/Calcutta\t\tAsia/Chita\t\tAsia/Choibalsan\t\tAsia/Chongqing\t\t\n",
      "Asia/Chungking\t\tAsia/Colombo\t\tAsia/Dacca\t\tAsia/Damascus\t\t\n",
      "Asia/Dhaka\t\tAsia/Dili\t\tAsia/Dubai\t\tAsia/Dushanbe\t\t\n",
      "Asia/Famagusta\t\tAsia/Gaza\t\tAsia/Harbin\t\tAsia/Hebron\t\t\n",
      "Asia/Ho_Chi_Minh\t\tAsia/Hong_Kong\t\tAsia/Hovd\t\tAsia/Irkutsk\t\t\n",
      "Asia/Istanbul\t\tAsia/Jakarta\t\tAsia/Jayapura\t\tAsia/Jerusalem\t\t\n",
      "Asia/Kabul\t\tAsia/Kamchatka\t\tAsia/Karachi\t\tAsia/Kashgar\t\t\n",
      "Asia/Kathmandu\t\tAsia/Katmandu\t\tAsia/Khandyga\t\tAsia/Kolkata\t\t\n",
      "Asia/Krasnoyarsk\t\tAsia/Kuala_Lumpur\t\tAsia/Kuching\t\tAsia/Kuwait\t\t\n",
      "Asia/Macao\t\tAsia/Macau\t\tAsia/Magadan\t\tAsia/Makassar\t\t\n",
      "Asia/Manila\t\tAsia/Muscat\t\tAsia/Nicosia\t\tAsia/Novokuznetsk\t\t\n",
      "Asia/Novosibirsk\t\tAsia/Omsk\t\tAsia/Oral\t\tAsia/Phnom_Penh\t\t\n",
      "Asia/Pontianak\t\tAsia/Pyongyang\t\tAsia/Qatar\t\tAsia/Qostanay\t\t\n",
      "Asia/Qyzylorda\t\tAsia/Rangoon\t\tAsia/Riyadh\t\tAsia/Saigon\t\t\n",
      "Asia/Sakhalin\t\tAsia/Samarkand\t\tAsia/Seoul\t\tAsia/Shanghai\t\t\n",
      "Asia/Singapore\t\tAsia/Srednekolymsk\t\tAsia/Taipei\t\tAsia/Tashkent\t\t\n",
      "Asia/Tbilisi\t\tAsia/Tehran\t\tAsia/Tel_Aviv\t\tAsia/Thimbu\t\t\n",
      "Asia/Thimphu\t\tAsia/Tokyo\t\tAsia/Tomsk\t\tAsia/Ujung_Pandang\t\t\n",
      "Asia/Ulaanbaatar\t\tAsia/Ulan_Bator\t\tAsia/Urumqi\t\tAsia/Ust-Nera\t\t\n",
      "Asia/Vientiane\t\tAsia/Vladivostok\t\tAsia/Yakutsk\t\tAsia/Yangon\t\t\n",
      "Asia/Yekaterinburg\t\tAsia/Yerevan\t\tAtlantic/Azores\t\tAtlantic/Bermuda\t\t\n",
      "Atlantic/Canary\t\tAtlantic/Cape_Verde\t\tAtlantic/Faeroe\t\tAtlantic/Faroe\t\t\n",
      "Atlantic/Jan_Mayen\t\tAtlantic/Madeira\t\tAtlantic/Reykjavik\t\tAtlantic/South_Georgia\t\t\n",
      "Atlantic/St_Helena\t\tAtlantic/Stanley\t\tAustralia/ACT\t\tAustralia/Adelaide\t\t\n",
      "Australia/Brisbane\t\tAustralia/Broken_Hill\t\tAustralia/Canberra\t\tAustralia/Currie\t\t\n",
      "Australia/Darwin\t\tAustralia/Eucla\t\tAustralia/Hobart\t\tAustralia/LHI\t\t\n",
      "Australia/Lindeman\t\tAustralia/Lord_Howe\t\tAustralia/Melbourne\t\tAustralia/NSW\t\t\n",
      "Australia/North\t\tAustralia/Perth\t\tAustralia/Queensland\t\tAustralia/South\t\t\n",
      "Australia/Sydney\t\tAustralia/Tasmania\t\tAustralia/Victoria\t\tAustralia/West\t\t\n",
      "Australia/Yancowinna\t\tBrazil/Acre\t\tBrazil/DeNoronha\t\tBrazil/East\t\t\n",
      "Brazil/West\t\tCET\t\tCST6CDT\t\tCanada/Atlantic\t\t\n",
      "Canada/Central\t\tCanada/Eastern\t\tCanada/Mountain\t\tCanada/Newfoundland\t\t\n",
      "Canada/Pacific\t\tCanada/Saskatchewan\t\tCanada/Yukon\t\tChile/Continental\t\t\n",
      "Chile/EasterIsland\t\tCuba\t\tEET\t\tEST\t\t\n",
      "EST5EDT\t\tEgypt\t\tEire\t\tEtc/GMT\t\t\n",
      "Etc/GMT+0\t\tEtc/GMT+1\t\tEtc/GMT+10\t\tEtc/GMT+11\t\t\n",
      "Etc/GMT+12\t\tEtc/GMT+2\t\tEtc/GMT+3\t\tEtc/GMT+4\t\t\n",
      "Etc/GMT+5\t\tEtc/GMT+6\t\tEtc/GMT+7\t\tEtc/GMT+8\t\t\n",
      "Etc/GMT+9\t\tEtc/GMT-0\t\tEtc/GMT-1\t\tEtc/GMT-10\t\t\n",
      "Etc/GMT-11\t\tEtc/GMT-12\t\tEtc/GMT-13\t\tEtc/GMT-14\t\t\n",
      "Etc/GMT-2\t\tEtc/GMT-3\t\tEtc/GMT-4\t\tEtc/GMT-5\t\t\n",
      "Etc/GMT-6\t\tEtc/GMT-7\t\tEtc/GMT-8\t\tEtc/GMT-9\t\t\n",
      "Etc/GMT0\t\tEtc/Greenwich\t\tEtc/UCT\t\tEtc/UTC\t\t\n",
      "Etc/Universal\t\tEtc/Zulu\t\tEurope/Amsterdam\t\tEurope/Andorra\t\t\n",
      "Europe/Astrakhan\t\tEurope/Athens\t\tEurope/Belfast\t\tEurope/Belgrade\t\t\n",
      "Europe/Berlin\t\tEurope/Bratislava\t\tEurope/Brussels\t\tEurope/Bucharest\t\t\n",
      "Europe/Budapest\t\tEurope/Busingen\t\tEurope/Chisinau\t\tEurope/Copenhagen\t\t\n",
      "Europe/Dublin\t\tEurope/Gibraltar\t\tEurope/Guernsey\t\tEurope/Helsinki\t\t\n",
      "Europe/Isle_of_Man\t\tEurope/Istanbul\t\tEurope/Jersey\t\tEurope/Kaliningrad\t\t\n",
      "Europe/Kiev\t\tEurope/Kirov\t\tEurope/Kyiv\t\tEurope/Lisbon\t\t\n",
      "Europe/Ljubljana\t\tEurope/London\t\tEurope/Luxembourg\t\tEurope/Madrid\t\t\n",
      "Europe/Malta\t\tEurope/Mariehamn\t\tEurope/Minsk\t\tEurope/Monaco\t\t\n",
      "Europe/Moscow\t\tEurope/Nicosia\t\tEurope/Oslo\t\tEurope/Paris\t\t\n",
      "Europe/Podgorica\t\tEurope/Prague\t\tEurope/Riga\t\tEurope/Rome\t\t\n",
      "Europe/Samara\t\tEurope/San_Marino\t\tEurope/Sarajevo\t\tEurope/Saratov\t\t\n",
      "Europe/Simferopol\t\tEurope/Skopje\t\tEurope/Sofia\t\tEurope/Stockholm\t\t\n",
      "Europe/Tallinn\t\tEurope/Tirane\t\tEurope/Tiraspol\t\tEurope/Ulyanovsk\t\t\n",
      "Europe/Uzhgorod\t\tEurope/Vaduz\t\tEurope/Vatican\t\tEurope/Vienna\t\t\n",
      "Europe/Vilnius\t\tEurope/Volgograd\t\tEurope/Warsaw\t\tEurope/Zagreb\t\t\n",
      "Europe/Zaporozhye\t\tEurope/Zurich\t\tGB\t\tGB-Eire\t\t\n",
      "GMT\t\tGMT+0\t\tGMT-0\t\tGMT0\t\t\n",
      "Greenwich\t\tHST\t\tHongkong\t\tIceland\t\t\n",
      "Indian/Antananarivo\t\tIndian/Chagos\t\tIndian/Christmas\t\tIndian/Cocos\t\t\n",
      "Indian/Comoro\t\tIndian/Kerguelen\t\tIndian/Mahe\t\tIndian/Maldives\t\t\n",
      "Indian/Mauritius\t\tIndian/Mayotte\t\tIndian/Reunion\t\tIran\t\t\n",
      "Israel\t\tJamaica\t\tJapan\t\tKwajalein\t\t\n",
      "Libya\t\tMET\t\tMST\t\tMST7MDT\t\t\n",
      "Mexico/BajaNorte\t\tMexico/BajaSur\t\tMexico/General\t\tNZ\t\t\n",
      "NZ-CHAT\t\tNavajo\t\tPRC\t\tPST8PDT\t\t\n",
      "Pacific/Apia\t\tPacific/Auckland\t\tPacific/Bougainville\t\tPacific/Chatham\t\t\n",
      "Pacific/Chuuk\t\tPacific/Easter\t\tPacific/Efate\t\tPacific/Enderbury\t\t\n",
      "Pacific/Fakaofo\t\tPacific/Fiji\t\tPacific/Funafuti\t\tPacific/Galapagos\t\t\n",
      "Pacific/Gambier\t\tPacific/Guadalcanal\t\tPacific/Guam\t\tPacific/Honolulu\t\t\n",
      "Pacific/Johnston\t\tPacific/Kanton\t\tPacific/Kiritimati\t\tPacific/Kosrae\t\t\n",
      "Pacific/Kwajalein\t\tPacific/Majuro\t\tPacific/Marquesas\t\tPacific/Midway\t\t\n",
      "Pacific/Nauru\t\tPacific/Niue\t\tPacific/Norfolk\t\tPacific/Noumea\t\t\n",
      "Pacific/Pago_Pago\t\tPacific/Palau\t\tPacific/Pitcairn\t\tPacific/Pohnpei\t\t\n",
      "Pacific/Ponape\t\tPacific/Port_Moresby\t\tPacific/Rarotonga\t\tPacific/Saipan\t\t\n",
      "Pacific/Samoa\t\tPacific/Tahiti\t\tPacific/Tarawa\t\tPacific/Tongatapu\t\t\n",
      "Pacific/Truk\t\tPacific/Wake\t\tPacific/Wallis\t\tPacific/Yap\t\t\n",
      "Poland\t\tPortugal\t\tROC\t\tROK\t\t\n",
      "Singapore\t\tTurkey\t\tUCT\t\tUS/Alaska\t\t\n",
      "US/Aleutian\t\tUS/Arizona\t\tUS/Central\t\tUS/East-Indiana\t\t\n",
      "US/Eastern\t\tUS/Hawaii\t\tUS/Indiana-Starke\t\tUS/Michigan\t\t\n",
      "US/Mountain\t\tUS/Pacific\t\tUS/Samoa\t\tUTC\t\t\n",
      "Universal\t\tW-SU\t\tWET\t\tZulu\t\t"
     ]
    }
   ],
   "source": [
    "for index, tz in enumerate(pytz.all_timezones):\n",
    "    if index % 4 == 0:\n",
    "        print()\n",
    "    print(tz, end=\"\\t\\t\")"
   ]
  },
  {
   "cell_type": "code",
   "execution_count": 55,
   "metadata": {},
   "outputs": [
    {
     "name": "stdout",
     "output_type": "stream",
     "text": [
      "India now           : 2023-05-20 23:00:53.179498+05:30\n",
      "tzinfo              : Asia/Kolkata\n"
     ]
    }
   ],
   "source": [
    "IST_TZ = pytz.timezone(\"Asia/Kolkata\")\n",
    "ist_now = IST_TZ.normalize(utc_now)\n",
    "\n",
    "print(f\"India now           : {ist_now}\")\n",
    "print(f\"tzinfo              : {ist_now.tzinfo}\")"
   ]
  },
  {
   "cell_type": "code",
   "execution_count": 56,
   "metadata": {},
   "outputs": [
    {
     "data": {
      "text/plain": [
       "596"
      ]
     },
     "execution_count": 56,
     "metadata": {},
     "output_type": "execute_result"
    }
   ],
   "source": [
    "len(pytz.all_timezones)"
   ]
  },
  {
   "cell_type": "code",
   "execution_count": 57,
   "metadata": {},
   "outputs": [
    {
     "data": {
      "text/plain": [
       "433"
      ]
     },
     "execution_count": 57,
     "metadata": {},
     "output_type": "execute_result"
    }
   ],
   "source": [
    "len(pytz.common_timezones)"
   ]
  },
  {
   "cell_type": "code",
   "execution_count": 58,
   "metadata": {},
   "outputs": [
    {
     "name": "stdout",
     "output_type": "stream",
     "text": [
      "kiev_tz.zone           :Europe/Kiev\n",
      "dt.strftime(fmt)       :2014-11-02 15:25:00 EET+0200\n",
      "dt.strftime(fmt)       :2014-11-02 17:25:00 EET+0200\n",
      "now.astimezone(kiev_tz):2023-05-20 20:30:55.123973+03:00\n"
     ]
    }
   ],
   "source": [
    "# Method 1\n",
    "kiev_tz = pytz.timezone(\"Europe/Kiev\")\n",
    "print(f\"kiev_tz.zone           :{kiev_tz.zone}\")\n",
    "\n",
    "dt = kiev_tz.localize(datetime.datetime(2014, 11, 2, 15, 25, 0))\n",
    "\n",
    "fmt = \"%Y-%m-%d %H:%M:%S %Z%z\"\n",
    "print(f\"dt.strftime(fmt)       :{dt.strftime(fmt)}\")\n",
    "\n",
    "# Method 2\n",
    "utc_dt = datetime.datetime(2014, 11, 2, 15, 25, 0, tzinfo=pytz.utc)\n",
    "dt = utc_dt.astimezone(kiev_tz)\n",
    "print(f\"dt.strftime(fmt)       :{dt.strftime(fmt)}\")\n",
    "\n",
    "# Method 3\n",
    "now = datetime.datetime.utcnow().replace(tzinfo=pytz.utc)\n",
    "print(f\"now.astimezone(kiev_tz):{now.astimezone(kiev_tz)}\")"
   ]
  },
  {
   "cell_type": "code",
   "execution_count": 59,
   "metadata": {},
   "outputs": [],
   "source": [
    "utc_now_1 = datetime.datetime.now(tz=pytz.UTC)\n",
    "# utc_now_2 = datetime.datetime.utcnow(tz=pytz.UTC)  # utcnow doesnt accept any keywords\n",
    "\n",
    "UTC_TZ = pytz.timezone(\"UTC\")\n",
    "naive_utc_now = datetime.datetime.utcnow()\n",
    "utc_now_2 = UTC_TZ.localize(naive_utc_now)"
   ]
  },
  {
   "cell_type": "code",
   "execution_count": 60,
   "metadata": {},
   "outputs": [
    {
     "data": {
      "text/plain": [
       "datetime.datetime(2023, 5, 20, 17, 30, 55, 268454, tzinfo=<UTC>)"
      ]
     },
     "execution_count": 60,
     "metadata": {},
     "output_type": "execute_result"
    }
   ],
   "source": [
    "utc_now_1"
   ]
  },
  {
   "cell_type": "code",
   "execution_count": 61,
   "metadata": {},
   "outputs": [
    {
     "data": {
      "text/plain": [
       "datetime.datetime(2023, 5, 20, 17, 30, 55, 268520, tzinfo=<UTC>)"
      ]
     },
     "execution_count": 61,
     "metadata": {},
     "output_type": "execute_result"
    }
   ],
   "source": [
    "utc_now_2"
   ]
  },
  {
   "cell_type": "code",
   "execution_count": 62,
   "metadata": {},
   "outputs": [],
   "source": [
    "assert utc_now_1 != utc_now_2"
   ]
  },
  {
   "cell_type": "code",
   "execution_count": 63,
   "metadata": {},
   "outputs": [],
   "source": [
    "# zoneinfo module is new in python 3.9\n",
    "# zoneinfo support the IANA time zone database\n",
    "\n",
    "from zoneinfo import ZoneInfo\n",
    "\n",
    "eastern = ZoneInfo(\"America/Los_Angeles\")  # \"US/Eastern\")"
   ]
  },
  {
   "cell_type": "code",
   "execution_count": 64,
   "metadata": {},
   "outputs": [
    {
     "data": {
      "text/plain": [
       "-8.0"
      ]
     },
     "execution_count": 64,
     "metadata": {},
     "output_type": "execute_result"
    }
   ],
   "source": [
    "winter_time = datetime.datetime(2022, 12, 1)\n",
    "eastern.utcoffset(winter_time).total_seconds() / 3600"
   ]
  },
  {
   "cell_type": "code",
   "execution_count": 65,
   "metadata": {},
   "outputs": [
    {
     "data": {
      "text/plain": [
       "-7.0"
      ]
     },
     "execution_count": 65,
     "metadata": {},
     "output_type": "execute_result"
    }
   ],
   "source": [
    "summer_time = datetime.datetime(2022, 7, 1)\n",
    "eastern.utcoffset(summer_time).total_seconds() / 3600"
   ]
  },
  {
   "cell_type": "code",
   "execution_count": 66,
   "metadata": {},
   "outputs": [
    {
     "name": "stdout",
     "output_type": "stream",
     "text": [
      "2020-10-31 12:00:00-07:00 PDT\n"
     ]
    }
   ],
   "source": [
    "dt = datetime.datetime(2020, 10, 31, 12, tzinfo=ZoneInfo(\"America/Los_Angeles\"))\n",
    "print(dt, dt.tzname())"
   ]
  },
  {
   "cell_type": "code",
   "execution_count": 67,
   "metadata": {},
   "outputs": [
    {
     "name": "stdout",
     "output_type": "stream",
     "text": [
      "2020-11-01 12:00:00-08:00 PST\n"
     ]
    }
   ],
   "source": [
    "from datetime import timedelta\n",
    "\n",
    "dt_add = dt + timedelta(days=1)\n",
    "\n",
    "print(dt_add, dt_add.tzname())"
   ]
  },
  {
   "cell_type": "markdown",
   "metadata": {},
   "source": [
    "__Problem:__ For a given date, tell the week of the day"
   ]
  },
  {
   "cell_type": "code",
   "execution_count": 68,
   "metadata": {},
   "outputs": [
    {
     "name": "stdout",
     "output_type": "stream",
     "text": [
      "Today is day number 5\n",
      "which is a saturday\n"
     ]
    }
   ],
   "source": [
    "local_now = datetime.datetime.now()\n",
    "\n",
    "# weekday returns 0 (monday) through 6 (sunday)\n",
    "wd = datetime.date.weekday(today)\n",
    "\n",
    "# Days start at 0 for monday\n",
    "days = (\"monday\", \"tuesday\", \"wednesday\", \"thursday\", \"friday\", \"saturday\", \"sunday\")\n",
    "print(f\"Today is day number {wd}\")\n",
    "print(f\"which is a {days[wd]}\")"
   ]
  },
  {
   "cell_type": "code",
   "execution_count": 69,
   "metadata": {},
   "outputs": [],
   "source": [
    "DAYS = (\"monday\", \"tuesday\", \"wednesday\", \"thursday\", \"friday\", \"saturday\", \"sunday\")\n",
    "\n",
    "\n",
    "def get_week_of_day(given_date, date_frmt):\n",
    "    date_obj = datetime.datetime.strptime(given_date, date_frmt)\n",
    "    # print(date_obj)\n",
    "    wd = datetime.date.weekday(date_obj)\n",
    "    return f\"week of day for {given_date} is {DAYS[wd]}\""
   ]
  },
  {
   "cell_type": "code",
   "execution_count": 70,
   "metadata": {},
   "outputs": [
    {
     "data": {
      "text/plain": [
       "'week of day for 23-03-1978 is thursday'"
      ]
     },
     "execution_count": 70,
     "metadata": {},
     "output_type": "execute_result"
    }
   ],
   "source": [
    "get_week_of_day(\"23-03-1978\", \"%d-%m-%Y\")"
   ]
  },
  {
   "cell_type": "code",
   "execution_count": 71,
   "metadata": {},
   "outputs": [
    {
     "data": {
      "text/plain": [
       "'week of day for 11/09/1988 is wednesday'"
      ]
     },
     "execution_count": 71,
     "metadata": {},
     "output_type": "execute_result"
    }
   ],
   "source": [
    "get_week_of_day(\"11/09/1988\", \"%m/%d/%Y\")"
   ]
  },
  {
   "cell_type": "code",
   "execution_count": 72,
   "metadata": {},
   "outputs": [
    {
     "data": {
      "text/plain": [
       "'week of day for 23 March 2020 is monday'"
      ]
     },
     "execution_count": 72,
     "metadata": {},
     "output_type": "execute_result"
    }
   ],
   "source": [
    "get_week_of_day(\"23 March 2020\", \"%d %B %Y\")"
   ]
  }
 ],
 "metadata": {
  "kernelspec": {
   "display_name": "Python 3 (ipykernel)",
   "language": "python",
   "name": "python3"
  },
  "language_info": {
   "codemirror_mode": {
    "name": "ipython",
    "version": 3
   },
   "file_extension": ".py",
   "mimetype": "text/x-python",
   "name": "python",
   "nbconvert_exporter": "python",
   "pygments_lexer": "ipython3",
   "version": "3.10.4"
  },
  "vscode": {
   "interpreter": {
    "hash": "d41ca55ab43b6c8712a0a50ace8b798dc0be2fafae45df6810e0e4e55ab49b9b"
   }
  }
 },
 "nbformat": 4,
 "nbformat_minor": 2
}
