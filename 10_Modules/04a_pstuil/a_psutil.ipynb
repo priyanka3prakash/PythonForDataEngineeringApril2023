{
 "cells": [
  {
   "cell_type": "code",
   "execution_count": 1,
   "metadata": {},
   "outputs": [],
   "source": [
    "import psutil\n",
    "import datetime"
   ]
  },
  {
   "cell_type": "code",
   "execution_count": 2,
   "metadata": {},
   "outputs": [
    {
     "name": "stdout",
     "output_type": "stream",
     "text": [
      "Requirement already satisfied: psutil in /workspaces/PythonForDataEngineeringApril2023/.venv/lib/python3.10/site-packages (5.9.5)\n"
     ]
    }
   ],
   "source": [
    "! pip install psutil"
   ]
  },
  {
   "cell_type": "code",
   "execution_count": 3,
   "metadata": {},
   "outputs": [
    {
     "name": "stdout",
     "output_type": "stream",
     "text": [
      "System boot time: 2023-05-16 14:03:48\n"
     ]
    }
   ],
   "source": [
    "boot_time = psutil.boot_time()\n",
    "print(\n",
    "    f\"System boot time: {datetime.datetime.fromtimestamp(boot_time).strftime('%Y-%m-%d %H:%M:%S')}\"\n",
    ")"
   ]
  },
  {
   "cell_type": "code",
   "execution_count": 4,
   "metadata": {},
   "outputs": [
    {
     "name": "stdout",
     "output_type": "stream",
     "text": [
      "CPU usage: 10.8%\n"
     ]
    }
   ],
   "source": [
    "cpu_percent = psutil.cpu_percent()\n",
    "print(f\"CPU usage: {cpu_percent}%\")"
   ]
  },
  {
   "cell_type": "code",
   "execution_count": 5,
   "metadata": {},
   "outputs": [
    {
     "name": "stdout",
     "output_type": "stream",
     "text": [
      "Total memory       : 4123176960\n",
      "Available memory   : 1979416576\n",
      "Memory percent used: 52.0%\n"
     ]
    }
   ],
   "source": [
    "mem_info = psutil.virtual_memory()\n",
    "print(f\"Total memory       : {mem_info.total}\")\n",
    "print(f\"Available memory   : {mem_info.available}\")\n",
    "print(f\"Memory percent used: {mem_info.percent}%\")"
   ]
  },
  {
   "cell_type": "code",
   "execution_count": 6,
   "metadata": {},
   "outputs": [
    {
     "name": "stdout",
     "output_type": "stream",
     "text": [
      "Total disk space       : 33636024320\n",
      "Free disk space        : 18565124096\n",
      "Disk space percent used: 41.8%\n"
     ]
    }
   ],
   "source": [
    "disk_usage = psutil.disk_usage(\"/\")\n",
    "print(f\"Total disk space       : {disk_usage.total}\")\n",
    "print(f\"Free disk space        : {disk_usage.free}\")\n",
    "print(f\"Disk space percent used: {disk_usage.percent}%\")"
   ]
  },
  {
   "cell_type": "code",
   "execution_count": 7,
   "metadata": {},
   "outputs": [
    {
     "name": "stdout",
     "output_type": "stream",
     "text": [
      "Number of processes: 22\n"
     ]
    }
   ],
   "source": [
    "# No of running processes\n",
    "\n",
    "num_processes = len(psutil.pids())\n",
    "print(f\"Number of processes: {num_processes}\")"
   ]
  },
  {
   "cell_type": "code",
   "execution_count": 8,
   "metadata": {},
   "outputs": [
    {
     "name": "stdout",
     "output_type": "stream",
     "text": [
      "Process name       : node\n",
      "Process status     : running\n",
      "Process memory info: pmem(rss=486207488, vms=1435545600, shared=36360192, text=72474624, lib=0, data=492535808, dirty=0)\n",
      "Process CPU usage: 1.0%\n",
      "Process memory usage: 486473728\n",
      "Process start time: 1684246258.84\n",
      "Process command line: ['/vscode/bin/linux-x64/b3e4e68a0bc097f0ae7907b217c1119af9e03435/node', '/home/codespace/.vscode-remote/extensions/ms-python.vscode-pylance-2023.5.20/dist/server.bundle.js', '--cancellationReceive=file:297f4533da1f41ce24f4b1ec24bf283cb2709e178f', '--node-ipc', '--clientProcessId=411']\n",
      "\n",
      "Process name       : python3\n",
      "Process status     : sleeping\n",
      "Process memory info: pmem(rss=42860544, vms=202047488, shared=8847360, text=2809856, lib=0, data=52154368, dirty=0)\n",
      "Process CPU usage: 0.0%\n",
      "Process memory usage: 42860544\n",
      "Process start time: 1684246354.27\n",
      "Process command line: ['/home/codespace/.python/current/bin/python3', '/home/codespace/.vscode-remote/extensions/ms-python.pylint-2023.4.0/bundled/tool/lsp_server.py']\n",
      "\n",
      "Process name       : python\n",
      "Process status     : sleeping\n",
      "Process memory info: pmem(rss=74489856, vms=797028352, shared=15437824, text=2809856, lib=0, data=170242048, dirty=0)\n",
      "Process CPU usage: 0.0%\n",
      "Process memory usage: 74489856\n",
      "Process start time: 1684246382.57\n",
      "Process command line: ['/workspaces/PythonForDataEngineeringApril2023/.venv/bin/python', '-m', 'ipykernel_launcher', '--ip=127.0.0.1', '--stdin=9003', '--control=9001', '--hb=9000', '--Session.signature_scheme=\"hmac-sha256\"', '--Session.key=b\"b8ba27a6-0180-4bf9-ae7b-b3c4d9f9644d\"', '--shell=9002', '--transport=\"tcp\"', '--iopub=9004', '--f=/home/codespace/.local/share/jupyter/runtime/kernel-v2-4115lXic36TTysg.json']\n",
      "\n",
      "Process name       : node\n",
      "Process status     : sleeping\n",
      "Process memory info: pmem(rss=44978176, vms=606330880, shared=32694272, text=72474624, lib=0, data=55635968, dirty=0)\n",
      "Process CPU usage: 0.0%\n",
      "Process memory usage: 44978176\n",
      "Process start time: 1684250818.56\n",
      "Process command line: ['/vscode/bin/linux-x64/b3e4e68a0bc097f0ae7907b217c1119af9e03435/node', '/vscode/bin/linux-x64/b3e4e68a0bc097f0ae7907b217c1119af9e03435/extensions/json-language-features/server/dist/node/jsonServerMain', '--node-ipc', '--clientProcessId=411']\n",
      "\n",
      "Process name       : python\n",
      "Process status     : running\n",
      "Process memory info: pmem(rss=61624320, vms=692678656, shared=15400960, text=2809856, lib=0, data=131538944, dirty=0)\n",
      "Process CPU usage: 0.0%\n",
      "Process memory usage: 61624320\n",
      "Process start time: 1684250856.26\n",
      "Process command line: ['/workspaces/PythonForDataEngineeringApril2023/.venv/bin/python', '-m', 'ipykernel_launcher', '--ip=127.0.0.1', '--stdin=9008', '--control=9006', '--hb=9005', '--Session.signature_scheme=\"hmac-sha256\"', '--Session.key=b\"ec294287-1fd9-4e56-9a7e-d71614588361\"', '--shell=9007', '--transport=\"tcp\"', '--iopub=9009', '--f=/home/codespace/.local/share/jupyter/runtime/kernel-v2-411LzESGhUAlXB4.json']\n",
      "\n"
     ]
    }
   ],
   "source": [
    "pids_5 = list(psutil.pids())[-5:]\n",
    "\n",
    "for pid in pids_5:\n",
    "    process = psutil.Process(pid)\n",
    "    print(f\"Process name       : {process.name()}\")\n",
    "    print(f\"Process status     : {process.status()}\")\n",
    "    print(f\"Process memory info: {process.memory_info()}\")\n",
    "\n",
    "    cpu_percent = process.cpu_percent(interval=1)\n",
    "    print(f\"Process CPU usage: {cpu_percent}%\")\n",
    "\n",
    "    memory_info = process.memory_info()\n",
    "    print(f\"Process memory usage: {memory_info.rss}\")\n",
    "\n",
    "    start_time = process.create_time()\n",
    "    print(f\"Process start time: {start_time}\")\n",
    "\n",
    "    cmdline = process.cmdline()\n",
    "    print(f\"Process command line: {cmdline}\")\n",
    "    print()"
   ]
  },
  {
   "cell_type": "markdown",
   "metadata": {},
   "source": [
    "```\n",
    "    pid = 1234\n",
    "    process = psutil.Process(pid)\n",
    "\n",
    "    # Suspend a process\n",
    "    process.suspend()\n",
    "\n",
    "    # Resume a process\n",
    "    process.resume()\n",
    "\n",
    "    # Kill a process\n",
    "    process.kill()\n",
    "```"
   ]
  },
  {
   "cell_type": "code",
   "execution_count": 9,
   "metadata": {},
   "outputs": [
    {
     "name": "stdout",
     "output_type": "stream",
     "text": [
      "PID of python: 3299\n",
      "PID of python: 31938\n"
     ]
    }
   ],
   "source": [
    "# Get the process ID (PID) of a process by name\n",
    "process_name = \"python\"\n",
    "for proc in psutil.process_iter([\"name\"]):\n",
    "    if proc.info[\"name\"] == process_name:\n",
    "        print(f\"PID of {process_name}: {proc.pid}\")"
   ]
  },
  {
   "cell_type": "code",
   "execution_count": 10,
   "metadata": {},
   "outputs": [
    {
     "data": {
      "text/plain": [
       "{'docker0': snetio(bytes_sent=0, bytes_recv=0, packets_sent=0, packets_recv=0, errin=0, errout=0, dropin=0, dropout=0),\n",
       " 'eth0': snetio(bytes_sent=363043609, bytes_recv=2881638590, packets_sent=299238, packets_recv=2161405, errin=0, errout=0, dropin=0, dropout=0),\n",
       " 'lo': snetio(bytes_sent=291715076, bytes_recv=291715076, packets_sent=180589, packets_recv=180589, errin=0, errout=0, dropin=0, dropout=0)}"
      ]
     },
     "execution_count": 10,
     "metadata": {},
     "output_type": "execute_result"
    }
   ],
   "source": [
    "# Get the network usage for a given network interface\n",
    "\n",
    "net_io_counters = psutil.net_io_counters(pernic=True)\n",
    "\n",
    "net_io_counters"
   ]
  },
  {
   "cell_type": "code",
   "execution_count": 11,
   "metadata": {},
   "outputs": [
    {
     "name": "stdout",
     "output_type": "stream",
     "text": [
      "\n",
      "Bytes sent  : 0\n",
      "Bytes received: 0\n",
      "Packets sent  : 0\n",
      "Packets received: 0\n",
      "DropIn        : 0\n",
      "DropOut       : 0\n",
      "count         : <built-in method count of snetio object at 0x7f051eb02030>\n",
      "\n",
      "Bytes sent  : 363043609\n",
      "Bytes received: 2881638590\n",
      "Packets sent  : 299238\n",
      "Packets received: 2161405\n",
      "DropIn        : 0\n",
      "DropOut       : 0\n",
      "count         : <built-in method count of snetio object at 0x7f051eb020a0>\n",
      "\n",
      "Bytes sent  : 291715076\n",
      "Bytes received: 291715076\n",
      "Packets sent  : 180589\n",
      "Packets received: 180589\n",
      "DropIn        : 0\n",
      "DropOut       : 0\n",
      "count         : <built-in method count of snetio object at 0x7f051eb02110>\n"
     ]
    }
   ],
   "source": [
    "for interface in net_io_counters:\n",
    "    print(f\"\\nBytes sent  : {net_io_counters[interface].bytes_sent}\")\n",
    "    print(f\"Bytes received: {net_io_counters[interface].bytes_recv}\")\n",
    "    print(f\"Packets sent  : {net_io_counters[interface].packets_sent}\")\n",
    "    print(f\"Packets received: {net_io_counters[interface].packets_recv}\")\n",
    "    print(f\"DropIn        : {net_io_counters[interface].dropin}\")\n",
    "    print(f\"DropOut       : {net_io_counters[interface].dropout}\")\n",
    "    print(f\"count         : {net_io_counters[interface].count}\")"
   ]
  },
  {
   "cell_type": "code",
   "execution_count": 12,
   "metadata": {},
   "outputs": [
    {
     "name": "stdout",
     "output_type": "stream",
     "text": [
      "Number of connections: 72\n"
     ]
    }
   ],
   "source": [
    "num_connections = len(psutil.net_connections())\n",
    "print(f\"Number of connections: {num_connections}\")"
   ]
  },
  {
   "cell_type": "code",
   "execution_count": 13,
   "metadata": {},
   "outputs": [
    {
     "name": "stdout",
     "output_type": "stream",
     "text": [
      "/\n",
      "/proc\n",
      "/dev\n",
      "/dev/pts\n",
      "/sys\n",
      "/sys/fs/cgroup\n",
      "/sys/fs/cgroup/systemd\n",
      "/sys/fs/cgroup/blkio\n",
      "/sys/fs/cgroup/perf_event\n",
      "/sys/fs/cgroup/pids\n",
      "/sys/fs/cgroup/rdma\n",
      "/sys/fs/cgroup/devices\n",
      "/sys/fs/cgroup/freezer\n",
      "/sys/fs/cgroup/hugetlb\n",
      "/sys/fs/cgroup/memory\n",
      "/sys/fs/cgroup/cpuset\n",
      "/sys/fs/cgroup/net_cls,net_prio\n",
      "/sys/fs/cgroup/cpu,cpuacct\n",
      "/dev/mqueue\n",
      "/dev/shm\n",
      "/usr/sbin/docker-init\n",
      "/vscode\n",
      "/workspaces\n",
      "/tmp\n",
      "/.codespaces/bin\n",
      "/etc/resolv.conf\n",
      "/etc/hostname\n",
      "/etc/hosts\n",
      "/workspaces/.codespaces/.persistedshare\n",
      "/workspaces/.codespaces/shared\n",
      "/home/vscode/.minikube\n",
      "/var/lib/docker\n",
      "/sys/kernel/security\n"
     ]
    }
   ],
   "source": [
    "# Get the list of mounted file systems\n",
    "\n",
    "partitions = psutil.disk_partitions(all=True)\n",
    "for partition in partitions:\n",
    "    print(partition.mountpoint)"
   ]
  },
  {
   "cell_type": "code",
   "execution_count": 14,
   "metadata": {},
   "outputs": [
    {
     "name": "stdout",
     "output_type": "stream",
     "text": [
      "Battery information not available\n"
     ]
    }
   ],
   "source": [
    "battery = psutil.sensors_battery()\n",
    "if battery is not None:\n",
    "    plugged = \"Plugged in\" if battery.power_plugged else \"Not plugged in\"\n",
    "    print(f\"Battery level: {battery.percent}% ({plugged})\")\n",
    "else:\n",
    "    print(\"Battery information not available\")"
   ]
  }
 ],
 "metadata": {
  "kernelspec": {
   "display_name": "pythonmaterial-4Fyt9FjG-py3.11",
   "language": "python",
   "name": "python3"
  },
  "language_info": {
   "codemirror_mode": {
    "name": "ipython",
    "version": 3
   },
   "file_extension": ".py",
   "mimetype": "text/x-python",
   "name": "python",
   "nbconvert_exporter": "python",
   "pygments_lexer": "ipython3",
   "version": "3.10.4"
  },
  "orig_nbformat": 4
 },
 "nbformat": 4,
 "nbformat_minor": 2
}
