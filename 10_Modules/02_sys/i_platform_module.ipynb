{
 "cells": [
  {
   "cell_type": "markdown",
   "metadata": {},
   "source": [
    "## platform module"
   ]
  },
  {
   "cell_type": "code",
   "execution_count": 2,
   "metadata": {},
   "outputs": [],
   "source": [
    "import platform"
   ]
  },
  {
   "cell_type": "code",
   "execution_count": 3,
   "metadata": {},
   "outputs": [
    {
     "name": "stdout",
     "output_type": "stream",
     "text": [
      "platform.architecture()  : ('64bit', 'ELF')\n",
      "platform.machine()       : x86_64\n",
      "platform.system()        : Linux\n"
     ]
    }
   ],
   "source": [
    "print(\"platform.architecture()  :\", platform.architecture())  # ('64bit', 'WindowsPE')\n",
    "print(\"platform.machine()       :\", platform.machine())  # AMD64\n",
    "print(\"platform.system()        :\", platform.system())  # Windows"
   ]
  },
  {
   "cell_type": "code",
   "execution_count": 4,
   "metadata": {},
   "outputs": [
    {
     "name": "stdout",
     "output_type": "stream",
     "text": [
      "platform.python_revision()       = ''\n"
     ]
    }
   ],
   "source": [
    "print(f\"{platform.python_revision()       = }\")"
   ]
  },
  {
   "cell_type": "code",
   "execution_count": 5,
   "metadata": {},
   "outputs": [
    {
     "name": "stdout",
     "output_type": "stream",
     "text": [
      "platform.python_revision()       = ''\n",
      "platform.python_implementation() = 'CPython'\n",
      "platform.python_revision()       = ''\n",
      "platform.python_version()        = '3.10.4'\n",
      "platform.python_version_tuple() = ('3', '10', '4')\n"
     ]
    }
   ],
   "source": [
    "print(f\"{platform.python_revision()       = }\")\n",
    "print(f\"{platform.python_implementation() = }\")\n",
    "print(f\"{platform.python_revision()       = }\")\n",
    "print(f\"{platform.python_version()        = }\")\n",
    "print(f\"{platform.python_version_tuple() = }\")"
   ]
  },
  {
   "cell_type": "code",
   "execution_count": 6,
   "metadata": {},
   "outputs": [
    {
     "name": "stdout",
     "output_type": "stream",
     "text": [
      "platform.uname()                = uname_result(system='Linux', node='codespaces-0fd63b', release='5.4.0-1106-azure', version='#112~18.04.1-Ubuntu SMP Wed Mar 29 20:36:22 UTC 2023', machine='x86_64')\n",
      "platform.version() = '#112~18.04.1-Ubuntu SMP Wed Mar 29 20:36:22 UTC 2023'\n",
      "platform.win32_edition() = None\n",
      "platform.win32_is_iot() = False\n",
      "platform.win32_ver() = ('', '', '', '')\n"
     ]
    }
   ],
   "source": [
    "print(f\"{platform.uname()                = }\")\n",
    "print(f\"{platform.version() = }\")\n",
    "print(f\"{platform.win32_edition() = }\")\n",
    "print(f\"{platform.win32_is_iot() = }\")\n",
    "print(f\"{platform.win32_ver() = }\")"
   ]
  },
  {
   "cell_type": "code",
   "execution_count": 7,
   "metadata": {},
   "outputs": [
    {
     "data": {
      "text/plain": [
       "['_Processor',\n",
       " '_WIN32_CLIENT_RELEASES',\n",
       " '_WIN32_SERVER_RELEASES',\n",
       " '__builtins__',\n",
       " '__cached__',\n",
       " '__copyright__',\n",
       " '__doc__',\n",
       " '__file__',\n",
       " '__loader__',\n",
       " '__name__',\n",
       " '__package__',\n",
       " '__spec__',\n",
       " '__version__',\n",
       " '_comparable_version',\n",
       " '_component_re',\n",
       " '_default_architecture',\n",
       " '_follow_symlinks',\n",
       " '_get_machine_win32',\n",
       " '_ironpython26_sys_version_parser',\n",
       " '_ironpython_sys_version_parser',\n",
       " '_java_getprop',\n",
       " '_libc_search',\n",
       " '_mac_ver_xml',\n",
       " '_node',\n",
       " '_norm_version',\n",
       " '_os_release_cache',\n",
       " '_os_release_candidates',\n",
       " '_os_release_line',\n",
       " '_os_release_unescape',\n",
       " '_parse_os_release',\n",
       " '_platform',\n",
       " '_platform_cache',\n",
       " '_pypy_sys_version_parser',\n",
       " '_sys_version',\n",
       " '_sys_version_cache',\n",
       " '_sys_version_parser',\n",
       " '_syscmd_file',\n",
       " '_syscmd_ver',\n",
       " '_uname_cache',\n",
       " '_unknown_as_blank',\n",
       " '_ver_output',\n",
       " '_ver_stages',\n",
       " 'architecture',\n",
       " 'collections',\n",
       " 'freedesktop_os_release',\n",
       " 'functools',\n",
       " 'itertools',\n",
       " 'java_ver',\n",
       " 'libc_ver',\n",
       " 'mac_ver',\n",
       " 'machine',\n",
       " 'node',\n",
       " 'os',\n",
       " 'platform',\n",
       " 'processor',\n",
       " 'python_branch',\n",
       " 'python_build',\n",
       " 'python_compiler',\n",
       " 'python_implementation',\n",
       " 'python_revision',\n",
       " 'python_version',\n",
       " 'python_version_tuple',\n",
       " 're',\n",
       " 'release',\n",
       " 'subprocess',\n",
       " 'sys',\n",
       " 'system',\n",
       " 'system_alias',\n",
       " 'uname',\n",
       " 'uname_result',\n",
       " 'version',\n",
       " 'win32_edition',\n",
       " 'win32_is_iot',\n",
       " 'win32_ver']"
      ]
     },
     "execution_count": 7,
     "metadata": {},
     "output_type": "execute_result"
    }
   ],
   "source": [
    "dir(platform)"
   ]
  },
  {
   "cell_type": "code",
   "execution_count": null,
   "metadata": {},
   "outputs": [],
   "source": []
  }
 ],
 "metadata": {
  "kernelspec": {
   "display_name": ".venv",
   "language": "python",
   "name": "python3"
  },
  "language_info": {
   "codemirror_mode": {
    "name": "ipython",
    "version": 3
   },
   "file_extension": ".py",
   "mimetype": "text/x-python",
   "name": "python",
   "nbconvert_exporter": "python",
   "pygments_lexer": "ipython3",
   "version": "3.10.4"
  },
  "orig_nbformat": 4
 },
 "nbformat": 4,
 "nbformat_minor": 2
}
