{
 "cells": [
  {
   "cell_type": "code",
   "execution_count": 1,
   "metadata": {},
   "outputs": [],
   "source": [
    "import sys"
   ]
  },
  {
   "cell_type": "code",
   "execution_count": 2,
   "metadata": {},
   "outputs": [
    {
     "name": "stdout",
     "output_type": "stream",
     "text": [
      "['__breakpointhook__', '__displayhook__', '__doc__', '__excepthook__', '__interactivehook__', '__loader__', '__name__', '__package__', '__spec__', '__stderr__', '__stdin__', '__stdout__', '__unraisablehook__', '_base_executable', '_clear_type_cache', '_current_exceptions', '_current_frames', '_deactivate_opcache', '_debugmallocstats', '_framework', '_getframe', '_git', '_home', '_xoptions', 'abiflags', 'addaudithook', 'api_version', 'argv', 'audit', 'base_exec_prefix', 'base_prefix', 'breakpointhook', 'builtin_module_names', 'byteorder', 'call_tracing', 'copyright', 'displayhook', 'dont_write_bytecode', 'exc_info', 'excepthook', 'exec_prefix', 'executable', 'exit', 'flags', 'float_info', 'float_repr_style', 'get_asyncgen_hooks', 'get_coroutine_origin_tracking_depth', 'getallocatedblocks', 'getdefaultencoding', 'getdlopenflags', 'getfilesystemencodeerrors', 'getfilesystemencoding', 'getprofile', 'getrecursionlimit', 'getrefcount', 'getsizeof', 'getswitchinterval', 'gettrace', 'hash_info', 'hexversion', 'implementation', 'int_info', 'intern', 'is_finalizing', 'maxsize', 'maxunicode', 'meta_path', 'modules', 'orig_argv', 'path', 'path_hooks', 'path_importer_cache', 'platform', 'platlibdir', 'prefix', 'ps1', 'ps2', 'ps3', 'pycache_prefix', 'set_asyncgen_hooks', 'set_coroutine_origin_tracking_depth', 'setdlopenflags', 'setprofile', 'setrecursionlimit', 'setswitchinterval', 'settrace', 'stderr', 'stdin', 'stdlib_module_names', 'stdout', 'thread_info', 'unraisablehook', 'version', 'version_info', 'warnoptions']\n"
     ]
    }
   ],
   "source": [
    "print(dir(sys))"
   ]
  },
  {
   "cell_type": "code",
   "execution_count": 3,
   "metadata": {},
   "outputs": [
    {
     "name": "stdout",
     "output_type": "stream",
     "text": [
      "sys.base_exec_prefix = /usr/local/python/3.10.4\n",
      "sys.base_prefix      = /usr/local/python/3.10.4\n",
      "sys.prefix           = /workspaces/PythonForDataEngineeringApril2023/.venv\n",
      "sys.exec_prefix      = /workspaces/PythonForDataEngineeringApril2023/.venv\n"
     ]
    }
   ],
   "source": [
    "print(\"sys.base_exec_prefix =\", sys.base_exec_prefix)\n",
    "print(\"sys.base_prefix      =\", sys.base_prefix)\n",
    "print(\"sys.prefix           =\", sys.prefix)\n",
    "print(\"sys.exec_prefix      =\", sys.exec_prefix)"
   ]
  },
  {
   "cell_type": "code",
   "execution_count": 4,
   "metadata": {},
   "outputs": [
    {
     "name": "stdout",
     "output_type": "stream",
     "text": [
      "sys.byteorder        = little\n"
     ]
    }
   ],
   "source": [
    "# big    - big-endian    (most significant byte first) platforms\n",
    "# little - little-endian (least significant byte first) platforms\n",
    "\n",
    "#    - 128 64 32 16 8 4 2 1\n",
    "# 18 -   0  0 0   1 0 0 1 0\n",
    "print(\"sys.byteorder        =\", sys.byteorder)"
   ]
  },
  {
   "cell_type": "code",
   "execution_count": 5,
   "metadata": {},
   "outputs": [
    {
     "data": {
      "text/plain": [
       "'0b111'"
      ]
     },
     "execution_count": 5,
     "metadata": {},
     "output_type": "execute_result"
    }
   ],
   "source": [
    "bin(7)  # 0000 0111 - little-endian byte order"
   ]
  },
  {
   "cell_type": "code",
   "execution_count": 6,
   "metadata": {},
   "outputs": [
    {
     "name": "stdout",
     "output_type": "stream",
     "text": [
      "sys.copyright        = Copyright (c) 2001-2022 Python Software Foundation.\n",
      "All Rights Reserved.\n",
      "\n",
      "Copyright (c) 2000 BeOpen.com.\n",
      "All Rights Reserved.\n",
      "\n",
      "Copyright (c) 1995-2001 Corporation for National Research Initiatives.\n",
      "All Rights Reserved.\n",
      "\n",
      "Copyright (c) 1991-1995 Stichting Mathematisch Centrum, Amsterdam.\n",
      "All Rights Reserved.\n"
     ]
    }
   ],
   "source": [
    "print(\"sys.copyright        =\", sys.copyright)"
   ]
  },
  {
   "cell_type": "code",
   "execution_count": 7,
   "metadata": {},
   "outputs": [
    {
     "name": "stdout",
     "output_type": "stream",
     "text": [
      "sys._debugmallocstats() = None\n"
     ]
    },
    {
     "name": "stderr",
     "output_type": "stream",
     "text": [
      "Small block threshold = 512, in 32 size classes.\n",
      "\n",
      "class   size   num pools   blocks in use  avail blocks\n",
      "-----   ----   ---------   -------------  ------------\n",
      "    0     16           2            1933           109\n",
      "    1     32          20           10077           123\n",
      "    2     48         120           40513           287\n",
      "    3     64         473          120232           383\n",
      "    4     80         278           56700            12\n",
      "    5     96         108           18350            10\n",
      "    6    112          61            8779            66\n",
      "    7    128          41            5093           114\n",
      "    8    144         192           21686            10\n",
      "    9    160          28            2849             7\n",
      "   10    176         345           31725            15\n",
      "   11    192          21            1710            75\n",
      "   12    208          16            1237            11\n",
      "   13    224          29            2071            17\n",
      "   14    240          11             701            47\n",
      "   15    256          10             582            48\n",
      "   16    272           9             511            29\n",
      "   17    288           7             390             2\n",
      "   18    304          50            2616            34\n",
      "   19    320           8             387            21\n",
      "   20    336           7             317            19\n",
      "   21    352           6             238            38\n",
      "   22    368           6             251            13\n",
      "   23    384           6             248             4\n",
      "   24    400          10             393             7\n",
      "   25    416          15             585             0\n",
      "   26    432          16             583             9\n",
      "   27    448          13             466             2\n",
      "   28    464          11             359            26\n",
      "   29    480          12             376            32\n",
      "   30    496          10             313             7\n",
      "   31    512          13             393            10\n",
      "\n",
      "# arenas allocated total           =                   31\n",
      "# arenas reclaimed                 =                    0\n",
      "# arenas highwater mark            =                   31\n",
      "# arenas allocated current         =                   31\n",
      "31 arenas * 1048576 bytes/arena    =           32,505,856\n",
      "\n",
      "# bytes in allocated blocks        =           31,567,600\n",
      "# bytes in available blocks        =              212,336\n",
      "2 unused pools * 16384 bytes       =               32,768\n",
      "# bytes lost to pool headers       =               93,792\n",
      "# bytes lost to quantization       =              140,608\n",
      "# bytes lost to arena alignment    =              458,752\n",
      "Total                              =           32,505,856\n",
      "\n",
      "arena map counts\n",
      "# arena map mid nodes              =                    1\n",
      "# arena map bot nodes              =                    1\n",
      "\n",
      "# bytes lost to arena map root     =                8,192\n",
      "# bytes lost to arena map mid      =                8,192\n",
      "# bytes lost to arena map bot      =                2,048\n",
      "Total                              =               18,432\n",
      "\n",
      "           29 free PyDictObjects * 48 bytes each =                1,392\n",
      "           7 free PyFloatObjects * 24 bytes each =                  168\n",
      "          2 free PyFrameObjects * 360 bytes each =                  720\n",
      "           54 free PyListObjects * 40 bytes each =                2,160\n",
      "  11 free 1-sized PyTupleObjects * 32 bytes each =                  352\n",
      " 812 free 2-sized PyTupleObjects * 40 bytes each =               32,480\n",
      "  48 free 3-sized PyTupleObjects * 48 bytes each =                2,304\n",
      "  13 free 4-sized PyTupleObjects * 56 bytes each =                  728\n",
      "   2 free 5-sized PyTupleObjects * 64 bytes each =                  128\n",
      "   2 free 6-sized PyTupleObjects * 72 bytes each =                  144\n",
      "   2 free 7-sized PyTupleObjects * 80 bytes each =                  160\n",
      "   2 free 8-sized PyTupleObjects * 88 bytes each =                  176\n",
      "   2 free 9-sized PyTupleObjects * 96 bytes each =                  192\n",
      " 2 free 10-sized PyTupleObjects * 104 bytes each =                  208\n",
      " 0 free 11-sized PyTupleObjects * 112 bytes each =                    0\n",
      " 0 free 12-sized PyTupleObjects * 120 bytes each =                    0\n",
      " 2 free 13-sized PyTupleObjects * 128 bytes each =                  256\n",
      " 1 free 14-sized PyTupleObjects * 136 bytes each =                  136\n",
      " 0 free 15-sized PyTupleObjects * 144 bytes each =                    0\n",
      "10 free 16-sized PyTupleObjects * 152 bytes each =                1,520\n",
      " 4 free 17-sized PyTupleObjects * 160 bytes each =                  640\n",
      " 1 free 18-sized PyTupleObjects * 168 bytes each =                  168\n",
      " 0 free 19-sized PyTupleObjects * 176 bytes each =                    0\n"
     ]
    }
   ],
   "source": [
    "print(\"sys._debugmallocstats() =\", sys._debugmallocstats())"
   ]
  },
  {
   "cell_type": "code",
   "execution_count": 8,
   "metadata": {},
   "outputs": [
    {
     "name": "stdout",
     "output_type": "stream",
     "text": [
      "sys.dont_write_bytecode   = False\n"
     ]
    }
   ],
   "source": [
    "print(\"sys.dont_write_bytecode   =\", sys.dont_write_bytecode)\n",
    "# make this value to True , to stop creation of .pyc files on python file imports"
   ]
  },
  {
   "cell_type": "code",
   "execution_count": 9,
   "metadata": {},
   "outputs": [
    {
     "name": "stdout",
     "output_type": "stream",
     "text": [
      "sys.getdefaultencoding()       = utf-8\n",
      "sys.getfilesystemencoding()    = utf-8\n",
      "sys.getfilesystemencodeerrors()= surrogateescape\n"
     ]
    }
   ],
   "source": [
    "print(\"sys.getdefaultencoding()       =\", sys.getdefaultencoding())\n",
    "print(\"sys.getfilesystemencoding()    =\", sys.getfilesystemencoding())\n",
    "print(\"sys.getfilesystemencodeerrors()=\", sys.getfilesystemencodeerrors())"
   ]
  },
  {
   "cell_type": "code",
   "execution_count": 10,
   "metadata": {},
   "outputs": [
    {
     "name": "stdout",
     "output_type": "stream",
     "text": [
      "sys.getswitchinterval()    = 0.005\n"
     ]
    }
   ],
   "source": [
    "print(\"sys.getswitchinterval()    =\", sys.getswitchinterval())"
   ]
  },
  {
   "cell_type": "markdown",
   "metadata": {},
   "source": [
    "Reference count"
   ]
  },
  {
   "cell_type": "code",
   "execution_count": 11,
   "metadata": {},
   "outputs": [
    {
     "name": "stdout",
     "output_type": "stream",
     "text": [
      "sys.getrefcount(1234) = 3\n",
      "sys.getrefcount(1234) = 3\n"
     ]
    }
   ],
   "source": [
    "num1 = 1234\n",
    "print(\"sys.getrefcount(1234) =\", sys.getrefcount(1234))\n",
    "del num1\n",
    "print(\"sys.getrefcount(1234) =\", sys.getrefcount(1234))"
   ]
  },
  {
   "cell_type": "code",
   "execution_count": 13,
   "metadata": {},
   "outputs": [
    {
     "name": "stdout",
     "output_type": "stream",
     "text": [
      "sys.getrefcount(1234) = 3\n"
     ]
    }
   ],
   "source": [
    "print(\"sys.getrefcount(1234) =\", sys.getrefcount(1234))"
   ]
  },
  {
   "cell_type": "code",
   "execution_count": 16,
   "metadata": {},
   "outputs": [
    {
     "name": "stdout",
     "output_type": "stream",
     "text": [
      "0 7118\n",
      "1 3685\n",
      "2 1525\n",
      "3 632\n",
      "4 955\n",
      "5 376\n",
      "6 335\n",
      "7 217\n",
      "8 1877\n",
      "9 247\n",
      "10 267\n",
      "11 567\n",
      "12 1133\n",
      "13 372\n",
      "14 214\n",
      "15 487\n",
      "16 942\n",
      "17 337\n",
      "18 321\n",
      "19 388\n",
      "20 896\n",
      "21 389\n",
      "22 383\n",
      "23 423\n",
      "24 400\n",
      "25 380\n",
      "26 366\n",
      "27 373\n",
      "28 385\n",
      "29 342\n",
      "30 348\n",
      "31 323\n",
      "32 422\n",
      "33 322\n",
      "34 386\n",
      "35 322\n",
      "36 312\n",
      "37 254\n",
      "38 272\n",
      "39 270\n",
      "40 261\n",
      "41 236\n",
      "42 228\n",
      "43 229\n",
      "44 227\n",
      "45 197\n",
      "46 305\n",
      "47 233\n",
      "48 174\n",
      "49 172\n",
      "50 204\n",
      "51 149\n",
      "52 153\n",
      "53 165\n",
      "54 153\n",
      "55 138\n",
      "56 138\n",
      "57 145\n",
      "58 120\n",
      "59 115\n",
      "60 183\n",
      "61 100\n",
      "62 109\n",
      "63 94\n",
      "64 198\n",
      "65 90\n",
      "66 102\n",
      "67 81\n",
      "68 94\n",
      "69 85\n",
      "70 77\n",
      "71 72\n",
      "72 69\n",
      "73 67\n",
      "74 76\n",
      "75 63\n",
      "76 75\n",
      "77 67\n",
      "78 62\n",
      "79 49\n",
      "80 71\n",
      "81 40\n",
      "82 31\n",
      "83 36\n",
      "84 57\n",
      "85 55\n",
      "86 31\n",
      "87 29\n",
      "88 40\n",
      "89 23\n",
      "90 38\n",
      "91 32\n",
      "92 43\n",
      "93 36\n",
      "94 17\n",
      "95 236\n",
      "96 34\n",
      "97 25\n",
      "98 28\n",
      "99 30\n",
      "100 134\n",
      "101 65\n",
      "102 60\n",
      "103 55\n",
      "104 54\n",
      "105 59\n",
      "106 46\n",
      "107 68\n",
      "108 60\n",
      "109 52\n",
      "110 52\n",
      "111 63\n",
      "112 46\n",
      "113 51\n",
      "114 42\n",
      "115 46\n",
      "116 43\n",
      "117 35\n",
      "118 39\n",
      "119 35\n",
      "120 39\n",
      "121 35\n",
      "122 42\n",
      "123 30\n",
      "124 52\n",
      "125 47\n",
      "126 29\n",
      "127 52\n",
      "128 131\n",
      "129 49\n",
      "130 38\n",
      "131 31\n",
      "132 36\n",
      "133 28\n",
      "134 32\n",
      "135 248\n",
      "136 31\n",
      "137 30\n",
      "138 34\n",
      "139 22\n",
      "140 18\n",
      "141 19\n",
      "142 23\n",
      "143 24\n",
      "144 32\n",
      "145 23\n",
      "146 35\n",
      "147 25\n",
      "148 29\n",
      "149 21\n",
      "150 21\n",
      "151 22\n",
      "152 21\n",
      "153 24\n",
      "154 26\n",
      "155 22\n",
      "156 21\n",
      "157 21\n",
      "158 32\n",
      "159 27\n",
      "160 34\n",
      "161 26\n",
      "162 29\n",
      "163 19\n",
      "164 17\n",
      "165 20\n",
      "166 20\n",
      "167 21\n",
      "168 19\n",
      "169 20\n",
      "170 15\n",
      "171 21\n",
      "172 18\n",
      "173 18\n",
      "174 14\n",
      "175 240\n",
      "176 21\n",
      "177 12\n",
      "178 24\n",
      "179 20\n",
      "180 12\n",
      "181 21\n",
      "182 18\n",
      "183 18\n",
      "184 11\n",
      "185 11\n",
      "186 18\n",
      "187 10\n",
      "188 17\n",
      "189 15\n",
      "190 13\n",
      "191 12\n",
      "192 13\n",
      "193 13\n",
      "194 12\n",
      "195 21\n",
      "196 27\n",
      "197 26\n",
      "198 37\n",
      "199 10\n",
      "200 30\n",
      "201 20\n",
      "202 20\n",
      "203 20\n",
      "204 19\n",
      "205 40\n",
      "206 19\n",
      "207 16\n",
      "208 30\n",
      "209 14\n",
      "210 12\n",
      "211 12\n",
      "212 15\n",
      "213 18\n",
      "214 18\n",
      "215 236\n",
      "216 17\n",
      "217 20\n",
      "218 19\n",
      "219 26\n",
      "220 19\n",
      "221 20\n",
      "222 20\n",
      "223 21\n",
      "224 21\n",
      "225 11\n",
      "226 18\n",
      "227 23\n",
      "228 16\n",
      "229 50\n",
      "230 11\n",
      "231 12\n",
      "232 14\n",
      "233 11\n",
      "234 14\n",
      "235 18\n",
      "236 13\n",
      "237 14\n",
      "238 17\n",
      "239 14\n",
      "240 15\n",
      "241 14\n",
      "242 14\n",
      "243 10\n",
      "244 10\n",
      "245 15\n",
      "246 12\n",
      "247 10\n",
      "248 10\n",
      "249 13\n",
      "250 20\n",
      "251 18\n",
      "252 23\n",
      "253 20\n",
      "254 22\n",
      "255 296\n",
      "256 99\n",
      "257 3\n",
      "258 3\n",
      "259 3\n",
      "260 3\n",
      "261 3\n",
      "262 3\n",
      "263 3\n",
      "264 3\n",
      "265 3\n",
      "266 3\n",
      "267 3\n",
      "268 3\n",
      "269 3\n",
      "270 3\n",
      "271 3\n",
      "272 3\n",
      "273 3\n",
      "274 3\n",
      "275 3\n",
      "276 3\n",
      "277 3\n",
      "278 3\n",
      "279 3\n",
      "280 3\n",
      "281 3\n",
      "282 3\n",
      "283 3\n",
      "284 3\n",
      "285 3\n",
      "286 3\n",
      "287 3\n",
      "288 3\n",
      "289 3\n",
      "290 3\n",
      "291 3\n",
      "292 3\n",
      "293 3\n",
      "294 3\n",
      "295 3\n",
      "296 3\n",
      "297 3\n",
      "298 3\n",
      "299 3\n",
      "300 3\n",
      "301 3\n",
      "302 3\n",
      "303 3\n",
      "304 3\n",
      "305 3\n",
      "306 3\n",
      "307 3\n",
      "308 3\n",
      "309 3\n",
      "310 3\n",
      "311 3\n",
      "312 3\n",
      "313 3\n",
      "314 3\n",
      "315 3\n",
      "316 3\n",
      "317 3\n",
      "318 3\n",
      "319 3\n",
      "320 3\n",
      "321 3\n",
      "322 3\n",
      "323 3\n",
      "324 3\n",
      "325 3\n",
      "326 3\n",
      "327 3\n",
      "328 3\n",
      "329 3\n",
      "330 3\n",
      "331 3\n",
      "332 3\n",
      "333 3\n",
      "334 3\n",
      "335 3\n",
      "336 3\n",
      "337 3\n",
      "338 3\n",
      "339 3\n",
      "340 3\n",
      "341 3\n",
      "342 3\n",
      "343 3\n",
      "344 3\n",
      "345 3\n",
      "346 3\n",
      "347 3\n",
      "348 3\n",
      "349 3\n",
      "350 3\n",
      "351 3\n",
      "352 3\n",
      "353 3\n",
      "354 3\n",
      "355 3\n",
      "356 3\n",
      "357 3\n",
      "358 3\n",
      "359 3\n",
      "360 3\n",
      "361 3\n",
      "362 3\n",
      "363 3\n",
      "364 3\n",
      "365 3\n",
      "366 3\n",
      "367 3\n",
      "368 3\n",
      "369 3\n",
      "370 3\n",
      "371 3\n",
      "372 3\n",
      "373 3\n",
      "374 3\n",
      "375 3\n",
      "376 3\n",
      "377 3\n",
      "378 3\n",
      "379 3\n",
      "380 3\n",
      "381 3\n",
      "382 3\n",
      "383 3\n",
      "384 3\n",
      "385 3\n",
      "386 3\n",
      "387 3\n",
      "388 3\n",
      "389 3\n",
      "390 3\n",
      "391 3\n",
      "392 3\n",
      "393 3\n",
      "394 3\n",
      "395 3\n",
      "396 3\n",
      "397 3\n",
      "398 3\n",
      "399 3\n",
      "400 3\n",
      "401 3\n",
      "402 3\n",
      "403 3\n",
      "404 3\n",
      "405 3\n",
      "406 3\n",
      "407 3\n",
      "408 3\n",
      "409 3\n",
      "410 3\n",
      "411 3\n",
      "412 3\n",
      "413 3\n",
      "414 3\n",
      "415 3\n",
      "416 3\n",
      "417 3\n",
      "418 3\n",
      "419 3\n",
      "420 3\n",
      "421 3\n",
      "422 3\n",
      "423 3\n",
      "424 3\n",
      "425 3\n",
      "426 3\n",
      "427 3\n",
      "428 3\n",
      "429 3\n",
      "430 3\n",
      "431 3\n",
      "432 3\n",
      "433 3\n",
      "434 3\n",
      "435 3\n",
      "436 3\n",
      "437 3\n",
      "438 3\n",
      "439 3\n",
      "440 3\n",
      "441 3\n",
      "442 3\n",
      "443 3\n",
      "444 3\n",
      "445 3\n",
      "446 3\n",
      "447 3\n",
      "448 3\n",
      "449 3\n",
      "450 3\n",
      "451 3\n",
      "452 3\n",
      "453 3\n",
      "454 3\n",
      "455 3\n",
      "456 3\n",
      "457 3\n",
      "458 3\n",
      "459 3\n",
      "460 3\n",
      "461 3\n",
      "462 3\n",
      "463 3\n",
      "464 3\n",
      "465 3\n",
      "466 3\n",
      "467 3\n",
      "468 3\n",
      "469 3\n",
      "470 3\n",
      "471 3\n",
      "472 3\n",
      "473 3\n",
      "474 3\n",
      "475 3\n",
      "476 3\n",
      "477 3\n",
      "478 3\n",
      "479 3\n",
      "480 3\n",
      "481 3\n",
      "482 3\n",
      "483 3\n",
      "484 3\n",
      "485 3\n",
      "486 3\n",
      "487 3\n",
      "488 3\n",
      "489 3\n",
      "490 3\n",
      "491 3\n",
      "492 3\n",
      "493 3\n",
      "494 3\n",
      "495 3\n",
      "496 3\n",
      "497 3\n",
      "498 3\n",
      "499 3\n"
     ]
    }
   ],
   "source": [
    "for i in range(500):\n",
    "    # if i % 7 == 0:\n",
    "    #     print()\n",
    "    print(i, sys.getrefcount(i))"
   ]
  },
  {
   "cell_type": "code",
   "execution_count": 17,
   "metadata": {},
   "outputs": [
    {
     "name": "stdout",
     "output_type": "stream",
     "text": [
      "RandomJunkBlahBlah 5\n",
      "python 61\n",
      "version 366\n",
      "error 381\n",
      "Guido 5\n"
     ]
    }
   ],
   "source": [
    "for w in [\"RandomJunkBlahBlah\", \"python\", \"version\", \"error\", \"Guido\"]:\n",
    "    print(w, sys.getrefcount(w))"
   ]
  },
  {
   "cell_type": "code",
   "execution_count": 18,
   "metadata": {},
   "outputs": [
    {
     "name": "stdout",
     "output_type": "stream",
     "text": [
      "sys.getsizeof(num1)= 36\n"
     ]
    }
   ],
   "source": [
    "num1 = 888888888888888888888\n",
    "print(\"sys.getsizeof(num1)=\", sys.getsizeof(num1))\n",
    "# Only the memory consumption directly attributed to the object\n",
    "# is accounted for, not the memory consumption of objects it refers to."
   ]
  },
  {
   "cell_type": "code",
   "execution_count": 19,
   "metadata": {},
   "outputs": [
    {
     "ename": "AttributeError",
     "evalue": "module 'sys' has no attribute 'getwindowsversion'",
     "output_type": "error",
     "traceback": [
      "\u001b[0;31m---------------------------------------------------------------------------\u001b[0m",
      "\u001b[0;31mAttributeError\u001b[0m                            Traceback (most recent call last)",
      "Cell \u001b[0;32mIn[19], line 1\u001b[0m\n\u001b[0;32m----> 1\u001b[0m \u001b[39mprint\u001b[39m(\u001b[39m\"\u001b[39m\u001b[39msys.getwindowsversion()=\u001b[39m\u001b[39m\"\u001b[39m, sys\u001b[39m.\u001b[39;49mgetwindowsversion())\n",
      "\u001b[0;31mAttributeError\u001b[0m: module 'sys' has no attribute 'getwindowsversion'"
     ]
    }
   ],
   "source": [
    "print(\"sys.getwindowsversion()=\", sys.getwindowsversion())"
   ]
  },
  {
   "cell_type": "code",
   "execution_count": 20,
   "metadata": {},
   "outputs": [
    {
     "data": {
      "text/plain": [
       "sys.hash_info(width=64, modulus=2305843009213693951, inf=314159, nan=0, imag=1000003, algorithm='siphash24', hash_bits=64, seed_bits=128, cutoff=0)"
      ]
     },
     "execution_count": 20,
     "metadata": {},
     "output_type": "execute_result"
    }
   ],
   "source": [
    "sys.hash_info"
   ]
  },
  {
   "cell_type": "code",
   "execution_count": 21,
   "metadata": {},
   "outputs": [
    {
     "name": "stdout",
     "output_type": "stream",
     "text": [
      "9\n",
      "507285462027014153\n",
      "1\n",
      "5907963579690\n",
      "-1629317308285799975\n",
      "-374089322017822008\n"
     ]
    }
   ],
   "source": [
    "print(hash(9))\n",
    "print(hash(9.22))\n",
    "print(hash(True))\n",
    "print(hash(None))\n",
    "print(hash((12, 2, 3, 23)))\n",
    "print(hash(frozenset({12, 23, 4})))\n",
    "\n",
    "# unhashables\n",
    "# print(hash([12, 2,3,23]))\n",
    "# print(hash({12, 2,3,23}))\n",
    "# print(hash({'a':1, 'b':2}))"
   ]
  },
  {
   "cell_type": "code",
   "execution_count": 22,
   "metadata": {},
   "outputs": [
    {
     "name": "stdout",
     "output_type": "stream",
     "text": [
      "sys.hexversion             = 50988272\n",
      "0xd\n"
     ]
    }
   ],
   "source": [
    "print(\"sys.hexversion             =\", sys.hexversion)\n",
    "print(hex(13))"
   ]
  },
  {
   "cell_type": "code",
   "execution_count": 23,
   "metadata": {},
   "outputs": [
    {
     "data": {
      "text/plain": [
       "namespace(name='cpython',\n",
       "          cache_tag='cpython-310',\n",
       "          version=sys.version_info(major=3, minor=10, micro=4, releaselevel='final', serial=0),\n",
       "          hexversion=50988272,\n",
       "          _multiarch='x86_64-linux-gnu')"
      ]
     },
     "execution_count": 23,
     "metadata": {},
     "output_type": "execute_result"
    }
   ],
   "source": [
    "sys.implementation"
   ]
  },
  {
   "cell_type": "code",
   "execution_count": 24,
   "metadata": {},
   "outputs": [
    {
     "name": "stdout",
     "output_type": "stream",
     "text": [
      "sys.int_info               = sys.int_info(bits_per_digit=30, sizeof_digit=4)\n"
     ]
    }
   ],
   "source": [
    "print(\"sys.int_info               =\", sys.int_info)"
   ]
  },
  {
   "cell_type": "code",
   "execution_count": 25,
   "metadata": {},
   "outputs": [
    {
     "name": "stdout",
     "output_type": "stream",
     "text": [
      "sys.__interactivehook__()  = None\n"
     ]
    }
   ],
   "source": [
    "print(\"sys.__interactivehook__()  =\", sys.__interactivehook__())\n",
    "\n",
    "\n",
    "# python -i script.py"
   ]
  },
  {
   "cell_type": "code",
   "execution_count": 26,
   "metadata": {},
   "outputs": [
    {
     "name": "stdout",
     "output_type": "stream",
     "text": [
      "sys.maxsize                = 9223372036854775807\n"
     ]
    }
   ],
   "source": [
    "print(\"sys.maxsize                =\", sys.maxsize)"
   ]
  },
  {
   "cell_type": "code",
   "execution_count": 27,
   "metadata": {},
   "outputs": [
    {
     "name": "stdout",
     "output_type": "stream",
     "text": [
      "sys.maxunicode             = 1114111\n"
     ]
    }
   ],
   "source": [
    "print(\"sys.maxunicode             =\", sys.maxunicode)"
   ]
  },
  {
   "cell_type": "code",
   "execution_count": 28,
   "metadata": {},
   "outputs": [
    {
     "data": {
      "text/plain": [
       "'o'"
      ]
     },
     "execution_count": 28,
     "metadata": {},
     "output_type": "execute_result"
    }
   ],
   "source": [
    "chr(111)"
   ]
  },
  {
   "cell_type": "code",
   "execution_count": 29,
   "metadata": {},
   "outputs": [
    {
     "data": {
      "text/plain": [
       "'\\U0010ffff'"
      ]
     },
     "execution_count": 29,
     "metadata": {},
     "output_type": "execute_result"
    }
   ],
   "source": [
    "chr(1114111)"
   ]
  },
  {
   "cell_type": "code",
   "execution_count": 30,
   "metadata": {},
   "outputs": [
    {
     "name": "stdout",
     "output_type": "stream",
     "text": [
      "chr() arg not in range(0x110000)\n"
     ]
    }
   ],
   "source": [
    "try:\n",
    "    chr(1114111 + 1)\n",
    "except ValueError as ve:\n",
    "    print(ve)"
   ]
  },
  {
   "cell_type": "code",
   "execution_count": 31,
   "metadata": {},
   "outputs": [
    {
     "data": {
      "text/plain": [
       "('_abc',\n",
       " '_ast',\n",
       " '_codecs',\n",
       " '_collections',\n",
       " '_functools',\n",
       " '_imp',\n",
       " '_io',\n",
       " '_locale',\n",
       " '_operator',\n",
       " '_signal',\n",
       " '_sre',\n",
       " '_stat',\n",
       " '_string',\n",
       " '_symtable',\n",
       " '_thread',\n",
       " '_tracemalloc',\n",
       " '_warnings',\n",
       " '_weakref',\n",
       " 'atexit',\n",
       " 'builtins',\n",
       " 'errno',\n",
       " 'faulthandler',\n",
       " 'gc',\n",
       " 'itertools',\n",
       " 'marshal',\n",
       " 'posix',\n",
       " 'pwd',\n",
       " 'sys',\n",
       " 'time',\n",
       " 'xxsubtype')"
      ]
     },
     "execution_count": 31,
     "metadata": {},
     "output_type": "execute_result"
    }
   ],
   "source": [
    "sys.builtin_module_names"
   ]
  },
  {
   "cell_type": "code",
   "execution_count": 32,
   "metadata": {},
   "outputs": [
    {
     "data": {
      "text/plain": [
       "dict_keys(['sys', 'builtins', '_frozen_importlib', '_imp', '_thread', '_warnings', '_weakref', '_io', 'marshal', 'posix', '_frozen_importlib_external', 'time', 'zipimport', '_codecs', 'codecs', 'encodings.aliases', 'encodings', 'encodings.utf_8', '_signal', '_abc', 'abc', 'io', '__main__', '_stat', 'stat', '_collections_abc', 'genericpath', 'posixpath', 'os.path', 'os', '_sitebuiltins', '__future__', '_virtualenv', '_distutils_hack', 'site', 'importlib._bootstrap', 'importlib._bootstrap_external', 'warnings', 'importlib', 'importlib.machinery', 'importlib._abc', 'itertools', 'keyword', '_operator', 'operator', 'reprlib', '_collections', 'collections', 'types', '_functools', 'functools', 'contextlib', 'importlib.util', 'runpy', 'enum', '_sre', 'sre_constants', 'sre_parse', 'sre_compile', '_locale', 'copyreg', 're', 'collections.abc', 'typing.io', 'typing.re', 'typing', 'ipykernel._version', '_json', 'json.scanner', 'json.decoder', 'json.encoder', 'json', 'errno', 'signal', '_weakrefset', 'threading', 'fcntl', '_posixsubprocess', 'select', 'math', 'selectors', 'subprocess', 'jupyter_client._version', 'platform', '_ctypes', '_struct', 'struct', 'ctypes._endian', 'ctypes', 'zmq.backend.select', '_cython_0_29_32', 'cython_runtime', 'zmq.error', 'zmq.backend.cython.context', 'weakref', 'zmq.backend.cython.message', 'copy', '_bisect', 'bisect', '_random', '_sha512', 'random', '_compat_pickle', '_pickle', 'pickle', 'zmq.constants', 'zmq.backend.cython.socket', 'zmq.backend.cython._device', 'zmq.backend.cython._poll', 'zmq.backend.cython._proxy_steerable', 'zmq.backend.cython._version', 'zmq.backend.cython.error', 'zmq.backend.cython.utils', 'zmq.backend.cython', 'zmq.backend', 'atexit', 'zmq.utils', 'zmq.utils.interop', 'zmq.sugar.attrsettr', 'zmq._typing', 'zmq.utils.jsonapi', 'zmq.sugar.poll', 'zmq.sugar.socket', 'zmq.sugar.context', 'zmq.sugar.frame', 'zmq.sugar.tracker', 'zmq.sugar.version', 'zmq.sugar.stopwatch', 'zmq.sugar', 'zmq', 'concurrent', 'token', 'tokenize', 'linecache', 'traceback', '_string', 'string', 'logging', 'concurrent.futures._base', 'concurrent.futures', '_heapq', 'heapq', '_socket', 'array', 'socket', '_ssl', 'binascii', 'base64', 'ssl', 'asyncio.constants', '_ast', 'ast', '_opcode', 'opcode', 'dis', 'inspect', 'asyncio.format_helpers', 'asyncio.base_futures', 'asyncio.log', 'asyncio.coroutines', '_contextvars', 'contextvars', 'asyncio.exceptions', 'asyncio.base_tasks', '_asyncio', 'asyncio.events', 'asyncio.futures', 'asyncio.protocols', 'asyncio.transports', 'asyncio.sslproto', 'asyncio.mixins', 'asyncio.tasks', 'asyncio.locks', 'asyncio.staggered', 'asyncio.trsock', 'asyncio.base_events', 'asyncio.runners', 'asyncio.queues', 'asyncio.streams', 'asyncio.subprocess', 'asyncio.threads', 'asyncio.base_subprocess', 'asyncio.selector_events', 'asyncio.unix_events', 'asyncio', 'zmq._future', 'zmq.asyncio', 'fnmatch', 'ntpath', 'urllib', 'urllib.parse', 'pathlib', 'traitlets.utils', 'traitlets.utils.bunch', 'traitlets.utils.descriptions', 'traitlets.utils.getargspec', 'traitlets.utils.importstring', 'traitlets.utils.sentinel', 'traitlets.traitlets', 'traitlets._version', 'traitlets.utils.decorators', 'traitlets', '_queue', 'queue', 'jupyter_core.version', 'jupyter_core', 'jupyter_core.utils', 'jupyter_client.channelsabc', '_hashlib', '_blake2', 'hashlib', 'hmac', 'dataclasses', 'pprint', '_datetime', 'datetime', 'tornado', 'numbers', 'logging.handlers', 'html.entities', 'html', 'zlib', 'tornado.speedups', 'tornado.util', 'tornado.escape', '_curses', 'curses', 'tornado.log', 'tornado.concurrent', 'tornado.ioloop', 'socketserver', 'logging.config', 'textwrap', 'traitlets.utils.text', 'gettext', 'argparse', 'traitlets.config.loader', 'traitlets.config.configurable', 'traitlets.utils.nested_update', 'traitlets.config.application', 'traitlets.config', 'traitlets.log', 'zmq.eventloop', 'zmq.eventloop.zmqstream', 'jupyter_client.adapter', 'dateutil._version', 'dateutil', 'locale', 'calendar', 'six', '_decimal', 'decimal', 'dateutil._common', 'dateutil.relativedelta', 'six.moves', 'dateutil.tz._common', 'dateutil.tz._factories', 'dateutil.tz.tz', 'dateutil.tz', 'dateutil.parser._parser', 'dateutil.parser.isoparser', 'dateutil.parser', '_strptime', 'jupyter_client.jsonutil', 'jupyter_client.session', 'jupyter_client.channels', 'termios', 'getpass', 'jupyter_client.clientabc', 'glob', '_compression', '_bz2', 'bz2', '_lzma', 'lzma', 'shutil', 'tempfile', 'platformdirs.api', 'platformdirs.version', 'configparser', 'platformdirs.unix', 'platformdirs', 'jupyter_core.paths', 'jupyter_client.localinterfaces', 'jupyter_client.utils', 'jupyter_client.connect', 'jupyter_client.client', 'jupyter_client.asynchronous.client', 'jupyter_client.asynchronous', 'jupyter_client.blocking.client', 'jupyter_client.blocking', 'jupyter_client.launcher', '_uuid', 'uuid', '_csv', 'csv', 'email', 'zipfile', 'uu', 'quopri', 'email._parseaddr', 'email.base64mime', 'email.quoprimime', 'email.errors', 'email.encoders', 'email.charset', 'email.utils', 'email.header', 'email._policybase', 'email._encoded_words', 'email.iterators', 'email.message', 'importlib.metadata._functools', 'importlib.metadata._text', 'importlib.metadata._adapters', 'importlib.metadata._meta', 'importlib.metadata._collections', 'importlib.metadata._itertools', 'importlib.abc', 'importlib.metadata', 'jupyter_client.provisioning.provisioner_base', 'jupyter_client.provisioning.factory', 'jupyter_client.provisioning.local_provisioner', 'jupyter_client.provisioning', 'jupyter_client.kernelspec', 'jupyter_client.managerabc', 'jupyter_client.manager', 'jupyter_client.multikernelmanager', 'jupyter_client', 'ipykernel.connect', 'ipykernel', 'IPython.core', 'IPython.core.getipython', 'IPython.core.release', 'pkgutil', 'sysconfig', '_sysconfigdata__linux_x86_64-linux-gnu', 'pydoc', 'executing.executing', 'executing.version', 'executing', 'asttokens.line_numbers', 'asttokens.util', 'asttokens.asttokens', 'asttokens', 'fractions', 'pure_eval.utils', 'pure_eval.my_getattr_static', 'pure_eval.core', 'pure_eval.version', 'pure_eval', 'stack_data.utils', 'stack_data.core', 'stack_data.formatting', 'stack_data.serializing', 'stack_data.version', 'stack_data', 'pygments', 'pygments.formatters._mapping', 'pygments.plugin', 'pygments.util', 'pygments.formatters', 'pygments.styles', 'pygments.formatter', 'pygments.console', 'pygments.token', 'pygments.style', 'pygments.formatters.terminal256', 'IPython.utils', 'IPython.utils.colorable', 'IPython.utils.ipstruct', 'IPython.utils.coloransi', 'IPython.utils.PyColorize', 'IPython.utils.encoding', 'IPython.utils.py3compat', 'IPython.core.excolors', 'cmd', 'bdb', 'codeop', 'code', 'pdb', 'IPython.core.debugger', 'IPython.core.display_trap', 'pexpect.exceptions', 'pexpect.utils', 'pexpect.expect', 'tty', 'pty', 'resource', 'ptyprocess.util', 'ptyprocess.ptyprocess', 'ptyprocess', 'pexpect.spawnbase', 'pexpect.pty_spawn', 'pexpect.run', 'pexpect', 'shlex', 'IPython.utils._process_common', 'IPython.utils._process_posix', 'IPython.utils.process', 'IPython.utils.path', 'IPython.utils.terminal', 'IPython.core.ultratb', 'IPython.utils._sysinfo', 'IPython.utils.sysinfo', 'IPython.core.crashhandler', 'IPython.utils.importstring', 'IPython.paths', 'IPython.core.profiledir', 'IPython.core.application', 'IPython.terminal', 'IPython.core.compilerop', 'IPython.core.error', 'IPython.utils.docs', 'IPython.utils.decorators', 'IPython.utils.text', 'IPython.core.magic_arguments', 'getopt', 'IPython.core.display_functions', 'mimetypes', 'IPython.testing', 'IPython.testing.skipdoctest', 'IPython.core.display', 'IPython.lib', 'IPython.lib.display', 'IPython.display', 'IPython.utils.data', 'IPython.core.page', 'IPython.lib.pretty', 'IPython.utils.openpy', 'IPython.utils.dir2', 'IPython.utils.wildcard', 'pygments.lexers._mapping', 'pygments.modeline', 'pygments.lexers', 'pygments.filter', 'pygments.filters', 'pygments.regexopt', 'pygments.lexer', 'pygments.unistring', 'pygments.lexers.python', 'pygments.formatters.html', 'IPython.core.oinspect', 'IPython.core.inputtransformer2', 'IPython.core.magic', 'pickleshare', 'IPython.core.hooks', 'IPython.core.autocall', 'IPython.core.macro', 'IPython.core.splitinput', 'IPython.core.prefilter', 'IPython.core.alias', 'IPython.core.builtin_trap', 'IPython.core.displayhook', 'IPython.core.displaypub', 'backcall.backcall', 'backcall', 'IPython.core.events', 'IPython.core.extensions', 'decorator', 'IPython.utils.sentinel', 'IPython.core.formatters', '_sqlite3', 'sqlite3.dbapi2', 'sqlite3', 'IPython.core.history', 'IPython.core.logger', 'IPython.core.payload', 'IPython.core.usage', 'IPython.utils.capture', 'IPython.utils.io', 'IPython.utils.strdispatch', 'IPython.utils.syspathcontext', 'IPython.core.async_helpers', 'IPython.core.interactiveshell', 'prompt_toolkit.application.current', 'prompt_toolkit.eventloop.utils', 'prompt_toolkit.eventloop.async_generator', 'prompt_toolkit.eventloop.inputhook', 'prompt_toolkit.eventloop', 'prompt_toolkit.application.run_in_terminal', 'prompt_toolkit.selection', 'prompt_toolkit.clipboard.base', 'prompt_toolkit.clipboard.in_memory', 'prompt_toolkit.clipboard', 'prompt_toolkit.cache', 'prompt_toolkit.enums', 'prompt_toolkit.filters.base', 'prompt_toolkit.filters.app', 'prompt_toolkit.filters.cli', 'prompt_toolkit.filters.utils', 'prompt_toolkit.filters', 'prompt_toolkit.document', 'prompt_toolkit.auto_suggest', 'prompt_toolkit.keys', 'prompt_toolkit.key_binding.key_bindings', 'wcwidth.table_wide', 'wcwidth.table_zero', 'wcwidth.unicode_versions', 'wcwidth.wcwidth', 'wcwidth', 'prompt_toolkit.utils', 'prompt_toolkit.key_binding.key_processor', 'prompt_toolkit.key_binding', 'prompt_toolkit.key_binding.vi_state', 'prompt_toolkit.cursor_shapes', 'prompt_toolkit.data_structures', 'prompt_toolkit.styles.base', 'prompt_toolkit.styles.named_colors', 'prompt_toolkit.styles.style', 'prompt_toolkit.styles.defaults', 'prompt_toolkit.styles.pygments', 'colorsys', 'prompt_toolkit.styles.style_transformation', 'prompt_toolkit.styles', 'prompt_toolkit.output.color_depth', 'prompt_toolkit.output.base', 'prompt_toolkit.output.flush_stdout', 'prompt_toolkit.output.plain_text', 'prompt_toolkit.output.defaults', 'prompt_toolkit.output', 'prompt_toolkit.output.vt100', 'prompt_toolkit.mouse_events', 'prompt_toolkit.formatted_text.base', 'prompt_toolkit.formatted_text.ansi', 'xml', 'xml.dom.domreg', 'xml.dom', 'xml.dom.minicompat', 'xml.dom.NodeFilter', 'xml.dom.xmlbuilder', 'xml.dom.minidom', 'prompt_toolkit.formatted_text.html', 'prompt_toolkit.formatted_text.pygments', 'prompt_toolkit.formatted_text.utils', 'prompt_toolkit.formatted_text', 'prompt_toolkit.completion.base', 'prompt_toolkit.completion.deduplicate', 'prompt_toolkit.completion.filesystem', 'prompt_toolkit.completion.word_completer', 'prompt_toolkit.completion.fuzzy_completer', 'prompt_toolkit.completion.nested', 'prompt_toolkit.completion', 'prompt_toolkit.history', 'prompt_toolkit.search', 'prompt_toolkit.validation', 'prompt_toolkit.buffer', 'prompt_toolkit.input.base', 'prompt_toolkit.input.defaults', 'prompt_toolkit.input', 'prompt_toolkit.input.typeahead', 'prompt_toolkit.key_binding.bindings', 'prompt_toolkit.key_binding.bindings.scroll', 'prompt_toolkit.key_binding.bindings.page_navigation', 'prompt_toolkit.lexers.base', 'prompt_toolkit.lexers.pygments', 'prompt_toolkit.lexers', 'prompt_toolkit.layout.utils', 'prompt_toolkit.layout.processors', 'prompt_toolkit.layout.controls', 'prompt_toolkit.layout.dimension', 'prompt_toolkit.layout.margins', 'prompt_toolkit.layout.mouse_handlers', 'prompt_toolkit.layout.screen', 'prompt_toolkit.layout.containers', 'prompt_toolkit.layout.layout', 'prompt_toolkit.layout.menus', 'prompt_toolkit.layout.scrollable_pane', 'prompt_toolkit.layout', 'prompt_toolkit.key_binding.bindings.completion', 'prompt_toolkit.key_binding.bindings.named_commands', 'prompt_toolkit.key_binding.bindings.basic', 'prompt_toolkit.key_binding.bindings.cpr', 'prompt_toolkit.key_binding.bindings.emacs', 'prompt_toolkit.key_binding.bindings.mouse', 'prompt_toolkit.input.ansi_escape_sequences', 'prompt_toolkit.input.vt100_parser', 'prompt_toolkit.key_binding.digraphs', 'prompt_toolkit.key_binding.bindings.vi', 'prompt_toolkit.key_binding.defaults', 'prompt_toolkit.key_binding.emacs_state', 'prompt_toolkit.layout.dummy', 'prompt_toolkit.renderer', 'prompt_toolkit.application.application', 'prompt_toolkit.application.dummy', 'prompt_toolkit.application', 'prompt_toolkit.key_binding.bindings.focus', 'prompt_toolkit.widgets.toolbars', 'prompt_toolkit.widgets.base', 'prompt_toolkit.widgets.dialogs', 'prompt_toolkit.widgets.menus', 'prompt_toolkit.widgets', 'prompt_toolkit.shortcuts.dialogs', 'prompt_toolkit.shortcuts.progress_bar.formatters', 'prompt_toolkit.shortcuts.progress_bar.base', 'prompt_toolkit.shortcuts.progress_bar', 'prompt_toolkit.key_binding.bindings.auto_suggest', 'prompt_toolkit.key_binding.bindings.open_in_editor', 'prompt_toolkit.shortcuts.prompt', 'prompt_toolkit.shortcuts.utils', 'prompt_toolkit.shortcuts', 'prompt_toolkit', 'prompt_toolkit.patch_stdout', 'unicodedata', 'IPython.core.guarded_eval', 'IPython.core.latex_symbols', 'IPython.utils.generics', 'parso.utils', 'parso.tree', 'parso.python', 'parso.python.token', 'parso.python.tokenize', 'parso.pgen2.grammar_parser', 'parso.pgen2.generator', 'parso.pgen2', 'parso.parser', 'parso._compatibility', 'difflib', 'parso.python.prefix', 'parso.python.tree', 'parso.python.parser', 'parso.python.diff', 'gc', 'parso.cache', 'parso.normalizer', 'parso.python.errors', 'parso.python.pep8', 'parso.file_io', 'parso.grammar', 'parso', 'jedi.parser_utils', 'jedi.debug', 'jedi.settings', 'jedi.cache', 'jedi.file_io', 'jedi.inference.cache', 'jedi.inference.helpers', 'jedi.inference.utils', 'jedi.inference.base_value', 'jedi.inference.sys_path', 'jedi.inference.recursion', 'jedi.inference.flow_analysis', 'jedi.common', 'jedi.inference.lazy_value', 'jedi.inference.docstrings', 'jedi.plugins', 'jedi.inference.names', 'jedi.inference.filters', 'jedi.inference.compiled.getattr_static', 'jedi.inference.compiled.access', 'jedi.inference.signature', 'jedi.inference.context', 'jedi.inference.compiled.value', 'jedi.inference.compiled', 'jedi.inference.analysis', 'jedi.inference.gradual', 'jedi.inference.value.module', 'jedi.inference.value.dynamic_arrays', 'jedi.inference.value.iterable', 'jedi.inference.arguments', 'jedi.inference.parser_cache', 'jedi.inference.gradual.generics', 'jedi.inference.value.function', 'jedi.inference.value.klass', 'jedi.inference.value.instance', 'jedi.inference.value', 'jedi.inference.gradual.base', 'jedi.inference.gradual.type_var', 'jedi.inference.gradual.typing', 'jedi.inference.gradual.stub_value', 'jedi.inference.gradual.typeshed', 'jedi._compatibility', 'jedi.inference.compiled.subprocess.functions', 'jedi.api.exceptions', 'jedi.inference.compiled.subprocess', 'jedi.inference.imports', 'jedi.inference.param', 'jedi.inference.gradual.annotation', 'jedi.inference.value.decorator', 'jedi.inference.syntax_tree', 'jedi.inference', 'jedi.inference.gradual.conversion', 'jedi.inference.compiled.mixed', 'pydoc_data', 'pydoc_data.topics', 'jedi.api.keywords', 'jedi.api.completion_cache', 'jedi.api.helpers', 'jedi.api.classes', 'jedi.api.interpreter', 'jedi.api.strings', 'jedi.api.file_name', 'jedi.inference.docstring_utils', 'jedi.api.completion', 'filecmp', 'jedi.api.environment', 'jedi.inference.references', 'jedi.api.project', 'jedi.api.errors', 'jedi.api.refactoring', 'jedi.api.refactoring.extract', 'jedi.inference.gradual.utils', 'jedi.api', 'jedi.plugins.stdlib', 'jedi.plugins.flask', 'jedi.plugins.pytest', 'jedi.plugins.django', 'jedi.plugins.registry', 'jedi', 'IPython.core.completer', 'IPython.terminal.ptutils', 'IPython.terminal.shortcuts.auto_match', 'IPython.utils.tokenutil', 'IPython.terminal.shortcuts.auto_suggest', 'IPython.terminal.shortcuts.filters', 'IPython.terminal.shortcuts', 'concurrent.futures.thread', 'IPython.terminal.debugger', 'IPython.lib.clipboard', 'IPython.terminal.magics', 'IPython.terminal.pt_inputhooks', 'IPython.terminal.prompts', 'IPython.terminal.interactiveshell', 'IPython.core.magics.auto', 'IPython.core.magics.basic', 'http', 'email.feedparser', 'email.parser', 'http.client', 'urllib.response', 'urllib.error', 'urllib.request', 'IPython.utils.contexts', 'IPython.core.magics.code', 'IPython.core.magics.config', 'IPython.core.magics.display', '_lsprof', 'profile', 'cProfile', 'pstats', 'timeit', 'IPython.utils.module_paths', 'IPython.utils.timing', 'IPython.core.magics.execution', 'IPython.core.magics.extension', 'IPython.core.magics.history', 'IPython.core.magics.logging', 'IPython.core.magics.namespace', 'IPython.core.magics.osm', 'IPython.core.magics.packaging', 'IPython.core.pylabtools', 'IPython.core.magics.pylab', 'IPython.core.magics.script', 'IPython.core.magics', 'IPython.core.shellapp', 'IPython.extensions', 'IPython.extensions.storemagic', 'IPython.terminal.ipapp', 'IPython.terminal.embed', 'IPython.utils.frame', 'IPython', 'ipykernel.control', 'ipykernel.heartbeat', 'ipykernel.iostream', 'comm.base_comm', 'comm', 'ipykernel.jsonutil', 'pwd', 'psutil._common', 'psutil._compat', 'psutil._psposix', 'psutil._psutil_linux', 'psutil._psutil_posix', 'psutil._pslinux', 'psutil', 'tornado.gen', 'tornado.locks', 'tornado.queues', 'ipykernel.kernelbase', 'ipykernel.comm.comm', 'ipykernel.comm.manager', 'ipykernel.comm', 'ipykernel.compiler', 'debugpy._version', 'debugpy.public_api', 'debugpy', 'debugpy._vendored._util', 'debugpy._vendored', '_pydevd_bundle', 'encodings.ascii', 'encodings.latin_1', 'stringprep', 'encodings.idna', '_pydevd_bundle.pydevd_vm_type', '_pydev_bundle', 'xmlrpc', 'xml.parsers', 'pyexpat.errors', 'pyexpat.model', 'pyexpat', 'xml.parsers.expat.model', 'xml.parsers.expat.errors', 'xml.parsers.expat', 'gzip', 'xmlrpc.client', 'http.server', 'xmlrpc.server', '_pydev_bundle._pydev_saved_modules', '_pydevd_bundle.pydevd_constants', '_pydev_runfiles', '_pydevd_frame_eval', 'pydev_ipython', 'plistlib', 'pkg_resources.extern', 'pkg_resources._vendor', 'pkg_resources._vendor.jaraco', 'pkg_resources.extern.jaraco', 'importlib._adapters', 'importlib._common', 'importlib.resources', 'pkg_resources._vendor.more_itertools.recipes', 'pkg_resources._vendor.more_itertools.more', 'pkg_resources._vendor.more_itertools', 'pkg_resources.extern.more_itertools', 'pkg_resources.extern.jaraco.functools', 'pkg_resources.extern.jaraco.context', 'pkg_resources.extern.jaraco.text', 'pkg_resources._vendor.platformdirs.api', 'pkg_resources._vendor.platformdirs.version', 'pkg_resources._vendor.platformdirs.unix', 'pkg_resources._vendor.platformdirs', 'pkg_resources.extern.platformdirs', 'pkg_resources._vendor.packaging', 'pkg_resources.extern.packaging', 'pkg_resources.extern.packaging._structures', 'pkg_resources.extern.packaging.version', 'pkg_resources._vendor.packaging._elffile', 'pkg_resources._vendor.packaging._manylinux', 'pkg_resources._vendor.packaging._musllinux', 'pkg_resources.extern.packaging.tags', 'pkg_resources.extern.packaging.utils', 'pkg_resources.extern.packaging.specifiers', 'pkg_resources.extern.packaging._tokenizer', 'pkg_resources.extern.packaging._parser', 'pkg_resources.extern.packaging.markers', 'pkg_resources.extern.packaging.requirements', 'pkg_resources', 'pydevd_plugins', '_pydev_bundle.pydev_log', '_pydev_bundle._pydev_filesystem_encoding', '_pydevd_bundle.pydevd_comm_constants', 'pydevd_file_utils', '_pydev_bundle._pydev_execfile', '_pydevd_bundle.pydevd_exec2', '_pydev_bundle.pydev_imports', '_pydev_bundle.pydev_is_thread_alive', '_pydev_bundle.pydev_override', 'pydevd_plugins.extensions', '_pydevd_bundle.pydevd_extension_utils', '_pydevd_bundle.pydevd_frame_utils', '_pydevd_bundle.pydevd_filtering', '_pydevd_bundle.pydevd_io', '_pydevd_bundle.pydevd_defaults', '_pydevd_bundle.pydevd_utils', '_pydevd_bundle.pydevd_runpy', '_pydev_bundle._pydev_tipper_common', '_pydev_bundle._pydev_imports_tipper', '_pydev_bundle._pydev_calltip_util', '_pydevd_bundle.pydevd_safe_repr', '_pydevd_bundle.pydevd_resolver', '_pydevd_bundle.pydevd_extension_api', '_pydevd_bundle.pydevd_xml', '_pydevd_bundle.pydevd_dont_trace', '_pydevd_frame_eval.vendored', '_pydevd_frame_eval.vendored.bytecode.flags', '_pydevd_frame_eval.vendored.bytecode.instr', '_pydevd_frame_eval.vendored.bytecode.bytecode', '_pydevd_frame_eval.vendored.bytecode.concrete', '_pydevd_frame_eval.vendored.bytecode.cfg', '_pydevd_frame_eval.vendored.bytecode', '_pydevd_bundle.pydevd_bytecode_utils', '_pydevd_bundle.pydevd_cython', '_pydevd_bundle.pydevd_cython_wrapper', '_pydevd_bundle.pydevd_additional_thread_info', '_pydevd_bundle.pydevd_thread_lifecycle', '_pydevd_bundle.pydevd_save_locals', '_pydev_bundle.pydev_monkey', 'pydevd_tracing', '_pydevd_bundle.pydevd_collect_bytecode_info', '_pydevd_bundle.pydevd_daemon_thread', '_pydevd_bundle.pydevd_timeout', '_pydevd_bundle.pydevd_vars', '_pydev_bundle.pydev_console_utils', '_pydevd_bundle.pydevd_import_class', '_pydevd_bundle.pydevd_breakpoints', '_pydevd_bundle.pydevd_custom_frames', '_pydevd_bundle.pydevd_dont_trace_files', '_pydevd_bundle.pydevd_net_command', '_pydevd_bundle.pydevconsole_code', '_pydev_bundle.pydev_umd', 'pydevconsole', '_pydev_bundle._pydev_completer', '_pydevd_bundle.pydevd_net_command_factory_xml', '_pydevd_bundle.pydevd_frame', '_pydevd_bundle.pydevd_additional_thread_info_regular', '_pydevd_bundle.pydevd_trace_dispatch', '_pydevd_frame_eval.pydevd_frame_eval_main', '_pydevd_bundle.pydevd_source_mapping', '_pydevd_bundle.pydevd_concurrency_analyser', '_pydevd_bundle.pydevd_concurrency_analyser.pydevd_thread_wrappers', '_pydevd_bundle.pydevd_concurrency_analyser.pydevd_concurrency_logger', '_pydevd_bundle._debug_adapter', '_pydevd_bundle._debug_adapter.pydevd_schema_log', '_pydevd_bundle._debug_adapter.pydevd_base_schema', '_pydevd_bundle._debug_adapter.pydevd_schema', '_pydevd_bundle.pydevd_reload', '_pydev_bundle.fsnotify', '_pydevd_bundle.pydevd_console', '_pydevd_bundle.pydevd_comm', '_pydevd_bundle.pydevd_net_command_factory_json', '_pydevd_bundle.pydevd_api', '_pydevd_bundle.pydevd_json_debug_options', '_pydevd_bundle.pydevd_process_net_command_json', '_pydevd_bundle.pydevd_traceproperty', '_pydevd_bundle.pydevd_process_net_command', '_pydevd_bundle.pydevd_suspended_frames', '_pydevd_bundle.pydevd_trace_api', 'pydevd_plugins.pydevd_line_validation', 'pydevd_plugins.django_debug', 'pydevd_plugins.jinja2_debug', '_pydevd_bundle.pydevd_plugin_utils', 'pydevd_plugins.extensions.types', 'pydevd_plugins.extensions.types.pydevd_helpers', 'pydevd_plugins.extensions.types.pydevd_plugin_numpy_types', 'pydevd_plugins.extensions.types.pydevd_plugin_pandas_types', 'pydevd_plugins.extensions.types.pydevd_plugins_django_form_str', 'pydevd', 'debugpy._vendored.force_pydevd', 'debugpy.server', 'debugpy.adapter', 'debugpy.common', 'debugpy.common.json', 'debugpy.common.timestamp', 'debugpy.common.util', 'debugpy.common.log', 'debugpy.common.sockets', 'debugpy.server.api', 'ipykernel.debugger', 'packaging', 'packaging._structures', 'packaging.version', 'ipykernel.eventloops', 'IPython.core.payloadpage', 'ipykernel.displayhook', 'ipykernel.zmqshell', 'ipykernel.ipkernel', 'ipykernel.parentpoller', 'ipykernel.kernelapp', 'tornado.platform', 'tornado.platform.asyncio', 'faulthandler', 'IPython.core.completerlib', 'pygments.styles.default', 'readline', 'rlcompleter'])"
      ]
     },
     "execution_count": 32,
     "metadata": {},
     "output_type": "execute_result"
    }
   ],
   "source": [
    "sys.modules.keys()"
   ]
  },
  {
   "cell_type": "code",
   "execution_count": null,
   "metadata": {},
   "outputs": [],
   "source": [
    "print(\"sys.version                =\", sys.version)\n",
    "print(\n",
    "    \"sys.api_version            =\", sys.api_version\n",
    ")  # C API version for this interpreter\n",
    "print(\"sys.version_info           =\", sys.version_info)\n",
    "print(\n",
    "    \"sys.winver                 =\", sys.winver\n",
    ")  # version number used to form registry keys on Windows platforms"
   ]
  },
  {
   "cell_type": "code",
   "execution_count": null,
   "metadata": {},
   "outputs": [],
   "source": [
    "print(\"sys.getrecursionlimit()\", sys.getrecursionlimit())"
   ]
  },
  {
   "cell_type": "code",
   "execution_count": null,
   "metadata": {},
   "outputs": [],
   "source": [
    "sys.setrecursionlimit = 150"
   ]
  },
  {
   "cell_type": "code",
   "execution_count": null,
   "metadata": {},
   "outputs": [],
   "source": [
    "print(\"sys.getrecursionlimit()\", sys.getrecursionlimit())"
   ]
  },
  {
   "cell_type": "code",
   "execution_count": null,
   "metadata": {},
   "outputs": [],
   "source": [
    "print(\"Hello world!\")\n",
    "sys.stdout.write(\"Hello world!\\n\")\n",
    "sys.stderr.write(\"Hello world!\\n\")"
   ]
  },
  {
   "cell_type": "code",
   "execution_count": null,
   "metadata": {},
   "outputs": [],
   "source": [
    "for i in (sys.stdin, sys.stdout, sys.stderr):\n",
    "    print(i)"
   ]
  },
  {
   "cell_type": "code",
   "execution_count": null,
   "metadata": {},
   "outputs": [],
   "source": [
    "for each_path in sys.path:\n",
    "    print(each_path)"
   ]
  },
  {
   "cell_type": "code",
   "execution_count": null,
   "metadata": {},
   "outputs": [],
   "source": [
    "sys.platform"
   ]
  },
  {
   "cell_type": "markdown",
   "metadata": {},
   "source": [
    "__NOTE:__ Irrespective of your system architecture, its value is the same for both 64 bit and 32 bits windows"
   ]
  },
  {
   "cell_type": "code",
   "execution_count": null,
   "metadata": {},
   "outputs": [],
   "source": [
    "if sys.platform == \"win32\":\n",
    "    print(\"you are in windows OS\")\n",
    "elif sys.platform == \"linux\":\n",
    "    print(\"you are in debian/ubuntu like OS\")\n",
    "elif sys.platform == \"linux2\":\n",
    "    print(\"you are in centos/redhat/fedora like OS\")\n",
    "elif sys.platform == \"darwin\":\n",
    "    print(\"you are in MAC like OS\")\n",
    "elif sys.platform == \"cygwin\":\n",
    "    print(\"you are in Windows/Cygwin OS\")"
   ]
  },
  {
   "cell_type": "code",
   "execution_count": null,
   "metadata": {},
   "outputs": [],
   "source": [
    "help(sys)"
   ]
  },
  {
   "cell_type": "code",
   "execution_count": null,
   "metadata": {},
   "outputs": [],
   "source": [
    "import platform"
   ]
  },
  {
   "cell_type": "code",
   "execution_count": null,
   "metadata": {},
   "outputs": [],
   "source": [
    "print(dir(platform))"
   ]
  },
  {
   "cell_type": "code",
   "execution_count": null,
   "metadata": {},
   "outputs": [],
   "source": [
    "help(platform)"
   ]
  },
  {
   "cell_type": "code",
   "execution_count": null,
   "metadata": {},
   "outputs": [],
   "source": [
    "platform.architecture()"
   ]
  },
  {
   "cell_type": "code",
   "execution_count": null,
   "metadata": {},
   "outputs": [],
   "source": [
    "platform.machine()"
   ]
  },
  {
   "cell_type": "code",
   "execution_count": null,
   "metadata": {},
   "outputs": [],
   "source": [
    "platform.node()"
   ]
  },
  {
   "cell_type": "code",
   "execution_count": null,
   "metadata": {},
   "outputs": [],
   "source": [
    "platform.processor()"
   ]
  },
  {
   "cell_type": "code",
   "execution_count": null,
   "metadata": {},
   "outputs": [],
   "source": [
    "platform.python_branch()"
   ]
  },
  {
   "cell_type": "code",
   "execution_count": null,
   "metadata": {},
   "outputs": [],
   "source": [
    "platform.python_compiler()"
   ]
  },
  {
   "cell_type": "code",
   "execution_count": null,
   "metadata": {},
   "outputs": [],
   "source": [
    "platform.python_implementation()"
   ]
  },
  {
   "cell_type": "markdown",
   "metadata": {},
   "source": [
    "```\n",
    " Currently, the following implementations are identified:\n",
    "          'CPython' (C implementation of Python),\n",
    "          'IronPython' (.NET implementation of Python),\n",
    "          'Jython' (Java implementation of Python),\n",
    "          'PyPy' (Python implementation of Python).\n",
    "```"
   ]
  },
  {
   "cell_type": "code",
   "execution_count": null,
   "metadata": {},
   "outputs": [],
   "source": [
    "platform.python_revision()"
   ]
  },
  {
   "cell_type": "code",
   "execution_count": null,
   "metadata": {},
   "outputs": [],
   "source": [
    "platform.system()"
   ]
  },
  {
   "cell_type": "code",
   "execution_count": null,
   "metadata": {},
   "outputs": [],
   "source": [
    "platform.uname()"
   ]
  },
  {
   "cell_type": "markdown",
   "metadata": {},
   "source": [
    "## Passing Command-line arguments"
   ]
  },
  {
   "cell_type": "code",
   "execution_count": null,
   "metadata": {},
   "outputs": [],
   "source": [
    "sys.argv"
   ]
  },
  {
   "cell_type": "code",
   "execution_count": null,
   "metadata": {},
   "outputs": [],
   "source": [
    "__file__"
   ]
  },
  {
   "cell_type": "markdown",
   "metadata": {},
   "source": [
    "__NOTE:__ Lets try these two above commands in script mode"
   ]
  }
 ],
 "metadata": {
  "kernelspec": {
   "display_name": "Python 3 (ipykernel)",
   "language": "python",
   "name": "python3"
  },
  "language_info": {
   "codemirror_mode": {
    "name": "ipython",
    "version": 3
   },
   "file_extension": ".py",
   "mimetype": "text/x-python",
   "name": "python",
   "nbconvert_exporter": "python",
   "pygments_lexer": "ipython3",
   "version": "3.10.4"
  },
  "vscode": {
   "interpreter": {
    "hash": "c261aea317cc0286b3b3261fbba9abdec21eaa57589985bb7a274bf54d6cc0a7"
   }
  }
 },
 "nbformat": 4,
 "nbformat_minor": 2
}
