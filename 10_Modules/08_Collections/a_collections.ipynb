{
 "cells": [
  {
   "cell_type": "code",
   "execution_count": 1,
   "metadata": {},
   "outputs": [],
   "source": [
    "import collections"
   ]
  },
  {
   "cell_type": "code",
   "execution_count": 2,
   "metadata": {},
   "outputs": [
    {
     "name": "stdout",
     "output_type": "stream",
     "text": [
      "['ChainMap', 'Counter', 'OrderedDict', 'UserDict', 'UserList', 'UserString', '_Link', '_OrderedDictItemsView', '_OrderedDictKeysView', '_OrderedDictValuesView', '__all__', '__builtins__', '__cached__', '__doc__', '__file__', '__getattr__', '__loader__', '__name__', '__package__', '__path__', '__spec__', '_chain', '_collections_abc', '_count_elements', '_eq', '_heapq', '_iskeyword', '_itemgetter', '_proxy', '_recursive_repr', '_repeat', '_starmap', '_sys', '_tuplegetter', 'abc', 'defaultdict', 'deque', 'namedtuple']\n"
     ]
    }
   ],
   "source": [
    "print(dir(collections))"
   ]
  },
  {
   "cell_type": "code",
   "execution_count": 3,
   "metadata": {},
   "outputs": [
    {
     "name": "stdout",
     "output_type": "stream",
     "text": [
      "Help on package collections:\n",
      "\n",
      "NAME\n",
      "    collections\n",
      "\n",
      "MODULE REFERENCE\n",
      "    https://docs.python.org/3.8/library/collections\n",
      "    \n",
      "    The following documentation is automatically generated from the Python\n",
      "    source files.  It may be incomplete, incorrect or include features that\n",
      "    are considered implementation detail and may vary between Python\n",
      "    implementations.  When in doubt, consult the module reference at the\n",
      "    location listed above.\n",
      "\n",
      "DESCRIPTION\n",
      "    This module implements specialized container datatypes providing\n",
      "    alternatives to Python's general purpose built-in containers, dict,\n",
      "    list, set, and tuple.\n",
      "    \n",
      "    * namedtuple   factory function for creating tuple subclasses with named fields\n",
      "    * deque        list-like container with fast appends and pops on either end\n",
      "    * ChainMap     dict-like class for creating a single view of multiple mappings\n",
      "    * Counter      dict subclass for counting hashable objects\n",
      "    * OrderedDict  dict subclass that remembers the order entries were added\n",
      "    * defaultdict  dict subclass that calls a factory function to supply missing values\n",
      "    * UserDict     wrapper around dictionary objects for easier dict subclassing\n",
      "    * UserList     wrapper around list objects for easier list subclassing\n",
      "    * UserString   wrapper around string objects for easier string subclassing\n",
      "\n",
      "PACKAGE CONTENTS\n",
      "    abc\n",
      "\n",
      "SUBMODULES\n",
      "    _collections_abc\n",
      "\n",
      "CLASSES\n",
      "    builtins.dict(builtins.object)\n",
      "        Counter\n",
      "        OrderedDict\n",
      "        defaultdict\n",
      "    builtins.object\n",
      "        deque\n",
      "    collections.abc.MutableMapping(collections.abc.Mapping)\n",
      "        ChainMap\n",
      "        UserDict\n",
      "    collections.abc.MutableSequence(collections.abc.Sequence)\n",
      "        UserList\n",
      "    collections.abc.Sequence(collections.abc.Reversible, collections.abc.Collection)\n",
      "        UserString\n",
      "    \n",
      "    class ChainMap(collections.abc.MutableMapping)\n",
      "     |  ChainMap(*maps)\n",
      "     |  \n",
      "     |  A ChainMap groups multiple dicts (or other mappings) together\n",
      "     |  to create a single, updateable view.\n",
      "     |  \n",
      "     |  The underlying mappings are stored in a list.  That list is public and can\n",
      "     |  be accessed or updated using the *maps* attribute.  There is no other\n",
      "     |  state.\n",
      "     |  \n",
      "     |  Lookups search the underlying mappings successively until a key is found.\n",
      "     |  In contrast, writes, updates, and deletions only operate on the first\n",
      "     |  mapping.\n",
      "     |  \n",
      "     |  Method resolution order:\n",
      "     |      ChainMap\n",
      "     |      collections.abc.MutableMapping\n",
      "     |      collections.abc.Mapping\n",
      "     |      collections.abc.Collection\n",
      "     |      collections.abc.Sized\n",
      "     |      collections.abc.Iterable\n",
      "     |      collections.abc.Container\n",
      "     |      builtins.object\n",
      "     |  \n",
      "     |  Methods defined here:\n",
      "     |  \n",
      "     |  __bool__(self)\n",
      "     |  \n",
      "     |  __contains__(self, key)\n",
      "     |  \n",
      "     |  __copy__ = copy(self)\n",
      "     |  \n",
      "     |  __delitem__(self, key)\n",
      "     |  \n",
      "     |  __getitem__(self, key)\n",
      "     |  \n",
      "     |  __init__(self, *maps)\n",
      "     |      Initialize a ChainMap by setting *maps* to the given mappings.\n",
      "     |      If no mappings are provided, a single empty dictionary is used.\n",
      "     |  \n",
      "     |  __iter__(self)\n",
      "     |  \n",
      "     |  __len__(self)\n",
      "     |  \n",
      "     |  __missing__(self, key)\n",
      "     |  \n",
      "     |  __repr__(self)\n",
      "     |      Return repr(self).\n",
      "     |  \n",
      "     |  __setitem__(self, key, value)\n",
      "     |  \n",
      "     |  clear(self)\n",
      "     |      Clear maps[0], leaving maps[1:] intact.\n",
      "     |  \n",
      "     |  copy(self)\n",
      "     |      New ChainMap or subclass with a new copy of maps[0] and refs to maps[1:]\n",
      "     |  \n",
      "     |  get(self, key, default=None)\n",
      "     |      D.get(k[,d]) -> D[k] if k in D, else d.  d defaults to None.\n",
      "     |  \n",
      "     |  new_child(self, m=None)\n",
      "     |      New ChainMap with a new map followed by all previous maps.\n",
      "     |      If no map is provided, an empty dict is used.\n",
      "     |  \n",
      "     |  pop(self, key, *args)\n",
      "     |      Remove *key* from maps[0] and return its value. Raise KeyError if *key* not in maps[0].\n",
      "     |  \n",
      "     |  popitem(self)\n",
      "     |      Remove and return an item pair from maps[0]. Raise KeyError is maps[0] is empty.\n",
      "     |  \n",
      "     |  ----------------------------------------------------------------------\n",
      "     |  Class methods defined here:\n",
      "     |  \n",
      "     |  fromkeys(iterable, *args) from abc.ABCMeta\n",
      "     |      Create a ChainMap with a single dict created from the iterable.\n",
      "     |  \n",
      "     |  ----------------------------------------------------------------------\n",
      "     |  Readonly properties defined here:\n",
      "     |  \n",
      "     |  parents\n",
      "     |      New ChainMap from maps[1:].\n",
      "     |  \n",
      "     |  ----------------------------------------------------------------------\n",
      "     |  Data descriptors defined here:\n",
      "     |  \n",
      "     |  __dict__\n",
      "     |      dictionary for instance variables (if defined)\n",
      "     |  \n",
      "     |  __weakref__\n",
      "     |      list of weak references to the object (if defined)\n",
      "     |  \n",
      "     |  ----------------------------------------------------------------------\n",
      "     |  Data and other attributes defined here:\n",
      "     |  \n",
      "     |  __abstractmethods__ = frozenset()\n",
      "     |  \n",
      "     |  ----------------------------------------------------------------------\n",
      "     |  Methods inherited from collections.abc.MutableMapping:\n",
      "     |  \n",
      "     |  setdefault(self, key, default=None)\n",
      "     |      D.setdefault(k[,d]) -> D.get(k,d), also set D[k]=d if k not in D\n",
      "     |  \n",
      "     |  update(self, other=(), /, **kwds)\n",
      "     |      D.update([E, ]**F) -> None.  Update D from mapping/iterable E and F.\n",
      "     |      If E present and has a .keys() method, does:     for k in E: D[k] = E[k]\n",
      "     |      If E present and lacks .keys() method, does:     for (k, v) in E: D[k] = v\n",
      "     |      In either case, this is followed by: for k, v in F.items(): D[k] = v\n",
      "     |  \n",
      "     |  ----------------------------------------------------------------------\n",
      "     |  Methods inherited from collections.abc.Mapping:\n",
      "     |  \n",
      "     |  __eq__(self, other)\n",
      "     |      Return self==value.\n",
      "     |  \n",
      "     |  items(self)\n",
      "     |      D.items() -> a set-like object providing a view on D's items\n",
      "     |  \n",
      "     |  keys(self)\n",
      "     |      D.keys() -> a set-like object providing a view on D's keys\n",
      "     |  \n",
      "     |  values(self)\n",
      "     |      D.values() -> an object providing a view on D's values\n",
      "     |  \n",
      "     |  ----------------------------------------------------------------------\n",
      "     |  Data and other attributes inherited from collections.abc.Mapping:\n",
      "     |  \n",
      "     |  __hash__ = None\n",
      "     |  \n",
      "     |  __reversed__ = None\n",
      "     |  \n",
      "     |  ----------------------------------------------------------------------\n",
      "     |  Class methods inherited from collections.abc.Collection:\n",
      "     |  \n",
      "     |  __subclasshook__(C) from abc.ABCMeta\n",
      "     |      Abstract classes can override this to customize issubclass().\n",
      "     |      \n",
      "     |      This is invoked early on by abc.ABCMeta.__subclasscheck__().\n",
      "     |      It should return True, False or NotImplemented.  If it returns\n",
      "     |      NotImplemented, the normal algorithm is used.  Otherwise, it\n",
      "     |      overrides the normal algorithm (and the outcome is cached).\n",
      "    \n",
      "    class Counter(builtins.dict)\n",
      "     |  Counter(iterable=None, /, **kwds)\n",
      "     |  \n",
      "     |  Dict subclass for counting hashable items.  Sometimes called a bag\n",
      "     |  or multiset.  Elements are stored as dictionary keys and their counts\n",
      "     |  are stored as dictionary values.\n",
      "     |  \n",
      "     |  >>> c = Counter('abcdeabcdabcaba')  # count elements from a string\n",
      "     |  \n",
      "     |  >>> c.most_common(3)                # three most common elements\n",
      "     |  [('a', 5), ('b', 4), ('c', 3)]\n",
      "     |  >>> sorted(c)                       # list all unique elements\n",
      "     |  ['a', 'b', 'c', 'd', 'e']\n",
      "     |  >>> ''.join(sorted(c.elements()))   # list elements with repetitions\n",
      "     |  'aaaaabbbbcccdde'\n",
      "     |  >>> sum(c.values())                 # total of all counts\n",
      "     |  15\n",
      "     |  \n",
      "     |  >>> c['a']                          # count of letter 'a'\n",
      "     |  5\n",
      "     |  >>> for elem in 'shazam':           # update counts from an iterable\n",
      "     |  ...     c[elem] += 1                # by adding 1 to each element's count\n",
      "     |  >>> c['a']                          # now there are seven 'a'\n",
      "     |  7\n",
      "     |  >>> del c['b']                      # remove all 'b'\n",
      "     |  >>> c['b']                          # now there are zero 'b'\n",
      "     |  0\n",
      "     |  \n",
      "     |  >>> d = Counter('simsalabim')       # make another counter\n",
      "     |  >>> c.update(d)                     # add in the second counter\n",
      "     |  >>> c['a']                          # now there are nine 'a'\n",
      "     |  9\n",
      "     |  \n",
      "     |  >>> c.clear()                       # empty the counter\n",
      "     |  >>> c\n",
      "     |  Counter()\n",
      "     |  \n",
      "     |  Note:  If a count is set to zero or reduced to zero, it will remain\n",
      "     |  in the counter until the entry is deleted or the counter is cleared:\n",
      "     |  \n",
      "     |  >>> c = Counter('aaabbc')\n",
      "     |  >>> c['b'] -= 2                     # reduce the count of 'b' by two\n",
      "     |  >>> c.most_common()                 # 'b' is still in, but its count is zero\n",
      "     |  [('a', 3), ('c', 1), ('b', 0)]\n",
      "     |  \n",
      "     |  Method resolution order:\n",
      "     |      Counter\n",
      "     |      builtins.dict\n",
      "     |      builtins.object\n",
      "     |  \n",
      "     |  Methods defined here:\n",
      "     |  \n",
      "     |  __add__(self, other)\n",
      "     |      Add counts from two counters.\n",
      "     |      \n",
      "     |      >>> Counter('abbb') + Counter('bcc')\n",
      "     |      Counter({'b': 4, 'c': 2, 'a': 1})\n",
      "     |  \n",
      "     |  __and__(self, other)\n",
      "     |      Intersection is the minimum of corresponding counts.\n",
      "     |      \n",
      "     |      >>> Counter('abbb') & Counter('bcc')\n",
      "     |      Counter({'b': 1})\n",
      "     |  \n",
      "     |  __delitem__(self, elem)\n",
      "     |      Like dict.__delitem__() but does not raise KeyError for missing values.\n",
      "     |  \n",
      "     |  __iadd__(self, other)\n",
      "     |      Inplace add from another counter, keeping only positive counts.\n",
      "     |      \n",
      "     |      >>> c = Counter('abbb')\n",
      "     |      >>> c += Counter('bcc')\n",
      "     |      >>> c\n",
      "     |      Counter({'b': 4, 'c': 2, 'a': 1})\n",
      "     |  \n",
      "     |  __iand__(self, other)\n",
      "     |      Inplace intersection is the minimum of corresponding counts.\n",
      "     |      \n",
      "     |      >>> c = Counter('abbb')\n",
      "     |      >>> c &= Counter('bcc')\n",
      "     |      >>> c\n",
      "     |      Counter({'b': 1})\n",
      "     |  \n",
      "     |  __init__(self, iterable=None, /, **kwds)\n",
      "     |      Create a new, empty Counter object.  And if given, count elements\n",
      "     |      from an input iterable.  Or, initialize the count from another mapping\n",
      "     |      of elements to their counts.\n",
      "     |      \n",
      "     |      >>> c = Counter()                           # a new, empty counter\n",
      "     |      >>> c = Counter('gallahad')                 # a new counter from an iterable\n",
      "     |      >>> c = Counter({'a': 4, 'b': 2})           # a new counter from a mapping\n",
      "     |      >>> c = Counter(a=4, b=2)                   # a new counter from keyword args\n",
      "     |  \n",
      "     |  __ior__(self, other)\n",
      "     |      Inplace union is the maximum of value from either counter.\n",
      "     |      \n",
      "     |      >>> c = Counter('abbb')\n",
      "     |      >>> c |= Counter('bcc')\n",
      "     |      >>> c\n",
      "     |      Counter({'b': 3, 'c': 2, 'a': 1})\n",
      "     |  \n",
      "     |  __isub__(self, other)\n",
      "     |      Inplace subtract counter, but keep only results with positive counts.\n",
      "     |      \n",
      "     |      >>> c = Counter('abbbc')\n",
      "     |      >>> c -= Counter('bccd')\n",
      "     |      >>> c\n",
      "     |      Counter({'b': 2, 'a': 1})\n",
      "     |  \n",
      "     |  __missing__(self, key)\n",
      "     |      The count of elements not in the Counter is zero.\n",
      "     |  \n",
      "     |  __neg__(self)\n",
      "     |      Subtracts from an empty counter.  Strips positive and zero counts,\n",
      "     |      and flips the sign on negative counts.\n",
      "     |  \n",
      "     |  __or__(self, other)\n",
      "     |      Union is the maximum of value in either of the input counters.\n",
      "     |      \n",
      "     |      >>> Counter('abbb') | Counter('bcc')\n",
      "     |      Counter({'b': 3, 'c': 2, 'a': 1})\n",
      "     |  \n",
      "     |  __pos__(self)\n",
      "     |      Adds an empty counter, effectively stripping negative and zero counts\n",
      "     |  \n",
      "     |  __reduce__(self)\n",
      "     |      Helper for pickle.\n",
      "     |  \n",
      "     |  __repr__(self)\n",
      "     |      Return repr(self).\n",
      "     |  \n",
      "     |  __sub__(self, other)\n",
      "     |      Subtract count, but keep only results with positive counts.\n",
      "     |      \n",
      "     |      >>> Counter('abbbc') - Counter('bccd')\n",
      "     |      Counter({'b': 2, 'a': 1})\n",
      "     |  \n",
      "     |  copy(self)\n",
      "     |      Return a shallow copy.\n",
      "     |  \n",
      "     |  elements(self)\n",
      "     |      Iterator over elements repeating each as many times as its count.\n",
      "     |      \n",
      "     |      >>> c = Counter('ABCABC')\n",
      "     |      >>> sorted(c.elements())\n",
      "     |      ['A', 'A', 'B', 'B', 'C', 'C']\n",
      "     |      \n",
      "     |      # Knuth's example for prime factors of 1836:  2**2 * 3**3 * 17**1\n",
      "     |      >>> prime_factors = Counter({2: 2, 3: 3, 17: 1})\n",
      "     |      >>> product = 1\n",
      "     |      >>> for factor in prime_factors.elements():     # loop over factors\n",
      "     |      ...     product *= factor                       # and multiply them\n",
      "     |      >>> product\n",
      "     |      1836\n",
      "     |      \n",
      "     |      Note, if an element's count has been set to zero or is a negative\n",
      "     |      number, elements() will ignore it.\n",
      "     |  \n",
      "     |  most_common(self, n=None)\n",
      "     |      List the n most common elements and their counts from the most\n",
      "     |      common to the least.  If n is None, then list all element counts.\n",
      "     |      \n",
      "     |      >>> Counter('abracadabra').most_common(3)\n",
      "     |      [('a', 5), ('b', 2), ('r', 2)]\n",
      "     |  \n",
      "     |  subtract(self, iterable=None, /, **kwds)\n",
      "     |      Like dict.update() but subtracts counts instead of replacing them.\n",
      "     |      Counts can be reduced below zero.  Both the inputs and outputs are\n",
      "     |      allowed to contain zero and negative counts.\n",
      "     |      \n",
      "     |      Source can be an iterable, a dictionary, or another Counter instance.\n",
      "     |      \n",
      "     |      >>> c = Counter('which')\n",
      "     |      >>> c.subtract('witch')             # subtract elements from another iterable\n",
      "     |      >>> c.subtract(Counter('watch'))    # subtract elements from another counter\n",
      "     |      >>> c['h']                          # 2 in which, minus 1 in witch, minus 1 in watch\n",
      "     |      0\n",
      "     |      >>> c['w']                          # 1 in which, minus 1 in witch, minus 1 in watch\n",
      "     |      -1\n",
      "     |  \n",
      "     |  update(self, iterable=None, /, **kwds)\n",
      "     |      Like dict.update() but add counts instead of replacing them.\n",
      "     |      \n",
      "     |      Source can be an iterable, a dictionary, or another Counter instance.\n",
      "     |      \n",
      "     |      >>> c = Counter('which')\n",
      "     |      >>> c.update('witch')           # add elements from another iterable\n",
      "     |      >>> d = Counter('watch')\n",
      "     |      >>> c.update(d)                 # add elements from another counter\n",
      "     |      >>> c['h']                      # four 'h' in which, witch, and watch\n",
      "     |      4\n",
      "     |  \n",
      "     |  ----------------------------------------------------------------------\n",
      "     |  Class methods defined here:\n",
      "     |  \n",
      "     |  fromkeys(iterable, v=None) from builtins.type\n",
      "     |      Create a new dictionary with keys from iterable and values set to value.\n",
      "     |  \n",
      "     |  ----------------------------------------------------------------------\n",
      "     |  Data descriptors defined here:\n",
      "     |  \n",
      "     |  __dict__\n",
      "     |      dictionary for instance variables (if defined)\n",
      "     |  \n",
      "     |  __weakref__\n",
      "     |      list of weak references to the object (if defined)\n",
      "     |  \n",
      "     |  ----------------------------------------------------------------------\n",
      "     |  Methods inherited from builtins.dict:\n",
      "     |  \n",
      "     |  __contains__(self, key, /)\n",
      "     |      True if the dictionary has the specified key, else False.\n",
      "     |  \n",
      "     |  __eq__(self, value, /)\n",
      "     |      Return self==value.\n",
      "     |  \n",
      "     |  __ge__(self, value, /)\n",
      "     |      Return self>=value.\n",
      "     |  \n",
      "     |  __getattribute__(self, name, /)\n",
      "     |      Return getattr(self, name).\n",
      "     |  \n",
      "     |  __getitem__(...)\n",
      "     |      x.__getitem__(y) <==> x[y]\n",
      "     |  \n",
      "     |  __gt__(self, value, /)\n",
      "     |      Return self>value.\n",
      "     |  \n",
      "     |  __iter__(self, /)\n",
      "     |      Implement iter(self).\n",
      "     |  \n",
      "     |  __le__(self, value, /)\n",
      "     |      Return self<=value.\n",
      "     |  \n",
      "     |  __len__(self, /)\n",
      "     |      Return len(self).\n",
      "     |  \n",
      "     |  __lt__(self, value, /)\n",
      "     |      Return self<value.\n",
      "     |  \n",
      "     |  __ne__(self, value, /)\n",
      "     |      Return self!=value.\n",
      "     |  \n",
      "     |  __reversed__(self, /)\n",
      "     |      Return a reverse iterator over the dict keys.\n",
      "     |  \n",
      "     |  __setitem__(self, key, value, /)\n",
      "     |      Set self[key] to value.\n",
      "     |  \n",
      "     |  __sizeof__(...)\n",
      "     |      D.__sizeof__() -> size of D in memory, in bytes\n",
      "     |  \n",
      "     |  clear(...)\n",
      "     |      D.clear() -> None.  Remove all items from D.\n",
      "     |  \n",
      "     |  get(self, key, default=None, /)\n",
      "     |      Return the value for key if key is in the dictionary, else default.\n",
      "     |  \n",
      "     |  items(...)\n",
      "     |      D.items() -> a set-like object providing a view on D's items\n",
      "     |  \n",
      "     |  keys(...)\n",
      "     |      D.keys() -> a set-like object providing a view on D's keys\n",
      "     |  \n",
      "     |  pop(...)\n",
      "     |      D.pop(k[,d]) -> v, remove specified key and return the corresponding value.\n",
      "     |      If key is not found, d is returned if given, otherwise KeyError is raised\n",
      "     |  \n",
      "     |  popitem(self, /)\n",
      "     |      Remove and return a (key, value) pair as a 2-tuple.\n",
      "     |      \n",
      "     |      Pairs are returned in LIFO (last-in, first-out) order.\n",
      "     |      Raises KeyError if the dict is empty.\n",
      "     |  \n",
      "     |  setdefault(self, key, default=None, /)\n",
      "     |      Insert key with a value of default if key is not in the dictionary.\n",
      "     |      \n",
      "     |      Return the value for key if key is in the dictionary, else default.\n",
      "     |  \n",
      "     |  values(...)\n",
      "     |      D.values() -> an object providing a view on D's values\n",
      "     |  \n",
      "     |  ----------------------------------------------------------------------\n",
      "     |  Static methods inherited from builtins.dict:\n",
      "     |  \n",
      "     |  __new__(*args, **kwargs) from builtins.type\n",
      "     |      Create and return a new object.  See help(type) for accurate signature.\n",
      "     |  \n",
      "     |  ----------------------------------------------------------------------\n",
      "     |  Data and other attributes inherited from builtins.dict:\n",
      "     |  \n",
      "     |  __hash__ = None\n",
      "    \n",
      "    class OrderedDict(builtins.dict)\n",
      "     |  Dictionary that remembers insertion order\n",
      "     |  \n",
      "     |  Method resolution order:\n",
      "     |      OrderedDict\n",
      "     |      builtins.dict\n",
      "     |      builtins.object\n",
      "     |  \n",
      "     |  Methods defined here:\n",
      "     |  \n",
      "     |  __delitem__(self, key, /)\n",
      "     |      Delete self[key].\n",
      "     |  \n",
      "     |  __eq__(self, value, /)\n",
      "     |      Return self==value.\n",
      "     |  \n",
      "     |  __ge__(self, value, /)\n",
      "     |      Return self>=value.\n",
      "     |  \n",
      "     |  __gt__(self, value, /)\n",
      "     |      Return self>value.\n",
      "     |  \n",
      "     |  __init__(self, /, *args, **kwargs)\n",
      "     |      Initialize self.  See help(type(self)) for accurate signature.\n",
      "     |  \n",
      "     |  __iter__(self, /)\n",
      "     |      Implement iter(self).\n",
      "     |  \n",
      "     |  __le__(self, value, /)\n",
      "     |      Return self<=value.\n",
      "     |  \n",
      "     |  __lt__(self, value, /)\n",
      "     |      Return self<value.\n",
      "     |  \n",
      "     |  __ne__(self, value, /)\n",
      "     |      Return self!=value.\n",
      "     |  \n",
      "     |  __reduce__(...)\n",
      "     |      Return state information for pickling\n",
      "     |  \n",
      "     |  __repr__(self, /)\n",
      "     |      Return repr(self).\n",
      "     |  \n",
      "     |  __reversed__(...)\n",
      "     |      od.__reversed__() <==> reversed(od)\n",
      "     |  \n",
      "     |  __setitem__(self, key, value, /)\n",
      "     |      Set self[key] to value.\n",
      "     |  \n",
      "     |  __sizeof__(...)\n",
      "     |      D.__sizeof__() -> size of D in memory, in bytes\n",
      "     |  \n",
      "     |  clear(...)\n",
      "     |      od.clear() -> None.  Remove all items from od.\n",
      "     |  \n",
      "     |  copy(...)\n",
      "     |      od.copy() -> a shallow copy of od\n",
      "     |  \n",
      "     |  items(...)\n",
      "     |      D.items() -> a set-like object providing a view on D's items\n",
      "     |  \n",
      "     |  keys(...)\n",
      "     |      D.keys() -> a set-like object providing a view on D's keys\n",
      "     |  \n",
      "     |  move_to_end(self, /, key, last=True)\n",
      "     |      Move an existing element to the end (or beginning if last is false).\n",
      "     |      \n",
      "     |      Raise KeyError if the element does not exist.\n",
      "     |  \n",
      "     |  pop(...)\n",
      "     |      od.pop(k[,d]) -> v, remove specified key and return the corresponding\n",
      "     |      value.  If key is not found, d is returned if given, otherwise KeyError\n",
      "     |      is raised.\n",
      "     |  \n",
      "     |  popitem(self, /, last=True)\n",
      "     |      Remove and return a (key, value) pair from the dictionary.\n",
      "     |      \n",
      "     |      Pairs are returned in LIFO order if last is true or FIFO order if false.\n",
      "     |  \n",
      "     |  setdefault(self, /, key, default=None)\n",
      "     |      Insert key with a value of default if key is not in the dictionary.\n",
      "     |      \n",
      "     |      Return the value for key if key is in the dictionary, else default.\n",
      "     |  \n",
      "     |  update(...)\n",
      "     |      D.update([E, ]**F) -> None.  Update D from dict/iterable E and F.\n",
      "     |      If E is present and has a .keys() method, then does:  for k in E: D[k] = E[k]\n",
      "     |      If E is present and lacks a .keys() method, then does:  for k, v in E: D[k] = v\n",
      "     |      In either case, this is followed by: for k in F:  D[k] = F[k]\n",
      "     |  \n",
      "     |  values(...)\n",
      "     |      D.values() -> an object providing a view on D's values\n",
      "     |  \n",
      "     |  ----------------------------------------------------------------------\n",
      "     |  Class methods defined here:\n",
      "     |  \n",
      "     |  fromkeys(iterable, value=None) from builtins.type\n",
      "     |      Create a new ordered dictionary with keys from iterable and values set to value.\n",
      "     |  \n",
      "     |  ----------------------------------------------------------------------\n",
      "     |  Data descriptors defined here:\n",
      "     |  \n",
      "     |  __dict__\n",
      "     |  \n",
      "     |  ----------------------------------------------------------------------\n",
      "     |  Data and other attributes defined here:\n",
      "     |  \n",
      "     |  __hash__ = None\n",
      "     |  \n",
      "     |  ----------------------------------------------------------------------\n",
      "     |  Methods inherited from builtins.dict:\n",
      "     |  \n",
      "     |  __contains__(self, key, /)\n",
      "     |      True if the dictionary has the specified key, else False.\n",
      "     |  \n",
      "     |  __getattribute__(self, name, /)\n",
      "     |      Return getattr(self, name).\n",
      "     |  \n",
      "     |  __getitem__(...)\n",
      "     |      x.__getitem__(y) <==> x[y]\n",
      "     |  \n",
      "     |  __len__(self, /)\n",
      "     |      Return len(self).\n",
      "     |  \n",
      "     |  get(self, key, default=None, /)\n",
      "     |      Return the value for key if key is in the dictionary, else default.\n",
      "     |  \n",
      "     |  ----------------------------------------------------------------------\n",
      "     |  Static methods inherited from builtins.dict:\n",
      "     |  \n",
      "     |  __new__(*args, **kwargs) from builtins.type\n",
      "     |      Create and return a new object.  See help(type) for accurate signature.\n",
      "    \n",
      "    class UserDict(collections.abc.MutableMapping)\n",
      "     |  UserDict(dict=None, /, **kwargs)\n",
      "     |  \n",
      "     |  Method resolution order:\n",
      "     |      UserDict\n",
      "     |      collections.abc.MutableMapping\n",
      "     |      collections.abc.Mapping\n",
      "     |      collections.abc.Collection\n",
      "     |      collections.abc.Sized\n",
      "     |      collections.abc.Iterable\n",
      "     |      collections.abc.Container\n",
      "     |      builtins.object\n",
      "     |  \n",
      "     |  Methods defined here:\n",
      "     |  \n",
      "     |  __contains__(self, key)\n",
      "     |      # Modify __contains__ to work correctly when __missing__ is present\n",
      "     |  \n",
      "     |  __copy__(self)\n",
      "     |  \n",
      "     |  __delitem__(self, key)\n",
      "     |  \n",
      "     |  __getitem__(self, key)\n",
      "     |  \n",
      "     |  __init__(self, dict=None, /, **kwargs)\n",
      "     |      Initialize self.  See help(type(self)) for accurate signature.\n",
      "     |  \n",
      "     |  __iter__(self)\n",
      "     |  \n",
      "     |  __len__(self)\n",
      "     |  \n",
      "     |  __repr__(self)\n",
      "     |      Return repr(self).\n",
      "     |  \n",
      "     |  __setitem__(self, key, item)\n",
      "     |  \n",
      "     |  copy(self)\n",
      "     |  \n",
      "     |  ----------------------------------------------------------------------\n",
      "     |  Class methods defined here:\n",
      "     |  \n",
      "     |  fromkeys(iterable, value=None) from abc.ABCMeta\n",
      "     |  \n",
      "     |  ----------------------------------------------------------------------\n",
      "     |  Data descriptors defined here:\n",
      "     |  \n",
      "     |  __dict__\n",
      "     |      dictionary for instance variables (if defined)\n",
      "     |  \n",
      "     |  __weakref__\n",
      "     |      list of weak references to the object (if defined)\n",
      "     |  \n",
      "     |  ----------------------------------------------------------------------\n",
      "     |  Data and other attributes defined here:\n",
      "     |  \n",
      "     |  __abstractmethods__ = frozenset()\n",
      "     |  \n",
      "     |  ----------------------------------------------------------------------\n",
      "     |  Methods inherited from collections.abc.MutableMapping:\n",
      "     |  \n",
      "     |  clear(self)\n",
      "     |      D.clear() -> None.  Remove all items from D.\n",
      "     |  \n",
      "     |  pop(self, key, default=<object object at 0x000001E9006E4130>)\n",
      "     |      D.pop(k[,d]) -> v, remove specified key and return the corresponding value.\n",
      "     |      If key is not found, d is returned if given, otherwise KeyError is raised.\n",
      "     |  \n",
      "     |  popitem(self)\n",
      "     |      D.popitem() -> (k, v), remove and return some (key, value) pair\n",
      "     |      as a 2-tuple; but raise KeyError if D is empty.\n",
      "     |  \n",
      "     |  setdefault(self, key, default=None)\n",
      "     |      D.setdefault(k[,d]) -> D.get(k,d), also set D[k]=d if k not in D\n",
      "     |  \n",
      "     |  update(self, other=(), /, **kwds)\n",
      "     |      D.update([E, ]**F) -> None.  Update D from mapping/iterable E and F.\n",
      "     |      If E present and has a .keys() method, does:     for k in E: D[k] = E[k]\n",
      "     |      If E present and lacks .keys() method, does:     for (k, v) in E: D[k] = v\n",
      "     |      In either case, this is followed by: for k, v in F.items(): D[k] = v\n",
      "     |  \n",
      "     |  ----------------------------------------------------------------------\n",
      "     |  Methods inherited from collections.abc.Mapping:\n",
      "     |  \n",
      "     |  __eq__(self, other)\n",
      "     |      Return self==value.\n",
      "     |  \n",
      "     |  get(self, key, default=None)\n",
      "     |      D.get(k[,d]) -> D[k] if k in D, else d.  d defaults to None.\n",
      "     |  \n",
      "     |  items(self)\n",
      "     |      D.items() -> a set-like object providing a view on D's items\n",
      "     |  \n",
      "     |  keys(self)\n",
      "     |      D.keys() -> a set-like object providing a view on D's keys\n",
      "     |  \n",
      "     |  values(self)\n",
      "     |      D.values() -> an object providing a view on D's values\n",
      "     |  \n",
      "     |  ----------------------------------------------------------------------\n",
      "     |  Data and other attributes inherited from collections.abc.Mapping:\n",
      "     |  \n",
      "     |  __hash__ = None\n",
      "     |  \n",
      "     |  __reversed__ = None\n",
      "     |  \n",
      "     |  ----------------------------------------------------------------------\n",
      "     |  Class methods inherited from collections.abc.Collection:\n",
      "     |  \n",
      "     |  __subclasshook__(C) from abc.ABCMeta\n",
      "     |      Abstract classes can override this to customize issubclass().\n",
      "     |      \n",
      "     |      This is invoked early on by abc.ABCMeta.__subclasscheck__().\n",
      "     |      It should return True, False or NotImplemented.  If it returns\n",
      "     |      NotImplemented, the normal algorithm is used.  Otherwise, it\n",
      "     |      overrides the normal algorithm (and the outcome is cached).\n",
      "    \n",
      "    class UserList(collections.abc.MutableSequence)\n",
      "     |  UserList(initlist=None)\n",
      "     |  \n",
      "     |  A more or less complete user-defined wrapper around list objects.\n",
      "     |  \n",
      "     |  Method resolution order:\n",
      "     |      UserList\n",
      "     |      collections.abc.MutableSequence\n",
      "     |      collections.abc.Sequence\n",
      "     |      collections.abc.Reversible\n",
      "     |      collections.abc.Collection\n",
      "     |      collections.abc.Sized\n",
      "     |      collections.abc.Iterable\n",
      "     |      collections.abc.Container\n",
      "     |      builtins.object\n",
      "     |  \n",
      "     |  Methods defined here:\n",
      "     |  \n",
      "     |  __add__(self, other)\n",
      "     |  \n",
      "     |  __contains__(self, item)\n",
      "     |  \n",
      "     |  __copy__(self)\n",
      "     |  \n",
      "     |  __delitem__(self, i)\n",
      "     |  \n",
      "     |  __eq__(self, other)\n",
      "     |      Return self==value.\n",
      "     |  \n",
      "     |  __ge__(self, other)\n",
      "     |      Return self>=value.\n",
      "     |  \n",
      "     |  __getitem__(self, i)\n",
      "     |  \n",
      "     |  __gt__(self, other)\n",
      "     |      Return self>value.\n",
      "     |  \n",
      "     |  __iadd__(self, other)\n",
      "     |  \n",
      "     |  __imul__(self, n)\n",
      "     |  \n",
      "     |  __init__(self, initlist=None)\n",
      "     |      Initialize self.  See help(type(self)) for accurate signature.\n",
      "     |  \n",
      "     |  __le__(self, other)\n",
      "     |      Return self<=value.\n",
      "     |  \n",
      "     |  __len__(self)\n",
      "     |  \n",
      "     |  __lt__(self, other)\n",
      "     |      Return self<value.\n",
      "     |  \n",
      "     |  __mul__(self, n)\n",
      "     |  \n",
      "     |  __radd__(self, other)\n",
      "     |  \n",
      "     |  __repr__(self)\n",
      "     |      Return repr(self).\n",
      "     |  \n",
      "     |  __rmul__ = __mul__(self, n)\n",
      "     |  \n",
      "     |  __setitem__(self, i, item)\n",
      "     |  \n",
      "     |  append(self, item)\n",
      "     |      S.append(value) -- append value to the end of the sequence\n",
      "     |  \n",
      "     |  clear(self)\n",
      "     |      S.clear() -> None -- remove all items from S\n",
      "     |  \n",
      "     |  copy(self)\n",
      "     |  \n",
      "     |  count(self, item)\n",
      "     |      S.count(value) -> integer -- return number of occurrences of value\n",
      "     |  \n",
      "     |  extend(self, other)\n",
      "     |      S.extend(iterable) -- extend sequence by appending elements from the iterable\n",
      "     |  \n",
      "     |  index(self, item, *args)\n",
      "     |      S.index(value, [start, [stop]]) -> integer -- return first index of value.\n",
      "     |      Raises ValueError if the value is not present.\n",
      "     |      \n",
      "     |      Supporting start and stop arguments is optional, but\n",
      "     |      recommended.\n",
      "     |  \n",
      "     |  insert(self, i, item)\n",
      "     |      S.insert(index, value) -- insert value before index\n",
      "     |  \n",
      "     |  pop(self, i=-1)\n",
      "     |      S.pop([index]) -> item -- remove and return item at index (default last).\n",
      "     |      Raise IndexError if list is empty or index is out of range.\n",
      "     |  \n",
      "     |  remove(self, item)\n",
      "     |      S.remove(value) -- remove first occurrence of value.\n",
      "     |      Raise ValueError if the value is not present.\n",
      "     |  \n",
      "     |  reverse(self)\n",
      "     |      S.reverse() -- reverse *IN PLACE*\n",
      "     |  \n",
      "     |  sort(self, /, *args, **kwds)\n",
      "     |  \n",
      "     |  ----------------------------------------------------------------------\n",
      "     |  Data descriptors defined here:\n",
      "     |  \n",
      "     |  __dict__\n",
      "     |      dictionary for instance variables (if defined)\n",
      "     |  \n",
      "     |  __weakref__\n",
      "     |      list of weak references to the object (if defined)\n",
      "     |  \n",
      "     |  ----------------------------------------------------------------------\n",
      "     |  Data and other attributes defined here:\n",
      "     |  \n",
      "     |  __abstractmethods__ = frozenset()\n",
      "     |  \n",
      "     |  __hash__ = None\n",
      "     |  \n",
      "     |  ----------------------------------------------------------------------\n",
      "     |  Methods inherited from collections.abc.Sequence:\n",
      "     |  \n",
      "     |  __iter__(self)\n",
      "     |  \n",
      "     |  __reversed__(self)\n",
      "     |  \n",
      "     |  ----------------------------------------------------------------------\n",
      "     |  Class methods inherited from collections.abc.Reversible:\n",
      "     |  \n",
      "     |  __subclasshook__(C) from abc.ABCMeta\n",
      "     |      Abstract classes can override this to customize issubclass().\n",
      "     |      \n",
      "     |      This is invoked early on by abc.ABCMeta.__subclasscheck__().\n",
      "     |      It should return True, False or NotImplemented.  If it returns\n",
      "     |      NotImplemented, the normal algorithm is used.  Otherwise, it\n",
      "     |      overrides the normal algorithm (and the outcome is cached).\n",
      "    \n",
      "    class UserString(collections.abc.Sequence)\n",
      "     |  UserString(seq)\n",
      "     |  \n",
      "     |  All the operations on a read-only sequence.\n",
      "     |  \n",
      "     |  Concrete subclasses must override __new__ or __init__,\n",
      "     |  __getitem__, and __len__.\n",
      "     |  \n",
      "     |  Method resolution order:\n",
      "     |      UserString\n",
      "     |      collections.abc.Sequence\n",
      "     |      collections.abc.Reversible\n",
      "     |      collections.abc.Collection\n",
      "     |      collections.abc.Sized\n",
      "     |      collections.abc.Iterable\n",
      "     |      collections.abc.Container\n",
      "     |      builtins.object\n",
      "     |  \n",
      "     |  Methods defined here:\n",
      "     |  \n",
      "     |  __add__(self, other)\n",
      "     |  \n",
      "     |  __complex__(self)\n",
      "     |  \n",
      "     |  __contains__(self, char)\n",
      "     |  \n",
      "     |  __eq__(self, string)\n",
      "     |      Return self==value.\n",
      "     |  \n",
      "     |  __float__(self)\n",
      "     |  \n",
      "     |  __ge__(self, string)\n",
      "     |      Return self>=value.\n",
      "     |  \n",
      "     |  __getitem__(self, index)\n",
      "     |  \n",
      "     |  __getnewargs__(self)\n",
      "     |  \n",
      "     |  __gt__(self, string)\n",
      "     |      Return self>value.\n",
      "     |  \n",
      "     |  __hash__(self)\n",
      "     |      Return hash(self).\n",
      "     |  \n",
      "     |  __init__(self, seq)\n",
      "     |      Initialize self.  See help(type(self)) for accurate signature.\n",
      "     |  \n",
      "     |  __int__(self)\n",
      "     |  \n",
      "     |  __le__(self, string)\n",
      "     |      Return self<=value.\n",
      "     |  \n",
      "     |  __len__(self)\n",
      "     |  \n",
      "     |  __lt__(self, string)\n",
      "     |      Return self<value.\n",
      "     |  \n",
      "     |  __mod__(self, args)\n",
      "     |  \n",
      "     |  __mul__(self, n)\n",
      "     |  \n",
      "     |  __radd__(self, other)\n",
      "     |  \n",
      "     |  __repr__(self)\n",
      "     |      Return repr(self).\n",
      "     |  \n",
      "     |  __rmod__(self, template)\n",
      "     |  \n",
      "     |  __rmul__ = __mul__(self, n)\n",
      "     |  \n",
      "     |  __str__(self)\n",
      "     |      Return str(self).\n",
      "     |  \n",
      "     |  capitalize(self)\n",
      "     |      # the following methods are defined in alphabetical order:\n",
      "     |  \n",
      "     |  casefold(self)\n",
      "     |  \n",
      "     |  center(self, width, *args)\n",
      "     |  \n",
      "     |  count(self, sub, start=0, end=9223372036854775807)\n",
      "     |      S.count(value) -> integer -- return number of occurrences of value\n",
      "     |  \n",
      "     |  encode(self, encoding='utf-8', errors='strict')\n",
      "     |  \n",
      "     |  endswith(self, suffix, start=0, end=9223372036854775807)\n",
      "     |  \n",
      "     |  expandtabs(self, tabsize=8)\n",
      "     |  \n",
      "     |  find(self, sub, start=0, end=9223372036854775807)\n",
      "     |  \n",
      "     |  format(self, /, *args, **kwds)\n",
      "     |  \n",
      "     |  format_map(self, mapping)\n",
      "     |  \n",
      "     |  index(self, sub, start=0, end=9223372036854775807)\n",
      "     |      S.index(value, [start, [stop]]) -> integer -- return first index of value.\n",
      "     |      Raises ValueError if the value is not present.\n",
      "     |      \n",
      "     |      Supporting start and stop arguments is optional, but\n",
      "     |      recommended.\n",
      "     |  \n",
      "     |  isalnum(self)\n",
      "     |  \n",
      "     |  isalpha(self)\n",
      "     |  \n",
      "     |  isascii(self)\n",
      "     |  \n",
      "     |  isdecimal(self)\n",
      "     |  \n",
      "     |  isdigit(self)\n",
      "     |  \n",
      "     |  isidentifier(self)\n",
      "     |  \n",
      "     |  islower(self)\n",
      "     |  \n",
      "     |  isnumeric(self)\n",
      "     |  \n",
      "     |  isprintable(self)\n",
      "     |  \n",
      "     |  isspace(self)\n",
      "     |  \n",
      "     |  istitle(self)\n",
      "     |  \n",
      "     |  isupper(self)\n",
      "     |  \n",
      "     |  join(self, seq)\n",
      "     |  \n",
      "     |  ljust(self, width, *args)\n",
      "     |  \n",
      "     |  lower(self)\n",
      "     |  \n",
      "     |  lstrip(self, chars=None)\n",
      "     |  \n",
      "     |  partition(self, sep)\n",
      "     |  \n",
      "     |  replace(self, old, new, maxsplit=-1)\n",
      "     |  \n",
      "     |  rfind(self, sub, start=0, end=9223372036854775807)\n",
      "     |  \n",
      "     |  rindex(self, sub, start=0, end=9223372036854775807)\n",
      "     |  \n",
      "     |  rjust(self, width, *args)\n",
      "     |  \n",
      "     |  rpartition(self, sep)\n",
      "     |  \n",
      "     |  rsplit(self, sep=None, maxsplit=-1)\n",
      "     |  \n",
      "     |  rstrip(self, chars=None)\n",
      "     |  \n",
      "     |  split(self, sep=None, maxsplit=-1)\n",
      "     |  \n",
      "     |  splitlines(self, keepends=False)\n",
      "     |  \n",
      "     |  startswith(self, prefix, start=0, end=9223372036854775807)\n",
      "     |  \n",
      "     |  strip(self, chars=None)\n",
      "     |  \n",
      "     |  swapcase(self)\n",
      "     |  \n",
      "     |  title(self)\n",
      "     |  \n",
      "     |  translate(self, *args)\n",
      "     |  \n",
      "     |  upper(self)\n",
      "     |  \n",
      "     |  zfill(self, width)\n",
      "     |  \n",
      "     |  ----------------------------------------------------------------------\n",
      "     |  Static methods defined here:\n",
      "     |  \n",
      "     |  maketrans(...)\n",
      "     |      Return a translation table usable for str.translate().\n",
      "     |      \n",
      "     |      If there is only one argument, it must be a dictionary mapping Unicode\n",
      "     |      ordinals (integers) or characters to Unicode ordinals, strings or None.\n",
      "     |      Character keys will be then converted to ordinals.\n",
      "     |      If there are two arguments, they must be strings of equal length, and\n",
      "     |      in the resulting dictionary, each character in x will be mapped to the\n",
      "     |      character at the same position in y. If there is a third argument, it\n",
      "     |      must be a string, whose characters will be mapped to None in the result.\n",
      "     |  \n",
      "     |  ----------------------------------------------------------------------\n",
      "     |  Data descriptors defined here:\n",
      "     |  \n",
      "     |  __dict__\n",
      "     |      dictionary for instance variables (if defined)\n",
      "     |  \n",
      "     |  __weakref__\n",
      "     |      list of weak references to the object (if defined)\n",
      "     |  \n",
      "     |  ----------------------------------------------------------------------\n",
      "     |  Data and other attributes defined here:\n",
      "     |  \n",
      "     |  __abstractmethods__ = frozenset()\n",
      "     |  \n",
      "     |  ----------------------------------------------------------------------\n",
      "     |  Methods inherited from collections.abc.Sequence:\n",
      "     |  \n",
      "     |  __iter__(self)\n",
      "     |  \n",
      "     |  __reversed__(self)\n",
      "     |  \n",
      "     |  ----------------------------------------------------------------------\n",
      "     |  Class methods inherited from collections.abc.Reversible:\n",
      "     |  \n",
      "     |  __subclasshook__(C) from abc.ABCMeta\n",
      "     |      Abstract classes can override this to customize issubclass().\n",
      "     |      \n",
      "     |      This is invoked early on by abc.ABCMeta.__subclasscheck__().\n",
      "     |      It should return True, False or NotImplemented.  If it returns\n",
      "     |      NotImplemented, the normal algorithm is used.  Otherwise, it\n",
      "     |      overrides the normal algorithm (and the outcome is cached).\n",
      "    \n",
      "    class defaultdict(builtins.dict)\n",
      "     |  defaultdict(default_factory[, ...]) --> dict with default factory\n",
      "     |  \n",
      "     |  The default factory is called without arguments to produce\n",
      "     |  a new value when a key is not present, in __getitem__ only.\n",
      "     |  A defaultdict compares equal to a dict with the same items.\n",
      "     |  All remaining arguments are treated the same as if they were\n",
      "     |  passed to the dict constructor, including keyword arguments.\n",
      "     |  \n",
      "     |  Method resolution order:\n",
      "     |      defaultdict\n",
      "     |      builtins.dict\n",
      "     |      builtins.object\n",
      "     |  \n",
      "     |  Methods defined here:\n",
      "     |  \n",
      "     |  __copy__(...)\n",
      "     |      D.copy() -> a shallow copy of D.\n",
      "     |  \n",
      "     |  __getattribute__(self, name, /)\n",
      "     |      Return getattr(self, name).\n",
      "     |  \n",
      "     |  __init__(self, /, *args, **kwargs)\n",
      "     |      Initialize self.  See help(type(self)) for accurate signature.\n",
      "     |  \n",
      "     |  __missing__(...)\n",
      "     |      __missing__(key) # Called by __getitem__ for missing key; pseudo-code:\n",
      "     |      if self.default_factory is None: raise KeyError((key,))\n",
      "     |      self[key] = value = self.default_factory()\n",
      "     |      return value\n",
      "     |  \n",
      "     |  __reduce__(...)\n",
      "     |      Return state information for pickling.\n",
      "     |  \n",
      "     |  __repr__(self, /)\n",
      "     |      Return repr(self).\n",
      "     |  \n",
      "     |  copy(...)\n",
      "     |      D.copy() -> a shallow copy of D.\n",
      "     |  \n",
      "     |  ----------------------------------------------------------------------\n",
      "     |  Data descriptors defined here:\n",
      "     |  \n",
      "     |  default_factory\n",
      "     |      Factory for default value called by __missing__().\n",
      "     |  \n",
      "     |  ----------------------------------------------------------------------\n",
      "     |  Methods inherited from builtins.dict:\n",
      "     |  \n",
      "     |  __contains__(self, key, /)\n",
      "     |      True if the dictionary has the specified key, else False.\n",
      "     |  \n",
      "     |  __delitem__(self, key, /)\n",
      "     |      Delete self[key].\n",
      "     |  \n",
      "     |  __eq__(self, value, /)\n",
      "     |      Return self==value.\n",
      "     |  \n",
      "     |  __ge__(self, value, /)\n",
      "     |      Return self>=value.\n",
      "     |  \n",
      "     |  __getitem__(...)\n",
      "     |      x.__getitem__(y) <==> x[y]\n",
      "     |  \n",
      "     |  __gt__(self, value, /)\n",
      "     |      Return self>value.\n",
      "     |  \n",
      "     |  __iter__(self, /)\n",
      "     |      Implement iter(self).\n",
      "     |  \n",
      "     |  __le__(self, value, /)\n",
      "     |      Return self<=value.\n",
      "     |  \n",
      "     |  __len__(self, /)\n",
      "     |      Return len(self).\n",
      "     |  \n",
      "     |  __lt__(self, value, /)\n",
      "     |      Return self<value.\n",
      "     |  \n",
      "     |  __ne__(self, value, /)\n",
      "     |      Return self!=value.\n",
      "     |  \n",
      "     |  __reversed__(self, /)\n",
      "     |      Return a reverse iterator over the dict keys.\n",
      "     |  \n",
      "     |  __setitem__(self, key, value, /)\n",
      "     |      Set self[key] to value.\n",
      "     |  \n",
      "     |  __sizeof__(...)\n",
      "     |      D.__sizeof__() -> size of D in memory, in bytes\n",
      "     |  \n",
      "     |  clear(...)\n",
      "     |      D.clear() -> None.  Remove all items from D.\n",
      "     |  \n",
      "     |  get(self, key, default=None, /)\n",
      "     |      Return the value for key if key is in the dictionary, else default.\n",
      "     |  \n",
      "     |  items(...)\n",
      "     |      D.items() -> a set-like object providing a view on D's items\n",
      "     |  \n",
      "     |  keys(...)\n",
      "     |      D.keys() -> a set-like object providing a view on D's keys\n",
      "     |  \n",
      "     |  pop(...)\n",
      "     |      D.pop(k[,d]) -> v, remove specified key and return the corresponding value.\n",
      "     |      If key is not found, d is returned if given, otherwise KeyError is raised\n",
      "     |  \n",
      "     |  popitem(self, /)\n",
      "     |      Remove and return a (key, value) pair as a 2-tuple.\n",
      "     |      \n",
      "     |      Pairs are returned in LIFO (last-in, first-out) order.\n",
      "     |      Raises KeyError if the dict is empty.\n",
      "     |  \n",
      "     |  setdefault(self, key, default=None, /)\n",
      "     |      Insert key with a value of default if key is not in the dictionary.\n",
      "     |      \n",
      "     |      Return the value for key if key is in the dictionary, else default.\n",
      "     |  \n",
      "     |  update(...)\n",
      "     |      D.update([E, ]**F) -> None.  Update D from dict/iterable E and F.\n",
      "     |      If E is present and has a .keys() method, then does:  for k in E: D[k] = E[k]\n",
      "     |      If E is present and lacks a .keys() method, then does:  for k, v in E: D[k] = v\n",
      "     |      In either case, this is followed by: for k in F:  D[k] = F[k]\n",
      "     |  \n",
      "     |  values(...)\n",
      "     |      D.values() -> an object providing a view on D's values\n",
      "     |  \n",
      "     |  ----------------------------------------------------------------------\n",
      "     |  Class methods inherited from builtins.dict:\n",
      "     |  \n",
      "     |  fromkeys(iterable, value=None, /) from builtins.type\n",
      "     |      Create a new dictionary with keys from iterable and values set to value.\n",
      "     |  \n",
      "     |  ----------------------------------------------------------------------\n",
      "     |  Static methods inherited from builtins.dict:\n",
      "     |  \n",
      "     |  __new__(*args, **kwargs) from builtins.type\n",
      "     |      Create and return a new object.  See help(type) for accurate signature.\n",
      "     |  \n",
      "     |  ----------------------------------------------------------------------\n",
      "     |  Data and other attributes inherited from builtins.dict:\n",
      "     |  \n",
      "     |  __hash__ = None\n",
      "    \n",
      "    class deque(builtins.object)\n",
      "     |  deque([iterable[, maxlen]]) --> deque object\n",
      "     |  \n",
      "     |  A list-like sequence optimized for data accesses near its endpoints.\n",
      "     |  \n",
      "     |  Methods defined here:\n",
      "     |  \n",
      "     |  __add__(self, value, /)\n",
      "     |      Return self+value.\n",
      "     |  \n",
      "     |  __bool__(self, /)\n",
      "     |      self != 0\n",
      "     |  \n",
      "     |  __contains__(self, key, /)\n",
      "     |      Return key in self.\n",
      "     |  \n",
      "     |  __copy__(...)\n",
      "     |      Return a shallow copy of a deque.\n",
      "     |  \n",
      "     |  __delitem__(self, key, /)\n",
      "     |      Delete self[key].\n",
      "     |  \n",
      "     |  __eq__(self, value, /)\n",
      "     |      Return self==value.\n",
      "     |  \n",
      "     |  __ge__(self, value, /)\n",
      "     |      Return self>=value.\n",
      "     |  \n",
      "     |  __getattribute__(self, name, /)\n",
      "     |      Return getattr(self, name).\n",
      "     |  \n",
      "     |  __getitem__(self, key, /)\n",
      "     |      Return self[key].\n",
      "     |  \n",
      "     |  __gt__(self, value, /)\n",
      "     |      Return self>value.\n",
      "     |  \n",
      "     |  __iadd__(self, value, /)\n",
      "     |      Implement self+=value.\n",
      "     |  \n",
      "     |  __imul__(self, value, /)\n",
      "     |      Implement self*=value.\n",
      "     |  \n",
      "     |  __init__(self, /, *args, **kwargs)\n",
      "     |      Initialize self.  See help(type(self)) for accurate signature.\n",
      "     |  \n",
      "     |  __iter__(self, /)\n",
      "     |      Implement iter(self).\n",
      "     |  \n",
      "     |  __le__(self, value, /)\n",
      "     |      Return self<=value.\n",
      "     |  \n",
      "     |  __len__(self, /)\n",
      "     |      Return len(self).\n",
      "     |  \n",
      "     |  __lt__(self, value, /)\n",
      "     |      Return self<value.\n",
      "     |  \n",
      "     |  __mul__(self, value, /)\n",
      "     |      Return self*value.\n",
      "     |  \n",
      "     |  __ne__(self, value, /)\n",
      "     |      Return self!=value.\n",
      "     |  \n",
      "     |  __reduce__(...)\n",
      "     |      Return state information for pickling.\n",
      "     |  \n",
      "     |  __repr__(self, /)\n",
      "     |      Return repr(self).\n",
      "     |  \n",
      "     |  __reversed__(...)\n",
      "     |      D.__reversed__() -- return a reverse iterator over the deque\n",
      "     |  \n",
      "     |  __rmul__(self, value, /)\n",
      "     |      Return value*self.\n",
      "     |  \n",
      "     |  __setitem__(self, key, value, /)\n",
      "     |      Set self[key] to value.\n",
      "     |  \n",
      "     |  __sizeof__(...)\n",
      "     |      D.__sizeof__() -- size of D in memory, in bytes\n",
      "     |  \n",
      "     |  append(...)\n",
      "     |      Add an element to the right side of the deque.\n",
      "     |  \n",
      "     |  appendleft(...)\n",
      "     |      Add an element to the left side of the deque.\n",
      "     |  \n",
      "     |  clear(...)\n",
      "     |      Remove all elements from the deque.\n",
      "     |  \n",
      "     |  copy(...)\n",
      "     |      Return a shallow copy of a deque.\n",
      "     |  \n",
      "     |  count(...)\n",
      "     |      D.count(value) -> integer -- return number of occurrences of value\n",
      "     |  \n",
      "     |  extend(...)\n",
      "     |      Extend the right side of the deque with elements from the iterable\n",
      "     |  \n",
      "     |  extendleft(...)\n",
      "     |      Extend the left side of the deque with elements from the iterable\n",
      "     |  \n",
      "     |  index(...)\n",
      "     |      D.index(value, [start, [stop]]) -> integer -- return first index of value.\n",
      "     |      Raises ValueError if the value is not present.\n",
      "     |  \n",
      "     |  insert(...)\n",
      "     |      D.insert(index, object) -- insert object before index\n",
      "     |  \n",
      "     |  pop(...)\n",
      "     |      Remove and return the rightmost element.\n",
      "     |  \n",
      "     |  popleft(...)\n",
      "     |      Remove and return the leftmost element.\n",
      "     |  \n",
      "     |  remove(...)\n",
      "     |      D.remove(value) -- remove first occurrence of value.\n",
      "     |  \n",
      "     |  reverse(...)\n",
      "     |      D.reverse() -- reverse *IN PLACE*\n",
      "     |  \n",
      "     |  rotate(...)\n",
      "     |      Rotate the deque n steps to the right (default n=1).  If n is negative, rotates left.\n",
      "     |  \n",
      "     |  ----------------------------------------------------------------------\n",
      "     |  Static methods defined here:\n",
      "     |  \n",
      "     |  __new__(*args, **kwargs) from builtins.type\n",
      "     |      Create and return a new object.  See help(type) for accurate signature.\n",
      "     |  \n",
      "     |  ----------------------------------------------------------------------\n",
      "     |  Data descriptors defined here:\n",
      "     |  \n",
      "     |  maxlen\n",
      "     |      maximum size of a deque or None if unbounded\n",
      "     |  \n",
      "     |  ----------------------------------------------------------------------\n",
      "     |  Data and other attributes defined here:\n",
      "     |  \n",
      "     |  __hash__ = None\n",
      "\n",
      "FUNCTIONS\n",
      "    __getattr__(name)\n",
      "    \n",
      "    namedtuple(typename, field_names, *, rename=False, defaults=None, module=None)\n",
      "        Returns a new subclass of tuple with named fields.\n",
      "        \n",
      "        >>> Point = namedtuple('Point', ['x', 'y'])\n",
      "        >>> Point.__doc__                   # docstring for the new class\n",
      "        'Point(x, y)'\n",
      "        >>> p = Point(11, y=22)             # instantiate with positional args or keywords\n",
      "        >>> p[0] + p[1]                     # indexable like a plain tuple\n",
      "        33\n",
      "        >>> x, y = p                        # unpack like a regular tuple\n",
      "        >>> x, y\n",
      "        (11, 22)\n",
      "        >>> p.x + p.y                       # fields also accessible by name\n",
      "        33\n",
      "        >>> d = p._asdict()                 # convert to a dictionary\n",
      "        >>> d['x']\n",
      "        11\n",
      "        >>> Point(**d)                      # convert from a dictionary\n",
      "        Point(x=11, y=22)\n",
      "        >>> p._replace(x=100)               # _replace() is like str.replace() but targets named fields\n",
      "        Point(x=100, y=22)\n",
      "\n",
      "DATA\n",
      "    __all__ = ['deque', 'defaultdict', 'namedtuple', 'UserDict', 'UserList...\n",
      "\n",
      "FILE\n",
      "    c:\\users\\amma\\appdata\\local\\programs\\python\\python38\\lib\\collections\\__init__.py\n",
      "\n",
      "\n"
     ]
    }
   ],
   "source": [
    "help(collections)"
   ]
  },
  {
   "cell_type": "markdown",
   "metadata": {},
   "source": [
    "### collections.Counter\n",
    "    - will take only iterable objects"
   ]
  },
  {
   "cell_type": "code",
   "execution_count": 5,
   "metadata": {},
   "outputs": [
    {
     "name": "stdout",
     "output_type": "stream",
     "text": [
      "{'a': 2, 'b': 3, 'c': 1}\n"
     ]
    }
   ],
   "source": [
    "counts = {}\n",
    "for i in [\"a\", \"b\", \"c\", \"a\", \"b\", \"b\"]:\n",
    "    counts[i] = counts.get(i, 0) + 1\n",
    "\n",
    "print(counts)"
   ]
  },
  {
   "cell_type": "code",
   "execution_count": 4,
   "metadata": {},
   "outputs": [
    {
     "data": {
      "text/plain": [
       "Counter({'a': 2, 'b': 3, 'c': 1})"
      ]
     },
     "execution_count": 4,
     "metadata": {},
     "output_type": "execute_result"
    }
   ],
   "source": [
    "collections.Counter([\"a\", \"b\", \"c\", \"a\", \"b\", \"b\"])"
   ]
  },
  {
   "cell_type": "code",
   "execution_count": 7,
   "metadata": {},
   "outputs": [
    {
     "name": "stdout",
     "output_type": "stream",
     "text": [
      "{'p': 2, 'y': 1, 't': 1, 'h': 1, 'o': 2, 'n': 2, ' ': 1, 'r': 2, 'g': 2, 'a': 1, 'm': 2, 'i': 1}\n"
     ]
    }
   ],
   "source": [
    "counts = {}\n",
    "for each_chr in \"python programming\":\n",
    "    counts[each_chr] = counts.get(each_chr, 0) + 1\n",
    "\n",
    "print(counts)"
   ]
  },
  {
   "cell_type": "code",
   "execution_count": 8,
   "metadata": {},
   "outputs": [
    {
     "data": {
      "text/plain": [
       "Counter({'p': 2,\n",
       "         'y': 1,\n",
       "         't': 1,\n",
       "         'h': 1,\n",
       "         'o': 2,\n",
       "         'n': 2,\n",
       "         ' ': 1,\n",
       "         'r': 2,\n",
       "         'g': 2,\n",
       "         'a': 1,\n",
       "         'm': 2,\n",
       "         'i': 1})"
      ]
     },
     "execution_count": 8,
     "metadata": {},
     "output_type": "execute_result"
    }
   ],
   "source": [
    "collections.Counter(\"python programming\")"
   ]
  },
  {
   "cell_type": "code",
   "execution_count": 9,
   "metadata": {},
   "outputs": [
    {
     "data": {
      "text/plain": [
       "Counter({'a': 2, 'b': 3, 'c': 1})"
      ]
     },
     "execution_count": 9,
     "metadata": {},
     "output_type": "execute_result"
    }
   ],
   "source": [
    "collections.Counter({\"a\": 2, \"b\": 3, \"c\": 1})"
   ]
  },
  {
   "cell_type": "code",
   "execution_count": 10,
   "metadata": {},
   "outputs": [
    {
     "data": {
      "text/plain": [
       "Counter({'a': 2, 'b': 3, 'c': 1})"
      ]
     },
     "execution_count": 10,
     "metadata": {},
     "output_type": "execute_result"
    }
   ],
   "source": [
    "collections.Counter(a=2, b=3, c=1)"
   ]
  },
  {
   "cell_type": "code",
   "execution_count": 11,
   "metadata": {},
   "outputs": [
    {
     "data": {
      "text/plain": [
       "(('Yasoob', 'Yellow'),\n",
       " ('Ali', 'Blue'),\n",
       " ('Arham', 'Green'),\n",
       " ('Ali', 'Yellow'),\n",
       " ('Yasoob', 'Red'),\n",
       " ('Ahmed', 'Silver'))"
      ]
     },
     "execution_count": 11,
     "metadata": {},
     "output_type": "execute_result"
    }
   ],
   "source": [
    "colours = (\n",
    "    (\"Yasoob\", \"Yellow\"),\n",
    "    (\"Ali\", \"Blue\"),\n",
    "    (\"Arham\", \"Green\"),\n",
    "    (\"Ali\", \"Yellow\"),\n",
    "    (\"Yasoob\", \"Red\"),\n",
    "    (\"Ahmed\", \"Silver\"),\n",
    ")\n",
    "\n",
    "colours"
   ]
  },
  {
   "cell_type": "code",
   "execution_count": 12,
   "metadata": {},
   "outputs": [
    {
     "data": {
      "text/plain": [
       "Counter({('Yasoob', 'Yellow'): 1,\n",
       "         ('Ali', 'Blue'): 1,\n",
       "         ('Arham', 'Green'): 1,\n",
       "         ('Ali', 'Yellow'): 1,\n",
       "         ('Yasoob', 'Red'): 1,\n",
       "         ('Ahmed', 'Silver'): 1})"
      ]
     },
     "execution_count": 12,
     "metadata": {},
     "output_type": "execute_result"
    }
   ],
   "source": [
    "collections.Counter(colours)"
   ]
  },
  {
   "cell_type": "code",
   "execution_count": 13,
   "metadata": {},
   "outputs": [
    {
     "data": {
      "text/plain": [
       "['Yasoob', 'Ali', 'Arham', 'Ali', 'Yasoob', 'Ahmed']"
      ]
     },
     "execution_count": 13,
     "metadata": {},
     "output_type": "execute_result"
    }
   ],
   "source": [
    "[name for name, colour in colours]"
   ]
  },
  {
   "cell_type": "code",
   "execution_count": 14,
   "metadata": {},
   "outputs": [
    {
     "data": {
      "text/plain": [
       "Counter({'Yasoob': 2, 'Ali': 2, 'Arham': 1, 'Ahmed': 1})"
      ]
     },
     "execution_count": 14,
     "metadata": {},
     "output_type": "execute_result"
    }
   ],
   "source": [
    "collections.Counter(name for name, colour in colours)"
   ]
  },
  {
   "cell_type": "code",
   "execution_count": 15,
   "metadata": {},
   "outputs": [
    {
     "data": {
      "text/plain": [
       "Counter({'Yellow': 2, 'Blue': 1, 'Green': 1, 'Red': 1, 'Silver': 1})"
      ]
     },
     "execution_count": 15,
     "metadata": {},
     "output_type": "execute_result"
    }
   ],
   "source": [
    "collections.Counter(colour for name, colour in colours)"
   ]
  },
  {
   "cell_type": "markdown",
   "metadata": {},
   "source": [
    "#### creating custom counter"
   ]
  },
  {
   "cell_type": "code",
   "execution_count": 16,
   "metadata": {},
   "outputs": [
    {
     "name": "stdout",
     "output_type": "stream",
     "text": [
      "Initial : Counter()\n"
     ]
    }
   ],
   "source": [
    "c = collections.Counter()\n",
    "print(\"Initial :\", c)"
   ]
  },
  {
   "cell_type": "code",
   "execution_count": 17,
   "metadata": {},
   "outputs": [
    {
     "name": "stdout",
     "output_type": "stream",
     "text": [
      "Sequence: Counter({'a': 3, 'b': 2, 'c': 1, 'd': 1})\n"
     ]
    }
   ],
   "source": [
    "c.update(\"abcdaab\")\n",
    "print(\"Sequence:\", c)"
   ]
  },
  {
   "cell_type": "code",
   "execution_count": 18,
   "metadata": {},
   "outputs": [
    {
     "name": "stdout",
     "output_type": "stream",
     "text": [
      "Dict    : Counter({'d': 6, 'a': 4, 'b': 2, 'c': 1})\n"
     ]
    }
   ],
   "source": [
    "c.update({\"a\": 1, \"d\": 5})\n",
    "print(\"Dict    :\", c)"
   ]
  },
  {
   "cell_type": "code",
   "execution_count": 19,
   "metadata": {},
   "outputs": [
    {
     "name": "stdout",
     "output_type": "stream",
     "text": [
      "a : 3\n",
      "b : 2\n",
      "c : 1\n",
      "d : 1\n",
      "e : 0\n"
     ]
    }
   ],
   "source": [
    "c = collections.Counter(\"abcdaab\")\n",
    "\n",
    "for letter in \"abcde\":\n",
    "    print(\"%s : %d\" % (letter, c[letter]))"
   ]
  },
  {
   "cell_type": "code",
   "execution_count": 20,
   "metadata": {},
   "outputs": [
    {
     "name": "stdout",
     "output_type": "stream",
     "text": [
      "Counter({'e': 3, 'x': 1, 't': 1, 'r': 1, 'm': 1, 'l': 1, 'y': 1, 'z': 0})\n"
     ]
    }
   ],
   "source": [
    "c = collections.Counter(\"extremely\")\n",
    "c[\"z\"] = 0\n",
    "\n",
    "print(c)"
   ]
  },
  {
   "cell_type": "code",
   "execution_count": 21,
   "metadata": {},
   "outputs": [
    {
     "data": {
      "text/plain": [
       "dict_keys(['e', 'x', 't', 'r', 'm', 'l', 'y', 'z'])"
      ]
     },
     "execution_count": 21,
     "metadata": {},
     "output_type": "execute_result"
    }
   ],
   "source": [
    "c.keys()"
   ]
  },
  {
   "cell_type": "code",
   "execution_count": 22,
   "metadata": {},
   "outputs": [
    {
     "data": {
      "text/plain": [
       "dict_values([3, 1, 1, 1, 1, 1, 1, 0])"
      ]
     },
     "execution_count": 22,
     "metadata": {},
     "output_type": "execute_result"
    }
   ],
   "source": [
    "c.values()"
   ]
  },
  {
   "cell_type": "code",
   "execution_count": 23,
   "metadata": {},
   "outputs": [
    {
     "data": {
      "text/plain": [
       "dict_items([('e', 3), ('x', 1), ('t', 1), ('r', 1), ('m', 1), ('l', 1), ('y', 1), ('z', 0)])"
      ]
     },
     "execution_count": 23,
     "metadata": {},
     "output_type": "execute_result"
    }
   ],
   "source": [
    "c.items()"
   ]
  },
  {
   "cell_type": "code",
   "execution_count": 24,
   "metadata": {},
   "outputs": [
    {
     "data": {
      "text/plain": [
       "<itertools.chain at 0x1e904c347c0>"
      ]
     },
     "execution_count": 24,
     "metadata": {},
     "output_type": "execute_result"
    }
   ],
   "source": [
    "c.elements()"
   ]
  },
  {
   "cell_type": "code",
   "execution_count": 25,
   "metadata": {},
   "outputs": [
    {
     "data": {
      "text/plain": [
       "['e', 'e', 'e', 'x', 't', 'r', 'm', 'l', 'y']"
      ]
     },
     "execution_count": 25,
     "metadata": {},
     "output_type": "execute_result"
    }
   ],
   "source": [
    "list(c.elements())"
   ]
  },
  {
   "cell_type": "code",
   "execution_count": 26,
   "metadata": {},
   "outputs": [],
   "source": [
    "c.update(\"daddy\")"
   ]
  },
  {
   "cell_type": "code",
   "execution_count": 27,
   "metadata": {},
   "outputs": [
    {
     "data": {
      "text/plain": [
       "dict_keys(['e', 'x', 't', 'r', 'm', 'l', 'y', 'z', 'd', 'a'])"
      ]
     },
     "execution_count": 27,
     "metadata": {},
     "output_type": "execute_result"
    }
   ],
   "source": [
    "c.keys()"
   ]
  },
  {
   "cell_type": "code",
   "execution_count": 28,
   "metadata": {},
   "outputs": [
    {
     "data": {
      "text/plain": [
       "['e', 'e', 'e', 'x', 't', 'r', 'm', 'l', 'y', 'y', 'd', 'd', 'd', 'a']"
      ]
     },
     "execution_count": 28,
     "metadata": {},
     "output_type": "execute_result"
    }
   ],
   "source": [
    "list(c.elements())"
   ]
  },
  {
   "cell_type": "markdown",
   "metadata": {},
   "source": [
    "##### Character frequency Analyses"
   ]
  },
  {
   "cell_type": "code",
   "execution_count": 37,
   "metadata": {
    "scrolled": true
   },
   "outputs": [
    {
     "name": "stdout",
     "output_type": "stream",
     "text": [
      "Initially c:Counter()\n",
      "<class 'str'>\n",
      "After     c:Counter({' ': 4788, 'e': 2040, 't': 1592, 'i': 1442, 'o': 1362, 'n': 1214, 'r': 1140, 's': 1098, 'a': 1079, 'h': 685, 'd': 639, '\\n': 625, 'E': 623, 'I': 622, 'T': 601, 'c': 589, 'l': 556, 'S': 542, 'A': 524, '-': 524, 'O': 513, 'R': 508, 'N': 494, 'u': 410, 'p': 395, 'f': 376, ',': 371, 'm': 362, '.': 342, 'y': 335, 'L': 318, 'g': 292, 'b': 272, 'w': 269, 'C': 261, '=': 239, 'P': 228, 'D': 226, 'H': 201, 'F': 199, 'U': 180, 'v': 173, 'M': 150, '1': 130, 'Y': 126, 'G': 122, 'B': 119, '2': 109, '*': 109, '0': 91, 'W': 81, '\"': 78, 'V': 71, ')': 65, '(': 64, 'k': 52, '9': 47, '/': 39, \"'\": 33, '6': 33, '5': 26, ':': 25, 'x': 22, 'j': 19, '3': 17, 'q': 17, 'z': 16, ';': 15, '7': 15, '4': 13, 'X': 13, 'Q': 10, '`': 10, '8': 9, '@': 9, 'K': 8, 'J': 4, '+': 3, 'Z': 2, '?': 1, '[': 1, ']': 1, '_': 1})\n",
      "Most common:\n",
      " :    4788\n",
      "e:    2040\n",
      "t:    1592\n",
      "i:    1442\n",
      "o:    1362\n"
     ]
    }
   ],
   "source": [
    "import collections\n",
    "\n",
    "c = collections.Counter()\n",
    "\n",
    "print(f\"Initially c:{c}\")\n",
    "\n",
    "with open(\n",
    "    r\"C:\\Users\\Amma\\AppData\\Local\\Programs\\Python\\Python38\\LICENSE.txt\", \"rt\"\n",
    ") as f:\n",
    "    data = f.read()\n",
    "    print(type(data))\n",
    "    c.update(data)\n",
    "\n",
    "print(f\"After     c:{c}\")\n",
    "\n",
    "print(\"Most common:\")\n",
    "for letter, count in c.most_common(5):\n",
    "    print(\"%s: %7d\" % (letter, count))"
   ]
  },
  {
   "cell_type": "markdown",
   "metadata": {},
   "source": [
    "### Arithmetic Operations on counters"
   ]
  },
  {
   "cell_type": "code",
   "execution_count": 39,
   "metadata": {},
   "outputs": [],
   "source": [
    "c1 = collections.Counter([\"a\", \"b\", \"c\", \"a\", \"b\", \"b\"])\n",
    "c2 = collections.Counter(\"alphabet\")"
   ]
  },
  {
   "cell_type": "code",
   "execution_count": 40,
   "metadata": {},
   "outputs": [
    {
     "name": "stdout",
     "output_type": "stream",
     "text": [
      "c1: Counter({'b': 3, 'a': 2, 'c': 1})\n",
      "c2: Counter({'a': 2, 'l': 1, 'p': 1, 'h': 1, 'b': 1, 'e': 1, 't': 1})\n"
     ]
    }
   ],
   "source": [
    "print(\"c1:\", c1)\n",
    "print(\"c2:\", c2)"
   ]
  },
  {
   "cell_type": "code",
   "execution_count": 41,
   "metadata": {},
   "outputs": [
    {
     "name": "stdout",
     "output_type": "stream",
     "text": [
      "Combined counts:\n",
      "Counter({'a': 4, 'b': 4, 'c': 1, 'l': 1, 'p': 1, 'h': 1, 'e': 1, 't': 1})\n"
     ]
    }
   ],
   "source": [
    "print(\"Combined counts:\")\n",
    "print(c1 + c2)"
   ]
  },
  {
   "cell_type": "code",
   "execution_count": 42,
   "metadata": {},
   "outputs": [
    {
     "name": "stdout",
     "output_type": "stream",
     "text": [
      "Subtraction:\n",
      "Counter({'b': 2, 'c': 1})\n"
     ]
    }
   ],
   "source": [
    "print(\"Subtraction:\")\n",
    "print(c1 - c2)"
   ]
  },
  {
   "cell_type": "code",
   "execution_count": 43,
   "metadata": {},
   "outputs": [
    {
     "name": "stdout",
     "output_type": "stream",
     "text": [
      "Intersection (taking positive minimums):\n",
      "Counter({'a': 2, 'b': 1})\n"
     ]
    }
   ],
   "source": [
    "print(\"Intersection (taking positive minimums):\")\n",
    "print(c1 & c2)"
   ]
  },
  {
   "cell_type": "code",
   "execution_count": 44,
   "metadata": {},
   "outputs": [
    {
     "name": "stdout",
     "output_type": "stream",
     "text": [
      "Union (taking maximums):\n",
      "Counter({'b': 3, 'a': 2, 'c': 1, 'l': 1, 'p': 1, 'h': 1, 'e': 1, 't': 1})\n"
     ]
    }
   ],
   "source": [
    "print(\"Union (taking maximums):\")\n",
    "print(c1 | c2)"
   ]
  },
  {
   "cell_type": "markdown",
   "metadata": {},
   "source": [
    "### collections.defaultdict\n",
    "#### Factory Design Pattern"
   ]
  },
  {
   "cell_type": "code",
   "execution_count": 48,
   "metadata": {},
   "outputs": [
    {
     "name": "stdout",
     "output_type": "stream",
     "text": [
      "(('Yasoob', 'Yellow'),\n",
      " ('Ali', 'Blue'),\n",
      " ('Arham', 'Green'),\n",
      " ('Ali', 'Black'),\n",
      " ('Yasoob', 'Red'),\n",
      " ('Ahmed', 'Silver'))\n"
     ]
    }
   ],
   "source": [
    "colours = (\n",
    "    (\"Yasoob\", \"Yellow\"),\n",
    "    (\"Ali\", \"Blue\"),\n",
    "    (\"Arham\", \"Green\"),\n",
    "    (\"Ali\", \"Black\"),\n",
    "    (\"Yasoob\", \"Red\"),\n",
    "    (\"Ahmed\", \"Silver\"),\n",
    ")\n",
    "\n",
    "from pprint import pprint\n",
    "\n",
    "pprint(colours)"
   ]
  },
  {
   "cell_type": "code",
   "execution_count": 49,
   "metadata": {},
   "outputs": [
    {
     "name": "stdout",
     "output_type": "stream",
     "text": [
      "{'Ahmed': ['Silver'],\n",
      " 'Ali': ['Blue', 'Black'],\n",
      " 'Arham': ['Green'],\n",
      " 'Yasoob': ['Yellow', 'Red']}\n"
     ]
    }
   ],
   "source": [
    "fav_colors = {}\n",
    "for name, color in colours:\n",
    "    # fav_colors[name] = fav_colors.get(name, [])  + [color]\n",
    "    fav_colors.setdefault(name, []).append(color)\n",
    "pprint(fav_colors)"
   ]
  },
  {
   "cell_type": "code",
   "execution_count": 50,
   "metadata": {},
   "outputs": [
    {
     "data": {
      "text/plain": [
       "defaultdict(list, {})"
      ]
     },
     "execution_count": 50,
     "metadata": {},
     "output_type": "execute_result"
    }
   ],
   "source": [
    "fv_colrs = collections.defaultdict(list)\n",
    "\n",
    "fv_colrs"
   ]
  },
  {
   "cell_type": "code",
   "execution_count": 51,
   "metadata": {},
   "outputs": [
    {
     "name": "stdout",
     "output_type": "stream",
     "text": [
      "defaultdict(<class 'list'>,\n",
      "            {'Ahmed': ['Silver'],\n",
      "             'Ali': ['Blue', 'Black'],\n",
      "             'Arham': ['Green'],\n",
      "             'Yasoob': ['Yellow', 'Red']})\n"
     ]
    }
   ],
   "source": [
    "fv_colrs = collections.defaultdict(list)\n",
    "for name, colour in colours:\n",
    "    fv_colrs[name].append(colour)\n",
    "\n",
    "pprint(fv_colrs)"
   ]
  },
  {
   "cell_type": "code",
   "execution_count": 53,
   "metadata": {},
   "outputs": [
    {
     "name": "stdout",
     "output_type": "stream",
     "text": [
      "defaultdict(<class 'set'>,\n",
      "            {'Ahmed': {'Silver'},\n",
      "             'Ali': {'Blue', 'Black'},\n",
      "             'Arham': {'Green'},\n",
      "             'Yasoob': {'Yellow', 'Red'}})\n"
     ]
    }
   ],
   "source": [
    "fv_colrs = collections.defaultdict(set)\n",
    "for name, colour in colours:\n",
    "    fv_colrs[name].add(colour)\n",
    "\n",
    "pprint(fv_colrs)"
   ]
  },
  {
   "cell_type": "code",
   "execution_count": 54,
   "metadata": {},
   "outputs": [
    {
     "name": "stdout",
     "output_type": "stream",
     "text": [
      "defaultdict(<class 'int'>, {'apple': 1, 'ball': 1, 'cat': 2, 'dog': 1})\n"
     ]
    }
   ],
   "source": [
    "words = [\"apple\", \"ball\", \"cat\", \"dog\", \"cat\"]\n",
    "word_count = collections.defaultdict(int)\n",
    "\n",
    "for word in words:\n",
    "    word_count[word] += 1\n",
    "\n",
    "pprint(word_count)"
   ]
  },
  {
   "cell_type": "code",
   "execution_count": 55,
   "metadata": {},
   "outputs": [
    {
     "data": {
      "text/plain": [
       "Counter({'apple': 1, 'ball': 1, 'cat': 2, 'dog': 1})"
      ]
     },
     "execution_count": 55,
     "metadata": {},
     "output_type": "execute_result"
    }
   ],
   "source": [
    "collections.Counter([\"apple\", \"ball\", \"cat\", \"dog\", \"cat\"])"
   ]
  },
  {
   "cell_type": "code",
   "execution_count": 56,
   "metadata": {},
   "outputs": [
    {
     "name": "stdout",
     "output_type": "stream",
     "text": [
      "defaultdict(<class 'float'>, {'apple': 1.0, 'ball': 1.0, 'cat': 2.0, 'dog': 1.0})\n"
     ]
    }
   ],
   "source": [
    "words = [\"apple\", \"ball\", \"cat\", \"dog\", \"cat\"]\n",
    "word_count = collections.defaultdict(float)\n",
    "\n",
    "for word in words:\n",
    "    word_count[word] += 1\n",
    "\n",
    "print(word_count)"
   ]
  },
  {
   "cell_type": "code",
   "execution_count": 57,
   "metadata": {},
   "outputs": [
    {
     "name": "stdout",
     "output_type": "stream",
     "text": [
      "defaultdict(<class 'int'>, {'B': 1, 'u': 1, 'b': 2, 'l': 1, 'e': 1, 's': 1})\n"
     ]
    }
   ],
   "source": [
    "name = \"Bubbles\"\n",
    "mydict = collections.defaultdict(int)\n",
    "for i in name:\n",
    "    mydict[i] += 1\n",
    "\n",
    "print(mydict)"
   ]
  },
  {
   "cell_type": "code",
   "execution_count": 58,
   "metadata": {},
   "outputs": [
    {
     "name": "stdout",
     "output_type": "stream",
     "text": [
      "defaultdict(<class 'int'>, {'b': 3, 'u': 1, 'l': 1, 'e': 1, 's': 1})\n"
     ]
    }
   ],
   "source": [
    "name = \"Bubbles\"\n",
    "mydict = collections.defaultdict(int)\n",
    "for i in name:\n",
    "    mydict[i.lower()] += 1  # case insensitive\n",
    "\n",
    "print(mydict)"
   ]
  },
  {
   "cell_type": "markdown",
   "metadata": {},
   "source": [
    "### collections.deque"
   ]
  },
  {
   "cell_type": "markdown",
   "metadata": {},
   "source": [
    "Queue Mechanism"
   ]
  },
  {
   "cell_type": "code",
   "execution_count": 59,
   "metadata": {},
   "outputs": [
    {
     "data": {
      "text/plain": [
       "deque([1, 2, 3, 3, 4, 2, 4])"
      ]
     },
     "execution_count": 59,
     "metadata": {},
     "output_type": "execute_result"
    }
   ],
   "source": [
    "# initializing deque\n",
    "de = collections.deque([1, 2, 3, 3, 4, 2, 4])\n",
    "\n",
    "de"
   ]
  },
  {
   "cell_type": "code",
   "execution_count": 60,
   "metadata": {},
   "outputs": [
    {
     "name": "stdout",
     "output_type": "stream",
     "text": [
      "The deque after appending at right is :\n",
      " deque([1, 2, 3, 3, 4, 2, 4, 4])\n"
     ]
    }
   ],
   "source": [
    "# inserts 4 at the end of deque\n",
    "de.append(4)\n",
    "\n",
    "print(\"The deque after appending at right is :\\n\", de)"
   ]
  },
  {
   "cell_type": "code",
   "execution_count": 61,
   "metadata": {},
   "outputs": [
    {
     "name": "stdout",
     "output_type": "stream",
     "text": [
      "\n",
      "The deque after appending at left is :\n",
      " deque([6, 1, 2, 3, 3, 4, 2, 4, 4])\n"
     ]
    }
   ],
   "source": [
    "# inserts 6 at the beginning of deque\n",
    "de.appendleft(6)\n",
    "\n",
    "print(\"\\nThe deque after appending at left is :\\n\", de)"
   ]
  },
  {
   "cell_type": "code",
   "execution_count": 62,
   "metadata": {},
   "outputs": [
    {
     "name": "stdout",
     "output_type": "stream",
     "text": [
      "4\n"
     ]
    }
   ],
   "source": [
    "# deletes 4 from the right end of deque\n",
    "print(de.pop())"
   ]
  },
  {
   "cell_type": "code",
   "execution_count": 63,
   "metadata": {},
   "outputs": [
    {
     "name": "stdout",
     "output_type": "stream",
     "text": [
      "\n",
      "The deque after deleting from right is :\n",
      " deque([6, 1, 2, 3, 3, 4, 2, 4])\n"
     ]
    }
   ],
   "source": [
    "print(\"\\nThe deque after deleting from right is :\\n\", de)"
   ]
  },
  {
   "cell_type": "code",
   "execution_count": 64,
   "metadata": {},
   "outputs": [
    {
     "name": "stdout",
     "output_type": "stream",
     "text": [
      "6\n",
      "\n",
      "The deque after deleting from left is:\n",
      " deque([1, 2, 3, 3, 4, 2, 4])\n"
     ]
    }
   ],
   "source": [
    "# deletes 6 from the left end of deque\n",
    "print(de.popleft())\n",
    "\n",
    "# printing modified deque\n",
    "print(\"\\nThe deque after deleting from left is:\\n\", de)"
   ]
  },
  {
   "cell_type": "code",
   "execution_count": 65,
   "metadata": {},
   "outputs": [
    {
     "name": "stdout",
     "output_type": "stream",
     "text": [
      "\n",
      "The count of 3 in deque is: 2\n"
     ]
    }
   ],
   "source": [
    "# using count() to count the occurrences of 3\n",
    "print(\"\\nThe count of 3 in deque is:\", de.count(3))"
   ]
  },
  {
   "cell_type": "code",
   "execution_count": 66,
   "metadata": {},
   "outputs": [
    {
     "name": "stdout",
     "output_type": "stream",
     "text": [
      "None\n"
     ]
    }
   ],
   "source": [
    "# using remove() to remove the first occurrence of 3\n",
    "print(de.remove(3))"
   ]
  },
  {
   "cell_type": "code",
   "execution_count": 67,
   "metadata": {},
   "outputs": [
    {
     "name": "stdout",
     "output_type": "stream",
     "text": [
      "\n",
      "The deque after deleting first occurrence of 3:\n",
      "deque([1, 2, 3, 4, 2, 4])\n"
     ]
    }
   ],
   "source": [
    "print(\"\\nThe deque after deleting first occurrence of 3:\")\n",
    "print(de)"
   ]
  },
  {
   "cell_type": "code",
   "execution_count": 68,
   "metadata": {},
   "outputs": [
    {
     "name": "stdout",
     "output_type": "stream",
     "text": [
      "\n",
      "The deque after extending deque at end is:\n",
      " deque([1, 2, 3, 4, 2, 4, 4, 5, 6])\n"
     ]
    }
   ],
   "source": [
    "# adds 4,5,6 to right end\n",
    "de.extend([4, 5, 6])\n",
    "print(\"\\nThe deque after extending deque at end is:\\n\", de)"
   ]
  },
  {
   "cell_type": "code",
   "execution_count": 69,
   "metadata": {},
   "outputs": [
    {
     "name": "stdout",
     "output_type": "stream",
     "text": [
      "\n",
      "The deque after extending deque at beginning:\n",
      " deque([9, 8, 7, 1, 2, 3, 4, 2, 4, 4, 5, 6])\n"
     ]
    }
   ],
   "source": [
    "# adds 7,8,9 to right end\n",
    "de.extendleft([7, 8, 9])\n",
    "print(\"\\nThe deque after extending deque at beginning:\\n\", de)"
   ]
  },
  {
   "cell_type": "code",
   "execution_count": 70,
   "metadata": {},
   "outputs": [
    {
     "name": "stdout",
     "output_type": "stream",
     "text": [
      "\n",
      "The deque after rotating deque is:\n",
      "deque([1, 2, 3, 4, 2, 4, 4, 5, 6, 9, 8, 7])\n"
     ]
    }
   ],
   "source": [
    "# rotates by 3 to left\n",
    "de.rotate(-3)\n",
    "print(\"\\nThe deque after rotating deque is:\")\n",
    "print(de)"
   ]
  },
  {
   "cell_type": "code",
   "execution_count": 71,
   "metadata": {},
   "outputs": [],
   "source": [
    "# using reverse() to reverse the deque\n",
    "de.reverse()"
   ]
  },
  {
   "cell_type": "code",
   "execution_count": 73,
   "metadata": {},
   "outputs": [
    {
     "name": "stdout",
     "output_type": "stream",
     "text": [
      "\n",
      "The deque after reversing deque is:\n",
      "deque([7, 8, 9, 6, 5, 4, 4, 2, 4, 3, 2, 1])\n"
     ]
    }
   ],
   "source": [
    "print(\"\\nThe deque after reversing deque is:\")\n",
    "print(de)"
   ]
  },
  {
   "cell_type": "code",
   "execution_count": 75,
   "metadata": {},
   "outputs": [
    {
     "name": "stdout",
     "output_type": "stream",
     "text": [
      "The number 4 first occurs at a position : \n",
      "5\n"
     ]
    }
   ],
   "source": [
    "# NOTE: below works in python 3 only\n",
    "# using index() to print the first occurrence of 4\n",
    "print(\"The number 4 first occurs at a position : \")\n",
    "print(de.index(4, 2, 10))"
   ]
  },
  {
   "cell_type": "code",
   "execution_count": 76,
   "metadata": {},
   "outputs": [],
   "source": [
    "# using insert() to insert the value 3 at 5th position\n",
    "de.insert(4, 3)"
   ]
  },
  {
   "cell_type": "code",
   "execution_count": 77,
   "metadata": {},
   "outputs": [
    {
     "data": {
      "text/plain": [
       "deque([7, 8, 9, 6, 3, 5, 4, 4, 2, 4, 3, 2, 1])"
      ]
     },
     "execution_count": 77,
     "metadata": {},
     "output_type": "execute_result"
    }
   ],
   "source": [
    "de"
   ]
  },
  {
   "cell_type": "markdown",
   "metadata": {},
   "source": [
    "###  collections.namedtuple"
   ]
  },
  {
   "cell_type": "code",
   "execution_count": 78,
   "metadata": {},
   "outputs": [
    {
     "name": "stdout",
     "output_type": "stream",
     "text": [
      "Representation: ('Bob', 30, 'male')\n"
     ]
    }
   ],
   "source": [
    "bob = (\"Bob\", 30, \"male\")\n",
    "print(\"Representation:\", bob)"
   ]
  },
  {
   "cell_type": "code",
   "execution_count": 79,
   "metadata": {},
   "outputs": [
    {
     "name": "stdout",
     "output_type": "stream",
     "text": [
      "\n",
      "Field by index: Jane\n"
     ]
    }
   ],
   "source": [
    "jane = (\"Jane\", 29, \"female\")\n",
    "print(\"\\nField by index:\", jane[0])"
   ]
  },
  {
   "cell_type": "code",
   "execution_count": 80,
   "metadata": {},
   "outputs": [
    {
     "name": "stdout",
     "output_type": "stream",
     "text": [
      "\n",
      "Fields by index:\n",
      "Bob is a 30 year old male\n",
      "Jane is a 29 year old female\n"
     ]
    }
   ],
   "source": [
    "print(\"\\nFields by index:\")\n",
    "for p in [bob, jane]:\n",
    "    print(\"%s is a %d year old %s\" % p)"
   ]
  },
  {
   "cell_type": "markdown",
   "metadata": {},
   "source": [
    "Using collectsions.namedtuple"
   ]
  },
  {
   "cell_type": "code",
   "execution_count": 81,
   "metadata": {},
   "outputs": [
    {
     "name": "stdout",
     "output_type": "stream",
     "text": [
      "Type of Person: <class 'type'>\n"
     ]
    }
   ],
   "source": [
    "Person = collections.namedtuple(\"Person\", \"name age gender\")\n",
    "\n",
    "print(\"Type of Person:\", type(Person))"
   ]
  },
  {
   "cell_type": "code",
   "execution_count": 82,
   "metadata": {},
   "outputs": [
    {
     "name": "stdout",
     "output_type": "stream",
     "text": [
      "\n",
      "Representation: Person(name='Bob', age=30, gender='male')\n"
     ]
    }
   ],
   "source": [
    "bob = Person(name=\"Bob\", age=30, gender=\"male\")\n",
    "print(\"\\nRepresentation:\", bob)"
   ]
  },
  {
   "cell_type": "code",
   "execution_count": 83,
   "metadata": {},
   "outputs": [
    {
     "data": {
      "text/plain": [
       "Person(name='Jane', age=29, gender='female')"
      ]
     },
     "execution_count": 83,
     "metadata": {},
     "output_type": "execute_result"
    }
   ],
   "source": [
    "jane = Person(name=\"Jane\", age=29, gender=\"female\")\n",
    "\n",
    "jane"
   ]
  },
  {
   "cell_type": "code",
   "execution_count": 84,
   "metadata": {},
   "outputs": [
    {
     "data": {
      "text/plain": [
       "__main__.Person"
      ]
     },
     "execution_count": 84,
     "metadata": {},
     "output_type": "execute_result"
    }
   ],
   "source": [
    "type(jane)"
   ]
  },
  {
   "cell_type": "code",
   "execution_count": 86,
   "metadata": {},
   "outputs": [
    {
     "name": "stdout",
     "output_type": "stream",
     "text": [
      "Field by index: Jane\n",
      "Field by name : Jane\n"
     ]
    }
   ],
   "source": [
    "print(\"Field by index:\", jane[0])\n",
    "print(\"Field by name :\", jane.name)"
   ]
  },
  {
   "cell_type": "code",
   "execution_count": 87,
   "metadata": {},
   "outputs": [
    {
     "name": "stdout",
     "output_type": "stream",
     "text": [
      "Field by index: female\n",
      "Field by name : female\n"
     ]
    }
   ],
   "source": [
    "print(\"Field by index:\", jane[2])\n",
    "print(\"Field by name :\", jane.gender)"
   ]
  },
  {
   "cell_type": "code",
   "execution_count": 88,
   "metadata": {},
   "outputs": [
    {
     "name": "stdout",
     "output_type": "stream",
     "text": [
      "\n",
      "Fields by index:\n",
      "Bob is a 30 year old male\n",
      "Jane is a 29 year old female\n"
     ]
    }
   ],
   "source": [
    "print(\"\\nFields by index:\")\n",
    "for p in [bob, jane]:\n",
    "    print(\"%s is a %d year old %s\" % p)"
   ]
  },
  {
   "cell_type": "code",
   "execution_count": 89,
   "metadata": {},
   "outputs": [
    {
     "name": "stdout",
     "output_type": "stream",
     "text": [
      "Type names and field names cannot be a keyword: 'class'\n"
     ]
    }
   ],
   "source": [
    "try:\n",
    "    collections.namedtuple(\"Person\", \"name class age gender\")\n",
    "except ValueError as err:\n",
    "    print(err)"
   ]
  },
  {
   "cell_type": "code",
   "execution_count": 91,
   "metadata": {},
   "outputs": [
    {
     "name": "stdout",
     "output_type": "stream",
     "text": [
      "('name', '_1', 'age', 'gender')\n"
     ]
    }
   ],
   "source": [
    "with_class = collections.namedtuple(\"Person\", \"name class age gender\", rename=True)\n",
    "print(with_class._fields)"
   ]
  },
  {
   "cell_type": "code",
   "execution_count": 90,
   "metadata": {},
   "outputs": [
    {
     "name": "stdout",
     "output_type": "stream",
     "text": [
      "Encountered duplicate field name: 'age'\n"
     ]
    }
   ],
   "source": [
    "try:\n",
    "    collections.namedtuple(\"Person\", \"name age gender age\")\n",
    "except ValueError as err:\n",
    "    print(err)"
   ]
  },
  {
   "cell_type": "code",
   "execution_count": 92,
   "metadata": {},
   "outputs": [
    {
     "name": "stdout",
     "output_type": "stream",
     "text": [
      "('name', 'age', 'gender', '_3')\n"
     ]
    }
   ],
   "source": [
    "two_ages = collections.namedtuple(\"Person\", \"name age gender age\", rename=True)\n",
    "print(two_ages._fields)"
   ]
  },
  {
   "cell_type": "code",
   "execution_count": 93,
   "metadata": {},
   "outputs": [
    {
     "name": "stdout",
     "output_type": "stream",
     "text": [
      "red.r=255 red.g=0 red.b=0 \n"
     ]
    }
   ],
   "source": [
    "colors = collections.namedtuple(\"colors\", \"r g b\")\n",
    "red = colors(r=255, g=0, b=0)\n",
    "\n",
    "print(\"\"\"red.r={} red.g={} red.b={} \"\"\".format(red.r, red.g, red.b))"
   ]
  },
  {
   "cell_type": "code",
   "execution_count": 95,
   "metadata": {},
   "outputs": [
    {
     "name": "stdout",
     "output_type": "stream",
     "text": [
      "red[0]           255\n",
      "getattr(red,'r') 255\n",
      "red.r            255\n"
     ]
    }
   ],
   "source": [
    "print(\"red[0]          \", red[0])\n",
    "\n",
    "print(\"getattr(red,'r')\", getattr(red, \"r\"))\n",
    "print(\"red.r           \", red.r)"
   ]
  },
  {
   "cell_type": "code",
   "execution_count": 96,
   "metadata": {},
   "outputs": [
    {
     "name": "stdout",
     "output_type": "stream",
     "text": [
      "{'r': 255, 'g': 0, 'b': 0}\n"
     ]
    }
   ],
   "source": [
    "print(red._asdict())  # namedtuple into dictionary"
   ]
  },
  {
   "cell_type": "code",
   "execution_count": 97,
   "metadata": {},
   "outputs": [
    {
     "name": "stdout",
     "output_type": "stream",
     "text": [
      "colors(r='1', g='2', b='3')\n"
     ]
    }
   ],
   "source": [
    "# Iterable to namedtuple\n",
    "print(colors._make([\"1\", \"2\", \"3\"]))"
   ]
  },
  {
   "cell_type": "code",
   "execution_count": 99,
   "metadata": {},
   "outputs": [
    {
     "data": {
      "text/plain": [
       "colors(r='1', g='2', b='3')"
      ]
     },
     "execution_count": 99,
     "metadata": {},
     "output_type": "execute_result"
    }
   ],
   "source": [
    "colors._make(\"123\")"
   ]
  },
  {
   "cell_type": "code",
   "execution_count": 100,
   "metadata": {},
   "outputs": [
    {
     "name": "stdout",
     "output_type": "stream",
     "text": [
      "colors(r=255, g=0, b=0)\n"
     ]
    }
   ],
   "source": [
    "# dictionary to namedtuple\n",
    "print(colors(**{\"r\": 255, \"g\": 0, \"b\": 0}))"
   ]
  },
  {
   "cell_type": "code",
   "execution_count": 101,
   "metadata": {},
   "outputs": [
    {
     "name": "stdout",
     "output_type": "stream",
     "text": [
      "('r', 'g', 'b')\n"
     ]
    }
   ],
   "source": [
    "# To check the fields belonging to a namedtuple\n",
    "print(red._fields)"
   ]
  },
  {
   "cell_type": "code",
   "execution_count": 102,
   "metadata": {},
   "outputs": [
    {
     "name": "stdout",
     "output_type": "stream",
     "text": [
      "colors(r=255, g=3, b=0)\n"
     ]
    }
   ],
   "source": [
    "# namedtuples are immtuable, but to change a value in it\n",
    "print(red._replace(g=3))"
   ]
  },
  {
   "cell_type": "code",
   "execution_count": 103,
   "metadata": {},
   "outputs": [
    {
     "data": {
      "text/plain": [
       "colors(r=255, g=0, b=0)"
      ]
     },
     "execution_count": 103,
     "metadata": {},
     "output_type": "execute_result"
    }
   ],
   "source": [
    "red  # Note that original named tuple is not changed"
   ]
  },
  {
   "cell_type": "markdown",
   "metadata": {},
   "source": [
    "### Collections.OrderedDict"
   ]
  },
  {
   "cell_type": "code",
   "execution_count": 105,
   "metadata": {},
   "outputs": [
    {
     "data": {
      "text/plain": [
       "{'banana': 3, 'apple': 4, 'pear': 1, 'orange': 2}"
      ]
     },
     "execution_count": 105,
     "metadata": {},
     "output_type": "execute_result"
    }
   ],
   "source": [
    "d1 = {\"banana\": 3, \"apple\": 4, \"pear\": 1, \"orange\": 2}\n",
    "\n",
    "d1"
   ]
  },
  {
   "cell_type": "code",
   "execution_count": 106,
   "metadata": {},
   "outputs": [
    {
     "data": {
      "text/plain": [
       "OrderedDict([('banana', 3), ('apple', 4), ('pear', 1), ('orange', 2)])"
      ]
     },
     "execution_count": 106,
     "metadata": {},
     "output_type": "execute_result"
    }
   ],
   "source": [
    "d2 = collections.OrderedDict({\"banana\": 3, \"apple\": 4, \"pear\": 1, \"orange\": 2})\n",
    "\n",
    "d2"
   ]
  },
  {
   "cell_type": "code",
   "execution_count": 107,
   "metadata": {},
   "outputs": [],
   "source": [
    "assert d1 == d2"
   ]
  },
  {
   "cell_type": "markdown",
   "metadata": {},
   "source": [
    "__NOTE:__ from python 3.5 onwards, the basic dictionary is ordered. So, collections.OrderedDict is of no use anymore."
   ]
  }
 ],
 "metadata": {
  "kernelspec": {
   "display_name": "Python 3",
   "language": "python",
   "name": "python3"
  },
  "language_info": {
   "codemirror_mode": {
    "name": "ipython",
    "version": 3
   },
   "file_extension": ".py",
   "mimetype": "text/x-python",
   "name": "python",
   "nbconvert_exporter": "python",
   "pygments_lexer": "ipython3",
   "version": "3.8.2"
  }
 },
 "nbformat": 4,
 "nbformat_minor": 2
}
