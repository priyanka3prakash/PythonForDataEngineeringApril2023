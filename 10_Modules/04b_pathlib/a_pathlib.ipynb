{
 "cells": [
  {
   "cell_type": "markdown",
   "metadata": {},
   "source": [
    "# pathlib module "
   ]
  },
  {
   "cell_type": "code",
   "execution_count": 1,
   "metadata": {},
   "outputs": [],
   "source": [
    "import os\n",
    "import sys\n",
    "import pathlib"
   ]
  },
  {
   "cell_type": "code",
   "execution_count": 2,
   "metadata": {},
   "outputs": [
    {
     "name": "stdout",
     "output_type": "stream",
     "text": [
      "['EBADF', 'EINVAL', 'ELOOP', 'ENOENT', 'ENOTDIR', 'Path', 'PosixPath', 'PurePath', 'PurePosixPath', 'PureWindowsPath', 'S_ISBLK', 'S_ISCHR', 'S_ISDIR', 'S_ISFIFO', 'S_ISLNK', 'S_ISREG', 'S_ISSOCK', 'Sequence', 'WindowsPath', '_Accessor', '_Flavour', '_IGNORED_ERROS', '_IGNORED_WINERRORS', '_NormalAccessor', '_PathParents', '_PosixFlavour', '_PreciseSelector', '_RecursiveWildcardSelector', '_Selector', '_TerminatingSelector', '_WINERROR_CANT_RESOLVE_FILENAME', '_WINERROR_INVALID_NAME', '_WINERROR_NOT_READY', '_WildcardSelector', '_WindowsFlavour', '__all__', '__builtins__', '__cached__', '__doc__', '__file__', '__loader__', '__name__', '__package__', '__spec__', '_ignore_error', '_is_wildcard_pattern', '_make_selector', '_normal_accessor', '_posix_flavour', '_windows_flavour', 'attrgetter', 'fnmatch', 'functools', 'io', 'ntpath', 'os', 'posixpath', 're', 'sys', 'urlquote_from_bytes', 'warnings']\n"
     ]
    }
   ],
   "source": [
    "print(dir(pathlib))"
   ]
  },
  {
   "cell_type": "markdown",
   "metadata": {},
   "source": [
    "## Working with Directories"
   ]
  },
  {
   "cell_type": "code",
   "execution_count": 3,
   "metadata": {},
   "outputs": [
    {
     "name": "stdout",
     "output_type": "stream",
     "text": [
      "Current directory: /workspaces/PythonForDataEngineeringApril2023/10_Modules/04b_pathlib\n",
      "Home directory   : /home/codespace\n"
     ]
    }
   ],
   "source": [
    "print(f\"Current directory: {pathlib.Path.cwd()}\")\n",
    "print(f\"Home directory   : {pathlib.Path.home()}\")"
   ]
  },
  {
   "cell_type": "code",
   "execution_count": 4,
   "metadata": {},
   "outputs": [
    {
     "data": {
      "text/plain": [
       "PosixPath('/home/codespace')"
      ]
     },
     "execution_count": 4,
     "metadata": {},
     "output_type": "execute_result"
    }
   ],
   "source": [
    "pathlib.Path.home()"
   ]
  },
  {
   "cell_type": "markdown",
   "metadata": {},
   "source": [
    "### List Directories"
   ]
  },
  {
   "cell_type": "code",
   "execution_count": 7,
   "metadata": {},
   "outputs": [
    {
     "name": "stdout",
     "output_type": "stream",
     "text": [
      "[PosixPath('/workspaces/PythonForDataEngineeringApril2023/10_Modules/04b_pathlib/sampefolder')]\n"
     ]
    }
   ],
   "source": [
    "path = pathlib.Path.cwd()\n",
    "dirs = [e for e in path.iterdir() if e.is_dir()]\n",
    "print(dirs)"
   ]
  },
  {
   "cell_type": "code",
   "execution_count": 8,
   "metadata": {},
   "outputs": [
    {
     "name": "stdout",
     "output_type": "stream",
     "text": [
      "[PosixPath('/workspaces/PythonForDataEngineeringApril2023/10_Modules/04b_pathlib/samplefile.txt'), PosixPath('/workspaces/PythonForDataEngineeringApril2023/10_Modules/04b_pathlib/a_pathlib.ipynb')]\n"
     ]
    }
   ],
   "source": [
    "files = [e for e in path.iterdir() if e.is_file()]\n",
    "print(files)"
   ]
  },
  {
   "cell_type": "markdown",
   "metadata": {},
   "source": [
    "### Change directory"
   ]
  },
  {
   "cell_type": "code",
   "execution_count": 9,
   "metadata": {},
   "outputs": [
    {
     "name": "stdout",
     "output_type": "stream",
     "text": [
      "Current directory: /workspaces/PythonForDataEngineeringApril2023/10_Modules/04b_pathlib\n"
     ]
    }
   ],
   "source": [
    "path = pathlib.Path(\"..\")\n",
    "print(f\"Current directory: {pathlib.Path.cwd()}\")"
   ]
  },
  {
   "cell_type": "code",
   "execution_count": 10,
   "metadata": {},
   "outputs": [
    {
     "name": "stdout",
     "output_type": "stream",
     "text": [
      "Current directory: /workspaces/PythonForDataEngineeringApril2023/10_Modules\n"
     ]
    }
   ],
   "source": [
    "os.chdir(path)\n",
    "print(f\"Current directory: {pathlib.Path.cwd()}\")"
   ]
  },
  {
   "cell_type": "code",
   "execution_count": 12,
   "metadata": {},
   "outputs": [
    {
     "name": "stdout",
     "output_type": "stream",
     "text": [
      "Current directory: /workspaces/PythonForDataEngineeringApril2023\n"
     ]
    }
   ],
   "source": [
    "os.chdir(r\"/workspaces/PythonForDataEngineeringApril2023/\")\n",
    "print(f\"Current directory: {pathlib.Path.cwd()}\")"
   ]
  },
  {
   "cell_type": "markdown",
   "metadata": {},
   "source": [
    "## Necessity of pathlib"
   ]
  },
  {
   "cell_type": "markdown",
   "metadata": {},
   "source": [
    "Method 1"
   ]
  },
  {
   "cell_type": "code",
   "execution_count": 13,
   "metadata": {},
   "outputs": [
    {
     "name": "stdout",
     "output_type": "stream",
     "text": [
      "/workspaces/PythonForDataEngineeringApril2023/output/out.xlsx\n"
     ]
    }
   ],
   "source": [
    "outpath = os.path.join(os.getcwd(), \"output\")\n",
    "outpath_file = os.path.join(outpath, \"out.xlsx\")\n",
    "print(outpath_file)"
   ]
  },
  {
   "cell_type": "markdown",
   "metadata": {},
   "source": [
    "Method 2"
   ]
  },
  {
   "cell_type": "code",
   "execution_count": 14,
   "metadata": {},
   "outputs": [
    {
     "name": "stdout",
     "output_type": "stream",
     "text": [
      "/workspaces/PythonForDataEngineeringApril2023/output/out.xlsx\n"
     ]
    }
   ],
   "source": [
    "outpath_file = os.path.join(os.path.join(os.getcwd(), \"output\"), \"out.xlsx\")\n",
    "print(outpath_file)"
   ]
  },
  {
   "cell_type": "markdown",
   "metadata": {},
   "source": [
    "Method 3"
   ]
  },
  {
   "cell_type": "code",
   "execution_count": 15,
   "metadata": {},
   "outputs": [
    {
     "name": "stdout",
     "output_type": "stream",
     "text": [
      "/workspaces/PythonForDataEngineeringApril2023/output/output.xlsx\n"
     ]
    }
   ],
   "source": [
    "outpath_file = pathlib.Path.cwd() / \"output\" / \"output.xlsx\"\n",
    "print(outpath_file)"
   ]
  },
  {
   "cell_type": "markdown",
   "metadata": {},
   "source": [
    "## Working with paths"
   ]
  },
  {
   "cell_type": "markdown",
   "metadata": {},
   "source": [
    "### Constructing the paths"
   ]
  },
  {
   "cell_type": "code",
   "execution_count": 16,
   "metadata": {},
   "outputs": [
    {
     "name": "stdout",
     "output_type": "stream",
     "text": [
      "ocean/wave.txt\n"
     ]
    }
   ],
   "source": [
    "wave = pathlib.Path(\"ocean\", \"wave.txt\")\n",
    "print(wave)  # ocean\\wave.txt"
   ]
  },
  {
   "cell_type": "code",
   "execution_count": 17,
   "metadata": {},
   "outputs": [
    {
     "name": "stdout",
     "output_type": "stream",
     "text": [
      "/home/codespace\n",
      "/home/codespace/ocean/wave.txt\n"
     ]
    }
   ],
   "source": [
    "home = pathlib.Path.home()\n",
    "wave_absolute = pathlib.Path(home, \"ocean\", \"wave.txt\")\n",
    "print(home)  # C:\\Users\\Amma\n",
    "print(wave_absolute)  # C:\\Users\\Amma\\ocean\\wave.txt"
   ]
  },
  {
   "cell_type": "code",
   "execution_count": 18,
   "metadata": {},
   "outputs": [
    {
     "name": "stdout",
     "output_type": "stream",
     "text": [
      "/home/codespace/ocean/animals/fish/shark.txt\n"
     ]
    }
   ],
   "source": [
    "shark = pathlib.Path(\n",
    "    pathlib.Path.home(), \"ocean\", \"animals\", pathlib.Path(\"fish\", \"shark.txt\")\n",
    ")\n",
    "print(shark)  # C:\\Users\\Amma\\ocean\\animals\\fish\\shark.txt"
   ]
  },
  {
   "cell_type": "markdown",
   "metadata": {},
   "source": [
    "### Computing Relative Paths"
   ]
  },
  {
   "cell_type": "code",
   "execution_count": 19,
   "metadata": {},
   "outputs": [
    {
     "name": "stdout",
     "output_type": "stream",
     "text": [
      "ocean/animals/fish/shark.txt\n",
      "animals/fish/shark.txt\n",
      "fish/shark.txt\n"
     ]
    }
   ],
   "source": [
    "shark = pathlib.Path(\"ocean\", \"animals\", \"fish\", \"shark.txt\")\n",
    "below_ocean = shark.relative_to(pathlib.Path(\"ocean\"))\n",
    "below_animals = shark.relative_to(pathlib.Path(\"ocean\", \"animals\"))\n",
    "print(shark)  # ocean\\animals\\fish\\shark.txt\n",
    "print(below_ocean)  # animals\\fish\\shark.txt\n",
    "print(below_animals)  # fish\\shark.txt"
   ]
  },
  {
   "cell_type": "code",
   "execution_count": 20,
   "metadata": {},
   "outputs": [
    {
     "data": {
      "text/plain": [
       "PosixPath('ocean/animals/fish')"
      ]
     },
     "execution_count": 20,
     "metadata": {},
     "output_type": "execute_result"
    }
   ],
   "source": [
    "shark.parent"
   ]
  },
  {
   "cell_type": "code",
   "execution_count": 21,
   "metadata": {},
   "outputs": [
    {
     "data": {
      "text/plain": [
       "PosixPath('ocean/animals')"
      ]
     },
     "execution_count": 21,
     "metadata": {},
     "output_type": "execute_result"
    }
   ],
   "source": [
    "shark.parent.parent"
   ]
  },
  {
   "cell_type": "code",
   "execution_count": 22,
   "metadata": {},
   "outputs": [
    {
     "data": {
      "text/plain": [
       "PosixPath('ocean')"
      ]
     },
     "execution_count": 22,
     "metadata": {},
     "output_type": "execute_result"
    }
   ],
   "source": [
    "shark.parent.parent.parent"
   ]
  },
  {
   "cell_type": "code",
   "execution_count": 23,
   "metadata": {},
   "outputs": [
    {
     "name": "stdout",
     "output_type": "stream",
     "text": [
      "foo/bar\n"
     ]
    }
   ],
   "source": [
    "if sys.platform == \"win32\":\n",
    "    print(pathlib.PureWindowsPath(\"foo/bar\"))\n",
    "else:\n",
    "    print(pathlib.PosixPath(\"foo/bar\"))"
   ]
  },
  {
   "cell_type": "code",
   "execution_count": 24,
   "metadata": {},
   "outputs": [
    {
     "data": {
      "text/plain": [
       "PurePosixPath('foo/bar')"
      ]
     },
     "execution_count": 24,
     "metadata": {},
     "output_type": "execute_result"
    }
   ],
   "source": [
    "pathlib.PurePosixPath(\"foo/bar\")"
   ]
  },
  {
   "cell_type": "code",
   "execution_count": 25,
   "metadata": {},
   "outputs": [
    {
     "data": {
      "text/plain": [
       "PurePosixPath('foo/bar')"
      ]
     },
     "execution_count": 25,
     "metadata": {},
     "output_type": "execute_result"
    }
   ],
   "source": [
    "pathlib.PurePath(\"foo/bar\")"
   ]
  },
  {
   "cell_type": "code",
   "execution_count": 26,
   "metadata": {},
   "outputs": [
    {
     "name": "stdout",
     "output_type": "stream",
     "text": [
      "path_obj =PurePosixPath('/usr /bin /python')\n"
     ]
    }
   ],
   "source": [
    "path_obj = pathlib.PurePath(\"/usr /bin /python\")\n",
    "print(f\"{path_obj =}\")"
   ]
  },
  {
   "cell_type": "code",
   "execution_count": 27,
   "metadata": {},
   "outputs": [
    {
     "name": "stdout",
     "output_type": "stream",
     "text": [
      "['__bytes__', '__class__', '__class_getitem__', '__delattr__', '__dir__', '__doc__', '__eq__', '__format__', '__fspath__', '__ge__', '__getattribute__', '__gt__', '__hash__', '__init__', '__init_subclass__', '__le__', '__lt__', '__module__', '__ne__', '__new__', '__reduce__', '__reduce_ex__', '__repr__', '__rtruediv__', '__setattr__', '__sizeof__', '__slots__', '__str__', '__subclasshook__', '__truediv__', '_cached_cparts', '_cparts', '_drv', '_flavour', '_format_parsed_parts', '_from_parsed_parts', '_from_parts', '_hash', '_make_child', '_parse_args', '_parts', '_pparts', '_root', '_str', 'anchor', 'as_posix', 'as_uri', 'drive', 'is_absolute', 'is_relative_to', 'is_reserved', 'joinpath', 'match', 'name', 'parent', 'parents', 'parts', 'relative_to', 'root', 'stem', 'suffix', 'suffixes', 'with_name', 'with_stem', 'with_suffix']\n"
     ]
    }
   ],
   "source": [
    "print(dir(path_obj))"
   ]
  },
  {
   "cell_type": "code",
   "execution_count": 28,
   "metadata": {},
   "outputs": [
    {
     "name": "stdout",
     "output_type": "stream",
     "text": [
      "path_obj.is_absolute() =True\n"
     ]
    }
   ],
   "source": [
    "print(f\"\"\"{path_obj.is_absolute() =}\"\"\")"
   ]
  },
  {
   "cell_type": "code",
   "execution_count": 29,
   "metadata": {},
   "outputs": [
    {
     "data": {
      "text/plain": [
       "False"
      ]
     },
     "execution_count": 29,
     "metadata": {},
     "output_type": "execute_result"
    }
   ],
   "source": [
    "pathlib.PurePath(\"C:\\Windows\\Logs\\WindowsUpdate\").is_absolute()"
   ]
  },
  {
   "cell_type": "code",
   "execution_count": 30,
   "metadata": {},
   "outputs": [
    {
     "ename": "ValueError",
     "evalue": "relative path can't be expressed as a file URI",
     "output_type": "error",
     "traceback": [
      "\u001b[0;31m---------------------------------------------------------------------------\u001b[0m",
      "\u001b[0;31mValueError\u001b[0m                                Traceback (most recent call last)",
      "Cell \u001b[0;32mIn[30], line 1\u001b[0m\n\u001b[0;32m----> 1\u001b[0m pathlib\u001b[39m.\u001b[39;49mPurePath(\u001b[39m\"\u001b[39;49m\u001b[39mC:\u001b[39;49m\u001b[39m\\\u001b[39;49m\u001b[39mWindows\u001b[39;49m\u001b[39m\\\u001b[39;49m\u001b[39mLogs\u001b[39;49m\u001b[39m\\\u001b[39;49m\u001b[39mWindowsUpdate\u001b[39;49m\u001b[39m\"\u001b[39;49m)\u001b[39m.\u001b[39;49mas_uri()\n",
      "File \u001b[0;32m/usr/local/python/3.10.4/lib/python3.10/pathlib.py:649\u001b[0m, in \u001b[0;36mPurePath.as_uri\u001b[0;34m(self)\u001b[0m\n\u001b[1;32m    647\u001b[0m \u001b[39m\u001b[39m\u001b[39m\"\"\"Return the path as a 'file' URI.\"\"\"\u001b[39;00m\n\u001b[1;32m    648\u001b[0m \u001b[39mif\u001b[39;00m \u001b[39mnot\u001b[39;00m \u001b[39mself\u001b[39m\u001b[39m.\u001b[39mis_absolute():\n\u001b[0;32m--> 649\u001b[0m     \u001b[39mraise\u001b[39;00m \u001b[39mValueError\u001b[39;00m(\u001b[39m\"\u001b[39m\u001b[39mrelative path can\u001b[39m\u001b[39m'\u001b[39m\u001b[39mt be expressed as a file URI\u001b[39m\u001b[39m\"\u001b[39m)\n\u001b[1;32m    650\u001b[0m \u001b[39mreturn\u001b[39;00m \u001b[39mself\u001b[39m\u001b[39m.\u001b[39m_flavour\u001b[39m.\u001b[39mmake_uri(\u001b[39mself\u001b[39m)\n",
      "\u001b[0;31mValueError\u001b[0m: relative path can't be expressed as a file URI"
     ]
    }
   ],
   "source": [
    "pathlib.PurePath(\"C:\\Windows\\Logs\\WindowsUpdate\").as_uri()"
   ]
  },
  {
   "cell_type": "code",
   "execution_count": 31,
   "metadata": {},
   "outputs": [
    {
     "name": "stdout",
     "output_type": "stream",
     "text": [
      "relative path can't be expressed as a file URI\n"
     ]
    }
   ],
   "source": [
    "try:\n",
    "    pathlib.PurePath(\"\\Logs\\WindowsUpdate\").as_uri()\n",
    "except ValueError as ex:\n",
    "    print(ex)"
   ]
  },
  {
   "cell_type": "code",
   "execution_count": 32,
   "metadata": {},
   "outputs": [
    {
     "ename": "NotImplementedError",
     "evalue": "cannot instantiate 'WindowsPath' on your system",
     "output_type": "error",
     "traceback": [
      "\u001b[0;31m---------------------------------------------------------------------------\u001b[0m",
      "\u001b[0;31mNotImplementedError\u001b[0m                       Traceback (most recent call last)",
      "Cell \u001b[0;32mIn[32], line 1\u001b[0m\n\u001b[0;32m----> 1\u001b[0m pathlib\u001b[39m.\u001b[39;49mWindowsPath(\u001b[39m\"\u001b[39;49m\u001b[39mC:\u001b[39;49m\u001b[39m\\\u001b[39;49m\u001b[39mWindows\u001b[39;49m\u001b[39m\\\u001b[39;49m\u001b[39mLogs\u001b[39;49m\u001b[39m\\\u001b[39;49m\u001b[39mWindowsUpdate\u001b[39;49m\u001b[39m\"\u001b[39;49m)\n",
      "File \u001b[0;32m/usr/local/python/3.10.4/lib/python3.10/pathlib.py:960\u001b[0m, in \u001b[0;36mPath.__new__\u001b[0;34m(cls, *args, **kwargs)\u001b[0m\n\u001b[1;32m    958\u001b[0m \u001b[39mself\u001b[39m \u001b[39m=\u001b[39m \u001b[39mcls\u001b[39m\u001b[39m.\u001b[39m_from_parts(args)\n\u001b[1;32m    959\u001b[0m \u001b[39mif\u001b[39;00m \u001b[39mnot\u001b[39;00m \u001b[39mself\u001b[39m\u001b[39m.\u001b[39m_flavour\u001b[39m.\u001b[39mis_supported:\n\u001b[0;32m--> 960\u001b[0m     \u001b[39mraise\u001b[39;00m \u001b[39mNotImplementedError\u001b[39;00m(\u001b[39m\"\u001b[39m\u001b[39mcannot instantiate \u001b[39m\u001b[39m%r\u001b[39;00m\u001b[39m on your system\u001b[39m\u001b[39m\"\u001b[39m\n\u001b[1;32m    961\u001b[0m                               \u001b[39m%\u001b[39m (\u001b[39mcls\u001b[39m\u001b[39m.\u001b[39m\u001b[39m__name__\u001b[39m,))\n\u001b[1;32m    962\u001b[0m \u001b[39mreturn\u001b[39;00m \u001b[39mself\u001b[39m\n",
      "\u001b[0;31mNotImplementedError\u001b[0m: cannot instantiate 'WindowsPath' on your system"
     ]
    }
   ],
   "source": [
    "pathlib.WindowsPath(\"C:\\Windows\\Logs\\WindowsUpdate\")"
   ]
  },
  {
   "cell_type": "code",
   "execution_count": 33,
   "metadata": {},
   "outputs": [
    {
     "ename": "NotImplementedError",
     "evalue": "cannot instantiate 'WindowsPath' on your system",
     "output_type": "error",
     "traceback": [
      "\u001b[0;31m---------------------------------------------------------------------------\u001b[0m",
      "\u001b[0;31mNotImplementedError\u001b[0m                       Traceback (most recent call last)",
      "Cell \u001b[0;32mIn[33], line 1\u001b[0m\n\u001b[0;32m----> 1\u001b[0m path_obj \u001b[39m=\u001b[39m pathlib\u001b[39m.\u001b[39;49mWindowsPath(\u001b[39m\"\u001b[39;49m\u001b[39mC:\u001b[39;49m\u001b[39m\\\u001b[39;49m\u001b[39mWindows\u001b[39;49m\u001b[39m\\\u001b[39;49m\u001b[39mLogs\u001b[39;49m\u001b[39m\\\u001b[39;49m\u001b[39mWindowsUpdate\u001b[39;49m\u001b[39m\"\u001b[39;49m)\n\u001b[1;32m      2\u001b[0m \u001b[39mprint\u001b[39m(\u001b[39mdir\u001b[39m(path_obj))\n",
      "File \u001b[0;32m/usr/local/python/3.10.4/lib/python3.10/pathlib.py:960\u001b[0m, in \u001b[0;36mPath.__new__\u001b[0;34m(cls, *args, **kwargs)\u001b[0m\n\u001b[1;32m    958\u001b[0m \u001b[39mself\u001b[39m \u001b[39m=\u001b[39m \u001b[39mcls\u001b[39m\u001b[39m.\u001b[39m_from_parts(args)\n\u001b[1;32m    959\u001b[0m \u001b[39mif\u001b[39;00m \u001b[39mnot\u001b[39;00m \u001b[39mself\u001b[39m\u001b[39m.\u001b[39m_flavour\u001b[39m.\u001b[39mis_supported:\n\u001b[0;32m--> 960\u001b[0m     \u001b[39mraise\u001b[39;00m \u001b[39mNotImplementedError\u001b[39;00m(\u001b[39m\"\u001b[39m\u001b[39mcannot instantiate \u001b[39m\u001b[39m%r\u001b[39;00m\u001b[39m on your system\u001b[39m\u001b[39m\"\u001b[39m\n\u001b[1;32m    961\u001b[0m                               \u001b[39m%\u001b[39m (\u001b[39mcls\u001b[39m\u001b[39m.\u001b[39m\u001b[39m__name__\u001b[39m,))\n\u001b[1;32m    962\u001b[0m \u001b[39mreturn\u001b[39;00m \u001b[39mself\u001b[39m\n",
      "\u001b[0;31mNotImplementedError\u001b[0m: cannot instantiate 'WindowsPath' on your system"
     ]
    }
   ],
   "source": [
    "path_obj = pathlib.WindowsPath(\"C:\\Windows\\Logs\\WindowsUpdate\")\n",
    "print(dir(path_obj))"
   ]
  },
  {
   "cell_type": "code",
   "execution_count": 34,
   "metadata": {},
   "outputs": [
    {
     "ename": "AttributeError",
     "evalue": "'PurePosixPath' object has no attribute 'is_dir'",
     "output_type": "error",
     "traceback": [
      "\u001b[0;31m---------------------------------------------------------------------------\u001b[0m",
      "\u001b[0;31mAttributeError\u001b[0m                            Traceback (most recent call last)",
      "Cell \u001b[0;32mIn[34], line 3\u001b[0m\n\u001b[1;32m      1\u001b[0m \u001b[39mprint\u001b[39m(\n\u001b[1;32m      2\u001b[0m     \u001b[39mf\u001b[39m\u001b[39m\"\"\"\u001b[39m\n\u001b[0;32m----> 3\u001b[0m \u001b[39m{\u001b[39;00mpath_obj\u001b[39m.\u001b[39;49mis_dir()\u001b[39m   \u001b[39;49m\u001b[39m=}\u001b[39;00m\n\u001b[1;32m      4\u001b[0m \u001b[39m{\u001b[39;00mpath_obj\u001b[39m.\u001b[39mis_file()\u001b[39m  \u001b[39m\u001b[39m=}\u001b[39;00m\n\u001b[1;32m      5\u001b[0m \u001b[39m{\u001b[39;00mpath_obj\u001b[39m.\u001b[39mis_fifo()\u001b[39m  \u001b[39m\u001b[39m=}\u001b[39;00m\n\u001b[1;32m      6\u001b[0m \n\u001b[1;32m      7\u001b[0m \u001b[39m{\u001b[39;00mpath_obj\u001b[39m.\u001b[39mexists()\u001b[39m   \u001b[39m\u001b[39m=}\u001b[39;00m\n\u001b[1;32m      8\u001b[0m \u001b[39m{\u001b[39;00mpath_obj\u001b[39m.\u001b[39mdrive\u001b[39m      \u001b[39m\u001b[39m=}\u001b[39;00m\n\u001b[1;32m      9\u001b[0m \u001b[39m{\u001b[39;00mpath_obj\u001b[39m.\u001b[39mcwd()\u001b[39m      \u001b[39m\u001b[39m=}\u001b[39;00m\n\u001b[1;32m     10\u001b[0m \u001b[39m\"\"\"\u001b[39m\n\u001b[1;32m     11\u001b[0m )\n",
      "\u001b[0;31mAttributeError\u001b[0m: 'PurePosixPath' object has no attribute 'is_dir'"
     ]
    }
   ],
   "source": [
    "print(\n",
    "    f\"\"\"\n",
    "{path_obj.is_dir()   =}\n",
    "{path_obj.is_file()  =}\n",
    "{path_obj.is_fifo()  =}\n",
    "\n",
    "{path_obj.exists()   =}\n",
    "{path_obj.drive      =}\n",
    "{path_obj.cwd()      =}\n",
    "\"\"\"\n",
    ")"
   ]
  },
  {
   "cell_type": "code",
   "execution_count": 35,
   "metadata": {},
   "outputs": [
    {
     "name": "stdout",
     "output_type": "stream",
     "text": [
      "/workspaces/PythonForDataEngineeringApril2023/.venv/bin/python\n"
     ]
    }
   ],
   "source": [
    "print(sys.executable)"
   ]
  },
  {
   "cell_type": "markdown",
   "metadata": {},
   "source": [
    "```\n",
    "    .name: the file name without any directory\n",
    "    .parent: the directory containing the file, or the parent directory if path is a directory\n",
    "    .stem: the file name without the suffix\n",
    "    .suffix: the file extension\n",
    "    .anchor: the part of the path before the directories\n",
    "```"
   ]
  },
  {
   "cell_type": "code",
   "execution_count": 37,
   "metadata": {},
   "outputs": [
    {
     "name": "stdout",
     "output_type": "stream",
     "text": [
      " \n",
      "path_obj.drive =''\n",
      "path_obj.parts =('/', 'workspaces', 'PythonForDataEngineeringApril2023', '.venv', 'bin', 'python')\n",
      "\n",
      "path_obj.name          ='python'\n",
      "path_obj.parent        =PosixPath('/workspaces/PythonForDataEngineeringApril2023/.venv/bin')\n",
      "path_obj.parent.parent =PosixPath('/workspaces/PythonForDataEngineeringApril2023/.venv')\n",
      "path_obj.stem          ='python'\n",
      "path_obj.suffix        =''\n",
      "path_obj.anchor        ='/'\n",
      "\n"
     ]
    }
   ],
   "source": [
    "path_obj = pathlib.PosixPath(sys.executable)\n",
    "print(\n",
    "    f\"\"\" \n",
    "{path_obj.drive =}\n",
    "{path_obj.parts =}\n",
    "\n",
    "{path_obj.name          =}\n",
    "{path_obj.parent        =}\n",
    "{path_obj.parent.parent =}\n",
    "{path_obj.stem          =}\n",
    "{path_obj.suffix        =}\n",
    "{path_obj.anchor        =}\n",
    "\"\"\"\n",
    ")"
   ]
  },
  {
   "cell_type": "code",
   "execution_count": 38,
   "metadata": {},
   "outputs": [
    {
     "data": {
      "text/plain": [
       "PosixPath('/workspaces/PythonForDataEngineeringApril2023/.venv/new')"
      ]
     },
     "execution_count": 38,
     "metadata": {},
     "output_type": "execute_result"
    }
   ],
   "source": [
    "new_path = path_obj.parent.parent / (\"new\" + path.suffix)\n",
    "\n",
    "new_path"
   ]
  },
  {
   "cell_type": "code",
   "execution_count": 35,
   "metadata": {},
   "outputs": [
    {
     "data": {
      "text/plain": [
       "WindowsPath('/python/edited_version')"
      ]
     },
     "execution_count": 35,
     "metadata": {},
     "output_type": "execute_result"
    }
   ],
   "source": [
    "pathlib.WindowsPath(\"/python\").joinpath(\"edited_version\")"
   ]
  },
  {
   "cell_type": "code",
   "execution_count": 36,
   "metadata": {},
   "outputs": [
    {
     "data": {
      "text/plain": [
       "PurePosixPath('/python/edited_version')"
      ]
     },
     "execution_count": 36,
     "metadata": {},
     "output_type": "execute_result"
    }
   ],
   "source": [
    "pathlib.PurePosixPath(\"/python\").joinpath(\"edited_version\")"
   ]
  },
  {
   "cell_type": "code",
   "execution_count": 37,
   "metadata": {},
   "outputs": [
    {
     "data": {
      "text/plain": [
       "WindowsPath('C:/Users/Amma/python/scripts/test.py')"
      ]
     },
     "execution_count": 37,
     "metadata": {},
     "output_type": "execute_result"
    }
   ],
   "source": [
    "pathlib.Path.home().joinpath(\"python\", \"scripts\", \"test.py\")"
   ]
  },
  {
   "cell_type": "markdown",
   "metadata": {},
   "source": [
    "## Working with directories"
   ]
  },
  {
   "cell_type": "code",
   "execution_count": 38,
   "metadata": {},
   "outputs": [
    {
     "name": "stdout",
     "output_type": "stream",
     "text": [
      "path_obj.is_dir() =False\n"
     ]
    }
   ],
   "source": [
    "path_obj = pathlib.Path(\"first/second/__third__\")\n",
    "print(f\"{path_obj.is_dir() =}\")"
   ]
  },
  {
   "cell_type": "code",
   "execution_count": 39,
   "metadata": {},
   "outputs": [
    {
     "data": {
      "text/plain": [
       "WindowsPath('first/second/__third__')"
      ]
     },
     "execution_count": 39,
     "metadata": {},
     "output_type": "execute_result"
    }
   ],
   "source": [
    "path_obj.resolve()"
   ]
  },
  {
   "cell_type": "code",
   "execution_count": 40,
   "metadata": {},
   "outputs": [
    {
     "data": {
      "text/plain": [
       "['.ipynb_checkpoints', 'Pathlib-Cheatsheet.pdf', 'pathlib_module.ipynb']"
      ]
     },
     "execution_count": 40,
     "metadata": {},
     "output_type": "execute_result"
    }
   ],
   "source": [
    "os.listdir()"
   ]
  },
  {
   "cell_type": "code",
   "execution_count": 41,
   "metadata": {},
   "outputs": [],
   "source": [
    "pathlib.Path(\"first/second/__third__\").mkdir(parents=True)"
   ]
  },
  {
   "cell_type": "code",
   "execution_count": 42,
   "metadata": {},
   "outputs": [
    {
     "name": "stdout",
     "output_type": "stream",
     "text": [
      "[WinError 183] Cannot create a file when that file already exists: 'first\\\\second\\\\__third__'\n"
     ]
    }
   ],
   "source": [
    "try:\n",
    "    pathlib.Path(\"first/second/__third__\").mkdir(parents=True)\n",
    "except FileExistsError as ex:\n",
    "    print(ex)"
   ]
  },
  {
   "cell_type": "code",
   "execution_count": 43,
   "metadata": {},
   "outputs": [],
   "source": [
    "pathlib.Path(\"first/second/__third__\").mkdir(parents=True, exist_ok=True)"
   ]
  },
  {
   "cell_type": "code",
   "execution_count": 44,
   "metadata": {},
   "outputs": [],
   "source": [
    "os.makedirs(\"first/second/__third__\", exist_ok=True)"
   ]
  },
  {
   "cell_type": "code",
   "execution_count": 45,
   "metadata": {},
   "outputs": [
    {
     "data": {
      "text/plain": [
       "['.ipynb_checkpoints',\n",
       " 'first',\n",
       " 'Pathlib-Cheatsheet.pdf',\n",
       " 'pathlib_module.ipynb']"
      ]
     },
     "execution_count": 45,
     "metadata": {},
     "output_type": "execute_result"
    }
   ],
   "source": [
    "os.listdir()"
   ]
  },
  {
   "cell_type": "code",
   "execution_count": 46,
   "metadata": {},
   "outputs": [
    {
     "data": {
      "text/plain": [
       "WindowsPath('.first_one')"
      ]
     },
     "execution_count": 46,
     "metadata": {},
     "output_type": "execute_result"
    }
   ],
   "source": [
    "pathlib.Path(\"first\").rename(\".first_one\")"
   ]
  },
  {
   "cell_type": "code",
   "execution_count": 47,
   "metadata": {},
   "outputs": [],
   "source": [
    "os.rename(\".first_one\", \".first_other\")"
   ]
  },
  {
   "cell_type": "code",
   "execution_count": 48,
   "metadata": {},
   "outputs": [
    {
     "data": {
      "text/plain": [
       "['.first_other',\n",
       " '.ipynb_checkpoints',\n",
       " 'Pathlib-Cheatsheet.pdf',\n",
       " 'pathlib_module.ipynb']"
      ]
     },
     "execution_count": 48,
     "metadata": {},
     "output_type": "execute_result"
    }
   ],
   "source": [
    "os.listdir()"
   ]
  },
  {
   "cell_type": "markdown",
   "metadata": {},
   "source": [
    "## Write and Read Files"
   ]
  },
  {
   "cell_type": "markdown",
   "metadata": {},
   "source": [
    "creating empty file"
   ]
  },
  {
   "cell_type": "code",
   "execution_count": 49,
   "metadata": {},
   "outputs": [
    {
     "name": "stdout",
     "output_type": "stream",
     "text": [
      "file.txt\n"
     ]
    }
   ],
   "source": [
    "path = pathlib.Path(\"file.txt\")\n",
    "path.touch()\n",
    "print(path)"
   ]
  },
  {
   "cell_type": "code",
   "execution_count": 50,
   "metadata": {},
   "outputs": [
    {
     "data": {
      "text/plain": [
       "['.first_other',\n",
       " '.ipynb_checkpoints',\n",
       " 'file.txt',\n",
       " 'Pathlib-Cheatsheet.pdf',\n",
       " 'pathlib_module.ipynb']"
      ]
     },
     "execution_count": 50,
     "metadata": {},
     "output_type": "execute_result"
    }
   ],
   "source": [
    "os.listdir()"
   ]
  },
  {
   "cell_type": "code",
   "execution_count": 51,
   "metadata": {},
   "outputs": [
    {
     "data": {
      "text/plain": [
       "WindowsPath('file2.txt')"
      ]
     },
     "execution_count": 51,
     "metadata": {},
     "output_type": "execute_result"
    }
   ],
   "source": [
    "path.rename(\"file2.txt\")"
   ]
  },
  {
   "cell_type": "code",
   "execution_count": 52,
   "metadata": {},
   "outputs": [
    {
     "data": {
      "text/plain": [
       "['.first_other',\n",
       " '.ipynb_checkpoints',\n",
       " 'file2.txt',\n",
       " 'Pathlib-Cheatsheet.pdf',\n",
       " 'pathlib_module.ipynb']"
      ]
     },
     "execution_count": 52,
     "metadata": {},
     "output_type": "execute_result"
    }
   ],
   "source": [
    "os.listdir()"
   ]
  },
  {
   "cell_type": "code",
   "execution_count": 53,
   "metadata": {},
   "outputs": [
    {
     "data": {
      "text/plain": [
       "30"
      ]
     },
     "execution_count": 53,
     "metadata": {},
     "output_type": "execute_result"
    }
   ],
   "source": [
    "p = pathlib.Path(\".first_other/sample_text_file.txt\")\n",
    "p.write_text(\"Sample to write data to a file\")"
   ]
  },
  {
   "cell_type": "code",
   "execution_count": 54,
   "metadata": {},
   "outputs": [
    {
     "data": {
      "text/plain": [
       "'Sample to write data to a file'"
      ]
     },
     "execution_count": 54,
     "metadata": {},
     "output_type": "execute_result"
    }
   ],
   "source": [
    "path = pathlib.Path.cwd() / \".first_other\" / \"sample_text_file.txt\"\n",
    "path.read_text()"
   ]
  },
  {
   "cell_type": "code",
   "execution_count": 55,
   "metadata": {},
   "outputs": [
    {
     "data": {
      "text/plain": [
       "['.first_other',\n",
       " '.ipynb_checkpoints',\n",
       " 'file2.txt',\n",
       " 'Pathlib-Cheatsheet.pdf',\n",
       " 'pathlib_module.ipynb']"
      ]
     },
     "execution_count": 55,
     "metadata": {},
     "output_type": "execute_result"
    }
   ],
   "source": [
    "os.listdir()"
   ]
  },
  {
   "cell_type": "code",
   "execution_count": 56,
   "metadata": {},
   "outputs": [
    {
     "data": {
      "text/plain": [
       "WindowsPath('D:/MEGAsync/Python-related/PythonMaterial/python3/10_Modules/pathlib_module/.first_other/sample_text_file.txt')"
      ]
     },
     "execution_count": 56,
     "metadata": {},
     "output_type": "execute_result"
    }
   ],
   "source": [
    "path"
   ]
  },
  {
   "cell_type": "code",
   "execution_count": 57,
   "metadata": {},
   "outputs": [
    {
     "data": {
      "text/plain": [
       "WindowsPath('D:/MEGAsync/Python-related/PythonMaterial/python3/10_Modules/pathlib_module/.first_other/sample_text_file.md')"
      ]
     },
     "execution_count": 57,
     "metadata": {},
     "output_type": "execute_result"
    }
   ],
   "source": [
    "path.with_suffix(\".md\")"
   ]
  },
  {
   "cell_type": "code",
   "execution_count": 58,
   "metadata": {},
   "outputs": [
    {
     "data": {
      "text/plain": [
       "WindowsPath('D:/MEGAsync/Python-related/PythonMaterial/python3/10_Modules/pathlib_module/.first_other/sample_text_file.md')"
      ]
     },
     "execution_count": 58,
     "metadata": {},
     "output_type": "execute_result"
    }
   ],
   "source": [
    "path.replace(path.with_suffix(\".md\"))"
   ]
  },
  {
   "cell_type": "code",
   "execution_count": 59,
   "metadata": {},
   "outputs": [
    {
     "data": {
      "text/plain": [
       "['sample_text_file.md', 'second']"
      ]
     },
     "execution_count": 59,
     "metadata": {},
     "output_type": "execute_result"
    }
   ],
   "source": [
    "os.listdir(\".first_other\")"
   ]
  },
  {
   "cell_type": "markdown",
   "metadata": {},
   "source": [
    "### Display a Directory Tree"
   ]
  },
  {
   "cell_type": "code",
   "execution_count": 60,
   "metadata": {},
   "outputs": [],
   "source": [
    "def tree(directory):\n",
    "    print(f\"+ {directory}\")\n",
    "    for path in sorted(directory.rglob(\"*\")):\n",
    "        depth = len(path.relative_to(directory).parts)\n",
    "        spacer = \"    \" * depth\n",
    "        print(f\"{spacer}+ {path.name}\")"
   ]
  },
  {
   "cell_type": "code",
   "execution_count": 61,
   "metadata": {},
   "outputs": [
    {
     "name": "stdout",
     "output_type": "stream",
     "text": [
      "+ D:\\MEGAsync\\Python-related\\PythonMaterial\\python3\\10_Modules\\pathlib_module\n",
      "    + .first_other\n",
      "        + sample_text_file.md\n",
      "        + second\n",
      "            + __third__\n",
      "    + .ipynb_checkpoints\n",
      "        + pathlib_module-checkpoint.ipynb\n",
      "    + file2.txt\n",
      "    + Pathlib-Cheatsheet.pdf\n",
      "    + pathlib_module.ipynb\n"
     ]
    }
   ],
   "source": [
    "tree(pathlib.Path.cwd())"
   ]
  },
  {
   "cell_type": "markdown",
   "metadata": {},
   "source": [
    "### Deleting Directories and Files"
   ]
  },
  {
   "cell_type": "code",
   "execution_count": 62,
   "metadata": {},
   "outputs": [],
   "source": [
    "pathlib.Path(\"file2.txt\").unlink()"
   ]
  },
  {
   "cell_type": "code",
   "execution_count": 63,
   "metadata": {},
   "outputs": [],
   "source": [
    "os.chdir(\".first_other\")"
   ]
  },
  {
   "cell_type": "code",
   "execution_count": 64,
   "metadata": {},
   "outputs": [
    {
     "data": {
      "text/plain": [
       "['sample_text_file.md', 'second']"
      ]
     },
     "execution_count": 64,
     "metadata": {},
     "output_type": "execute_result"
    }
   ],
   "source": [
    "os.listdir()"
   ]
  },
  {
   "cell_type": "code",
   "execution_count": 65,
   "metadata": {},
   "outputs": [],
   "source": [
    "pathlib.Path(\"sample_text_file.md\").unlink()"
   ]
  },
  {
   "cell_type": "code",
   "execution_count": 66,
   "metadata": {},
   "outputs": [
    {
     "data": {
      "text/plain": [
       "['second']"
      ]
     },
     "execution_count": 66,
     "metadata": {},
     "output_type": "execute_result"
    }
   ],
   "source": [
    "os.listdir()"
   ]
  },
  {
   "cell_type": "code",
   "execution_count": 67,
   "metadata": {},
   "outputs": [
    {
     "name": "stdout",
     "output_type": "stream",
     "text": [
      "[WinError 145] The directory is not empty: 'second'\n"
     ]
    }
   ],
   "source": [
    "try:\n",
    "    pathlib.Path(\"second\").rmdir()\n",
    "except OSError as ex:\n",
    "    print(ex)"
   ]
  },
  {
   "cell_type": "code",
   "execution_count": 68,
   "metadata": {},
   "outputs": [],
   "source": [
    "import shutil\n",
    "\n",
    "shutil.rmtree(\"second\")"
   ]
  },
  {
   "cell_type": "code",
   "execution_count": 69,
   "metadata": {},
   "outputs": [
    {
     "data": {
      "text/plain": [
       "['.first_other',\n",
       " '.ipynb_checkpoints',\n",
       " 'Pathlib-Cheatsheet.pdf',\n",
       " 'pathlib_module.ipynb']"
      ]
     },
     "execution_count": 69,
     "metadata": {},
     "output_type": "execute_result"
    }
   ],
   "source": [
    "os.chdir(\"..\")\n",
    "os.listdir()"
   ]
  },
  {
   "cell_type": "code",
   "execution_count": 70,
   "metadata": {},
   "outputs": [
    {
     "name": "stdout",
     "output_type": "stream",
     "text": [
      "+ .first_other\n"
     ]
    }
   ],
   "source": [
    "tree(pathlib.Path(\".first_other\"))"
   ]
  },
  {
   "cell_type": "code",
   "execution_count": 71,
   "metadata": {},
   "outputs": [],
   "source": [
    "pathlib.Path(\".first_other\").rmdir()"
   ]
  },
  {
   "cell_type": "code",
   "execution_count": 72,
   "metadata": {},
   "outputs": [
    {
     "data": {
      "text/plain": [
       "['.ipynb_checkpoints', 'Pathlib-Cheatsheet.pdf', 'pathlib_module.ipynb']"
      ]
     },
     "execution_count": 72,
     "metadata": {},
     "output_type": "execute_result"
    }
   ],
   "source": [
    "os.listdir()"
   ]
  },
  {
   "cell_type": "markdown",
   "metadata": {},
   "source": [
    "### Pretty Table"
   ]
  },
  {
   "cell_type": "code",
   "execution_count": 73,
   "metadata": {},
   "outputs": [
    {
     "name": "stdout",
     "output_type": "stream",
     "text": [
      "Requirement already up-to-date: prettytable in c:\\users\\amma\\appdata\\roaming\\python\\python38\\site-packages (0.7.2)\n"
     ]
    }
   ],
   "source": [
    "!pip install -U prettytable --user"
   ]
  },
  {
   "cell_type": "code",
   "execution_count": 74,
   "metadata": {},
   "outputs": [
    {
     "data": {
      "text/plain": [
       "WindowsPath('C:/Users/Amma/AppData/Local/Programs/Python/Python38')"
      ]
     },
     "execution_count": 74,
     "metadata": {},
     "output_type": "execute_result"
    }
   ],
   "source": [
    "pathlib.Path(sys.executable).parent"
   ]
  },
  {
   "cell_type": "code",
   "execution_count": 75,
   "metadata": {},
   "outputs": [
    {
     "name": "stdout",
     "output_type": "stream",
     "text": [
      "+-----------------------------------------------------------+--------+------------+\n",
      "| File name                                                 |   Size | Created    |\n",
      "+-----------------------------------------------------------+--------+------------+\n",
      "| LICENSE.txt                                               |  31453 | 2020-05-13 |\n",
      "| NEWS.txt                                                  | 905782 | 2020-05-13 |\n",
      "| CREDITS.txt                                               |   1903 | 2020-05-13 |\n",
      "| extend.txt                                                |   3725 | 2020-05-13 |\n",
      "| HISTORY.txt                                               |  10608 | 2020-05-13 |\n",
      "| NEWS.txt                                                  |  49286 | 2020-05-13 |\n",
      "| NEWS2x.txt                                                |  27832 | 2020-05-13 |\n",
      "| README.txt                                                |   9850 | 2020-05-13 |\n",
      "| TODO.txt                                                  |   8688 | 2020-05-13 |\n",
      "| README.txt                                                |    330 | 2020-05-13 |\n",
      "| README.txt                                                |   8967 | 2020-05-13 |\n",
      "| Grammar.txt                                               |   6860 | 2020-05-13 |\n",
      "| PatternGrammar.txt                                        |    821 | 2020-05-13 |\n",
      "| pywin32.version.txt                                       |      5 | 2020-03-11 |\n",
      "| README.txt                                                |    121 | 2020-05-13 |\n",
      "| license.txt                                               |  26423 | 2020-03-11 |\n",
      "| readme.txt                                                |   5134 | 2020-03-11 |\n",
      "| top_level.txt                                             |      9 | 2020-01-23 |\n",
      "| top_level.txt                                             |      8 | 2020-03-12 |\n",
      "| bad.txt                                                   |    153 | 2020-07-12 |\n",
      "| bars_at_ends.txt                                          |    253 | 2020-07-12 |\n",
      "| conf_py.txt                                               |    321 | 2020-07-12 |\n",
      "| fill_values.txt                                           |     18 | 2020-07-12 |\n",
      "| fixed_width_2_line.txt                                    |    100 | 2020-07-12 |\n",
      "| simple.txt                                                |    125 | 2020-07-12 |\n",
      "| simple2.txt                                               |    245 | 2020-07-12 |\n",
      "| simple3.txt                                               |    100 | 2020-07-12 |\n",
      "| simple4.txt                                               |    184 | 2020-07-12 |\n",
      "| simple5.txt                                               |    239 | 2020-07-12 |\n",
      "| space_delim_blank_lines.txt                               |    235 | 2020-07-12 |\n",
      "| ucd1p-words.txt                                           |  31252 | 2020-07-12 |\n",
      "| no_resource.txt                                           |    200 | 2020-07-12 |\n",
      "| validation.txt                                            |   5716 | 2020-07-12 |\n",
      "| spec.txt                                                  |  33385 | 2020-07-12 |\n",
      "| .hidden_file.txt                                          |     36 | 2020-07-12 |\n",
      "| unicode.txt                                               |     58 | 2020-07-12 |\n",
      "| foo.txt                                                   |      0 | 2020-07-12 |\n",
      "| validate.5.0.txt                                          |    605 | 2020-07-12 |\n",
      "| validate.5.13.txt                                         |    599 | 2020-07-12 |\n",
      "| validate.6.txt                                            |    606 | 2020-07-12 |\n",
      "| validate.txt                                              |    595 | 2020-07-12 |\n",
      "| ucds.txt                                                  |   7048 | 2020-07-12 |\n",
      "| entry_points.txt                                          |    596 | 2020-07-12 |\n",
      "| top_level.txt                                             |      8 | 2020-07-12 |\n",
      "| top_level.txt                                             |     13 | 2020-05-23 |\n",
      "| top_level.txt                                             |      5 | 2020-03-11 |\n",
      "| dependency_links.txt                                      |      1 | 2020-03-11 |\n",
      "| installed-files.txt                                       |    288 | 2020-03-11 |\n",
      "| SOURCES.txt                                               |    213 | 2020-03-11 |\n",
      "| top_level.txt                                             |      9 | 2020-03-11 |\n",
      "| vendor.txt                                                |    186 | 2020-03-11 |\n",
      "| LICENSE.txt                                               |   1084 | 2020-03-11 |\n",
      "| top_level.txt                                             |      9 | 2020-03-11 |\n",
      "| top_level.txt                                             |      7 | 2020-03-11 |\n",
      "| top_level.txt                                             |     10 | 2020-06-24 |\n",
      "| entry_points.txt                                          |    145 | 2020-06-24 |\n",
      "| top_level.txt                                             |     13 | 2020-06-24 |\n",
      "| top_level.txt                                             |      8 | 2020-03-12 |\n",
      "| entry_points.txt                                          |     60 | 2020-04-05 |\n",
      "| top_level.txt                                             |      8 | 2020-04-05 |\n",
      "| top_level.txt                                             |      6 | 2020-04-05 |\n",
      "| top_level.txt                                             |      9 | 2020-03-27 |\n",
      "| LICENSE.txt                                               |   1249 | 2020-06-26 |\n",
      "| top_level.txt                                             |      9 | 2020-06-26 |\n",
      "| entry_points.txt                                          |    123 | 2020-06-13 |\n",
      "| LICENSE.txt                                               |  10174 | 2020-06-13 |\n",
      "| top_level.txt                                             |      9 | 2020-06-13 |\n",
      "| top_level.txt                                             |      9 | 2020-06-24 |\n",
      "| top_level.txt                                             |      7 | 2020-04-09 |\n",
      "| LICENSE.txt                                               |   1309 | 2020-03-11 |\n",
      "| top_level.txt                                             |     10 | 2020-03-11 |\n",
      "| top_level.txt                                             |     11 | 2020-03-11 |\n",
      "| dependency_links.txt                                      |      1 | 2020-03-12 |\n",
      "| installed-files.txt                                       |   1532 | 2020-03-12 |\n",
      "| SOURCES.txt                                               |    629 | 2020-03-12 |\n",
      "| top_level.txt                                             |      8 | 2020-03-12 |\n",
      "| top_level.txt                                             |     11 | 2020-06-05 |\n",
      "| top_level.txt                                             |      9 | 2020-03-12 |\n",
      "| entry_points.txt                                          |     42 | 2020-04-05 |\n",
      "| top_level.txt                                             |      6 | 2020-04-05 |\n",
      "| dependency_links.txt                                      |      1 | 2020-01-23 |\n",
      "| entry_points.txt                                          |     89 | 2020-01-23 |\n",
      "| installed-files.txt                                       |  19834 | 2020-01-23 |\n",
      "| SOURCES.txt                                               |  12991 | 2020-01-23 |\n",
      "| top_level.txt                                             |     38 | 2020-01-23 |\n",
      "| top_level.txt                                             |      9 | 2020-06-24 |\n",
      "| entry_points.txt                                          |     50 | 2020-07-12 |\n",
      "| top_level.txt                                             |      8 | 2020-07-12 |\n",
      "| entry_points.txt                                          |     76 | 2020-07-09 |\n",
      "| top_level.txt                                             |      7 | 2020-07-09 |\n",
      "| top_level.txt                                             |      5 | 2020-04-05 |\n",
      "| top_level.txt                                             |     10 | 2020-07-12 |\n",
      "| COPYING.txt                                               |   1492 | 2020-06-03 |\n",
      "| entry_points.txt                                          |     46 | 2020-06-03 |\n",
      "| top_level.txt                                             |      5 | 2020-06-03 |\n",
      "| top_level.txt                                             |     29 | 2020-03-11 |\n",
      "| README.txt                                                |   1043 | 2020-06-24 |\n",
      "| test_combo.txt                                            |    923 | 2020-06-24 |\n",
      "| test_example.txt                                          |    730 | 2020-06-24 |\n",
      "| test_exampleip.txt                                        |    816 | 2020-06-24 |\n",
      "| entry_points.txt                                          |    340 | 2020-06-24 |\n",
      "| LICENSE.txt                                               |   1720 | 2020-06-24 |\n",
      "| top_level.txt                                             |      8 | 2020-06-24 |\n",
      "| top_level.txt                                             |     17 | 2020-03-11 |\n",
      "| top_level.txt                                             |     11 | 2020-03-11 |\n",
      "| README.txt                                                |    323 | 2020-03-11 |\n",
      "| README.txt                                                |   1007 | 2020-03-11 |\n",
      "| README.txt                                                |    111 | 2020-03-11 |\n",
      "| top_level.txt                                             |     13 | 2020-04-05 |\n",
      "| top_level.txt                                             |      5 | 2020-03-11 |\n",
      "| entry_points.txt                                          |     61 | 2020-04-24 |\n",
      "| top_level.txt                                             |      7 | 2020-04-24 |\n",
      "| LICENSE.txt                                               |   1527 | 2020-07-12 |\n",
      "| top_level.txt                                             |      7 | 2020-07-12 |\n",
      "| entry_points.txt                                          |     52 | 2020-03-11 |\n",
      "| top_level.txt                                             |     11 | 2020-03-11 |\n",
      "| top_level.txt                                             |      8 | 2020-03-11 |\n",
      "| entry_points.txt                                          |    205 | 2020-03-11 |\n",
      "| top_level.txt                                             |     15 | 2020-03-11 |\n",
      "| entry_points.txt                                          |     62 | 2020-03-11 |\n",
      "| top_level.txt                                             |     16 | 2020-03-11 |\n",
      "| entry_points.txt                                          |    153 | 2020-03-11 |\n",
      "| top_level.txt                                             |     21 | 2020-03-11 |\n",
      "| top_level.txt                                             |     11 | 2020-07-12 |\n",
      "| top_level.txt                                             |      9 | 2020-07-12 |\n",
      "| top_level.txt                                             |     11 | 2020-03-11 |\n",
      "| readme.txt                                                |    828 | 2020-04-09 |\n",
      "| README.txt                                                |    128 | 2020-04-09 |\n",
      "| top_level.txt                                             |     10 | 2020-07-12 |\n",
      "| top_level.txt                                             |      8 | 2020-03-11 |\n",
      "| top_level.txt                                             |     15 | 2020-05-23 |\n",
      "| entry_points.txt                                          |    152 | 2020-07-04 |\n",
      "| top_level.txt                                             |     39 | 2020-07-04 |\n",
      "| top_level.txt                                             |     16 | 2020-04-08 |\n",
      "| entry_points.txt                                          |    126 | 2020-03-11 |\n",
      "| entry_points.txt                                          |    570 | 2020-03-11 |\n",
      "| top_level.txt                                             |     10 | 2020-03-11 |\n",
      "| entry_points.txt                                          |     82 | 2020-03-11 |\n",
      "| top_level.txt                                             |      9 | 2020-03-11 |\n",
      "| LICENSE.txt                                               |   1780 | 2020-07-12 |\n",
      "| top_level.txt                                             |      9 | 2020-07-12 |\n",
      "| usage.txt                                                 |   4425 | 2020-04-04 |\n",
      "| entry_points.txt                                          |    133 | 2020-04-04 |\n",
      "| top_level.txt                                             |      5 | 2020-04-04 |\n",
      "| test_file.txt                                             |     22 | 2020-03-11 |\n",
      "| test_file.txt                                             |     22 | 2020-03-11 |\n",
      "| robots.txt                                                |     27 | 2020-03-11 |\n",
      "| entry_points.txt                                          |    237 | 2020-03-11 |\n",
      "| top_level.txt                                             |      9 | 2020-03-11 |\n",
      "| top_level.txt                                             |      6 | 2020-07-12 |\n",
      "| top_level.txt                                             |     10 | 2020-05-23 |\n",
      "| entry_points.txt                                          |     79 | 2020-07-12 |\n",
      "| top_level.txt                                             |     17 | 2020-07-12 |\n",
      "| top_level.txt                                             |      7 | 2020-06-12 |\n",
      "| dependency_links.txt                                      |      1 | 2020-03-11 |\n",
      "| installed-files.txt                                       |    126 | 2020-03-11 |\n",
      "| SOURCES.txt                                               |    180 | 2020-03-11 |\n",
      "| top_level.txt                                             |     14 | 2020-03-11 |\n",
      "| grammar27.txt                                             |   5960 | 2020-03-11 |\n",
      "| grammar33.txt                                             |   6126 | 2020-03-11 |\n",
      "| grammar34.txt                                             |   6130 | 2020-03-11 |\n",
      "| grammar35.txt                                             |   6935 | 2020-03-11 |\n",
      "| grammar36.txt                                             |   6935 | 2020-03-11 |\n",
      "| grammar37.txt                                             |   6786 | 2020-03-11 |\n",
      "| grammar38.txt                                             |   7546 | 2020-03-11 |\n",
      "| grammar39.txt                                             |   7546 | 2020-03-11 |\n",
      "| top_level.txt                                             |      6 | 2020-03-11 |\n",
      "| dependency_links.txt                                      |      1 | 2020-01-23 |\n",
      "| installed-files.txt                                       |    404 | 2020-01-23 |\n",
      "| requires.txt                                              |      7 | 2020-01-23 |\n",
      "| SOURCES.txt                                               |    291 | 2020-01-23 |\n",
      "| top_level.txt                                             |     25 | 2020-01-23 |\n",
      "| entry_points.txt                                          |     61 | 2020-07-12 |\n",
      "| top_level.txt                                             |      5 | 2020-07-12 |\n",
      "| top_level.txt                                             |     12 | 2020-03-11 |\n",
      "| top_level.txt                                             |      4 | 2020-04-24 |\n",
      "| vendor.txt                                                |    440 | 2020-05-23 |\n",
      "| entry_points.txt                                          |    125 | 2020-05-23 |\n",
      "| LICENSE.txt                                               |   1090 | 2020-05-23 |\n",
      "| top_level.txt                                             |      4 | 2020-05-23 |\n",
      "| patched.txt                                               |     73 | 2020-06-03 |\n",
      "| LICENSE.txt                                               |   1090 | 2020-06-03 |\n",
      "| appdirs.LICENSE.txt                                       |   1097 | 2020-06-03 |\n",
      "| contextlib2.LICENSE.txt                                   |   6054 | 2020-06-03 |\n",
      "| vendor.txt                                                |    421 | 2020-06-03 |\n",
      "| LICENSE.txt                                               |    553 | 2020-06-03 |\n",
      "| LICENSE.txt                                               |   1491 | 2020-06-03 |\n",
      "| LICENSE.txt                                               |  14531 | 2020-06-03 |\n",
      "| LICENSE.txt                                               |   1115 | 2020-06-03 |\n",
      "| appdirs.LICENSE.txt                                       |   1097 | 2020-06-03 |\n",
      "| contextlib2.LICENSE.txt                                   |   6054 | 2020-06-03 |\n",
      "| scandir.LICENSE.txt                                       |   1464 | 2020-06-03 |\n",
      "| semver.LICENSE.txt                                        |   1496 | 2020-06-03 |\n",
      "| vendor.txt                                                |   1203 | 2020-06-03 |\n",
      "| vendor_pip.txt                                            |    421 | 2020-06-03 |\n",
      "| LICENSE.txt                                               |   1491 | 2020-06-03 |\n",
      "| LICENSE.txt                                               |  14531 | 2020-06-03 |\n",
      "| LICENSE.txt                                               |   1052 | 2020-06-03 |\n",
      "| vendor.txt                                                |     68 | 2020-06-03 |\n",
      "| LICENSE.txt                                               |   1115 | 2020-06-03 |\n",
      "| entry_points.txt                                          |     78 | 2020-06-03 |\n",
      "| top_level.txt                                             |      7 | 2020-06-03 |\n",
      "| top_level.txt                                             |      7 | 2020-05-23 |\n",
      "| top_level.txt                                             |      4 | 2020-06-12 |\n",
      "| LICENSE.txt                                               |   2451 | 2020-06-26 |\n",
      "| top_level.txt                                             |     12 | 2020-06-26 |\n",
      "| dependency_links.txt                                      |      1 | 2020-03-11 |\n",
      "| installed-files.txt                                       |   2480 | 2020-03-11 |\n",
      "| requires.txt                                              |     19 | 2020-03-11 |\n",
      "| SOURCES.txt                                               |   1051 | 2020-03-11 |\n",
      "| top_level.txt                                             |     18 | 2020-03-11 |\n",
      "| top_level.txt                                             |     15 | 2020-06-24 |\n",
      "| top_level.txt                                             |      3 | 2020-05-23 |\n",
      "| entry_points.txt                                          |     54 | 2020-03-11 |\n",
      "| top_level.txt                                             |      9 | 2020-03-11 |\n",
      "| COPYING.txt                                               |  18261 | 2020-01-23 |\n",
      "| entry_points.txt                                          |    361 | 2020-01-23 |\n",
      "| top_level.txt                                             |     12 | 2020-01-23 |\n",
      "| top_level.txt                                             |     10 | 2020-04-09 |\n",
      "| top_level.txt                                             |     22 | 2020-06-26 |\n",
      "| top_level.txt                                             |      9 | 2020-06-26 |\n",
      "| dependency_links.txt                                      |      1 | 2020-03-11 |\n",
      "| installed-files.txt                                       |   1594 | 2020-03-11 |\n",
      "| requires.txt                                              |      4 | 2020-03-11 |\n",
      "| SOURCES.txt                                               |   1176 | 2020-03-11 |\n",
      "| top_level.txt                                             |     40 | 2020-03-11 |\n",
      "| entry_points.txt                                          |     62 | 2020-05-23 |\n",
      "| top_level.txt                                             |     15 | 2020-05-23 |\n",
      "| entry_points.txt                                          |     63 | 2020-07-05 |\n",
      "| top_level.txt                                             |     11 | 2020-07-05 |\n",
      "| license.txt                                               |   1520 | 2020-03-11 |\n",
      "| top_level.txt                                             |      9 | 2020-03-11 |\n",
      "| entry_points.txt                                          |     61 | 2020-07-03 |\n",
      "| top_level.txt                                             |      7 | 2020-07-03 |\n",
      "| VERSION.txt                                               |      6 | 2020-06-05 |\n",
      "| top_level.txt                                             |     19 | 2020-06-05 |\n",
      "| dependency_links.txt                                      |      1 | 2020-05-02 |\n",
      "| installed-files.txt                                       |    244 | 2020-05-02 |\n",
      "| SOURCES.txt                                               |    323 | 2020-05-02 |\n",
      "| top_level.txt                                             |     17 | 2020-05-02 |\n",
      "| top_level.txt                                             |      9 | 2020-06-26 |\n",
      "| top_level.txt                                             |      8 | 2020-06-26 |\n",
      "| LICENSES_bundled.txt                                      |    264 | 2020-07-12 |\n",
      "| top_level.txt                                             |      5 | 2020-07-12 |\n",
      "| top_level.txt                                             |   1303 | 2020-03-11 |\n",
      "| LICENSE.txt                                               |   1644 | 2020-01-23 |\n",
      "| top_level.txt                                             |     12 | 2020-01-23 |\n",
      "| top_level.txt                                             |     10 | 2020-07-04 |\n",
      "| LICENSE.txt                                               |   1067 | 2020-03-11 |\n",
      "| top_level.txt                                             |      7 | 2020-03-11 |\n",
      "| top_level.txt                                             |      4 | 2020-03-11 |\n",
      "| entry_points.txt                                          |     63 | 2020-03-11 |\n",
      "| top_level.txt                                             |     10 | 2020-03-11 |\n",
      "| LICENSE.txt                                               |   1112 | 2020-03-11 |\n",
      "| top_level.txt                                             |      5 | 2020-03-11 |\n",
      "| top_level.txt                                             |      6 | 2020-04-06 |\n",
      "| top_level.txt                                             |      9 | 2020-04-05 |\n",
      "| top_level.txt                                             |     11 | 2020-03-11 |\n",
      "| default_data.txt                                          |   1312 | 2020-06-05 |\n",
      "| default_data_with_attachments.txt                         |      0 | 2020-06-05 |\n",
      "| raw_data.txt                                              |   1346 | 2020-06-05 |\n",
      "| raw_data_with_attachments.txt                             |  15640 | 2020-06-05 |\n",
      "| top_level.txt                                             |      9 | 2020-06-05 |\n",
      "| dependency_links.txt                                      |    239 | 2020-05-19 |\n",
      "| entry_points.txt                                          |   3143 | 2020-05-19 |\n",
      "| top_level.txt                                             |     38 | 2020-05-19 |\n",
      "| top_level.txt                                             |     22 | 2020-07-12 |\n",
      "| dependency_links.txt                                      |      1 | 2020-04-04 |\n",
      "| installed-files.txt                                       |    262 | 2020-04-04 |\n",
      "| SOURCES.txt                                               |    286 | 2020-04-04 |\n",
      "| top_level.txt                                             |     18 | 2020-04-04 |\n",
      "| static_foo.txt                                            |     95 | 2020-03-11 |\n",
      "| robots.txt                                                |     26 | 2020-03-11 |\n",
      "| top_level.txt                                             |      8 | 2020-03-11 |\n",
      "| top_level.txt                                             |     10 | 2020-03-11 |\n",
      "| top_level.txt                                             |     23 | 2020-04-08 |\n",
      "| top_level.txt                                             |     18 | 2020-04-08 |\n",
      "| LICENSE.txt                                               |   1115 | 2020-04-05 |\n",
      "| top_level.txt                                             |      8 | 2020-04-05 |\n",
      "| entry_points.txt                                          |   1609 | 2020-06-02 |\n",
      "| top_level.txt                                             |     11 | 2020-06-02 |\n",
      "| entry_points.txt                                          |     59 | 2020-03-12 |\n",
      "| top_level.txt                                             |     16 | 2020-03-12 |\n",
      "| top_level.txt                                             |      8 | 2020-07-12 |\n",
      "| LICENSE.txt                                               |   1101 | 2020-03-11 |\n",
      "| top_level.txt                                             |      8 | 2020-03-11 |\n",
      "| top_level.txt                                             |     13 | 2020-03-11 |\n",
      "| top_level.txt                                             |      9 | 2020-04-05 |\n",
      "| entry_points.txt                                          |    108 | 2020-05-13 |\n",
      "| LICENSE.txt                                               |   1125 | 2020-05-13 |\n",
      "| top_level.txt                                             |      6 | 2020-05-13 |\n",
      "| top_level.txt                                             |     19 | 2020-03-11 |\n",
      "| license.txt                                               |   1520 | 2020-03-11 |\n",
      "| License.txt                                               |   1548 | 2020-03-11 |\n",
      "| readme.txt                                                |    718 | 2020-03-11 |\n",
      "| top_level.txt                                             |     22 | 2020-06-24 |\n",
      "| top_level.txt                                             |      5 | 2020-04-13 |\n",
      "| entry_points.txt                                          |     48 | 2020-06-29 |\n",
      "| top_level.txt                                             |     11 | 2020-06-29 |\n",
      "| AUTHORS.txt                                               |  12660 | 2020-07-12 |\n",
      "| LICENSE.txt                                               |   1817 | 2020-07-12 |\n",
      "| readme.txt                                                |    828 | 2020-07-12 |\n",
      "| README.txt                                                |    128 | 2020-07-12 |\n",
      "| namespace_packages.txt                                    |     13 | 2020-04-09 |\n",
      "| top_level.txt                                             |     30 | 2020-04-09 |\n",
      "| top_level.txt                                             |      4 | 2020-03-31 |\n",
      "| cmath_testcases.txt                                       | 146943 | 2020-05-13 |\n",
      "| exception_hierarchy.txt                                   |   1886 | 2020-05-13 |\n",
      "| floating_points.txt                                       |  17330 | 2020-05-13 |\n",
      "| formatfloat_testcases.txt                                 |   7985 | 2020-05-13 |\n",
      "| ieee754.txt                                               |   3468 | 2020-05-13 |\n",
      "| mailcap.txt                                               |   1308 | 2020-05-13 |\n",
      "| math_testcases.txt                                        |  24375 | 2020-05-13 |\n",
      "| test_doctest.txt                                          |    317 | 2020-05-13 |\n",
      "| test_doctest2.txt                                         |    406 | 2020-05-13 |\n",
      "| test_doctest3.txt                                         |     87 | 2020-05-13 |\n",
      "| test_doctest4.txt                                         |    255 | 2020-05-13 |\n",
      "| tokenize_tests-latin1-coding-cookie-and-utf8-bom-sig.txt  |    456 | 2020-05-13 |\n",
      "| tokenize_tests-no-coding-cookie-and-utf8-bom-sig-only.txt |    313 | 2020-05-13 |\n",
      "| tokenize_tests-utf8-coding-cookie-and-no-utf8-bom-sig.txt |    434 | 2020-05-13 |\n",
      "| tokenize_tests-utf8-coding-cookie-and-utf8-bom-sig.txt    |    338 | 2020-05-13 |\n",
      "| tokenize_tests.txt                                        |   2906 | 2020-05-13 |\n",
      "| big5-utf8.txt                                             |    564 | 2020-05-13 |\n",
      "| big5.txt                                                  |    432 | 2020-05-13 |\n",
      "| big5hkscs-utf8.txt                                        |     32 | 2020-05-13 |\n",
      "| big5hkscs.txt                                             |     23 | 2020-05-13 |\n",
      "| cp949-utf8.txt                                            |    478 | 2020-05-13 |\n",
      "| cp949.txt                                                 |    346 | 2020-05-13 |\n",
      "| euc_jisx0213-utf8.txt                                     |   1144 | 2020-05-13 |\n",
      "| euc_jisx0213.txt                                          |    793 | 2020-05-13 |\n",
      "| euc_jp-utf8.txt                                           |   1094 | 2020-05-13 |\n",
      "| euc_jp.txt                                                |    760 | 2020-05-13 |\n",
      "| euc_kr-utf8.txt                                           |    586 | 2020-05-13 |\n",
      "| euc_kr.txt                                                |    456 | 2020-05-13 |\n",
      "| gb18030-utf8.txt                                          |   1127 | 2020-05-13 |\n",
      "| gb18030.txt                                               |    864 | 2020-05-13 |\n",
      "| gb2312-utf8.txt                                           |    480 | 2020-05-13 |\n",
      "| gb2312.txt                                                |    324 | 2020-05-13 |\n",
      "| gbk-utf8.txt                                              |   1043 | 2020-05-13 |\n",
      "| gbk.txt                                                   |    755 | 2020-05-13 |\n",
      "| hz-utf8.txt                                               |     89 | 2020-05-13 |\n",
      "| hz.txt                                                    |     83 | 2020-05-13 |\n",
      "| iso2022_jp-utf8.txt                                       |   1094 | 2020-05-13 |\n",
      "| iso2022_jp.txt                                            |    868 | 2020-05-13 |\n",
      "| iso2022_kr-utf8.txt                                       |    563 | 2020-05-13 |\n",
      "| iso2022_kr.txt                                            |    502 | 2020-05-13 |\n",
      "| johab-utf8.txt                                            |    478 | 2020-05-13 |\n",
      "| johab.txt                                                 |    346 | 2020-05-13 |\n",
      "| shift_jis-utf8.txt                                        |   1094 | 2020-05-13 |\n",
      "| shift_jis.txt                                             |    760 | 2020-05-13 |\n",
      "| shift_jisx0213-utf8.txt                                   |   1144 | 2020-05-13 |\n",
      "| shift_jisx0213.txt                                        |    789 | 2020-05-13 |\n",
      "| README.txt                                                |   1122 | 2020-05-13 |\n",
      "| msg_01.txt                                                |    459 | 2020-05-13 |\n",
      "| msg_02.txt                                                |   2812 | 2020-05-13 |\n",
      "| msg_03.txt                                                |    366 | 2020-05-13 |\n",
      "| msg_04.txt                                                |    961 | 2020-05-13 |\n",
      "| msg_05.txt                                                |    558 | 2020-05-13 |\n",
      "| msg_06.txt                                                |   1041 | 2020-05-13 |\n",
      "| msg_07.txt                                                |   5227 | 2020-05-13 |\n",
      "| msg_08.txt                                                |    454 | 2020-05-13 |\n",
      "| msg_09.txt                                                |    432 | 2020-05-13 |\n",
      "| msg_10.txt                                                |    884 | 2020-05-13 |\n",
      "| msg_11.txt                                                |    142 | 2020-05-13 |\n",
      "| msg_12.txt                                                |    644 | 2020-05-13 |\n",
      "| msg_12a.txt                                               |    646 | 2020-05-13 |\n",
      "| msg_13.txt                                                |   5367 | 2020-05-13 |\n",
      "| msg_14.txt                                                |    641 | 2020-05-13 |\n",
      "| msg_15.txt                                                |   1306 | 2020-05-13 |\n",
      "| msg_16.txt                                                |   5203 | 2020-05-13 |\n",
      "| msg_17.txt                                                |    330 | 2020-05-13 |\n",
      "| msg_18.txt                                                |    230 | 2020-05-13 |\n",
      "| msg_19.txt                                                |    757 | 2020-05-13 |\n",
      "| msg_20.txt                                                |    507 | 2020-05-13 |\n",
      "| msg_21.txt                                                |    376 | 2020-05-13 |\n",
      "| msg_22.txt                                                |   1894 | 2020-05-13 |\n",
      "| msg_23.txt                                                |    139 | 2020-05-13 |\n",
      "| msg_24.txt                                                |    157 | 2020-05-13 |\n",
      "| msg_25.txt                                                |   5122 | 2020-05-13 |\n",
      "| msg_26.txt                                                |   2103 | 2020-05-13 |\n",
      "| msg_27.txt                                                |    578 | 2020-05-13 |\n",
      "| msg_28.txt                                                |    380 | 2020-05-13 |\n",
      "| msg_29.txt                                                |    583 | 2020-05-13 |\n",
      "| msg_30.txt                                                |    322 | 2020-05-13 |\n",
      "| msg_31.txt                                                |    200 | 2020-05-13 |\n",
      "| msg_32.txt                                                |    418 | 2020-05-13 |\n",
      "| msg_33.txt                                                |    750 | 2020-05-13 |\n",
      "| msg_34.txt                                                |    300 | 2020-05-13 |\n",
      "| msg_35.txt                                                |    136 | 2020-05-13 |\n",
      "| msg_36.txt                                                |    816 | 2020-05-13 |\n",
      "| msg_37.txt                                                |    209 | 2020-05-13 |\n",
      "| msg_38.txt                                                |   2548 | 2020-05-13 |\n",
      "| msg_39.txt                                                |   1955 | 2020-05-13 |\n",
      "| msg_40.txt                                                |    197 | 2020-05-13 |\n",
      "| msg_41.txt                                                |    185 | 2020-05-13 |\n",
      "| msg_42.txt                                                |    313 | 2020-05-13 |\n",
      "| msg_43.txt                                                |   9166 | 2020-05-13 |\n",
      "| msg_44.txt                                                |    895 | 2020-05-13 |\n",
      "| msg_45.txt                                                |    965 | 2020-05-13 |\n",
      "| msg_46.txt                                                |    816 | 2020-05-13 |\n",
      "| resource1.txt                                             |     14 | 2020-05-13 |\n",
      "| resource2.txt                                             |     14 | 2020-05-13 |\n",
      "| resource1.txt                                             |      0 | 2020-05-13 |\n",
      "| world.txt                                                 |      5 | 2020-05-13 |\n",
      "| LICENSE.txt                                               |   1780 | 2020-07-12 |\n",
      "| requirements.txt                                          |     53 | 2020-07-12 |\n",
      "| README.txt                                                |    187 | 2020-07-12 |\n",
      "| README.txt                                                |     22 | 2020-07-12 |\n",
      "| README.txt                                                |     18 | 2020-07-12 |\n",
      "| README.txt                                                |     22 | 2020-07-12 |\n",
      "| README.txt                                                |     12 | 2020-07-12 |\n",
      "| README.txt                                                |     16 | 2020-07-12 |\n",
      "| README.txt                                                |     12 | 2020-07-12 |\n",
      "| README.txt                                                |     22 | 2020-07-12 |\n",
      "| README.txt                                                |    247 | 2020-07-12 |\n",
      "| README.txt                                                |      8 | 2020-07-12 |\n",
      "| README.txt                                                |     22 | 2020-07-12 |\n",
      "| README.txt                                                |     18 | 2020-07-12 |\n",
      "| README.txt                                                |  89110 | 2020-06-29 |\n",
      "| WmDefault.txt                                             |   4324 | 2020-05-13 |\n",
      "| html40colors.txt                                          |    262 | 2020-05-13 |\n",
      "| namedcolors.txt                                           |   5816 | 2020-05-13 |\n",
      "| webcolors.txt                                             |   3229 | 2020-05-13 |\n",
      "| websafe.txt                                               |   1966 | 2020-05-13 |\n",
      "| rgb.txt                                                   |  18128 | 2020-05-13 |\n",
      "| xlicense.txt                                              |   1381 | 2020-05-13 |\n",
      "+-----------------------------------------------------------+--------+------------+\n"
     ]
    }
   ],
   "source": [
    "#!/usr/bin/env python\n",
    "\n",
    "from pathlib import Path\n",
    "import datetime\n",
    "from prettytable import PrettyTable\n",
    "import sys\n",
    "\n",
    "path = pathlib.Path(sys.executable).parent\n",
    "\n",
    "pt = PrettyTable()\n",
    "pt.field_names = [\"File name\", \"Size\", \"Created\"]\n",
    "\n",
    "pt.align[\"File name\"] = \"l\"\n",
    "pt.align[\"Size\"] = \"r\"\n",
    "pt.align[\"Created\"] = \"l\"\n",
    "\n",
    "for e in path.glob(\"**/*.txt\"):\n",
    "    created = datetime.datetime.fromtimestamp(e.stat().st_ctime)\n",
    "    size = e.stat().st_size\n",
    "    pt.add_row([e.name, size, f\"{created:%Y-%m-%d}\"])\n",
    "\n",
    "print(pt)"
   ]
  },
  {
   "cell_type": "markdown",
   "metadata": {},
   "source": [
    "### Counting files by extension"
   ]
  },
  {
   "cell_type": "code",
   "execution_count": 77,
   "metadata": {},
   "outputs": [
    {
     "name": "stdout",
     "output_type": "stream",
     "text": [
      "Counter({'.dll': 4, '.txt': 2, '.exe': 2})\n",
      ".txt: 2\n",
      ".exe: 2\n",
      ".dll: 4\n"
     ]
    }
   ],
   "source": [
    "import collections\n",
    "\n",
    "files = [path.suffix for path in path.iterdir() if path.is_file() and path.suffix]\n",
    "data = collections.Counter(files)\n",
    "\n",
    "print(data)\n",
    "\n",
    "for key, val in data.items():\n",
    "    print(f\"{key}: {val}\")"
   ]
  }
 ],
 "metadata": {
  "kernelspec": {
   "display_name": ".venv",
   "language": "python",
   "name": "python3"
  },
  "language_info": {
   "codemirror_mode": {
    "name": "ipython",
    "version": 3
   },
   "file_extension": ".py",
   "mimetype": "text/x-python",
   "name": "python",
   "nbconvert_exporter": "python",
   "pygments_lexer": "ipython3",
   "version": "3.10.4"
  }
 },
 "nbformat": 4,
 "nbformat_minor": 4
}
