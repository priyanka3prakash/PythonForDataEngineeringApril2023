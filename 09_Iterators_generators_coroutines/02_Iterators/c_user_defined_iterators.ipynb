{
 "cells": [
  {
   "cell_type": "markdown",
   "metadata": {},
   "source": [
    "## iter() protocol\n",
    "    Iterator objects\n",
    "        - iterator is an immutable, disposable and lazy object\n",
    "        - designed for builtin iterable objects\n",
    "        - can't be indexed\n",
    "        - stores the state\n",
    "        - used for large data handling\n",
    "        - values can be retrieved by\n",
    "            - .next() attribute in python 2.x\n",
    "            - next() function in python 3.x\n",
    "            - applying for loop"
   ]
  },
  {
   "cell_type": "code",
   "execution_count": 1,
   "metadata": {},
   "outputs": [
    {
     "name": "stdout",
     "output_type": "stream",
     "text": [
      "alpha       : <class 'list'> ['a', 'e', 'i', 'o', 'u']\n",
      "len(alpha)  : 5\n"
     ]
    }
   ],
   "source": [
    "alpha = [\"a\", \"e\", \"i\", \"o\", \"u\"]\n",
    "\n",
    "print(f\"alpha       : {type(alpha)} {alpha}\")\n",
    "print(f\"len(alpha)  : {len(alpha)}\")"
   ]
  },
  {
   "cell_type": "code",
   "execution_count": 2,
   "metadata": {},
   "outputs": [
    {
     "name": "stdout",
     "output_type": "stream",
     "text": [
      "alpha[2]    : i\n",
      "alpha[2:5]  : ['i', 'o', 'u']\n"
     ]
    }
   ],
   "source": [
    "# Indexing\n",
    "print(f\"alpha[2]    : {alpha[2]}\")\n",
    "\n",
    "# slicing\n",
    "print(f\"alpha[2:5]  : {alpha[2:5]}\")\n"
   ]
  },
  {
   "cell_type": "code",
   "execution_count": 5,
   "metadata": {},
   "outputs": [
    {
     "name": "stdout",
     "output_type": "stream",
     "text": [
      "alpha_it       : <class 'list_iterator'> <list_iterator object at 0x7f0fa9d78f70>\n"
     ]
    }
   ],
   "source": [
    "# Creating Iterator from a list --> List Iterator\n",
    "\n",
    "alpha_it = iter(alpha)\n",
    "print(f\"alpha_it       : {type(alpha_it)} {alpha_it}\")\n"
   ]
  },
  {
   "cell_type": "code",
   "execution_count": 7,
   "metadata": {},
   "outputs": [
    {
     "ename": "TypeError",
     "evalue": "'list_iterator' object is not subscriptable",
     "output_type": "error",
     "traceback": [
      "\u001b[0;31m---------------------------------------------------------------------------\u001b[0m",
      "\u001b[0;31mTypeError\u001b[0m                                 Traceback (most recent call last)",
      "Cell \u001b[0;32mIn[7], line 2\u001b[0m\n\u001b[1;32m      1\u001b[0m \u001b[39m# len(alpha_it)\u001b[39;00m\n\u001b[0;32m----> 2\u001b[0m alpha_it[\u001b[39m2\u001b[39;49m]\n",
      "\u001b[0;31mTypeError\u001b[0m: 'list_iterator' object is not subscriptable"
     ]
    }
   ],
   "source": [
    "# len(alpha_it)\n",
    "alpha_it[2]"
   ]
  },
  {
   "cell_type": "code",
   "execution_count": 8,
   "metadata": {},
   "outputs": [
    {
     "ename": "AttributeError",
     "evalue": "'list_iterator' object has no attribute 'append'",
     "output_type": "error",
     "traceback": [
      "\u001b[0;31m---------------------------------------------------------------------------\u001b[0m",
      "\u001b[0;31mAttributeError\u001b[0m                            Traceback (most recent call last)",
      "Cell \u001b[0;32mIn[8], line 1\u001b[0m\n\u001b[0;32m----> 1\u001b[0m alpha_it\u001b[39m.\u001b[39;49mappend(\u001b[39m12\u001b[39m)\n",
      "\u001b[0;31mAttributeError\u001b[0m: 'list_iterator' object has no attribute 'append'"
     ]
    }
   ],
   "source": [
    "alpha_it.append(12)"
   ]
  },
  {
   "cell_type": "code",
   "execution_count": 9,
   "metadata": {},
   "outputs": [
    {
     "name": "stdout",
     "output_type": "stream",
     "text": [
      "a\n",
      "e\n",
      "i\n",
      "o\n",
      "u\n"
     ]
    }
   ],
   "source": [
    "# Method 1: iterate over the object\n",
    "for ech_ele in alpha_it:\n",
    "    print(ech_ele)\n"
   ]
  },
  {
   "cell_type": "code",
   "execution_count": 10,
   "metadata": {},
   "outputs": [
    {
     "name": "stdout",
     "output_type": "stream",
     "text": [
      "list(alpha_it) []\n"
     ]
    }
   ],
   "source": [
    "# Method 2: Convert to other iterables\n",
    "print(\"list(alpha_it)\", list(alpha_it))\n"
   ]
  },
  {
   "cell_type": "code",
   "execution_count": 11,
   "metadata": {},
   "outputs": [
    {
     "name": "stdout",
     "output_type": "stream",
     "text": [
      "list(alpha_it) ['a', 'e', 'i', 'o', 'u']\n"
     ]
    }
   ],
   "source": [
    "alpha_it = iter(alpha)\n",
    "print(\"list(alpha_it)\", list(alpha_it))"
   ]
  },
  {
   "cell_type": "code",
   "execution_count": 12,
   "metadata": {},
   "outputs": [
    {
     "name": "stdout",
     "output_type": "stream",
     "text": [
      "tuple(alpha_it) ('a', 'e', 'i', 'o', 'u')\n"
     ]
    }
   ],
   "source": [
    "alpha_it = iter(alpha)\n",
    "print(\"tuple(alpha_it)\", tuple(alpha_it))"
   ]
  },
  {
   "cell_type": "code",
   "execution_count": 13,
   "metadata": {},
   "outputs": [
    {
     "name": "stdout",
     "output_type": "stream",
     "text": [
      "set(alpha_it) {'a', 'o', 'e', 'i', 'u'}\n",
      "str(alpha_it) <list_iterator object at 0x7f0fa829a6b0>\n"
     ]
    }
   ],
   "source": [
    "alpha_it = iter(alpha)\n",
    "print(\"set(alpha_it)\", set(alpha_it))\n",
    "\n",
    "alpha_it = iter(alpha)\n",
    "print(\"str(alpha_it)\", str(alpha_it))"
   ]
  },
  {
   "cell_type": "markdown",
   "metadata": {},
   "source": [
    "## Different Types of Iterators"
   ]
  },
  {
   "cell_type": "code",
   "execution_count": 14,
   "metadata": {},
   "outputs": [
    {
     "name": "stdout",
     "output_type": "stream",
     "text": [
      "<class 'list'> ['a', 'e', 'i', 'o', 'u']\n"
     ]
    }
   ],
   "source": [
    "# list to iterator -> list iterator\n",
    "\n",
    "alpha = [\"a\", \"e\", \"i\", \"o\", \"u\"]\n",
    "print(type(alpha), alpha)"
   ]
  },
  {
   "cell_type": "code",
   "execution_count": 15,
   "metadata": {},
   "outputs": [
    {
     "name": "stdout",
     "output_type": "stream",
     "text": [
      "<class 'list_iterator'> <list_iterator object at 0x7f0fa8298f70>\n"
     ]
    }
   ],
   "source": [
    "alpha_it = iter(alpha)\n",
    "print(type(alpha_it), alpha_it)"
   ]
  },
  {
   "cell_type": "code",
   "execution_count": 16,
   "metadata": {},
   "outputs": [
    {
     "name": "stdout",
     "output_type": "stream",
     "text": [
      "<class 'tuple'> ('a', 'e', 'i', 'o', 'u')\n",
      "<class 'tuple_iterator'> <tuple_iterator object at 0x7f0fa80d3340>\n"
     ]
    }
   ],
   "source": [
    "# tuple to iterator -> tuple iterator\n",
    "alpha = (\"a\", \"e\", \"i\", \"o\", \"u\")\n",
    "print(type(alpha), alpha)\n",
    "\n",
    "alpha_it = iter(alpha)\n",
    "print(type(alpha_it), alpha_it)"
   ]
  },
  {
   "cell_type": "code",
   "execution_count": 17,
   "metadata": {},
   "outputs": [
    {
     "name": "stdout",
     "output_type": "stream",
     "text": [
      "<class 'set'> {'e', 'i', 'u', 'a', 'o'}\n",
      "<class 'set_iterator'> <set_iterator object at 0x7f0fa077fac0>\n"
     ]
    }
   ],
   "source": [
    "# set to iterator -> set iterator\n",
    "alpha = {\"a\", \"e\", \"i\", \"o\", \"u\"}\n",
    "print(type(alpha), alpha)\n",
    "\n",
    "alpha_it = iter(alpha)\n",
    "print(type(alpha_it), alpha_it)  # set_iterator"
   ]
  },
  {
   "cell_type": "code",
   "execution_count": 18,
   "metadata": {},
   "outputs": [
    {
     "name": "stdout",
     "output_type": "stream",
     "text": [
      "<class 'dict'> {'a': 1, 'e': 2, 'i': 3, 'o': 4}\n",
      "<class 'dict_keyiterator'> <dict_keyiterator object at 0x7f0fa079a110>\n",
      "<class 'dict_keyiterator'> <dict_keyiterator object at 0x7f0fa0799fd0>\n",
      "<class 'dict_valueiterator'> <dict_valueiterator object at 0x7f0fa079a110>\n",
      "<class 'dict_itemiterator'> <dict_itemiterator object at 0x7f0fa0799fd0>\n"
     ]
    }
   ],
   "source": [
    "alpha = {\"a\": 1, \"e\": 2, \"i\": 3, \"o\": 4}\n",
    "print(type(alpha), alpha)\n",
    "\n",
    "alpha_it = iter(alpha)\n",
    "print(type(alpha_it), alpha_it)  # dict_keyiterator\n",
    "\n",
    "alpha_it = iter(alpha.keys())\n",
    "print(type(alpha_it), alpha_it)  # dict_keyiterator\n",
    "\n",
    "alpha_it = iter(alpha.values())\n",
    "print(type(alpha_it), alpha_it)  # dict_valueiterator\n",
    "\n",
    "alpha_it = iter(alpha.items())\n",
    "print(type(alpha_it), alpha_it)  # dict_itemiterator"
   ]
  },
  {
   "cell_type": "code",
   "execution_count": 19,
   "metadata": {},
   "outputs": [
    {
     "name": "stdout",
     "output_type": "stream",
     "text": [
      "<class 'str_iterator'> <str_iterator object at 0x7f0fa9d7a7d0>\n"
     ]
    },
    {
     "name": "stderr",
     "output_type": "stream",
     "text": [
      "Bad pipe message: %s [b'\\xe4+\\x82F\\r\\xf2w\\x9f\\xef\\xa3P\\x0c\\xe1\\xa2\\x95=\\x85\\xd1 \\xa6\\xbc\\x0ce\\x92\\xed\\xc0M1K\\xa9I\\xf1^|\\x1a9\\xff4\\xf8\\x06;T\\x83\\xa6\\xe3C+\\xdb\\xd3\\xf0\\x14\\x00\\x08\\x13\\x02\\x13\\x03\\x13\\x01\\x00\\xff\\x01\\x00\\x00\\x8f\\x00\\x00\\x00\\x0e\\x00\\x0c\\x00\\x00\\t127.0.0.1\\x00\\x0b\\x00\\x04\\x03\\x00\\x01\\x02\\x00\\n\\x00\\x0c\\x00\\n\\x00\\x1d\\x00\\x17\\x00\\x1e\\x00\\x19\\x00\\x18\\x00#\\x00\\x00\\x00\\x16\\x00\\x00\\x00\\x17\\x00\\x00\\x00\\r\\x00\\x1e\\x00\\x1c\\x04\\x03\\x05\\x03\\x06\\x03\\x08\\x07\\x08\\x08\\x08']\n",
      "Bad pipe message: %s [b'\\n\\x08\\x0b\\x08\\x04\\x08\\x05\\x08']\n",
      "Bad pipe message: %s [b'\\x01\\x05\\x01\\x06\\x01']\n",
      "Bad pipe message: %s [b'\\xf6+\\xd1cK\\xf9-\\xd4=\\x81\\xef']\n",
      "Bad pipe message: %s [b'\\xf9\\xd9\\xa09I \\x1ds\\xe7\\xbc\\x1b\\x0b>\\x08\\xa5\\xf8\\x90{{u\\x15\\xcb\\t\\x97z\\xed5\\x90\\xf8\\x16\\x1a\\xae\\x83\\xe7=\\xaf\\xfc\\x84\\x00\\x08\\x13\\x02\\x13\\x03\\x13\\x01\\x00\\xff\\x01\\x00\\x00\\x8f\\x00\\x00\\x00\\x0e\\x00\\x0c\\x00\\x00\\t127.0.0.1\\x00\\x0b\\x00\\x04\\x03\\x00\\x01\\x02\\x00\\n\\x00\\x0c\\x00\\n\\x00\\x1d\\x00\\x17\\x00\\x1e\\x00\\x19\\x00\\x18\\x00#\\x00\\x00\\x00\\x16\\x00\\x00\\x00\\x17\\x00\\x00\\x00\\r\\x00\\x1e\\x00\\x1c\\x04\\x03', b'\\x06\\x03\\x08\\x07', b'\\x08\\t\\x08\\n\\x08\\x0b\\x08']\n",
      "Bad pipe message: %s [b'\\x05\\x08\\x06']\n",
      "Bad pipe message: %s [b'\\x05\\x01\\x06', b'']\n",
      "Bad pipe message: %s [b'\\x03\\x02\\x03\\x04\\x00-\\x00\\x02\\x01\\x01\\x003\\x00&\\x00$\\x00\\x1d\\x00 \\x12g\\xbbua\\x95o\\x9a\\x88\\xfa\\x1e\\xe2\\xd1\\\\\\x8b\\x0ej\\xc98\\xbe\\x0br']\n",
      "Bad pipe message: %s [b'\\xb6\\x98O\\x15\\xad\\x1fy:t\\xbf0\\x1e9\\xc3\\xfb\\xafG\\x04\\x00\\x00|\\xc0,\\xc00\\x00\\xa3\\x00\\x9f\\xcc\\xa9\\xcc\\xa8\\xcc\\xaa\\xc0\\xaf\\xc0', b\"\\xa3\\xc0\\x9f\\xc0]\\xc0a\\xc0W\\xc0S\\xc0+\\xc0/\\x00\\xa2\\x00\\x9e\\xc0\\xae\\xc0\\xac\\xc0\\xa2\\xc0\\x9e\\xc0\\\\\\xc0`\\xc0V\\xc0R\\xc0$\\xc0(\\x00k\\x00j\\xc0#\\xc0'\\x00g\\x00@\\xc0\\n\\xc0\\x14\\x009\\x008\\xc0\\t\\xc0\\x13\\x003\\x002\\x00\\x9d\\xc0\\xa1\\xc0\\x9d\\xc0Q\\x00\\x9c\\xc0\\xa0\\xc0\\x9c\\xc0P\\x00=\\x00<\\x005\\x00/\\x00\\x9a\\x00\\x99\\xc0\\x07\\xc0\\x11\\x00\\x96\\x00\\x05\\x00\\xff\\x01\\x00\\x00j\\x00\\x00\\x00\\x0e\\x00\\x0c\\x00\\x00\\t127.0.0.1\\x00\\x0b\\x00\\x04\\x03\\x00\\x01\\x02\\x00\\n\\x00\\x0c\\x00\\n\\x00\\x1d\\x00\\x17\\x00\\x1e\\x00\\x19\\x00\\x18\\x00#\\x00\\x00\\x00\\x16\\x00\\x00\\x00\\x17\\x00\\x00\\x00\\r\\x000\\x00.\\x04\\x03\\x05\"]\n",
      "Bad pipe message: %s [b'\\x03\\x08']\n",
      "Bad pipe message: %s [b'\\x08\\x08\\t\\x08\\n\\x08']\n",
      "Bad pipe message: %s [b'\\x04\\x08\\x05\\x08\\x06\\x04\\x01\\x05\\x01\\x06']\n",
      "Bad pipe message: %s [b'', b'\\x03\\x03']\n",
      "Bad pipe message: %s [b'']\n",
      "Bad pipe message: %s [b'', b'\\x02']\n",
      "Bad pipe message: %s [b'\\x05\\x02\\x06']\n",
      "Bad pipe message: %s [b'\\x98y8\\xd95\\xd2\\xaaH\\xe3[\\xfb\\x1a|\\x04\\xff\\xaa\\x08\\xe3']\n",
      "Bad pipe message: %s [b'S\\x1c\\xdbr\\xda\\x84\\x99#f\\x184A\\xe1\\xb3\\xa7+e\\x86\\x00\\x00\\xa2\\xc0\\x14\\xc0\\n\\x009\\x008\\x007\\x006\\x00\\x88\\x00\\x87\\x00\\x86\\x00\\x85\\xc0\\x19\\x00:\\x00\\x89\\xc0\\x0f\\xc0\\x05\\x005\\x00\\x84\\xc0\\x13\\xc0\\t\\x003\\x002\\x001\\x000\\x00\\x9a\\x00\\x99\\x00\\x98\\x00\\x97\\x00E\\x00D\\x00C\\x00B\\xc0\\x18\\x004\\x00\\x9b\\x00F\\xc0\\x0e\\xc0\\x04\\x00/\\x00\\x96\\x00A\\x00\\x07\\xc0\\x11\\xc0\\x07\\xc0\\x16\\x00\\x18\\xc0\\x0c\\xc0\\x02\\x00\\x05\\x00\\x04\\xc0\\x12\\xc0\\x08\\x00\\x16\\x00\\x13\\x00\\x10\\x00\\r\\xc0\\x17\\x00\\x1b\\xc0\\r\\xc0\\x03\\x00\\n\\x00\\x15\\x00\\x12\\x00\\x0f\\x00\\x0c\\x00\\x1a\\x00\\t\\x00\\x14\\x00\\x11\\x00\\x19\\x00\\x08\\x00\\x06\\x00\\x17\\x00\\x03\\xc0\\x10\\xc0\\x06']\n",
      "Bad pipe message: %s [b'\\x85*\\xf9\\xda\\xed\\xdaD\\xde\\xb9C\\xbc\\xa9rn~\\xdd\\xe7\\xfe\\x00\\x00>\\xc0\\x14\\xc0']\n",
      "Bad pipe message: %s [b'9\\x008\\x007\\x006\\xc0\\x0f']\n",
      "Bad pipe message: %s [b\"\\x84\\rBZ\\xb7b\\n\\xb0\\x11u'\\xd6\\x86\\x10\\x88]Qx\\x00\\x00\\xa2\\xc0\\x14\\xc0\\n\\x009\\x008\\x007\\x006\\x00\\x88\\x00\\x87\\x00\\x86\\x00\\x85\\xc0\\x19\\x00:\\x00\\x89\\xc0\\x0f\\xc0\\x05\\x005\\x00\\x84\\xc0\\x13\\xc0\\t\\x003\\x002\\x001\\x000\\x00\\x9a\\x00\\x99\\x00\\x98\\x00\\x97\\x00E\\x00D\\x00C\\x00B\\xc0\\x18\\x004\\x00\\x9b\\x00F\\xc0\\x0e\\xc0\\x04\\x00/\\x00\\x96\\x00A\\x00\\x07\\xc0\\x11\\xc0\\x07\\xc0\\x16\\x00\\x18\\xc0\\x0c\\xc0\\x02\\x00\\x05\\x00\\x04\\xc0\\x12\\xc0\\x08\\x00\\x16\\x00\\x13\\x00\\x10\\x00\\r\\xc0\\x17\\x00\\x1b\\xc0\\r\\xc0\\x03\\x00\\n\\x00\\x15\\x00\\x12\\x00\\x0f\\x00\\x0c\"]\n",
      "Bad pipe message: %s [b\"\\xa4\\xf7\\x93\\x0cC\\x08\\xa3\\xe1\\xc7\\x12\\xbb+\\xf3\\x91\\x08\\xb8@\\xf0\\x00\\x00\\x86\\xc00\\xc0,\\xc0(\\xc0$\\xc0\\x14\\xc0\\n\\x00\\xa5\\x00\\xa3\\x00\\xa1\\x00\\x9f\\x00k\\x00j\\x00i\\x00h\\x009\\x008\\x007\\x006\\xc02\\xc0.\\xc0*\\xc0&\\xc0\\x0f\\xc0\\x05\\x00\\x9d\\x00=\\x005\\xc0/\\xc0+\\xc0'\\xc0#\\xc0\\x13\\xc0\\t\\x00\\xa4\\x00\\xa2\\x00\\xa0\\x00\\x9e\\x00g\\x00@\\x00?\\x00>\\x003\\x002\\x001\\x000\\xc01\\xc0-\\xc0)\\xc0%\\xc0\\x0e\\xc0\\x04\\x00\\x9c\\x00<\\x00/\\x00\\x9a\\x00\\x99\\x00\\x98\\x00\\x97\\x00\\x96\\x00\\x07\\xc0\"]\n",
      "Bad pipe message: %s [b'\\x07\\xc0\\x0c\\xc0\\x02\\x00\\x05\\x00\\x04\\x00\\xff\\x02\\x01\\x00\\x00g']\n",
      "Bad pipe message: %s [b\"\\x90\\xe28C\\x01\\xaa%J\\x1e;@\\xe3a\\x97~9\\x13\\xc8\\x00\\x00\\xf4\\xc00\\xc0,\\xc0(\\xc0$\\xc0\\x14\\xc0\\n\\x00\\xa5\\x00\\xa3\\x00\\xa1\\x00\\x9f\\x00k\\x00j\\x00i\\x00h\\x009\\x008\\x007\\x006\\x00\\x88\\x00\\x87\\x00\\x86\\x00\\x85\\xc0\\x19\\x00\\xa7\\x00m\\x00:\\x00\\x89\\xc02\\xc0.\\xc0*\\xc0&\\xc0\\x0f\\xc0\\x05\\x00\\x9d\\x00=\\x005\\x00\\x84\\xc0/\\xc0+\\xc0'\\xc0#\\xc0\\x13\\xc0\\t\\x00\\xa4\\x00\\xa2\\x00\\xa0\\x00\\x9e\\x00g\\x00@\\x00?\\x00>\\x003\\x002\\x001\\x000\\x00\\x9a\\x00\\x99\\x00\\x98\\x00\\x97\\x00E\\x00D\\x00C\\x00B\\xc0\\x18\\x00\\xa6\\x00l\\x004\\x00\\x9b\\x00F\\xc01\\xc0-\"]\n",
      "Bad pipe message: %s [b'\\xc0%\\xc0\\x0e\\xc0\\x04\\x00\\x9c\\x00<\\x00/\\x00\\x96\\x00A\\x00\\x07\\xc0\\x11\\xc0\\x07\\xc0\\x16\\x00\\x18\\xc0\\x0c\\xc0\\x02\\x00\\x05\\x00\\x04\\xc0\\x12\\xc0\\x08\\x00\\x16\\x00\\x13\\x00\\x10\\x00\\r\\xc0\\x17\\x00\\x1b\\xc0\\r\\xc0\\x03\\x00\\n\\x00\\x15\\x00\\x12\\x00\\x0f\\x00\\x0c\\x00\\x1a\\x00\\t\\x00\\x14\\x00\\x11\\x00\\x19\\x00\\x08\\x00\\x06\\x00\\x17\\x00\\x03\\xc0\\x10\\xc0\\x06\\xc0\\x15\\xc0\\x0b\\xc0\\x01\\x00;\\x00\\x02\\x00\\x01\\x00\\xff\\x02\\x01\\x00\\x00g\\x00\\x00\\x00\\x0e\\x00\\x0c\\x00\\x00\\t127.0.0.1\\x00\\x0b\\x00\\x04\\x03\\x00\\x01\\x02\\x00\\n\\x00\\x1c\\x00\\x1a\\x00\\x17\\x00\\x19\\x00\\x1c\\x00\\x1b\\x00\\x18\\x00\\x1a\\x00\\x16\\x00\\x0e\\x00\\r\\x00\\x0b\\x00\\x0c\\x00\\t\\x00\\n\\x00#\\x00\\x00\\x00\\r\\x00 \\x00\\x1e\\x06\\x01\\x06\\x02\\x06\\x03\\x05\\x01\\x05\\x02\\x05\\x03\\x04\\x01\\x04\\x02\\x04\\x03', b'\\x03\\x02', b'\\x02\\x01', b'\\x02']\n",
      "Bad pipe message: %s [b'\\x0f\\x00']\n"
     ]
    }
   ],
   "source": [
    "language = \"python\"\n",
    "\n",
    "language_it = iter(language)\n",
    "print(type(language_it), language_it)  # str_iterator"
   ]
  },
  {
   "cell_type": "code",
   "execution_count": null,
   "metadata": {},
   "outputs": [],
   "source": []
  }
 ],
 "metadata": {
  "kernelspec": {
   "display_name": "Python 3",
   "language": "python",
   "name": "python3"
  },
  "language_info": {
   "codemirror_mode": {
    "name": "ipython",
    "version": 3
   },
   "file_extension": ".py",
   "mimetype": "text/x-python",
   "name": "python",
   "nbconvert_exporter": "python",
   "pygments_lexer": "ipython3",
   "version": "3.10.4"
  },
  "orig_nbformat": 4
 },
 "nbformat": 4,
 "nbformat_minor": 2
}
