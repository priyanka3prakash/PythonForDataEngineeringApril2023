{
 "cells": [
  {
   "cell_type": "code",
   "execution_count": 1,
   "metadata": {},
   "outputs": [],
   "source": [
    "import itertools\n",
    "import string\n",
    "import random\n",
    "import operator"
   ]
  },
  {
   "cell_type": "code",
   "execution_count": 2,
   "metadata": {},
   "outputs": [
    {
     "name": "stdout",
     "output_type": "stream",
     "text": [
      "Functional tools for creating and using iterators.\n",
      "\n",
      "Infinite iterators:\n",
      "count(start=0, step=1) --> start, start+step, start+2*step, ...\n",
      "cycle(p) --> p0, p1, ... plast, p0, p1, ...\n",
      "repeat(elem [,n]) --> elem, elem, elem, ... endlessly or up to n times\n",
      "\n",
      "Iterators terminating on the shortest input sequence:\n",
      "accumulate(p[, func]) --> p0, p0+p1, p0+p1+p2\n",
      "chain(p, q, ...) --> p0, p1, ... plast, q0, q1, ...\n",
      "chain.from_iterable([p, q, ...]) --> p0, p1, ... plast, q0, q1, ...\n",
      "compress(data, selectors) --> (d[0] if s[0]), (d[1] if s[1]), ...\n",
      "dropwhile(pred, seq) --> seq[n], seq[n+1], starting when pred fails\n",
      "groupby(iterable[, keyfunc]) --> sub-iterators grouped by value of keyfunc(v)\n",
      "filterfalse(pred, seq) --> elements of seq where pred(elem) is False\n",
      "islice(seq, [start,] stop [, step]) --> elements from\n",
      "       seq[start:stop:step]\n",
      "pairwise(s) --> (s[0],s[1]), (s[1],s[2]), (s[2], s[3]), ...\n",
      "starmap(fun, seq) --> fun(*seq[0]), fun(*seq[1]), ...\n",
      "tee(it, n=2) --> (it1, it2 , ... itn) splits one iterator into n\n",
      "takewhile(pred, seq) --> seq[0], seq[1], until pred fails\n",
      "zip_longest(p, q, ...) --> (p[0], q[0]), (p[1], q[1]), ...\n",
      "\n",
      "Combinatoric generators:\n",
      "product(p, q, ... [repeat=1]) --> cartesian product\n",
      "permutations(p[, r])\n",
      "combinations(p, r)\n",
      "combinations_with_replacement(p, r)\n",
      "\n"
     ]
    }
   ],
   "source": [
    "print(itertools.__doc__)"
   ]
  },
  {
   "cell_type": "code",
   "execution_count": 3,
   "metadata": {},
   "outputs": [
    {
     "name": "stdout",
     "output_type": "stream",
     "text": [
      "Help on built-in module itertools:\n",
      "\n",
      "NAME\n",
      "    itertools - Functional tools for creating and using iterators.\n",
      "\n",
      "DESCRIPTION\n",
      "    Infinite iterators:\n",
      "    count(start=0, step=1) --> start, start+step, start+2*step, ...\n",
      "    cycle(p) --> p0, p1, ... plast, p0, p1, ...\n",
      "    repeat(elem [,n]) --> elem, elem, elem, ... endlessly or up to n times\n",
      "    \n",
      "    Iterators terminating on the shortest input sequence:\n",
      "    accumulate(p[, func]) --> p0, p0+p1, p0+p1+p2\n",
      "    chain(p, q, ...) --> p0, p1, ... plast, q0, q1, ...\n",
      "    chain.from_iterable([p, q, ...]) --> p0, p1, ... plast, q0, q1, ...\n",
      "    compress(data, selectors) --> (d[0] if s[0]), (d[1] if s[1]), ...\n",
      "    dropwhile(pred, seq) --> seq[n], seq[n+1], starting when pred fails\n",
      "    groupby(iterable[, keyfunc]) --> sub-iterators grouped by value of keyfunc(v)\n",
      "    filterfalse(pred, seq) --> elements of seq where pred(elem) is False\n",
      "    islice(seq, [start,] stop [, step]) --> elements from\n",
      "           seq[start:stop:step]\n",
      "    pairwise(s) --> (s[0],s[1]), (s[1],s[2]), (s[2], s[3]), ...\n",
      "    starmap(fun, seq) --> fun(*seq[0]), fun(*seq[1]), ...\n",
      "    tee(it, n=2) --> (it1, it2 , ... itn) splits one iterator into n\n",
      "    takewhile(pred, seq) --> seq[0], seq[1], until pred fails\n",
      "    zip_longest(p, q, ...) --> (p[0], q[0]), (p[1], q[1]), ...\n",
      "    \n",
      "    Combinatoric generators:\n",
      "    product(p, q, ... [repeat=1]) --> cartesian product\n",
      "    permutations(p[, r])\n",
      "    combinations(p, r)\n",
      "    combinations_with_replacement(p, r)\n",
      "\n",
      "CLASSES\n",
      "    builtins.object\n",
      "        accumulate\n",
      "        chain\n",
      "        combinations\n",
      "        combinations_with_replacement\n",
      "        compress\n",
      "        count\n",
      "        cycle\n",
      "        dropwhile\n",
      "        filterfalse\n",
      "        groupby\n",
      "        islice\n",
      "        pairwise\n",
      "        permutations\n",
      "        product\n",
      "        repeat\n",
      "        starmap\n",
      "        takewhile\n",
      "        zip_longest\n",
      "    \n",
      "    class accumulate(builtins.object)\n",
      "     |  accumulate(iterable, func=None, *, initial=None)\n",
      "     |  \n",
      "     |  Return series of accumulated sums (or other binary function results).\n",
      "     |  \n",
      "     |  Methods defined here:\n",
      "     |  \n",
      "     |  __getattribute__(self, name, /)\n",
      "     |      Return getattr(self, name).\n",
      "     |  \n",
      "     |  __iter__(self, /)\n",
      "     |      Implement iter(self).\n",
      "     |  \n",
      "     |  __next__(self, /)\n",
      "     |      Implement next(self).\n",
      "     |  \n",
      "     |  __reduce__(...)\n",
      "     |      Return state information for pickling.\n",
      "     |  \n",
      "     |  __setstate__(...)\n",
      "     |      Set state information for unpickling.\n",
      "     |  \n",
      "     |  ----------------------------------------------------------------------\n",
      "     |  Static methods defined here:\n",
      "     |  \n",
      "     |  __new__(*args, **kwargs) from builtins.type\n",
      "     |      Create and return a new object.  See help(type) for accurate signature.\n",
      "    \n",
      "    class chain(builtins.object)\n",
      "     |  chain(*iterables) --> chain object\n",
      "     |  \n",
      "     |  Return a chain object whose .__next__() method returns elements from the\n",
      "     |  first iterable until it is exhausted, then elements from the next\n",
      "     |  iterable, until all of the iterables are exhausted.\n",
      "     |  \n",
      "     |  Methods defined here:\n",
      "     |  \n",
      "     |  __getattribute__(self, name, /)\n",
      "     |      Return getattr(self, name).\n",
      "     |  \n",
      "     |  __iter__(self, /)\n",
      "     |      Implement iter(self).\n",
      "     |  \n",
      "     |  __next__(self, /)\n",
      "     |      Implement next(self).\n",
      "     |  \n",
      "     |  __reduce__(...)\n",
      "     |      Return state information for pickling.\n",
      "     |  \n",
      "     |  __setstate__(...)\n",
      "     |      Set state information for unpickling.\n",
      "     |  \n",
      "     |  ----------------------------------------------------------------------\n",
      "     |  Class methods defined here:\n",
      "     |  \n",
      "     |  __class_getitem__(...) from builtins.type\n",
      "     |      See PEP 585\n",
      "     |  \n",
      "     |  from_iterable(iterable, /) from builtins.type\n",
      "     |      Alternative chain() constructor taking a single iterable argument that evaluates lazily.\n",
      "     |  \n",
      "     |  ----------------------------------------------------------------------\n",
      "     |  Static methods defined here:\n",
      "     |  \n",
      "     |  __new__(*args, **kwargs) from builtins.type\n",
      "     |      Create and return a new object.  See help(type) for accurate signature.\n",
      "    \n",
      "    class combinations(builtins.object)\n",
      "     |  combinations(iterable, r)\n",
      "     |  \n",
      "     |  Return successive r-length combinations of elements in the iterable.\n",
      "     |  \n",
      "     |  combinations(range(4), 3) --> (0,1,2), (0,1,3), (0,2,3), (1,2,3)\n",
      "     |  \n",
      "     |  Methods defined here:\n",
      "     |  \n",
      "     |  __getattribute__(self, name, /)\n",
      "     |      Return getattr(self, name).\n",
      "     |  \n",
      "     |  __iter__(self, /)\n",
      "     |      Implement iter(self).\n",
      "     |  \n",
      "     |  __next__(self, /)\n",
      "     |      Implement next(self).\n",
      "     |  \n",
      "     |  __reduce__(...)\n",
      "     |      Return state information for pickling.\n",
      "     |  \n",
      "     |  __setstate__(...)\n",
      "     |      Set state information for unpickling.\n",
      "     |  \n",
      "     |  __sizeof__(...)\n",
      "     |      Returns size in memory, in bytes.\n",
      "     |  \n",
      "     |  ----------------------------------------------------------------------\n",
      "     |  Static methods defined here:\n",
      "     |  \n",
      "     |  __new__(*args, **kwargs) from builtins.type\n",
      "     |      Create and return a new object.  See help(type) for accurate signature.\n",
      "    \n",
      "    class combinations_with_replacement(builtins.object)\n",
      "     |  combinations_with_replacement(iterable, r)\n",
      "     |  \n",
      "     |  Return successive r-length combinations of elements in the iterable allowing individual elements to have successive repeats.\n",
      "     |  \n",
      "     |  combinations_with_replacement('ABC', 2) --> ('A','A'), ('A','B'), ('A','C'), ('B','B'), ('B','C'), ('C','C')\n",
      "     |  \n",
      "     |  Methods defined here:\n",
      "     |  \n",
      "     |  __getattribute__(self, name, /)\n",
      "     |      Return getattr(self, name).\n",
      "     |  \n",
      "     |  __iter__(self, /)\n",
      "     |      Implement iter(self).\n",
      "     |  \n",
      "     |  __next__(self, /)\n",
      "     |      Implement next(self).\n",
      "     |  \n",
      "     |  __reduce__(...)\n",
      "     |      Return state information for pickling.\n",
      "     |  \n",
      "     |  __setstate__(...)\n",
      "     |      Set state information for unpickling.\n",
      "     |  \n",
      "     |  __sizeof__(...)\n",
      "     |      Returns size in memory, in bytes.\n",
      "     |  \n",
      "     |  ----------------------------------------------------------------------\n",
      "     |  Static methods defined here:\n",
      "     |  \n",
      "     |  __new__(*args, **kwargs) from builtins.type\n",
      "     |      Create and return a new object.  See help(type) for accurate signature.\n",
      "    \n",
      "    class compress(builtins.object)\n",
      "     |  compress(data, selectors)\n",
      "     |  \n",
      "     |  Return data elements corresponding to true selector elements.\n",
      "     |  \n",
      "     |  Forms a shorter iterator from selected data elements using the selectors to\n",
      "     |  choose the data elements.\n",
      "     |  \n",
      "     |  Methods defined here:\n",
      "     |  \n",
      "     |  __getattribute__(self, name, /)\n",
      "     |      Return getattr(self, name).\n",
      "     |  \n",
      "     |  __iter__(self, /)\n",
      "     |      Implement iter(self).\n",
      "     |  \n",
      "     |  __next__(self, /)\n",
      "     |      Implement next(self).\n",
      "     |  \n",
      "     |  __reduce__(...)\n",
      "     |      Return state information for pickling.\n",
      "     |  \n",
      "     |  ----------------------------------------------------------------------\n",
      "     |  Static methods defined here:\n",
      "     |  \n",
      "     |  __new__(*args, **kwargs) from builtins.type\n",
      "     |      Create and return a new object.  See help(type) for accurate signature.\n",
      "    \n",
      "    class count(builtins.object)\n",
      "     |  count(start=0, step=1)\n",
      "     |  \n",
      "     |  Return a count object whose .__next__() method returns consecutive values.\n",
      "     |  \n",
      "     |  Equivalent to:\n",
      "     |      def count(firstval=0, step=1):\n",
      "     |          x = firstval\n",
      "     |          while 1:\n",
      "     |              yield x\n",
      "     |              x += step\n",
      "     |  \n",
      "     |  Methods defined here:\n",
      "     |  \n",
      "     |  __getattribute__(self, name, /)\n",
      "     |      Return getattr(self, name).\n",
      "     |  \n",
      "     |  __iter__(self, /)\n",
      "     |      Implement iter(self).\n",
      "     |  \n",
      "     |  __next__(self, /)\n",
      "     |      Implement next(self).\n",
      "     |  \n",
      "     |  __reduce__(...)\n",
      "     |      Return state information for pickling.\n",
      "     |  \n",
      "     |  __repr__(self, /)\n",
      "     |      Return repr(self).\n",
      "     |  \n",
      "     |  ----------------------------------------------------------------------\n",
      "     |  Static methods defined here:\n",
      "     |  \n",
      "     |  __new__(*args, **kwargs) from builtins.type\n",
      "     |      Create and return a new object.  See help(type) for accurate signature.\n",
      "    \n",
      "    class cycle(builtins.object)\n",
      "     |  cycle(iterable, /)\n",
      "     |  \n",
      "     |  Return elements from the iterable until it is exhausted. Then repeat the sequence indefinitely.\n",
      "     |  \n",
      "     |  Methods defined here:\n",
      "     |  \n",
      "     |  __getattribute__(self, name, /)\n",
      "     |      Return getattr(self, name).\n",
      "     |  \n",
      "     |  __iter__(self, /)\n",
      "     |      Implement iter(self).\n",
      "     |  \n",
      "     |  __next__(self, /)\n",
      "     |      Implement next(self).\n",
      "     |  \n",
      "     |  __reduce__(...)\n",
      "     |      Return state information for pickling.\n",
      "     |  \n",
      "     |  __setstate__(...)\n",
      "     |      Set state information for unpickling.\n",
      "     |  \n",
      "     |  ----------------------------------------------------------------------\n",
      "     |  Static methods defined here:\n",
      "     |  \n",
      "     |  __new__(*args, **kwargs) from builtins.type\n",
      "     |      Create and return a new object.  See help(type) for accurate signature.\n",
      "    \n",
      "    class dropwhile(builtins.object)\n",
      "     |  dropwhile(predicate, iterable, /)\n",
      "     |  \n",
      "     |  Drop items from the iterable while predicate(item) is true.\n",
      "     |  \n",
      "     |  Afterwards, return every element until the iterable is exhausted.\n",
      "     |  \n",
      "     |  Methods defined here:\n",
      "     |  \n",
      "     |  __getattribute__(self, name, /)\n",
      "     |      Return getattr(self, name).\n",
      "     |  \n",
      "     |  __iter__(self, /)\n",
      "     |      Implement iter(self).\n",
      "     |  \n",
      "     |  __next__(self, /)\n",
      "     |      Implement next(self).\n",
      "     |  \n",
      "     |  __reduce__(...)\n",
      "     |      Return state information for pickling.\n",
      "     |  \n",
      "     |  __setstate__(...)\n",
      "     |      Set state information for unpickling.\n",
      "     |  \n",
      "     |  ----------------------------------------------------------------------\n",
      "     |  Static methods defined here:\n",
      "     |  \n",
      "     |  __new__(*args, **kwargs) from builtins.type\n",
      "     |      Create and return a new object.  See help(type) for accurate signature.\n",
      "    \n",
      "    class filterfalse(builtins.object)\n",
      "     |  filterfalse(function, iterable, /)\n",
      "     |  \n",
      "     |  Return those items of iterable for which function(item) is false.\n",
      "     |  \n",
      "     |  If function is None, return the items that are false.\n",
      "     |  \n",
      "     |  Methods defined here:\n",
      "     |  \n",
      "     |  __getattribute__(self, name, /)\n",
      "     |      Return getattr(self, name).\n",
      "     |  \n",
      "     |  __iter__(self, /)\n",
      "     |      Implement iter(self).\n",
      "     |  \n",
      "     |  __next__(self, /)\n",
      "     |      Implement next(self).\n",
      "     |  \n",
      "     |  __reduce__(...)\n",
      "     |      Return state information for pickling.\n",
      "     |  \n",
      "     |  ----------------------------------------------------------------------\n",
      "     |  Static methods defined here:\n",
      "     |  \n",
      "     |  __new__(*args, **kwargs) from builtins.type\n",
      "     |      Create and return a new object.  See help(type) for accurate signature.\n",
      "    \n",
      "    class groupby(builtins.object)\n",
      "     |  groupby(iterable, key=None)\n",
      "     |  \n",
      "     |  make an iterator that returns consecutive keys and groups from the iterable\n",
      "     |  \n",
      "     |  iterable\n",
      "     |    Elements to divide into groups according to the key function.\n",
      "     |  key\n",
      "     |    A function for computing the group category for each element.\n",
      "     |    If the key function is not specified or is None, the element itself\n",
      "     |    is used for grouping.\n",
      "     |  \n",
      "     |  Methods defined here:\n",
      "     |  \n",
      "     |  __getattribute__(self, name, /)\n",
      "     |      Return getattr(self, name).\n",
      "     |  \n",
      "     |  __iter__(self, /)\n",
      "     |      Implement iter(self).\n",
      "     |  \n",
      "     |  __next__(self, /)\n",
      "     |      Implement next(self).\n",
      "     |  \n",
      "     |  __reduce__(...)\n",
      "     |      Return state information for pickling.\n",
      "     |  \n",
      "     |  __setstate__(...)\n",
      "     |      Set state information for unpickling.\n",
      "     |  \n",
      "     |  ----------------------------------------------------------------------\n",
      "     |  Static methods defined here:\n",
      "     |  \n",
      "     |  __new__(*args, **kwargs) from builtins.type\n",
      "     |      Create and return a new object.  See help(type) for accurate signature.\n",
      "    \n",
      "    class islice(builtins.object)\n",
      "     |  islice(iterable, stop) --> islice object\n",
      "     |  islice(iterable, start, stop[, step]) --> islice object\n",
      "     |  \n",
      "     |  Return an iterator whose next() method returns selected values from an\n",
      "     |  iterable.  If start is specified, will skip all preceding elements;\n",
      "     |  otherwise, start defaults to zero.  Step defaults to one.  If\n",
      "     |  specified as another value, step determines how many values are\n",
      "     |  skipped between successive calls.  Works like a slice() on a list\n",
      "     |  but returns an iterator.\n",
      "     |  \n",
      "     |  Methods defined here:\n",
      "     |  \n",
      "     |  __getattribute__(self, name, /)\n",
      "     |      Return getattr(self, name).\n",
      "     |  \n",
      "     |  __iter__(self, /)\n",
      "     |      Implement iter(self).\n",
      "     |  \n",
      "     |  __next__(self, /)\n",
      "     |      Implement next(self).\n",
      "     |  \n",
      "     |  __reduce__(...)\n",
      "     |      Return state information for pickling.\n",
      "     |  \n",
      "     |  __setstate__(...)\n",
      "     |      Set state information for unpickling.\n",
      "     |  \n",
      "     |  ----------------------------------------------------------------------\n",
      "     |  Static methods defined here:\n",
      "     |  \n",
      "     |  __new__(*args, **kwargs) from builtins.type\n",
      "     |      Create and return a new object.  See help(type) for accurate signature.\n",
      "    \n",
      "    class pairwise(builtins.object)\n",
      "     |  pairwise(iterable, /)\n",
      "     |  \n",
      "     |  Return an iterator of overlapping pairs taken from the input iterator.\n",
      "     |  \n",
      "     |  s -> (s0,s1), (s1,s2), (s2, s3), ...\n",
      "     |  \n",
      "     |  Methods defined here:\n",
      "     |  \n",
      "     |  __getattribute__(self, name, /)\n",
      "     |      Return getattr(self, name).\n",
      "     |  \n",
      "     |  __iter__(self, /)\n",
      "     |      Implement iter(self).\n",
      "     |  \n",
      "     |  __next__(self, /)\n",
      "     |      Implement next(self).\n",
      "     |  \n",
      "     |  ----------------------------------------------------------------------\n",
      "     |  Static methods defined here:\n",
      "     |  \n",
      "     |  __new__(*args, **kwargs) from builtins.type\n",
      "     |      Create and return a new object.  See help(type) for accurate signature.\n",
      "    \n",
      "    class permutations(builtins.object)\n",
      "     |  permutations(iterable, r=None)\n",
      "     |  \n",
      "     |  Return successive r-length permutations of elements in the iterable.\n",
      "     |  \n",
      "     |  permutations(range(3), 2) --> (0,1), (0,2), (1,0), (1,2), (2,0), (2,1)\n",
      "     |  \n",
      "     |  Methods defined here:\n",
      "     |  \n",
      "     |  __getattribute__(self, name, /)\n",
      "     |      Return getattr(self, name).\n",
      "     |  \n",
      "     |  __iter__(self, /)\n",
      "     |      Implement iter(self).\n",
      "     |  \n",
      "     |  __next__(self, /)\n",
      "     |      Implement next(self).\n",
      "     |  \n",
      "     |  __reduce__(...)\n",
      "     |      Return state information for pickling.\n",
      "     |  \n",
      "     |  __setstate__(...)\n",
      "     |      Set state information for unpickling.\n",
      "     |  \n",
      "     |  __sizeof__(...)\n",
      "     |      Returns size in memory, in bytes.\n",
      "     |  \n",
      "     |  ----------------------------------------------------------------------\n",
      "     |  Static methods defined here:\n",
      "     |  \n",
      "     |  __new__(*args, **kwargs) from builtins.type\n",
      "     |      Create and return a new object.  See help(type) for accurate signature.\n",
      "    \n",
      "    class product(builtins.object)\n",
      "     |  product(*iterables, repeat=1) --> product object\n",
      "     |  \n",
      "     |  Cartesian product of input iterables.  Equivalent to nested for-loops.\n",
      "     |  \n",
      "     |  For example, product(A, B) returns the same as:  ((x,y) for x in A for y in B).\n",
      "     |  The leftmost iterators are in the outermost for-loop, so the output tuples\n",
      "     |  cycle in a manner similar to an odometer (with the rightmost element changing\n",
      "     |  on every iteration).\n",
      "     |  \n",
      "     |  To compute the product of an iterable with itself, specify the number\n",
      "     |  of repetitions with the optional repeat keyword argument. For example,\n",
      "     |  product(A, repeat=4) means the same as product(A, A, A, A).\n",
      "     |  \n",
      "     |  product('ab', range(3)) --> ('a',0) ('a',1) ('a',2) ('b',0) ('b',1) ('b',2)\n",
      "     |  product((0,1), (0,1), (0,1)) --> (0,0,0) (0,0,1) (0,1,0) (0,1,1) (1,0,0) ...\n",
      "     |  \n",
      "     |  Methods defined here:\n",
      "     |  \n",
      "     |  __getattribute__(self, name, /)\n",
      "     |      Return getattr(self, name).\n",
      "     |  \n",
      "     |  __iter__(self, /)\n",
      "     |      Implement iter(self).\n",
      "     |  \n",
      "     |  __next__(self, /)\n",
      "     |      Implement next(self).\n",
      "     |  \n",
      "     |  __reduce__(...)\n",
      "     |      Return state information for pickling.\n",
      "     |  \n",
      "     |  __setstate__(...)\n",
      "     |      Set state information for unpickling.\n",
      "     |  \n",
      "     |  __sizeof__(...)\n",
      "     |      Returns size in memory, in bytes.\n",
      "     |  \n",
      "     |  ----------------------------------------------------------------------\n",
      "     |  Static methods defined here:\n",
      "     |  \n",
      "     |  __new__(*args, **kwargs) from builtins.type\n",
      "     |      Create and return a new object.  See help(type) for accurate signature.\n",
      "    \n",
      "    class repeat(builtins.object)\n",
      "     |  repeat(object [,times]) -> create an iterator which returns the object\n",
      "     |  for the specified number of times.  If not specified, returns the object\n",
      "     |  endlessly.\n",
      "     |  \n",
      "     |  Methods defined here:\n",
      "     |  \n",
      "     |  __getattribute__(self, name, /)\n",
      "     |      Return getattr(self, name).\n",
      "     |  \n",
      "     |  __iter__(self, /)\n",
      "     |      Implement iter(self).\n",
      "     |  \n",
      "     |  __length_hint__(...)\n",
      "     |      Private method returning an estimate of len(list(it)).\n",
      "     |  \n",
      "     |  __next__(self, /)\n",
      "     |      Implement next(self).\n",
      "     |  \n",
      "     |  __reduce__(...)\n",
      "     |      Return state information for pickling.\n",
      "     |  \n",
      "     |  __repr__(self, /)\n",
      "     |      Return repr(self).\n",
      "     |  \n",
      "     |  ----------------------------------------------------------------------\n",
      "     |  Static methods defined here:\n",
      "     |  \n",
      "     |  __new__(*args, **kwargs) from builtins.type\n",
      "     |      Create and return a new object.  See help(type) for accurate signature.\n",
      "    \n",
      "    class starmap(builtins.object)\n",
      "     |  starmap(function, iterable, /)\n",
      "     |  \n",
      "     |  Return an iterator whose values are returned from the function evaluated with an argument tuple taken from the given sequence.\n",
      "     |  \n",
      "     |  Methods defined here:\n",
      "     |  \n",
      "     |  __getattribute__(self, name, /)\n",
      "     |      Return getattr(self, name).\n",
      "     |  \n",
      "     |  __iter__(self, /)\n",
      "     |      Implement iter(self).\n",
      "     |  \n",
      "     |  __next__(self, /)\n",
      "     |      Implement next(self).\n",
      "     |  \n",
      "     |  __reduce__(...)\n",
      "     |      Return state information for pickling.\n",
      "     |  \n",
      "     |  ----------------------------------------------------------------------\n",
      "     |  Static methods defined here:\n",
      "     |  \n",
      "     |  __new__(*args, **kwargs) from builtins.type\n",
      "     |      Create and return a new object.  See help(type) for accurate signature.\n",
      "    \n",
      "    class takewhile(builtins.object)\n",
      "     |  takewhile(predicate, iterable, /)\n",
      "     |  \n",
      "     |  Return successive entries from an iterable as long as the predicate evaluates to true for each entry.\n",
      "     |  \n",
      "     |  Methods defined here:\n",
      "     |  \n",
      "     |  __getattribute__(self, name, /)\n",
      "     |      Return getattr(self, name).\n",
      "     |  \n",
      "     |  __iter__(self, /)\n",
      "     |      Implement iter(self).\n",
      "     |  \n",
      "     |  __next__(self, /)\n",
      "     |      Implement next(self).\n",
      "     |  \n",
      "     |  __reduce__(...)\n",
      "     |      Return state information for pickling.\n",
      "     |  \n",
      "     |  __setstate__(...)\n",
      "     |      Set state information for unpickling.\n",
      "     |  \n",
      "     |  ----------------------------------------------------------------------\n",
      "     |  Static methods defined here:\n",
      "     |  \n",
      "     |  __new__(*args, **kwargs) from builtins.type\n",
      "     |      Create and return a new object.  See help(type) for accurate signature.\n",
      "    \n",
      "    class zip_longest(builtins.object)\n",
      "     |  zip_longest(iter1 [,iter2 [...]], [fillvalue=None]) --> zip_longest object\n",
      "     |  \n",
      "     |  Return a zip_longest object whose .__next__() method returns a tuple where\n",
      "     |  the i-th element comes from the i-th iterable argument.  The .__next__()\n",
      "     |  method continues until the longest iterable in the argument sequence\n",
      "     |  is exhausted and then it raises StopIteration.  When the shorter iterables\n",
      "     |  are exhausted, the fillvalue is substituted in their place.  The fillvalue\n",
      "     |  defaults to None or can be specified by a keyword argument.\n",
      "     |  \n",
      "     |  Methods defined here:\n",
      "     |  \n",
      "     |  __getattribute__(self, name, /)\n",
      "     |      Return getattr(self, name).\n",
      "     |  \n",
      "     |  __iter__(self, /)\n",
      "     |      Implement iter(self).\n",
      "     |  \n",
      "     |  __next__(self, /)\n",
      "     |      Implement next(self).\n",
      "     |  \n",
      "     |  __reduce__(...)\n",
      "     |      Return state information for pickling.\n",
      "     |  \n",
      "     |  __setstate__(...)\n",
      "     |      Set state information for unpickling.\n",
      "     |  \n",
      "     |  ----------------------------------------------------------------------\n",
      "     |  Static methods defined here:\n",
      "     |  \n",
      "     |  __new__(*args, **kwargs) from builtins.type\n",
      "     |      Create and return a new object.  See help(type) for accurate signature.\n",
      "\n",
      "FUNCTIONS\n",
      "    tee(iterable, n=2, /)\n",
      "        Returns a tuple of n independent iterators.\n",
      "\n",
      "FILE\n",
      "    (built-in)\n",
      "\n",
      "\n"
     ]
    }
   ],
   "source": [
    "help(itertools)"
   ]
  },
  {
   "cell_type": "code",
   "execution_count": 4,
   "metadata": {},
   "outputs": [
    {
     "name": "stdout",
     "output_type": "stream",
     "text": [
      "['__doc__', '__loader__', '__name__', '__package__', '__spec__', '_grouper', '_tee', '_tee_dataobject', 'accumulate', 'chain', 'combinations', 'combinations_with_replacement', 'compress', 'count', 'cycle', 'dropwhile', 'filterfalse', 'groupby', 'islice', 'pairwise', 'permutations', 'product', 'repeat', 'starmap', 'takewhile', 'tee', 'zip_longest']\n"
     ]
    }
   ],
   "source": [
    "print(dir(itertools))"
   ]
  },
  {
   "cell_type": "markdown",
   "metadata": {},
   "source": [
    "## Itertools.accumulate\n",
    "    - Helps in performing mathematical operations ( cummulative sum) with a sequence and return the results.\n"
   ]
  },
  {
   "cell_type": "code",
   "execution_count": 5,
   "metadata": {},
   "outputs": [
    {
     "name": "stdout",
     "output_type": "stream",
     "text": [
      "0 1 2 3 4 5 6 7 8 9 "
     ]
    }
   ],
   "source": [
    "for item in range(10):\n",
    "    print(item, end=\" \")"
   ]
  },
  {
   "cell_type": "code",
   "execution_count": 6,
   "metadata": {},
   "outputs": [
    {
     "name": "stdout",
     "output_type": "stream",
     "text": [
      "0 1 3 6 10 15 21 28 36 45 "
     ]
    }
   ],
   "source": [
    "for item in itertools.accumulate(range(10)):\n",
    "    print(item, end=\" \")"
   ]
  },
  {
   "cell_type": "code",
   "execution_count": 7,
   "metadata": {},
   "outputs": [
    {
     "name": "stdout",
     "output_type": "stream",
     "text": [
      "0 1 3 6 10 15 21 28 36 45 "
     ]
    }
   ],
   "source": [
    "for item in itertools.accumulate(range(10), operator.add):\n",
    "    print(item, end=\" \")"
   ]
  },
  {
   "cell_type": "code",
   "execution_count": 8,
   "metadata": {},
   "outputs": [
    {
     "name": "stdout",
     "output_type": "stream",
     "text": [
      "0 0 0 0 0 0 0 0 0 0 "
     ]
    }
   ],
   "source": [
    "for item in itertools.accumulate(range(10), operator.mul):\n",
    "    print(item, end=\" \")"
   ]
  },
  {
   "cell_type": "code",
   "execution_count": 9,
   "metadata": {},
   "outputs": [
    {
     "name": "stdout",
     "output_type": "stream",
     "text": [
      "1 2 6 24 120 720 5040 40320 362880 "
     ]
    }
   ],
   "source": [
    "for item in itertools.accumulate(range(1, 10), operator.mul):\n",
    "    print(item, end=\" \")"
   ]
  },
  {
   "cell_type": "markdown",
   "metadata": {},
   "source": [
    "## Itertools.permutations"
   ]
  },
  {
   "cell_type": "code",
   "execution_count": 10,
   "metadata": {},
   "outputs": [
    {
     "data": {
      "text/plain": [
       "[('A',)]"
      ]
     },
     "execution_count": 10,
     "metadata": {},
     "output_type": "execute_result"
    }
   ],
   "source": [
    "list(itertools.permutations(\"A\"))"
   ]
  },
  {
   "cell_type": "code",
   "execution_count": 11,
   "metadata": {},
   "outputs": [
    {
     "data": {
      "text/plain": [
       "[('A', 'B'), ('B', 'A')]"
      ]
     },
     "execution_count": 11,
     "metadata": {},
     "output_type": "execute_result"
    }
   ],
   "source": [
    "list(itertools.permutations(\"AB\"))"
   ]
  },
  {
   "cell_type": "code",
   "execution_count": 12,
   "metadata": {},
   "outputs": [
    {
     "data": {
      "text/plain": [
       "[('A', 'B', 'B'),\n",
       " ('A', 'B', 'B'),\n",
       " ('B', 'A', 'B'),\n",
       " ('B', 'B', 'A'),\n",
       " ('B', 'A', 'B'),\n",
       " ('B', 'B', 'A')]"
      ]
     },
     "execution_count": 12,
     "metadata": {},
     "output_type": "execute_result"
    }
   ],
   "source": [
    "list(itertools.permutations(\"ABB\"))"
   ]
  },
  {
   "cell_type": "markdown",
   "metadata": {},
   "source": [
    "Return successive r-length permutations of elements in the iterable.\n"
   ]
  },
  {
   "cell_type": "code",
   "execution_count": 13,
   "metadata": {},
   "outputs": [
    {
     "data": {
      "text/plain": [
       "[('A',)]"
      ]
     },
     "execution_count": 13,
     "metadata": {},
     "output_type": "execute_result"
    }
   ],
   "source": [
    "list(itertools.permutations(\"A\", r=1))"
   ]
  },
  {
   "cell_type": "code",
   "execution_count": 14,
   "metadata": {},
   "outputs": [
    {
     "data": {
      "text/plain": [
       "[('A',), ('B',)]"
      ]
     },
     "execution_count": 14,
     "metadata": {},
     "output_type": "execute_result"
    }
   ],
   "source": [
    "list(itertools.permutations(\"AB\", r=1))"
   ]
  },
  {
   "cell_type": "code",
   "execution_count": 15,
   "metadata": {},
   "outputs": [
    {
     "data": {
      "text/plain": [
       "[('A', 'B'), ('B', 'A')]"
      ]
     },
     "execution_count": 15,
     "metadata": {},
     "output_type": "execute_result"
    }
   ],
   "source": [
    "list(itertools.permutations(\"AB\", r=2))"
   ]
  },
  {
   "cell_type": "code",
   "execution_count": 16,
   "metadata": {},
   "outputs": [
    {
     "data": {
      "text/plain": [
       "[('1', '2', '3'),\n",
       " ('1', '3', '2'),\n",
       " ('2', '1', '3'),\n",
       " ('2', '3', '1'),\n",
       " ('3', '1', '2'),\n",
       " ('3', '2', '1')]"
      ]
     },
     "execution_count": 16,
     "metadata": {},
     "output_type": "execute_result"
    }
   ],
   "source": [
    "list(itertools.permutations(\"123\", r=None))"
   ]
  },
  {
   "cell_type": "code",
   "execution_count": 17,
   "metadata": {},
   "outputs": [
    {
     "data": {
      "text/plain": [
       "[('1', '2', '3'),\n",
       " ('1', '3', '2'),\n",
       " ('2', '1', '3'),\n",
       " ('2', '3', '1'),\n",
       " ('3', '1', '2'),\n",
       " ('3', '2', '1')]"
      ]
     },
     "execution_count": 17,
     "metadata": {},
     "output_type": "execute_result"
    }
   ],
   "source": [
    "list(itertools.permutations(\"123\", r=3))"
   ]
  },
  {
   "cell_type": "code",
   "execution_count": 18,
   "metadata": {},
   "outputs": [
    {
     "data": {
      "text/plain": [
       "[('1', '2'), ('1', '3'), ('2', '1'), ('2', '3'), ('3', '1'), ('3', '2')]"
      ]
     },
     "execution_count": 18,
     "metadata": {},
     "output_type": "execute_result"
    }
   ],
   "source": [
    "list(\n",
    "    itertools.permutations(\"123\", r=2)\n",
    ")  # `r` should be less than or equal to length of iterable"
   ]
  },
  {
   "cell_type": "markdown",
   "metadata": {},
   "source": [
    "## Itertools.combinations\n",
    "    - If items in sequence are sorted, than combination will be sorted as well.\n",
    "    - If items in sequence are unique, than combination data will not contain any duplicate combination."
   ]
  },
  {
   "cell_type": "code",
   "execution_count": 19,
   "metadata": {},
   "outputs": [
    {
     "data": {
      "text/plain": [
       "[]"
      ]
     },
     "execution_count": 19,
     "metadata": {},
     "output_type": "execute_result"
    }
   ],
   "source": [
    "list(itertools.combinations(\"A\", 2))"
   ]
  },
  {
   "cell_type": "code",
   "execution_count": 20,
   "metadata": {},
   "outputs": [
    {
     "data": {
      "text/plain": [
       "[('A', 'B')]"
      ]
     },
     "execution_count": 20,
     "metadata": {},
     "output_type": "execute_result"
    }
   ],
   "source": [
    "list(itertools.combinations(\"AB\", 2))"
   ]
  },
  {
   "cell_type": "code",
   "execution_count": 21,
   "metadata": {},
   "outputs": [
    {
     "data": {
      "text/plain": [
       "[('A', 'B'), ('A', 'C'), ('B', 'C')]"
      ]
     },
     "execution_count": 21,
     "metadata": {},
     "output_type": "execute_result"
    }
   ],
   "source": [
    "list(itertools.combinations(\"ABC\", 2))"
   ]
  },
  {
   "cell_type": "code",
   "execution_count": 22,
   "metadata": {},
   "outputs": [
    {
     "data": {
      "text/plain": [
       "[('A', 'B', 'C')]"
      ]
     },
     "execution_count": 22,
     "metadata": {},
     "output_type": "execute_result"
    }
   ],
   "source": [
    "list(itertools.combinations(\"ABC\", 3))"
   ]
  },
  {
   "cell_type": "code",
   "execution_count": 23,
   "metadata": {},
   "outputs": [
    {
     "data": {
      "text/plain": [
       "[('A', 'B'), ('A', 'C'), ('A', 'B'), ('B', 'C'), ('B', 'B'), ('C', 'B')]"
      ]
     },
     "execution_count": 23,
     "metadata": {},
     "output_type": "execute_result"
    }
   ],
   "source": [
    "list(itertools.combinations(\"ABCB\", 2))  # duplicates"
   ]
  },
  {
   "cell_type": "code",
   "execution_count": 24,
   "metadata": {},
   "outputs": [
    {
     "data": {
      "text/plain": [
       "[('A',), ('B',), ('C',), ('D',), ('D',), ('C',), ('B',)]"
      ]
     },
     "execution_count": 24,
     "metadata": {},
     "output_type": "execute_result"
    }
   ],
   "source": [
    "list(itertools.combinations(\"ABCDDCB\", 1))"
   ]
  },
  {
   "cell_type": "code",
   "execution_count": 25,
   "metadata": {},
   "outputs": [
    {
     "data": {
      "text/plain": [
       "[()]"
      ]
     },
     "execution_count": 25,
     "metadata": {},
     "output_type": "execute_result"
    }
   ],
   "source": [
    "list(itertools.combinations(\"ABCDDCB\", 0))"
   ]
  },
  {
   "cell_type": "code",
   "execution_count": 26,
   "metadata": {},
   "outputs": [
    {
     "data": {
      "text/plain": [
       "['aei', 'aeo', 'aeu', 'aio', 'aiu', 'aou', 'eio', 'eiu', 'eou', 'iou']"
      ]
     },
     "execution_count": 26,
     "metadata": {},
     "output_type": "execute_result"
    }
   ],
   "source": [
    "# Creating three letter words from english vowels\n",
    "[\"\".join(each) for each in itertools.combinations(\"aeiou\", 3)]"
   ]
  },
  {
   "cell_type": "markdown",
   "metadata": {},
   "source": [
    "## Itertools.combinations_with_replacement"
   ]
  },
  {
   "cell_type": "code",
   "execution_count": 27,
   "metadata": {},
   "outputs": [
    {
     "data": {
      "text/plain": [
       "[]"
      ]
     },
     "execution_count": 27,
     "metadata": {},
     "output_type": "execute_result"
    }
   ],
   "source": [
    "list(itertools.combinations(\"A\", 2))"
   ]
  },
  {
   "cell_type": "code",
   "execution_count": 28,
   "metadata": {},
   "outputs": [
    {
     "data": {
      "text/plain": [
       "[('A', 'A')]"
      ]
     },
     "execution_count": 28,
     "metadata": {},
     "output_type": "execute_result"
    }
   ],
   "source": [
    "list(itertools.combinations_with_replacement(\"A\", 2))"
   ]
  },
  {
   "cell_type": "code",
   "execution_count": 29,
   "metadata": {},
   "outputs": [
    {
     "data": {
      "text/plain": [
       "[('A', 'B')]"
      ]
     },
     "execution_count": 29,
     "metadata": {},
     "output_type": "execute_result"
    }
   ],
   "source": [
    "list(itertools.combinations(\"AB\", 2))"
   ]
  },
  {
   "cell_type": "code",
   "execution_count": 30,
   "metadata": {},
   "outputs": [
    {
     "data": {
      "text/plain": [
       "[('A', 'A'), ('A', 'B'), ('B', 'B')]"
      ]
     },
     "execution_count": 30,
     "metadata": {},
     "output_type": "execute_result"
    }
   ],
   "source": [
    "list(itertools.combinations_with_replacement(\"AB\", 2))"
   ]
  },
  {
   "cell_type": "code",
   "execution_count": 31,
   "metadata": {},
   "outputs": [
    {
     "data": {
      "text/plain": [
       "[('A', 'A'), ('A', 'A'), ('A', 'A')]"
      ]
     },
     "execution_count": 31,
     "metadata": {},
     "output_type": "execute_result"
    }
   ],
   "source": [
    "list(\n",
    "    itertools.combinations(\"AAA\", 2)\n",
    ")  # Duplicates in data will result in duplicates in combinations"
   ]
  },
  {
   "cell_type": "code",
   "execution_count": 32,
   "metadata": {},
   "outputs": [
    {
     "data": {
      "text/plain": [
       "[('A', 'A'), ('A', 'A'), ('A', 'A'), ('A', 'A'), ('A', 'A'), ('A', 'A')]"
      ]
     },
     "execution_count": 32,
     "metadata": {},
     "output_type": "execute_result"
    }
   ],
   "source": [
    "list(itertools.combinations_with_replacement(\"AAA\", 2))"
   ]
  },
  {
   "cell_type": "code",
   "execution_count": 33,
   "metadata": {},
   "outputs": [
    {
     "name": "stdout",
     "output_type": "stream",
     "text": [
      "['aaa', 'aae', 'aai', 'aao', 'aau', 'aee', 'aei', 'aeo', 'aeu', 'aii', 'aio', 'aiu', 'aoo', 'aou', 'auu', 'eee', 'eei', 'eeo', 'eeu', 'eii', 'eio', 'eiu', 'eoo', 'eou', 'euu', 'iii', 'iio', 'iiu', 'ioo', 'iou', 'iuu', 'ooo', 'oou', 'ouu', 'uuu']\n"
     ]
    },
    {
     "name": "stderr",
     "output_type": "stream",
     "text": [
      "Bad pipe message: %s [b'TH\\xbdD\\xb2\\xdc\\x9ak\\x9ed\\xff3j\\x91']\n",
      "Bad pipe message: %s [b'2\\x8d \\x14\\xb5\\xe2\\xe2\\xd8\\xea}\\x9d\\xd1\\x14\\xb2(+\\xbf\\xdc+\\xc6\\xe4/\\x831O\\xf1Tp\\xfe\\xc8b\\x1c\\xa7\\x8e~\\x00\\x08\\x13\\x02\\x13\\x03\\x13\\x01\\x00\\xff\\x01\\x00\\x00\\x8f\\x00\\x00\\x00\\x0e\\x00\\x0c\\x00\\x00\\t127.0.0.1\\x00\\x0b\\x00\\x04\\x03\\x00\\x01\\x02\\x00\\n\\x00\\x0c\\x00\\n\\x00\\x1d\\x00\\x17\\x00\\x1e\\x00\\x19\\x00\\x18\\x00#\\x00\\x00\\x00\\x16\\x00\\x00\\x00\\x17\\x00\\x00\\x00\\r\\x00\\x1e\\x00\\x1c\\x04\\x03\\x05\\x03\\x06\\x03\\x08\\x07\\x08\\x08\\x08', b'\\n\\x08\\x0b\\x08\\x04\\x08\\x05\\x08']\n",
      "Bad pipe message: %s [b'\\x01\\x05\\x01\\x06\\x01']\n",
      "Bad pipe message: %s [b'\\xca\\x13\\x1fk\\x16\\xb7\\xf4+\"\\xddc\\xa9i\\x1f\\xbb\\xff8T\\x00\\x00|\\xc0,\\xc00\\x00\\xa3\\x00\\x9f\\xcc\\xa9\\xcc\\xa8\\xcc\\xaa\\xc0\\xaf\\xc0\\xad\\xc0\\xa3\\xc0\\x9f\\xc0]\\xc0a\\xc0W\\xc0S\\xc0+\\xc0/\\x00\\xa2\\x00\\x9e\\xc0\\xae\\xc0\\xac\\xc0\\xa2\\xc0\\x9e\\xc0\\\\\\xc0`\\xc0V\\xc0R\\xc0$\\xc0(\\x00k\\x00j\\xc0#\\xc0\\'\\x00g\\x00@\\xc0\\n\\xc0\\x14\\x009\\x008\\xc0\\t\\xc0\\x13\\x003\\x002\\x00\\x9d\\xc0\\xa1\\xc0\\x9d\\xc0Q\\x00\\x9c\\xc0\\xa0\\xc0\\x9c\\xc0P\\x00=\\x00<\\x005\\x00/\\x00\\x9a\\x00\\x99\\xc0\\x07\\xc0\\x11']\n",
      "Bad pipe message: %s [b\"\\xb6\\xb2\\x88\\xd4w\\x07\\x07\\xc7\\xdd\\xcd\\xfb\\x1d[0\\x98U U\\x00\\x00\\xa6\\xc0,\\xc00\\x00\\xa3\\x00\\x9f\\xcc\\xa9\\xcc\\xa8\\xcc\\xaa\\xc0\\xaf\\xc0\\xad\\xc0\\xa3\\xc0\\x9f\\xc0]\\xc0a\\xc0W\\xc0S\\xc0+\\xc0/\\x00\\xa2\\x00\\x9e\\xc0\\xae\\xc0\\xac\\xc0\\xa2\\xc0\\x9e\\xc0\\\\\\xc0`\\xc0V\\xc0R\\xc0$\\xc0(\\x00k\\x00j\\xc0s\\xc0w\\x00\\xc4\\x00\\xc3\\xc0#\\xc0'\\x00g\\x00@\\xc0r\\xc0v\\x00\\xbe\\x00\\xbd\\xc0\\n\\xc0\\x14\\x009\\x008\\x00\\x88\\x00\\x87\\xc0\\t\\xc0\\x13\\x003\\x002\\x00\\x9a\\x00\\x99\\x00E\\x00D\\xc0\\x07\\xc0\\x11\\xc0\\x08\\xc0\\x12\\x00\\x16\\x00\\x13\\x00\\x9d\\xc0\\xa1\\xc0\\x9d\\xc0Q\\x00\\x9c\\xc0\\xa0\\xc0\\x9c\\xc0P\\x00=\"]\n",
      "Bad pipe message: %s [b'\\x02tY\\xef\\x7f\\r\\x183j\\x9c\\x0c6\\xbeGNTE\\x85\\x00\\x00>\\xc0\\x14\\xc0\\n\\x009\\x008\\x007\\x006\\xc0\\x0f\\xc0\\x05\\x005\\xc0\\x13\\xc0\\t\\x003\\x002\\x001\\x000\\xc0\\x0e\\xc0\\x04\\x00/\\x00\\x9a\\x00\\x99\\x00\\x98\\x00\\x97\\x00\\x96\\x00\\x07\\xc0\\x11\\xc0\\x07\\xc0\\x0c\\xc0\\x02\\x00\\x05\\x00\\x04\\x00\\xff\\x02\\x01\\x00\\x00C\\x00\\x00\\x00\\x0e\\x00\\x0c\\x00\\x00\\t127.', b'0.1\\x00\\x0b\\x00\\x04\\x03\\x00\\x01\\x02\\x00\\n\\x00\\x1c\\x00\\x1a\\x00\\x17\\x00\\x19\\x00\\x1c\\x00\\x1b\\x00\\x18\\x00\\x1a\\x00\\x16\\x00\\x0e\\x00\\r\\x00\\x0b\\x00\\x0c\\x00\\t\\x00\\n\\x00#\\x00\\x00']\n",
      "Bad pipe message: %s [b'\\xad\\xf7t>\\xda2\\xb6\\x17\\x97\\x08,n\\xfb\\xdc;\\x7f\\x0eE\\x00\\x00\\xa2\\xc0\\x14\\xc0\\n\\x009\\x008\\x00', b'6\\x00\\x88\\x00\\x87\\x00\\x86\\x00\\x85\\xc0\\x19\\x00:\\x00\\x89\\xc0\\x0f\\xc0\\x05\\x005\\x00\\x84\\xc0\\x13\\xc0\\t\\x003\\x002\\x001\\x000\\x00\\x9a\\x00\\x99\\x00\\x98\\x00\\x97\\x00E\\x00D\\x00C\\x00B\\xc0\\x18\\x00']\n",
      "Bad pipe message: %s [b'\\x9b\\x00F\\xc0\\x0e\\xc0\\x04\\x00/\\x00\\x96\\x00A\\x00\\x07\\xc0\\x11\\xc0\\x07\\xc0\\x16\\x00\\x18\\xc0\\x0c\\xc0\\x02\\x00\\x05\\x00\\x04\\xc0\\x12\\xc0\\x08\\x00\\x16\\x00\\x13\\x00\\x10\\x00\\r\\xc0\\x17\\x00\\x1b\\xc0\\r\\xc0\\x03']\n",
      "Bad pipe message: %s [b'\\x7f\\x14\\xfd\\xbc\\xa2\\x00\\xd1\\xf7f<\\xa7\\x9d\\x98D*\\xb6\\xff]\\x00\\x00\\xa2\\xc0\\x14\\xc0\\n\\x009\\x008\\x007\\x006\\x00\\x88\\x00\\x87\\x00\\x86\\x00\\x85\\xc0\\x19\\x00:\\x00\\x89\\xc0\\x0f\\xc0\\x05\\x005\\x00\\x84\\xc0\\x13\\xc0\\t\\x003\\x002\\x001\\x000\\x00\\x9a\\x00\\x99\\x00\\x98\\x00\\x97\\x00E\\x00D\\x00C\\x00B\\xc0\\x18\\x004\\x00\\x9b\\x00F\\xc0\\x0e\\xc0\\x04\\x00/\\x00\\x96\\x00A\\x00\\x07\\xc0\\x11\\xc0\\x07\\xc0\\x16\\x00\\x18\\xc0\\x0c\\xc0\\x02\\x00\\x05\\x00\\x04\\xc0\\x12\\xc0\\x08\\x00\\x16\\x00\\x13\\x00\\x10\\x00\\r\\xc0\\x17\\x00\\x1b\\xc0\\r']\n",
      "Bad pipe message: %s [b'o\\xd9\\xa4\\xcc\\x00\\x123\\x16\\xab\\x03T\\x8a\\xbd\\xd6\\xff\\xba\\x9d\\x8a\\x00\\x00\\xa2\\xc0\\x14\\xc0\\n\\x009\\x008\\x007\\x006\\x00\\x88\\x00\\x87\\x00\\x86\\x00\\x85\\xc0\\x19\\x00:\\x00\\x89\\xc0\\x0f\\xc0\\x05\\x005\\x00\\x84\\xc0\\x13\\xc0\\t\\x00']\n",
      "Bad pipe message: %s [b'2\\x001\\x000\\x00\\x9a\\x00\\x99\\x00\\x98\\x00\\x97\\x00E\\x00D\\x00C\\x00B\\xc0\\x18\\x004\\x00\\x9b\\x00F\\xc0\\x0e\\xc0\\x04\\x00/\\x00\\x96\\x00A\\x00\\x07\\xc0\\x11\\xc0\\x07\\xc0\\x16\\x00\\x18\\xc0']\n",
      "Bad pipe message: %s [b'\\x02\\x00\\x05\\x00\\x04\\xc0\\x12\\xc0\\x08\\x00\\x16']\n",
      "Bad pipe message: %s [b'\\xe7\\xd3qR\\xea\\xf6\\xa3\\xb5\\xd4', b\"\\xb9\\x99Lb\\xd5m_\\x00\\x00\\x86\\xc00\\xc0,\\xc0(\\xc0$\\xc0\\x14\\xc0\\n\\x00\\xa5\\x00\\xa3\\x00\\xa1\\x00\\x9f\\x00k\\x00j\\x00i\\x00h\\x009\\x008\\x007\\x006\\xc02\\xc0.\\xc0*\\xc0&\\xc0\\x0f\\xc0\\x05\\x00\\x9d\\x00=\\x005\\xc0/\\xc0+\\xc0'\\xc0#\\xc0\\x13\\xc0\\t\\x00\\xa4\\x00\\xa2\\x00\\xa0\\x00\\x9e\\x00g\\x00@\\x00?\\x00>\\x003\\x002\\x001\\x000\\xc01\\xc0-\\xc0)\\xc0%\\xc0\\x0e\\xc0\\x04\\x00\\x9c\\x00<\\x00/\\x00\\x9a\\x00\\x99\\x00\\x98\\x00\\x97\\x00\\x96\\x00\\x07\\xc0\\x11\\xc0\\x07\\xc0\\x0c\\xc0\\x02\\x00\\x05\\x00\\x04\\x00\\xff\\x02\\x01\\x00\\x00g\\x00\\x00\\x00\\x0e\\x00\\x0c\\x00\\x00\\t127.0.0.1\\x00\\x0b\\x00\\x04\\x03\\x00\\x01\\x02\\x00\\n\\x00\\x1c\\x00\\x1a\\x00\\x17\\x00\\x19\\x00\\x1c\\x00\\x1b\\x00\\x18\\x00\\x1a\\x00\\x16\\x00\\x0e\\x00\\r\\x00\\x0b\\x00\\x0c\\x00\\t\\x00\\n\\x00#\\x00\\x00\\x00\"]\n",
      "Bad pipe message: %s [b' \\x00\\x1e\\x06\\x01\\x06\\x02\\x06\\x03\\x05\\x01\\x05']\n",
      "Bad pipe message: %s [b'\\x03', b'\\x04\\x02\\x04', b'\\x01\\x03', b'\\x03', b'\\x02', b'\\x03']\n",
      "Bad pipe message: %s [b\"BBg\\xfc\\xca\\xf7\\xe1\\x84\\xd2\\xe6\\xa2\\xad.\\xa1\\x81\\xde>\\x87\\x00\\x00\\xf4\\xc00\\xc0,\\xc0(\\xc0$\\xc0\\x14\\xc0\\n\\x00\\xa5\\x00\\xa3\\x00\\xa1\\x00\\x9f\\x00k\\x00j\\x00i\\x00h\\x009\\x008\\x007\\x006\\x00\\x88\\x00\\x87\\x00\\x86\\x00\\x85\\xc0\\x19\\x00\\xa7\\x00m\\x00:\\x00\\x89\\xc02\\xc0.\\xc0*\\xc0&\\xc0\\x0f\\xc0\\x05\\x00\\x9d\\x00=\\x005\\x00\\x84\\xc0/\\xc0+\\xc0'\\xc0#\\xc0\\x13\\xc0\\t\\x00\\xa4\\x00\\xa2\\x00\\xa0\\x00\\x9e\\x00g\\x00@\\x00?\\x00>\\x003\\x002\\x001\\x000\\x00\\x9a\\x00\\x99\\x00\\x98\\x00\\x97\\x00E\\x00D\\x00C\\x00B\\xc0\\x18\\x00\\xa6\\x00l\\x004\\x00\\x9b\\x00F\\xc01\\xc0-\\xc0)\\xc0%\\xc0\\x0e\\xc0\\x04\\x00\\x9c\\x00<\\x00/\\x00\\x96\\x00A\\x00\\x07\\xc0\\x11\\xc0\\x07\\xc0\\x16\\x00\\x18\\xc0\\x0c\\xc0\\x02\\x00\\x05\\x00\\x04\\xc0\\x12\\xc0\\x08\\x00\\x16\\x00\\x13\\x00\", b'\\r\\xc0\\x17\\x00\\x1b\\xc0\\r\\xc0\\x03\\x00\\n\\x00\\x15\\x00\\x12']\n"
     ]
    }
   ],
   "source": [
    "# Creating three letter words from english vowels\n",
    "print([\"\".join(each) for each in itertools.combinations_with_replacement(\"aeiou\", 3)])"
   ]
  },
  {
   "cell_type": "markdown",
   "metadata": {},
   "source": [
    "## Itertools.compress\n",
    "- It can help to get multiple selected elements, with their indices, at once"
   ]
  },
  {
   "cell_type": "code",
   "execution_count": 34,
   "metadata": {},
   "outputs": [
    {
     "data": {
      "text/plain": [
       "['a', 'd', 'e']"
      ]
     },
     "execution_count": 34,
     "metadata": {},
     "output_type": "execute_result"
    }
   ],
   "source": [
    "list(\n",
    "    itertools.compress(\n",
    "        [\"a\", \"b\", \"c\", \"d\", \"e\", \"f\"], [True, False, False, True, True, False]\n",
    "    )\n",
    ")"
   ]
  },
  {
   "cell_type": "code",
   "execution_count": 35,
   "metadata": {},
   "outputs": [
    {
     "data": {
      "text/plain": [
       "['b', 'c', 'd', 'e', 'f']"
      ]
     },
     "execution_count": 35,
     "metadata": {},
     "output_type": "execute_result"
    }
   ],
   "source": [
    "list(itertools.compress([\"a\", \"b\", \"c\", \"d\", \"e\", \"f\"], [0, 1, 1, 1, 1, 1, 1]))"
   ]
  },
  {
   "cell_type": "code",
   "execution_count": 36,
   "metadata": {},
   "outputs": [
    {
     "data": {
      "text/plain": [
       "['a', 'p']"
      ]
     },
     "execution_count": 36,
     "metadata": {},
     "output_type": "execute_result"
    }
   ],
   "source": [
    "list(itertools.compress(\"apple\", \"00\"))  # ['0', '0' ]"
   ]
  },
  {
   "cell_type": "code",
   "execution_count": 37,
   "metadata": {},
   "outputs": [
    {
     "data": {
      "text/plain": [
       "[]"
      ]
     },
     "execution_count": 37,
     "metadata": {},
     "output_type": "execute_result"
    }
   ],
   "source": [
    "list(itertools.compress(\"apple\", (0, 0)))"
   ]
  },
  {
   "cell_type": "markdown",
   "metadata": {},
   "source": [
    "## Itertools.groupby"
   ]
  },
  {
   "cell_type": "code",
   "execution_count": 38,
   "metadata": {},
   "outputs": [
    {
     "data": {
      "text/plain": [
       "'abcdefghijklmnopqrstuvwxyz'"
      ]
     },
     "execution_count": 38,
     "metadata": {},
     "output_type": "execute_result"
    }
   ],
   "source": [
    "string.ascii_lowercase"
   ]
  },
  {
   "cell_type": "code",
   "execution_count": 39,
   "metadata": {},
   "outputs": [
    {
     "name": "stdout",
     "output_type": "stream",
     "text": [
      "['f', 'f', 'h', 'n', 'h', 's', 'j', 'b', 'c', 'g', 'j', 'f', 'h', 'm', 'i', 't', 'e', 'r', 'z', 'w']\n"
     ]
    }
   ],
   "source": [
    "x = random.choices(string.ascii_lowercase, k=20)\n",
    "print(x)"
   ]
  },
  {
   "cell_type": "code",
   "execution_count": 40,
   "metadata": {},
   "outputs": [
    {
     "name": "stdout",
     "output_type": "stream",
     "text": [
      "['b', 'c', 'e', 'f', 'f', 'f', 'g', 'h', 'h', 'h', 'i', 'j', 'j', 'm', 'n', 'r', 's', 't', 'w', 'z']\n"
     ]
    }
   ],
   "source": [
    "x = sorted(x)\n",
    "print(x)"
   ]
  },
  {
   "cell_type": "markdown",
   "metadata": {},
   "source": [
    "__NOTE:__ To use groupby, first the elements need to be sorted"
   ]
  },
  {
   "cell_type": "code",
   "execution_count": 41,
   "metadata": {},
   "outputs": [
    {
     "name": "stdout",
     "output_type": "stream",
     "text": [
      "key: b, group:['b']\n",
      "key: c, group:['c']\n",
      "key: e, group:['e']\n",
      "key: f, group:['f', 'f', 'f']\n",
      "key: g, group:['g']\n",
      "key: h, group:['h', 'h', 'h']\n",
      "key: i, group:['i']\n",
      "key: j, group:['j', 'j']\n",
      "key: m, group:['m']\n",
      "key: n, group:['n']\n",
      "key: r, group:['r']\n",
      "key: s, group:['s']\n",
      "key: t, group:['t']\n",
      "key: w, group:['w']\n",
      "key: z, group:['z']\n"
     ]
    }
   ],
   "source": [
    "for key, group in itertools.groupby(x):\n",
    "    print(f\"key: {key}, group:{list(group)}\")"
   ]
  },
  {
   "cell_type": "code",
   "execution_count": 42,
   "metadata": {},
   "outputs": [
    {
     "name": "stdout",
     "output_type": "stream",
     "text": [
      "ABC ==> [('213123123123', 'ABC')] \n",
      "BCD ==> [('45345453453453', 'BCD'), ('999999999999', 'BCD')] \n",
      "EFG ==> [('4354534534534', 'EFG')] \n",
      "FGH ==> [('45345453453453', 'FGH')] \n",
      "ABC ==> [('3243242344324343', 'ABC')] \n",
      "DEF ==> [('5555577777777', 'DEF')] \n"
     ]
    }
   ],
   "source": [
    "data = [\n",
    "    (\"213123123123\", \"ABC\"),\n",
    "    (\"45345453453453\", \"BCD\"),\n",
    "    (\"999999999999\", \"BCD\"),\n",
    "    (\"4354534534534\", \"EFG\"),\n",
    "    (\"45345453453453\", \"FGH\"),\n",
    "    (\"3243242344324343\", \"ABC\"),\n",
    "    (\"5555577777777\", \"DEF\"),\n",
    "]\n",
    "\n",
    "\n",
    "for key, group in itertools.groupby(data, key=lambda x: x[1]):\n",
    "    print(f\"{key} ==> {list(group)} \")"
   ]
  },
  {
   "cell_type": "markdown",
   "metadata": {},
   "source": [
    "__NOTE:__ Notice that keys are duplicated. This is because of the data is unsorted"
   ]
  },
  {
   "cell_type": "code",
   "execution_count": 43,
   "metadata": {},
   "outputs": [
    {
     "data": {
      "text/plain": [
       "[('213123123123', 'ABC'),\n",
       " ('3243242344324343', 'ABC'),\n",
       " ('45345453453453', 'BCD'),\n",
       " ('999999999999', 'BCD'),\n",
       " ('5555577777777', 'DEF'),\n",
       " ('4354534534534', 'EFG'),\n",
       " ('45345453453453', 'FGH')]"
      ]
     },
     "execution_count": 43,
     "metadata": {},
     "output_type": "execute_result"
    }
   ],
   "source": [
    "data = sorted(data, key=lambda x: x[1])\n",
    "data"
   ]
  },
  {
   "cell_type": "code",
   "execution_count": 44,
   "metadata": {},
   "outputs": [
    {
     "name": "stdout",
     "output_type": "stream",
     "text": [
      "ABC ==> [('213123123123', 'ABC'), ('3243242344324343', 'ABC')] \n",
      "BCD ==> [('45345453453453', 'BCD'), ('999999999999', 'BCD')] \n",
      "DEF ==> [('5555577777777', 'DEF')] \n",
      "EFG ==> [('4354534534534', 'EFG')] \n",
      "FGH ==> [('45345453453453', 'FGH')] \n"
     ]
    }
   ],
   "source": [
    "for key, group in itertools.groupby(data, key=lambda x: x[1]):\n",
    "    print(f\"{key} ==> {list(group)} \")"
   ]
  },
  {
   "cell_type": "code",
   "execution_count": 45,
   "metadata": {},
   "outputs": [],
   "source": [
    "# Ex: group by the even and odd\n",
    "\n",
    "\n",
    "def check_even(n):\n",
    "    if n % 2:\n",
    "        return \"odd\"\n",
    "    return \"even\"\n",
    "\n",
    "\n",
    "def grouper(iterable):\n",
    "    iterable = sorted(iterable, key=check_even)\n",
    "    print(iterable)\n",
    "\n",
    "    for key, group in itertools.groupby(iterable, key=check_even):\n",
    "        print(f\"{key} ===> {list(group)}\")"
   ]
  },
  {
   "cell_type": "code",
   "execution_count": 46,
   "metadata": {},
   "outputs": [
    {
     "name": "stdout",
     "output_type": "stream",
     "text": [
      "[3, 48, 6, 39, 33]\n"
     ]
    }
   ],
   "source": [
    "x = random.sample(range(1, 50), 5)\n",
    "print(x)"
   ]
  },
  {
   "cell_type": "code",
   "execution_count": 47,
   "metadata": {},
   "outputs": [
    {
     "name": "stdout",
     "output_type": "stream",
     "text": [
      "[48, 6, 3, 39, 33]\n",
      "even ===> [48, 6]\n",
      "odd ===> [3, 39, 33]\n"
     ]
    }
   ],
   "source": [
    "grouper(x)"
   ]
  },
  {
   "cell_type": "markdown",
   "metadata": {},
   "source": [
    "## Itertools.count\n",
    "- Infinite iterator that counts up from initialized value"
   ]
  },
  {
   "cell_type": "code",
   "execution_count": 48,
   "metadata": {},
   "outputs": [
    {
     "name": "stdout",
     "output_type": "stream",
     "text": [
      "count(10)\n"
     ]
    }
   ],
   "source": [
    "x = itertools.count(10)\n",
    "print(x)"
   ]
  },
  {
   "cell_type": "code",
   "execution_count": 49,
   "metadata": {},
   "outputs": [
    {
     "data": {
      "text/plain": [
       "itertools.count"
      ]
     },
     "execution_count": 49,
     "metadata": {},
     "output_type": "execute_result"
    }
   ],
   "source": [
    "type(x)"
   ]
  },
  {
   "cell_type": "code",
   "execution_count": 50,
   "metadata": {},
   "outputs": [
    {
     "name": "stdout",
     "output_type": "stream",
     "text": [
      "10,11,12,13,14,15,16,17,18,19,20,21,22,23,24,25,26,27,28,29,30,31,32,33,34,35,36,37,38,39,"
     ]
    }
   ],
   "source": [
    "i = 0\n",
    "while i < 30:\n",
    "    print(next(x), end=\",\")\n",
    "    i += 1"
   ]
  },
  {
   "cell_type": "code",
   "execution_count": 51,
   "metadata": {},
   "outputs": [
    {
     "name": "stdout",
     "output_type": "stream",
     "text": [
      "3,4,5,6,7,8,9,10,11,12,13,14,15,16,17,18,19,20,21,22,23,24,25,26,27,28,29,30,31,32,"
     ]
    }
   ],
   "source": [
    "x = itertools.count(3)\n",
    "i = 0\n",
    "while i < 30:\n",
    "    print(next(x), end=\",\")\n",
    "    i += 1"
   ]
  },
  {
   "cell_type": "code",
   "execution_count": 52,
   "metadata": {},
   "outputs": [
    {
     "name": "stdout",
     "output_type": "stream",
     "text": [
      "3,5,7,9,11,13,15,17,19,21,23,25,27,29,31,33,35,37,39,41,43,45,47,49,51,53,55,57,59,61,63,65,67,69,71,73,75,77,79,81,"
     ]
    }
   ],
   "source": [
    "x = itertools.count(3, 2)  # (initial_value, step)\n",
    "i = 0\n",
    "while i < 40:\n",
    "    print(next(x), end=\",\")\n",
    "    i += 1"
   ]
  },
  {
   "cell_type": "code",
   "execution_count": 53,
   "metadata": {},
   "outputs": [
    {
     "name": "stdout",
     "output_type": "stream",
     "text": [
      "3,8,13,18,23,28,33,38,43,48,53,58,63,68,73,78,83,88,93,98,103,108,113,118,123,128,133,138,143,148,"
     ]
    }
   ],
   "source": [
    "x = itertools.count(3, 5)  # (initial_value, step)\n",
    "i = 0\n",
    "while i < 30:\n",
    "    print(next(x), end=\",\")\n",
    "    i += 1"
   ]
  },
  {
   "cell_type": "code",
   "execution_count": 54,
   "metadata": {},
   "outputs": [
    {
     "name": "stdout",
     "output_type": "stream",
     "text": [
      "3,2,1,0,-1,-2,-3,-4,-5,-6,-7,-8,-9,-10,-11,-12,-13,-14,-15,-16,-17,-18,-19,-20,-21,-22,-23,-24,-25,-26,"
     ]
    }
   ],
   "source": [
    "# count down\n",
    "x = itertools.count(3, -1)  # (initial_value, step)\n",
    "i = 0\n",
    "while i < 30:\n",
    "    print(next(x), end=\",\")\n",
    "    i += 1"
   ]
  },
  {
   "cell_type": "markdown",
   "metadata": {},
   "source": [
    "## Itertools.islice"
   ]
  },
  {
   "cell_type": "code",
   "execution_count": 55,
   "metadata": {},
   "outputs": [
    {
     "name": "stdout",
     "output_type": "stream",
     "text": [
      "0,1,2,3,4,"
     ]
    }
   ],
   "source": [
    "for i in itertools.islice(range(10), 5):\n",
    "    print(i, end=\",\")"
   ]
  },
  {
   "cell_type": "code",
   "execution_count": 56,
   "metadata": {},
   "outputs": [
    {
     "name": "stdout",
     "output_type": "stream",
     "text": [
      "10,9,8,7,6,5,4,3,2,1,0,-1,-2,-3,-4,"
     ]
    }
   ],
   "source": [
    "for i in itertools.islice(itertools.count(10, -1), 15):\n",
    "    print(i, end=\",\")"
   ]
  },
  {
   "cell_type": "code",
   "execution_count": 57,
   "metadata": {},
   "outputs": [
    {
     "data": {
      "text/plain": [
       "[10, 9, 8, 7, 6, 5, 4, 3, 2, 1, 0, -1, -2, -3, -4]"
      ]
     },
     "execution_count": 57,
     "metadata": {},
     "output_type": "execute_result"
    }
   ],
   "source": [
    "list(itertools.islice(itertools.count(10, -1), 15))"
   ]
  },
  {
   "cell_type": "code",
   "execution_count": 59,
   "metadata": {},
   "outputs": [
    {
     "data": {
      "text/plain": [
       "[5, 4, 3, 2, 1]"
      ]
     },
     "execution_count": 59,
     "metadata": {},
     "output_type": "execute_result"
    }
   ],
   "source": [
    "list(itertools.islice(itertools.count(10, -1), 5, 10))  # start, end"
   ]
  },
  {
   "cell_type": "code",
   "execution_count": 60,
   "metadata": {},
   "outputs": [
    {
     "data": {
      "text/plain": [
       "[5, 3, 1]"
      ]
     },
     "execution_count": 60,
     "metadata": {},
     "output_type": "execute_result"
    }
   ],
   "source": [
    "list(itertools.islice(itertools.count(10, -1), 5, 10, 2))  # start, end, step"
   ]
  },
  {
   "cell_type": "markdown",
   "metadata": {},
   "source": [
    "## Itertools.cycle() \n",
    "    - infinitely iterates over a python\n",
    "    - iterables, unless we explicitly break out of the loop."
   ]
  },
  {
   "cell_type": "code",
   "execution_count": 61,
   "metadata": {},
   "outputs": [
    {
     "name": "stdout",
     "output_type": "stream",
     "text": [
      "Head Tail Head Tail Head Tail Head Tail "
     ]
    }
   ],
   "source": [
    "c = 0\n",
    "for i in itertools.cycle([\"Head\", \"Tail\"]):\n",
    "    if c > 7:\n",
    "        break\n",
    "    print(i, end=\" \")\n",
    "    c += 1"
   ]
  },
  {
   "cell_type": "code",
   "execution_count": 62,
   "metadata": {},
   "outputs": [
    {
     "name": "stdout",
     "output_type": "stream",
     "text": [
      "Head Tail Head Tail Head Tail Head Tail "
     ]
    }
   ],
   "source": [
    "for c, i in enumerate(itertools.cycle([\"Head\", \"Tail\"])):\n",
    "    if c > 7:\n",
    "        break\n",
    "    print(i, end=\" \")"
   ]
  },
  {
   "cell_type": "code",
   "execution_count": 63,
   "metadata": {},
   "outputs": [
    {
     "data": {
      "text/plain": [
       "['Head',\n",
       " 'Tail',\n",
       " 'Head',\n",
       " 'Tail',\n",
       " 'Head',\n",
       " 'Tail',\n",
       " 'Head',\n",
       " 'Tail',\n",
       " 'Head',\n",
       " 'Tail']"
      ]
     },
     "execution_count": 63,
     "metadata": {},
     "output_type": "execute_result"
    }
   ],
   "source": [
    "list(itertools.islice(itertools.cycle([\"Head\", \"Tail\"]), 10))"
   ]
  },
  {
   "cell_type": "markdown",
   "metadata": {},
   "source": [
    "## Itertools.repeat() \n",
    "    - This one repeats an object infinitely\n",
    "    - unless explicitly broken out of."
   ]
  },
  {
   "cell_type": "code",
   "execution_count": 64,
   "metadata": {},
   "outputs": [
    {
     "name": "stdout",
     "output_type": "stream",
     "text": [
      "[1, 2, 3]\n",
      "[1, 2, 3]\n",
      "[1, 2, 3]\n",
      "[1, 2, 3]\n",
      "[1, 2, 3]\n",
      "[1, 2, 3]\n",
      "[1, 2, 3]\n",
      "[1, 2, 3]\n"
     ]
    }
   ],
   "source": [
    "c = 0\n",
    "for i in itertools.repeat([1, 2, 3]):\n",
    "    if c > 7:\n",
    "        break\n",
    "    print(i)\n",
    "    c += 1\n",
    "\n",
    "# We can also specify the number of times we want\n",
    "# it to repeat, as a second argument."
   ]
  },
  {
   "cell_type": "code",
   "execution_count": 65,
   "metadata": {},
   "outputs": [
    {
     "name": "stdout",
     "output_type": "stream",
     "text": [
      "\n",
      "\n",
      "itertools.repeat\n",
      "[1, 2, 3]\n",
      "[1, 2, 3]\n",
      "[1, 2, 3]\n",
      "[1, 2, 3]\n"
     ]
    }
   ],
   "source": [
    "print(\"\\n\\nitertools.repeat\")\n",
    "for i in itertools.repeat([1, 2, 3], 4):\n",
    "    print(i)"
   ]
  },
  {
   "cell_type": "code",
   "execution_count": 66,
   "metadata": {},
   "outputs": [
    {
     "data": {
      "text/plain": [
       "[[1, 2, 3], [1, 2, 3], [1, 2, 3]]"
      ]
     },
     "execution_count": 66,
     "metadata": {},
     "output_type": "execute_result"
    }
   ],
   "source": [
    "list(itertools.islice(itertools.repeat([1, 2, 3]), 3))"
   ]
  },
  {
   "cell_type": "markdown",
   "metadata": {},
   "source": [
    "## Itertools.chain"
   ]
  },
  {
   "cell_type": "code",
   "execution_count": 67,
   "metadata": {},
   "outputs": [
    {
     "name": "stdout",
     "output_type": "stream",
     "text": [
      " \n",
      "    x  =<list_iterator object at 0x7f41c04b07c0>\n",
      "    y  =<tuple_iterator object at 0x7f41c04b0760>\n",
      "    z  =<set_iterator object at 0x7f41c049dbc0>\n",
      "    d  =<dict_keyiterator object at 0x7f41c4625210>\n",
      "    d2 =<dict_itemiterator object at 0x7f41c04aac50>\n",
      "\n"
     ]
    }
   ],
   "source": [
    "x = iter([1, 2, 3, 4])\n",
    "y = iter((5, 6, 7, 8, 9))\n",
    "z = iter({10, 11})\n",
    "d = iter({\"a\": 1, \"b\": 2, \"c\": 3})\n",
    "d2 = iter({\"a\": 1, \"b\": 2, \"c\": 3}.items())\n",
    "\n",
    "print(\n",
    "    f\"\"\" \n",
    "    {x  =}\n",
    "    {y  =}\n",
    "    {z  =}\n",
    "    {d  =}\n",
    "    {d2 =}\n",
    "\"\"\"\n",
    ")"
   ]
  },
  {
   "cell_type": "code",
   "execution_count": 68,
   "metadata": {},
   "outputs": [
    {
     "name": "stdout",
     "output_type": "stream",
     "text": [
      "unsupported operand type(s) for +: 'list_iterator' and 'tuple_iterator'\n"
     ]
    }
   ],
   "source": [
    "try:\n",
    "    x + y\n",
    "except TypeError as ex:\n",
    "    print(ex)"
   ]
  },
  {
   "cell_type": "code",
   "execution_count": 69,
   "metadata": {},
   "outputs": [
    {
     "name": "stdout",
     "output_type": "stream",
     "text": [
      "unsupported operand type(s) for +: 'list_iterator' and 'list_iterator'\n"
     ]
    }
   ],
   "source": [
    "try:\n",
    "    x + x\n",
    "except TypeError as ex:\n",
    "    print(ex)"
   ]
  },
  {
   "cell_type": "code",
   "execution_count": 70,
   "metadata": {},
   "outputs": [
    {
     "data": {
      "text/plain": [
       "[1, 2, 3, 4, 5, 6, 7, 8, 9, 10, 11]"
      ]
     },
     "execution_count": 70,
     "metadata": {},
     "output_type": "execute_result"
    }
   ],
   "source": [
    "list(itertools.chain(x, y, z))"
   ]
  },
  {
   "cell_type": "code",
   "execution_count": 71,
   "metadata": {},
   "outputs": [
    {
     "data": {
      "text/plain": [
       "[<list_iterator at 0x7f41c04b18d0>, <tuple_iterator at 0x7f41c04b0160>]"
      ]
     },
     "execution_count": 71,
     "metadata": {},
     "output_type": "execute_result"
    }
   ],
   "source": [
    "x = iter([1, 2, 3, 4])\n",
    "y = iter((5, 6, 7, 8, 9))\n",
    "z = [x, y]\n",
    "z"
   ]
  },
  {
   "cell_type": "code",
   "execution_count": 72,
   "metadata": {},
   "outputs": [
    {
     "data": {
      "text/plain": [
       "[<list_iterator at 0x7f41c04b18d0>, <tuple_iterator at 0x7f41c04b0160>]"
      ]
     },
     "execution_count": 72,
     "metadata": {},
     "output_type": "execute_result"
    }
   ],
   "source": [
    "list(itertools.chain(z))  # Limitation"
   ]
  },
  {
   "cell_type": "code",
   "execution_count": 73,
   "metadata": {},
   "outputs": [
    {
     "data": {
      "text/plain": [
       "[1, 2, 3, 4, 5, 6, 7, 8, 9]"
      ]
     },
     "execution_count": 73,
     "metadata": {},
     "output_type": "execute_result"
    }
   ],
   "source": [
    "list(itertools.chain(*z))"
   ]
  },
  {
   "cell_type": "markdown",
   "metadata": {},
   "source": [
    "### Itertools.chain.from_iterable"
   ]
  },
  {
   "cell_type": "code",
   "execution_count": 74,
   "metadata": {},
   "outputs": [
    {
     "data": {
      "text/plain": [
       "[1, 2, 3, 4, 5, 6, 7, 8, 9]"
      ]
     },
     "execution_count": 74,
     "metadata": {},
     "output_type": "execute_result"
    }
   ],
   "source": [
    "x = iter([1, 2, 3, 4])\n",
    "y = iter((5, 6, 7, 8, 9))\n",
    "z = [x, y]\n",
    "list(itertools.chain.from_iterable(z))"
   ]
  },
  {
   "cell_type": "markdown",
   "metadata": {},
   "source": [
    "## Itertools.zip_longest"
   ]
  },
  {
   "cell_type": "code",
   "execution_count": 75,
   "metadata": {},
   "outputs": [],
   "source": [
    "a1 = (1, 2, 3, 4, 5, 6)\n",
    "a2 = (\"a\", \"b\", \"c\")"
   ]
  },
  {
   "cell_type": "code",
   "execution_count": 76,
   "metadata": {},
   "outputs": [
    {
     "data": {
      "text/plain": [
       "[(1, 'a'), (2, 'b'), (3, 'c')]"
      ]
     },
     "execution_count": 76,
     "metadata": {},
     "output_type": "execute_result"
    }
   ],
   "source": [
    "list(zip(a1, a2))"
   ]
  },
  {
   "cell_type": "code",
   "execution_count": 77,
   "metadata": {},
   "outputs": [
    {
     "data": {
      "text/plain": [
       "[(1, 'a'), (2, 'b'), (3, 'c'), (4, None), (5, None), (6, None)]"
      ]
     },
     "execution_count": 77,
     "metadata": {},
     "output_type": "execute_result"
    }
   ],
   "source": [
    "list(itertools.zip_longest(a1, a2))"
   ]
  },
  {
   "cell_type": "code",
   "execution_count": 78,
   "metadata": {},
   "outputs": [
    {
     "data": {
      "text/plain": [
       "[(1, 'a'), (2, 'b'), (3, 'c'), (4, 0), (5, 0), (6, 0)]"
      ]
     },
     "execution_count": 78,
     "metadata": {},
     "output_type": "execute_result"
    }
   ],
   "source": [
    "list(itertools.zip_longest(a1, a2, fillvalue=0))"
   ]
  },
  {
   "cell_type": "markdown",
   "metadata": {},
   "source": [
    "## Itertools - dropwhile\n",
    "    - filter sequence items until a condition becomes False. \n",
    "    - Once it becomes False, it stops the filter process."
   ]
  },
  {
   "cell_type": "code",
   "execution_count": 79,
   "metadata": {},
   "outputs": [
    {
     "name": "stdout",
     "output_type": "stream",
     "text": [
      "[0, 2, 4, 6, 8]\n"
     ]
    }
   ],
   "source": [
    "evens = range(0, 10, 2)\n",
    "print(list(evens))"
   ]
  },
  {
   "cell_type": "code",
   "execution_count": 80,
   "metadata": {},
   "outputs": [
    {
     "data": {
      "text/plain": [
       "[4, 6, 8]"
      ]
     },
     "execution_count": 80,
     "metadata": {},
     "output_type": "execute_result"
    }
   ],
   "source": [
    "list(filter(lambda x: x > 2, evens))"
   ]
  },
  {
   "cell_type": "code",
   "execution_count": 81,
   "metadata": {},
   "outputs": [
    {
     "data": {
      "text/plain": [
       "[0, 2, 4, 6, 8]"
      ]
     },
     "execution_count": 81,
     "metadata": {},
     "output_type": "execute_result"
    }
   ],
   "source": [
    "list(itertools.dropwhile(lambda x: x > 2, evens))"
   ]
  },
  {
   "cell_type": "code",
   "execution_count": 82,
   "metadata": {},
   "outputs": [
    {
     "data": {
      "text/plain": [
       "[12, 7, 1, -5]"
      ]
     },
     "execution_count": 82,
     "metadata": {},
     "output_type": "execute_result"
    }
   ],
   "source": [
    "list(itertools.dropwhile(lambda x: x < 5, [3, 12, 7, 1, -5]))"
   ]
  },
  {
   "cell_type": "code",
   "execution_count": 83,
   "metadata": {},
   "outputs": [
    {
     "data": {
      "text/plain": [
       "[7, 1, -5]"
      ]
     },
     "execution_count": 83,
     "metadata": {},
     "output_type": "execute_result"
    }
   ],
   "source": [
    "list(itertools.dropwhile(lambda x: x < 5, [3, 2, 7, 1, -5]))"
   ]
  },
  {
   "cell_type": "code",
   "execution_count": 84,
   "metadata": {},
   "outputs": [
    {
     "data": {
      "text/plain": [
       "[5]"
      ]
     },
     "execution_count": 84,
     "metadata": {},
     "output_type": "execute_result"
    }
   ],
   "source": [
    "list(itertools.dropwhile(lambda x: x < 5, [3, 2, 4, 1, 5]))"
   ]
  },
  {
   "cell_type": "code",
   "execution_count": 85,
   "metadata": {},
   "outputs": [
    {
     "data": {
      "text/plain": [
       "[]"
      ]
     },
     "execution_count": 85,
     "metadata": {},
     "output_type": "execute_result"
    }
   ],
   "source": [
    "list(itertools.dropwhile(lambda x: x < 5, [3, 2, 4, 1, -5]))"
   ]
  },
  {
   "cell_type": "markdown",
   "metadata": {},
   "source": [
    "## Itertools.takewhile\n",
    "    - filter sequence items until a condition becomes True. \n",
    "    - Once it becomes True, it stops the filter process."
   ]
  },
  {
   "cell_type": "code",
   "execution_count": 86,
   "metadata": {},
   "outputs": [
    {
     "data": {
      "text/plain": [
       "[3]"
      ]
     },
     "execution_count": 86,
     "metadata": {},
     "output_type": "execute_result"
    }
   ],
   "source": [
    "list(itertools.takewhile(lambda x: x < 5, [3, 12, 7, 1, -5]))"
   ]
  },
  {
   "cell_type": "code",
   "execution_count": 87,
   "metadata": {},
   "outputs": [
    {
     "data": {
      "text/plain": [
       "[3, 2, 4, 1]"
      ]
     },
     "execution_count": 87,
     "metadata": {},
     "output_type": "execute_result"
    }
   ],
   "source": [
    "list(itertools.takewhile(lambda x: x < 5, [3, 2, 4, 1, 5]))"
   ]
  },
  {
   "cell_type": "code",
   "execution_count": 88,
   "metadata": {},
   "outputs": [
    {
     "data": {
      "text/plain": [
       "[3, 2, 4]"
      ]
     },
     "execution_count": 88,
     "metadata": {},
     "output_type": "execute_result"
    }
   ],
   "source": [
    "list(itertools.takewhile(lambda x: x < 5, [3, 2, 4, 11, -5]))"
   ]
  },
  {
   "cell_type": "code",
   "execution_count": 89,
   "metadata": {},
   "outputs": [
    {
     "data": {
      "text/plain": [
       "[5, 6, 2]"
      ]
     },
     "execution_count": 89,
     "metadata": {},
     "output_type": "execute_result"
    }
   ],
   "source": [
    "list(filter(lambda x: x > 0, [5, 6, -8, -4, 2]))"
   ]
  },
  {
   "cell_type": "code",
   "execution_count": 90,
   "metadata": {},
   "outputs": [
    {
     "data": {
      "text/plain": [
       "[-8, -4, 2]"
      ]
     },
     "execution_count": 90,
     "metadata": {},
     "output_type": "execute_result"
    }
   ],
   "source": [
    "list(itertools.dropwhile(lambda x: x > 0, [5, 6, -8, -4, 2]))"
   ]
  },
  {
   "cell_type": "code",
   "execution_count": 91,
   "metadata": {},
   "outputs": [
    {
     "data": {
      "text/plain": [
       "[5, 6]"
      ]
     },
     "execution_count": 91,
     "metadata": {},
     "output_type": "execute_result"
    }
   ],
   "source": [
    "list(itertools.takewhile(lambda x: x > 0, [5, 6, -8, -4, 2]))"
   ]
  },
  {
   "cell_type": "code",
   "execution_count": 92,
   "metadata": {},
   "outputs": [],
   "source": [
    "assert list(evens) == list(\n",
    "    itertools.chain(\n",
    "        itertools.dropwhile(lambda x: x > 2, evens),\n",
    "        itertools.takewhile(lambda x: x > 2, evens),\n",
    "    )\n",
    ")"
   ]
  },
  {
   "cell_type": "markdown",
   "metadata": {},
   "source": [
    "## Itertools.starmap"
   ]
  },
  {
   "cell_type": "code",
   "execution_count": 93,
   "metadata": {},
   "outputs": [
    {
     "data": {
      "text/plain": [
       "32"
      ]
     },
     "execution_count": 93,
     "metadata": {},
     "output_type": "execute_result"
    }
   ],
   "source": [
    "pow(2, 5)"
   ]
  },
  {
   "cell_type": "code",
   "execution_count": 94,
   "metadata": {},
   "outputs": [
    {
     "name": "stdout",
     "output_type": "stream",
     "text": [
      "pow() missing required argument 'exp' (pos 2)\n"
     ]
    }
   ],
   "source": [
    "try:\n",
    "    list(map(pow, [(2, 5), (3, 2), (4, 3)]))\n",
    "except TypeError as ex:\n",
    "    print(ex)"
   ]
  },
  {
   "cell_type": "code",
   "execution_count": 95,
   "metadata": {},
   "outputs": [
    {
     "data": {
      "text/plain": [
       "[32, 9, 64]"
      ]
     },
     "execution_count": 95,
     "metadata": {},
     "output_type": "execute_result"
    }
   ],
   "source": [
    "list(itertools.starmap(pow, [(2, 5), (3, 2), (4, 3)]))"
   ]
  },
  {
   "cell_type": "code",
   "execution_count": 96,
   "metadata": {},
   "outputs": [
    {
     "data": {
      "text/plain": [
       "[10, 6, 12]"
      ]
     },
     "execution_count": 96,
     "metadata": {},
     "output_type": "execute_result"
    }
   ],
   "source": [
    "list(itertools.starmap(operator.mul, [(2, 5), (3, 2), (4, 3)]))"
   ]
  },
  {
   "cell_type": "code",
   "execution_count": 97,
   "metadata": {},
   "outputs": [
    {
     "name": "stdout",
     "output_type": "stream",
     "text": [
      "mul expected 2 arguments, got 3\n"
     ]
    }
   ],
   "source": [
    "try:\n",
    "    list(itertools.starmap(operator.mul, [(2, 5, 10), (3, 2, 10), (4, 3, 20)]))\n",
    "except TypeError as ex:\n",
    "    print(ex)"
   ]
  },
  {
   "cell_type": "markdown",
   "metadata": {},
   "source": [
    "## Itertools.product"
   ]
  },
  {
   "cell_type": "code",
   "execution_count": 98,
   "metadata": {},
   "outputs": [],
   "source": [
    "list1 = range(1, 3)\n",
    "list2 = range(4, 6)\n",
    "list3 = range(7, 9)\n",
    "\n",
    "# Method 1\n",
    "result1 = []\n",
    "for item1 in list1:\n",
    "    for item2 in list2:\n",
    "        for item3 in list3:\n",
    "            result1.append(item1 + item2 + item3)\n",
    "\n",
    "# Method 2\n",
    "result2 = []\n",
    "for i1, i2, i3 in itertools.product(list1, list2, list3):\n",
    "    result2.append(i1 + i2 + i3)\n",
    "\n",
    "assert result1 == result2"
   ]
  },
  {
   "cell_type": "markdown",
   "metadata": {},
   "source": [
    "## Itertools.falsefilter\n",
    "    - This iterator prints only values that return false for the passed function."
   ]
  },
  {
   "cell_type": "code",
   "execution_count": 99,
   "metadata": {},
   "outputs": [
    {
     "data": {
      "text/plain": [
       "[0]"
      ]
     },
     "execution_count": 99,
     "metadata": {},
     "output_type": "execute_result"
    }
   ],
   "source": [
    "list(itertools.filterfalse(None, [-2, -1, 0, 1, 2]))"
   ]
  },
  {
   "cell_type": "code",
   "execution_count": 100,
   "metadata": {},
   "outputs": [
    {
     "data": {
      "text/plain": [
       "[-2, -1, 0]"
      ]
     },
     "execution_count": 100,
     "metadata": {},
     "output_type": "execute_result"
    }
   ],
   "source": [
    "list(itertools.filterfalse(lambda x: x > 0, [-2, -1, 0, 1, 2]))"
   ]
  },
  {
   "cell_type": "code",
   "execution_count": 101,
   "metadata": {},
   "outputs": [
    {
     "data": {
      "text/plain": [
       "[1, 2]"
      ]
     },
     "execution_count": 101,
     "metadata": {},
     "output_type": "execute_result"
    }
   ],
   "source": [
    "list(itertools.filterfalse(lambda x: x <= 0, [-2, -1, 0, 1, 2]))"
   ]
  },
  {
   "cell_type": "markdown",
   "metadata": {},
   "source": [
    "## Itertools.tee\n",
    "    - itertools.tee(iterable, n=2)\n",
    "    - Return n independent iterators from a single iterable."
   ]
  },
  {
   "cell_type": "code",
   "execution_count": 102,
   "metadata": {},
   "outputs": [],
   "source": [
    "colors = [\"red\", \"orange\", \"yellow\", \"green\", \"blue\"]\n",
    "alpha_colors, beta_colors = itertools.tee(colors)"
   ]
  },
  {
   "cell_type": "code",
   "execution_count": 103,
   "metadata": {},
   "outputs": [
    {
     "data": {
      "text/plain": [
       "<itertools._tee at 0x7f41c04cd500>"
      ]
     },
     "execution_count": 103,
     "metadata": {},
     "output_type": "execute_result"
    }
   ],
   "source": [
    "alpha_colors"
   ]
  },
  {
   "cell_type": "code",
   "execution_count": 104,
   "metadata": {},
   "outputs": [
    {
     "data": {
      "text/plain": [
       "['red', 'orange', 'yellow', 'green', 'blue']"
      ]
     },
     "execution_count": 104,
     "metadata": {},
     "output_type": "execute_result"
    }
   ],
   "source": [
    "list(alpha_colors)"
   ]
  },
  {
   "cell_type": "code",
   "execution_count": 105,
   "metadata": {},
   "outputs": [
    {
     "data": {
      "text/plain": [
       "['red', 'orange', 'yellow', 'green', 'blue']"
      ]
     },
     "execution_count": 105,
     "metadata": {},
     "output_type": "execute_result"
    }
   ],
   "source": [
    "list(beta_colors)"
   ]
  },
  {
   "cell_type": "code",
   "execution_count": 106,
   "metadata": {},
   "outputs": [
    {
     "name": "stdout",
     "output_type": "stream",
     "text": [
      "not enough values to unpack (expected 6, got 2)\n",
      "By default, it can assign to two variables only\n"
     ]
    }
   ],
   "source": [
    "try:\n",
    "    v1, v2, v3, v4, v5, v6 = itertools.tee(colors)\n",
    "except ValueError as ex:\n",
    "    print(ex)\n",
    "    print(\"By default, it can assign to two variables only\")"
   ]
  },
  {
   "cell_type": "code",
   "execution_count": 107,
   "metadata": {},
   "outputs": [
    {
     "name": "stdout",
     "output_type": "stream",
     "text": [
      "list(v1) = ['red', 'orange', 'yellow', 'green', 'blue']\n",
      "list(v2) = ['red', 'orange', 'yellow', 'green', 'blue']\n",
      "list(v3) = ['red', 'orange', 'yellow', 'green', 'blue']\n",
      "list(v4) = ['red', 'orange', 'yellow', 'green', 'blue']\n",
      "list(v5) = ['red', 'orange', 'yellow', 'green', 'blue']\n",
      "list(v6) = ['red', 'orange', 'yellow', 'green', 'blue']\n"
     ]
    }
   ],
   "source": [
    "v1, v2, v3, v4, v5, v6 = itertools.tee(colors, 6)\n",
    "print(f\"{list(v1) = }\")\n",
    "print(f\"{list(v2) = }\")\n",
    "print(f\"{list(v3) = }\")\n",
    "print(f\"{list(v4) = }\")\n",
    "print(f\"{list(v5) = }\")\n",
    "print(f\"{list(v6) = }\")"
   ]
  },
  {
   "cell_type": "code",
   "execution_count": null,
   "metadata": {},
   "outputs": [],
   "source": []
  }
 ],
 "metadata": {
  "kernelspec": {
   "display_name": "Python 3 (ipykernel)",
   "language": "python",
   "name": "python3"
  },
  "language_info": {
   "codemirror_mode": {
    "name": "ipython",
    "version": 3
   },
   "file_extension": ".py",
   "mimetype": "text/x-python",
   "name": "python",
   "nbconvert_exporter": "python",
   "pygments_lexer": "ipython3",
   "version": "3.10.4"
  }
 },
 "nbformat": 4,
 "nbformat_minor": 2
}
