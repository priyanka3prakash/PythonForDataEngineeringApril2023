{
 "cells": [
  {
   "attachments": {},
   "cell_type": "markdown",
   "metadata": {},
   "source": [
    "## Generators\n",
    "\n",
    "\n",
    "    range(0, 100000, 2) -> 0\n",
    "    range(2, 100000, 2) -> 2\n",
    "    range(4, 100000, 2) -> 4\n",
    "    range(6, 100000, 2) -> 6\n",
    "    ...."
   ]
  },
  {
   "cell_type": "code",
   "execution_count": 1,
   "metadata": {},
   "outputs": [
    {
     "name": "stdout",
     "output_type": "stream",
     "text": [
      " I am in the function\n"
     ]
    }
   ],
   "source": [
    "def my_generator():\n",
    "    print(\" I am in the function\")\n",
    "\n",
    "\n",
    "my_generator()"
   ]
  },
  {
   "cell_type": "code",
   "execution_count": 2,
   "metadata": {},
   "outputs": [
    {
     "name": "stdout",
     "output_type": "stream",
     "text": [
      " I am in the function\n"
     ]
    }
   ],
   "source": [
    "def my_generator():\n",
    "    print(\" I am in the function\")\n",
    "    return None\n",
    "\n",
    "my_generator()"
   ]
  },
  {
   "cell_type": "code",
   "execution_count": 3,
   "metadata": {},
   "outputs": [
    {
     "data": {
      "text/plain": [
       "<generator object my_generator at 0x7f5030ef5070>"
      ]
     },
     "execution_count": 3,
     "metadata": {},
     "output_type": "execute_result"
    }
   ],
   "source": [
    "def my_generator():\n",
    "    print(\" I am in the function\")\n",
    "    # return None\n",
    "    yield None\n",
    "\n",
    "my_generator()"
   ]
  },
  {
   "cell_type": "markdown",
   "metadata": {},
   "source": [
    "## Yield vs return"
   ]
  },
  {
   "cell_type": "code",
   "execution_count": 5,
   "metadata": {},
   "outputs": [
    {
     "name": "stdout",
     "output_type": "stream",
     "text": [
      " I am in the function\n"
     ]
    },
    {
     "data": {
      "text/plain": [
       "111"
      ]
     },
     "execution_count": 5,
     "metadata": {},
     "output_type": "execute_result"
    }
   ],
   "source": [
    "def myfunction():\n",
    "    print(\" I am in the function\")\n",
    "    return 111\n",
    "    print(\"printing 111\")\n",
    "    return 222\n",
    "    return 333\n",
    "\n",
    "\n",
    "myfunction()"
   ]
  },
  {
   "cell_type": "code",
   "execution_count": 6,
   "metadata": {},
   "outputs": [],
   "source": [
    "# NOTE: return is last execcuting statement, in any function"
   ]
  },
  {
   "cell_type": "code",
   "execution_count": 7,
   "metadata": {},
   "outputs": [
    {
     "data": {
      "text/plain": [
       "<generator object my_generator at 0x7f5030ef6500>"
      ]
     },
     "execution_count": 7,
     "metadata": {},
     "output_type": "execute_result"
    }
   ],
   "source": [
    "def my_generator():\n",
    "    print(\" I am in the function\")\n",
    "    yield 111\n",
    "    print(\"printing 111\")\n",
    "    yield 222\n",
    "    yield 333\n",
    "\n",
    "\n",
    "my_generator()"
   ]
  },
  {
   "cell_type": "code",
   "execution_count": 8,
   "metadata": {},
   "outputs": [],
   "source": [
    "# NOTE: Ordinary function will execute with function call "
   ]
  },
  {
   "cell_type": "code",
   "execution_count": 9,
   "metadata": {},
   "outputs": [
    {
     "name": "stdout",
     "output_type": "stream",
     "text": [
      "<class 'generator'> <generator object my_generator at 0x7f5030ef69d0>\n"
     ]
    }
   ],
   "source": [
    "def my_generator():\n",
    "    print(\" I am in the function\")\n",
    "    yield 111\n",
    "    print(\"printing 111\")\n",
    "    yield 222\n",
    "    yield 333\n",
    "\n",
    "\n",
    "gen_result = my_generator()\n",
    "print(type(gen_result), gen_result)"
   ]
  },
  {
   "cell_type": "code",
   "execution_count": 11,
   "metadata": {},
   "outputs": [
    {
     "name": "stdout",
     "output_type": "stream",
     "text": [
      " I am in the function\n",
      "val 111\n",
      "printing 111\n",
      "val 222\n",
      "val 333\n"
     ]
    }
   ],
   "source": [
    "for val in gen_result:\n",
    "    print(\"val\", val)"
   ]
  },
  {
   "cell_type": "code",
   "execution_count": 12,
   "metadata": {},
   "outputs": [
    {
     "data": {
      "text/plain": [
       "[]"
      ]
     },
     "execution_count": 12,
     "metadata": {},
     "output_type": "execute_result"
    }
   ],
   "source": [
    "list(gen_result)  # disposable object"
   ]
  },
  {
   "cell_type": "code",
   "execution_count": 13,
   "metadata": {},
   "outputs": [
    {
     "name": "stdout",
     "output_type": "stream",
     "text": [
      " I am in the function\n",
      "printing 111\n"
     ]
    },
    {
     "data": {
      "text/plain": [
       "[111, 222, 333]"
      ]
     },
     "execution_count": 13,
     "metadata": {},
     "output_type": "execute_result"
    }
   ],
   "source": [
    "gen_result = my_generator()\n",
    "\n",
    "list(gen_result)"
   ]
  },
  {
   "cell_type": "code",
   "execution_count": 15,
   "metadata": {},
   "outputs": [
    {
     "name": "stdout",
     "output_type": "stream",
     "text": [
      " I am in the function\n",
      "yielding 222\n",
      "yielding 333\n",
      "yielding 444\n"
     ]
    },
    {
     "data": {
      "text/plain": [
       "[111, 222, 333, 444]"
      ]
     },
     "execution_count": 15,
     "metadata": {},
     "output_type": "execute_result"
    }
   ],
   "source": [
    "def my_generator():\n",
    "    print(\" I am in the function\")\n",
    "    yield 111\n",
    "    print(\"yielding 222\")\n",
    "    yield 222\n",
    "    print(\"yielding 333\")\n",
    "    yield 333\n",
    "    print(\"yielding 444\")\n",
    "    yield 444\n",
    "\n",
    "\n",
    "gen_result = my_generator()\n",
    "\n",
    "list(gen_result)"
   ]
  },
  {
   "cell_type": "markdown",
   "metadata": {},
   "source": [
    "## next()"
   ]
  },
  {
   "cell_type": "code",
   "execution_count": 16,
   "metadata": {},
   "outputs": [],
   "source": [
    "def my_generator():\n",
    "    print(\" I am in the function\")\n",
    "    yield 111\n",
    "    print(\"yielding 222\")\n",
    "    yield 222\n",
    "    print(\"yielding 333\")\n",
    "    yield 333\n",
    "    print(\"yielding 444\")\n",
    "    yield 444\n",
    "\n",
    "\n",
    "gen_result = my_generator()"
   ]
  },
  {
   "cell_type": "code",
   "execution_count": 17,
   "metadata": {},
   "outputs": [
    {
     "name": "stdout",
     "output_type": "stream",
     "text": [
      " I am in the function\n"
     ]
    },
    {
     "data": {
      "text/plain": [
       "111"
      ]
     },
     "execution_count": 17,
     "metadata": {},
     "output_type": "execute_result"
    }
   ],
   "source": [
    "# Generators follow the \"STATE SUSPENSION\"\n",
    "\n",
    "\n",
    "next(gen_result)  "
   ]
  },
  {
   "cell_type": "code",
   "execution_count": 18,
   "metadata": {},
   "outputs": [
    {
     "name": "stdout",
     "output_type": "stream",
     "text": [
      "yielding 222\n"
     ]
    },
    {
     "data": {
      "text/plain": [
       "222"
      ]
     },
     "execution_count": 18,
     "metadata": {},
     "output_type": "execute_result"
    }
   ],
   "source": [
    "next(gen_result)"
   ]
  },
  {
   "cell_type": "code",
   "execution_count": 19,
   "metadata": {},
   "outputs": [
    {
     "name": "stdout",
     "output_type": "stream",
     "text": [
      "yielding 333\n"
     ]
    },
    {
     "data": {
      "text/plain": [
       "333"
      ]
     },
     "execution_count": 19,
     "metadata": {},
     "output_type": "execute_result"
    }
   ],
   "source": [
    "next(gen_result)"
   ]
  },
  {
   "cell_type": "code",
   "execution_count": 20,
   "metadata": {},
   "outputs": [
    {
     "name": "stdout",
     "output_type": "stream",
     "text": [
      "yielding 444\n"
     ]
    },
    {
     "data": {
      "text/plain": [
       "444"
      ]
     },
     "execution_count": 20,
     "metadata": {},
     "output_type": "execute_result"
    }
   ],
   "source": [
    "next(gen_result)"
   ]
  },
  {
   "cell_type": "code",
   "execution_count": 21,
   "metadata": {},
   "outputs": [
    {
     "ename": "StopIteration",
     "evalue": "",
     "output_type": "error",
     "traceback": [
      "\u001b[0;31m---------------------------------------------------------------------------\u001b[0m",
      "\u001b[0;31mStopIteration\u001b[0m                             Traceback (most recent call last)",
      "Cell \u001b[0;32mIn[21], line 1\u001b[0m\n\u001b[0;32m----> 1\u001b[0m \u001b[39mnext\u001b[39;49m(gen_result)\n",
      "\u001b[0;31mStopIteration\u001b[0m: "
     ]
    }
   ],
   "source": [
    "next(gen_result)"
   ]
  },
  {
   "cell_type": "code",
   "execution_count": 26,
   "metadata": {},
   "outputs": [
    {
     "name": "stdout",
     "output_type": "stream",
     "text": [
      " I am in the function\n",
      "yielding 222\n",
      "yielding 333\n",
      "yielding 444\n",
      "\n",
      "values =[111, 222, 333, 444]\n"
     ]
    }
   ],
   "source": [
    "def my_generator():\n",
    "    print(\" I am in the function\")\n",
    "    yield 111\n",
    "    print(\"yielding 222\")\n",
    "    yield 222\n",
    "    print(\"yielding 333\")\n",
    "    yield 333\n",
    "    print(\"yielding 444\")\n",
    "    yield 444\n",
    "\n",
    "\n",
    "gen_result = my_generator()\n",
    "values = []\n",
    "while True:\n",
    "    try:\n",
    "        val = next(gen_result)\n",
    "        values.append(val)\n",
    "    except StopIteration as ex:\n",
    "        print(ex)\n",
    "        break\n",
    "\n",
    "print(f\"{values =}\")"
   ]
  },
  {
   "cell_type": "code",
   "execution_count": 25,
   "metadata": {},
   "outputs": [],
   "source": [
    "#NOTE:  PEP8 - don't use both return & yield in same function"
   ]
  },
  {
   "cell_type": "code",
   "execution_count": 28,
   "metadata": {},
   "outputs": [
    {
     "name": "stdout",
     "output_type": "stream",
     "text": [
      " I am in the function\n",
      "yielding 222\n",
      "yielding 333\n",
      "yielding 444\n",
      "StopIteration('No More value to yield')\n",
      "values =[111, 222, 333, 444]\n"
     ]
    }
   ],
   "source": [
    "def my_generator():\n",
    "    print(\" I am in the function\")\n",
    "    yield 111\n",
    "    print(\"yielding 222\")\n",
    "    yield 222\n",
    "    print(\"yielding 333\")\n",
    "    yield 333\n",
    "    print(\"yielding 444\")\n",
    "    yield 444\n",
    "    return \"No More value to yield\"\n",
    "\n",
    "\n",
    "\n",
    "gen_result = my_generator()\n",
    "values = []\n",
    "while True:\n",
    "    try:\n",
    "        val = next(gen_result)\n",
    "        values.append(val)\n",
    "    except StopIteration as ex:\n",
    "        print(repr(ex))\n",
    "        break\n",
    "\n",
    "print(f\"{values =}\")"
   ]
  },
  {
   "cell_type": "markdown",
   "metadata": {},
   "source": [
    "## Generator objects\n",
    "\n",
    "    - designed for user-defined functions\n",
    "    - disposable\n",
    "    - can't be indexed\n",
    "    - stores the state\n",
    "    - used for large data handling\n",
    "    - State suspension and on-demand computation"
   ]
  },
  {
   "cell_type": "code",
   "execution_count": 30,
   "metadata": {},
   "outputs": [
    {
     "name": "stdout",
     "output_type": "stream",
     "text": [
      "Start the function!\n",
      "\tbefore yield 0\n",
      "\tafter yield 0\n",
      "\tbefore yield 1\n",
      "\tafter yield 1\n",
      "\tbefore yield 2\n",
      "\tafter yield 2\n",
      "end of function \n"
     ]
    }
   ],
   "source": [
    "def foo():\n",
    "    print(\"Start the function!\")\n",
    "    for i in range(3):\n",
    "        print(\"\\tbefore yield\", i)\n",
    "        print(\"\\tafter yield\", i)\n",
    "\n",
    "    print(\"end of function \")\n",
    "\n",
    "foo()"
   ]
  },
  {
   "cell_type": "code",
   "execution_count": 31,
   "metadata": {},
   "outputs": [
    {
     "name": "stdout",
     "output_type": "stream",
     "text": [
      "Start the function!\n",
      "\tbefore yield 0\n"
     ]
    },
    {
     "data": {
      "text/plain": [
       "0"
      ]
     },
     "execution_count": 31,
     "metadata": {},
     "output_type": "execute_result"
    }
   ],
   "source": [
    "def foo():\n",
    "    print(\"Start the function!\")\n",
    "    for i in range(3):\n",
    "        print(\"\\tbefore yield\", i)\n",
    "        return i\n",
    "        print(\"\\tafter yield\", i)\n",
    "\n",
    "    print(\"end of function \")\n",
    "\n",
    "foo()"
   ]
  },
  {
   "cell_type": "code",
   "execution_count": 32,
   "metadata": {},
   "outputs": [
    {
     "name": "stdout",
     "output_type": "stream",
     "text": [
      "Start the function!\n",
      "\tbefore yield 0\n"
     ]
    },
    {
     "data": {
      "text/plain": [
       "0"
      ]
     },
     "execution_count": 32,
     "metadata": {},
     "output_type": "execute_result"
    }
   ],
   "source": [
    "foo()"
   ]
  },
  {
   "cell_type": "code",
   "execution_count": 33,
   "metadata": {},
   "outputs": [
    {
     "data": {
      "text/plain": [
       "<generator object foo at 0x7f502c268ba0>"
      ]
     },
     "execution_count": 33,
     "metadata": {},
     "output_type": "execute_result"
    }
   ],
   "source": [
    "def foo():\n",
    "    print(\"Start the function!\")\n",
    "    for i in range(3):\n",
    "        print(\"\\tbefore yield\", i)\n",
    "        # return i\n",
    "        yield i\n",
    "        print(\"\\tafter yield\", i)\n",
    "\n",
    "    print(\"end of function \")\n",
    "\n",
    "foo()"
   ]
  },
  {
   "cell_type": "code",
   "execution_count": 34,
   "metadata": {},
   "outputs": [],
   "source": [
    "result = foo()"
   ]
  },
  {
   "cell_type": "code",
   "execution_count": 35,
   "metadata": {},
   "outputs": [
    {
     "name": "stdout",
     "output_type": "stream",
     "text": [
      "Start the function!\n",
      "\tbefore yield 0\n"
     ]
    },
    {
     "data": {
      "text/plain": [
       "0"
      ]
     },
     "execution_count": 35,
     "metadata": {},
     "output_type": "execute_result"
    }
   ],
   "source": [
    "next(result)"
   ]
  },
  {
   "cell_type": "code",
   "execution_count": 36,
   "metadata": {},
   "outputs": [
    {
     "name": "stdout",
     "output_type": "stream",
     "text": [
      "\tafter yield 0\n",
      "\tbefore yield 1\n"
     ]
    },
    {
     "data": {
      "text/plain": [
       "1"
      ]
     },
     "execution_count": 36,
     "metadata": {},
     "output_type": "execute_result"
    }
   ],
   "source": [
    "next(result)"
   ]
  },
  {
   "cell_type": "code",
   "execution_count": 37,
   "metadata": {},
   "outputs": [
    {
     "name": "stdout",
     "output_type": "stream",
     "text": [
      "\tafter yield 1\n",
      "\tbefore yield 2\n"
     ]
    },
    {
     "data": {
      "text/plain": [
       "2"
      ]
     },
     "execution_count": 37,
     "metadata": {},
     "output_type": "execute_result"
    }
   ],
   "source": [
    "next(result)"
   ]
  },
  {
   "cell_type": "code",
   "execution_count": 38,
   "metadata": {},
   "outputs": [
    {
     "name": "stdout",
     "output_type": "stream",
     "text": [
      "\tafter yield 2\n",
      "end of function \n"
     ]
    },
    {
     "ename": "StopIteration",
     "evalue": "",
     "output_type": "error",
     "traceback": [
      "\u001b[0;31m---------------------------------------------------------------------------\u001b[0m",
      "\u001b[0;31mStopIteration\u001b[0m                             Traceback (most recent call last)",
      "Cell \u001b[0;32mIn[38], line 1\u001b[0m\n\u001b[0;32m----> 1\u001b[0m \u001b[39mnext\u001b[39;49m(result)\n",
      "\u001b[0;31mStopIteration\u001b[0m: "
     ]
    }
   ],
   "source": [
    "next(result)"
   ]
  },
  {
   "cell_type": "code",
   "execution_count": 39,
   "metadata": {},
   "outputs": [
    {
     "ename": "StopIteration",
     "evalue": "",
     "output_type": "error",
     "traceback": [
      "\u001b[0;31m---------------------------------------------------------------------------\u001b[0m",
      "\u001b[0;31mStopIteration\u001b[0m                             Traceback (most recent call last)",
      "Cell \u001b[0;32mIn[39], line 1\u001b[0m\n\u001b[0;32m----> 1\u001b[0m result\u001b[39m.\u001b[39;49m\u001b[39m__next__\u001b[39;49m()\n",
      "\u001b[0;31mStopIteration\u001b[0m: "
     ]
    }
   ],
   "source": [
    "result.__next__()"
   ]
  },
  {
   "cell_type": "markdown",
   "metadata": {},
   "source": [
    "### Problem - Generator for prime numbers"
   ]
  },
  {
   "cell_type": "code",
   "execution_count": 47,
   "metadata": {},
   "outputs": [
    {
     "data": {
      "text/plain": [
       "[2, 3, 5, 7, 11, 13, 17, 19]"
      ]
     },
     "execution_count": 47,
     "metadata": {},
     "output_type": "execute_result"
    }
   ],
   "source": [
    "def get_primes_till(num):\n",
    "    primes = []\n",
    "    if num < 2:\n",
    "        return primes\n",
    "    for number in range(2, num+1):\n",
    "        for n in range(2, number):\n",
    "            if number % n == 0:\n",
    "                break\n",
    "        else:\n",
    "            primes.append(number)\n",
    "    return primes\n",
    "\n",
    "\n",
    "get_primes_till(20)"
   ]
  },
  {
   "cell_type": "code",
   "execution_count": 50,
   "metadata": {},
   "outputs": [
    {
     "data": {
      "text/plain": [
       "<generator object get_primes_till_gen at 0x7f502c26a1f0>"
      ]
     },
     "execution_count": 50,
     "metadata": {},
     "output_type": "execute_result"
    }
   ],
   "source": [
    "def get_primes_till_gen(num):\n",
    "    if num < 2:\n",
    "        yield []\n",
    "    for number in range(2, num+1):\n",
    "        for n in range(2, number):\n",
    "            if number % n == 0:\n",
    "                break\n",
    "        else:\n",
    "            yield f\"Prime Number:{number}\"\n",
    "    return \"No More Primes\"\n",
    "\n",
    "\n",
    "get_primes_till_gen(20)"
   ]
  },
  {
   "cell_type": "code",
   "execution_count": 51,
   "metadata": {},
   "outputs": [
    {
     "data": {
      "text/plain": [
       "'Prime Number:2'"
      ]
     },
     "execution_count": 51,
     "metadata": {},
     "output_type": "execute_result"
    }
   ],
   "source": [
    "result = get_primes_till_gen(20)\n",
    "\n",
    "next(result)"
   ]
  },
  {
   "cell_type": "code",
   "execution_count": 52,
   "metadata": {},
   "outputs": [
    {
     "data": {
      "text/plain": [
       "'Prime Number:3'"
      ]
     },
     "execution_count": 52,
     "metadata": {},
     "output_type": "execute_result"
    }
   ],
   "source": [
    "next(result)"
   ]
  },
  {
   "cell_type": "code",
   "execution_count": 53,
   "metadata": {},
   "outputs": [
    {
     "data": {
      "text/plain": [
       "'Prime Number:5'"
      ]
     },
     "execution_count": 53,
     "metadata": {},
     "output_type": "execute_result"
    }
   ],
   "source": [
    "next(result)"
   ]
  },
  {
   "cell_type": "code",
   "execution_count": 54,
   "metadata": {},
   "outputs": [
    {
     "data": {
      "text/plain": [
       "'Prime Number:7'"
      ]
     },
     "execution_count": 54,
     "metadata": {},
     "output_type": "execute_result"
    }
   ],
   "source": [
    "next(result)"
   ]
  },
  {
   "cell_type": "code",
   "execution_count": 55,
   "metadata": {},
   "outputs": [
    {
     "data": {
      "text/plain": [
       "'Prime Number:11'"
      ]
     },
     "execution_count": 55,
     "metadata": {},
     "output_type": "execute_result"
    }
   ],
   "source": [
    "next(result)"
   ]
  },
  {
   "cell_type": "code",
   "execution_count": 56,
   "metadata": {},
   "outputs": [
    {
     "data": {
      "text/plain": [
       "'Prime Number:13'"
      ]
     },
     "execution_count": 56,
     "metadata": {},
     "output_type": "execute_result"
    }
   ],
   "source": [
    "next(result)"
   ]
  },
  {
   "cell_type": "code",
   "execution_count": 57,
   "metadata": {},
   "outputs": [
    {
     "data": {
      "text/plain": [
       "'Prime Number:17'"
      ]
     },
     "execution_count": 57,
     "metadata": {},
     "output_type": "execute_result"
    }
   ],
   "source": [
    "next(result)"
   ]
  },
  {
   "cell_type": "code",
   "execution_count": 58,
   "metadata": {},
   "outputs": [
    {
     "data": {
      "text/plain": [
       "'Prime Number:19'"
      ]
     },
     "execution_count": 58,
     "metadata": {},
     "output_type": "execute_result"
    }
   ],
   "source": [
    "next(result)"
   ]
  },
  {
   "cell_type": "code",
   "execution_count": 59,
   "metadata": {},
   "outputs": [
    {
     "ename": "StopIteration",
     "evalue": "No More Primes",
     "output_type": "error",
     "traceback": [
      "\u001b[0;31m---------------------------------------------------------------------------\u001b[0m",
      "\u001b[0;31mStopIteration\u001b[0m                             Traceback (most recent call last)",
      "Cell \u001b[0;32mIn[59], line 1\u001b[0m\n\u001b[0;32m----> 1\u001b[0m \u001b[39mnext\u001b[39;49m(result)\n",
      "\u001b[0;31mStopIteration\u001b[0m: No More Primes"
     ]
    }
   ],
   "source": [
    "next(result)"
   ]
  },
  {
   "cell_type": "markdown",
   "metadata": {},
   "source": [
    "## Another Examples"
   ]
  },
  {
   "cell_type": "code",
   "execution_count": 60,
   "metadata": {},
   "outputs": [
    {
     "data": {
      "text/plain": [
       "<generator object simple_gen at 0x7f502c26a7a0>"
      ]
     },
     "execution_count": 60,
     "metadata": {},
     "output_type": "execute_result"
    }
   ],
   "source": [
    "def simple_gen():\n",
    "    yield \"Hello\"\n",
    "    yield \"world\"\n",
    "\n",
    "simple_gen()"
   ]
  },
  {
   "cell_type": "code",
   "execution_count": 61,
   "metadata": {},
   "outputs": [
    {
     "name": "stdout",
     "output_type": "stream",
     "text": [
      "gen            = <generator object simple_gen at 0x7f502c26a880>\n",
      "next(gen)      = 'Hello'\n",
      "gen.__next__() = 'world'\n"
     ]
    }
   ],
   "source": [
    "gen = simple_gen()\n",
    "\n",
    "print(f\"{gen            = }\")\n",
    "print(f\"{next(gen)      = }\")\n",
    "print(f\"{gen.__next__() = }\")"
   ]
  },
  {
   "attachments": {},
   "cell_type": "markdown",
   "metadata": {},
   "source": [
    "## yield from\n",
    "\n",
    "    - can be used with any iterable object"
   ]
  },
  {
   "cell_type": "code",
   "execution_count": 62,
   "metadata": {},
   "outputs": [
    {
     "data": {
      "text/plain": [
       "[0, 1, 2, 3, 4, 5, 6, 7, 8, 9]"
      ]
     },
     "execution_count": 62,
     "metadata": {},
     "output_type": "execute_result"
    }
   ],
   "source": [
    "def num_generator(n):\n",
    "    for i in range(n):\n",
    "        yield i\n",
    "\n",
    "\n",
    "ng = num_generator(10)\n",
    "\n",
    "list(ng)"
   ]
  },
  {
   "cell_type": "code",
   "execution_count": 64,
   "metadata": {},
   "outputs": [
    {
     "data": {
      "text/plain": [
       "[0, 1, 2, 3, 4, 5, 6, 7, 8, 9]"
      ]
     },
     "execution_count": 64,
     "metadata": {},
     "output_type": "execute_result"
    }
   ],
   "source": [
    "def num_generator(n):\n",
    "    # for i in range(n):\n",
    "    #     yield i\n",
    "    yield from range(n)\n",
    "\n",
    "ng = num_generator(10)\n",
    "\n",
    "list(ng)"
   ]
  },
  {
   "cell_type": "code",
   "execution_count": 63,
   "metadata": {},
   "outputs": [
    {
     "data": {
      "text/plain": [
       "(12, 34, 56, 78, 90)"
      ]
     },
     "execution_count": 63,
     "metadata": {},
     "output_type": "execute_result"
    }
   ],
   "source": [
    "def sequence_parser(mylist):\n",
    "    for ele in mylist:\n",
    "        yield ele\n",
    "\n",
    "\n",
    "sp = sequence_parser([12, 34, 56, 78, 90])\n",
    "\n",
    "tuple(sp)"
   ]
  },
  {
   "cell_type": "code",
   "execution_count": 65,
   "metadata": {},
   "outputs": [
    {
     "data": {
      "text/plain": [
       "(12, 34, 56, 78, 90)"
      ]
     },
     "execution_count": 65,
     "metadata": {},
     "output_type": "execute_result"
    }
   ],
   "source": [
    "def sequence_parser(mylist):\n",
    "    # for ele in mylist:\n",
    "    #     yield ele\n",
    "    yield from mylist\n",
    "\n",
    "sp = sequence_parser([12, 34, 56, 78, 90])\n",
    "\n",
    "tuple(sp)"
   ]
  },
  {
   "cell_type": "code",
   "execution_count": 66,
   "metadata": {},
   "outputs": [
    {
     "data": {
      "text/plain": [
       "(144, 1156, 3136, 6084, 8100)"
      ]
     },
     "execution_count": 66,
     "metadata": {},
     "output_type": "execute_result"
    }
   ],
   "source": [
    "def sequence_parser(mylist):\n",
    "    for ele in mylist:\n",
    "        yield ele ** 2     # yield from cant do this \n",
    "\n",
    "\n",
    "sp = sequence_parser([12, 34, 56, 78, 90])\n",
    "\n",
    "tuple(sp)"
   ]
  },
  {
   "attachments": {},
   "cell_type": "markdown",
   "metadata": {},
   "source": [
    "### Generator Pipeline\n",
    "\n",
    "    - For given numbers\n",
    "                - Filter even number\n",
    "                - multiply by three\n",
    "                - convert to string"
   ]
  },
  {
   "cell_type": "code",
   "execution_count": 67,
   "metadata": {},
   "outputs": [
    {
     "name": "stdout",
     "output_type": "stream",
     "text": [
      "even_filter - start\n",
      "even_filter(numbers) = [2, 4, 6, 8, 10]\n",
      "multiply_by_three - start\n",
      "multiply_by_three(numbers) =[3, 6, 9, 12, 15, 18, 21, 24, 27, 30]\n",
      "convert_to_string - start\n",
      "convert_to_string(numbers) =['Number:1', 'Number:2', 'Number:3', 'Number:4', 'Number:5', 'Number:6', 'Number:7', 'Number:8', 'Number:9', 'Number:10']\n"
     ]
    }
   ],
   "source": [
    "# Method 1\n",
    "def even_filter(nums):\n",
    "    print(\"even_filter - start\")\n",
    "    even_nums = []\n",
    "    for num in nums:\n",
    "        if num % 2 == 0:\n",
    "            even_nums.append(num)\n",
    "    return even_nums\n",
    "\n",
    "\n",
    "def multiply_by_three(nums):\n",
    "    print(\"multiply_by_three - start\")\n",
    "    muls_of_3 = []\n",
    "    for num in nums:\n",
    "        muls_of_3.append(num * 3)\n",
    "\n",
    "    return muls_of_3\n",
    "\n",
    "\n",
    "def convert_to_string(nums):\n",
    "    print(\"convert_to_string - start\")\n",
    "    num_strs = []\n",
    "    for num in nums:\n",
    "        num_strs.append(f\"Number:{num}\")\n",
    "\n",
    "    return num_strs\n",
    "\n",
    "\n",
    "\n",
    "numbers = [1, 2, 3, 4, 5, 6, 7, 8, 9, 10]\n",
    "\n",
    "print(f\"{even_filter(numbers) = }\")\n",
    "print(f\"{multiply_by_three(numbers) =}\")\n",
    "print(f\"{convert_to_string(numbers) =}\")"
   ]
  },
  {
   "cell_type": "code",
   "execution_count": 68,
   "metadata": {},
   "outputs": [
    {
     "name": "stdout",
     "output_type": "stream",
     "text": [
      "even_filter - start\n",
      "multiply_by_three - start\n",
      "convert_to_string - start\n",
      "['Number:6', 'Number:12', 'Number:18', 'Number:24', 'Number:30']\n"
     ]
    }
   ],
   "source": [
    "# pipeline\n",
    "\n",
    "evens = even_filter(numbers)\n",
    "mul3 = multiply_by_three(evens)\n",
    "result = convert_to_string(mul3)\n",
    "\n",
    "print(result)\n"
   ]
  },
  {
   "cell_type": "code",
   "execution_count": 69,
   "metadata": {},
   "outputs": [
    {
     "name": "stdout",
     "output_type": "stream",
     "text": [
      "even_filter - start\n",
      "multiply_by_three - start\n",
      "convert_to_string - start\n",
      "result = ['Number:6', 'Number:12', 'Number:18', 'Number:24', 'Number:30']\n"
     ]
    }
   ],
   "source": [
    "# pipeline\n",
    "\n",
    "result = convert_to_string(multiply_by_three(even_filter(numbers)))\n",
    "print(f\"{result = }\")"
   ]
  },
  {
   "cell_type": "code",
   "execution_count": 71,
   "metadata": {},
   "outputs": [],
   "source": [
    "# Method 2 - Generator Pipeline\n",
    "def even_filter(nums):\n",
    "    print(\"even_filter - start\")\n",
    "    for num in nums:\n",
    "        if num % 2 == 0:\n",
    "            yield num\n",
    "\n",
    "\n",
    "def multiply_by_three(nums):\n",
    "    print(\"multiply_by_three - start\")\n",
    "    for num in nums:\n",
    "        yield num * 3\n",
    "\n",
    "\n",
    "def convert_to_string(nums):\n",
    "    print(\"convert_to_string - start\")\n",
    "    for num in nums:\n",
    "        yield f\"Number:{num}\""
   ]
  },
  {
   "cell_type": "code",
   "execution_count": 72,
   "metadata": {},
   "outputs": [
    {
     "name": "stdout",
     "output_type": "stream",
     "text": [
      "even_filter - start\n"
     ]
    },
    {
     "data": {
      "text/plain": [
       "[2, 4, 6, 8, 10]"
      ]
     },
     "execution_count": 72,
     "metadata": {},
     "output_type": "execute_result"
    }
   ],
   "source": [
    "list(even_filter(numbers))"
   ]
  },
  {
   "cell_type": "code",
   "execution_count": 73,
   "metadata": {},
   "outputs": [
    {
     "name": "stdout",
     "output_type": "stream",
     "text": [
      "multiply_by_three - start\n"
     ]
    },
    {
     "data": {
      "text/plain": [
       "[3, 6, 9, 12, 15, 18, 21, 24, 27, 30]"
      ]
     },
     "execution_count": 73,
     "metadata": {},
     "output_type": "execute_result"
    }
   ],
   "source": [
    "list(multiply_by_three(numbers))"
   ]
  },
  {
   "cell_type": "code",
   "execution_count": 74,
   "metadata": {},
   "outputs": [
    {
     "name": "stdout",
     "output_type": "stream",
     "text": [
      "convert_to_string - start\n"
     ]
    },
    {
     "data": {
      "text/plain": [
       "['Number:1',\n",
       " 'Number:2',\n",
       " 'Number:3',\n",
       " 'Number:4',\n",
       " 'Number:5',\n",
       " 'Number:6',\n",
       " 'Number:7',\n",
       " 'Number:8',\n",
       " 'Number:9',\n",
       " 'Number:10']"
      ]
     },
     "execution_count": 74,
     "metadata": {},
     "output_type": "execute_result"
    }
   ],
   "source": [
    "list(convert_to_string(numbers))"
   ]
  },
  {
   "cell_type": "code",
   "execution_count": 75,
   "metadata": {},
   "outputs": [
    {
     "name": "stdout",
     "output_type": "stream",
     "text": [
      "<generator object convert_to_string at 0x7f502c1d0c80>\n"
     ]
    }
   ],
   "source": [
    "# pipeline\n",
    "\n",
    "result = convert_to_string(multiply_by_three(even_filter(numbers)))\n",
    "\n",
    "print(result)"
   ]
  },
  {
   "cell_type": "code",
   "execution_count": 76,
   "metadata": {},
   "outputs": [
    {
     "name": "stdout",
     "output_type": "stream",
     "text": [
      "convert_to_string - start\n",
      "multiply_by_three - start\n",
      "even_filter - start\n"
     ]
    },
    {
     "data": {
      "text/plain": [
       "'Number:6'"
      ]
     },
     "execution_count": 76,
     "metadata": {},
     "output_type": "execute_result"
    }
   ],
   "source": [
    "next(result)"
   ]
  },
  {
   "cell_type": "code",
   "execution_count": 77,
   "metadata": {},
   "outputs": [
    {
     "data": {
      "text/plain": [
       "'Number:12'"
      ]
     },
     "execution_count": 77,
     "metadata": {},
     "output_type": "execute_result"
    }
   ],
   "source": [
    "next(result)"
   ]
  },
  {
   "cell_type": "code",
   "execution_count": 78,
   "metadata": {},
   "outputs": [
    {
     "data": {
      "text/plain": [
       "'Number:18'"
      ]
     },
     "execution_count": 78,
     "metadata": {},
     "output_type": "execute_result"
    }
   ],
   "source": [
    "next(result)"
   ]
  },
  {
   "cell_type": "code",
   "execution_count": 79,
   "metadata": {},
   "outputs": [
    {
     "data": {
      "text/plain": [
       "'Number:24'"
      ]
     },
     "execution_count": 79,
     "metadata": {},
     "output_type": "execute_result"
    }
   ],
   "source": [
    "next(result)"
   ]
  },
  {
   "cell_type": "code",
   "execution_count": 80,
   "metadata": {},
   "outputs": [
    {
     "data": {
      "text/plain": [
       "'Number:30'"
      ]
     },
     "execution_count": 80,
     "metadata": {},
     "output_type": "execute_result"
    }
   ],
   "source": [
    "result.__next__()"
   ]
  },
  {
   "cell_type": "code",
   "execution_count": 81,
   "metadata": {},
   "outputs": [],
   "source": [
    "for remaining_val in result:\n",
    "    print(remaining_val)"
   ]
  },
  {
   "cell_type": "markdown",
   "metadata": {},
   "source": [
    "## Generator Expressions"
   ]
  },
  {
   "cell_type": "code",
   "execution_count": 82,
   "metadata": {},
   "outputs": [
    {
     "name": "stdout",
     "output_type": "stream",
     "text": [
      "0\n",
      "1\n",
      "2\n",
      "3\n",
      "4\n",
      "5\n",
      "6\n",
      "7\n",
      "8\n"
     ]
    }
   ],
   "source": [
    "for i in range(9):\n",
    "    print(i)"
   ]
  },
  {
   "cell_type": "code",
   "execution_count": 84,
   "metadata": {},
   "outputs": [
    {
     "data": {
      "text/plain": [
       "[0, 1, 2, 3, 4, 5, 6, 7, 8]"
      ]
     },
     "execution_count": 84,
     "metadata": {},
     "output_type": "execute_result"
    }
   ],
   "source": [
    "new_list = []\n",
    "for i in range(9):\n",
    "    new_list.append(i)\n",
    "\n",
    "new_list"
   ]
  },
  {
   "cell_type": "code",
   "execution_count": 85,
   "metadata": {},
   "outputs": [
    {
     "data": {
      "text/plain": [
       "[0, 1, 2, 3, 4, 5, 6, 7, 8]"
      ]
     },
     "execution_count": 85,
     "metadata": {},
     "output_type": "execute_result"
    }
   ],
   "source": [
    "listCompr = [i for i in range(9)]\n",
    "\n",
    "listCompr"
   ]
  },
  {
   "cell_type": "code",
   "execution_count": 86,
   "metadata": {},
   "outputs": [
    {
     "data": {
      "text/plain": [
       "{0, 1, 2, 3, 4, 5, 6}"
      ]
     },
     "execution_count": 86,
     "metadata": {},
     "output_type": "execute_result"
    }
   ],
   "source": [
    "setCompr = {i for i in range(7)}\n",
    "\n",
    "setCompr"
   ]
  },
  {
   "cell_type": "code",
   "execution_count": 87,
   "metadata": {},
   "outputs": [
    {
     "data": {
      "text/plain": [
       "{0: 0, 1: 1, 2: 4, 3: 9, 4: 16, 5: 25, 6: 36}"
      ]
     },
     "execution_count": 87,
     "metadata": {},
     "output_type": "execute_result"
    }
   ],
   "source": [
    "dictCompr = {i: i**2 for i in range(7)}\n",
    "\n",
    "dictCompr"
   ]
  },
  {
   "cell_type": "code",
   "execution_count": 88,
   "metadata": {},
   "outputs": [
    {
     "data": {
      "text/plain": [
       "<generator object <genexpr> at 0x7f502c1d21f0>"
      ]
     },
     "execution_count": 88,
     "metadata": {},
     "output_type": "execute_result"
    }
   ],
   "source": [
    "(i for i in range(7))"
   ]
  },
  {
   "cell_type": "code",
   "execution_count": 89,
   "metadata": {},
   "outputs": [
    {
     "name": "stdout",
     "output_type": "stream",
     "text": [
      "<generator object <genexpr> at 0x7f502c1d2d50> <class 'generator'>\n"
     ]
    }
   ],
   "source": [
    "genExpr = (i for i in range(7))\n",
    "print(f\"{genExpr} {type(genExpr)}\") "
   ]
  },
  {
   "cell_type": "code",
   "execution_count": 90,
   "metadata": {},
   "outputs": [
    {
     "data": {
      "text/plain": [
       "0"
      ]
     },
     "execution_count": 90,
     "metadata": {},
     "output_type": "execute_result"
    }
   ],
   "source": [
    "next(genExpr)"
   ]
  },
  {
   "cell_type": "code",
   "execution_count": 91,
   "metadata": {},
   "outputs": [
    {
     "data": {
      "text/plain": [
       "1"
      ]
     },
     "execution_count": 91,
     "metadata": {},
     "output_type": "execute_result"
    }
   ],
   "source": [
    "genExpr.__next__()"
   ]
  },
  {
   "cell_type": "code",
   "execution_count": 92,
   "metadata": {},
   "outputs": [
    {
     "name": "stdout",
     "output_type": "stream",
     "text": [
      "2\n",
      "3\n",
      "4\n",
      "5\n",
      "6\n"
     ]
    }
   ],
   "source": [
    "for val in genExpr:\n",
    "    print(val)"
   ]
  },
  {
   "cell_type": "code",
   "execution_count": 93,
   "metadata": {},
   "outputs": [
    {
     "name": "stdout",
     "output_type": "stream",
     "text": [
      "  \n",
      "\n",
      "    sys.getsizeof(listCompr) =184\n",
      "    sys.getsizeof(setCompr) = 728\n",
      "    sys.getsizeof(dictCompr) = 360\n",
      "    sys.getsizeof(genExpr) = 104\n",
      "\n",
      "\n",
      "\n"
     ]
    }
   ],
   "source": [
    "import sys \n",
    "\n",
    "\n",
    "print(f\"\"\"  \n",
    "\n",
    "    {sys.getsizeof(listCompr) =}\n",
    "    {sys.getsizeof(setCompr) = }\n",
    "    {sys.getsizeof(dictCompr) = }\n",
    "    {sys.getsizeof(genExpr) = }\n",
    "\n",
    "\n",
    "\"\"\")"
   ]
  },
  {
   "cell_type": "markdown",
   "metadata": {},
   "source": [
    "### chained generator Expressions"
   ]
  },
  {
   "cell_type": "code",
   "execution_count": 94,
   "metadata": {},
   "outputs": [],
   "source": [
    "integers = range(9)\n",
    "\n",
    "squares = ( i ** 2 for i in integers)\n",
    "negated = (-i for i in squares)"
   ]
  },
  {
   "cell_type": "code",
   "execution_count": 95,
   "metadata": {},
   "outputs": [
    {
     "data": {
      "text/plain": [
       "<generator object <genexpr> at 0x7f502c2302e0>"
      ]
     },
     "execution_count": 95,
     "metadata": {},
     "output_type": "execute_result"
    }
   ],
   "source": [
    "negated"
   ]
  },
  {
   "cell_type": "code",
   "execution_count": 96,
   "metadata": {},
   "outputs": [
    {
     "name": "stdout",
     "output_type": "stream",
     "text": [
      "0\n",
      "-1\n",
      "-4\n",
      "-9\n",
      "-16\n",
      "-25\n",
      "-36\n",
      "-49\n",
      "-64\n"
     ]
    }
   ],
   "source": [
    "for num in negated:\n",
    "    print(num)"
   ]
  },
  {
   "cell_type": "code",
   "execution_count": 97,
   "metadata": {},
   "outputs": [],
   "source": [
    "integers = range(9)\n",
    "\n",
    "squares = ( i ** 2 for i in integers)\n",
    "negated = (-i for i in squares)"
   ]
  },
  {
   "cell_type": "code",
   "execution_count": 98,
   "metadata": {},
   "outputs": [
    {
     "data": {
      "text/plain": [
       "0"
      ]
     },
     "execution_count": 98,
     "metadata": {},
     "output_type": "execute_result"
    }
   ],
   "source": [
    "next(negated)"
   ]
  },
  {
   "cell_type": "code",
   "execution_count": 99,
   "metadata": {},
   "outputs": [
    {
     "data": {
      "text/plain": [
       "-1"
      ]
     },
     "execution_count": 99,
     "metadata": {},
     "output_type": "execute_result"
    }
   ],
   "source": [
    "next(negated)"
   ]
  },
  {
   "cell_type": "code",
   "execution_count": 100,
   "metadata": {},
   "outputs": [
    {
     "name": "stdout",
     "output_type": "stream",
     "text": [
      "[0, -1, -4, -9, -16, -25, -36, -49, -64]\n"
     ]
    }
   ],
   "source": [
    "squared = (i * i for i in integers)\n",
    "negated = (-i for i in squared)\n",
    "\n",
    "print(list(negated))"
   ]
  },
  {
   "attachments": {},
   "cell_type": "markdown",
   "metadata": {},
   "source": [
    "### Assignments:\n",
    "\n",
    "\n",
    "  Q) Using the generator concept , display all the prime numbers from 0 till 99 crores\n",
    "\n",
    "  Q) mylist =[12, 1123, 23, 23, 234, 234, 23, 23, 234, 234, 234]\n",
    "    slice_size = 3\n",
    "\n",
    "    def slicing_list(mylist, slice_size)\n",
    "          logic\n",
    "\n",
    "    assert slicing_list(mylist, 3) = [ [12, 1123, 23], [ 23, 234, 234], [234, 23, 23], [234, 234]]\n",
    "\n",
    "  Q) Write a generator to mimck the range() function\n"
   ]
  },
  {
   "cell_type": "markdown",
   "metadata": {},
   "source": []
  }
 ],
 "metadata": {
  "kernelspec": {
   "display_name": "Python 3",
   "language": "python",
   "name": "python3"
  },
  "language_info": {
   "codemirror_mode": {
    "name": "ipython",
    "version": 3
   },
   "file_extension": ".py",
   "mimetype": "text/x-python",
   "name": "python",
   "nbconvert_exporter": "python",
   "pygments_lexer": "ipython3",
   "version": "3.10.4"
  },
  "orig_nbformat": 4
 },
 "nbformat": 4,
 "nbformat_minor": 2
}
