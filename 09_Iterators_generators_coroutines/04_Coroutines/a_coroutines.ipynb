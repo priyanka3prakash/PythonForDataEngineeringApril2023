{
 "cells": [
  {
   "attachments": {},
   "cell_type": "markdown",
   "metadata": {},
   "source": [
    "## Coroutines\n",
    "\n",
    "    - pep-0342\n",
    "    - generators are data producers\n",
    "    - coroutines are data consumers\n",
    "\n",
    "    - Coroutines consume values using a (yield)"
   ]
  },
  {
   "cell_type": "code",
   "execution_count": 1,
   "metadata": {},
   "outputs": [
    {
     "data": {
      "text/plain": [
       "<generator object hello at 0x7f61d0801000>"
      ]
     },
     "execution_count": 1,
     "metadata": {},
     "output_type": "execute_result"
    }
   ],
   "source": [
    "def hello():  # -- generator\n",
    "    # print('Hello world')\n",
    "    # return 'Hello world'\n",
    "    yield \"Hello world\"\n",
    "\n",
    "\n",
    "hello()"
   ]
  },
  {
   "cell_type": "code",
   "execution_count": 2,
   "metadata": {},
   "outputs": [
    {
     "name": "stdout",
     "output_type": "stream",
     "text": [
      "<class 'generator'> <generator object hello at 0x7f61d08010e0>\n",
      "next(result) = 'Hello world'\n"
     ]
    }
   ],
   "source": [
    "result = hello()\n",
    "print(f\"{type(result)} {result}\")  # generator\n",
    "print(f\"{next(result) = }\")  # 'Hello world'"
   ]
  },
  {
   "cell_type": "code",
   "execution_count": 3,
   "metadata": {},
   "outputs": [
    {
     "data": {
      "text/plain": [
       "<generator object hello at 0x7f61d0800a50>"
      ]
     },
     "execution_count": 3,
     "metadata": {},
     "output_type": "execute_result"
    }
   ],
   "source": [
    "def hello():  # generator\n",
    "    value = \"Hello world\"\n",
    "    yield value\n",
    "\n",
    "\n",
    "hello()"
   ]
  },
  {
   "cell_type": "code",
   "execution_count": 4,
   "metadata": {},
   "outputs": [
    {
     "name": "stdout",
     "output_type": "stream",
     "text": [
      "<class 'generator'> <generator object hello at 0x7f61d0801070>\n",
      "next(result) = 'Hello world'\n"
     ]
    }
   ],
   "source": [
    "result = hello()\n",
    "print(f\"{type(result)} {result}\")  # generator\n",
    "print(f\"{next(result) = }\")  # 'Hello world'"
   ]
  },
  {
   "cell_type": "code",
   "execution_count": 5,
   "metadata": {},
   "outputs": [
    {
     "name": "stdout",
     "output_type": "stream",
     "text": [
      "<class 'generator'> <generator object hello at 0x7f61d0800d60>\n",
      "next(result) = 'Hello world'\n"
     ]
    }
   ],
   "source": [
    "def hello():  # coroutine\n",
    "    value = yield \"Hello world\"\n",
    "    yield value\n",
    "\n",
    "\n",
    "result = hello()\n",
    "print(f\"{type(result)} {result}\")  # generator\n",
    "print(f\"{next(result) = }\")  # 'Hello world'"
   ]
  },
  {
   "cell_type": "code",
   "execution_count": 6,
   "metadata": {},
   "outputs": [
    {
     "name": "stdout",
     "output_type": "stream",
     "text": [
      "<class 'generator'> <generator object hello at 0x7f61d0801700>\n",
      "next(result) = None\n"
     ]
    }
   ],
   "source": [
    "def hello():  # coroutine\n",
    "    value = yield\n",
    "    yield value\n",
    "\n",
    "\n",
    "# NOTE: Default initial yield is None\n",
    "\n",
    "result = hello()\n",
    "print(f\"{type(result)} {result}\")\n",
    "print(f\"{next(result) = }\")  # None"
   ]
  },
  {
   "cell_type": "markdown",
   "metadata": {},
   "source": [
    "# # Anothr Examples"
   ]
  },
  {
   "cell_type": "code",
   "execution_count": 7,
   "metadata": {},
   "outputs": [],
   "source": [
    "def my_coroutine(num):\n",
    "    value = yield \"default string\"\n",
    "    yield value\n",
    "    yield value\n",
    "    value = yield \"new string\"\n",
    "    yield value"
   ]
  },
  {
   "cell_type": "code",
   "execution_count": 8,
   "metadata": {},
   "outputs": [
    {
     "name": "stdout",
     "output_type": "stream",
     "text": [
      "type(c)    = <class 'generator'>\n",
      "c          = <generator object my_coroutine at 0x7f61d0801850>\n"
     ]
    }
   ],
   "source": [
    "# Step 1: To call\n",
    "c = my_coroutine(4)\n",
    "print(f\"{type(c)    = }\")  # <class 'generator'>\n",
    "print(f\"{c          = }\")  # <generator object my_coroutine at 0x0000022D8B349A10>"
   ]
  },
  {
   "cell_type": "code",
   "execution_count": 9,
   "metadata": {},
   "outputs": [
    {
     "name": "stdout",
     "output_type": "stream",
     "text": [
      "next(c) ='default string'\n"
     ]
    }
   ],
   "source": [
    "# Step 2: to prime the generator to become coroutine\n",
    "print(f\"{next(c) =}\")  # 'default string'"
   ]
  },
  {
   "cell_type": "code",
   "execution_count": 10,
   "metadata": {},
   "outputs": [
    {
     "name": "stdout",
     "output_type": "stream",
     "text": [
      "c.send('first')  ='first'\n",
      "c.send('second') ='first'\n",
      "c.send('third')  ='new string'\n"
     ]
    }
   ],
   "source": [
    "# Step 3: Sending values to coroutine\n",
    "print(f\"{c.send('first')  =}\")  # 'first'\n",
    "print(f\"{c.send('second') =}\")  # 'first'\n",
    "print(f\"{c.send('third')  =}\")  # 'new string'"
   ]
  },
  {
   "cell_type": "code",
   "execution_count": 11,
   "metadata": {},
   "outputs": [
    {
     "data": {
      "text/plain": [
       "'fourth'"
      ]
     },
     "execution_count": 11,
     "metadata": {},
     "output_type": "execute_result"
    }
   ],
   "source": [
    "c.send(\"fourth\")"
   ]
  },
  {
   "cell_type": "code",
   "execution_count": 13,
   "metadata": {},
   "outputs": [
    {
     "ename": "StopIteration",
     "evalue": "",
     "output_type": "error",
     "traceback": [
      "\u001b[0;31m---------------------------------------------------------------------------\u001b[0m",
      "\u001b[0;31mStopIteration\u001b[0m                             Traceback (most recent call last)",
      "Cell \u001b[0;32mIn[13], line 1\u001b[0m\n\u001b[0;32m----> 1\u001b[0m \u001b[39mprint\u001b[39m(\u001b[39mf\u001b[39m\u001b[39m\"\u001b[39m\u001b[39m{\u001b[39;00mc\u001b[39m.\u001b[39;49msend(\u001b[39m'\u001b[39;49m\u001b[39mfirst\u001b[39;49m\u001b[39m'\u001b[39;49m)\u001b[39m  \u001b[39m\u001b[39m=}\u001b[39;00m\u001b[39m\"\u001b[39m)  \n",
      "\u001b[0;31mStopIteration\u001b[0m: "
     ]
    }
   ],
   "source": [
    "print(f\"{c.send('first')  =}\")  "
   ]
  },
  {
   "cell_type": "code",
   "execution_count": 14,
   "metadata": {},
   "outputs": [],
   "source": [
    "# To close the coroutine\n",
    "c.close()"
   ]
  },
  {
   "attachments": {},
   "cell_type": "markdown",
   "metadata": {},
   "source": [
    "## Another Example with Infinite receive"
   ]
  },
  {
   "cell_type": "code",
   "execution_count": 15,
   "metadata": {},
   "outputs": [
    {
     "name": "stdout",
     "output_type": "stream",
     "text": [
      "next(it) =1234\n"
     ]
    }
   ],
   "source": [
    "def my_coroutine():\n",
    "    while True:\n",
    "        received = yield 1234  # values will be received here\n",
    "        print(f\"Received :{received}\")\n",
    "\n",
    "\n",
    "# Step 1: creating the generator\n",
    "it = my_coroutine()\n",
    "\n",
    "# Step 2: Prime the coroutine\n",
    "print(f\"{next(it) =}\")  # 1234\n"
   ]
  },
  {
   "cell_type": "code",
   "execution_count": 16,
   "metadata": {},
   "outputs": [
    {
     "name": "stdout",
     "output_type": "stream",
     "text": [
      "Received :First\n"
     ]
    },
    {
     "data": {
      "text/plain": [
       "1234"
      ]
     },
     "execution_count": 16,
     "metadata": {},
     "output_type": "execute_result"
    }
   ],
   "source": [
    "# Step 3: sending values to coroutine\n",
    "it.send(\"First\")"
   ]
  },
  {
   "cell_type": "code",
   "execution_count": 17,
   "metadata": {},
   "outputs": [
    {
     "name": "stdout",
     "output_type": "stream",
     "text": [
      "Received :Second\n",
      "Received :third\n"
     ]
    },
    {
     "data": {
      "text/plain": [
       "1234"
      ]
     },
     "execution_count": 17,
     "metadata": {},
     "output_type": "execute_result"
    }
   ],
   "source": [
    "it.send(\"Second\")\n",
    "it.send(\"third\")"
   ]
  },
  {
   "cell_type": "code",
   "execution_count": 18,
   "metadata": {},
   "outputs": [
    {
     "name": "stdout",
     "output_type": "stream",
     "text": [
      "Received :0\n",
      "Received :1\n",
      "Received :2\n",
      "Received :3\n",
      "Received :4\n",
      "Received :5\n",
      "Received :6\n",
      "Received :7\n",
      "Received :8\n"
     ]
    }
   ],
   "source": [
    "for i in range(9):\n",
    "    it.send(i)"
   ]
  },
  {
   "cell_type": "code",
   "execution_count": 19,
   "metadata": {},
   "outputs": [],
   "source": [
    "# Step 4: close the coroutine\n",
    "it.close()\n"
   ]
  },
  {
   "cell_type": "code",
   "execution_count": 20,
   "metadata": {},
   "outputs": [
    {
     "name": "stdout",
     "output_type": "stream",
     "text": [
      "coroutine is closed. Cant send any value\n"
     ]
    }
   ],
   "source": [
    "try:\n",
    "    it.send(\"fourth\")\n",
    "except StopIteration:\n",
    "    print(\"coroutine is closed. Cant send any value\")"
   ]
  },
  {
   "attachments": {},
   "cell_type": "markdown",
   "metadata": {},
   "source": [
    "### Finite Reception"
   ]
  },
  {
   "cell_type": "code",
   "execution_count": 21,
   "metadata": {},
   "outputs": [
    {
     "name": "stdout",
     "output_type": "stream",
     "text": [
      "next(it) =1234\n",
      "Received :First\n",
      "Received :Second\n",
      "Received :third\n"
     ]
    },
    {
     "data": {
      "text/plain": [
       "1234"
      ]
     },
     "execution_count": 21,
     "metadata": {},
     "output_type": "execute_result"
    }
   ],
   "source": [
    "def my_coroutine(count=5):\n",
    "    for _ in range(count):\n",
    "        received = yield 1234  # values will be received here\n",
    "        print(f\"Received :{received}\")\n",
    "\n",
    "# Step 1: creating the generator\n",
    "it = my_coroutine(5)\n",
    "\n",
    "# Step 2: Prime the coroutine\n",
    "print(f\"{next(it) =}\")\n",
    "\n",
    "\n",
    "# Step 3: sending values to coroutine\n",
    "it.send(\"First\")\n",
    "it.send(\"Second\")\n",
    "it.send(\"third\")\n"
   ]
  },
  {
   "cell_type": "code",
   "execution_count": 22,
   "metadata": {},
   "outputs": [
    {
     "name": "stdout",
     "output_type": "stream",
     "text": [
      "Received :0\n",
      "Received :1\n"
     ]
    },
    {
     "ename": "StopIteration",
     "evalue": "",
     "output_type": "error",
     "traceback": [
      "\u001b[0;31m---------------------------------------------------------------------------\u001b[0m",
      "\u001b[0;31mStopIteration\u001b[0m                             Traceback (most recent call last)",
      "Cell \u001b[0;32mIn[22], line 2\u001b[0m\n\u001b[1;32m      1\u001b[0m \u001b[39mfor\u001b[39;00m i \u001b[39min\u001b[39;00m \u001b[39mrange\u001b[39m(\u001b[39m9\u001b[39m):\n\u001b[0;32m----> 2\u001b[0m     it\u001b[39m.\u001b[39;49msend(i)\n",
      "\u001b[0;31mStopIteration\u001b[0m: "
     ]
    }
   ],
   "source": [
    "for i in range(9):\n",
    "    it.send(i)\n"
   ]
  },
  {
   "cell_type": "code",
   "execution_count": 23,
   "metadata": {},
   "outputs": [
    {
     "name": "stdout",
     "output_type": "stream",
     "text": [
      "coroutine is closed. Cant send any value\n"
     ]
    }
   ],
   "source": [
    "# Step 4: close the coroutine\n",
    "it.close()\n",
    "\n",
    "try:\n",
    "    it.send(\"fourth\")\n",
    "except StopIteration:\n",
    "    print(\"coroutine is closed. Cant send any value\")\n"
   ]
  },
  {
   "cell_type": "markdown",
   "metadata": {},
   "source": [
    "##  chaining the coroutines"
   ]
  },
  {
   "cell_type": "code",
   "execution_count": 1,
   "metadata": {},
   "outputs": [],
   "source": [
    "def producer(sentence, next_coroutine):\n",
    "    \"\"\"\n",
    "    Producer which just split strings and\n",
    "    feed it to pattern_filter coroutine\n",
    "    \"\"\"\n",
    "    tokens = sentence.split(\" \")\n",
    "    for token in tokens:\n",
    "        next_coroutine.send(token)\n",
    "    next_coroutine.close()\n",
    "\n",
    "\n",
    "def pattern_filter(pattern=\"ing\", next_coroutine=None):\n",
    "    \"\"\"\n",
    "    Search for pattern in received token\n",
    "    and if pattern got matched, send it to\n",
    "    print_token() coroutine for printing\n",
    "    \"\"\"\n",
    "    print(\"Searching for {}\".format(pattern))\n",
    "    try:\n",
    "        while True:\n",
    "            token = yield\n",
    "            if pattern in token:\n",
    "                next_coroutine.send(token)\n",
    "    except GeneratorExit:\n",
    "        print(\"Done with filtering!!!\")\n",
    "\n",
    "\n",
    "def print_token():\n",
    "    \"\"\"\n",
    "    Act as a sink, simply print the\n",
    "    received tokens\n",
    "    \"\"\"\n",
    "    print(\"I'm sink, i'll print tokens\")\n",
    "    try:\n",
    "        while True:\n",
    "            token = yield\n",
    "            print(token)\n",
    "    except GeneratorExit:\n",
    "        print(\"Done with printing!\")\n"
   ]
  },
  {
   "cell_type": "code",
   "execution_count": 4,
   "metadata": {},
   "outputs": [
    {
     "name": "stdout",
     "output_type": "stream",
     "text": [
      "I'm sink, i'll print tokens\n"
     ]
    }
   ],
   "source": [
    "# Pipeline\n",
    "\n",
    "pt = print_token()\n",
    "next(pt)"
   ]
  },
  {
   "cell_type": "code",
   "execution_count": 5,
   "metadata": {},
   "outputs": [
    {
     "name": "stdout",
     "output_type": "stream",
     "text": [
      "Searching for ing\n"
     ]
    }
   ],
   "source": [
    "pf = pattern_filter(next_coroutine=pt)\n",
    "next(pf)"
   ]
  },
  {
   "cell_type": "code",
   "execution_count": 6,
   "metadata": {},
   "outputs": [
    {
     "name": "stdout",
     "output_type": "stream",
     "text": [
      "running\n",
      "moving\n",
      "Done with filtering!!!\n"
     ]
    },
    {
     "name": "stderr",
     "output_type": "stream",
     "text": [
      "Bad pipe message: %s [b'Z\\x0b\\\\\\x84.6\\xd7|(\\xcc\\x81\\xadp4o=\\xe5\\xc0 \\x1a)\\\\\\xeb\\xcc\\x014\\x15\\x02\\x14\\x00p\\x83h\\x03\\xabM[~m\\xb2e\\xba\\xe1\\xf7[?\\xbd\\x88\\x03\\xd4\\xff\\x00\\x08\\x13\\x02\\x13\\x03\\x13\\x01\\x00\\xff\\x01\\x00\\x00\\x8f\\x00\\x00\\x00\\x0e\\x00\\x0c\\x00\\x00\\t127.0.0.1\\x00\\x0b\\x00\\x04\\x03\\x00\\x01\\x02\\x00\\n\\x00\\x0c\\x00\\n\\x00\\x1d\\x00\\x17\\x00\\x1e\\x00\\x19\\x00\\x18\\x00#\\x00\\x00\\x00\\x16\\x00\\x00\\x00\\x17\\x00\\x00\\x00\\r\\x00\\x1e\\x00\\x1c\\x04\\x03\\x05\\x03\\x06\\x03\\x08\\x07\\x08\\x08\\x08\\t\\x08\\n\\x08\\x0b\\x08\\x04\\x08\\x05\\x08\\x06\\x04\\x01\\x05\\x01\\x06\\x01\\x00+\\x00\\x03\\x02\\x03\\x04\\x00-\\x00\\x02\\x01\\x01\\x003\\x00&\\x00$\\x00\\x1d\\x00 n\\xdc\\xbf[\\xd6r\\x8fB\\xac\\xb3\\xf7D\\x9c\\xf3^\\xe8 b\\x9fd\\xb4\\xafx\\xfc\\x97\\xdf\\xd6\\xbe\\tk*']\n",
      "Bad pipe message: %s [b\"\\x14\\xed\\xf9\\xd5\\x9c\\xfd\\xb1_e\\xa5\\xf1\\xb6\\xbe,\\x9dL\\xd3=\\x00\\x00\\x86\\xc00\\xc0,\\xc0(\\xc0$\\xc0\\x14\\xc0\\n\\x00\\xa5\\x00\\xa3\\x00\\xa1\\x00\\x9f\\x00k\\x00j\\x00i\\x00h\\x009\\x008\\x007\\x006\\xc02\\xc0.\\xc0*\\xc0&\\xc0\\x0f\\xc0\\x05\\x00\\x9d\\x00=\\x005\\xc0/\\xc0+\\xc0'\\xc0#\\xc0\\x13\\xc0\\t\\x00\\xa4\\x00\\xa2\\x00\\xa0\\x00\\x9e\\x00g\\x00@\\x00?\\x00>\\x003\\x002\\x001\\x000\\xc01\\xc0-\\xc0)\\xc0%\\xc0\\x0e\\xc0\\x04\\x00\\x9c\\x00<\\x00\", b'\\x9a\\x00\\x99\\x00\\x98\\x00\\x97\\x00\\x96\\x00\\x07\\xc0\\x11\\xc0\\x07\\xc0\\x0c\\xc0\\x02\\x00\\x05\\x00\\x04\\x00\\xff\\x02\\x01\\x00\\x00g\\x00\\x00\\x00\\x0e\\x00\\x0c\\x00\\x00\\t127.0.0']\n",
      "Bad pipe message: %s [b\"\\x976f\\x02\\xe5\\x80\\n\\x00\\x06\\xdf\\xfc\\xb3\\xeb#\\xc6\\n\\r\\x9e\\x00\\x00|\\xc0,\\xc00\\x00\\xa3\\x00\\x9f\\xcc\\xa9\\xcc\\xa8\\xcc\\xaa\\xc0\\xaf\\xc0\\xad\\xc0\\xa3\\xc0\\x9f\\xc0]\\xc0a\\xc0W\\xc0S\\xc0+\\xc0/\\x00\\xa2\\x00\\x9e\\xc0\\xae\\xc0\\xac\\xc0\\xa2\\xc0\\x9e\\xc0\\\\\\xc0`\\xc0V\\xc0R\\xc0$\\xc0(\\x00k\\x00j\\xc0#\\xc0'\\x00g\\x00@\\xc0\\n\\xc0\\x14\\x009\\x008\\xc0\\t\\xc0\\x13\\x003\\x002\\x00\\x9d\\xc0\\xa1\\xc0\\x9d\\xc0Q\\x00\\x9c\\xc0\\xa0\\xc0\\x9c\\xc0P\\x00=\\x00<\\x005\\x00/\\x00\\x9a\\x00\\x99\\xc0\\x07\\xc0\\x11\\x00\\x96\\x00\\x05\\x00\\xff\\x01\\x00\\x00j\\x00\\x00\\x00\\x0e\\x00\\x0c\\x00\\x00\\t127.0.0.1\\x00\\x0b\\x00\\x04\\x03\\x00\\x01\\x02\\x00\\n\\x00\\x0c\\x00\\n\\x00\\x1d\\x00\\x17\\x00\\x1e\\x00\\x19\\x00\\x18\\x00#\\x00\\x00\\x00\\x16\"]\n",
      "Bad pipe message: %s [b'\\xe9\\xfaU\\n\\xa13\\xf9Z\\xc6R\\xb3f\\xd4\\x10Ip\\x8a{\\x00\\x00\\xa2\\xc0\\x14\\xc0\\n\\x009\\x008\\x007\\x006\\x00\\x88\\x00\\x87\\x00\\x86\\x00\\x85\\xc0\\x19\\x00:\\x00\\x89\\xc0\\x0f\\xc0\\x05\\x005\\x00\\x84\\xc0\\x13\\xc0\\t\\x003\\x002\\x001\\x000\\x00\\x9a\\x00\\x99\\x00\\x98\\x00\\x97\\x00E\\x00D\\x00C\\x00B\\xc0\\x18\\x004\\x00\\x9b\\x00F\\xc0\\x0e\\xc0\\x04\\x00']\n",
      "Bad pipe message: %s [b'%\\xe6.\\xf3\\xc1\\x913p\\x1e^qg\\xd4\\xd2,\\x01\\xd2\\xee\\x00\\x00>\\xc0\\x14\\xc0\\n\\x009\\x008\\x007\\x006\\xc0\\x0f\\xc0\\x05\\x005\\xc0\\x13\\xc0\\t\\x003\\x002\\x001\\x000\\xc0\\x0e\\xc0\\x04\\x00/\\x00\\x9a\\x00\\x99\\x00\\x98\\x00\\x97\\x00\\x96\\x00\\x07\\xc0\\x11\\xc0\\x07\\xc0\\x0c\\xc0\\x02\\x00\\x05\\x00\\x04\\x00\\xff\\x02\\x01\\x00\\x00C\\x00\\x00\\x00\\x0e\\x00\\x0c\\x00\\x00\\t127.0.0.1\\x00\\x0b\\x00\\x04\\x03\\x00\\x01\\x02\\x00\\n\\x00\\x1c\\x00\\x1a\\x00\\x17\\x00\\x19\\x00\\x1c\\x00\\x1b\\x00\\x18\\x00\\x1a\\x00\\x16\\x00\\x0e\\x00\\r\\x00\\x0b\\x00\\x0c\\x00\\t\\x00\\n\\x00#\\x00\\x00\\x00\\x0f\\x00\\x01\\x01\\x15\\x03\\x02\\x00']\n",
      "Bad pipe message: %s [b'k\\x04\\x1e\\xd4\\x9al\\xc4\\xdf\\x05\\xf5\\x03\\x9b\\x01\\x95\\x83X\\x99\\xfe\\x00\\x00\\xa2\\xc0\\x14\\xc0\\n\\x009']\n",
      "Bad pipe message: %s [b'\\x06N\\x0f\\x01Hr\\x9b\\xf6\\xa9\\xf5Jk\\xdc\\xe0qb&3\\x00\\x00>\\xc0\\x14']\n",
      "Bad pipe message: %s [b'\\x00\\x0b\\x00\\x04\\x03\\x00\\x01\\x02\\x00\\n\\x00\\x1c\\x00\\x1a\\x00\\x17\\x00\\x19\\x00\\x1c\\x00\\x1b\\x00\\x18\\x00\\x1a\\x00\\x16\\x00\\x0e\\x00\\r\\x00\\x0b\\x00\\x0c\\x00\\t\\x00\\n\\x00#\\x00\\x00\\x00', b' \\x00\\x1e\\x06\\x01\\x06\\x02\\x06\\x03\\x05\\x01\\x05']\n",
      "Bad pipe message: %s [b'F']\n",
      "Bad pipe message: %s [b'\\x96\\x00A\\x00\\x07\\xc0\\x11\\xc0\\x07\\xc0\\x16\\x00\\x18\\xc0\\x0c\\xc0\\x02\\x00\\x05\\x00\\x04\\xc0\\x12\\xc0\\x08\\x00\\x16\\x00\\x13\\x00\\x10\\x00\\r\\xc0\\x17\\x00\\x1b\\xc0\\r\\xc0\\x03\\x00\\n\\x00\\x15\\x00']\n",
      "Bad pipe message: %s [b'\\x03', b'\\x04\\x02\\x04', b'\\x01\\x03', b'\\x03', b'\\x02', b'\\x03']\n",
      "Bad pipe message: %s [b'\\x0f\\x00\\x0c\\x00\\x1a\\x00\\t\\x00\\x14\\x00\\x11\\x00\\x19\\x00\\x08\\x00\\x06']\n"
     ]
    }
   ],
   "source": [
    "producer(\n",
    "    sentence = \"Bob is running behind a fast moving car\", \n",
    "    next_coroutine=pf\n",
    ")"
   ]
  }
 ],
 "metadata": {
  "kernelspec": {
   "display_name": "Python 3",
   "language": "python",
   "name": "python3"
  },
  "language_info": {
   "codemirror_mode": {
    "name": "ipython",
    "version": 3
   },
   "file_extension": ".py",
   "mimetype": "text/x-python",
   "name": "python",
   "nbconvert_exporter": "python",
   "pygments_lexer": "ipython3",
   "version": "3.10.4"
  },
  "orig_nbformat": 4
 },
 "nbformat": 4,
 "nbformat_minor": 2
}
