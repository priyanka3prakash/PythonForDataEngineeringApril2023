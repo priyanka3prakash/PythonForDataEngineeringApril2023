{
 "cells": [
  {
   "attachments": {},
   "cell_type": "markdown",
   "metadata": {},
   "source": [
    "## Coroutines\n",
    "\n",
    "    - pep-0342\n",
    "    - generators are data producers\n",
    "    - coroutines are data consumers\n",
    "\n",
    "    - Coroutines consume values using a (yield)"
   ]
  },
  {
   "cell_type": "code",
   "execution_count": 1,
   "metadata": {},
   "outputs": [
    {
     "data": {
      "text/plain": [
       "<generator object hello at 0x7f61d0801000>"
      ]
     },
     "execution_count": 1,
     "metadata": {},
     "output_type": "execute_result"
    }
   ],
   "source": [
    "def hello():  # -- generator\n",
    "    # print('Hello world')\n",
    "    # return 'Hello world'\n",
    "    yield \"Hello world\"\n",
    "\n",
    "\n",
    "hello()"
   ]
  },
  {
   "cell_type": "code",
   "execution_count": 2,
   "metadata": {},
   "outputs": [
    {
     "name": "stdout",
     "output_type": "stream",
     "text": [
      "<class 'generator'> <generator object hello at 0x7f61d08010e0>\n",
      "next(result) = 'Hello world'\n"
     ]
    }
   ],
   "source": [
    "result = hello()\n",
    "print(f\"{type(result)} {result}\")  # generator\n",
    "print(f\"{next(result) = }\")  # 'Hello world'"
   ]
  },
  {
   "cell_type": "code",
   "execution_count": 3,
   "metadata": {},
   "outputs": [
    {
     "data": {
      "text/plain": [
       "<generator object hello at 0x7f61d0800a50>"
      ]
     },
     "execution_count": 3,
     "metadata": {},
     "output_type": "execute_result"
    }
   ],
   "source": [
    "def hello():  # generator\n",
    "    value = \"Hello world\"\n",
    "    yield value\n",
    "\n",
    "\n",
    "hello()"
   ]
  },
  {
   "cell_type": "code",
   "execution_count": 4,
   "metadata": {},
   "outputs": [
    {
     "name": "stdout",
     "output_type": "stream",
     "text": [
      "<class 'generator'> <generator object hello at 0x7f61d0801070>\n",
      "next(result) = 'Hello world'\n"
     ]
    }
   ],
   "source": [
    "result = hello()\n",
    "print(f\"{type(result)} {result}\")  # generator\n",
    "print(f\"{next(result) = }\")  # 'Hello world'"
   ]
  },
  {
   "cell_type": "code",
   "execution_count": 5,
   "metadata": {},
   "outputs": [
    {
     "name": "stdout",
     "output_type": "stream",
     "text": [
      "<class 'generator'> <generator object hello at 0x7f61d0800d60>\n",
      "next(result) = 'Hello world'\n"
     ]
    }
   ],
   "source": [
    "def hello():  # coroutine\n",
    "    value = yield \"Hello world\"\n",
    "    yield value\n",
    "\n",
    "\n",
    "result = hello()\n",
    "print(f\"{type(result)} {result}\")  # generator\n",
    "print(f\"{next(result) = }\")  # 'Hello world'"
   ]
  },
  {
   "cell_type": "code",
   "execution_count": 6,
   "metadata": {},
   "outputs": [
    {
     "name": "stdout",
     "output_type": "stream",
     "text": [
      "<class 'generator'> <generator object hello at 0x7f61d0801700>\n",
      "next(result) = None\n"
     ]
    }
   ],
   "source": [
    "def hello():  # coroutine\n",
    "    value = yield\n",
    "    yield value\n",
    "\n",
    "\n",
    "# NOTE: Default initial yield is None\n",
    "\n",
    "result = hello()\n",
    "print(f\"{type(result)} {result}\")\n",
    "print(f\"{next(result) = }\")  # None"
   ]
  },
  {
   "cell_type": "markdown",
   "metadata": {},
   "source": [
    "# # Anothr Examples"
   ]
  },
  {
   "cell_type": "code",
   "execution_count": 7,
   "metadata": {},
   "outputs": [],
   "source": [
    "def my_coroutine(num):\n",
    "    value = yield \"default string\"\n",
    "    yield value\n",
    "    yield value\n",
    "    value = yield \"new string\"\n",
    "    yield value"
   ]
  },
  {
   "cell_type": "code",
   "execution_count": 8,
   "metadata": {},
   "outputs": [
    {
     "name": "stdout",
     "output_type": "stream",
     "text": [
      "type(c)    = <class 'generator'>\n",
      "c          = <generator object my_coroutine at 0x7f61d0801850>\n"
     ]
    }
   ],
   "source": [
    "# Step 1: To call\n",
    "c = my_coroutine(4)\n",
    "print(f\"{type(c)    = }\")  # <class 'generator'>\n",
    "print(f\"{c          = }\")  # <generator object my_coroutine at 0x0000022D8B349A10>"
   ]
  },
  {
   "cell_type": "code",
   "execution_count": 9,
   "metadata": {},
   "outputs": [
    {
     "name": "stdout",
     "output_type": "stream",
     "text": [
      "next(c) ='default string'\n"
     ]
    }
   ],
   "source": [
    "# Step 2: to prime the generator to become coroutine\n",
    "print(f\"{next(c) =}\")  # 'default string'"
   ]
  },
  {
   "cell_type": "code",
   "execution_count": 10,
   "metadata": {},
   "outputs": [
    {
     "name": "stdout",
     "output_type": "stream",
     "text": [
      "c.send('first')  ='first'\n",
      "c.send('second') ='first'\n",
      "c.send('third')  ='new string'\n"
     ]
    }
   ],
   "source": [
    "# Step 3: Sending values to coroutine\n",
    "print(f\"{c.send('first')  =}\")  # 'first'\n",
    "print(f\"{c.send('second') =}\")  # 'first'\n",
    "print(f\"{c.send('third')  =}\")  # 'new string'"
   ]
  },
  {
   "cell_type": "code",
   "execution_count": 11,
   "metadata": {},
   "outputs": [
    {
     "data": {
      "text/plain": [
       "'fourth'"
      ]
     },
     "execution_count": 11,
     "metadata": {},
     "output_type": "execute_result"
    }
   ],
   "source": [
    "c.send(\"fourth\")"
   ]
  },
  {
   "cell_type": "code",
   "execution_count": 13,
   "metadata": {},
   "outputs": [
    {
     "ename": "StopIteration",
     "evalue": "",
     "output_type": "error",
     "traceback": [
      "\u001b[0;31m---------------------------------------------------------------------------\u001b[0m",
      "\u001b[0;31mStopIteration\u001b[0m                             Traceback (most recent call last)",
      "Cell \u001b[0;32mIn[13], line 1\u001b[0m\n\u001b[0;32m----> 1\u001b[0m \u001b[39mprint\u001b[39m(\u001b[39mf\u001b[39m\u001b[39m\"\u001b[39m\u001b[39m{\u001b[39;00mc\u001b[39m.\u001b[39;49msend(\u001b[39m'\u001b[39;49m\u001b[39mfirst\u001b[39;49m\u001b[39m'\u001b[39;49m)\u001b[39m  \u001b[39m\u001b[39m=}\u001b[39;00m\u001b[39m\"\u001b[39m)  \n",
      "\u001b[0;31mStopIteration\u001b[0m: "
     ]
    }
   ],
   "source": [
    "print(f\"{c.send('first')  =}\")  "
   ]
  },
  {
   "cell_type": "code",
   "execution_count": 14,
   "metadata": {},
   "outputs": [],
   "source": [
    "# To close the coroutine\n",
    "c.close()"
   ]
  },
  {
   "cell_type": "markdown",
   "metadata": {},
   "source": [
    "## Anoother Example with Infiite receive"
   ]
  },
  {
   "cell_type": "code",
   "execution_count": 15,
   "metadata": {},
   "outputs": [
    {
     "name": "stdout",
     "output_type": "stream",
     "text": [
      "next(it) =1234\n"
     ]
    }
   ],
   "source": [
    "def my_coroutine():\n",
    "    while True:\n",
    "        received = yield 1234  # values will be received here\n",
    "        print(f\"Received :{received}\")\n",
    "\n",
    "\n",
    "# Step 1: creating the generator\n",
    "it = my_coroutine()\n",
    "\n",
    "# Step 2: Prime the coroutine\n",
    "print(f\"{next(it) =}\")  # 1234\n"
   ]
  },
  {
   "cell_type": "code",
   "execution_count": 16,
   "metadata": {},
   "outputs": [
    {
     "name": "stdout",
     "output_type": "stream",
     "text": [
      "Received :First\n"
     ]
    },
    {
     "data": {
      "text/plain": [
       "1234"
      ]
     },
     "execution_count": 16,
     "metadata": {},
     "output_type": "execute_result"
    }
   ],
   "source": [
    "# Step 3: sending values to coroutine\n",
    "it.send(\"First\")"
   ]
  },
  {
   "cell_type": "code",
   "execution_count": 17,
   "metadata": {},
   "outputs": [
    {
     "name": "stdout",
     "output_type": "stream",
     "text": [
      "Received :Second\n",
      "Received :third\n"
     ]
    },
    {
     "data": {
      "text/plain": [
       "1234"
      ]
     },
     "execution_count": 17,
     "metadata": {},
     "output_type": "execute_result"
    }
   ],
   "source": [
    "it.send(\"Second\")\n",
    "it.send(\"third\")"
   ]
  },
  {
   "cell_type": "code",
   "execution_count": 18,
   "metadata": {},
   "outputs": [
    {
     "name": "stdout",
     "output_type": "stream",
     "text": [
      "Received :0\n",
      "Received :1\n",
      "Received :2\n",
      "Received :3\n",
      "Received :4\n",
      "Received :5\n",
      "Received :6\n",
      "Received :7\n",
      "Received :8\n"
     ]
    }
   ],
   "source": [
    "for i in range(9):\n",
    "    it.send(i)"
   ]
  },
  {
   "cell_type": "code",
   "execution_count": 19,
   "metadata": {},
   "outputs": [],
   "source": [
    "# Step 4: close the coroutine\n",
    "it.close()\n"
   ]
  },
  {
   "cell_type": "code",
   "execution_count": 20,
   "metadata": {},
   "outputs": [
    {
     "name": "stdout",
     "output_type": "stream",
     "text": [
      "coroutine is closed. Cant send any value\n"
     ]
    }
   ],
   "source": [
    "try:\n",
    "    it.send(\"fourth\")\n",
    "except StopIteration:\n",
    "    print(\"coroutine is closed. Cant send any value\")"
   ]
  },
  {
   "cell_type": "markdown",
   "metadata": {},
   "source": [
    "### Finite Rception"
   ]
  },
  {
   "cell_type": "code",
   "execution_count": 21,
   "metadata": {},
   "outputs": [
    {
     "name": "stdout",
     "output_type": "stream",
     "text": [
      "next(it) =1234\n",
      "Received :First\n",
      "Received :Second\n",
      "Received :third\n"
     ]
    },
    {
     "data": {
      "text/plain": [
       "1234"
      ]
     },
     "execution_count": 21,
     "metadata": {},
     "output_type": "execute_result"
    }
   ],
   "source": [
    "def my_coroutine(count=5):\n",
    "    for _ in range(count):\n",
    "        received = yield 1234  # values will be received here\n",
    "        print(f\"Received :{received}\")\n",
    "\n",
    "# Step 1: creating the generator\n",
    "it = my_coroutine(5)\n",
    "\n",
    "# Step 2: Prime the coroutine\n",
    "print(f\"{next(it) =}\")\n",
    "\n",
    "\n",
    "# Step 3: sending values to coroutine\n",
    "it.send(\"First\")\n",
    "it.send(\"Second\")\n",
    "it.send(\"third\")\n"
   ]
  },
  {
   "cell_type": "code",
   "execution_count": 22,
   "metadata": {},
   "outputs": [
    {
     "name": "stdout",
     "output_type": "stream",
     "text": [
      "Received :0\n",
      "Received :1\n"
     ]
    },
    {
     "ename": "StopIteration",
     "evalue": "",
     "output_type": "error",
     "traceback": [
      "\u001b[0;31m---------------------------------------------------------------------------\u001b[0m",
      "\u001b[0;31mStopIteration\u001b[0m                             Traceback (most recent call last)",
      "Cell \u001b[0;32mIn[22], line 2\u001b[0m\n\u001b[1;32m      1\u001b[0m \u001b[39mfor\u001b[39;00m i \u001b[39min\u001b[39;00m \u001b[39mrange\u001b[39m(\u001b[39m9\u001b[39m):\n\u001b[0;32m----> 2\u001b[0m     it\u001b[39m.\u001b[39;49msend(i)\n",
      "\u001b[0;31mStopIteration\u001b[0m: "
     ]
    }
   ],
   "source": [
    "for i in range(9):\n",
    "    it.send(i)\n"
   ]
  },
  {
   "cell_type": "code",
   "execution_count": 23,
   "metadata": {},
   "outputs": [
    {
     "name": "stdout",
     "output_type": "stream",
     "text": [
      "coroutine is closed. Cant send any value\n"
     ]
    }
   ],
   "source": [
    "# Step 4: close the coroutine\n",
    "it.close()\n",
    "\n",
    "try:\n",
    "    it.send(\"fourth\")\n",
    "except StopIteration:\n",
    "    print(\"coroutine is closed. Cant send any value\")\n"
   ]
  },
  {
   "cell_type": "markdown",
   "metadata": {},
   "source": [
    "##  chaining the coroutines"
   ]
  },
  {
   "cell_type": "code",
   "execution_count": null,
   "metadata": {},
   "outputs": [],
   "source": [
    "def producer(sentence, next_coroutine):\n",
    "    \"\"\"\n",
    "    Producer which just split strings and\n",
    "    feed it to pattern_filter coroutine\n",
    "    \"\"\"\n",
    "    tokens = sentence.split(\" \")\n",
    "    for token in tokens:\n",
    "        next_coroutine.send(token)\n",
    "    next_coroutine.close()\n",
    "\n",
    "\n",
    "def pattern_filter(pattern=\"ing\", next_coroutine=None):\n",
    "    \"\"\"\n",
    "    Search for pattern in received token\n",
    "    and if pattern got matched, send it to\n",
    "    print_token() coroutine for printing\n",
    "    \"\"\"\n",
    "    print(\"Searching for {}\".format(pattern))\n",
    "    try:\n",
    "        while True:\n",
    "            token = yield\n",
    "            if pattern in token:\n",
    "                next_coroutine.send(token)\n",
    "    except GeneratorExit:\n",
    "        print(\"Done with filtering!!!\")\n",
    "\n"
   ]
  }
 ],
 "metadata": {
  "kernelspec": {
   "display_name": "Python 3",
   "language": "python",
   "name": "python3"
  },
  "language_info": {
   "codemirror_mode": {
    "name": "ipython",
    "version": 3
   },
   "file_extension": ".py",
   "mimetype": "text/x-python",
   "name": "python",
   "nbconvert_exporter": "python",
   "pygments_lexer": "ipython3",
   "version": "3.10.4"
  },
  "orig_nbformat": 4
 },
 "nbformat": 4,
 "nbformat_minor": 2
}
