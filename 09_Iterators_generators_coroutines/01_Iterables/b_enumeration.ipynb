{
 "cells": [
  {
   "cell_type": "markdown",
   "metadata": {},
   "source": [
    "## Enumerate"
   ]
  },
  {
   "cell_type": "code",
   "execution_count": 1,
   "metadata": {},
   "outputs": [],
   "source": [
    "my_string = \"Program\""
   ]
  },
  {
   "cell_type": "code",
   "execution_count": 3,
   "metadata": {},
   "outputs": [
    {
     "name": "stdout",
     "output_type": "stream",
     "text": [
      "0 P\n",
      "1 r\n",
      "2 o\n",
      "3 g\n",
      "4 r\n",
      "5 a\n",
      "6 m\n"
     ]
    }
   ],
   "source": [
    "count = 0\n",
    "for ech_chr in my_string:\n",
    "    print(count, ech_chr)\n",
    "    count += 1"
   ]
  },
  {
   "cell_type": "code",
   "execution_count": 4,
   "metadata": {},
   "outputs": [
    {
     "data": {
      "text/plain": [
       "<enumerate at 0x7f8dc9cf3c00>"
      ]
     },
     "execution_count": 4,
     "metadata": {},
     "output_type": "execute_result"
    }
   ],
   "source": [
    "enumerate(my_string)"
   ]
  },
  {
   "cell_type": "code",
   "execution_count": 5,
   "metadata": {},
   "outputs": [
    {
     "data": {
      "text/plain": [
       "[(0, 'P'), (1, 'r'), (2, 'o'), (3, 'g'), (4, 'r'), (5, 'a'), (6, 'm')]"
      ]
     },
     "execution_count": 5,
     "metadata": {},
     "output_type": "execute_result"
    }
   ],
   "source": [
    "list(enumerate(my_string))"
   ]
  },
  {
   "cell_type": "code",
   "execution_count": 6,
   "metadata": {},
   "outputs": [
    {
     "name": "stdout",
     "output_type": "stream",
     "text": [
      "(0, 'P')\n",
      "(1, 'r')\n",
      "(2, 'o')\n",
      "(3, 'g')\n",
      "(4, 'r')\n",
      "(5, 'a')\n",
      "(6, 'm')\n"
     ]
    }
   ],
   "source": [
    "for ech_chr in enumerate(my_string):\n",
    "    print(ech_chr)"
   ]
  },
  {
   "cell_type": "code",
   "execution_count": 7,
   "metadata": {},
   "outputs": [
    {
     "name": "stdout",
     "output_type": "stream",
     "text": [
      "At loop  0, we found P\n",
      "At loop  1, we found r\n",
      "At loop  2, we found o\n",
      "At loop  3, we found g\n",
      "At loop  4, we found r\n",
      "At loop  5, we found a\n",
      "At loop  6, we found m\n"
     ]
    }
   ],
   "source": [
    "for loop_index, ech_chr in enumerate(my_string):\n",
    "    print(f\"At loop {loop_index:2}, we found {ech_chr}\")"
   ]
  },
  {
   "cell_type": "code",
   "execution_count": 8,
   "metadata": {},
   "outputs": [
    {
     "name": "stdout",
     "output_type": "stream",
     "text": [
      "At loop  0, we found P\n",
      "At loop  1, we found r\n",
      "At loop  2, we found o\n",
      "At loop  3, we found g\n",
      "At loop  4, we found r\n",
      "At loop  5, we found a\n",
      "At loop  6, we found m\n"
     ]
    }
   ],
   "source": [
    "for loop_index, ech_chr in enumerate(my_string, start=0):\n",
    "    print(f\"At loop {loop_index:2}, we found {ech_chr}\")"
   ]
  },
  {
   "cell_type": "code",
   "execution_count": 9,
   "metadata": {},
   "outputs": [
    {
     "name": "stdout",
     "output_type": "stream",
     "text": [
      "At loop  4, we found P\n",
      "At loop  5, we found r\n",
      "At loop  6, we found o\n",
      "At loop  7, we found g\n",
      "At loop  8, we found r\n",
      "At loop  9, we found a\n",
      "At loop 10, we found m\n"
     ]
    }
   ],
   "source": [
    "for loop_index, ech_chr in enumerate(my_string, start=4):\n",
    "    print(f\"At loop {loop_index:2}, we found {ech_chr}\")"
   ]
  },
  {
   "cell_type": "code",
   "execution_count": 10,
   "metadata": {},
   "outputs": [
    {
     "name": "stdout",
     "output_type": "stream",
     "text": [
      "At loop -3, we found P\n",
      "At loop -2, we found r\n",
      "At loop -1, we found o\n",
      "At loop  0, we found g\n",
      "At loop  1, we found r\n",
      "At loop  2, we found a\n",
      "At loop  3, we found m\n"
     ]
    }
   ],
   "source": [
    "for loop_index, ech_chr in enumerate(my_string, start=-3):\n",
    "    print(f\"At loop {loop_index:2}, we found {ech_chr}\")"
   ]
  },
  {
   "cell_type": "code",
   "execution_count": 11,
   "metadata": {},
   "outputs": [
    {
     "ename": "TypeError",
     "evalue": "'float' object cannot be interpreted as an integer",
     "output_type": "error",
     "traceback": [
      "\u001b[0;31m---------------------------------------------------------------------------\u001b[0m",
      "\u001b[0;31mTypeError\u001b[0m                                 Traceback (most recent call last)",
      "Cell \u001b[0;32mIn[11], line 1\u001b[0m\n\u001b[0;32m----> 1\u001b[0m \u001b[39mfor\u001b[39;00m loop_index, ech_chr \u001b[39min\u001b[39;00m \u001b[39menumerate\u001b[39;49m(my_string, start\u001b[39m=\u001b[39;49m\u001b[39m-\u001b[39;49m\u001b[39m3.5\u001b[39;49m):\n\u001b[1;32m      2\u001b[0m     \u001b[39mprint\u001b[39m(\u001b[39mf\u001b[39m\u001b[39m'\u001b[39m\u001b[39mAt loop \u001b[39m\u001b[39m{\u001b[39;00mloop_index\u001b[39m:\u001b[39;00m\u001b[39m2\u001b[39m\u001b[39m}\u001b[39;00m\u001b[39m, we found \u001b[39m\u001b[39m{\u001b[39;00mech_chr\u001b[39m}\u001b[39;00m\u001b[39m'\u001b[39m)\n",
      "\u001b[0;31mTypeError\u001b[0m: 'float' object cannot be interpreted as an integer"
     ]
    }
   ],
   "source": [
    "for loop_index, ech_chr in enumerate(my_string, start=-3.5):\n",
    "    print(f\"At loop {loop_index:2}, we found {ech_chr}\")"
   ]
  },
  {
   "cell_type": "code",
   "execution_count": null,
   "metadata": {},
   "outputs": [],
   "source": []
  }
 ],
 "metadata": {
  "kernelspec": {
   "display_name": "Python 3",
   "language": "python",
   "name": "python3"
  },
  "language_info": {
   "codemirror_mode": {
    "name": "ipython",
    "version": 3
   },
   "file_extension": ".py",
   "mimetype": "text/x-python",
   "name": "python",
   "nbconvert_exporter": "python",
   "pygments_lexer": "ipython3",
   "version": "3.10.4"
  },
  "orig_nbformat": 4
 },
 "nbformat": 4,
 "nbformat_minor": 2
}
