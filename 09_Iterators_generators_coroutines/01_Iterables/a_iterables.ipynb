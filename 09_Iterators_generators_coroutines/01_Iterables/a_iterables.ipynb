{
 "cells": [
  {
   "attachments": {},
   "cell_type": "markdown",
   "metadata": {},
   "source": [
    "## Iterables\n",
    "    - Objects which support iteration over them\n",
    "\n",
    "    non-iterable objects ====> int, float, None, True, False ..\n",
    "    Iterable objects     ====> str, list, tuple, dict, set, iterator, generator, range()"
   ]
  },
  {
   "cell_type": "code",
   "execution_count": 1,
   "metadata": {},
   "outputs": [
    {
     "ename": "TypeError",
     "evalue": "'int' object is not iterable",
     "output_type": "error",
     "traceback": [
      "\u001b[0;31m---------------------------------------------------------------------------\u001b[0m",
      "\u001b[0;31mTypeError\u001b[0m                                 Traceback (most recent call last)",
      "Cell \u001b[0;32mIn[1], line 1\u001b[0m\n\u001b[0;32m----> 1\u001b[0m \u001b[39mfor\u001b[39;00m digit \u001b[39min\u001b[39;00m \u001b[39m1234\u001b[39m:\n\u001b[1;32m      2\u001b[0m     \u001b[39mprint\u001b[39m(digit)\n",
      "\u001b[0;31mTypeError\u001b[0m: 'int' object is not iterable"
     ]
    }
   ],
   "source": [
    "for digit in 1234:\n",
    "    print(digit)"
   ]
  },
  {
   "cell_type": "code",
   "execution_count": 2,
   "metadata": {},
   "outputs": [
    {
     "name": "stdout",
     "output_type": "stream",
     "text": [
      "1\n",
      "2\n",
      "3\n",
      "4\n"
     ]
    }
   ],
   "source": [
    "for digit in \"1234\":\n",
    "    print(digit)"
   ]
  },
  {
   "cell_type": "code",
   "execution_count": 3,
   "metadata": {},
   "outputs": [
    {
     "name": "stdout",
     "output_type": "stream",
     "text": [
      "1234\n"
     ]
    }
   ],
   "source": [
    "for digit in [1234]:\n",
    "    print(digit)"
   ]
  },
  {
   "cell_type": "code",
   "execution_count": 4,
   "metadata": {},
   "outputs": [
    {
     "name": "stdout",
     "output_type": "stream",
     "text": [
      "p\n",
      "y\n",
      "t\n",
      "h\n",
      "o\n",
      "n\n",
      " \n",
      "p\n",
      "r\n",
      "o\n",
      "g\n",
      "r\n",
      "a\n",
      "m\n",
      "m\n",
      "i\n",
      "n\n",
      "g\n"
     ]
    }
   ],
   "source": [
    "# string   -- iterable\n",
    "for ch in \"python programming\":\n",
    "    print(ch)"
   ]
  },
  {
   "cell_type": "code",
   "execution_count": 5,
   "metadata": {},
   "outputs": [
    {
     "name": "stdout",
     "output_type": "stream",
     "text": [
      "Collections - Lists  - iterable\n",
      "\t udhay\n",
      "\t prakash\n",
      "\t someone\n",
      "Collections - tuples  - iterable\n",
      "\t udhay\n",
      "\t prakash\n",
      "\t someone\n",
      "Collections - sets  - iterable\n",
      "\t someone\n",
      "\t udhay\n",
      "\t prakash\n"
     ]
    }
   ],
   "source": [
    "print(\"Collections - Lists  - iterable\")\n",
    "names = [\"udhay\", \"prakash\", \"someone\"]\n",
    "for each_name in names:\n",
    "    print(\"\\t\", each_name)\n",
    "\n",
    "print(\"Collections - tuples  - iterable\")\n",
    "names = (\"udhay\", \"prakash\", \"someone\")\n",
    "for each_name in names:\n",
    "    print(\"\\t\", each_name)\n",
    "\n",
    "print(\"Collections - sets  - iterable\")\n",
    "names = {\"udhay\", \"prakash\", \"someone\"}\n",
    "for each_name in names:\n",
    "    print(\"\\t\", each_name)\n",
    "# NOTE: iterating over sets may not give the elements in defined sequence.\n"
   ]
  },
  {
   "cell_type": "code",
   "execution_count": 7,
   "metadata": {},
   "outputs": [
    {
     "name": "stdout",
     "output_type": "stream",
     "text": [
      "\n",
      "Collections - dictionaries  - iterable\n",
      "\tfirst\n",
      "\tsecond\n",
      "\tthird\n"
     ]
    }
   ],
   "source": [
    "# NOTE: By default, when iterating over dict, it gives its keys only\n",
    "\n",
    "print(\"\\nCollections - dictionaries  - iterable\")\n",
    "names = {\"first\": \"udhay\", \"second\": \"prakash\", \"third\": \"someone\"}\n",
    "for each_name in names:\n",
    "    print(\"\\t\" + each_name)\n"
   ]
  },
  {
   "cell_type": "code",
   "execution_count": 8,
   "metadata": {},
   "outputs": [
    {
     "name": "stdout",
     "output_type": "stream",
     "text": [
      "\n",
      "keys\n",
      "\tfirst\n",
      "\tsecond\n",
      "\tthird\n",
      "\n",
      "values\n",
      "\tudhay\n",
      "\tprakash\n",
      "\tsomeone\n",
      "\n",
      "items\n",
      "\t ('first', 'udhay')\n",
      "\t ('second', 'prakash')\n",
      "\t ('third', 'someone')\n",
      "\n",
      "\t first ====> udhay\n",
      "\t second ====> prakash\n",
      "\t third ====> someone\n"
     ]
    }
   ],
   "source": [
    "# NOTE: By default, when iterating over dict, it gives its keys only\n",
    "\n",
    "print(\"\\nkeys\")\n",
    "for each_name in names.keys():\n",
    "    print(\"\\t\" + each_name)\n",
    "\n",
    "print(\"\\nvalues\")\n",
    "for each_name in names.values():\n",
    "    print(\"\\t\" + each_name)\n",
    "\n",
    "print(\"\\nitems\")\n",
    "for each_name in names.items():\n",
    "    print(\"\\t\", each_name)\n",
    "print()\n",
    "\n",
    "for each_key, each_val in names.items():\n",
    "    print(\"\\t\", each_key, \"====>\", each_val)\n"
   ]
  },
  {
   "cell_type": "code",
   "execution_count": 9,
   "metadata": {},
   "outputs": [
    {
     "name": "stdout",
     "output_type": "stream",
     "text": [
      "P\n",
      "y\n",
      "t\n",
      "h\n",
      "o\n",
      "n\n"
     ]
    }
   ],
   "source": [
    "for ch in \"Python\":\n",
    "    print(ch)"
   ]
  },
  {
   "cell_type": "code",
   "execution_count": 10,
   "metadata": {},
   "outputs": [
    {
     "name": "stdout",
     "output_type": "stream",
     "text": [
      "0 P\n",
      "1 y\n",
      "2 t\n",
      "3 h\n",
      "4 o\n",
      "5 n\n"
     ]
    }
   ],
   "source": [
    "for loop_index, ch in enumerate(\"Python\"):\n",
    "    print(loop_index, ch)"
   ]
  },
  {
   "cell_type": "code",
   "execution_count": 11,
   "metadata": {},
   "outputs": [
    {
     "ename": "ValueError",
     "evalue": "not enough values to unpack (expected 3, got 2)",
     "output_type": "error",
     "traceback": [
      "\u001b[0;31m---------------------------------------------------------------------------\u001b[0m",
      "\u001b[0;31mValueError\u001b[0m                                Traceback (most recent call last)",
      "Cell \u001b[0;32mIn[11], line 1\u001b[0m\n\u001b[0;32m----> 1\u001b[0m \u001b[39mfor\u001b[39;00m loop_index, each_key, each_val \u001b[39min\u001b[39;00m \u001b[39menumerate\u001b[39m( names\u001b[39m.\u001b[39mitems()):\n\u001b[1;32m      2\u001b[0m     \u001b[39mprint\u001b[39m(\u001b[39m\"\u001b[39m\u001b[39m\\t\u001b[39;00m\u001b[39m\"\u001b[39m, each_key, \u001b[39m\"\u001b[39m\u001b[39m====>\u001b[39m\u001b[39m\"\u001b[39m, each_val)\n",
      "\u001b[0;31mValueError\u001b[0m: not enough values to unpack (expected 3, got 2)"
     ]
    }
   ],
   "source": [
    "for loop_index, each_key, each_val in enumerate( names.items()):\n",
    "    print(\"\\t\", each_key, \"====>\", each_val)"
   ]
  },
  {
   "cell_type": "code",
   "execution_count": 12,
   "metadata": {},
   "outputs": [
    {
     "name": "stdout",
     "output_type": "stream",
     "text": [
      "\t first ====> udhay\n",
      "\t second ====> prakash\n",
      "\t third ====> someone\n"
     ]
    }
   ],
   "source": [
    "for loop_index, (each_key, each_val) in enumerate( names.items()):\n",
    "    print(\"\\t\", each_key, \"====>\", each_val)"
   ]
  },
  {
   "cell_type": "markdown",
   "metadata": {},
   "source": [
    "# Looping with unpacking"
   ]
  },
  {
   "cell_type": "code",
   "execution_count": 14,
   "metadata": {},
   "outputs": [
    {
     "name": "stdout",
     "output_type": "stream",
     "text": [
      "(1, 2, 3, 4)\n",
      "(5, 6, 7, 8)\n",
      "(9, 10, 11, 12)\n"
     ]
    }
   ],
   "source": [
    "mylist = [(1, 2, 3, 4), (5, 6, 7, 8), (9, 10, 11, 12)]\n",
    "\n",
    "for eachTuple in mylist:\n",
    "    print(eachTuple)"
   ]
  },
  {
   "cell_type": "code",
   "execution_count": 15,
   "metadata": {},
   "outputs": [
    {
     "name": "stdout",
     "output_type": "stream",
     "text": [
      "first =1 second =2 third =3 fourth =4\n",
      "first =5 second =6 third =7 fourth =8\n",
      "first =9 second =10 third =11 fourth =12\n"
     ]
    }
   ],
   "source": [
    "for first, second, third, fourth in mylist:\n",
    "    print(f\"{first =} {second =} {third =} {fourth =}\")"
   ]
  },
  {
   "cell_type": "code",
   "execution_count": 16,
   "metadata": {},
   "outputs": [
    {
     "name": "stdout",
     "output_type": "stream",
     "text": [
      "first =1 second =2 remaining =[3, 4]\n",
      "first =5 second =6 remaining =[7, 8]\n",
      "first =9 second =10 remaining =[11, 12]\n"
     ]
    }
   ],
   "source": [
    "for first, second, *remaining in mylist:\n",
    "    print(f\"{first =} {second =} {remaining =}\")"
   ]
  },
  {
   "cell_type": "code",
   "execution_count": 17,
   "metadata": {},
   "outputs": [
    {
     "name": "stdout",
     "output_type": "stream",
     "text": [
      "['P', 'y', 't', 'h', 'o', 'n', ' ', 'P', 'r', 'o', 'g']\n",
      "('P', 'y', 't', 'h', 'o', 'n', ' ', 'P', 'r', 'o', 'g')\n",
      "{'y', 'n', 'h', 't', 'r', 'g', 'P', ' ', 'o'}\n"
     ]
    }
   ],
   "source": [
    "print(list(\"Python Prog\"))\n",
    "print(tuple(\"Python Prog\"))\n",
    "print(set(\"Python Prog\"))"
   ]
  },
  {
   "cell_type": "code",
   "execution_count": 18,
   "metadata": {},
   "outputs": [
    {
     "ename": "ValueError",
     "evalue": "dictionary update sequence element #0 has length 1; 2 is required",
     "output_type": "error",
     "traceback": [
      "\u001b[0;31m---------------------------------------------------------------------------\u001b[0m",
      "\u001b[0;31mValueError\u001b[0m                                Traceback (most recent call last)",
      "Cell \u001b[0;32mIn[18], line 1\u001b[0m\n\u001b[0;32m----> 1\u001b[0m \u001b[39mdict\u001b[39;49m(\u001b[39m\"\u001b[39;49m\u001b[39mpython Prog\u001b[39;49m\u001b[39m\"\u001b[39;49m)\n",
      "\u001b[0;31mValueError\u001b[0m: dictionary update sequence element #0 has length 1; 2 is required"
     ]
    }
   ],
   "source": [
    "dict(\"python Prog\")"
   ]
  },
  {
   "cell_type": "code",
   "execution_count": 19,
   "metadata": {},
   "outputs": [
    {
     "data": {
      "text/plain": [
       "<zip at 0x7fa6b1669040>"
      ]
     },
     "execution_count": 19,
     "metadata": {},
     "output_type": "execute_result"
    }
   ],
   "source": [
    "zip(\"Python Prog\", range(9))"
   ]
  },
  {
   "cell_type": "code",
   "execution_count": 20,
   "metadata": {},
   "outputs": [
    {
     "data": {
      "text/plain": [
       "[('P', 0),\n",
       " ('y', 1),\n",
       " ('t', 2),\n",
       " ('h', 3),\n",
       " ('o', 4),\n",
       " ('n', 5),\n",
       " (' ', 6),\n",
       " ('P', 7),\n",
       " ('r', 8)]"
      ]
     },
     "execution_count": 20,
     "metadata": {},
     "output_type": "execute_result"
    }
   ],
   "source": [
    "list(zip(\"Python Prog\", range(9)))"
   ]
  },
  {
   "cell_type": "code",
   "execution_count": 21,
   "metadata": {},
   "outputs": [
    {
     "data": {
      "text/plain": [
       "{'P': 7, 'y': 1, 't': 2, 'h': 3, 'o': 4, 'n': 5, ' ': 6, 'r': 8}"
      ]
     },
     "execution_count": 21,
     "metadata": {},
     "output_type": "execute_result"
    }
   ],
   "source": [
    "dict(zip(\"Python Prog\", range(9)))"
   ]
  },
  {
   "cell_type": "code",
   "execution_count": null,
   "metadata": {},
   "outputs": [],
   "source": []
  }
 ],
 "metadata": {
  "kernelspec": {
   "display_name": "Python 3",
   "language": "python",
   "name": "python3"
  },
  "language_info": {
   "codemirror_mode": {
    "name": "ipython",
    "version": 3
   },
   "file_extension": ".py",
   "mimetype": "text/x-python",
   "name": "python",
   "nbconvert_exporter": "python",
   "pygments_lexer": "ipython3",
   "version": "3.10.4"
  },
  "orig_nbformat": 4
 },
 "nbformat": 4,
 "nbformat_minor": 2
}
