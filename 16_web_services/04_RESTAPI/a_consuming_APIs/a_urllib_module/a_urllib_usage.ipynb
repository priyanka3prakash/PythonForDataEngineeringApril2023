{
 "cells": [
  {
   "cell_type": "code",
   "execution_count": 1,
   "metadata": {},
   "outputs": [],
   "source": [
    "import urllib"
   ]
  },
  {
   "cell_type": "code",
   "execution_count": 2,
   "metadata": {},
   "outputs": [
    {
     "name": "stdout",
     "output_type": "stream",
     "text": [
      "['__builtins__', '__cached__', '__doc__', '__file__', '__loader__', '__name__', '__package__', '__path__', '__spec__', 'error', 'parse', 'request', 'response']\n"
     ]
    }
   ],
   "source": [
    "print(dir(urllib))"
   ]
  },
  {
   "cell_type": "markdown",
   "metadata": {},
   "source": [
    "### Parsing"
   ]
  },
  {
   "cell_type": "code",
   "execution_count": 4,
   "metadata": {},
   "outputs": [
    {
     "name": "stdout",
     "output_type": "stream",
     "text": [
      "['DefragResult', 'DefragResultBytes', 'ParseResult', 'ParseResultBytes', 'ResultBase', 'SplitResult', 'SplitResultBytes', '_ALWAYS_SAFE', '_ALWAYS_SAFE_BYTES', '_DefragResultBase', '_NetlocResultMixinBase', '_NetlocResultMixinBytes', '_NetlocResultMixinStr', '_ParseResultBase', '_Quoter', '_ResultMixinBytes', '_ResultMixinStr', '_SplitResultBase', '_UNSAFE_URL_BYTES_TO_REMOVE', '__all__', '__builtins__', '__cached__', '__doc__', '__file__', '__getattr__', '__loader__', '__name__', '__package__', '__spec__', '_asciire', '_byte_quoter_factory', '_checknetloc', '_coerce_args', '_decode_args', '_encode_result', '_hexdig', '_hextobyte', '_hostprog', '_implicit_encoding', '_implicit_errors', '_noop', '_portprog', '_splitattr', '_splithost', '_splitnetloc', '_splitnport', '_splitparams', '_splitpasswd', '_splitport', '_splitquery', '_splittag', '_splittype', '_splituser', '_splitvalue', '_to_bytes', '_typeprog', 'clear_cache', 'functools', 'namedtuple', 'non_hierarchical', 'parse_qs', 'parse_qsl', 'quote', 'quote_from_bytes', 'quote_plus', 're', 'scheme_chars', 'splitattr', 'splithost', 'splitnport', 'splitpasswd', 'splitport', 'splitquery', 'splittag', 'splittype', 'splituser', 'splitvalue', 'sys', 'to_bytes', 'types', 'unquote', 'unquote_plus', 'unquote_to_bytes', 'unwrap', 'urldefrag', 'urlencode', 'urljoin', 'urlparse', 'urlsplit', 'urlunparse', 'urlunsplit', 'uses_fragment', 'uses_netloc', 'uses_params', 'uses_query', 'uses_relative', 'warnings']\n"
     ]
    }
   ],
   "source": [
    "print(dir(urllib.parse))"
   ]
  },
  {
   "cell_type": "code",
   "execution_count": 5,
   "metadata": {},
   "outputs": [],
   "source": [
    "from urllib.parse import urlparse"
   ]
  },
  {
   "cell_type": "code",
   "execution_count": 6,
   "metadata": {},
   "outputs": [
    {
     "data": {
      "text/plain": [
       "ParseResult(scheme='http', netloc='www.cwi.nl:80', path='/%7Eguido/Python.html', params='', query='', fragment='')"
      ]
     },
     "execution_count": 6,
     "metadata": {},
     "output_type": "execute_result"
    }
   ],
   "source": [
    "res = urlparse(\"http://www.cwi.nl:80/%7Eguido/Python.html\")\n",
    "res"
   ]
  },
  {
   "cell_type": "code",
   "execution_count": 7,
   "metadata": {},
   "outputs": [
    {
     "name": "stdout",
     "output_type": "stream",
     "text": [
      "\n",
      "      res.scheme   ='http'\n",
      "      res.port     =80\n",
      "      res.geturl() ='http://www.cwi.nl:80/%7Eguido/Python.html'\n",
      "      res.params   =''\n",
      "       \n"
     ]
    }
   ],
   "source": [
    "print(\n",
    "    f\"\"\"\n",
    "      {res.scheme   =}\n",
    "      {res.port     =}\n",
    "      {res.geturl() =}\n",
    "      {res.params   =}\n",
    "       \"\"\"\n",
    ")"
   ]
  },
  {
   "cell_type": "code",
   "execution_count": 8,
   "metadata": {},
   "outputs": [
    {
     "data": {
      "text/plain": [
       "ParseResult(scheme='', netloc='www.cwi.nl:80', path='/%7Eguido/Python.html', params='', query='', fragment='')"
      ]
     },
     "execution_count": 8,
     "metadata": {},
     "output_type": "execute_result"
    }
   ],
   "source": [
    "urlparse(\"//www.cwi.nl:80/%7Eguido/Python.html\")"
   ]
  },
  {
   "cell_type": "code",
   "execution_count": 9,
   "metadata": {},
   "outputs": [
    {
     "data": {
      "text/plain": [
       "ParseResult(scheme='', netloc='', path='www.cwi.nl/%7Eguido/Python.html', params='', query='', fragment='')"
      ]
     },
     "execution_count": 9,
     "metadata": {},
     "output_type": "execute_result"
    }
   ],
   "source": [
    "urlparse(\"www.cwi.nl/%7Eguido/Python.html\")"
   ]
  },
  {
   "cell_type": "code",
   "execution_count": 10,
   "metadata": {},
   "outputs": [],
   "source": [
    "from urllib.parse import urljoin"
   ]
  },
  {
   "cell_type": "code",
   "execution_count": 11,
   "metadata": {},
   "outputs": [
    {
     "data": {
      "text/plain": [
       "'http://www.cwi.nl/%7Eguido/FAQ.html'"
      ]
     },
     "execution_count": 11,
     "metadata": {},
     "output_type": "execute_result"
    }
   ],
   "source": [
    "urljoin(\"http://www.cwi.nl/%7Eguido/Python.html\", \"FAQ.html\")"
   ]
  },
  {
   "cell_type": "code",
   "execution_count": 12,
   "metadata": {},
   "outputs": [
    {
     "data": {
      "text/plain": [
       "'http://www.python.org/%7Eguido'"
      ]
     },
     "execution_count": 12,
     "metadata": {},
     "output_type": "execute_result"
    }
   ],
   "source": [
    "urljoin(\"http://www.cwi.nl/%7Eguido/Python.html\", \"//www.python.org/%7Eguido\")"
   ]
  },
  {
   "cell_type": "code",
   "execution_count": 13,
   "metadata": {},
   "outputs": [],
   "source": [
    "from urllib.parse import urlsplit"
   ]
  },
  {
   "cell_type": "code",
   "execution_count": 19,
   "metadata": {},
   "outputs": [
    {
     "data": {
      "text/plain": [
       "SplitResult(scheme='http', netloc='www.Python.org', path='/doc/', query='', fragment='?page=10&document=1')"
      ]
     },
     "execution_count": 19,
     "metadata": {},
     "output_type": "execute_result"
    }
   ],
   "source": [
    "url = \"HTTP://www.Python.org/doc/#?page=10&document=1\"\n",
    "\n",
    "r1 = urlsplit(url)\n",
    "\n",
    "r1"
   ]
  },
  {
   "cell_type": "code",
   "execution_count": 20,
   "metadata": {},
   "outputs": [
    {
     "data": {
      "text/plain": [
       "SplitResult(scheme='http', netloc='www.Python.org', path='/doc/', query='page=10&document=1', fragment='')"
      ]
     },
     "execution_count": 20,
     "metadata": {},
     "output_type": "execute_result"
    }
   ],
   "source": [
    "url = \"HTTP://www.Python.org/doc/?page=10&document=1\"\n",
    "\n",
    "r1 = urlsplit(url)\n",
    "\n",
    "r1"
   ]
  },
  {
   "cell_type": "code",
   "execution_count": 21,
   "metadata": {},
   "outputs": [
    {
     "data": {
      "text/plain": [
       "'http://www.Python.org/doc/?page=10&document=1'"
      ]
     },
     "execution_count": 21,
     "metadata": {},
     "output_type": "execute_result"
    }
   ],
   "source": [
    "r1.geturl()"
   ]
  },
  {
   "cell_type": "code",
   "execution_count": 22,
   "metadata": {},
   "outputs": [
    {
     "data": {
      "text/plain": [
       "'http://www.Python.org/doc/?page=10&document=1'"
      ]
     },
     "execution_count": 22,
     "metadata": {},
     "output_type": "execute_result"
    }
   ],
   "source": [
    "r2 = urlsplit(r1.geturl())\n",
    "\n",
    "r2.geturl()"
   ]
  },
  {
   "cell_type": "markdown",
   "metadata": {},
   "source": [
    "###  parsing Query parameters string\n"
   ]
  },
  {
   "cell_type": "code",
   "execution_count": 23,
   "metadata": {},
   "outputs": [],
   "source": [
    "from urllib.parse import parse_qs"
   ]
  },
  {
   "cell_type": "code",
   "execution_count": 24,
   "metadata": {},
   "outputs": [
    {
     "name": "stdout",
     "output_type": "stream",
     "text": [
      "{'red': ['5'], 'blue': ['0'], 'green': ['']}\n"
     ]
    }
   ],
   "source": [
    "my_values = parse_qs(\"red=5&blue=0&green=\", keep_blank_values=True)\n",
    "print(repr(my_values))"
   ]
  },
  {
   "cell_type": "code",
   "execution_count": 25,
   "metadata": {},
   "outputs": [
    {
     "name": "stdout",
     "output_type": "stream",
     "text": [
      "Red    :  ['5']\n",
      "Green  :  ['']\n",
      "Opacity:  None\n"
     ]
    }
   ],
   "source": [
    "print(\"Red    : \", my_values.get(\"red\"))\n",
    "print(\"Green  : \", my_values.get(\"green\"))\n",
    "print(\"Opacity: \", my_values.get(\"opacity\"))"
   ]
  },
  {
   "cell_type": "code",
   "execution_count": 26,
   "metadata": {},
   "outputs": [
    {
     "name": "stdout",
     "output_type": "stream",
     "text": [
      "Red    : '5'\n",
      "Green  : 0\n",
      "Opacity: 0\n"
     ]
    }
   ],
   "source": [
    "# For query string 'red=5&blue=0&green='\n",
    "red = my_values.get(\"red\", [\"\"])[0] or 0\n",
    "green = my_values.get(\"green\", [\"\"])[0] or 0\n",
    "opacity = my_values.get(\"opacity\", [\"\"])[0] or 0\n",
    "\n",
    "print(\"Red    : %r\" % red)\n",
    "print(\"Green  : %r\" % green)\n",
    "print(\"Opacity: %r\" % opacity)"
   ]
  },
  {
   "cell_type": "markdown",
   "metadata": {},
   "source": [
    "### Encoding"
   ]
  },
  {
   "cell_type": "code",
   "execution_count": 27,
   "metadata": {},
   "outputs": [
    {
     "name": "stdout",
     "output_type": "stream",
     "text": [
      "spam=1&eggs=2&bacon=0\n"
     ]
    }
   ],
   "source": [
    "params = urllib.parse.urlencode({\"spam\": 1, \"eggs\": 2, \"bacon\": 0})\n",
    "print(params)"
   ]
  },
  {
   "cell_type": "markdown",
   "metadata": {},
   "source": [
    "### Parsing the robots.txt file"
   ]
  },
  {
   "cell_type": "code",
   "execution_count": 28,
   "metadata": {},
   "outputs": [],
   "source": [
    "import urllib.robotparser\n",
    "\n",
    "rp = urllib.robotparser.RobotFileParser()"
   ]
  },
  {
   "cell_type": "code",
   "execution_count": 31,
   "metadata": {},
   "outputs": [],
   "source": [
    "# rp.set_url(\"http://www.linkedin.com/robots.txt\")\n",
    "\n",
    "rp.set_url(\"http://www.musi-cal.com/robots.txt\")\n",
    "rp.read()"
   ]
  },
  {
   "cell_type": "code",
   "execution_count": 32,
   "metadata": {},
   "outputs": [
    {
     "ename": "AttributeError",
     "evalue": "'NoneType' object has no attribute 'requests'",
     "output_type": "error",
     "traceback": [
      "\u001b[1;31m---------------------------------------------------------------------------\u001b[0m",
      "\u001b[1;31mAttributeError\u001b[0m                            Traceback (most recent call last)",
      "\u001b[1;32mc:\\Users\\Amma\\Downloads\\PythonForDataEngineeringApril2023\\16_web_services\\04_RESTAPI\\a_consuming_APIs\\a_urllib_module\\a_urllib_usage.ipynb Cell 28\u001b[0m in \u001b[0;36m2\n\u001b[0;32m      <a href='vscode-notebook-cell:/c%3A/Users/Amma/Downloads/PythonForDataEngineeringApril2023/16_web_services/04_RESTAPI/a_consuming_APIs/a_urllib_module/a_urllib_usage.ipynb#X45sZmlsZQ%3D%3D?line=0'>1</a>\u001b[0m rrate \u001b[39m=\u001b[39m rp\u001b[39m.\u001b[39mrequest_rate(\u001b[39m\"\u001b[39m\u001b[39m*\u001b[39m\u001b[39m\"\u001b[39m)\n\u001b[1;32m----> <a href='vscode-notebook-cell:/c%3A/Users/Amma/Downloads/PythonForDataEngineeringApril2023/16_web_services/04_RESTAPI/a_consuming_APIs/a_urllib_module/a_urllib_usage.ipynb#X45sZmlsZQ%3D%3D?line=1'>2</a>\u001b[0m rrate\u001b[39m.\u001b[39;49mrequests  \u001b[39m# 3\u001b[39;00m\n\u001b[0;32m      <a href='vscode-notebook-cell:/c%3A/Users/Amma/Downloads/PythonForDataEngineeringApril2023/16_web_services/04_RESTAPI/a_consuming_APIs/a_urllib_module/a_urllib_usage.ipynb#X45sZmlsZQ%3D%3D?line=2'>3</a>\u001b[0m rrate\u001b[39m.\u001b[39mseconds  \u001b[39m# 20\u001b[39;00m\n\u001b[0;32m      <a href='vscode-notebook-cell:/c%3A/Users/Amma/Downloads/PythonForDataEngineeringApril2023/16_web_services/04_RESTAPI/a_consuming_APIs/a_urllib_module/a_urllib_usage.ipynb#X45sZmlsZQ%3D%3D?line=3'>4</a>\u001b[0m rp\u001b[39m.\u001b[39mcrawl_delay(\u001b[39m\"\u001b[39m\u001b[39m*\u001b[39m\u001b[39m\"\u001b[39m)  \u001b[39m# 6\u001b[39;00m\n",
      "\u001b[1;31mAttributeError\u001b[0m: 'NoneType' object has no attribute 'requests'"
     ]
    }
   ],
   "source": [
    "rrate = rp.request_rate(\"*\")\n",
    "rrate.requests  # 3\n",
    "rrate.seconds  # 20\n",
    "rp.crawl_delay(\"*\")  # 6"
   ]
  },
  {
   "cell_type": "code",
   "execution_count": null,
   "metadata": {},
   "outputs": [],
   "source": [
    "rp.can_fetch(\"*\", \"http://www.musi-cal.com/cgi-bin/search?city=San+Francisco\")  # False\n",
    "rp.can_fetch(\"*\", \"http://www.musi-cal.com/\")  # True\n",
    "\n",
    "\n",
    "# https://www.google.com/robots.txt\n",
    "# https://www.w3.org/robots.txt\n",
    "# https://www.data.gov/robots.txt\n",
    "# https://www.crops.org/robots.txt\n",
    "# https://www.yale.edu/robots.txt\n",
    "# https://www.linkedin.com/robots.txt\n",
    "# https://www.jobsdb.com/robots.txt\n",
    "# https://www.facebook.com/robots.txt\n",
    "# https://www.instagram.com/robots.txt\n",
    "# https://www.glassdoor.com/robots.txt"
   ]
  },
  {
   "cell_type": "code",
   "execution_count": null,
   "metadata": {},
   "outputs": [],
   "source": []
  }
 ],
 "metadata": {
  "kernelspec": {
   "display_name": "Python 3",
   "language": "python",
   "name": "python3"
  },
  "language_info": {
   "codemirror_mode": {
    "name": "ipython",
    "version": 3
   },
   "file_extension": ".py",
   "mimetype": "text/x-python",
   "name": "python",
   "nbconvert_exporter": "python",
   "pygments_lexer": "ipython3",
   "version": "3.11.3"
  },
  "orig_nbformat": 4
 },
 "nbformat": 4,
 "nbformat_minor": 2
}
